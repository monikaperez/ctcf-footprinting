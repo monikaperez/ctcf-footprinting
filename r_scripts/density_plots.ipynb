{
 "cells": [
  {
   "attachments": {},
   "cell_type": "markdown",
   "metadata": {},
   "source": [
    "# Agg. m6a methylation CTCF profiles"
   ]
  },
  {
   "attachments": {},
   "cell_type": "markdown",
   "metadata": {},
   "source": [
    "total rows per file\n",
    "* 901,751,569: CTCF_m6a_fiberseq_M.txt\n",
    "* 559,099,577: CTCF_m6a_fiberseq_L.txt\n",
    "* 474,087,392: CTCF_m6a_fiberseq_XL.txt\n",
    "\n",
    "<br>within 100 bp of CTCF start site\n",
    "* 20,099,590: CTCF_m6a_fiberseq_M_100bp.txt\n",
    "* 12,766,252: CTCF_m6a_fiberseq_L_100bp.txt\n",
    "* 10,990,813: CTCF_m6a_fiberseq_XL_100bp.txt"
   ]
  },
  {
   "cell_type": "code",
   "execution_count": 1,
   "metadata": {
    "vscode": {
     "languageId": "r"
    }
   },
   "outputs": [
    {
     "name": "stderr",
     "output_type": "stream",
     "text": [
      "\n",
      "Attaching package: 'dplyr'\n",
      "\n",
      "\n",
      "The following objects are masked from 'package:data.table':\n",
      "\n",
      "    between, first, last\n",
      "\n",
      "\n",
      "The following objects are masked from 'package:stats':\n",
      "\n",
      "    filter, lag\n",
      "\n",
      "\n",
      "The following objects are masked from 'package:base':\n",
      "\n",
      "    intersect, setdiff, setequal, union\n",
      "\n",
      "\n",
      "\n",
      "Attaching package: 'tictoc'\n",
      "\n",
      "\n",
      "The following object is masked from 'package:data.table':\n",
      "\n",
      "    shift\n",
      "\n",
      "\n"
     ]
    }
   ],
   "source": [
    "library(ggplot2)\n",
    "library(data.table)\n",
    "library(dplyr)\n",
    "library(tictoc)\n",
    "library(ggsci)"
   ]
  },
  {
   "cell_type": "code",
   "execution_count": 2,
   "metadata": {
    "vscode": {
     "languageId": "r"
    }
   },
   "outputs": [],
   "source": [
    "while (!is.null(dev.list()))  dev.off()\n",
    "rm(list=ls())\n",
    "\n",
    "#------------ Helper Functions ------------\n",
    "# Initiate PDF\n",
    "openPDF <- function (output_file_fh, pdf_dims) {\n",
    "  print(sprintf(\"Saving plots to: %s\", output_file_fh))\n",
    "  # Open PDF\n",
    "  pdf(output_file_fh, width = pdf_dims[1], height = pdf_dims[2],\n",
    "      useDingbats=FALSE, family = \"ArialMT\")\n",
    "}\n",
    "\n",
    "# Close PDF\n",
    "closePDF <- function () {\n",
    "  while (!is.null(dev.list()))  dev.off()\n",
    "  print(\"File saved.\")\n",
    "}"
   ]
  },
  {
   "cell_type": "code",
   "execution_count": 4,
   "metadata": {
    "vscode": {
     "languageId": "r"
    }
   },
   "outputs": [],
   "source": [
    "#------------ Step 1. Load data ------------\n",
    "setwd(\"/mmfs1/gscratch/stergachislab/mwperez/ctcf-footprinting\")\n",
    "\n",
    "#ARGS\n",
    "output_folder <- sprintf(\"%s/figures\", getwd())\n",
    "data_folder <- sprintf(\"%s/candidate_footprints\", getwd())"
   ]
  },
  {
   "cell_type": "code",
   "execution_count": 5,
   "metadata": {
    "vscode": {
     "languageId": "r"
    }
   },
   "outputs": [],
   "source": [
    "# CTCF motif types\n",
    "motif_types <- c(\"M\", \"L\", \"XL\")"
   ]
  },
  {
   "cell_type": "code",
   "execution_count": 21,
   "metadata": {
    "vscode": {
     "languageId": "r"
    }
   },
   "outputs": [
    {
     "data": {
      "text/html": [
       "<style>\n",
       ".list-inline {list-style: none; margin:0; padding: 0}\n",
       ".list-inline>li {display: inline-block}\n",
       ".list-inline>li:not(:last-child)::after {content: \"\\00b7\"; padding: 0 .5ex}\n",
       "</style>\n",
       "<ol class=list-inline><li>20000</li><li>12</li></ol>\n"
      ],
      "text/latex": [
       "\\begin{enumerate*}\n",
       "\\item 20000\n",
       "\\item 12\n",
       "\\end{enumerate*}\n"
      ],
      "text/markdown": [
       "1. 20000\n",
       "2. 12\n",
       "\n",
       "\n"
      ],
      "text/plain": [
       "[1] 20000    12"
      ]
     },
     "metadata": {},
     "output_type": "display_data"
    },
    {
     "name": "stdout",
     "output_type": "stream",
     "text": [
      "[1] \"m6a\" \"5mC\" \"msp\" \"nuc\"\n",
      "0.079 sec elapsed\n"
     ]
    }
   ],
   "source": [
    "tic()\n",
    "# set args\n",
    "motif_type <- \"M\"\n",
    "ctcf_dist <- c(-100,100)\n",
    "n_rows <- 20000\n",
    "\n",
    "# load set data file\n",
    "data_file_name <- sprintf(\"CTCF_m6a_fiberseq_%s_100bp.txt\", motif_type)\n",
    "data_file <- sprintf(\"%s/%s\", data_folder, data_file_name)\n",
    "\n",
    "# read table\n",
    "df_all <- fread(data_file, nrows=n_rows)\n",
    "dim(df_all)\n",
    "\n",
    "print(unique(df_all$centered_position_type))\n",
    "\n",
    "# subset table to first n rows\n",
    "#df <- df_all\n",
    "#sprintf(\"initial rows: %s\", dim(df)[1])\n",
    "# filter centered_position_type for m6a\n",
    "#df <- filter(df, centered_position_type == \"m6a\")\n",
    "#sprintf(\"m6a rows: %s\", dim(df)[1])\n",
    "\n",
    "toc()"
   ]
  },
  {
   "cell_type": "code",
   "execution_count": null,
   "metadata": {
    "vscode": {
     "languageId": "r"
    }
   },
   "outputs": [],
   "source": [
    "df_all[df_all$query_name == df_all$query_name[1]]"
   ]
  },
  {
   "cell_type": "code",
   "execution_count": 29,
   "metadata": {
    "vscode": {
     "languageId": "r"
    }
   },
   "outputs": [
    {
     "data": {
      "text/html": [
       "<style>\n",
       ".list-inline {list-style: none; margin:0; padding: 0}\n",
       ".list-inline>li {display: inline-block}\n",
       ".list-inline>li:not(:last-child)::after {content: \"\\00b7\"; padding: 0 .5ex}\n",
       "</style>\n",
       "<ol class=list-inline><li>'chrom'</li><li>'centering_position'</li><li>'strand'</li><li>'reference_start'</li><li>'reference_end'</li><li>'query_name'</li><li>'centered_query_start'</li><li>'centered_query_end'</li><li>'query_length'</li><li>'centered_position_type'</li><li>'centered_start'</li><li>'centered_end'</li></ol>\n"
      ],
      "text/latex": [
       "\\begin{enumerate*}\n",
       "\\item 'chrom'\n",
       "\\item 'centering\\_position'\n",
       "\\item 'strand'\n",
       "\\item 'reference\\_start'\n",
       "\\item 'reference\\_end'\n",
       "\\item 'query\\_name'\n",
       "\\item 'centered\\_query\\_start'\n",
       "\\item 'centered\\_query\\_end'\n",
       "\\item 'query\\_length'\n",
       "\\item 'centered\\_position\\_type'\n",
       "\\item 'centered\\_start'\n",
       "\\item 'centered\\_end'\n",
       "\\end{enumerate*}\n"
      ],
      "text/markdown": [
       "1. 'chrom'\n",
       "2. 'centering_position'\n",
       "3. 'strand'\n",
       "4. 'reference_start'\n",
       "5. 'reference_end'\n",
       "6. 'query_name'\n",
       "7. 'centered_query_start'\n",
       "8. 'centered_query_end'\n",
       "9. 'query_length'\n",
       "10. 'centered_position_type'\n",
       "11. 'centered_start'\n",
       "12. 'centered_end'\n",
       "\n",
       "\n"
      ],
      "text/plain": [
       " [1] \"chrom\"                  \"centering_position\"     \"strand\"                \n",
       " [4] \"reference_start\"        \"reference_end\"          \"query_name\"            \n",
       " [7] \"centered_query_start\"   \"centered_query_end\"     \"query_length\"          \n",
       "[10] \"centered_position_type\" \"centered_start\"         \"centered_end\"          "
      ]
     },
     "metadata": {},
     "output_type": "display_data"
    }
   ],
   "source": [
    "colnames(df_all)"
   ]
  },
  {
   "cell_type": "code",
   "execution_count": null,
   "metadata": {
    "vscode": {
     "languageId": "r"
    }
   },
   "outputs": [],
   "source": []
  },
  {
   "cell_type": "code",
   "execution_count": null,
   "metadata": {
    "vscode": {
     "languageId": "r"
    }
   },
   "outputs": [],
   "source": []
  },
  {
   "cell_type": "code",
   "execution_count": null,
   "metadata": {
    "vscode": {
     "languageId": "r"
    }
   },
   "outputs": [],
   "source": []
  },
  {
   "cell_type": "code",
   "execution_count": null,
   "metadata": {
    "vscode": {
     "languageId": "r"
    }
   },
   "outputs": [],
   "source": []
  },
  {
   "cell_type": "code",
   "execution_count": 25,
   "metadata": {
    "vscode": {
     "languageId": "r"
    }
   },
   "outputs": [
    {
     "data": {
      "text/html": [
       "<table class=\"dataframe\">\n",
       "<caption>A data.table: 113 × 12</caption>\n",
       "<thead>\n",
       "\t<tr><th scope=col>chrom</th><th scope=col>centering_position</th><th scope=col>strand</th><th scope=col>reference_start</th><th scope=col>reference_end</th><th scope=col>query_name</th><th scope=col>centered_query_start</th><th scope=col>centered_query_end</th><th scope=col>query_length</th><th scope=col>centered_position_type</th><th scope=col>centered_start</th><th scope=col>centered_end</th></tr>\n",
       "\t<tr><th scope=col>&lt;chr&gt;</th><th scope=col>&lt;int&gt;</th><th scope=col>&lt;chr&gt;</th><th scope=col>&lt;int&gt;</th><th scope=col>&lt;int&gt;</th><th scope=col>&lt;chr&gt;</th><th scope=col>&lt;int&gt;</th><th scope=col>&lt;int&gt;</th><th scope=col>&lt;int&gt;</th><th scope=col>&lt;chr&gt;</th><th scope=col>&lt;int&gt;</th><th scope=col>&lt;int&gt;</th></tr>\n",
       "</thead>\n",
       "<tbody>\n",
       "\t<tr><td>chr1</td><td>778834</td><td>-</td><td>755085</td><td>783504</td><td>m54329U_210323_190418/57542526/ccs</td><td>-23863</td><td>4695</td><td>28558</td><td>m6a</td><td>-91</td><td>-90</td></tr>\n",
       "\t<tr><td>chr1</td><td>778834</td><td>-</td><td>755085</td><td>783504</td><td>m54329U_210323_190418/57542526/ccs</td><td>-23863</td><td>4695</td><td>28558</td><td>m6a</td><td>-81</td><td>-80</td></tr>\n",
       "\t<tr><td>chr1</td><td>778834</td><td>-</td><td>755085</td><td>783504</td><td>m54329U_210323_190418/57542526/ccs</td><td>-23863</td><td>4695</td><td>28558</td><td>m6a</td><td>-76</td><td>-75</td></tr>\n",
       "\t<tr><td>chr1</td><td>778834</td><td>-</td><td>755085</td><td>783504</td><td>m54329U_210323_190418/57542526/ccs</td><td>-23863</td><td>4695</td><td>28558</td><td>m6a</td><td>-73</td><td>-72</td></tr>\n",
       "\t<tr><td>chr1</td><td>778834</td><td>-</td><td>755085</td><td>783504</td><td>m54329U_210323_190418/57542526/ccs</td><td>-23863</td><td>4695</td><td>28558</td><td>m6a</td><td>-64</td><td>-63</td></tr>\n",
       "\t<tr><td>chr1</td><td>778834</td><td>-</td><td>755085</td><td>783504</td><td>m54329U_210323_190418/57542526/ccs</td><td>-23863</td><td>4695</td><td>28558</td><td>m6a</td><td>-61</td><td>-60</td></tr>\n",
       "\t<tr><td>chr1</td><td>778834</td><td>-</td><td>755085</td><td>783504</td><td>m54329U_210323_190418/57542526/ccs</td><td>-23863</td><td>4695</td><td>28558</td><td>m6a</td><td>-54</td><td>-53</td></tr>\n",
       "\t<tr><td>chr1</td><td>778834</td><td>-</td><td>755085</td><td>783504</td><td>m54329U_210323_190418/57542526/ccs</td><td>-23863</td><td>4695</td><td>28558</td><td>m6a</td><td>-52</td><td>-51</td></tr>\n",
       "\t<tr><td>chr1</td><td>778834</td><td>-</td><td>755085</td><td>783504</td><td>m54329U_210323_190418/57542526/ccs</td><td>-23863</td><td>4695</td><td>28558</td><td>m6a</td><td>-35</td><td>-34</td></tr>\n",
       "\t<tr><td>chr1</td><td>778834</td><td>-</td><td>755085</td><td>783504</td><td>m54329U_210323_190418/57542526/ccs</td><td>-23863</td><td>4695</td><td>28558</td><td>m6a</td><td>-33</td><td>-32</td></tr>\n",
       "\t<tr><td>chr1</td><td>778834</td><td>-</td><td>755085</td><td>783504</td><td>m54329U_210323_190418/57542526/ccs</td><td>-23863</td><td>4695</td><td>28558</td><td>m6a</td><td>-32</td><td>-31</td></tr>\n",
       "\t<tr><td>chr1</td><td>778834</td><td>-</td><td>755085</td><td>783504</td><td>m54329U_210323_190418/57542526/ccs</td><td>-23863</td><td>4695</td><td>28558</td><td>m6a</td><td>-27</td><td>-26</td></tr>\n",
       "\t<tr><td>chr1</td><td>778834</td><td>-</td><td>755085</td><td>783504</td><td>m54329U_210323_190418/57542526/ccs</td><td>-23863</td><td>4695</td><td>28558</td><td>m6a</td><td>-23</td><td>-22</td></tr>\n",
       "\t<tr><td>chr1</td><td>778834</td><td>-</td><td>755085</td><td>783504</td><td>m54329U_210323_190418/57542526/ccs</td><td>-23863</td><td>4695</td><td>28558</td><td>m6a</td><td>-21</td><td>-20</td></tr>\n",
       "\t<tr><td>chr1</td><td>778834</td><td>-</td><td>755085</td><td>783504</td><td>m54329U_210323_190418/57542526/ccs</td><td>-23863</td><td>4695</td><td>28558</td><td>m6a</td><td>-19</td><td>-18</td></tr>\n",
       "\t<tr><td>chr1</td><td>778834</td><td>-</td><td>755085</td><td>783504</td><td>m54329U_210323_190418/57542526/ccs</td><td>-23863</td><td>4695</td><td>28558</td><td>m6a</td><td>-17</td><td>-16</td></tr>\n",
       "\t<tr><td>chr1</td><td>778834</td><td>-</td><td>755085</td><td>783504</td><td>m54329U_210323_190418/57542526/ccs</td><td>-23863</td><td>4695</td><td>28558</td><td>m6a</td><td>-16</td><td>-15</td></tr>\n",
       "\t<tr><td>chr1</td><td>778834</td><td>-</td><td>755085</td><td>783504</td><td>m54329U_210323_190418/57542526/ccs</td><td>-23863</td><td>4695</td><td>28558</td><td>m6a</td><td>-14</td><td>-13</td></tr>\n",
       "\t<tr><td>chr1</td><td>778834</td><td>-</td><td>755085</td><td>783504</td><td>m54329U_210323_190418/57542526/ccs</td><td>-23863</td><td>4695</td><td>28558</td><td>m6a</td><td>-10</td><td> -9</td></tr>\n",
       "\t<tr><td>chr1</td><td>778834</td><td>-</td><td>755085</td><td>783504</td><td>m54329U_210323_190418/57542526/ccs</td><td>-23863</td><td>4695</td><td>28558</td><td>m6a</td><td> -5</td><td> -4</td></tr>\n",
       "\t<tr><td>chr1</td><td>778834</td><td>-</td><td>755085</td><td>783504</td><td>m54329U_210323_190418/57542526/ccs</td><td>-23863</td><td>4695</td><td>28558</td><td>m6a</td><td> -2</td><td> -1</td></tr>\n",
       "\t<tr><td>chr1</td><td>778834</td><td>-</td><td>755085</td><td>783504</td><td>m54329U_210323_190418/57542526/ccs</td><td>-23863</td><td>4695</td><td>28558</td><td>m6a</td><td>  6</td><td>  7</td></tr>\n",
       "\t<tr><td>chr1</td><td>778834</td><td>-</td><td>755085</td><td>783504</td><td>m54329U_210323_190418/57542526/ccs</td><td>-23863</td><td>4695</td><td>28558</td><td>m6a</td><td>  8</td><td>  9</td></tr>\n",
       "\t<tr><td>chr1</td><td>778834</td><td>-</td><td>755085</td><td>783504</td><td>m54329U_210323_190418/57542526/ccs</td><td>-23863</td><td>4695</td><td>28558</td><td>m6a</td><td>  9</td><td> 10</td></tr>\n",
       "\t<tr><td>chr1</td><td>778834</td><td>-</td><td>755085</td><td>783504</td><td>m54329U_210323_190418/57542526/ccs</td><td>-23863</td><td>4695</td><td>28558</td><td>m6a</td><td> 21</td><td> 22</td></tr>\n",
       "\t<tr><td>chr1</td><td>778834</td><td>-</td><td>755085</td><td>783504</td><td>m54329U_210323_190418/57542526/ccs</td><td>-23863</td><td>4695</td><td>28558</td><td>m6a</td><td> 24</td><td> 25</td></tr>\n",
       "\t<tr><td>chr1</td><td>778834</td><td>-</td><td>755085</td><td>783504</td><td>m54329U_210323_190418/57542526/ccs</td><td>-23863</td><td>4695</td><td>28558</td><td>m6a</td><td> 27</td><td> 28</td></tr>\n",
       "\t<tr><td>chr1</td><td>778834</td><td>-</td><td>755085</td><td>783504</td><td>m54329U_210323_190418/57542526/ccs</td><td>-23863</td><td>4695</td><td>28558</td><td>m6a</td><td> 31</td><td> 32</td></tr>\n",
       "\t<tr><td>chr1</td><td>778834</td><td>-</td><td>755085</td><td>783504</td><td>m54329U_210323_190418/57542526/ccs</td><td>-23863</td><td>4695</td><td>28558</td><td>m6a</td><td> 35</td><td> 36</td></tr>\n",
       "\t<tr><td>chr1</td><td>778834</td><td>-</td><td>755085</td><td>783504</td><td>m54329U_210323_190418/57542526/ccs</td><td>-23863</td><td>4695</td><td>28558</td><td>m6a</td><td> 40</td><td> 41</td></tr>\n",
       "\t<tr><td>⋮</td><td>⋮</td><td>⋮</td><td>⋮</td><td>⋮</td><td>⋮</td><td>⋮</td><td>⋮</td><td>⋮</td><td>⋮</td><td>⋮</td><td>⋮</td></tr>\n",
       "\t<tr><td>chr1</td><td>778874</td><td>+</td><td>755085</td><td>783504</td><td>m54329U_210323_190418/57542526/ccs</td><td>-23903</td><td>4655</td><td>28558</td><td>m6a</td><td>  12</td><td> 13</td></tr>\n",
       "\t<tr><td>chr1</td><td>778874</td><td>+</td><td>755085</td><td>783504</td><td>m54329U_210323_190418/57542526/ccs</td><td>-23903</td><td>4655</td><td>28558</td><td>m6a</td><td>  14</td><td> 15</td></tr>\n",
       "\t<tr><td>chr1</td><td>778874</td><td>+</td><td>755085</td><td>783504</td><td>m54329U_210323_190418/57542526/ccs</td><td>-23903</td><td>4655</td><td>28558</td><td>m6a</td><td>  21</td><td> 22</td></tr>\n",
       "\t<tr><td>chr1</td><td>778874</td><td>+</td><td>755085</td><td>783504</td><td>m54329U_210323_190418/57542526/ccs</td><td>-23903</td><td>4655</td><td>28558</td><td>m6a</td><td>  24</td><td> 25</td></tr>\n",
       "\t<tr><td>chr1</td><td>778874</td><td>+</td><td>755085</td><td>783504</td><td>m54329U_210323_190418/57542526/ccs</td><td>-23903</td><td>4655</td><td>28558</td><td>m6a</td><td>  33</td><td> 34</td></tr>\n",
       "\t<tr><td>chr1</td><td>778874</td><td>+</td><td>755085</td><td>783504</td><td>m54329U_210323_190418/57542526/ccs</td><td>-23903</td><td>4655</td><td>28558</td><td>m6a</td><td>  36</td><td> 37</td></tr>\n",
       "\t<tr><td>chr1</td><td>778874</td><td>+</td><td>755085</td><td>783504</td><td>m54329U_210323_190418/57542526/ccs</td><td>-23903</td><td>4655</td><td>28558</td><td>m6a</td><td>  41</td><td> 42</td></tr>\n",
       "\t<tr><td>chr1</td><td>778874</td><td>+</td><td>755085</td><td>783504</td><td>m54329U_210323_190418/57542526/ccs</td><td>-23903</td><td>4655</td><td>28558</td><td>m6a</td><td>  51</td><td> 52</td></tr>\n",
       "\t<tr><td>chr1</td><td>778874</td><td>+</td><td>755085</td><td>783504</td><td>m54329U_210323_190418/57542526/ccs</td><td>-23903</td><td>4655</td><td>28558</td><td>m6a</td><td>  65</td><td> 66</td></tr>\n",
       "\t<tr><td>chr1</td><td>778874</td><td>+</td><td>755085</td><td>783504</td><td>m54329U_210323_190418/57542526/ccs</td><td>-23903</td><td>4655</td><td>28558</td><td>m6a</td><td>  68</td><td> 69</td></tr>\n",
       "\t<tr><td>chr1</td><td>778874</td><td>+</td><td>755085</td><td>783504</td><td>m54329U_210323_190418/57542526/ccs</td><td>-23903</td><td>4655</td><td>28558</td><td>m6a</td><td>  69</td><td> 70</td></tr>\n",
       "\t<tr><td>chr1</td><td>778874</td><td>+</td><td>755085</td><td>783504</td><td>m54329U_210323_190418/57542526/ccs</td><td>-23903</td><td>4655</td><td>28558</td><td>m6a</td><td>  75</td><td> 76</td></tr>\n",
       "\t<tr><td>chr1</td><td>778874</td><td>+</td><td>755085</td><td>783504</td><td>m54329U_210323_190418/57542526/ccs</td><td>-23903</td><td>4655</td><td>28558</td><td>m6a</td><td>  77</td><td> 78</td></tr>\n",
       "\t<tr><td>chr1</td><td>778874</td><td>+</td><td>755085</td><td>783504</td><td>m54329U_210323_190418/57542526/ccs</td><td>-23903</td><td>4655</td><td>28558</td><td>m6a</td><td>  79</td><td> 80</td></tr>\n",
       "\t<tr><td>chr1</td><td>778874</td><td>+</td><td>755085</td><td>783504</td><td>m54329U_210323_190418/57542526/ccs</td><td>-23903</td><td>4655</td><td>28558</td><td>m6a</td><td>  81</td><td> 82</td></tr>\n",
       "\t<tr><td>chr1</td><td>778874</td><td>+</td><td>755085</td><td>783504</td><td>m54329U_210323_190418/57542526/ccs</td><td>-23903</td><td>4655</td><td>28558</td><td>m6a</td><td>  87</td><td> 88</td></tr>\n",
       "\t<tr><td>chr1</td><td>778874</td><td>+</td><td>755085</td><td>783504</td><td>m54329U_210323_190418/57542526/ccs</td><td>-23903</td><td>4655</td><td>28558</td><td>m6a</td><td>  90</td><td> 91</td></tr>\n",
       "\t<tr><td>chr1</td><td>778874</td><td>+</td><td>755085</td><td>783504</td><td>m54329U_210323_190418/57542526/ccs</td><td>-23903</td><td>4655</td><td>28558</td><td>msp</td><td>-287</td><td>213</td></tr>\n",
       "\t<tr><td>chr1</td><td>779143</td><td>-</td><td>755085</td><td>783504</td><td>m54329U_210323_190418/57542526/ccs</td><td>-24176</td><td>4382</td><td>28558</td><td>m6a</td><td> -70</td><td>-69</td></tr>\n",
       "\t<tr><td>chr1</td><td>779143</td><td>-</td><td>755085</td><td>783504</td><td>m54329U_210323_190418/57542526/ccs</td><td>-24176</td><td>4382</td><td>28558</td><td>m6a</td><td>  61</td><td> 62</td></tr>\n",
       "\t<tr><td>chr1</td><td>779143</td><td>-</td><td>755085</td><td>783504</td><td>m54329U_210323_190418/57542526/ccs</td><td>-24176</td><td>4382</td><td>28558</td><td>m6a</td><td>  64</td><td> 65</td></tr>\n",
       "\t<tr><td>chr1</td><td>779143</td><td>-</td><td>755085</td><td>783504</td><td>m54329U_210323_190418/57542526/ccs</td><td>-24176</td><td>4382</td><td>28558</td><td>m6a</td><td>  69</td><td> 70</td></tr>\n",
       "\t<tr><td>chr1</td><td>779143</td><td>-</td><td>755085</td><td>783504</td><td>m54329U_210323_190418/57542526/ccs</td><td>-24176</td><td>4382</td><td>28558</td><td>m6a</td><td>  71</td><td> 72</td></tr>\n",
       "\t<tr><td>chr1</td><td>779143</td><td>-</td><td>755085</td><td>783504</td><td>m54329U_210323_190418/57542526/ccs</td><td>-24176</td><td>4382</td><td>28558</td><td>m6a</td><td>  88</td><td> 89</td></tr>\n",
       "\t<tr><td>chr1</td><td>779143</td><td>-</td><td>755085</td><td>783504</td><td>m54329U_210323_190418/57542526/ccs</td><td>-24176</td><td>4382</td><td>28558</td><td>m6a</td><td>  91</td><td> 92</td></tr>\n",
       "\t<tr><td>chr1</td><td>779143</td><td>-</td><td>755085</td><td>783504</td><td>m54329U_210323_190418/57542526/ccs</td><td>-24176</td><td>4382</td><td>28558</td><td>m6a</td><td>  96</td><td> 97</td></tr>\n",
       "\t<tr><td>chr1</td><td>779143</td><td>-</td><td>755085</td><td>783504</td><td>m54329U_210323_190418/57542526/ccs</td><td>-24176</td><td>4382</td><td>28558</td><td>msp</td><td> -71</td><td>-70</td></tr>\n",
       "\t<tr><td>chr1</td><td>779143</td><td>-</td><td>755085</td><td>783504</td><td>m54329U_210323_190418/57542526/ccs</td><td>-24176</td><td>4382</td><td>28558</td><td>msp</td><td>  60</td><td>560</td></tr>\n",
       "\t<tr><td>chr1</td><td>779215</td><td>-</td><td>755085</td><td>783504</td><td>m54329U_210323_190418/57542526/ccs</td><td>-24248</td><td>4310</td><td>28558</td><td>m6a</td><td>   2</td><td>  3</td></tr>\n",
       "\t<tr><td>chr1</td><td>779215</td><td>-</td><td>755085</td><td>783504</td><td>m54329U_210323_190418/57542526/ccs</td><td>-24248</td><td>4310</td><td>28558</td><td>msp</td><td>   1</td><td>  2</td></tr>\n",
       "</tbody>\n",
       "</table>\n"
      ],
      "text/latex": [
       "A data.table: 113 × 12\n",
       "\\begin{tabular}{llllllllllll}\n",
       " chrom & centering\\_position & strand & reference\\_start & reference\\_end & query\\_name & centered\\_query\\_start & centered\\_query\\_end & query\\_length & centered\\_position\\_type & centered\\_start & centered\\_end\\\\\n",
       " <chr> & <int> & <chr> & <int> & <int> & <chr> & <int> & <int> & <int> & <chr> & <int> & <int>\\\\\n",
       "\\hline\n",
       "\t chr1 & 778834 & - & 755085 & 783504 & m54329U\\_210323\\_190418/57542526/ccs & -23863 & 4695 & 28558 & m6a & -91 & -90\\\\\n",
       "\t chr1 & 778834 & - & 755085 & 783504 & m54329U\\_210323\\_190418/57542526/ccs & -23863 & 4695 & 28558 & m6a & -81 & -80\\\\\n",
       "\t chr1 & 778834 & - & 755085 & 783504 & m54329U\\_210323\\_190418/57542526/ccs & -23863 & 4695 & 28558 & m6a & -76 & -75\\\\\n",
       "\t chr1 & 778834 & - & 755085 & 783504 & m54329U\\_210323\\_190418/57542526/ccs & -23863 & 4695 & 28558 & m6a & -73 & -72\\\\\n",
       "\t chr1 & 778834 & - & 755085 & 783504 & m54329U\\_210323\\_190418/57542526/ccs & -23863 & 4695 & 28558 & m6a & -64 & -63\\\\\n",
       "\t chr1 & 778834 & - & 755085 & 783504 & m54329U\\_210323\\_190418/57542526/ccs & -23863 & 4695 & 28558 & m6a & -61 & -60\\\\\n",
       "\t chr1 & 778834 & - & 755085 & 783504 & m54329U\\_210323\\_190418/57542526/ccs & -23863 & 4695 & 28558 & m6a & -54 & -53\\\\\n",
       "\t chr1 & 778834 & - & 755085 & 783504 & m54329U\\_210323\\_190418/57542526/ccs & -23863 & 4695 & 28558 & m6a & -52 & -51\\\\\n",
       "\t chr1 & 778834 & - & 755085 & 783504 & m54329U\\_210323\\_190418/57542526/ccs & -23863 & 4695 & 28558 & m6a & -35 & -34\\\\\n",
       "\t chr1 & 778834 & - & 755085 & 783504 & m54329U\\_210323\\_190418/57542526/ccs & -23863 & 4695 & 28558 & m6a & -33 & -32\\\\\n",
       "\t chr1 & 778834 & - & 755085 & 783504 & m54329U\\_210323\\_190418/57542526/ccs & -23863 & 4695 & 28558 & m6a & -32 & -31\\\\\n",
       "\t chr1 & 778834 & - & 755085 & 783504 & m54329U\\_210323\\_190418/57542526/ccs & -23863 & 4695 & 28558 & m6a & -27 & -26\\\\\n",
       "\t chr1 & 778834 & - & 755085 & 783504 & m54329U\\_210323\\_190418/57542526/ccs & -23863 & 4695 & 28558 & m6a & -23 & -22\\\\\n",
       "\t chr1 & 778834 & - & 755085 & 783504 & m54329U\\_210323\\_190418/57542526/ccs & -23863 & 4695 & 28558 & m6a & -21 & -20\\\\\n",
       "\t chr1 & 778834 & - & 755085 & 783504 & m54329U\\_210323\\_190418/57542526/ccs & -23863 & 4695 & 28558 & m6a & -19 & -18\\\\\n",
       "\t chr1 & 778834 & - & 755085 & 783504 & m54329U\\_210323\\_190418/57542526/ccs & -23863 & 4695 & 28558 & m6a & -17 & -16\\\\\n",
       "\t chr1 & 778834 & - & 755085 & 783504 & m54329U\\_210323\\_190418/57542526/ccs & -23863 & 4695 & 28558 & m6a & -16 & -15\\\\\n",
       "\t chr1 & 778834 & - & 755085 & 783504 & m54329U\\_210323\\_190418/57542526/ccs & -23863 & 4695 & 28558 & m6a & -14 & -13\\\\\n",
       "\t chr1 & 778834 & - & 755085 & 783504 & m54329U\\_210323\\_190418/57542526/ccs & -23863 & 4695 & 28558 & m6a & -10 &  -9\\\\\n",
       "\t chr1 & 778834 & - & 755085 & 783504 & m54329U\\_210323\\_190418/57542526/ccs & -23863 & 4695 & 28558 & m6a &  -5 &  -4\\\\\n",
       "\t chr1 & 778834 & - & 755085 & 783504 & m54329U\\_210323\\_190418/57542526/ccs & -23863 & 4695 & 28558 & m6a &  -2 &  -1\\\\\n",
       "\t chr1 & 778834 & - & 755085 & 783504 & m54329U\\_210323\\_190418/57542526/ccs & -23863 & 4695 & 28558 & m6a &   6 &   7\\\\\n",
       "\t chr1 & 778834 & - & 755085 & 783504 & m54329U\\_210323\\_190418/57542526/ccs & -23863 & 4695 & 28558 & m6a &   8 &   9\\\\\n",
       "\t chr1 & 778834 & - & 755085 & 783504 & m54329U\\_210323\\_190418/57542526/ccs & -23863 & 4695 & 28558 & m6a &   9 &  10\\\\\n",
       "\t chr1 & 778834 & - & 755085 & 783504 & m54329U\\_210323\\_190418/57542526/ccs & -23863 & 4695 & 28558 & m6a &  21 &  22\\\\\n",
       "\t chr1 & 778834 & - & 755085 & 783504 & m54329U\\_210323\\_190418/57542526/ccs & -23863 & 4695 & 28558 & m6a &  24 &  25\\\\\n",
       "\t chr1 & 778834 & - & 755085 & 783504 & m54329U\\_210323\\_190418/57542526/ccs & -23863 & 4695 & 28558 & m6a &  27 &  28\\\\\n",
       "\t chr1 & 778834 & - & 755085 & 783504 & m54329U\\_210323\\_190418/57542526/ccs & -23863 & 4695 & 28558 & m6a &  31 &  32\\\\\n",
       "\t chr1 & 778834 & - & 755085 & 783504 & m54329U\\_210323\\_190418/57542526/ccs & -23863 & 4695 & 28558 & m6a &  35 &  36\\\\\n",
       "\t chr1 & 778834 & - & 755085 & 783504 & m54329U\\_210323\\_190418/57542526/ccs & -23863 & 4695 & 28558 & m6a &  40 &  41\\\\\n",
       "\t ⋮ & ⋮ & ⋮ & ⋮ & ⋮ & ⋮ & ⋮ & ⋮ & ⋮ & ⋮ & ⋮ & ⋮\\\\\n",
       "\t chr1 & 778874 & + & 755085 & 783504 & m54329U\\_210323\\_190418/57542526/ccs & -23903 & 4655 & 28558 & m6a &   12 &  13\\\\\n",
       "\t chr1 & 778874 & + & 755085 & 783504 & m54329U\\_210323\\_190418/57542526/ccs & -23903 & 4655 & 28558 & m6a &   14 &  15\\\\\n",
       "\t chr1 & 778874 & + & 755085 & 783504 & m54329U\\_210323\\_190418/57542526/ccs & -23903 & 4655 & 28558 & m6a &   21 &  22\\\\\n",
       "\t chr1 & 778874 & + & 755085 & 783504 & m54329U\\_210323\\_190418/57542526/ccs & -23903 & 4655 & 28558 & m6a &   24 &  25\\\\\n",
       "\t chr1 & 778874 & + & 755085 & 783504 & m54329U\\_210323\\_190418/57542526/ccs & -23903 & 4655 & 28558 & m6a &   33 &  34\\\\\n",
       "\t chr1 & 778874 & + & 755085 & 783504 & m54329U\\_210323\\_190418/57542526/ccs & -23903 & 4655 & 28558 & m6a &   36 &  37\\\\\n",
       "\t chr1 & 778874 & + & 755085 & 783504 & m54329U\\_210323\\_190418/57542526/ccs & -23903 & 4655 & 28558 & m6a &   41 &  42\\\\\n",
       "\t chr1 & 778874 & + & 755085 & 783504 & m54329U\\_210323\\_190418/57542526/ccs & -23903 & 4655 & 28558 & m6a &   51 &  52\\\\\n",
       "\t chr1 & 778874 & + & 755085 & 783504 & m54329U\\_210323\\_190418/57542526/ccs & -23903 & 4655 & 28558 & m6a &   65 &  66\\\\\n",
       "\t chr1 & 778874 & + & 755085 & 783504 & m54329U\\_210323\\_190418/57542526/ccs & -23903 & 4655 & 28558 & m6a &   68 &  69\\\\\n",
       "\t chr1 & 778874 & + & 755085 & 783504 & m54329U\\_210323\\_190418/57542526/ccs & -23903 & 4655 & 28558 & m6a &   69 &  70\\\\\n",
       "\t chr1 & 778874 & + & 755085 & 783504 & m54329U\\_210323\\_190418/57542526/ccs & -23903 & 4655 & 28558 & m6a &   75 &  76\\\\\n",
       "\t chr1 & 778874 & + & 755085 & 783504 & m54329U\\_210323\\_190418/57542526/ccs & -23903 & 4655 & 28558 & m6a &   77 &  78\\\\\n",
       "\t chr1 & 778874 & + & 755085 & 783504 & m54329U\\_210323\\_190418/57542526/ccs & -23903 & 4655 & 28558 & m6a &   79 &  80\\\\\n",
       "\t chr1 & 778874 & + & 755085 & 783504 & m54329U\\_210323\\_190418/57542526/ccs & -23903 & 4655 & 28558 & m6a &   81 &  82\\\\\n",
       "\t chr1 & 778874 & + & 755085 & 783504 & m54329U\\_210323\\_190418/57542526/ccs & -23903 & 4655 & 28558 & m6a &   87 &  88\\\\\n",
       "\t chr1 & 778874 & + & 755085 & 783504 & m54329U\\_210323\\_190418/57542526/ccs & -23903 & 4655 & 28558 & m6a &   90 &  91\\\\\n",
       "\t chr1 & 778874 & + & 755085 & 783504 & m54329U\\_210323\\_190418/57542526/ccs & -23903 & 4655 & 28558 & msp & -287 & 213\\\\\n",
       "\t chr1 & 779143 & - & 755085 & 783504 & m54329U\\_210323\\_190418/57542526/ccs & -24176 & 4382 & 28558 & m6a &  -70 & -69\\\\\n",
       "\t chr1 & 779143 & - & 755085 & 783504 & m54329U\\_210323\\_190418/57542526/ccs & -24176 & 4382 & 28558 & m6a &   61 &  62\\\\\n",
       "\t chr1 & 779143 & - & 755085 & 783504 & m54329U\\_210323\\_190418/57542526/ccs & -24176 & 4382 & 28558 & m6a &   64 &  65\\\\\n",
       "\t chr1 & 779143 & - & 755085 & 783504 & m54329U\\_210323\\_190418/57542526/ccs & -24176 & 4382 & 28558 & m6a &   69 &  70\\\\\n",
       "\t chr1 & 779143 & - & 755085 & 783504 & m54329U\\_210323\\_190418/57542526/ccs & -24176 & 4382 & 28558 & m6a &   71 &  72\\\\\n",
       "\t chr1 & 779143 & - & 755085 & 783504 & m54329U\\_210323\\_190418/57542526/ccs & -24176 & 4382 & 28558 & m6a &   88 &  89\\\\\n",
       "\t chr1 & 779143 & - & 755085 & 783504 & m54329U\\_210323\\_190418/57542526/ccs & -24176 & 4382 & 28558 & m6a &   91 &  92\\\\\n",
       "\t chr1 & 779143 & - & 755085 & 783504 & m54329U\\_210323\\_190418/57542526/ccs & -24176 & 4382 & 28558 & m6a &   96 &  97\\\\\n",
       "\t chr1 & 779143 & - & 755085 & 783504 & m54329U\\_210323\\_190418/57542526/ccs & -24176 & 4382 & 28558 & msp &  -71 & -70\\\\\n",
       "\t chr1 & 779143 & - & 755085 & 783504 & m54329U\\_210323\\_190418/57542526/ccs & -24176 & 4382 & 28558 & msp &   60 & 560\\\\\n",
       "\t chr1 & 779215 & - & 755085 & 783504 & m54329U\\_210323\\_190418/57542526/ccs & -24248 & 4310 & 28558 & m6a &    2 &   3\\\\\n",
       "\t chr1 & 779215 & - & 755085 & 783504 & m54329U\\_210323\\_190418/57542526/ccs & -24248 & 4310 & 28558 & msp &    1 &   2\\\\\n",
       "\\end{tabular}\n"
      ],
      "text/markdown": [
       "\n",
       "A data.table: 113 × 12\n",
       "\n",
       "| chrom &lt;chr&gt; | centering_position &lt;int&gt; | strand &lt;chr&gt; | reference_start &lt;int&gt; | reference_end &lt;int&gt; | query_name &lt;chr&gt; | centered_query_start &lt;int&gt; | centered_query_end &lt;int&gt; | query_length &lt;int&gt; | centered_position_type &lt;chr&gt; | centered_start &lt;int&gt; | centered_end &lt;int&gt; |\n",
       "|---|---|---|---|---|---|---|---|---|---|---|---|\n",
       "| chr1 | 778834 | - | 755085 | 783504 | m54329U_210323_190418/57542526/ccs | -23863 | 4695 | 28558 | m6a | -91 | -90 |\n",
       "| chr1 | 778834 | - | 755085 | 783504 | m54329U_210323_190418/57542526/ccs | -23863 | 4695 | 28558 | m6a | -81 | -80 |\n",
       "| chr1 | 778834 | - | 755085 | 783504 | m54329U_210323_190418/57542526/ccs | -23863 | 4695 | 28558 | m6a | -76 | -75 |\n",
       "| chr1 | 778834 | - | 755085 | 783504 | m54329U_210323_190418/57542526/ccs | -23863 | 4695 | 28558 | m6a | -73 | -72 |\n",
       "| chr1 | 778834 | - | 755085 | 783504 | m54329U_210323_190418/57542526/ccs | -23863 | 4695 | 28558 | m6a | -64 | -63 |\n",
       "| chr1 | 778834 | - | 755085 | 783504 | m54329U_210323_190418/57542526/ccs | -23863 | 4695 | 28558 | m6a | -61 | -60 |\n",
       "| chr1 | 778834 | - | 755085 | 783504 | m54329U_210323_190418/57542526/ccs | -23863 | 4695 | 28558 | m6a | -54 | -53 |\n",
       "| chr1 | 778834 | - | 755085 | 783504 | m54329U_210323_190418/57542526/ccs | -23863 | 4695 | 28558 | m6a | -52 | -51 |\n",
       "| chr1 | 778834 | - | 755085 | 783504 | m54329U_210323_190418/57542526/ccs | -23863 | 4695 | 28558 | m6a | -35 | -34 |\n",
       "| chr1 | 778834 | - | 755085 | 783504 | m54329U_210323_190418/57542526/ccs | -23863 | 4695 | 28558 | m6a | -33 | -32 |\n",
       "| chr1 | 778834 | - | 755085 | 783504 | m54329U_210323_190418/57542526/ccs | -23863 | 4695 | 28558 | m6a | -32 | -31 |\n",
       "| chr1 | 778834 | - | 755085 | 783504 | m54329U_210323_190418/57542526/ccs | -23863 | 4695 | 28558 | m6a | -27 | -26 |\n",
       "| chr1 | 778834 | - | 755085 | 783504 | m54329U_210323_190418/57542526/ccs | -23863 | 4695 | 28558 | m6a | -23 | -22 |\n",
       "| chr1 | 778834 | - | 755085 | 783504 | m54329U_210323_190418/57542526/ccs | -23863 | 4695 | 28558 | m6a | -21 | -20 |\n",
       "| chr1 | 778834 | - | 755085 | 783504 | m54329U_210323_190418/57542526/ccs | -23863 | 4695 | 28558 | m6a | -19 | -18 |\n",
       "| chr1 | 778834 | - | 755085 | 783504 | m54329U_210323_190418/57542526/ccs | -23863 | 4695 | 28558 | m6a | -17 | -16 |\n",
       "| chr1 | 778834 | - | 755085 | 783504 | m54329U_210323_190418/57542526/ccs | -23863 | 4695 | 28558 | m6a | -16 | -15 |\n",
       "| chr1 | 778834 | - | 755085 | 783504 | m54329U_210323_190418/57542526/ccs | -23863 | 4695 | 28558 | m6a | -14 | -13 |\n",
       "| chr1 | 778834 | - | 755085 | 783504 | m54329U_210323_190418/57542526/ccs | -23863 | 4695 | 28558 | m6a | -10 |  -9 |\n",
       "| chr1 | 778834 | - | 755085 | 783504 | m54329U_210323_190418/57542526/ccs | -23863 | 4695 | 28558 | m6a |  -5 |  -4 |\n",
       "| chr1 | 778834 | - | 755085 | 783504 | m54329U_210323_190418/57542526/ccs | -23863 | 4695 | 28558 | m6a |  -2 |  -1 |\n",
       "| chr1 | 778834 | - | 755085 | 783504 | m54329U_210323_190418/57542526/ccs | -23863 | 4695 | 28558 | m6a |   6 |   7 |\n",
       "| chr1 | 778834 | - | 755085 | 783504 | m54329U_210323_190418/57542526/ccs | -23863 | 4695 | 28558 | m6a |   8 |   9 |\n",
       "| chr1 | 778834 | - | 755085 | 783504 | m54329U_210323_190418/57542526/ccs | -23863 | 4695 | 28558 | m6a |   9 |  10 |\n",
       "| chr1 | 778834 | - | 755085 | 783504 | m54329U_210323_190418/57542526/ccs | -23863 | 4695 | 28558 | m6a |  21 |  22 |\n",
       "| chr1 | 778834 | - | 755085 | 783504 | m54329U_210323_190418/57542526/ccs | -23863 | 4695 | 28558 | m6a |  24 |  25 |\n",
       "| chr1 | 778834 | - | 755085 | 783504 | m54329U_210323_190418/57542526/ccs | -23863 | 4695 | 28558 | m6a |  27 |  28 |\n",
       "| chr1 | 778834 | - | 755085 | 783504 | m54329U_210323_190418/57542526/ccs | -23863 | 4695 | 28558 | m6a |  31 |  32 |\n",
       "| chr1 | 778834 | - | 755085 | 783504 | m54329U_210323_190418/57542526/ccs | -23863 | 4695 | 28558 | m6a |  35 |  36 |\n",
       "| chr1 | 778834 | - | 755085 | 783504 | m54329U_210323_190418/57542526/ccs | -23863 | 4695 | 28558 | m6a |  40 |  41 |\n",
       "| ⋮ | ⋮ | ⋮ | ⋮ | ⋮ | ⋮ | ⋮ | ⋮ | ⋮ | ⋮ | ⋮ | ⋮ |\n",
       "| chr1 | 778874 | + | 755085 | 783504 | m54329U_210323_190418/57542526/ccs | -23903 | 4655 | 28558 | m6a |   12 |  13 |\n",
       "| chr1 | 778874 | + | 755085 | 783504 | m54329U_210323_190418/57542526/ccs | -23903 | 4655 | 28558 | m6a |   14 |  15 |\n",
       "| chr1 | 778874 | + | 755085 | 783504 | m54329U_210323_190418/57542526/ccs | -23903 | 4655 | 28558 | m6a |   21 |  22 |\n",
       "| chr1 | 778874 | + | 755085 | 783504 | m54329U_210323_190418/57542526/ccs | -23903 | 4655 | 28558 | m6a |   24 |  25 |\n",
       "| chr1 | 778874 | + | 755085 | 783504 | m54329U_210323_190418/57542526/ccs | -23903 | 4655 | 28558 | m6a |   33 |  34 |\n",
       "| chr1 | 778874 | + | 755085 | 783504 | m54329U_210323_190418/57542526/ccs | -23903 | 4655 | 28558 | m6a |   36 |  37 |\n",
       "| chr1 | 778874 | + | 755085 | 783504 | m54329U_210323_190418/57542526/ccs | -23903 | 4655 | 28558 | m6a |   41 |  42 |\n",
       "| chr1 | 778874 | + | 755085 | 783504 | m54329U_210323_190418/57542526/ccs | -23903 | 4655 | 28558 | m6a |   51 |  52 |\n",
       "| chr1 | 778874 | + | 755085 | 783504 | m54329U_210323_190418/57542526/ccs | -23903 | 4655 | 28558 | m6a |   65 |  66 |\n",
       "| chr1 | 778874 | + | 755085 | 783504 | m54329U_210323_190418/57542526/ccs | -23903 | 4655 | 28558 | m6a |   68 |  69 |\n",
       "| chr1 | 778874 | + | 755085 | 783504 | m54329U_210323_190418/57542526/ccs | -23903 | 4655 | 28558 | m6a |   69 |  70 |\n",
       "| chr1 | 778874 | + | 755085 | 783504 | m54329U_210323_190418/57542526/ccs | -23903 | 4655 | 28558 | m6a |   75 |  76 |\n",
       "| chr1 | 778874 | + | 755085 | 783504 | m54329U_210323_190418/57542526/ccs | -23903 | 4655 | 28558 | m6a |   77 |  78 |\n",
       "| chr1 | 778874 | + | 755085 | 783504 | m54329U_210323_190418/57542526/ccs | -23903 | 4655 | 28558 | m6a |   79 |  80 |\n",
       "| chr1 | 778874 | + | 755085 | 783504 | m54329U_210323_190418/57542526/ccs | -23903 | 4655 | 28558 | m6a |   81 |  82 |\n",
       "| chr1 | 778874 | + | 755085 | 783504 | m54329U_210323_190418/57542526/ccs | -23903 | 4655 | 28558 | m6a |   87 |  88 |\n",
       "| chr1 | 778874 | + | 755085 | 783504 | m54329U_210323_190418/57542526/ccs | -23903 | 4655 | 28558 | m6a |   90 |  91 |\n",
       "| chr1 | 778874 | + | 755085 | 783504 | m54329U_210323_190418/57542526/ccs | -23903 | 4655 | 28558 | msp | -287 | 213 |\n",
       "| chr1 | 779143 | - | 755085 | 783504 | m54329U_210323_190418/57542526/ccs | -24176 | 4382 | 28558 | m6a |  -70 | -69 |\n",
       "| chr1 | 779143 | - | 755085 | 783504 | m54329U_210323_190418/57542526/ccs | -24176 | 4382 | 28558 | m6a |   61 |  62 |\n",
       "| chr1 | 779143 | - | 755085 | 783504 | m54329U_210323_190418/57542526/ccs | -24176 | 4382 | 28558 | m6a |   64 |  65 |\n",
       "| chr1 | 779143 | - | 755085 | 783504 | m54329U_210323_190418/57542526/ccs | -24176 | 4382 | 28558 | m6a |   69 |  70 |\n",
       "| chr1 | 779143 | - | 755085 | 783504 | m54329U_210323_190418/57542526/ccs | -24176 | 4382 | 28558 | m6a |   71 |  72 |\n",
       "| chr1 | 779143 | - | 755085 | 783504 | m54329U_210323_190418/57542526/ccs | -24176 | 4382 | 28558 | m6a |   88 |  89 |\n",
       "| chr1 | 779143 | - | 755085 | 783504 | m54329U_210323_190418/57542526/ccs | -24176 | 4382 | 28558 | m6a |   91 |  92 |\n",
       "| chr1 | 779143 | - | 755085 | 783504 | m54329U_210323_190418/57542526/ccs | -24176 | 4382 | 28558 | m6a |   96 |  97 |\n",
       "| chr1 | 779143 | - | 755085 | 783504 | m54329U_210323_190418/57542526/ccs | -24176 | 4382 | 28558 | msp |  -71 | -70 |\n",
       "| chr1 | 779143 | - | 755085 | 783504 | m54329U_210323_190418/57542526/ccs | -24176 | 4382 | 28558 | msp |   60 | 560 |\n",
       "| chr1 | 779215 | - | 755085 | 783504 | m54329U_210323_190418/57542526/ccs | -24248 | 4310 | 28558 | m6a |    2 |   3 |\n",
       "| chr1 | 779215 | - | 755085 | 783504 | m54329U_210323_190418/57542526/ccs | -24248 | 4310 | 28558 | msp |    1 |   2 |\n",
       "\n"
      ],
      "text/plain": [
       "       chrom  centering_position strand reference_start reference_end\n",
       "1      chr1   778834             -      755085          783504       \n",
       "2      chr1   778834             -      755085          783504       \n",
       "3      chr1   778834             -      755085          783504       \n",
       "4      chr1   778834             -      755085          783504       \n",
       "5      chr1   778834             -      755085          783504       \n",
       "6      chr1   778834             -      755085          783504       \n",
       "7      chr1   778834             -      755085          783504       \n",
       "8      chr1   778834             -      755085          783504       \n",
       "9      chr1   778834             -      755085          783504       \n",
       "10     chr1   778834             -      755085          783504       \n",
       "11     chr1   778834             -      755085          783504       \n",
       "12     chr1   778834             -      755085          783504       \n",
       "13     chr1   778834             -      755085          783504       \n",
       "14     chr1   778834             -      755085          783504       \n",
       "15     chr1   778834             -      755085          783504       \n",
       "16     chr1   778834             -      755085          783504       \n",
       "17     chr1   778834             -      755085          783504       \n",
       "18     chr1   778834             -      755085          783504       \n",
       "19     chr1   778834             -      755085          783504       \n",
       "20     chr1   778834             -      755085          783504       \n",
       "21     chr1   778834             -      755085          783504       \n",
       "22     chr1   778834             -      755085          783504       \n",
       "23     chr1   778834             -      755085          783504       \n",
       "24     chr1   778834             -      755085          783504       \n",
       "25     chr1   778834             -      755085          783504       \n",
       "26     chr1   778834             -      755085          783504       \n",
       "27     chr1   778834             -      755085          783504       \n",
       "28     chr1   778834             -      755085          783504       \n",
       "29     chr1   778834             -      755085          783504       \n",
       "30     chr1   778834             -      755085          783504       \n",
       "<U+22EE> <U+22EE> <U+22EE>           <U+22EE> <U+22EE>        <U+22EE>     \n",
       "84     chr1   778874             +      755085          783504       \n",
       "85     chr1   778874             +      755085          783504       \n",
       "86     chr1   778874             +      755085          783504       \n",
       "87     chr1   778874             +      755085          783504       \n",
       "88     chr1   778874             +      755085          783504       \n",
       "89     chr1   778874             +      755085          783504       \n",
       "90     chr1   778874             +      755085          783504       \n",
       "91     chr1   778874             +      755085          783504       \n",
       "92     chr1   778874             +      755085          783504       \n",
       "93     chr1   778874             +      755085          783504       \n",
       "94     chr1   778874             +      755085          783504       \n",
       "95     chr1   778874             +      755085          783504       \n",
       "96     chr1   778874             +      755085          783504       \n",
       "97     chr1   778874             +      755085          783504       \n",
       "98     chr1   778874             +      755085          783504       \n",
       "99     chr1   778874             +      755085          783504       \n",
       "100    chr1   778874             +      755085          783504       \n",
       "101    chr1   778874             +      755085          783504       \n",
       "102    chr1   779143             -      755085          783504       \n",
       "103    chr1   779143             -      755085          783504       \n",
       "104    chr1   779143             -      755085          783504       \n",
       "105    chr1   779143             -      755085          783504       \n",
       "106    chr1   779143             -      755085          783504       \n",
       "107    chr1   779143             -      755085          783504       \n",
       "108    chr1   779143             -      755085          783504       \n",
       "109    chr1   779143             -      755085          783504       \n",
       "110    chr1   779143             -      755085          783504       \n",
       "111    chr1   779143             -      755085          783504       \n",
       "112    chr1   779215             -      755085          783504       \n",
       "113    chr1   779215             -      755085          783504       \n",
       "       query_name                         centered_query_start\n",
       "1      m54329U_210323_190418/57542526/ccs -23863              \n",
       "2      m54329U_210323_190418/57542526/ccs -23863              \n",
       "3      m54329U_210323_190418/57542526/ccs -23863              \n",
       "4      m54329U_210323_190418/57542526/ccs -23863              \n",
       "5      m54329U_210323_190418/57542526/ccs -23863              \n",
       "6      m54329U_210323_190418/57542526/ccs -23863              \n",
       "7      m54329U_210323_190418/57542526/ccs -23863              \n",
       "8      m54329U_210323_190418/57542526/ccs -23863              \n",
       "9      m54329U_210323_190418/57542526/ccs -23863              \n",
       "10     m54329U_210323_190418/57542526/ccs -23863              \n",
       "11     m54329U_210323_190418/57542526/ccs -23863              \n",
       "12     m54329U_210323_190418/57542526/ccs -23863              \n",
       "13     m54329U_210323_190418/57542526/ccs -23863              \n",
       "14     m54329U_210323_190418/57542526/ccs -23863              \n",
       "15     m54329U_210323_190418/57542526/ccs -23863              \n",
       "16     m54329U_210323_190418/57542526/ccs -23863              \n",
       "17     m54329U_210323_190418/57542526/ccs -23863              \n",
       "18     m54329U_210323_190418/57542526/ccs -23863              \n",
       "19     m54329U_210323_190418/57542526/ccs -23863              \n",
       "20     m54329U_210323_190418/57542526/ccs -23863              \n",
       "21     m54329U_210323_190418/57542526/ccs -23863              \n",
       "22     m54329U_210323_190418/57542526/ccs -23863              \n",
       "23     m54329U_210323_190418/57542526/ccs -23863              \n",
       "24     m54329U_210323_190418/57542526/ccs -23863              \n",
       "25     m54329U_210323_190418/57542526/ccs -23863              \n",
       "26     m54329U_210323_190418/57542526/ccs -23863              \n",
       "27     m54329U_210323_190418/57542526/ccs -23863              \n",
       "28     m54329U_210323_190418/57542526/ccs -23863              \n",
       "29     m54329U_210323_190418/57542526/ccs -23863              \n",
       "30     m54329U_210323_190418/57542526/ccs -23863              \n",
       "<U+22EE> <U+22EE>                           <U+22EE>            \n",
       "84     m54329U_210323_190418/57542526/ccs -23903              \n",
       "85     m54329U_210323_190418/57542526/ccs -23903              \n",
       "86     m54329U_210323_190418/57542526/ccs -23903              \n",
       "87     m54329U_210323_190418/57542526/ccs -23903              \n",
       "88     m54329U_210323_190418/57542526/ccs -23903              \n",
       "89     m54329U_210323_190418/57542526/ccs -23903              \n",
       "90     m54329U_210323_190418/57542526/ccs -23903              \n",
       "91     m54329U_210323_190418/57542526/ccs -23903              \n",
       "92     m54329U_210323_190418/57542526/ccs -23903              \n",
       "93     m54329U_210323_190418/57542526/ccs -23903              \n",
       "94     m54329U_210323_190418/57542526/ccs -23903              \n",
       "95     m54329U_210323_190418/57542526/ccs -23903              \n",
       "96     m54329U_210323_190418/57542526/ccs -23903              \n",
       "97     m54329U_210323_190418/57542526/ccs -23903              \n",
       "98     m54329U_210323_190418/57542526/ccs -23903              \n",
       "99     m54329U_210323_190418/57542526/ccs -23903              \n",
       "100    m54329U_210323_190418/57542526/ccs -23903              \n",
       "101    m54329U_210323_190418/57542526/ccs -23903              \n",
       "102    m54329U_210323_190418/57542526/ccs -24176              \n",
       "103    m54329U_210323_190418/57542526/ccs -24176              \n",
       "104    m54329U_210323_190418/57542526/ccs -24176              \n",
       "105    m54329U_210323_190418/57542526/ccs -24176              \n",
       "106    m54329U_210323_190418/57542526/ccs -24176              \n",
       "107    m54329U_210323_190418/57542526/ccs -24176              \n",
       "108    m54329U_210323_190418/57542526/ccs -24176              \n",
       "109    m54329U_210323_190418/57542526/ccs -24176              \n",
       "110    m54329U_210323_190418/57542526/ccs -24176              \n",
       "111    m54329U_210323_190418/57542526/ccs -24176              \n",
       "112    m54329U_210323_190418/57542526/ccs -24248              \n",
       "113    m54329U_210323_190418/57542526/ccs -24248              \n",
       "       centered_query_end query_length centered_position_type centered_start\n",
       "1      4695               28558        m6a                    -91           \n",
       "2      4695               28558        m6a                    -81           \n",
       "3      4695               28558        m6a                    -76           \n",
       "4      4695               28558        m6a                    -73           \n",
       "5      4695               28558        m6a                    -64           \n",
       "6      4695               28558        m6a                    -61           \n",
       "7      4695               28558        m6a                    -54           \n",
       "8      4695               28558        m6a                    -52           \n",
       "9      4695               28558        m6a                    -35           \n",
       "10     4695               28558        m6a                    -33           \n",
       "11     4695               28558        m6a                    -32           \n",
       "12     4695               28558        m6a                    -27           \n",
       "13     4695               28558        m6a                    -23           \n",
       "14     4695               28558        m6a                    -21           \n",
       "15     4695               28558        m6a                    -19           \n",
       "16     4695               28558        m6a                    -17           \n",
       "17     4695               28558        m6a                    -16           \n",
       "18     4695               28558        m6a                    -14           \n",
       "19     4695               28558        m6a                    -10           \n",
       "20     4695               28558        m6a                     -5           \n",
       "21     4695               28558        m6a                     -2           \n",
       "22     4695               28558        m6a                      6           \n",
       "23     4695               28558        m6a                      8           \n",
       "24     4695               28558        m6a                      9           \n",
       "25     4695               28558        m6a                     21           \n",
       "26     4695               28558        m6a                     24           \n",
       "27     4695               28558        m6a                     27           \n",
       "28     4695               28558        m6a                     31           \n",
       "29     4695               28558        m6a                     35           \n",
       "30     4695               28558        m6a                     40           \n",
       "<U+22EE> <U+22EE>           <U+22EE>     <U+22EE>               <U+22EE>      \n",
       "84     4655               28558        m6a                      12          \n",
       "85     4655               28558        m6a                      14          \n",
       "86     4655               28558        m6a                      21          \n",
       "87     4655               28558        m6a                      24          \n",
       "88     4655               28558        m6a                      33          \n",
       "89     4655               28558        m6a                      36          \n",
       "90     4655               28558        m6a                      41          \n",
       "91     4655               28558        m6a                      51          \n",
       "92     4655               28558        m6a                      65          \n",
       "93     4655               28558        m6a                      68          \n",
       "94     4655               28558        m6a                      69          \n",
       "95     4655               28558        m6a                      75          \n",
       "96     4655               28558        m6a                      77          \n",
       "97     4655               28558        m6a                      79          \n",
       "98     4655               28558        m6a                      81          \n",
       "99     4655               28558        m6a                      87          \n",
       "100    4655               28558        m6a                      90          \n",
       "101    4655               28558        msp                    -287          \n",
       "102    4382               28558        m6a                     -70          \n",
       "103    4382               28558        m6a                      61          \n",
       "104    4382               28558        m6a                      64          \n",
       "105    4382               28558        m6a                      69          \n",
       "106    4382               28558        m6a                      71          \n",
       "107    4382               28558        m6a                      88          \n",
       "108    4382               28558        m6a                      91          \n",
       "109    4382               28558        m6a                      96          \n",
       "110    4382               28558        msp                     -71          \n",
       "111    4382               28558        msp                      60          \n",
       "112    4310               28558        m6a                       2          \n",
       "113    4310               28558        msp                       1          \n",
       "       centered_end\n",
       "1      -90         \n",
       "2      -80         \n",
       "3      -75         \n",
       "4      -72         \n",
       "5      -63         \n",
       "6      -60         \n",
       "7      -53         \n",
       "8      -51         \n",
       "9      -34         \n",
       "10     -32         \n",
       "11     -31         \n",
       "12     -26         \n",
       "13     -22         \n",
       "14     -20         \n",
       "15     -18         \n",
       "16     -16         \n",
       "17     -15         \n",
       "18     -13         \n",
       "19      -9         \n",
       "20      -4         \n",
       "21      -1         \n",
       "22       7         \n",
       "23       9         \n",
       "24      10         \n",
       "25      22         \n",
       "26      25         \n",
       "27      28         \n",
       "28      32         \n",
       "29      36         \n",
       "30      41         \n",
       "<U+22EE> <U+22EE>    \n",
       "84      13         \n",
       "85      15         \n",
       "86      22         \n",
       "87      25         \n",
       "88      34         \n",
       "89      37         \n",
       "90      42         \n",
       "91      52         \n",
       "92      66         \n",
       "93      69         \n",
       "94      70         \n",
       "95      76         \n",
       "96      78         \n",
       "97      80         \n",
       "98      82         \n",
       "99      88         \n",
       "100     91         \n",
       "101    213         \n",
       "102    -69         \n",
       "103     62         \n",
       "104     65         \n",
       "105     70         \n",
       "106     72         \n",
       "107     89         \n",
       "108     92         \n",
       "109     97         \n",
       "110    -70         \n",
       "111    560         \n",
       "112      3         \n",
       "113      2         "
      ]
     },
     "metadata": {},
     "output_type": "display_data"
    }
   ],
   "source": [
    "df_all[df_all$query_name == df_all$query_name[1] & df_all$centered_position_type %in% c(\"m6a\", \"msp\")]# & df_all$centered_start == df_all$centered_start[1]]"
   ]
  },
  {
   "cell_type": "code",
   "execution_count": null,
   "metadata": {
    "vscode": {
     "languageId": "r"
    }
   },
   "outputs": [],
   "source": []
  },
  {
   "cell_type": "code",
   "execution_count": null,
   "metadata": {
    "vscode": {
     "languageId": "r"
    }
   },
   "outputs": [],
   "source": []
  },
  {
   "cell_type": "code",
   "execution_count": null,
   "metadata": {
    "vscode": {
     "languageId": "r"
    }
   },
   "outputs": [],
   "source": []
  },
  {
   "cell_type": "code",
   "execution_count": null,
   "metadata": {
    "vscode": {
     "languageId": "r"
    }
   },
   "outputs": [],
   "source": []
  },
  {
   "cell_type": "code",
   "execution_count": null,
   "metadata": {
    "vscode": {
     "languageId": "r"
    }
   },
   "outputs": [],
   "source": []
  },
  {
   "cell_type": "code",
   "execution_count": null,
   "metadata": {
    "vscode": {
     "languageId": "r"
    }
   },
   "outputs": [],
   "source": []
  },
  {
   "cell_type": "code",
   "execution_count": null,
   "metadata": {
    "vscode": {
     "languageId": "r"
    }
   },
   "outputs": [],
   "source": []
  },
  {
   "cell_type": "code",
   "execution_count": null,
   "metadata": {
    "vscode": {
     "languageId": "r"
    }
   },
   "outputs": [],
   "source": []
  },
  {
   "cell_type": "code",
   "execution_count": null,
   "metadata": {
    "vscode": {
     "languageId": "r"
    }
   },
   "outputs": [],
   "source": []
  },
  {
   "cell_type": "code",
   "execution_count": null,
   "metadata": {
    "vscode": {
     "languageId": "r"
    }
   },
   "outputs": [],
   "source": []
  },
  {
   "cell_type": "code",
   "execution_count": null,
   "metadata": {
    "vscode": {
     "languageId": "r"
    }
   },
   "outputs": [],
   "source": []
  },
  {
   "cell_type": "code",
   "execution_count": null,
   "metadata": {
    "vscode": {
     "languageId": "r"
    }
   },
   "outputs": [],
   "source": []
  },
  {
   "cell_type": "code",
   "execution_count": null,
   "metadata": {
    "vscode": {
     "languageId": "r"
    }
   },
   "outputs": [],
   "source": []
  },
  {
   "cell_type": "code",
   "execution_count": null,
   "metadata": {
    "vscode": {
     "languageId": "r"
    }
   },
   "outputs": [],
   "source": []
  },
  {
   "cell_type": "code",
   "execution_count": null,
   "metadata": {
    "vscode": {
     "languageId": "r"
    }
   },
   "outputs": [],
   "source": []
  },
  {
   "cell_type": "code",
   "execution_count": null,
   "metadata": {
    "vscode": {
     "languageId": "r"
    }
   },
   "outputs": [],
   "source": []
  },
  {
   "attachments": {},
   "cell_type": "markdown",
   "metadata": {},
   "source": [
    "### CTCF M"
   ]
  },
  {
   "cell_type": "code",
   "execution_count": 9,
   "metadata": {
    "vscode": {
     "languageId": "r"
    }
   },
   "outputs": [
    {
     "data": {
      "text/html": [
       "<style>\n",
       ".list-inline {list-style: none; margin:0; padding: 0}\n",
       ".list-inline>li {display: inline-block}\n",
       ".list-inline>li:not(:last-child)::after {content: \"\\00b7\"; padding: 0 .5ex}\n",
       "</style>\n",
       "<ol class=list-inline><li>20099589</li><li>12</li></ol>\n"
      ],
      "text/latex": [
       "\\begin{enumerate*}\n",
       "\\item 20099589\n",
       "\\item 12\n",
       "\\end{enumerate*}\n"
      ],
      "text/markdown": [
       "1. 20099589\n",
       "2. 12\n",
       "\n",
       "\n"
      ],
      "text/plain": [
       "[1] 20099589       12"
      ]
     },
     "metadata": {},
     "output_type": "display_data"
    },
    {
     "data": {
      "text/html": [
       "'initiral rows: 20099589'"
      ],
      "text/latex": [
       "'initiral rows: 20099589'"
      ],
      "text/markdown": [
       "'initiral rows: 20099589'"
      ],
      "text/plain": [
       "[1] \"initiral rows: 20099589\""
      ]
     },
     "metadata": {},
     "output_type": "display_data"
    },
    {
     "data": {
      "text/html": [
       "'m6a rows: 17873570'"
      ],
      "text/latex": [
       "'m6a rows: 17873570'"
      ],
      "text/markdown": [
       "'m6a rows: 17873570'"
      ],
      "text/plain": [
       "[1] \"m6a rows: 17873570\""
      ]
     },
     "metadata": {},
     "output_type": "display_data"
    },
    {
     "data": {
      "text/html": [
       "'--100, +100 rows: 17835118'"
      ],
      "text/latex": [
       "'--100, +100 rows: 17835118'"
      ],
      "text/markdown": [
       "'--100, +100 rows: 17835118'"
      ],
      "text/plain": [
       "[1] \"--100, +100 rows: 17835118\""
      ]
     },
     "metadata": {},
     "output_type": "display_data"
    },
    {
     "data": {
      "text/html": [
       "'unique CTCF motifs: 479731'"
      ],
      "text/latex": [
       "'unique CTCF motifs: 479731'"
      ],
      "text/markdown": [
       "'unique CTCF motifs: 479731'"
      ],
      "text/plain": [
       "[1] \"unique CTCF motifs: 479731\""
      ]
     },
     "metadata": {},
     "output_type": "display_data"
    },
    {
     "name": "stdout",
     "output_type": "stream",
     "text": [
      "8.026 sec elapsed\n"
     ]
    }
   ],
   "source": [
    "tic()\n",
    "# set args\n",
    "motif_type <- \"M\"\n",
    "ctcf_dist <- c(-100,100)\n",
    "n_rows <- Inf\n",
    "\n",
    "# load set data file\n",
    "data_file_name <- sprintf(\"CTCF_m6a_fiberseq_%s_100bp.txt\", motif_type)\n",
    "data_file <- sprintf(\"%s/%s\", data_folder, data_file_name)\n",
    "\n",
    "# read table\n",
    "df_all <- fread(data_file, nrows=n_rows)\n",
    "dim(df_all)\n",
    "\n",
    "# subset table to first n rows\n",
    "df <- df_all\n",
    "sprintf(\"initial rows: %s\", dim(df)[1])\n",
    "# filter centered_position_type for m6a\n",
    "df <- filter(df, centered_position_type == \"m6a\")\n",
    "sprintf(\"m6a rows: %s\", dim(df)[1])\n",
    "# filter by +/- 40 bp around centering site\n",
    "df <- filter(df, centered_start >= ctcf_dist[1] & centered_start <= ctcf_dist[2])\n",
    "sprintf(\"-%s, +%s rows: %s\", ctcf_dist[1], ctcf_dist[2], dim(df)[1])\n",
    "# unique CTCF motifs\n",
    "sprintf(\"unique CTCF motifs: %s\", length(unique(df$query_name)))\n",
    "toc()"
   ]
  },
  {
   "cell_type": "code",
   "execution_count": 27,
   "metadata": {
    "vscode": {
     "languageId": "r"
    }
   },
   "outputs": [
    {
     "data": {
      "text/html": [
       "<style>\n",
       ".list-inline {list-style: none; margin:0; padding: 0}\n",
       ".list-inline>li {display: inline-block}\n",
       ".list-inline>li:not(:last-child)::after {content: \"\\00b7\"; padding: 0 .5ex}\n",
       "</style>\n",
       "<ol class=list-inline><li>'chrom'</li><li>'centering_position'</li><li>'strand'</li><li>'reference_start'</li><li>'reference_end'</li><li>'query_name'</li><li>'centered_query_start'</li><li>'centered_query_end'</li><li>'query_length'</li><li>'centered_position_type'</li><li>'centered_start'</li><li>'centered_end'</li></ol>\n"
      ],
      "text/latex": [
       "\\begin{enumerate*}\n",
       "\\item 'chrom'\n",
       "\\item 'centering\\_position'\n",
       "\\item 'strand'\n",
       "\\item 'reference\\_start'\n",
       "\\item 'reference\\_end'\n",
       "\\item 'query\\_name'\n",
       "\\item 'centered\\_query\\_start'\n",
       "\\item 'centered\\_query\\_end'\n",
       "\\item 'query\\_length'\n",
       "\\item 'centered\\_position\\_type'\n",
       "\\item 'centered\\_start'\n",
       "\\item 'centered\\_end'\n",
       "\\end{enumerate*}\n"
      ],
      "text/markdown": [
       "1. 'chrom'\n",
       "2. 'centering_position'\n",
       "3. 'strand'\n",
       "4. 'reference_start'\n",
       "5. 'reference_end'\n",
       "6. 'query_name'\n",
       "7. 'centered_query_start'\n",
       "8. 'centered_query_end'\n",
       "9. 'query_length'\n",
       "10. 'centered_position_type'\n",
       "11. 'centered_start'\n",
       "12. 'centered_end'\n",
       "\n",
       "\n"
      ],
      "text/plain": [
       " [1] \"chrom\"                  \"centering_position\"     \"strand\"                \n",
       " [4] \"reference_start\"        \"reference_end\"          \"query_name\"            \n",
       " [7] \"centered_query_start\"   \"centered_query_end\"     \"query_length\"          \n",
       "[10] \"centered_position_type\" \"centered_start\"         \"centered_end\"          "
      ]
     },
     "metadata": {},
     "output_type": "display_data"
    }
   ],
   "source": [
    "colnames(df)"
   ]
  },
  {
   "cell_type": "code",
   "execution_count": 10,
   "metadata": {
    "vscode": {
     "languageId": "r"
    }
   },
   "outputs": [],
   "source": [
    "#---------- create df for merged data ----------\n",
    "df$motif_type <- motif_type\n",
    "# add col w/ motif type\n",
    "df_m <- df"
   ]
  },
  {
   "cell_type": "code",
   "execution_count": null,
   "metadata": {
    "vscode": {
     "languageId": "r"
    }
   },
   "outputs": [],
   "source": []
  },
  {
   "cell_type": "code",
   "execution_count": 12,
   "metadata": {
    "vscode": {
     "languageId": "r"
    }
   },
   "outputs": [
    {
     "data": {
      "text/html": [
       "'/mmfs1/gscratch/stergachislab/mvollger/projects/ctcf-footprinting/figures/CTCF_m6a_methylation_density_M.pdf'"
      ],
      "text/latex": [
       "'/mmfs1/gscratch/stergachislab/mvollger/projects/ctcf-footprinting/figures/CTCF\\_m6a\\_methylation\\_density\\_M.pdf'"
      ],
      "text/markdown": [
       "'/mmfs1/gscratch/stergachislab/mvollger/projects/ctcf-footprinting/figures/CTCF_m6a_methylation_density_M.pdf'"
      ],
      "text/plain": [
       "[1] \"/mmfs1/gscratch/stergachislab/mvollger/projects/ctcf-footprinting/figures/CTCF_m6a_methylation_density_M.pdf\""
      ]
     },
     "metadata": {},
     "output_type": "display_data"
    }
   ],
   "source": [
    "#------------ Set file name ------------\n",
    "output_file_name <- sprintf(\"CTCF_m6a_methylation_density_%s.pdf\", motif_type)\n",
    "output_file <- sprintf(\"%s/%s\", output_folder, output_file_name)\n",
    "output_file\n",
    "\n",
    "# save file?\n",
    "save_pdf <- TRUE\n",
    "pdf_dims <- c(5,5)"
   ]
  },
  {
   "cell_type": "code",
   "execution_count": 13,
   "metadata": {
    "vscode": {
     "languageId": "r"
    }
   },
   "outputs": [
    {
     "name": "stdout",
     "output_type": "stream",
     "text": [
      "7.589 sec elapsed\n"
     ]
    },
    {
     "name": "stderr",
     "output_type": "stream",
     "text": [
      "\u001b[1m\u001b[22mSaving 6.67 x 6.67 in image\n"
     ]
    },
    {
     "data": {
      "image/png": "[encoded data removed]",
      "text/plain": [
       "plot without title"
      ]
     },
     "metadata": {
      "image/png": {
       "height": 420,
       "width": 420
      }
     },
     "output_type": "display_data"
    }
   ],
   "source": [
    "tic()\n",
    "\n",
    "# create density plot\n",
    "font_size <- 12\n",
    "font_info <- element_text(size=font_size, family=\"ArialMT\", color=\"black\")\n",
    "\n",
    "plot_title <- sprintf(\"%s CTCF motif - m6a methylation\\n(%s,%s bps): %s unique sites\", \n",
    "                      motif_type, ctcf_dist[1], ctcf_dist[2], length(unique(df$query_name)))\n",
    "y_axis_name <- \"distance to CTCF start (bp)\"\n",
    "\n",
    "p <- ggplot(df, aes(x=centered_start)) +\n",
    "    geom_vline(xintercept=0, color=\"#CECDCC\", show.legend=FALSE, linetype=\"dashed\", linewidth=1.5) +\n",
    "    geom_density(size=1.5, adjust=0.5) +\n",
    "\n",
    "    ggtitle(plot_title) +\n",
    "    scale_x_continuous(name=y_axis_name) +\n",
    "    theme_classic() +\n",
    "    theme(text = font_info,\n",
    "          axis.ticks = element_line(color=\"#000000\", lineend=\"square\"),\n",
    "          axis.text = font_info,\n",
    "          panel.background = element_rect(fill=\"transparent\", color=\"#000000\", size=1),\n",
    "          plot.title = element_text(family=\"ArialMT\", size=font_size+2, hjust=0.5))\n",
    "p\n",
    "toc()\n",
    "\n",
    "if (save_pdf == TRUE) {\n",
    "    ggsave(output_file, plot = p)\n",
    "}"
   ]
  },
  {
   "attachments": {},
   "cell_type": "markdown",
   "metadata": {},
   "source": [
    "### CTCF L"
   ]
  },
  {
   "cell_type": "code",
   "execution_count": 11,
   "metadata": {
    "vscode": {
     "languageId": "r"
    }
   },
   "outputs": [
    {
     "data": {
      "text/html": [
       "<style>\n",
       ".list-inline {list-style: none; margin:0; padding: 0}\n",
       ".list-inline>li {display: inline-block}\n",
       ".list-inline>li:not(:last-child)::after {content: \"\\00b7\"; padding: 0 .5ex}\n",
       "</style>\n",
       "<ol class=list-inline><li>12766251</li><li>12</li></ol>\n"
      ],
      "text/latex": [
       "\\begin{enumerate*}\n",
       "\\item 12766251\n",
       "\\item 12\n",
       "\\end{enumerate*}\n"
      ],
      "text/markdown": [
       "1. 12766251\n",
       "2. 12\n",
       "\n",
       "\n"
      ],
      "text/plain": [
       "[1] 12766251       12"
      ]
     },
     "metadata": {},
     "output_type": "display_data"
    },
    {
     "data": {
      "text/html": [
       "'initiral rows: 12766251'"
      ],
      "text/latex": [
       "'initiral rows: 12766251'"
      ],
      "text/markdown": [
       "'initiral rows: 12766251'"
      ],
      "text/plain": [
       "[1] \"initiral rows: 12766251\""
      ]
     },
     "metadata": {},
     "output_type": "display_data"
    },
    {
     "data": {
      "text/html": [
       "'m6a rows: 11486734'"
      ],
      "text/latex": [
       "'m6a rows: 11486734'"
      ],
      "text/markdown": [
       "'m6a rows: 11486734'"
      ],
      "text/plain": [
       "[1] \"m6a rows: 11486734\""
      ]
     },
     "metadata": {},
     "output_type": "display_data"
    },
    {
     "data": {
      "text/html": [
       "'--100, +100 rows: 11464358'"
      ],
      "text/latex": [
       "'--100, +100 rows: 11464358'"
      ],
      "text/markdown": [
       "'--100, +100 rows: 11464358'"
      ],
      "text/plain": [
       "[1] \"--100, +100 rows: 11464358\""
      ]
     },
     "metadata": {},
     "output_type": "display_data"
    },
    {
     "data": {
      "text/html": [
       "'unique CTCF motifs: 328820'"
      ],
      "text/latex": [
       "'unique CTCF motifs: 328820'"
      ],
      "text/markdown": [
       "'unique CTCF motifs: 328820'"
      ],
      "text/plain": [
       "[1] \"unique CTCF motifs: 328820\""
      ]
     },
     "metadata": {},
     "output_type": "display_data"
    },
    {
     "name": "stdout",
     "output_type": "stream",
     "text": [
      "4.857 sec elapsed\n"
     ]
    }
   ],
   "source": [
    "tic()\n",
    "# set args\n",
    "motif_type <- \"L\"\n",
    "ctcf_dist <- c(-100,100)\n",
    "n_rows <- Inf\n",
    "\n",
    "# load set data file\n",
    "data_file_name <- sprintf(\"CTCF_m6a_fiberseq_%s_100bp.txt\", motif_type)\n",
    "data_file <- sprintf(\"%s/%s\", data_folder, data_file_name)\n",
    "\n",
    "# read table\n",
    "df_all <- fread(data_file, nrows=n_rows)\n",
    "dim(df_all)\n",
    "\n",
    "# subset table to first n rows\n",
    "df <- df_all\n",
    "sprintf(\"initial rows: %s\", dim(df)[1])\n",
    "# filter centered_position_type for m6a\n",
    "df <- filter(df, centered_position_type == \"m6a\")\n",
    "sprintf(\"m6a rows: %s\", dim(df)[1])\n",
    "# filter by +/- 40 bp around centering site\n",
    "df <- filter(df, centered_start >= ctcf_dist[1] & centered_start <= ctcf_dist[2])\n",
    "sprintf(\"-%s, +%s rows: %s\", ctcf_dist[1], ctcf_dist[2], dim(df)[1])\n",
    "# unique CTCF motifs\n",
    "sprintf(\"unique CTCF motifs: %s\", length(unique(df$query_name)))\n",
    "toc()"
   ]
  },
  {
   "cell_type": "code",
   "execution_count": 12,
   "metadata": {
    "vscode": {
     "languageId": "r"
    }
   },
   "outputs": [],
   "source": [
    "#---------- merge with main df----------\n",
    "# add col w/ motif type\n",
    "df$motif_type <- motif_type\n",
    "# merge adding rows\n",
    "df_m <- rbind(df_m, df)"
   ]
  },
  {
   "cell_type": "code",
   "execution_count": null,
   "metadata": {
    "vscode": {
     "languageId": "r"
    }
   },
   "outputs": [],
   "source": []
  },
  {
   "cell_type": "code",
   "execution_count": 21,
   "metadata": {
    "vscode": {
     "languageId": "r"
    }
   },
   "outputs": [
    {
     "data": {
      "text/html": [
       "'/mmfs1/gscratch/stergachislab/mvollger/projects/ctcf-footprinting/figures/CTCF_m6a_methylation_density_L.pdf'"
      ],
      "text/latex": [
       "'/mmfs1/gscratch/stergachislab/mvollger/projects/ctcf-footprinting/figures/CTCF\\_m6a\\_methylation\\_density\\_L.pdf'"
      ],
      "text/markdown": [
       "'/mmfs1/gscratch/stergachislab/mvollger/projects/ctcf-footprinting/figures/CTCF_m6a_methylation_density_L.pdf'"
      ],
      "text/plain": [
       "[1] \"/mmfs1/gscratch/stergachislab/mvollger/projects/ctcf-footprinting/figures/CTCF_m6a_methylation_density_L.pdf\""
      ]
     },
     "metadata": {},
     "output_type": "display_data"
    }
   ],
   "source": [
    "#------------ Set file name ------------\n",
    "output_file_name <- sprintf(\"CTCF_m6a_methylation_density_%s.pdf\", motif_type)\n",
    "output_file <- sprintf(\"%s/%s\", output_folder, output_file_name)\n",
    "output_file\n",
    "\n",
    "# save file?\n",
    "save_pdf <- TRUE\n",
    "pdf_dims <- c(5,5)"
   ]
  },
  {
   "cell_type": "code",
   "execution_count": 22,
   "metadata": {
    "vscode": {
     "languageId": "r"
    }
   },
   "outputs": [
    {
     "name": "stdout",
     "output_type": "stream",
     "text": [
      "3.37 sec elapsed\n"
     ]
    },
    {
     "name": "stderr",
     "output_type": "stream",
     "text": [
      "\u001b[1m\u001b[22mSaving 6.67 x 6.67 in image\n"
     ]
    },
    {
     "data": {
      "image/png": "[encoded data removed]",
      "text/plain": [
       "plot without title"
      ]
     },
     "metadata": {
      "image/png": {
       "height": 420,
       "width": 420
      }
     },
     "output_type": "display_data"
    }
   ],
   "source": [
    "tic()\n",
    "\n",
    "# create density plot\n",
    "font_size <- 12\n",
    "font_info <- element_text(size=font_size, family=\"ArialMT\", color=\"black\")\n",
    "\n",
    "plot_title <- sprintf(\"%s CTCF motif - m6a methylation\\n(%s,%s bps): %s unique sites\", \n",
    "                      motif_type, ctcf_dist[1], ctcf_dist[2], length(unique(df$query_name)))\n",
    "y_axis_name <- \"distance to CTCF start (bp)\"\n",
    "\n",
    "p <- ggplot(df, aes(x=centered_start)) +\n",
    "    geom_vline(xintercept=0, color=\"#CECDCC\", show.legend=FALSE, linetype=\"dashed\", linewidth=1.5) +\n",
    "    geom_density(size=1.5, adjust=0.5) +\n",
    "\n",
    "    ggtitle(plot_title) +\n",
    "    scale_x_continuous(name=y_axis_name) +\n",
    "    theme_classic() +\n",
    "    theme(text = font_info,\n",
    "          axis.ticks = element_line(color=\"#000000\", lineend=\"square\"),\n",
    "          axis.text = font_info,\n",
    "          panel.background = element_rect(fill=\"transparent\", color=\"#000000\", size=1),\n",
    "          plot.title = element_text(family=\"ArialMT\", size=font_size+2, hjust=0.5))\n",
    "p\n",
    "toc()\n",
    "\n",
    "if (save_pdf == TRUE) {\n",
    "    ggsave(output_file, plot = p)\n",
    "}"
   ]
  },
  {
   "attachments": {},
   "cell_type": "markdown",
   "metadata": {},
   "source": [
    "### CTCF XL"
   ]
  },
  {
   "cell_type": "code",
   "execution_count": 13,
   "metadata": {
    "vscode": {
     "languageId": "r"
    }
   },
   "outputs": [
    {
     "data": {
      "text/html": [
       "<style>\n",
       ".list-inline {list-style: none; margin:0; padding: 0}\n",
       ".list-inline>li {display: inline-block}\n",
       ".list-inline>li:not(:last-child)::after {content: \"\\00b7\"; padding: 0 .5ex}\n",
       "</style>\n",
       "<ol class=list-inline><li>10990812</li><li>12</li></ol>\n"
      ],
      "text/latex": [
       "\\begin{enumerate*}\n",
       "\\item 10990812\n",
       "\\item 12\n",
       "\\end{enumerate*}\n"
      ],
      "text/markdown": [
       "1. 10990812\n",
       "2. 12\n",
       "\n",
       "\n"
      ],
      "text/plain": [
       "[1] 10990812       12"
      ]
     },
     "metadata": {},
     "output_type": "display_data"
    },
    {
     "data": {
      "text/html": [
       "'initiral rows: 10990812'"
      ],
      "text/latex": [
       "'initiral rows: 10990812'"
      ],
      "text/markdown": [
       "'initiral rows: 10990812'"
      ],
      "text/plain": [
       "[1] \"initiral rows: 10990812\""
      ]
     },
     "metadata": {},
     "output_type": "display_data"
    },
    {
     "data": {
      "text/html": [
       "'m6a rows: 9904718'"
      ],
      "text/latex": [
       "'m6a rows: 9904718'"
      ],
      "text/markdown": [
       "'m6a rows: 9904718'"
      ],
      "text/plain": [
       "[1] \"m6a rows: 9904718\""
      ]
     },
     "metadata": {},
     "output_type": "display_data"
    },
    {
     "data": {
      "text/html": [
       "'--100, +100 rows: 9884924'"
      ],
      "text/latex": [
       "'--100, +100 rows: 9884924'"
      ],
      "text/markdown": [
       "'--100, +100 rows: 9884924'"
      ],
      "text/plain": [
       "[1] \"--100, +100 rows: 9884924\""
      ]
     },
     "metadata": {},
     "output_type": "display_data"
    },
    {
     "data": {
      "text/html": [
       "'unique CTCF motifs: 284634'"
      ],
      "text/latex": [
       "'unique CTCF motifs: 284634'"
      ],
      "text/markdown": [
       "'unique CTCF motifs: 284634'"
      ],
      "text/plain": [
       "[1] \"unique CTCF motifs: 284634\""
      ]
     },
     "metadata": {},
     "output_type": "display_data"
    },
    {
     "name": "stdout",
     "output_type": "stream",
     "text": [
      "3.763 sec elapsed\n"
     ]
    }
   ],
   "source": [
    "tic()\n",
    "# set args\n",
    "motif_type <- \"XL\"\n",
    "ctcf_dist <- c(-100,100)\n",
    "n_rows <- Inf\n",
    "\n",
    "# load set data file\n",
    "data_file_name <- sprintf(\"CTCF_m6a_fiberseq_%s_100bp.txt\", motif_type)\n",
    "data_file <- sprintf(\"%s/%s\", data_folder, data_file_name)\n",
    "\n",
    "# read table\n",
    "df_all <- fread(data_file, nrows=n_rows)\n",
    "dim(df_all)\n",
    "\n",
    "# subset table to first n rows\n",
    "df <- df_all\n",
    "sprintf(\"initial rows: %s\", dim(df)[1])\n",
    "# filter centered_position_type for m6a\n",
    "df <- filter(df, centered_position_type == \"m6a\")\n",
    "sprintf(\"m6a rows: %s\", dim(df)[1])\n",
    "# filter by +/- 40 bp around centering site\n",
    "df <- filter(df, centered_start >= ctcf_dist[1] & centered_start <= ctcf_dist[2])\n",
    "sprintf(\"-%s, +%s rows: %s\", ctcf_dist[1], ctcf_dist[2], dim(df)[1])\n",
    "# unique CTCF motifs\n",
    "sprintf(\"unique CTCF motifs: %s\", length(unique(df$query_name)))\n",
    "toc()"
   ]
  },
  {
   "cell_type": "code",
   "execution_count": 14,
   "metadata": {
    "vscode": {
     "languageId": "r"
    }
   },
   "outputs": [
    {
     "data": {
      "text/html": [
       "<style>\n",
       ".list-inline {list-style: none; margin:0; padding: 0}\n",
       ".list-inline>li {display: inline-block}\n",
       ".list-inline>li:not(:last-child)::after {content: \"\\00b7\"; padding: 0 .5ex}\n",
       "</style>\n",
       "<ol class=list-inline><li>29299476</li><li>13</li></ol>\n"
      ],
      "text/latex": [
       "\\begin{enumerate*}\n",
       "\\item 29299476\n",
       "\\item 13\n",
       "\\end{enumerate*}\n"
      ],
      "text/markdown": [
       "1. 29299476\n",
       "2. 13\n",
       "\n",
       "\n"
      ],
      "text/plain": [
       "[1] 29299476       13"
      ]
     },
     "metadata": {},
     "output_type": "display_data"
    },
    {
     "data": {
      "text/html": [
       "<style>\n",
       ".list-inline {list-style: none; margin:0; padding: 0}\n",
       ".list-inline>li {display: inline-block}\n",
       ".list-inline>li:not(:last-child)::after {content: \"\\00b7\"; padding: 0 .5ex}\n",
       "</style>\n",
       "<ol class=list-inline><li>39184400</li><li>13</li></ol>\n"
      ],
      "text/latex": [
       "\\begin{enumerate*}\n",
       "\\item 39184400\n",
       "\\item 13\n",
       "\\end{enumerate*}\n"
      ],
      "text/markdown": [
       "1. 39184400\n",
       "2. 13\n",
       "\n",
       "\n"
      ],
      "text/plain": [
       "[1] 39184400       13"
      ]
     },
     "metadata": {},
     "output_type": "display_data"
    }
   ],
   "source": [
    "#---------- merge with main df----------\n",
    "dim(df_m)\n",
    "# add col w/ motif type\n",
    "df$motif_type <- motif_type\n",
    "# merge adding rows\n",
    "df_m <- rbind(df_m, df)\n",
    "dim(df_m)"
   ]
  },
  {
   "cell_type": "code",
   "execution_count": null,
   "metadata": {
    "vscode": {
     "languageId": "r"
    }
   },
   "outputs": [],
   "source": []
  },
  {
   "cell_type": "code",
   "execution_count": 18,
   "metadata": {
    "vscode": {
     "languageId": "r"
    }
   },
   "outputs": [
    {
     "data": {
      "text/html": [
       "'/mmfs1/gscratch/stergachislab/mvollger/projects/ctcf-footprinting/figures/CTCF_m6a_methylation_density_XL.pdf'"
      ],
      "text/latex": [
       "'/mmfs1/gscratch/stergachislab/mvollger/projects/ctcf-footprinting/figures/CTCF\\_m6a\\_methylation\\_density\\_XL.pdf'"
      ],
      "text/markdown": [
       "'/mmfs1/gscratch/stergachislab/mvollger/projects/ctcf-footprinting/figures/CTCF_m6a_methylation_density_XL.pdf'"
      ],
      "text/plain": [
       "[1] \"/mmfs1/gscratch/stergachislab/mvollger/projects/ctcf-footprinting/figures/CTCF_m6a_methylation_density_XL.pdf\""
      ]
     },
     "metadata": {},
     "output_type": "display_data"
    }
   ],
   "source": [
    "#------------ Set file name ------------\n",
    "output_file_name <- sprintf(\"CTCF_m6a_methylation_density_%s.pdf\", motif_type)\n",
    "output_file <- sprintf(\"%s/%s\", output_folder, output_file_name)\n",
    "output_file\n",
    "\n",
    "# save file?\n",
    "save_pdf <- TRUE\n",
    "pdf_dims <- c(5,5)"
   ]
  },
  {
   "cell_type": "code",
   "execution_count": 19,
   "metadata": {
    "vscode": {
     "languageId": "r"
    }
   },
   "outputs": [
    {
     "name": "stdout",
     "output_type": "stream",
     "text": [
      "4.092 sec elapsed\n"
     ]
    },
    {
     "name": "stderr",
     "output_type": "stream",
     "text": [
      "\u001b[1m\u001b[22mSaving 6.67 x 6.67 in image\n"
     ]
    },
    {
     "data": {
      "image/png": "[encoded data removed]",
      "text/plain": [
       "plot without title"
      ]
     },
     "metadata": {
      "image/png": {
       "height": 420,
       "width": 420
      }
     },
     "output_type": "display_data"
    }
   ],
   "source": [
    "tic()\n",
    "\n",
    "# create density plot\n",
    "font_size <- 12\n",
    "font_info <- element_text(size=font_size, family=\"ArialMT\", color=\"black\")\n",
    "\n",
    "plot_title <- sprintf(\"%s CTCF motif - m6a methylation\\n(%s,%s bps): %s unique sites\", \n",
    "                      motif_type, ctcf_dist[1], ctcf_dist[2], length(unique(df$query_name)))\n",
    "y_axis_name <- \"distance to CTCF start (bp)\"\n",
    "\n",
    "p <- ggplot(df, aes(x=centered_start)) +\n",
    "    geom_vline(xintercept=0, color=\"#CECDCC\", show.legend=FALSE, linetype=\"dashed\", linewidth=1.5) +\n",
    "    geom_density(size=1.5, adjust=0.5) +\n",
    "\n",
    "    ggtitle(plot_title) +\n",
    "    scale_x_continuous(name=y_axis_name) +\n",
    "    theme_classic() +\n",
    "    theme(text = font_info,\n",
    "          axis.ticks = element_line(color=\"#000000\", lineend=\"square\"),\n",
    "          axis.text = font_info,\n",
    "          panel.background = element_rect(fill=\"transparent\", color=\"#000000\", size=1),\n",
    "          plot.title = element_text(family=\"ArialMT\", size=font_size+2, hjust=0.5))\n",
    "p\n",
    "toc()\n",
    "\n",
    "if (save_pdf == TRUE) {\n",
    "    ggsave(output_file, plot = p)\n",
    "}"
   ]
  },
  {
   "cell_type": "code",
   "execution_count": null,
   "metadata": {
    "vscode": {
     "languageId": "r"
    }
   },
   "outputs": [],
   "source": []
  },
  {
   "cell_type": "markdown",
   "metadata": {
    "vscode": {
     "languageId": "r"
    }
   },
   "source": [
    "# merged plot (overlayed)"
   ]
  },
  {
   "cell_type": "code",
   "execution_count": 15,
   "metadata": {
    "vscode": {
     "languageId": "r"
    }
   },
   "outputs": [],
   "source": [
    "# get merged df\n",
    "motif_type <- \"merged\"\n",
    "df_m <- df_m\n",
    "ctcf_dist <- c(-100,100)"
   ]
  },
  {
   "cell_type": "code",
   "execution_count": 51,
   "metadata": {
    "vscode": {
     "languageId": "r"
    }
   },
   "outputs": [
    {
     "data": {
      "text/html": [
       "'/mmfs1/gscratch/stergachislab/mvollger/projects/ctcf-footprinting/figures/CTCF_m6a_methylation_density_merged.pdf'"
      ],
      "text/latex": [
       "'/mmfs1/gscratch/stergachislab/mvollger/projects/ctcf-footprinting/figures/CTCF\\_m6a\\_methylation\\_density\\_merged.pdf'"
      ],
      "text/markdown": [
       "'/mmfs1/gscratch/stergachislab/mvollger/projects/ctcf-footprinting/figures/CTCF_m6a_methylation_density_merged.pdf'"
      ],
      "text/plain": [
       "[1] \"/mmfs1/gscratch/stergachislab/mvollger/projects/ctcf-footprinting/figures/CTCF_m6a_methylation_density_merged.pdf\""
      ]
     },
     "metadata": {},
     "output_type": "display_data"
    }
   ],
   "source": [
    "#------------ Set file name ------------\n",
    "output_file_name <- sprintf(\"CTCF_m6a_methylation_density_%s.pdf\", motif_type)\n",
    "output_file <- sprintf(\"%s/%s\", output_folder, output_file_name)\n",
    "output_file\n",
    "\n",
    "# save file?\n",
    "save_pdf <- TRUE\n",
    "pdf_dims <- c(10,5)"
   ]
  },
  {
   "cell_type": "code",
   "execution_count": 52,
   "metadata": {
    "vscode": {
     "languageId": "r"
    }
   },
   "outputs": [
    {
     "name": "stdout",
     "output_type": "stream",
     "text": [
      "19.526 sec elapsed\n"
     ]
    },
    {
     "data": {
      "image/png": "[encoded data removed]",
      "text/plain": [
       "plot without title"
      ]
     },
     "metadata": {
      "image/png": {
       "height": 300,
       "width": 600
      }
     },
     "output_type": "display_data"
    }
   ],
   "source": [
    "tic()\n",
    "df_p <- df_m\n",
    "df_p$motif_type <- factor(df_p$motif_type, levels=c(\"M\", \"L\", \"XL\"))\n",
    "\n",
    "# create density plot\n",
    "font_size <- 12\n",
    "font_info <- element_text(size=font_size, family=\"ArialMT\", color=\"black\")\n",
    "\n",
    "plot_title <- sprintf(\"[%s] CTCF motif - m6a methylation\\n(%s,%s bps): %s unique sites\", \n",
    "                      motif_type, ctcf_dist[1], ctcf_dist[2], length(unique(df_p$query_name)))\n",
    "y_axis_name <- \"distance to CTCF start (bp)\"\n",
    "\n",
    "# set plot size\n",
    "options(repr.plot.width=pdf_dims[1], repr.plot.height=pdf_dims[2])\n",
    "\n",
    "p <- ggplot(df_p, aes(x=centered_start, group=motif_type)) +\n",
    "    # add box over motif location\n",
    "    annotate(\"rect\", xmin=0, xmax=35, ymin=-Inf, ymax=+Inf, alpha=0.05, fill=\"blue\") +\n",
    "    # add vertical line at x=0\n",
    "    geom_vline(xintercept=0, color=\"#CECDCC\", show.legend=FALSE, linetype=\"dashed\", linewidth=1) +\n",
    "    # density plot\n",
    "    geom_density(aes(col=motif_type), size=1.2, adjust=0.5) +\n",
    "    # red, blue, black\n",
    "    scale_color_manual(values=c(\"#be282d\", \"#2a3d8c\", \"#000000\")) +\n",
    "    #scale_color_manual(values=c(\"#003f5c\", \"#bc5090\", \"#ffa600\")) +\n",
    "    #scale_color_aaas() +\n",
    "\n",
    "    ggtitle(plot_title) +\n",
    "    scale_x_continuous(name=y_axis_name, n.breaks=5) +\n",
    "    theme_classic() +\n",
    "    theme(text = font_info,\n",
    "          axis.ticks = element_line(color=\"#000000\", lineend=\"square\"),\n",
    "          axis.text = font_info,\n",
    "          panel.background = element_rect(fill=\"transparent\", color=\"#000000\", size=1),\n",
    "          plot.title = element_text(family=\"ArialMT\", size=font_size+2, hjust=0.5))\n",
    "p\n",
    "toc()\n",
    "\n",
    "if (save_pdf == TRUE) {\n",
    "    ggsave(output_file, plot = p, width=pdf_dims[1], height=pdf_dims[2])\n",
    "}"
   ]
  },
  {
   "cell_type": "code",
   "execution_count": null,
   "metadata": {
    "vscode": {
     "languageId": "r"
    }
   },
   "outputs": [],
   "source": []
  },
  {
   "cell_type": "code",
   "execution_count": null,
   "metadata": {
    "vscode": {
     "languageId": "r"
    }
   },
   "outputs": [],
   "source": []
  },
  {
   "cell_type": "code",
   "execution_count": null,
   "metadata": {
    "vscode": {
     "languageId": "r"
    }
   },
   "outputs": [],
   "source": []
  },
  {
   "cell_type": "code",
   "execution_count": null,
   "metadata": {
    "vscode": {
     "languageId": "r"
    }
   },
   "outputs": [],
   "source": []
  },
  {
   "cell_type": "code",
   "execution_count": null,
   "metadata": {
    "vscode": {
     "languageId": "r"
    }
   },
   "outputs": [],
   "source": []
  },
  {
   "cell_type": "code",
   "execution_count": null,
   "metadata": {
    "vscode": {
     "languageId": "r"
    }
   },
   "outputs": [],
   "source": []
  },
  {
   "cell_type": "code",
   "execution_count": null,
   "metadata": {
    "vscode": {
     "languageId": "r"
    }
   },
   "outputs": [],
   "source": []
  },
  {
   "cell_type": "code",
   "execution_count": null,
   "metadata": {
    "vscode": {
     "languageId": "r"
    }
   },
   "outputs": [],
   "source": []
  },
  {
   "cell_type": "code",
   "execution_count": null,
   "metadata": {
    "vscode": {
     "languageId": "r"
    }
   },
   "outputs": [],
   "source": []
  },
  {
   "attachments": {},
   "cell_type": "markdown",
   "metadata": {},
   "source": [
    "# all rows"
   ]
  },
  {
   "cell_type": "code",
   "execution_count": 26,
   "metadata": {
    "vscode": {
     "languageId": "r"
    }
   },
   "outputs": [
    {
     "data": {
      "image/png": "[encoded data removed]",
      "text/plain": [
       "plot without title"
      ]
     },
     "metadata": {
      "image/png": {
       "height": 420,
       "width": 420
      }
     },
     "output_type": "display_data"
    }
   ],
   "source": [
    "# all rows\n",
    "p <- ggplot(df, aes(x=centered_start)) + geom_density()\n",
    "p"
   ]
  }
 ],
 "metadata": {
  "kernelspec": {
   "display_name": "R",
   "language": "R",
   "name": "ir"
  },
  "language_info": {
   "codemirror_mode": "r",
   "file_extension": ".r",
   "mimetype": "text/x-r-source",
   "name": "R",
   "pygments_lexer": "r",
   "version": "4.2.2"
  },
  "orig_nbformat": 4,
  "vscode": {
   "interpreter": {
    "hash": "1f08d2ddd07848b0bf7fc49e600831e989a9d000afab8a61f5d8da0984583052"
   }
  }
 },
 "nbformat": 4,
 "nbformat_minor": 2
}
