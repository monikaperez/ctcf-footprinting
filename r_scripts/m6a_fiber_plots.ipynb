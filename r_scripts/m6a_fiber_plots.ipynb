{
 "cells": [
  {
   "cell_type": "markdown",
   "metadata": {},
   "source": [
    "# Make per fiber m6a density plots"
   ]
  },
  {
   "cell_type": "code",
   "execution_count": 327,
   "metadata": {
    "vscode": {
     "languageId": "r"
    }
   },
   "outputs": [
    {
     "name": "stderr",
     "output_type": "stream",
     "text": [
      "\n",
      "Attaching package: 'purrr'\n",
      "\n",
      "\n",
      "The following object is masked from 'package:data.table':\n",
      "\n",
      "    transpose\n",
      "\n",
      "\n"
     ]
    }
   ],
   "source": [
    "library(ggplot2)\n",
    "library(data.table)\n",
    "library(dplyr)\n",
    "library(tictoc)\n",
    "library(ggsci)\n",
    "library(purrr)"
   ]
  },
  {
   "cell_type": "code",
   "execution_count": 2,
   "metadata": {
    "vscode": {
     "languageId": "r"
    }
   },
   "outputs": [],
   "source": [
    "while (!is.null(dev.list()))  dev.off()\n",
    "rm(list=ls())\n",
    "\n",
    "#------------ Helper Functions ------------\n",
    "# Initiate PDF\n",
    "openPDF <- function (output_file_fh, pdf_dims) {\n",
    "  print(sprintf(\"Saving plots to: %s\", output_file_fh))\n",
    "  # Open PDF\n",
    "  pdf(output_file_fh, width = pdf_dims[1], height = pdf_dims[2],\n",
    "      useDingbats=FALSE, family = \"ArialMT\")\n",
    "}\n",
    "\n",
    "# Close PDF\n",
    "closePDF <- function () {\n",
    "  while (!is.null(dev.list()))  dev.off()\n",
    "  print(\"File saved.\")\n",
    "}"
   ]
  },
  {
   "cell_type": "code",
   "execution_count": 3,
   "metadata": {
    "vscode": {
     "languageId": "r"
    }
   },
   "outputs": [],
   "source": [
    "#------------ Define dirs ------------\n",
    "setwd(\"/mmfs1/gscratch/stergachislab/mwperez/ctcf-footprinting\")\n",
    "\n",
    "#ARGS\n",
    "data_folder <- sprintf(\"%s/candidate_footprints\", getwd())\n",
    "mokapot_dir <- sprintf(\"%s/mokapot_res\", getwd())\n",
    "output_folder <- sprintf(\"%s/figures\", getwd())"
   ]
  },
  {
   "cell_type": "code",
   "execution_count": 81,
   "metadata": {
    "vscode": {
     "languageId": "r"
    }
   },
   "outputs": [
    {
     "name": "stdout",
     "output_type": "stream",
     "text": [
      "[1] \"/mmfs1/gscratch/stergachislab/mvollger/projects/ctcf-footprinting/candidate_footprints/CTCF_m6a_fiberseq_100bp_fig_example_positive.txt\"\n"
     ]
    }
   ],
   "source": [
    "#------------ Step 1. Load data ------------\n",
    "\n",
    "# load data file\n",
    "data_file_name <- \"CTCF_m6a_fiberseq_100bp_fig_example_positive.txt\"\n",
    "data_file <- sprintf(\"%s/%s\", data_folder, data_file_name)\n",
    "print(data_file)"
   ]
  },
  {
   "cell_type": "code",
   "execution_count": 82,
   "metadata": {
    "vscode": {
     "languageId": "r"
    }
   },
   "outputs": [
    {
     "data": {
      "text/html": [
       "<style>\n",
       ".list-inline {list-style: none; margin:0; padding: 0}\n",
       ".list-inline>li {display: inline-block}\n",
       ".list-inline>li:not(:last-child)::after {content: \"\\00b7\"; padding: 0 .5ex}\n",
       "</style>\n",
       "<ol class=list-inline><li>2165</li><li>13</li></ol>\n"
      ],
      "text/latex": [
       "\\begin{enumerate*}\n",
       "\\item 2165\n",
       "\\item 13\n",
       "\\end{enumerate*}\n"
      ],
      "text/markdown": [
       "1. 2165\n",
       "2. 13\n",
       "\n",
       "\n"
      ],
      "text/plain": [
       "[1] 2165   13"
      ]
     },
     "metadata": {},
     "output_type": "display_data"
    }
   ],
   "source": [
    "# read table\n",
    "df <- fread(data_file)\n",
    "dim(df)"
   ]
  },
  {
   "cell_type": "code",
   "execution_count": 83,
   "metadata": {
    "vscode": {
     "languageId": "r"
    }
   },
   "outputs": [],
   "source": [
    "# add motif_name row\n",
    "df$motif_name <- paste(df$chrom, df$centering_position, df$strand, sep=\"_\")\n",
    "# move motif_name to first column\n",
    "df <- df %>%\n",
    "    select(\"motif_name\", everything())\n",
    "\n",
    "# add motif_query column\n",
    "df <- cbind(paste(df$motif_name, df$query_name, sep=\"/\"), df)\n",
    "# rename column\n",
    "colnames(df)[1] = \"motif_query\""
   ]
  },
  {
   "cell_type": "code",
   "execution_count": 84,
   "metadata": {
    "vscode": {
     "languageId": "r"
    }
   },
   "outputs": [
    {
     "data": {
      "text/html": [
       "<style>\n",
       ".list-inline {list-style: none; margin:0; padding: 0}\n",
       ".list-inline>li {display: inline-block}\n",
       ".list-inline>li:not(:last-child)::after {content: \"\\00b7\"; padding: 0 .5ex}\n",
       "</style>\n",
       "<ol class=list-inline><li>2054</li><li>15</li></ol>\n"
      ],
      "text/latex": [
       "\\begin{enumerate*}\n",
       "\\item 2054\n",
       "\\item 15\n",
       "\\end{enumerate*}\n"
      ],
      "text/markdown": [
       "1. 2054\n",
       "2. 15\n",
       "\n",
       "\n"
      ],
      "text/plain": [
       "[1] 2054   15"
      ]
     },
     "metadata": {},
     "output_type": "display_data"
    }
   ],
   "source": [
    "# get only m6a & msp rows\n",
    "df <- df[df$centered_position_type %in% c(\"m6a\", \"msp\")]\n",
    "dim(df)"
   ]
  },
  {
   "cell_type": "code",
   "execution_count": 85,
   "metadata": {
    "vscode": {
     "languageId": "r"
    }
   },
   "outputs": [
    {
     "data": {
      "text/html": [
       "<style>\n",
       ".list-inline {list-style: none; margin:0; padding: 0}\n",
       ".list-inline>li {display: inline-block}\n",
       ".list-inline>li:not(:last-child)::after {content: \"\\00b7\"; padding: 0 .5ex}\n",
       "</style>\n",
       "<ol class=list-inline><li>1878</li><li>15</li></ol>\n"
      ],
      "text/latex": [
       "\\begin{enumerate*}\n",
       "\\item 1878\n",
       "\\item 15\n",
       "\\end{enumerate*}\n"
      ],
      "text/markdown": [
       "1. 1878\n",
       "2. 15\n",
       "\n",
       "\n"
      ],
      "text/plain": [
       "[1] 1878   15"
      ]
     },
     "metadata": {},
     "output_type": "display_data"
    }
   ],
   "source": [
    "# get only instances with motifs within an msp\n",
    "df <- df %>%\n",
    "        group_by(chrom, centering_position, strand, query_name) %>%\n",
    "        filter(any(centered_position_type == \"msp\" & centered_start <= 0 & centered_end >= 35))\n",
    "dim(df)"
   ]
  },
  {
   "cell_type": "code",
   "execution_count": 93,
   "metadata": {
    "vscode": {
     "languageId": "r"
    }
   },
   "outputs": [],
   "source": [
    "# get only m6a instances\n",
    "df <- filter(df, centered_position_type == \"m6a\")"
   ]
  },
  {
   "cell_type": "code",
   "execution_count": null,
   "metadata": {
    "vscode": {
     "languageId": "r"
    }
   },
   "outputs": [],
   "source": []
  },
  {
   "cell_type": "code",
   "execution_count": null,
   "metadata": {
    "vscode": {
     "languageId": "r"
    }
   },
   "outputs": [],
   "source": []
  },
  {
   "attachments": {},
   "cell_type": "markdown",
   "metadata": {},
   "source": [
    "### unsorted"
   ]
  },
  {
   "cell_type": "code",
   "execution_count": 581,
   "metadata": {
    "vscode": {
     "languageId": "r"
    }
   },
   "outputs": [
    {
     "data": {
      "text/html": [
       "'/mmfs1/gscratch/stergachislab/mvollger/projects/ctcf-footprinting/mokapot_res/CTCF_L.mokapot.m6a_fiberseq-positive.txt'"
      ],
      "text/latex": [
       "'/mmfs1/gscratch/stergachislab/mvollger/projects/ctcf-footprinting/mokapot\\_res/CTCF\\_L.mokapot.m6a\\_fiberseq-positive.txt'"
      ],
      "text/markdown": [
       "'/mmfs1/gscratch/stergachislab/mvollger/projects/ctcf-footprinting/mokapot_res/CTCF_L.mokapot.m6a_fiberseq-positive.txt'"
      ],
      "text/plain": [
       "[1] \"/mmfs1/gscratch/stergachislab/mvollger/projects/ctcf-footprinting/mokapot_res/CTCF_L.mokapot.m6a_fiberseq-positive.txt\""
      ]
     },
     "metadata": {},
     "output_type": "display_data"
    },
    {
     "data": {
      "text/html": [
       "<style>\n",
       ".list-inline {list-style: none; margin:0; padding: 0}\n",
       ".list-inline>li {display: inline-block}\n",
       ".list-inline>li:not(:last-child)::after {content: \"\\00b7\"; padding: 0 .5ex}\n",
       "</style>\n",
       "<ol class=list-inline><li>9498533</li><li>18</li></ol>\n"
      ],
      "text/latex": [
       "\\begin{enumerate*}\n",
       "\\item 9498533\n",
       "\\item 18\n",
       "\\end{enumerate*}\n"
      ],
      "text/markdown": [
       "1. 9498533\n",
       "2. 18\n",
       "\n",
       "\n"
      ],
      "text/plain": [
       "[1] 9498533      18"
      ]
     },
     "metadata": {},
     "output_type": "display_data"
    }
   ],
   "source": [
    "# read in mokapot res\n",
    "data_file_name <- \"CTCF_L.mokapot.m6a_fiberseq-positive.txt\"\n",
    "data_file <- sprintf(\"%s/%s\", mokapot_dir, data_file_name)\n",
    "data_file\n",
    "\n",
    "# read table\n",
    "moka <- fread(data_file)\n",
    "dim(moka)"
   ]
  },
  {
   "cell_type": "code",
   "execution_count": 547,
   "metadata": {
    "vscode": {
     "languageId": "r"
    }
   },
   "outputs": [
    {
     "data": {
      "text/html": [
       "<style>\n",
       ".list-inline {list-style: none; margin:0; padding: 0}\n",
       ".list-inline>li {display: inline-block}\n",
       ".list-inline>li:not(:last-child)::after {content: \"\\00b7\"; padding: 0 .5ex}\n",
       "</style>\n",
       "<ol class=list-inline><li>1829</li><li>18</li></ol>\n"
      ],
      "text/latex": [
       "\\begin{enumerate*}\n",
       "\\item 1829\n",
       "\\item 18\n",
       "\\end{enumerate*}\n"
      ],
      "text/markdown": [
       "1. 1829\n",
       "2. 18\n",
       "\n",
       "\n"
      ],
      "text/plain": [
       "[1] 1829   18"
      ]
     },
     "metadata": {},
     "output_type": "display_data"
    }
   ],
   "source": [
    "# get motif_query instances from original data\n",
    "moka <- filter(moka, motif_query %in% df$motif_query)\n",
    "# rename column\n",
    "names(moka)[names(moka) == \"mokapot q-value\"] <- \"mokapot_FDR\"\n",
    "dim(moka)"
   ]
  },
  {
   "cell_type": "code",
   "execution_count": 548,
   "metadata": {
    "vscode": {
     "languageId": "r"
    }
   },
   "outputs": [
    {
     "data": {
      "text/plain": [
       "\n",
       "0.0005441950985546 0.0006269210340714  0.000636006566338 0.0006579724326421 \n",
       "                36                 33                 29                 27 \n",
       "0.0007237831903387 0.0007415109090762 0.0008741929052344 0.0009068255770535 \n",
       "                38                 26                 61                 83 \n",
       " 0.000911064883004   0.00102436960443 0.0013416261885432 0.0013816761160607 \n",
       "                24                 31                 35                 26 \n",
       "0.0015099137759764 0.0017182571230733 0.0018007657993504 0.0018271054239829 \n",
       "                24                 95                 99                 40 \n",
       "0.0019124970505321 0.0020355987447141 0.0025839939706807 0.0026329142470541 \n",
       "                23                 54                 47                 26 \n",
       "0.0028668389357761 0.0029253186606575 0.0031472396312611 0.0036783969598975 \n",
       "                52                 51                 40                 25 \n",
       "0.0039551403814628 0.0042039752295185 0.0048083700884135 0.0048989097917963 \n",
       "                48                 48                 35                 51 \n",
       "0.0050516154176701 0.0056979081585241 0.0058443330928659 0.0060373588858284 \n",
       "                47                 46                 41                 49 \n",
       "0.0067686340447484 0.0069341988787252 0.0077488109421465 0.0102023092323585 \n",
       "                27                 49                 33                 42 \n",
       "0.0110876906688425 0.0148052812604016 0.0151508435358469 0.0154107086711806 \n",
       "                47                 23                 44                 43 \n",
       "0.0166689444471385 0.0250963245162128 0.0326125639409492 0.0440027724978419 \n",
       "                37                 20                 11                 40 \n",
       "0.0720264688527353 \n",
       "                23 "
      ]
     },
     "metadata": {},
     "output_type": "display_data"
    }
   ],
   "source": [
    "table(moka$mokapot_FDR)"
   ]
  },
  {
   "cell_type": "code",
   "execution_count": 562,
   "metadata": {
    "vscode": {
     "languageId": "r"
    }
   },
   "outputs": [],
   "source": [
    "# plot m6a instances in coords\n",
    "motif_coords <- c(\"chr20\", 63786415, 63786450)"
   ]
  },
  {
   "cell_type": "code",
   "execution_count": 572,
   "metadata": {
    "vscode": {
     "languageId": "r"
    }
   },
   "outputs": [],
   "source": [
    "# make plotting data\n",
    "df_p <- moka[, c(\"motif_query\", \"motif_name\", \"query_name\", \"centered_start\", \"centered_end\", \"mokapot_FDR\")]"
   ]
  },
  {
   "cell_type": "code",
   "execution_count": 574,
   "metadata": {
    "vscode": {
     "languageId": "r"
    }
   },
   "outputs": [],
   "source": [
    "# sort by FDR value\n",
    "df_p <- df_p[order(df_p$mokapot_FDR)]"
   ]
  },
  {
   "cell_type": "code",
   "execution_count": 554,
   "metadata": {
    "vscode": {
     "languageId": "r"
    }
   },
   "outputs": [],
   "source": [
    "# create vector of 0s for m6a positions\n",
    "df_m6a <- data.frame(matrix(0, ncol = 49, nrow = 201))\n",
    "colnames(df_m6a) <- unique(df_p$query_name)\n",
    "rownames(df_m6a) <- 1:nrow(df_m6a)\n",
    "\n",
    "for (name in unique(df_p$query_name)) {\n",
    "    # add 101 to positions to make them positive & match index\n",
    "    m6a_positions <- df_p[df_p$query_name == name]$centered_start + 101\n",
    "    x <- numeric(201)\n",
    "    x[m6a_positions] <- 1\n",
    "    df_m6a[name] <- x\n",
    "}"
   ]
  },
  {
   "cell_type": "code",
   "execution_count": 495,
   "metadata": {
    "vscode": {
     "languageId": "r"
    }
   },
   "outputs": [],
   "source": [
    "# sort rows by similarity\n",
    "unsorted_df <- t(df_m6a)\n",
    "N <- nrow(unsorted_df)\n",
    "same1 <- function(x, y) sum((x+y) == 2, na.rm=TRUE)\n",
    "df_list <- unlist(apply(unsorted_df, 1, list),F,F)\n",
    "df_combos <- which(upper.tri(matrix(NA, nrow=N, ncol=N)),arr.ind=T) #expand.grid(1:length(df_list),1:length(df_list))\n",
    "commonality <- mapply(same1, df_list[df_combos[,1]], df_list[df_combos[,2]])\n",
    "best_match <- c()\n",
    "for(i in 1:length(df_list)){\n",
    "    best_match[i] <- max(commonality[apply(df_combos,1,function(x)i%in%x)])\n",
    "}\n",
    "\n",
    "sorted_df <- unsorted_df[order(best_match, decreasing=TRUE),]\n",
    "sorted_fibers <- rownames(sorted_df)\n",
    "\n",
    "# sort by similarity\n",
    "#df_p <- df_p %>% arrange(factor(query_name, levels=sorted_fibers))\n",
    "df_p$query_name <- factor(df_p$query_name, levels=sorted_fibers)\n",
    "df_p <- df_p[order(df_p$query_name)]"
   ]
  },
  {
   "cell_type": "code",
   "execution_count": 575,
   "metadata": {
    "vscode": {
     "languageId": "r"
    }
   },
   "outputs": [
    {
     "data": {
      "text/html": [
       "<style>\n",
       ".list-inline {list-style: none; margin:0; padding: 0}\n",
       ".list-inline>li {display: inline-block}\n",
       ".list-inline>li:not(:last-child)::after {content: \"\\00b7\"; padding: 0 .5ex}\n",
       "</style>\n",
       "<ol class=list-inline><li>1829</li><li>8</li></ol>\n"
      ],
      "text/latex": [
       "\\begin{enumerate*}\n",
       "\\item 1829\n",
       "\\item 8\n",
       "\\end{enumerate*}\n"
      ],
      "text/markdown": [
       "1. 1829\n",
       "2. 8\n",
       "\n",
       "\n"
      ],
      "text/plain": [
       "[1] 1829    8"
      ]
     },
     "metadata": {},
     "output_type": "display_data"
    }
   ],
   "source": [
    "# add col with y-axis coords\n",
    "y_min <- seq(from=0, by=1, length.out=length(unique(df_p$query_name)))\n",
    "y_max <- seq(from=0.75, by=1, length.out=length(unique(df_p$query_name)))\n",
    "\n",
    "y_min_vals <- setNames(y_min, unique(df_p$query_name))\n",
    "y_max_vals <- setNames(y_max, unique(moka$query_name))\n",
    "\n",
    "df_p <- df_p %>%\n",
    "            mutate(\n",
    "                y_min = y_min_vals[query_name],\n",
    "                y_max = y_max_vals[query_name]\n",
    "            )\n",
    "dim(df_p)"
   ]
  },
  {
   "cell_type": "code",
   "execution_count": 576,
   "metadata": {
    "vscode": {
     "languageId": "r"
    }
   },
   "outputs": [
    {
     "data": {
      "text/html": [
       "49"
      ],
      "text/latex": [
       "49"
      ],
      "text/markdown": [
       "49"
      ],
      "text/plain": [
       "[1] 49"
      ]
     },
     "metadata": {},
     "output_type": "display_data"
    }
   ],
   "source": [
    "# get plot limits\n",
    "x_min <- max(df_p$centered_start)\n",
    "x_max <- min(df_p$centered_end)\n",
    "# number of fibers\n",
    "n_fibers <- length(unique(df_p$query_name))\n",
    "n_fibers"
   ]
  },
  {
   "cell_type": "code",
   "execution_count": 567,
   "metadata": {
    "vscode": {
     "languageId": "r"
    }
   },
   "outputs": [],
   "source": [
    "# change plot dimensions\n",
    "options(repr.plot.width=20, repr.plot.height=10)\n",
    "\n",
    "set_plot_dimensions <- function(width_choice, height_choice) {\n",
    "        options(repr.plot.width=width_choice, repr.plot.height=height_choice)\n",
    "        }\n",
    "\n",
    "set_plot_dimensions(15, 7.5)"
   ]
  },
  {
   "cell_type": "code",
   "execution_count": 577,
   "metadata": {
    "vscode": {
     "languageId": "r"
    }
   },
   "outputs": [
    {
     "name": "stderr",
     "output_type": "stream",
     "text": [
      "\u001b[1m\u001b[22m`summarise()` has grouped output by 'y_min'. You can override using the\n",
      "`.groups` argument.\n"
     ]
    }
   ],
   "source": [
    "# coords for fiber info\n",
    "df_fiber <- df_p %>% \n",
    "                group_by(y_min, y_max) %>%\n",
    "                summarise(\n",
    "                    x_min = -100,\n",
    "                    x_max = 101,\n",
    "                )"
   ]
  },
  {
   "cell_type": "code",
   "execution_count": 502,
   "metadata": {
    "vscode": {
     "languageId": "r"
    }
   },
   "outputs": [],
   "source": [
    "# set plot parameters\n",
    "plot_title <- sprintf(\"m6a instances per fiber (%s) over %s: %s-%s\",length(unique(df_p$query_name)), motif_coords[1], motif_coords[2], motif_coords[3])\n",
    "x_axis_name <- \"area surrounding motif (bp)\"\n",
    "y_axis_name <- sprintf(\"%s fibers\", length(unique(df_p$query_name)))\n",
    "font_size <- 10\n",
    "font_info <- element_text(size=font_size, family=\"Arial\", color=\"black\")\n",
    "\n",
    "vline_col <- \"#CECDCC\"\n",
    "m6a_col <- \"#7F3F98\"\n",
    "fiber_col <- \"#D1D2D4\""
   ]
  },
  {
   "cell_type": "code",
   "execution_count": 503,
   "metadata": {
    "vscode": {
     "languageId": "r"
    }
   },
   "outputs": [
    {
     "data": {
      "image/png": "[encoded data removed]",
      "text/plain": [
       "plot without title"
      ]
     },
     "metadata": {
      "image/png": {
       "height": 450,
       "width": 900
      }
     },
     "output_type": "display_data"
    }
   ],
   "source": [
    "# plot! (sorted)\n",
    "\n",
    "p <- ggplot(df_p) +\n",
    "        geom_rect(aes(xmin=x_min, xmax=x_max, ymin=y_min, ymax=y_max), fill=fiber_col, data=df_fiber) +\n",
    "        geom_rect(aes(xmin=centered_start, xmax=centered_end, ymin=y_min, ymax=y_max), fill=m6a_col, data=df_p) +\n",
    "        #geom_hline(yintercept=0, color=vline_col,\n",
    "        #           show.legend=FALSE) +#, linetype=\"dashed\") +\n",
    "        #geom_vline(xintercept=0, color=vline_col,\n",
    "        #           show.legend=FALSE) + #, linetype=\"dashed\") +\n",
    "        # add box over motif location\n",
    "        annotate(\"rect\", xmin=0, xmax=35, ymin=-Inf, ymax=+Inf, alpha=0.075, fill=\"blue\") +\n",
    "        #coord_cartesian(ylim=c(0, 50)) +\n",
    "        scale_y_continuous(limits=c(0, 49), expand=expansion(add=c(0.5,0)), name=y_axis_name) +\n",
    "        ggtitle(plot_title) +\n",
    "        scale_x_continuous(name=x_axis_name, expand=expansion(add=c(5, 5))) +\n",
    "        theme_classic() +\n",
    "            theme(text = font_info,\n",
    "            axis.ticks = element_line(color=\"#000000\", lineend=\"square\"),\n",
    "            axis.text = font_info,\n",
    "            axis.line = element_blank(),\n",
    "            panel.background = element_blank(), #element_rect(fill=\"transparent\",\n",
    "                               #             color=\"#000000\", size=1),\n",
    "            #plot.margin = unit(c(0.5,0.5,0.5,0.5), \"cm\"),\n",
    "            plot.title = element_text(family=\"Arial\", size=12, hjust=0.5),\n",
    "            legend.position = \"none\")\n",
    "p"
   ]
  },
  {
   "cell_type": "code",
   "execution_count": null,
   "metadata": {
    "vscode": {
     "languageId": "r"
    }
   },
   "outputs": [],
   "source": []
  },
  {
   "cell_type": "code",
   "execution_count": null,
   "metadata": {
    "vscode": {
     "languageId": "r"
    }
   },
   "outputs": [],
   "source": []
  },
  {
   "cell_type": "markdown",
   "metadata": {},
   "source": [
    "### colored & sorted by FDR"
   ]
  },
  {
   "cell_type": "code",
   "execution_count": 582,
   "metadata": {
    "vscode": {
     "languageId": "r"
    }
   },
   "outputs": [
    {
     "data": {
      "text/html": [
       "'/mmfs1/gscratch/stergachislab/mvollger/projects/ctcf-footprinting/mokapot_res/CTCF_L.mokapot.m6a_fiberseq-positive.txt'"
      ],
      "text/latex": [
       "'/mmfs1/gscratch/stergachislab/mvollger/projects/ctcf-footprinting/mokapot\\_res/CTCF\\_L.mokapot.m6a\\_fiberseq-positive.txt'"
      ],
      "text/markdown": [
       "'/mmfs1/gscratch/stergachislab/mvollger/projects/ctcf-footprinting/mokapot_res/CTCF_L.mokapot.m6a_fiberseq-positive.txt'"
      ],
      "text/plain": [
       "[1] \"/mmfs1/gscratch/stergachislab/mvollger/projects/ctcf-footprinting/mokapot_res/CTCF_L.mokapot.m6a_fiberseq-positive.txt\""
      ]
     },
     "metadata": {},
     "output_type": "display_data"
    },
    {
     "data": {
      "text/html": [
       "<style>\n",
       ".list-inline {list-style: none; margin:0; padding: 0}\n",
       ".list-inline>li {display: inline-block}\n",
       ".list-inline>li:not(:last-child)::after {content: \"\\00b7\"; padding: 0 .5ex}\n",
       "</style>\n",
       "<ol class=list-inline><li>9498533</li><li>18</li></ol>\n"
      ],
      "text/latex": [
       "\\begin{enumerate*}\n",
       "\\item 9498533\n",
       "\\item 18\n",
       "\\end{enumerate*}\n"
      ],
      "text/markdown": [
       "1. 9498533\n",
       "2. 18\n",
       "\n",
       "\n"
      ],
      "text/plain": [
       "[1] 9498533      18"
      ]
     },
     "metadata": {},
     "output_type": "display_data"
    }
   ],
   "source": [
    "# read in mokapot res\n",
    "data_file_name <- \"CTCF_L.mokapot.m6a_fiberseq-positive.txt\"\n",
    "data_file <- sprintf(\"%s/%s\", mokapot_dir, data_file_name)\n",
    "data_file\n",
    "\n",
    "# read table\n",
    "moka <- fread(data_file)\n",
    "dim(moka)"
   ]
  },
  {
   "cell_type": "code",
   "execution_count": 595,
   "metadata": {
    "vscode": {
     "languageId": "r"
    }
   },
   "outputs": [
    {
     "data": {
      "text/html": [
       "<style>\n",
       ".list-inline {list-style: none; margin:0; padding: 0}\n",
       ".list-inline>li {display: inline-block}\n",
       ".list-inline>li:not(:last-child)::after {content: \"\\00b7\"; padding: 0 .5ex}\n",
       "</style>\n",
       "<ol class=list-inline><li>1829</li><li>18</li></ol>\n"
      ],
      "text/latex": [
       "\\begin{enumerate*}\n",
       "\\item 1829\n",
       "\\item 18\n",
       "\\end{enumerate*}\n"
      ],
      "text/markdown": [
       "1. 1829\n",
       "2. 18\n",
       "\n",
       "\n"
      ],
      "text/plain": [
       "[1] 1829   18"
      ]
     },
     "metadata": {},
     "output_type": "display_data"
    }
   ],
   "source": [
    "# get motif_query instances from original data\n",
    "moka <- filter(moka, motif_query %in% df$motif_query)\n",
    "# rename column\n",
    "names(moka)[names(moka) == \"mokapot q-value\"] <- \"mokapot_FDR\"\n",
    "dim(moka)"
   ]
  },
  {
   "cell_type": "code",
   "execution_count": 596,
   "metadata": {
    "vscode": {
     "languageId": "r"
    }
   },
   "outputs": [],
   "source": [
    "# plot m6a instances in coords\n",
    "motif_coords <- c(\"chr20\", 63786415, 63786450)"
   ]
  },
  {
   "cell_type": "code",
   "execution_count": 607,
   "metadata": {
    "vscode": {
     "languageId": "r"
    }
   },
   "outputs": [],
   "source": [
    "# make plotting data\n",
    "df_p <- moka[, c(\"motif_query\", \"motif_name\", \"query_name\", \"centered_start\", \"centered_end\", \"mokapot_FDR\")]"
   ]
  },
  {
   "cell_type": "code",
   "execution_count": 608,
   "metadata": {
    "vscode": {
     "languageId": "r"
    }
   },
   "outputs": [],
   "source": [
    "# sort by FDR value\n",
    "df_p <- df_p[order(df_p$mokapot_FDR)]\n",
    "#df_p$query_name <- factor(df_p$mokapot_FDR, levels=unique(df_p$query_name))\n",
    "#df_p <- df_p[order(df_p$query_name)]"
   ]
  },
  {
   "cell_type": "code",
   "execution_count": 609,
   "metadata": {
    "vscode": {
     "languageId": "r"
    }
   },
   "outputs": [
    {
     "data": {
      "text/html": [
       "<style>\n",
       ".list-inline {list-style: none; margin:0; padding: 0}\n",
       ".list-inline>li {display: inline-block}\n",
       ".list-inline>li:not(:last-child)::after {content: \"\\00b7\"; padding: 0 .5ex}\n",
       "</style>\n",
       "<ol class=list-inline><li>1829</li><li>8</li></ol>\n"
      ],
      "text/latex": [
       "\\begin{enumerate*}\n",
       "\\item 1829\n",
       "\\item 8\n",
       "\\end{enumerate*}\n"
      ],
      "text/markdown": [
       "1. 1829\n",
       "2. 8\n",
       "\n",
       "\n"
      ],
      "text/plain": [
       "[1] 1829    8"
      ]
     },
     "metadata": {},
     "output_type": "display_data"
    }
   ],
   "source": [
    "# add col with y-axis coords\n",
    "y_min <- seq(from=0, by=1, length.out=length(unique(df_p$query_name)))\n",
    "y_max <- seq(from=0.75, by=1, length.out=length(unique(df_p$query_name)))\n",
    "\n",
    "y_min_vals <- setNames(y_min, unique(df_p$query_name))\n",
    "y_max_vals <- setNames(y_max, unique(df_p$query_name))\n",
    "\n",
    "df_p <- df_p %>%\n",
    "            mutate(\n",
    "                y_min = y_min_vals[query_name],\n",
    "                y_max = y_max_vals[query_name]\n",
    "            )\n",
    "dim(df_p)"
   ]
  },
  {
   "cell_type": "code",
   "execution_count": 610,
   "metadata": {
    "vscode": {
     "languageId": "r"
    }
   },
   "outputs": [
    {
     "data": {
      "text/html": [
       "49"
      ],
      "text/latex": [
       "49"
      ],
      "text/markdown": [
       "49"
      ],
      "text/plain": [
       "[1] 49"
      ]
     },
     "metadata": {},
     "output_type": "display_data"
    }
   ],
   "source": [
    "# get plot limits\n",
    "x_min <- max(df_p$centered_start)\n",
    "x_max <- min(df_p$centered_end)\n",
    "# number of fibers\n",
    "n_fibers <- length(unique(df_p$query_name))\n",
    "n_fibers"
   ]
  },
  {
   "cell_type": "code",
   "execution_count": 611,
   "metadata": {
    "vscode": {
     "languageId": "r"
    }
   },
   "outputs": [
    {
     "name": "stderr",
     "output_type": "stream",
     "text": [
      "\u001b[1m\u001b[22m`summarise()` has grouped output by 'y_min'. You can override using the\n",
      "`.groups` argument.\n"
     ]
    }
   ],
   "source": [
    "# coords for fiber info\n",
    "df_fiber <- df_p %>% \n",
    "                group_by(y_min, y_max) %>%\n",
    "                summarise(\n",
    "                    x_min = -100,\n",
    "                    x_max = 101,     \n",
    "                )"
   ]
  },
  {
   "cell_type": "code",
   "execution_count": 612,
   "metadata": {
    "vscode": {
     "languageId": "r"
    }
   },
   "outputs": [],
   "source": [
    "# add color based on FDR value\n",
    "# red, blue\n",
    "fill_cols <- c(\"#be282d\", \"#2a3d8c\")\n",
    "FDR_threshold <- 0.01\n",
    "\n",
    "df_p$fill_col <- ifelse(df_p$mokapot_FDR <= FDR_threshold, fill_cols[1], fill_cols[2])\n",
    "df_p$FDR_group <- ifelse(df_p$mokapot_FDR <= FDR_threshold, \"low_FDR\", \"high_FDR\")"
   ]
  },
  {
   "cell_type": "code",
   "execution_count": 613,
   "metadata": {
    "vscode": {
     "languageId": "r"
    }
   },
   "outputs": [],
   "source": [
    "# set plot parameters\n",
    "plot_title <- sprintf(\"m6a instances per fiber (%s) over %s: %s-%s\\nFDR < %s\", \n",
    "                length(unique(df_p$query_name)), motif_coords[1], motif_coords[2], motif_coords[3], FDR_threshold)\n",
    "x_axis_name <- \"area surrounding motif (bp)\"\n",
    "y_axis_name <- sprintf(\"%s fibers\", length(unique(df_p$query_name)))\n",
    "font_size <- 10\n",
    "font_info <- element_text(size=font_size, family=\"Arial\", color=\"black\")\n",
    "\n",
    "vline_col <- \"#CECDCC\"\n",
    "m6a_col <- \"#7F3F98\"\n",
    "fiber_col <- \"#D1D2D4\""
   ]
  },
  {
   "cell_type": "code",
   "execution_count": 614,
   "metadata": {
    "vscode": {
     "languageId": "r"
    }
   },
   "outputs": [
    {
     "data": {
      "image/png": "[encoded data removed]",
      "text/plain": [
       "plot without title"
      ]
     },
     "metadata": {
      "image/png": {
       "height": 450,
       "width": 900
      }
     },
     "output_type": "display_data"
    }
   ],
   "source": [
    "# plot (colored by FDR)\n",
    "\n",
    "p <- ggplot(df_p) +\n",
    "        geom_rect(aes(xmin=x_min, xmax=x_max, ymin=y_min, ymax=y_max), fill=fiber_col, data=df_fiber) +\n",
    "        geom_rect(aes(xmin=centered_start, xmax=centered_end, ymin=y_min, ymax=y_max, group=FDR_group), fill=df_p$fill_col, data=df_p) +\n",
    "        scale_color_identity() +\n",
    "        # add box over motif location\n",
    "        annotate(\"rect\", xmin=0, xmax=35, ymin=-Inf, ymax=+Inf, alpha=0.075, fill=\"blue\") +\n",
    "        #coord_cartesian(ylim=c(0, 50)) +\n",
    "        scale_y_continuous(limits=c(0, 49), expand=expansion(add=c(0.5,0)), name=y_axis_name) +\n",
    "        ggtitle(plot_title) +\n",
    "        scale_x_continuous(name=x_axis_name, expand=expansion(add=c(5, 5))) +\n",
    "        theme_classic() +\n",
    "            theme(text = font_info,\n",
    "            axis.ticks = element_line(color=\"#000000\", lineend=\"square\"),\n",
    "            axis.text = font_info,\n",
    "            axis.line = element_blank(),\n",
    "            panel.background = element_blank(), #element_rect(fill=\"transparent\",\n",
    "                               #             color=\"#000000\", size=1),\n",
    "            #plot.margin = unit(c(0.5,0.5,0.5,0.5), \"cm\"),\n",
    "            plot.title = element_text(family=\"Arial\", size=12, hjust=0.5),\n",
    "            legend.position = \"none\")\n",
    "p"
   ]
  },
  {
   "cell_type": "code",
   "execution_count": 631,
   "metadata": {
    "vscode": {
     "languageId": "r"
    }
   },
   "outputs": [
    {
     "data": {
      "text/html": [
       "<style>\n",
       ".list-inline {list-style: none; margin:0; padding: 0}\n",
       ".list-inline>li {display: inline-block}\n",
       ".list-inline>li:not(:last-child)::after {content: \"\\00b7\"; padding: 0 .5ex}\n",
       "</style>\n",
       "<ol class=list-inline><li>1829</li><li>10</li></ol>\n"
      ],
      "text/latex": [
       "\\begin{enumerate*}\n",
       "\\item 1829\n",
       "\\item 10\n",
       "\\end{enumerate*}\n"
      ],
      "text/markdown": [
       "1. 1829\n",
       "2. 10\n",
       "\n",
       "\n"
      ],
      "text/plain": [
       "[1] 1829   10"
      ]
     },
     "metadata": {},
     "output_type": "display_data"
    },
    {
     "data": {
      "text/html": [
       "15"
      ],
      "text/latex": [
       "15"
      ],
      "text/markdown": [
       "15"
      ],
      "text/plain": [
       "[1] 15"
      ]
     },
     "metadata": {},
     "output_type": "display_data"
    }
   ],
   "source": [
    "dim(df_p)\n",
    "length(unique(df_p[1:450]$query_name))"
   ]
  },
  {
   "cell_type": "code",
   "execution_count": 632,
   "metadata": {
    "vscode": {
     "languageId": "r"
    }
   },
   "outputs": [
    {
     "data": {
      "text/html": [
       "<style>\n",
       ".list-inline {list-style: none; margin:0; padding: 0}\n",
       ".list-inline>li {display: inline-block}\n",
       ".list-inline>li:not(:last-child)::after {content: \"\\00b7\"; padding: 0 .5ex}\n",
       "</style>\n",
       "<ol class=list-inline><li>0.0005441950985546</li><li>0.0006269210340714</li><li>0.000636006566338</li><li>0.0006579724326421</li><li>0.0007237831903387</li><li>0.0007415109090762</li><li>0.0008741929052344</li><li>0.0009068255770535</li><li>0.000911064883004</li><li>0.00102436960443</li><li>0.0013416261885432</li><li>0.0013816761160607</li><li>0.0015099137759764</li></ol>\n"
      ],
      "text/latex": [
       "\\begin{enumerate*}\n",
       "\\item 0.0005441950985546\n",
       "\\item 0.0006269210340714\n",
       "\\item 0.000636006566338\n",
       "\\item 0.0006579724326421\n",
       "\\item 0.0007237831903387\n",
       "\\item 0.0007415109090762\n",
       "\\item 0.0008741929052344\n",
       "\\item 0.0009068255770535\n",
       "\\item 0.000911064883004\n",
       "\\item 0.00102436960443\n",
       "\\item 0.0013416261885432\n",
       "\\item 0.0013816761160607\n",
       "\\item 0.0015099137759764\n",
       "\\end{enumerate*}\n"
      ],
      "text/markdown": [
       "1. 0.0005441950985546\n",
       "2. 0.0006269210340714\n",
       "3. 0.000636006566338\n",
       "4. 0.0006579724326421\n",
       "5. 0.0007237831903387\n",
       "6. 0.0007415109090762\n",
       "7. 0.0008741929052344\n",
       "8. 0.0009068255770535\n",
       "9. 0.000911064883004\n",
       "10. 0.00102436960443\n",
       "11. 0.0013416261885432\n",
       "12. 0.0013816761160607\n",
       "13. 0.0015099137759764\n",
       "\n",
       "\n"
      ],
      "text/plain": [
       " [1] 0.0005441951 0.0006269210 0.0006360066 0.0006579724 0.0007237832\n",
       " [6] 0.0007415109 0.0008741929 0.0009068256 0.0009110649 0.0010243696\n",
       "[11] 0.0013416262 0.0013816761 0.0015099138"
      ]
     },
     "metadata": {},
     "output_type": "display_data"
    }
   ],
   "source": [
    "sort(unique(df_p[1:450]$mokapot_FDR))"
   ]
  },
  {
   "cell_type": "code",
   "execution_count": null,
   "metadata": {
    "vscode": {
     "languageId": "r"
    }
   },
   "outputs": [],
   "source": []
  },
  {
   "cell_type": "code",
   "execution_count": null,
   "metadata": {
    "vscode": {
     "languageId": "r"
    }
   },
   "outputs": [],
   "source": []
  },
  {
   "cell_type": "code",
   "execution_count": null,
   "metadata": {
    "vscode": {
     "languageId": "r"
    }
   },
   "outputs": [],
   "source": []
  },
  {
   "cell_type": "code",
   "execution_count": null,
   "metadata": {
    "vscode": {
     "languageId": "r"
    }
   },
   "outputs": [],
   "source": []
  },
  {
   "cell_type": "code",
   "execution_count": null,
   "metadata": {
    "vscode": {
     "languageId": "r"
    }
   },
   "outputs": [],
   "source": []
  },
  {
   "cell_type": "code",
   "execution_count": null,
   "metadata": {
    "vscode": {
     "languageId": "r"
    }
   },
   "outputs": [],
   "source": []
  },
  {
   "cell_type": "code",
   "execution_count": null,
   "metadata": {
    "vscode": {
     "languageId": "r"
    }
   },
   "outputs": [],
   "source": []
  },
  {
   "cell_type": "code",
   "execution_count": null,
   "metadata": {
    "vscode": {
     "languageId": "r"
    }
   },
   "outputs": [],
   "source": []
  },
  {
   "cell_type": "code",
   "execution_count": null,
   "metadata": {
    "vscode": {
     "languageId": "r"
    }
   },
   "outputs": [],
   "source": []
  },
  {
   "cell_type": "code",
   "execution_count": null,
   "metadata": {
    "vscode": {
     "languageId": "r"
    }
   },
   "outputs": [],
   "source": []
  },
  {
   "cell_type": "code",
   "execution_count": null,
   "metadata": {
    "vscode": {
     "languageId": "r"
    }
   },
   "outputs": [],
   "source": []
  },
  {
   "cell_type": "code",
   "execution_count": null,
   "metadata": {
    "vscode": {
     "languageId": "r"
    }
   },
   "outputs": [],
   "source": []
  },
  {
   "cell_type": "code",
   "execution_count": null,
   "metadata": {
    "vscode": {
     "languageId": "r"
    }
   },
   "outputs": [],
   "source": []
  },
  {
   "cell_type": "code",
   "execution_count": null,
   "metadata": {
    "vscode": {
     "languageId": "r"
    }
   },
   "outputs": [],
   "source": []
  },
  {
   "cell_type": "code",
   "execution_count": null,
   "metadata": {
    "vscode": {
     "languageId": "r"
    }
   },
   "outputs": [],
   "source": []
  },
  {
   "cell_type": "code",
   "execution_count": null,
   "metadata": {
    "vscode": {
     "languageId": "r"
    }
   },
   "outputs": [],
   "source": []
  },
  {
   "cell_type": "code",
   "execution_count": null,
   "metadata": {
    "vscode": {
     "languageId": "r"
    }
   },
   "outputs": [],
   "source": []
  },
  {
   "cell_type": "code",
   "execution_count": null,
   "metadata": {
    "vscode": {
     "languageId": "r"
    }
   },
   "outputs": [],
   "source": []
  },
  {
   "cell_type": "code",
   "execution_count": null,
   "metadata": {
    "vscode": {
     "languageId": "r"
    }
   },
   "outputs": [],
   "source": []
  },
  {
   "cell_type": "code",
   "execution_count": null,
   "metadata": {
    "vscode": {
     "languageId": "r"
    }
   },
   "outputs": [],
   "source": []
  },
  {
   "cell_type": "code",
   "execution_count": null,
   "metadata": {
    "vscode": {
     "languageId": "r"
    }
   },
   "outputs": [],
   "source": []
  },
  {
   "cell_type": "code",
   "execution_count": null,
   "metadata": {
    "vscode": {
     "languageId": "r"
    }
   },
   "outputs": [],
   "source": []
  },
  {
   "cell_type": "code",
   "execution_count": null,
   "metadata": {
    "vscode": {
     "languageId": "r"
    }
   },
   "outputs": [],
   "source": []
  },
  {
   "cell_type": "code",
   "execution_count": null,
   "metadata": {
    "vscode": {
     "languageId": "r"
    }
   },
   "outputs": [],
   "source": []
  },
  {
   "cell_type": "code",
   "execution_count": null,
   "metadata": {
    "vscode": {
     "languageId": "r"
    }
   },
   "outputs": [],
   "source": []
  },
  {
   "cell_type": "code",
   "execution_count": null,
   "metadata": {
    "vscode": {
     "languageId": "r"
    }
   },
   "outputs": [],
   "source": []
  },
  {
   "cell_type": "code",
   "execution_count": null,
   "metadata": {
    "vscode": {
     "languageId": "r"
    }
   },
   "outputs": [],
   "source": []
  },
  {
   "cell_type": "code",
   "execution_count": null,
   "metadata": {
    "vscode": {
     "languageId": "r"
    }
   },
   "outputs": [],
   "source": []
  },
  {
   "cell_type": "code",
   "execution_count": null,
   "metadata": {
    "vscode": {
     "languageId": "r"
    }
   },
   "outputs": [],
   "source": []
  },
  {
   "cell_type": "code",
   "execution_count": null,
   "metadata": {
    "vscode": {
     "languageId": "r"
    }
   },
   "outputs": [],
   "source": []
  },
  {
   "cell_type": "code",
   "execution_count": null,
   "metadata": {
    "vscode": {
     "languageId": "r"
    }
   },
   "outputs": [],
   "source": []
  },
  {
   "cell_type": "code",
   "execution_count": null,
   "metadata": {
    "vscode": {
     "languageId": "r"
    }
   },
   "outputs": [],
   "source": []
  },
  {
   "cell_type": "code",
   "execution_count": null,
   "metadata": {
    "vscode": {
     "languageId": "r"
    }
   },
   "outputs": [],
   "source": []
  },
  {
   "cell_type": "code",
   "execution_count": null,
   "metadata": {
    "vscode": {
     "languageId": "r"
    }
   },
   "outputs": [],
   "source": []
  },
  {
   "cell_type": "code",
   "execution_count": null,
   "metadata": {
    "vscode": {
     "languageId": "r"
    }
   },
   "outputs": [],
   "source": []
  },
  {
   "cell_type": "code",
   "execution_count": null,
   "metadata": {
    "vscode": {
     "languageId": "r"
    }
   },
   "outputs": [],
   "source": []
  },
  {
   "cell_type": "code",
   "execution_count": null,
   "metadata": {
    "vscode": {
     "languageId": "r"
    }
   },
   "outputs": [],
   "source": []
  },
  {
   "cell_type": "code",
   "execution_count": null,
   "metadata": {
    "vscode": {
     "languageId": "r"
    }
   },
   "outputs": [],
   "source": []
  },
  {
   "cell_type": "code",
   "execution_count": null,
   "metadata": {
    "vscode": {
     "languageId": "r"
    }
   },
   "outputs": [],
   "source": []
  },
  {
   "cell_type": "code",
   "execution_count": null,
   "metadata": {
    "vscode": {
     "languageId": "r"
    }
   },
   "outputs": [],
   "source": []
  },
  {
   "cell_type": "code",
   "execution_count": null,
   "metadata": {
    "vscode": {
     "languageId": "r"
    }
   },
   "outputs": [],
   "source": []
  },
  {
   "cell_type": "code",
   "execution_count": null,
   "metadata": {
    "vscode": {
     "languageId": "r"
    }
   },
   "outputs": [],
   "source": []
  },
  {
   "cell_type": "code",
   "execution_count": null,
   "metadata": {
    "vscode": {
     "languageId": "r"
    }
   },
   "outputs": [],
   "source": []
  },
  {
   "cell_type": "code",
   "execution_count": null,
   "metadata": {
    "vscode": {
     "languageId": "r"
    }
   },
   "outputs": [],
   "source": []
  },
  {
   "cell_type": "code",
   "execution_count": null,
   "metadata": {
    "vscode": {
     "languageId": "r"
    }
   },
   "outputs": [],
   "source": []
  },
  {
   "cell_type": "code",
   "execution_count": null,
   "metadata": {
    "vscode": {
     "languageId": "r"
    }
   },
   "outputs": [],
   "source": []
  },
  {
   "cell_type": "code",
   "execution_count": null,
   "metadata": {
    "vscode": {
     "languageId": "r"
    }
   },
   "outputs": [],
   "source": []
  },
  {
   "cell_type": "code",
   "execution_count": null,
   "metadata": {
    "vscode": {
     "languageId": "r"
    }
   },
   "outputs": [],
   "source": []
  },
  {
   "cell_type": "code",
   "execution_count": null,
   "metadata": {
    "vscode": {
     "languageId": "r"
    }
   },
   "outputs": [],
   "source": []
  },
  {
   "cell_type": "code",
   "execution_count": null,
   "metadata": {
    "vscode": {
     "languageId": "r"
    }
   },
   "outputs": [],
   "source": []
  },
  {
   "cell_type": "code",
   "execution_count": null,
   "metadata": {
    "vscode": {
     "languageId": "r"
    }
   },
   "outputs": [],
   "source": []
  },
  {
   "cell_type": "code",
   "execution_count": null,
   "metadata": {
    "vscode": {
     "languageId": "r"
    }
   },
   "outputs": [],
   "source": []
  },
  {
   "cell_type": "code",
   "execution_count": null,
   "metadata": {
    "vscode": {
     "languageId": "r"
    }
   },
   "outputs": [],
   "source": []
  },
  {
   "cell_type": "code",
   "execution_count": null,
   "metadata": {
    "vscode": {
     "languageId": "r"
    }
   },
   "outputs": [],
   "source": []
  },
  {
   "cell_type": "code",
   "execution_count": null,
   "metadata": {
    "vscode": {
     "languageId": "r"
    }
   },
   "outputs": [],
   "source": []
  },
  {
   "cell_type": "code",
   "execution_count": null,
   "metadata": {
    "vscode": {
     "languageId": "r"
    }
   },
   "outputs": [],
   "source": []
  },
  {
   "cell_type": "code",
   "execution_count": null,
   "metadata": {
    "vscode": {
     "languageId": "r"
    }
   },
   "outputs": [],
   "source": []
  },
  {
   "cell_type": "code",
   "execution_count": null,
   "metadata": {
    "vscode": {
     "languageId": "r"
    }
   },
   "outputs": [],
   "source": []
  },
  {
   "cell_type": "code",
   "execution_count": null,
   "metadata": {
    "vscode": {
     "languageId": "r"
    }
   },
   "outputs": [],
   "source": []
  },
  {
   "cell_type": "code",
   "execution_count": null,
   "metadata": {
    "vscode": {
     "languageId": "r"
    }
   },
   "outputs": [],
   "source": []
  },
  {
   "cell_type": "code",
   "execution_count": null,
   "metadata": {
    "vscode": {
     "languageId": "r"
    }
   },
   "outputs": [],
   "source": []
  },
  {
   "cell_type": "code",
   "execution_count": null,
   "metadata": {
    "vscode": {
     "languageId": "r"
    }
   },
   "outputs": [],
   "source": []
  },
  {
   "cell_type": "code",
   "execution_count": null,
   "metadata": {
    "vscode": {
     "languageId": "r"
    }
   },
   "outputs": [],
   "source": []
  },
  {
   "cell_type": "code",
   "execution_count": null,
   "metadata": {
    "vscode": {
     "languageId": "r"
    }
   },
   "outputs": [],
   "source": []
  },
  {
   "cell_type": "code",
   "execution_count": null,
   "metadata": {
    "vscode": {
     "languageId": "r"
    }
   },
   "outputs": [],
   "source": []
  }
 ],
 "metadata": {
  "kernelspec": {
   "display_name": "R",
   "language": "R",
   "name": "ir"
  },
  "language_info": {
   "codemirror_mode": "r",
   "file_extension": ".r",
   "mimetype": "text/x-r-source",
   "name": "R",
   "pygments_lexer": "r",
   "version": "4.2.2"
  },
  "orig_nbformat": 4,
  "vscode": {
   "interpreter": {
    "hash": "1f08d2ddd07848b0bf7fc49e600831e989a9d000afab8a61f5d8da0984583052"
   }
  }
 },
 "nbformat": 4,
 "nbformat_minor": 2
}
