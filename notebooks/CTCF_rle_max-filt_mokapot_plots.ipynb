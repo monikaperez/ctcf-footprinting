{
 "cells": [
  {
   "cell_type": "markdown",
   "id": "368d0a34",
   "metadata": {},
   "source": [
    "# CTCF L pos & neg (5%) | rle_max init | rle & 3-mer features"
   ]
  },
  {
   "cell_type": "code",
   "execution_count": 1,
   "id": "dfa50dc1",
   "metadata": {
    "collapsed": true
   },
   "outputs": [
    {
     "name": "stderr",
     "output_type": "stream",
     "text": [
      "\n",
      "Attaching package: ‘dplyr’\n",
      "\n",
      "\n",
      "The following objects are masked from ‘package:plyr’:\n",
      "\n",
      "    arrange, count, desc, failwith, id, mutate, rename, summarise,\n",
      "    summarize\n",
      "\n",
      "\n",
      "The following objects are masked from ‘package:data.table’:\n",
      "\n",
      "    between, first, last\n",
      "\n",
      "\n",
      "The following objects are masked from ‘package:stats’:\n",
      "\n",
      "    filter, lag\n",
      "\n",
      "\n",
      "The following objects are masked from ‘package:base’:\n",
      "\n",
      "    intersect, setdiff, setequal, union\n",
      "\n",
      "\n",
      "\n",
      "Attaching package: ‘tictoc’\n",
      "\n",
      "\n",
      "The following object is masked from ‘package:data.table’:\n",
      "\n",
      "    shift\n",
      "\n",
      "\n",
      "\n",
      "Attaching package: ‘purrr’\n",
      "\n",
      "\n",
      "The following object is masked from ‘package:plyr’:\n",
      "\n",
      "    compact\n",
      "\n",
      "\n",
      "The following object is masked from ‘package:data.table’:\n",
      "\n",
      "    transpose\n",
      "\n",
      "\n",
      "The following object is masked from ‘package:jsonlite’:\n",
      "\n",
      "    flatten\n",
      "\n",
      "\n",
      "\n",
      "Attaching package: ‘scales’\n",
      "\n",
      "\n",
      "The following object is masked from ‘package:purrr’:\n",
      "\n",
      "    discard\n",
      "\n",
      "\n",
      "\n",
      "Attaching package: ‘gridExtra’\n",
      "\n",
      "\n",
      "The following object is masked from ‘package:dplyr’:\n",
      "\n",
      "    combine\n",
      "\n",
      "\n"
     ]
    }
   ],
   "source": [
    "library(ggplot2)\n",
    "library(data.table)\n",
    "library(plyr)\n",
    "library(dplyr)\n",
    "library(tictoc)\n",
    "library(ggsci)\n",
    "library(purrr)\n",
    "library(scales)\n",
    "library(stringr)\n",
    "library(cowplot)\n",
    "library(gridExtra)\n",
    "library(tidyr)"
   ]
  },
  {
   "cell_type": "code",
   "execution_count": 2,
   "id": "2cb6f7a9",
   "metadata": {},
   "outputs": [],
   "source": [
    "while (!is.null(dev.list()))  dev.off()\n",
    "rm(list=ls())\n",
    "\n",
    "#------------ Helper Functions ------------\n",
    "# Initiate PDF\n",
    "openPDF <- function (output_file_fh, pdf_dims) {\n",
    "  print(sprintf(\"Saving plots to: %s\", output_file_fh))\n",
    "  # Open PDF\n",
    "  pdf(output_file_fh, width = pdf_dims[1], height = pdf_dims[2],\n",
    "      useDingbats=FALSE, family = \"ArialMT\")\n",
    "}\n",
    "\n",
    "# Close PDF\n",
    "closePDF <- function () {\n",
    "  while (!is.null(dev.list()))  dev.off()\n",
    "  print(\"File saved.\")\n",
    "}"
   ]
  },
  {
   "cell_type": "code",
   "execution_count": 3,
   "id": "1a7f0fe5",
   "metadata": {},
   "outputs": [],
   "source": [
    "#------------ Define dirs ------------\n",
    "setwd(\"/mmfs1/gscratch/stergachislab/mwperez/ctcf-footprinting\")\n",
    "\n",
    "#ARGS\n",
    "data_folder <- sprintf(\"%s/candidate_footprints\", getwd())\n",
    "mokapot_dir <- sprintf(\"%s/mokapot_res\", getwd())\n",
    "output_folder <- sprintf(\"%s/figures\", mokapot_dir)"
   ]
  },
  {
   "cell_type": "markdown",
   "id": "811d7e59",
   "metadata": {},
   "source": [
    "## formatting data"
   ]
  },
  {
   "cell_type": "code",
   "execution_count": 5,
   "id": "474e7dbe",
   "metadata": {},
   "outputs": [
    {
     "name": "stdout",
     "output_type": "stream",
     "text": [
      "[1] \"/mmfs1/gscratch/stergachislab/mvollger/projects/ctcf-footprinting/mokapot_res/CTCF_rle_max-filt.mokapot.m6a_fiberseq.txt\"\n"
     ]
    }
   ],
   "source": [
    "# set args\n",
    "motif_type <- \"L\"\n",
    "input_file_root <- \"rle_max-filt\"\n",
    "file_root <- \"rle_max-filt\" # for output file & titles\n",
    "ctcf_dist <- c(-100,100)\n",
    "n_rows <- Inf\n",
    "\n",
    "# load set data file\n",
    "data_file_name <- sprintf(\"CTCF_%s.mokapot.m6a_fiberseq.txt\", input_file_root)\n",
    "data_file <- sprintf(\"%s/%s\", mokapot_dir, data_file_name)\n",
    "print(data_file)"
   ]
  },
  {
   "cell_type": "code",
   "execution_count": 6,
   "id": "488a82c0",
   "metadata": {},
   "outputs": [
    {
     "data": {
      "text/html": [
       "'m6a rows: 14,950,168'"
      ],
      "text/latex": [
       "'m6a rows: 14,950,168'"
      ],
      "text/markdown": [
       "'m6a rows: 14,950,168'"
      ],
      "text/plain": [
       "[1] \"m6a rows: 14,950,168\""
      ]
     },
     "metadata": {},
     "output_type": "display_data"
    }
   ],
   "source": [
    "# read table\n",
    "df <- fread(data_file, nrows=n_rows)\n",
    "sprintf(\"m6a rows: %s\", format(dim(df)[1], big.mark=\",\", scientific=FALSE))"
   ]
  },
  {
   "cell_type": "code",
   "execution_count": 7,
   "id": "45480095",
   "metadata": {},
   "outputs": [
    {
     "data": {
      "text/plain": [
       "\n",
       "Negative Positive \n",
       " 8040195  6909973 "
      ]
     },
     "metadata": {},
     "output_type": "display_data"
    }
   ],
   "source": [
    "df <- df %>%\n",
    "    mutate(Label = ifelse(Label == 1, \"Positive\", \"Negative\"))\n",
    "\n",
    "table(df$Label)"
   ]
  },
  {
   "cell_type": "code",
   "execution_count": 7,
   "id": "99b900c3",
   "metadata": {},
   "outputs": [],
   "source": [
    "df$FDR_05 <- ifelse(df$FDR < 0.05, \"low_FDR\", \"high_FDR\")\n",
    "df$FDR_01 <- ifelse(df$FDR < 0.01, \"low_FDR\", \"high_FDR\")\n",
    "df$FDR_001 <- ifelse(df$FDR < 0.001, \"low_FDR\", \"high_FDR\")\n",
    "df$FDR_0001 <- ifelse(df$FDR < 0.0001, \"low_FDR\", \"high_FDR\")"
   ]
  },
  {
   "cell_type": "code",
   "execution_count": 8,
   "id": "b2ab0290",
   "metadata": {},
   "outputs": [
    {
     "data": {
      "text/html": [
       "'unique motifs: 260,939'"
      ],
      "text/latex": [
       "'unique motifs: 260,939'"
      ],
      "text/markdown": [
       "'unique motifs: 260,939'"
      ],
      "text/plain": [
       "[1] \"unique motifs: 260,939\""
      ]
     },
     "metadata": {},
     "output_type": "display_data"
    },
    {
     "data": {
      "text/html": [
       "'unique queries: 365,077'"
      ],
      "text/latex": [
       "'unique queries: 365,077'"
      ],
      "text/markdown": [
       "'unique queries: 365,077'"
      ],
      "text/plain": [
       "[1] \"unique queries: 365,077\""
      ]
     },
     "metadata": {},
     "output_type": "display_data"
    },
    {
     "data": {
      "text/html": [
       "'unique motif-query groups: 514,540'"
      ],
      "text/latex": [
       "'unique motif-query groups: 514,540'"
      ],
      "text/markdown": [
       "'unique motif-query groups: 514,540'"
      ],
      "text/plain": [
       "[1] \"unique motif-query groups: 514,540\""
      ]
     },
     "metadata": {},
     "output_type": "display_data"
    }
   ],
   "source": [
    "# unique CTCF motifs, queries, & motif_queries\n",
    "sprintf(\"unique motifs: %s\", format(length(unique(df$motif_name)), big.mark=\",\", scientific=FALSE))\n",
    "sprintf(\"unique queries: %s\", format(length(unique(df$query_name)), big.mark=\",\", scientific=FALSE))\n",
    "sprintf(\"unique motif-query groups: %s\", format(length(unique(df$motif_query)), big.mark=\",\", scientific=FALSE))"
   ]
  },
  {
   "cell_type": "code",
   "execution_count": 9,
   "id": "61f68689",
   "metadata": {},
   "outputs": [],
   "source": [
    "# save original df\n",
    "df_og <- df"
   ]
  },
  {
   "cell_type": "markdown",
   "id": "1423c1e5",
   "metadata": {},
   "source": [
    "## plot & color args"
   ]
  },
  {
   "cell_type": "code",
   "execution_count": 10,
   "id": "3fe49e6b",
   "metadata": {},
   "outputs": [],
   "source": [
    "# change plot dimensions\n",
    "options(repr.plot.width=20, repr.plot.height=10)\n",
    "\n",
    "set_plot_dimensions <- function(width_choice, height_choice) {\n",
    "options(repr.plot.width=width_choice, repr.plot.height=height_choice)\n",
    "        }\n",
    "set_plot_dimensions(15, 7.5)"
   ]
  },
  {
   "cell_type": "code",
   "execution_count": 11,
   "id": "682e51c4",
   "metadata": {},
   "outputs": [],
   "source": [
    "# create density plot\n",
    "font_size <- 12\n",
    "font_info <- element_text(size=font_size, family=\"ArialMT\", color=\"black\")"
   ]
  },
  {
   "cell_type": "code",
   "execution_count": 12,
   "id": "09b9a1e1",
   "metadata": {},
   "outputs": [],
   "source": [
    "# define colors (light grey, purple, darker grey, blue)\n",
    "vline_col <- \"#CECDCC\"\n",
    "m6a_col <- \"#7F3F98\"\n",
    "fiber_col <- \"#D1D2D4\"\n",
    "motif_annot_col <- \"#006738\"#\"#6C9272\"#\"blue\"\n",
    "\n",
    "# colors from Mitchell's presentation (orange, red, purple, light grey, navy (gene track))\n",
    "mitch_cols <- c(\"#FF8C00\", \"#FF0000\", \"#9370DB\", \"#E6E6E6\", \"#0C0C78\")"
   ]
  },
  {
   "cell_type": "markdown",
   "id": "645b0d0f",
   "metadata": {},
   "source": [
    "## m6a density plots"
   ]
  },
  {
   "cell_type": "markdown",
   "id": "45f1d54a",
   "metadata": {},
   "source": [
    "### positive vs. negative"
   ]
  },
  {
   "cell_type": "code",
   "execution_count": 20,
   "id": "6462cf01",
   "metadata": {},
   "outputs": [
    {
     "name": "stdout",
     "output_type": "stream",
     "text": [
      "[1] \"/mmfs1/gscratch/stergachislab/mvollger/projects/ctcf-footprinting/mokapot_res/figures/CTCF_rle_max-filt.mokapot.m6a_fiberseq_density-pos_v_neg.pdf\"\n"
     ]
    }
   ],
   "source": [
    "#------------ Set output file ------------\n",
    "output_file_name <- sprintf(\"CTCF_%s.mokapot.m6a_fiberseq_density-pos_v_neg.pdf\", file_root)\n",
    "output_file <- sprintf(\"%s/%s\", output_folder, output_file_name)\n",
    "print(output_file)\n",
    "\n",
    "# save file\n",
    "save_pdf <- TRUE\n",
    "pdf_dims <- c(10,5)"
   ]
  },
  {
   "cell_type": "code",
   "execution_count": 15,
   "id": "bdb4537d",
   "metadata": {},
   "outputs": [],
   "source": [
    "# set y-lim\n",
    "y_limits <- c(0, NA)\n",
    "x_limits <- c(-100, 100)\n",
    "\n",
    "plot_title <- sprintf(\"CTCF m6a density pos vs negative sets\\n%s | rle & kmers | m6A pos: %s | m6A neg: %s\", \n",
    "                      \"Pos & 5% L neg\",\n",
    "                      format(table(df$Label)[\"Positive\"], big.mark=\",\", scientific=FALSE), \n",
    "                      format(table(df$Label)[\"Negative\"], big.mark=\",\", scientific=FALSE))\n",
    "x_axis_name <- \"distance from CTCF start (bp)\"\n",
    "y_axis_name <- \"aggregate m6a methylation density\""
   ]
  },
  {
   "cell_type": "code",
   "execution_count": 21,
   "id": "1367b7c2",
   "metadata": {
    "collapsed": true
   },
   "outputs": [
    {
     "data": {
      "image/png": "[encoded data removed]",
      "text/plain": [
       "plot without title"
      ]
     },
     "metadata": {
      "image/png": {
       "height": 300,
       "width": 600
      }
     },
     "output_type": "display_data"
    }
   ],
   "source": [
    "if (save_pdf == TRUE) {set_plot_dimensions(pdf_dims[1], pdf_dims[2])} else {set_plot_dimensions(10, 5)}\n",
    "# pos: red, neg: blue\n",
    "color_vals <- c(mitch_cols[5], mitch_cols[2])\n",
    "\n",
    "p <- ggplot(df, aes(x=centered_start, group=Label)) +\n",
    "        # add box over motif location\n",
    "        annotate(\"rect\", xmin=0, xmax=35, ymin=-Inf, ymax=+Inf, alpha=0.1, fill=motif_annot_col) +\n",
    "        # add vertical line at x=0\n",
    "        geom_vline(xintercept=0, color=\"#CECDCC\", show.legend=FALSE, linetype=\"dashed\", linewidth=1) +\n",
    "        # density plot\n",
    "        geom_density(aes(col=Label), size=1.2, adjust=0.5) +\n",
    "        # red, blue\n",
    "        scale_color_manual(name=\"Population\", values=color_vals, labels=c(\"Negative\", \"Positive\")) +\n",
    "        scale_y_continuous(limits=c(0, NA), expand=expansion(mult=c(0,0.05)), name=y_axis_name,\n",
    "                           labels = function(x) format(x, scientific=TRUE), \n",
    "                           guide=guide_axis(check.overlap=TRUE)) +\n",
    "    \n",
    "        ggtitle(plot_title) +\n",
    "        scale_x_continuous(name=x_axis_name) +\n",
    "        theme_classic() +\n",
    "        theme(text = font_info,\n",
    "              axis.ticks = element_line(color=\"#000000\", lineend=\"square\"),\n",
    "              axis.text = font_info,\n",
    "              panel.background = element_rect(fill=\"transparent\", color=\"#000000\", size=1),\n",
    "              plot.title = element_text(family=\"ArialMT\", size=font_size+2, hjust=0.5))\n",
    "p\n",
    "                       \n",
    "if (save_pdf == TRUE) {ggsave(output_file, plot = p, width=pdf_dims[1], height=pdf_dims[2])}"
   ]
  },
  {
   "cell_type": "markdown",
   "id": "ee4636c0",
   "metadata": {},
   "source": [
    "### FDR filt"
   ]
  },
  {
   "cell_type": "code",
   "execution_count": 24,
   "id": "5c978d52",
   "metadata": {},
   "outputs": [],
   "source": [
    "# filter for positive data\n",
    "pos <- df[df$Label == \"Positive\"]"
   ]
  },
  {
   "cell_type": "code",
   "execution_count": 15,
   "id": "25b471cc",
   "metadata": {},
   "outputs": [],
   "source": [
    "# plot m6a density grouped by FDR\n",
    "plot_m6a_density <- function(df, FDR) {\n",
    "\n",
    "    df$FDR_group <- ifelse(df$FDR < FDR, \"low_FDR\", \"high_FDR\")\n",
    "    df$FDR_group <- factor(df$FDR_group, levels=c(\"low_FDR\", \"high_FDR\"))\n",
    "    FDR_str <- strsplit(as.character(FDR), \".\", fixed=TRUE)[[1]][2]\n",
    "    \n",
    "    # set limits\n",
    "    y_limits <- c(0, NA)\n",
    "    x_limits <- c(-100, 100)\n",
    "    plot_title <- sprintf(\"Aggregate m6a density (FDR < %s) - %s\", FDR, \"L Pos & 5% Neg\")\n",
    "    plot_subtitle <- sprintf(\"FDR low: %s | FDR high: %s\", \n",
    "                        format(table(df$FDR_group)[\"low_FDR\"], big.mark=\",\", scientific=FALSE), \n",
    "                        format(table(df$FDR_group)[\"high_FDR\"], big.mark=\",\", scientific=FALSE))\n",
    "    x_axis_name <- \"distance from motif start\"\n",
    "    y_axis_name <- \"aggregate m6a methylation density\"\n",
    "    legend_title <- \"FDR\"\n",
    "    legend_labels <- c(sprintf(\"FDR < %s\", FDR), sprintf(\"FDR > %s\", FDR))\n",
    "    \n",
    "    # color values - low FDR (tf w/o m6a's) red | high FDR (accessible w/ m6a's) blue\n",
    "    df$FDR_colors <- ifelse(df$FDR_group == \"low_FDR\", \"#FF0000\", \"#0C0C78\")\n",
    "    df$FDR_colors <- factor(df$FDR_colors, levels=c(\"#FF0000\", \"#0C0C78\"))\n",
    "    motif_annot_col <- \"#006738\"\n",
    "    vline_col <- \"#CECDCC\"\n",
    "    font_size <- 12\n",
    "    font_info <- element_text(size=font_size, family=\"ArialMT\", color=\"black\")\n",
    "    \n",
    "    # plot\n",
    "    p <- ggplot(df, aes(x=centered_start, group=FDR_group)) +\n",
    "            # add box over motif location\n",
    "            annotate(\"rect\", xmin=0, xmax=35, ymin=-Inf, ymax=+Inf, alpha=0.1, fill=motif_annot_col) +\n",
    "            # add vertical line at x=0\n",
    "            geom_vline(xintercept=0, color=vline_col, show.legend=FALSE, linetype=\"dashed\", linewidth=1) +\n",
    "            # density plot\n",
    "            geom_density(aes(col=FDR_colors), size=1.2, adjust=0.5) +\n",
    "            scale_color_identity(guide=\"legend\", legend_title, \n",
    "                                 labels=legend_labels, breaks=levels(df$FDR_colors)) +\n",
    "            #scale_color_manual(name=\"FDR\", values=df$FDR_colors, labels=legend_labels) +\n",
    "            scale_y_continuous(limits=y_limits, expand=expansion(mult=c(0,0.05)), name=y_axis_name,\n",
    "                               labels = function(x) format(x, scientific=FALSE), \n",
    "                               guide=guide_axis(check.overlap=TRUE)) +\n",
    "            ggtitle(label = plot_title, subtitle = plot_subtitle) +\n",
    "            scale_x_continuous(name=x_axis_name) +\n",
    "            theme_classic() +\n",
    "            theme(text = font_info,\n",
    "                  axis.ticks = element_line(color=\"#000000\", lineend=\"square\"),\n",
    "                  axis.text = font_info,\n",
    "                  panel.background = element_rect(fill=\"transparent\", color=\"#000000\", size=1),\n",
    "                  plot.title = element_text(family=\"ArialMT\", size=font_size+2, hjust=0.5),\n",
    "                  plot.subtitle = element_text(family=\"ArialMT\", size=font_size+2, hjust=0.5))\n",
    "    \n",
    "    return(p)\n",
    "    \n",
    "}"
   ]
  },
  {
   "cell_type": "code",
   "execution_count": 13,
   "id": "d419ad60",
   "metadata": {},
   "outputs": [
    {
     "name": "stdout",
     "output_type": "stream",
     "text": [
      "[1] \"/mmfs1/gscratch/stergachislab/mvollger/projects/ctcf-footprinting/mokapot_res/figures/CTCF_rle_max-filt.mokapot.m6a_fiberseq_density-pos_FDR_filters.pdf\"\n"
     ]
    }
   ],
   "source": [
    "#------------ Set output file ------------\n",
    "output_file_name <- sprintf(\"CTCF_%s.mokapot.m6a_fiberseq_density-pos_FDR_filters.pdf\", file_root)\n",
    "output_file <- sprintf(\"%s/%s\", output_folder, output_file_name)\n",
    "print(output_file)\n",
    "\n",
    "# save file?\n",
    "save_pdf <- TRUE\n",
    "pdf_dims <- c(10,5)"
   ]
  },
  {
   "cell_type": "code",
   "execution_count": 18,
   "id": "16097028",
   "metadata": {},
   "outputs": [
    {
     "name": "stdout",
     "output_type": "stream",
     "text": [
      "[1] \"Saving plots to: /mmfs1/gscratch/stergachislab/mvollger/projects/ctcf-footprinting/mokapot_res/figures/CTCF_rle_max-filt.mokapot.m6a_fiberseq_density-pos_FDR_filters.pdf\"\n",
      "Making agg. m6a density plot for FDR:  0.05[1] \"\\n\"\n",
      "Making agg. m6a density plot for FDR:  0.01[1] \"\\n\"\n",
      "Making agg. m6a density plot for FDR:  0.001[1] \"\\n\"\n",
      "[1] \"File saved.\"\n"
     ]
    }
   ],
   "source": [
    "# FDR values to plot\n",
    "FDR_vals <- c(0.05, 0.01, 0.001)\n",
    "\n",
    "save_pdf <- TRUE\n",
    "if (save_pdf == TRUE) {openPDF(output_file, pdf_dims)} else {set_plot_dimensions(10, 5)}\n",
    "\n",
    "for (FDR in FDR_vals) {\n",
    "    cat(\"Making agg. m6a density plot for FDR: \", FDR)\n",
    "    p <- plot_m6a_density(subset(df, Label=\"Positive\"), FDR=FDR)\n",
    "    print(p)\n",
    "    cat(\"\\n\")\n",
    "}\n",
    "\n",
    "closePDF()"
   ]
  },
  {
   "cell_type": "code",
   "execution_count": null,
   "id": "fe13eda4",
   "metadata": {},
   "outputs": [],
   "source": []
  },
  {
   "cell_type": "markdown",
   "id": "49528c5d",
   "metadata": {},
   "source": [
    "## Per fiber m6a plots"
   ]
  },
  {
   "cell_type": "code",
   "execution_count": 27,
   "id": "f67a05e7",
   "metadata": {},
   "outputs": [
    {
     "data": {
      "text/html": [
       "<style>\n",
       ".list-inline {list-style: none; margin:0; padding: 0}\n",
       ".list-inline>li {display: inline-block}\n",
       ".list-inline>li:not(:last-child)::after {content: \"\\00b7\"; padding: 0 .5ex}\n",
       "</style>\n",
       "<ol class=list-inline><li>14950168</li><li>18</li></ol>\n"
      ],
      "text/latex": [
       "\\begin{enumerate*}\n",
       "\\item 14950168\n",
       "\\item 18\n",
       "\\end{enumerate*}\n"
      ],
      "text/markdown": [
       "1. 14950168\n",
       "2. 18\n",
       "\n",
       "\n"
      ],
      "text/plain": [
       "[1] 14950168       18"
      ]
     },
     "metadata": {},
     "output_type": "display_data"
    }
   ],
   "source": [
    "res <- df_og\n",
    "dim(res)"
   ]
  },
  {
   "cell_type": "code",
   "execution_count": 28,
   "id": "43f85a94",
   "metadata": {},
   "outputs": [
    {
     "name": "stdout",
     "output_type": "stream",
     "text": [
      "[1] \"/mmfs1/gscratch/stergachislab/mvollger/projects/ctcf-footprinting/candidate_footprints/CTCF_m6a_fiberseq_100bp_fig_example_positive.txt\"\n"
     ]
    },
    {
     "data": {
      "text/html": [
       "<style>\n",
       ".list-inline {list-style: none; margin:0; padding: 0}\n",
       ".list-inline>li {display: inline-block}\n",
       ".list-inline>li:not(:last-child)::after {content: \"\\00b7\"; padding: 0 .5ex}\n",
       "</style>\n",
       "<ol class=list-inline><li>2165</li><li>13</li></ol>\n"
      ],
      "text/latex": [
       "\\begin{enumerate*}\n",
       "\\item 2165\n",
       "\\item 13\n",
       "\\end{enumerate*}\n"
      ],
      "text/markdown": [
       "1. 2165\n",
       "2. 13\n",
       "\n",
       "\n"
      ],
      "text/plain": [
       "[1] 2165   13"
      ]
     },
     "metadata": {},
     "output_type": "display_data"
    }
   ],
   "source": [
    "#------------ Example motif data ------------\n",
    "\n",
    "# load data file\n",
    "data_file_name <- \"CTCF_m6a_fiberseq_100bp_fig_example_positive.txt\"\n",
    "data_file <- sprintf(\"%s/%s\", data_folder, data_file_name)\n",
    "print(data_file)\n",
    "\n",
    "# read table\n",
    "df <- fread(data_file)\n",
    "dim(df)"
   ]
  },
  {
   "cell_type": "code",
   "execution_count": 29,
   "id": "82963d9f",
   "metadata": {},
   "outputs": [],
   "source": [
    "# add motif_name row\n",
    "df$motif_name <- paste(df$chrom, df$centering_position, df$strand, sep=\"_\")\n",
    "# move motif_name to first column\n",
    "df <- df %>%\n",
    "    select(\"motif_name\", everything())\n",
    "\n",
    "# add motif_query column\n",
    "df <- cbind(paste(df$motif_name, df$query_name, sep=\"/\"), df)\n",
    "# rename column\n",
    "colnames(df)[1] = \"motif_query\""
   ]
  },
  {
   "cell_type": "code",
   "execution_count": 30,
   "id": "d0b285c6",
   "metadata": {},
   "outputs": [],
   "source": [
    "# get only m6a\n",
    "df <- df[df$centered_position_type %in% c(\"m6a\")]\n",
    "# filter our rows with N in sequence\n",
    "df <- df %>% filter(!(grepl(\"N\", subset_sequence)))"
   ]
  },
  {
   "cell_type": "code",
   "execution_count": 31,
   "id": "15e6414f",
   "metadata": {},
   "outputs": [
    {
     "data": {
      "text/html": [
       "<style>\n",
       ".list-inline {list-style: none; margin:0; padding: 0}\n",
       ".list-inline>li {display: inline-block}\n",
       ".list-inline>li:not(:last-child)::after {content: \"\\00b7\"; padding: 0 .5ex}\n",
       "</style>\n",
       "<ol class=list-inline><li>1005</li><li>18</li></ol>\n"
      ],
      "text/latex": [
       "\\begin{enumerate*}\n",
       "\\item 1005\n",
       "\\item 18\n",
       "\\end{enumerate*}\n"
      ],
      "text/markdown": [
       "1. 1005\n",
       "2. 18\n",
       "\n",
       "\n"
      ],
      "text/plain": [
       "[1] 1005   18"
      ]
     },
     "metadata": {},
     "output_type": "display_data"
    }
   ],
   "source": [
    "# get moka res for motif-query values in example\n",
    "moka <- filter(res, motif_query %in% df$motif_query)\n",
    "dim(moka)"
   ]
  },
  {
   "cell_type": "code",
   "execution_count": 32,
   "id": "af161c99",
   "metadata": {
    "collapsed": true
   },
   "outputs": [
    {
     "data": {
      "text/html": [
       "<table class=\"dataframe\">\n",
       "<caption>A data.table: 1005 × 18</caption>\n",
       "<thead>\n",
       "\t<tr><th scope=col>motif_query</th><th scope=col>motif_name</th><th scope=col>chrom</th><th scope=col>centering_position</th><th scope=col>strand</th><th scope=col>subset_sequence</th><th scope=col>reference_start</th><th scope=col>reference_end</th><th scope=col>query_name</th><th scope=col>centered_query_start</th><th scope=col>centered_query_end</th><th scope=col>query_length</th><th scope=col>centered_position_type</th><th scope=col>centered_start</th><th scope=col>centered_end</th><th scope=col>msp_size</th><th scope=col>Label</th><th scope=col>FDR</th></tr>\n",
       "\t<tr><th scope=col>&lt;chr&gt;</th><th scope=col>&lt;chr&gt;</th><th scope=col>&lt;chr&gt;</th><th scope=col>&lt;int&gt;</th><th scope=col>&lt;chr&gt;</th><th scope=col>&lt;chr&gt;</th><th scope=col>&lt;int&gt;</th><th scope=col>&lt;int&gt;</th><th scope=col>&lt;chr&gt;</th><th scope=col>&lt;int&gt;</th><th scope=col>&lt;int&gt;</th><th scope=col>&lt;int&gt;</th><th scope=col>&lt;chr&gt;</th><th scope=col>&lt;int&gt;</th><th scope=col>&lt;int&gt;</th><th scope=col>&lt;int&gt;</th><th scope=col>&lt;chr&gt;</th><th scope=col>&lt;dbl&gt;</th></tr>\n",
       "</thead>\n",
       "<tbody>\n",
       "\t<tr><td>chr20_63786415_+/m54329U_210326_192251/159909932/ccs</td><td>chr20_63786415_+</td><td>chr20</td><td>63786415</td><td>+</td><td>CAACTGCTAATGTCTGGAGACATTTTTGGTTGTACCAACGGGGATCCAAAGGCAGGTGCTCCTGGCATCTGTGGGTGGAGGCCACAGCTGCTGCTAACATCCTGCAGTACCCAGACAGCCTCACGATGGAGCACAACTCAGCCCGAGGCTGAGTTAAACCAACTGCTGTTTTTTGTTTGTTTTGAGGTTTTTTGATTTGTT</td><td>63768587</td><td>63788702</td><td>m54329U_210326_192251/159909932/ccs</td><td>-17696</td><td>2294</td><td>19990</td><td>m6a</td><td>-67</td><td>-66</td><td>203</td><td>Positive</td><td>0.04623195</td></tr>\n",
       "\t<tr><td>chr20_63786415_+/m54329U_210326_192251/159909932/ccs</td><td>chr20_63786415_+</td><td>chr20</td><td>63786415</td><td>+</td><td>CAACTGCTAATGTCTGGAGACATTTTTGGTTGTACCAACGGGGATCCAAAGGCAGGTGCTCCTGGCATCTGTGGGTGGAGGCCACAGCTGCTGCTAACATCCTGCAGTACCCAGACAGCCTCACGATGGAGCACAACTCAGCCCGAGGCTGAGTTAAACCAACTGCTGTTTTTTGTTTGTTTTGAGGTTTTTTGATTTGTT</td><td>63768587</td><td>63788702</td><td>m54329U_210326_192251/159909932/ccs</td><td>-17696</td><td>2294</td><td>19990</td><td>m6a</td><td>-64</td><td>-63</td><td>203</td><td>Positive</td><td>0.04623195</td></tr>\n",
       "\t<tr><td>chr20_63786415_+/m54329U_210326_192251/159909932/ccs</td><td>chr20_63786415_+</td><td>chr20</td><td>63786415</td><td>+</td><td>CAACTGCTAATGTCTGGAGACATTTTTGGTTGTACCAACGGGGATCCAAAGGCAGGTGCTCCTGGCATCTGTGGGTGGAGGCCACAGCTGCTGCTAACATCCTGCAGTACCCAGACAGCCTCACGATGGAGCACAACTCAGCCCGAGGCTGAGTTAAACCAACTGCTGTTTTTTGTTTGTTTTGAGGTTTTTTGATTTGTT</td><td>63768587</td><td>63788702</td><td>m54329U_210326_192251/159909932/ccs</td><td>-17696</td><td>2294</td><td>19990</td><td>m6a</td><td>-63</td><td>-62</td><td>203</td><td>Positive</td><td>0.04623195</td></tr>\n",
       "\t<tr><td>chr20_63786415_+/m54329U_210326_192251/159909932/ccs</td><td>chr20_63786415_+</td><td>chr20</td><td>63786415</td><td>+</td><td>CAACTGCTAATGTCTGGAGACATTTTTGGTTGTACCAACGGGGATCCAAAGGCAGGTGCTCCTGGCATCTGTGGGTGGAGGCCACAGCTGCTGCTAACATCCTGCAGTACCCAGACAGCCTCACGATGGAGCACAACTCAGCCCGAGGCTGAGTTAAACCAACTGCTGTTTTTTGTTTGTTTTGAGGTTTTTTGATTTGTT</td><td>63768587</td><td>63788702</td><td>m54329U_210326_192251/159909932/ccs</td><td>-17696</td><td>2294</td><td>19990</td><td>m6a</td><td>-57</td><td>-56</td><td>203</td><td>Positive</td><td>0.04623195</td></tr>\n",
       "\t<tr><td>chr20_63786415_+/m54329U_210326_192251/159909932/ccs</td><td>chr20_63786415_+</td><td>chr20</td><td>63786415</td><td>+</td><td>CAACTGCTAATGTCTGGAGACATTTTTGGTTGTACCAACGGGGATCCAAAGGCAGGTGCTCCTGGCATCTGTGGGTGGAGGCCACAGCTGCTGCTAACATCCTGCAGTACCCAGACAGCCTCACGATGGAGCACAACTCAGCCCGAGGCTGAGTTAAACCAACTGCTGTTTTTTGTTTGTTTTGAGGTTTTTTGATTTGTT</td><td>63768587</td><td>63788702</td><td>m54329U_210326_192251/159909932/ccs</td><td>-17696</td><td>2294</td><td>19990</td><td>m6a</td><td>-56</td><td>-55</td><td>203</td><td>Positive</td><td>0.04623195</td></tr>\n",
       "\t<tr><td>chr20_63786415_+/m54329U_210326_192251/159909932/ccs</td><td>chr20_63786415_+</td><td>chr20</td><td>63786415</td><td>+</td><td>CAACTGCTAATGTCTGGAGACATTTTTGGTTGTACCAACGGGGATCCAAAGGCAGGTGCTCCTGGCATCTGTGGGTGGAGGCCACAGCTGCTGCTAACATCCTGCAGTACCCAGACAGCCTCACGATGGAGCACAACTCAGCCCGAGGCTGAGTTAAACCAACTGCTGTTTTTTGTTTGTTTTGAGGTTTTTTGATTTGTT</td><td>63768587</td><td>63788702</td><td>m54329U_210326_192251/159909932/ccs</td><td>-17696</td><td>2294</td><td>19990</td><td>m6a</td><td>-53</td><td>-52</td><td>203</td><td>Positive</td><td>0.04623195</td></tr>\n",
       "\t<tr><td>chr20_63786415_+/m54329U_210326_192251/159909932/ccs</td><td>chr20_63786415_+</td><td>chr20</td><td>63786415</td><td>+</td><td>CAACTGCTAATGTCTGGAGACATTTTTGGTTGTACCAACGGGGATCCAAAGGCAGGTGCTCCTGGCATCTGTGGGTGGAGGCCACAGCTGCTGCTAACATCCTGCAGTACCCAGACAGCCTCACGATGGAGCACAACTCAGCCCGAGGCTGAGTTAAACCAACTGCTGTTTTTTGTTTGTTTTGAGGTTTTTTGATTTGTT</td><td>63768587</td><td>63788702</td><td>m54329U_210326_192251/159909932/ccs</td><td>-17696</td><td>2294</td><td>19990</td><td>m6a</td><td>-52</td><td>-51</td><td>203</td><td>Positive</td><td>0.04623195</td></tr>\n",
       "\t<tr><td>chr20_63786415_+/m54329U_210326_192251/159909932/ccs</td><td>chr20_63786415_+</td><td>chr20</td><td>63786415</td><td>+</td><td>CAACTGCTAATGTCTGGAGACATTTTTGGTTGTACCAACGGGGATCCAAAGGCAGGTGCTCCTGGCATCTGTGGGTGGAGGCCACAGCTGCTGCTAACATCCTGCAGTACCCAGACAGCCTCACGATGGAGCACAACTCAGCCCGAGGCTGAGTTAAACCAACTGCTGTTTTTTGTTTGTTTTGAGGTTTTTTGATTTGTT</td><td>63768587</td><td>63788702</td><td>m54329U_210326_192251/159909932/ccs</td><td>-17696</td><td>2294</td><td>19990</td><td>m6a</td><td>-51</td><td>-50</td><td>203</td><td>Positive</td><td>0.04623195</td></tr>\n",
       "\t<tr><td>chr20_63786415_+/m54329U_210326_192251/159909932/ccs</td><td>chr20_63786415_+</td><td>chr20</td><td>63786415</td><td>+</td><td>CAACTGCTAATGTCTGGAGACATTTTTGGTTGTACCAACGGGGATCCAAAGGCAGGTGCTCCTGGCATCTGTGGGTGGAGGCCACAGCTGCTGCTAACATCCTGCAGTACCCAGACAGCCTCACGATGGAGCACAACTCAGCCCGAGGCTGAGTTAAACCAACTGCTGTTTTTTGTTTGTTTTGAGGTTTTTTGATTTGTT</td><td>63768587</td><td>63788702</td><td>m54329U_210326_192251/159909932/ccs</td><td>-17696</td><td>2294</td><td>19990</td><td>m6a</td><td>-47</td><td>-46</td><td>203</td><td>Positive</td><td>0.04623195</td></tr>\n",
       "\t<tr><td>chr20_63786415_+/m54329U_210326_192251/159909932/ccs</td><td>chr20_63786415_+</td><td>chr20</td><td>63786415</td><td>+</td><td>CAACTGCTAATGTCTGGAGACATTTTTGGTTGTACCAACGGGGATCCAAAGGCAGGTGCTCCTGGCATCTGTGGGTGGAGGCCACAGCTGCTGCTAACATCCTGCAGTACCCAGACAGCCTCACGATGGAGCACAACTCAGCCCGAGGCTGAGTTAAACCAACTGCTGTTTTTTGTTTGTTTTGAGGTTTTTTGATTTGTT</td><td>63768587</td><td>63788702</td><td>m54329U_210326_192251/159909932/ccs</td><td>-17696</td><td>2294</td><td>19990</td><td>m6a</td><td>-44</td><td>-43</td><td>203</td><td>Positive</td><td>0.04623195</td></tr>\n",
       "\t<tr><td>chr20_63786415_+/m54329U_210326_192251/159909932/ccs</td><td>chr20_63786415_+</td><td>chr20</td><td>63786415</td><td>+</td><td>CAACTGCTAATGTCTGGAGACATTTTTGGTTGTACCAACGGGGATCCAAAGGCAGGTGCTCCTGGCATCTGTGGGTGGAGGCCACAGCTGCTGCTAACATCCTGCAGTACCCAGACAGCCTCACGATGGAGCACAACTCAGCCCGAGGCTGAGTTAAACCAACTGCTGTTTTTTGTTTGTTTTGAGGTTTTTTGATTTGTT</td><td>63768587</td><td>63788702</td><td>m54329U_210326_192251/159909932/ccs</td><td>-17696</td><td>2294</td><td>19990</td><td>m6a</td><td>-41</td><td>-40</td><td>203</td><td>Positive</td><td>0.04623195</td></tr>\n",
       "\t<tr><td>chr20_63786415_+/m54329U_210326_192251/159909932/ccs</td><td>chr20_63786415_+</td><td>chr20</td><td>63786415</td><td>+</td><td>CAACTGCTAATGTCTGGAGACATTTTTGGTTGTACCAACGGGGATCCAAAGGCAGGTGCTCCTGGCATCTGTGGGTGGAGGCCACAGCTGCTGCTAACATCCTGCAGTACCCAGACAGCCTCACGATGGAGCACAACTCAGCCCGAGGCTGAGTTAAACCAACTGCTGTTTTTTGTTTGTTTTGAGGTTTTTTGATTTGTT</td><td>63768587</td><td>63788702</td><td>m54329U_210326_192251/159909932/ccs</td><td>-17696</td><td>2294</td><td>19990</td><td>m6a</td><td>-38</td><td>-37</td><td>203</td><td>Positive</td><td>0.04623195</td></tr>\n",
       "\t<tr><td>chr20_63786415_+/m54329U_210326_192251/159909932/ccs</td><td>chr20_63786415_+</td><td>chr20</td><td>63786415</td><td>+</td><td>CAACTGCTAATGTCTGGAGACATTTTTGGTTGTACCAACGGGGATCCAAAGGCAGGTGCTCCTGGCATCTGTGGGTGGAGGCCACAGCTGCTGCTAACATCCTGCAGTACCCAGACAGCCTCACGATGGAGCACAACTCAGCCCGAGGCTGAGTTAAACCAACTGCTGTTTTTTGTTTGTTTTGAGGTTTTTTGATTTGTT</td><td>63768587</td><td>63788702</td><td>m54329U_210326_192251/159909932/ccs</td><td>-17696</td><td>2294</td><td>19990</td><td>m6a</td><td>-34</td><td>-33</td><td>203</td><td>Positive</td><td>0.04623195</td></tr>\n",
       "\t<tr><td>chr20_63786415_+/m54329U_210326_192251/159909932/ccs</td><td>chr20_63786415_+</td><td>chr20</td><td>63786415</td><td>+</td><td>CAACTGCTAATGTCTGGAGACATTTTTGGTTGTACCAACGGGGATCCAAAGGCAGGTGCTCCTGGCATCTGTGGGTGGAGGCCACAGCTGCTGCTAACATCCTGCAGTACCCAGACAGCCTCACGATGGAGCACAACTCAGCCCGAGGCTGAGTTAAACCAACTGCTGTTTTTTGTTTGTTTTGAGGTTTTTTGATTTGTT</td><td>63768587</td><td>63788702</td><td>m54329U_210326_192251/159909932/ccs</td><td>-17696</td><td>2294</td><td>19990</td><td>m6a</td><td>-33</td><td>-32</td><td>203</td><td>Positive</td><td>0.04623195</td></tr>\n",
       "\t<tr><td>chr20_63786415_+/m54329U_210326_192251/159909932/ccs</td><td>chr20_63786415_+</td><td>chr20</td><td>63786415</td><td>+</td><td>CAACTGCTAATGTCTGGAGACATTTTTGGTTGTACCAACGGGGATCCAAAGGCAGGTGCTCCTGGCATCTGTGGGTGGAGGCCACAGCTGCTGCTAACATCCTGCAGTACCCAGACAGCCTCACGATGGAGCACAACTCAGCCCGAGGCTGAGTTAAACCAACTGCTGTTTTTTGTTTGTTTTGAGGTTTTTTGATTTGTT</td><td>63768587</td><td>63788702</td><td>m54329U_210326_192251/159909932/ccs</td><td>-17696</td><td>2294</td><td>19990</td><td>m6a</td><td>-31</td><td>-30</td><td>203</td><td>Positive</td><td>0.04623195</td></tr>\n",
       "\t<tr><td>chr20_63786415_+/m54329U_210326_192251/159909932/ccs</td><td>chr20_63786415_+</td><td>chr20</td><td>63786415</td><td>+</td><td>CAACTGCTAATGTCTGGAGACATTTTTGGTTGTACCAACGGGGATCCAAAGGCAGGTGCTCCTGGCATCTGTGGGTGGAGGCCACAGCTGCTGCTAACATCCTGCAGTACCCAGACAGCCTCACGATGGAGCACAACTCAGCCCGAGGCTGAGTTAAACCAACTGCTGTTTTTTGTTTGTTTTGAGGTTTTTTGATTTGTT</td><td>63768587</td><td>63788702</td><td>m54329U_210326_192251/159909932/ccs</td><td>-17696</td><td>2294</td><td>19990</td><td>m6a</td><td>-29</td><td>-28</td><td>203</td><td>Positive</td><td>0.04623195</td></tr>\n",
       "\t<tr><td>chr20_63786415_+/m54329U_210326_192251/159909932/ccs</td><td>chr20_63786415_+</td><td>chr20</td><td>63786415</td><td>+</td><td>CAACTGCTAATGTCTGGAGACATTTTTGGTTGTACCAACGGGGATCCAAAGGCAGGTGCTCCTGGCATCTGTGGGTGGAGGCCACAGCTGCTGCTAACATCCTGCAGTACCCAGACAGCCTCACGATGGAGCACAACTCAGCCCGAGGCTGAGTTAAACCAACTGCTGTTTTTTGTTTGTTTTGAGGTTTTTTGATTTGTT</td><td>63768587</td><td>63788702</td><td>m54329U_210326_192251/159909932/ccs</td><td>-17696</td><td>2294</td><td>19990</td><td>m6a</td><td>-25</td><td>-24</td><td>203</td><td>Positive</td><td>0.04623195</td></tr>\n",
       "\t<tr><td>chr20_63786415_+/m54329U_210326_192251/159909932/ccs</td><td>chr20_63786415_+</td><td>chr20</td><td>63786415</td><td>+</td><td>CAACTGCTAATGTCTGGAGACATTTTTGGTTGTACCAACGGGGATCCAAAGGCAGGTGCTCCTGGCATCTGTGGGTGGAGGCCACAGCTGCTGCTAACATCCTGCAGTACCCAGACAGCCTCACGATGGAGCACAACTCAGCCCGAGGCTGAGTTAAACCAACTGCTGTTTTTTGTTTGTTTTGAGGTTTTTTGATTTGTT</td><td>63768587</td><td>63788702</td><td>m54329U_210326_192251/159909932/ccs</td><td>-17696</td><td>2294</td><td>19990</td><td>m6a</td><td>-22</td><td>-21</td><td>203</td><td>Positive</td><td>0.04623195</td></tr>\n",
       "\t<tr><td>chr20_63786415_+/m54329U_210326_192251/159909932/ccs</td><td>chr20_63786415_+</td><td>chr20</td><td>63786415</td><td>+</td><td>CAACTGCTAATGTCTGGAGACATTTTTGGTTGTACCAACGGGGATCCAAAGGCAGGTGCTCCTGGCATCTGTGGGTGGAGGCCACAGCTGCTGCTAACATCCTGCAGTACCCAGACAGCCTCACGATGGAGCACAACTCAGCCCGAGGCTGAGTTAAACCAACTGCTGTTTTTTGTTTGTTTTGAGGTTTTTTGATTTGTT</td><td>63768587</td><td>63788702</td><td>m54329U_210326_192251/159909932/ccs</td><td>-17696</td><td>2294</td><td>19990</td><td>m6a</td><td>-17</td><td>-16</td><td>203</td><td>Positive</td><td>0.04623195</td></tr>\n",
       "\t<tr><td>chr20_63786415_+/m54329U_210326_192251/159909932/ccs</td><td>chr20_63786415_+</td><td>chr20</td><td>63786415</td><td>+</td><td>CAACTGCTAATGTCTGGAGACATTTTTGGTTGTACCAACGGGGATCCAAAGGCAGGTGCTCCTGGCATCTGTGGGTGGAGGCCACAGCTGCTGCTAACATCCTGCAGTACCCAGACAGCCTCACGATGGAGCACAACTCAGCCCGAGGCTGAGTTAAACCAACTGCTGTTTTTTGTTTGTTTTGAGGTTTTTTGATTTGTT</td><td>63768587</td><td>63788702</td><td>m54329U_210326_192251/159909932/ccs</td><td>-17696</td><td>2294</td><td>19990</td><td>m6a</td><td>-15</td><td>-14</td><td>203</td><td>Positive</td><td>0.04623195</td></tr>\n",
       "\t<tr><td>chr20_63786415_+/m54329U_210326_192251/159909932/ccs</td><td>chr20_63786415_+</td><td>chr20</td><td>63786415</td><td>+</td><td>CAACTGCTAATGTCTGGAGACATTTTTGGTTGTACCAACGGGGATCCAAAGGCAGGTGCTCCTGGCATCTGTGGGTGGAGGCCACAGCTGCTGCTAACATCCTGCAGTACCCAGACAGCCTCACGATGGAGCACAACTCAGCCCGAGGCTGAGTTAAACCAACTGCTGTTTTTTGTTTGTTTTGAGGTTTTTTGATTTGTT</td><td>63768587</td><td>63788702</td><td>m54329U_210326_192251/159909932/ccs</td><td>-17696</td><td>2294</td><td>19990</td><td>m6a</td><td>-12</td><td>-11</td><td>203</td><td>Positive</td><td>0.04623195</td></tr>\n",
       "\t<tr><td>chr20_63786415_+/m54329U_210326_192251/159909932/ccs</td><td>chr20_63786415_+</td><td>chr20</td><td>63786415</td><td>+</td><td>CAACTGCTAATGTCTGGAGACATTTTTGGTTGTACCAACGGGGATCCAAAGGCAGGTGCTCCTGGCATCTGTGGGTGGAGGCCACAGCTGCTGCTAACATCCTGCAGTACCCAGACAGCCTCACGATGGAGCACAACTCAGCCCGAGGCTGAGTTAAACCAACTGCTGTTTTTTGTTTGTTTTGAGGTTTTTTGATTTGTT</td><td>63768587</td><td>63788702</td><td>m54329U_210326_192251/159909932/ccs</td><td>-17696</td><td>2294</td><td>19990</td><td>m6a</td><td> -9</td><td> -8</td><td>203</td><td>Positive</td><td>0.04623195</td></tr>\n",
       "\t<tr><td>chr20_63786415_+/m54329U_210326_192251/159909932/ccs</td><td>chr20_63786415_+</td><td>chr20</td><td>63786415</td><td>+</td><td>CAACTGCTAATGTCTGGAGACATTTTTGGTTGTACCAACGGGGATCCAAAGGCAGGTGCTCCTGGCATCTGTGGGTGGAGGCCACAGCTGCTGCTAACATCCTGCAGTACCCAGACAGCCTCACGATGGAGCACAACTCAGCCCGAGGCTGAGTTAAACCAACTGCTGTTTTTTGTTTGTTTTGAGGTTTTTTGATTTGTT</td><td>63768587</td><td>63788702</td><td>m54329U_210326_192251/159909932/ccs</td><td>-17696</td><td>2294</td><td>19990</td><td>m6a</td><td> -4</td><td> -3</td><td>203</td><td>Positive</td><td>0.04623195</td></tr>\n",
       "\t<tr><td>chr20_63786415_+/m54329U_210326_192251/159909932/ccs</td><td>chr20_63786415_+</td><td>chr20</td><td>63786415</td><td>+</td><td>CAACTGCTAATGTCTGGAGACATTTTTGGTTGTACCAACGGGGATCCAAAGGCAGGTGCTCCTGGCATCTGTGGGTGGAGGCCACAGCTGCTGCTAACATCCTGCAGTACCCAGACAGCCTCACGATGGAGCACAACTCAGCCCGAGGCTGAGTTAAACCAACTGCTGTTTTTTGTTTGTTTTGAGGTTTTTTGATTTGTT</td><td>63768587</td><td>63788702</td><td>m54329U_210326_192251/159909932/ccs</td><td>-17696</td><td>2294</td><td>19990</td><td>m6a</td><td> -2</td><td> -1</td><td>203</td><td>Positive</td><td>0.04623195</td></tr>\n",
       "\t<tr><td>chr20_63786415_+/m54329U_210326_192251/159909932/ccs</td><td>chr20_63786415_+</td><td>chr20</td><td>63786415</td><td>+</td><td>CAACTGCTAATGTCTGGAGACATTTTTGGTTGTACCAACGGGGATCCAAAGGCAGGTGCTCCTGGCATCTGTGGGTGGAGGCCACAGCTGCTGCTAACATCCTGCAGTACCCAGACAGCCTCACGATGGAGCACAACTCAGCCCGAGGCTGAGTTAAACCAACTGCTGTTTTTTGTTTGTTTTGAGGTTTTTTGATTTGTT</td><td>63768587</td><td>63788702</td><td>m54329U_210326_192251/159909932/ccs</td><td>-17696</td><td>2294</td><td>19990</td><td>m6a</td><td>  5</td><td>  6</td><td>203</td><td>Positive</td><td>0.04623195</td></tr>\n",
       "\t<tr><td>chr20_63786415_+/m54329U_210326_192251/159909932/ccs</td><td>chr20_63786415_+</td><td>chr20</td><td>63786415</td><td>+</td><td>CAACTGCTAATGTCTGGAGACATTTTTGGTTGTACCAACGGGGATCCAAAGGCAGGTGCTCCTGGCATCTGTGGGTGGAGGCCACAGCTGCTGCTAACATCCTGCAGTACCCAGACAGCCTCACGATGGAGCACAACTCAGCCCGAGGCTGAGTTAAACCAACTGCTGTTTTTTGTTTGTTTTGAGGTTTTTTGATTTGTT</td><td>63768587</td><td>63788702</td><td>m54329U_210326_192251/159909932/ccs</td><td>-17696</td><td>2294</td><td>19990</td><td>m6a</td><td>  8</td><td>  9</td><td>203</td><td>Positive</td><td>0.04623195</td></tr>\n",
       "\t<tr><td>chr20_63786415_+/m54329U_210326_192251/159909932/ccs</td><td>chr20_63786415_+</td><td>chr20</td><td>63786415</td><td>+</td><td>CAACTGCTAATGTCTGGAGACATTTTTGGTTGTACCAACGGGGATCCAAAGGCAGGTGCTCCTGGCATCTGTGGGTGGAGGCCACAGCTGCTGCTAACATCCTGCAGTACCCAGACAGCCTCACGATGGAGCACAACTCAGCCCGAGGCTGAGTTAAACCAACTGCTGTTTTTTGTTTGTTTTGAGGTTTTTTGATTTGTT</td><td>63768587</td><td>63788702</td><td>m54329U_210326_192251/159909932/ccs</td><td>-17696</td><td>2294</td><td>19990</td><td>m6a</td><td> 12</td><td> 13</td><td>203</td><td>Positive</td><td>0.04623195</td></tr>\n",
       "\t<tr><td>chr20_63786415_+/m54329U_210326_192251/159909932/ccs</td><td>chr20_63786415_+</td><td>chr20</td><td>63786415</td><td>+</td><td>CAACTGCTAATGTCTGGAGACATTTTTGGTTGTACCAACGGGGATCCAAAGGCAGGTGCTCCTGGCATCTGTGGGTGGAGGCCACAGCTGCTGCTAACATCCTGCAGTACCCAGACAGCCTCACGATGGAGCACAACTCAGCCCGAGGCTGAGTTAAACCAACTGCTGTTTTTTGTTTGTTTTGAGGTTTTTTGATTTGTT</td><td>63768587</td><td>63788702</td><td>m54329U_210326_192251/159909932/ccs</td><td>-17696</td><td>2294</td><td>19990</td><td>m6a</td><td> 14</td><td> 15</td><td>203</td><td>Positive</td><td>0.04623195</td></tr>\n",
       "\t<tr><td>chr20_63786415_+/m54329U_210326_192251/159909932/ccs</td><td>chr20_63786415_+</td><td>chr20</td><td>63786415</td><td>+</td><td>CAACTGCTAATGTCTGGAGACATTTTTGGTTGTACCAACGGGGATCCAAAGGCAGGTGCTCCTGGCATCTGTGGGTGGAGGCCACAGCTGCTGCTAACATCCTGCAGTACCCAGACAGCCTCACGATGGAGCACAACTCAGCCCGAGGCTGAGTTAAACCAACTGCTGTTTTTTGTTTGTTTTGAGGTTTTTTGATTTGTT</td><td>63768587</td><td>63788702</td><td>m54329U_210326_192251/159909932/ccs</td><td>-17696</td><td>2294</td><td>19990</td><td>m6a</td><td> 16</td><td> 17</td><td>203</td><td>Positive</td><td>0.04623195</td></tr>\n",
       "\t<tr><td>chr20_63786415_+/m54329U_210326_192251/159909932/ccs</td><td>chr20_63786415_+</td><td>chr20</td><td>63786415</td><td>+</td><td>CAACTGCTAATGTCTGGAGACATTTTTGGTTGTACCAACGGGGATCCAAAGGCAGGTGCTCCTGGCATCTGTGGGTGGAGGCCACAGCTGCTGCTAACATCCTGCAGTACCCAGACAGCCTCACGATGGAGCACAACTCAGCCCGAGGCTGAGTTAAACCAACTGCTGTTTTTTGTTTGTTTTGAGGTTTTTTGATTTGTT</td><td>63768587</td><td>63788702</td><td>m54329U_210326_192251/159909932/ccs</td><td>-17696</td><td>2294</td><td>19990</td><td>m6a</td><td> 20</td><td> 21</td><td>203</td><td>Positive</td><td>0.04623195</td></tr>\n",
       "\t<tr><td>⋮</td><td>⋮</td><td>⋮</td><td>⋮</td><td>⋮</td><td>⋮</td><td>⋮</td><td>⋮</td><td>⋮</td><td>⋮</td><td>⋮</td><td>⋮</td><td>⋮</td><td>⋮</td><td>⋮</td><td>⋮</td><td>⋮</td><td>⋮</td></tr>\n",
       "\t<tr><td>chr20_63786415_+/m64076_221119_202646/48301320/ccs  </td><td>chr20_63786415_+</td><td>chr20</td><td>63786415</td><td>+</td><td>ACTGCTAATGTCTGGAGACATTTTTGGTTGTACCAACGGGGGATTCCAAAGGCAGGTGCTCCTGGCGTCTGTGGGTGGAGGCCACAGCTGCTGCTAACATCCTGCAGTACCCAGGACAGCCTCACGATGGAGCACAACTCAGCCCGAGGCTGAGTTAAACCAACTGCTGTTTTTTGTTTGTTTTGAGGTTTTTTGATTTGT</td><td>63785374</td><td>63810049</td><td>m64076_221119_202646/48301320/ccs  </td><td>-1040</td><td>23627</td><td>24667</td><td>m6a</td><td> 70</td><td> 71</td><td>227</td><td>Positive</td><td>0.002571578</td></tr>\n",
       "\t<tr><td>chr20_63786415_+/m64076_221119_202646/48301320/ccs  </td><td>chr20_63786415_+</td><td>chr20</td><td>63786415</td><td>+</td><td>ACTGCTAATGTCTGGAGACATTTTTGGTTGTACCAACGGGGGATTCCAAAGGCAGGTGCTCCTGGCGTCTGTGGGTGGAGGCCACAGCTGCTGCTAACATCCTGCAGTACCCAGGACAGCCTCACGATGGAGCACAACTCAGCCCGAGGCTGAGTTAAACCAACTGCTGTTTTTTGTTTGTTTTGAGGTTTTTTGATTTGT</td><td>63785374</td><td>63810049</td><td>m64076_221119_202646/48301320/ccs  </td><td>-1040</td><td>23627</td><td>24667</td><td>m6a</td><td> 72</td><td> 73</td><td>227</td><td>Positive</td><td>0.002571578</td></tr>\n",
       "\t<tr><td>chr20_63786415_+/m64076_221119_202646/48301320/ccs  </td><td>chr20_63786415_+</td><td>chr20</td><td>63786415</td><td>+</td><td>ACTGCTAATGTCTGGAGACATTTTTGGTTGTACCAACGGGGGATTCCAAAGGCAGGTGCTCCTGGCGTCTGTGGGTGGAGGCCACAGCTGCTGCTAACATCCTGCAGTACCCAGGACAGCCTCACGATGGAGCACAACTCAGCCCGAGGCTGAGTTAAACCAACTGCTGTTTTTTGTTTGTTTTGAGGTTTTTTGATTTGT</td><td>63785374</td><td>63810049</td><td>m64076_221119_202646/48301320/ccs  </td><td>-1040</td><td>23627</td><td>24667</td><td>m6a</td><td> 76</td><td> 77</td><td>227</td><td>Positive</td><td>0.002571578</td></tr>\n",
       "\t<tr><td>chr20_63786415_+/m64076_221119_202646/48301320/ccs  </td><td>chr20_63786415_+</td><td>chr20</td><td>63786415</td><td>+</td><td>ACTGCTAATGTCTGGAGACATTTTTGGTTGTACCAACGGGGGATTCCAAAGGCAGGTGCTCCTGGCGTCTGTGGGTGGAGGCCACAGCTGCTGCTAACATCCTGCAGTACCCAGGACAGCCTCACGATGGAGCACAACTCAGCCCGAGGCTGAGTTAAACCAACTGCTGTTTTTTGTTTGTTTTGAGGTTTTTTGATTTGT</td><td>63785374</td><td>63810049</td><td>m64076_221119_202646/48301320/ccs  </td><td>-1040</td><td>23627</td><td>24667</td><td>m6a</td><td> 83</td><td> 84</td><td>227</td><td>Positive</td><td>0.002571578</td></tr>\n",
       "\t<tr><td>chr20_63786415_+/m64076_221119_202646/48301320/ccs  </td><td>chr20_63786415_+</td><td>chr20</td><td>63786415</td><td>+</td><td>ACTGCTAATGTCTGGAGACATTTTTGGTTGTACCAACGGGGGATTCCAAAGGCAGGTGCTCCTGGCGTCTGTGGGTGGAGGCCACAGCTGCTGCTAACATCCTGCAGTACCCAGGACAGCCTCACGATGGAGCACAACTCAGCCCGAGGCTGAGTTAAACCAACTGCTGTTTTTTGTTTGTTTTGAGGTTTTTTGATTTGT</td><td>63785374</td><td>63810049</td><td>m64076_221119_202646/48301320/ccs  </td><td>-1040</td><td>23627</td><td>24667</td><td>m6a</td><td> 85</td><td> 86</td><td>227</td><td>Positive</td><td>0.002571578</td></tr>\n",
       "\t<tr><td>chr20_63786415_+/m54329U_210323_190418/141099066/ccs</td><td>chr20_63786415_+</td><td>chr20</td><td>63786415</td><td>+</td><td>ACTGCTAATGTCTGGAGACATTTTTGGTTGTACCAACGGGGGAATCCAAAGGCAGGTGCTCCTGGCGTCTGTGGGTGGAGGCCACAGCTGCTGCTAACATCCTGCAGTACCCAGGACAGCCTCACGATGGAGCACAACTCAGCCCGAGGGGCTGAGTTAAACCAACTGCTGTTTTTTGTTTGTTTTGAGGTTTTTTGATTT</td><td>63785994</td><td>63804331</td><td>m54329U_210323_190418/141099066/ccs</td><td> -422</td><td>17983</td><td>18405</td><td>m6a</td><td>-52</td><td>-51</td><td>124</td><td>Positive</td><td>0.009340050</td></tr>\n",
       "\t<tr><td>chr20_63786415_+/m54329U_210323_190418/141099066/ccs</td><td>chr20_63786415_+</td><td>chr20</td><td>63786415</td><td>+</td><td>ACTGCTAATGTCTGGAGACATTTTTGGTTGTACCAACGGGGGAATCCAAAGGCAGGTGCTCCTGGCGTCTGTGGGTGGAGGCCACAGCTGCTGCTAACATCCTGCAGTACCCAGGACAGCCTCACGATGGAGCACAACTCAGCCCGAGGGGCTGAGTTAAACCAACTGCTGTTTTTTGTTTGTTTTGAGGTTTTTTGATTT</td><td>63785994</td><td>63804331</td><td>m54329U_210323_190418/141099066/ccs</td><td> -422</td><td>17983</td><td>18405</td><td>m6a</td><td>-47</td><td>-46</td><td>124</td><td>Positive</td><td>0.009340050</td></tr>\n",
       "\t<tr><td>chr20_63786415_+/m54329U_210323_190418/141099066/ccs</td><td>chr20_63786415_+</td><td>chr20</td><td>63786415</td><td>+</td><td>ACTGCTAATGTCTGGAGACATTTTTGGTTGTACCAACGGGGGAATCCAAAGGCAGGTGCTCCTGGCGTCTGTGGGTGGAGGCCACAGCTGCTGCTAACATCCTGCAGTACCCAGGACAGCCTCACGATGGAGCACAACTCAGCCCGAGGGGCTGAGTTAAACCAACTGCTGTTTTTTGTTTGTTTTGAGGTTTTTTGATTT</td><td>63785994</td><td>63804331</td><td>m54329U_210323_190418/141099066/ccs</td><td> -422</td><td>17983</td><td>18405</td><td>m6a</td><td>-44</td><td>-43</td><td>124</td><td>Positive</td><td>0.009340050</td></tr>\n",
       "\t<tr><td>chr20_63786415_+/m54329U_210323_190418/141099066/ccs</td><td>chr20_63786415_+</td><td>chr20</td><td>63786415</td><td>+</td><td>ACTGCTAATGTCTGGAGACATTTTTGGTTGTACCAACGGGGGAATCCAAAGGCAGGTGCTCCTGGCGTCTGTGGGTGGAGGCCACAGCTGCTGCTAACATCCTGCAGTACCCAGGACAGCCTCACGATGGAGCACAACTCAGCCCGAGGGGCTGAGTTAAACCAACTGCTGTTTTTTGTTTGTTTTGAGGTTTTTTGATTT</td><td>63785994</td><td>63804331</td><td>m54329U_210323_190418/141099066/ccs</td><td> -422</td><td>17983</td><td>18405</td><td>m6a</td><td>-41</td><td>-40</td><td>124</td><td>Positive</td><td>0.009340050</td></tr>\n",
       "\t<tr><td>chr20_63786415_+/m54329U_210323_190418/141099066/ccs</td><td>chr20_63786415_+</td><td>chr20</td><td>63786415</td><td>+</td><td>ACTGCTAATGTCTGGAGACATTTTTGGTTGTACCAACGGGGGAATCCAAAGGCAGGTGCTCCTGGCGTCTGTGGGTGGAGGCCACAGCTGCTGCTAACATCCTGCAGTACCCAGGACAGCCTCACGATGGAGCACAACTCAGCCCGAGGGGCTGAGTTAAACCAACTGCTGTTTTTTGTTTGTTTTGAGGTTTTTTGATTT</td><td>63785994</td><td>63804331</td><td>m54329U_210323_190418/141099066/ccs</td><td> -422</td><td>17983</td><td>18405</td><td>m6a</td><td>-38</td><td>-37</td><td>124</td><td>Positive</td><td>0.009340050</td></tr>\n",
       "\t<tr><td>chr20_63786415_+/m54329U_210323_190418/141099066/ccs</td><td>chr20_63786415_+</td><td>chr20</td><td>63786415</td><td>+</td><td>ACTGCTAATGTCTGGAGACATTTTTGGTTGTACCAACGGGGGAATCCAAAGGCAGGTGCTCCTGGCGTCTGTGGGTGGAGGCCACAGCTGCTGCTAACATCCTGCAGTACCCAGGACAGCCTCACGATGGAGCACAACTCAGCCCGAGGGGCTGAGTTAAACCAACTGCTGTTTTTTGTTTGTTTTGAGGTTTTTTGATTT</td><td>63785994</td><td>63804331</td><td>m54329U_210323_190418/141099066/ccs</td><td> -422</td><td>17983</td><td>18405</td><td>m6a</td><td>-33</td><td>-32</td><td>124</td><td>Positive</td><td>0.009340050</td></tr>\n",
       "\t<tr><td>chr20_63786415_+/m54329U_210323_190418/141099066/ccs</td><td>chr20_63786415_+</td><td>chr20</td><td>63786415</td><td>+</td><td>ACTGCTAATGTCTGGAGACATTTTTGGTTGTACCAACGGGGGAATCCAAAGGCAGGTGCTCCTGGCGTCTGTGGGTGGAGGCCACAGCTGCTGCTAACATCCTGCAGTACCCAGGACAGCCTCACGATGGAGCACAACTCAGCCCGAGGGGCTGAGTTAAACCAACTGCTGTTTTTTGTTTGTTTTGAGGTTTTTTGATTT</td><td>63785994</td><td>63804331</td><td>m54329U_210323_190418/141099066/ccs</td><td> -422</td><td>17983</td><td>18405</td><td>m6a</td><td>-31</td><td>-30</td><td>124</td><td>Positive</td><td>0.009340050</td></tr>\n",
       "\t<tr><td>chr20_63786415_+/m54329U_210323_190418/141099066/ccs</td><td>chr20_63786415_+</td><td>chr20</td><td>63786415</td><td>+</td><td>ACTGCTAATGTCTGGAGACATTTTTGGTTGTACCAACGGGGGAATCCAAAGGCAGGTGCTCCTGGCGTCTGTGGGTGGAGGCCACAGCTGCTGCTAACATCCTGCAGTACCCAGGACAGCCTCACGATGGAGCACAACTCAGCCCGAGGGGCTGAGTTAAACCAACTGCTGTTTTTTGTTTGTTTTGAGGTTTTTTGATTT</td><td>63785994</td><td>63804331</td><td>m54329U_210323_190418/141099066/ccs</td><td> -422</td><td>17983</td><td>18405</td><td>m6a</td><td>-29</td><td>-28</td><td>124</td><td>Positive</td><td>0.009340050</td></tr>\n",
       "\t<tr><td>chr20_63786415_+/m54329U_210323_190418/141099066/ccs</td><td>chr20_63786415_+</td><td>chr20</td><td>63786415</td><td>+</td><td>ACTGCTAATGTCTGGAGACATTTTTGGTTGTACCAACGGGGGAATCCAAAGGCAGGTGCTCCTGGCGTCTGTGGGTGGAGGCCACAGCTGCTGCTAACATCCTGCAGTACCCAGGACAGCCTCACGATGGAGCACAACTCAGCCCGAGGGGCTGAGTTAAACCAACTGCTGTTTTTTGTTTGTTTTGAGGTTTTTTGATTT</td><td>63785994</td><td>63804331</td><td>m54329U_210323_190418/141099066/ccs</td><td> -422</td><td>17983</td><td>18405</td><td>m6a</td><td>-25</td><td>-24</td><td>124</td><td>Positive</td><td>0.009340050</td></tr>\n",
       "\t<tr><td>chr20_63786415_+/m54329U_210323_190418/141099066/ccs</td><td>chr20_63786415_+</td><td>chr20</td><td>63786415</td><td>+</td><td>ACTGCTAATGTCTGGAGACATTTTTGGTTGTACCAACGGGGGAATCCAAAGGCAGGTGCTCCTGGCGTCTGTGGGTGGAGGCCACAGCTGCTGCTAACATCCTGCAGTACCCAGGACAGCCTCACGATGGAGCACAACTCAGCCCGAGGGGCTGAGTTAAACCAACTGCTGTTTTTTGTTTGTTTTGAGGTTTTTTGATTT</td><td>63785994</td><td>63804331</td><td>m54329U_210323_190418/141099066/ccs</td><td> -422</td><td>17983</td><td>18405</td><td>m6a</td><td>-17</td><td>-16</td><td>124</td><td>Positive</td><td>0.009340050</td></tr>\n",
       "\t<tr><td>chr20_63786415_+/m54329U_210323_190418/141099066/ccs</td><td>chr20_63786415_+</td><td>chr20</td><td>63786415</td><td>+</td><td>ACTGCTAATGTCTGGAGACATTTTTGGTTGTACCAACGGGGGAATCCAAAGGCAGGTGCTCCTGGCGTCTGTGGGTGGAGGCCACAGCTGCTGCTAACATCCTGCAGTACCCAGGACAGCCTCACGATGGAGCACAACTCAGCCCGAGGGGCTGAGTTAAACCAACTGCTGTTTTTTGTTTGTTTTGAGGTTTTTTGATTT</td><td>63785994</td><td>63804331</td><td>m54329U_210323_190418/141099066/ccs</td><td> -422</td><td>17983</td><td>18405</td><td>m6a</td><td>-15</td><td>-14</td><td>124</td><td>Positive</td><td>0.009340050</td></tr>\n",
       "\t<tr><td>chr20_63786415_+/m54329U_210323_190418/141099066/ccs</td><td>chr20_63786415_+</td><td>chr20</td><td>63786415</td><td>+</td><td>ACTGCTAATGTCTGGAGACATTTTTGGTTGTACCAACGGGGGAATCCAAAGGCAGGTGCTCCTGGCGTCTGTGGGTGGAGGCCACAGCTGCTGCTAACATCCTGCAGTACCCAGGACAGCCTCACGATGGAGCACAACTCAGCCCGAGGGGCTGAGTTAAACCAACTGCTGTTTTTTGTTTGTTTTGAGGTTTTTTGATTT</td><td>63785994</td><td>63804331</td><td>m54329U_210323_190418/141099066/ccs</td><td> -422</td><td>17983</td><td>18405</td><td>m6a</td><td>-12</td><td>-11</td><td>124</td><td>Positive</td><td>0.009340050</td></tr>\n",
       "\t<tr><td>chr20_63786415_+/m54329U_210323_190418/141099066/ccs</td><td>chr20_63786415_+</td><td>chr20</td><td>63786415</td><td>+</td><td>ACTGCTAATGTCTGGAGACATTTTTGGTTGTACCAACGGGGGAATCCAAAGGCAGGTGCTCCTGGCGTCTGTGGGTGGAGGCCACAGCTGCTGCTAACATCCTGCAGTACCCAGGACAGCCTCACGATGGAGCACAACTCAGCCCGAGGGGCTGAGTTAAACCAACTGCTGTTTTTTGTTTGTTTTGAGGTTTTTTGATTT</td><td>63785994</td><td>63804331</td><td>m54329U_210323_190418/141099066/ccs</td><td> -422</td><td>17983</td><td>18405</td><td>m6a</td><td> -9</td><td> -8</td><td>124</td><td>Positive</td><td>0.009340050</td></tr>\n",
       "\t<tr><td>chr20_63786415_+/m54329U_210323_190418/141099066/ccs</td><td>chr20_63786415_+</td><td>chr20</td><td>63786415</td><td>+</td><td>ACTGCTAATGTCTGGAGACATTTTTGGTTGTACCAACGGGGGAATCCAAAGGCAGGTGCTCCTGGCGTCTGTGGGTGGAGGCCACAGCTGCTGCTAACATCCTGCAGTACCCAGGACAGCCTCACGATGGAGCACAACTCAGCCCGAGGGGCTGAGTTAAACCAACTGCTGTTTTTTGTTTGTTTTGAGGTTTTTTGATTT</td><td>63785994</td><td>63804331</td><td>m54329U_210323_190418/141099066/ccs</td><td> -422</td><td>17983</td><td>18405</td><td>m6a</td><td> 30</td><td> 31</td><td>124</td><td>Positive</td><td>0.009340050</td></tr>\n",
       "\t<tr><td>chr20_63786415_+/m54329U_210323_190418/141099066/ccs</td><td>chr20_63786415_+</td><td>chr20</td><td>63786415</td><td>+</td><td>ACTGCTAATGTCTGGAGACATTTTTGGTTGTACCAACGGGGGAATCCAAAGGCAGGTGCTCCTGGCGTCTGTGGGTGGAGGCCACAGCTGCTGCTAACATCCTGCAGTACCCAGGACAGCCTCACGATGGAGCACAACTCAGCCCGAGGGGCTGAGTTAAACCAACTGCTGTTTTTTGTTTGTTTTGAGGTTTTTTGATTT</td><td>63785994</td><td>63804331</td><td>m54329U_210323_190418/141099066/ccs</td><td> -422</td><td>17983</td><td>18405</td><td>m6a</td><td> 33</td><td> 34</td><td>124</td><td>Positive</td><td>0.009340050</td></tr>\n",
       "\t<tr><td>chr20_63786415_+/m54329U_210323_190418/141099066/ccs</td><td>chr20_63786415_+</td><td>chr20</td><td>63786415</td><td>+</td><td>ACTGCTAATGTCTGGAGACATTTTTGGTTGTACCAACGGGGGAATCCAAAGGCAGGTGCTCCTGGCGTCTGTGGGTGGAGGCCACAGCTGCTGCTAACATCCTGCAGTACCCAGGACAGCCTCACGATGGAGCACAACTCAGCCCGAGGGGCTGAGTTAAACCAACTGCTGTTTTTTGTTTGTTTTGAGGTTTTTTGATTT</td><td>63785994</td><td>63804331</td><td>m54329U_210323_190418/141099066/ccs</td><td> -422</td><td>17983</td><td>18405</td><td>m6a</td><td> 35</td><td> 36</td><td>124</td><td>Positive</td><td>0.009340050</td></tr>\n",
       "\t<tr><td>chr20_63786415_+/m54329U_210323_190418/141099066/ccs</td><td>chr20_63786415_+</td><td>chr20</td><td>63786415</td><td>+</td><td>ACTGCTAATGTCTGGAGACATTTTTGGTTGTACCAACGGGGGAATCCAAAGGCAGGTGCTCCTGGCGTCTGTGGGTGGAGGCCACAGCTGCTGCTAACATCCTGCAGTACCCAGGACAGCCTCACGATGGAGCACAACTCAGCCCGAGGGGCTGAGTTAAACCAACTGCTGTTTTTTGTTTGTTTTGAGGTTTTTTGATTT</td><td>63785994</td><td>63804331</td><td>m54329U_210323_190418/141099066/ccs</td><td> -422</td><td>17983</td><td>18405</td><td>m6a</td><td> 36</td><td> 37</td><td>124</td><td>Positive</td><td>0.009340050</td></tr>\n",
       "\t<tr><td>chr20_63786415_+/m54329U_210323_190418/141099066/ccs</td><td>chr20_63786415_+</td><td>chr20</td><td>63786415</td><td>+</td><td>ACTGCTAATGTCTGGAGACATTTTTGGTTGTACCAACGGGGGAATCCAAAGGCAGGTGCTCCTGGCGTCTGTGGGTGGAGGCCACAGCTGCTGCTAACATCCTGCAGTACCCAGGACAGCCTCACGATGGAGCACAACTCAGCCCGAGGGGCTGAGTTAAACCAACTGCTGTTTTTTGTTTGTTTTGAGGTTTTTTGATTT</td><td>63785994</td><td>63804331</td><td>m54329U_210323_190418/141099066/ccs</td><td> -422</td><td>17983</td><td>18405</td><td>m6a</td><td> 38</td><td> 39</td><td>124</td><td>Positive</td><td>0.009340050</td></tr>\n",
       "\t<tr><td>chr20_63786415_+/m54329U_210323_190418/141099066/ccs</td><td>chr20_63786415_+</td><td>chr20</td><td>63786415</td><td>+</td><td>ACTGCTAATGTCTGGAGACATTTTTGGTTGTACCAACGGGGGAATCCAAAGGCAGGTGCTCCTGGCGTCTGTGGGTGGAGGCCACAGCTGCTGCTAACATCCTGCAGTACCCAGGACAGCCTCACGATGGAGCACAACTCAGCCCGAGGGGCTGAGTTAAACCAACTGCTGTTTTTTGTTTGTTTTGAGGTTTTTTGATTT</td><td>63785994</td><td>63804331</td><td>m54329U_210323_190418/141099066/ccs</td><td> -422</td><td>17983</td><td>18405</td><td>m6a</td><td> 40</td><td> 41</td><td>124</td><td>Positive</td><td>0.009340050</td></tr>\n",
       "\t<tr><td>chr20_63786415_+/m54329U_210323_190418/141099066/ccs</td><td>chr20_63786415_+</td><td>chr20</td><td>63786415</td><td>+</td><td>ACTGCTAATGTCTGGAGACATTTTTGGTTGTACCAACGGGGGAATCCAAAGGCAGGTGCTCCTGGCGTCTGTGGGTGGAGGCCACAGCTGCTGCTAACATCCTGCAGTACCCAGGACAGCCTCACGATGGAGCACAACTCAGCCCGAGGGGCTGAGTTAAACCAACTGCTGTTTTTTGTTTGTTTTGAGGTTTTTTGATTT</td><td>63785994</td><td>63804331</td><td>m54329U_210323_190418/141099066/ccs</td><td> -422</td><td>17983</td><td>18405</td><td>m6a</td><td> 46</td><td> 47</td><td>124</td><td>Positive</td><td>0.009340050</td></tr>\n",
       "\t<tr><td>chr20_63786415_+/m54329U_210323_190418/141099066/ccs</td><td>chr20_63786415_+</td><td>chr20</td><td>63786415</td><td>+</td><td>ACTGCTAATGTCTGGAGACATTTTTGGTTGTACCAACGGGGGAATCCAAAGGCAGGTGCTCCTGGCGTCTGTGGGTGGAGGCCACAGCTGCTGCTAACATCCTGCAGTACCCAGGACAGCCTCACGATGGAGCACAACTCAGCCCGAGGGGCTGAGTTAAACCAACTGCTGTTTTTTGTTTGTTTTGAGGTTTTTTGATTT</td><td>63785994</td><td>63804331</td><td>m54329U_210323_190418/141099066/ccs</td><td> -422</td><td>17983</td><td>18405</td><td>m6a</td><td> 54</td><td> 55</td><td>124</td><td>Positive</td><td>0.009340050</td></tr>\n",
       "\t<tr><td>chr20_63786415_+/m54329U_210323_190418/141099066/ccs</td><td>chr20_63786415_+</td><td>chr20</td><td>63786415</td><td>+</td><td>ACTGCTAATGTCTGGAGACATTTTTGGTTGTACCAACGGGGGAATCCAAAGGCAGGTGCTCCTGGCGTCTGTGGGTGGAGGCCACAGCTGCTGCTAACATCCTGCAGTACCCAGGACAGCCTCACGATGGAGCACAACTCAGCCCGAGGGGCTGAGTTAAACCAACTGCTGTTTTTTGTTTGTTTTGAGGTTTTTTGATTT</td><td>63785994</td><td>63804331</td><td>m54329U_210323_190418/141099066/ccs</td><td> -422</td><td>17983</td><td>18405</td><td>m6a</td><td> 56</td><td> 57</td><td>124</td><td>Positive</td><td>0.009340050</td></tr>\n",
       "\t<tr><td>chr20_63786415_+/m54329U_210323_190418/141099066/ccs</td><td>chr20_63786415_+</td><td>chr20</td><td>63786415</td><td>+</td><td>ACTGCTAATGTCTGGAGACATTTTTGGTTGTACCAACGGGGGAATCCAAAGGCAGGTGCTCCTGGCGTCTGTGGGTGGAGGCCACAGCTGCTGCTAACATCCTGCAGTACCCAGGACAGCCTCACGATGGAGCACAACTCAGCCCGAGGGGCTGAGTTAAACCAACTGCTGTTTTTTGTTTGTTTTGAGGTTTTTTGATTT</td><td>63785994</td><td>63804331</td><td>m54329U_210323_190418/141099066/ccs</td><td> -422</td><td>17983</td><td>18405</td><td>m6a</td><td> 66</td><td> 67</td><td>124</td><td>Positive</td><td>0.009340050</td></tr>\n",
       "\t<tr><td>chr20_63786415_+/m54329U_210323_190418/141099066/ccs</td><td>chr20_63786415_+</td><td>chr20</td><td>63786415</td><td>+</td><td>ACTGCTAATGTCTGGAGACATTTTTGGTTGTACCAACGGGGGAATCCAAAGGCAGGTGCTCCTGGCGTCTGTGGGTGGAGGCCACAGCTGCTGCTAACATCCTGCAGTACCCAGGACAGCCTCACGATGGAGCACAACTCAGCCCGAGGGGCTGAGTTAAACCAACTGCTGTTTTTTGTTTGTTTTGAGGTTTTTTGATTT</td><td>63785994</td><td>63804331</td><td>m54329U_210323_190418/141099066/ccs</td><td> -422</td><td>17983</td><td>18405</td><td>m6a</td><td> 69</td><td> 70</td><td>124</td><td>Positive</td><td>0.009340050</td></tr>\n",
       "\t<tr><td>chr20_63786415_+/m54329U_210323_190418/141099066/ccs</td><td>chr20_63786415_+</td><td>chr20</td><td>63786415</td><td>+</td><td>ACTGCTAATGTCTGGAGACATTTTTGGTTGTACCAACGGGGGAATCCAAAGGCAGGTGCTCCTGGCGTCTGTGGGTGGAGGCCACAGCTGCTGCTAACATCCTGCAGTACCCAGGACAGCCTCACGATGGAGCACAACTCAGCCCGAGGGGCTGAGTTAAACCAACTGCTGTTTTTTGTTTGTTTTGAGGTTTTTTGATTT</td><td>63785994</td><td>63804331</td><td>m54329U_210323_190418/141099066/ccs</td><td> -422</td><td>17983</td><td>18405</td><td>m6a</td><td> 71</td><td> 72</td><td>124</td><td>Positive</td><td>0.009340050</td></tr>\n",
       "</tbody>\n",
       "</table>\n"
      ],
      "text/latex": [
       "A data.table: 1005 × 18\n",
       "\\begin{tabular}{llllllllllllllllll}\n",
       " motif\\_query & motif\\_name & chrom & centering\\_position & strand & subset\\_sequence & reference\\_start & reference\\_end & query\\_name & centered\\_query\\_start & centered\\_query\\_end & query\\_length & centered\\_position\\_type & centered\\_start & centered\\_end & msp\\_size & Label & FDR\\\\\n",
       " <chr> & <chr> & <chr> & <int> & <chr> & <chr> & <int> & <int> & <chr> & <int> & <int> & <int> & <chr> & <int> & <int> & <int> & <chr> & <dbl>\\\\\n",
       "\\hline\n",
       "\t chr20\\_63786415\\_+/m54329U\\_210326\\_192251/159909932/ccs & chr20\\_63786415\\_+ & chr20 & 63786415 & + & CAACTGCTAATGTCTGGAGACATTTTTGGTTGTACCAACGGGGATCCAAAGGCAGGTGCTCCTGGCATCTGTGGGTGGAGGCCACAGCTGCTGCTAACATCCTGCAGTACCCAGACAGCCTCACGATGGAGCACAACTCAGCCCGAGGCTGAGTTAAACCAACTGCTGTTTTTTGTTTGTTTTGAGGTTTTTTGATTTGTT & 63768587 & 63788702 & m54329U\\_210326\\_192251/159909932/ccs & -17696 & 2294 & 19990 & m6a & -67 & -66 & 203 & Positive & 0.04623195\\\\\n",
       "\t chr20\\_63786415\\_+/m54329U\\_210326\\_192251/159909932/ccs & chr20\\_63786415\\_+ & chr20 & 63786415 & + & CAACTGCTAATGTCTGGAGACATTTTTGGTTGTACCAACGGGGATCCAAAGGCAGGTGCTCCTGGCATCTGTGGGTGGAGGCCACAGCTGCTGCTAACATCCTGCAGTACCCAGACAGCCTCACGATGGAGCACAACTCAGCCCGAGGCTGAGTTAAACCAACTGCTGTTTTTTGTTTGTTTTGAGGTTTTTTGATTTGTT & 63768587 & 63788702 & m54329U\\_210326\\_192251/159909932/ccs & -17696 & 2294 & 19990 & m6a & -64 & -63 & 203 & Positive & 0.04623195\\\\\n",
       "\t chr20\\_63786415\\_+/m54329U\\_210326\\_192251/159909932/ccs & chr20\\_63786415\\_+ & chr20 & 63786415 & + & CAACTGCTAATGTCTGGAGACATTTTTGGTTGTACCAACGGGGATCCAAAGGCAGGTGCTCCTGGCATCTGTGGGTGGAGGCCACAGCTGCTGCTAACATCCTGCAGTACCCAGACAGCCTCACGATGGAGCACAACTCAGCCCGAGGCTGAGTTAAACCAACTGCTGTTTTTTGTTTGTTTTGAGGTTTTTTGATTTGTT & 63768587 & 63788702 & m54329U\\_210326\\_192251/159909932/ccs & -17696 & 2294 & 19990 & m6a & -63 & -62 & 203 & Positive & 0.04623195\\\\\n",
       "\t chr20\\_63786415\\_+/m54329U\\_210326\\_192251/159909932/ccs & chr20\\_63786415\\_+ & chr20 & 63786415 & + & CAACTGCTAATGTCTGGAGACATTTTTGGTTGTACCAACGGGGATCCAAAGGCAGGTGCTCCTGGCATCTGTGGGTGGAGGCCACAGCTGCTGCTAACATCCTGCAGTACCCAGACAGCCTCACGATGGAGCACAACTCAGCCCGAGGCTGAGTTAAACCAACTGCTGTTTTTTGTTTGTTTTGAGGTTTTTTGATTTGTT & 63768587 & 63788702 & m54329U\\_210326\\_192251/159909932/ccs & -17696 & 2294 & 19990 & m6a & -57 & -56 & 203 & Positive & 0.04623195\\\\\n",
       "\t chr20\\_63786415\\_+/m54329U\\_210326\\_192251/159909932/ccs & chr20\\_63786415\\_+ & chr20 & 63786415 & + & CAACTGCTAATGTCTGGAGACATTTTTGGTTGTACCAACGGGGATCCAAAGGCAGGTGCTCCTGGCATCTGTGGGTGGAGGCCACAGCTGCTGCTAACATCCTGCAGTACCCAGACAGCCTCACGATGGAGCACAACTCAGCCCGAGGCTGAGTTAAACCAACTGCTGTTTTTTGTTTGTTTTGAGGTTTTTTGATTTGTT & 63768587 & 63788702 & m54329U\\_210326\\_192251/159909932/ccs & -17696 & 2294 & 19990 & m6a & -56 & -55 & 203 & Positive & 0.04623195\\\\\n",
       "\t chr20\\_63786415\\_+/m54329U\\_210326\\_192251/159909932/ccs & chr20\\_63786415\\_+ & chr20 & 63786415 & + & CAACTGCTAATGTCTGGAGACATTTTTGGTTGTACCAACGGGGATCCAAAGGCAGGTGCTCCTGGCATCTGTGGGTGGAGGCCACAGCTGCTGCTAACATCCTGCAGTACCCAGACAGCCTCACGATGGAGCACAACTCAGCCCGAGGCTGAGTTAAACCAACTGCTGTTTTTTGTTTGTTTTGAGGTTTTTTGATTTGTT & 63768587 & 63788702 & m54329U\\_210326\\_192251/159909932/ccs & -17696 & 2294 & 19990 & m6a & -53 & -52 & 203 & Positive & 0.04623195\\\\\n",
       "\t chr20\\_63786415\\_+/m54329U\\_210326\\_192251/159909932/ccs & chr20\\_63786415\\_+ & chr20 & 63786415 & + & CAACTGCTAATGTCTGGAGACATTTTTGGTTGTACCAACGGGGATCCAAAGGCAGGTGCTCCTGGCATCTGTGGGTGGAGGCCACAGCTGCTGCTAACATCCTGCAGTACCCAGACAGCCTCACGATGGAGCACAACTCAGCCCGAGGCTGAGTTAAACCAACTGCTGTTTTTTGTTTGTTTTGAGGTTTTTTGATTTGTT & 63768587 & 63788702 & m54329U\\_210326\\_192251/159909932/ccs & -17696 & 2294 & 19990 & m6a & -52 & -51 & 203 & Positive & 0.04623195\\\\\n",
       "\t chr20\\_63786415\\_+/m54329U\\_210326\\_192251/159909932/ccs & chr20\\_63786415\\_+ & chr20 & 63786415 & + & CAACTGCTAATGTCTGGAGACATTTTTGGTTGTACCAACGGGGATCCAAAGGCAGGTGCTCCTGGCATCTGTGGGTGGAGGCCACAGCTGCTGCTAACATCCTGCAGTACCCAGACAGCCTCACGATGGAGCACAACTCAGCCCGAGGCTGAGTTAAACCAACTGCTGTTTTTTGTTTGTTTTGAGGTTTTTTGATTTGTT & 63768587 & 63788702 & m54329U\\_210326\\_192251/159909932/ccs & -17696 & 2294 & 19990 & m6a & -51 & -50 & 203 & Positive & 0.04623195\\\\\n",
       "\t chr20\\_63786415\\_+/m54329U\\_210326\\_192251/159909932/ccs & chr20\\_63786415\\_+ & chr20 & 63786415 & + & CAACTGCTAATGTCTGGAGACATTTTTGGTTGTACCAACGGGGATCCAAAGGCAGGTGCTCCTGGCATCTGTGGGTGGAGGCCACAGCTGCTGCTAACATCCTGCAGTACCCAGACAGCCTCACGATGGAGCACAACTCAGCCCGAGGCTGAGTTAAACCAACTGCTGTTTTTTGTTTGTTTTGAGGTTTTTTGATTTGTT & 63768587 & 63788702 & m54329U\\_210326\\_192251/159909932/ccs & -17696 & 2294 & 19990 & m6a & -47 & -46 & 203 & Positive & 0.04623195\\\\\n",
       "\t chr20\\_63786415\\_+/m54329U\\_210326\\_192251/159909932/ccs & chr20\\_63786415\\_+ & chr20 & 63786415 & + & CAACTGCTAATGTCTGGAGACATTTTTGGTTGTACCAACGGGGATCCAAAGGCAGGTGCTCCTGGCATCTGTGGGTGGAGGCCACAGCTGCTGCTAACATCCTGCAGTACCCAGACAGCCTCACGATGGAGCACAACTCAGCCCGAGGCTGAGTTAAACCAACTGCTGTTTTTTGTTTGTTTTGAGGTTTTTTGATTTGTT & 63768587 & 63788702 & m54329U\\_210326\\_192251/159909932/ccs & -17696 & 2294 & 19990 & m6a & -44 & -43 & 203 & Positive & 0.04623195\\\\\n",
       "\t chr20\\_63786415\\_+/m54329U\\_210326\\_192251/159909932/ccs & chr20\\_63786415\\_+ & chr20 & 63786415 & + & CAACTGCTAATGTCTGGAGACATTTTTGGTTGTACCAACGGGGATCCAAAGGCAGGTGCTCCTGGCATCTGTGGGTGGAGGCCACAGCTGCTGCTAACATCCTGCAGTACCCAGACAGCCTCACGATGGAGCACAACTCAGCCCGAGGCTGAGTTAAACCAACTGCTGTTTTTTGTTTGTTTTGAGGTTTTTTGATTTGTT & 63768587 & 63788702 & m54329U\\_210326\\_192251/159909932/ccs & -17696 & 2294 & 19990 & m6a & -41 & -40 & 203 & Positive & 0.04623195\\\\\n",
       "\t chr20\\_63786415\\_+/m54329U\\_210326\\_192251/159909932/ccs & chr20\\_63786415\\_+ & chr20 & 63786415 & + & CAACTGCTAATGTCTGGAGACATTTTTGGTTGTACCAACGGGGATCCAAAGGCAGGTGCTCCTGGCATCTGTGGGTGGAGGCCACAGCTGCTGCTAACATCCTGCAGTACCCAGACAGCCTCACGATGGAGCACAACTCAGCCCGAGGCTGAGTTAAACCAACTGCTGTTTTTTGTTTGTTTTGAGGTTTTTTGATTTGTT & 63768587 & 63788702 & m54329U\\_210326\\_192251/159909932/ccs & -17696 & 2294 & 19990 & m6a & -38 & -37 & 203 & Positive & 0.04623195\\\\\n",
       "\t chr20\\_63786415\\_+/m54329U\\_210326\\_192251/159909932/ccs & chr20\\_63786415\\_+ & chr20 & 63786415 & + & CAACTGCTAATGTCTGGAGACATTTTTGGTTGTACCAACGGGGATCCAAAGGCAGGTGCTCCTGGCATCTGTGGGTGGAGGCCACAGCTGCTGCTAACATCCTGCAGTACCCAGACAGCCTCACGATGGAGCACAACTCAGCCCGAGGCTGAGTTAAACCAACTGCTGTTTTTTGTTTGTTTTGAGGTTTTTTGATTTGTT & 63768587 & 63788702 & m54329U\\_210326\\_192251/159909932/ccs & -17696 & 2294 & 19990 & m6a & -34 & -33 & 203 & Positive & 0.04623195\\\\\n",
       "\t chr20\\_63786415\\_+/m54329U\\_210326\\_192251/159909932/ccs & chr20\\_63786415\\_+ & chr20 & 63786415 & + & CAACTGCTAATGTCTGGAGACATTTTTGGTTGTACCAACGGGGATCCAAAGGCAGGTGCTCCTGGCATCTGTGGGTGGAGGCCACAGCTGCTGCTAACATCCTGCAGTACCCAGACAGCCTCACGATGGAGCACAACTCAGCCCGAGGCTGAGTTAAACCAACTGCTGTTTTTTGTTTGTTTTGAGGTTTTTTGATTTGTT & 63768587 & 63788702 & m54329U\\_210326\\_192251/159909932/ccs & -17696 & 2294 & 19990 & m6a & -33 & -32 & 203 & Positive & 0.04623195\\\\\n",
       "\t chr20\\_63786415\\_+/m54329U\\_210326\\_192251/159909932/ccs & chr20\\_63786415\\_+ & chr20 & 63786415 & + & CAACTGCTAATGTCTGGAGACATTTTTGGTTGTACCAACGGGGATCCAAAGGCAGGTGCTCCTGGCATCTGTGGGTGGAGGCCACAGCTGCTGCTAACATCCTGCAGTACCCAGACAGCCTCACGATGGAGCACAACTCAGCCCGAGGCTGAGTTAAACCAACTGCTGTTTTTTGTTTGTTTTGAGGTTTTTTGATTTGTT & 63768587 & 63788702 & m54329U\\_210326\\_192251/159909932/ccs & -17696 & 2294 & 19990 & m6a & -31 & -30 & 203 & Positive & 0.04623195\\\\\n",
       "\t chr20\\_63786415\\_+/m54329U\\_210326\\_192251/159909932/ccs & chr20\\_63786415\\_+ & chr20 & 63786415 & + & CAACTGCTAATGTCTGGAGACATTTTTGGTTGTACCAACGGGGATCCAAAGGCAGGTGCTCCTGGCATCTGTGGGTGGAGGCCACAGCTGCTGCTAACATCCTGCAGTACCCAGACAGCCTCACGATGGAGCACAACTCAGCCCGAGGCTGAGTTAAACCAACTGCTGTTTTTTGTTTGTTTTGAGGTTTTTTGATTTGTT & 63768587 & 63788702 & m54329U\\_210326\\_192251/159909932/ccs & -17696 & 2294 & 19990 & m6a & -29 & -28 & 203 & Positive & 0.04623195\\\\\n",
       "\t chr20\\_63786415\\_+/m54329U\\_210326\\_192251/159909932/ccs & chr20\\_63786415\\_+ & chr20 & 63786415 & + & CAACTGCTAATGTCTGGAGACATTTTTGGTTGTACCAACGGGGATCCAAAGGCAGGTGCTCCTGGCATCTGTGGGTGGAGGCCACAGCTGCTGCTAACATCCTGCAGTACCCAGACAGCCTCACGATGGAGCACAACTCAGCCCGAGGCTGAGTTAAACCAACTGCTGTTTTTTGTTTGTTTTGAGGTTTTTTGATTTGTT & 63768587 & 63788702 & m54329U\\_210326\\_192251/159909932/ccs & -17696 & 2294 & 19990 & m6a & -25 & -24 & 203 & Positive & 0.04623195\\\\\n",
       "\t chr20\\_63786415\\_+/m54329U\\_210326\\_192251/159909932/ccs & chr20\\_63786415\\_+ & chr20 & 63786415 & + & CAACTGCTAATGTCTGGAGACATTTTTGGTTGTACCAACGGGGATCCAAAGGCAGGTGCTCCTGGCATCTGTGGGTGGAGGCCACAGCTGCTGCTAACATCCTGCAGTACCCAGACAGCCTCACGATGGAGCACAACTCAGCCCGAGGCTGAGTTAAACCAACTGCTGTTTTTTGTTTGTTTTGAGGTTTTTTGATTTGTT & 63768587 & 63788702 & m54329U\\_210326\\_192251/159909932/ccs & -17696 & 2294 & 19990 & m6a & -22 & -21 & 203 & Positive & 0.04623195\\\\\n",
       "\t chr20\\_63786415\\_+/m54329U\\_210326\\_192251/159909932/ccs & chr20\\_63786415\\_+ & chr20 & 63786415 & + & CAACTGCTAATGTCTGGAGACATTTTTGGTTGTACCAACGGGGATCCAAAGGCAGGTGCTCCTGGCATCTGTGGGTGGAGGCCACAGCTGCTGCTAACATCCTGCAGTACCCAGACAGCCTCACGATGGAGCACAACTCAGCCCGAGGCTGAGTTAAACCAACTGCTGTTTTTTGTTTGTTTTGAGGTTTTTTGATTTGTT & 63768587 & 63788702 & m54329U\\_210326\\_192251/159909932/ccs & -17696 & 2294 & 19990 & m6a & -17 & -16 & 203 & Positive & 0.04623195\\\\\n",
       "\t chr20\\_63786415\\_+/m54329U\\_210326\\_192251/159909932/ccs & chr20\\_63786415\\_+ & chr20 & 63786415 & + & CAACTGCTAATGTCTGGAGACATTTTTGGTTGTACCAACGGGGATCCAAAGGCAGGTGCTCCTGGCATCTGTGGGTGGAGGCCACAGCTGCTGCTAACATCCTGCAGTACCCAGACAGCCTCACGATGGAGCACAACTCAGCCCGAGGCTGAGTTAAACCAACTGCTGTTTTTTGTTTGTTTTGAGGTTTTTTGATTTGTT & 63768587 & 63788702 & m54329U\\_210326\\_192251/159909932/ccs & -17696 & 2294 & 19990 & m6a & -15 & -14 & 203 & Positive & 0.04623195\\\\\n",
       "\t chr20\\_63786415\\_+/m54329U\\_210326\\_192251/159909932/ccs & chr20\\_63786415\\_+ & chr20 & 63786415 & + & CAACTGCTAATGTCTGGAGACATTTTTGGTTGTACCAACGGGGATCCAAAGGCAGGTGCTCCTGGCATCTGTGGGTGGAGGCCACAGCTGCTGCTAACATCCTGCAGTACCCAGACAGCCTCACGATGGAGCACAACTCAGCCCGAGGCTGAGTTAAACCAACTGCTGTTTTTTGTTTGTTTTGAGGTTTTTTGATTTGTT & 63768587 & 63788702 & m54329U\\_210326\\_192251/159909932/ccs & -17696 & 2294 & 19990 & m6a & -12 & -11 & 203 & Positive & 0.04623195\\\\\n",
       "\t chr20\\_63786415\\_+/m54329U\\_210326\\_192251/159909932/ccs & chr20\\_63786415\\_+ & chr20 & 63786415 & + & CAACTGCTAATGTCTGGAGACATTTTTGGTTGTACCAACGGGGATCCAAAGGCAGGTGCTCCTGGCATCTGTGGGTGGAGGCCACAGCTGCTGCTAACATCCTGCAGTACCCAGACAGCCTCACGATGGAGCACAACTCAGCCCGAGGCTGAGTTAAACCAACTGCTGTTTTTTGTTTGTTTTGAGGTTTTTTGATTTGTT & 63768587 & 63788702 & m54329U\\_210326\\_192251/159909932/ccs & -17696 & 2294 & 19990 & m6a &  -9 &  -8 & 203 & Positive & 0.04623195\\\\\n",
       "\t chr20\\_63786415\\_+/m54329U\\_210326\\_192251/159909932/ccs & chr20\\_63786415\\_+ & chr20 & 63786415 & + & CAACTGCTAATGTCTGGAGACATTTTTGGTTGTACCAACGGGGATCCAAAGGCAGGTGCTCCTGGCATCTGTGGGTGGAGGCCACAGCTGCTGCTAACATCCTGCAGTACCCAGACAGCCTCACGATGGAGCACAACTCAGCCCGAGGCTGAGTTAAACCAACTGCTGTTTTTTGTTTGTTTTGAGGTTTTTTGATTTGTT & 63768587 & 63788702 & m54329U\\_210326\\_192251/159909932/ccs & -17696 & 2294 & 19990 & m6a &  -4 &  -3 & 203 & Positive & 0.04623195\\\\\n",
       "\t chr20\\_63786415\\_+/m54329U\\_210326\\_192251/159909932/ccs & chr20\\_63786415\\_+ & chr20 & 63786415 & + & CAACTGCTAATGTCTGGAGACATTTTTGGTTGTACCAACGGGGATCCAAAGGCAGGTGCTCCTGGCATCTGTGGGTGGAGGCCACAGCTGCTGCTAACATCCTGCAGTACCCAGACAGCCTCACGATGGAGCACAACTCAGCCCGAGGCTGAGTTAAACCAACTGCTGTTTTTTGTTTGTTTTGAGGTTTTTTGATTTGTT & 63768587 & 63788702 & m54329U\\_210326\\_192251/159909932/ccs & -17696 & 2294 & 19990 & m6a &  -2 &  -1 & 203 & Positive & 0.04623195\\\\\n",
       "\t chr20\\_63786415\\_+/m54329U\\_210326\\_192251/159909932/ccs & chr20\\_63786415\\_+ & chr20 & 63786415 & + & CAACTGCTAATGTCTGGAGACATTTTTGGTTGTACCAACGGGGATCCAAAGGCAGGTGCTCCTGGCATCTGTGGGTGGAGGCCACAGCTGCTGCTAACATCCTGCAGTACCCAGACAGCCTCACGATGGAGCACAACTCAGCCCGAGGCTGAGTTAAACCAACTGCTGTTTTTTGTTTGTTTTGAGGTTTTTTGATTTGTT & 63768587 & 63788702 & m54329U\\_210326\\_192251/159909932/ccs & -17696 & 2294 & 19990 & m6a &   5 &   6 & 203 & Positive & 0.04623195\\\\\n",
       "\t chr20\\_63786415\\_+/m54329U\\_210326\\_192251/159909932/ccs & chr20\\_63786415\\_+ & chr20 & 63786415 & + & CAACTGCTAATGTCTGGAGACATTTTTGGTTGTACCAACGGGGATCCAAAGGCAGGTGCTCCTGGCATCTGTGGGTGGAGGCCACAGCTGCTGCTAACATCCTGCAGTACCCAGACAGCCTCACGATGGAGCACAACTCAGCCCGAGGCTGAGTTAAACCAACTGCTGTTTTTTGTTTGTTTTGAGGTTTTTTGATTTGTT & 63768587 & 63788702 & m54329U\\_210326\\_192251/159909932/ccs & -17696 & 2294 & 19990 & m6a &   8 &   9 & 203 & Positive & 0.04623195\\\\\n",
       "\t chr20\\_63786415\\_+/m54329U\\_210326\\_192251/159909932/ccs & chr20\\_63786415\\_+ & chr20 & 63786415 & + & CAACTGCTAATGTCTGGAGACATTTTTGGTTGTACCAACGGGGATCCAAAGGCAGGTGCTCCTGGCATCTGTGGGTGGAGGCCACAGCTGCTGCTAACATCCTGCAGTACCCAGACAGCCTCACGATGGAGCACAACTCAGCCCGAGGCTGAGTTAAACCAACTGCTGTTTTTTGTTTGTTTTGAGGTTTTTTGATTTGTT & 63768587 & 63788702 & m54329U\\_210326\\_192251/159909932/ccs & -17696 & 2294 & 19990 & m6a &  12 &  13 & 203 & Positive & 0.04623195\\\\\n",
       "\t chr20\\_63786415\\_+/m54329U\\_210326\\_192251/159909932/ccs & chr20\\_63786415\\_+ & chr20 & 63786415 & + & CAACTGCTAATGTCTGGAGACATTTTTGGTTGTACCAACGGGGATCCAAAGGCAGGTGCTCCTGGCATCTGTGGGTGGAGGCCACAGCTGCTGCTAACATCCTGCAGTACCCAGACAGCCTCACGATGGAGCACAACTCAGCCCGAGGCTGAGTTAAACCAACTGCTGTTTTTTGTTTGTTTTGAGGTTTTTTGATTTGTT & 63768587 & 63788702 & m54329U\\_210326\\_192251/159909932/ccs & -17696 & 2294 & 19990 & m6a &  14 &  15 & 203 & Positive & 0.04623195\\\\\n",
       "\t chr20\\_63786415\\_+/m54329U\\_210326\\_192251/159909932/ccs & chr20\\_63786415\\_+ & chr20 & 63786415 & + & CAACTGCTAATGTCTGGAGACATTTTTGGTTGTACCAACGGGGATCCAAAGGCAGGTGCTCCTGGCATCTGTGGGTGGAGGCCACAGCTGCTGCTAACATCCTGCAGTACCCAGACAGCCTCACGATGGAGCACAACTCAGCCCGAGGCTGAGTTAAACCAACTGCTGTTTTTTGTTTGTTTTGAGGTTTTTTGATTTGTT & 63768587 & 63788702 & m54329U\\_210326\\_192251/159909932/ccs & -17696 & 2294 & 19990 & m6a &  16 &  17 & 203 & Positive & 0.04623195\\\\\n",
       "\t chr20\\_63786415\\_+/m54329U\\_210326\\_192251/159909932/ccs & chr20\\_63786415\\_+ & chr20 & 63786415 & + & CAACTGCTAATGTCTGGAGACATTTTTGGTTGTACCAACGGGGATCCAAAGGCAGGTGCTCCTGGCATCTGTGGGTGGAGGCCACAGCTGCTGCTAACATCCTGCAGTACCCAGACAGCCTCACGATGGAGCACAACTCAGCCCGAGGCTGAGTTAAACCAACTGCTGTTTTTTGTTTGTTTTGAGGTTTTTTGATTTGTT & 63768587 & 63788702 & m54329U\\_210326\\_192251/159909932/ccs & -17696 & 2294 & 19990 & m6a &  20 &  21 & 203 & Positive & 0.04623195\\\\\n",
       "\t ⋮ & ⋮ & ⋮ & ⋮ & ⋮ & ⋮ & ⋮ & ⋮ & ⋮ & ⋮ & ⋮ & ⋮ & ⋮ & ⋮ & ⋮ & ⋮ & ⋮ & ⋮\\\\\n",
       "\t chr20\\_63786415\\_+/m64076\\_221119\\_202646/48301320/ccs   & chr20\\_63786415\\_+ & chr20 & 63786415 & + & ACTGCTAATGTCTGGAGACATTTTTGGTTGTACCAACGGGGGATTCCAAAGGCAGGTGCTCCTGGCGTCTGTGGGTGGAGGCCACAGCTGCTGCTAACATCCTGCAGTACCCAGGACAGCCTCACGATGGAGCACAACTCAGCCCGAGGCTGAGTTAAACCAACTGCTGTTTTTTGTTTGTTTTGAGGTTTTTTGATTTGT & 63785374 & 63810049 & m64076\\_221119\\_202646/48301320/ccs   & -1040 & 23627 & 24667 & m6a &  70 &  71 & 227 & Positive & 0.002571578\\\\\n",
       "\t chr20\\_63786415\\_+/m64076\\_221119\\_202646/48301320/ccs   & chr20\\_63786415\\_+ & chr20 & 63786415 & + & ACTGCTAATGTCTGGAGACATTTTTGGTTGTACCAACGGGGGATTCCAAAGGCAGGTGCTCCTGGCGTCTGTGGGTGGAGGCCACAGCTGCTGCTAACATCCTGCAGTACCCAGGACAGCCTCACGATGGAGCACAACTCAGCCCGAGGCTGAGTTAAACCAACTGCTGTTTTTTGTTTGTTTTGAGGTTTTTTGATTTGT & 63785374 & 63810049 & m64076\\_221119\\_202646/48301320/ccs   & -1040 & 23627 & 24667 & m6a &  72 &  73 & 227 & Positive & 0.002571578\\\\\n",
       "\t chr20\\_63786415\\_+/m64076\\_221119\\_202646/48301320/ccs   & chr20\\_63786415\\_+ & chr20 & 63786415 & + & ACTGCTAATGTCTGGAGACATTTTTGGTTGTACCAACGGGGGATTCCAAAGGCAGGTGCTCCTGGCGTCTGTGGGTGGAGGCCACAGCTGCTGCTAACATCCTGCAGTACCCAGGACAGCCTCACGATGGAGCACAACTCAGCCCGAGGCTGAGTTAAACCAACTGCTGTTTTTTGTTTGTTTTGAGGTTTTTTGATTTGT & 63785374 & 63810049 & m64076\\_221119\\_202646/48301320/ccs   & -1040 & 23627 & 24667 & m6a &  76 &  77 & 227 & Positive & 0.002571578\\\\\n",
       "\t chr20\\_63786415\\_+/m64076\\_221119\\_202646/48301320/ccs   & chr20\\_63786415\\_+ & chr20 & 63786415 & + & ACTGCTAATGTCTGGAGACATTTTTGGTTGTACCAACGGGGGATTCCAAAGGCAGGTGCTCCTGGCGTCTGTGGGTGGAGGCCACAGCTGCTGCTAACATCCTGCAGTACCCAGGACAGCCTCACGATGGAGCACAACTCAGCCCGAGGCTGAGTTAAACCAACTGCTGTTTTTTGTTTGTTTTGAGGTTTTTTGATTTGT & 63785374 & 63810049 & m64076\\_221119\\_202646/48301320/ccs   & -1040 & 23627 & 24667 & m6a &  83 &  84 & 227 & Positive & 0.002571578\\\\\n",
       "\t chr20\\_63786415\\_+/m64076\\_221119\\_202646/48301320/ccs   & chr20\\_63786415\\_+ & chr20 & 63786415 & + & ACTGCTAATGTCTGGAGACATTTTTGGTTGTACCAACGGGGGATTCCAAAGGCAGGTGCTCCTGGCGTCTGTGGGTGGAGGCCACAGCTGCTGCTAACATCCTGCAGTACCCAGGACAGCCTCACGATGGAGCACAACTCAGCCCGAGGCTGAGTTAAACCAACTGCTGTTTTTTGTTTGTTTTGAGGTTTTTTGATTTGT & 63785374 & 63810049 & m64076\\_221119\\_202646/48301320/ccs   & -1040 & 23627 & 24667 & m6a &  85 &  86 & 227 & Positive & 0.002571578\\\\\n",
       "\t chr20\\_63786415\\_+/m54329U\\_210323\\_190418/141099066/ccs & chr20\\_63786415\\_+ & chr20 & 63786415 & + & ACTGCTAATGTCTGGAGACATTTTTGGTTGTACCAACGGGGGAATCCAAAGGCAGGTGCTCCTGGCGTCTGTGGGTGGAGGCCACAGCTGCTGCTAACATCCTGCAGTACCCAGGACAGCCTCACGATGGAGCACAACTCAGCCCGAGGGGCTGAGTTAAACCAACTGCTGTTTTTTGTTTGTTTTGAGGTTTTTTGATTT & 63785994 & 63804331 & m54329U\\_210323\\_190418/141099066/ccs &  -422 & 17983 & 18405 & m6a & -52 & -51 & 124 & Positive & 0.009340050\\\\\n",
       "\t chr20\\_63786415\\_+/m54329U\\_210323\\_190418/141099066/ccs & chr20\\_63786415\\_+ & chr20 & 63786415 & + & ACTGCTAATGTCTGGAGACATTTTTGGTTGTACCAACGGGGGAATCCAAAGGCAGGTGCTCCTGGCGTCTGTGGGTGGAGGCCACAGCTGCTGCTAACATCCTGCAGTACCCAGGACAGCCTCACGATGGAGCACAACTCAGCCCGAGGGGCTGAGTTAAACCAACTGCTGTTTTTTGTTTGTTTTGAGGTTTTTTGATTT & 63785994 & 63804331 & m54329U\\_210323\\_190418/141099066/ccs &  -422 & 17983 & 18405 & m6a & -47 & -46 & 124 & Positive & 0.009340050\\\\\n",
       "\t chr20\\_63786415\\_+/m54329U\\_210323\\_190418/141099066/ccs & chr20\\_63786415\\_+ & chr20 & 63786415 & + & ACTGCTAATGTCTGGAGACATTTTTGGTTGTACCAACGGGGGAATCCAAAGGCAGGTGCTCCTGGCGTCTGTGGGTGGAGGCCACAGCTGCTGCTAACATCCTGCAGTACCCAGGACAGCCTCACGATGGAGCACAACTCAGCCCGAGGGGCTGAGTTAAACCAACTGCTGTTTTTTGTTTGTTTTGAGGTTTTTTGATTT & 63785994 & 63804331 & m54329U\\_210323\\_190418/141099066/ccs &  -422 & 17983 & 18405 & m6a & -44 & -43 & 124 & Positive & 0.009340050\\\\\n",
       "\t chr20\\_63786415\\_+/m54329U\\_210323\\_190418/141099066/ccs & chr20\\_63786415\\_+ & chr20 & 63786415 & + & ACTGCTAATGTCTGGAGACATTTTTGGTTGTACCAACGGGGGAATCCAAAGGCAGGTGCTCCTGGCGTCTGTGGGTGGAGGCCACAGCTGCTGCTAACATCCTGCAGTACCCAGGACAGCCTCACGATGGAGCACAACTCAGCCCGAGGGGCTGAGTTAAACCAACTGCTGTTTTTTGTTTGTTTTGAGGTTTTTTGATTT & 63785994 & 63804331 & m54329U\\_210323\\_190418/141099066/ccs &  -422 & 17983 & 18405 & m6a & -41 & -40 & 124 & Positive & 0.009340050\\\\\n",
       "\t chr20\\_63786415\\_+/m54329U\\_210323\\_190418/141099066/ccs & chr20\\_63786415\\_+ & chr20 & 63786415 & + & ACTGCTAATGTCTGGAGACATTTTTGGTTGTACCAACGGGGGAATCCAAAGGCAGGTGCTCCTGGCGTCTGTGGGTGGAGGCCACAGCTGCTGCTAACATCCTGCAGTACCCAGGACAGCCTCACGATGGAGCACAACTCAGCCCGAGGGGCTGAGTTAAACCAACTGCTGTTTTTTGTTTGTTTTGAGGTTTTTTGATTT & 63785994 & 63804331 & m54329U\\_210323\\_190418/141099066/ccs &  -422 & 17983 & 18405 & m6a & -38 & -37 & 124 & Positive & 0.009340050\\\\\n",
       "\t chr20\\_63786415\\_+/m54329U\\_210323\\_190418/141099066/ccs & chr20\\_63786415\\_+ & chr20 & 63786415 & + & ACTGCTAATGTCTGGAGACATTTTTGGTTGTACCAACGGGGGAATCCAAAGGCAGGTGCTCCTGGCGTCTGTGGGTGGAGGCCACAGCTGCTGCTAACATCCTGCAGTACCCAGGACAGCCTCACGATGGAGCACAACTCAGCCCGAGGGGCTGAGTTAAACCAACTGCTGTTTTTTGTTTGTTTTGAGGTTTTTTGATTT & 63785994 & 63804331 & m54329U\\_210323\\_190418/141099066/ccs &  -422 & 17983 & 18405 & m6a & -33 & -32 & 124 & Positive & 0.009340050\\\\\n",
       "\t chr20\\_63786415\\_+/m54329U\\_210323\\_190418/141099066/ccs & chr20\\_63786415\\_+ & chr20 & 63786415 & + & ACTGCTAATGTCTGGAGACATTTTTGGTTGTACCAACGGGGGAATCCAAAGGCAGGTGCTCCTGGCGTCTGTGGGTGGAGGCCACAGCTGCTGCTAACATCCTGCAGTACCCAGGACAGCCTCACGATGGAGCACAACTCAGCCCGAGGGGCTGAGTTAAACCAACTGCTGTTTTTTGTTTGTTTTGAGGTTTTTTGATTT & 63785994 & 63804331 & m54329U\\_210323\\_190418/141099066/ccs &  -422 & 17983 & 18405 & m6a & -31 & -30 & 124 & Positive & 0.009340050\\\\\n",
       "\t chr20\\_63786415\\_+/m54329U\\_210323\\_190418/141099066/ccs & chr20\\_63786415\\_+ & chr20 & 63786415 & + & ACTGCTAATGTCTGGAGACATTTTTGGTTGTACCAACGGGGGAATCCAAAGGCAGGTGCTCCTGGCGTCTGTGGGTGGAGGCCACAGCTGCTGCTAACATCCTGCAGTACCCAGGACAGCCTCACGATGGAGCACAACTCAGCCCGAGGGGCTGAGTTAAACCAACTGCTGTTTTTTGTTTGTTTTGAGGTTTTTTGATTT & 63785994 & 63804331 & m54329U\\_210323\\_190418/141099066/ccs &  -422 & 17983 & 18405 & m6a & -29 & -28 & 124 & Positive & 0.009340050\\\\\n",
       "\t chr20\\_63786415\\_+/m54329U\\_210323\\_190418/141099066/ccs & chr20\\_63786415\\_+ & chr20 & 63786415 & + & ACTGCTAATGTCTGGAGACATTTTTGGTTGTACCAACGGGGGAATCCAAAGGCAGGTGCTCCTGGCGTCTGTGGGTGGAGGCCACAGCTGCTGCTAACATCCTGCAGTACCCAGGACAGCCTCACGATGGAGCACAACTCAGCCCGAGGGGCTGAGTTAAACCAACTGCTGTTTTTTGTTTGTTTTGAGGTTTTTTGATTT & 63785994 & 63804331 & m54329U\\_210323\\_190418/141099066/ccs &  -422 & 17983 & 18405 & m6a & -25 & -24 & 124 & Positive & 0.009340050\\\\\n",
       "\t chr20\\_63786415\\_+/m54329U\\_210323\\_190418/141099066/ccs & chr20\\_63786415\\_+ & chr20 & 63786415 & + & ACTGCTAATGTCTGGAGACATTTTTGGTTGTACCAACGGGGGAATCCAAAGGCAGGTGCTCCTGGCGTCTGTGGGTGGAGGCCACAGCTGCTGCTAACATCCTGCAGTACCCAGGACAGCCTCACGATGGAGCACAACTCAGCCCGAGGGGCTGAGTTAAACCAACTGCTGTTTTTTGTTTGTTTTGAGGTTTTTTGATTT & 63785994 & 63804331 & m54329U\\_210323\\_190418/141099066/ccs &  -422 & 17983 & 18405 & m6a & -17 & -16 & 124 & Positive & 0.009340050\\\\\n",
       "\t chr20\\_63786415\\_+/m54329U\\_210323\\_190418/141099066/ccs & chr20\\_63786415\\_+ & chr20 & 63786415 & + & ACTGCTAATGTCTGGAGACATTTTTGGTTGTACCAACGGGGGAATCCAAAGGCAGGTGCTCCTGGCGTCTGTGGGTGGAGGCCACAGCTGCTGCTAACATCCTGCAGTACCCAGGACAGCCTCACGATGGAGCACAACTCAGCCCGAGGGGCTGAGTTAAACCAACTGCTGTTTTTTGTTTGTTTTGAGGTTTTTTGATTT & 63785994 & 63804331 & m54329U\\_210323\\_190418/141099066/ccs &  -422 & 17983 & 18405 & m6a & -15 & -14 & 124 & Positive & 0.009340050\\\\\n",
       "\t chr20\\_63786415\\_+/m54329U\\_210323\\_190418/141099066/ccs & chr20\\_63786415\\_+ & chr20 & 63786415 & + & ACTGCTAATGTCTGGAGACATTTTTGGTTGTACCAACGGGGGAATCCAAAGGCAGGTGCTCCTGGCGTCTGTGGGTGGAGGCCACAGCTGCTGCTAACATCCTGCAGTACCCAGGACAGCCTCACGATGGAGCACAACTCAGCCCGAGGGGCTGAGTTAAACCAACTGCTGTTTTTTGTTTGTTTTGAGGTTTTTTGATTT & 63785994 & 63804331 & m54329U\\_210323\\_190418/141099066/ccs &  -422 & 17983 & 18405 & m6a & -12 & -11 & 124 & Positive & 0.009340050\\\\\n",
       "\t chr20\\_63786415\\_+/m54329U\\_210323\\_190418/141099066/ccs & chr20\\_63786415\\_+ & chr20 & 63786415 & + & ACTGCTAATGTCTGGAGACATTTTTGGTTGTACCAACGGGGGAATCCAAAGGCAGGTGCTCCTGGCGTCTGTGGGTGGAGGCCACAGCTGCTGCTAACATCCTGCAGTACCCAGGACAGCCTCACGATGGAGCACAACTCAGCCCGAGGGGCTGAGTTAAACCAACTGCTGTTTTTTGTTTGTTTTGAGGTTTTTTGATTT & 63785994 & 63804331 & m54329U\\_210323\\_190418/141099066/ccs &  -422 & 17983 & 18405 & m6a &  -9 &  -8 & 124 & Positive & 0.009340050\\\\\n",
       "\t chr20\\_63786415\\_+/m54329U\\_210323\\_190418/141099066/ccs & chr20\\_63786415\\_+ & chr20 & 63786415 & + & ACTGCTAATGTCTGGAGACATTTTTGGTTGTACCAACGGGGGAATCCAAAGGCAGGTGCTCCTGGCGTCTGTGGGTGGAGGCCACAGCTGCTGCTAACATCCTGCAGTACCCAGGACAGCCTCACGATGGAGCACAACTCAGCCCGAGGGGCTGAGTTAAACCAACTGCTGTTTTTTGTTTGTTTTGAGGTTTTTTGATTT & 63785994 & 63804331 & m54329U\\_210323\\_190418/141099066/ccs &  -422 & 17983 & 18405 & m6a &  30 &  31 & 124 & Positive & 0.009340050\\\\\n",
       "\t chr20\\_63786415\\_+/m54329U\\_210323\\_190418/141099066/ccs & chr20\\_63786415\\_+ & chr20 & 63786415 & + & ACTGCTAATGTCTGGAGACATTTTTGGTTGTACCAACGGGGGAATCCAAAGGCAGGTGCTCCTGGCGTCTGTGGGTGGAGGCCACAGCTGCTGCTAACATCCTGCAGTACCCAGGACAGCCTCACGATGGAGCACAACTCAGCCCGAGGGGCTGAGTTAAACCAACTGCTGTTTTTTGTTTGTTTTGAGGTTTTTTGATTT & 63785994 & 63804331 & m54329U\\_210323\\_190418/141099066/ccs &  -422 & 17983 & 18405 & m6a &  33 &  34 & 124 & Positive & 0.009340050\\\\\n",
       "\t chr20\\_63786415\\_+/m54329U\\_210323\\_190418/141099066/ccs & chr20\\_63786415\\_+ & chr20 & 63786415 & + & ACTGCTAATGTCTGGAGACATTTTTGGTTGTACCAACGGGGGAATCCAAAGGCAGGTGCTCCTGGCGTCTGTGGGTGGAGGCCACAGCTGCTGCTAACATCCTGCAGTACCCAGGACAGCCTCACGATGGAGCACAACTCAGCCCGAGGGGCTGAGTTAAACCAACTGCTGTTTTTTGTTTGTTTTGAGGTTTTTTGATTT & 63785994 & 63804331 & m54329U\\_210323\\_190418/141099066/ccs &  -422 & 17983 & 18405 & m6a &  35 &  36 & 124 & Positive & 0.009340050\\\\\n",
       "\t chr20\\_63786415\\_+/m54329U\\_210323\\_190418/141099066/ccs & chr20\\_63786415\\_+ & chr20 & 63786415 & + & ACTGCTAATGTCTGGAGACATTTTTGGTTGTACCAACGGGGGAATCCAAAGGCAGGTGCTCCTGGCGTCTGTGGGTGGAGGCCACAGCTGCTGCTAACATCCTGCAGTACCCAGGACAGCCTCACGATGGAGCACAACTCAGCCCGAGGGGCTGAGTTAAACCAACTGCTGTTTTTTGTTTGTTTTGAGGTTTTTTGATTT & 63785994 & 63804331 & m54329U\\_210323\\_190418/141099066/ccs &  -422 & 17983 & 18405 & m6a &  36 &  37 & 124 & Positive & 0.009340050\\\\\n",
       "\t chr20\\_63786415\\_+/m54329U\\_210323\\_190418/141099066/ccs & chr20\\_63786415\\_+ & chr20 & 63786415 & + & ACTGCTAATGTCTGGAGACATTTTTGGTTGTACCAACGGGGGAATCCAAAGGCAGGTGCTCCTGGCGTCTGTGGGTGGAGGCCACAGCTGCTGCTAACATCCTGCAGTACCCAGGACAGCCTCACGATGGAGCACAACTCAGCCCGAGGGGCTGAGTTAAACCAACTGCTGTTTTTTGTTTGTTTTGAGGTTTTTTGATTT & 63785994 & 63804331 & m54329U\\_210323\\_190418/141099066/ccs &  -422 & 17983 & 18405 & m6a &  38 &  39 & 124 & Positive & 0.009340050\\\\\n",
       "\t chr20\\_63786415\\_+/m54329U\\_210323\\_190418/141099066/ccs & chr20\\_63786415\\_+ & chr20 & 63786415 & + & ACTGCTAATGTCTGGAGACATTTTTGGTTGTACCAACGGGGGAATCCAAAGGCAGGTGCTCCTGGCGTCTGTGGGTGGAGGCCACAGCTGCTGCTAACATCCTGCAGTACCCAGGACAGCCTCACGATGGAGCACAACTCAGCCCGAGGGGCTGAGTTAAACCAACTGCTGTTTTTTGTTTGTTTTGAGGTTTTTTGATTT & 63785994 & 63804331 & m54329U\\_210323\\_190418/141099066/ccs &  -422 & 17983 & 18405 & m6a &  40 &  41 & 124 & Positive & 0.009340050\\\\\n",
       "\t chr20\\_63786415\\_+/m54329U\\_210323\\_190418/141099066/ccs & chr20\\_63786415\\_+ & chr20 & 63786415 & + & ACTGCTAATGTCTGGAGACATTTTTGGTTGTACCAACGGGGGAATCCAAAGGCAGGTGCTCCTGGCGTCTGTGGGTGGAGGCCACAGCTGCTGCTAACATCCTGCAGTACCCAGGACAGCCTCACGATGGAGCACAACTCAGCCCGAGGGGCTGAGTTAAACCAACTGCTGTTTTTTGTTTGTTTTGAGGTTTTTTGATTT & 63785994 & 63804331 & m54329U\\_210323\\_190418/141099066/ccs &  -422 & 17983 & 18405 & m6a &  46 &  47 & 124 & Positive & 0.009340050\\\\\n",
       "\t chr20\\_63786415\\_+/m54329U\\_210323\\_190418/141099066/ccs & chr20\\_63786415\\_+ & chr20 & 63786415 & + & ACTGCTAATGTCTGGAGACATTTTTGGTTGTACCAACGGGGGAATCCAAAGGCAGGTGCTCCTGGCGTCTGTGGGTGGAGGCCACAGCTGCTGCTAACATCCTGCAGTACCCAGGACAGCCTCACGATGGAGCACAACTCAGCCCGAGGGGCTGAGTTAAACCAACTGCTGTTTTTTGTTTGTTTTGAGGTTTTTTGATTT & 63785994 & 63804331 & m54329U\\_210323\\_190418/141099066/ccs &  -422 & 17983 & 18405 & m6a &  54 &  55 & 124 & Positive & 0.009340050\\\\\n",
       "\t chr20\\_63786415\\_+/m54329U\\_210323\\_190418/141099066/ccs & chr20\\_63786415\\_+ & chr20 & 63786415 & + & ACTGCTAATGTCTGGAGACATTTTTGGTTGTACCAACGGGGGAATCCAAAGGCAGGTGCTCCTGGCGTCTGTGGGTGGAGGCCACAGCTGCTGCTAACATCCTGCAGTACCCAGGACAGCCTCACGATGGAGCACAACTCAGCCCGAGGGGCTGAGTTAAACCAACTGCTGTTTTTTGTTTGTTTTGAGGTTTTTTGATTT & 63785994 & 63804331 & m54329U\\_210323\\_190418/141099066/ccs &  -422 & 17983 & 18405 & m6a &  56 &  57 & 124 & Positive & 0.009340050\\\\\n",
       "\t chr20\\_63786415\\_+/m54329U\\_210323\\_190418/141099066/ccs & chr20\\_63786415\\_+ & chr20 & 63786415 & + & ACTGCTAATGTCTGGAGACATTTTTGGTTGTACCAACGGGGGAATCCAAAGGCAGGTGCTCCTGGCGTCTGTGGGTGGAGGCCACAGCTGCTGCTAACATCCTGCAGTACCCAGGACAGCCTCACGATGGAGCACAACTCAGCCCGAGGGGCTGAGTTAAACCAACTGCTGTTTTTTGTTTGTTTTGAGGTTTTTTGATTT & 63785994 & 63804331 & m54329U\\_210323\\_190418/141099066/ccs &  -422 & 17983 & 18405 & m6a &  66 &  67 & 124 & Positive & 0.009340050\\\\\n",
       "\t chr20\\_63786415\\_+/m54329U\\_210323\\_190418/141099066/ccs & chr20\\_63786415\\_+ & chr20 & 63786415 & + & ACTGCTAATGTCTGGAGACATTTTTGGTTGTACCAACGGGGGAATCCAAAGGCAGGTGCTCCTGGCGTCTGTGGGTGGAGGCCACAGCTGCTGCTAACATCCTGCAGTACCCAGGACAGCCTCACGATGGAGCACAACTCAGCCCGAGGGGCTGAGTTAAACCAACTGCTGTTTTTTGTTTGTTTTGAGGTTTTTTGATTT & 63785994 & 63804331 & m54329U\\_210323\\_190418/141099066/ccs &  -422 & 17983 & 18405 & m6a &  69 &  70 & 124 & Positive & 0.009340050\\\\\n",
       "\t chr20\\_63786415\\_+/m54329U\\_210323\\_190418/141099066/ccs & chr20\\_63786415\\_+ & chr20 & 63786415 & + & ACTGCTAATGTCTGGAGACATTTTTGGTTGTACCAACGGGGGAATCCAAAGGCAGGTGCTCCTGGCGTCTGTGGGTGGAGGCCACAGCTGCTGCTAACATCCTGCAGTACCCAGGACAGCCTCACGATGGAGCACAACTCAGCCCGAGGGGCTGAGTTAAACCAACTGCTGTTTTTTGTTTGTTTTGAGGTTTTTTGATTT & 63785994 & 63804331 & m54329U\\_210323\\_190418/141099066/ccs &  -422 & 17983 & 18405 & m6a &  71 &  72 & 124 & Positive & 0.009340050\\\\\n",
       "\\end{tabular}\n"
      ],
      "text/markdown": [
       "\n",
       "A data.table: 1005 × 18\n",
       "\n",
       "| motif_query &lt;chr&gt; | motif_name &lt;chr&gt; | chrom &lt;chr&gt; | centering_position &lt;int&gt; | strand &lt;chr&gt; | subset_sequence &lt;chr&gt; | reference_start &lt;int&gt; | reference_end &lt;int&gt; | query_name &lt;chr&gt; | centered_query_start &lt;int&gt; | centered_query_end &lt;int&gt; | query_length &lt;int&gt; | centered_position_type &lt;chr&gt; | centered_start &lt;int&gt; | centered_end &lt;int&gt; | msp_size &lt;int&gt; | Label &lt;chr&gt; | FDR &lt;dbl&gt; |\n",
       "|---|---|---|---|---|---|---|---|---|---|---|---|---|---|---|---|---|---|\n",
       "| chr20_63786415_+/m54329U_210326_192251/159909932/ccs | chr20_63786415_+ | chr20 | 63786415 | + | CAACTGCTAATGTCTGGAGACATTTTTGGTTGTACCAACGGGGATCCAAAGGCAGGTGCTCCTGGCATCTGTGGGTGGAGGCCACAGCTGCTGCTAACATCCTGCAGTACCCAGACAGCCTCACGATGGAGCACAACTCAGCCCGAGGCTGAGTTAAACCAACTGCTGTTTTTTGTTTGTTTTGAGGTTTTTTGATTTGTT | 63768587 | 63788702 | m54329U_210326_192251/159909932/ccs | -17696 | 2294 | 19990 | m6a | -67 | -66 | 203 | Positive | 0.04623195 |\n",
       "| chr20_63786415_+/m54329U_210326_192251/159909932/ccs | chr20_63786415_+ | chr20 | 63786415 | + | CAACTGCTAATGTCTGGAGACATTTTTGGTTGTACCAACGGGGATCCAAAGGCAGGTGCTCCTGGCATCTGTGGGTGGAGGCCACAGCTGCTGCTAACATCCTGCAGTACCCAGACAGCCTCACGATGGAGCACAACTCAGCCCGAGGCTGAGTTAAACCAACTGCTGTTTTTTGTTTGTTTTGAGGTTTTTTGATTTGTT | 63768587 | 63788702 | m54329U_210326_192251/159909932/ccs | -17696 | 2294 | 19990 | m6a | -64 | -63 | 203 | Positive | 0.04623195 |\n",
       "| chr20_63786415_+/m54329U_210326_192251/159909932/ccs | chr20_63786415_+ | chr20 | 63786415 | + | CAACTGCTAATGTCTGGAGACATTTTTGGTTGTACCAACGGGGATCCAAAGGCAGGTGCTCCTGGCATCTGTGGGTGGAGGCCACAGCTGCTGCTAACATCCTGCAGTACCCAGACAGCCTCACGATGGAGCACAACTCAGCCCGAGGCTGAGTTAAACCAACTGCTGTTTTTTGTTTGTTTTGAGGTTTTTTGATTTGTT | 63768587 | 63788702 | m54329U_210326_192251/159909932/ccs | -17696 | 2294 | 19990 | m6a | -63 | -62 | 203 | Positive | 0.04623195 |\n",
       "| chr20_63786415_+/m54329U_210326_192251/159909932/ccs | chr20_63786415_+ | chr20 | 63786415 | + | CAACTGCTAATGTCTGGAGACATTTTTGGTTGTACCAACGGGGATCCAAAGGCAGGTGCTCCTGGCATCTGTGGGTGGAGGCCACAGCTGCTGCTAACATCCTGCAGTACCCAGACAGCCTCACGATGGAGCACAACTCAGCCCGAGGCTGAGTTAAACCAACTGCTGTTTTTTGTTTGTTTTGAGGTTTTTTGATTTGTT | 63768587 | 63788702 | m54329U_210326_192251/159909932/ccs | -17696 | 2294 | 19990 | m6a | -57 | -56 | 203 | Positive | 0.04623195 |\n",
       "| chr20_63786415_+/m54329U_210326_192251/159909932/ccs | chr20_63786415_+ | chr20 | 63786415 | + | CAACTGCTAATGTCTGGAGACATTTTTGGTTGTACCAACGGGGATCCAAAGGCAGGTGCTCCTGGCATCTGTGGGTGGAGGCCACAGCTGCTGCTAACATCCTGCAGTACCCAGACAGCCTCACGATGGAGCACAACTCAGCCCGAGGCTGAGTTAAACCAACTGCTGTTTTTTGTTTGTTTTGAGGTTTTTTGATTTGTT | 63768587 | 63788702 | m54329U_210326_192251/159909932/ccs | -17696 | 2294 | 19990 | m6a | -56 | -55 | 203 | Positive | 0.04623195 |\n",
       "| chr20_63786415_+/m54329U_210326_192251/159909932/ccs | chr20_63786415_+ | chr20 | 63786415 | + | CAACTGCTAATGTCTGGAGACATTTTTGGTTGTACCAACGGGGATCCAAAGGCAGGTGCTCCTGGCATCTGTGGGTGGAGGCCACAGCTGCTGCTAACATCCTGCAGTACCCAGACAGCCTCACGATGGAGCACAACTCAGCCCGAGGCTGAGTTAAACCAACTGCTGTTTTTTGTTTGTTTTGAGGTTTTTTGATTTGTT | 63768587 | 63788702 | m54329U_210326_192251/159909932/ccs | -17696 | 2294 | 19990 | m6a | -53 | -52 | 203 | Positive | 0.04623195 |\n",
       "| chr20_63786415_+/m54329U_210326_192251/159909932/ccs | chr20_63786415_+ | chr20 | 63786415 | + | CAACTGCTAATGTCTGGAGACATTTTTGGTTGTACCAACGGGGATCCAAAGGCAGGTGCTCCTGGCATCTGTGGGTGGAGGCCACAGCTGCTGCTAACATCCTGCAGTACCCAGACAGCCTCACGATGGAGCACAACTCAGCCCGAGGCTGAGTTAAACCAACTGCTGTTTTTTGTTTGTTTTGAGGTTTTTTGATTTGTT | 63768587 | 63788702 | m54329U_210326_192251/159909932/ccs | -17696 | 2294 | 19990 | m6a | -52 | -51 | 203 | Positive | 0.04623195 |\n",
       "| chr20_63786415_+/m54329U_210326_192251/159909932/ccs | chr20_63786415_+ | chr20 | 63786415 | + | CAACTGCTAATGTCTGGAGACATTTTTGGTTGTACCAACGGGGATCCAAAGGCAGGTGCTCCTGGCATCTGTGGGTGGAGGCCACAGCTGCTGCTAACATCCTGCAGTACCCAGACAGCCTCACGATGGAGCACAACTCAGCCCGAGGCTGAGTTAAACCAACTGCTGTTTTTTGTTTGTTTTGAGGTTTTTTGATTTGTT | 63768587 | 63788702 | m54329U_210326_192251/159909932/ccs | -17696 | 2294 | 19990 | m6a | -51 | -50 | 203 | Positive | 0.04623195 |\n",
       "| chr20_63786415_+/m54329U_210326_192251/159909932/ccs | chr20_63786415_+ | chr20 | 63786415 | + | CAACTGCTAATGTCTGGAGACATTTTTGGTTGTACCAACGGGGATCCAAAGGCAGGTGCTCCTGGCATCTGTGGGTGGAGGCCACAGCTGCTGCTAACATCCTGCAGTACCCAGACAGCCTCACGATGGAGCACAACTCAGCCCGAGGCTGAGTTAAACCAACTGCTGTTTTTTGTTTGTTTTGAGGTTTTTTGATTTGTT | 63768587 | 63788702 | m54329U_210326_192251/159909932/ccs | -17696 | 2294 | 19990 | m6a | -47 | -46 | 203 | Positive | 0.04623195 |\n",
       "| chr20_63786415_+/m54329U_210326_192251/159909932/ccs | chr20_63786415_+ | chr20 | 63786415 | + | CAACTGCTAATGTCTGGAGACATTTTTGGTTGTACCAACGGGGATCCAAAGGCAGGTGCTCCTGGCATCTGTGGGTGGAGGCCACAGCTGCTGCTAACATCCTGCAGTACCCAGACAGCCTCACGATGGAGCACAACTCAGCCCGAGGCTGAGTTAAACCAACTGCTGTTTTTTGTTTGTTTTGAGGTTTTTTGATTTGTT | 63768587 | 63788702 | m54329U_210326_192251/159909932/ccs | -17696 | 2294 | 19990 | m6a | -44 | -43 | 203 | Positive | 0.04623195 |\n",
       "| chr20_63786415_+/m54329U_210326_192251/159909932/ccs | chr20_63786415_+ | chr20 | 63786415 | + | CAACTGCTAATGTCTGGAGACATTTTTGGTTGTACCAACGGGGATCCAAAGGCAGGTGCTCCTGGCATCTGTGGGTGGAGGCCACAGCTGCTGCTAACATCCTGCAGTACCCAGACAGCCTCACGATGGAGCACAACTCAGCCCGAGGCTGAGTTAAACCAACTGCTGTTTTTTGTTTGTTTTGAGGTTTTTTGATTTGTT | 63768587 | 63788702 | m54329U_210326_192251/159909932/ccs | -17696 | 2294 | 19990 | m6a | -41 | -40 | 203 | Positive | 0.04623195 |\n",
       "| chr20_63786415_+/m54329U_210326_192251/159909932/ccs | chr20_63786415_+ | chr20 | 63786415 | + | CAACTGCTAATGTCTGGAGACATTTTTGGTTGTACCAACGGGGATCCAAAGGCAGGTGCTCCTGGCATCTGTGGGTGGAGGCCACAGCTGCTGCTAACATCCTGCAGTACCCAGACAGCCTCACGATGGAGCACAACTCAGCCCGAGGCTGAGTTAAACCAACTGCTGTTTTTTGTTTGTTTTGAGGTTTTTTGATTTGTT | 63768587 | 63788702 | m54329U_210326_192251/159909932/ccs | -17696 | 2294 | 19990 | m6a | -38 | -37 | 203 | Positive | 0.04623195 |\n",
       "| chr20_63786415_+/m54329U_210326_192251/159909932/ccs | chr20_63786415_+ | chr20 | 63786415 | + | CAACTGCTAATGTCTGGAGACATTTTTGGTTGTACCAACGGGGATCCAAAGGCAGGTGCTCCTGGCATCTGTGGGTGGAGGCCACAGCTGCTGCTAACATCCTGCAGTACCCAGACAGCCTCACGATGGAGCACAACTCAGCCCGAGGCTGAGTTAAACCAACTGCTGTTTTTTGTTTGTTTTGAGGTTTTTTGATTTGTT | 63768587 | 63788702 | m54329U_210326_192251/159909932/ccs | -17696 | 2294 | 19990 | m6a | -34 | -33 | 203 | Positive | 0.04623195 |\n",
       "| chr20_63786415_+/m54329U_210326_192251/159909932/ccs | chr20_63786415_+ | chr20 | 63786415 | + | CAACTGCTAATGTCTGGAGACATTTTTGGTTGTACCAACGGGGATCCAAAGGCAGGTGCTCCTGGCATCTGTGGGTGGAGGCCACAGCTGCTGCTAACATCCTGCAGTACCCAGACAGCCTCACGATGGAGCACAACTCAGCCCGAGGCTGAGTTAAACCAACTGCTGTTTTTTGTTTGTTTTGAGGTTTTTTGATTTGTT | 63768587 | 63788702 | m54329U_210326_192251/159909932/ccs | -17696 | 2294 | 19990 | m6a | -33 | -32 | 203 | Positive | 0.04623195 |\n",
       "| chr20_63786415_+/m54329U_210326_192251/159909932/ccs | chr20_63786415_+ | chr20 | 63786415 | + | CAACTGCTAATGTCTGGAGACATTTTTGGTTGTACCAACGGGGATCCAAAGGCAGGTGCTCCTGGCATCTGTGGGTGGAGGCCACAGCTGCTGCTAACATCCTGCAGTACCCAGACAGCCTCACGATGGAGCACAACTCAGCCCGAGGCTGAGTTAAACCAACTGCTGTTTTTTGTTTGTTTTGAGGTTTTTTGATTTGTT | 63768587 | 63788702 | m54329U_210326_192251/159909932/ccs | -17696 | 2294 | 19990 | m6a | -31 | -30 | 203 | Positive | 0.04623195 |\n",
       "| chr20_63786415_+/m54329U_210326_192251/159909932/ccs | chr20_63786415_+ | chr20 | 63786415 | + | CAACTGCTAATGTCTGGAGACATTTTTGGTTGTACCAACGGGGATCCAAAGGCAGGTGCTCCTGGCATCTGTGGGTGGAGGCCACAGCTGCTGCTAACATCCTGCAGTACCCAGACAGCCTCACGATGGAGCACAACTCAGCCCGAGGCTGAGTTAAACCAACTGCTGTTTTTTGTTTGTTTTGAGGTTTTTTGATTTGTT | 63768587 | 63788702 | m54329U_210326_192251/159909932/ccs | -17696 | 2294 | 19990 | m6a | -29 | -28 | 203 | Positive | 0.04623195 |\n",
       "| chr20_63786415_+/m54329U_210326_192251/159909932/ccs | chr20_63786415_+ | chr20 | 63786415 | + | CAACTGCTAATGTCTGGAGACATTTTTGGTTGTACCAACGGGGATCCAAAGGCAGGTGCTCCTGGCATCTGTGGGTGGAGGCCACAGCTGCTGCTAACATCCTGCAGTACCCAGACAGCCTCACGATGGAGCACAACTCAGCCCGAGGCTGAGTTAAACCAACTGCTGTTTTTTGTTTGTTTTGAGGTTTTTTGATTTGTT | 63768587 | 63788702 | m54329U_210326_192251/159909932/ccs | -17696 | 2294 | 19990 | m6a | -25 | -24 | 203 | Positive | 0.04623195 |\n",
       "| chr20_63786415_+/m54329U_210326_192251/159909932/ccs | chr20_63786415_+ | chr20 | 63786415 | + | CAACTGCTAATGTCTGGAGACATTTTTGGTTGTACCAACGGGGATCCAAAGGCAGGTGCTCCTGGCATCTGTGGGTGGAGGCCACAGCTGCTGCTAACATCCTGCAGTACCCAGACAGCCTCACGATGGAGCACAACTCAGCCCGAGGCTGAGTTAAACCAACTGCTGTTTTTTGTTTGTTTTGAGGTTTTTTGATTTGTT | 63768587 | 63788702 | m54329U_210326_192251/159909932/ccs | -17696 | 2294 | 19990 | m6a | -22 | -21 | 203 | Positive | 0.04623195 |\n",
       "| chr20_63786415_+/m54329U_210326_192251/159909932/ccs | chr20_63786415_+ | chr20 | 63786415 | + | CAACTGCTAATGTCTGGAGACATTTTTGGTTGTACCAACGGGGATCCAAAGGCAGGTGCTCCTGGCATCTGTGGGTGGAGGCCACAGCTGCTGCTAACATCCTGCAGTACCCAGACAGCCTCACGATGGAGCACAACTCAGCCCGAGGCTGAGTTAAACCAACTGCTGTTTTTTGTTTGTTTTGAGGTTTTTTGATTTGTT | 63768587 | 63788702 | m54329U_210326_192251/159909932/ccs | -17696 | 2294 | 19990 | m6a | -17 | -16 | 203 | Positive | 0.04623195 |\n",
       "| chr20_63786415_+/m54329U_210326_192251/159909932/ccs | chr20_63786415_+ | chr20 | 63786415 | + | CAACTGCTAATGTCTGGAGACATTTTTGGTTGTACCAACGGGGATCCAAAGGCAGGTGCTCCTGGCATCTGTGGGTGGAGGCCACAGCTGCTGCTAACATCCTGCAGTACCCAGACAGCCTCACGATGGAGCACAACTCAGCCCGAGGCTGAGTTAAACCAACTGCTGTTTTTTGTTTGTTTTGAGGTTTTTTGATTTGTT | 63768587 | 63788702 | m54329U_210326_192251/159909932/ccs | -17696 | 2294 | 19990 | m6a | -15 | -14 | 203 | Positive | 0.04623195 |\n",
       "| chr20_63786415_+/m54329U_210326_192251/159909932/ccs | chr20_63786415_+ | chr20 | 63786415 | + | CAACTGCTAATGTCTGGAGACATTTTTGGTTGTACCAACGGGGATCCAAAGGCAGGTGCTCCTGGCATCTGTGGGTGGAGGCCACAGCTGCTGCTAACATCCTGCAGTACCCAGACAGCCTCACGATGGAGCACAACTCAGCCCGAGGCTGAGTTAAACCAACTGCTGTTTTTTGTTTGTTTTGAGGTTTTTTGATTTGTT | 63768587 | 63788702 | m54329U_210326_192251/159909932/ccs | -17696 | 2294 | 19990 | m6a | -12 | -11 | 203 | Positive | 0.04623195 |\n",
       "| chr20_63786415_+/m54329U_210326_192251/159909932/ccs | chr20_63786415_+ | chr20 | 63786415 | + | CAACTGCTAATGTCTGGAGACATTTTTGGTTGTACCAACGGGGATCCAAAGGCAGGTGCTCCTGGCATCTGTGGGTGGAGGCCACAGCTGCTGCTAACATCCTGCAGTACCCAGACAGCCTCACGATGGAGCACAACTCAGCCCGAGGCTGAGTTAAACCAACTGCTGTTTTTTGTTTGTTTTGAGGTTTTTTGATTTGTT | 63768587 | 63788702 | m54329U_210326_192251/159909932/ccs | -17696 | 2294 | 19990 | m6a |  -9 |  -8 | 203 | Positive | 0.04623195 |\n",
       "| chr20_63786415_+/m54329U_210326_192251/159909932/ccs | chr20_63786415_+ | chr20 | 63786415 | + | CAACTGCTAATGTCTGGAGACATTTTTGGTTGTACCAACGGGGATCCAAAGGCAGGTGCTCCTGGCATCTGTGGGTGGAGGCCACAGCTGCTGCTAACATCCTGCAGTACCCAGACAGCCTCACGATGGAGCACAACTCAGCCCGAGGCTGAGTTAAACCAACTGCTGTTTTTTGTTTGTTTTGAGGTTTTTTGATTTGTT | 63768587 | 63788702 | m54329U_210326_192251/159909932/ccs | -17696 | 2294 | 19990 | m6a |  -4 |  -3 | 203 | Positive | 0.04623195 |\n",
       "| chr20_63786415_+/m54329U_210326_192251/159909932/ccs | chr20_63786415_+ | chr20 | 63786415 | + | CAACTGCTAATGTCTGGAGACATTTTTGGTTGTACCAACGGGGATCCAAAGGCAGGTGCTCCTGGCATCTGTGGGTGGAGGCCACAGCTGCTGCTAACATCCTGCAGTACCCAGACAGCCTCACGATGGAGCACAACTCAGCCCGAGGCTGAGTTAAACCAACTGCTGTTTTTTGTTTGTTTTGAGGTTTTTTGATTTGTT | 63768587 | 63788702 | m54329U_210326_192251/159909932/ccs | -17696 | 2294 | 19990 | m6a |  -2 |  -1 | 203 | Positive | 0.04623195 |\n",
       "| chr20_63786415_+/m54329U_210326_192251/159909932/ccs | chr20_63786415_+ | chr20 | 63786415 | + | CAACTGCTAATGTCTGGAGACATTTTTGGTTGTACCAACGGGGATCCAAAGGCAGGTGCTCCTGGCATCTGTGGGTGGAGGCCACAGCTGCTGCTAACATCCTGCAGTACCCAGACAGCCTCACGATGGAGCACAACTCAGCCCGAGGCTGAGTTAAACCAACTGCTGTTTTTTGTTTGTTTTGAGGTTTTTTGATTTGTT | 63768587 | 63788702 | m54329U_210326_192251/159909932/ccs | -17696 | 2294 | 19990 | m6a |   5 |   6 | 203 | Positive | 0.04623195 |\n",
       "| chr20_63786415_+/m54329U_210326_192251/159909932/ccs | chr20_63786415_+ | chr20 | 63786415 | + | CAACTGCTAATGTCTGGAGACATTTTTGGTTGTACCAACGGGGATCCAAAGGCAGGTGCTCCTGGCATCTGTGGGTGGAGGCCACAGCTGCTGCTAACATCCTGCAGTACCCAGACAGCCTCACGATGGAGCACAACTCAGCCCGAGGCTGAGTTAAACCAACTGCTGTTTTTTGTTTGTTTTGAGGTTTTTTGATTTGTT | 63768587 | 63788702 | m54329U_210326_192251/159909932/ccs | -17696 | 2294 | 19990 | m6a |   8 |   9 | 203 | Positive | 0.04623195 |\n",
       "| chr20_63786415_+/m54329U_210326_192251/159909932/ccs | chr20_63786415_+ | chr20 | 63786415 | + | CAACTGCTAATGTCTGGAGACATTTTTGGTTGTACCAACGGGGATCCAAAGGCAGGTGCTCCTGGCATCTGTGGGTGGAGGCCACAGCTGCTGCTAACATCCTGCAGTACCCAGACAGCCTCACGATGGAGCACAACTCAGCCCGAGGCTGAGTTAAACCAACTGCTGTTTTTTGTTTGTTTTGAGGTTTTTTGATTTGTT | 63768587 | 63788702 | m54329U_210326_192251/159909932/ccs | -17696 | 2294 | 19990 | m6a |  12 |  13 | 203 | Positive | 0.04623195 |\n",
       "| chr20_63786415_+/m54329U_210326_192251/159909932/ccs | chr20_63786415_+ | chr20 | 63786415 | + | CAACTGCTAATGTCTGGAGACATTTTTGGTTGTACCAACGGGGATCCAAAGGCAGGTGCTCCTGGCATCTGTGGGTGGAGGCCACAGCTGCTGCTAACATCCTGCAGTACCCAGACAGCCTCACGATGGAGCACAACTCAGCCCGAGGCTGAGTTAAACCAACTGCTGTTTTTTGTTTGTTTTGAGGTTTTTTGATTTGTT | 63768587 | 63788702 | m54329U_210326_192251/159909932/ccs | -17696 | 2294 | 19990 | m6a |  14 |  15 | 203 | Positive | 0.04623195 |\n",
       "| chr20_63786415_+/m54329U_210326_192251/159909932/ccs | chr20_63786415_+ | chr20 | 63786415 | + | CAACTGCTAATGTCTGGAGACATTTTTGGTTGTACCAACGGGGATCCAAAGGCAGGTGCTCCTGGCATCTGTGGGTGGAGGCCACAGCTGCTGCTAACATCCTGCAGTACCCAGACAGCCTCACGATGGAGCACAACTCAGCCCGAGGCTGAGTTAAACCAACTGCTGTTTTTTGTTTGTTTTGAGGTTTTTTGATTTGTT | 63768587 | 63788702 | m54329U_210326_192251/159909932/ccs | -17696 | 2294 | 19990 | m6a |  16 |  17 | 203 | Positive | 0.04623195 |\n",
       "| chr20_63786415_+/m54329U_210326_192251/159909932/ccs | chr20_63786415_+ | chr20 | 63786415 | + | CAACTGCTAATGTCTGGAGACATTTTTGGTTGTACCAACGGGGATCCAAAGGCAGGTGCTCCTGGCATCTGTGGGTGGAGGCCACAGCTGCTGCTAACATCCTGCAGTACCCAGACAGCCTCACGATGGAGCACAACTCAGCCCGAGGCTGAGTTAAACCAACTGCTGTTTTTTGTTTGTTTTGAGGTTTTTTGATTTGTT | 63768587 | 63788702 | m54329U_210326_192251/159909932/ccs | -17696 | 2294 | 19990 | m6a |  20 |  21 | 203 | Positive | 0.04623195 |\n",
       "| ⋮ | ⋮ | ⋮ | ⋮ | ⋮ | ⋮ | ⋮ | ⋮ | ⋮ | ⋮ | ⋮ | ⋮ | ⋮ | ⋮ | ⋮ | ⋮ | ⋮ | ⋮ |\n",
       "| chr20_63786415_+/m64076_221119_202646/48301320/ccs   | chr20_63786415_+ | chr20 | 63786415 | + | ACTGCTAATGTCTGGAGACATTTTTGGTTGTACCAACGGGGGATTCCAAAGGCAGGTGCTCCTGGCGTCTGTGGGTGGAGGCCACAGCTGCTGCTAACATCCTGCAGTACCCAGGACAGCCTCACGATGGAGCACAACTCAGCCCGAGGCTGAGTTAAACCAACTGCTGTTTTTTGTTTGTTTTGAGGTTTTTTGATTTGT | 63785374 | 63810049 | m64076_221119_202646/48301320/ccs   | -1040 | 23627 | 24667 | m6a |  70 |  71 | 227 | Positive | 0.002571578 |\n",
       "| chr20_63786415_+/m64076_221119_202646/48301320/ccs   | chr20_63786415_+ | chr20 | 63786415 | + | ACTGCTAATGTCTGGAGACATTTTTGGTTGTACCAACGGGGGATTCCAAAGGCAGGTGCTCCTGGCGTCTGTGGGTGGAGGCCACAGCTGCTGCTAACATCCTGCAGTACCCAGGACAGCCTCACGATGGAGCACAACTCAGCCCGAGGCTGAGTTAAACCAACTGCTGTTTTTTGTTTGTTTTGAGGTTTTTTGATTTGT | 63785374 | 63810049 | m64076_221119_202646/48301320/ccs   | -1040 | 23627 | 24667 | m6a |  72 |  73 | 227 | Positive | 0.002571578 |\n",
       "| chr20_63786415_+/m64076_221119_202646/48301320/ccs   | chr20_63786415_+ | chr20 | 63786415 | + | ACTGCTAATGTCTGGAGACATTTTTGGTTGTACCAACGGGGGATTCCAAAGGCAGGTGCTCCTGGCGTCTGTGGGTGGAGGCCACAGCTGCTGCTAACATCCTGCAGTACCCAGGACAGCCTCACGATGGAGCACAACTCAGCCCGAGGCTGAGTTAAACCAACTGCTGTTTTTTGTTTGTTTTGAGGTTTTTTGATTTGT | 63785374 | 63810049 | m64076_221119_202646/48301320/ccs   | -1040 | 23627 | 24667 | m6a |  76 |  77 | 227 | Positive | 0.002571578 |\n",
       "| chr20_63786415_+/m64076_221119_202646/48301320/ccs   | chr20_63786415_+ | chr20 | 63786415 | + | ACTGCTAATGTCTGGAGACATTTTTGGTTGTACCAACGGGGGATTCCAAAGGCAGGTGCTCCTGGCGTCTGTGGGTGGAGGCCACAGCTGCTGCTAACATCCTGCAGTACCCAGGACAGCCTCACGATGGAGCACAACTCAGCCCGAGGCTGAGTTAAACCAACTGCTGTTTTTTGTTTGTTTTGAGGTTTTTTGATTTGT | 63785374 | 63810049 | m64076_221119_202646/48301320/ccs   | -1040 | 23627 | 24667 | m6a |  83 |  84 | 227 | Positive | 0.002571578 |\n",
       "| chr20_63786415_+/m64076_221119_202646/48301320/ccs   | chr20_63786415_+ | chr20 | 63786415 | + | ACTGCTAATGTCTGGAGACATTTTTGGTTGTACCAACGGGGGATTCCAAAGGCAGGTGCTCCTGGCGTCTGTGGGTGGAGGCCACAGCTGCTGCTAACATCCTGCAGTACCCAGGACAGCCTCACGATGGAGCACAACTCAGCCCGAGGCTGAGTTAAACCAACTGCTGTTTTTTGTTTGTTTTGAGGTTTTTTGATTTGT | 63785374 | 63810049 | m64076_221119_202646/48301320/ccs   | -1040 | 23627 | 24667 | m6a |  85 |  86 | 227 | Positive | 0.002571578 |\n",
       "| chr20_63786415_+/m54329U_210323_190418/141099066/ccs | chr20_63786415_+ | chr20 | 63786415 | + | ACTGCTAATGTCTGGAGACATTTTTGGTTGTACCAACGGGGGAATCCAAAGGCAGGTGCTCCTGGCGTCTGTGGGTGGAGGCCACAGCTGCTGCTAACATCCTGCAGTACCCAGGACAGCCTCACGATGGAGCACAACTCAGCCCGAGGGGCTGAGTTAAACCAACTGCTGTTTTTTGTTTGTTTTGAGGTTTTTTGATTT | 63785994 | 63804331 | m54329U_210323_190418/141099066/ccs |  -422 | 17983 | 18405 | m6a | -52 | -51 | 124 | Positive | 0.009340050 |\n",
       "| chr20_63786415_+/m54329U_210323_190418/141099066/ccs | chr20_63786415_+ | chr20 | 63786415 | + | ACTGCTAATGTCTGGAGACATTTTTGGTTGTACCAACGGGGGAATCCAAAGGCAGGTGCTCCTGGCGTCTGTGGGTGGAGGCCACAGCTGCTGCTAACATCCTGCAGTACCCAGGACAGCCTCACGATGGAGCACAACTCAGCCCGAGGGGCTGAGTTAAACCAACTGCTGTTTTTTGTTTGTTTTGAGGTTTTTTGATTT | 63785994 | 63804331 | m54329U_210323_190418/141099066/ccs |  -422 | 17983 | 18405 | m6a | -47 | -46 | 124 | Positive | 0.009340050 |\n",
       "| chr20_63786415_+/m54329U_210323_190418/141099066/ccs | chr20_63786415_+ | chr20 | 63786415 | + | ACTGCTAATGTCTGGAGACATTTTTGGTTGTACCAACGGGGGAATCCAAAGGCAGGTGCTCCTGGCGTCTGTGGGTGGAGGCCACAGCTGCTGCTAACATCCTGCAGTACCCAGGACAGCCTCACGATGGAGCACAACTCAGCCCGAGGGGCTGAGTTAAACCAACTGCTGTTTTTTGTTTGTTTTGAGGTTTTTTGATTT | 63785994 | 63804331 | m54329U_210323_190418/141099066/ccs |  -422 | 17983 | 18405 | m6a | -44 | -43 | 124 | Positive | 0.009340050 |\n",
       "| chr20_63786415_+/m54329U_210323_190418/141099066/ccs | chr20_63786415_+ | chr20 | 63786415 | + | ACTGCTAATGTCTGGAGACATTTTTGGTTGTACCAACGGGGGAATCCAAAGGCAGGTGCTCCTGGCGTCTGTGGGTGGAGGCCACAGCTGCTGCTAACATCCTGCAGTACCCAGGACAGCCTCACGATGGAGCACAACTCAGCCCGAGGGGCTGAGTTAAACCAACTGCTGTTTTTTGTTTGTTTTGAGGTTTTTTGATTT | 63785994 | 63804331 | m54329U_210323_190418/141099066/ccs |  -422 | 17983 | 18405 | m6a | -41 | -40 | 124 | Positive | 0.009340050 |\n",
       "| chr20_63786415_+/m54329U_210323_190418/141099066/ccs | chr20_63786415_+ | chr20 | 63786415 | + | ACTGCTAATGTCTGGAGACATTTTTGGTTGTACCAACGGGGGAATCCAAAGGCAGGTGCTCCTGGCGTCTGTGGGTGGAGGCCACAGCTGCTGCTAACATCCTGCAGTACCCAGGACAGCCTCACGATGGAGCACAACTCAGCCCGAGGGGCTGAGTTAAACCAACTGCTGTTTTTTGTTTGTTTTGAGGTTTTTTGATTT | 63785994 | 63804331 | m54329U_210323_190418/141099066/ccs |  -422 | 17983 | 18405 | m6a | -38 | -37 | 124 | Positive | 0.009340050 |\n",
       "| chr20_63786415_+/m54329U_210323_190418/141099066/ccs | chr20_63786415_+ | chr20 | 63786415 | + | ACTGCTAATGTCTGGAGACATTTTTGGTTGTACCAACGGGGGAATCCAAAGGCAGGTGCTCCTGGCGTCTGTGGGTGGAGGCCACAGCTGCTGCTAACATCCTGCAGTACCCAGGACAGCCTCACGATGGAGCACAACTCAGCCCGAGGGGCTGAGTTAAACCAACTGCTGTTTTTTGTTTGTTTTGAGGTTTTTTGATTT | 63785994 | 63804331 | m54329U_210323_190418/141099066/ccs |  -422 | 17983 | 18405 | m6a | -33 | -32 | 124 | Positive | 0.009340050 |\n",
       "| chr20_63786415_+/m54329U_210323_190418/141099066/ccs | chr20_63786415_+ | chr20 | 63786415 | + | ACTGCTAATGTCTGGAGACATTTTTGGTTGTACCAACGGGGGAATCCAAAGGCAGGTGCTCCTGGCGTCTGTGGGTGGAGGCCACAGCTGCTGCTAACATCCTGCAGTACCCAGGACAGCCTCACGATGGAGCACAACTCAGCCCGAGGGGCTGAGTTAAACCAACTGCTGTTTTTTGTTTGTTTTGAGGTTTTTTGATTT | 63785994 | 63804331 | m54329U_210323_190418/141099066/ccs |  -422 | 17983 | 18405 | m6a | -31 | -30 | 124 | Positive | 0.009340050 |\n",
       "| chr20_63786415_+/m54329U_210323_190418/141099066/ccs | chr20_63786415_+ | chr20 | 63786415 | + | ACTGCTAATGTCTGGAGACATTTTTGGTTGTACCAACGGGGGAATCCAAAGGCAGGTGCTCCTGGCGTCTGTGGGTGGAGGCCACAGCTGCTGCTAACATCCTGCAGTACCCAGGACAGCCTCACGATGGAGCACAACTCAGCCCGAGGGGCTGAGTTAAACCAACTGCTGTTTTTTGTTTGTTTTGAGGTTTTTTGATTT | 63785994 | 63804331 | m54329U_210323_190418/141099066/ccs |  -422 | 17983 | 18405 | m6a | -29 | -28 | 124 | Positive | 0.009340050 |\n",
       "| chr20_63786415_+/m54329U_210323_190418/141099066/ccs | chr20_63786415_+ | chr20 | 63786415 | + | ACTGCTAATGTCTGGAGACATTTTTGGTTGTACCAACGGGGGAATCCAAAGGCAGGTGCTCCTGGCGTCTGTGGGTGGAGGCCACAGCTGCTGCTAACATCCTGCAGTACCCAGGACAGCCTCACGATGGAGCACAACTCAGCCCGAGGGGCTGAGTTAAACCAACTGCTGTTTTTTGTTTGTTTTGAGGTTTTTTGATTT | 63785994 | 63804331 | m54329U_210323_190418/141099066/ccs |  -422 | 17983 | 18405 | m6a | -25 | -24 | 124 | Positive | 0.009340050 |\n",
       "| chr20_63786415_+/m54329U_210323_190418/141099066/ccs | chr20_63786415_+ | chr20 | 63786415 | + | ACTGCTAATGTCTGGAGACATTTTTGGTTGTACCAACGGGGGAATCCAAAGGCAGGTGCTCCTGGCGTCTGTGGGTGGAGGCCACAGCTGCTGCTAACATCCTGCAGTACCCAGGACAGCCTCACGATGGAGCACAACTCAGCCCGAGGGGCTGAGTTAAACCAACTGCTGTTTTTTGTTTGTTTTGAGGTTTTTTGATTT | 63785994 | 63804331 | m54329U_210323_190418/141099066/ccs |  -422 | 17983 | 18405 | m6a | -17 | -16 | 124 | Positive | 0.009340050 |\n",
       "| chr20_63786415_+/m54329U_210323_190418/141099066/ccs | chr20_63786415_+ | chr20 | 63786415 | + | ACTGCTAATGTCTGGAGACATTTTTGGTTGTACCAACGGGGGAATCCAAAGGCAGGTGCTCCTGGCGTCTGTGGGTGGAGGCCACAGCTGCTGCTAACATCCTGCAGTACCCAGGACAGCCTCACGATGGAGCACAACTCAGCCCGAGGGGCTGAGTTAAACCAACTGCTGTTTTTTGTTTGTTTTGAGGTTTTTTGATTT | 63785994 | 63804331 | m54329U_210323_190418/141099066/ccs |  -422 | 17983 | 18405 | m6a | -15 | -14 | 124 | Positive | 0.009340050 |\n",
       "| chr20_63786415_+/m54329U_210323_190418/141099066/ccs | chr20_63786415_+ | chr20 | 63786415 | + | ACTGCTAATGTCTGGAGACATTTTTGGTTGTACCAACGGGGGAATCCAAAGGCAGGTGCTCCTGGCGTCTGTGGGTGGAGGCCACAGCTGCTGCTAACATCCTGCAGTACCCAGGACAGCCTCACGATGGAGCACAACTCAGCCCGAGGGGCTGAGTTAAACCAACTGCTGTTTTTTGTTTGTTTTGAGGTTTTTTGATTT | 63785994 | 63804331 | m54329U_210323_190418/141099066/ccs |  -422 | 17983 | 18405 | m6a | -12 | -11 | 124 | Positive | 0.009340050 |\n",
       "| chr20_63786415_+/m54329U_210323_190418/141099066/ccs | chr20_63786415_+ | chr20 | 63786415 | + | ACTGCTAATGTCTGGAGACATTTTTGGTTGTACCAACGGGGGAATCCAAAGGCAGGTGCTCCTGGCGTCTGTGGGTGGAGGCCACAGCTGCTGCTAACATCCTGCAGTACCCAGGACAGCCTCACGATGGAGCACAACTCAGCCCGAGGGGCTGAGTTAAACCAACTGCTGTTTTTTGTTTGTTTTGAGGTTTTTTGATTT | 63785994 | 63804331 | m54329U_210323_190418/141099066/ccs |  -422 | 17983 | 18405 | m6a |  -9 |  -8 | 124 | Positive | 0.009340050 |\n",
       "| chr20_63786415_+/m54329U_210323_190418/141099066/ccs | chr20_63786415_+ | chr20 | 63786415 | + | ACTGCTAATGTCTGGAGACATTTTTGGTTGTACCAACGGGGGAATCCAAAGGCAGGTGCTCCTGGCGTCTGTGGGTGGAGGCCACAGCTGCTGCTAACATCCTGCAGTACCCAGGACAGCCTCACGATGGAGCACAACTCAGCCCGAGGGGCTGAGTTAAACCAACTGCTGTTTTTTGTTTGTTTTGAGGTTTTTTGATTT | 63785994 | 63804331 | m54329U_210323_190418/141099066/ccs |  -422 | 17983 | 18405 | m6a |  30 |  31 | 124 | Positive | 0.009340050 |\n",
       "| chr20_63786415_+/m54329U_210323_190418/141099066/ccs | chr20_63786415_+ | chr20 | 63786415 | + | ACTGCTAATGTCTGGAGACATTTTTGGTTGTACCAACGGGGGAATCCAAAGGCAGGTGCTCCTGGCGTCTGTGGGTGGAGGCCACAGCTGCTGCTAACATCCTGCAGTACCCAGGACAGCCTCACGATGGAGCACAACTCAGCCCGAGGGGCTGAGTTAAACCAACTGCTGTTTTTTGTTTGTTTTGAGGTTTTTTGATTT | 63785994 | 63804331 | m54329U_210323_190418/141099066/ccs |  -422 | 17983 | 18405 | m6a |  33 |  34 | 124 | Positive | 0.009340050 |\n",
       "| chr20_63786415_+/m54329U_210323_190418/141099066/ccs | chr20_63786415_+ | chr20 | 63786415 | + | ACTGCTAATGTCTGGAGACATTTTTGGTTGTACCAACGGGGGAATCCAAAGGCAGGTGCTCCTGGCGTCTGTGGGTGGAGGCCACAGCTGCTGCTAACATCCTGCAGTACCCAGGACAGCCTCACGATGGAGCACAACTCAGCCCGAGGGGCTGAGTTAAACCAACTGCTGTTTTTTGTTTGTTTTGAGGTTTTTTGATTT | 63785994 | 63804331 | m54329U_210323_190418/141099066/ccs |  -422 | 17983 | 18405 | m6a |  35 |  36 | 124 | Positive | 0.009340050 |\n",
       "| chr20_63786415_+/m54329U_210323_190418/141099066/ccs | chr20_63786415_+ | chr20 | 63786415 | + | ACTGCTAATGTCTGGAGACATTTTTGGTTGTACCAACGGGGGAATCCAAAGGCAGGTGCTCCTGGCGTCTGTGGGTGGAGGCCACAGCTGCTGCTAACATCCTGCAGTACCCAGGACAGCCTCACGATGGAGCACAACTCAGCCCGAGGGGCTGAGTTAAACCAACTGCTGTTTTTTGTTTGTTTTGAGGTTTTTTGATTT | 63785994 | 63804331 | m54329U_210323_190418/141099066/ccs |  -422 | 17983 | 18405 | m6a |  36 |  37 | 124 | Positive | 0.009340050 |\n",
       "| chr20_63786415_+/m54329U_210323_190418/141099066/ccs | chr20_63786415_+ | chr20 | 63786415 | + | ACTGCTAATGTCTGGAGACATTTTTGGTTGTACCAACGGGGGAATCCAAAGGCAGGTGCTCCTGGCGTCTGTGGGTGGAGGCCACAGCTGCTGCTAACATCCTGCAGTACCCAGGACAGCCTCACGATGGAGCACAACTCAGCCCGAGGGGCTGAGTTAAACCAACTGCTGTTTTTTGTTTGTTTTGAGGTTTTTTGATTT | 63785994 | 63804331 | m54329U_210323_190418/141099066/ccs |  -422 | 17983 | 18405 | m6a |  38 |  39 | 124 | Positive | 0.009340050 |\n",
       "| chr20_63786415_+/m54329U_210323_190418/141099066/ccs | chr20_63786415_+ | chr20 | 63786415 | + | ACTGCTAATGTCTGGAGACATTTTTGGTTGTACCAACGGGGGAATCCAAAGGCAGGTGCTCCTGGCGTCTGTGGGTGGAGGCCACAGCTGCTGCTAACATCCTGCAGTACCCAGGACAGCCTCACGATGGAGCACAACTCAGCCCGAGGGGCTGAGTTAAACCAACTGCTGTTTTTTGTTTGTTTTGAGGTTTTTTGATTT | 63785994 | 63804331 | m54329U_210323_190418/141099066/ccs |  -422 | 17983 | 18405 | m6a |  40 |  41 | 124 | Positive | 0.009340050 |\n",
       "| chr20_63786415_+/m54329U_210323_190418/141099066/ccs | chr20_63786415_+ | chr20 | 63786415 | + | ACTGCTAATGTCTGGAGACATTTTTGGTTGTACCAACGGGGGAATCCAAAGGCAGGTGCTCCTGGCGTCTGTGGGTGGAGGCCACAGCTGCTGCTAACATCCTGCAGTACCCAGGACAGCCTCACGATGGAGCACAACTCAGCCCGAGGGGCTGAGTTAAACCAACTGCTGTTTTTTGTTTGTTTTGAGGTTTTTTGATTT | 63785994 | 63804331 | m54329U_210323_190418/141099066/ccs |  -422 | 17983 | 18405 | m6a |  46 |  47 | 124 | Positive | 0.009340050 |\n",
       "| chr20_63786415_+/m54329U_210323_190418/141099066/ccs | chr20_63786415_+ | chr20 | 63786415 | + | ACTGCTAATGTCTGGAGACATTTTTGGTTGTACCAACGGGGGAATCCAAAGGCAGGTGCTCCTGGCGTCTGTGGGTGGAGGCCACAGCTGCTGCTAACATCCTGCAGTACCCAGGACAGCCTCACGATGGAGCACAACTCAGCCCGAGGGGCTGAGTTAAACCAACTGCTGTTTTTTGTTTGTTTTGAGGTTTTTTGATTT | 63785994 | 63804331 | m54329U_210323_190418/141099066/ccs |  -422 | 17983 | 18405 | m6a |  54 |  55 | 124 | Positive | 0.009340050 |\n",
       "| chr20_63786415_+/m54329U_210323_190418/141099066/ccs | chr20_63786415_+ | chr20 | 63786415 | + | ACTGCTAATGTCTGGAGACATTTTTGGTTGTACCAACGGGGGAATCCAAAGGCAGGTGCTCCTGGCGTCTGTGGGTGGAGGCCACAGCTGCTGCTAACATCCTGCAGTACCCAGGACAGCCTCACGATGGAGCACAACTCAGCCCGAGGGGCTGAGTTAAACCAACTGCTGTTTTTTGTTTGTTTTGAGGTTTTTTGATTT | 63785994 | 63804331 | m54329U_210323_190418/141099066/ccs |  -422 | 17983 | 18405 | m6a |  56 |  57 | 124 | Positive | 0.009340050 |\n",
       "| chr20_63786415_+/m54329U_210323_190418/141099066/ccs | chr20_63786415_+ | chr20 | 63786415 | + | ACTGCTAATGTCTGGAGACATTTTTGGTTGTACCAACGGGGGAATCCAAAGGCAGGTGCTCCTGGCGTCTGTGGGTGGAGGCCACAGCTGCTGCTAACATCCTGCAGTACCCAGGACAGCCTCACGATGGAGCACAACTCAGCCCGAGGGGCTGAGTTAAACCAACTGCTGTTTTTTGTTTGTTTTGAGGTTTTTTGATTT | 63785994 | 63804331 | m54329U_210323_190418/141099066/ccs |  -422 | 17983 | 18405 | m6a |  66 |  67 | 124 | Positive | 0.009340050 |\n",
       "| chr20_63786415_+/m54329U_210323_190418/141099066/ccs | chr20_63786415_+ | chr20 | 63786415 | + | ACTGCTAATGTCTGGAGACATTTTTGGTTGTACCAACGGGGGAATCCAAAGGCAGGTGCTCCTGGCGTCTGTGGGTGGAGGCCACAGCTGCTGCTAACATCCTGCAGTACCCAGGACAGCCTCACGATGGAGCACAACTCAGCCCGAGGGGCTGAGTTAAACCAACTGCTGTTTTTTGTTTGTTTTGAGGTTTTTTGATTT | 63785994 | 63804331 | m54329U_210323_190418/141099066/ccs |  -422 | 17983 | 18405 | m6a |  69 |  70 | 124 | Positive | 0.009340050 |\n",
       "| chr20_63786415_+/m54329U_210323_190418/141099066/ccs | chr20_63786415_+ | chr20 | 63786415 | + | ACTGCTAATGTCTGGAGACATTTTTGGTTGTACCAACGGGGGAATCCAAAGGCAGGTGCTCCTGGCGTCTGTGGGTGGAGGCCACAGCTGCTGCTAACATCCTGCAGTACCCAGGACAGCCTCACGATGGAGCACAACTCAGCCCGAGGGGCTGAGTTAAACCAACTGCTGTTTTTTGTTTGTTTTGAGGTTTTTTGATTT | 63785994 | 63804331 | m54329U_210323_190418/141099066/ccs |  -422 | 17983 | 18405 | m6a |  71 |  72 | 124 | Positive | 0.009340050 |\n",
       "\n"
      ],
      "text/plain": [
       "     motif_query                                          motif_name      \n",
       "1    chr20_63786415_+/m54329U_210326_192251/159909932/ccs chr20_63786415_+\n",
       "2    chr20_63786415_+/m54329U_210326_192251/159909932/ccs chr20_63786415_+\n",
       "3    chr20_63786415_+/m54329U_210326_192251/159909932/ccs chr20_63786415_+\n",
       "4    chr20_63786415_+/m54329U_210326_192251/159909932/ccs chr20_63786415_+\n",
       "5    chr20_63786415_+/m54329U_210326_192251/159909932/ccs chr20_63786415_+\n",
       "6    chr20_63786415_+/m54329U_210326_192251/159909932/ccs chr20_63786415_+\n",
       "7    chr20_63786415_+/m54329U_210326_192251/159909932/ccs chr20_63786415_+\n",
       "8    chr20_63786415_+/m54329U_210326_192251/159909932/ccs chr20_63786415_+\n",
       "9    chr20_63786415_+/m54329U_210326_192251/159909932/ccs chr20_63786415_+\n",
       "10   chr20_63786415_+/m54329U_210326_192251/159909932/ccs chr20_63786415_+\n",
       "11   chr20_63786415_+/m54329U_210326_192251/159909932/ccs chr20_63786415_+\n",
       "12   chr20_63786415_+/m54329U_210326_192251/159909932/ccs chr20_63786415_+\n",
       "13   chr20_63786415_+/m54329U_210326_192251/159909932/ccs chr20_63786415_+\n",
       "14   chr20_63786415_+/m54329U_210326_192251/159909932/ccs chr20_63786415_+\n",
       "15   chr20_63786415_+/m54329U_210326_192251/159909932/ccs chr20_63786415_+\n",
       "16   chr20_63786415_+/m54329U_210326_192251/159909932/ccs chr20_63786415_+\n",
       "17   chr20_63786415_+/m54329U_210326_192251/159909932/ccs chr20_63786415_+\n",
       "18   chr20_63786415_+/m54329U_210326_192251/159909932/ccs chr20_63786415_+\n",
       "19   chr20_63786415_+/m54329U_210326_192251/159909932/ccs chr20_63786415_+\n",
       "20   chr20_63786415_+/m54329U_210326_192251/159909932/ccs chr20_63786415_+\n",
       "21   chr20_63786415_+/m54329U_210326_192251/159909932/ccs chr20_63786415_+\n",
       "22   chr20_63786415_+/m54329U_210326_192251/159909932/ccs chr20_63786415_+\n",
       "23   chr20_63786415_+/m54329U_210326_192251/159909932/ccs chr20_63786415_+\n",
       "24   chr20_63786415_+/m54329U_210326_192251/159909932/ccs chr20_63786415_+\n",
       "25   chr20_63786415_+/m54329U_210326_192251/159909932/ccs chr20_63786415_+\n",
       "26   chr20_63786415_+/m54329U_210326_192251/159909932/ccs chr20_63786415_+\n",
       "27   chr20_63786415_+/m54329U_210326_192251/159909932/ccs chr20_63786415_+\n",
       "28   chr20_63786415_+/m54329U_210326_192251/159909932/ccs chr20_63786415_+\n",
       "29   chr20_63786415_+/m54329U_210326_192251/159909932/ccs chr20_63786415_+\n",
       "30   chr20_63786415_+/m54329U_210326_192251/159909932/ccs chr20_63786415_+\n",
       "⋮    ⋮                                                    ⋮               \n",
       "976  chr20_63786415_+/m64076_221119_202646/48301320/ccs   chr20_63786415_+\n",
       "977  chr20_63786415_+/m64076_221119_202646/48301320/ccs   chr20_63786415_+\n",
       "978  chr20_63786415_+/m64076_221119_202646/48301320/ccs   chr20_63786415_+\n",
       "979  chr20_63786415_+/m64076_221119_202646/48301320/ccs   chr20_63786415_+\n",
       "980  chr20_63786415_+/m64076_221119_202646/48301320/ccs   chr20_63786415_+\n",
       "981  chr20_63786415_+/m54329U_210323_190418/141099066/ccs chr20_63786415_+\n",
       "982  chr20_63786415_+/m54329U_210323_190418/141099066/ccs chr20_63786415_+\n",
       "983  chr20_63786415_+/m54329U_210323_190418/141099066/ccs chr20_63786415_+\n",
       "984  chr20_63786415_+/m54329U_210323_190418/141099066/ccs chr20_63786415_+\n",
       "985  chr20_63786415_+/m54329U_210323_190418/141099066/ccs chr20_63786415_+\n",
       "986  chr20_63786415_+/m54329U_210323_190418/141099066/ccs chr20_63786415_+\n",
       "987  chr20_63786415_+/m54329U_210323_190418/141099066/ccs chr20_63786415_+\n",
       "988  chr20_63786415_+/m54329U_210323_190418/141099066/ccs chr20_63786415_+\n",
       "989  chr20_63786415_+/m54329U_210323_190418/141099066/ccs chr20_63786415_+\n",
       "990  chr20_63786415_+/m54329U_210323_190418/141099066/ccs chr20_63786415_+\n",
       "991  chr20_63786415_+/m54329U_210323_190418/141099066/ccs chr20_63786415_+\n",
       "992  chr20_63786415_+/m54329U_210323_190418/141099066/ccs chr20_63786415_+\n",
       "993  chr20_63786415_+/m54329U_210323_190418/141099066/ccs chr20_63786415_+\n",
       "994  chr20_63786415_+/m54329U_210323_190418/141099066/ccs chr20_63786415_+\n",
       "995  chr20_63786415_+/m54329U_210323_190418/141099066/ccs chr20_63786415_+\n",
       "996  chr20_63786415_+/m54329U_210323_190418/141099066/ccs chr20_63786415_+\n",
       "997  chr20_63786415_+/m54329U_210323_190418/141099066/ccs chr20_63786415_+\n",
       "998  chr20_63786415_+/m54329U_210323_190418/141099066/ccs chr20_63786415_+\n",
       "999  chr20_63786415_+/m54329U_210323_190418/141099066/ccs chr20_63786415_+\n",
       "1000 chr20_63786415_+/m54329U_210323_190418/141099066/ccs chr20_63786415_+\n",
       "1001 chr20_63786415_+/m54329U_210323_190418/141099066/ccs chr20_63786415_+\n",
       "1002 chr20_63786415_+/m54329U_210323_190418/141099066/ccs chr20_63786415_+\n",
       "1003 chr20_63786415_+/m54329U_210323_190418/141099066/ccs chr20_63786415_+\n",
       "1004 chr20_63786415_+/m54329U_210323_190418/141099066/ccs chr20_63786415_+\n",
       "1005 chr20_63786415_+/m54329U_210323_190418/141099066/ccs chr20_63786415_+\n",
       "     chrom centering_position strand\n",
       "1    chr20 63786415           +     \n",
       "2    chr20 63786415           +     \n",
       "3    chr20 63786415           +     \n",
       "4    chr20 63786415           +     \n",
       "5    chr20 63786415           +     \n",
       "6    chr20 63786415           +     \n",
       "7    chr20 63786415           +     \n",
       "8    chr20 63786415           +     \n",
       "9    chr20 63786415           +     \n",
       "10   chr20 63786415           +     \n",
       "11   chr20 63786415           +     \n",
       "12   chr20 63786415           +     \n",
       "13   chr20 63786415           +     \n",
       "14   chr20 63786415           +     \n",
       "15   chr20 63786415           +     \n",
       "16   chr20 63786415           +     \n",
       "17   chr20 63786415           +     \n",
       "18   chr20 63786415           +     \n",
       "19   chr20 63786415           +     \n",
       "20   chr20 63786415           +     \n",
       "21   chr20 63786415           +     \n",
       "22   chr20 63786415           +     \n",
       "23   chr20 63786415           +     \n",
       "24   chr20 63786415           +     \n",
       "25   chr20 63786415           +     \n",
       "26   chr20 63786415           +     \n",
       "27   chr20 63786415           +     \n",
       "28   chr20 63786415           +     \n",
       "29   chr20 63786415           +     \n",
       "30   chr20 63786415           +     \n",
       "⋮    ⋮     ⋮                  ⋮     \n",
       "976  chr20 63786415           +     \n",
       "977  chr20 63786415           +     \n",
       "978  chr20 63786415           +     \n",
       "979  chr20 63786415           +     \n",
       "980  chr20 63786415           +     \n",
       "981  chr20 63786415           +     \n",
       "982  chr20 63786415           +     \n",
       "983  chr20 63786415           +     \n",
       "984  chr20 63786415           +     \n",
       "985  chr20 63786415           +     \n",
       "986  chr20 63786415           +     \n",
       "987  chr20 63786415           +     \n",
       "988  chr20 63786415           +     \n",
       "989  chr20 63786415           +     \n",
       "990  chr20 63786415           +     \n",
       "991  chr20 63786415           +     \n",
       "992  chr20 63786415           +     \n",
       "993  chr20 63786415           +     \n",
       "994  chr20 63786415           +     \n",
       "995  chr20 63786415           +     \n",
       "996  chr20 63786415           +     \n",
       "997  chr20 63786415           +     \n",
       "998  chr20 63786415           +     \n",
       "999  chr20 63786415           +     \n",
       "1000 chr20 63786415           +     \n",
       "1001 chr20 63786415           +     \n",
       "1002 chr20 63786415           +     \n",
       "1003 chr20 63786415           +     \n",
       "1004 chr20 63786415           +     \n",
       "1005 chr20 63786415           +     \n",
       "     subset_sequence                                                                                                                                                                                          \n",
       "1    CAACTGCTAATGTCTGGAGACATTTTTGGTTGTACCAACGGGGATCCAAAGGCAGGTGCTCCTGGCATCTGTGGGTGGAGGCCACAGCTGCTGCTAACATCCTGCAGTACCCAGACAGCCTCACGATGGAGCACAACTCAGCCCGAGGCTGAGTTAAACCAACTGCTGTTTTTTGTTTGTTTTGAGGTTTTTTGATTTGTT\n",
       "2    CAACTGCTAATGTCTGGAGACATTTTTGGTTGTACCAACGGGGATCCAAAGGCAGGTGCTCCTGGCATCTGTGGGTGGAGGCCACAGCTGCTGCTAACATCCTGCAGTACCCAGACAGCCTCACGATGGAGCACAACTCAGCCCGAGGCTGAGTTAAACCAACTGCTGTTTTTTGTTTGTTTTGAGGTTTTTTGATTTGTT\n",
       "3    CAACTGCTAATGTCTGGAGACATTTTTGGTTGTACCAACGGGGATCCAAAGGCAGGTGCTCCTGGCATCTGTGGGTGGAGGCCACAGCTGCTGCTAACATCCTGCAGTACCCAGACAGCCTCACGATGGAGCACAACTCAGCCCGAGGCTGAGTTAAACCAACTGCTGTTTTTTGTTTGTTTTGAGGTTTTTTGATTTGTT\n",
       "4    CAACTGCTAATGTCTGGAGACATTTTTGGTTGTACCAACGGGGATCCAAAGGCAGGTGCTCCTGGCATCTGTGGGTGGAGGCCACAGCTGCTGCTAACATCCTGCAGTACCCAGACAGCCTCACGATGGAGCACAACTCAGCCCGAGGCTGAGTTAAACCAACTGCTGTTTTTTGTTTGTTTTGAGGTTTTTTGATTTGTT\n",
       "5    CAACTGCTAATGTCTGGAGACATTTTTGGTTGTACCAACGGGGATCCAAAGGCAGGTGCTCCTGGCATCTGTGGGTGGAGGCCACAGCTGCTGCTAACATCCTGCAGTACCCAGACAGCCTCACGATGGAGCACAACTCAGCCCGAGGCTGAGTTAAACCAACTGCTGTTTTTTGTTTGTTTTGAGGTTTTTTGATTTGTT\n",
       "6    CAACTGCTAATGTCTGGAGACATTTTTGGTTGTACCAACGGGGATCCAAAGGCAGGTGCTCCTGGCATCTGTGGGTGGAGGCCACAGCTGCTGCTAACATCCTGCAGTACCCAGACAGCCTCACGATGGAGCACAACTCAGCCCGAGGCTGAGTTAAACCAACTGCTGTTTTTTGTTTGTTTTGAGGTTTTTTGATTTGTT\n",
       "7    CAACTGCTAATGTCTGGAGACATTTTTGGTTGTACCAACGGGGATCCAAAGGCAGGTGCTCCTGGCATCTGTGGGTGGAGGCCACAGCTGCTGCTAACATCCTGCAGTACCCAGACAGCCTCACGATGGAGCACAACTCAGCCCGAGGCTGAGTTAAACCAACTGCTGTTTTTTGTTTGTTTTGAGGTTTTTTGATTTGTT\n",
       "8    CAACTGCTAATGTCTGGAGACATTTTTGGTTGTACCAACGGGGATCCAAAGGCAGGTGCTCCTGGCATCTGTGGGTGGAGGCCACAGCTGCTGCTAACATCCTGCAGTACCCAGACAGCCTCACGATGGAGCACAACTCAGCCCGAGGCTGAGTTAAACCAACTGCTGTTTTTTGTTTGTTTTGAGGTTTTTTGATTTGTT\n",
       "9    CAACTGCTAATGTCTGGAGACATTTTTGGTTGTACCAACGGGGATCCAAAGGCAGGTGCTCCTGGCATCTGTGGGTGGAGGCCACAGCTGCTGCTAACATCCTGCAGTACCCAGACAGCCTCACGATGGAGCACAACTCAGCCCGAGGCTGAGTTAAACCAACTGCTGTTTTTTGTTTGTTTTGAGGTTTTTTGATTTGTT\n",
       "10   CAACTGCTAATGTCTGGAGACATTTTTGGTTGTACCAACGGGGATCCAAAGGCAGGTGCTCCTGGCATCTGTGGGTGGAGGCCACAGCTGCTGCTAACATCCTGCAGTACCCAGACAGCCTCACGATGGAGCACAACTCAGCCCGAGGCTGAGTTAAACCAACTGCTGTTTTTTGTTTGTTTTGAGGTTTTTTGATTTGTT\n",
       "11   CAACTGCTAATGTCTGGAGACATTTTTGGTTGTACCAACGGGGATCCAAAGGCAGGTGCTCCTGGCATCTGTGGGTGGAGGCCACAGCTGCTGCTAACATCCTGCAGTACCCAGACAGCCTCACGATGGAGCACAACTCAGCCCGAGGCTGAGTTAAACCAACTGCTGTTTTTTGTTTGTTTTGAGGTTTTTTGATTTGTT\n",
       "12   CAACTGCTAATGTCTGGAGACATTTTTGGTTGTACCAACGGGGATCCAAAGGCAGGTGCTCCTGGCATCTGTGGGTGGAGGCCACAGCTGCTGCTAACATCCTGCAGTACCCAGACAGCCTCACGATGGAGCACAACTCAGCCCGAGGCTGAGTTAAACCAACTGCTGTTTTTTGTTTGTTTTGAGGTTTTTTGATTTGTT\n",
       "13   CAACTGCTAATGTCTGGAGACATTTTTGGTTGTACCAACGGGGATCCAAAGGCAGGTGCTCCTGGCATCTGTGGGTGGAGGCCACAGCTGCTGCTAACATCCTGCAGTACCCAGACAGCCTCACGATGGAGCACAACTCAGCCCGAGGCTGAGTTAAACCAACTGCTGTTTTTTGTTTGTTTTGAGGTTTTTTGATTTGTT\n",
       "14   CAACTGCTAATGTCTGGAGACATTTTTGGTTGTACCAACGGGGATCCAAAGGCAGGTGCTCCTGGCATCTGTGGGTGGAGGCCACAGCTGCTGCTAACATCCTGCAGTACCCAGACAGCCTCACGATGGAGCACAACTCAGCCCGAGGCTGAGTTAAACCAACTGCTGTTTTTTGTTTGTTTTGAGGTTTTTTGATTTGTT\n",
       "15   CAACTGCTAATGTCTGGAGACATTTTTGGTTGTACCAACGGGGATCCAAAGGCAGGTGCTCCTGGCATCTGTGGGTGGAGGCCACAGCTGCTGCTAACATCCTGCAGTACCCAGACAGCCTCACGATGGAGCACAACTCAGCCCGAGGCTGAGTTAAACCAACTGCTGTTTTTTGTTTGTTTTGAGGTTTTTTGATTTGTT\n",
       "16   CAACTGCTAATGTCTGGAGACATTTTTGGTTGTACCAACGGGGATCCAAAGGCAGGTGCTCCTGGCATCTGTGGGTGGAGGCCACAGCTGCTGCTAACATCCTGCAGTACCCAGACAGCCTCACGATGGAGCACAACTCAGCCCGAGGCTGAGTTAAACCAACTGCTGTTTTTTGTTTGTTTTGAGGTTTTTTGATTTGTT\n",
       "17   CAACTGCTAATGTCTGGAGACATTTTTGGTTGTACCAACGGGGATCCAAAGGCAGGTGCTCCTGGCATCTGTGGGTGGAGGCCACAGCTGCTGCTAACATCCTGCAGTACCCAGACAGCCTCACGATGGAGCACAACTCAGCCCGAGGCTGAGTTAAACCAACTGCTGTTTTTTGTTTGTTTTGAGGTTTTTTGATTTGTT\n",
       "18   CAACTGCTAATGTCTGGAGACATTTTTGGTTGTACCAACGGGGATCCAAAGGCAGGTGCTCCTGGCATCTGTGGGTGGAGGCCACAGCTGCTGCTAACATCCTGCAGTACCCAGACAGCCTCACGATGGAGCACAACTCAGCCCGAGGCTGAGTTAAACCAACTGCTGTTTTTTGTTTGTTTTGAGGTTTTTTGATTTGTT\n",
       "19   CAACTGCTAATGTCTGGAGACATTTTTGGTTGTACCAACGGGGATCCAAAGGCAGGTGCTCCTGGCATCTGTGGGTGGAGGCCACAGCTGCTGCTAACATCCTGCAGTACCCAGACAGCCTCACGATGGAGCACAACTCAGCCCGAGGCTGAGTTAAACCAACTGCTGTTTTTTGTTTGTTTTGAGGTTTTTTGATTTGTT\n",
       "20   CAACTGCTAATGTCTGGAGACATTTTTGGTTGTACCAACGGGGATCCAAAGGCAGGTGCTCCTGGCATCTGTGGGTGGAGGCCACAGCTGCTGCTAACATCCTGCAGTACCCAGACAGCCTCACGATGGAGCACAACTCAGCCCGAGGCTGAGTTAAACCAACTGCTGTTTTTTGTTTGTTTTGAGGTTTTTTGATTTGTT\n",
       "21   CAACTGCTAATGTCTGGAGACATTTTTGGTTGTACCAACGGGGATCCAAAGGCAGGTGCTCCTGGCATCTGTGGGTGGAGGCCACAGCTGCTGCTAACATCCTGCAGTACCCAGACAGCCTCACGATGGAGCACAACTCAGCCCGAGGCTGAGTTAAACCAACTGCTGTTTTTTGTTTGTTTTGAGGTTTTTTGATTTGTT\n",
       "22   CAACTGCTAATGTCTGGAGACATTTTTGGTTGTACCAACGGGGATCCAAAGGCAGGTGCTCCTGGCATCTGTGGGTGGAGGCCACAGCTGCTGCTAACATCCTGCAGTACCCAGACAGCCTCACGATGGAGCACAACTCAGCCCGAGGCTGAGTTAAACCAACTGCTGTTTTTTGTTTGTTTTGAGGTTTTTTGATTTGTT\n",
       "23   CAACTGCTAATGTCTGGAGACATTTTTGGTTGTACCAACGGGGATCCAAAGGCAGGTGCTCCTGGCATCTGTGGGTGGAGGCCACAGCTGCTGCTAACATCCTGCAGTACCCAGACAGCCTCACGATGGAGCACAACTCAGCCCGAGGCTGAGTTAAACCAACTGCTGTTTTTTGTTTGTTTTGAGGTTTTTTGATTTGTT\n",
       "24   CAACTGCTAATGTCTGGAGACATTTTTGGTTGTACCAACGGGGATCCAAAGGCAGGTGCTCCTGGCATCTGTGGGTGGAGGCCACAGCTGCTGCTAACATCCTGCAGTACCCAGACAGCCTCACGATGGAGCACAACTCAGCCCGAGGCTGAGTTAAACCAACTGCTGTTTTTTGTTTGTTTTGAGGTTTTTTGATTTGTT\n",
       "25   CAACTGCTAATGTCTGGAGACATTTTTGGTTGTACCAACGGGGATCCAAAGGCAGGTGCTCCTGGCATCTGTGGGTGGAGGCCACAGCTGCTGCTAACATCCTGCAGTACCCAGACAGCCTCACGATGGAGCACAACTCAGCCCGAGGCTGAGTTAAACCAACTGCTGTTTTTTGTTTGTTTTGAGGTTTTTTGATTTGTT\n",
       "26   CAACTGCTAATGTCTGGAGACATTTTTGGTTGTACCAACGGGGATCCAAAGGCAGGTGCTCCTGGCATCTGTGGGTGGAGGCCACAGCTGCTGCTAACATCCTGCAGTACCCAGACAGCCTCACGATGGAGCACAACTCAGCCCGAGGCTGAGTTAAACCAACTGCTGTTTTTTGTTTGTTTTGAGGTTTTTTGATTTGTT\n",
       "27   CAACTGCTAATGTCTGGAGACATTTTTGGTTGTACCAACGGGGATCCAAAGGCAGGTGCTCCTGGCATCTGTGGGTGGAGGCCACAGCTGCTGCTAACATCCTGCAGTACCCAGACAGCCTCACGATGGAGCACAACTCAGCCCGAGGCTGAGTTAAACCAACTGCTGTTTTTTGTTTGTTTTGAGGTTTTTTGATTTGTT\n",
       "28   CAACTGCTAATGTCTGGAGACATTTTTGGTTGTACCAACGGGGATCCAAAGGCAGGTGCTCCTGGCATCTGTGGGTGGAGGCCACAGCTGCTGCTAACATCCTGCAGTACCCAGACAGCCTCACGATGGAGCACAACTCAGCCCGAGGCTGAGTTAAACCAACTGCTGTTTTTTGTTTGTTTTGAGGTTTTTTGATTTGTT\n",
       "29   CAACTGCTAATGTCTGGAGACATTTTTGGTTGTACCAACGGGGATCCAAAGGCAGGTGCTCCTGGCATCTGTGGGTGGAGGCCACAGCTGCTGCTAACATCCTGCAGTACCCAGACAGCCTCACGATGGAGCACAACTCAGCCCGAGGCTGAGTTAAACCAACTGCTGTTTTTTGTTTGTTTTGAGGTTTTTTGATTTGTT\n",
       "30   CAACTGCTAATGTCTGGAGACATTTTTGGTTGTACCAACGGGGATCCAAAGGCAGGTGCTCCTGGCATCTGTGGGTGGAGGCCACAGCTGCTGCTAACATCCTGCAGTACCCAGACAGCCTCACGATGGAGCACAACTCAGCCCGAGGCTGAGTTAAACCAACTGCTGTTTTTTGTTTGTTTTGAGGTTTTTTGATTTGTT\n",
       "⋮    ⋮                                                                                                                                                                                                        \n",
       "976  ACTGCTAATGTCTGGAGACATTTTTGGTTGTACCAACGGGGGATTCCAAAGGCAGGTGCTCCTGGCGTCTGTGGGTGGAGGCCACAGCTGCTGCTAACATCCTGCAGTACCCAGGACAGCCTCACGATGGAGCACAACTCAGCCCGAGGCTGAGTTAAACCAACTGCTGTTTTTTGTTTGTTTTGAGGTTTTTTGATTTGT\n",
       "977  ACTGCTAATGTCTGGAGACATTTTTGGTTGTACCAACGGGGGATTCCAAAGGCAGGTGCTCCTGGCGTCTGTGGGTGGAGGCCACAGCTGCTGCTAACATCCTGCAGTACCCAGGACAGCCTCACGATGGAGCACAACTCAGCCCGAGGCTGAGTTAAACCAACTGCTGTTTTTTGTTTGTTTTGAGGTTTTTTGATTTGT\n",
       "978  ACTGCTAATGTCTGGAGACATTTTTGGTTGTACCAACGGGGGATTCCAAAGGCAGGTGCTCCTGGCGTCTGTGGGTGGAGGCCACAGCTGCTGCTAACATCCTGCAGTACCCAGGACAGCCTCACGATGGAGCACAACTCAGCCCGAGGCTGAGTTAAACCAACTGCTGTTTTTTGTTTGTTTTGAGGTTTTTTGATTTGT\n",
       "979  ACTGCTAATGTCTGGAGACATTTTTGGTTGTACCAACGGGGGATTCCAAAGGCAGGTGCTCCTGGCGTCTGTGGGTGGAGGCCACAGCTGCTGCTAACATCCTGCAGTACCCAGGACAGCCTCACGATGGAGCACAACTCAGCCCGAGGCTGAGTTAAACCAACTGCTGTTTTTTGTTTGTTTTGAGGTTTTTTGATTTGT\n",
       "980  ACTGCTAATGTCTGGAGACATTTTTGGTTGTACCAACGGGGGATTCCAAAGGCAGGTGCTCCTGGCGTCTGTGGGTGGAGGCCACAGCTGCTGCTAACATCCTGCAGTACCCAGGACAGCCTCACGATGGAGCACAACTCAGCCCGAGGCTGAGTTAAACCAACTGCTGTTTTTTGTTTGTTTTGAGGTTTTTTGATTTGT\n",
       "981  ACTGCTAATGTCTGGAGACATTTTTGGTTGTACCAACGGGGGAATCCAAAGGCAGGTGCTCCTGGCGTCTGTGGGTGGAGGCCACAGCTGCTGCTAACATCCTGCAGTACCCAGGACAGCCTCACGATGGAGCACAACTCAGCCCGAGGGGCTGAGTTAAACCAACTGCTGTTTTTTGTTTGTTTTGAGGTTTTTTGATTT\n",
       "982  ACTGCTAATGTCTGGAGACATTTTTGGTTGTACCAACGGGGGAATCCAAAGGCAGGTGCTCCTGGCGTCTGTGGGTGGAGGCCACAGCTGCTGCTAACATCCTGCAGTACCCAGGACAGCCTCACGATGGAGCACAACTCAGCCCGAGGGGCTGAGTTAAACCAACTGCTGTTTTTTGTTTGTTTTGAGGTTTTTTGATTT\n",
       "983  ACTGCTAATGTCTGGAGACATTTTTGGTTGTACCAACGGGGGAATCCAAAGGCAGGTGCTCCTGGCGTCTGTGGGTGGAGGCCACAGCTGCTGCTAACATCCTGCAGTACCCAGGACAGCCTCACGATGGAGCACAACTCAGCCCGAGGGGCTGAGTTAAACCAACTGCTGTTTTTTGTTTGTTTTGAGGTTTTTTGATTT\n",
       "984  ACTGCTAATGTCTGGAGACATTTTTGGTTGTACCAACGGGGGAATCCAAAGGCAGGTGCTCCTGGCGTCTGTGGGTGGAGGCCACAGCTGCTGCTAACATCCTGCAGTACCCAGGACAGCCTCACGATGGAGCACAACTCAGCCCGAGGGGCTGAGTTAAACCAACTGCTGTTTTTTGTTTGTTTTGAGGTTTTTTGATTT\n",
       "985  ACTGCTAATGTCTGGAGACATTTTTGGTTGTACCAACGGGGGAATCCAAAGGCAGGTGCTCCTGGCGTCTGTGGGTGGAGGCCACAGCTGCTGCTAACATCCTGCAGTACCCAGGACAGCCTCACGATGGAGCACAACTCAGCCCGAGGGGCTGAGTTAAACCAACTGCTGTTTTTTGTTTGTTTTGAGGTTTTTTGATTT\n",
       "986  ACTGCTAATGTCTGGAGACATTTTTGGTTGTACCAACGGGGGAATCCAAAGGCAGGTGCTCCTGGCGTCTGTGGGTGGAGGCCACAGCTGCTGCTAACATCCTGCAGTACCCAGGACAGCCTCACGATGGAGCACAACTCAGCCCGAGGGGCTGAGTTAAACCAACTGCTGTTTTTTGTTTGTTTTGAGGTTTTTTGATTT\n",
       "987  ACTGCTAATGTCTGGAGACATTTTTGGTTGTACCAACGGGGGAATCCAAAGGCAGGTGCTCCTGGCGTCTGTGGGTGGAGGCCACAGCTGCTGCTAACATCCTGCAGTACCCAGGACAGCCTCACGATGGAGCACAACTCAGCCCGAGGGGCTGAGTTAAACCAACTGCTGTTTTTTGTTTGTTTTGAGGTTTTTTGATTT\n",
       "988  ACTGCTAATGTCTGGAGACATTTTTGGTTGTACCAACGGGGGAATCCAAAGGCAGGTGCTCCTGGCGTCTGTGGGTGGAGGCCACAGCTGCTGCTAACATCCTGCAGTACCCAGGACAGCCTCACGATGGAGCACAACTCAGCCCGAGGGGCTGAGTTAAACCAACTGCTGTTTTTTGTTTGTTTTGAGGTTTTTTGATTT\n",
       "989  ACTGCTAATGTCTGGAGACATTTTTGGTTGTACCAACGGGGGAATCCAAAGGCAGGTGCTCCTGGCGTCTGTGGGTGGAGGCCACAGCTGCTGCTAACATCCTGCAGTACCCAGGACAGCCTCACGATGGAGCACAACTCAGCCCGAGGGGCTGAGTTAAACCAACTGCTGTTTTTTGTTTGTTTTGAGGTTTTTTGATTT\n",
       "990  ACTGCTAATGTCTGGAGACATTTTTGGTTGTACCAACGGGGGAATCCAAAGGCAGGTGCTCCTGGCGTCTGTGGGTGGAGGCCACAGCTGCTGCTAACATCCTGCAGTACCCAGGACAGCCTCACGATGGAGCACAACTCAGCCCGAGGGGCTGAGTTAAACCAACTGCTGTTTTTTGTTTGTTTTGAGGTTTTTTGATTT\n",
       "991  ACTGCTAATGTCTGGAGACATTTTTGGTTGTACCAACGGGGGAATCCAAAGGCAGGTGCTCCTGGCGTCTGTGGGTGGAGGCCACAGCTGCTGCTAACATCCTGCAGTACCCAGGACAGCCTCACGATGGAGCACAACTCAGCCCGAGGGGCTGAGTTAAACCAACTGCTGTTTTTTGTTTGTTTTGAGGTTTTTTGATTT\n",
       "992  ACTGCTAATGTCTGGAGACATTTTTGGTTGTACCAACGGGGGAATCCAAAGGCAGGTGCTCCTGGCGTCTGTGGGTGGAGGCCACAGCTGCTGCTAACATCCTGCAGTACCCAGGACAGCCTCACGATGGAGCACAACTCAGCCCGAGGGGCTGAGTTAAACCAACTGCTGTTTTTTGTTTGTTTTGAGGTTTTTTGATTT\n",
       "993  ACTGCTAATGTCTGGAGACATTTTTGGTTGTACCAACGGGGGAATCCAAAGGCAGGTGCTCCTGGCGTCTGTGGGTGGAGGCCACAGCTGCTGCTAACATCCTGCAGTACCCAGGACAGCCTCACGATGGAGCACAACTCAGCCCGAGGGGCTGAGTTAAACCAACTGCTGTTTTTTGTTTGTTTTGAGGTTTTTTGATTT\n",
       "994  ACTGCTAATGTCTGGAGACATTTTTGGTTGTACCAACGGGGGAATCCAAAGGCAGGTGCTCCTGGCGTCTGTGGGTGGAGGCCACAGCTGCTGCTAACATCCTGCAGTACCCAGGACAGCCTCACGATGGAGCACAACTCAGCCCGAGGGGCTGAGTTAAACCAACTGCTGTTTTTTGTTTGTTTTGAGGTTTTTTGATTT\n",
       "995  ACTGCTAATGTCTGGAGACATTTTTGGTTGTACCAACGGGGGAATCCAAAGGCAGGTGCTCCTGGCGTCTGTGGGTGGAGGCCACAGCTGCTGCTAACATCCTGCAGTACCCAGGACAGCCTCACGATGGAGCACAACTCAGCCCGAGGGGCTGAGTTAAACCAACTGCTGTTTTTTGTTTGTTTTGAGGTTTTTTGATTT\n",
       "996  ACTGCTAATGTCTGGAGACATTTTTGGTTGTACCAACGGGGGAATCCAAAGGCAGGTGCTCCTGGCGTCTGTGGGTGGAGGCCACAGCTGCTGCTAACATCCTGCAGTACCCAGGACAGCCTCACGATGGAGCACAACTCAGCCCGAGGGGCTGAGTTAAACCAACTGCTGTTTTTTGTTTGTTTTGAGGTTTTTTGATTT\n",
       "997  ACTGCTAATGTCTGGAGACATTTTTGGTTGTACCAACGGGGGAATCCAAAGGCAGGTGCTCCTGGCGTCTGTGGGTGGAGGCCACAGCTGCTGCTAACATCCTGCAGTACCCAGGACAGCCTCACGATGGAGCACAACTCAGCCCGAGGGGCTGAGTTAAACCAACTGCTGTTTTTTGTTTGTTTTGAGGTTTTTTGATTT\n",
       "998  ACTGCTAATGTCTGGAGACATTTTTGGTTGTACCAACGGGGGAATCCAAAGGCAGGTGCTCCTGGCGTCTGTGGGTGGAGGCCACAGCTGCTGCTAACATCCTGCAGTACCCAGGACAGCCTCACGATGGAGCACAACTCAGCCCGAGGGGCTGAGTTAAACCAACTGCTGTTTTTTGTTTGTTTTGAGGTTTTTTGATTT\n",
       "999  ACTGCTAATGTCTGGAGACATTTTTGGTTGTACCAACGGGGGAATCCAAAGGCAGGTGCTCCTGGCGTCTGTGGGTGGAGGCCACAGCTGCTGCTAACATCCTGCAGTACCCAGGACAGCCTCACGATGGAGCACAACTCAGCCCGAGGGGCTGAGTTAAACCAACTGCTGTTTTTTGTTTGTTTTGAGGTTTTTTGATTT\n",
       "1000 ACTGCTAATGTCTGGAGACATTTTTGGTTGTACCAACGGGGGAATCCAAAGGCAGGTGCTCCTGGCGTCTGTGGGTGGAGGCCACAGCTGCTGCTAACATCCTGCAGTACCCAGGACAGCCTCACGATGGAGCACAACTCAGCCCGAGGGGCTGAGTTAAACCAACTGCTGTTTTTTGTTTGTTTTGAGGTTTTTTGATTT\n",
       "1001 ACTGCTAATGTCTGGAGACATTTTTGGTTGTACCAACGGGGGAATCCAAAGGCAGGTGCTCCTGGCGTCTGTGGGTGGAGGCCACAGCTGCTGCTAACATCCTGCAGTACCCAGGACAGCCTCACGATGGAGCACAACTCAGCCCGAGGGGCTGAGTTAAACCAACTGCTGTTTTTTGTTTGTTTTGAGGTTTTTTGATTT\n",
       "1002 ACTGCTAATGTCTGGAGACATTTTTGGTTGTACCAACGGGGGAATCCAAAGGCAGGTGCTCCTGGCGTCTGTGGGTGGAGGCCACAGCTGCTGCTAACATCCTGCAGTACCCAGGACAGCCTCACGATGGAGCACAACTCAGCCCGAGGGGCTGAGTTAAACCAACTGCTGTTTTTTGTTTGTTTTGAGGTTTTTTGATTT\n",
       "1003 ACTGCTAATGTCTGGAGACATTTTTGGTTGTACCAACGGGGGAATCCAAAGGCAGGTGCTCCTGGCGTCTGTGGGTGGAGGCCACAGCTGCTGCTAACATCCTGCAGTACCCAGGACAGCCTCACGATGGAGCACAACTCAGCCCGAGGGGCTGAGTTAAACCAACTGCTGTTTTTTGTTTGTTTTGAGGTTTTTTGATTT\n",
       "1004 ACTGCTAATGTCTGGAGACATTTTTGGTTGTACCAACGGGGGAATCCAAAGGCAGGTGCTCCTGGCGTCTGTGGGTGGAGGCCACAGCTGCTGCTAACATCCTGCAGTACCCAGGACAGCCTCACGATGGAGCACAACTCAGCCCGAGGGGCTGAGTTAAACCAACTGCTGTTTTTTGTTTGTTTTGAGGTTTTTTGATTT\n",
       "1005 ACTGCTAATGTCTGGAGACATTTTTGGTTGTACCAACGGGGGAATCCAAAGGCAGGTGCTCCTGGCGTCTGTGGGTGGAGGCCACAGCTGCTGCTAACATCCTGCAGTACCCAGGACAGCCTCACGATGGAGCACAACTCAGCCCGAGGGGCTGAGTTAAACCAACTGCTGTTTTTTGTTTGTTTTGAGGTTTTTTGATTT\n",
       "     reference_start reference_end query_name                         \n",
       "1    63768587        63788702      m54329U_210326_192251/159909932/ccs\n",
       "2    63768587        63788702      m54329U_210326_192251/159909932/ccs\n",
       "3    63768587        63788702      m54329U_210326_192251/159909932/ccs\n",
       "4    63768587        63788702      m54329U_210326_192251/159909932/ccs\n",
       "5    63768587        63788702      m54329U_210326_192251/159909932/ccs\n",
       "6    63768587        63788702      m54329U_210326_192251/159909932/ccs\n",
       "7    63768587        63788702      m54329U_210326_192251/159909932/ccs\n",
       "8    63768587        63788702      m54329U_210326_192251/159909932/ccs\n",
       "9    63768587        63788702      m54329U_210326_192251/159909932/ccs\n",
       "10   63768587        63788702      m54329U_210326_192251/159909932/ccs\n",
       "11   63768587        63788702      m54329U_210326_192251/159909932/ccs\n",
       "12   63768587        63788702      m54329U_210326_192251/159909932/ccs\n",
       "13   63768587        63788702      m54329U_210326_192251/159909932/ccs\n",
       "14   63768587        63788702      m54329U_210326_192251/159909932/ccs\n",
       "15   63768587        63788702      m54329U_210326_192251/159909932/ccs\n",
       "16   63768587        63788702      m54329U_210326_192251/159909932/ccs\n",
       "17   63768587        63788702      m54329U_210326_192251/159909932/ccs\n",
       "18   63768587        63788702      m54329U_210326_192251/159909932/ccs\n",
       "19   63768587        63788702      m54329U_210326_192251/159909932/ccs\n",
       "20   63768587        63788702      m54329U_210326_192251/159909932/ccs\n",
       "21   63768587        63788702      m54329U_210326_192251/159909932/ccs\n",
       "22   63768587        63788702      m54329U_210326_192251/159909932/ccs\n",
       "23   63768587        63788702      m54329U_210326_192251/159909932/ccs\n",
       "24   63768587        63788702      m54329U_210326_192251/159909932/ccs\n",
       "25   63768587        63788702      m54329U_210326_192251/159909932/ccs\n",
       "26   63768587        63788702      m54329U_210326_192251/159909932/ccs\n",
       "27   63768587        63788702      m54329U_210326_192251/159909932/ccs\n",
       "28   63768587        63788702      m54329U_210326_192251/159909932/ccs\n",
       "29   63768587        63788702      m54329U_210326_192251/159909932/ccs\n",
       "30   63768587        63788702      m54329U_210326_192251/159909932/ccs\n",
       "⋮    ⋮               ⋮             ⋮                                  \n",
       "976  63785374        63810049      m64076_221119_202646/48301320/ccs  \n",
       "977  63785374        63810049      m64076_221119_202646/48301320/ccs  \n",
       "978  63785374        63810049      m64076_221119_202646/48301320/ccs  \n",
       "979  63785374        63810049      m64076_221119_202646/48301320/ccs  \n",
       "980  63785374        63810049      m64076_221119_202646/48301320/ccs  \n",
       "981  63785994        63804331      m54329U_210323_190418/141099066/ccs\n",
       "982  63785994        63804331      m54329U_210323_190418/141099066/ccs\n",
       "983  63785994        63804331      m54329U_210323_190418/141099066/ccs\n",
       "984  63785994        63804331      m54329U_210323_190418/141099066/ccs\n",
       "985  63785994        63804331      m54329U_210323_190418/141099066/ccs\n",
       "986  63785994        63804331      m54329U_210323_190418/141099066/ccs\n",
       "987  63785994        63804331      m54329U_210323_190418/141099066/ccs\n",
       "988  63785994        63804331      m54329U_210323_190418/141099066/ccs\n",
       "989  63785994        63804331      m54329U_210323_190418/141099066/ccs\n",
       "990  63785994        63804331      m54329U_210323_190418/141099066/ccs\n",
       "991  63785994        63804331      m54329U_210323_190418/141099066/ccs\n",
       "992  63785994        63804331      m54329U_210323_190418/141099066/ccs\n",
       "993  63785994        63804331      m54329U_210323_190418/141099066/ccs\n",
       "994  63785994        63804331      m54329U_210323_190418/141099066/ccs\n",
       "995  63785994        63804331      m54329U_210323_190418/141099066/ccs\n",
       "996  63785994        63804331      m54329U_210323_190418/141099066/ccs\n",
       "997  63785994        63804331      m54329U_210323_190418/141099066/ccs\n",
       "998  63785994        63804331      m54329U_210323_190418/141099066/ccs\n",
       "999  63785994        63804331      m54329U_210323_190418/141099066/ccs\n",
       "1000 63785994        63804331      m54329U_210323_190418/141099066/ccs\n",
       "1001 63785994        63804331      m54329U_210323_190418/141099066/ccs\n",
       "1002 63785994        63804331      m54329U_210323_190418/141099066/ccs\n",
       "1003 63785994        63804331      m54329U_210323_190418/141099066/ccs\n",
       "1004 63785994        63804331      m54329U_210323_190418/141099066/ccs\n",
       "1005 63785994        63804331      m54329U_210323_190418/141099066/ccs\n",
       "     centered_query_start centered_query_end query_length\n",
       "1    -17696               2294               19990       \n",
       "2    -17696               2294               19990       \n",
       "3    -17696               2294               19990       \n",
       "4    -17696               2294               19990       \n",
       "5    -17696               2294               19990       \n",
       "6    -17696               2294               19990       \n",
       "7    -17696               2294               19990       \n",
       "8    -17696               2294               19990       \n",
       "9    -17696               2294               19990       \n",
       "10   -17696               2294               19990       \n",
       "11   -17696               2294               19990       \n",
       "12   -17696               2294               19990       \n",
       "13   -17696               2294               19990       \n",
       "14   -17696               2294               19990       \n",
       "15   -17696               2294               19990       \n",
       "16   -17696               2294               19990       \n",
       "17   -17696               2294               19990       \n",
       "18   -17696               2294               19990       \n",
       "19   -17696               2294               19990       \n",
       "20   -17696               2294               19990       \n",
       "21   -17696               2294               19990       \n",
       "22   -17696               2294               19990       \n",
       "23   -17696               2294               19990       \n",
       "24   -17696               2294               19990       \n",
       "25   -17696               2294               19990       \n",
       "26   -17696               2294               19990       \n",
       "27   -17696               2294               19990       \n",
       "28   -17696               2294               19990       \n",
       "29   -17696               2294               19990       \n",
       "30   -17696               2294               19990       \n",
       "⋮    ⋮                    ⋮                  ⋮           \n",
       "976  -1040                23627              24667       \n",
       "977  -1040                23627              24667       \n",
       "978  -1040                23627              24667       \n",
       "979  -1040                23627              24667       \n",
       "980  -1040                23627              24667       \n",
       "981   -422                17983              18405       \n",
       "982   -422                17983              18405       \n",
       "983   -422                17983              18405       \n",
       "984   -422                17983              18405       \n",
       "985   -422                17983              18405       \n",
       "986   -422                17983              18405       \n",
       "987   -422                17983              18405       \n",
       "988   -422                17983              18405       \n",
       "989   -422                17983              18405       \n",
       "990   -422                17983              18405       \n",
       "991   -422                17983              18405       \n",
       "992   -422                17983              18405       \n",
       "993   -422                17983              18405       \n",
       "994   -422                17983              18405       \n",
       "995   -422                17983              18405       \n",
       "996   -422                17983              18405       \n",
       "997   -422                17983              18405       \n",
       "998   -422                17983              18405       \n",
       "999   -422                17983              18405       \n",
       "1000  -422                17983              18405       \n",
       "1001  -422                17983              18405       \n",
       "1002  -422                17983              18405       \n",
       "1003  -422                17983              18405       \n",
       "1004  -422                17983              18405       \n",
       "1005  -422                17983              18405       \n",
       "     centered_position_type centered_start centered_end msp_size Label   \n",
       "1    m6a                    -67            -66          203      Positive\n",
       "2    m6a                    -64            -63          203      Positive\n",
       "3    m6a                    -63            -62          203      Positive\n",
       "4    m6a                    -57            -56          203      Positive\n",
       "5    m6a                    -56            -55          203      Positive\n",
       "6    m6a                    -53            -52          203      Positive\n",
       "7    m6a                    -52            -51          203      Positive\n",
       "8    m6a                    -51            -50          203      Positive\n",
       "9    m6a                    -47            -46          203      Positive\n",
       "10   m6a                    -44            -43          203      Positive\n",
       "11   m6a                    -41            -40          203      Positive\n",
       "12   m6a                    -38            -37          203      Positive\n",
       "13   m6a                    -34            -33          203      Positive\n",
       "14   m6a                    -33            -32          203      Positive\n",
       "15   m6a                    -31            -30          203      Positive\n",
       "16   m6a                    -29            -28          203      Positive\n",
       "17   m6a                    -25            -24          203      Positive\n",
       "18   m6a                    -22            -21          203      Positive\n",
       "19   m6a                    -17            -16          203      Positive\n",
       "20   m6a                    -15            -14          203      Positive\n",
       "21   m6a                    -12            -11          203      Positive\n",
       "22   m6a                     -9             -8          203      Positive\n",
       "23   m6a                     -4             -3          203      Positive\n",
       "24   m6a                     -2             -1          203      Positive\n",
       "25   m6a                      5              6          203      Positive\n",
       "26   m6a                      8              9          203      Positive\n",
       "27   m6a                     12             13          203      Positive\n",
       "28   m6a                     14             15          203      Positive\n",
       "29   m6a                     16             17          203      Positive\n",
       "30   m6a                     20             21          203      Positive\n",
       "⋮    ⋮                      ⋮              ⋮            ⋮        ⋮       \n",
       "976  m6a                     70             71          227      Positive\n",
       "977  m6a                     72             73          227      Positive\n",
       "978  m6a                     76             77          227      Positive\n",
       "979  m6a                     83             84          227      Positive\n",
       "980  m6a                     85             86          227      Positive\n",
       "981  m6a                    -52            -51          124      Positive\n",
       "982  m6a                    -47            -46          124      Positive\n",
       "983  m6a                    -44            -43          124      Positive\n",
       "984  m6a                    -41            -40          124      Positive\n",
       "985  m6a                    -38            -37          124      Positive\n",
       "986  m6a                    -33            -32          124      Positive\n",
       "987  m6a                    -31            -30          124      Positive\n",
       "988  m6a                    -29            -28          124      Positive\n",
       "989  m6a                    -25            -24          124      Positive\n",
       "990  m6a                    -17            -16          124      Positive\n",
       "991  m6a                    -15            -14          124      Positive\n",
       "992  m6a                    -12            -11          124      Positive\n",
       "993  m6a                     -9             -8          124      Positive\n",
       "994  m6a                     30             31          124      Positive\n",
       "995  m6a                     33             34          124      Positive\n",
       "996  m6a                     35             36          124      Positive\n",
       "997  m6a                     36             37          124      Positive\n",
       "998  m6a                     38             39          124      Positive\n",
       "999  m6a                     40             41          124      Positive\n",
       "1000 m6a                     46             47          124      Positive\n",
       "1001 m6a                     54             55          124      Positive\n",
       "1002 m6a                     56             57          124      Positive\n",
       "1003 m6a                     66             67          124      Positive\n",
       "1004 m6a                     69             70          124      Positive\n",
       "1005 m6a                     71             72          124      Positive\n",
       "     FDR        \n",
       "1    0.04623195 \n",
       "2    0.04623195 \n",
       "3    0.04623195 \n",
       "4    0.04623195 \n",
       "5    0.04623195 \n",
       "6    0.04623195 \n",
       "7    0.04623195 \n",
       "8    0.04623195 \n",
       "9    0.04623195 \n",
       "10   0.04623195 \n",
       "11   0.04623195 \n",
       "12   0.04623195 \n",
       "13   0.04623195 \n",
       "14   0.04623195 \n",
       "15   0.04623195 \n",
       "16   0.04623195 \n",
       "17   0.04623195 \n",
       "18   0.04623195 \n",
       "19   0.04623195 \n",
       "20   0.04623195 \n",
       "21   0.04623195 \n",
       "22   0.04623195 \n",
       "23   0.04623195 \n",
       "24   0.04623195 \n",
       "25   0.04623195 \n",
       "26   0.04623195 \n",
       "27   0.04623195 \n",
       "28   0.04623195 \n",
       "29   0.04623195 \n",
       "30   0.04623195 \n",
       "⋮    ⋮          \n",
       "976  0.002571578\n",
       "977  0.002571578\n",
       "978  0.002571578\n",
       "979  0.002571578\n",
       "980  0.002571578\n",
       "981  0.009340050\n",
       "982  0.009340050\n",
       "983  0.009340050\n",
       "984  0.009340050\n",
       "985  0.009340050\n",
       "986  0.009340050\n",
       "987  0.009340050\n",
       "988  0.009340050\n",
       "989  0.009340050\n",
       "990  0.009340050\n",
       "991  0.009340050\n",
       "992  0.009340050\n",
       "993  0.009340050\n",
       "994  0.009340050\n",
       "995  0.009340050\n",
       "996  0.009340050\n",
       "997  0.009340050\n",
       "998  0.009340050\n",
       "999  0.009340050\n",
       "1000 0.009340050\n",
       "1001 0.009340050\n",
       "1002 0.009340050\n",
       "1003 0.009340050\n",
       "1004 0.009340050\n",
       "1005 0.009340050"
      ]
     },
     "metadata": {},
     "output_type": "display_data"
    }
   ],
   "source": [
    "moka"
   ]
  },
  {
   "cell_type": "code",
   "execution_count": 33,
   "id": "8e58b57e",
   "metadata": {},
   "outputs": [
    {
     "name": "stdout",
     "output_type": "stream",
     "text": [
      "[1] \"/mmfs1/gscratch/stergachislab/mvollger/projects/ctcf-footprinting/feature_data/CTCF_m6a_fiberseq_L_100bp_features-rle-max.pin\"\n"
     ]
    },
    {
     "data": {
      "text/html": [
       "'m6a rows: 569,891'"
      ],
      "text/latex": [
       "'m6a rows: 569,891'"
      ],
      "text/markdown": [
       "'m6a rows: 569,891'"
      ],
      "text/plain": [
       "[1] \"m6a rows: 569,891\""
      ]
     },
     "metadata": {},
     "output_type": "display_data"
    }
   ],
   "source": [
    "# get max rle per fiber\n",
    "#ARGS\n",
    "feature_dir <- sprintf(\"%s/feature_data\", getwd())\n",
    "\n",
    "# load set data file\n",
    "data_file_name <- \"CTCF_m6a_fiberseq_L_100bp_features-rle-max.pin\"\n",
    "data_file <- sprintf(\"%s/%s\", feature_dir, data_file_name)\n",
    "print(data_file)\n",
    "\n",
    "# read table\n",
    "df_f <- fread(data_file, nrows=n_rows)\n",
    "sprintf(\"m6a rows: %s\", format(dim(df_f)[1], big.mark=\",\", scientific=FALSE))"
   ]
  },
  {
   "cell_type": "code",
   "execution_count": 34,
   "id": "4cc34e49",
   "metadata": {},
   "outputs": [],
   "source": [
    "# add max rle to table w/ FDRs\n",
    "names(df_f)[names(df_f) == \"SpecID\"] <- \"motif_query\"\n",
    "moka <- merge(moka, df_f[,c(\"motif_query\", \"rle_max\")], by=\"motif_query\")"
   ]
  },
  {
   "cell_type": "code",
   "execution_count": 35,
   "id": "19c82eef",
   "metadata": {},
   "outputs": [],
   "source": [
    "# plot m6a instances in coords\n",
    "motif_coords <- c(\"chr20\", 63786415, 63786450)"
   ]
  },
  {
   "cell_type": "code",
   "execution_count": 36,
   "id": "85169cf1",
   "metadata": {},
   "outputs": [
    {
     "data": {
      "text/html": [
       "<style>\n",
       ".list-inline {list-style: none; margin:0; padding: 0}\n",
       ".list-inline>li {display: inline-block}\n",
       ".list-inline>li:not(:last-child)::after {content: \"\\00b7\"; padding: 0 .5ex}\n",
       "</style>\n",
       "<ol class=list-inline><li>1005</li><li>19</li></ol>\n"
      ],
      "text/latex": [
       "\\begin{enumerate*}\n",
       "\\item 1005\n",
       "\\item 19\n",
       "\\end{enumerate*}\n"
      ],
      "text/markdown": [
       "1. 1005\n",
       "2. 19\n",
       "\n",
       "\n"
      ],
      "text/plain": [
       "[1] 1005   19"
      ]
     },
     "metadata": {},
     "output_type": "display_data"
    }
   ],
   "source": [
    "dim(moka)"
   ]
  },
  {
   "cell_type": "markdown",
   "id": "bb080d86",
   "metadata": {},
   "source": [
    "### FDR gradient"
   ]
  },
  {
   "cell_type": "code",
   "execution_count": 66,
   "id": "5c2fa125",
   "metadata": {},
   "outputs": [],
   "source": [
    "# make plotting data\n",
    "df_p <- moka[, c(\"motif_query\", \"motif_name\", \"query_name\", \"centered_start\", \"centered_end\", \"FDR\", \"rle_max\")]"
   ]
  },
  {
   "cell_type": "code",
   "execution_count": 109,
   "id": "028db0ed",
   "metadata": {},
   "outputs": [
    {
     "name": "stdout",
     "output_type": "stream",
     "text": [
      "[1] \"/mmfs1/gscratch/stergachislab/mvollger/projects/ctcf-footprinting/mokapot_res/figures/CTCF_rle_max-filt.mokapot.m6a_per_fiber_log2_FDR.pdf\"\n"
     ]
    }
   ],
   "source": [
    "#------------ Set output file ------------\n",
    "FDR <- 0.05\n",
    "output_file_name <- sprintf(\"CTCF_%s.mokapot.m6a_per_fiber_log2_FDR.pdf\", file_root)\n",
    "output_file <- sprintf(\"%s/%s\", output_folder, output_file_name)\n",
    "print(output_file)\n",
    "\n",
    "# save file\n",
    "save_pdf <- TRUE\n",
    "pdf_dims <- c(15,7.5)"
   ]
  },
  {
   "cell_type": "code",
   "execution_count": 110,
   "id": "eb287a29",
   "metadata": {},
   "outputs": [],
   "source": [
    "# sort by FDR value\n",
    "df_p <- df_p[order(df_p$FDR, decreasing=TRUE)]\n",
    "\n",
    "# add col with y-axis coords\n",
    "y_min <- seq(from=0, by=1, length.out=length(unique(df_p$query_name)))\n",
    "y_max <- seq(from=0.75, by=1, length.out=length(unique(df_p$query_name)))\n",
    "\n",
    "y_min_vals <- setNames(y_min, unique(df_p$query_name))\n",
    "y_max_vals <- setNames(y_max, unique(df_p$query_name))\n",
    "\n",
    "df_p <- df_p %>%\n",
    "            mutate(\n",
    "                y_min = y_min_vals[query_name],\n",
    "                y_max = y_max_vals[query_name]\n",
    "            )\n",
    "\n",
    "# get plot limits\n",
    "x_min <- max(df_p$centered_start)\n",
    "x_max <- min(df_p$centered_end)\n",
    "# number of fibers\n",
    "n_fibers <- length(unique(df_p$query_name))"
   ]
  },
  {
   "cell_type": "code",
   "execution_count": 111,
   "id": "62c75afd",
   "metadata": {},
   "outputs": [],
   "source": [
    "# define colors (light grey, purple, darker grey, blue)\n",
    "vline_col <- \"#CECDCC\"\n",
    "m6a_col <- \"#7F3F98\"\n",
    "fiber_col <- \"#D1D2D4\"\n",
    "motif_annot_col <- \"#006738\"#\"#6C9272\"#\"blue\"\n",
    "\n",
    "# colors from Mitchell's presentation (orange, red, purple, light grey, navy (gene track))\n",
    "mitch_cols <- c(\"#FF8C00\", \"#FF0000\", \"#9370DB\", \"#E6E6E6\", \"#0C0C78\")\n",
    "# neg, high m6A & no TF: blue | pos, no m6A & TF: red\n",
    "color_vals <- c(mitch_cols[2], mitch_cols[5])\n",
    "\n",
    "# add color based on FDR value\n",
    "df_p$fill_col <- ifelse(df_p$FDR <= FDR, color_vals[1], color_vals[2])\n",
    "df_p$FDR_group <- ifelse(df_p$FDR <= FDR, \"low_FDR\", \"high_FDR\")"
   ]
  },
  {
   "cell_type": "code",
   "execution_count": 112,
   "id": "4b5ce24d",
   "metadata": {},
   "outputs": [
    {
     "name": "stdout",
     "output_type": "stream",
     "text": [
      "31"
     ]
    }
   ],
   "source": [
    "# make plot & axes titles\n",
    "cat(length(unique(df_p$query_name)))\n",
    "y_limits <- c(0, length(unique(df_p$query_name)))\n",
    "x_limits <- c(-100, 100)\n",
    "plot_title <- sprintf(\"m6A methylation per fiber over %s: %s - %s (log2 FDR)\",\n",
    "                      motif_coords[1],\n",
    "                      format(as.numeric(motif_coords[2]), big.mark=\",\", scientific=FALSE),\n",
    "                      format(as.numeric(motif_coords[3]), big.mark=\",\", scientific=FALSE))\n",
    "plot_subtitle <- sprintf(\"%s | init: rle_max | rle & k-mers | %s fibers\", \n",
    "                         \"Pos & 5% L neg\", length(unique(df_p$query_name)))\n",
    "\n",
    "x_axis_name <- \"distance from CTCF start (bp)\"\n",
    "y_axis_name <- \"individual fibers\""
   ]
  },
  {
   "cell_type": "code",
   "execution_count": 113,
   "id": "1c799584",
   "metadata": {},
   "outputs": [
    {
     "name": "stdout",
     "output_type": "stream",
     "text": [
      "[1] \"Saving plots to: /mmfs1/gscratch/stergachislab/mvollger/projects/ctcf-footprinting/mokapot_res/figures/CTCF_rle_max-filt.mokapot.m6a_per_fiber_log2_FDR.pdf\"\n"
     ]
    }
   ],
   "source": [
    "if (save_pdf == TRUE) {openPDF(output_file, pdf_dims)} else {set_plot_dimensions(15, 5)}\n",
    "\n",
    "# make background fiber smaller than m6a mark\n",
    "squish_fiber <- 0.15\n",
    "\n",
    "# colors from Mitchell's presentation (orange, red, purple, light grey, navy (gene track))\n",
    "mitch_cols <- c(\"#FF8C00\", \"#FF0000\", \"#9370DB\", \"#E6E6E6\", \"#0C0C78\")\n",
    "# neg, high m6A & no TF: blue | pos, no m6A & TF: red\n",
    "color_vals <- c(mitch_cols[2], mitch_cols[5])\n",
    "\n",
    "# plot (colored by FDR)\n",
    "p <- ggplot(df_p) +\n",
    "        # add box over motif location\n",
    "        annotate(\"rect\", xmin=0, xmax=35, ymin=-Inf, ymax=+Inf, alpha=0.2, fill=motif_annot_col) +\n",
    "        geom_rect(aes(xmin=-100, xmax=101, ymin=(y_min+squish_fiber), ymax=(y_max-squish_fiber)), \n",
    "                  fill=fiber_col, data=df_p) +\n",
    "        geom_rect(aes(xmin=centered_start, xmax=centered_end, \n",
    "                      ymin=y_min, ymax=y_max, group=FDR_group, fill=FDR), data=df_p) +\n",
    "        scale_fill_gradient(low = \"red\", high = \"blue\", trans = \"log2\", \n",
    "                            expand = expansion(mult=c(0.5, 0.5)), n.breaks=5, \n",
    "                            guide = guide_colorbar(barwidth=1, draw.ulim=TRUE, draw.llim=TRUE, title=\"log2 FDR\"), \n",
    "                            labels = function(x) format(round(x, 3), nsmall=2, scientific=FALSE)) +\n",
    "                            \n",
    "        ggtitle(label = plot_title, subtitle = plot_subtitle) +\n",
    "        scale_y_continuous(expand=expansion(add=c(0,0)), name=y_axis_name) +\n",
    "        scale_x_continuous(name=x_axis_name, expand=expansion(add=c(0, 5))) +\n",
    "        theme_classic() +\n",
    "        theme(text = font_info,\n",
    "            axis.ticks = element_line(color=\"#000000\", lineend=\"square\"),\n",
    "            axis.text = font_info,\n",
    "            axis.line = element_blank(),\n",
    "            panel.background = element_blank(),\n",
    "            plot.title = element_text(family=\"ArialMT\", size=font_size+2, hjust=0.5),\n",
    "            plot.subtitle = element_text(family=\"ArialMT\", size=font_size+2, hjust=0.5),\n",
    "             plot.margin=margin(1,0,1,1, \"pt\"))\n",
    "p\n",
    "\n",
    "#if (save_pdf == TRUE) {closePDF()}"
   ]
  },
  {
   "cell_type": "code",
   "execution_count": 114,
   "id": "9c061bc7",
   "metadata": {},
   "outputs": [
    {
     "name": "stdout",
     "output_type": "stream",
     "text": [
      "[1] \"File saved.\"\n"
     ]
    },
    {
     "data": {
      "image/png": "[encoded data removed]",
      "text/plain": [
       "plot without title"
      ]
     },
     "metadata": {
      "image/png": {
       "height": 600,
       "width": 1200
      }
     },
     "output_type": "display_data"
    }
   ],
   "source": [
    "# make rle max bar larger than m6a mark\n",
    "rle_stretch <- 0\n",
    "\n",
    "p2 <- ggplot(df_p) +\n",
    "        geom_rect(aes(xmin=0, xmax=rle_max, ymin=(y_min)-rle_stretch, ymax=(y_max+rle_stretch)),\n",
    "                  fill=mitch_cols[5]) +\n",
    "        #geom_text(aes(label=rle_max, x=-2, y=(y_min-0.2)), vjust=0, hjust=1, \n",
    "        #          size=2, family=\"ArialMT\", color=\"black\", face=\"plain\") +\n",
    "        scale_y_continuous(expand=expansion(add=c(0,NA))) +#, breaks=1:49, labels=labels) +#, limits=c(-0.5,49)) +\n",
    "        scale_x_continuous(limits=c(-3, 17), expand=c(0,0), position=\"bottom\", name=\"rle max\") +\n",
    "        coord_cartesian(xlim=c(0, 17), clip=\"off\") +\n",
    "        theme_classic() +\n",
    "        theme(#text = font_info,\n",
    "                axis.ticks = element_line(color=\"#000000\", lineend=\"square\"),\n",
    "                axis.text.x = element_text(angle=-90, hjust=1, vjust=0.5,\n",
    "                                           size=12, family=\"ArialMT\", color=\"black\"),\n",
    "                axis.text.y=element_blank(),\n",
    "                axis.ticks.y=element_blank(),\n",
    "                axis.title.y=element_blank(),\n",
    "                axis.line = element_line(color=\"#000000\", lineend=\"square\"),\n",
    "                #panel.background = element_rect(fill=\"transparent\", color=\"#000000\", size=1),\n",
    "                legend.position = \"none\",\n",
    "                plot.margin = margin(t=1, r=15, b=1, l=10))\n",
    "\n",
    "p2\n",
    "\n",
    "if (save_pdf == TRUE) {closePDF()}"
   ]
  },
  {
   "cell_type": "code",
   "execution_count": 117,
   "id": "52413e28",
   "metadata": {},
   "outputs": [
    {
     "name": "stdout",
     "output_type": "stream",
     "text": [
      "[1] \"/mmfs1/gscratch/stergachislab/mvollger/projects/ctcf-footprinting/mokapot_res/figures/CTCF_rle_max-filt.mokapot.m6a_per_fiber_log2_FDR_rle-max.pdf\"\n"
     ]
    }
   ],
   "source": [
    "#------------ Set output file ------------\n",
    "output_file_name <- sprintf(\"CTCF_%s.mokapot.m6a_per_fiber_log2_FDR_rle-max.pdf\", file_root)\n",
    "output_file <- sprintf(\"%s/%s\", output_folder, output_file_name)\n",
    "print(output_file)\n",
    "\n",
    "# save file\n",
    "save_pdf <- TRUE\n",
    "pdf_dims <- c(15,7.5)"
   ]
  },
  {
   "cell_type": "code",
   "execution_count": 118,
   "id": "a2fcbd1a",
   "metadata": {},
   "outputs": [
    {
     "name": "stdout",
     "output_type": "stream",
     "text": [
      "[1] \"Saving plots to: /mmfs1/gscratch/stergachislab/mvollger/projects/ctcf-footprinting/mokapot_res/figures/CTCF_rle_max-filt.mokapot.m6a_per_fiber_log2_FDR_rle-max.pdf\"\n",
      "[1] \"File saved.\"\n"
     ]
    }
   ],
   "source": [
    "if (save_pdf == TRUE) {openPDF(output_file, pdf_dims)} else {set_plot_dimensions(15, 5)}\n",
    "\n",
    "# merge plots\n",
    "p3 <- plot_grid(p, NULL, p2, rel_widths = c(0.925, -0.1, 0.075), nrow=1, align=\"h\")\n",
    "p3\n",
    "\n",
    "if (save_pdf == TRUE) {closePDF()}"
   ]
  },
  {
   "cell_type": "code",
   "execution_count": null,
   "id": "e509dcce",
   "metadata": {},
   "outputs": [],
   "source": []
  }
 ],
 "metadata": {
  "kernelspec": {
   "display_name": "R [conda env:r_env]",
   "language": "R",
   "name": "conda-env-r_env-r"
  },
  "language_info": {
   "codemirror_mode": "r",
   "file_extension": ".r",
   "mimetype": "text/x-r-source",
   "name": "R",
   "pygments_lexer": "r",
   "version": "4.2.2"
  },
  "toc": {
   "base_numbering": 1,
   "nav_menu": {},
   "number_sections": false,
   "sideBar": true,
   "skip_h1_title": true,
   "title_cell": "Table of Contents",
   "title_sidebar": "Contents",
   "toc_cell": false,
   "toc_position": {
    "height": "calc(100% - 180px)",
    "left": "10px",
    "top": "150px",
    "width": "216.594px"
   },
   "toc_section_display": true,
   "toc_window_display": true
  }
 },
 "nbformat": 4,
 "nbformat_minor": 5
}
