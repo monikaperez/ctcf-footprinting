{
 "cells": [
  {
   "cell_type": "markdown",
   "id": "3760c5d8",
   "metadata": {},
   "source": [
    "# Fixing & editing feature collection code"
   ]
  },
  {
   "cell_type": "code",
   "execution_count": 377,
   "id": "d424f586",
   "metadata": {},
   "outputs": [],
   "source": [
    "import os\n",
    "import pandas as pd\n",
    "import numpy as np\n",
    "import sys\n",
    "\n",
    "from collections import defaultdict\n",
    "from collections import Counter\n",
    "import itertools\n",
    "\n",
    "import functools\n",
    "from functools import reduce\n",
    "import itertools\n",
    "from collections import defaultdict\n",
    "from collections import Counter\n",
    "from functools import reduce\n",
    "\n",
    "import logging\n",
    "import matplotlib.pyplot as plt"
   ]
  },
  {
   "cell_type": "code",
   "execution_count": 244,
   "id": "496a7971",
   "metadata": {},
   "outputs": [],
   "source": [
    "# set folders\n",
    "project_dir = \"/mmfs1/gscratch/stergachislab/mwperez/ctcf-footprinting\"\n",
    "data_dir = \"{}/candidate_footprints\".format(project_dir)\n",
    "feature_dir = \"{}/feature_data\".format(project_dir)"
   ]
  },
  {
   "cell_type": "markdown",
   "id": "605f2808",
   "metadata": {},
   "source": [
    "## helper fxns"
   ]
  },
  {
   "cell_type": "code",
   "execution_count": 245,
   "id": "122cdbc3",
   "metadata": {},
   "outputs": [],
   "source": [
    "def get_motif_seq(subset_sequence):\n",
    "    '''Get motif sequence from subset_sequence.'''\n",
    "    center_idx = 100\n",
    "    motif_len = 35\n",
    "    motif_seq = subset_sequence[center_idx:(center_idx+motif_len)]\n",
    "    return motif_seq"
   ]
  },
  {
   "cell_type": "code",
   "execution_count": 246,
   "id": "40b7e822",
   "metadata": {},
   "outputs": [],
   "source": [
    "def get_kmers(seq, k):\n",
    "    '''Decompose the input sequence (str) into k-mers (str).'''\n",
    "    num_kmers = len(seq) - k + 1\n",
    "    seqs = [seq[i:i+k] for i in range(num_kmers)]\n",
    "    return seqs"
   ]
  },
  {
   "cell_type": "code",
   "execution_count": 282,
   "id": "48e3815a",
   "metadata": {},
   "outputs": [],
   "source": [
    "def clean_sequences(df):\n",
    "    ''''Remove rows with an N character in sequence.'''\n",
    "    print(\"Removing sequences w/ N: {:,}\".format(df[\"subset_sequence\"].str.contains(\"N\").sum()))\n",
    "    return df[~df[\"subset_sequence\"].str.contains(\"N\")]"
   ]
  },
  {
   "cell_type": "code",
   "execution_count": 283,
   "id": "2a23e9d2",
   "metadata": {},
   "outputs": [],
   "source": [
    "def clean_chroms(df):\n",
    "    ''''Remove rows no in standard chromosomes (chr1-22, chrX).'''\n",
    "    clean_chroms = (df[\"chrom\"].isin([f\"chr{x}\" for x in list(range(1, 23))+[\"X\"]]))\n",
    "    print(\"Removing weird chromosomes: {:,}\".format((df.shape[0] - clean_chroms.sum())))\n",
    "    return df.loc[clean_chroms]"
   ]
  },
  {
   "cell_type": "code",
   "execution_count": 266,
   "id": "d26247c7",
   "metadata": {},
   "outputs": [],
   "source": [
    "def filt_msps(df, motif_len=35):\n",
    "    '''Filters for motif/query instances with a motif within \n",
    "    a MSP and adds MSP length to each motif/query group.'''\n",
    "    \n",
    "    # position of MSPs containing a motif\n",
    "    msp_mask = (df[\"centered_position_type\"] == \"msp\") & (df[\"centered_start\"] <= 0) & (df[\"centered_end\"] >= motif_len)\n",
    "    print(\"MSP's with a motif: \" + \"{:,}\".format(msp_mask.sum()))\n",
    "    msp_groups = [(row[\"motif_name\"], row[\"query_name\"]) for idx, row in df[msp_mask].iterrows()]\n",
    "    \n",
    "    # filter for rows with motifs within an MSP (gets both MSP's & m6a's)\n",
    "    df = df[df[[\"motif_name\", \"query_name\"]].apply(tuple, 1).isin(msp_groups)]\n",
    "    print(\"Total observations from motifs within an MSP: \" + \"{:,}\".format(df.shape[0]))\n",
    "    \n",
    "    # add MSP size corresponding to each group\n",
    "    # df with msp sizes\n",
    "    df_msp = df.loc[msp_mask, [\"motif_name\", \"query_name\", \"centered_end\", \"centered_start\"]]\n",
    "    df_msp[\"msp_size\"] = df_msp[\"centered_end\"] - df_msp[\"centered_start\"]\n",
    "\n",
    "    # match msp back to it's motif & fiber\n",
    "    df = df.merge(df_msp[[\"motif_name\", \"query_name\", \"msp_size\"]], on=[\"motif_name\", \"query_name\"])\n",
    "    print(\"Merged df shape w/ msp_size: \" + \"{:,}\".format(df.shape[0]))\n",
    "    return df"
   ]
  },
  {
   "cell_type": "code",
   "execution_count": null,
   "id": "ad02cda0",
   "metadata": {},
   "outputs": [],
   "source": []
  },
  {
   "cell_type": "code",
   "execution_count": null,
   "id": "cdb1281a",
   "metadata": {},
   "outputs": [],
   "source": []
  },
  {
   "cell_type": "code",
   "execution_count": null,
   "id": "d114941f",
   "metadata": {},
   "outputs": [],
   "source": []
  },
  {
   "cell_type": "code",
   "execution_count": null,
   "id": "12247c93",
   "metadata": {},
   "outputs": [],
   "source": []
  },
  {
   "cell_type": "code",
   "execution_count": null,
   "id": "bae694a9",
   "metadata": {},
   "outputs": [],
   "source": []
  },
  {
   "cell_type": "markdown",
   "id": "94aee0c1",
   "metadata": {},
   "source": [
    "__Mitchell's code__"
   ]
  },
  {
   "cell_type": "code",
   "execution_count": 274,
   "id": "7efa0daa",
   "metadata": {},
   "outputs": [],
   "source": [
    "import itertools\n",
    "\n",
    "COMPLEMENT = {'A': 'T', 'C': 'G', 'G': 'C', 'T': 'A'}\n",
    "\n",
    "def revcomp(seq):\n",
    "    return \"\".join(COMPLEMENT[base] for base in reversed(seq))\n",
    "\n",
    "# make all possible 3-mers\n",
    "def make_kmer_dict(kmer_size, use_canonical=False):\n",
    "    kmer_dict = {}\n",
    "    kmers = []\n",
    "    # cartesian product (set formed from 2+ sets w/ all ordered pairs)\n",
    "    for kmer_list in itertools.product([\"A\", \"C\", \"G\", \"T\"], repeat=kmer_size):\n",
    "        kmer = \"\".join(kmer_list)\n",
    "        rc_kmer = revcomp(kmer)\n",
    "        if rc_kmer < kmer and use_canonical:\n",
    "            kmer = rc_kmer\n",
    "        # skip no m6a possible kmers\n",
    "        if kmer.count(\"A\") + kmer.count(\"T\") == 0:\n",
    "            continue\n",
    "        kmers.append(kmer)\n",
    "        kmer_dict[f\"{kmer}_count\"] = 0\n",
    "        kmer_dict[f\"{kmer}_m6a_count\"] = 0\n",
    "    return kmer_dict, kmers\n",
    "\n",
    "def kmer_features(seq, m6a_bool, kmer_size = 3, use_canonical = False):\n",
    "    stop_index = len(seq) - kmer_size + 1\n",
    "    kmer_counts, kmers = make_kmer_dict(kmer_size, use_canonical=use_canonical)\n",
    "    kmer_feats = {}\n",
    "    for i in range(stop_index):\n",
    "        # get current index\n",
    "        kmer = seq[i:i+kmer_size]\n",
    "        m6a_count = m6a_bool[i:i+kmer_size].sum()\n",
    "        # skip no m6a possible kmers\n",
    "        if kmer.count(\"A\") + kmer.count(\"T\") == 0:\n",
    "            continue\n",
    "        # get canonical kmer\n",
    "        rc_kmer = revcomp(kmer)\n",
    "        if rc_kmer < kmer and use_canonical:\n",
    "            kmer = rc_kmer\n",
    "        # counts \n",
    "        kmer_counts[f\"{kmer}_count\"] += 1\n",
    "        kmer_counts[f\"{kmer}_m6a_count\"] += m6a_count\n",
    "        \n",
    "    # get motif_m6a_prop\n",
    "    for kmer in kmers:\n",
    "        AT_count = (kmer.count(\"A\") + kmer.count(\"T\"))\n",
    "        motif_m6a_prop = weird_division(kmer_counts[f\"{kmer}_m6a_count\"], \n",
    "                                        (AT_count*kmer_counts[f\"{kmer}_count\"]))\n",
    "        #if motif_m6a_prop > 1:\n",
    "            #raise ValueError(f\"Motif m6A proportion > 1. {kmer} value: {motif_m6a_prop}\")\n",
    "        kmer_feats[f\"{kmer}_count\"] = kmer_counts[f\"{kmer}_count\"]\n",
    "        kmer_feats[f\"{kmer}_m6a_prop\"] = weird_division(kmer_counts[f\"{kmer}_m6a_count\"],\n",
    "                                                        (AT_count * kmer_counts[f\"{kmer}_count\"]))\n",
    "\n",
    "    return kmer_feats"
   ]
  },
  {
   "cell_type": "code",
   "execution_count": 248,
   "id": "4732d81d",
   "metadata": {},
   "outputs": [],
   "source": [
    "def weird_division(n, d):\n",
    "    # prevent divide by 0 error\n",
    "    return n/d if d else 0"
   ]
  },
  {
   "cell_type": "code",
   "execution_count": 217,
   "id": "e1b635ec",
   "metadata": {},
   "outputs": [],
   "source": [
    "# establish input data\n",
    "subseq_motif = \"ACGTACGTACGTACGTACGTATCGGG\"\n",
    "subseq_m6a   = \"10010000000100010001110000\"\n",
    "# convert m6a boolean string to numpy array\n",
    "m6a_bool = np.array([int(x) for x in subseq_m6a])"
   ]
  },
  {
   "cell_type": "code",
   "execution_count": 218,
   "id": "13332c99",
   "metadata": {
    "collapsed": true
   },
   "outputs": [
    {
     "name": "stdout",
     "output_type": "stream",
     "text": [
      "56\n",
      "ACG_count 10\n",
      "ACG_m6a_prop 0.5\n",
      "ATA_count 1\n",
      "ATA_m6a_prop 1.0\n",
      "ATC_count 1\n",
      "ATC_m6a_prop 1.0\n",
      "CGA_count 1\n",
      "CGA_m6a_prop 1.0\n",
      "GTA_count 9\n",
      "GTA_m6a_prop 0.4444444444444444\n"
     ]
    }
   ],
   "source": [
    "# features (canonical)\n",
    "feats = kmer_features(subseq_motif, m6a_bool, kmer_size = 3, use_canonical=True)\n",
    "print(len(feats))\n",
    "for k,v in feats.items():\n",
    "    if v == 0:\n",
    "        continue\n",
    "    else:\n",
    "        print(k, v)"
   ]
  },
  {
   "cell_type": "code",
   "execution_count": 219,
   "id": "2a50254d",
   "metadata": {
    "collapsed": true
   },
   "outputs": [
    {
     "name": "stdout",
     "output_type": "stream",
     "text": [
      "112\n",
      "ACG_count 5\n",
      "ACG_m6a_prop 0.2\n",
      "ATC_count 1\n",
      "ATC_m6a_prop 1.0\n",
      "CGT_count 5\n",
      "CGT_m6a_prop 0.8\n",
      "GTA_count 5\n",
      "GTA_m6a_prop 0.5\n",
      "TAC_count 4\n",
      "TAC_m6a_prop 0.375\n",
      "TAT_count 1\n",
      "TAT_m6a_prop 1.0\n",
      "TCG_count 1\n",
      "TCG_m6a_prop 1.0\n"
     ]
    }
   ],
   "source": [
    "# features (non-canonical)\n",
    "feats = kmer_features(subseq_motif, m6a_bool, kmer_size = 3, use_canonical=False)\n",
    "print(len(feats))\n",
    "for k,v in feats.items():\n",
    "    if v == 0:\n",
    "        continue\n",
    "    else:\n",
    "        print(k, v)"
   ]
  },
  {
   "cell_type": "code",
   "execution_count": null,
   "id": "cb17644a",
   "metadata": {},
   "outputs": [],
   "source": []
  },
  {
   "cell_type": "markdown",
   "id": "c03c9d12",
   "metadata": {
    "heading_collapsed": true
   },
   "source": [
    "## Positive (L)"
   ]
  },
  {
   "cell_type": "code",
   "execution_count": 249,
   "id": "a73af790",
   "metadata": {
    "hidden": true
   },
   "outputs": [],
   "source": [
    "# CTCF L cleaned\n",
    "motif_type = \"L\"\n",
    "data_file = \"{}/CTCF_m6a_fiberseq_{}_100bp_positive-cleaned.txt\".format(data_dir, motif_type)"
   ]
  },
  {
   "cell_type": "code",
   "execution_count": 250,
   "id": "8855cb76",
   "metadata": {
    "hidden": true
   },
   "outputs": [
    {
     "name": "stdout",
     "output_type": "stream",
     "text": [
      "ft center data - rows: 9,495,739, columns: 16\n",
      "CPU times: user 18.3 s, sys: 2.29 s, total: 20.6 s\n",
      "Wall time: 20.7 s\n"
     ]
    }
   ],
   "source": [
    "%%time\n",
    "# read in data\n",
    "n_rows = None\n",
    "df = pd.read_csv(data_file, sep=\"\\t\", nrows=n_rows)\n",
    "print(\"ft center data - rows: {:,}, columns: {:,}\".format(df.shape[0], df.shape[1]))"
   ]
  },
  {
   "cell_type": "code",
   "execution_count": 251,
   "id": "4272d11d",
   "metadata": {
    "collapsed": true,
    "hidden": true
   },
   "outputs": [
    {
     "name": "stdout",
     "output_type": "stream",
     "text": [
      "rows: 9,495,739, columns: 16\n"
     ]
    },
    {
     "data": {
      "text/html": [
       "<div>\n",
       "<style scoped>\n",
       "    .dataframe tbody tr th:only-of-type {\n",
       "        vertical-align: middle;\n",
       "    }\n",
       "\n",
       "    .dataframe tbody tr th {\n",
       "        vertical-align: top;\n",
       "    }\n",
       "\n",
       "    .dataframe thead th {\n",
       "        text-align: right;\n",
       "    }\n",
       "</style>\n",
       "<table border=\"1\" class=\"dataframe\">\n",
       "  <thead>\n",
       "    <tr style=\"text-align: right;\">\n",
       "      <th></th>\n",
       "      <th>motif_query</th>\n",
       "      <th>motif_name</th>\n",
       "      <th>chrom</th>\n",
       "      <th>centering_position</th>\n",
       "      <th>strand</th>\n",
       "      <th>subset_sequence</th>\n",
       "      <th>reference_start</th>\n",
       "      <th>reference_end</th>\n",
       "      <th>query_name</th>\n",
       "      <th>centered_query_start</th>\n",
       "      <th>centered_query_end</th>\n",
       "      <th>query_length</th>\n",
       "      <th>centered_position_type</th>\n",
       "      <th>centered_start</th>\n",
       "      <th>centered_end</th>\n",
       "      <th>msp_size</th>\n",
       "    </tr>\n",
       "  </thead>\n",
       "  <tbody>\n",
       "    <tr>\n",
       "      <th>0</th>\n",
       "      <td>chr1_1033080_+/m54329U_210813_020940/24183559/ccs</td>\n",
       "      <td>chr1_1033080_+</td>\n",
       "      <td>chr1</td>\n",
       "      <td>1033080</td>\n",
       "      <td>+</td>\n",
       "      <td>GACCTACGGGGGCGGGTGTGGGGACGCCGGACTACGCGTCAGGAGT...</td>\n",
       "      <td>1008277</td>\n",
       "      <td>1033947</td>\n",
       "      <td>m54329U_210813_020940/24183559/ccs</td>\n",
       "      <td>-24816</td>\n",
       "      <td>861</td>\n",
       "      <td>25677</td>\n",
       "      <td>m6a</td>\n",
       "      <td>-77</td>\n",
       "      <td>-76</td>\n",
       "      <td>225</td>\n",
       "    </tr>\n",
       "    <tr>\n",
       "      <th>1</th>\n",
       "      <td>chr1_1033080_+/m54329U_210813_020940/24183559/ccs</td>\n",
       "      <td>chr1_1033080_+</td>\n",
       "      <td>chr1</td>\n",
       "      <td>1033080</td>\n",
       "      <td>+</td>\n",
       "      <td>GACCTACGGGGGCGGGTGTGGGGACGCCGGACTACGCGTCAGGAGT...</td>\n",
       "      <td>1008277</td>\n",
       "      <td>1033947</td>\n",
       "      <td>m54329U_210813_020940/24183559/ccs</td>\n",
       "      <td>-24816</td>\n",
       "      <td>861</td>\n",
       "      <td>25677</td>\n",
       "      <td>m6a</td>\n",
       "      <td>-70</td>\n",
       "      <td>-69</td>\n",
       "      <td>225</td>\n",
       "    </tr>\n",
       "    <tr>\n",
       "      <th>2</th>\n",
       "      <td>chr1_1033080_+/m54329U_210813_020940/24183559/ccs</td>\n",
       "      <td>chr1_1033080_+</td>\n",
       "      <td>chr1</td>\n",
       "      <td>1033080</td>\n",
       "      <td>+</td>\n",
       "      <td>GACCTACGGGGGCGGGTGTGGGGACGCCGGACTACGCGTCAGGAGT...</td>\n",
       "      <td>1008277</td>\n",
       "      <td>1033947</td>\n",
       "      <td>m54329U_210813_020940/24183559/ccs</td>\n",
       "      <td>-24816</td>\n",
       "      <td>861</td>\n",
       "      <td>25677</td>\n",
       "      <td>m6a</td>\n",
       "      <td>-67</td>\n",
       "      <td>-66</td>\n",
       "      <td>225</td>\n",
       "    </tr>\n",
       "    <tr>\n",
       "      <th>3</th>\n",
       "      <td>chr1_1033080_+/m54329U_210813_020940/24183559/ccs</td>\n",
       "      <td>chr1_1033080_+</td>\n",
       "      <td>chr1</td>\n",
       "      <td>1033080</td>\n",
       "      <td>+</td>\n",
       "      <td>GACCTACGGGGGCGGGTGTGGGGACGCCGGACTACGCGTCAGGAGT...</td>\n",
       "      <td>1008277</td>\n",
       "      <td>1033947</td>\n",
       "      <td>m54329U_210813_020940/24183559/ccs</td>\n",
       "      <td>-24816</td>\n",
       "      <td>861</td>\n",
       "      <td>25677</td>\n",
       "      <td>m6a</td>\n",
       "      <td>-62</td>\n",
       "      <td>-61</td>\n",
       "      <td>225</td>\n",
       "    </tr>\n",
       "    <tr>\n",
       "      <th>4</th>\n",
       "      <td>chr1_1033080_+/m54329U_210813_020940/24183559/ccs</td>\n",
       "      <td>chr1_1033080_+</td>\n",
       "      <td>chr1</td>\n",
       "      <td>1033080</td>\n",
       "      <td>+</td>\n",
       "      <td>GACCTACGGGGGCGGGTGTGGGGACGCCGGACTACGCGTCAGGAGT...</td>\n",
       "      <td>1008277</td>\n",
       "      <td>1033947</td>\n",
       "      <td>m54329U_210813_020940/24183559/ccs</td>\n",
       "      <td>-24816</td>\n",
       "      <td>861</td>\n",
       "      <td>25677</td>\n",
       "      <td>m6a</td>\n",
       "      <td>-60</td>\n",
       "      <td>-59</td>\n",
       "      <td>225</td>\n",
       "    </tr>\n",
       "  </tbody>\n",
       "</table>\n",
       "</div>"
      ],
      "text/plain": [
       "                                         motif_query      motif_name chrom  \\\n",
       "0  chr1_1033080_+/m54329U_210813_020940/24183559/ccs  chr1_1033080_+  chr1   \n",
       "1  chr1_1033080_+/m54329U_210813_020940/24183559/ccs  chr1_1033080_+  chr1   \n",
       "2  chr1_1033080_+/m54329U_210813_020940/24183559/ccs  chr1_1033080_+  chr1   \n",
       "3  chr1_1033080_+/m54329U_210813_020940/24183559/ccs  chr1_1033080_+  chr1   \n",
       "4  chr1_1033080_+/m54329U_210813_020940/24183559/ccs  chr1_1033080_+  chr1   \n",
       "\n",
       "   centering_position strand  \\\n",
       "0             1033080      +   \n",
       "1             1033080      +   \n",
       "2             1033080      +   \n",
       "3             1033080      +   \n",
       "4             1033080      +   \n",
       "\n",
       "                                     subset_sequence  reference_start  \\\n",
       "0  GACCTACGGGGGCGGGTGTGGGGACGCCGGACTACGCGTCAGGAGT...          1008277   \n",
       "1  GACCTACGGGGGCGGGTGTGGGGACGCCGGACTACGCGTCAGGAGT...          1008277   \n",
       "2  GACCTACGGGGGCGGGTGTGGGGACGCCGGACTACGCGTCAGGAGT...          1008277   \n",
       "3  GACCTACGGGGGCGGGTGTGGGGACGCCGGACTACGCGTCAGGAGT...          1008277   \n",
       "4  GACCTACGGGGGCGGGTGTGGGGACGCCGGACTACGCGTCAGGAGT...          1008277   \n",
       "\n",
       "   reference_end                          query_name  centered_query_start  \\\n",
       "0        1033947  m54329U_210813_020940/24183559/ccs                -24816   \n",
       "1        1033947  m54329U_210813_020940/24183559/ccs                -24816   \n",
       "2        1033947  m54329U_210813_020940/24183559/ccs                -24816   \n",
       "3        1033947  m54329U_210813_020940/24183559/ccs                -24816   \n",
       "4        1033947  m54329U_210813_020940/24183559/ccs                -24816   \n",
       "\n",
       "   centered_query_end  query_length centered_position_type  centered_start  \\\n",
       "0                 861         25677                    m6a             -77   \n",
       "1                 861         25677                    m6a             -70   \n",
       "2                 861         25677                    m6a             -67   \n",
       "3                 861         25677                    m6a             -62   \n",
       "4                 861         25677                    m6a             -60   \n",
       "\n",
       "   centered_end  msp_size  \n",
       "0           -76       225  \n",
       "1           -69       225  \n",
       "2           -66       225  \n",
       "3           -61       225  \n",
       "4           -59       225  "
      ]
     },
     "execution_count": 251,
     "metadata": {},
     "output_type": "execute_result"
    }
   ],
   "source": [
    "print(\"rows: {:,}, columns: {:,}\".format(df.shape[0], df.shape[1]))\n",
    "df.head()"
   ]
  },
  {
   "cell_type": "code",
   "execution_count": null,
   "id": "8354a148",
   "metadata": {
    "hidden": true
   },
   "outputs": [],
   "source": [
    "# establish input data\n",
    "subseq_motif = \"ACGTACGTACGTACGTACGTATCGGG\"\n",
    "subseq_m6a   = \"10010000000100010001110000\"\n",
    "# convert m6a boolean string to numpy array\n",
    "m6a_bool = np.array([int(x) for x in subseq_m6a])"
   ]
  },
  {
   "cell_type": "code",
   "execution_count": 252,
   "id": "79022232",
   "metadata": {
    "hidden": true
   },
   "outputs": [
    {
     "name": "stdout",
     "output_type": "stream",
     "text": [
      "Total m6a's within 40 bp flank of motif: 6,388,435\n"
     ]
    }
   ],
   "source": [
    "# filter for m6As within 40 bp flank\n",
    "m6a_range_mask = (df[\"centered_start\"] >= -40) & (df[\"centered_end\"] <= 75)\n",
    "print(\"Total m6a's within 40 bp flank of motif: \" + \"{:,}\".format(m6a_range_mask.sum()))\n",
    "df = df[m6a_range_mask]"
   ]
  },
  {
   "cell_type": "code",
   "execution_count": 253,
   "id": "0cebc12e",
   "metadata": {
    "hidden": true
   },
   "outputs": [
    {
     "name": "stdout",
     "output_type": "stream",
     "text": [
      "Unique motif-sequence groups: 238,348\n"
     ]
    }
   ],
   "source": [
    "# group by motif/query name\n",
    "grouping_cols = [\"motif_name\", \"query_name\"]\n",
    "df_grouped = df.groupby(grouping_cols)\n",
    "# get group names (keys)\n",
    "group_names = list(df_grouped.groups.keys())\n",
    "print(\"Unique motif-sequence groups: \" + \"{:,}\".format(len(group_names)))"
   ]
  },
  {
   "cell_type": "code",
   "execution_count": 128,
   "id": "3bd6a82f",
   "metadata": {
    "hidden": true
   },
   "outputs": [],
   "source": [
    "def agg_kmer_features(x):\n",
    "    '''Collect k-mer features per group.'''\n",
    "    # get sequence\n",
    "    center = 100\n",
    "    motif_len = 35\n",
    "    subseq = x[\"subset_sequence\"].unique()[0]\n",
    "    subseq_motif = subseq[center:(center+motif_len)]\n",
    "    \n",
    "    # m6a instances in motif\n",
    "    m6a_bool = x[(x[\"centered_start\"] >= 0) & (x[\"centered_end\"] <= 35)][\"centered_start\"].values\n",
    "    m6a_bool = [1 if (i in m6a_bool) else 0 for i in range(0, 35)]\n",
    "    # convert m6a bool to numpy array\n",
    "    m6a_bool = np.array(m6a_bool)\n",
    "    \n",
    "    kmer_counts = kmer_features(subseq_motif, m6a_bool, kmer_size=3, use_canonical=True)\n",
    "    \n",
    "    return pd.Series(kmer_counts, index=list(kmer_counts.keys()))"
   ]
  },
  {
   "cell_type": "code",
   "execution_count": 303,
   "id": "8b769a7b",
   "metadata": {
    "hidden": true
   },
   "outputs": [],
   "source": [
    "def agg_features(x):\n",
    "    '''Collect motif features per group.'''\n",
    "    d = defaultdict()\n",
    "    print(x['motif_query_start_end'])\n",
    "    # msp size\n",
    "    d[\"msp_size\"] = x[\"msp_size\"].unique()[0]\n",
    "    \n",
    "    # get sequences (left, right, motif)\n",
    "    center = 100\n",
    "    motif_len = 35\n",
    "    flank = 40\n",
    "    subseq = x[\"subset_sequence\"].unique()[0]\n",
    "    subseq_motif = subseq[center:(center+motif_len)]\n",
    "    subseq_l = subseq[(center-flank):center]\n",
    "    subseq_r = subseq[(center+motif_len):(center+motif_len+flank)]\n",
    "    \n",
    "    # AT count (left, right, motif)\n",
    "    d[\"left_AT_count\"] = (subseq_l.count(\"A\") + subseq_l.count(\"T\"))\n",
    "    d[\"right_AT_count\"] = (subseq_r.count(\"A\") + subseq_r.count(\"T\"))\n",
    "    d[\"motif_AT_count\"] = (subseq_motif.count(\"A\") + subseq_motif.count(\"T\"))\n",
    "    \n",
    "    # proportion of bases that are AT\n",
    "    d[\"left_AT_prop\"] = weird_division(d[\"left_AT_count\"], flank)\n",
    "    d[\"right_AT_prop\"] = weird_division(d[\"right_AT_count\"], flank)\n",
    "    d[\"motif_AT_prop\"] = weird_division(d[\"motif_AT_count\"], motif_len)\n",
    "    \n",
    "    # m6a instances\n",
    "    d[\"left_m6a_count\"] = (x[\"centered_start\"] < 0).sum()\n",
    "    d[\"right_m6a_count\"] = (x[\"centered_start\"] >= 35).sum()\n",
    "    d[\"motif_m6a_count\"] = ((x[\"centered_start\"] >= 0) & (x[\"centered_start\"] < 35)).sum()\n",
    "    \n",
    "    # proportion of ATs that are methylated (m6a_count/AT_count) return 0 if no ATs\n",
    "    d[\"left_m6a_prop\"] = weird_division(d[\"left_m6a_count\"], d[\"left_AT_count\"])\n",
    "    d[\"right_m6a_prop\"] = weird_division(d[\"right_m6a_count\"], d[\"right_AT_count\"])\n",
    "    d[\"motif_m6a_prop\"] = weird_division(d[\"motif_m6a_count\"], d[\"motif_AT_count\"])\n",
    "    \n",
    "    # sanity check proportions\n",
    "    for i in [\"left\", \"right\", \"motif\"]:\n",
    "        if (d[f\"{i}_AT_prop\"] > 1) or (d[f\"{i}_m6a_prop\"] > 1):\n",
    "            print(\"motif: \", x[\"motif_name\"].unique()[0])\n",
    "            print(\"query name: \", x[\"query_name\"].unique()[0])\n",
    "            print(\"motif-query-start-end: \", x[\"motif_query_start_end\"].unique()[0])\n",
    "            \n",
    "            print(f\"{i} AT prop: \", d[f\"{i}_AT_prop\"])\n",
    "            print(f\"{i} m6a prop: \", d[f\"{i}_m6a_prop\"])\n",
    "            print(f\"{i} m6a count: \", d[f\"{i}_m6a_count\"])\n",
    "            print(f\"{i} AT count: \", d[f\"{i}_AT_count\"])\n",
    "            \n",
    "            print(\"centered position type(s): {}\".format(x.centering_position_type.value_counts()))\n",
    "            logging.error(\"AT or m6a proportion > 1.\")\n",
    "    \n",
    "    # ----- kmers -----\n",
    "    # m6a instances in motif\n",
    "    m6a_bool = x[(x[\"centered_start\"] >= 0) & (x[\"centered_end\"] <= 35)][\"centered_start\"].values\n",
    "    m6a_bool = [1 if (i in m6a_bool) else 0 for i in range(0, 35)]\n",
    "    # convert m6a bool to numpy array\n",
    "    m6a_bool = np.array(m6a_bool)\n",
    "    # get counts & m6a prop per k-mer\n",
    "    kmer_counts = kmer_features(subseq_motif, m6a_bool, kmer_size=3, use_canonical=True)\n",
    "    \n",
    "    # ----- rle -----\n",
    "    # make np array for sequence\n",
    "    np_subseq_motif = np.frombuffer(bytes(subseq_motif, \"utf-8\"), dtype=\"S1\")\n",
    "    # make AT mask\n",
    "    AT_bases = (np_subseq_motif == b\"A\" ) | (np_subseq_motif == b\"T\")\n",
    "    # get run lengths using the AT base space\n",
    "    run_lengths, run_starts, run_values = rle(m6a_bool[AT_bases])\n",
    "    # subset the run lengths that encode zeros (non-m6a):\n",
    "    non_m6a_run_lengths = run_lengths[run_values == 0]\n",
    "\n",
    "    d[\"rle_max\"] = max(non_m6a_run_lengths) if non_m6a_run_lengths.size else 0\n",
    "    \n",
    "    d = d | kmer_counts\n",
    "    \n",
    "    return pd.Series(d, index=list(d.keys()))"
   ]
  },
  {
   "cell_type": "code",
   "execution_count": 256,
   "id": "fa357821",
   "metadata": {
    "collapsed": true,
    "hidden": true
   },
   "outputs": [
    {
     "name": "stdout",
     "output_type": "stream",
     "text": [
      "Unique motif-sequence groups: 32\n",
      "(32, 72)\n",
      "CPU times: user 67.8 ms, sys: 3.89 ms, total: 71.7 ms\n",
      "Wall time: 69.6 ms\n"
     ]
    },
    {
     "data": {
      "text/html": [
       "<div>\n",
       "<style scoped>\n",
       "    .dataframe tbody tr th:only-of-type {\n",
       "        vertical-align: middle;\n",
       "    }\n",
       "\n",
       "    .dataframe tbody tr th {\n",
       "        vertical-align: top;\n",
       "    }\n",
       "\n",
       "    .dataframe thead th {\n",
       "        text-align: right;\n",
       "    }\n",
       "</style>\n",
       "<table border=\"1\" class=\"dataframe\">\n",
       "  <thead>\n",
       "    <tr style=\"text-align: right;\">\n",
       "      <th></th>\n",
       "      <th>motif_name</th>\n",
       "      <th>query_name</th>\n",
       "      <th>msp_size</th>\n",
       "      <th>left_AT_count</th>\n",
       "      <th>right_AT_count</th>\n",
       "      <th>motif_AT_count</th>\n",
       "      <th>left_AT_prop</th>\n",
       "      <th>right_AT_prop</th>\n",
       "      <th>motif_AT_prop</th>\n",
       "      <th>left_m6a_count</th>\n",
       "      <th>...</th>\n",
       "      <th>GCA_count</th>\n",
       "      <th>GCA_m6a_prop</th>\n",
       "      <th>GGA_count</th>\n",
       "      <th>GGA_m6a_prop</th>\n",
       "      <th>GTA_count</th>\n",
       "      <th>GTA_m6a_prop</th>\n",
       "      <th>TAA_count</th>\n",
       "      <th>TAA_m6a_prop</th>\n",
       "      <th>TCA_count</th>\n",
       "      <th>TCA_m6a_prop</th>\n",
       "    </tr>\n",
       "  </thead>\n",
       "  <tbody>\n",
       "    <tr>\n",
       "      <th>0</th>\n",
       "      <td>chr1_1033080_+</td>\n",
       "      <td>m54329U_210323_190418/144837022/ccs</td>\n",
       "      <td>171.0</td>\n",
       "      <td>9.0</td>\n",
       "      <td>11.0</td>\n",
       "      <td>10.0</td>\n",
       "      <td>0.225</td>\n",
       "      <td>0.275</td>\n",
       "      <td>0.285714</td>\n",
       "      <td>6.0</td>\n",
       "      <td>...</td>\n",
       "      <td>0.0</td>\n",
       "      <td>0.0</td>\n",
       "      <td>3.0</td>\n",
       "      <td>0.666667</td>\n",
       "      <td>0.0</td>\n",
       "      <td>0.0</td>\n",
       "      <td>0.0</td>\n",
       "      <td>0.0</td>\n",
       "      <td>0.0</td>\n",
       "      <td>0.0</td>\n",
       "    </tr>\n",
       "    <tr>\n",
       "      <th>1</th>\n",
       "      <td>chr1_1033080_+</td>\n",
       "      <td>m54329U_210323_190418/28969124/ccs</td>\n",
       "      <td>291.0</td>\n",
       "      <td>9.0</td>\n",
       "      <td>12.0</td>\n",
       "      <td>10.0</td>\n",
       "      <td>0.225</td>\n",
       "      <td>0.300</td>\n",
       "      <td>0.285714</td>\n",
       "      <td>3.0</td>\n",
       "      <td>...</td>\n",
       "      <td>0.0</td>\n",
       "      <td>0.0</td>\n",
       "      <td>3.0</td>\n",
       "      <td>0.000000</td>\n",
       "      <td>0.0</td>\n",
       "      <td>0.0</td>\n",
       "      <td>0.0</td>\n",
       "      <td>0.0</td>\n",
       "      <td>0.0</td>\n",
       "      <td>0.0</td>\n",
       "    </tr>\n",
       "    <tr>\n",
       "      <th>2</th>\n",
       "      <td>chr1_1033080_+</td>\n",
       "      <td>m54329U_210323_190418/61606199/ccs</td>\n",
       "      <td>224.0</td>\n",
       "      <td>9.0</td>\n",
       "      <td>11.0</td>\n",
       "      <td>10.0</td>\n",
       "      <td>0.225</td>\n",
       "      <td>0.275</td>\n",
       "      <td>0.285714</td>\n",
       "      <td>7.0</td>\n",
       "      <td>...</td>\n",
       "      <td>0.0</td>\n",
       "      <td>0.0</td>\n",
       "      <td>3.0</td>\n",
       "      <td>0.000000</td>\n",
       "      <td>0.0</td>\n",
       "      <td>0.0</td>\n",
       "      <td>0.0</td>\n",
       "      <td>0.0</td>\n",
       "      <td>0.0</td>\n",
       "      <td>0.0</td>\n",
       "    </tr>\n",
       "    <tr>\n",
       "      <th>3</th>\n",
       "      <td>chr1_1033080_+</td>\n",
       "      <td>m54329U_210323_190418/65799401/ccs</td>\n",
       "      <td>383.0</td>\n",
       "      <td>9.0</td>\n",
       "      <td>11.0</td>\n",
       "      <td>10.0</td>\n",
       "      <td>0.225</td>\n",
       "      <td>0.275</td>\n",
       "      <td>0.285714</td>\n",
       "      <td>5.0</td>\n",
       "      <td>...</td>\n",
       "      <td>0.0</td>\n",
       "      <td>0.0</td>\n",
       "      <td>3.0</td>\n",
       "      <td>0.000000</td>\n",
       "      <td>0.0</td>\n",
       "      <td>0.0</td>\n",
       "      <td>0.0</td>\n",
       "      <td>0.0</td>\n",
       "      <td>0.0</td>\n",
       "      <td>0.0</td>\n",
       "    </tr>\n",
       "    <tr>\n",
       "      <th>4</th>\n",
       "      <td>chr1_1033080_+</td>\n",
       "      <td>m54329U_210323_190418/73794045/ccs</td>\n",
       "      <td>250.0</td>\n",
       "      <td>9.0</td>\n",
       "      <td>11.0</td>\n",
       "      <td>10.0</td>\n",
       "      <td>0.225</td>\n",
       "      <td>0.275</td>\n",
       "      <td>0.285714</td>\n",
       "      <td>6.0</td>\n",
       "      <td>...</td>\n",
       "      <td>0.0</td>\n",
       "      <td>0.0</td>\n",
       "      <td>3.0</td>\n",
       "      <td>0.333333</td>\n",
       "      <td>0.0</td>\n",
       "      <td>0.0</td>\n",
       "      <td>0.0</td>\n",
       "      <td>0.0</td>\n",
       "      <td>0.0</td>\n",
       "      <td>0.0</td>\n",
       "    </tr>\n",
       "  </tbody>\n",
       "</table>\n",
       "<p>5 rows × 72 columns</p>\n",
       "</div>"
      ],
      "text/plain": [
       "       motif_name                           query_name  msp_size  \\\n",
       "0  chr1_1033080_+  m54329U_210323_190418/144837022/ccs     171.0   \n",
       "1  chr1_1033080_+   m54329U_210323_190418/28969124/ccs     291.0   \n",
       "2  chr1_1033080_+   m54329U_210323_190418/61606199/ccs     224.0   \n",
       "3  chr1_1033080_+   m54329U_210323_190418/65799401/ccs     383.0   \n",
       "4  chr1_1033080_+   m54329U_210323_190418/73794045/ccs     250.0   \n",
       "\n",
       "   left_AT_count  right_AT_count  motif_AT_count  left_AT_prop  right_AT_prop  \\\n",
       "0            9.0            11.0            10.0         0.225          0.275   \n",
       "1            9.0            12.0            10.0         0.225          0.300   \n",
       "2            9.0            11.0            10.0         0.225          0.275   \n",
       "3            9.0            11.0            10.0         0.225          0.275   \n",
       "4            9.0            11.0            10.0         0.225          0.275   \n",
       "\n",
       "   motif_AT_prop  left_m6a_count  ...  GCA_count  GCA_m6a_prop  GGA_count  \\\n",
       "0       0.285714             6.0  ...        0.0           0.0        3.0   \n",
       "1       0.285714             3.0  ...        0.0           0.0        3.0   \n",
       "2       0.285714             7.0  ...        0.0           0.0        3.0   \n",
       "3       0.285714             5.0  ...        0.0           0.0        3.0   \n",
       "4       0.285714             6.0  ...        0.0           0.0        3.0   \n",
       "\n",
       "   GGA_m6a_prop  GTA_count  GTA_m6a_prop  TAA_count  TAA_m6a_prop  TCA_count  \\\n",
       "0      0.666667        0.0           0.0        0.0           0.0        0.0   \n",
       "1      0.000000        0.0           0.0        0.0           0.0        0.0   \n",
       "2      0.000000        0.0           0.0        0.0           0.0        0.0   \n",
       "3      0.000000        0.0           0.0        0.0           0.0        0.0   \n",
       "4      0.333333        0.0           0.0        0.0           0.0        0.0   \n",
       "\n",
       "   TCA_m6a_prop  \n",
       "0           0.0  \n",
       "1           0.0  \n",
       "2           0.0  \n",
       "3           0.0  \n",
       "4           0.0  \n",
       "\n",
       "[5 rows x 72 columns]"
      ]
     },
     "execution_count": 256,
     "metadata": {},
     "output_type": "execute_result"
    }
   ],
   "source": [
    "%%time\n",
    "ix = 500\n",
    "print(\"Unique motif-sequence groups: {:,}\".format(len(list(df.iloc[:ix].groupby(grouping_cols, dropna=False).groups.keys()))))\n",
    "res = df.iloc[:ix].groupby(grouping_cols, dropna=False).apply(lambda x: agg_features(x)).reset_index()\n",
    "print(res.shape)\n",
    "res.head()"
   ]
  },
  {
   "cell_type": "code",
   "execution_count": 225,
   "id": "b247eb88",
   "metadata": {
    "collapsed": true,
    "hidden": true
   },
   "outputs": [
    {
     "name": "stdout",
     "output_type": "stream",
     "text": [
      "rows: 238,348 | columns: 72\n",
      "CPU times: user 7min 8s, sys: 2.4 s, total: 7min 10s\n",
      "Wall time: 7min 13s\n"
     ]
    },
    {
     "data": {
      "text/html": [
       "<div>\n",
       "<style scoped>\n",
       "    .dataframe tbody tr th:only-of-type {\n",
       "        vertical-align: middle;\n",
       "    }\n",
       "\n",
       "    .dataframe tbody tr th {\n",
       "        vertical-align: top;\n",
       "    }\n",
       "\n",
       "    .dataframe thead th {\n",
       "        text-align: right;\n",
       "    }\n",
       "</style>\n",
       "<table border=\"1\" class=\"dataframe\">\n",
       "  <thead>\n",
       "    <tr style=\"text-align: right;\">\n",
       "      <th></th>\n",
       "      <th>motif_name</th>\n",
       "      <th>query_name</th>\n",
       "      <th>msp_size</th>\n",
       "      <th>left_AT_count</th>\n",
       "      <th>right_AT_count</th>\n",
       "      <th>motif_AT_count</th>\n",
       "      <th>left_AT_prop</th>\n",
       "      <th>right_AT_prop</th>\n",
       "      <th>motif_AT_prop</th>\n",
       "      <th>left_m6a_count</th>\n",
       "      <th>...</th>\n",
       "      <th>GCA_count</th>\n",
       "      <th>GCA_m6a_prop</th>\n",
       "      <th>GGA_count</th>\n",
       "      <th>GGA_m6a_prop</th>\n",
       "      <th>GTA_count</th>\n",
       "      <th>GTA_m6a_prop</th>\n",
       "      <th>TAA_count</th>\n",
       "      <th>TAA_m6a_prop</th>\n",
       "      <th>TCA_count</th>\n",
       "      <th>TCA_m6a_prop</th>\n",
       "    </tr>\n",
       "  </thead>\n",
       "  <tbody>\n",
       "    <tr>\n",
       "      <th>0</th>\n",
       "      <td>chr10_100338605_+</td>\n",
       "      <td>m54329U_210323_190418/12585455/ccs</td>\n",
       "      <td>200.0</td>\n",
       "      <td>18.0</td>\n",
       "      <td>18.0</td>\n",
       "      <td>13.0</td>\n",
       "      <td>0.45</td>\n",
       "      <td>0.45</td>\n",
       "      <td>0.325</td>\n",
       "      <td>14.0</td>\n",
       "      <td>...</td>\n",
       "      <td>3.0</td>\n",
       "      <td>0.666667</td>\n",
       "      <td>0.0</td>\n",
       "      <td>0.0</td>\n",
       "      <td>2.0</td>\n",
       "      <td>0.00</td>\n",
       "      <td>1.0</td>\n",
       "      <td>0.000000</td>\n",
       "      <td>0.0</td>\n",
       "      <td>0.0</td>\n",
       "    </tr>\n",
       "    <tr>\n",
       "      <th>1</th>\n",
       "      <td>chr10_100338605_+</td>\n",
       "      <td>m54329U_210323_190418/16515087/ccs</td>\n",
       "      <td>212.0</td>\n",
       "      <td>18.0</td>\n",
       "      <td>18.0</td>\n",
       "      <td>13.0</td>\n",
       "      <td>0.45</td>\n",
       "      <td>0.45</td>\n",
       "      <td>0.325</td>\n",
       "      <td>13.0</td>\n",
       "      <td>...</td>\n",
       "      <td>3.0</td>\n",
       "      <td>0.666667</td>\n",
       "      <td>0.0</td>\n",
       "      <td>0.0</td>\n",
       "      <td>2.0</td>\n",
       "      <td>0.25</td>\n",
       "      <td>1.0</td>\n",
       "      <td>0.333333</td>\n",
       "      <td>0.0</td>\n",
       "      <td>0.0</td>\n",
       "    </tr>\n",
       "    <tr>\n",
       "      <th>2</th>\n",
       "      <td>chr10_100338605_+</td>\n",
       "      <td>m54329U_210323_190418/169477611/ccs</td>\n",
       "      <td>181.0</td>\n",
       "      <td>18.0</td>\n",
       "      <td>18.0</td>\n",
       "      <td>13.0</td>\n",
       "      <td>0.45</td>\n",
       "      <td>0.45</td>\n",
       "      <td>0.325</td>\n",
       "      <td>10.0</td>\n",
       "      <td>...</td>\n",
       "      <td>3.0</td>\n",
       "      <td>0.666667</td>\n",
       "      <td>0.0</td>\n",
       "      <td>0.0</td>\n",
       "      <td>2.0</td>\n",
       "      <td>0.00</td>\n",
       "      <td>1.0</td>\n",
       "      <td>0.000000</td>\n",
       "      <td>0.0</td>\n",
       "      <td>0.0</td>\n",
       "    </tr>\n",
       "    <tr>\n",
       "      <th>3</th>\n",
       "      <td>chr10_100338605_+</td>\n",
       "      <td>m54329U_210323_190418/173999297/ccs</td>\n",
       "      <td>134.0</td>\n",
       "      <td>18.0</td>\n",
       "      <td>18.0</td>\n",
       "      <td>13.0</td>\n",
       "      <td>0.45</td>\n",
       "      <td>0.45</td>\n",
       "      <td>0.325</td>\n",
       "      <td>10.0</td>\n",
       "      <td>...</td>\n",
       "      <td>3.0</td>\n",
       "      <td>1.000000</td>\n",
       "      <td>0.0</td>\n",
       "      <td>0.0</td>\n",
       "      <td>2.0</td>\n",
       "      <td>0.25</td>\n",
       "      <td>1.0</td>\n",
       "      <td>0.333333</td>\n",
       "      <td>0.0</td>\n",
       "      <td>0.0</td>\n",
       "    </tr>\n",
       "    <tr>\n",
       "      <th>4</th>\n",
       "      <td>chr10_100338605_+</td>\n",
       "      <td>m54329U_210323_190418/180160021/ccs</td>\n",
       "      <td>194.0</td>\n",
       "      <td>18.0</td>\n",
       "      <td>18.0</td>\n",
       "      <td>13.0</td>\n",
       "      <td>0.45</td>\n",
       "      <td>0.45</td>\n",
       "      <td>0.325</td>\n",
       "      <td>12.0</td>\n",
       "      <td>...</td>\n",
       "      <td>3.0</td>\n",
       "      <td>0.000000</td>\n",
       "      <td>0.0</td>\n",
       "      <td>0.0</td>\n",
       "      <td>2.0</td>\n",
       "      <td>0.00</td>\n",
       "      <td>1.0</td>\n",
       "      <td>0.000000</td>\n",
       "      <td>0.0</td>\n",
       "      <td>0.0</td>\n",
       "    </tr>\n",
       "  </tbody>\n",
       "</table>\n",
       "<p>5 rows × 72 columns</p>\n",
       "</div>"
      ],
      "text/plain": [
       "          motif_name                           query_name  msp_size  \\\n",
       "0  chr10_100338605_+   m54329U_210323_190418/12585455/ccs     200.0   \n",
       "1  chr10_100338605_+   m54329U_210323_190418/16515087/ccs     212.0   \n",
       "2  chr10_100338605_+  m54329U_210323_190418/169477611/ccs     181.0   \n",
       "3  chr10_100338605_+  m54329U_210323_190418/173999297/ccs     134.0   \n",
       "4  chr10_100338605_+  m54329U_210323_190418/180160021/ccs     194.0   \n",
       "\n",
       "   left_AT_count  right_AT_count  motif_AT_count  left_AT_prop  right_AT_prop  \\\n",
       "0           18.0            18.0            13.0          0.45           0.45   \n",
       "1           18.0            18.0            13.0          0.45           0.45   \n",
       "2           18.0            18.0            13.0          0.45           0.45   \n",
       "3           18.0            18.0            13.0          0.45           0.45   \n",
       "4           18.0            18.0            13.0          0.45           0.45   \n",
       "\n",
       "   motif_AT_prop  left_m6a_count  ...  GCA_count  GCA_m6a_prop  GGA_count  \\\n",
       "0          0.325            14.0  ...        3.0      0.666667        0.0   \n",
       "1          0.325            13.0  ...        3.0      0.666667        0.0   \n",
       "2          0.325            10.0  ...        3.0      0.666667        0.0   \n",
       "3          0.325            10.0  ...        3.0      1.000000        0.0   \n",
       "4          0.325            12.0  ...        3.0      0.000000        0.0   \n",
       "\n",
       "   GGA_m6a_prop  GTA_count  GTA_m6a_prop  TAA_count  TAA_m6a_prop  TCA_count  \\\n",
       "0           0.0        2.0          0.00        1.0      0.000000        0.0   \n",
       "1           0.0        2.0          0.25        1.0      0.333333        0.0   \n",
       "2           0.0        2.0          0.00        1.0      0.000000        0.0   \n",
       "3           0.0        2.0          0.25        1.0      0.333333        0.0   \n",
       "4           0.0        2.0          0.00        1.0      0.000000        0.0   \n",
       "\n",
       "   TCA_m6a_prop  \n",
       "0           0.0  \n",
       "1           0.0  \n",
       "2           0.0  \n",
       "3           0.0  \n",
       "4           0.0  \n",
       "\n",
       "[5 rows x 72 columns]"
      ]
     },
     "execution_count": 225,
     "metadata": {},
     "output_type": "execute_result"
    }
   ],
   "source": [
    "%%time\n",
    "res = df.groupby(grouping_cols, dropna=False).apply(lambda x: agg_features(x)).reset_index()\n",
    "print(\"rows: {:,} | columns: {:,}\".format(res.shape[0], res.shape[1]))\n",
    "res.head()"
   ]
  },
  {
   "cell_type": "code",
   "execution_count": null,
   "id": "9eff36f6",
   "metadata": {
    "hidden": true
   },
   "outputs": [],
   "source": [
    "# group by motif/query name\n",
    "grouping_cols = [\"motif_name\", \"query_name\"]\n",
    "df_grouped = df.groupby(grouping_cols)"
   ]
  },
  {
   "cell_type": "code",
   "execution_count": 135,
   "id": "c67ecee3",
   "metadata": {
    "hidden": true
   },
   "outputs": [
    {
     "name": "stdout",
     "output_type": "stream",
     "text": [
      "('chr10_100338605_+', 'm54329U_210323_190418/12585455/ccs')\n"
     ]
    }
   ],
   "source": [
    "print(group_names[0])\n",
    "grouped = df_grouped.get_group(group_names[0])"
   ]
  },
  {
   "cell_type": "code",
   "execution_count": 137,
   "id": "f61596c4",
   "metadata": {
    "collapsed": true,
    "hidden": true
   },
   "outputs": [
    {
     "data": {
      "text/html": [
       "<div>\n",
       "<style scoped>\n",
       "    .dataframe tbody tr th:only-of-type {\n",
       "        vertical-align: middle;\n",
       "    }\n",
       "\n",
       "    .dataframe tbody tr th {\n",
       "        vertical-align: top;\n",
       "    }\n",
       "\n",
       "    .dataframe thead th {\n",
       "        text-align: right;\n",
       "    }\n",
       "</style>\n",
       "<table border=\"1\" class=\"dataframe\">\n",
       "  <thead>\n",
       "    <tr style=\"text-align: right;\">\n",
       "      <th></th>\n",
       "      <th>motif_query</th>\n",
       "      <th>motif_name</th>\n",
       "      <th>chrom</th>\n",
       "      <th>centering_position</th>\n",
       "      <th>strand</th>\n",
       "      <th>subset_sequence</th>\n",
       "      <th>reference_start</th>\n",
       "      <th>reference_end</th>\n",
       "      <th>query_name</th>\n",
       "      <th>centered_query_start</th>\n",
       "      <th>centered_query_end</th>\n",
       "      <th>query_length</th>\n",
       "      <th>centered_position_type</th>\n",
       "      <th>centered_start</th>\n",
       "      <th>centered_end</th>\n",
       "      <th>msp_size</th>\n",
       "    </tr>\n",
       "  </thead>\n",
       "  <tbody>\n",
       "    <tr>\n",
       "      <th>877799</th>\n",
       "      <td>chr10_100338605_+/m54329U_210323_190418/125854...</td>\n",
       "      <td>chr10_100338605_+</td>\n",
       "      <td>chr10</td>\n",
       "      <td>100338605</td>\n",
       "      <td>+</td>\n",
       "      <td>ATGCTGTAAATGAGAGAGGGAGAGAACCCCAACCAGCAGAACAAAT...</td>\n",
       "      <td>100333398</td>\n",
       "      <td>100343546</td>\n",
       "      <td>m54329U_210323_190418/12585455/ccs</td>\n",
       "      <td>-5220</td>\n",
       "      <td>4949</td>\n",
       "      <td>10169</td>\n",
       "      <td>m6a</td>\n",
       "      <td>-40</td>\n",
       "      <td>-39</td>\n",
       "      <td>200</td>\n",
       "    </tr>\n",
       "    <tr>\n",
       "      <th>877800</th>\n",
       "      <td>chr10_100338605_+/m54329U_210323_190418/125854...</td>\n",
       "      <td>chr10_100338605_+</td>\n",
       "      <td>chr10</td>\n",
       "      <td>100338605</td>\n",
       "      <td>+</td>\n",
       "      <td>ATGCTGTAAATGAGAGAGGGAGAGAACCCCAACCAGCAGAACAAAT...</td>\n",
       "      <td>100333398</td>\n",
       "      <td>100343546</td>\n",
       "      <td>m54329U_210323_190418/12585455/ccs</td>\n",
       "      <td>-5220</td>\n",
       "      <td>4949</td>\n",
       "      <td>10169</td>\n",
       "      <td>m6a</td>\n",
       "      <td>-39</td>\n",
       "      <td>-38</td>\n",
       "      <td>200</td>\n",
       "    </tr>\n",
       "    <tr>\n",
       "      <th>877801</th>\n",
       "      <td>chr10_100338605_+/m54329U_210323_190418/125854...</td>\n",
       "      <td>chr10_100338605_+</td>\n",
       "      <td>chr10</td>\n",
       "      <td>100338605</td>\n",
       "      <td>+</td>\n",
       "      <td>ATGCTGTAAATGAGAGAGGGAGAGAACCCCAACCAGCAGAACAAAT...</td>\n",
       "      <td>100333398</td>\n",
       "      <td>100343546</td>\n",
       "      <td>m54329U_210323_190418/12585455/ccs</td>\n",
       "      <td>-5220</td>\n",
       "      <td>4949</td>\n",
       "      <td>10169</td>\n",
       "      <td>m6a</td>\n",
       "      <td>-37</td>\n",
       "      <td>-36</td>\n",
       "      <td>200</td>\n",
       "    </tr>\n",
       "    <tr>\n",
       "      <th>877802</th>\n",
       "      <td>chr10_100338605_+/m54329U_210323_190418/125854...</td>\n",
       "      <td>chr10_100338605_+</td>\n",
       "      <td>chr10</td>\n",
       "      <td>100338605</td>\n",
       "      <td>+</td>\n",
       "      <td>ATGCTGTAAATGAGAGAGGGAGAGAACCCCAACCAGCAGAACAAAT...</td>\n",
       "      <td>100333398</td>\n",
       "      <td>100343546</td>\n",
       "      <td>m54329U_210323_190418/12585455/ccs</td>\n",
       "      <td>-5220</td>\n",
       "      <td>4949</td>\n",
       "      <td>10169</td>\n",
       "      <td>m6a</td>\n",
       "      <td>-34</td>\n",
       "      <td>-33</td>\n",
       "      <td>200</td>\n",
       "    </tr>\n",
       "    <tr>\n",
       "      <th>877803</th>\n",
       "      <td>chr10_100338605_+/m54329U_210323_190418/125854...</td>\n",
       "      <td>chr10_100338605_+</td>\n",
       "      <td>chr10</td>\n",
       "      <td>100338605</td>\n",
       "      <td>+</td>\n",
       "      <td>ATGCTGTAAATGAGAGAGGGAGAGAACCCCAACCAGCAGAACAAAT...</td>\n",
       "      <td>100333398</td>\n",
       "      <td>100343546</td>\n",
       "      <td>m54329U_210323_190418/12585455/ccs</td>\n",
       "      <td>-5220</td>\n",
       "      <td>4949</td>\n",
       "      <td>10169</td>\n",
       "      <td>m6a</td>\n",
       "      <td>-29</td>\n",
       "      <td>-28</td>\n",
       "      <td>200</td>\n",
       "    </tr>\n",
       "  </tbody>\n",
       "</table>\n",
       "</div>"
      ],
      "text/plain": [
       "                                              motif_query         motif_name  \\\n",
       "877799  chr10_100338605_+/m54329U_210323_190418/125854...  chr10_100338605_+   \n",
       "877800  chr10_100338605_+/m54329U_210323_190418/125854...  chr10_100338605_+   \n",
       "877801  chr10_100338605_+/m54329U_210323_190418/125854...  chr10_100338605_+   \n",
       "877802  chr10_100338605_+/m54329U_210323_190418/125854...  chr10_100338605_+   \n",
       "877803  chr10_100338605_+/m54329U_210323_190418/125854...  chr10_100338605_+   \n",
       "\n",
       "        chrom  centering_position strand  \\\n",
       "877799  chr10           100338605      +   \n",
       "877800  chr10           100338605      +   \n",
       "877801  chr10           100338605      +   \n",
       "877802  chr10           100338605      +   \n",
       "877803  chr10           100338605      +   \n",
       "\n",
       "                                          subset_sequence  reference_start  \\\n",
       "877799  ATGCTGTAAATGAGAGAGGGAGAGAACCCCAACCAGCAGAACAAAT...        100333398   \n",
       "877800  ATGCTGTAAATGAGAGAGGGAGAGAACCCCAACCAGCAGAACAAAT...        100333398   \n",
       "877801  ATGCTGTAAATGAGAGAGGGAGAGAACCCCAACCAGCAGAACAAAT...        100333398   \n",
       "877802  ATGCTGTAAATGAGAGAGGGAGAGAACCCCAACCAGCAGAACAAAT...        100333398   \n",
       "877803  ATGCTGTAAATGAGAGAGGGAGAGAACCCCAACCAGCAGAACAAAT...        100333398   \n",
       "\n",
       "        reference_end                          query_name  \\\n",
       "877799      100343546  m54329U_210323_190418/12585455/ccs   \n",
       "877800      100343546  m54329U_210323_190418/12585455/ccs   \n",
       "877801      100343546  m54329U_210323_190418/12585455/ccs   \n",
       "877802      100343546  m54329U_210323_190418/12585455/ccs   \n",
       "877803      100343546  m54329U_210323_190418/12585455/ccs   \n",
       "\n",
       "        centered_query_start  centered_query_end  query_length  \\\n",
       "877799                 -5220                4949         10169   \n",
       "877800                 -5220                4949         10169   \n",
       "877801                 -5220                4949         10169   \n",
       "877802                 -5220                4949         10169   \n",
       "877803                 -5220                4949         10169   \n",
       "\n",
       "       centered_position_type  centered_start  centered_end  msp_size  \n",
       "877799                    m6a             -40           -39       200  \n",
       "877800                    m6a             -39           -38       200  \n",
       "877801                    m6a             -37           -36       200  \n",
       "877802                    m6a             -34           -33       200  \n",
       "877803                    m6a             -29           -28       200  "
      ]
     },
     "execution_count": 137,
     "metadata": {},
     "output_type": "execute_result"
    }
   ],
   "source": [
    "grouped.head()"
   ]
  },
  {
   "cell_type": "code",
   "execution_count": 162,
   "id": "3247049e",
   "metadata": {
    "collapsed": true,
    "hidden": true
   },
   "outputs": [
    {
     "name": "stdout",
     "output_type": "stream",
     "text": [
      "201 40 35 40\n"
     ]
    }
   ],
   "source": [
    "# get sequences\n",
    "subseq = grouped.subset_sequence.unique()[0]\n",
    "subseq_l = subseq[(100-40):100]\n",
    "subseq_r = subseq[(100+35):(100+35+40)]\n",
    "subseq_motif = subseq[100:(100+35)]"
   ]
  },
  {
   "cell_type": "code",
   "execution_count": 168,
   "id": "1a82fa85",
   "metadata": {
    "collapsed": true,
    "hidden": true
   },
   "outputs": [
    {
     "name": "stdout",
     "output_type": "stream",
     "text": [
      "18\n",
      "18\n",
      "13\n",
      "49\n",
      "49\n"
     ]
    }
   ],
   "source": [
    "print((subseq_l.count(\"A\") + subseq_l.count(\"T\")))\n",
    "print((subseq_r.count(\"A\") + subseq_r.count(\"T\")))\n",
    "print((subseq_motif.count(\"A\") + subseq_motif.count(\"T\")))\n",
    "print((subseq[60:175].count(\"A\") + subseq[60:175].count(\"T\")))\n",
    "print((subseq_l.count(\"A\") + subseq_l.count(\"T\")) + \n",
    "      (subseq_r.count(\"A\") + subseq_r.count(\"T\")) + \n",
    "      (subseq_motif.count(\"A\") + subseq_motif.count(\"T\")))"
   ]
  },
  {
   "cell_type": "code",
   "execution_count": 154,
   "id": "2ab93dde",
   "metadata": {
    "collapsed": true,
    "hidden": true
   },
   "outputs": [
    {
     "name": "stdout",
     "output_type": "stream",
     "text": [
      "14\n",
      "13\n",
      "3\n"
     ]
    }
   ],
   "source": [
    "# m6a counts\n",
    "m6a_pos = grouped.centered_start.tolist()\n",
    "# left flank\n",
    "print((grouped[\"centered_start\"] < 0).sum())\n",
    "# right flank\n",
    "print((grouped[\"centered_start\"] >= 35).sum())\n",
    "# motif\n",
    "print(((grouped[\"centered_start\"] >= 0) & (grouped[\"centered_start\"] < 35)).sum())"
   ]
  },
  {
   "cell_type": "code",
   "execution_count": 156,
   "id": "dacdef2a",
   "metadata": {
    "collapsed": true,
    "hidden": true
   },
   "outputs": [
    {
     "data": {
      "text/plain": [
       "201"
      ]
     },
     "execution_count": 156,
     "metadata": {},
     "output_type": "execute_result"
    }
   ],
   "source": [
    "#subseq[(center-flank_len):center]\n",
    "len(subseq)"
   ]
  },
  {
   "cell_type": "code",
   "execution_count": 313,
   "id": "8dc1eca3",
   "metadata": {
    "hidden": true
   },
   "outputs": [],
   "source": [
    "def rle(inarray):\n",
    "    ''' run length encoding. Partial credit to R rle function. \n",
    "        Multi datatype arrays catered for including non Numpy\n",
    "        returns: tuple (runlengths, startpositions, values) \n",
    "        input: array\n",
    "        output: tuple of (run_lengths, start_positions, values)'''\n",
    "    ia = np.asarray(inarray)                # force numpy\n",
    "    n = len(ia)\n",
    "    if n == 0: \n",
    "        return (None, None, None)\n",
    "    else:\n",
    "        y = ia[1:] != ia[:-1]               # pairwise unequal (string safe)\n",
    "        i = np.append(np.where(y), n - 1)   # must include last element position\n",
    "        z = np.diff(np.append(-1, i))       # run lengths\n",
    "        p = np.cumsum(np.append(0, z))[:-1] # positions\n",
    "        return(z, p, ia[i])"
   ]
  },
  {
   "cell_type": "code",
   "execution_count": 314,
   "id": "3fcdbbd8",
   "metadata": {
    "hidden": true
   },
   "outputs": [
    {
     "data": {
      "text/plain": [
       "array([b'A', b'C', b'G', b'T', b'A', b'C', b'G', b'T', b'A', b'C', b'G',\n",
       "       b'T', b'A', b'C', b'G', b'T', b'A', b'C', b'G', b'T'], dtype='|S1')"
      ]
     },
     "execution_count": 314,
     "metadata": {},
     "output_type": "execute_result"
    }
   ],
   "source": [
    "# establish input data\n",
    "subseq_motif = \"ACGTACGTACGTACGTACGT\"\n",
    "#subseq_m6a   = \"10010000000100010001\"\n",
    "subseq_m6a   = \"11111111111111111111\"\n",
    "\n",
    "# convert m6a boolean string to numpy array\n",
    "m6a_bool = np.array([int(x) for x in subseq_m6a])\n",
    "\n",
    "# make a numpy array for sequence\n",
    "np_subseq_motif = np.frombuffer(bytes(subseq_motif, \"utf-8\"), dtype=\"S1\")\n",
    "np_subseq_motif"
   ]
  },
  {
   "cell_type": "code",
   "execution_count": 315,
   "id": "e4e19b4e",
   "metadata": {
    "hidden": true
   },
   "outputs": [
    {
     "name": "stdout",
     "output_type": "stream",
     "text": [
      "All m6a's. 0\n"
     ]
    },
    {
     "ename": "ValueError",
     "evalue": "max() arg is an empty sequence",
     "output_type": "error",
     "traceback": [
      "\u001b[0;31m---------------------------------------------------------------------------\u001b[0m",
      "\u001b[0;31mValueError\u001b[0m                                Traceback (most recent call last)",
      "Cell \u001b[0;32mIn[315], line 18\u001b[0m\n\u001b[1;32m     14\u001b[0m     \u001b[38;5;28mprint\u001b[39m(\u001b[38;5;124m\"\u001b[39m\u001b[38;5;124mAll m6a\u001b[39m\u001b[38;5;124m'\u001b[39m\u001b[38;5;124ms.\u001b[39m\u001b[38;5;124m\"\u001b[39m, \u001b[38;5;241m0\u001b[39m)\n\u001b[1;32m     16\u001b[0m \u001b[38;5;66;03m# if array is empty ()\u001b[39;00m\n\u001b[1;32m     17\u001b[0m \u001b[38;5;66;03m# print the results\u001b[39;00m\n\u001b[0;32m---> 18\u001b[0m \u001b[38;5;28mprint\u001b[39m(non_m6a_run_lengths, \u001b[38;5;28;43mmax\u001b[39;49m\u001b[43m(\u001b[49m\u001b[43mnon_m6a_run_lengths\u001b[49m\u001b[43m)\u001b[49m)\n",
      "\u001b[0;31mValueError\u001b[0m: max() arg is an empty sequence"
     ]
    }
   ],
   "source": [
    "# make the AT mask\n",
    "AT_bases = (np_subseq_motif == b\"A\" )| (np_subseq_motif == b\"T\")\n",
    "\n",
    "# get run lengths using the AT base space\n",
    "run_lengths, run_starts, run_values = rle(m6a_bool[AT_bases])\n",
    "\n",
    "# subset the run lengths that encode zeros (non-m6a):\n",
    "non_m6a_run_lengths = run_lengths[run_values == 0]\n",
    "\n",
    "# set rle_max to 0 if there are only m6as\n",
    "if non_m6a_run_lengths.size:\n",
    "    print(non_m6a_run_lengths, max(non_m6a_run_lengths))\n",
    "else:\n",
    "    print(\"All m6a's.\", 0)\n",
    "\n",
    "# if array is empty ()\n",
    "# print the results\n",
    "print(non_m6a_run_lengths, max(non_m6a_run_lengths))"
   ]
  },
  {
   "cell_type": "code",
   "execution_count": null,
   "id": "9e08a0da",
   "metadata": {
    "hidden": true
   },
   "outputs": [],
   "source": []
  },
  {
   "cell_type": "markdown",
   "id": "01db6351",
   "metadata": {},
   "source": [
    "## Negative (L) 5%"
   ]
  },
  {
   "cell_type": "code",
   "execution_count": 541,
   "id": "753bc061",
   "metadata": {},
   "outputs": [
    {
     "name": "stdout",
     "output_type": "stream",
     "text": [
      "ft center data - rows: 39,485,334, columns: 13\n",
      "CPU times: user 1min 10s, sys: 10.1 s, total: 1min 20s\n",
      "Wall time: 1min 20s\n"
     ]
    }
   ],
   "source": [
    "%%time\n",
    "# CTCF L NOT cleaned\n",
    "motif_type = \"L\"\n",
    "data_file = \"{}/CTCF_m6a_fiberseq_{}_100bp_small_5_negative.txt\".format(data_dir, motif_type)\n",
    "\n",
    "# read in data\n",
    "n_rows = None\n",
    "df = pd.read_csv(data_file, sep=\"\\t\", nrows=n_rows)\n",
    "print(\"ft center data - rows: {:,}, columns: {:,}\".format(df.shape[0], df.shape[1]))"
   ]
  },
  {
   "cell_type": "code",
   "execution_count": 542,
   "id": "dcb8cc10",
   "metadata": {},
   "outputs": [
    {
     "name": "stdout",
     "output_type": "stream",
     "text": [
      "MSP & m6a instances - rows: 32,102,125, columns: 13\n",
      "Removing sequences w/ N: 216,546\n",
      "Removing weird chromosomes: 510,054\n",
      "Cleaned rows: 31,375,525\n"
     ]
    }
   ],
   "source": [
    "# filter for only m6a & msp rows\n",
    "df = df[df[\"centered_position_type\"].isin([\"m6a\", \"msp\"])]\n",
    "print(\"MSP & m6a instances - rows: {:,}, columns: {:,}\".format(df.shape[0], df.shape[1]))\n",
    "\n",
    "# remove rows with Ns in sequence & clean chroms\n",
    "df = clean_sequences(df)\n",
    "df = clean_chroms(df)\n",
    "print(\"Cleaned rows: {:,}\".format(df.shape[0]))"
   ]
  },
  {
   "cell_type": "markdown",
   "id": "ebfa5e6c",
   "metadata": {},
   "source": [
    "<font color=\"red\">__add centered_query_start & centered_query_end to grouping cols__</font>\n",
    "* due to tandem repeats\n",
    "* some fibers aligning multiple times to the same motif"
   ]
  },
  {
   "cell_type": "code",
   "execution_count": 543,
   "id": "985e0888",
   "metadata": {},
   "outputs": [],
   "source": [
    "# add columns of unique motif names & motif_query names\n",
    "df.insert(loc=0, column=\"motif_name\", \n",
    "          value=df[\"chrom\"]+\"_\"+df[\"centering_position\"].astype(str)+\"_\"+df[\"strand\"].astype(str))\n",
    "df.insert(loc=0, column=\"motif_query\", value=df[\"motif_name\"]+\"/\"+df[\"query_name\"])\n",
    "#df.insert(loc=0, column=\"motif_query_start_end\", \n",
    "#          value=df[\"motif_name\"].astype(str)+\"/\"+df[\"query_name\"].astype(str)+\"/\"+\n",
    "#                df[\"centered_query_start\"].astype(str)+\"/\"+df[\"centered_query_end\"].astype(str))"
   ]
  },
  {
   "cell_type": "code",
   "execution_count": 544,
   "id": "22a9bff6",
   "metadata": {
    "collapsed": true
   },
   "outputs": [
    {
     "data": {
      "text/html": [
       "<div>\n",
       "<style scoped>\n",
       "    .dataframe tbody tr th:only-of-type {\n",
       "        vertical-align: middle;\n",
       "    }\n",
       "\n",
       "    .dataframe tbody tr th {\n",
       "        vertical-align: top;\n",
       "    }\n",
       "\n",
       "    .dataframe thead th {\n",
       "        text-align: right;\n",
       "    }\n",
       "</style>\n",
       "<table border=\"1\" class=\"dataframe\">\n",
       "  <thead>\n",
       "    <tr style=\"text-align: right;\">\n",
       "      <th></th>\n",
       "      <th>motif_query</th>\n",
       "      <th>motif_name</th>\n",
       "      <th>chrom</th>\n",
       "      <th>centering_position</th>\n",
       "      <th>strand</th>\n",
       "      <th>subset_sequence</th>\n",
       "      <th>reference_start</th>\n",
       "      <th>reference_end</th>\n",
       "      <th>query_name</th>\n",
       "      <th>centered_query_start</th>\n",
       "      <th>centered_query_end</th>\n",
       "      <th>query_length</th>\n",
       "      <th>centered_position_type</th>\n",
       "      <th>centered_start</th>\n",
       "      <th>centered_end</th>\n",
       "    </tr>\n",
       "  </thead>\n",
       "  <tbody>\n",
       "    <tr>\n",
       "      <th>0</th>\n",
       "      <td>chr1_11256_-/m54329U_210814_130637/153159059/ccs</td>\n",
       "      <td>chr1_11256_-</td>\n",
       "      <td>chr1</td>\n",
       "      <td>11256</td>\n",
       "      <td>-</td>\n",
       "      <td>TGCCAGCAGGCGGCGTGCCACCACTATACAGTAAGCAAGAGGGCCC...</td>\n",
       "      <td>10000</td>\n",
       "      <td>40236</td>\n",
       "      <td>m54329U_210814_130637/153159059/ccs</td>\n",
       "      <td>-4179</td>\n",
       "      <td>28937</td>\n",
       "      <td>33116</td>\n",
       "      <td>m6a</td>\n",
       "      <td>-81</td>\n",
       "      <td>-80</td>\n",
       "    </tr>\n",
       "    <tr>\n",
       "      <th>1</th>\n",
       "      <td>chr1_11256_-/m54329U_210814_130637/153159059/ccs</td>\n",
       "      <td>chr1_11256_-</td>\n",
       "      <td>chr1</td>\n",
       "      <td>11256</td>\n",
       "      <td>-</td>\n",
       "      <td>TGCCAGCAGGCGGCGTGCCACCACTATACAGTAAGCAAGAGGGCCC...</td>\n",
       "      <td>10000</td>\n",
       "      <td>40236</td>\n",
       "      <td>m54329U_210814_130637/153159059/ccs</td>\n",
       "      <td>-4179</td>\n",
       "      <td>28937</td>\n",
       "      <td>33116</td>\n",
       "      <td>m6a</td>\n",
       "      <td>-78</td>\n",
       "      <td>-77</td>\n",
       "    </tr>\n",
       "    <tr>\n",
       "      <th>2</th>\n",
       "      <td>chr1_11256_-/m54329U_210814_130637/153159059/ccs</td>\n",
       "      <td>chr1_11256_-</td>\n",
       "      <td>chr1</td>\n",
       "      <td>11256</td>\n",
       "      <td>-</td>\n",
       "      <td>TGCCAGCAGGCGGCGTGCCACCACTATACAGTAAGCAAGAGGGCCC...</td>\n",
       "      <td>10000</td>\n",
       "      <td>40236</td>\n",
       "      <td>m54329U_210814_130637/153159059/ccs</td>\n",
       "      <td>-4179</td>\n",
       "      <td>28937</td>\n",
       "      <td>33116</td>\n",
       "      <td>m6a</td>\n",
       "      <td>-75</td>\n",
       "      <td>-74</td>\n",
       "    </tr>\n",
       "    <tr>\n",
       "      <th>3</th>\n",
       "      <td>chr1_11256_-/m54329U_210814_130637/153159059/ccs</td>\n",
       "      <td>chr1_11256_-</td>\n",
       "      <td>chr1</td>\n",
       "      <td>11256</td>\n",
       "      <td>-</td>\n",
       "      <td>TGCCAGCAGGCGGCGTGCCACCACTATACAGTAAGCAAGAGGGCCC...</td>\n",
       "      <td>10000</td>\n",
       "      <td>40236</td>\n",
       "      <td>m54329U_210814_130637/153159059/ccs</td>\n",
       "      <td>-4179</td>\n",
       "      <td>28937</td>\n",
       "      <td>33116</td>\n",
       "      <td>m6a</td>\n",
       "      <td>-74</td>\n",
       "      <td>-73</td>\n",
       "    </tr>\n",
       "    <tr>\n",
       "      <th>4</th>\n",
       "      <td>chr1_11256_-/m54329U_210814_130637/153159059/ccs</td>\n",
       "      <td>chr1_11256_-</td>\n",
       "      <td>chr1</td>\n",
       "      <td>11256</td>\n",
       "      <td>-</td>\n",
       "      <td>TGCCAGCAGGCGGCGTGCCACCACTATACAGTAAGCAAGAGGGCCC...</td>\n",
       "      <td>10000</td>\n",
       "      <td>40236</td>\n",
       "      <td>m54329U_210814_130637/153159059/ccs</td>\n",
       "      <td>-4179</td>\n",
       "      <td>28937</td>\n",
       "      <td>33116</td>\n",
       "      <td>m6a</td>\n",
       "      <td>-73</td>\n",
       "      <td>-72</td>\n",
       "    </tr>\n",
       "  </tbody>\n",
       "</table>\n",
       "</div>"
      ],
      "text/plain": [
       "                                        motif_query    motif_name chrom  \\\n",
       "0  chr1_11256_-/m54329U_210814_130637/153159059/ccs  chr1_11256_-  chr1   \n",
       "1  chr1_11256_-/m54329U_210814_130637/153159059/ccs  chr1_11256_-  chr1   \n",
       "2  chr1_11256_-/m54329U_210814_130637/153159059/ccs  chr1_11256_-  chr1   \n",
       "3  chr1_11256_-/m54329U_210814_130637/153159059/ccs  chr1_11256_-  chr1   \n",
       "4  chr1_11256_-/m54329U_210814_130637/153159059/ccs  chr1_11256_-  chr1   \n",
       "\n",
       "   centering_position strand  \\\n",
       "0               11256      -   \n",
       "1               11256      -   \n",
       "2               11256      -   \n",
       "3               11256      -   \n",
       "4               11256      -   \n",
       "\n",
       "                                     subset_sequence  reference_start  \\\n",
       "0  TGCCAGCAGGCGGCGTGCCACCACTATACAGTAAGCAAGAGGGCCC...            10000   \n",
       "1  TGCCAGCAGGCGGCGTGCCACCACTATACAGTAAGCAAGAGGGCCC...            10000   \n",
       "2  TGCCAGCAGGCGGCGTGCCACCACTATACAGTAAGCAAGAGGGCCC...            10000   \n",
       "3  TGCCAGCAGGCGGCGTGCCACCACTATACAGTAAGCAAGAGGGCCC...            10000   \n",
       "4  TGCCAGCAGGCGGCGTGCCACCACTATACAGTAAGCAAGAGGGCCC...            10000   \n",
       "\n",
       "   reference_end                           query_name  centered_query_start  \\\n",
       "0          40236  m54329U_210814_130637/153159059/ccs                 -4179   \n",
       "1          40236  m54329U_210814_130637/153159059/ccs                 -4179   \n",
       "2          40236  m54329U_210814_130637/153159059/ccs                 -4179   \n",
       "3          40236  m54329U_210814_130637/153159059/ccs                 -4179   \n",
       "4          40236  m54329U_210814_130637/153159059/ccs                 -4179   \n",
       "\n",
       "   centered_query_end  query_length centered_position_type  centered_start  \\\n",
       "0               28937         33116                    m6a             -81   \n",
       "1               28937         33116                    m6a             -78   \n",
       "2               28937         33116                    m6a             -75   \n",
       "3               28937         33116                    m6a             -74   \n",
       "4               28937         33116                    m6a             -73   \n",
       "\n",
       "   centered_end  \n",
       "0           -80  \n",
       "1           -77  \n",
       "2           -74  \n",
       "3           -73  \n",
       "4           -72  "
      ]
     },
     "execution_count": 544,
     "metadata": {},
     "output_type": "execute_result"
    }
   ],
   "source": [
    "df.head()"
   ]
  },
  {
   "cell_type": "code",
   "execution_count": 545,
   "id": "e9c751fe",
   "metadata": {},
   "outputs": [],
   "source": [
    "# save pre-msp filtered df so I don't need to reload it\n",
    "#df_og = df.copy()"
   ]
  },
  {
   "cell_type": "code",
   "execution_count": 558,
   "id": "c53e436d",
   "metadata": {},
   "outputs": [],
   "source": [
    "df = df_og.copy()"
   ]
  },
  {
   "cell_type": "code",
   "execution_count": 562,
   "id": "14262bf3",
   "metadata": {},
   "outputs": [
    {
     "data": {
      "text/html": [
       "<div>\n",
       "<style scoped>\n",
       "    .dataframe tbody tr th:only-of-type {\n",
       "        vertical-align: middle;\n",
       "    }\n",
       "\n",
       "    .dataframe tbody tr th {\n",
       "        vertical-align: top;\n",
       "    }\n",
       "\n",
       "    .dataframe thead th {\n",
       "        text-align: right;\n",
       "    }\n",
       "</style>\n",
       "<table border=\"1\" class=\"dataframe\">\n",
       "  <thead>\n",
       "    <tr style=\"text-align: right;\">\n",
       "      <th></th>\n",
       "      <th>motif_query</th>\n",
       "      <th>motif_name</th>\n",
       "      <th>chrom</th>\n",
       "      <th>centering_position</th>\n",
       "      <th>strand</th>\n",
       "      <th>subset_sequence</th>\n",
       "      <th>reference_start</th>\n",
       "      <th>reference_end</th>\n",
       "      <th>query_name</th>\n",
       "      <th>centered_query_start</th>\n",
       "      <th>centered_query_end</th>\n",
       "      <th>query_length</th>\n",
       "      <th>centered_position_type</th>\n",
       "      <th>centered_start</th>\n",
       "      <th>centered_end</th>\n",
       "    </tr>\n",
       "  </thead>\n",
       "  <tbody>\n",
       "    <tr>\n",
       "      <th>0</th>\n",
       "      <td>chr1_11256_-/m54329U_210814_130637/153159059/ccs</td>\n",
       "      <td>chr1_11256_-</td>\n",
       "      <td>chr1</td>\n",
       "      <td>11256</td>\n",
       "      <td>-</td>\n",
       "      <td>TGCCAGCAGGCGGCGTGCCACCACTATACAGTAAGCAAGAGGGCCC...</td>\n",
       "      <td>10000</td>\n",
       "      <td>40236</td>\n",
       "      <td>m54329U_210814_130637/153159059/ccs</td>\n",
       "      <td>-4179</td>\n",
       "      <td>28937</td>\n",
       "      <td>33116</td>\n",
       "      <td>m6a</td>\n",
       "      <td>-81</td>\n",
       "      <td>-80</td>\n",
       "    </tr>\n",
       "    <tr>\n",
       "      <th>1</th>\n",
       "      <td>chr1_11256_-/m54329U_210814_130637/153159059/ccs</td>\n",
       "      <td>chr1_11256_-</td>\n",
       "      <td>chr1</td>\n",
       "      <td>11256</td>\n",
       "      <td>-</td>\n",
       "      <td>TGCCAGCAGGCGGCGTGCCACCACTATACAGTAAGCAAGAGGGCCC...</td>\n",
       "      <td>10000</td>\n",
       "      <td>40236</td>\n",
       "      <td>m54329U_210814_130637/153159059/ccs</td>\n",
       "      <td>-4179</td>\n",
       "      <td>28937</td>\n",
       "      <td>33116</td>\n",
       "      <td>m6a</td>\n",
       "      <td>-78</td>\n",
       "      <td>-77</td>\n",
       "    </tr>\n",
       "    <tr>\n",
       "      <th>2</th>\n",
       "      <td>chr1_11256_-/m54329U_210814_130637/153159059/ccs</td>\n",
       "      <td>chr1_11256_-</td>\n",
       "      <td>chr1</td>\n",
       "      <td>11256</td>\n",
       "      <td>-</td>\n",
       "      <td>TGCCAGCAGGCGGCGTGCCACCACTATACAGTAAGCAAGAGGGCCC...</td>\n",
       "      <td>10000</td>\n",
       "      <td>40236</td>\n",
       "      <td>m54329U_210814_130637/153159059/ccs</td>\n",
       "      <td>-4179</td>\n",
       "      <td>28937</td>\n",
       "      <td>33116</td>\n",
       "      <td>m6a</td>\n",
       "      <td>-75</td>\n",
       "      <td>-74</td>\n",
       "    </tr>\n",
       "    <tr>\n",
       "      <th>3</th>\n",
       "      <td>chr1_11256_-/m54329U_210814_130637/153159059/ccs</td>\n",
       "      <td>chr1_11256_-</td>\n",
       "      <td>chr1</td>\n",
       "      <td>11256</td>\n",
       "      <td>-</td>\n",
       "      <td>TGCCAGCAGGCGGCGTGCCACCACTATACAGTAAGCAAGAGGGCCC...</td>\n",
       "      <td>10000</td>\n",
       "      <td>40236</td>\n",
       "      <td>m54329U_210814_130637/153159059/ccs</td>\n",
       "      <td>-4179</td>\n",
       "      <td>28937</td>\n",
       "      <td>33116</td>\n",
       "      <td>m6a</td>\n",
       "      <td>-74</td>\n",
       "      <td>-73</td>\n",
       "    </tr>\n",
       "    <tr>\n",
       "      <th>4</th>\n",
       "      <td>chr1_11256_-/m54329U_210814_130637/153159059/ccs</td>\n",
       "      <td>chr1_11256_-</td>\n",
       "      <td>chr1</td>\n",
       "      <td>11256</td>\n",
       "      <td>-</td>\n",
       "      <td>TGCCAGCAGGCGGCGTGCCACCACTATACAGTAAGCAAGAGGGCCC...</td>\n",
       "      <td>10000</td>\n",
       "      <td>40236</td>\n",
       "      <td>m54329U_210814_130637/153159059/ccs</td>\n",
       "      <td>-4179</td>\n",
       "      <td>28937</td>\n",
       "      <td>33116</td>\n",
       "      <td>m6a</td>\n",
       "      <td>-73</td>\n",
       "      <td>-72</td>\n",
       "    </tr>\n",
       "  </tbody>\n",
       "</table>\n",
       "</div>"
      ],
      "text/plain": [
       "                                        motif_query    motif_name chrom  \\\n",
       "0  chr1_11256_-/m54329U_210814_130637/153159059/ccs  chr1_11256_-  chr1   \n",
       "1  chr1_11256_-/m54329U_210814_130637/153159059/ccs  chr1_11256_-  chr1   \n",
       "2  chr1_11256_-/m54329U_210814_130637/153159059/ccs  chr1_11256_-  chr1   \n",
       "3  chr1_11256_-/m54329U_210814_130637/153159059/ccs  chr1_11256_-  chr1   \n",
       "4  chr1_11256_-/m54329U_210814_130637/153159059/ccs  chr1_11256_-  chr1   \n",
       "\n",
       "   centering_position strand  \\\n",
       "0               11256      -   \n",
       "1               11256      -   \n",
       "2               11256      -   \n",
       "3               11256      -   \n",
       "4               11256      -   \n",
       "\n",
       "                                     subset_sequence  reference_start  \\\n",
       "0  TGCCAGCAGGCGGCGTGCCACCACTATACAGTAAGCAAGAGGGCCC...            10000   \n",
       "1  TGCCAGCAGGCGGCGTGCCACCACTATACAGTAAGCAAGAGGGCCC...            10000   \n",
       "2  TGCCAGCAGGCGGCGTGCCACCACTATACAGTAAGCAAGAGGGCCC...            10000   \n",
       "3  TGCCAGCAGGCGGCGTGCCACCACTATACAGTAAGCAAGAGGGCCC...            10000   \n",
       "4  TGCCAGCAGGCGGCGTGCCACCACTATACAGTAAGCAAGAGGGCCC...            10000   \n",
       "\n",
       "   reference_end                           query_name  centered_query_start  \\\n",
       "0          40236  m54329U_210814_130637/153159059/ccs                 -4179   \n",
       "1          40236  m54329U_210814_130637/153159059/ccs                 -4179   \n",
       "2          40236  m54329U_210814_130637/153159059/ccs                 -4179   \n",
       "3          40236  m54329U_210814_130637/153159059/ccs                 -4179   \n",
       "4          40236  m54329U_210814_130637/153159059/ccs                 -4179   \n",
       "\n",
       "   centered_query_end  query_length centered_position_type  centered_start  \\\n",
       "0               28937         33116                    m6a             -81   \n",
       "1               28937         33116                    m6a             -78   \n",
       "2               28937         33116                    m6a             -75   \n",
       "3               28937         33116                    m6a             -74   \n",
       "4               28937         33116                    m6a             -73   \n",
       "\n",
       "   centered_end  \n",
       "0           -80  \n",
       "1           -77  \n",
       "2           -74  \n",
       "3           -73  \n",
       "4           -72  "
      ]
     },
     "execution_count": 562,
     "metadata": {},
     "output_type": "execute_result"
    }
   ],
   "source": [
    "df.head()"
   ]
  },
  {
   "cell_type": "markdown",
   "id": "d033a556",
   "metadata": {},
   "source": [
    "__test msp filtering__"
   ]
  },
  {
   "cell_type": "code",
   "execution_count": 600,
   "id": "c0e00774",
   "metadata": {},
   "outputs": [],
   "source": [
    "# original version (w/ edits)\n",
    "def filt_msps(df, motif_len=35):\n",
    "    '''Filters for motif/query instances with a motif within \n",
    "    a MSP and adds MSP length to each motif/query group.'''\n",
    "    \n",
    "    # position of MSPs containing a motif\n",
    "    msp_mask = (df[\"centered_position_type\"] == \"msp\") & (df[\"centered_start\"] <= 0) & (df[\"centered_end\"] >= motif_len)\n",
    "    print(\"MSP's with a motif: \" + \"{:,}\".format(msp_mask.sum()))\n",
    "    msp_groups = [(row[\"motif_name\"], row[\"query_name\"]) for idx, row in df[msp_mask].iterrows()]\n",
    "    \n",
    "    # filter for rows with motifs within an MSP (gets both MSP's & m6a's)\n",
    "    df = df[df[[\"motif_name\", \"query_name\"]].apply(tuple, 1).isin(msp_groups)]\n",
    "    print(\"Total observations from motifs within an MSP: \" + \"{:,}\".format(df.shape[0]))\n",
    "    \n",
    "    # add MSP size corresponding to each group\n",
    "    # df with msp sizes\n",
    "    df_msp = df.loc[msp_mask, [\"motif_name\", \"query_name\", \"centered_end\", \"centered_start\"]]\n",
    "    df_msp[\"msp_size\"] = df_msp[\"centered_end\"] - df_msp[\"centered_start\"]\n",
    "    dup_alignments = df_msp.shape[0]\n",
    "    df_msp = df_msp.drop_duplicates(subset=[\"motif_name\", \"query_name\"], keep=False)\n",
    "    print(\"Dropped motif-query instances w/ multiple MSPs (multiple alignments). \\\n",
    "          {:,}\".format(dup_alignments - df_msp.shape[0]))\n",
    "\n",
    "    # match msp back to it's motif & fiber\n",
    "    df = df.merge(df_msp[[\"motif_name\", \"query_name\", \"msp_size\"]], on=[\"motif_name\", \"query_name\"])\n",
    "    print(\"Merged df shape w/ msp_size: \" + \"{:,}\".format(df.shape[0]))\n",
    "    return df"
   ]
  },
  {
   "cell_type": "code",
   "execution_count": 602,
   "id": "446f5a7e",
   "metadata": {},
   "outputs": [
    {
     "name": "stdout",
     "output_type": "stream",
     "text": [
      "MSP's with a motif: 326,847\n",
      "Total observations from motifs within an MSP: 8,240,741\n",
      "Dropping motif-query instances w/ multiple MSPs (multiple alignments).\n",
      "Merged df shape w/ msp_size: 8,239,145\n",
      "CPU times: user 2min 16s, sys: 5 s, total: 2min 21s\n",
      "Wall time: 2min 22s\n"
     ]
    }
   ],
   "source": [
    "%%time\n",
    "df_filt = filt_msps(df)"
   ]
  },
  {
   "cell_type": "code",
   "execution_count": 604,
   "id": "d233d192",
   "metadata": {},
   "outputs": [],
   "source": [
    "df = df_filt"
   ]
  },
  {
   "cell_type": "code",
   "execution_count": 290,
   "id": "adfda8c8",
   "metadata": {},
   "outputs": [
    {
     "name": "stdout",
     "output_type": "stream",
     "text": [
      "MSP's with a motif: 326,847\n",
      "Total observations from motifs within an MSP: 8,240,741\n",
      "Merged df shape w/ msp_size: 8,242,521\n",
      "Total m6a observations: 7,904,467\n"
     ]
    }
   ],
   "source": [
    "# filter for regions within an MSP, MSP size per motif_query, remove MSP size\n",
    "#df = filt_msps(df)\n",
    "#df = df[df[\"centered_position_type\"] == \"m6a\"]\n",
    "#print(\"Total m6a observations: \" + \"{:,}\".format(df.shape[0]))"
   ]
  },
  {
   "cell_type": "code",
   "execution_count": 393,
   "id": "f6a73f17",
   "metadata": {
    "scrolled": true
   },
   "outputs": [
    {
     "name": "stdout",
     "output_type": "stream",
     "text": [
      "MSP's with a motif: 326,847\n"
     ]
    }
   ],
   "source": [
    "motif_len = 35\n",
    "# position of MSPs containing a motif\n",
    "msp_mask = (df[\"centered_position_type\"] == \"msp\") & (df[\"centered_start\"] <= 0) & (df[\"centered_end\"] >= motif_len)\n",
    "print(\"MSP's with a motif: \" + \"{:,}\".format(msp_mask.sum()))\n",
    "msp_groups = [(row[\"motif_name\"], row[\"query_name\"]) for idx, row in df[msp_mask].iterrows()]"
   ]
  },
  {
   "cell_type": "code",
   "execution_count": 394,
   "id": "ee8a4ca7",
   "metadata": {
    "collapsed": true
   },
   "outputs": [
    {
     "ename": "KeyboardInterrupt",
     "evalue": "",
     "output_type": "error",
     "traceback": [
      "\u001b[0;31m---------------------------------------------------------------------------\u001b[0m",
      "\u001b[0;31mKeyboardInterrupt\u001b[0m                         Traceback (most recent call last)",
      "Cell \u001b[0;32mIn[394], line 1\u001b[0m\n\u001b[0;32m----> 1\u001b[0m df[\u001b[43mdf\u001b[49m\u001b[43m[\u001b[49m\u001b[43m[\u001b[49m\u001b[38;5;124;43m\"\u001b[39;49m\u001b[38;5;124;43mmotif_name\u001b[39;49m\u001b[38;5;124;43m\"\u001b[39;49m\u001b[43m,\u001b[49m\u001b[43m \u001b[49m\u001b[38;5;124;43m\"\u001b[39;49m\u001b[38;5;124;43mquery_name\u001b[39;49m\u001b[38;5;124;43m\"\u001b[39;49m\u001b[43m]\u001b[49m\u001b[43m]\u001b[49m\u001b[38;5;241;43m.\u001b[39;49m\u001b[43mapply\u001b[49m\u001b[43m(\u001b[49m\u001b[38;5;28;43mtuple\u001b[39;49m\u001b[43m,\u001b[49m\u001b[43m \u001b[49m\u001b[38;5;241;43m1\u001b[39;49m\u001b[43m)\u001b[49m\u001b[38;5;241m.\u001b[39misin(msp_groups) \u001b[38;5;241m&\u001b[39m df[\u001b[38;5;124m\"\u001b[39m\u001b[38;5;124mcentered_position_type\u001b[39m\u001b[38;5;124m\"\u001b[39m] \u001b[38;5;241m==\u001b[39m \u001b[38;5;124m\"\u001b[39m\u001b[38;5;124mmsp\u001b[39m\u001b[38;5;124m\"\u001b[39m]\n",
      "File \u001b[0;32m/mmfs1/gscratch/stergachislab/mwperez/miniconda3/envs/fiberseq-smk/lib/python3.9/site-packages/pandas/core/frame.py:9565\u001b[0m, in \u001b[0;36mDataFrame.apply\u001b[0;34m(self, func, axis, raw, result_type, args, **kwargs)\u001b[0m\n\u001b[1;32m   9554\u001b[0m \u001b[38;5;28;01mfrom\u001b[39;00m \u001b[38;5;21;01mpandas\u001b[39;00m\u001b[38;5;21;01m.\u001b[39;00m\u001b[38;5;21;01mcore\u001b[39;00m\u001b[38;5;21;01m.\u001b[39;00m\u001b[38;5;21;01mapply\u001b[39;00m \u001b[38;5;28;01mimport\u001b[39;00m frame_apply\n\u001b[1;32m   9556\u001b[0m op \u001b[38;5;241m=\u001b[39m frame_apply(\n\u001b[1;32m   9557\u001b[0m     \u001b[38;5;28mself\u001b[39m,\n\u001b[1;32m   9558\u001b[0m     func\u001b[38;5;241m=\u001b[39mfunc,\n\u001b[0;32m   (...)\u001b[0m\n\u001b[1;32m   9563\u001b[0m     kwargs\u001b[38;5;241m=\u001b[39mkwargs,\n\u001b[1;32m   9564\u001b[0m )\n\u001b[0;32m-> 9565\u001b[0m \u001b[38;5;28;01mreturn\u001b[39;00m \u001b[43mop\u001b[49m\u001b[38;5;241;43m.\u001b[39;49m\u001b[43mapply\u001b[49m\u001b[43m(\u001b[49m\u001b[43m)\u001b[49m\u001b[38;5;241m.\u001b[39m__finalize__(\u001b[38;5;28mself\u001b[39m, method\u001b[38;5;241m=\u001b[39m\u001b[38;5;124m\"\u001b[39m\u001b[38;5;124mapply\u001b[39m\u001b[38;5;124m\"\u001b[39m)\n",
      "File \u001b[0;32m/mmfs1/gscratch/stergachislab/mwperez/miniconda3/envs/fiberseq-smk/lib/python3.9/site-packages/pandas/core/apply.py:746\u001b[0m, in \u001b[0;36mFrameApply.apply\u001b[0;34m(self)\u001b[0m\n\u001b[1;32m    743\u001b[0m \u001b[38;5;28;01melif\u001b[39;00m \u001b[38;5;28mself\u001b[39m\u001b[38;5;241m.\u001b[39mraw:\n\u001b[1;32m    744\u001b[0m     \u001b[38;5;28;01mreturn\u001b[39;00m \u001b[38;5;28mself\u001b[39m\u001b[38;5;241m.\u001b[39mapply_raw()\n\u001b[0;32m--> 746\u001b[0m \u001b[38;5;28;01mreturn\u001b[39;00m \u001b[38;5;28;43mself\u001b[39;49m\u001b[38;5;241;43m.\u001b[39;49m\u001b[43mapply_standard\u001b[49m\u001b[43m(\u001b[49m\u001b[43m)\u001b[49m\n",
      "File \u001b[0;32m/mmfs1/gscratch/stergachislab/mwperez/miniconda3/envs/fiberseq-smk/lib/python3.9/site-packages/pandas/core/apply.py:873\u001b[0m, in \u001b[0;36mFrameApply.apply_standard\u001b[0;34m(self)\u001b[0m\n\u001b[1;32m    872\u001b[0m \u001b[38;5;28;01mdef\u001b[39;00m \u001b[38;5;21mapply_standard\u001b[39m(\u001b[38;5;28mself\u001b[39m):\n\u001b[0;32m--> 873\u001b[0m     results, res_index \u001b[38;5;241m=\u001b[39m \u001b[38;5;28;43mself\u001b[39;49m\u001b[38;5;241;43m.\u001b[39;49m\u001b[43mapply_series_generator\u001b[49m\u001b[43m(\u001b[49m\u001b[43m)\u001b[49m\n\u001b[1;32m    875\u001b[0m     \u001b[38;5;66;03m# wrap results\u001b[39;00m\n\u001b[1;32m    876\u001b[0m     \u001b[38;5;28;01mreturn\u001b[39;00m \u001b[38;5;28mself\u001b[39m\u001b[38;5;241m.\u001b[39mwrap_results(results, res_index)\n",
      "File \u001b[0;32m/mmfs1/gscratch/stergachislab/mwperez/miniconda3/envs/fiberseq-smk/lib/python3.9/site-packages/pandas/core/apply.py:889\u001b[0m, in \u001b[0;36mFrameApply.apply_series_generator\u001b[0;34m(self)\u001b[0m\n\u001b[1;32m    886\u001b[0m \u001b[38;5;28;01mwith\u001b[39;00m option_context(\u001b[38;5;124m\"\u001b[39m\u001b[38;5;124mmode.chained_assignment\u001b[39m\u001b[38;5;124m\"\u001b[39m, \u001b[38;5;28;01mNone\u001b[39;00m):\n\u001b[1;32m    887\u001b[0m     \u001b[38;5;28;01mfor\u001b[39;00m i, v \u001b[38;5;129;01min\u001b[39;00m \u001b[38;5;28menumerate\u001b[39m(series_gen):\n\u001b[1;32m    888\u001b[0m         \u001b[38;5;66;03m# ignore SettingWithCopy here in case the user mutates\u001b[39;00m\n\u001b[0;32m--> 889\u001b[0m         results[i] \u001b[38;5;241m=\u001b[39m \u001b[38;5;28;43mself\u001b[39;49m\u001b[38;5;241;43m.\u001b[39;49m\u001b[43mf\u001b[49m\u001b[43m(\u001b[49m\u001b[43mv\u001b[49m\u001b[43m)\u001b[49m\n\u001b[1;32m    890\u001b[0m         \u001b[38;5;28;01mif\u001b[39;00m \u001b[38;5;28misinstance\u001b[39m(results[i], ABCSeries):\n\u001b[1;32m    891\u001b[0m             \u001b[38;5;66;03m# If we have a view on v, we need to make a copy because\u001b[39;00m\n\u001b[1;32m    892\u001b[0m             \u001b[38;5;66;03m#  series_generator will swap out the underlying data\u001b[39;00m\n\u001b[1;32m    893\u001b[0m             results[i] \u001b[38;5;241m=\u001b[39m results[i]\u001b[38;5;241m.\u001b[39mcopy(deep\u001b[38;5;241m=\u001b[39m\u001b[38;5;28;01mFalse\u001b[39;00m)\n",
      "File \u001b[0;32m/mmfs1/gscratch/stergachislab/mwperez/miniconda3/envs/fiberseq-smk/lib/python3.9/site-packages/pandas/core/series.py:768\u001b[0m, in \u001b[0;36mSeries.__len__\u001b[0;34m(self)\u001b[0m\n\u001b[1;32m    764\u001b[0m \u001b[38;5;28;01mdef\u001b[39;00m \u001b[38;5;21m__len__\u001b[39m(\u001b[38;5;28mself\u001b[39m) \u001b[38;5;241m-\u001b[39m\u001b[38;5;241m>\u001b[39m \u001b[38;5;28mint\u001b[39m:\n\u001b[1;32m    765\u001b[0m \u001b[38;5;250m    \u001b[39m\u001b[38;5;124;03m\"\"\"\u001b[39;00m\n\u001b[1;32m    766\u001b[0m \u001b[38;5;124;03m    Return the length of the Series.\u001b[39;00m\n\u001b[1;32m    767\u001b[0m \u001b[38;5;124;03m    \"\"\"\u001b[39;00m\n\u001b[0;32m--> 768\u001b[0m     \u001b[38;5;28;01mreturn\u001b[39;00m \u001b[38;5;28;43mlen\u001b[39;49m\u001b[43m(\u001b[49m\u001b[38;5;28;43mself\u001b[39;49m\u001b[38;5;241;43m.\u001b[39;49m\u001b[43m_mgr\u001b[49m\u001b[43m)\u001b[49m\n",
      "File \u001b[0;32m/mmfs1/gscratch/stergachislab/mwperez/miniconda3/envs/fiberseq-smk/lib/python3.9/site-packages/pandas/core/internals/base.py:48\u001b[0m, in \u001b[0;36mDataManager.__len__\u001b[0;34m(self)\u001b[0m\n\u001b[1;32m     46\u001b[0m \u001b[38;5;129m@final\u001b[39m\n\u001b[1;32m     47\u001b[0m \u001b[38;5;28;01mdef\u001b[39;00m \u001b[38;5;21m__len__\u001b[39m(\u001b[38;5;28mself\u001b[39m) \u001b[38;5;241m-\u001b[39m\u001b[38;5;241m>\u001b[39m \u001b[38;5;28mint\u001b[39m:\n\u001b[0;32m---> 48\u001b[0m     \u001b[38;5;28;01mreturn\u001b[39;00m \u001b[38;5;28;43mlen\u001b[39;49m\u001b[43m(\u001b[49m\u001b[38;5;28;43mself\u001b[39;49m\u001b[38;5;241;43m.\u001b[39;49m\u001b[43mitems\u001b[49m\u001b[43m)\u001b[49m\n",
      "File \u001b[0;32m/mmfs1/gscratch/stergachislab/mwperez/miniconda3/envs/fiberseq-smk/lib/python3.9/site-packages/pandas/core/indexes/base.py:926\u001b[0m, in \u001b[0;36mIndex.__len__\u001b[0;34m(self)\u001b[0m\n\u001b[1;32m    916\u001b[0m     \u001b[38;5;28;01mreturn\u001b[39;00m {\n\u001b[1;32m    917\u001b[0m         c\n\u001b[1;32m    918\u001b[0m         \u001b[38;5;28;01mfor\u001b[39;00m c \u001b[38;5;129;01min\u001b[39;00m \u001b[38;5;28mself\u001b[39m\u001b[38;5;241m.\u001b[39munique(level\u001b[38;5;241m=\u001b[39m\u001b[38;5;241m0\u001b[39m)[: get_option(\u001b[38;5;124m\"\u001b[39m\u001b[38;5;124mdisplay.max_dir_items\u001b[39m\u001b[38;5;124m\"\u001b[39m)]\n\u001b[1;32m    919\u001b[0m         \u001b[38;5;28;01mif\u001b[39;00m \u001b[38;5;28misinstance\u001b[39m(c, \u001b[38;5;28mstr\u001b[39m) \u001b[38;5;129;01mand\u001b[39;00m c\u001b[38;5;241m.\u001b[39misidentifier()\n\u001b[1;32m    920\u001b[0m     }\n\u001b[1;32m    922\u001b[0m \u001b[38;5;66;03m# --------------------------------------------------------------------\u001b[39;00m\n\u001b[1;32m    923\u001b[0m \u001b[38;5;66;03m# Array-Like Methods\u001b[39;00m\n\u001b[1;32m    924\u001b[0m \n\u001b[1;32m    925\u001b[0m \u001b[38;5;66;03m# ndarray compat\u001b[39;00m\n\u001b[0;32m--> 926\u001b[0m \u001b[38;5;28;01mdef\u001b[39;00m \u001b[38;5;21m__len__\u001b[39m(\u001b[38;5;28mself\u001b[39m) \u001b[38;5;241m-\u001b[39m\u001b[38;5;241m>\u001b[39m \u001b[38;5;28mint\u001b[39m:\n\u001b[1;32m    927\u001b[0m \u001b[38;5;250m    \u001b[39m\u001b[38;5;124;03m\"\"\"\u001b[39;00m\n\u001b[1;32m    928\u001b[0m \u001b[38;5;124;03m    Return the length of the Index.\u001b[39;00m\n\u001b[1;32m    929\u001b[0m \u001b[38;5;124;03m    \"\"\"\u001b[39;00m\n\u001b[1;32m    930\u001b[0m     \u001b[38;5;28;01mreturn\u001b[39;00m \u001b[38;5;28mlen\u001b[39m(\u001b[38;5;28mself\u001b[39m\u001b[38;5;241m.\u001b[39m_data)\n",
      "\u001b[0;31mKeyboardInterrupt\u001b[0m: "
     ]
    }
   ],
   "source": [
    "df[df[[\"motif_name\", \"query_name\"]].apply(tuple, 1).isin(msp_groups) & df[\"centered_position_type\"] == \"msp\"]"
   ]
  },
  {
   "cell_type": "code",
   "execution_count": 605,
   "id": "6b76dcba",
   "metadata": {
    "collapsed": true
   },
   "outputs": [
    {
     "ename": "KeyboardInterrupt",
     "evalue": "",
     "output_type": "error",
     "traceback": [
      "\u001b[0;31m---------------------------------------------------------------------------\u001b[0m",
      "\u001b[0;31mKeyboardInterrupt\u001b[0m                         Traceback (most recent call last)",
      "Cell \u001b[0;32mIn[605], line 2\u001b[0m\n\u001b[1;32m      1\u001b[0m \u001b[38;5;66;03m# filter for rows with motifs within an MSP (gets both MSP's & m6a's)\u001b[39;00m\n\u001b[0;32m----> 2\u001b[0m df \u001b[38;5;241m=\u001b[39m df[\u001b[43mdf\u001b[49m\u001b[43m[\u001b[49m\u001b[43m[\u001b[49m\u001b[38;5;124;43m\"\u001b[39;49m\u001b[38;5;124;43mmotif_name\u001b[39;49m\u001b[38;5;124;43m\"\u001b[39;49m\u001b[43m,\u001b[49m\u001b[43m \u001b[49m\u001b[38;5;124;43m\"\u001b[39;49m\u001b[38;5;124;43mquery_name\u001b[39;49m\u001b[38;5;124;43m\"\u001b[39;49m\u001b[43m]\u001b[49m\u001b[43m]\u001b[49m\u001b[38;5;241;43m.\u001b[39;49m\u001b[43mapply\u001b[49m\u001b[43m(\u001b[49m\u001b[38;5;28;43mtuple\u001b[39;49m\u001b[43m,\u001b[49m\u001b[43m \u001b[49m\u001b[38;5;241;43m1\u001b[39;49m\u001b[43m)\u001b[49m\u001b[38;5;241m.\u001b[39misin(msp_groups)]\n\u001b[1;32m      3\u001b[0m \u001b[38;5;28mprint\u001b[39m(\u001b[38;5;124m\"\u001b[39m\u001b[38;5;124mTotal observations from motifs within an MSP: \u001b[39m\u001b[38;5;124m\"\u001b[39m \u001b[38;5;241m+\u001b[39m \u001b[38;5;124m\"\u001b[39m\u001b[38;5;132;01m{:,}\u001b[39;00m\u001b[38;5;124m\"\u001b[39m\u001b[38;5;241m.\u001b[39mformat(df\u001b[38;5;241m.\u001b[39mshape[\u001b[38;5;241m0\u001b[39m]))\n",
      "File \u001b[0;32m/mmfs1/gscratch/stergachislab/mwperez/miniconda3/envs/fiberseq-smk/lib/python3.9/site-packages/pandas/core/frame.py:9565\u001b[0m, in \u001b[0;36mDataFrame.apply\u001b[0;34m(self, func, axis, raw, result_type, args, **kwargs)\u001b[0m\n\u001b[1;32m   9554\u001b[0m \u001b[38;5;28;01mfrom\u001b[39;00m \u001b[38;5;21;01mpandas\u001b[39;00m\u001b[38;5;21;01m.\u001b[39;00m\u001b[38;5;21;01mcore\u001b[39;00m\u001b[38;5;21;01m.\u001b[39;00m\u001b[38;5;21;01mapply\u001b[39;00m \u001b[38;5;28;01mimport\u001b[39;00m frame_apply\n\u001b[1;32m   9556\u001b[0m op \u001b[38;5;241m=\u001b[39m frame_apply(\n\u001b[1;32m   9557\u001b[0m     \u001b[38;5;28mself\u001b[39m,\n\u001b[1;32m   9558\u001b[0m     func\u001b[38;5;241m=\u001b[39mfunc,\n\u001b[0;32m   (...)\u001b[0m\n\u001b[1;32m   9563\u001b[0m     kwargs\u001b[38;5;241m=\u001b[39mkwargs,\n\u001b[1;32m   9564\u001b[0m )\n\u001b[0;32m-> 9565\u001b[0m \u001b[38;5;28;01mreturn\u001b[39;00m \u001b[43mop\u001b[49m\u001b[38;5;241;43m.\u001b[39;49m\u001b[43mapply\u001b[49m\u001b[43m(\u001b[49m\u001b[43m)\u001b[49m\u001b[38;5;241m.\u001b[39m__finalize__(\u001b[38;5;28mself\u001b[39m, method\u001b[38;5;241m=\u001b[39m\u001b[38;5;124m\"\u001b[39m\u001b[38;5;124mapply\u001b[39m\u001b[38;5;124m\"\u001b[39m)\n",
      "File \u001b[0;32m/mmfs1/gscratch/stergachislab/mwperez/miniconda3/envs/fiberseq-smk/lib/python3.9/site-packages/pandas/core/apply.py:746\u001b[0m, in \u001b[0;36mFrameApply.apply\u001b[0;34m(self)\u001b[0m\n\u001b[1;32m    743\u001b[0m \u001b[38;5;28;01melif\u001b[39;00m \u001b[38;5;28mself\u001b[39m\u001b[38;5;241m.\u001b[39mraw:\n\u001b[1;32m    744\u001b[0m     \u001b[38;5;28;01mreturn\u001b[39;00m \u001b[38;5;28mself\u001b[39m\u001b[38;5;241m.\u001b[39mapply_raw()\n\u001b[0;32m--> 746\u001b[0m \u001b[38;5;28;01mreturn\u001b[39;00m \u001b[38;5;28;43mself\u001b[39;49m\u001b[38;5;241;43m.\u001b[39;49m\u001b[43mapply_standard\u001b[49m\u001b[43m(\u001b[49m\u001b[43m)\u001b[49m\n",
      "File \u001b[0;32m/mmfs1/gscratch/stergachislab/mwperez/miniconda3/envs/fiberseq-smk/lib/python3.9/site-packages/pandas/core/apply.py:873\u001b[0m, in \u001b[0;36mFrameApply.apply_standard\u001b[0;34m(self)\u001b[0m\n\u001b[1;32m    872\u001b[0m \u001b[38;5;28;01mdef\u001b[39;00m \u001b[38;5;21mapply_standard\u001b[39m(\u001b[38;5;28mself\u001b[39m):\n\u001b[0;32m--> 873\u001b[0m     results, res_index \u001b[38;5;241m=\u001b[39m \u001b[38;5;28;43mself\u001b[39;49m\u001b[38;5;241;43m.\u001b[39;49m\u001b[43mapply_series_generator\u001b[49m\u001b[43m(\u001b[49m\u001b[43m)\u001b[49m\n\u001b[1;32m    875\u001b[0m     \u001b[38;5;66;03m# wrap results\u001b[39;00m\n\u001b[1;32m    876\u001b[0m     \u001b[38;5;28;01mreturn\u001b[39;00m \u001b[38;5;28mself\u001b[39m\u001b[38;5;241m.\u001b[39mwrap_results(results, res_index)\n",
      "File \u001b[0;32m/mmfs1/gscratch/stergachislab/mwperez/miniconda3/envs/fiberseq-smk/lib/python3.9/site-packages/pandas/core/apply.py:889\u001b[0m, in \u001b[0;36mFrameApply.apply_series_generator\u001b[0;34m(self)\u001b[0m\n\u001b[1;32m    886\u001b[0m \u001b[38;5;28;01mwith\u001b[39;00m option_context(\u001b[38;5;124m\"\u001b[39m\u001b[38;5;124mmode.chained_assignment\u001b[39m\u001b[38;5;124m\"\u001b[39m, \u001b[38;5;28;01mNone\u001b[39;00m):\n\u001b[1;32m    887\u001b[0m     \u001b[38;5;28;01mfor\u001b[39;00m i, v \u001b[38;5;129;01min\u001b[39;00m \u001b[38;5;28menumerate\u001b[39m(series_gen):\n\u001b[1;32m    888\u001b[0m         \u001b[38;5;66;03m# ignore SettingWithCopy here in case the user mutates\u001b[39;00m\n\u001b[0;32m--> 889\u001b[0m         results[i] \u001b[38;5;241m=\u001b[39m \u001b[38;5;28;43mself\u001b[39;49m\u001b[38;5;241;43m.\u001b[39;49m\u001b[43mf\u001b[49m\u001b[43m(\u001b[49m\u001b[43mv\u001b[49m\u001b[43m)\u001b[49m\n\u001b[1;32m    890\u001b[0m         \u001b[38;5;28;01mif\u001b[39;00m \u001b[38;5;28misinstance\u001b[39m(results[i], ABCSeries):\n\u001b[1;32m    891\u001b[0m             \u001b[38;5;66;03m# If we have a view on v, we need to make a copy because\u001b[39;00m\n\u001b[1;32m    892\u001b[0m             \u001b[38;5;66;03m#  series_generator will swap out the underlying data\u001b[39;00m\n\u001b[1;32m    893\u001b[0m             results[i] \u001b[38;5;241m=\u001b[39m results[i]\u001b[38;5;241m.\u001b[39mcopy(deep\u001b[38;5;241m=\u001b[39m\u001b[38;5;28;01mFalse\u001b[39;00m)\n",
      "File \u001b[0;32m/mmfs1/gscratch/stergachislab/mwperez/miniconda3/envs/fiberseq-smk/lib/python3.9/site-packages/pandas/core/base.py:755\u001b[0m, in \u001b[0;36mIndexOpsMixin.__iter__\u001b[0;34m(self)\u001b[0m\n\u001b[1;32m    743\u001b[0m \u001b[38;5;250m\u001b[39m\u001b[38;5;124;03m\"\"\"\u001b[39;00m\n\u001b[1;32m    744\u001b[0m \u001b[38;5;124;03mReturn an iterator of the values.\u001b[39;00m\n\u001b[1;32m    745\u001b[0m \n\u001b[0;32m   (...)\u001b[0m\n\u001b[1;32m    752\u001b[0m \u001b[38;5;124;03miterator\u001b[39;00m\n\u001b[1;32m    753\u001b[0m \u001b[38;5;124;03m\"\"\"\u001b[39;00m\n\u001b[1;32m    754\u001b[0m \u001b[38;5;66;03m# We are explicitly making element iterators.\u001b[39;00m\n\u001b[0;32m--> 755\u001b[0m \u001b[38;5;28;01mif\u001b[39;00m \u001b[38;5;129;01mnot\u001b[39;00m \u001b[38;5;28misinstance\u001b[39m(\u001b[38;5;28;43mself\u001b[39;49m\u001b[38;5;241;43m.\u001b[39;49m\u001b[43m_values\u001b[49m, np\u001b[38;5;241m.\u001b[39mndarray):\n\u001b[1;32m    756\u001b[0m     \u001b[38;5;66;03m# Check type instead of dtype to catch DTA/TDA\u001b[39;00m\n\u001b[1;32m    757\u001b[0m     \u001b[38;5;28;01mreturn\u001b[39;00m \u001b[38;5;28miter\u001b[39m(\u001b[38;5;28mself\u001b[39m\u001b[38;5;241m.\u001b[39m_values)\n\u001b[1;32m    758\u001b[0m \u001b[38;5;28;01melse\u001b[39;00m:\n",
      "File \u001b[0;32m/mmfs1/gscratch/stergachislab/mwperez/miniconda3/envs/fiberseq-smk/lib/python3.9/site-packages/pandas/core/series.py:740\u001b[0m, in \u001b[0;36mSeries._values\u001b[0;34m(self)\u001b[0m\n\u001b[1;32m    708\u001b[0m \u001b[38;5;129m@property\u001b[39m\n\u001b[1;32m    709\u001b[0m \u001b[38;5;28;01mdef\u001b[39;00m \u001b[38;5;21m_values\u001b[39m(\u001b[38;5;28mself\u001b[39m):\n\u001b[1;32m    710\u001b[0m \u001b[38;5;250m    \u001b[39m\u001b[38;5;124;03m\"\"\"\u001b[39;00m\n\u001b[1;32m    711\u001b[0m \u001b[38;5;124;03m    Return the internal repr of this data (defined by Block.interval_values).\u001b[39;00m\n\u001b[1;32m    712\u001b[0m \u001b[38;5;124;03m    This are the values as stored in the Block (ndarray or ExtensionArray\u001b[39;00m\n\u001b[0;32m   (...)\u001b[0m\n\u001b[1;32m    738\u001b[0m \n\u001b[1;32m    739\u001b[0m \u001b[38;5;124;03m    \"\"\"\u001b[39;00m\n\u001b[0;32m--> 740\u001b[0m     \u001b[38;5;28;01mreturn\u001b[39;00m \u001b[38;5;28;43mself\u001b[39;49m\u001b[38;5;241;43m.\u001b[39;49m\u001b[43m_mgr\u001b[49m\u001b[38;5;241m.\u001b[39minternal_values()\n",
      "\u001b[0;31mKeyboardInterrupt\u001b[0m: "
     ]
    }
   ],
   "source": [
    "# filter for rows with motifs within an MSP (gets both MSP's & m6a's)\n",
    "df = df[df[[\"motif_name\", \"query_name\"]].apply(tuple, 1).isin(msp_groups)]\n",
    "print(\"Total observations from motifs within an MSP: \" + \"{:,}\".format(df.shape[0]))"
   ]
  },
  {
   "cell_type": "code",
   "execution_count": null,
   "id": "45204fb0",
   "metadata": {},
   "outputs": [],
   "source": []
  },
  {
   "cell_type": "code",
   "execution_count": null,
   "id": "836c31ae",
   "metadata": {},
   "outputs": [],
   "source": []
  },
  {
   "cell_type": "code",
   "execution_count": 290,
   "id": "83f2e086",
   "metadata": {},
   "outputs": [
    {
     "name": "stdout",
     "output_type": "stream",
     "text": [
      "MSP's with a motif: 326,847\n",
      "Total observations from motifs within an MSP: 8,240,741\n",
      "Merged df shape w/ msp_size: 8,242,521\n",
      "Total m6a observations: 7,904,467\n"
     ]
    }
   ],
   "source": [
    "# filter for regions within an MSP, MSP size per motif_query, remove MSP size\n",
    "df = filt_msps(df)\n",
    "df = df[df[\"centered_position_type\"] == \"m6a\"]\n",
    "print(\"Total m6a observations: \" + \"{:,}\".format(df.shape[0]))"
   ]
  },
  {
   "cell_type": "code",
   "execution_count": 293,
   "id": "52e1a72b",
   "metadata": {},
   "outputs": [
    {
     "data": {
      "text/plain": [
       "2.2634015660957028"
      ]
     },
     "execution_count": 293,
     "metadata": {},
     "output_type": "execute_result"
    }
   ],
   "source": [
    "(32102125-31375525) / 32102125 * 100"
   ]
  },
  {
   "cell_type": "code",
   "execution_count": 291,
   "id": "9cc50958",
   "metadata": {},
   "outputs": [
    {
     "name": "stdout",
     "output_type": "stream",
     "text": [
      "Saving to cleaned m6a fiberseq data to: /mmfs1/gscratch/stergachislab/mwperez/ctcf-footprinting/candidate_footprints/CTCF_m6a_fiberseq_L_100bp_small_5_negative-cleaned.txt\n"
     ]
    }
   ],
   "source": [
    "# save filtered m6a fiberseq data (within 100bp)\n",
    "save_cleaned=True\n",
    "if save_cleaned:\n",
    "    output_file = data_file.replace(\".txt\", \"-cleaned.txt\")\n",
    "    print(\"Saving to cleaned m6a fiberseq data to: {}\".format(output_file))\n",
    "    df.to_csv(output_file, header=True, index=None, sep=\"\\t\",)"
   ]
  },
  {
   "cell_type": "code",
   "execution_count": 607,
   "id": "e3053da3",
   "metadata": {},
   "outputs": [
    {
     "name": "stdout",
     "output_type": "stream",
     "text": [
      "Total m6a's within 40 bp flank of motif: 6,730,171\n"
     ]
    }
   ],
   "source": [
    "# filter for m6a's within 40 bp range\n",
    "m6a_range_mask = (df[\"centered_start\"] >= -40) & (df[\"centered_end\"] <= 75)\n",
    "print(\"Total m6a's within 40 bp flank of motif: \" + \"{:,}\".format(m6a_range_mask.sum()))\n",
    "df = df[m6a_range_mask]"
   ]
  },
  {
   "cell_type": "code",
   "execution_count": 609,
   "id": "7fefffb4",
   "metadata": {},
   "outputs": [
    {
     "data": {
      "text/html": [
       "<div>\n",
       "<style scoped>\n",
       "    .dataframe tbody tr th:only-of-type {\n",
       "        vertical-align: middle;\n",
       "    }\n",
       "\n",
       "    .dataframe tbody tr th {\n",
       "        vertical-align: top;\n",
       "    }\n",
       "\n",
       "    .dataframe thead th {\n",
       "        text-align: right;\n",
       "    }\n",
       "</style>\n",
       "<table border=\"1\" class=\"dataframe\">\n",
       "  <thead>\n",
       "    <tr style=\"text-align: right;\">\n",
       "      <th></th>\n",
       "      <th>motif_query</th>\n",
       "      <th>motif_name</th>\n",
       "      <th>chrom</th>\n",
       "      <th>centering_position</th>\n",
       "      <th>strand</th>\n",
       "      <th>subset_sequence</th>\n",
       "      <th>reference_start</th>\n",
       "      <th>reference_end</th>\n",
       "      <th>query_name</th>\n",
       "      <th>centered_query_start</th>\n",
       "      <th>centered_query_end</th>\n",
       "      <th>query_length</th>\n",
       "      <th>centered_position_type</th>\n",
       "      <th>centered_start</th>\n",
       "      <th>centered_end</th>\n",
       "      <th>msp_size</th>\n",
       "    </tr>\n",
       "  </thead>\n",
       "  <tbody>\n",
       "    <tr>\n",
       "      <th>12</th>\n",
       "      <td>chr1_11256_-/m54329U_210814_130637/153159059/ccs</td>\n",
       "      <td>chr1_11256_-</td>\n",
       "      <td>chr1</td>\n",
       "      <td>11256</td>\n",
       "      <td>-</td>\n",
       "      <td>TGCCAGCAGGCGGCGTGCCACCACTATACAGTAAGCAAGAGGGCCC...</td>\n",
       "      <td>10000</td>\n",
       "      <td>40236</td>\n",
       "      <td>m54329U_210814_130637/153159059/ccs</td>\n",
       "      <td>-4179</td>\n",
       "      <td>28937</td>\n",
       "      <td>33116</td>\n",
       "      <td>m6a</td>\n",
       "      <td>-20</td>\n",
       "      <td>-19</td>\n",
       "      <td>346</td>\n",
       "    </tr>\n",
       "  </tbody>\n",
       "</table>\n",
       "</div>"
      ],
      "text/plain": [
       "                                         motif_query    motif_name chrom  \\\n",
       "12  chr1_11256_-/m54329U_210814_130637/153159059/ccs  chr1_11256_-  chr1   \n",
       "\n",
       "    centering_position strand  \\\n",
       "12               11256      -   \n",
       "\n",
       "                                      subset_sequence  reference_start  \\\n",
       "12  TGCCAGCAGGCGGCGTGCCACCACTATACAGTAAGCAAGAGGGCCC...            10000   \n",
       "\n",
       "    reference_end                           query_name  centered_query_start  \\\n",
       "12          40236  m54329U_210814_130637/153159059/ccs                 -4179   \n",
       "\n",
       "    centered_query_end  query_length centered_position_type  centered_start  \\\n",
       "12               28937         33116                    m6a             -20   \n",
       "\n",
       "    centered_end  msp_size  \n",
       "12           -19       346  "
      ]
     },
     "execution_count": 609,
     "metadata": {},
     "output_type": "execute_result"
    }
   ],
   "source": [
    "df.head(1)"
   ]
  },
  {
   "cell_type": "code",
   "execution_count": 611,
   "id": "1eb46646",
   "metadata": {},
   "outputs": [
    {
     "name": "stdout",
     "output_type": "stream",
     "text": [
      "Unique motif-fiber-start-end groups: 327,004\n"
     ]
    }
   ],
   "source": [
    "# group by motif/query name AND centered_query_start & centered_query_end \n",
    "# (same read aligning twice, multiple repeats in a row double counting m6A instances but NOT sequences)\n",
    "grouping_cols = [\"motif_name\", \"query_name\", \"centered_query_start\", \"centered_query_end\"]\n",
    "df_grouped = df.groupby(grouping_cols)\n",
    "# get group names (keys)\n",
    "group_names = list(df_grouped.groups.keys())\n",
    "print(\"Unique motif-fiber-start-end groups: \" + \"{:,}\".format(len(group_names)))"
   ]
  },
  {
   "cell_type": "code",
   "execution_count": 612,
   "id": "1d180d5e",
   "metadata": {},
   "outputs": [
    {
     "name": "stdout",
     "output_type": "stream",
     "text": [
      "Unique motif-fiber groups: 326,788\n"
     ]
    }
   ],
   "source": [
    "# group by motif/query name AND centered_query_start & centered_query_end \n",
    "# (same read aligning twice, multiple repeats in a row double counting m6A instances but NOT sequences)\n",
    "grouping_cols = [\"motif_name\", \"query_name\"]\n",
    "df_grouped = df.groupby(grouping_cols)\n",
    "# get group names (keys)\n",
    "group_names = list(df_grouped.groups.keys())\n",
    "print(\"Unique motif-fiber groups: \" + \"{:,}\".format(len(group_names)))"
   ]
  },
  {
   "cell_type": "code",
   "execution_count": 348,
   "id": "61274fc2",
   "metadata": {},
   "outputs": [
    {
     "data": {
      "text/plain": [
       "0.013146389634530369"
      ]
     },
     "execution_count": 348,
     "metadata": {},
     "output_type": "execute_result"
    }
   ],
   "source": [
    "43/327086*100"
   ]
  },
  {
   "cell_type": "code",
   "execution_count": null,
   "id": "5140c4d8",
   "metadata": {},
   "outputs": [],
   "source": [
    "def rle(inarray):\n",
    "    ''' run length encoding. Partial credit to R rle function. \n",
    "        Multi datatype arrays catered for including non Numpy\n",
    "        returns: tuple (runlengths, startpositions, values) \n",
    "        input: array\n",
    "        output: tuple of (run_lengths, start_positions, values)'''\n",
    "    ia = np.asarray(inarray)                # force numpy\n",
    "    n = len(ia)\n",
    "    if n == 0: \n",
    "        return (None, None, None)\n",
    "    else:\n",
    "        y = ia[1:] != ia[:-1]               # pairwise unequal (string safe)\n",
    "        i = np.append(np.where(y), n - 1)   # must include last element position\n",
    "        z = np.diff(np.append(-1, i))       # run lengths\n",
    "        p = np.cumsum(np.append(0, z))[:-1] # positions\n",
    "        return(z, p, ia[i])"
   ]
  },
  {
   "cell_type": "code",
   "execution_count": 615,
   "id": "6be04e9d",
   "metadata": {},
   "outputs": [],
   "source": [
    "def agg_features(x):\n",
    "    '''Collect motif features per group.'''\n",
    "    d = defaultdict()\n",
    "        \n",
    "    # msp size\n",
    "    d[\"msp_size\"] = x[\"msp_size\"].unique()[0]\n",
    "    \n",
    "    # get sequences (left, right, motif)\n",
    "    center = 100\n",
    "    motif_len = 35\n",
    "    flank = 40\n",
    "    subseq = x[\"subset_sequence\"].unique()[0]\n",
    "    subseq_motif = subseq[center:(center+motif_len)]\n",
    "    subseq_l = subseq[(center-flank):center]\n",
    "    subseq_r = subseq[(center+motif_len):(center+motif_len+flank)]\n",
    "    \n",
    "    # AT count (left, right, motif)\n",
    "    d[\"left_AT_count\"] = (subseq_l.count(\"A\") + subseq_l.count(\"T\"))\n",
    "    d[\"right_AT_count\"] = (subseq_r.count(\"A\") + subseq_r.count(\"T\"))\n",
    "    d[\"motif_AT_count\"] = (subseq_motif.count(\"A\") + subseq_motif.count(\"T\"))\n",
    "    \n",
    "    # proportion of bases that are AT\n",
    "    d[\"left_AT_prop\"] = weird_division(d[\"left_AT_count\"], flank)\n",
    "    d[\"right_AT_prop\"] = weird_division(d[\"right_AT_count\"], flank)\n",
    "    d[\"motif_AT_prop\"] = weird_division(d[\"motif_AT_count\"], motif_len)\n",
    "    \n",
    "    # m6a instances\n",
    "    d[\"left_m6a_count\"] = (x[\"centered_start\"] < 0).sum()\n",
    "    d[\"right_m6a_count\"] = (x[\"centered_start\"] >= 35).sum()\n",
    "    d[\"motif_m6a_count\"] = ((x[\"centered_start\"] >= 0) & (x[\"centered_start\"] < 35)).sum()\n",
    "    \n",
    "    # proportion of ATs that are methylated (m6a_count/AT_count) return 0 if no ATs\n",
    "    d[\"left_m6a_prop\"] = weird_division(d[\"left_m6a_count\"], d[\"left_AT_count\"])\n",
    "    d[\"right_m6a_prop\"] = weird_division(d[\"right_m6a_count\"], d[\"right_AT_count\"])\n",
    "    d[\"motif_m6a_prop\"] = weird_division(d[\"motif_m6a_count\"], d[\"motif_AT_count\"])\n",
    "    \n",
    "    # sanity check proportions\n",
    "    for i in [\"left\", \"right\", \"motif\"]:\n",
    "        if (d[f\"{i}_AT_prop\"] > 1) or (d[f\"{i}_m6a_prop\"] > 1):\n",
    "            print(\"motif: \", x[\"motif_name\"].unique()[0])\n",
    "            print(\"query name: \", x[\"query_name\"].unique()[0])\n",
    "            \n",
    "            print(f\"{i} AT prop: \", d[f\"{i}_AT_prop\"])\n",
    "            print(f\"{i} m6a prop: \", d[f\"{i}_m6a_prop\"])\n",
    "            print(f\"{i} m6a count: \", d[f\"{i}_m6a_count\"])\n",
    "            print(f\"{i} AT count: \", d[f\"{i}_AT_count\"])\n",
    "            logging.error(\"AT or m6a proportion > 1.\")\n",
    "            print(\"----------\")\n",
    "    \n",
    "    # ----- kmers -----\n",
    "    # m6a instances in motif\n",
    "    m6a_bool = x[(x[\"centered_start\"] >= 0) & (x[\"centered_end\"] <= 35)][\"centered_start\"].values\n",
    "    m6a_bool = [1 if (i in m6a_bool) else 0 for i in range(0, 35)]\n",
    "    # convert m6a bool to numpy array\n",
    "    m6a_bool = np.array(m6a_bool)\n",
    "    # get counts & m6a prop per k-mer\n",
    "    kmer_counts = kmer_features(subseq_motif, m6a_bool, kmer_size=3, use_canonical=True)\n",
    "    \n",
    "    # ----- rle -----\n",
    "    # make np array for sequence\n",
    "    np_subseq_motif = np.frombuffer(bytes(subseq_motif, \"utf-8\"), dtype=\"S1\")\n",
    "    # make AT mask\n",
    "    AT_bases = (np_subseq_motif == b\"A\" ) | (np_subseq_motif == b\"T\")\n",
    "    if not any(AT_bases):\n",
    "        d[\"rle_max\"] = 0\n",
    "    else:\n",
    "        # get run lengths using the AT base space\n",
    "        run_lengths, run_starts, run_values = rle(m6a_bool[AT_bases])\n",
    "        if run_lengths is None:\n",
    "            print(AT_bases)\n",
    "            print(m6a_bool)\n",
    "            print(subseq_motif)\n",
    "        # subset the run lengths that encode zeros (non-m6a):\n",
    "        non_m6a_run_lengths = run_lengths[run_values == 0]\n",
    "        d[\"rle_max\"] = max(non_m6a_run_lengths) if non_m6a_run_lengths.size else 0\n",
    "    \n",
    "    d = d | kmer_counts\n",
    "    \n",
    "    return pd.Series(d, index=list(d.keys()))"
   ]
  },
  {
   "cell_type": "code",
   "execution_count": 616,
   "id": "882aa482",
   "metadata": {},
   "outputs": [
    {
     "name": "stdout",
     "output_type": "stream",
     "text": [
      "\n",
      "Aggregating features!\n"
     ]
    },
    {
     "name": "stderr",
     "output_type": "stream",
     "text": [
      "ERROR:root:AT or m6a proportion > 1.\n",
      "ERROR:root:AT or m6a proportion > 1.\n"
     ]
    },
    {
     "name": "stdout",
     "output_type": "stream",
     "text": [
      "motif:  chr10_100406861_+\n",
      "query name:  m64076_210328_012155/70257353/ccs\n",
      "left AT prop:  0.325\n",
      "left m6a prop:  1.0769230769230769\n",
      "left m6a count:  14\n",
      "left AT count:  13\n",
      "----------\n",
      "motif:  chr10_100731612_-\n",
      "query name:  m54329U_210326_192251/177734943/ccs\n",
      "motif AT prop:  0.2571428571428571\n",
      "motif m6a prop:  1.1111111111111112\n",
      "motif m6a count:  10\n",
      "motif AT count:  9\n",
      "----------\n"
     ]
    },
    {
     "name": "stderr",
     "output_type": "stream",
     "text": [
      "ERROR:root:AT or m6a proportion > 1.\n"
     ]
    },
    {
     "name": "stdout",
     "output_type": "stream",
     "text": [
      "motif:  chr10_102120181_-\n",
      "query name:  m64076_210328_012155/9241295/ccs\n",
      "left AT prop:  0.075\n",
      "left m6a prop:  1.3333333333333333\n",
      "left m6a count:  4\n",
      "left AT count:  3\n",
      "----------\n"
     ]
    },
    {
     "name": "stderr",
     "output_type": "stream",
     "text": [
      "ERROR:root:AT or m6a proportion > 1.\n"
     ]
    },
    {
     "name": "stdout",
     "output_type": "stream",
     "text": [
      "motif:  chr10_110872633_+\n",
      "query name:  m54329U_210326_192251/168627002/ccs\n",
      "left AT prop:  0.2\n",
      "left m6a prop:  1.125\n",
      "left m6a count:  9\n",
      "left AT count:  8\n",
      "----------\n"
     ]
    },
    {
     "name": "stderr",
     "output_type": "stream",
     "text": [
      "ERROR:root:AT or m6a proportion > 1.\n"
     ]
    },
    {
     "name": "stdout",
     "output_type": "stream",
     "text": [
      "motif:  chr10_13079803_+\n",
      "query name:  m64076_221119_202646/81200193/ccs\n",
      "motif AT prop:  0.3142857142857143\n",
      "motif m6a prop:  1.0909090909090908\n",
      "motif m6a count:  12\n",
      "motif AT count:  11\n",
      "----------\n"
     ]
    },
    {
     "name": "stderr",
     "output_type": "stream",
     "text": [
      "ERROR:root:AT or m6a proportion > 1.\n"
     ]
    },
    {
     "name": "stdout",
     "output_type": "stream",
     "text": [
      "motif:  chr10_133254411_+\n",
      "query name:  m54329U_210326_192251/49810245/ccs\n",
      "left AT prop:  0.275\n",
      "left m6a prop:  1.0909090909090908\n",
      "left m6a count:  12\n",
      "left AT count:  11\n",
      "----------\n"
     ]
    },
    {
     "name": "stderr",
     "output_type": "stream",
     "text": [
      "ERROR:root:AT or m6a proportion > 1.\n"
     ]
    },
    {
     "name": "stdout",
     "output_type": "stream",
     "text": [
      "motif:  chr10_133687887_-\n",
      "query name:  m54329U_210813_020940/85984192/ccs\n",
      "motif AT prop:  0.6\n",
      "motif m6a prop:  1.1428571428571428\n",
      "motif m6a count:  24\n",
      "motif AT count:  21\n",
      "----------\n"
     ]
    },
    {
     "name": "stderr",
     "output_type": "stream",
     "text": [
      "ERROR:root:AT or m6a proportion > 1.\n"
     ]
    },
    {
     "name": "stdout",
     "output_type": "stream",
     "text": [
      "motif:  chr10_43997336_+\n",
      "query name:  m64076_210328_012155/114559788/ccs\n",
      "left AT prop:  0.375\n",
      "left m6a prop:  1.0666666666666667\n",
      "left m6a count:  16\n",
      "left AT count:  15\n",
      "----------\n"
     ]
    },
    {
     "name": "stderr",
     "output_type": "stream",
     "text": [
      "ERROR:root:AT or m6a proportion > 1.\n"
     ]
    },
    {
     "name": "stdout",
     "output_type": "stream",
     "text": [
      "motif:  chr10_70733937_+\n",
      "query name:  m54329U_210323_190418/115935131/ccs\n",
      "motif AT prop:  0.2571428571428571\n",
      "motif m6a prop:  1.1111111111111112\n",
      "motif m6a count:  10\n",
      "motif AT count:  9\n",
      "----------\n"
     ]
    },
    {
     "name": "stderr",
     "output_type": "stream",
     "text": [
      "ERROR:root:AT or m6a proportion > 1.\n"
     ]
    },
    {
     "name": "stdout",
     "output_type": "stream",
     "text": [
      "motif:  chr10_79178957_-\n",
      "query name:  m64076_210328_012155/161941056/ccs\n",
      "motif AT prop:  0.2571428571428571\n",
      "motif m6a prop:  1.1111111111111112\n",
      "motif m6a count:  10\n",
      "motif AT count:  9\n",
      "----------\n"
     ]
    },
    {
     "name": "stderr",
     "output_type": "stream",
     "text": [
      "ERROR:root:AT or m6a proportion > 1.\n"
     ]
    },
    {
     "name": "stdout",
     "output_type": "stream",
     "text": [
      "motif:  chr10_85984480_+\n",
      "query name:  m54329U_210323_190418/168166993/ccs\n",
      "left AT prop:  0.3\n",
      "left m6a prop:  1.0833333333333333\n",
      "left m6a count:  13\n",
      "left AT count:  12\n",
      "----------\n"
     ]
    },
    {
     "name": "stderr",
     "output_type": "stream",
     "text": [
      "ERROR:root:AT or m6a proportion > 1.\n"
     ]
    },
    {
     "name": "stdout",
     "output_type": "stream",
     "text": [
      "motif:  chr10_87364339_-\n",
      "query name:  m54329U_210813_020940/138740812/ccs\n",
      "left AT prop:  0.3\n",
      "left m6a prop:  1.0833333333333333\n",
      "left m6a count:  13\n",
      "left AT count:  12\n",
      "----------\n"
     ]
    },
    {
     "name": "stderr",
     "output_type": "stream",
     "text": [
      "ERROR:root:AT or m6a proportion > 1.\n"
     ]
    },
    {
     "name": "stdout",
     "output_type": "stream",
     "text": [
      "motif:  chr10_92226945_-\n",
      "query name:  m64076_210328_012155/107282447/ccs\n",
      "motif AT prop:  0.2857142857142857\n",
      "motif m6a prop:  1.1\n",
      "motif m6a count:  11\n",
      "motif AT count:  10\n",
      "----------\n"
     ]
    },
    {
     "name": "stderr",
     "output_type": "stream",
     "text": [
      "ERROR:root:AT or m6a proportion > 1.\n"
     ]
    },
    {
     "name": "stdout",
     "output_type": "stream",
     "text": [
      "motif:  chr11_104334163_+\n",
      "query name:  m54329U_210326_192251/43190840/ccs\n",
      "motif AT prop:  0.3142857142857143\n",
      "motif m6a prop:  1.0909090909090908\n",
      "motif m6a count:  12\n",
      "motif AT count:  11\n",
      "----------\n"
     ]
    },
    {
     "name": "stderr",
     "output_type": "stream",
     "text": [
      "ERROR:root:AT or m6a proportion > 1.\n"
     ]
    },
    {
     "name": "stdout",
     "output_type": "stream",
     "text": [
      "motif:  chr11_117663558_+\n",
      "query name:  m54329U_210323_190418/36635686/ccs\n",
      "left AT prop:  0.4\n",
      "left m6a prop:  1.0625\n",
      "left m6a count:  17\n",
      "left AT count:  16\n",
      "----------\n"
     ]
    },
    {
     "name": "stderr",
     "output_type": "stream",
     "text": [
      "ERROR:root:AT or m6a proportion > 1.\n"
     ]
    },
    {
     "name": "stdout",
     "output_type": "stream",
     "text": [
      "motif:  chr11_1442205_+\n",
      "query name:  m64076_210328_012155/157616431/ccs\n",
      "motif AT prop:  0.3142857142857143\n",
      "motif m6a prop:  1.0909090909090908\n",
      "motif m6a count:  12\n",
      "motif AT count:  11\n",
      "----------\n"
     ]
    },
    {
     "name": "stderr",
     "output_type": "stream",
     "text": [
      "ERROR:root:AT or m6a proportion > 1.\n"
     ]
    },
    {
     "name": "stdout",
     "output_type": "stream",
     "text": [
      "motif:  chr11_1749020_-\n",
      "query name:  m54329U_210323_190418/68552641/ccs\n",
      "left AT prop:  0.2\n",
      "left m6a prop:  1.125\n",
      "left m6a count:  9\n",
      "left AT count:  8\n",
      "----------\n"
     ]
    },
    {
     "name": "stderr",
     "output_type": "stream",
     "text": [
      "ERROR:root:AT or m6a proportion > 1.\n"
     ]
    },
    {
     "name": "stdout",
     "output_type": "stream",
     "text": [
      "motif:  chr11_2363736_+\n",
      "query name:  m64076_210328_012155/177473142/ccs\n",
      "left AT prop:  0.525\n",
      "left m6a prop:  1.0476190476190477\n",
      "left m6a count:  22\n",
      "left AT count:  21\n",
      "----------\n"
     ]
    },
    {
     "name": "stderr",
     "output_type": "stream",
     "text": [
      "ERROR:root:AT or m6a proportion > 1.\n"
     ]
    },
    {
     "name": "stdout",
     "output_type": "stream",
     "text": [
      "motif:  chr11_33891960_-\n",
      "query name:  m54329U_210326_192251/5835121/ccs\n",
      "motif AT prop:  0.37142857142857144\n",
      "motif m6a prop:  1.0769230769230769\n",
      "motif m6a count:  14\n",
      "motif AT count:  13\n",
      "----------\n"
     ]
    },
    {
     "name": "stderr",
     "output_type": "stream",
     "text": [
      "ERROR:root:AT or m6a proportion > 1.\n"
     ]
    },
    {
     "name": "stdout",
     "output_type": "stream",
     "text": [
      "motif:  chr11_47408602_+\n",
      "query name:  m64076_210328_012155/147916933/ccs\n",
      "left AT prop:  0.075\n",
      "left m6a prop:  1.3333333333333333\n",
      "left m6a count:  4\n",
      "left AT count:  3\n",
      "----------\n"
     ]
    },
    {
     "name": "stderr",
     "output_type": "stream",
     "text": [
      "ERROR:root:AT or m6a proportion > 1.\n"
     ]
    },
    {
     "name": "stdout",
     "output_type": "stream",
     "text": [
      "motif:  chr11_65646090_+\n",
      "query name:  m54329U_210323_190418/1836458/ccs\n",
      "left AT prop:  0.275\n",
      "left m6a prop:  1.0909090909090908\n",
      "left m6a count:  12\n",
      "left AT count:  11\n",
      "----------\n"
     ]
    },
    {
     "name": "stderr",
     "output_type": "stream",
     "text": [
      "ERROR:root:AT or m6a proportion > 1.\n"
     ]
    },
    {
     "name": "stdout",
     "output_type": "stream",
     "text": [
      "motif:  chr11_68212936_-\n",
      "query name:  m64076_210328_012155/103351989/ccs\n",
      "left AT prop:  0.05\n",
      "left m6a prop:  1.5\n",
      "left m6a count:  3\n",
      "left AT count:  2\n",
      "----------\n"
     ]
    },
    {
     "name": "stderr",
     "output_type": "stream",
     "text": [
      "ERROR:root:AT or m6a proportion > 1.\n",
      "ERROR:root:AT or m6a proportion > 1.\n",
      "ERROR:root:AT or m6a proportion > 1.\n"
     ]
    },
    {
     "name": "stdout",
     "output_type": "stream",
     "text": [
      "motif:  chr11_94236878_-\n",
      "query name:  m54329U_210326_192251/81985824/ccs\n",
      "left AT prop:  0.525\n",
      "left m6a prop:  1.2380952380952381\n",
      "left m6a count:  26\n",
      "left AT count:  21\n",
      "----------\n",
      "motif:  chr11_94236878_-\n",
      "query name:  m54329U_210326_192251/81985824/ccs\n",
      "motif AT prop:  0.45714285714285713\n",
      "motif m6a prop:  1.0625\n",
      "motif m6a count:  17\n",
      "motif AT count:  16\n",
      "----------\n",
      "motif:  chr11_94236878_-\n",
      "query name:  m54329U_210813_020940/138741413/ccs\n",
      "motif AT prop:  0.45714285714285713\n",
      "motif m6a prop:  1.25\n",
      "motif m6a count:  20\n",
      "motif AT count:  16\n",
      "----------\n"
     ]
    },
    {
     "name": "stderr",
     "output_type": "stream",
     "text": [
      "ERROR:root:AT or m6a proportion > 1.\n"
     ]
    },
    {
     "name": "stdout",
     "output_type": "stream",
     "text": [
      "motif:  chr12_102065857_-\n",
      "query name:  m54329U_210326_192251/79235165/ccs\n",
      "motif AT prop:  0.34285714285714286\n",
      "motif m6a prop:  1.0833333333333333\n",
      "motif m6a count:  13\n",
      "motif AT count:  12\n",
      "----------\n"
     ]
    },
    {
     "name": "stderr",
     "output_type": "stream",
     "text": [
      "ERROR:root:AT or m6a proportion > 1.\n"
     ]
    },
    {
     "name": "stdout",
     "output_type": "stream",
     "text": [
      "motif:  chr12_106986938_-\n",
      "query name:  m64076_210328_012155/75367454/ccs\n",
      "left AT prop:  0.25\n",
      "left m6a prop:  1.1\n",
      "left m6a count:  11\n",
      "left AT count:  10\n",
      "----------\n"
     ]
    },
    {
     "name": "stderr",
     "output_type": "stream",
     "text": [
      "ERROR:root:AT or m6a proportion > 1.\n"
     ]
    },
    {
     "name": "stdout",
     "output_type": "stream",
     "text": [
      "motif:  chr12_132216453_-\n",
      "query name:  m64076_210328_012155/58264169/ccs\n",
      "left AT prop:  0.25\n",
      "left m6a prop:  1.1\n",
      "left m6a count:  11\n",
      "left AT count:  10\n",
      "----------\n"
     ]
    },
    {
     "name": "stderr",
     "output_type": "stream",
     "text": [
      "ERROR:root:AT or m6a proportion > 1.\n"
     ]
    },
    {
     "name": "stdout",
     "output_type": "stream",
     "text": [
      "motif:  chr12_132717712_+\n",
      "query name:  m54329U_210326_192251/112330806/ccs\n",
      "left AT prop:  0.325\n",
      "left m6a prop:  1.0769230769230769\n",
      "left m6a count:  14\n",
      "left AT count:  13\n",
      "----------\n"
     ]
    },
    {
     "name": "stderr",
     "output_type": "stream",
     "text": [
      "ERROR:root:AT or m6a proportion > 1.\n"
     ]
    },
    {
     "name": "stdout",
     "output_type": "stream",
     "text": [
      "motif:  chr12_48180872_-\n",
      "query name:  m64076_210328_012155/124388517/ccs\n",
      "left AT prop:  0.425\n",
      "left m6a prop:  1.0588235294117647\n",
      "left m6a count:  18\n",
      "left AT count:  17\n",
      "----------\n"
     ]
    },
    {
     "name": "stderr",
     "output_type": "stream",
     "text": [
      "ERROR:root:AT or m6a proportion > 1.\n"
     ]
    },
    {
     "name": "stdout",
     "output_type": "stream",
     "text": [
      "motif:  chr13_27620350_-\n",
      "query name:  m64076_210328_012155/126026758/ccs\n",
      "motif AT prop:  0.2\n",
      "motif m6a prop:  1.1428571428571428\n",
      "motif m6a count:  8\n",
      "motif AT count:  7\n",
      "----------\n"
     ]
    },
    {
     "name": "stderr",
     "output_type": "stream",
     "text": [
      "ERROR:root:AT or m6a proportion > 1.\n"
     ]
    },
    {
     "name": "stdout",
     "output_type": "stream",
     "text": [
      "motif:  chr13_50753488_+\n",
      "query name:  m54329U_210814_130637/7734060/ccs\n",
      "motif AT prop:  0.2857142857142857\n",
      "motif m6a prop:  1.1\n",
      "motif m6a count:  11\n",
      "motif AT count:  10\n",
      "----------\n"
     ]
    },
    {
     "name": "stderr",
     "output_type": "stream",
     "text": [
      "ERROR:root:AT or m6a proportion > 1.\n"
     ]
    },
    {
     "name": "stdout",
     "output_type": "stream",
     "text": [
      "motif:  chr13_95475501_+\n",
      "query name:  m54329U_210323_190418/162728460/ccs\n",
      "motif AT prop:  0.37142857142857144\n",
      "motif m6a prop:  1.0769230769230769\n",
      "motif m6a count:  14\n",
      "motif AT count:  13\n",
      "----------\n"
     ]
    },
    {
     "name": "stderr",
     "output_type": "stream",
     "text": [
      "ERROR:root:AT or m6a proportion > 1.\n",
      "ERROR:root:AT or m6a proportion > 1.\n",
      "ERROR:root:AT or m6a proportion > 1.\n"
     ]
    },
    {
     "name": "stdout",
     "output_type": "stream",
     "text": [
      "motif:  chr14_104742570_-\n",
      "query name:  m64076_210328_012155/103548505/ccs\n",
      "left AT prop:  0.35\n",
      "left m6a prop:  1.0714285714285714\n",
      "left m6a count:  15\n",
      "left AT count:  14\n",
      "----------\n",
      "motif:  chr14_104795359_-\n",
      "query name:  m64076_221119_202646/75891342/ccs\n",
      "left AT prop:  0.2\n",
      "left m6a prop:  1.125\n",
      "left m6a count:  9\n",
      "left AT count:  8\n",
      "----------\n",
      "motif:  chr14_105051091_+\n",
      "query name:  m64076_210328_012155/4522599/ccs\n",
      "motif AT prop:  0.34285714285714286\n",
      "motif m6a prop:  1.0833333333333333\n",
      "motif m6a count:  13\n",
      "motif AT count:  12\n",
      "----------\n"
     ]
    },
    {
     "name": "stderr",
     "output_type": "stream",
     "text": [
      "ERROR:root:AT or m6a proportion > 1.\n"
     ]
    },
    {
     "name": "stdout",
     "output_type": "stream",
     "text": [
      "motif:  chr14_105592850_+\n",
      "query name:  m64076_221119_202646/61604864/ccs\n",
      "motif AT prop:  0.22857142857142856\n",
      "motif m6a prop:  1.125\n",
      "motif m6a count:  9\n",
      "motif AT count:  8\n",
      "----------\n"
     ]
    },
    {
     "name": "stderr",
     "output_type": "stream",
     "text": [
      "ERROR:root:AT or m6a proportion > 1.\n"
     ]
    },
    {
     "name": "stdout",
     "output_type": "stream",
     "text": [
      "motif:  chr14_19301004_+\n",
      "query name:  m54329U_210814_130637/154207579/ccs\n",
      "left AT prop:  0.275\n",
      "left m6a prop:  1.0909090909090908\n",
      "left m6a count:  12\n",
      "left AT count:  11\n",
      "----------\n"
     ]
    },
    {
     "name": "stderr",
     "output_type": "stream",
     "text": [
      "ERROR:root:AT or m6a proportion > 1.\n"
     ]
    },
    {
     "name": "stdout",
     "output_type": "stream",
     "text": [
      "motif:  chr14_70724413_-\n",
      "query name:  m64076_210328_012155/28967336/ccs\n",
      "motif AT prop:  0.37142857142857144\n",
      "motif m6a prop:  1.0769230769230769\n",
      "motif m6a count:  14\n",
      "motif AT count:  13\n",
      "----------\n"
     ]
    },
    {
     "name": "stderr",
     "output_type": "stream",
     "text": [
      "ERROR:root:AT or m6a proportion > 1.\n"
     ]
    },
    {
     "name": "stdout",
     "output_type": "stream",
     "text": [
      "motif:  chr14_77867411_-\n",
      "query name:  m54329U_210323_190418/95486685/ccs\n",
      "motif AT prop:  0.34285714285714286\n",
      "motif m6a prop:  1.0833333333333333\n",
      "motif m6a count:  13\n",
      "motif AT count:  12\n",
      "----------\n"
     ]
    },
    {
     "name": "stderr",
     "output_type": "stream",
     "text": [
      "ERROR:root:AT or m6a proportion > 1.\n"
     ]
    },
    {
     "name": "stdout",
     "output_type": "stream",
     "text": [
      "motif:  chr14_90533732_-\n",
      "query name:  m54329U_210323_190418/140642483/ccs\n",
      "left AT prop:  0.325\n",
      "left m6a prop:  1.0769230769230769\n",
      "left m6a count:  14\n",
      "left AT count:  13\n",
      "----------\n"
     ]
    },
    {
     "name": "stderr",
     "output_type": "stream",
     "text": [
      "ERROR:root:AT or m6a proportion > 1.\n",
      "ERROR:root:AT or m6a proportion > 1.\n",
      "ERROR:root:AT or m6a proportion > 1.\n"
     ]
    },
    {
     "name": "stdout",
     "output_type": "stream",
     "text": [
      "motif:  chr15_101978246_+\n",
      "query name:  m54329U_210323_190418/166659558/ccs\n",
      "left AT prop:  0.375\n",
      "left m6a prop:  1.3333333333333333\n",
      "left m6a count:  20\n",
      "left AT count:  15\n",
      "----------\n",
      "motif:  chr15_101979530_+\n",
      "query name:  m54329U_210323_190418/166659558/ccs\n",
      "right AT prop:  0.425\n",
      "right m6a prop:  1.1176470588235294\n",
      "right m6a count:  19\n",
      "right AT count:  17\n",
      "----------\n",
      "motif:  chr15_101979592_+\n",
      "query name:  m54329U_210323_190418/166659558/ccs\n",
      "motif AT prop:  0.3142857142857143\n",
      "motif m6a prop:  1.1818181818181819\n",
      "motif m6a count:  13\n",
      "motif AT count:  11\n",
      "----------\n"
     ]
    },
    {
     "name": "stderr",
     "output_type": "stream",
     "text": [
      "ERROR:root:AT or m6a proportion > 1.\n"
     ]
    },
    {
     "name": "stdout",
     "output_type": "stream",
     "text": [
      "motif:  chr15_30222987_+\n",
      "query name:  m54329U_210813_020940/6817985/ccs\n",
      "motif AT prop:  0.11428571428571428\n",
      "motif m6a prop:  1.25\n",
      "motif m6a count:  5\n",
      "motif AT count:  4\n",
      "----------\n"
     ]
    },
    {
     "name": "stderr",
     "output_type": "stream",
     "text": [
      "ERROR:root:AT or m6a proportion > 1.\n"
     ]
    },
    {
     "name": "stdout",
     "output_type": "stream",
     "text": [
      "motif:  chr15_74629104_-\n",
      "query name:  m64076_210328_012155/70126056/ccs\n",
      "motif AT prop:  0.4\n",
      "motif m6a prop:  1.0714285714285714\n",
      "motif m6a count:  15\n",
      "motif AT count:  14\n",
      "----------\n"
     ]
    },
    {
     "name": "stderr",
     "output_type": "stream",
     "text": [
      "ERROR:root:AT or m6a proportion > 1.\n"
     ]
    },
    {
     "name": "stdout",
     "output_type": "stream",
     "text": [
      "motif:  chr15_79896971_-\n",
      "query name:  m64076_221119_202646/70189830/ccs\n",
      "left AT prop:  0.275\n",
      "left m6a prop:  1.0909090909090908\n",
      "left m6a count:  12\n",
      "left AT count:  11\n",
      "----------\n"
     ]
    },
    {
     "name": "stderr",
     "output_type": "stream",
     "text": [
      "ERROR:root:AT or m6a proportion > 1.\n"
     ]
    },
    {
     "name": "stdout",
     "output_type": "stream",
     "text": [
      "motif:  chr15_94231570_+\n",
      "query name:  m64076_210328_012155/106694117/ccs\n",
      "left AT prop:  0.225\n",
      "left m6a prop:  1.1111111111111112\n",
      "left m6a count:  10\n",
      "left AT count:  9\n",
      "----------\n"
     ]
    },
    {
     "name": "stderr",
     "output_type": "stream",
     "text": [
      "ERROR:root:AT or m6a proportion > 1.\n"
     ]
    },
    {
     "name": "stdout",
     "output_type": "stream",
     "text": [
      "motif:  chr16_1242473_+\n",
      "query name:  m54329U_210810_004956/59509081/ccs\n",
      "left AT prop:  0.325\n",
      "left m6a prop:  1.0769230769230769\n",
      "left m6a count:  14\n",
      "left AT count:  13\n",
      "----------\n"
     ]
    },
    {
     "name": "stderr",
     "output_type": "stream",
     "text": [
      "ERROR:root:AT or m6a proportion > 1.\n"
     ]
    },
    {
     "name": "stdout",
     "output_type": "stream",
     "text": [
      "motif:  chr16_19353037_-\n",
      "query name:  m64076_210328_012155/43385891/ccs\n",
      "motif AT prop:  0.3142857142857143\n",
      "motif m6a prop:  1.0909090909090908\n",
      "motif m6a count:  12\n",
      "motif AT count:  11\n",
      "----------\n"
     ]
    },
    {
     "name": "stderr",
     "output_type": "stream",
     "text": [
      "ERROR:root:AT or m6a proportion > 1.\n"
     ]
    },
    {
     "name": "stdout",
     "output_type": "stream",
     "text": [
      "motif:  chr16_2496230_+\n",
      "query name:  m64076_210328_012155/91816850/ccs\n",
      "left AT prop:  0.35\n",
      "left m6a prop:  1.0714285714285714\n",
      "left m6a count:  15\n",
      "left AT count:  14\n",
      "----------\n"
     ]
    },
    {
     "name": "stderr",
     "output_type": "stream",
     "text": [
      "ERROR:root:AT or m6a proportion > 1.\n"
     ]
    },
    {
     "name": "stdout",
     "output_type": "stream",
     "text": [
      "motif:  chr16_2643299_-\n",
      "query name:  m54329U_210323_190418/43714431/ccs\n",
      "left AT prop:  0.375\n",
      "left m6a prop:  1.0666666666666667\n",
      "left m6a count:  16\n",
      "left AT count:  15\n",
      "----------\n"
     ]
    },
    {
     "name": "stderr",
     "output_type": "stream",
     "text": [
      "ERROR:root:AT or m6a proportion > 1.\n"
     ]
    },
    {
     "name": "stdout",
     "output_type": "stream",
     "text": [
      "motif:  chr16_3056932_+\n",
      "query name:  m64076_210328_012155/108200912/ccs\n",
      "left AT prop:  0.275\n",
      "left m6a prop:  1.0909090909090908\n",
      "left m6a count:  12\n",
      "left AT count:  11\n",
      "----------\n"
     ]
    },
    {
     "name": "stderr",
     "output_type": "stream",
     "text": [
      "ERROR:root:AT or m6a proportion > 1.\n"
     ]
    },
    {
     "name": "stdout",
     "output_type": "stream",
     "text": [
      "motif:  chr16_86335621_+\n",
      "query name:  m64076_210328_012155/197793/ccs\n",
      "left AT prop:  0.4\n",
      "left m6a prop:  1.0625\n",
      "left m6a count:  17\n",
      "left AT count:  16\n",
      "----------\n"
     ]
    },
    {
     "name": "stderr",
     "output_type": "stream",
     "text": [
      "ERROR:root:AT or m6a proportion > 1.\n",
      "ERROR:root:AT or m6a proportion > 1.\n"
     ]
    },
    {
     "name": "stdout",
     "output_type": "stream",
     "text": [
      "motif:  chr16_89736437_-\n",
      "query name:  m54329U_210326_192251/131992380/ccs\n",
      "left AT prop:  0.375\n",
      "left m6a prop:  1.0666666666666667\n",
      "left m6a count:  16\n",
      "left AT count:  15\n",
      "----------\n",
      "motif:  chr16_90003315_-\n",
      "query name:  m54329U_210813_020940/130155654/ccs\n",
      "left AT prop:  0.3\n",
      "left m6a prop:  1.0833333333333333\n",
      "left m6a count:  13\n",
      "left AT count:  12\n",
      "----------\n"
     ]
    },
    {
     "name": "stderr",
     "output_type": "stream",
     "text": [
      "ERROR:root:AT or m6a proportion > 1.\n"
     ]
    },
    {
     "name": "stdout",
     "output_type": "stream",
     "text": [
      "motif:  chr17_1108858_-\n",
      "query name:  m64076_221119_202646/91686271/ccs\n",
      "left AT prop:  0.25\n",
      "left m6a prop:  1.1\n",
      "left m6a count:  11\n",
      "left AT count:  10\n",
      "----------\n"
     ]
    },
    {
     "name": "stderr",
     "output_type": "stream",
     "text": [
      "ERROR:root:AT or m6a proportion > 1.\n",
      "ERROR:root:AT or m6a proportion > 1.\n"
     ]
    },
    {
     "name": "stdout",
     "output_type": "stream",
     "text": [
      "motif:  chr17_15917516_-\n",
      "query name:  m64076_221119_202646/34867044/ccs\n",
      "left AT prop:  0.25\n",
      "left m6a prop:  1.1\n",
      "left m6a count:  11\n",
      "left AT count:  10\n",
      "----------\n",
      "motif:  chr17_16477597_+\n",
      "query name:  m54329U_210326_192251/120915766/ccs\n",
      "motif AT prop:  0.2857142857142857\n",
      "motif m6a prop:  1.1\n",
      "motif m6a count:  11\n",
      "motif AT count:  10\n",
      "----------\n"
     ]
    },
    {
     "name": "stderr",
     "output_type": "stream",
     "text": [
      "ERROR:root:AT or m6a proportion > 1.\n"
     ]
    },
    {
     "name": "stdout",
     "output_type": "stream",
     "text": [
      "motif:  chr17_2716761_-\n",
      "query name:  m64076_210328_012155/95749753/ccs\n",
      "motif AT prop:  0.42857142857142855\n",
      "motif m6a prop:  1.0666666666666667\n",
      "motif m6a count:  16\n",
      "motif AT count:  15\n",
      "----------\n"
     ]
    },
    {
     "name": "stderr",
     "output_type": "stream",
     "text": [
      "ERROR:root:AT or m6a proportion > 1.\n"
     ]
    },
    {
     "name": "stdout",
     "output_type": "stream",
     "text": [
      "motif:  chr17_30291791_+\n",
      "query name:  m54329U_210326_192251/75892354/ccs\n",
      "left AT prop:  0.2\n",
      "left m6a prop:  1.125\n",
      "left m6a count:  9\n",
      "left AT count:  8\n",
      "----------\n"
     ]
    },
    {
     "name": "stderr",
     "output_type": "stream",
     "text": [
      "ERROR:root:AT or m6a proportion > 1.\n"
     ]
    },
    {
     "name": "stdout",
     "output_type": "stream",
     "text": [
      "motif:  chr17_41539277_-\n",
      "query name:  m64076_210328_012155/86968523/ccs\n",
      "left AT prop:  0.425\n",
      "left m6a prop:  1.0588235294117647\n",
      "left m6a count:  18\n",
      "left AT count:  17\n",
      "----------\n"
     ]
    },
    {
     "name": "stderr",
     "output_type": "stream",
     "text": [
      "ERROR:root:AT or m6a proportion > 1.\n"
     ]
    },
    {
     "name": "stdout",
     "output_type": "stream",
     "text": [
      "motif:  chr17_44768920_+\n",
      "query name:  m54329U_210326_192251/164367151/ccs\n",
      "left AT prop:  0.275\n",
      "left m6a prop:  1.0909090909090908\n",
      "left m6a count:  12\n",
      "left AT count:  11\n",
      "----------\n"
     ]
    },
    {
     "name": "stderr",
     "output_type": "stream",
     "text": [
      "ERROR:root:AT or m6a proportion > 1.\n"
     ]
    },
    {
     "name": "stdout",
     "output_type": "stream",
     "text": [
      "motif:  chr17_58195108_-\n",
      "query name:  m64076_210328_012155/50397290/ccs\n",
      "left AT prop:  0.35\n",
      "left m6a prop:  1.0714285714285714\n",
      "left m6a count:  15\n",
      "left AT count:  14\n",
      "----------\n"
     ]
    },
    {
     "name": "stderr",
     "output_type": "stream",
     "text": [
      "ERROR:root:AT or m6a proportion > 1.\n"
     ]
    },
    {
     "name": "stdout",
     "output_type": "stream",
     "text": [
      "motif:  chr17_63622673_-\n",
      "query name:  m64076_221119_202646/136578640/ccs\n",
      "motif AT prop:  0.11428571428571428\n",
      "motif m6a prop:  1.25\n",
      "motif m6a count:  5\n",
      "motif AT count:  4\n",
      "----------\n"
     ]
    },
    {
     "name": "stderr",
     "output_type": "stream",
     "text": [
      "ERROR:root:AT or m6a proportion > 1.\n"
     ]
    },
    {
     "name": "stdout",
     "output_type": "stream",
     "text": [
      "motif:  chr17_64326479_+\n",
      "query name:  m54329U_210810_004956/74843950/ccs\n",
      "left AT prop:  0.3\n",
      "left m6a prop:  1.0833333333333333\n",
      "left m6a count:  13\n",
      "left AT count:  12\n",
      "----------\n"
     ]
    },
    {
     "name": "stderr",
     "output_type": "stream",
     "text": [
      "ERROR:root:AT or m6a proportion > 1.\n"
     ]
    },
    {
     "name": "stdout",
     "output_type": "stream",
     "text": [
      "motif:  chr17_75823498_-\n",
      "query name:  m54329U_210326_192251/141101309/ccs\n",
      "left AT prop:  0.35\n",
      "left m6a prop:  1.0714285714285714\n",
      "left m6a count:  15\n",
      "left AT count:  14\n",
      "----------\n"
     ]
    },
    {
     "name": "stderr",
     "output_type": "stream",
     "text": [
      "ERROR:root:AT or m6a proportion > 1.\n",
      "ERROR:root:AT or m6a proportion > 1.\n"
     ]
    },
    {
     "name": "stdout",
     "output_type": "stream",
     "text": [
      "motif:  chr18_13485556_-\n",
      "query name:  m64076_210328_012155/27264655/ccs\n",
      "motif AT prop:  0.37142857142857144\n",
      "motif m6a prop:  1.0769230769230769\n",
      "motif m6a count:  14\n",
      "motif AT count:  13\n",
      "----------\n",
      "motif:  chr18_13548818_-\n",
      "query name:  m64076_221119_202646/46071889/ccs\n",
      "motif AT prop:  0.2857142857142857\n",
      "motif m6a prop:  1.1\n",
      "motif m6a count:  11\n",
      "motif AT count:  10\n",
      "----------\n"
     ]
    },
    {
     "name": "stderr",
     "output_type": "stream",
     "text": [
      "ERROR:root:AT or m6a proportion > 1.\n"
     ]
    },
    {
     "name": "stdout",
     "output_type": "stream",
     "text": [
      "motif:  chr18_35151830_-\n",
      "query name:  m64076_210328_012155/25036942/ccs\n",
      "motif AT prop:  0.2571428571428571\n",
      "motif m6a prop:  1.1111111111111112\n",
      "motif m6a count:  10\n",
      "motif AT count:  9\n",
      "----------\n"
     ]
    },
    {
     "name": "stderr",
     "output_type": "stream",
     "text": [
      "ERROR:root:AT or m6a proportion > 1.\n",
      "ERROR:root:AT or m6a proportion > 1.\n"
     ]
    },
    {
     "name": "stdout",
     "output_type": "stream",
     "text": [
      "motif:  chr19_13795683_-\n",
      "query name:  m64076_221119_202646/108069597/ccs\n",
      "left AT prop:  0.125\n",
      "left m6a prop:  1.2\n",
      "left m6a count:  6\n",
      "left AT count:  5\n",
      "----------\n",
      "motif:  chr19_14090074_+\n",
      "query name:  m54329U_210813_020940/129960682/ccs\n",
      "left AT prop:  0.175\n",
      "left m6a prop:  1.1428571428571428\n",
      "left m6a count:  8\n",
      "left AT count:  7\n",
      "----------\n"
     ]
    },
    {
     "name": "stderr",
     "output_type": "stream",
     "text": [
      "ERROR:root:AT or m6a proportion > 1.\n"
     ]
    },
    {
     "name": "stdout",
     "output_type": "stream",
     "text": [
      "motif:  chr19_18153403_+\n",
      "query name:  m54329U_210326_192251/68749313/ccs\n",
      "left AT prop:  0.25\n",
      "left m6a prop:  1.1\n",
      "left m6a count:  11\n",
      "left AT count:  10\n",
      "----------\n"
     ]
    },
    {
     "name": "stderr",
     "output_type": "stream",
     "text": [
      "ERROR:root:AT or m6a proportion > 1.\n"
     ]
    },
    {
     "name": "stdout",
     "output_type": "stream",
     "text": [
      "motif:  chr19_39826972_+\n",
      "query name:  m64076_210328_012155/31720587/ccs\n",
      "left AT prop:  0.25\n",
      "left m6a prop:  1.1\n",
      "left m6a count:  11\n",
      "left AT count:  10\n",
      "----------\n"
     ]
    },
    {
     "name": "stderr",
     "output_type": "stream",
     "text": [
      "ERROR:root:AT or m6a proportion > 1.\n"
     ]
    },
    {
     "name": "stdout",
     "output_type": "stream",
     "text": [
      "motif:  chr19_47274881_+\n",
      "query name:  m54329U_210323_190418/59115197/ccs\n",
      "motif AT prop:  0.22857142857142856\n",
      "motif m6a prop:  1.125\n",
      "motif m6a count:  9\n",
      "motif AT count:  8\n",
      "----------\n"
     ]
    },
    {
     "name": "stderr",
     "output_type": "stream",
     "text": [
      "ERROR:root:AT or m6a proportion > 1.\n"
     ]
    },
    {
     "name": "stdout",
     "output_type": "stream",
     "text": [
      "motif:  chr19_50500549_-\n",
      "query name:  m64076_210328_012155/6489245/ccs\n",
      "left AT prop:  0.225\n",
      "left m6a prop:  1.1111111111111112\n",
      "left m6a count:  10\n",
      "left AT count:  9\n",
      "----------\n"
     ]
    },
    {
     "name": "stderr",
     "output_type": "stream",
     "text": [
      "ERROR:root:AT or m6a proportion > 1.\n",
      "ERROR:root:AT or m6a proportion > 1.\n"
     ]
    },
    {
     "name": "stdout",
     "output_type": "stream",
     "text": [
      "motif:  chr19_7555716_+\n",
      "query name:  m54329U_210814_130637/74582483/ccs\n",
      "motif AT prop:  0.2\n",
      "motif m6a prop:  1.1428571428571428\n",
      "motif m6a count:  8\n",
      "motif AT count:  7\n",
      "----------\n",
      "motif:  chr19_7845401_-\n",
      "query name:  m54329U_210326_192251/80544406/ccs\n",
      "left AT prop:  0.3\n",
      "left m6a prop:  1.0833333333333333\n",
      "left m6a count:  13\n",
      "left AT count:  12\n",
      "----------\n"
     ]
    },
    {
     "name": "stderr",
     "output_type": "stream",
     "text": [
      "ERROR:root:AT or m6a proportion > 1.\n"
     ]
    },
    {
     "name": "stdout",
     "output_type": "stream",
     "text": [
      "motif:  chr1_11106889_-\n",
      "query name:  m54329U_210323_190418/93194848/ccs\n",
      "left AT prop:  0.45\n",
      "left m6a prop:  1.0555555555555556\n",
      "left m6a count:  19\n",
      "left AT count:  18\n",
      "----------\n"
     ]
    },
    {
     "name": "stderr",
     "output_type": "stream",
     "text": [
      "ERROR:root:AT or m6a proportion > 1.\n"
     ]
    },
    {
     "name": "stdout",
     "output_type": "stream",
     "text": [
      "motif:  chr1_154848141_+\n",
      "query name:  m54329U_210813_020940/112462021/ccs\n",
      "left AT prop:  0.275\n",
      "left m6a prop:  1.0909090909090908\n",
      "left m6a count:  12\n",
      "left AT count:  11\n",
      "----------\n"
     ]
    },
    {
     "name": "stderr",
     "output_type": "stream",
     "text": [
      "ERROR:root:AT or m6a proportion > 1.\n"
     ]
    },
    {
     "name": "stdout",
     "output_type": "stream",
     "text": [
      "motif:  chr1_17045313_+\n",
      "query name:  m54329U_210323_190418/147196057/ccs\n",
      "motif AT prop:  0.37142857142857144\n",
      "motif m6a prop:  1.0769230769230769\n",
      "motif m6a count:  14\n",
      "motif AT count:  13\n",
      "----------\n"
     ]
    },
    {
     "name": "stderr",
     "output_type": "stream",
     "text": [
      "ERROR:root:AT or m6a proportion > 1.\n"
     ]
    },
    {
     "name": "stdout",
     "output_type": "stream",
     "text": [
      "motif:  chr1_204151323_-\n",
      "query name:  m64076_221119_202646/165217646/ccs\n",
      "left AT prop:  0.3\n",
      "left m6a prop:  1.0833333333333333\n",
      "left m6a count:  13\n",
      "left AT count:  12\n",
      "----------\n"
     ]
    },
    {
     "name": "stderr",
     "output_type": "stream",
     "text": [
      "ERROR:root:AT or m6a proportion > 1.\n"
     ]
    },
    {
     "name": "stdout",
     "output_type": "stream",
     "text": [
      "motif:  chr1_204812038_-\n",
      "query name:  m54329U_210326_192251/69666040/ccs\n",
      "motif AT prop:  0.34285714285714286\n",
      "motif m6a prop:  1.0833333333333333\n",
      "motif m6a count:  13\n",
      "motif AT count:  12\n",
      "----------\n"
     ]
    },
    {
     "name": "stderr",
     "output_type": "stream",
     "text": [
      "ERROR:root:AT or m6a proportion > 1.\n"
     ]
    },
    {
     "name": "stdout",
     "output_type": "stream",
     "text": [
      "motif:  chr1_207111441_+\n",
      "query name:  m54329U_210326_192251/139921507/ccs\n",
      "left AT prop:  0.45\n",
      "left m6a prop:  1.0555555555555556\n",
      "left m6a count:  19\n",
      "left AT count:  18\n",
      "----------\n"
     ]
    },
    {
     "name": "stderr",
     "output_type": "stream",
     "text": [
      "ERROR:root:AT or m6a proportion > 1.\n",
      "ERROR:root:AT or m6a proportion > 1.\n"
     ]
    },
    {
     "name": "stdout",
     "output_type": "stream",
     "text": [
      "motif:  chr1_209190969_-\n",
      "query name:  m64076_210328_012155/122814956/ccs\n",
      "motif AT prop:  0.3142857142857143\n",
      "motif m6a prop:  1.0909090909090908\n",
      "motif m6a count:  12\n",
      "motif AT count:  11\n",
      "----------\n",
      "motif:  chr1_209561661_-\n",
      "query name:  m54329U_210323_190418/166855364/ccs\n",
      "motif AT prop:  0.3142857142857143\n",
      "motif m6a prop:  1.0909090909090908\n",
      "motif m6a count:  12\n",
      "motif AT count:  11\n",
      "----------\n"
     ]
    },
    {
     "name": "stderr",
     "output_type": "stream",
     "text": [
      "ERROR:root:AT or m6a proportion > 1.\n"
     ]
    },
    {
     "name": "stdout",
     "output_type": "stream",
     "text": [
      "motif:  chr1_220466263_+\n",
      "query name:  m64076_221119_202646/67961554/ccs\n",
      "left AT prop:  0.25\n",
      "left m6a prop:  1.1\n",
      "left m6a count:  11\n",
      "left AT count:  10\n",
      "----------\n"
     ]
    },
    {
     "name": "stderr",
     "output_type": "stream",
     "text": [
      "ERROR:root:AT or m6a proportion > 1.\n"
     ]
    },
    {
     "name": "stdout",
     "output_type": "stream",
     "text": [
      "motif:  chr1_236281769_-\n",
      "query name:  m54329U_210326_192251/124192811/ccs\n",
      "left AT prop:  0.325\n",
      "left m6a prop:  1.0769230769230769\n",
      "left m6a count:  14\n",
      "left AT count:  13\n",
      "----------\n"
     ]
    },
    {
     "name": "stderr",
     "output_type": "stream",
     "text": [
      "ERROR:root:AT or m6a proportion > 1.\n"
     ]
    },
    {
     "name": "stdout",
     "output_type": "stream",
     "text": [
      "motif:  chr1_241792439_+\n",
      "query name:  m64076_210328_012155/86051316/ccs\n",
      "left AT prop:  0.4\n",
      "left m6a prop:  1.0625\n",
      "left m6a count:  17\n",
      "left AT count:  16\n",
      "----------\n"
     ]
    },
    {
     "name": "stderr",
     "output_type": "stream",
     "text": [
      "ERROR:root:AT or m6a proportion > 1.\n"
     ]
    },
    {
     "name": "stdout",
     "output_type": "stream",
     "text": [
      "motif:  chr1_2685379_+\n",
      "query name:  m54329U_210326_192251/104925581/ccs\n",
      "left AT prop:  0.425\n",
      "left m6a prop:  1.0588235294117647\n",
      "left m6a count:  18\n",
      "left AT count:  17\n",
      "----------\n"
     ]
    },
    {
     "name": "stderr",
     "output_type": "stream",
     "text": [
      "ERROR:root:AT or m6a proportion > 1.\n"
     ]
    },
    {
     "name": "stdout",
     "output_type": "stream",
     "text": [
      "motif:  chr1_29837564_+\n",
      "query name:  m64076_210328_012155/24447602/ccs\n",
      "left AT prop:  0.35\n",
      "left m6a prop:  1.0714285714285714\n",
      "left m6a count:  15\n",
      "left AT count:  14\n",
      "----------\n"
     ]
    },
    {
     "name": "stderr",
     "output_type": "stream",
     "text": [
      "ERROR:root:AT or m6a proportion > 1.\n"
     ]
    },
    {
     "name": "stdout",
     "output_type": "stream",
     "text": [
      "motif:  chr1_31772271_-\n",
      "query name:  m54329U_210323_190418/83755753/ccs\n",
      "left AT prop:  0.25\n",
      "left m6a prop:  1.1\n",
      "left m6a count:  11\n",
      "left AT count:  10\n",
      "----------\n"
     ]
    },
    {
     "name": "stderr",
     "output_type": "stream",
     "text": [
      "ERROR:root:AT or m6a proportion > 1.\n"
     ]
    },
    {
     "name": "stdout",
     "output_type": "stream",
     "text": [
      "motif:  chr1_3313326_+\n",
      "query name:  m64076_221119_202646/46074296/ccs\n",
      "motif AT prop:  0.2857142857142857\n",
      "motif m6a prop:  1.1\n",
      "motif m6a count:  11\n",
      "motif AT count:  10\n",
      "----------\n"
     ]
    },
    {
     "name": "stderr",
     "output_type": "stream",
     "text": [
      "ERROR:root:AT or m6a proportion > 1.\n"
     ]
    },
    {
     "name": "stdout",
     "output_type": "stream",
     "text": [
      "motif:  chr1_37662657_-\n",
      "query name:  m54329U_210323_190418/133607/ccs\n",
      "motif AT prop:  0.37142857142857144\n",
      "motif m6a prop:  1.0769230769230769\n",
      "motif m6a count:  14\n",
      "motif AT count:  13\n",
      "----------\n"
     ]
    },
    {
     "name": "stderr",
     "output_type": "stream",
     "text": [
      "ERROR:root:AT or m6a proportion > 1.\n"
     ]
    },
    {
     "name": "stdout",
     "output_type": "stream",
     "text": [
      "motif:  chr1_38046893_-\n",
      "query name:  m54329U_210323_190418/53937733/ccs\n",
      "left AT prop:  0.05\n",
      "left m6a prop:  1.5\n",
      "left m6a count:  3\n",
      "left AT count:  2\n",
      "----------\n"
     ]
    },
    {
     "name": "stderr",
     "output_type": "stream",
     "text": [
      "ERROR:root:AT or m6a proportion > 1.\n",
      "ERROR:root:AT or m6a proportion > 1.\n"
     ]
    },
    {
     "name": "stdout",
     "output_type": "stream",
     "text": [
      "motif:  chr1_42887833_-\n",
      "query name:  m54329U_210323_190418/90376410/ccs\n",
      "left AT prop:  0.4\n",
      "left m6a prop:  1.0625\n",
      "left m6a count:  17\n",
      "left AT count:  16\n",
      "----------\n",
      "motif:  chr1_43135447_-\n",
      "query name:  m54329U_210326_192251/8522321/ccs\n",
      "left AT prop:  0.45\n",
      "left m6a prop:  1.0555555555555556\n",
      "left m6a count:  19\n",
      "left AT count:  18\n",
      "----------\n"
     ]
    },
    {
     "name": "stderr",
     "output_type": "stream",
     "text": [
      "ERROR:root:AT or m6a proportion > 1.\n"
     ]
    },
    {
     "name": "stdout",
     "output_type": "stream",
     "text": [
      "motif:  chr1_5444620_-\n",
      "query name:  m64076_221119_202646/55443523/ccs\n",
      "left AT prop:  0.275\n",
      "left m6a prop:  1.0909090909090908\n",
      "left m6a count:  12\n",
      "left AT count:  11\n",
      "----------\n"
     ]
    },
    {
     "name": "stderr",
     "output_type": "stream",
     "text": [
      "ERROR:root:AT or m6a proportion > 1.\n"
     ]
    },
    {
     "name": "stdout",
     "output_type": "stream",
     "text": [
      "motif:  chr1_8342559_-\n",
      "query name:  m64076_210328_012155/38797356/ccs\n",
      "left AT prop:  0.425\n",
      "left m6a prop:  1.0588235294117647\n",
      "left m6a count:  18\n",
      "left AT count:  17\n",
      "----------\n"
     ]
    },
    {
     "name": "stderr",
     "output_type": "stream",
     "text": [
      "ERROR:root:AT or m6a proportion > 1.\n"
     ]
    },
    {
     "name": "stdout",
     "output_type": "stream",
     "text": [
      "motif:  chr20_33054974_+\n",
      "query name:  m54329U_210323_190418/28770645/ccs\n",
      "motif AT prop:  0.4\n",
      "motif m6a prop:  1.0714285714285714\n",
      "motif m6a count:  15\n",
      "motif AT count:  14\n",
      "----------\n"
     ]
    },
    {
     "name": "stderr",
     "output_type": "stream",
     "text": [
      "ERROR:root:AT or m6a proportion > 1.\n"
     ]
    },
    {
     "name": "stdout",
     "output_type": "stream",
     "text": [
      "motif:  chr20_37384487_+\n",
      "query name:  m54329U_210326_192251/3148617/ccs\n",
      "motif AT prop:  0.2857142857142857\n",
      "motif m6a prop:  1.1\n",
      "motif m6a count:  11\n",
      "motif AT count:  10\n",
      "----------\n"
     ]
    },
    {
     "name": "stderr",
     "output_type": "stream",
     "text": [
      "ERROR:root:AT or m6a proportion > 1.\n"
     ]
    },
    {
     "name": "stdout",
     "output_type": "stream",
     "text": [
      "motif:  chr20_61999461_+\n",
      "query name:  m54329U_210323_190418/71173383/ccs\n",
      "motif AT prop:  0.3142857142857143\n",
      "motif m6a prop:  1.0909090909090908\n",
      "motif m6a count:  12\n",
      "motif AT count:  11\n",
      "----------\n"
     ]
    },
    {
     "name": "stderr",
     "output_type": "stream",
     "text": [
      "ERROR:root:AT or m6a proportion > 1.\n"
     ]
    },
    {
     "name": "stdout",
     "output_type": "stream",
     "text": [
      "motif:  chr21_45973355_+\n",
      "query name:  m54329U_210814_130637/76940322/ccs\n",
      "left AT prop:  0.3\n",
      "left m6a prop:  1.0833333333333333\n",
      "left m6a count:  13\n",
      "left AT count:  12\n",
      "----------\n"
     ]
    },
    {
     "name": "stderr",
     "output_type": "stream",
     "text": [
      "ERROR:root:AT or m6a proportion > 1.\n"
     ]
    },
    {
     "name": "stdout",
     "output_type": "stream",
     "text": [
      "motif:  chr21_8434710_-\n",
      "query name:  m54329U_210323_190418/14091657/ccs\n",
      "motif AT prop:  0.22857142857142856\n",
      "motif m6a prop:  1.125\n",
      "motif m6a count:  9\n",
      "motif AT count:  8\n",
      "----------\n"
     ]
    },
    {
     "name": "stderr",
     "output_type": "stream",
     "text": [
      "ERROR:root:AT or m6a proportion > 1.\n",
      "ERROR:root:AT or m6a proportion > 1.\n",
      "ERROR:root:AT or m6a proportion > 1.\n",
      "ERROR:root:AT or m6a proportion > 1.\n"
     ]
    },
    {
     "name": "stdout",
     "output_type": "stream",
     "text": [
      "motif:  chr22_18892487_+\n",
      "query name:  m54329U_210323_190418/105842915/ccs\n",
      "motif AT prop:  0.42857142857142855\n",
      "motif m6a prop:  1.1333333333333333\n",
      "motif m6a count:  17\n",
      "motif AT count:  15\n",
      "----------\n",
      "motif:  chr22_18893952_+\n",
      "query name:  m54329U_210323_190418/105842915/ccs\n",
      "left AT prop:  0.375\n",
      "left m6a prop:  1.5333333333333334\n",
      "left m6a count:  23\n",
      "left AT count:  15\n",
      "----------\n",
      "motif:  chr22_18893952_+\n",
      "query name:  m54329U_210323_190418/159580665/ccs\n",
      "left AT prop:  0.375\n",
      "left m6a prop:  1.3333333333333333\n",
      "left m6a count:  20\n",
      "left AT count:  15\n",
      "----------\n",
      "motif:  chr22_18893952_+\n",
      "query name:  m54329U_210323_190418/159580665/ccs\n",
      "motif AT prop:  0.42857142857142855\n",
      "motif m6a prop:  1.3333333333333333\n",
      "motif m6a count:  20\n",
      "motif AT count:  15\n",
      "----------\n"
     ]
    },
    {
     "name": "stderr",
     "output_type": "stream",
     "text": [
      "ERROR:root:AT or m6a proportion > 1.\n"
     ]
    },
    {
     "name": "stdout",
     "output_type": "stream",
     "text": [
      "motif:  chr22_20299234_+\n",
      "query name:  m64076_210328_012155/166463083/ccs\n",
      "left AT prop:  0.15\n",
      "left m6a prop:  1.1666666666666667\n",
      "left m6a count:  7\n",
      "left AT count:  6\n",
      "----------\n"
     ]
    },
    {
     "name": "stderr",
     "output_type": "stream",
     "text": [
      "ERROR:root:AT or m6a proportion > 1.\n"
     ]
    },
    {
     "name": "stdout",
     "output_type": "stream",
     "text": [
      "motif:  chr22_28772849_+\n",
      "query name:  m54329U_210326_192251/124979076/ccs\n",
      "left AT prop:  0.2\n",
      "left m6a prop:  1.125\n",
      "left m6a count:  9\n",
      "left AT count:  8\n",
      "----------\n"
     ]
    },
    {
     "name": "stderr",
     "output_type": "stream",
     "text": [
      "ERROR:root:AT or m6a proportion > 1.\n"
     ]
    },
    {
     "name": "stdout",
     "output_type": "stream",
     "text": [
      "motif:  chr22_38164547_-\n",
      "query name:  m64076_221119_202646/11141578/ccs\n",
      "left AT prop:  0.35\n",
      "left m6a prop:  1.0714285714285714\n",
      "left m6a count:  15\n",
      "left AT count:  14\n",
      "----------\n"
     ]
    },
    {
     "name": "stderr",
     "output_type": "stream",
     "text": [
      "ERROR:root:AT or m6a proportion > 1.\n"
     ]
    },
    {
     "name": "stdout",
     "output_type": "stream",
     "text": [
      "motif:  chr22_41022280_+\n",
      "query name:  m54329U_210326_192251/51841675/ccs\n",
      "left AT prop:  0.225\n",
      "left m6a prop:  1.1111111111111112\n",
      "left m6a count:  10\n",
      "left AT count:  9\n",
      "----------\n"
     ]
    },
    {
     "name": "stderr",
     "output_type": "stream",
     "text": [
      "ERROR:root:AT or m6a proportion > 1.\n"
     ]
    },
    {
     "name": "stdout",
     "output_type": "stream",
     "text": [
      "motif:  chr22_42813615_-\n",
      "query name:  m54329U_210326_192251/39324373/ccs\n",
      "left AT prop:  0.3\n",
      "left m6a prop:  1.0833333333333333\n",
      "left m6a count:  13\n",
      "left AT count:  12\n",
      "----------\n"
     ]
    },
    {
     "name": "stderr",
     "output_type": "stream",
     "text": [
      "ERROR:root:AT or m6a proportion > 1.\n"
     ]
    },
    {
     "name": "stdout",
     "output_type": "stream",
     "text": [
      "motif:  chr22_49966318_-\n",
      "query name:  m54329U_210813_020940/82511169/ccs\n",
      "motif AT prop:  0.3142857142857143\n",
      "motif m6a prop:  1.0909090909090908\n",
      "motif m6a count:  12\n",
      "motif AT count:  11\n",
      "----------\n"
     ]
    },
    {
     "name": "stderr",
     "output_type": "stream",
     "text": [
      "ERROR:root:AT or m6a proportion > 1.\n"
     ]
    },
    {
     "name": "stdout",
     "output_type": "stream",
     "text": [
      "motif:  chr2_105557423_+\n",
      "query name:  m64076_210328_012155/105777293/ccs\n",
      "motif AT prop:  0.45714285714285713\n",
      "motif m6a prop:  1.0625\n",
      "motif m6a count:  17\n",
      "motif AT count:  16\n",
      "----------\n"
     ]
    },
    {
     "name": "stderr",
     "output_type": "stream",
     "text": [
      "ERROR:root:AT or m6a proportion > 1.\n",
      "ERROR:root:AT or m6a proportion > 1.\n",
      "ERROR:root:AT or m6a proportion > 1.\n"
     ]
    },
    {
     "name": "stdout",
     "output_type": "stream",
     "text": [
      "motif:  chr2_1222642_+\n",
      "query name:  m54329U_210814_130637/63963181/ccs\n",
      "right AT prop:  0.425\n",
      "right m6a prop:  1.3529411764705883\n",
      "right m6a count:  23\n",
      "right AT count:  17\n",
      "----------\n",
      "motif:  chr2_1222712_+\n",
      "query name:  m54329U_210814_130637/63963181/ccs\n",
      "left AT prop:  0.45\n",
      "left m6a prop:  1.1666666666666667\n",
      "left m6a count:  21\n",
      "left AT count:  18\n",
      "----------\n",
      "motif:  chr2_1222712_+\n",
      "query name:  m54329U_210814_130637/63963181/ccs\n",
      "motif AT prop:  0.3142857142857143\n",
      "motif m6a prop:  1.7272727272727273\n",
      "motif m6a count:  19\n",
      "motif AT count:  11\n",
      "----------\n"
     ]
    },
    {
     "name": "stderr",
     "output_type": "stream",
     "text": [
      "ERROR:root:AT or m6a proportion > 1.\n"
     ]
    },
    {
     "name": "stdout",
     "output_type": "stream",
     "text": [
      "motif:  chr2_126889245_+\n",
      "query name:  m64076_221119_202646/1050733/ccs\n",
      "motif AT prop:  0.34285714285714286\n",
      "motif m6a prop:  1.0833333333333333\n",
      "motif m6a count:  13\n",
      "motif AT count:  12\n",
      "----------\n"
     ]
    },
    {
     "name": "stderr",
     "output_type": "stream",
     "text": [
      "ERROR:root:AT or m6a proportion > 1.\n"
     ]
    },
    {
     "name": "stdout",
     "output_type": "stream",
     "text": [
      "motif:  chr2_219235179_-\n",
      "query name:  m54329U_210810_004956/180357046/ccs\n",
      "left AT prop:  0.375\n",
      "left m6a prop:  1.0666666666666667\n",
      "left m6a count:  16\n",
      "left AT count:  15\n",
      "----------\n"
     ]
    },
    {
     "name": "stderr",
     "output_type": "stream",
     "text": [
      "ERROR:root:AT or m6a proportion > 1.\n"
     ]
    },
    {
     "name": "stdout",
     "output_type": "stream",
     "text": [
      "motif:  chr2_229922501_-\n",
      "query name:  m54329U_210813_020940/40634295/ccs\n",
      "left AT prop:  0.35\n",
      "left m6a prop:  1.0714285714285714\n",
      "left m6a count:  15\n",
      "left AT count:  14\n",
      "----------\n"
     ]
    },
    {
     "name": "stderr",
     "output_type": "stream",
     "text": [
      "ERROR:root:AT or m6a proportion > 1.\n"
     ]
    },
    {
     "name": "stdout",
     "output_type": "stream",
     "text": [
      "motif:  chr2_233190636_-\n",
      "query name:  m64076_221119_202646/29950070/ccs\n",
      "motif AT prop:  0.3142857142857143\n",
      "motif m6a prop:  1.0909090909090908\n",
      "motif m6a count:  12\n",
      "motif AT count:  11\n",
      "----------\n"
     ]
    },
    {
     "name": "stderr",
     "output_type": "stream",
     "text": [
      "ERROR:root:AT or m6a proportion > 1.\n"
     ]
    },
    {
     "name": "stdout",
     "output_type": "stream",
     "text": [
      "motif:  chr2_237901750_+\n",
      "query name:  m64076_221119_202646/114035177/ccs\n",
      "left AT prop:  0.275\n",
      "left m6a prop:  1.0909090909090908\n",
      "left m6a count:  12\n",
      "left AT count:  11\n",
      "----------\n"
     ]
    },
    {
     "name": "stderr",
     "output_type": "stream",
     "text": [
      "ERROR:root:AT or m6a proportion > 1.\n"
     ]
    },
    {
     "name": "stdout",
     "output_type": "stream",
     "text": [
      "motif:  chr2_238895597_-\n",
      "query name:  m54329U_210810_004956/146344383/ccs\n",
      "motif AT prop:  0.3142857142857143\n",
      "motif m6a prop:  1.0909090909090908\n",
      "motif m6a count:  12\n",
      "motif AT count:  11\n",
      "----------\n"
     ]
    },
    {
     "name": "stderr",
     "output_type": "stream",
     "text": [
      "ERROR:root:AT or m6a proportion > 1.\n"
     ]
    },
    {
     "name": "stdout",
     "output_type": "stream",
     "text": [
      "motif:  chr2_240751088_-\n",
      "query name:  m54329U_210810_004956/150602889/ccs\n",
      "left AT prop:  0.25\n",
      "left m6a prop:  1.1\n",
      "left m6a count:  11\n",
      "left AT count:  10\n",
      "----------\n"
     ]
    },
    {
     "name": "stderr",
     "output_type": "stream",
     "text": [
      "ERROR:root:AT or m6a proportion > 1.\n"
     ]
    },
    {
     "name": "stdout",
     "output_type": "stream",
     "text": [
      "motif:  chr2_41895771_-\n",
      "query name:  m54329U_210810_004956/103810584/ccs\n",
      "motif AT prop:  0.34285714285714286\n",
      "motif m6a prop:  1.0833333333333333\n",
      "motif m6a count:  13\n",
      "motif AT count:  12\n",
      "----------\n"
     ]
    },
    {
     "name": "stderr",
     "output_type": "stream",
     "text": [
      "ERROR:root:AT or m6a proportion > 1.\n"
     ]
    },
    {
     "name": "stdout",
     "output_type": "stream",
     "text": [
      "motif:  chr2_642613_+\n",
      "query name:  m54329U_210323_190418/11666567/ccs\n",
      "left AT prop:  0.375\n",
      "left m6a prop:  1.0666666666666667\n",
      "left m6a count:  16\n",
      "left AT count:  15\n",
      "----------\n"
     ]
    },
    {
     "name": "stderr",
     "output_type": "stream",
     "text": [
      "ERROR:root:AT or m6a proportion > 1.\n"
     ]
    },
    {
     "name": "stdout",
     "output_type": "stream",
     "text": [
      "motif:  chr2_79512958_-\n",
      "query name:  m54329U_210323_190418/31064509/ccs\n",
      "left AT prop:  0.15\n",
      "left m6a prop:  1.1666666666666667\n",
      "left m6a count:  7\n",
      "left AT count:  6\n",
      "----------\n"
     ]
    },
    {
     "name": "stderr",
     "output_type": "stream",
     "text": [
      "ERROR:root:AT or m6a proportion > 1.\n",
      "ERROR:root:AT or m6a proportion > 1.\n",
      "ERROR:root:AT or m6a proportion > 1.\n"
     ]
    },
    {
     "name": "stdout",
     "output_type": "stream",
     "text": [
      "motif:  chr2_90293982_+\n",
      "query name:  m64076_210328_012155/92473259/ccs\n",
      "right AT prop:  0.375\n",
      "right m6a prop:  1.0666666666666667\n",
      "right m6a count:  16\n",
      "right AT count:  15\n",
      "----------\n",
      "motif:  chr2_90295551_+\n",
      "query name:  m54329U_210814_130637/99485147/ccs\n",
      "right AT prop:  0.375\n",
      "right m6a prop:  2.466666666666667\n",
      "right m6a count:  37\n",
      "right AT count:  15\n",
      "----------\n",
      "motif:  chr2_90295551_+\n",
      "query name:  m64076_210328_012155/92473259/ccs\n",
      "motif AT prop:  0.4\n",
      "motif m6a prop:  1.0714285714285714\n",
      "motif m6a count:  15\n",
      "motif AT count:  14\n",
      "----------\n"
     ]
    },
    {
     "name": "stderr",
     "output_type": "stream",
     "text": [
      "ERROR:root:AT or m6a proportion > 1.\n"
     ]
    },
    {
     "name": "stdout",
     "output_type": "stream",
     "text": [
      "motif:  chr2_9474135_-\n",
      "query name:  m64076_221119_202646/7799438/ccs\n",
      "left AT prop:  0.225\n",
      "left m6a prop:  1.1111111111111112\n",
      "left m6a count:  10\n",
      "left AT count:  9\n",
      "----------\n"
     ]
    },
    {
     "name": "stderr",
     "output_type": "stream",
     "text": [
      "ERROR:root:AT or m6a proportion > 1.\n"
     ]
    },
    {
     "name": "stdout",
     "output_type": "stream",
     "text": [
      "motif:  chr3_127548160_+\n",
      "query name:  m54329U_210326_192251/127076776/ccs\n",
      "left AT prop:  0.425\n",
      "left m6a prop:  1.0588235294117647\n",
      "left m6a count:  18\n",
      "left AT count:  17\n",
      "----------\n"
     ]
    },
    {
     "name": "stderr",
     "output_type": "stream",
     "text": [
      "ERROR:root:AT or m6a proportion > 1.\n"
     ]
    },
    {
     "name": "stdout",
     "output_type": "stream",
     "text": [
      "motif:  chr3_134359425_-\n",
      "query name:  m54329U_210326_192251/163643809/ccs\n",
      "motif AT prop:  0.2571428571428571\n",
      "motif m6a prop:  1.1111111111111112\n",
      "motif m6a count:  10\n",
      "motif AT count:  9\n",
      "----------\n"
     ]
    },
    {
     "name": "stderr",
     "output_type": "stream",
     "text": [
      "ERROR:root:AT or m6a proportion > 1.\n"
     ]
    },
    {
     "name": "stdout",
     "output_type": "stream",
     "text": [
      "motif:  chr3_196503476_+\n",
      "query name:  m64076_210328_012155/96930451/ccs\n",
      "left AT prop:  0.275\n",
      "left m6a prop:  1.0909090909090908\n",
      "left m6a count:  12\n",
      "left AT count:  11\n",
      "----------\n"
     ]
    },
    {
     "name": "stderr",
     "output_type": "stream",
     "text": [
      "ERROR:root:AT or m6a proportion > 1.\n"
     ]
    },
    {
     "name": "stdout",
     "output_type": "stream",
     "text": [
      "motif:  chr3_46712307_+\n",
      "query name:  m54329U_210326_192251/136251056/ccs\n",
      "left AT prop:  0.3\n",
      "left m6a prop:  1.0833333333333333\n",
      "left m6a count:  13\n",
      "left AT count:  12\n",
      "----------\n"
     ]
    },
    {
     "name": "stderr",
     "output_type": "stream",
     "text": [
      "ERROR:root:AT or m6a proportion > 1.\n"
     ]
    },
    {
     "name": "stdout",
     "output_type": "stream",
     "text": [
      "motif:  chr3_61563425_-\n",
      "query name:  m54329U_210814_130637/143984161/ccs\n",
      "left AT prop:  0.275\n",
      "left m6a prop:  1.0909090909090908\n",
      "left m6a count:  12\n",
      "left AT count:  11\n",
      "----------\n"
     ]
    },
    {
     "name": "stderr",
     "output_type": "stream",
     "text": [
      "ERROR:root:AT or m6a proportion > 1.\n"
     ]
    },
    {
     "name": "stdout",
     "output_type": "stream",
     "text": [
      "motif:  chr3_75575788_+\n",
      "query name:  m54329U_210810_004956/172296177/ccs\n",
      "motif AT prop:  0.4\n",
      "motif m6a prop:  1.0714285714285714\n",
      "motif m6a count:  15\n",
      "motif AT count:  14\n",
      "----------\n"
     ]
    },
    {
     "name": "stderr",
     "output_type": "stream",
     "text": [
      "ERROR:root:AT or m6a proportion > 1.\n",
      "ERROR:root:AT or m6a proportion > 1.\n"
     ]
    },
    {
     "name": "stdout",
     "output_type": "stream",
     "text": [
      "motif:  chr4_100190401_-\n",
      "query name:  m54329U_210323_190418/69665648/ccs\n",
      "left AT prop:  0.2\n",
      "left m6a prop:  1.125\n",
      "left m6a count:  9\n",
      "left AT count:  8\n",
      "----------\n",
      "motif:  chr4_10078698_+\n",
      "query name:  m64076_221119_202646/329357/ccs\n",
      "left AT prop:  0.25\n",
      "left m6a prop:  1.1\n",
      "left m6a count:  11\n",
      "left AT count:  10\n",
      "----------\n"
     ]
    },
    {
     "name": "stderr",
     "output_type": "stream",
     "text": [
      "ERROR:root:AT or m6a proportion > 1.\n"
     ]
    },
    {
     "name": "stdout",
     "output_type": "stream",
     "text": [
      "motif:  chr4_123942432_+\n",
      "query name:  m54329U_210326_192251/55642692/ccs\n",
      "motif AT prop:  0.3142857142857143\n",
      "motif m6a prop:  1.0909090909090908\n",
      "motif m6a count:  12\n",
      "motif AT count:  11\n",
      "----------\n"
     ]
    },
    {
     "name": "stderr",
     "output_type": "stream",
     "text": [
      "ERROR:root:AT or m6a proportion > 1.\n"
     ]
    },
    {
     "name": "stdout",
     "output_type": "stream",
     "text": [
      "motif:  chr4_136918911_-\n",
      "query name:  m64076_210328_012155/26673639/ccs\n",
      "left AT prop:  0.375\n",
      "left m6a prop:  1.0666666666666667\n",
      "left m6a count:  16\n",
      "left AT count:  15\n",
      "----------\n"
     ]
    },
    {
     "name": "stderr",
     "output_type": "stream",
     "text": [
      "ERROR:root:AT or m6a proportion > 1.\n"
     ]
    },
    {
     "name": "stdout",
     "output_type": "stream",
     "text": [
      "motif:  chr4_163547101_+\n",
      "query name:  m54329U_210326_192251/87753650/ccs\n",
      "left AT prop:  0.4\n",
      "left m6a prop:  1.0625\n",
      "left m6a count:  17\n",
      "left AT count:  16\n",
      "----------\n"
     ]
    },
    {
     "name": "stderr",
     "output_type": "stream",
     "text": [
      "ERROR:root:AT or m6a proportion > 1.\n"
     ]
    },
    {
     "name": "stdout",
     "output_type": "stream",
     "text": [
      "motif:  chr4_177231285_+\n",
      "query name:  m54329U_210326_192251/23593316/ccs\n",
      "left AT prop:  0.325\n",
      "left m6a prop:  1.0769230769230769\n",
      "left m6a count:  14\n",
      "left AT count:  13\n",
      "----------\n"
     ]
    },
    {
     "name": "stderr",
     "output_type": "stream",
     "text": [
      "ERROR:root:AT or m6a proportion > 1.\n"
     ]
    },
    {
     "name": "stdout",
     "output_type": "stream",
     "text": [
      "motif:  chr4_189233043_-\n",
      "query name:  m64076_210328_012155/107022985/ccs\n",
      "right AT prop:  0.5\n",
      "right m6a prop:  1.2\n",
      "right m6a count:  24\n",
      "right AT count:  20\n",
      "----------\n"
     ]
    },
    {
     "name": "stderr",
     "output_type": "stream",
     "text": [
      "ERROR:root:AT or m6a proportion > 1.\n"
     ]
    },
    {
     "name": "stdout",
     "output_type": "stream",
     "text": [
      "motif:  chr4_4095178_+\n",
      "query name:  m64076_221119_202646/136839673/ccs\n",
      "motif AT prop:  0.2857142857142857\n",
      "motif m6a prop:  1.1\n",
      "motif m6a count:  11\n",
      "motif AT count:  10\n",
      "----------\n"
     ]
    },
    {
     "name": "stderr",
     "output_type": "stream",
     "text": [
      "ERROR:root:AT or m6a proportion > 1.\n"
     ]
    },
    {
     "name": "stdout",
     "output_type": "stream",
     "text": [
      "motif:  chr4_8381782_+\n",
      "query name:  m54329U_210326_192251/172296676/ccs\n",
      "motif AT prop:  0.22857142857142856\n",
      "motif m6a prop:  1.125\n",
      "motif m6a count:  9\n",
      "motif AT count:  8\n",
      "----------\n"
     ]
    },
    {
     "name": "stderr",
     "output_type": "stream",
     "text": [
      "ERROR:root:AT or m6a proportion > 1.\n"
     ]
    },
    {
     "name": "stdout",
     "output_type": "stream",
     "text": [
      "motif:  chr5_14713736_+\n",
      "query name:  m64076_210328_012155/109447063/ccs\n",
      "left AT prop:  0.3\n",
      "left m6a prop:  1.0833333333333333\n",
      "left m6a count:  13\n",
      "left AT count:  12\n",
      "----------\n"
     ]
    },
    {
     "name": "stderr",
     "output_type": "stream",
     "text": [
      "ERROR:root:AT or m6a proportion > 1.\n"
     ]
    },
    {
     "name": "stdout",
     "output_type": "stream",
     "text": [
      "motif:  chr5_151104352_+\n",
      "query name:  m54329U_210323_190418/164039250/ccs\n",
      "left AT prop:  0.35\n",
      "left m6a prop:  1.0714285714285714\n",
      "left m6a count:  15\n",
      "left AT count:  14\n",
      "----------\n"
     ]
    },
    {
     "name": "stderr",
     "output_type": "stream",
     "text": [
      "ERROR:root:AT or m6a proportion > 1.\n"
     ]
    },
    {
     "name": "stdout",
     "output_type": "stream",
     "text": [
      "motif:  chr5_176661212_-\n",
      "query name:  m64076_221119_202646/106496455/ccs\n",
      "left AT prop:  0.275\n",
      "left m6a prop:  1.0909090909090908\n",
      "left m6a count:  12\n",
      "left AT count:  11\n",
      "----------\n"
     ]
    },
    {
     "name": "stderr",
     "output_type": "stream",
     "text": [
      "ERROR:root:AT or m6a proportion > 1.\n",
      "ERROR:root:AT or m6a proportion > 1.\n"
     ]
    },
    {
     "name": "stdout",
     "output_type": "stream",
     "text": [
      "motif:  chr5_178205176_+\n",
      "query name:  m54329U_210814_130637/24511549/ccs\n",
      "left AT prop:  0.15\n",
      "left m6a prop:  1.1666666666666667\n",
      "left m6a count:  7\n",
      "left AT count:  6\n",
      "----------\n",
      "motif:  chr5_178323631_+\n",
      "query name:  m64076_221119_202646/127666088/ccs\n",
      "left AT prop:  0.325\n",
      "left m6a prop:  1.0769230769230769\n",
      "left m6a count:  14\n",
      "left AT count:  13\n",
      "----------\n"
     ]
    },
    {
     "name": "stderr",
     "output_type": "stream",
     "text": [
      "ERROR:root:AT or m6a proportion > 1.\n"
     ]
    },
    {
     "name": "stdout",
     "output_type": "stream",
     "text": [
      "motif:  chr5_179368937_+\n",
      "query name:  m64076_210328_012155/77201539/ccs\n",
      "motif AT prop:  0.3142857142857143\n",
      "motif m6a prop:  1.0909090909090908\n",
      "motif m6a count:  12\n",
      "motif AT count:  11\n",
      "----------\n"
     ]
    },
    {
     "name": "stderr",
     "output_type": "stream",
     "text": [
      "ERROR:root:AT or m6a proportion > 1.\n"
     ]
    },
    {
     "name": "stdout",
     "output_type": "stream",
     "text": [
      "motif:  chr5_302190_-\n",
      "query name:  m54329U_210323_190418/6621178/ccs\n",
      "left AT prop:  0.45\n",
      "left m6a prop:  1.0555555555555556\n",
      "left m6a count:  19\n",
      "left AT count:  18\n",
      "----------\n"
     ]
    },
    {
     "name": "stderr",
     "output_type": "stream",
     "text": [
      "ERROR:root:AT or m6a proportion > 1.\n"
     ]
    },
    {
     "name": "stdout",
     "output_type": "stream",
     "text": [
      "motif:  chr5_31639334_-\n",
      "query name:  m54329U_210323_190418/180290970/ccs\n",
      "left AT prop:  0.15\n",
      "left m6a prop:  1.1666666666666667\n",
      "left m6a count:  7\n",
      "left AT count:  6\n",
      "----------\n"
     ]
    },
    {
     "name": "stderr",
     "output_type": "stream",
     "text": [
      "ERROR:root:AT or m6a proportion > 1.\n"
     ]
    },
    {
     "name": "stdout",
     "output_type": "stream",
     "text": [
      "motif:  chr5_5535441_+\n",
      "query name:  m54329U_210813_020940/90505888/ccs\n",
      "left AT prop:  0.35\n",
      "left m6a prop:  1.0714285714285714\n",
      "left m6a count:  15\n",
      "left AT count:  14\n",
      "----------\n"
     ]
    },
    {
     "name": "stderr",
     "output_type": "stream",
     "text": [
      "ERROR:root:AT or m6a proportion > 1.\n"
     ]
    },
    {
     "name": "stdout",
     "output_type": "stream",
     "text": [
      "motif:  chr5_56816991_-\n",
      "query name:  m64076_221119_202646/66388618/ccs\n",
      "left AT prop:  0.225\n",
      "left m6a prop:  1.1111111111111112\n",
      "left m6a count:  10\n",
      "left AT count:  9\n",
      "----------\n"
     ]
    },
    {
     "name": "stderr",
     "output_type": "stream",
     "text": [
      "ERROR:root:AT or m6a proportion > 1.\n"
     ]
    },
    {
     "name": "stdout",
     "output_type": "stream",
     "text": [
      "motif:  chr5_77030758_-\n",
      "query name:  m54329U_210814_130637/4391215/ccs\n",
      "left AT prop:  0.2\n",
      "left m6a prop:  1.125\n",
      "left m6a count:  9\n",
      "left AT count:  8\n",
      "----------\n"
     ]
    },
    {
     "name": "stderr",
     "output_type": "stream",
     "text": [
      "ERROR:root:AT or m6a proportion > 1.\n"
     ]
    },
    {
     "name": "stdout",
     "output_type": "stream",
     "text": [
      "motif:  chr6_107141207_+\n",
      "query name:  m54329U_210326_192251/45286092/ccs\n",
      "left AT prop:  0.35\n",
      "left m6a prop:  1.0714285714285714\n",
      "left m6a count:  15\n",
      "left AT count:  14\n",
      "----------\n"
     ]
    },
    {
     "name": "stderr",
     "output_type": "stream",
     "text": [
      "ERROR:root:AT or m6a proportion > 1.\n"
     ]
    },
    {
     "name": "stdout",
     "output_type": "stream",
     "text": [
      "motif:  chr6_21954482_-\n",
      "query name:  m64076_221119_202646/13109991/ccs\n",
      "left AT prop:  0.3\n",
      "left m6a prop:  1.0833333333333333\n",
      "left m6a count:  13\n",
      "left AT count:  12\n",
      "----------\n"
     ]
    },
    {
     "name": "stderr",
     "output_type": "stream",
     "text": [
      "ERROR:root:AT or m6a proportion > 1.\n"
     ]
    },
    {
     "name": "stdout",
     "output_type": "stream",
     "text": [
      "motif:  chr6_74055529_+\n",
      "query name:  m64076_210328_012155/147130615/ccs\n",
      "left AT prop:  0.35\n",
      "left m6a prop:  1.0714285714285714\n",
      "left m6a count:  15\n",
      "left AT count:  14\n",
      "----------\n"
     ]
    },
    {
     "name": "stderr",
     "output_type": "stream",
     "text": [
      "ERROR:root:AT or m6a proportion > 1.\n",
      "ERROR:root:AT or m6a proportion > 1.\n"
     ]
    },
    {
     "name": "stdout",
     "output_type": "stream",
     "text": [
      "motif:  chr7_101282942_+\n",
      "query name:  m54329U_210326_192251/127206689/ccs\n",
      "left AT prop:  0.35\n",
      "left m6a prop:  1.0714285714285714\n",
      "left m6a count:  15\n",
      "left AT count:  14\n",
      "----------\n",
      "motif:  chr7_101309155_-\n",
      "query name:  m54329U_210810_004956/144179752/ccs\n",
      "left AT prop:  0.4\n",
      "left m6a prop:  1.0625\n",
      "left m6a count:  17\n",
      "left AT count:  16\n",
      "----------\n"
     ]
    },
    {
     "name": "stderr",
     "output_type": "stream",
     "text": [
      "ERROR:root:AT or m6a proportion > 1.\n",
      "ERROR:root:AT or m6a proportion > 1.\n"
     ]
    },
    {
     "name": "stdout",
     "output_type": "stream",
     "text": [
      "motif:  chr7_1196501_+\n",
      "query name:  m54329U_210323_190418/162136615/ccs\n",
      "left AT prop:  0.35\n",
      "left m6a prop:  1.0714285714285714\n",
      "left m6a count:  15\n",
      "left AT count:  14\n",
      "----------\n",
      "motif:  chr7_1196682_+\n",
      "query name:  m54329U_210323_190418/133106259/ccs\n",
      "right AT prop:  0.325\n",
      "right m6a prop:  1.4615384615384615\n",
      "right m6a count:  19\n",
      "right AT count:  13\n",
      "----------\n"
     ]
    },
    {
     "name": "stderr",
     "output_type": "stream",
     "text": [
      "ERROR:root:AT or m6a proportion > 1.\n"
     ]
    },
    {
     "name": "stdout",
     "output_type": "stream",
     "text": [
      "motif:  chr7_140673611_+\n",
      "query name:  m54329U_210813_020940/174787105/ccs\n",
      "left AT prop:  0.25\n",
      "left m6a prop:  1.1\n",
      "left m6a count:  11\n",
      "left AT count:  10\n",
      "----------\n"
     ]
    },
    {
     "name": "stderr",
     "output_type": "stream",
     "text": [
      "ERROR:root:AT or m6a proportion > 1.\n"
     ]
    },
    {
     "name": "stdout",
     "output_type": "stream",
     "text": [
      "motif:  chr7_149887_+\n",
      "query name:  m54329U_210323_190418/115477131/ccs\n",
      "motif AT prop:  0.2571428571428571\n",
      "motif m6a prop:  1.1111111111111112\n",
      "motif m6a count:  10\n",
      "motif AT count:  9\n",
      "----------\n"
     ]
    },
    {
     "name": "stderr",
     "output_type": "stream",
     "text": [
      "ERROR:root:AT or m6a proportion > 1.\n"
     ]
    },
    {
     "name": "stdout",
     "output_type": "stream",
     "text": [
      "motif:  chr7_42617981_-\n",
      "query name:  m54329U_210814_130637/131924616/ccs\n",
      "left AT prop:  0.3\n",
      "left m6a prop:  1.0833333333333333\n",
      "left m6a count:  13\n",
      "left AT count:  12\n",
      "----------\n"
     ]
    },
    {
     "name": "stderr",
     "output_type": "stream",
     "text": [
      "ERROR:root:AT or m6a proportion > 1.\n"
     ]
    },
    {
     "name": "stdout",
     "output_type": "stream",
     "text": [
      "motif:  chr7_47794356_+\n",
      "query name:  m64076_210328_012155/10683557/ccs\n",
      "left AT prop:  0.375\n",
      "left m6a prop:  1.0666666666666667\n",
      "left m6a count:  16\n",
      "left AT count:  15\n",
      "----------\n"
     ]
    },
    {
     "name": "stderr",
     "output_type": "stream",
     "text": [
      "ERROR:root:AT or m6a proportion > 1.\n"
     ]
    },
    {
     "name": "stdout",
     "output_type": "stream",
     "text": [
      "motif:  chr7_49774191_-\n",
      "query name:  m54329U_210326_192251/86245471/ccs\n",
      "left AT prop:  0.275\n",
      "left m6a prop:  1.0909090909090908\n",
      "left m6a count:  12\n",
      "left AT count:  11\n",
      "----------\n"
     ]
    },
    {
     "name": "stderr",
     "output_type": "stream",
     "text": [
      "ERROR:root:AT or m6a proportion > 1.\n",
      "ERROR:root:AT or m6a proportion > 1.\n",
      "ERROR:root:AT or m6a proportion > 1.\n",
      "ERROR:root:AT or m6a proportion > 1.\n",
      "ERROR:root:AT or m6a proportion > 1.\n",
      "ERROR:root:AT or m6a proportion > 1.\n",
      "ERROR:root:AT or m6a proportion > 1.\n",
      "ERROR:root:AT or m6a proportion > 1.\n",
      "ERROR:root:AT or m6a proportion > 1.\n",
      "ERROR:root:AT or m6a proportion > 1.\n",
      "ERROR:root:AT or m6a proportion > 1.\n",
      "ERROR:root:AT or m6a proportion > 1.\n",
      "ERROR:root:AT or m6a proportion > 1.\n",
      "ERROR:root:AT or m6a proportion > 1.\n",
      "ERROR:root:AT or m6a proportion > 1.\n",
      "ERROR:root:AT or m6a proportion > 1.\n",
      "ERROR:root:AT or m6a proportion > 1.\n",
      "ERROR:root:AT or m6a proportion > 1.\n",
      "ERROR:root:AT or m6a proportion > 1.\n",
      "ERROR:root:AT or m6a proportion > 1.\n",
      "ERROR:root:AT or m6a proportion > 1.\n",
      "ERROR:root:AT or m6a proportion > 1.\n",
      "ERROR:root:AT or m6a proportion > 1.\n",
      "ERROR:root:AT or m6a proportion > 1.\n",
      "ERROR:root:AT or m6a proportion > 1.\n",
      "ERROR:root:AT or m6a proportion > 1.\n",
      "ERROR:root:AT or m6a proportion > 1.\n"
     ]
    },
    {
     "name": "stdout",
     "output_type": "stream",
     "text": [
      "motif:  chr7_56370000_+\n",
      "query name:  m54329U_210814_130637/140510731/ccs\n",
      "motif AT prop:  0.2571428571428571\n",
      "motif m6a prop:  1.3333333333333333\n",
      "motif m6a count:  12\n",
      "motif AT count:  9\n",
      "----------\n",
      "motif:  chr7_56370000_+\n",
      "query name:  m64076_210328_012155/97453524/ccs\n",
      "left AT prop:  0.275\n",
      "left m6a prop:  1.0909090909090908\n",
      "left m6a count:  12\n",
      "left AT count:  11\n",
      "----------\n",
      "motif:  chr7_56370000_+\n",
      "query name:  m64076_210328_012155/97453524/ccs\n",
      "motif AT prop:  0.2571428571428571\n",
      "motif m6a prop:  1.5555555555555556\n",
      "motif m6a count:  14\n",
      "motif AT count:  9\n",
      "----------\n",
      "motif:  chr7_56370000_+\n",
      "query name:  m64076_221119_202646/176423034/ccs\n",
      "left AT prop:  0.25\n",
      "left m6a prop:  1.3\n",
      "left m6a count:  13\n",
      "left AT count:  10\n",
      "----------\n",
      "motif:  chr7_56370000_+\n",
      "query name:  m64076_221119_202646/176423034/ccs\n",
      "right AT prop:  0.3\n",
      "right m6a prop:  1.3333333333333333\n",
      "right m6a count:  16\n",
      "right AT count:  12\n",
      "----------\n",
      "motif:  chr7_56370000_+\n",
      "query name:  m64076_221119_202646/176423034/ccs\n",
      "motif AT prop:  0.3142857142857143\n",
      "motif m6a prop:  1.1818181818181819\n",
      "motif m6a count:  13\n",
      "motif AT count:  11\n",
      "----------\n",
      "motif:  chr7_56370307_-\n",
      "query name:  m64076_210328_012155/80546483/ccs\n",
      "right AT prop:  0.275\n",
      "right m6a prop:  1.1818181818181819\n",
      "right m6a count:  13\n",
      "right AT count:  11\n",
      "----------\n",
      "motif:  chr7_56370804_+\n",
      "query name:  m64076_221119_202646/176423034/ccs\n",
      "right AT prop:  0.325\n",
      "right m6a prop:  1.1538461538461537\n",
      "right m6a count:  15\n",
      "right AT count:  13\n",
      "----------\n",
      "motif:  chr7_56371229_+\n",
      "query name:  m54329U_210814_130637/140510731/ccs\n",
      "left AT prop:  0.275\n",
      "left m6a prop:  1.5454545454545454\n",
      "left m6a count:  17\n",
      "left AT count:  11\n",
      "----------\n",
      "motif:  chr7_56371557_-\n",
      "query name:  m64076_221119_202646/176423034/ccs\n",
      "right AT prop:  0.325\n",
      "right m6a prop:  1.1538461538461537\n",
      "right m6a count:  15\n",
      "right AT count:  13\n",
      "----------\n",
      "motif:  chr7_56372791_-\n",
      "query name:  m64076_221119_202646/176423034/ccs\n",
      "motif AT prop:  0.34285714285714286\n",
      "motif m6a prop:  1.1666666666666667\n",
      "motif m6a count:  14\n",
      "motif AT count:  12\n",
      "----------\n",
      "motif:  chr7_56372855_-\n",
      "query name:  m54329U_210326_192251/63047342/ccs\n",
      "motif AT prop:  0.3142857142857143\n",
      "motif m6a prop:  1.0909090909090908\n",
      "motif m6a count:  12\n",
      "motif AT count:  11\n",
      "----------\n",
      "motif:  chr7_56372855_-\n",
      "query name:  m54329U_210814_130637/140510731/ccs\n",
      "left AT prop:  0.225\n",
      "left m6a prop:  1.1111111111111112\n",
      "left m6a count:  10\n",
      "left AT count:  9\n",
      "----------\n",
      "motif:  chr7_56373396_+\n",
      "query name:  m54329U_210323_190418/103614602/ccs\n",
      "right AT prop:  0.325\n",
      "right m6a prop:  1.0769230769230769\n",
      "right m6a count:  14\n",
      "right AT count:  13\n",
      "----------\n",
      "motif:  chr7_56373396_+\n",
      "query name:  m54329U_210326_192251/63047342/ccs\n",
      "motif AT prop:  0.37142857142857144\n",
      "motif m6a prop:  1.2307692307692308\n",
      "motif m6a count:  16\n",
      "motif AT count:  13\n",
      "----------\n",
      "motif:  chr7_56373821_+\n",
      "query name:  m54329U_210323_190418/103614602/ccs\n",
      "left AT prop:  0.275\n",
      "left m6a prop:  1.9090909090909092\n",
      "left m6a count:  21\n",
      "left AT count:  11\n",
      "----------\n",
      "motif:  chr7_56373821_+\n",
      "query name:  m54329U_210323_190418/103614602/ccs\n",
      "motif AT prop:  0.2571428571428571\n",
      "motif m6a prop:  1.1111111111111112\n",
      "motif m6a count:  10\n",
      "motif AT count:  9\n",
      "----------\n",
      "motif:  chr7_56373821_+\n",
      "query name:  m54329U_210326_192251/169543082/ccs\n",
      "motif AT prop:  0.2571428571428571\n",
      "motif m6a prop:  1.4444444444444444\n",
      "motif m6a count:  13\n",
      "motif AT count:  9\n",
      "----------\n",
      "motif:  chr7_56373821_+\n",
      "query name:  m54329U_210326_192251/63047342/ccs\n",
      "left AT prop:  0.25\n",
      "left m6a prop:  1.1\n",
      "left m6a count:  11\n",
      "left AT count:  10\n",
      "----------\n",
      "motif:  chr7_56374085_-\n",
      "query name:  m64076_221119_202646/176423034/ccs\n",
      "right AT prop:  0.425\n",
      "right m6a prop:  1.2352941176470589\n",
      "right m6a count:  21\n",
      "right AT count:  17\n",
      "----------\n",
      "motif:  chr7_56374149_-\n",
      "query name:  m54329U_210814_130637/140510731/ccs\n",
      "left AT prop:  0.225\n",
      "left m6a prop:  1.5555555555555556\n",
      "left m6a count:  14\n",
      "left AT count:  9\n",
      "----------\n",
      "motif:  chr7_56374149_-\n",
      "query name:  m54329U_210814_130637/140510731/ccs\n",
      "motif AT prop:  0.3142857142857143\n",
      "motif m6a prop:  1.3636363636363635\n",
      "motif m6a count:  15\n",
      "motif AT count:  11\n",
      "----------\n",
      "motif:  chr7_56374693_+\n",
      "query name:  m54329U_210814_130637/140510731/ccs\n",
      "left AT prop:  0.325\n",
      "left m6a prop:  1.3076923076923077\n",
      "left m6a count:  17\n",
      "left AT count:  13\n",
      "----------\n",
      "motif:  chr7_56374693_+\n",
      "query name:  m54329U_210814_130637/140510731/ccs\n",
      "motif AT prop:  0.37142857142857144\n",
      "motif m6a prop:  1.1538461538461537\n",
      "motif m6a count:  15\n",
      "motif AT count:  13\n",
      "----------\n",
      "motif:  chr7_56374693_+\n",
      "query name:  m64076_210328_012155/80546483/ccs\n",
      "right AT prop:  0.325\n",
      "right m6a prop:  1.3076923076923077\n",
      "right m6a count:  17\n",
      "right AT count:  13\n",
      "----------\n",
      "motif:  chr7_56375116_+\n",
      "query name:  m64076_221119_202646/176423034/ccs\n",
      "right AT prop:  0.325\n",
      "right m6a prop:  1.0769230769230769\n",
      "right m6a count:  14\n",
      "right AT count:  13\n",
      "----------\n",
      "motif:  chr7_56375116_+\n",
      "query name:  m64076_221119_202646/176423034/ccs\n",
      "motif AT prop:  0.2571428571428571\n",
      "motif m6a prop:  1.3333333333333333\n",
      "motif m6a count:  12\n",
      "motif AT count:  9\n",
      "----------\n"
     ]
    },
    {
     "name": "stderr",
     "output_type": "stream",
     "text": [
      "ERROR:root:AT or m6a proportion > 1.\n"
     ]
    },
    {
     "name": "stdout",
     "output_type": "stream",
     "text": [
      "motif:  chr7_7567261_+\n",
      "query name:  m54329U_210810_004956/28837171/ccs\n",
      "left AT prop:  0.15\n",
      "left m6a prop:  1.1666666666666667\n",
      "left m6a count:  7\n",
      "left AT count:  6\n",
      "----------\n"
     ]
    },
    {
     "name": "stderr",
     "output_type": "stream",
     "text": [
      "ERROR:root:AT or m6a proportion > 1.\n"
     ]
    },
    {
     "name": "stdout",
     "output_type": "stream",
     "text": [
      "motif:  chr8_10731513_-\n",
      "query name:  m54329U_210323_190418/11010997/ccs\n",
      "left AT prop:  0.275\n",
      "left m6a prop:  1.0909090909090908\n",
      "left m6a count:  12\n",
      "left AT count:  11\n",
      "----------\n"
     ]
    },
    {
     "name": "stderr",
     "output_type": "stream",
     "text": [
      "ERROR:root:AT or m6a proportion > 1.\n"
     ]
    },
    {
     "name": "stdout",
     "output_type": "stream",
     "text": [
      "motif:  chr8_21789072_+\n",
      "query name:  m54329U_210326_192251/41486654/ccs\n",
      "left AT prop:  0.15\n",
      "left m6a prop:  1.1666666666666667\n",
      "left m6a count:  7\n",
      "left AT count:  6\n",
      "----------\n"
     ]
    },
    {
     "name": "stderr",
     "output_type": "stream",
     "text": [
      "ERROR:root:AT or m6a proportion > 1.\n"
     ]
    },
    {
     "name": "stdout",
     "output_type": "stream",
     "text": [
      "motif:  chr8_27559083_-\n",
      "query name:  m54329U_210323_190418/13699591/ccs\n",
      "motif AT prop:  0.4\n",
      "motif m6a prop:  1.0714285714285714\n",
      "motif m6a count:  15\n",
      "motif AT count:  14\n",
      "----------\n"
     ]
    },
    {
     "name": "stderr",
     "output_type": "stream",
     "text": [
      "ERROR:root:AT or m6a proportion > 1.\n"
     ]
    },
    {
     "name": "stdout",
     "output_type": "stream",
     "text": [
      "motif:  chr8_80873974_+\n",
      "query name:  m54329U_210326_192251/78579260/ccs\n",
      "motif AT prop:  0.11428571428571428\n",
      "motif m6a prop:  1.25\n",
      "motif m6a count:  5\n",
      "motif AT count:  4\n",
      "----------\n"
     ]
    },
    {
     "name": "stderr",
     "output_type": "stream",
     "text": [
      "ERROR:root:AT or m6a proportion > 1.\n",
      "ERROR:root:AT or m6a proportion > 1.\n"
     ]
    },
    {
     "name": "stdout",
     "output_type": "stream",
     "text": [
      "motif:  chr8_85804443_-\n",
      "query name:  m64076_210328_012155/10421026/ccs\n",
      "left AT prop:  0.275\n",
      "left m6a prop:  1.0909090909090908\n",
      "left m6a count:  12\n",
      "left AT count:  11\n",
      "----------\n",
      "motif:  chr8_85806118_-\n",
      "query name:  m64076_210328_012155/61408625/ccs\n",
      "motif AT prop:  0.42857142857142855\n",
      "motif m6a prop:  1.6\n",
      "motif m6a count:  24\n",
      "motif AT count:  15\n",
      "----------\n"
     ]
    },
    {
     "name": "stderr",
     "output_type": "stream",
     "text": [
      "ERROR:root:AT or m6a proportion > 1.\n"
     ]
    },
    {
     "name": "stdout",
     "output_type": "stream",
     "text": [
      "motif:  chr9_119932437_-\n",
      "query name:  m54329U_210323_190418/84806089/ccs\n",
      "motif AT prop:  0.4\n",
      "motif m6a prop:  1.0714285714285714\n",
      "motif m6a count:  15\n",
      "motif AT count:  14\n",
      "----------\n"
     ]
    },
    {
     "name": "stderr",
     "output_type": "stream",
     "text": [
      "ERROR:root:AT or m6a proportion > 1.\n"
     ]
    },
    {
     "name": "stdout",
     "output_type": "stream",
     "text": [
      "motif:  chr9_120918914_+\n",
      "query name:  m54329U_210323_190418/159842446/ccs\n",
      "motif AT prop:  0.42857142857142855\n",
      "motif m6a prop:  1.0666666666666667\n",
      "motif m6a count:  16\n",
      "motif AT count:  15\n",
      "----------\n"
     ]
    },
    {
     "name": "stderr",
     "output_type": "stream",
     "text": [
      "ERROR:root:AT or m6a proportion > 1.\n"
     ]
    },
    {
     "name": "stdout",
     "output_type": "stream",
     "text": [
      "motif:  chr9_127350676_+\n",
      "query name:  m64076_210328_012155/151388618/ccs\n",
      "left AT prop:  0.35\n",
      "left m6a prop:  1.0714285714285714\n",
      "left m6a count:  15\n",
      "left AT count:  14\n",
      "----------\n"
     ]
    },
    {
     "name": "stderr",
     "output_type": "stream",
     "text": [
      "ERROR:root:AT or m6a proportion > 1.\n",
      "ERROR:root:AT or m6a proportion > 1.\n"
     ]
    },
    {
     "name": "stdout",
     "output_type": "stream",
     "text": [
      "motif:  chr9_128846101_+\n",
      "query name:  m64076_210328_012155/10291412/ccs\n",
      "motif AT prop:  0.37142857142857144\n",
      "motif m6a prop:  1.0769230769230769\n",
      "motif m6a count:  14\n",
      "motif AT count:  13\n",
      "----------\n",
      "motif:  chr9_128892276_-\n",
      "query name:  m54329U_210326_192251/48496769/ccs\n",
      "left AT prop:  0.325\n",
      "left m6a prop:  1.0769230769230769\n",
      "left m6a count:  14\n",
      "left AT count:  13\n",
      "----------\n"
     ]
    },
    {
     "name": "stderr",
     "output_type": "stream",
     "text": [
      "ERROR:root:AT or m6a proportion > 1.\n"
     ]
    },
    {
     "name": "stdout",
     "output_type": "stream",
     "text": [
      "motif:  chr9_136327387_-\n",
      "query name:  m54329U_210323_190418/64751296/ccs\n",
      "left AT prop:  0.1\n",
      "left m6a prop:  1.25\n",
      "left m6a count:  5\n",
      "left AT count:  4\n",
      "----------\n"
     ]
    },
    {
     "name": "stderr",
     "output_type": "stream",
     "text": [
      "ERROR:root:AT or m6a proportion > 1.\n"
     ]
    },
    {
     "name": "stdout",
     "output_type": "stream",
     "text": [
      "motif:  chr9_137200471_-\n",
      "query name:  m54329U_210813_020940/106889294/ccs\n",
      "left AT prop:  0.075\n",
      "left m6a prop:  1.3333333333333333\n",
      "left m6a count:  4\n",
      "left AT count:  3\n",
      "----------\n"
     ]
    },
    {
     "name": "stderr",
     "output_type": "stream",
     "text": [
      "ERROR:root:AT or m6a proportion > 1.\n",
      "ERROR:root:AT or m6a proportion > 1.\n",
      "ERROR:root:AT or m6a proportion > 1.\n",
      "ERROR:root:AT or m6a proportion > 1.\n"
     ]
    },
    {
     "name": "stdout",
     "output_type": "stream",
     "text": [
      "motif:  chr9_137716090_+\n",
      "query name:  m64076_221119_202646/34341802/ccs\n",
      "left AT prop:  0.4\n",
      "left m6a prop:  1.375\n",
      "left m6a count:  22\n",
      "left AT count:  16\n",
      "----------\n",
      "motif:  chr9_137716090_+\n",
      "query name:  m64076_221119_202646/34341802/ccs\n",
      "motif AT prop:  0.45714285714285713\n",
      "motif m6a prop:  1.0625\n",
      "motif m6a count:  17\n",
      "motif AT count:  16\n",
      "----------\n",
      "motif:  chr9_137716148_+\n",
      "query name:  m64076_221119_202646/34341802/ccs\n",
      "left AT prop:  0.4\n",
      "left m6a prop:  1.0625\n",
      "left m6a count:  17\n",
      "left AT count:  16\n",
      "----------\n",
      "motif:  chr9_137716377_+\n",
      "query name:  m64076_221119_202646/34341802/ccs\n",
      "left AT prop:  0.425\n",
      "left m6a prop:  1.8235294117647058\n",
      "left m6a count:  31\n",
      "left AT count:  17\n",
      "----------\n"
     ]
    },
    {
     "name": "stderr",
     "output_type": "stream",
     "text": [
      "ERROR:root:AT or m6a proportion > 1.\n"
     ]
    },
    {
     "name": "stdout",
     "output_type": "stream",
     "text": [
      "motif:  chr9_63822769_-\n",
      "query name:  m64076_221119_202646/124388632/ccs\n",
      "left AT prop:  0.35\n",
      "left m6a prop:  1.0714285714285714\n",
      "left m6a count:  15\n",
      "left AT count:  14\n",
      "----------\n"
     ]
    },
    {
     "name": "stderr",
     "output_type": "stream",
     "text": [
      "ERROR:root:AT or m6a proportion > 1.\n"
     ]
    },
    {
     "name": "stdout",
     "output_type": "stream",
     "text": [
      "motif:  chr9_70044853_-\n",
      "query name:  m64076_210328_012155/49611215/ccs\n",
      "left AT prop:  0.175\n",
      "left m6a prop:  1.1428571428571428\n",
      "left m6a count:  8\n",
      "left AT count:  7\n",
      "----------\n"
     ]
    },
    {
     "name": "stderr",
     "output_type": "stream",
     "text": [
      "ERROR:root:AT or m6a proportion > 1.\n"
     ]
    },
    {
     "name": "stdout",
     "output_type": "stream",
     "text": [
      "motif:  chrX_117769273_-\n",
      "query name:  m54329U_210323_190418/177212055/ccs\n",
      "left AT prop:  0.225\n",
      "left m6a prop:  1.1111111111111112\n",
      "left m6a count:  10\n",
      "left AT count:  9\n",
      "----------\n"
     ]
    },
    {
     "name": "stderr",
     "output_type": "stream",
     "text": [
      "ERROR:root:AT or m6a proportion > 1.\n"
     ]
    },
    {
     "name": "stdout",
     "output_type": "stream",
     "text": [
      "motif:  chrX_139691715_-\n",
      "query name:  m64076_210328_012155/90701923/ccs\n",
      "left AT prop:  0.225\n",
      "left m6a prop:  1.1111111111111112\n",
      "left m6a count:  10\n",
      "left AT count:  9\n",
      "----------\n",
      "Features: ['msp_size', 'left_AT_count', 'right_AT_count', 'motif_AT_count', 'left_AT_prop', 'right_AT_prop', 'motif_AT_prop', 'left_m6a_count', 'right_m6a_count', 'motif_m6a_count', 'left_m6a_prop', 'right_m6a_prop', 'motif_m6a_prop', 'rle_max', 'AAA_count', 'AAA_m6a_prop', 'AAC_count', 'AAC_m6a_prop', 'AAG_count', 'AAG_m6a_prop', 'AAT_count', 'AAT_m6a_prop', 'ACA_count', 'ACA_m6a_prop', 'ACC_count', 'ACC_m6a_prop', 'ACG_count', 'ACG_m6a_prop', 'ACT_count', 'ACT_m6a_prop', 'AGA_count', 'AGA_m6a_prop', 'AGC_count', 'AGC_m6a_prop', 'AGG_count', 'AGG_m6a_prop', 'ATA_count', 'ATA_m6a_prop', 'ATC_count', 'ATC_m6a_prop', 'ATG_count', 'ATG_m6a_prop', 'CAA_count', 'CAA_m6a_prop', 'CAC_count', 'CAC_m6a_prop', 'CAG_count', 'CAG_m6a_prop', 'CCA_count', 'CCA_m6a_prop', 'CGA_count', 'CGA_m6a_prop', 'CTA_count', 'CTA_m6a_prop', 'CTC_count', 'CTC_m6a_prop', 'GAA_count', 'GAA_m6a_prop', 'GAC_count', 'GAC_m6a_prop', 'GCA_count', 'GCA_m6a_prop', 'GGA_count', 'GGA_m6a_prop', 'GTA_count', 'GTA_m6a_prop', 'TAA_count', 'TAA_m6a_prop', 'TCA_count', 'TCA_m6a_prop']\n",
      "Total rows: 326,788\n",
      "Total columns: 72\n",
      "CPU times: user 9min 37s, sys: 7.38 s, total: 9min 44s\n",
      "Wall time: 9min 48s\n"
     ]
    }
   ],
   "source": [
    "%%time\n",
    "# extract features by motif/query group\n",
    "print(\"\\nAggregating features!\")\n",
    "res = df.groupby(grouping_cols).apply(lambda x: agg_features(x)).reset_index()\n",
    "print(\"Features: {}\".format(res.columns.tolist()[2:]))\n",
    "print(\"Total rows: \" + \"{:,}\".format(res.shape[0]))\n",
    "print(\"Total columns: \" + \"{:,}\".format(res.shape[1]))"
   ]
  },
  {
   "cell_type": "code",
   "execution_count": 617,
   "id": "b7d7086d",
   "metadata": {},
   "outputs": [],
   "source": [
    "# group grouping cols as column\n",
    "res.insert(loc=0, column=\"motif_query\", \n",
    "          value=res[grouping_cols].apply(lambda row: \"/\".join(row.values.astype(str)), axis=1))"
   ]
  },
  {
   "cell_type": "code",
   "execution_count": 625,
   "id": "e8e82ca0",
   "metadata": {},
   "outputs": [
    {
     "name": "stdout",
     "output_type": "stream",
     "text": [
      "rows: 326,788 | cols: 34\n"
     ]
    }
   ],
   "source": [
    "# all proportion cols\n",
    "proportion_columns = res.columns.str.contains(\"prop\")\n",
    "\n",
    "res_prop = res.loc[:,res.columns.str.contains(\"prop\")]\n",
    "print(\"rows: {:,} | cols: {:,}\".format(res_prop.shape[0], res_prop.shape[1]))"
   ]
  },
  {
   "cell_type": "code",
   "execution_count": 631,
   "id": "4ca65aad",
   "metadata": {},
   "outputs": [
    {
     "data": {
      "text/plain": [
       "326318"
      ]
     },
     "execution_count": 631,
     "metadata": {},
     "output_type": "execute_result"
    }
   ],
   "source": [
    "326553-235"
   ]
  },
  {
   "cell_type": "code",
   "execution_count": 635,
   "id": "7455731f",
   "metadata": {},
   "outputs": [
    {
     "name": "stderr",
     "output_type": "stream",
     "text": [
      "/tmp/ipykernel_17188/243344737.py:1: FutureWarning: In a future version of pandas all arguments of DataFrame.any and Series.any will be keyword-only.\n",
      "  res[~(res.loc[:,res.columns.str.contains(\"prop\")] > 1).any(1)]\n"
     ]
    },
    {
     "data": {
      "text/html": [
       "<div>\n",
       "<style scoped>\n",
       "    .dataframe tbody tr th:only-of-type {\n",
       "        vertical-align: middle;\n",
       "    }\n",
       "\n",
       "    .dataframe tbody tr th {\n",
       "        vertical-align: top;\n",
       "    }\n",
       "\n",
       "    .dataframe thead th {\n",
       "        text-align: right;\n",
       "    }\n",
       "</style>\n",
       "<table border=\"1\" class=\"dataframe\">\n",
       "  <thead>\n",
       "    <tr style=\"text-align: right;\">\n",
       "      <th></th>\n",
       "      <th>motif_query</th>\n",
       "      <th>motif_name</th>\n",
       "      <th>query_name</th>\n",
       "      <th>msp_size</th>\n",
       "      <th>left_AT_count</th>\n",
       "      <th>right_AT_count</th>\n",
       "      <th>motif_AT_count</th>\n",
       "      <th>left_AT_prop</th>\n",
       "      <th>right_AT_prop</th>\n",
       "      <th>motif_AT_prop</th>\n",
       "      <th>...</th>\n",
       "      <th>GCA_count</th>\n",
       "      <th>GCA_m6a_prop</th>\n",
       "      <th>GGA_count</th>\n",
       "      <th>GGA_m6a_prop</th>\n",
       "      <th>GTA_count</th>\n",
       "      <th>GTA_m6a_prop</th>\n",
       "      <th>TAA_count</th>\n",
       "      <th>TAA_m6a_prop</th>\n",
       "      <th>TCA_count</th>\n",
       "      <th>TCA_m6a_prop</th>\n",
       "    </tr>\n",
       "  </thead>\n",
       "  <tbody>\n",
       "    <tr>\n",
       "      <th>0</th>\n",
       "      <td>chr10_100001134_+/m54329U_210326_192251/136053...</td>\n",
       "      <td>chr10_100001134_+</td>\n",
       "      <td>m54329U_210326_192251/136053044/ccs</td>\n",
       "      <td>154.0</td>\n",
       "      <td>16.0</td>\n",
       "      <td>14.0</td>\n",
       "      <td>16.0</td>\n",
       "      <td>0.400</td>\n",
       "      <td>0.350</td>\n",
       "      <td>0.457143</td>\n",
       "      <td>...</td>\n",
       "      <td>2.0</td>\n",
       "      <td>0.000000</td>\n",
       "      <td>3.0</td>\n",
       "      <td>0.0</td>\n",
       "      <td>0.0</td>\n",
       "      <td>0.00</td>\n",
       "      <td>0.0</td>\n",
       "      <td>0.000000</td>\n",
       "      <td>1.0</td>\n",
       "      <td>0.000</td>\n",
       "    </tr>\n",
       "    <tr>\n",
       "      <th>1</th>\n",
       "      <td>chr10_100009901_+/m54329U_210813_020940/108857...</td>\n",
       "      <td>chr10_100009901_+</td>\n",
       "      <td>m54329U_210813_020940/108857329/ccs</td>\n",
       "      <td>268.0</td>\n",
       "      <td>9.0</td>\n",
       "      <td>10.0</td>\n",
       "      <td>7.0</td>\n",
       "      <td>0.225</td>\n",
       "      <td>0.250</td>\n",
       "      <td>0.200000</td>\n",
       "      <td>...</td>\n",
       "      <td>0.0</td>\n",
       "      <td>0.000000</td>\n",
       "      <td>2.0</td>\n",
       "      <td>0.5</td>\n",
       "      <td>0.0</td>\n",
       "      <td>0.00</td>\n",
       "      <td>0.0</td>\n",
       "      <td>0.000000</td>\n",
       "      <td>1.0</td>\n",
       "      <td>0.500</td>\n",
       "    </tr>\n",
       "    <tr>\n",
       "      <th>2</th>\n",
       "      <td>chr10_100009901_+/m54329U_210814_130637/104466...</td>\n",
       "      <td>chr10_100009901_+</td>\n",
       "      <td>m54329U_210814_130637/104466624/ccs</td>\n",
       "      <td>254.0</td>\n",
       "      <td>9.0</td>\n",
       "      <td>9.0</td>\n",
       "      <td>8.0</td>\n",
       "      <td>0.225</td>\n",
       "      <td>0.225</td>\n",
       "      <td>0.228571</td>\n",
       "      <td>...</td>\n",
       "      <td>0.0</td>\n",
       "      <td>0.000000</td>\n",
       "      <td>2.0</td>\n",
       "      <td>0.5</td>\n",
       "      <td>0.0</td>\n",
       "      <td>0.00</td>\n",
       "      <td>0.0</td>\n",
       "      <td>0.000000</td>\n",
       "      <td>1.0</td>\n",
       "      <td>1.000</td>\n",
       "    </tr>\n",
       "    <tr>\n",
       "      <th>3</th>\n",
       "      <td>chr10_100021043_+/m64076_210328_012155/1038111...</td>\n",
       "      <td>chr10_100021043_+</td>\n",
       "      <td>m64076_210328_012155/103811166/ccs</td>\n",
       "      <td>108.0</td>\n",
       "      <td>12.0</td>\n",
       "      <td>11.0</td>\n",
       "      <td>10.0</td>\n",
       "      <td>0.300</td>\n",
       "      <td>0.275</td>\n",
       "      <td>0.285714</td>\n",
       "      <td>...</td>\n",
       "      <td>7.0</td>\n",
       "      <td>0.285714</td>\n",
       "      <td>1.0</td>\n",
       "      <td>0.0</td>\n",
       "      <td>0.0</td>\n",
       "      <td>0.00</td>\n",
       "      <td>0.0</td>\n",
       "      <td>0.000000</td>\n",
       "      <td>0.0</td>\n",
       "      <td>0.000</td>\n",
       "    </tr>\n",
       "    <tr>\n",
       "      <th>4</th>\n",
       "      <td>chr10_100024809_-/m64076_210328_012155/1038111...</td>\n",
       "      <td>chr10_100024809_-</td>\n",
       "      <td>m64076_210328_012155/103811166/ccs</td>\n",
       "      <td>65.0</td>\n",
       "      <td>24.0</td>\n",
       "      <td>15.0</td>\n",
       "      <td>16.0</td>\n",
       "      <td>0.600</td>\n",
       "      <td>0.375</td>\n",
       "      <td>0.457143</td>\n",
       "      <td>...</td>\n",
       "      <td>1.0</td>\n",
       "      <td>0.000000</td>\n",
       "      <td>1.0</td>\n",
       "      <td>1.0</td>\n",
       "      <td>0.0</td>\n",
       "      <td>0.00</td>\n",
       "      <td>0.0</td>\n",
       "      <td>0.000000</td>\n",
       "      <td>4.0</td>\n",
       "      <td>0.375</td>\n",
       "    </tr>\n",
       "    <tr>\n",
       "      <th>...</th>\n",
       "      <td>...</td>\n",
       "      <td>...</td>\n",
       "      <td>...</td>\n",
       "      <td>...</td>\n",
       "      <td>...</td>\n",
       "      <td>...</td>\n",
       "      <td>...</td>\n",
       "      <td>...</td>\n",
       "      <td>...</td>\n",
       "      <td>...</td>\n",
       "      <td>...</td>\n",
       "      <td>...</td>\n",
       "      <td>...</td>\n",
       "      <td>...</td>\n",
       "      <td>...</td>\n",
       "      <td>...</td>\n",
       "      <td>...</td>\n",
       "      <td>...</td>\n",
       "      <td>...</td>\n",
       "      <td>...</td>\n",
       "      <td>...</td>\n",
       "    </tr>\n",
       "    <tr>\n",
       "      <th>326783</th>\n",
       "      <td>chrX_99821819_+/m64076_210328_012155/19794280/ccs</td>\n",
       "      <td>chrX_99821819_+</td>\n",
       "      <td>m64076_210328_012155/19794280/ccs</td>\n",
       "      <td>51.0</td>\n",
       "      <td>24.0</td>\n",
       "      <td>25.0</td>\n",
       "      <td>18.0</td>\n",
       "      <td>0.600</td>\n",
       "      <td>0.625</td>\n",
       "      <td>0.514286</td>\n",
       "      <td>...</td>\n",
       "      <td>3.0</td>\n",
       "      <td>1.000000</td>\n",
       "      <td>1.0</td>\n",
       "      <td>0.0</td>\n",
       "      <td>0.0</td>\n",
       "      <td>0.00</td>\n",
       "      <td>1.0</td>\n",
       "      <td>0.333333</td>\n",
       "      <td>1.0</td>\n",
       "      <td>0.000</td>\n",
       "    </tr>\n",
       "    <tr>\n",
       "      <th>326784</th>\n",
       "      <td>chrX_99861319_-/m64076_210328_012155/20318277/ccs</td>\n",
       "      <td>chrX_99861319_-</td>\n",
       "      <td>m64076_210328_012155/20318277/ccs</td>\n",
       "      <td>103.0</td>\n",
       "      <td>25.0</td>\n",
       "      <td>20.0</td>\n",
       "      <td>19.0</td>\n",
       "      <td>0.625</td>\n",
       "      <td>0.500</td>\n",
       "      <td>0.542857</td>\n",
       "      <td>...</td>\n",
       "      <td>0.0</td>\n",
       "      <td>0.000000</td>\n",
       "      <td>1.0</td>\n",
       "      <td>0.0</td>\n",
       "      <td>2.0</td>\n",
       "      <td>0.75</td>\n",
       "      <td>2.0</td>\n",
       "      <td>0.000000</td>\n",
       "      <td>1.0</td>\n",
       "      <td>0.000</td>\n",
       "    </tr>\n",
       "    <tr>\n",
       "      <th>326785</th>\n",
       "      <td>chrX_99868718_+/m64076_210328_012155/143918154...</td>\n",
       "      <td>chrX_99868718_+</td>\n",
       "      <td>m64076_210328_012155/143918154/ccs</td>\n",
       "      <td>50.0</td>\n",
       "      <td>23.0</td>\n",
       "      <td>21.0</td>\n",
       "      <td>19.0</td>\n",
       "      <td>0.575</td>\n",
       "      <td>0.525</td>\n",
       "      <td>0.542857</td>\n",
       "      <td>...</td>\n",
       "      <td>0.0</td>\n",
       "      <td>0.000000</td>\n",
       "      <td>3.0</td>\n",
       "      <td>0.0</td>\n",
       "      <td>1.0</td>\n",
       "      <td>0.00</td>\n",
       "      <td>1.0</td>\n",
       "      <td>0.000000</td>\n",
       "      <td>0.0</td>\n",
       "      <td>0.000</td>\n",
       "    </tr>\n",
       "    <tr>\n",
       "      <th>326786</th>\n",
       "      <td>chrX_99955847_-/m54329U_210814_130637/13631698...</td>\n",
       "      <td>chrX_99955847_-</td>\n",
       "      <td>m54329U_210814_130637/136316982/ccs</td>\n",
       "      <td>69.0</td>\n",
       "      <td>24.0</td>\n",
       "      <td>24.0</td>\n",
       "      <td>19.0</td>\n",
       "      <td>0.600</td>\n",
       "      <td>0.600</td>\n",
       "      <td>0.542857</td>\n",
       "      <td>...</td>\n",
       "      <td>1.0</td>\n",
       "      <td>1.000000</td>\n",
       "      <td>2.0</td>\n",
       "      <td>0.0</td>\n",
       "      <td>1.0</td>\n",
       "      <td>0.00</td>\n",
       "      <td>0.0</td>\n",
       "      <td>0.000000</td>\n",
       "      <td>2.0</td>\n",
       "      <td>0.250</td>\n",
       "    </tr>\n",
       "    <tr>\n",
       "      <th>326787</th>\n",
       "      <td>chrX_99992701_+/m64076_221119_202646/59245264/ccs</td>\n",
       "      <td>chrX_99992701_+</td>\n",
       "      <td>m64076_221119_202646/59245264/ccs</td>\n",
       "      <td>137.0</td>\n",
       "      <td>24.0</td>\n",
       "      <td>27.0</td>\n",
       "      <td>15.0</td>\n",
       "      <td>0.600</td>\n",
       "      <td>0.675</td>\n",
       "      <td>0.428571</td>\n",
       "      <td>...</td>\n",
       "      <td>2.0</td>\n",
       "      <td>1.000000</td>\n",
       "      <td>1.0</td>\n",
       "      <td>1.0</td>\n",
       "      <td>1.0</td>\n",
       "      <td>0.50</td>\n",
       "      <td>1.0</td>\n",
       "      <td>0.666667</td>\n",
       "      <td>2.0</td>\n",
       "      <td>0.750</td>\n",
       "    </tr>\n",
       "  </tbody>\n",
       "</table>\n",
       "<p>326553 rows × 73 columns</p>\n",
       "</div>"
      ],
      "text/plain": [
       "                                              motif_query         motif_name  \\\n",
       "0       chr10_100001134_+/m54329U_210326_192251/136053...  chr10_100001134_+   \n",
       "1       chr10_100009901_+/m54329U_210813_020940/108857...  chr10_100009901_+   \n",
       "2       chr10_100009901_+/m54329U_210814_130637/104466...  chr10_100009901_+   \n",
       "3       chr10_100021043_+/m64076_210328_012155/1038111...  chr10_100021043_+   \n",
       "4       chr10_100024809_-/m64076_210328_012155/1038111...  chr10_100024809_-   \n",
       "...                                                   ...                ...   \n",
       "326783  chrX_99821819_+/m64076_210328_012155/19794280/ccs    chrX_99821819_+   \n",
       "326784  chrX_99861319_-/m64076_210328_012155/20318277/ccs    chrX_99861319_-   \n",
       "326785  chrX_99868718_+/m64076_210328_012155/143918154...    chrX_99868718_+   \n",
       "326786  chrX_99955847_-/m54329U_210814_130637/13631698...    chrX_99955847_-   \n",
       "326787  chrX_99992701_+/m64076_221119_202646/59245264/ccs    chrX_99992701_+   \n",
       "\n",
       "                                 query_name  msp_size  left_AT_count  \\\n",
       "0       m54329U_210326_192251/136053044/ccs     154.0           16.0   \n",
       "1       m54329U_210813_020940/108857329/ccs     268.0            9.0   \n",
       "2       m54329U_210814_130637/104466624/ccs     254.0            9.0   \n",
       "3        m64076_210328_012155/103811166/ccs     108.0           12.0   \n",
       "4        m64076_210328_012155/103811166/ccs      65.0           24.0   \n",
       "...                                     ...       ...            ...   \n",
       "326783    m64076_210328_012155/19794280/ccs      51.0           24.0   \n",
       "326784    m64076_210328_012155/20318277/ccs     103.0           25.0   \n",
       "326785   m64076_210328_012155/143918154/ccs      50.0           23.0   \n",
       "326786  m54329U_210814_130637/136316982/ccs      69.0           24.0   \n",
       "326787    m64076_221119_202646/59245264/ccs     137.0           24.0   \n",
       "\n",
       "        right_AT_count  motif_AT_count  left_AT_prop  right_AT_prop  \\\n",
       "0                 14.0            16.0         0.400          0.350   \n",
       "1                 10.0             7.0         0.225          0.250   \n",
       "2                  9.0             8.0         0.225          0.225   \n",
       "3                 11.0            10.0         0.300          0.275   \n",
       "4                 15.0            16.0         0.600          0.375   \n",
       "...                ...             ...           ...            ...   \n",
       "326783            25.0            18.0         0.600          0.625   \n",
       "326784            20.0            19.0         0.625          0.500   \n",
       "326785            21.0            19.0         0.575          0.525   \n",
       "326786            24.0            19.0         0.600          0.600   \n",
       "326787            27.0            15.0         0.600          0.675   \n",
       "\n",
       "        motif_AT_prop  ...  GCA_count  GCA_m6a_prop  GGA_count  GGA_m6a_prop  \\\n",
       "0            0.457143  ...        2.0      0.000000        3.0           0.0   \n",
       "1            0.200000  ...        0.0      0.000000        2.0           0.5   \n",
       "2            0.228571  ...        0.0      0.000000        2.0           0.5   \n",
       "3            0.285714  ...        7.0      0.285714        1.0           0.0   \n",
       "4            0.457143  ...        1.0      0.000000        1.0           1.0   \n",
       "...               ...  ...        ...           ...        ...           ...   \n",
       "326783       0.514286  ...        3.0      1.000000        1.0           0.0   \n",
       "326784       0.542857  ...        0.0      0.000000        1.0           0.0   \n",
       "326785       0.542857  ...        0.0      0.000000        3.0           0.0   \n",
       "326786       0.542857  ...        1.0      1.000000        2.0           0.0   \n",
       "326787       0.428571  ...        2.0      1.000000        1.0           1.0   \n",
       "\n",
       "        GTA_count  GTA_m6a_prop  TAA_count  TAA_m6a_prop  TCA_count  \\\n",
       "0             0.0          0.00        0.0      0.000000        1.0   \n",
       "1             0.0          0.00        0.0      0.000000        1.0   \n",
       "2             0.0          0.00        0.0      0.000000        1.0   \n",
       "3             0.0          0.00        0.0      0.000000        0.0   \n",
       "4             0.0          0.00        0.0      0.000000        4.0   \n",
       "...           ...           ...        ...           ...        ...   \n",
       "326783        0.0          0.00        1.0      0.333333        1.0   \n",
       "326784        2.0          0.75        2.0      0.000000        1.0   \n",
       "326785        1.0          0.00        1.0      0.000000        0.0   \n",
       "326786        1.0          0.00        0.0      0.000000        2.0   \n",
       "326787        1.0          0.50        1.0      0.666667        2.0   \n",
       "\n",
       "        TCA_m6a_prop  \n",
       "0              0.000  \n",
       "1              0.500  \n",
       "2              1.000  \n",
       "3              0.000  \n",
       "4              0.375  \n",
       "...              ...  \n",
       "326783         0.000  \n",
       "326784         0.000  \n",
       "326785         0.000  \n",
       "326786         0.250  \n",
       "326787         0.750  \n",
       "\n",
       "[326553 rows x 73 columns]"
      ]
     },
     "execution_count": 635,
     "metadata": {},
     "output_type": "execute_result"
    }
   ],
   "source": [
    "res[~(res.loc[:,res.columns.str.contains(\"prop\")] > 1).any(1)]"
   ]
  },
  {
   "cell_type": "code",
   "execution_count": 624,
   "id": "aa62fcdf",
   "metadata": {},
   "outputs": [
    {
     "name": "stderr",
     "output_type": "stream",
     "text": [
      "/tmp/ipykernel_17188/1989459942.py:1: FutureWarning: In a future version of pandas all arguments of DataFrame.any and Series.any will be keyword-only.\n",
      "  res_prop[(res_prop > 1).any(1)]\n"
     ]
    },
    {
     "data": {
      "text/html": [
       "<div>\n",
       "<style scoped>\n",
       "    .dataframe tbody tr th:only-of-type {\n",
       "        vertical-align: middle;\n",
       "    }\n",
       "\n",
       "    .dataframe tbody tr th {\n",
       "        vertical-align: top;\n",
       "    }\n",
       "\n",
       "    .dataframe thead th {\n",
       "        text-align: right;\n",
       "    }\n",
       "</style>\n",
       "<table border=\"1\" class=\"dataframe\">\n",
       "  <thead>\n",
       "    <tr style=\"text-align: right;\">\n",
       "      <th></th>\n",
       "      <th>left_AT_prop</th>\n",
       "      <th>right_AT_prop</th>\n",
       "      <th>motif_AT_prop</th>\n",
       "      <th>left_m6a_prop</th>\n",
       "      <th>right_m6a_prop</th>\n",
       "      <th>motif_m6a_prop</th>\n",
       "      <th>AAA_m6a_prop</th>\n",
       "      <th>AAC_m6a_prop</th>\n",
       "      <th>AAG_m6a_prop</th>\n",
       "      <th>AAT_m6a_prop</th>\n",
       "      <th>...</th>\n",
       "      <th>CGA_m6a_prop</th>\n",
       "      <th>CTA_m6a_prop</th>\n",
       "      <th>CTC_m6a_prop</th>\n",
       "      <th>GAA_m6a_prop</th>\n",
       "      <th>GAC_m6a_prop</th>\n",
       "      <th>GCA_m6a_prop</th>\n",
       "      <th>GGA_m6a_prop</th>\n",
       "      <th>GTA_m6a_prop</th>\n",
       "      <th>TAA_m6a_prop</th>\n",
       "      <th>TCA_m6a_prop</th>\n",
       "    </tr>\n",
       "  </thead>\n",
       "  <tbody>\n",
       "    <tr>\n",
       "      <th>68</th>\n",
       "      <td>0.325</td>\n",
       "      <td>0.575</td>\n",
       "      <td>0.314286</td>\n",
       "      <td>1.076923</td>\n",
       "      <td>0.173913</td>\n",
       "      <td>1.000000</td>\n",
       "      <td>0.0</td>\n",
       "      <td>0.0</td>\n",
       "      <td>0.00</td>\n",
       "      <td>0.0</td>\n",
       "      <td>...</td>\n",
       "      <td>0.0</td>\n",
       "      <td>1.0</td>\n",
       "      <td>1.0</td>\n",
       "      <td>0.00</td>\n",
       "      <td>1.0</td>\n",
       "      <td>1.000000</td>\n",
       "      <td>1.0</td>\n",
       "      <td>1.0</td>\n",
       "      <td>0.0</td>\n",
       "      <td>0.000</td>\n",
       "    </tr>\n",
       "    <tr>\n",
       "      <th>149</th>\n",
       "      <td>0.375</td>\n",
       "      <td>0.400</td>\n",
       "      <td>0.257143</td>\n",
       "      <td>0.000000</td>\n",
       "      <td>0.187500</td>\n",
       "      <td>1.111111</td>\n",
       "      <td>0.0</td>\n",
       "      <td>0.0</td>\n",
       "      <td>0.00</td>\n",
       "      <td>0.0</td>\n",
       "      <td>...</td>\n",
       "      <td>1.0</td>\n",
       "      <td>0.0</td>\n",
       "      <td>0.0</td>\n",
       "      <td>0.00</td>\n",
       "      <td>1.0</td>\n",
       "      <td>1.000000</td>\n",
       "      <td>0.0</td>\n",
       "      <td>0.0</td>\n",
       "      <td>0.0</td>\n",
       "      <td>0.000</td>\n",
       "    </tr>\n",
       "    <tr>\n",
       "      <th>419</th>\n",
       "      <td>0.075</td>\n",
       "      <td>0.325</td>\n",
       "      <td>0.171429</td>\n",
       "      <td>1.333333</td>\n",
       "      <td>0.230769</td>\n",
       "      <td>1.000000</td>\n",
       "      <td>0.0</td>\n",
       "      <td>0.0</td>\n",
       "      <td>0.00</td>\n",
       "      <td>0.0</td>\n",
       "      <td>...</td>\n",
       "      <td>1.0</td>\n",
       "      <td>0.0</td>\n",
       "      <td>1.0</td>\n",
       "      <td>0.00</td>\n",
       "      <td>1.0</td>\n",
       "      <td>1.000000</td>\n",
       "      <td>1.0</td>\n",
       "      <td>0.0</td>\n",
       "      <td>0.0</td>\n",
       "      <td>0.000</td>\n",
       "    </tr>\n",
       "    <tr>\n",
       "      <th>1619</th>\n",
       "      <td>0.200</td>\n",
       "      <td>0.225</td>\n",
       "      <td>0.228571</td>\n",
       "      <td>1.125000</td>\n",
       "      <td>0.222222</td>\n",
       "      <td>0.625000</td>\n",
       "      <td>0.0</td>\n",
       "      <td>0.5</td>\n",
       "      <td>0.00</td>\n",
       "      <td>0.0</td>\n",
       "      <td>...</td>\n",
       "      <td>0.5</td>\n",
       "      <td>0.5</td>\n",
       "      <td>0.5</td>\n",
       "      <td>0.50</td>\n",
       "      <td>0.0</td>\n",
       "      <td>0.000000</td>\n",
       "      <td>0.5</td>\n",
       "      <td>0.0</td>\n",
       "      <td>0.0</td>\n",
       "      <td>0.000</td>\n",
       "    </tr>\n",
       "    <tr>\n",
       "      <th>4909</th>\n",
       "      <td>0.400</td>\n",
       "      <td>0.550</td>\n",
       "      <td>0.314286</td>\n",
       "      <td>0.000000</td>\n",
       "      <td>0.136364</td>\n",
       "      <td>1.090909</td>\n",
       "      <td>0.0</td>\n",
       "      <td>0.0</td>\n",
       "      <td>0.00</td>\n",
       "      <td>0.0</td>\n",
       "      <td>...</td>\n",
       "      <td>0.0</td>\n",
       "      <td>0.0</td>\n",
       "      <td>1.0</td>\n",
       "      <td>0.00</td>\n",
       "      <td>0.0</td>\n",
       "      <td>1.000000</td>\n",
       "      <td>1.0</td>\n",
       "      <td>0.0</td>\n",
       "      <td>0.0</td>\n",
       "      <td>0.000</td>\n",
       "    </tr>\n",
       "    <tr>\n",
       "      <th>...</th>\n",
       "      <td>...</td>\n",
       "      <td>...</td>\n",
       "      <td>...</td>\n",
       "      <td>...</td>\n",
       "      <td>...</td>\n",
       "      <td>...</td>\n",
       "      <td>...</td>\n",
       "      <td>...</td>\n",
       "      <td>...</td>\n",
       "      <td>...</td>\n",
       "      <td>...</td>\n",
       "      <td>...</td>\n",
       "      <td>...</td>\n",
       "      <td>...</td>\n",
       "      <td>...</td>\n",
       "      <td>...</td>\n",
       "      <td>...</td>\n",
       "      <td>...</td>\n",
       "      <td>...</td>\n",
       "      <td>...</td>\n",
       "      <td>...</td>\n",
       "    </tr>\n",
       "    <tr>\n",
       "      <th>311065</th>\n",
       "      <td>0.175</td>\n",
       "      <td>0.550</td>\n",
       "      <td>0.428571</td>\n",
       "      <td>1.142857</td>\n",
       "      <td>0.227273</td>\n",
       "      <td>0.800000</td>\n",
       "      <td>0.0</td>\n",
       "      <td>0.0</td>\n",
       "      <td>0.50</td>\n",
       "      <td>0.0</td>\n",
       "      <td>...</td>\n",
       "      <td>0.0</td>\n",
       "      <td>0.0</td>\n",
       "      <td>1.0</td>\n",
       "      <td>1.00</td>\n",
       "      <td>0.0</td>\n",
       "      <td>0.666667</td>\n",
       "      <td>1.0</td>\n",
       "      <td>0.0</td>\n",
       "      <td>0.0</td>\n",
       "      <td>0.750</td>\n",
       "    </tr>\n",
       "    <tr>\n",
       "      <th>316417</th>\n",
       "      <td>0.225</td>\n",
       "      <td>0.425</td>\n",
       "      <td>0.228571</td>\n",
       "      <td>1.111111</td>\n",
       "      <td>0.294118</td>\n",
       "      <td>0.750000</td>\n",
       "      <td>0.0</td>\n",
       "      <td>0.0</td>\n",
       "      <td>0.00</td>\n",
       "      <td>0.0</td>\n",
       "      <td>...</td>\n",
       "      <td>0.0</td>\n",
       "      <td>0.0</td>\n",
       "      <td>1.0</td>\n",
       "      <td>0.00</td>\n",
       "      <td>1.0</td>\n",
       "      <td>0.666667</td>\n",
       "      <td>1.0</td>\n",
       "      <td>0.0</td>\n",
       "      <td>0.0</td>\n",
       "      <td>0.000</td>\n",
       "    </tr>\n",
       "    <tr>\n",
       "      <th>318284</th>\n",
       "      <td>0.225</td>\n",
       "      <td>0.350</td>\n",
       "      <td>0.285714</td>\n",
       "      <td>1.111111</td>\n",
       "      <td>0.214286</td>\n",
       "      <td>0.900000</td>\n",
       "      <td>0.0</td>\n",
       "      <td>1.0</td>\n",
       "      <td>0.00</td>\n",
       "      <td>0.0</td>\n",
       "      <td>...</td>\n",
       "      <td>1.0</td>\n",
       "      <td>0.0</td>\n",
       "      <td>1.0</td>\n",
       "      <td>1.00</td>\n",
       "      <td>0.0</td>\n",
       "      <td>0.500000</td>\n",
       "      <td>1.0</td>\n",
       "      <td>0.0</td>\n",
       "      <td>0.0</td>\n",
       "      <td>0.000</td>\n",
       "    </tr>\n",
       "    <tr>\n",
       "      <th>323831</th>\n",
       "      <td>0.525</td>\n",
       "      <td>0.500</td>\n",
       "      <td>0.428571</td>\n",
       "      <td>0.142857</td>\n",
       "      <td>0.050000</td>\n",
       "      <td>0.933333</td>\n",
       "      <td>0.0</td>\n",
       "      <td>0.0</td>\n",
       "      <td>1.00</td>\n",
       "      <td>0.0</td>\n",
       "      <td>...</td>\n",
       "      <td>0.0</td>\n",
       "      <td>0.0</td>\n",
       "      <td>2.0</td>\n",
       "      <td>0.00</td>\n",
       "      <td>1.0</td>\n",
       "      <td>1.000000</td>\n",
       "      <td>1.0</td>\n",
       "      <td>0.0</td>\n",
       "      <td>0.0</td>\n",
       "      <td>0.875</td>\n",
       "    </tr>\n",
       "    <tr>\n",
       "      <th>324144</th>\n",
       "      <td>0.600</td>\n",
       "      <td>0.550</td>\n",
       "      <td>0.628571</td>\n",
       "      <td>0.083333</td>\n",
       "      <td>0.363636</td>\n",
       "      <td>0.272727</td>\n",
       "      <td>0.0</td>\n",
       "      <td>0.0</td>\n",
       "      <td>0.25</td>\n",
       "      <td>0.0</td>\n",
       "      <td>...</td>\n",
       "      <td>0.0</td>\n",
       "      <td>0.0</td>\n",
       "      <td>1.0</td>\n",
       "      <td>0.25</td>\n",
       "      <td>0.0</td>\n",
       "      <td>0.000000</td>\n",
       "      <td>0.0</td>\n",
       "      <td>0.0</td>\n",
       "      <td>0.0</td>\n",
       "      <td>0.500</td>\n",
       "    </tr>\n",
       "  </tbody>\n",
       "</table>\n",
       "<p>235 rows × 34 columns</p>\n",
       "</div>"
      ],
      "text/plain": [
       "        left_AT_prop  right_AT_prop  motif_AT_prop  left_m6a_prop  \\\n",
       "68             0.325          0.575       0.314286       1.076923   \n",
       "149            0.375          0.400       0.257143       0.000000   \n",
       "419            0.075          0.325       0.171429       1.333333   \n",
       "1619           0.200          0.225       0.228571       1.125000   \n",
       "4909           0.400          0.550       0.314286       0.000000   \n",
       "...              ...            ...            ...            ...   \n",
       "311065         0.175          0.550       0.428571       1.142857   \n",
       "316417         0.225          0.425       0.228571       1.111111   \n",
       "318284         0.225          0.350       0.285714       1.111111   \n",
       "323831         0.525          0.500       0.428571       0.142857   \n",
       "324144         0.600          0.550       0.628571       0.083333   \n",
       "\n",
       "        right_m6a_prop  motif_m6a_prop  AAA_m6a_prop  AAC_m6a_prop  \\\n",
       "68            0.173913        1.000000           0.0           0.0   \n",
       "149           0.187500        1.111111           0.0           0.0   \n",
       "419           0.230769        1.000000           0.0           0.0   \n",
       "1619          0.222222        0.625000           0.0           0.5   \n",
       "4909          0.136364        1.090909           0.0           0.0   \n",
       "...                ...             ...           ...           ...   \n",
       "311065        0.227273        0.800000           0.0           0.0   \n",
       "316417        0.294118        0.750000           0.0           0.0   \n",
       "318284        0.214286        0.900000           0.0           1.0   \n",
       "323831        0.050000        0.933333           0.0           0.0   \n",
       "324144        0.363636        0.272727           0.0           0.0   \n",
       "\n",
       "        AAG_m6a_prop  AAT_m6a_prop  ...  CGA_m6a_prop  CTA_m6a_prop  \\\n",
       "68              0.00           0.0  ...           0.0           1.0   \n",
       "149             0.00           0.0  ...           1.0           0.0   \n",
       "419             0.00           0.0  ...           1.0           0.0   \n",
       "1619            0.00           0.0  ...           0.5           0.5   \n",
       "4909            0.00           0.0  ...           0.0           0.0   \n",
       "...              ...           ...  ...           ...           ...   \n",
       "311065          0.50           0.0  ...           0.0           0.0   \n",
       "316417          0.00           0.0  ...           0.0           0.0   \n",
       "318284          0.00           0.0  ...           1.0           0.0   \n",
       "323831          1.00           0.0  ...           0.0           0.0   \n",
       "324144          0.25           0.0  ...           0.0           0.0   \n",
       "\n",
       "        CTC_m6a_prop  GAA_m6a_prop  GAC_m6a_prop  GCA_m6a_prop  GGA_m6a_prop  \\\n",
       "68               1.0          0.00           1.0      1.000000           1.0   \n",
       "149              0.0          0.00           1.0      1.000000           0.0   \n",
       "419              1.0          0.00           1.0      1.000000           1.0   \n",
       "1619             0.5          0.50           0.0      0.000000           0.5   \n",
       "4909             1.0          0.00           0.0      1.000000           1.0   \n",
       "...              ...           ...           ...           ...           ...   \n",
       "311065           1.0          1.00           0.0      0.666667           1.0   \n",
       "316417           1.0          0.00           1.0      0.666667           1.0   \n",
       "318284           1.0          1.00           0.0      0.500000           1.0   \n",
       "323831           2.0          0.00           1.0      1.000000           1.0   \n",
       "324144           1.0          0.25           0.0      0.000000           0.0   \n",
       "\n",
       "        GTA_m6a_prop  TAA_m6a_prop  TCA_m6a_prop  \n",
       "68               1.0           0.0         0.000  \n",
       "149              0.0           0.0         0.000  \n",
       "419              0.0           0.0         0.000  \n",
       "1619             0.0           0.0         0.000  \n",
       "4909             0.0           0.0         0.000  \n",
       "...              ...           ...           ...  \n",
       "311065           0.0           0.0         0.750  \n",
       "316417           0.0           0.0         0.000  \n",
       "318284           0.0           0.0         0.000  \n",
       "323831           0.0           0.0         0.875  \n",
       "324144           0.0           0.0         0.500  \n",
       "\n",
       "[235 rows x 34 columns]"
      ]
     },
     "execution_count": 624,
     "metadata": {},
     "output_type": "execute_result"
    }
   ],
   "source": [
    "res_prop[(res_prop > 1).any(1)]"
   ]
  },
  {
   "cell_type": "code",
   "execution_count": 623,
   "id": "ee4b1ece",
   "metadata": {
    "scrolled": true
   },
   "outputs": [
    {
     "data": {
      "text/html": [
       "<div>\n",
       "<style scoped>\n",
       "    .dataframe tbody tr th:only-of-type {\n",
       "        vertical-align: middle;\n",
       "    }\n",
       "\n",
       "    .dataframe tbody tr th {\n",
       "        vertical-align: top;\n",
       "    }\n",
       "\n",
       "    .dataframe thead th {\n",
       "        text-align: right;\n",
       "    }\n",
       "</style>\n",
       "<table border=\"1\" class=\"dataframe\">\n",
       "  <thead>\n",
       "    <tr style=\"text-align: right;\">\n",
       "      <th></th>\n",
       "      <th>left_AT_prop</th>\n",
       "      <th>right_AT_prop</th>\n",
       "      <th>motif_AT_prop</th>\n",
       "      <th>left_m6a_prop</th>\n",
       "      <th>right_m6a_prop</th>\n",
       "      <th>motif_m6a_prop</th>\n",
       "      <th>AAA_m6a_prop</th>\n",
       "      <th>AAC_m6a_prop</th>\n",
       "      <th>AAG_m6a_prop</th>\n",
       "      <th>AAT_m6a_prop</th>\n",
       "      <th>...</th>\n",
       "      <th>CGA_m6a_prop</th>\n",
       "      <th>CTA_m6a_prop</th>\n",
       "      <th>CTC_m6a_prop</th>\n",
       "      <th>GAA_m6a_prop</th>\n",
       "      <th>GAC_m6a_prop</th>\n",
       "      <th>GCA_m6a_prop</th>\n",
       "      <th>GGA_m6a_prop</th>\n",
       "      <th>GTA_m6a_prop</th>\n",
       "      <th>TAA_m6a_prop</th>\n",
       "      <th>TCA_m6a_prop</th>\n",
       "    </tr>\n",
       "  </thead>\n",
       "  <tbody>\n",
       "    <tr>\n",
       "      <th>68</th>\n",
       "      <td>0.325</td>\n",
       "      <td>0.575</td>\n",
       "      <td>0.314286</td>\n",
       "      <td>1.076923</td>\n",
       "      <td>0.173913</td>\n",
       "      <td>1.000000</td>\n",
       "      <td>0.0</td>\n",
       "      <td>0.0</td>\n",
       "      <td>0.00</td>\n",
       "      <td>0.0</td>\n",
       "      <td>...</td>\n",
       "      <td>0.0</td>\n",
       "      <td>1.0</td>\n",
       "      <td>1.0</td>\n",
       "      <td>0.00</td>\n",
       "      <td>1.0</td>\n",
       "      <td>1.000000</td>\n",
       "      <td>1.0</td>\n",
       "      <td>1.0</td>\n",
       "      <td>0.0</td>\n",
       "      <td>0.000</td>\n",
       "    </tr>\n",
       "    <tr>\n",
       "      <th>149</th>\n",
       "      <td>0.375</td>\n",
       "      <td>0.400</td>\n",
       "      <td>0.257143</td>\n",
       "      <td>0.000000</td>\n",
       "      <td>0.187500</td>\n",
       "      <td>1.111111</td>\n",
       "      <td>0.0</td>\n",
       "      <td>0.0</td>\n",
       "      <td>0.00</td>\n",
       "      <td>0.0</td>\n",
       "      <td>...</td>\n",
       "      <td>1.0</td>\n",
       "      <td>0.0</td>\n",
       "      <td>0.0</td>\n",
       "      <td>0.00</td>\n",
       "      <td>1.0</td>\n",
       "      <td>1.000000</td>\n",
       "      <td>0.0</td>\n",
       "      <td>0.0</td>\n",
       "      <td>0.0</td>\n",
       "      <td>0.000</td>\n",
       "    </tr>\n",
       "    <tr>\n",
       "      <th>419</th>\n",
       "      <td>0.075</td>\n",
       "      <td>0.325</td>\n",
       "      <td>0.171429</td>\n",
       "      <td>1.333333</td>\n",
       "      <td>0.230769</td>\n",
       "      <td>1.000000</td>\n",
       "      <td>0.0</td>\n",
       "      <td>0.0</td>\n",
       "      <td>0.00</td>\n",
       "      <td>0.0</td>\n",
       "      <td>...</td>\n",
       "      <td>1.0</td>\n",
       "      <td>0.0</td>\n",
       "      <td>1.0</td>\n",
       "      <td>0.00</td>\n",
       "      <td>1.0</td>\n",
       "      <td>1.000000</td>\n",
       "      <td>1.0</td>\n",
       "      <td>0.0</td>\n",
       "      <td>0.0</td>\n",
       "      <td>0.000</td>\n",
       "    </tr>\n",
       "    <tr>\n",
       "      <th>1619</th>\n",
       "      <td>0.200</td>\n",
       "      <td>0.225</td>\n",
       "      <td>0.228571</td>\n",
       "      <td>1.125000</td>\n",
       "      <td>0.222222</td>\n",
       "      <td>0.625000</td>\n",
       "      <td>0.0</td>\n",
       "      <td>0.5</td>\n",
       "      <td>0.00</td>\n",
       "      <td>0.0</td>\n",
       "      <td>...</td>\n",
       "      <td>0.5</td>\n",
       "      <td>0.5</td>\n",
       "      <td>0.5</td>\n",
       "      <td>0.50</td>\n",
       "      <td>0.0</td>\n",
       "      <td>0.000000</td>\n",
       "      <td>0.5</td>\n",
       "      <td>0.0</td>\n",
       "      <td>0.0</td>\n",
       "      <td>0.000</td>\n",
       "    </tr>\n",
       "    <tr>\n",
       "      <th>4909</th>\n",
       "      <td>0.400</td>\n",
       "      <td>0.550</td>\n",
       "      <td>0.314286</td>\n",
       "      <td>0.000000</td>\n",
       "      <td>0.136364</td>\n",
       "      <td>1.090909</td>\n",
       "      <td>0.0</td>\n",
       "      <td>0.0</td>\n",
       "      <td>0.00</td>\n",
       "      <td>0.0</td>\n",
       "      <td>...</td>\n",
       "      <td>0.0</td>\n",
       "      <td>0.0</td>\n",
       "      <td>1.0</td>\n",
       "      <td>0.00</td>\n",
       "      <td>0.0</td>\n",
       "      <td>1.000000</td>\n",
       "      <td>1.0</td>\n",
       "      <td>0.0</td>\n",
       "      <td>0.0</td>\n",
       "      <td>0.000</td>\n",
       "    </tr>\n",
       "    <tr>\n",
       "      <th>...</th>\n",
       "      <td>...</td>\n",
       "      <td>...</td>\n",
       "      <td>...</td>\n",
       "      <td>...</td>\n",
       "      <td>...</td>\n",
       "      <td>...</td>\n",
       "      <td>...</td>\n",
       "      <td>...</td>\n",
       "      <td>...</td>\n",
       "      <td>...</td>\n",
       "      <td>...</td>\n",
       "      <td>...</td>\n",
       "      <td>...</td>\n",
       "      <td>...</td>\n",
       "      <td>...</td>\n",
       "      <td>...</td>\n",
       "      <td>...</td>\n",
       "      <td>...</td>\n",
       "      <td>...</td>\n",
       "      <td>...</td>\n",
       "      <td>...</td>\n",
       "    </tr>\n",
       "    <tr>\n",
       "      <th>311065</th>\n",
       "      <td>0.175</td>\n",
       "      <td>0.550</td>\n",
       "      <td>0.428571</td>\n",
       "      <td>1.142857</td>\n",
       "      <td>0.227273</td>\n",
       "      <td>0.800000</td>\n",
       "      <td>0.0</td>\n",
       "      <td>0.0</td>\n",
       "      <td>0.50</td>\n",
       "      <td>0.0</td>\n",
       "      <td>...</td>\n",
       "      <td>0.0</td>\n",
       "      <td>0.0</td>\n",
       "      <td>1.0</td>\n",
       "      <td>1.00</td>\n",
       "      <td>0.0</td>\n",
       "      <td>0.666667</td>\n",
       "      <td>1.0</td>\n",
       "      <td>0.0</td>\n",
       "      <td>0.0</td>\n",
       "      <td>0.750</td>\n",
       "    </tr>\n",
       "    <tr>\n",
       "      <th>316417</th>\n",
       "      <td>0.225</td>\n",
       "      <td>0.425</td>\n",
       "      <td>0.228571</td>\n",
       "      <td>1.111111</td>\n",
       "      <td>0.294118</td>\n",
       "      <td>0.750000</td>\n",
       "      <td>0.0</td>\n",
       "      <td>0.0</td>\n",
       "      <td>0.00</td>\n",
       "      <td>0.0</td>\n",
       "      <td>...</td>\n",
       "      <td>0.0</td>\n",
       "      <td>0.0</td>\n",
       "      <td>1.0</td>\n",
       "      <td>0.00</td>\n",
       "      <td>1.0</td>\n",
       "      <td>0.666667</td>\n",
       "      <td>1.0</td>\n",
       "      <td>0.0</td>\n",
       "      <td>0.0</td>\n",
       "      <td>0.000</td>\n",
       "    </tr>\n",
       "    <tr>\n",
       "      <th>318284</th>\n",
       "      <td>0.225</td>\n",
       "      <td>0.350</td>\n",
       "      <td>0.285714</td>\n",
       "      <td>1.111111</td>\n",
       "      <td>0.214286</td>\n",
       "      <td>0.900000</td>\n",
       "      <td>0.0</td>\n",
       "      <td>1.0</td>\n",
       "      <td>0.00</td>\n",
       "      <td>0.0</td>\n",
       "      <td>...</td>\n",
       "      <td>1.0</td>\n",
       "      <td>0.0</td>\n",
       "      <td>1.0</td>\n",
       "      <td>1.00</td>\n",
       "      <td>0.0</td>\n",
       "      <td>0.500000</td>\n",
       "      <td>1.0</td>\n",
       "      <td>0.0</td>\n",
       "      <td>0.0</td>\n",
       "      <td>0.000</td>\n",
       "    </tr>\n",
       "    <tr>\n",
       "      <th>323831</th>\n",
       "      <td>0.525</td>\n",
       "      <td>0.500</td>\n",
       "      <td>0.428571</td>\n",
       "      <td>0.142857</td>\n",
       "      <td>0.050000</td>\n",
       "      <td>0.933333</td>\n",
       "      <td>0.0</td>\n",
       "      <td>0.0</td>\n",
       "      <td>1.00</td>\n",
       "      <td>0.0</td>\n",
       "      <td>...</td>\n",
       "      <td>0.0</td>\n",
       "      <td>0.0</td>\n",
       "      <td>2.0</td>\n",
       "      <td>0.00</td>\n",
       "      <td>1.0</td>\n",
       "      <td>1.000000</td>\n",
       "      <td>1.0</td>\n",
       "      <td>0.0</td>\n",
       "      <td>0.0</td>\n",
       "      <td>0.875</td>\n",
       "    </tr>\n",
       "    <tr>\n",
       "      <th>324144</th>\n",
       "      <td>0.600</td>\n",
       "      <td>0.550</td>\n",
       "      <td>0.628571</td>\n",
       "      <td>0.083333</td>\n",
       "      <td>0.363636</td>\n",
       "      <td>0.272727</td>\n",
       "      <td>0.0</td>\n",
       "      <td>0.0</td>\n",
       "      <td>0.25</td>\n",
       "      <td>0.0</td>\n",
       "      <td>...</td>\n",
       "      <td>0.0</td>\n",
       "      <td>0.0</td>\n",
       "      <td>1.0</td>\n",
       "      <td>0.25</td>\n",
       "      <td>0.0</td>\n",
       "      <td>0.000000</td>\n",
       "      <td>0.0</td>\n",
       "      <td>0.0</td>\n",
       "      <td>0.0</td>\n",
       "      <td>0.500</td>\n",
       "    </tr>\n",
       "  </tbody>\n",
       "</table>\n",
       "<p>235 rows × 34 columns</p>\n",
       "</div>"
      ],
      "text/plain": [
       "        left_AT_prop  right_AT_prop  motif_AT_prop  left_m6a_prop  \\\n",
       "68             0.325          0.575       0.314286       1.076923   \n",
       "149            0.375          0.400       0.257143       0.000000   \n",
       "419            0.075          0.325       0.171429       1.333333   \n",
       "1619           0.200          0.225       0.228571       1.125000   \n",
       "4909           0.400          0.550       0.314286       0.000000   \n",
       "...              ...            ...            ...            ...   \n",
       "311065         0.175          0.550       0.428571       1.142857   \n",
       "316417         0.225          0.425       0.228571       1.111111   \n",
       "318284         0.225          0.350       0.285714       1.111111   \n",
       "323831         0.525          0.500       0.428571       0.142857   \n",
       "324144         0.600          0.550       0.628571       0.083333   \n",
       "\n",
       "        right_m6a_prop  motif_m6a_prop  AAA_m6a_prop  AAC_m6a_prop  \\\n",
       "68            0.173913        1.000000           0.0           0.0   \n",
       "149           0.187500        1.111111           0.0           0.0   \n",
       "419           0.230769        1.000000           0.0           0.0   \n",
       "1619          0.222222        0.625000           0.0           0.5   \n",
       "4909          0.136364        1.090909           0.0           0.0   \n",
       "...                ...             ...           ...           ...   \n",
       "311065        0.227273        0.800000           0.0           0.0   \n",
       "316417        0.294118        0.750000           0.0           0.0   \n",
       "318284        0.214286        0.900000           0.0           1.0   \n",
       "323831        0.050000        0.933333           0.0           0.0   \n",
       "324144        0.363636        0.272727           0.0           0.0   \n",
       "\n",
       "        AAG_m6a_prop  AAT_m6a_prop  ...  CGA_m6a_prop  CTA_m6a_prop  \\\n",
       "68              0.00           0.0  ...           0.0           1.0   \n",
       "149             0.00           0.0  ...           1.0           0.0   \n",
       "419             0.00           0.0  ...           1.0           0.0   \n",
       "1619            0.00           0.0  ...           0.5           0.5   \n",
       "4909            0.00           0.0  ...           0.0           0.0   \n",
       "...              ...           ...  ...           ...           ...   \n",
       "311065          0.50           0.0  ...           0.0           0.0   \n",
       "316417          0.00           0.0  ...           0.0           0.0   \n",
       "318284          0.00           0.0  ...           1.0           0.0   \n",
       "323831          1.00           0.0  ...           0.0           0.0   \n",
       "324144          0.25           0.0  ...           0.0           0.0   \n",
       "\n",
       "        CTC_m6a_prop  GAA_m6a_prop  GAC_m6a_prop  GCA_m6a_prop  GGA_m6a_prop  \\\n",
       "68               1.0          0.00           1.0      1.000000           1.0   \n",
       "149              0.0          0.00           1.0      1.000000           0.0   \n",
       "419              1.0          0.00           1.0      1.000000           1.0   \n",
       "1619             0.5          0.50           0.0      0.000000           0.5   \n",
       "4909             1.0          0.00           0.0      1.000000           1.0   \n",
       "...              ...           ...           ...           ...           ...   \n",
       "311065           1.0          1.00           0.0      0.666667           1.0   \n",
       "316417           1.0          0.00           1.0      0.666667           1.0   \n",
       "318284           1.0          1.00           0.0      0.500000           1.0   \n",
       "323831           2.0          0.00           1.0      1.000000           1.0   \n",
       "324144           1.0          0.25           0.0      0.000000           0.0   \n",
       "\n",
       "        GTA_m6a_prop  TAA_m6a_prop  TCA_m6a_prop  \n",
       "68               1.0           0.0         0.000  \n",
       "149              0.0           0.0         0.000  \n",
       "419              0.0           0.0         0.000  \n",
       "1619             0.0           0.0         0.000  \n",
       "4909             0.0           0.0         0.000  \n",
       "...              ...           ...           ...  \n",
       "311065           0.0           0.0         0.750  \n",
       "316417           0.0           0.0         0.000  \n",
       "318284           0.0           0.0         0.000  \n",
       "323831           0.0           0.0         0.875  \n",
       "324144           0.0           0.0         0.500  \n",
       "\n",
       "[235 rows x 34 columns]"
      ]
     },
     "execution_count": 623,
     "metadata": {},
     "output_type": "execute_result"
    }
   ],
   "source": [
    "%%time\n",
    "res_prop[res_prop.apply(lambda x: (x > 1).any(), axis = 1)]"
   ]
  },
  {
   "cell_type": "code",
   "execution_count": 622,
   "id": "dd9637a8",
   "metadata": {},
   "outputs": [
    {
     "data": {
      "text/plain": [
       "left_AT_prop        0\n",
       "right_AT_prop       0\n",
       "motif_AT_prop       0\n",
       "left_m6a_prop     129\n",
       "right_m6a_prop     14\n",
       "motif_m6a_prop     76\n",
       "AAA_m6a_prop        0\n",
       "AAC_m6a_prop        1\n",
       "AAG_m6a_prop        1\n",
       "AAT_m6a_prop        0\n",
       "ACA_m6a_prop        0\n",
       "ACC_m6a_prop        0\n",
       "ACG_m6a_prop        1\n",
       "ACT_m6a_prop        0\n",
       "AGA_m6a_prop        1\n",
       "AGC_m6a_prop        1\n",
       "AGG_m6a_prop        5\n",
       "ATA_m6a_prop        0\n",
       "ATC_m6a_prop        2\n",
       "ATG_m6a_prop        4\n",
       "CAA_m6a_prop        1\n",
       "CAC_m6a_prop        6\n",
       "CAG_m6a_prop        9\n",
       "CCA_m6a_prop        2\n",
       "CGA_m6a_prop        1\n",
       "CTA_m6a_prop        1\n",
       "CTC_m6a_prop       10\n",
       "GAA_m6a_prop        2\n",
       "GAC_m6a_prop        2\n",
       "GCA_m6a_prop        2\n",
       "GGA_m6a_prop        4\n",
       "GTA_m6a_prop        0\n",
       "TAA_m6a_prop        0\n",
       "TCA_m6a_prop        0\n",
       "dtype: int64"
      ]
     },
     "execution_count": 622,
     "metadata": {},
     "output_type": "execute_result"
    }
   ],
   "source": [
    "res_prop[res_prop > 1].count()"
   ]
  },
  {
   "cell_type": "code",
   "execution_count": null,
   "id": "f5b675cc",
   "metadata": {},
   "outputs": [],
   "source": [
    "# remove rows w/  proportion > 1"
   ]
  },
  {
   "cell_type": "code",
   "execution_count": null,
   "id": "beebb989",
   "metadata": {},
   "outputs": [],
   "source": []
  },
  {
   "cell_type": "code",
   "execution_count": 262,
   "id": "2ec839a0",
   "metadata": {},
   "outputs": [
    {
     "name": "stdout",
     "output_type": "stream",
     "text": [
      "Unique motif-sequence groups: 326,816\n"
     ]
    }
   ],
   "source": [
    "# group by motif/query name\n",
    "grouping_cols = [\"motif_name\", \"query_name\"]\n",
    "df_grouped = df.groupby(grouping_cols)\n",
    "# get group names (keys)\n",
    "group_names = list(df_grouped.groups.keys())\n",
    "print(\"Unique motif-sequence groups: \" + \"{:,}\".format(len(group_names)))"
   ]
  },
  {
   "cell_type": "code",
   "execution_count": null,
   "id": "5865b498",
   "metadata": {},
   "outputs": [],
   "source": [
    "# extract features by motif/query group\n",
    "print(\"\\nAggregating features!\")\n",
    "res = df.groupby(grouping_cols).apply(lambda x: agg_features(x)).reset_index()\n",
    "print(\"Features: {}\".format(res.columns.tolist()[2:]))\n",
    "print(\"Total rows: \" + \"{:,}\".format(res.shape[0]))\n",
    "print(\"Total columns: \" + \"{:,}\".format(res.shape[1]))"
   ]
  },
  {
   "cell_type": "code",
   "execution_count": null,
   "id": "35db00ff",
   "metadata": {},
   "outputs": [],
   "source": []
  },
  {
   "cell_type": "code",
   "execution_count": null,
   "id": "96360935",
   "metadata": {},
   "outputs": [],
   "source": []
  },
  {
   "cell_type": "code",
   "execution_count": null,
   "id": "e6327f72",
   "metadata": {},
   "outputs": [],
   "source": []
  },
  {
   "cell_type": "code",
   "execution_count": null,
   "id": "e833d2a4",
   "metadata": {},
   "outputs": [],
   "source": []
  },
  {
   "cell_type": "markdown",
   "id": "57646b15",
   "metadata": {},
   "source": [
    "## filter max-rle pin"
   ]
  },
  {
   "cell_type": "code",
   "execution_count": 419,
   "id": "28ee0c4e",
   "metadata": {},
   "outputs": [
    {
     "name": "stdout",
     "output_type": "stream",
     "text": [
      "rows: 569,891, columns: 132\n"
     ]
    }
   ],
   "source": [
    "# CTCF L rle-max\n",
    "pin_file = \"{}/CTCF_m6a_fiberseq_L_100bp_features-rle-max.pin\".format(feature_dir)\n",
    "pin = pd.read_csv(pin_file, sep=\"\\t\")\n",
    "print(\"rows: {:,}, columns: {:,}\".format(pin.shape[0], pin.shape[1]))"
   ]
  },
  {
   "cell_type": "code",
   "execution_count": 431,
   "id": "2b16b481",
   "metadata": {},
   "outputs": [
    {
     "name": "stdout",
     "output_type": "stream",
     "text": [
      "25,034,322\n",
      "25,033,722\n"
     ]
    }
   ],
   "source": [
    "print(\"{:,}\".format(25034022+300))\n",
    "print(\"{:,}\".format(25034022-300))"
   ]
  },
  {
   "cell_type": "code",
   "execution_count": 582,
   "id": "335d0f79",
   "metadata": {},
   "outputs": [
    {
     "data": {
      "text/plain": [
       "-1    331543\n",
       " 1    238348\n",
       "Name: Label, dtype: int64"
      ]
     },
     "execution_count": 582,
     "metadata": {},
     "output_type": "execute_result"
    }
   ],
   "source": [
    "pin.Label.value_counts()"
   ]
  },
  {
   "cell_type": "code",
   "execution_count": 583,
   "id": "971cdbd9",
   "metadata": {
    "collapsed": true
   },
   "outputs": [
    {
     "data": {
      "text/plain": [
       "Label  rle_max\n",
       "-1     0.0        16714\n",
       "       1.0        61394\n",
       "       2.0        60860\n",
       "       3.0        49040\n",
       "       4.0        36095\n",
       "       5.0        26452\n",
       "       6.0        19715\n",
       "       7.0        14999\n",
       "       8.0        11211\n",
       "       9.0         8475\n",
       "       10.0        6309\n",
       "       11.0        4713\n",
       "       12.0        3610\n",
       "       13.0        2934\n",
       "       14.0        2478\n",
       "       15.0        1900\n",
       "       16.0        1419\n",
       "       17.0        1076\n",
       "       18.0         702\n",
       "       19.0         561\n",
       "       20.0         380\n",
       "       21.0         254\n",
       "       22.0         144\n",
       "       23.0          61\n",
       "       24.0          33\n",
       "       25.0          10\n",
       "       26.0           3\n",
       "       27.0           1\n",
       " 1     0.0        15056\n",
       "       1.0        40295\n",
       "       2.0        28968\n",
       "       3.0        18886\n",
       "       4.0        12970\n",
       "       5.0         9280\n",
       "       6.0         8278\n",
       "       7.0         7853\n",
       "       8.0         7482\n",
       "       9.0         7957\n",
       "       10.0        8580\n",
       "       11.0        8667\n",
       "       12.0        9159\n",
       "       13.0        9493\n",
       "       14.0        8525\n",
       "       15.0        8403\n",
       "       16.0        7284\n",
       "       17.0        6091\n",
       "       18.0        4983\n",
       "       19.0        4018\n",
       "       20.0        2558\n",
       "       21.0        1823\n",
       "       22.0        1060\n",
       "       23.0         483\n",
       "       24.0         194\n",
       "       25.0           2\n",
       "Name: rle_max, dtype: int64"
      ]
     },
     "execution_count": 583,
     "metadata": {},
     "output_type": "execute_result"
    }
   ],
   "source": [
    "pin.groupby(\"Label\").rle_max.value_counts(sort=False)"
   ]
  },
  {
   "cell_type": "code",
   "execution_count": 576,
   "id": "8a630471",
   "metadata": {},
   "outputs": [
    {
     "data": {
      "text/html": [
       "<div>\n",
       "<style scoped>\n",
       "    .dataframe tbody tr th:only-of-type {\n",
       "        vertical-align: middle;\n",
       "    }\n",
       "\n",
       "    .dataframe tbody tr th {\n",
       "        vertical-align: top;\n",
       "    }\n",
       "\n",
       "    .dataframe thead th {\n",
       "        text-align: right;\n",
       "    }\n",
       "</style>\n",
       "<table border=\"1\" class=\"dataframe\">\n",
       "  <thead>\n",
       "    <tr style=\"text-align: right;\">\n",
       "      <th></th>\n",
       "      <th>SpecID</th>\n",
       "      <th>Label</th>\n",
       "      <th>msp_size</th>\n",
       "      <th>left_m6a_count</th>\n",
       "      <th>right_m6a_count</th>\n",
       "      <th>motif_m6a_count</th>\n",
       "      <th>left_AT_count</th>\n",
       "      <th>right_AT_count</th>\n",
       "      <th>motif_AT_count</th>\n",
       "      <th>left_AT_prop</th>\n",
       "      <th>...</th>\n",
       "      <th>TTC_count</th>\n",
       "      <th>TTC_m6a_prop</th>\n",
       "      <th>TTG_count</th>\n",
       "      <th>TTG_m6a_prop</th>\n",
       "      <th>TTT_count</th>\n",
       "      <th>TTT_m6a_prop</th>\n",
       "      <th>rle_max</th>\n",
       "      <th>Peptide</th>\n",
       "      <th>Proteins</th>\n",
       "      <th>scannr</th>\n",
       "    </tr>\n",
       "  </thead>\n",
       "  <tbody>\n",
       "    <tr>\n",
       "      <th>379538</th>\n",
       "      <td>chr1_25034022_-/m54329U_210326_192251/89260563...</td>\n",
       "      <td>-1</td>\n",
       "      <td>264.0</td>\n",
       "      <td>13.0</td>\n",
       "      <td>12.0</td>\n",
       "      <td>13.0</td>\n",
       "      <td>17.0</td>\n",
       "      <td>13.0</td>\n",
       "      <td>13.0</td>\n",
       "      <td>0.425</td>\n",
       "      <td>...</td>\n",
       "      <td>1.0</td>\n",
       "      <td>1.0</td>\n",
       "      <td>0.0</td>\n",
       "      <td>0.0</td>\n",
       "      <td>0.0</td>\n",
       "      <td>0.0</td>\n",
       "      <td>0.0</td>\n",
       "      <td>379538</td>\n",
       "      <td>379538</td>\n",
       "      <td>379538</td>\n",
       "    </tr>\n",
       "    <tr>\n",
       "      <th>489658</th>\n",
       "      <td>chr5_78497949_+/m54329U_210323_190418/39584337...</td>\n",
       "      <td>-1</td>\n",
       "      <td>381.0</td>\n",
       "      <td>19.0</td>\n",
       "      <td>14.0</td>\n",
       "      <td>11.0</td>\n",
       "      <td>21.0</td>\n",
       "      <td>14.0</td>\n",
       "      <td>11.0</td>\n",
       "      <td>0.525</td>\n",
       "      <td>...</td>\n",
       "      <td>0.0</td>\n",
       "      <td>0.0</td>\n",
       "      <td>0.0</td>\n",
       "      <td>0.0</td>\n",
       "      <td>0.0</td>\n",
       "      <td>0.0</td>\n",
       "      <td>0.0</td>\n",
       "      <td>489658</td>\n",
       "      <td>489658</td>\n",
       "      <td>489658</td>\n",
       "    </tr>\n",
       "    <tr>\n",
       "      <th>489659</th>\n",
       "      <td>chr5_78498031_-/m54329U_210323_190418/11377169...</td>\n",
       "      <td>-1</td>\n",
       "      <td>93.0</td>\n",
       "      <td>10.0</td>\n",
       "      <td>3.0</td>\n",
       "      <td>10.0</td>\n",
       "      <td>18.0</td>\n",
       "      <td>14.0</td>\n",
       "      <td>10.0</td>\n",
       "      <td>0.450</td>\n",
       "      <td>...</td>\n",
       "      <td>0.0</td>\n",
       "      <td>0.0</td>\n",
       "      <td>0.0</td>\n",
       "      <td>0.0</td>\n",
       "      <td>0.0</td>\n",
       "      <td>0.0</td>\n",
       "      <td>0.0</td>\n",
       "      <td>489659</td>\n",
       "      <td>489659</td>\n",
       "      <td>489659</td>\n",
       "    </tr>\n",
       "    <tr>\n",
       "      <th>119486</th>\n",
       "      <td>chr20_1467041_-/m54329U_210813_020940/59049924...</td>\n",
       "      <td>1</td>\n",
       "      <td>289.0</td>\n",
       "      <td>9.0</td>\n",
       "      <td>8.0</td>\n",
       "      <td>7.0</td>\n",
       "      <td>11.0</td>\n",
       "      <td>11.0</td>\n",
       "      <td>7.0</td>\n",
       "      <td>0.275</td>\n",
       "      <td>...</td>\n",
       "      <td>0.0</td>\n",
       "      <td>0.0</td>\n",
       "      <td>0.0</td>\n",
       "      <td>0.0</td>\n",
       "      <td>0.0</td>\n",
       "      <td>0.0</td>\n",
       "      <td>0.0</td>\n",
       "      <td>119486</td>\n",
       "      <td>119486</td>\n",
       "      <td>119486</td>\n",
       "    </tr>\n",
       "    <tr>\n",
       "      <th>60862</th>\n",
       "      <td>chr16_47018428_+/m54329U_210323_190418/1388070...</td>\n",
       "      <td>1</td>\n",
       "      <td>300.0</td>\n",
       "      <td>20.0</td>\n",
       "      <td>18.0</td>\n",
       "      <td>18.0</td>\n",
       "      <td>22.0</td>\n",
       "      <td>23.0</td>\n",
       "      <td>18.0</td>\n",
       "      <td>0.550</td>\n",
       "      <td>...</td>\n",
       "      <td>0.0</td>\n",
       "      <td>0.0</td>\n",
       "      <td>0.0</td>\n",
       "      <td>0.0</td>\n",
       "      <td>0.0</td>\n",
       "      <td>0.0</td>\n",
       "      <td>0.0</td>\n",
       "      <td>60862</td>\n",
       "      <td>60862</td>\n",
       "      <td>60862</td>\n",
       "    </tr>\n",
       "    <tr>\n",
       "      <th>...</th>\n",
       "      <td>...</td>\n",
       "      <td>...</td>\n",
       "      <td>...</td>\n",
       "      <td>...</td>\n",
       "      <td>...</td>\n",
       "      <td>...</td>\n",
       "      <td>...</td>\n",
       "      <td>...</td>\n",
       "      <td>...</td>\n",
       "      <td>...</td>\n",
       "      <td>...</td>\n",
       "      <td>...</td>\n",
       "      <td>...</td>\n",
       "      <td>...</td>\n",
       "      <td>...</td>\n",
       "      <td>...</td>\n",
       "      <td>...</td>\n",
       "      <td>...</td>\n",
       "      <td>...</td>\n",
       "      <td>...</td>\n",
       "      <td>...</td>\n",
       "    </tr>\n",
       "    <tr>\n",
       "      <th>510945</th>\n",
       "      <td>chr7_12639022_+/m64076_221119_202646/157420071...</td>\n",
       "      <td>-1</td>\n",
       "      <td>154.0</td>\n",
       "      <td>8.0</td>\n",
       "      <td>4.0</td>\n",
       "      <td>0.0</td>\n",
       "      <td>26.0</td>\n",
       "      <td>28.0</td>\n",
       "      <td>25.0</td>\n",
       "      <td>0.650</td>\n",
       "      <td>...</td>\n",
       "      <td>0.0</td>\n",
       "      <td>0.0</td>\n",
       "      <td>0.0</td>\n",
       "      <td>0.0</td>\n",
       "      <td>4.0</td>\n",
       "      <td>0.0</td>\n",
       "      <td>25.0</td>\n",
       "      <td>510945</td>\n",
       "      <td>510945</td>\n",
       "      <td>510945</td>\n",
       "    </tr>\n",
       "    <tr>\n",
       "      <th>394256</th>\n",
       "      <td>chr20_34834538_+/m54329U_210813_020940/7012548...</td>\n",
       "      <td>-1</td>\n",
       "      <td>125.0</td>\n",
       "      <td>12.0</td>\n",
       "      <td>2.0</td>\n",
       "      <td>0.0</td>\n",
       "      <td>27.0</td>\n",
       "      <td>28.0</td>\n",
       "      <td>26.0</td>\n",
       "      <td>0.675</td>\n",
       "      <td>...</td>\n",
       "      <td>0.0</td>\n",
       "      <td>0.0</td>\n",
       "      <td>0.0</td>\n",
       "      <td>0.0</td>\n",
       "      <td>2.0</td>\n",
       "      <td>0.0</td>\n",
       "      <td>26.0</td>\n",
       "      <td>394256</td>\n",
       "      <td>394256</td>\n",
       "      <td>394256</td>\n",
       "    </tr>\n",
       "    <tr>\n",
       "      <th>394259</th>\n",
       "      <td>chr20_34834538_+/m64076_210328_012155/5637530/ccs</td>\n",
       "      <td>-1</td>\n",
       "      <td>179.0</td>\n",
       "      <td>11.0</td>\n",
       "      <td>5.0</td>\n",
       "      <td>0.0</td>\n",
       "      <td>27.0</td>\n",
       "      <td>28.0</td>\n",
       "      <td>26.0</td>\n",
       "      <td>0.675</td>\n",
       "      <td>...</td>\n",
       "      <td>0.0</td>\n",
       "      <td>0.0</td>\n",
       "      <td>0.0</td>\n",
       "      <td>0.0</td>\n",
       "      <td>2.0</td>\n",
       "      <td>0.0</td>\n",
       "      <td>26.0</td>\n",
       "      <td>394259</td>\n",
       "      <td>394259</td>\n",
       "      <td>394259</td>\n",
       "    </tr>\n",
       "    <tr>\n",
       "      <th>285090</th>\n",
       "      <td>chr12_85477349_+/m54329U_210810_004956/1633823...</td>\n",
       "      <td>-1</td>\n",
       "      <td>143.0</td>\n",
       "      <td>7.0</td>\n",
       "      <td>7.0</td>\n",
       "      <td>0.0</td>\n",
       "      <td>29.0</td>\n",
       "      <td>25.0</td>\n",
       "      <td>26.0</td>\n",
       "      <td>0.725</td>\n",
       "      <td>...</td>\n",
       "      <td>1.0</td>\n",
       "      <td>0.0</td>\n",
       "      <td>1.0</td>\n",
       "      <td>0.0</td>\n",
       "      <td>1.0</td>\n",
       "      <td>0.0</td>\n",
       "      <td>26.0</td>\n",
       "      <td>285090</td>\n",
       "      <td>285090</td>\n",
       "      <td>285090</td>\n",
       "    </tr>\n",
       "    <tr>\n",
       "      <th>249927</th>\n",
       "      <td>chr10_67350928_+/m54329U_210323_190418/8460716...</td>\n",
       "      <td>-1</td>\n",
       "      <td>119.0</td>\n",
       "      <td>2.0</td>\n",
       "      <td>12.0</td>\n",
       "      <td>0.0</td>\n",
       "      <td>34.0</td>\n",
       "      <td>26.0</td>\n",
       "      <td>27.0</td>\n",
       "      <td>0.850</td>\n",
       "      <td>...</td>\n",
       "      <td>1.0</td>\n",
       "      <td>0.0</td>\n",
       "      <td>0.0</td>\n",
       "      <td>0.0</td>\n",
       "      <td>0.0</td>\n",
       "      <td>0.0</td>\n",
       "      <td>27.0</td>\n",
       "      <td>249927</td>\n",
       "      <td>249927</td>\n",
       "      <td>249927</td>\n",
       "    </tr>\n",
       "  </tbody>\n",
       "</table>\n",
       "<p>569891 rows × 132 columns</p>\n",
       "</div>"
      ],
      "text/plain": [
       "                                                   SpecID  Label  msp_size  \\\n",
       "379538  chr1_25034022_-/m54329U_210326_192251/89260563...     -1     264.0   \n",
       "489658  chr5_78497949_+/m54329U_210323_190418/39584337...     -1     381.0   \n",
       "489659  chr5_78498031_-/m54329U_210323_190418/11377169...     -1      93.0   \n",
       "119486  chr20_1467041_-/m54329U_210813_020940/59049924...      1     289.0   \n",
       "60862   chr16_47018428_+/m54329U_210323_190418/1388070...      1     300.0   \n",
       "...                                                   ...    ...       ...   \n",
       "510945  chr7_12639022_+/m64076_221119_202646/157420071...     -1     154.0   \n",
       "394256  chr20_34834538_+/m54329U_210813_020940/7012548...     -1     125.0   \n",
       "394259  chr20_34834538_+/m64076_210328_012155/5637530/ccs     -1     179.0   \n",
       "285090  chr12_85477349_+/m54329U_210810_004956/1633823...     -1     143.0   \n",
       "249927  chr10_67350928_+/m54329U_210323_190418/8460716...     -1     119.0   \n",
       "\n",
       "        left_m6a_count  right_m6a_count  motif_m6a_count  left_AT_count  \\\n",
       "379538            13.0             12.0             13.0           17.0   \n",
       "489658            19.0             14.0             11.0           21.0   \n",
       "489659            10.0              3.0             10.0           18.0   \n",
       "119486             9.0              8.0              7.0           11.0   \n",
       "60862             20.0             18.0             18.0           22.0   \n",
       "...                ...              ...              ...            ...   \n",
       "510945             8.0              4.0              0.0           26.0   \n",
       "394256            12.0              2.0              0.0           27.0   \n",
       "394259            11.0              5.0              0.0           27.0   \n",
       "285090             7.0              7.0              0.0           29.0   \n",
       "249927             2.0             12.0              0.0           34.0   \n",
       "\n",
       "        right_AT_count  motif_AT_count  left_AT_prop  ...  TTC_count  \\\n",
       "379538            13.0            13.0         0.425  ...        1.0   \n",
       "489658            14.0            11.0         0.525  ...        0.0   \n",
       "489659            14.0            10.0         0.450  ...        0.0   \n",
       "119486            11.0             7.0         0.275  ...        0.0   \n",
       "60862             23.0            18.0         0.550  ...        0.0   \n",
       "...                ...             ...           ...  ...        ...   \n",
       "510945            28.0            25.0         0.650  ...        0.0   \n",
       "394256            28.0            26.0         0.675  ...        0.0   \n",
       "394259            28.0            26.0         0.675  ...        0.0   \n",
       "285090            25.0            26.0         0.725  ...        1.0   \n",
       "249927            26.0            27.0         0.850  ...        1.0   \n",
       "\n",
       "        TTC_m6a_prop  TTG_count  TTG_m6a_prop  TTT_count  TTT_m6a_prop  \\\n",
       "379538           1.0        0.0           0.0        0.0           0.0   \n",
       "489658           0.0        0.0           0.0        0.0           0.0   \n",
       "489659           0.0        0.0           0.0        0.0           0.0   \n",
       "119486           0.0        0.0           0.0        0.0           0.0   \n",
       "60862            0.0        0.0           0.0        0.0           0.0   \n",
       "...              ...        ...           ...        ...           ...   \n",
       "510945           0.0        0.0           0.0        4.0           0.0   \n",
       "394256           0.0        0.0           0.0        2.0           0.0   \n",
       "394259           0.0        0.0           0.0        2.0           0.0   \n",
       "285090           0.0        1.0           0.0        1.0           0.0   \n",
       "249927           0.0        0.0           0.0        0.0           0.0   \n",
       "\n",
       "        rle_max  Peptide  Proteins  scannr  \n",
       "379538      0.0   379538    379538  379538  \n",
       "489658      0.0   489658    489658  489658  \n",
       "489659      0.0   489659    489659  489659  \n",
       "119486      0.0   119486    119486  119486  \n",
       "60862       0.0    60862     60862   60862  \n",
       "...         ...      ...       ...     ...  \n",
       "510945     25.0   510945    510945  510945  \n",
       "394256     26.0   394256    394256  394256  \n",
       "394259     26.0   394259    394259  394259  \n",
       "285090     26.0   285090    285090  285090  \n",
       "249927     27.0   249927    249927  249927  \n",
       "\n",
       "[569891 rows x 132 columns]"
      ]
     },
     "execution_count": 576,
     "metadata": {},
     "output_type": "execute_result"
    }
   ],
   "source": [
    "pin.sort_values(by=\"rle_max\")"
   ]
  },
  {
   "cell_type": "code",
   "execution_count": null,
   "id": "ff15717e",
   "metadata": {},
   "outputs": [],
   "source": []
  },
  {
   "cell_type": "code",
   "execution_count": 53,
   "id": "94ee1429",
   "metadata": {},
   "outputs": [],
   "source": [
    "# removes positive rows w/ rle_max < rle_min\n",
    "def filt_rle_max(df, rle_min = 2):\n",
    "    drop_rows = (df[\"Label\"] == 1) & (df.rle_max < rle_min)\n",
    "    print(\"Removing {:,} rows ({:0.2f}%).\".format(sum(drop_rows), (sum(drop_rows)/df.shape[0])*100))\n",
    "    return(df.loc[~drop_rows])"
   ]
  },
  {
   "cell_type": "code",
   "execution_count": 56,
   "id": "8a920085",
   "metadata": {},
   "outputs": [
    {
     "name": "stdout",
     "output_type": "stream",
     "text": [
      "Pre-filt: 569,891\n",
      "Removing 55,351 rows (9.71%).\n",
      "Total: 514,540\n",
      "Pos: 182,997\n",
      "Neg: 331,543\n"
     ]
    }
   ],
   "source": [
    "print(\"Pre-filt: {:,}\".format(pin.shape[0]))\n",
    "# filter positive rows by rle_max\n",
    "pin = filt_rle_max(pin, rle_min=2)\n",
    "print(\"Total: {:,}\".format(pin.shape[0]))\n",
    "print(\"Pos: {:,}\".format(sum(pin[\"Label\"] == 1)))\n",
    "print(\"Neg: {:,}\".format(sum(pin[\"Label\"] == -1)))"
   ]
  },
  {
   "cell_type": "code",
   "execution_count": 58,
   "id": "8c8ce9d7",
   "metadata": {},
   "outputs": [
    {
     "name": "stdout",
     "output_type": "stream",
     "text": [
      "Saving to output file: /mmfs1/gscratch/stergachislab/mwperez/ctcf-footprinting/feature_data/CTCF_m6a_fiberseq_L_100bp_features-rle-max-filt.pin\n"
     ]
    }
   ],
   "source": [
    "# save filtered pin\n",
    "output_file = pin_file.replace(\".pin\", \"-filt.pin\")\n",
    "print(\"Saving to output file: {}\".format(output_file))\n",
    "pin.to_csv(output_file, header=True, index=None, sep=\"\\t\",)"
   ]
  },
  {
   "cell_type": "code",
   "execution_count": null,
   "id": "c4ab18db",
   "metadata": {},
   "outputs": [],
   "source": []
  }
 ],
 "metadata": {
  "kernelspec": {
   "display_name": "Python [conda env:fiberseq-smk] *",
   "language": "python",
   "name": "conda-env-fiberseq-smk-py"
  },
  "language_info": {
   "codemirror_mode": {
    "name": "ipython",
    "version": 3
   },
   "file_extension": ".py",
   "mimetype": "text/x-python",
   "name": "python",
   "nbconvert_exporter": "python",
   "pygments_lexer": "ipython3",
   "version": "3.9.15"
  },
  "toc": {
   "base_numbering": 1,
   "nav_menu": {},
   "number_sections": false,
   "sideBar": true,
   "skip_h1_title": true,
   "title_cell": "Table of Contents",
   "title_sidebar": "Contents",
   "toc_cell": false,
   "toc_position": {
    "height": "705px",
    "left": "10px",
    "top": "150px",
    "width": "186.594px"
   },
   "toc_section_display": false,
   "toc_window_display": true
  }
 },
 "nbformat": 4,
 "nbformat_minor": 5
}
