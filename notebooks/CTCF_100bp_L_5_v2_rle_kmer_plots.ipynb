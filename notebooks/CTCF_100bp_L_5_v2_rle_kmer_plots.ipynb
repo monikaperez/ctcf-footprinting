{
 "cells": [
  {
   "cell_type": "markdown",
   "id": "368d0a34",
   "metadata": {},
   "source": [
    "# CTCF L pos & neg (5%) | rle & 3-mer features"
   ]
  },
  {
   "cell_type": "code",
   "execution_count": 1,
   "id": "dfa50dc1",
   "metadata": {
    "collapsed": true
   },
   "outputs": [
    {
     "name": "stderr",
     "output_type": "stream",
     "text": [
      "\n",
      "Attaching package: ‘dplyr’\n",
      "\n",
      "\n",
      "The following objects are masked from ‘package:plyr’:\n",
      "\n",
      "    arrange, count, desc, failwith, id, mutate, rename, summarise,\n",
      "    summarize\n",
      "\n",
      "\n",
      "The following objects are masked from ‘package:data.table’:\n",
      "\n",
      "    between, first, last\n",
      "\n",
      "\n",
      "The following objects are masked from ‘package:stats’:\n",
      "\n",
      "    filter, lag\n",
      "\n",
      "\n",
      "The following objects are masked from ‘package:base’:\n",
      "\n",
      "    intersect, setdiff, setequal, union\n",
      "\n",
      "\n",
      "\n",
      "Attaching package: ‘tictoc’\n",
      "\n",
      "\n",
      "The following object is masked from ‘package:data.table’:\n",
      "\n",
      "    shift\n",
      "\n",
      "\n",
      "\n",
      "Attaching package: ‘purrr’\n",
      "\n",
      "\n",
      "The following object is masked from ‘package:plyr’:\n",
      "\n",
      "    compact\n",
      "\n",
      "\n",
      "The following object is masked from ‘package:data.table’:\n",
      "\n",
      "    transpose\n",
      "\n",
      "\n",
      "The following object is masked from ‘package:jsonlite’:\n",
      "\n",
      "    flatten\n",
      "\n",
      "\n",
      "\n",
      "Attaching package: ‘scales’\n",
      "\n",
      "\n",
      "The following object is masked from ‘package:purrr’:\n",
      "\n",
      "    discard\n",
      "\n",
      "\n",
      "\n",
      "Attaching package: ‘gridExtra’\n",
      "\n",
      "\n",
      "The following object is masked from ‘package:dplyr’:\n",
      "\n",
      "    combine\n",
      "\n",
      "\n"
     ]
    }
   ],
   "source": [
    "library(ggplot2)\n",
    "library(data.table)\n",
    "library(plyr)\n",
    "library(dplyr)\n",
    "library(tictoc)\n",
    "library(ggsci)\n",
    "library(purrr)\n",
    "library(scales)\n",
    "library(stringr)\n",
    "library(cowplot)\n",
    "library(gridExtra)\n",
    "library(tidyr)"
   ]
  },
  {
   "cell_type": "code",
   "execution_count": 2,
   "id": "2cb6f7a9",
   "metadata": {},
   "outputs": [],
   "source": [
    "while (!is.null(dev.list()))  dev.off()\n",
    "rm(list=ls())\n",
    "\n",
    "#------------ Helper Functions ------------\n",
    "# Initiate PDF\n",
    "openPDF <- function (output_file_fh, pdf_dims) {\n",
    "  print(sprintf(\"Saving plots to: %s\", output_file_fh))\n",
    "  # Open PDF\n",
    "  pdf(output_file_fh, width = pdf_dims[1], height = pdf_dims[2],\n",
    "      useDingbats=FALSE, family = \"ArialMT\")\n",
    "}\n",
    "\n",
    "# Close PDF\n",
    "closePDF <- function () {\n",
    "  while (!is.null(dev.list()))  dev.off()\n",
    "  print(\"File saved.\")\n",
    "}"
   ]
  },
  {
   "cell_type": "code",
   "execution_count": 3,
   "id": "1a7f0fe5",
   "metadata": {},
   "outputs": [],
   "source": [
    "#------------ Define dirs ------------\n",
    "setwd(\"/mmfs1/gscratch/stergachislab/mwperez/ctcf-footprinting\")\n",
    "\n",
    "#ARGS\n",
    "data_folder <- sprintf(\"%s/candidate_footprints\", getwd())\n",
    "mokapot_dir <- sprintf(\"%s/mokapot_res\", getwd())\n",
    "output_folder <- sprintf(\"%s/figures\", mokapot_dir)"
   ]
  },
  {
   "cell_type": "markdown",
   "id": "811d7e59",
   "metadata": {},
   "source": [
    "## formatting data"
   ]
  },
  {
   "cell_type": "code",
   "execution_count": 4,
   "id": "724176d2",
   "metadata": {},
   "outputs": [
    {
     "name": "stdout",
     "output_type": "stream",
     "text": [
      "[1] \"/mmfs1/gscratch/stergachislab/mvollger/projects/ctcf-footprinting/mokapot_res/CTCF_100bp_L_5_v2.mokapot.m6a_fiberseq.txt\"\n"
     ]
    }
   ],
   "source": [
    "# set args\n",
    "motif_type <- \"L\"\n",
    "input_file_root <- \"100bp_L_5_v2\"\n",
    "file_root <- \"100bp_L_rle_kmer\" # for output file & titles\n",
    "ctcf_dist <- c(-100,100)\n",
    "n_rows <- Inf\n",
    "\n",
    "# load set data file\n",
    "data_file_name <- sprintf(\"CTCF_%s.mokapot.m6a_fiberseq.txt\", input_file_root)\n",
    "data_file <- sprintf(\"%s/%s\", mokapot_dir, data_file_name)\n",
    "print(data_file)"
   ]
  },
  {
   "cell_type": "code",
   "execution_count": 5,
   "id": "005992ff",
   "metadata": {},
   "outputs": [
    {
     "data": {
      "text/html": [
       "'m6a rows: 17,535,934'"
      ],
      "text/latex": [
       "'m6a rows: 17,535,934'"
      ],
      "text/markdown": [
       "'m6a rows: 17,535,934'"
      ],
      "text/plain": [
       "[1] \"m6a rows: 17,535,934\""
      ]
     },
     "metadata": {},
     "output_type": "display_data"
    },
    {
     "data": {
      "text/html": [
       "'m6a rows: 17,535,934'"
      ],
      "text/latex": [
       "'m6a rows: 17,535,934'"
      ],
      "text/markdown": [
       "'m6a rows: 17,535,934'"
      ],
      "text/plain": [
       "[1] \"m6a rows: 17,535,934\""
      ]
     },
     "metadata": {},
     "output_type": "display_data"
    }
   ],
   "source": [
    "# read table\n",
    "df <- fread(data_file, nrows=n_rows)\n",
    "sprintf(\"m6a rows: %s\", format(dim(df)[1], big.mark=\",\", scientific=FALSE))\n",
    "\n",
    "# filter centered_position_type for m6a\n",
    "df <- filter(df, centered_position_type == \"m6a\")\n",
    "sprintf(\"m6a rows: %s\", format(dim(df)[1], big.mark=\",\", scientific=FALSE))"
   ]
  },
  {
   "cell_type": "code",
   "execution_count": 6,
   "id": "b7edfb07",
   "metadata": {},
   "outputs": [
    {
     "data": {
      "text/plain": [
       "\n",
       "Negative Positive \n",
       " 8040195  9495739 "
      ]
     },
     "metadata": {},
     "output_type": "display_data"
    }
   ],
   "source": [
    "df <- df %>%\n",
    "    mutate(Label = ifelse(Label == 1, \"Positive\", \"Negative\"))\n",
    "\n",
    "table(df$Label)"
   ]
  },
  {
   "cell_type": "code",
   "execution_count": 7,
   "id": "06fa3b47",
   "metadata": {},
   "outputs": [],
   "source": [
    "df$FDR_05 <- ifelse(df$FDR < 0.05, \"low_FDR\", \"high_FDR\")\n",
    "df$FDR_01 <- ifelse(df$FDR < 0.01, \"low_FDR\", \"high_FDR\")\n",
    "df$FDR_001 <- ifelse(df$FDR < 0.001, \"low_FDR\", \"high_FDR\")\n",
    "df$FDR_0001 <- ifelse(df$FDR < 0.0001, \"low_FDR\", \"high_FDR\")"
   ]
  },
  {
   "cell_type": "code",
   "execution_count": 8,
   "id": "689d9afb",
   "metadata": {},
   "outputs": [
    {
     "data": {
      "text/html": [
       "'unique motifs: 260,946'"
      ],
      "text/latex": [
       "'unique motifs: 260,946'"
      ],
      "text/markdown": [
       "'unique motifs: 260,946'"
      ],
      "text/plain": [
       "[1] \"unique motifs: 260,946\""
      ]
     },
     "metadata": {},
     "output_type": "display_data"
    },
    {
     "data": {
      "text/html": [
       "'unique queries: 411,235'"
      ],
      "text/latex": [
       "'unique queries: 411,235'"
      ],
      "text/markdown": [
       "'unique queries: 411,235'"
      ],
      "text/plain": [
       "[1] \"unique queries: 411,235\""
      ]
     },
     "metadata": {},
     "output_type": "display_data"
    },
    {
     "data": {
      "text/html": [
       "'unique motif-query groups: 569,891'"
      ],
      "text/latex": [
       "'unique motif-query groups: 569,891'"
      ],
      "text/markdown": [
       "'unique motif-query groups: 569,891'"
      ],
      "text/plain": [
       "[1] \"unique motif-query groups: 569,891\""
      ]
     },
     "metadata": {},
     "output_type": "display_data"
    }
   ],
   "source": [
    "# unique CTCF motifs, queries, & motif_queries\n",
    "sprintf(\"unique motifs: %s\", format(length(unique(df$motif_name)), big.mark=\",\", scientific=FALSE))\n",
    "sprintf(\"unique queries: %s\", format(length(unique(df$query_name)), big.mark=\",\", scientific=FALSE))\n",
    "sprintf(\"unique motif-query groups: %s\", format(length(unique(df$motif_query)), big.mark=\",\", scientific=FALSE))"
   ]
  },
  {
   "cell_type": "code",
   "execution_count": 9,
   "id": "8ea59009",
   "metadata": {},
   "outputs": [],
   "source": [
    "# save original df\n",
    "df_og <- df"
   ]
  },
  {
   "cell_type": "markdown",
   "id": "226e1be2",
   "metadata": {},
   "source": [
    "## plot & color settings"
   ]
  },
  {
   "cell_type": "code",
   "execution_count": 10,
   "id": "7d12fcc5",
   "metadata": {},
   "outputs": [],
   "source": [
    "# change plot dimensions\n",
    "options(repr.plot.width=20, repr.plot.height=10)\n",
    "\n",
    "set_plot_dimensions <- function(width_choice, height_choice) {\n",
    "options(repr.plot.width=width_choice, repr.plot.height=height_choice)\n",
    "        }\n",
    "set_plot_dimensions(15, 7.5)"
   ]
  },
  {
   "cell_type": "code",
   "execution_count": 11,
   "id": "f1314660",
   "metadata": {},
   "outputs": [],
   "source": [
    "# create density plot\n",
    "font_size <- 1\n",
    "font_info <- element_text(size=font_size, family=\"ArialMT\", color=\"black\")"
   ]
  },
  {
   "cell_type": "code",
   "execution_count": 12,
   "id": "57991b32",
   "metadata": {},
   "outputs": [],
   "source": [
    "# define colors (light grey, purple, darker grey, blue)\n",
    "m6a_col <- \"#7F3F98\"\n",
    "fiber_col <- \"#D1D2D4\"\n",
    "motif_annot_col <- \"#006738\"#\"#6C9272\"#\"blue\"\n",
    "\n",
    "# colors from Mitchell's presentation (orange, red, purple, light grey, navy (gene track))\n",
    "mitch_cols <- c(\"#FF8C00\", \"#FF0000\", \"#9370DB\", \"#E6E6E6\", \"#0C0C78\")"
   ]
  },
  {
   "cell_type": "markdown",
   "id": "a5b03dde",
   "metadata": {},
   "source": [
    "## feature hists"
   ]
  },
  {
   "cell_type": "code",
   "execution_count": 15,
   "id": "dd620243",
   "metadata": {
    "collapsed": true
   },
   "outputs": [
    {
     "name": "stdout",
     "output_type": "stream",
     "text": [
      "[1] \"/mmfs1/gscratch/stergachislab/mvollger/projects/ctcf-footprinting/candidate_footprints/CTCF_m6a_fiberseq_100bp_fig_example_positive.txt\"\n"
     ]
    }
   ],
   "source": [
    "#------------ Example motif data ------------\n",
    "\n",
    "# load data file\n",
    "data_file_name <- \"CTCF_m6a_fiberseq_100bp_fig_example_positive.txt\"\n",
    "data_file <- sprintf(\"%s/%s\", data_folder, data_file_name)\n",
    "print(data_file)\n",
    "\n",
    "# read table\n",
    "df <- fread(data_file)\n",
    "\n",
    "# add motif_name row\n",
    "df$motif_name <- paste(df$chrom, df$centering_position, df$strand, sep=\"_\")\n",
    "# move motif_name to first column\n",
    "df <- df %>%\n",
    "    select(\"motif_name\", everything())\n",
    "\n",
    "# add motif_query column\n",
    "df <- cbind(paste(df$motif_name, df$query_name, sep=\"/\"), df)\n",
    "# rename column\n",
    "colnames(df)[1] = \"motif_query\"\n",
    "\n",
    "# get only m6a\n",
    "df <- df[df$centered_position_type %in% c(\"m6a\")]\n",
    "# filter our rows with N in sequence\n",
    "df <- df %>% filter(!(grepl(\"N\", subset_sequence)))"
   ]
  },
  {
   "cell_type": "code",
   "execution_count": 41,
   "id": "5322d354",
   "metadata": {},
   "outputs": [
    {
     "name": "stdout",
     "output_type": "stream",
     "text": [
      "[1] \"/mmfs1/gscratch/stergachislab/mvollger/projects/ctcf-footprinting/feature_data/CTCF_m6a_fiberseq_L_100bp_positive_features-rle-v3.txt\"\n"
     ]
    },
    {
     "data": {
      "text/html": [
       "'feature rows: 238,348'"
      ],
      "text/latex": [
       "'feature rows: 238,348'"
      ],
      "text/markdown": [
       "'feature rows: 238,348'"
      ],
      "text/plain": [
       "[1] \"feature rows: 238,348\""
      ]
     },
     "metadata": {},
     "output_type": "display_data"
    }
   ],
   "source": [
    "# set args\n",
    "feature_dir <- sprintf(\"%s/feature_data\", getwd())\n",
    "motif_type <- \"L\"\n",
    "input_file_root <- \"rle-v3\"\n",
    "#file_root <- \"100bp_L_rle_all\" # for output file & titles\n",
    "ctcf_dist <- c(-100,100)\n",
    "n_rows <- Inf\n",
    "\n",
    "# set data file\n",
    "data_file_name <- sprintf(\"CTCF_m6a_fiberseq_L_100bp_positive_features-%s.txt\", input_file_root)\n",
    "data_file <- sprintf(\"%s/%s\", feature_dir, data_file_name)\n",
    "print(data_file)\n",
    "\n",
    "# read table\n",
    "d_p <- fread(data_file, nrows=n_rows)\n",
    "sprintf(\"feature rows: %s\", format(dim(d_p)[1], big.mark=\",\", scientific=FALSE))"
   ]
  },
  {
   "cell_type": "code",
   "execution_count": 43,
   "id": "3120d1b9",
   "metadata": {},
   "outputs": [
    {
     "name": "stdout",
     "output_type": "stream",
     "text": [
      "[1] \"/mmfs1/gscratch/stergachislab/mvollger/projects/ctcf-footprinting/feature_data/CTCF_m6a_fiberseq_L_100bp_small_5_negative_features-rle-v3.txt\"\n"
     ]
    },
    {
     "data": {
      "text/html": [
       "'feature rows: 331,543'"
      ],
      "text/latex": [
       "'feature rows: 331,543'"
      ],
      "text/markdown": [
       "'feature rows: 331,543'"
      ],
      "text/plain": [
       "[1] \"feature rows: 331,543\""
      ]
     },
     "metadata": {},
     "output_type": "display_data"
    }
   ],
   "source": [
    "# set data file\n",
    "data_file_name <- sprintf(\"CTCF_m6a_fiberseq_L_100bp_small_5_negative_features-%s.txt\", input_file_root)\n",
    "data_file <- sprintf(\"%s/%s\", feature_dir, data_file_name)\n",
    "print(data_file)\n",
    "\n",
    "# read table\n",
    "d_n <- fread(data_file, nrows=n_rows)\n",
    "sprintf(\"feature rows: %s\", format(dim(d_n)[1], big.mark=\",\", scientific=FALSE))"
   ]
  },
  {
   "cell_type": "code",
   "execution_count": 14,
   "id": "420d2c7d",
   "metadata": {},
   "outputs": [
    {
     "data": {
      "text/html": [
       "'feature rows: 17,535,934'"
      ],
      "text/latex": [
       "'feature rows: 17,535,934'"
      ],
      "text/markdown": [
       "'feature rows: 17,535,934'"
      ],
      "text/plain": [
       "[1] \"feature rows: 17,535,934\""
      ]
     },
     "metadata": {},
     "output_type": "display_data"
    }
   ],
   "source": [
    "# read table\n",
    "d_p <- fread(data_file, nrows=n_rows)\n",
    "sprintf(\"feature rows: %s\", format(dim(df)[1], big.mark=\",\", scientific=FALSE))"
   ]
  },
  {
   "cell_type": "code",
   "execution_count": 17,
   "id": "1164bfe1",
   "metadata": {
    "collapsed": true
   },
   "outputs": [
    {
     "data": {
      "text/html": [
       "<table class=\"dataframe\">\n",
       "<caption>A data.table: 6 × 165</caption>\n",
       "<thead>\n",
       "\t<tr><th scope=col>motif_query</th><th scope=col>motif_name</th><th scope=col>query_name</th><th scope=col>msp_size</th><th scope=col>left_m6a_count</th><th scope=col>right_m6a_count</th><th scope=col>motif_m6a_count</th><th scope=col>left_AT_count</th><th scope=col>right_AT_count</th><th scope=col>motif_AT_count</th><th scope=col>⋯</th><th scope=col>rle_26</th><th scope=col>rle_27</th><th scope=col>rle_28</th><th scope=col>rle_29</th><th scope=col>rle_30</th><th scope=col>rle_31</th><th scope=col>rle_32</th><th scope=col>rle_33</th><th scope=col>rle_34</th><th scope=col>rle_35</th></tr>\n",
       "\t<tr><th scope=col>&lt;chr&gt;</th><th scope=col>&lt;chr&gt;</th><th scope=col>&lt;chr&gt;</th><th scope=col>&lt;dbl&gt;</th><th scope=col>&lt;dbl&gt;</th><th scope=col>&lt;dbl&gt;</th><th scope=col>&lt;dbl&gt;</th><th scope=col>&lt;dbl&gt;</th><th scope=col>&lt;dbl&gt;</th><th scope=col>&lt;dbl&gt;</th><th scope=col>⋯</th><th scope=col>&lt;dbl&gt;</th><th scope=col>&lt;dbl&gt;</th><th scope=col>&lt;dbl&gt;</th><th scope=col>&lt;dbl&gt;</th><th scope=col>&lt;dbl&gt;</th><th scope=col>&lt;dbl&gt;</th><th scope=col>&lt;dbl&gt;</th><th scope=col>&lt;dbl&gt;</th><th scope=col>&lt;dbl&gt;</th><th scope=col>&lt;dbl&gt;</th></tr>\n",
       "</thead>\n",
       "<tbody>\n",
       "\t<tr><td>chr10_100338605_+/m54329U_210323_190418/12585455/ccs </td><td>chr10_100338605_+</td><td>m54329U_210323_190418/12585455/ccs </td><td>200</td><td>13</td><td>13</td><td>3</td><td>18</td><td>18</td><td>13</td><td>⋯</td><td>0</td><td>0</td><td>0</td><td>0</td><td>0</td><td>0</td><td>0</td><td>0</td><td>0</td><td>0</td></tr>\n",
       "\t<tr><td>chr10_100338605_+/m54329U_210323_190418/16515087/ccs </td><td>chr10_100338605_+</td><td>m54329U_210323_190418/16515087/ccs </td><td>212</td><td>12</td><td>12</td><td>4</td><td>18</td><td>18</td><td>13</td><td>⋯</td><td>0</td><td>0</td><td>0</td><td>0</td><td>0</td><td>0</td><td>0</td><td>0</td><td>0</td><td>0</td></tr>\n",
       "\t<tr><td>chr10_100338605_+/m54329U_210323_190418/169477611/ccs</td><td>chr10_100338605_+</td><td>m54329U_210323_190418/169477611/ccs</td><td>181</td><td>10</td><td>12</td><td>2</td><td>18</td><td>18</td><td>13</td><td>⋯</td><td>0</td><td>0</td><td>0</td><td>0</td><td>0</td><td>0</td><td>0</td><td>0</td><td>0</td><td>0</td></tr>\n",
       "\t<tr><td>chr10_100338605_+/m54329U_210323_190418/173999297/ccs</td><td>chr10_100338605_+</td><td>m54329U_210323_190418/173999297/ccs</td><td>134</td><td> 9</td><td>11</td><td>8</td><td>18</td><td>18</td><td>13</td><td>⋯</td><td>0</td><td>0</td><td>0</td><td>0</td><td>0</td><td>0</td><td>0</td><td>0</td><td>0</td><td>0</td></tr>\n",
       "\t<tr><td>chr10_100338605_+/m54329U_210323_190418/180160021/ccs</td><td>chr10_100338605_+</td><td>m54329U_210323_190418/180160021/ccs</td><td>194</td><td>12</td><td>12</td><td>1</td><td>18</td><td>18</td><td>13</td><td>⋯</td><td>0</td><td>0</td><td>0</td><td>0</td><td>0</td><td>0</td><td>0</td><td>0</td><td>0</td><td>0</td></tr>\n",
       "\t<tr><td>chr10_100338605_+/m54329U_210323_190418/27396441/ccs </td><td>chr10_100338605_+</td><td>m54329U_210323_190418/27396441/ccs </td><td>181</td><td>14</td><td>14</td><td>3</td><td>17</td><td>18</td><td>13</td><td>⋯</td><td>0</td><td>0</td><td>0</td><td>0</td><td>0</td><td>0</td><td>0</td><td>0</td><td>0</td><td>0</td></tr>\n",
       "</tbody>\n",
       "</table>\n"
      ],
      "text/latex": [
       "A data.table: 6 × 165\n",
       "\\begin{tabular}{lllllllllllllllllllll}\n",
       " motif\\_query & motif\\_name & query\\_name & msp\\_size & left\\_m6a\\_count & right\\_m6a\\_count & motif\\_m6a\\_count & left\\_AT\\_count & right\\_AT\\_count & motif\\_AT\\_count & ⋯ & rle\\_26 & rle\\_27 & rle\\_28 & rle\\_29 & rle\\_30 & rle\\_31 & rle\\_32 & rle\\_33 & rle\\_34 & rle\\_35\\\\\n",
       " <chr> & <chr> & <chr> & <dbl> & <dbl> & <dbl> & <dbl> & <dbl> & <dbl> & <dbl> & ⋯ & <dbl> & <dbl> & <dbl> & <dbl> & <dbl> & <dbl> & <dbl> & <dbl> & <dbl> & <dbl>\\\\\n",
       "\\hline\n",
       "\t chr10\\_100338605\\_+/m54329U\\_210323\\_190418/12585455/ccs  & chr10\\_100338605\\_+ & m54329U\\_210323\\_190418/12585455/ccs  & 200 & 13 & 13 & 3 & 18 & 18 & 13 & ⋯ & 0 & 0 & 0 & 0 & 0 & 0 & 0 & 0 & 0 & 0\\\\\n",
       "\t chr10\\_100338605\\_+/m54329U\\_210323\\_190418/16515087/ccs  & chr10\\_100338605\\_+ & m54329U\\_210323\\_190418/16515087/ccs  & 212 & 12 & 12 & 4 & 18 & 18 & 13 & ⋯ & 0 & 0 & 0 & 0 & 0 & 0 & 0 & 0 & 0 & 0\\\\\n",
       "\t chr10\\_100338605\\_+/m54329U\\_210323\\_190418/169477611/ccs & chr10\\_100338605\\_+ & m54329U\\_210323\\_190418/169477611/ccs & 181 & 10 & 12 & 2 & 18 & 18 & 13 & ⋯ & 0 & 0 & 0 & 0 & 0 & 0 & 0 & 0 & 0 & 0\\\\\n",
       "\t chr10\\_100338605\\_+/m54329U\\_210323\\_190418/173999297/ccs & chr10\\_100338605\\_+ & m54329U\\_210323\\_190418/173999297/ccs & 134 &  9 & 11 & 8 & 18 & 18 & 13 & ⋯ & 0 & 0 & 0 & 0 & 0 & 0 & 0 & 0 & 0 & 0\\\\\n",
       "\t chr10\\_100338605\\_+/m54329U\\_210323\\_190418/180160021/ccs & chr10\\_100338605\\_+ & m54329U\\_210323\\_190418/180160021/ccs & 194 & 12 & 12 & 1 & 18 & 18 & 13 & ⋯ & 0 & 0 & 0 & 0 & 0 & 0 & 0 & 0 & 0 & 0\\\\\n",
       "\t chr10\\_100338605\\_+/m54329U\\_210323\\_190418/27396441/ccs  & chr10\\_100338605\\_+ & m54329U\\_210323\\_190418/27396441/ccs  & 181 & 14 & 14 & 3 & 17 & 18 & 13 & ⋯ & 0 & 0 & 0 & 0 & 0 & 0 & 0 & 0 & 0 & 0\\\\\n",
       "\\end{tabular}\n"
      ],
      "text/markdown": [
       "\n",
       "A data.table: 6 × 165\n",
       "\n",
       "| motif_query &lt;chr&gt; | motif_name &lt;chr&gt; | query_name &lt;chr&gt; | msp_size &lt;dbl&gt; | left_m6a_count &lt;dbl&gt; | right_m6a_count &lt;dbl&gt; | motif_m6a_count &lt;dbl&gt; | left_AT_count &lt;dbl&gt; | right_AT_count &lt;dbl&gt; | motif_AT_count &lt;dbl&gt; | ⋯ ⋯ | rle_26 &lt;dbl&gt; | rle_27 &lt;dbl&gt; | rle_28 &lt;dbl&gt; | rle_29 &lt;dbl&gt; | rle_30 &lt;dbl&gt; | rle_31 &lt;dbl&gt; | rle_32 &lt;dbl&gt; | rle_33 &lt;dbl&gt; | rle_34 &lt;dbl&gt; | rle_35 &lt;dbl&gt; |\n",
       "|---|---|---|---|---|---|---|---|---|---|---|---|---|---|---|---|---|---|---|---|---|\n",
       "| chr10_100338605_+/m54329U_210323_190418/12585455/ccs  | chr10_100338605_+ | m54329U_210323_190418/12585455/ccs  | 200 | 13 | 13 | 3 | 18 | 18 | 13 | ⋯ | 0 | 0 | 0 | 0 | 0 | 0 | 0 | 0 | 0 | 0 |\n",
       "| chr10_100338605_+/m54329U_210323_190418/16515087/ccs  | chr10_100338605_+ | m54329U_210323_190418/16515087/ccs  | 212 | 12 | 12 | 4 | 18 | 18 | 13 | ⋯ | 0 | 0 | 0 | 0 | 0 | 0 | 0 | 0 | 0 | 0 |\n",
       "| chr10_100338605_+/m54329U_210323_190418/169477611/ccs | chr10_100338605_+ | m54329U_210323_190418/169477611/ccs | 181 | 10 | 12 | 2 | 18 | 18 | 13 | ⋯ | 0 | 0 | 0 | 0 | 0 | 0 | 0 | 0 | 0 | 0 |\n",
       "| chr10_100338605_+/m54329U_210323_190418/173999297/ccs | chr10_100338605_+ | m54329U_210323_190418/173999297/ccs | 134 |  9 | 11 | 8 | 18 | 18 | 13 | ⋯ | 0 | 0 | 0 | 0 | 0 | 0 | 0 | 0 | 0 | 0 |\n",
       "| chr10_100338605_+/m54329U_210323_190418/180160021/ccs | chr10_100338605_+ | m54329U_210323_190418/180160021/ccs | 194 | 12 | 12 | 1 | 18 | 18 | 13 | ⋯ | 0 | 0 | 0 | 0 | 0 | 0 | 0 | 0 | 0 | 0 |\n",
       "| chr10_100338605_+/m54329U_210323_190418/27396441/ccs  | chr10_100338605_+ | m54329U_210323_190418/27396441/ccs  | 181 | 14 | 14 | 3 | 17 | 18 | 13 | ⋯ | 0 | 0 | 0 | 0 | 0 | 0 | 0 | 0 | 0 | 0 |\n",
       "\n"
      ],
      "text/plain": [
       "  motif_query                                           motif_name       \n",
       "1 chr10_100338605_+/m54329U_210323_190418/12585455/ccs  chr10_100338605_+\n",
       "2 chr10_100338605_+/m54329U_210323_190418/16515087/ccs  chr10_100338605_+\n",
       "3 chr10_100338605_+/m54329U_210323_190418/169477611/ccs chr10_100338605_+\n",
       "4 chr10_100338605_+/m54329U_210323_190418/173999297/ccs chr10_100338605_+\n",
       "5 chr10_100338605_+/m54329U_210323_190418/180160021/ccs chr10_100338605_+\n",
       "6 chr10_100338605_+/m54329U_210323_190418/27396441/ccs  chr10_100338605_+\n",
       "  query_name                          msp_size left_m6a_count right_m6a_count\n",
       "1 m54329U_210323_190418/12585455/ccs  200      13             13             \n",
       "2 m54329U_210323_190418/16515087/ccs  212      12             12             \n",
       "3 m54329U_210323_190418/169477611/ccs 181      10             12             \n",
       "4 m54329U_210323_190418/173999297/ccs 134       9             11             \n",
       "5 m54329U_210323_190418/180160021/ccs 194      12             12             \n",
       "6 m54329U_210323_190418/27396441/ccs  181      14             14             \n",
       "  motif_m6a_count left_AT_count right_AT_count motif_AT_count ⋯ rle_26 rle_27\n",
       "1 3               18            18             13             ⋯ 0      0     \n",
       "2 4               18            18             13             ⋯ 0      0     \n",
       "3 2               18            18             13             ⋯ 0      0     \n",
       "4 8               18            18             13             ⋯ 0      0     \n",
       "5 1               18            18             13             ⋯ 0      0     \n",
       "6 3               17            18             13             ⋯ 0      0     \n",
       "  rle_28 rle_29 rle_30 rle_31 rle_32 rle_33 rle_34 rle_35\n",
       "1 0      0      0      0      0      0      0      0     \n",
       "2 0      0      0      0      0      0      0      0     \n",
       "3 0      0      0      0      0      0      0      0     \n",
       "4 0      0      0      0      0      0      0      0     \n",
       "5 0      0      0      0      0      0      0      0     \n",
       "6 0      0      0      0      0      0      0      0     "
      ]
     },
     "metadata": {},
     "output_type": "display_data"
    }
   ],
   "source": [
    "head(d_p)"
   ]
  },
  {
   "cell_type": "code",
   "execution_count": 19,
   "id": "a4e27fff",
   "metadata": {},
   "outputs": [
    {
     "data": {
      "text/html": [
       "<style>\n",
       ".list-inline {list-style: none; margin:0; padding: 0}\n",
       ".list-inline>li {display: inline-block}\n",
       ".list-inline>li:not(:last-child)::after {content: \"\\00b7\"; padding: 0 .5ex}\n",
       "</style>\n",
       "<ol class=list-inline><li>238348</li><li>36</li></ol>\n"
      ],
      "text/latex": [
       "\\begin{enumerate*}\n",
       "\\item 238348\n",
       "\\item 36\n",
       "\\end{enumerate*}\n"
      ],
      "text/markdown": [
       "1. 238348\n",
       "2. 36\n",
       "\n",
       "\n"
      ],
      "text/plain": [
       "[1] 238348     36"
      ]
     },
     "metadata": {},
     "output_type": "display_data"
    }
   ],
   "source": [
    "# get rle columns\n",
    "rle_cols <- colnames(d_p)[str_detect(colnames(d_p), \"rle\")]\n",
    "\n",
    "# filter for rle cols\n",
    "d_p_rle <- d_p %>% select(all_of(rle_cols))\n",
    "dim(d_p_rle)"
   ]
  },
  {
   "cell_type": "code",
   "execution_count": 30,
   "id": "0d299dcb",
   "metadata": {},
   "outputs": [
    {
     "data": {
      "text/html": [
       "1324420"
      ],
      "text/latex": [
       "1324420"
      ],
      "text/markdown": [
       "1324420"
      ],
      "text/plain": [
       "[1] 1324420"
      ]
     },
     "metadata": {},
     "output_type": "display_data"
    }
   ],
   "source": [
    "col_sums <- colSums(d_p_rle)\n",
    "col_names <- names(d_p_rle)\n",
    "rle_counts <- c()\n",
    "for (i in seq_along(col_names)) {\n",
    "    rle_counts <- c(rle_counts, rep(i-1, each=col_sums[col_names[i]]))\n",
    "}\n",
    "length(rle_counts)"
   ]
  },
  {
   "cell_type": "code",
   "execution_count": 47,
   "id": "4117b56a",
   "metadata": {},
   "outputs": [],
   "source": [
    "# get individual rle counts from all rle table\n",
    "get_rle_counts <- function(df, label) {\n",
    "    # filter for rle cols\n",
    "    rle_cols <- colnames(df)[str_detect(colnames(df), \"rle\")]\n",
    "    df_rle <- df %>% select(all_of(rle_cols))\n",
    "    \n",
    "    col_sums <- colSums(df_rle)\n",
    "    col_names <- names(df_rle)\n",
    "    rle_counts <- c()\n",
    "    for (i in seq_along(col_names)) {\n",
    "        rle_counts <- c(rle_counts, rep(i-1, each=col_sums[col_names[i]]))\n",
    "    }\n",
    "    return(data.frame(Label=rep(label, each=length(rle_counts)), rle_counts))\n",
    "}"
   ]
  },
  {
   "cell_type": "code",
   "execution_count": 49,
   "id": "7c2f1fd9",
   "metadata": {},
   "outputs": [
    {
     "data": {
      "text/html": [
       "<style>\n",
       ".list-inline {list-style: none; margin:0; padding: 0}\n",
       ".list-inline>li {display: inline-block}\n",
       ".list-inline>li:not(:last-child)::after {content: \"\\00b7\"; padding: 0 .5ex}\n",
       "</style>\n",
       "<ol class=list-inline><li>3782084</li><li>2</li></ol>\n"
      ],
      "text/latex": [
       "\\begin{enumerate*}\n",
       "\\item 3782084\n",
       "\\item 2\n",
       "\\end{enumerate*}\n"
      ],
      "text/markdown": [
       "1. 3782084\n",
       "2. 2\n",
       "\n",
       "\n"
      ],
      "text/plain": [
       "[1] 3782084       2"
      ]
     },
     "metadata": {},
     "output_type": "display_data"
    }
   ],
   "source": [
    "# merge positive and negative rle counts\n",
    "df_rles <- rbind(get_rle_counts(d_p, label=\"Positive\"),\n",
    "                 get_rle_counts(d_n, label=\"Negative\"))\n",
    "dim(df_rles)"
   ]
  },
  {
   "cell_type": "markdown",
   "id": "87b48955",
   "metadata": {},
   "source": [
    "### rle count hist (must use different fxn)"
   ]
  },
  {
   "cell_type": "code",
   "execution_count": 220,
   "id": "40852a63",
   "metadata": {},
   "outputs": [
    {
     "name": "stdout",
     "output_type": "stream",
     "text": [
      "[1] \"/mmfs1/gscratch/stergachislab/mvollger/projects/ctcf-footprinting/mokapot_res/figures/CTCF_100bp_L_rle_kmer.mokapot.rle_count_hist.pdf\"\n"
     ]
    }
   ],
   "source": [
    "#------------ Set output file ------------\n",
    "output_file_name <- sprintf(\"CTCF_%s.mokapot.rle_count_hist.pdf\", file_root)\n",
    "output_file <- sprintf(\"%s/%s\", output_folder, output_file_name)\n",
    "print(output_file)\n",
    "\n",
    "# save file\n",
    "save_pdf <- TRUE\n",
    "pdf_dims <- c(10,5)"
   ]
  },
  {
   "cell_type": "code",
   "execution_count": 53,
   "id": "513f7b31",
   "metadata": {
    "collapsed": true
   },
   "outputs": [
    {
     "data": {
      "text/html": [
       "<table class=\"dataframe\">\n",
       "<caption>A data.frame: 1 × 2</caption>\n",
       "<thead>\n",
       "\t<tr><th></th><th scope=col>Label</th><th scope=col>rle_counts</th></tr>\n",
       "\t<tr><th></th><th scope=col>&lt;chr&gt;</th><th scope=col>&lt;dbl&gt;</th></tr>\n",
       "</thead>\n",
       "<tbody>\n",
       "\t<tr><th scope=row>1</th><td>Positive</td><td>0</td></tr>\n",
       "</tbody>\n",
       "</table>\n"
      ],
      "text/latex": [
       "A data.frame: 1 × 2\n",
       "\\begin{tabular}{r|ll}\n",
       "  & Label & rle\\_counts\\\\\n",
       "  & <chr> & <dbl>\\\\\n",
       "\\hline\n",
       "\t1 & Positive & 0\\\\\n",
       "\\end{tabular}\n"
      ],
      "text/markdown": [
       "\n",
       "A data.frame: 1 × 2\n",
       "\n",
       "| <!--/--> | Label &lt;chr&gt; | rle_counts &lt;dbl&gt; |\n",
       "|---|---|---|\n",
       "| 1 | Positive | 0 |\n",
       "\n"
      ],
      "text/plain": [
       "  Label    rle_counts\n",
       "1 Positive 0         "
      ]
     },
     "metadata": {},
     "output_type": "display_data"
    }
   ],
   "source": [
    "head(df_rles, 1)"
   ]
  },
  {
   "cell_type": "code",
   "execution_count": 60,
   "id": "729e1666",
   "metadata": {},
   "outputs": [],
   "source": [
    "library(lattice)"
   ]
  },
  {
   "cell_type": "code",
   "execution_count": 221,
   "id": "560903ee",
   "metadata": {},
   "outputs": [],
   "source": [
    "plot_title <- sprintf(\"(%s) total rle counts [%s, %s]\\nPositive: %s, Negative: %s\", \n",
    "                      \"Pos & 5% L neg\",\n",
    "                      min(df_rles$rle_counts), max(df_rles$rle_counts),\n",
    "                      format(table(df_rles$Label)[\"Positive\"], big.mark=\",\", scientific=FALSE),\n",
    "                      format(table(df_rles$Label)[\"Negative\"], big.mark=\",\", scientific=FALSE))"
   ]
  },
  {
   "cell_type": "code",
   "execution_count": 180,
   "id": "27be37b9",
   "metadata": {},
   "outputs": [
    {
     "data": {
      "text/plain": [
       "   Min. 1st Qu.  Median    Mean 3rd Qu.    Max. \n",
       "  0.000   0.000   0.000   1.099   1.000  27.000 "
      ]
     },
     "metadata": {},
     "output_type": "display_data"
    }
   ],
   "source": [
    "summary(df_rles$rle_counts)"
   ]
  },
  {
   "cell_type": "code",
   "execution_count": 222,
   "id": "d89210f8",
   "metadata": {},
   "outputs": [
    {
     "data": {
      "image/png": "[encoded data removed]",
      "text/plain": [
       "plot without title"
      ]
     },
     "metadata": {
      "image/png": {
       "height": 300,
       "width": 600
      }
     },
     "output_type": "display_data"
    }
   ],
   "source": [
    "if (save_pdf == TRUE) {set_plot_dimensions(pdf_dims[1], pdf_dims[2])} else {set_plot_dimensions(10, 5)}\n",
    "\n",
    "df_rles$Label <- factor(df_rles$Label, levels=c(\"Positive\", \"Negative\"))\n",
    "p <- ggplot(df_rles, aes(x=rle_counts, fill=Label)) +\n",
    "        geom_histogram(aes(color=Label), color=\"black\", alpha=0.6, position = 'identity', binwidth=1) +\n",
    "        scale_fill_manual(values=c(mitch_cols[2], mitch_cols[5])) +\n",
    "        scale_y_continuous(label=comma, name=\"rle value counts\", breaks=pretty_breaks(n=5)) +\n",
    "        scale_x_continuous(name=\"rle value\", breaks=pretty_breaks(n=10))+ #, limits=c(NA,30)) +\n",
    "\n",
    "        facet_grid(rows=vars(Label)) +\n",
    "        ggtitle(plot_title) +\n",
    "        theme_classic() +\n",
    "        theme(text = font_info,\n",
    "              axis.text = font_info,\n",
    "              plot.title = element_text(family=\"ArialMT\", size=12, hjust=0.5),)\n",
    "p\n",
    "\n",
    "if (save_pdf == TRUE) {ggsave(output_file, plot = p, width=pdf_dims[1], height=pdf_dims[2])}"
   ]
  },
  {
   "cell_type": "code",
   "execution_count": 152,
   "id": "d6497489",
   "metadata": {
    "collapsed": true
   },
   "outputs": [
    {
     "name": "stdout",
     "output_type": "stream",
     "text": [
      "[1] \"Total rle counts.\"\n"
     ]
    },
    {
     "data": {
      "text/plain": [
       "   Min. 1st Qu.  Median    Mean 3rd Qu.    Max. \n",
       "  0.000   0.000   0.000   1.522   1.000  25.000 "
      ]
     },
     "metadata": {},
     "output_type": "display_data"
    },
    {
     "data": {
      "text/plain": [
       "   Min. 1st Qu.  Median    Mean 3rd Qu.    Max. \n",
       "  0.000   0.000   0.000   0.871   1.000  27.000 "
      ]
     },
     "metadata": {},
     "output_type": "display_data"
    },
    {
     "name": "stdout",
     "output_type": "stream",
     "text": [
      "[1] \"Max rle.\"\n"
     ]
    },
    {
     "data": {
      "text/plain": [
       "   Min. 1st Qu.  Median    Mean 3rd Qu.    Max. \n",
       "  0.000   2.000   3.000   4.038   5.000  27.000 "
      ]
     },
     "metadata": {},
     "output_type": "display_data"
    },
    {
     "data": {
      "text/plain": [
       "   Min. 1st Qu.  Median    Mean 3rd Qu.    Max. \n",
       "  0.000   2.000   5.000   6.981  12.000  25.000 "
      ]
     },
     "metadata": {},
     "output_type": "display_data"
    }
   ],
   "source": [
    "# total rle counts\n",
    "print(\"Total rle counts.\")\n",
    "summary(df_rles[df_rles$Label == \"Positive\",]$rle_counts)\n",
    "summary(df_rles[df_rles$Label == \"Negative\",]$rle_counts)\n",
    "print(\"Max rle.\")\n",
    "summary(d[d$data_set == \"Negative\",]$rle_max)\n",
    "summary(d[d$data_set == \"Positive\",]$rle_max)"
   ]
  },
  {
   "cell_type": "markdown",
   "id": "ca8d47d2",
   "metadata": {},
   "source": [
    "### max rle hist"
   ]
  },
  {
   "cell_type": "code",
   "execution_count": 132,
   "id": "994cb757",
   "metadata": {},
   "outputs": [
    {
     "name": "stdout",
     "output_type": "stream",
     "text": [
      "[1] \"/mmfs1/gscratch/stergachislab/mvollger/projects/ctcf-footprinting/feature_data/CTCF_m6a_fiberseq_L_100bp_features-rle-v4.pin\"\n"
     ]
    },
    {
     "data": {
      "text/html": [
       "'feature rows: 569,891'"
      ],
      "text/latex": [
       "'feature rows: 569,891'"
      ],
      "text/markdown": [
       "'feature rows: 569,891'"
      ],
      "text/plain": [
       "[1] \"feature rows: 569,891\""
      ]
     },
     "metadata": {},
     "output_type": "display_data"
    }
   ],
   "source": [
    "# set args\n",
    "input_file_root <- \"rle-v4\"\n",
    "# set data file\n",
    "data_file_name <- sprintf(\"CTCF_m6a_fiberseq_L_100bp_features-%s.pin\", input_file_root)\n",
    "data_file <- sprintf(\"%s/%s\", feature_dir, data_file_name)\n",
    "print(data_file)\n",
    "\n",
    "# read table\n",
    "d <- fread(data_file, nrows=n_rows)\n",
    "sprintf(\"feature rows: %s\", format(dim(d)[1], big.mark=\",\", scientific=FALSE))"
   ]
  },
  {
   "cell_type": "code",
   "execution_count": 140,
   "id": "8e54d446",
   "metadata": {
    "collapsed": true
   },
   "outputs": [
    {
     "data": {
      "text/html": [
       "<table class=\"dataframe\">\n",
       "<caption>A data.table: 1 × 169</caption>\n",
       "<thead>\n",
       "\t<tr><th scope=col>SpecID</th><th scope=col>Label</th><th scope=col>msp_size</th><th scope=col>left_m6a_count</th><th scope=col>right_m6a_count</th><th scope=col>motif_m6a_count</th><th scope=col>left_AT_count</th><th scope=col>right_AT_count</th><th scope=col>motif_AT_count</th><th scope=col>left_AT_prop</th><th scope=col>⋯</th><th scope=col>rle_31</th><th scope=col>rle_32</th><th scope=col>rle_33</th><th scope=col>rle_34</th><th scope=col>rle_35</th><th scope=col>rle_max</th><th scope=col>Peptide</th><th scope=col>Proteins</th><th scope=col>scannr</th><th scope=col>data_set</th></tr>\n",
       "\t<tr><th scope=col>&lt;chr&gt;</th><th scope=col>&lt;int&gt;</th><th scope=col>&lt;dbl&gt;</th><th scope=col>&lt;dbl&gt;</th><th scope=col>&lt;dbl&gt;</th><th scope=col>&lt;dbl&gt;</th><th scope=col>&lt;dbl&gt;</th><th scope=col>&lt;dbl&gt;</th><th scope=col>&lt;dbl&gt;</th><th scope=col>&lt;dbl&gt;</th><th scope=col>⋯</th><th scope=col>&lt;dbl&gt;</th><th scope=col>&lt;dbl&gt;</th><th scope=col>&lt;dbl&gt;</th><th scope=col>&lt;dbl&gt;</th><th scope=col>&lt;dbl&gt;</th><th scope=col>&lt;dbl&gt;</th><th scope=col>&lt;int&gt;</th><th scope=col>&lt;int&gt;</th><th scope=col>&lt;int&gt;</th><th scope=col>&lt;chr&gt;</th></tr>\n",
       "</thead>\n",
       "<tbody>\n",
       "\t<tr><td>chr10_100338605_+/m54329U_210323_190418/12585455/ccs</td><td>1</td><td>200</td><td>13</td><td>13</td><td>3</td><td>18</td><td>18</td><td>13</td><td>0.45</td><td>⋯</td><td>0</td><td>0</td><td>0</td><td>0</td><td>0</td><td>9</td><td>0</td><td>0</td><td>0</td><td>Positive</td></tr>\n",
       "</tbody>\n",
       "</table>\n"
      ],
      "text/latex": [
       "A data.table: 1 × 169\n",
       "\\begin{tabular}{lllllllllllllllllllll}\n",
       " SpecID & Label & msp\\_size & left\\_m6a\\_count & right\\_m6a\\_count & motif\\_m6a\\_count & left\\_AT\\_count & right\\_AT\\_count & motif\\_AT\\_count & left\\_AT\\_prop & ⋯ & rle\\_31 & rle\\_32 & rle\\_33 & rle\\_34 & rle\\_35 & rle\\_max & Peptide & Proteins & scannr & data\\_set\\\\\n",
       " <chr> & <int> & <dbl> & <dbl> & <dbl> & <dbl> & <dbl> & <dbl> & <dbl> & <dbl> & ⋯ & <dbl> & <dbl> & <dbl> & <dbl> & <dbl> & <dbl> & <int> & <int> & <int> & <chr>\\\\\n",
       "\\hline\n",
       "\t chr10\\_100338605\\_+/m54329U\\_210323\\_190418/12585455/ccs & 1 & 200 & 13 & 13 & 3 & 18 & 18 & 13 & 0.45 & ⋯ & 0 & 0 & 0 & 0 & 0 & 9 & 0 & 0 & 0 & Positive\\\\\n",
       "\\end{tabular}\n"
      ],
      "text/markdown": [
       "\n",
       "A data.table: 1 × 169\n",
       "\n",
       "| SpecID &lt;chr&gt; | Label &lt;int&gt; | msp_size &lt;dbl&gt; | left_m6a_count &lt;dbl&gt; | right_m6a_count &lt;dbl&gt; | motif_m6a_count &lt;dbl&gt; | left_AT_count &lt;dbl&gt; | right_AT_count &lt;dbl&gt; | motif_AT_count &lt;dbl&gt; | left_AT_prop &lt;dbl&gt; | ⋯ ⋯ | rle_31 &lt;dbl&gt; | rle_32 &lt;dbl&gt; | rle_33 &lt;dbl&gt; | rle_34 &lt;dbl&gt; | rle_35 &lt;dbl&gt; | rle_max &lt;dbl&gt; | Peptide &lt;int&gt; | Proteins &lt;int&gt; | scannr &lt;int&gt; | data_set &lt;chr&gt; |\n",
       "|---|---|---|---|---|---|---|---|---|---|---|---|---|---|---|---|---|---|---|---|---|\n",
       "| chr10_100338605_+/m54329U_210323_190418/12585455/ccs | 1 | 200 | 13 | 13 | 3 | 18 | 18 | 13 | 0.45 | ⋯ | 0 | 0 | 0 | 0 | 0 | 9 | 0 | 0 | 0 | Positive |\n",
       "\n"
      ],
      "text/plain": [
       "  SpecID                                               Label msp_size\n",
       "1 chr10_100338605_+/m54329U_210323_190418/12585455/ccs 1     200     \n",
       "  left_m6a_count right_m6a_count motif_m6a_count left_AT_count right_AT_count\n",
       "1 13             13              3               18            18            \n",
       "  motif_AT_count left_AT_prop ⋯ rle_31 rle_32 rle_33 rle_34 rle_35 rle_max\n",
       "1 13             0.45         ⋯ 0      0      0      0      0      9      \n",
       "  Peptide Proteins scannr data_set\n",
       "1 0       0        0      Positive"
      ]
     },
     "metadata": {},
     "output_type": "display_data"
    }
   ],
   "source": [
    "d$data_set <- ifelse(d$Label == 1, \"Positive\", \"Negative\")\n",
    "d$data_set <- factor(d$data_set, levels=c(\"Positive\", \"Negative\"))"
   ]
  },
  {
   "cell_type": "markdown",
   "id": "58e853a0",
   "metadata": {},
   "source": [
    "__rle max__"
   ]
  },
  {
   "cell_type": "code",
   "execution_count": 212,
   "id": "5d7283d0",
   "metadata": {},
   "outputs": [
    {
     "name": "stdout",
     "output_type": "stream",
     "text": [
      "[1] \"/mmfs1/gscratch/stergachislab/mvollger/projects/ctcf-footprinting/mokapot_res/figures/CTCF_100bp_L_rle_kmer.mokapot.rle_max_hist.pdf\"\n"
     ]
    }
   ],
   "source": [
    "#------------ Set output file ------------\n",
    "output_file_name <- sprintf(\"CTCF_%s.mokapot.rle_max_hist.pdf\", file_root)\n",
    "output_file <- sprintf(\"%s/%s\", output_folder, output_file_name)\n",
    "print(output_file)\n",
    "\n",
    "# save file\n",
    "save_pdf <- TRUE\n",
    "pdf_dims <- c(10,5)"
   ]
  },
  {
   "cell_type": "code",
   "execution_count": 218,
   "id": "c1911418",
   "metadata": {},
   "outputs": [],
   "source": [
    "plot_title <- sprintf(\"(%s) max rle [%s, %s]\\nPositive: %s, Negative: %s\", \n",
    "    \"Pos & 5% L neg\",\n",
    "    min(d$rle_max), max(d$rle_max),\n",
    "    format(table(d$data_set)[\"Positive\"], big.mark=\",\", scientific=FALSE),\n",
    "    format(table(d$data_set)[\"Negative\"], big.mark=\",\", scientific=FALSE))"
   ]
  },
  {
   "cell_type": "code",
   "execution_count": 216,
   "id": "45881b18",
   "metadata": {},
   "outputs": [],
   "source": [
    "# colors from Mitchell's presentation (orange, red, purple, light grey, navy (gene track))\n",
    "mitch_cols <- c(\"#FF8C00\", \"#FF0000\", \"#9370DB\", \"#E6E6E6\", \"#0C0C78\")"
   ]
  },
  {
   "cell_type": "code",
   "execution_count": 247,
   "id": "e252cc0a",
   "metadata": {},
   "outputs": [
    {
     "data": {
      "image/png": "[encoded data removed]",
      "text/plain": [
       "plot without title"
      ]
     },
     "metadata": {
      "image/png": {
       "height": 300,
       "width": 600
      }
     },
     "output_type": "display_data"
    }
   ],
   "source": [
    "if (save_pdf == TRUE) {set_plot_dimensions(pdf_dims[1], pdf_dims[2])} else {set_plot_dimensions(10, 5)}\n",
    "\n",
    "p <- ggplot(d, aes_string(x=feature, fill=\"data_set\")) +\n",
    "        geom_histogram(aes(color=data_set), color=\"black\", \n",
    "                       alpha=0.6, position = 'identity', binwidth=1) +\n",
    "        scale_fill_manual(values=c(mitch_cols[2], mitch_cols[5])) +#values=c(\"#132B43\", \"#56B1F7\")) +\n",
    "        scale_y_continuous(label=comma, name=\"rle max count\", breaks=pretty_breaks(n=4)) +#,\n",
    "                           #labels = function(x) format(x, scientific=TRUE)) +\n",
    "        scale_x_continuous(name=\"rle max\", breaks=pretty_breaks(n=10))+ #, limits=c(NA,30)) +\n",
    "\n",
    "        facet_grid(rows=vars(data_set)) +\n",
    "        ggtitle(plot_title) +\n",
    "        theme_classic() +\n",
    "        theme(text = font_info,\n",
    "              axis.text = font_info,\n",
    "              plot.title = element_text(family=\"ArialMT\", size=12, hjust=0.5),)\n",
    "p\n",
    "\n",
    "if (save_pdf == TRUE) {ggsave(output_file, plot = p, width=pdf_dims[1], height=pdf_dims[2])}"
   ]
  },
  {
   "cell_type": "code",
   "execution_count": 254,
   "id": "3119fd39",
   "metadata": {},
   "outputs": [],
   "source": [
    "# plot POS & NEG feature counts\n",
    "plot_features <- function(df, feature) {\n",
    "    feature_text <- gsub(\"_\", \" \", feature)\n",
    "    plot_title <- sprintf(\"%s [%s, %s]\\n(%s) Positive: %s, Negative: %s\", \n",
    "                          feature_text, min(d[[feature]]), max(d[[feature]]),\n",
    "                          \"Pos & 5% L neg\",\n",
    "                          format(table(d$data_set)[\"Positive\"], big.mark=\",\", scientific=FALSE),\n",
    "                          format(table(d$data_set)[\"Negative\"], big.mark=\",\", scientific=FALSE))\n",
    "    \n",
    "    p <- ggplot(d, aes_string(x=feature, fill=\"data_set\")) +\n",
    "            geom_histogram(aes(color=data_set), color=\"black\",\n",
    "                           alpha=0.6, position=\"identity\", binwidth=1) +\n",
    "            # set colors (positive = red, negative = blue)\n",
    "            scale_fill_manual(values=c(mitch_cols[2], mitch_cols[5]), name=\"Data set\") +\n",
    "            scale_y_continuous(label=comma, name=sprintf(\"%s count\", feature_text), breaks=pretty_breaks(n=4)) +\n",
    "            scale_x_continuous(name=feature_text, breaks=pretty_breaks(n=10))+ \n",
    "            facet_grid(rows=vars(data_set)) +\n",
    "            ggtitle(plot_title) +\n",
    "            theme_classic() +\n",
    "            theme(text = font_info,\n",
    "                  axis.text = font_info,\n",
    "                  plot.title = element_text(family=\"ArialMT\", size=12, hjust=0.5),)\n",
    "    return(p)\n",
    "    \n",
    "}"
   ]
  },
  {
   "cell_type": "code",
   "execution_count": null,
   "id": "8d64a4a7",
   "metadata": {},
   "outputs": [],
   "source": [
    "if (save_pdf == TRUE) {set_plot_dimensions(pdf_dims[1], pdf_dims[2])} else {set_plot_dimensions(10, 5)}\n",
    "if (save_pdf == TRUE) {ggsave(output_file, plot = p, width=pdf_dims[1], height=pdf_dims[2])}"
   ]
  },
  {
   "cell_type": "markdown",
   "id": "35fbf007",
   "metadata": {},
   "source": [
    "### CGT count"
   ]
  },
  {
   "cell_type": "code",
   "execution_count": 259,
   "id": "8a483194",
   "metadata": {},
   "outputs": [
    {
     "name": "stdout",
     "output_type": "stream",
     "text": [
      "[1] \"/mmfs1/gscratch/stergachislab/mvollger/projects/ctcf-footprinting/mokapot_res/figures/CTCF_100bp_L_rle_kmer.mokapot.CGT_count_hist.pdf\"\n"
     ]
    }
   ],
   "source": [
    "#------------ Set output file ------------\n",
    "feature <- \"CGT_count\"\n",
    "output_file_name <- sprintf(\"CTCF_%s.mokapot.%s_hist.pdf\", file_root, feature)\n",
    "output_file <- sprintf(\"%s/%s\", output_folder, output_file_name)\n",
    "print(output_file)\n",
    "\n",
    "# save file\n",
    "save_pdf <- TRUE\n",
    "pdf_dims <- c(10,5)"
   ]
  },
  {
   "cell_type": "code",
   "execution_count": 260,
   "id": "36993b00",
   "metadata": {
    "scrolled": true
   },
   "outputs": [
    {
     "data": {
      "image/png": "[encoded data removed]",
      "text/plain": [
       "plot without title"
      ]
     },
     "metadata": {
      "image/png": {
       "height": 300,
       "width": 600
      }
     },
     "output_type": "display_data"
    }
   ],
   "source": [
    "if (save_pdf == TRUE) {set_plot_dimensions(pdf_dims[1], pdf_dims[2])} else {set_plot_dimensions(10, 5)}\n",
    "p <- plot_features(d, feature=feature)\n",
    "p\n",
    "if (save_pdf == TRUE) {ggsave(output_file, plot = p, width=pdf_dims[1], height=pdf_dims[2])}"
   ]
  },
  {
   "cell_type": "markdown",
   "id": "6bec77f5",
   "metadata": {},
   "source": [
    "### motif m6a count"
   ]
  },
  {
   "cell_type": "code",
   "execution_count": 261,
   "id": "4c6cd1e9",
   "metadata": {},
   "outputs": [
    {
     "name": "stdout",
     "output_type": "stream",
     "text": [
      "[1] \"/mmfs1/gscratch/stergachislab/mvollger/projects/ctcf-footprinting/mokapot_res/figures/CTCF_100bp_L_rle_kmer.mokapot.motif_m6a_count_hist.pdf\"\n"
     ]
    }
   ],
   "source": [
    "#------------ Set output file ------------\n",
    "feature <- \"motif_m6a_count\"\n",
    "output_file_name <- sprintf(\"CTCF_%s.mokapot.%s_hist.pdf\", file_root, feature)\n",
    "output_file <- sprintf(\"%s/%s\", output_folder, output_file_name)\n",
    "print(output_file)\n",
    "\n",
    "# save file\n",
    "save_pdf <- TRUE\n",
    "pdf_dims <- c(10,5)"
   ]
  },
  {
   "cell_type": "code",
   "execution_count": 262,
   "id": "c9f5facc",
   "metadata": {},
   "outputs": [
    {
     "data": {
      "image/png": "[encoded data removed]",
      "text/plain": [
       "plot without title"
      ]
     },
     "metadata": {
      "image/png": {
       "height": 300,
       "width": 600
      }
     },
     "output_type": "display_data"
    }
   ],
   "source": [
    "if (save_pdf == TRUE) {set_plot_dimensions(pdf_dims[1], pdf_dims[2])} else {set_plot_dimensions(10, 5)}\n",
    "p <- plot_features(d, feature=feature)\n",
    "p\n",
    "if (save_pdf == TRUE) {ggsave(output_file, plot = p, width=pdf_dims[1], height=pdf_dims[2])}"
   ]
  },
  {
   "cell_type": "markdown",
   "id": "4c034336",
   "metadata": {},
   "source": [
    "### motif m6a fraction/proportion"
   ]
  },
  {
   "cell_type": "code",
   "execution_count": 263,
   "id": "db1962d9",
   "metadata": {},
   "outputs": [
    {
     "name": "stdout",
     "output_type": "stream",
     "text": [
      "[1] \"/mmfs1/gscratch/stergachislab/mvollger/projects/ctcf-footprinting/mokapot_res/figures/CTCF_100bp_L_rle_kmer.mokapot.motif_m6a_prop_hist.pdf\"\n"
     ]
    }
   ],
   "source": [
    "#------------ Set output file ------------\n",
    "feature <- \"motif_m6a_prop\"\n",
    "output_file_name <- sprintf(\"CTCF_%s.mokapot.%s_hist.pdf\", file_root, feature)\n",
    "output_file <- sprintf(\"%s/%s\", output_folder, output_file_name)\n",
    "print(output_file)\n",
    "\n",
    "# save file\n",
    "save_pdf <- TRUE\n",
    "pdf_dims <- c(10,5)"
   ]
  },
  {
   "cell_type": "code",
   "execution_count": 264,
   "id": "a67f17b9",
   "metadata": {
    "collapsed": true
   },
   "outputs": [
    {
     "data": {
      "image/png": "[encoded data removed]",
      "text/plain": [
       "plot without title"
      ]
     },
     "metadata": {
      "image/png": {
       "height": 300,
       "width": 600
      }
     },
     "output_type": "display_data"
    }
   ],
   "source": [
    "if (save_pdf == TRUE) {set_plot_dimensions(pdf_dims[1], pdf_dims[2])} else {set_plot_dimensions(10, 5)}\n",
    "p <- plot_features(d, feature=feature)\n",
    "p\n",
    "if (save_pdf == TRUE) {ggsave(output_file, plot = p, width=pdf_dims[1], height=pdf_dims[2])}"
   ]
  },
  {
   "cell_type": "code",
   "execution_count": 267,
   "id": "e7cb15db",
   "metadata": {
    "collapsed": true
   },
   "outputs": [
    {
     "name": "stderr",
     "output_type": "stream",
     "text": [
      "Warning message:\n",
      "“\u001b[1m\u001b[22mRemoved 569863 rows containing non-finite values (`stat_bin()`).”\n",
      "Warning message:\n",
      "“\u001b[1m\u001b[22mRemoved 2 rows containing missing values (`geom_bar()`).”\n"
     ]
    },
    {
     "data": {
      "image/png": "[encoded data removed]",
      "text/plain": [
       "plot without title"
      ]
     },
     "metadata": {
      "image/png": {
       "height": 300,
       "width": 600
      }
     },
     "output_type": "display_data"
    }
   ],
   "source": [
    "p <- ggplot(d, aes_string(x=feature, fill=\"data_set\")) +\n",
    "        geom_histogram(aes(color=data_set), color=\"black\", \n",
    "                       alpha=0.6, position = 'identity', binwidth=1) +\n",
    "        scale_fill_manual(values=c(mitch_cols[2], mitch_cols[5])) +#values=c(\"#132B43\", \"#56B1F7\")) +\n",
    "        scale_y_continuous(label=comma, name=sprintf(\"%s count\", feature), breaks=pretty_breaks(n=4)) +#,\n",
    "        scale_x_continuous(name=feature, breaks=pretty_breaks(n=10), limits=c(2, 8))+ #, limits=c(NA,30)) +\n",
    "\n",
    "        facet_grid(rows=vars(data_set)) +\n",
    "        ggtitle(plot_title) +\n",
    "        theme_classic() +\n",
    "        theme(text = font_info,\n",
    "              axis.text = font_info,\n",
    "              plot.title = element_text(family=\"ArialMT\", size=12, hjust=0.5),)\n",
    "p\n"
   ]
  },
  {
   "cell_type": "markdown",
   "id": "5646b5b8",
   "metadata": {},
   "source": [
    "### all features"
   ]
  },
  {
   "cell_type": "code",
   "execution_count": 352,
   "id": "3506cc7c",
   "metadata": {},
   "outputs": [
    {
     "name": "stdout",
     "output_type": "stream",
     "text": [
      "[1] \"/mmfs1/gscratch/stergachislab/mvollger/projects/ctcf-footprinting/mokapot_res/figures/CTCF_100bp_L_rle_kmer.mokapot.all_features_hist.pdf\"\n"
     ]
    }
   ],
   "source": [
    "#------------ Set output file ------------\n",
    "feature <- \"all_features\"\n",
    "output_file_name <- sprintf(\"CTCF_%s.mokapot.%s_hist.pdf\", file_root, feature)\n",
    "output_file <- sprintf(\"%s/%s\", output_folder, output_file_name)\n",
    "print(output_file)\n",
    "\n",
    "# save file\n",
    "save_pdf <- TRUE\n",
    "pdf_dims <- c(10,5)"
   ]
  },
  {
   "cell_type": "code",
   "execution_count": 329,
   "id": "fafd51df",
   "metadata": {},
   "outputs": [
    {
     "data": {
      "text/html": [
       "163"
      ],
      "text/latex": [
       "163"
      ],
      "text/markdown": [
       "163"
      ],
      "text/plain": [
       "[1] 163"
      ]
     },
     "metadata": {},
     "output_type": "display_data"
    },
    {
     "data": {
      "text/html": [
       "<style>\n",
       ".list-inline {list-style: none; margin:0; padding: 0}\n",
       ".list-inline>li {display: inline-block}\n",
       ".list-inline>li:not(:last-child)::after {content: \"\\00b7\"; padding: 0 .5ex}\n",
       "</style>\n",
       "<ol class=list-inline><li>569891</li><li>163</li></ol>\n"
      ],
      "text/latex": [
       "\\begin{enumerate*}\n",
       "\\item 569891\n",
       "\\item 163\n",
       "\\end{enumerate*}\n"
      ],
      "text/markdown": [
       "1. 569891\n",
       "2. 163\n",
       "\n",
       "\n"
      ],
      "text/plain": [
       "[1] 569891    163"
      ]
     },
     "metadata": {},
     "output_type": "display_data"
    }
   ],
   "source": [
    "features <- names(d)[3:(ncol(d)-4)]\n",
    "length(features)\n",
    "d_feat <- d[, ..features]\n",
    "dim(d_feat)"
   ]
  },
  {
   "cell_type": "code",
   "execution_count": 330,
   "id": "70960816",
   "metadata": {
    "scrolled": true
   },
   "outputs": [
    {
     "name": "stdout",
     "output_type": "stream",
     "text": [
      "[1] \"Saving plots to: /mmfs1/gscratch/stergachislab/mvollger/projects/ctcf-footprinting/mokapot_res/figures/CTCF_100bp_L_rle_kmer.mokapot.all_features_hist.pdf\"\n",
      "[1] \"File saved.\"\n"
     ]
    }
   ],
   "source": [
    "openPDF(output_file, pdf_dims)\n",
    "for (feature in features) {\n",
    "    p <- plot_features(d, feature=feature)\n",
    "    print(p)\n",
    "}\n",
    "closePDF()"
   ]
  },
  {
   "cell_type": "code",
   "execution_count": null,
   "id": "d6e38971",
   "metadata": {},
   "outputs": [],
   "source": []
  },
  {
   "cell_type": "code",
   "execution_count": null,
   "id": "2071702f",
   "metadata": {},
   "outputs": [],
   "source": []
  },
  {
   "cell_type": "markdown",
   "id": "84eec1ea",
   "metadata": {},
   "source": [
    "### prop code issue"
   ]
  },
  {
   "cell_type": "code",
   "execution_count": 309,
   "id": "8b89db11",
   "metadata": {},
   "outputs": [
    {
     "data": {
      "text/html": [
       "163"
      ],
      "text/latex": [
       "163"
      ],
      "text/markdown": [
       "163"
      ],
      "text/plain": [
       "[1] 163"
      ]
     },
     "metadata": {},
     "output_type": "display_data"
    },
    {
     "data": {
      "text/html": [
       "<style>\n",
       ".list-inline {list-style: none; margin:0; padding: 0}\n",
       ".list-inline>li {display: inline-block}\n",
       ".list-inline>li:not(:last-child)::after {content: \"\\00b7\"; padding: 0 .5ex}\n",
       "</style>\n",
       "<ol class=list-inline><li>569891</li><li>163</li></ol>\n"
      ],
      "text/latex": [
       "\\begin{enumerate*}\n",
       "\\item 569891\n",
       "\\item 163\n",
       "\\end{enumerate*}\n"
      ],
      "text/markdown": [
       "1. 569891\n",
       "2. 163\n",
       "\n",
       "\n"
      ],
      "text/plain": [
       "[1] 569891    163"
      ]
     },
     "metadata": {},
     "output_type": "display_data"
    }
   ],
   "source": [
    "features <- names(d)[3:(ncol(d)-4)]\n",
    "length(features)\n",
    "d_feat <- d[, ..features]\n",
    "dim(d_feat)"
   ]
  },
  {
   "cell_type": "code",
   "execution_count": 288,
   "id": "18ba1524",
   "metadata": {
    "collapsed": true
   },
   "outputs": [
    {
     "data": {
      "text/html": [
       "<table class=\"dataframe\">\n",
       "<caption>A data.table: 163 × 169</caption>\n",
       "<thead>\n",
       "\t<tr><th scope=col>SpecID</th><th scope=col>Label</th><th scope=col>msp_size</th><th scope=col>left_m6a_count</th><th scope=col>right_m6a_count</th><th scope=col>motif_m6a_count</th><th scope=col>left_AT_count</th><th scope=col>right_AT_count</th><th scope=col>motif_AT_count</th><th scope=col>left_AT_prop</th><th scope=col>⋯</th><th scope=col>rle_31</th><th scope=col>rle_32</th><th scope=col>rle_33</th><th scope=col>rle_34</th><th scope=col>rle_35</th><th scope=col>rle_max</th><th scope=col>Peptide</th><th scope=col>Proteins</th><th scope=col>scannr</th><th scope=col>data_set</th></tr>\n",
       "\t<tr><th scope=col>&lt;chr&gt;</th><th scope=col>&lt;int&gt;</th><th scope=col>&lt;dbl&gt;</th><th scope=col>&lt;dbl&gt;</th><th scope=col>&lt;dbl&gt;</th><th scope=col>&lt;dbl&gt;</th><th scope=col>&lt;dbl&gt;</th><th scope=col>&lt;dbl&gt;</th><th scope=col>&lt;dbl&gt;</th><th scope=col>&lt;dbl&gt;</th><th scope=col>⋯</th><th scope=col>&lt;dbl&gt;</th><th scope=col>&lt;dbl&gt;</th><th scope=col>&lt;dbl&gt;</th><th scope=col>&lt;dbl&gt;</th><th scope=col>&lt;dbl&gt;</th><th scope=col>&lt;dbl&gt;</th><th scope=col>&lt;int&gt;</th><th scope=col>&lt;int&gt;</th><th scope=col>&lt;int&gt;</th><th scope=col>&lt;fct&gt;</th></tr>\n",
       "</thead>\n",
       "<tbody>\n",
       "\t<tr><td>chr10_100338605_+/m54329U_210323_190418/169477611/ccs</td><td>1</td><td>181</td><td>10</td><td>12</td><td> 2</td><td>18</td><td>18</td><td>13</td><td>0.450</td><td>⋯</td><td>0</td><td>0</td><td>0</td><td>0</td><td>0</td><td>11</td><td> 2</td><td> 2</td><td> 2</td><td>Positive</td></tr>\n",
       "\t<tr><td>chr10_100338605_+/m54329U_210323_190418/173999297/ccs</td><td>1</td><td>134</td><td> 9</td><td>11</td><td> 8</td><td>18</td><td>18</td><td>13</td><td>0.450</td><td>⋯</td><td>0</td><td>0</td><td>0</td><td>0</td><td>0</td><td> 3</td><td> 3</td><td> 3</td><td> 3</td><td>Positive</td></tr>\n",
       "\t<tr><td>chr10_100338605_+/m54329U_210323_190418/180160021/ccs</td><td>1</td><td>194</td><td>12</td><td>12</td><td> 1</td><td>18</td><td>18</td><td>13</td><td>0.450</td><td>⋯</td><td>0</td><td>0</td><td>0</td><td>0</td><td>0</td><td>11</td><td> 4</td><td> 4</td><td> 4</td><td>Positive</td></tr>\n",
       "\t<tr><td>chr10_100338605_+/m54329U_210323_190418/27396441/ccs </td><td>1</td><td>181</td><td>14</td><td>14</td><td> 3</td><td>17</td><td>18</td><td>13</td><td>0.425</td><td>⋯</td><td>0</td><td>0</td><td>0</td><td>0</td><td>0</td><td> 9</td><td> 5</td><td> 5</td><td> 5</td><td>Positive</td></tr>\n",
       "\t<tr><td>chr10_100338605_+/m54329U_210323_190418/43450578/ccs </td><td>1</td><td>189</td><td>16</td><td>15</td><td> 4</td><td>18</td><td>18</td><td>13</td><td>0.450</td><td>⋯</td><td>0</td><td>0</td><td>0</td><td>0</td><td>0</td><td> 9</td><td> 6</td><td> 6</td><td> 6</td><td>Positive</td></tr>\n",
       "\t<tr><td>chr10_100338605_+/m54329U_210323_190418/46336112/ccs </td><td>1</td><td>165</td><td>10</td><td> 8</td><td> 2</td><td>18</td><td>18</td><td>13</td><td>0.450</td><td>⋯</td><td>0</td><td>0</td><td>0</td><td>0</td><td>0</td><td>10</td><td> 7</td><td> 7</td><td> 7</td><td>Positive</td></tr>\n",
       "\t<tr><td>chr10_100338605_+/m54329U_210326_192251/138151896/ccs</td><td>1</td><td>142</td><td>16</td><td> 6</td><td>12</td><td>18</td><td>18</td><td>13</td><td>0.450</td><td>⋯</td><td>0</td><td>0</td><td>0</td><td>0</td><td>0</td><td> 1</td><td> 8</td><td> 8</td><td> 8</td><td>Positive</td></tr>\n",
       "\t<tr><td>chr10_100338605_+/m54329U_210326_192251/40044403/ccs </td><td>1</td><td>155</td><td>13</td><td>14</td><td> 1</td><td>18</td><td>18</td><td>13</td><td>0.450</td><td>⋯</td><td>0</td><td>0</td><td>0</td><td>0</td><td>0</td><td>11</td><td> 9</td><td> 9</td><td> 9</td><td>Positive</td></tr>\n",
       "\t<tr><td>chr10_100338605_+/m54329U_210326_192251/89197269/ccs </td><td>1</td><td>161</td><td> 9</td><td>13</td><td> 4</td><td>18</td><td>18</td><td>13</td><td>0.450</td><td>⋯</td><td>0</td><td>0</td><td>0</td><td>0</td><td>0</td><td> 9</td><td>10</td><td>10</td><td>10</td><td>Positive</td></tr>\n",
       "\t<tr><td>chr10_100338605_+/m54329U_210810_004956/103089040/ccs</td><td>1</td><td>136</td><td>11</td><td> 9</td><td> 2</td><td>18</td><td>18</td><td>13</td><td>0.450</td><td>⋯</td><td>0</td><td>0</td><td>0</td><td>0</td><td>0</td><td>10</td><td>11</td><td>11</td><td>11</td><td>Positive</td></tr>\n",
       "\t<tr><td>chr10_100338605_+/m54329U_210810_004956/112068242/ccs</td><td>1</td><td>212</td><td> 7</td><td>11</td><td> 1</td><td>18</td><td>18</td><td>13</td><td>0.450</td><td>⋯</td><td>0</td><td>0</td><td>0</td><td>0</td><td>0</td><td>12</td><td>12</td><td>12</td><td>12</td><td>Positive</td></tr>\n",
       "\t<tr><td>chr10_100338605_+/m54329U_210810_004956/128060175/ccs</td><td>1</td><td>168</td><td>13</td><td> 5</td><td> 1</td><td>18</td><td>18</td><td>13</td><td>0.450</td><td>⋯</td><td>0</td><td>0</td><td>0</td><td>0</td><td>0</td><td>11</td><td>13</td><td>13</td><td>13</td><td>Positive</td></tr>\n",
       "\t<tr><td>chr10_100338605_+/m54329U_210810_004956/140773200/ccs</td><td>1</td><td>182</td><td>12</td><td>11</td><td> 5</td><td>18</td><td>18</td><td>13</td><td>0.450</td><td>⋯</td><td>0</td><td>0</td><td>0</td><td>0</td><td>0</td><td> 5</td><td>14</td><td>14</td><td>14</td><td>Positive</td></tr>\n",
       "\t<tr><td>chr10_100338605_+/m54329U_210810_004956/146277690/ccs</td><td>1</td><td>138</td><td> 8</td><td> 7</td><td> 2</td><td>18</td><td>18</td><td>13</td><td>0.450</td><td>⋯</td><td>0</td><td>0</td><td>0</td><td>0</td><td>0</td><td>11</td><td>15</td><td>15</td><td>15</td><td>Positive</td></tr>\n",
       "\t<tr><td>chr10_100338605_+/m54329U_210810_004956/160696692/ccs</td><td>1</td><td>168</td><td> 9</td><td>12</td><td> 2</td><td>18</td><td>18</td><td>13</td><td>0.450</td><td>⋯</td><td>0</td><td>0</td><td>0</td><td>0</td><td>0</td><td> 9</td><td>16</td><td>16</td><td>16</td><td>Positive</td></tr>\n",
       "\t<tr><td>chr10_100338605_+/m54329U_210810_004956/174850781/ccs</td><td>1</td><td>173</td><td>13</td><td> 7</td><td> 1</td><td>18</td><td>18</td><td>13</td><td>0.450</td><td>⋯</td><td>0</td><td>0</td><td>0</td><td>0</td><td>0</td><td>11</td><td>17</td><td>17</td><td>17</td><td>Positive</td></tr>\n",
       "\t<tr><td>chr10_100338605_+/m54329U_210810_004956/17631670/ccs </td><td>1</td><td>173</td><td>10</td><td> 7</td><td> 2</td><td>18</td><td>18</td><td>13</td><td>0.450</td><td>⋯</td><td>0</td><td>0</td><td>0</td><td>0</td><td>0</td><td>11</td><td>18</td><td>18</td><td>18</td><td>Positive</td></tr>\n",
       "\t<tr><td>chr10_100338605_+/m54329U_210810_004956/57412047/ccs </td><td>1</td><td>143</td><td>10</td><td>10</td><td> 7</td><td>18</td><td>18</td><td>13</td><td>0.450</td><td>⋯</td><td>0</td><td>0</td><td>0</td><td>0</td><td>0</td><td> 3</td><td>19</td><td>19</td><td>19</td><td>Positive</td></tr>\n",
       "\t<tr><td>chr10_100338605_+/m54329U_210810_004956/79561703/ccs </td><td>1</td><td>197</td><td>10</td><td>12</td><td> 3</td><td>17</td><td>18</td><td>13</td><td>0.425</td><td>⋯</td><td>0</td><td>0</td><td>0</td><td>0</td><td>0</td><td> 9</td><td>20</td><td>20</td><td>20</td><td>Positive</td></tr>\n",
       "\t<tr><td>chr10_100338605_+/m54329U_210813_020940/10355546/ccs </td><td>1</td><td>181</td><td> 7</td><td> 9</td><td> 2</td><td>19</td><td>18</td><td>13</td><td>0.475</td><td>⋯</td><td>0</td><td>0</td><td>0</td><td>0</td><td>0</td><td>11</td><td>21</td><td>21</td><td>21</td><td>Positive</td></tr>\n",
       "\t<tr><td>chr10_100338605_+/m54329U_210813_020940/125305434/ccs</td><td>1</td><td>181</td><td>11</td><td> 9</td><td> 6</td><td>18</td><td>18</td><td>13</td><td>0.450</td><td>⋯</td><td>0</td><td>0</td><td>0</td><td>0</td><td>0</td><td> 4</td><td>22</td><td>22</td><td>22</td><td>Positive</td></tr>\n",
       "\t<tr><td>chr10_100338605_+/m54329U_210813_020940/144245172/ccs</td><td>1</td><td>161</td><td>12</td><td> 7</td><td> 1</td><td>18</td><td>18</td><td>13</td><td>0.450</td><td>⋯</td><td>0</td><td>0</td><td>0</td><td>0</td><td>0</td><td>11</td><td>23</td><td>23</td><td>23</td><td>Positive</td></tr>\n",
       "\t<tr><td>chr10_100338605_+/m54329U_210814_130637/76155092/ccs </td><td>1</td><td>241</td><td> 5</td><td>11</td><td> 2</td><td>18</td><td>18</td><td>13</td><td>0.450</td><td>⋯</td><td>0</td><td>0</td><td>0</td><td>0</td><td>0</td><td>11</td><td>24</td><td>24</td><td>24</td><td>Positive</td></tr>\n",
       "\t<tr><td>chr10_100338605_+/m54329U_210814_130637/80609715/ccs </td><td>1</td><td>157</td><td> 7</td><td>12</td><td> 9</td><td>18</td><td>18</td><td>13</td><td>0.450</td><td>⋯</td><td>0</td><td>0</td><td>0</td><td>0</td><td>0</td><td> 3</td><td>25</td><td>25</td><td>25</td><td>Positive</td></tr>\n",
       "\t<tr><td>chr10_100338605_+/m54329U_210814_130637/93325305/ccs </td><td>1</td><td>211</td><td> 8</td><td> 9</td><td> 2</td><td>17</td><td>18</td><td>13</td><td>0.425</td><td>⋯</td><td>0</td><td>0</td><td>0</td><td>0</td><td>0</td><td>10</td><td>26</td><td>26</td><td>26</td><td>Positive</td></tr>\n",
       "\t<tr><td>chr10_100338605_+/m64076_210328_012155/117442900/ccs </td><td>1</td><td>223</td><td>15</td><td>14</td><td> 4</td><td>18</td><td>18</td><td>13</td><td>0.450</td><td>⋯</td><td>0</td><td>0</td><td>0</td><td>0</td><td>0</td><td> 9</td><td>27</td><td>27</td><td>27</td><td>Positive</td></tr>\n",
       "\t<tr><td>chr10_100338605_+/m64076_210328_012155/120652278/ccs </td><td>1</td><td>258</td><td>16</td><td>14</td><td>11</td><td>18</td><td>18</td><td>13</td><td>0.450</td><td>⋯</td><td>0</td><td>0</td><td>0</td><td>0</td><td>0</td><td> 2</td><td>28</td><td>28</td><td>28</td><td>Positive</td></tr>\n",
       "\t<tr><td>chr10_100338605_+/m64076_210328_012155/131072634/ccs </td><td>1</td><td>223</td><td> 9</td><td> 6</td><td> 1</td><td>17</td><td>19</td><td>12</td><td>0.425</td><td>⋯</td><td>0</td><td>0</td><td>0</td><td>0</td><td>0</td><td>10</td><td>29</td><td>29</td><td>29</td><td>Positive</td></tr>\n",
       "\t<tr><td>chr10_100338605_+/m64076_210328_012155/134545829/ccs </td><td>1</td><td>109</td><td>13</td><td> 7</td><td> 9</td><td>18</td><td>18</td><td>13</td><td>0.450</td><td>⋯</td><td>0</td><td>0</td><td>0</td><td>0</td><td>0</td><td> 2</td><td>30</td><td>30</td><td>30</td><td>Positive</td></tr>\n",
       "\t<tr><td>chr10_100338605_+/m64076_210328_012155/142805261/ccs </td><td>1</td><td>151</td><td>14</td><td>10</td><td> 3</td><td>18</td><td>19</td><td>12</td><td>0.450</td><td>⋯</td><td>0</td><td>0</td><td>0</td><td>0</td><td>0</td><td> 8</td><td>31</td><td>31</td><td>31</td><td>Positive</td></tr>\n",
       "\t<tr><td>⋮</td><td>⋮</td><td>⋮</td><td>⋮</td><td>⋮</td><td>⋮</td><td>⋮</td><td>⋮</td><td>⋮</td><td>⋮</td><td>⋱</td><td>⋮</td><td>⋮</td><td>⋮</td><td>⋮</td><td>⋮</td><td>⋮</td><td>⋮</td><td>⋮</td><td>⋮</td><td>⋮</td></tr>\n",
       "\t<tr><td>chr10_100562106_+/m54329U_210323_190418/46140095/ccs </td><td>1</td><td>480</td><td> 8</td><td>11</td><td>7</td><td>14</td><td>14</td><td>8</td><td>0.350</td><td>⋯</td><td>0</td><td>0</td><td>0</td><td>0</td><td>0</td><td>1</td><td>135</td><td>135</td><td>135</td><td>Positive</td></tr>\n",
       "\t<tr><td>chr10_100562106_+/m54329U_210323_190418/46858676/ccs </td><td>1</td><td>222</td><td> 8</td><td> 6</td><td>0</td><td>14</td><td>13</td><td>8</td><td>0.350</td><td>⋯</td><td>0</td><td>0</td><td>0</td><td>0</td><td>0</td><td>8</td><td>136</td><td>136</td><td>136</td><td>Positive</td></tr>\n",
       "\t<tr><td>chr10_100562106_+/m54329U_210323_190418/65733275/ccs </td><td>1</td><td>212</td><td> 8</td><td>10</td><td>7</td><td>14</td><td>14</td><td>8</td><td>0.350</td><td>⋯</td><td>0</td><td>0</td><td>0</td><td>0</td><td>0</td><td>1</td><td>137</td><td>137</td><td>137</td><td>Positive</td></tr>\n",
       "\t<tr><td>chr10_100562106_+/m54329U_210323_190418/67701064/ccs </td><td>1</td><td>247</td><td>11</td><td>13</td><td>6</td><td>14</td><td>14</td><td>8</td><td>0.350</td><td>⋯</td><td>0</td><td>0</td><td>0</td><td>0</td><td>0</td><td>1</td><td>138</td><td>138</td><td>138</td><td>Positive</td></tr>\n",
       "\t<tr><td>chr10_100562106_+/m54329U_210323_190418/78448561/ccs </td><td>1</td><td>123</td><td> 9</td><td> 7</td><td>8</td><td>14</td><td>14</td><td>8</td><td>0.350</td><td>⋯</td><td>0</td><td>0</td><td>0</td><td>0</td><td>0</td><td>0</td><td>139</td><td>139</td><td>139</td><td>Positive</td></tr>\n",
       "\t<tr><td>chr10_100562106_+/m54329U_210323_190418/93260177/ccs </td><td>1</td><td>243</td><td> 9</td><td>11</td><td>1</td><td>14</td><td>14</td><td>8</td><td>0.350</td><td>⋯</td><td>0</td><td>0</td><td>0</td><td>0</td><td>0</td><td>7</td><td>140</td><td>140</td><td>140</td><td>Positive</td></tr>\n",
       "\t<tr><td>chr10_100562106_+/m54329U_210323_190418/96338134/ccs </td><td>1</td><td>281</td><td> 8</td><td> 9</td><td>3</td><td>14</td><td>13</td><td>9</td><td>0.350</td><td>⋯</td><td>0</td><td>0</td><td>0</td><td>0</td><td>0</td><td>6</td><td>141</td><td>141</td><td>141</td><td>Positive</td></tr>\n",
       "\t<tr><td>chr10_100562106_+/m54329U_210326_192251/107284076/ccs</td><td>1</td><td>249</td><td>10</td><td>13</td><td>6</td><td>14</td><td>14</td><td>8</td><td>0.350</td><td>⋯</td><td>0</td><td>0</td><td>0</td><td>0</td><td>0</td><td>1</td><td>142</td><td>142</td><td>142</td><td>Positive</td></tr>\n",
       "\t<tr><td>chr10_100562106_+/m54329U_210326_192251/176620217/ccs</td><td>1</td><td>254</td><td> 7</td><td>12</td><td>7</td><td>14</td><td>13</td><td>8</td><td>0.350</td><td>⋯</td><td>0</td><td>0</td><td>0</td><td>0</td><td>0</td><td>1</td><td>143</td><td>143</td><td>143</td><td>Positive</td></tr>\n",
       "\t<tr><td>chr10_100562106_+/m54329U_210810_004956/114164490/ccs</td><td>1</td><td>252</td><td>10</td><td> 7</td><td>7</td><td>14</td><td>14</td><td>8</td><td>0.350</td><td>⋯</td><td>0</td><td>0</td><td>0</td><td>0</td><td>0</td><td>1</td><td>144</td><td>144</td><td>144</td><td>Positive</td></tr>\n",
       "\t<tr><td>chr10_100562106_+/m54329U_210810_004956/127404265/ccs</td><td>1</td><td>586</td><td> 6</td><td>10</td><td>5</td><td>14</td><td>14</td><td>8</td><td>0.350</td><td>⋯</td><td>0</td><td>0</td><td>0</td><td>0</td><td>0</td><td>2</td><td>145</td><td>145</td><td>145</td><td>Positive</td></tr>\n",
       "\t<tr><td>chr10_100562106_+/m54329U_210810_004956/150276070/ccs</td><td>1</td><td>252</td><td>10</td><td> 9</td><td>1</td><td>14</td><td>14</td><td>8</td><td>0.350</td><td>⋯</td><td>0</td><td>0</td><td>0</td><td>0</td><td>0</td><td>6</td><td>146</td><td>146</td><td>146</td><td>Positive</td></tr>\n",
       "\t<tr><td>chr10_100562106_+/m54329U_210810_004956/30345313/ccs </td><td>1</td><td>263</td><td> 9</td><td> 8</td><td>2</td><td>14</td><td>14</td><td>8</td><td>0.350</td><td>⋯</td><td>0</td><td>0</td><td>0</td><td>0</td><td>0</td><td>6</td><td>147</td><td>147</td><td>147</td><td>Positive</td></tr>\n",
       "\t<tr><td>chr10_100562106_+/m54329U_210810_004956/39716318/ccs </td><td>1</td><td>242</td><td> 9</td><td>13</td><td>7</td><td>14</td><td>14</td><td>8</td><td>0.350</td><td>⋯</td><td>0</td><td>0</td><td>0</td><td>0</td><td>0</td><td>1</td><td>148</td><td>148</td><td>148</td><td>Positive</td></tr>\n",
       "\t<tr><td>chr10_100562106_+/m54329U_210813_020940/121766906/ccs</td><td>1</td><td>280</td><td>11</td><td>10</td><td>7</td><td>14</td><td>14</td><td>8</td><td>0.350</td><td>⋯</td><td>0</td><td>0</td><td>0</td><td>0</td><td>0</td><td>1</td><td>149</td><td>149</td><td>149</td><td>Positive</td></tr>\n",
       "\t<tr><td>chr10_100562106_+/m54329U_210813_020940/158336586/ccs</td><td>1</td><td>250</td><td> 6</td><td>13</td><td>7</td><td>14</td><td>14</td><td>8</td><td>0.350</td><td>⋯</td><td>0</td><td>0</td><td>0</td><td>0</td><td>0</td><td>1</td><td>150</td><td>150</td><td>150</td><td>Positive</td></tr>\n",
       "\t<tr><td>chr10_100562106_+/m54329U_210813_020940/61210744/ccs </td><td>1</td><td>252</td><td>11</td><td>13</td><td>7</td><td>14</td><td>14</td><td>8</td><td>0.350</td><td>⋯</td><td>0</td><td>0</td><td>0</td><td>0</td><td>0</td><td>1</td><td>151</td><td>151</td><td>151</td><td>Positive</td></tr>\n",
       "\t<tr><td>chr10_100562106_+/m54329U_210813_020940/99090964/ccs </td><td>1</td><td>174</td><td> 2</td><td>10</td><td>4</td><td>14</td><td>14</td><td>8</td><td>0.350</td><td>⋯</td><td>0</td><td>0</td><td>0</td><td>0</td><td>0</td><td>3</td><td>152</td><td>152</td><td>152</td><td>Positive</td></tr>\n",
       "\t<tr><td>chr10_100562106_+/m54329U_210814_130637/108199982/ccs</td><td>1</td><td>280</td><td>11</td><td>12</td><td>5</td><td>14</td><td>14</td><td>8</td><td>0.350</td><td>⋯</td><td>0</td><td>0</td><td>0</td><td>0</td><td>0</td><td>2</td><td>153</td><td>153</td><td>153</td><td>Positive</td></tr>\n",
       "\t<tr><td>chr10_100562106_+/m54329U_210814_130637/173803698/ccs</td><td>1</td><td>368</td><td> 7</td><td>13</td><td>7</td><td>14</td><td>14</td><td>8</td><td>0.350</td><td>⋯</td><td>0</td><td>0</td><td>0</td><td>0</td><td>0</td><td>1</td><td>154</td><td>154</td><td>154</td><td>Positive</td></tr>\n",
       "\t<tr><td>chr10_100562106_+/m54329U_210814_130637/43976936/ccs </td><td>1</td><td>233</td><td>10</td><td>13</td><td>8</td><td>14</td><td>14</td><td>8</td><td>0.350</td><td>⋯</td><td>0</td><td>0</td><td>0</td><td>0</td><td>0</td><td>0</td><td>155</td><td>155</td><td>155</td><td>Positive</td></tr>\n",
       "\t<tr><td>chr10_100562106_+/m54329U_210814_130637/99157000/ccs </td><td>1</td><td>253</td><td>10</td><td>12</td><td>8</td><td>14</td><td>14</td><td>8</td><td>0.350</td><td>⋯</td><td>0</td><td>0</td><td>0</td><td>0</td><td>0</td><td>0</td><td>156</td><td>156</td><td>156</td><td>Positive</td></tr>\n",
       "\t<tr><td>chr10_100562106_+/m64076_210328_012155/117638684/ccs </td><td>1</td><td>230</td><td> 7</td><td>10</td><td>4</td><td>14</td><td>13</td><td>8</td><td>0.350</td><td>⋯</td><td>0</td><td>0</td><td>0</td><td>0</td><td>0</td><td>2</td><td>157</td><td>157</td><td>157</td><td>Positive</td></tr>\n",
       "\t<tr><td>chr10_100562106_+/m64076_210328_012155/12585119/ccs  </td><td>1</td><td>274</td><td> 6</td><td> 7</td><td>2</td><td>16</td><td>13</td><td>8</td><td>0.400</td><td>⋯</td><td>0</td><td>0</td><td>0</td><td>0</td><td>0</td><td>6</td><td>158</td><td>158</td><td>158</td><td>Positive</td></tr>\n",
       "\t<tr><td>chr10_100562106_+/m64076_210328_012155/153946925/ccs </td><td>1</td><td>222</td><td>11</td><td>13</td><td>8</td><td>14</td><td>14</td><td>8</td><td>0.350</td><td>⋯</td><td>0</td><td>0</td><td>0</td><td>0</td><td>0</td><td>0</td><td>159</td><td>159</td><td>159</td><td>Positive</td></tr>\n",
       "\t<tr><td>chr10_100562106_+/m64076_210328_012155/171508839/ccs </td><td>1</td><td>265</td><td> 9</td><td>11</td><td>2</td><td>14</td><td>14</td><td>8</td><td>0.350</td><td>⋯</td><td>0</td><td>0</td><td>0</td><td>0</td><td>0</td><td>6</td><td>160</td><td>160</td><td>160</td><td>Positive</td></tr>\n",
       "\t<tr><td>chr10_100562106_+/m64076_210328_012155/172229986/ccs </td><td>1</td><td> 85</td><td> 3</td><td> 5</td><td>5</td><td>14</td><td>13</td><td>8</td><td>0.350</td><td>⋯</td><td>0</td><td>0</td><td>0</td><td>0</td><td>0</td><td>2</td><td>161</td><td>161</td><td>161</td><td>Positive</td></tr>\n",
       "\t<tr><td>chr10_100562106_+/m64076_210328_012155/31523969/ccs  </td><td>1</td><td>258</td><td>10</td><td> 9</td><td>4</td><td>14</td><td>14</td><td>8</td><td>0.350</td><td>⋯</td><td>0</td><td>0</td><td>0</td><td>0</td><td>0</td><td>3</td><td>162</td><td>162</td><td>162</td><td>Positive</td></tr>\n",
       "\t<tr><td>chr10_100562106_+/m64076_210328_012155/39519188/ccs  </td><td>1</td><td>148</td><td> 4</td><td>12</td><td>8</td><td>15</td><td>14</td><td>8</td><td>0.375</td><td>⋯</td><td>0</td><td>0</td><td>0</td><td>0</td><td>0</td><td>0</td><td>163</td><td>163</td><td>163</td><td>Positive</td></tr>\n",
       "\t<tr><td>chr10_100562106_+/m64076_221119_202646/167184118/ccs </td><td>1</td><td>228</td><td> 8</td><td> 5</td><td>7</td><td>14</td><td>14</td><td>8</td><td>0.350</td><td>⋯</td><td>0</td><td>0</td><td>0</td><td>0</td><td>0</td><td>1</td><td>164</td><td>164</td><td>164</td><td>Positive</td></tr>\n",
       "</tbody>\n",
       "</table>\n"
      ],
      "text/latex": [
       "A data.table: 163 × 169\n",
       "\\begin{tabular}{lllllllllllllllllllll}\n",
       " SpecID & Label & msp\\_size & left\\_m6a\\_count & right\\_m6a\\_count & motif\\_m6a\\_count & left\\_AT\\_count & right\\_AT\\_count & motif\\_AT\\_count & left\\_AT\\_prop & ⋯ & rle\\_31 & rle\\_32 & rle\\_33 & rle\\_34 & rle\\_35 & rle\\_max & Peptide & Proteins & scannr & data\\_set\\\\\n",
       " <chr> & <int> & <dbl> & <dbl> & <dbl> & <dbl> & <dbl> & <dbl> & <dbl> & <dbl> & ⋯ & <dbl> & <dbl> & <dbl> & <dbl> & <dbl> & <dbl> & <int> & <int> & <int> & <fct>\\\\\n",
       "\\hline\n",
       "\t chr10\\_100338605\\_+/m54329U\\_210323\\_190418/169477611/ccs & 1 & 181 & 10 & 12 &  2 & 18 & 18 & 13 & 0.450 & ⋯ & 0 & 0 & 0 & 0 & 0 & 11 &  2 &  2 &  2 & Positive\\\\\n",
       "\t chr10\\_100338605\\_+/m54329U\\_210323\\_190418/173999297/ccs & 1 & 134 &  9 & 11 &  8 & 18 & 18 & 13 & 0.450 & ⋯ & 0 & 0 & 0 & 0 & 0 &  3 &  3 &  3 &  3 & Positive\\\\\n",
       "\t chr10\\_100338605\\_+/m54329U\\_210323\\_190418/180160021/ccs & 1 & 194 & 12 & 12 &  1 & 18 & 18 & 13 & 0.450 & ⋯ & 0 & 0 & 0 & 0 & 0 & 11 &  4 &  4 &  4 & Positive\\\\\n",
       "\t chr10\\_100338605\\_+/m54329U\\_210323\\_190418/27396441/ccs  & 1 & 181 & 14 & 14 &  3 & 17 & 18 & 13 & 0.425 & ⋯ & 0 & 0 & 0 & 0 & 0 &  9 &  5 &  5 &  5 & Positive\\\\\n",
       "\t chr10\\_100338605\\_+/m54329U\\_210323\\_190418/43450578/ccs  & 1 & 189 & 16 & 15 &  4 & 18 & 18 & 13 & 0.450 & ⋯ & 0 & 0 & 0 & 0 & 0 &  9 &  6 &  6 &  6 & Positive\\\\\n",
       "\t chr10\\_100338605\\_+/m54329U\\_210323\\_190418/46336112/ccs  & 1 & 165 & 10 &  8 &  2 & 18 & 18 & 13 & 0.450 & ⋯ & 0 & 0 & 0 & 0 & 0 & 10 &  7 &  7 &  7 & Positive\\\\\n",
       "\t chr10\\_100338605\\_+/m54329U\\_210326\\_192251/138151896/ccs & 1 & 142 & 16 &  6 & 12 & 18 & 18 & 13 & 0.450 & ⋯ & 0 & 0 & 0 & 0 & 0 &  1 &  8 &  8 &  8 & Positive\\\\\n",
       "\t chr10\\_100338605\\_+/m54329U\\_210326\\_192251/40044403/ccs  & 1 & 155 & 13 & 14 &  1 & 18 & 18 & 13 & 0.450 & ⋯ & 0 & 0 & 0 & 0 & 0 & 11 &  9 &  9 &  9 & Positive\\\\\n",
       "\t chr10\\_100338605\\_+/m54329U\\_210326\\_192251/89197269/ccs  & 1 & 161 &  9 & 13 &  4 & 18 & 18 & 13 & 0.450 & ⋯ & 0 & 0 & 0 & 0 & 0 &  9 & 10 & 10 & 10 & Positive\\\\\n",
       "\t chr10\\_100338605\\_+/m54329U\\_210810\\_004956/103089040/ccs & 1 & 136 & 11 &  9 &  2 & 18 & 18 & 13 & 0.450 & ⋯ & 0 & 0 & 0 & 0 & 0 & 10 & 11 & 11 & 11 & Positive\\\\\n",
       "\t chr10\\_100338605\\_+/m54329U\\_210810\\_004956/112068242/ccs & 1 & 212 &  7 & 11 &  1 & 18 & 18 & 13 & 0.450 & ⋯ & 0 & 0 & 0 & 0 & 0 & 12 & 12 & 12 & 12 & Positive\\\\\n",
       "\t chr10\\_100338605\\_+/m54329U\\_210810\\_004956/128060175/ccs & 1 & 168 & 13 &  5 &  1 & 18 & 18 & 13 & 0.450 & ⋯ & 0 & 0 & 0 & 0 & 0 & 11 & 13 & 13 & 13 & Positive\\\\\n",
       "\t chr10\\_100338605\\_+/m54329U\\_210810\\_004956/140773200/ccs & 1 & 182 & 12 & 11 &  5 & 18 & 18 & 13 & 0.450 & ⋯ & 0 & 0 & 0 & 0 & 0 &  5 & 14 & 14 & 14 & Positive\\\\\n",
       "\t chr10\\_100338605\\_+/m54329U\\_210810\\_004956/146277690/ccs & 1 & 138 &  8 &  7 &  2 & 18 & 18 & 13 & 0.450 & ⋯ & 0 & 0 & 0 & 0 & 0 & 11 & 15 & 15 & 15 & Positive\\\\\n",
       "\t chr10\\_100338605\\_+/m54329U\\_210810\\_004956/160696692/ccs & 1 & 168 &  9 & 12 &  2 & 18 & 18 & 13 & 0.450 & ⋯ & 0 & 0 & 0 & 0 & 0 &  9 & 16 & 16 & 16 & Positive\\\\\n",
       "\t chr10\\_100338605\\_+/m54329U\\_210810\\_004956/174850781/ccs & 1 & 173 & 13 &  7 &  1 & 18 & 18 & 13 & 0.450 & ⋯ & 0 & 0 & 0 & 0 & 0 & 11 & 17 & 17 & 17 & Positive\\\\\n",
       "\t chr10\\_100338605\\_+/m54329U\\_210810\\_004956/17631670/ccs  & 1 & 173 & 10 &  7 &  2 & 18 & 18 & 13 & 0.450 & ⋯ & 0 & 0 & 0 & 0 & 0 & 11 & 18 & 18 & 18 & Positive\\\\\n",
       "\t chr10\\_100338605\\_+/m54329U\\_210810\\_004956/57412047/ccs  & 1 & 143 & 10 & 10 &  7 & 18 & 18 & 13 & 0.450 & ⋯ & 0 & 0 & 0 & 0 & 0 &  3 & 19 & 19 & 19 & Positive\\\\\n",
       "\t chr10\\_100338605\\_+/m54329U\\_210810\\_004956/79561703/ccs  & 1 & 197 & 10 & 12 &  3 & 17 & 18 & 13 & 0.425 & ⋯ & 0 & 0 & 0 & 0 & 0 &  9 & 20 & 20 & 20 & Positive\\\\\n",
       "\t chr10\\_100338605\\_+/m54329U\\_210813\\_020940/10355546/ccs  & 1 & 181 &  7 &  9 &  2 & 19 & 18 & 13 & 0.475 & ⋯ & 0 & 0 & 0 & 0 & 0 & 11 & 21 & 21 & 21 & Positive\\\\\n",
       "\t chr10\\_100338605\\_+/m54329U\\_210813\\_020940/125305434/ccs & 1 & 181 & 11 &  9 &  6 & 18 & 18 & 13 & 0.450 & ⋯ & 0 & 0 & 0 & 0 & 0 &  4 & 22 & 22 & 22 & Positive\\\\\n",
       "\t chr10\\_100338605\\_+/m54329U\\_210813\\_020940/144245172/ccs & 1 & 161 & 12 &  7 &  1 & 18 & 18 & 13 & 0.450 & ⋯ & 0 & 0 & 0 & 0 & 0 & 11 & 23 & 23 & 23 & Positive\\\\\n",
       "\t chr10\\_100338605\\_+/m54329U\\_210814\\_130637/76155092/ccs  & 1 & 241 &  5 & 11 &  2 & 18 & 18 & 13 & 0.450 & ⋯ & 0 & 0 & 0 & 0 & 0 & 11 & 24 & 24 & 24 & Positive\\\\\n",
       "\t chr10\\_100338605\\_+/m54329U\\_210814\\_130637/80609715/ccs  & 1 & 157 &  7 & 12 &  9 & 18 & 18 & 13 & 0.450 & ⋯ & 0 & 0 & 0 & 0 & 0 &  3 & 25 & 25 & 25 & Positive\\\\\n",
       "\t chr10\\_100338605\\_+/m54329U\\_210814\\_130637/93325305/ccs  & 1 & 211 &  8 &  9 &  2 & 17 & 18 & 13 & 0.425 & ⋯ & 0 & 0 & 0 & 0 & 0 & 10 & 26 & 26 & 26 & Positive\\\\\n",
       "\t chr10\\_100338605\\_+/m64076\\_210328\\_012155/117442900/ccs  & 1 & 223 & 15 & 14 &  4 & 18 & 18 & 13 & 0.450 & ⋯ & 0 & 0 & 0 & 0 & 0 &  9 & 27 & 27 & 27 & Positive\\\\\n",
       "\t chr10\\_100338605\\_+/m64076\\_210328\\_012155/120652278/ccs  & 1 & 258 & 16 & 14 & 11 & 18 & 18 & 13 & 0.450 & ⋯ & 0 & 0 & 0 & 0 & 0 &  2 & 28 & 28 & 28 & Positive\\\\\n",
       "\t chr10\\_100338605\\_+/m64076\\_210328\\_012155/131072634/ccs  & 1 & 223 &  9 &  6 &  1 & 17 & 19 & 12 & 0.425 & ⋯ & 0 & 0 & 0 & 0 & 0 & 10 & 29 & 29 & 29 & Positive\\\\\n",
       "\t chr10\\_100338605\\_+/m64076\\_210328\\_012155/134545829/ccs  & 1 & 109 & 13 &  7 &  9 & 18 & 18 & 13 & 0.450 & ⋯ & 0 & 0 & 0 & 0 & 0 &  2 & 30 & 30 & 30 & Positive\\\\\n",
       "\t chr10\\_100338605\\_+/m64076\\_210328\\_012155/142805261/ccs  & 1 & 151 & 14 & 10 &  3 & 18 & 19 & 12 & 0.450 & ⋯ & 0 & 0 & 0 & 0 & 0 &  8 & 31 & 31 & 31 & Positive\\\\\n",
       "\t ⋮ & ⋮ & ⋮ & ⋮ & ⋮ & ⋮ & ⋮ & ⋮ & ⋮ & ⋮ & ⋱ & ⋮ & ⋮ & ⋮ & ⋮ & ⋮ & ⋮ & ⋮ & ⋮ & ⋮ & ⋮\\\\\n",
       "\t chr10\\_100562106\\_+/m54329U\\_210323\\_190418/46140095/ccs  & 1 & 480 &  8 & 11 & 7 & 14 & 14 & 8 & 0.350 & ⋯ & 0 & 0 & 0 & 0 & 0 & 1 & 135 & 135 & 135 & Positive\\\\\n",
       "\t chr10\\_100562106\\_+/m54329U\\_210323\\_190418/46858676/ccs  & 1 & 222 &  8 &  6 & 0 & 14 & 13 & 8 & 0.350 & ⋯ & 0 & 0 & 0 & 0 & 0 & 8 & 136 & 136 & 136 & Positive\\\\\n",
       "\t chr10\\_100562106\\_+/m54329U\\_210323\\_190418/65733275/ccs  & 1 & 212 &  8 & 10 & 7 & 14 & 14 & 8 & 0.350 & ⋯ & 0 & 0 & 0 & 0 & 0 & 1 & 137 & 137 & 137 & Positive\\\\\n",
       "\t chr10\\_100562106\\_+/m54329U\\_210323\\_190418/67701064/ccs  & 1 & 247 & 11 & 13 & 6 & 14 & 14 & 8 & 0.350 & ⋯ & 0 & 0 & 0 & 0 & 0 & 1 & 138 & 138 & 138 & Positive\\\\\n",
       "\t chr10\\_100562106\\_+/m54329U\\_210323\\_190418/78448561/ccs  & 1 & 123 &  9 &  7 & 8 & 14 & 14 & 8 & 0.350 & ⋯ & 0 & 0 & 0 & 0 & 0 & 0 & 139 & 139 & 139 & Positive\\\\\n",
       "\t chr10\\_100562106\\_+/m54329U\\_210323\\_190418/93260177/ccs  & 1 & 243 &  9 & 11 & 1 & 14 & 14 & 8 & 0.350 & ⋯ & 0 & 0 & 0 & 0 & 0 & 7 & 140 & 140 & 140 & Positive\\\\\n",
       "\t chr10\\_100562106\\_+/m54329U\\_210323\\_190418/96338134/ccs  & 1 & 281 &  8 &  9 & 3 & 14 & 13 & 9 & 0.350 & ⋯ & 0 & 0 & 0 & 0 & 0 & 6 & 141 & 141 & 141 & Positive\\\\\n",
       "\t chr10\\_100562106\\_+/m54329U\\_210326\\_192251/107284076/ccs & 1 & 249 & 10 & 13 & 6 & 14 & 14 & 8 & 0.350 & ⋯ & 0 & 0 & 0 & 0 & 0 & 1 & 142 & 142 & 142 & Positive\\\\\n",
       "\t chr10\\_100562106\\_+/m54329U\\_210326\\_192251/176620217/ccs & 1 & 254 &  7 & 12 & 7 & 14 & 13 & 8 & 0.350 & ⋯ & 0 & 0 & 0 & 0 & 0 & 1 & 143 & 143 & 143 & Positive\\\\\n",
       "\t chr10\\_100562106\\_+/m54329U\\_210810\\_004956/114164490/ccs & 1 & 252 & 10 &  7 & 7 & 14 & 14 & 8 & 0.350 & ⋯ & 0 & 0 & 0 & 0 & 0 & 1 & 144 & 144 & 144 & Positive\\\\\n",
       "\t chr10\\_100562106\\_+/m54329U\\_210810\\_004956/127404265/ccs & 1 & 586 &  6 & 10 & 5 & 14 & 14 & 8 & 0.350 & ⋯ & 0 & 0 & 0 & 0 & 0 & 2 & 145 & 145 & 145 & Positive\\\\\n",
       "\t chr10\\_100562106\\_+/m54329U\\_210810\\_004956/150276070/ccs & 1 & 252 & 10 &  9 & 1 & 14 & 14 & 8 & 0.350 & ⋯ & 0 & 0 & 0 & 0 & 0 & 6 & 146 & 146 & 146 & Positive\\\\\n",
       "\t chr10\\_100562106\\_+/m54329U\\_210810\\_004956/30345313/ccs  & 1 & 263 &  9 &  8 & 2 & 14 & 14 & 8 & 0.350 & ⋯ & 0 & 0 & 0 & 0 & 0 & 6 & 147 & 147 & 147 & Positive\\\\\n",
       "\t chr10\\_100562106\\_+/m54329U\\_210810\\_004956/39716318/ccs  & 1 & 242 &  9 & 13 & 7 & 14 & 14 & 8 & 0.350 & ⋯ & 0 & 0 & 0 & 0 & 0 & 1 & 148 & 148 & 148 & Positive\\\\\n",
       "\t chr10\\_100562106\\_+/m54329U\\_210813\\_020940/121766906/ccs & 1 & 280 & 11 & 10 & 7 & 14 & 14 & 8 & 0.350 & ⋯ & 0 & 0 & 0 & 0 & 0 & 1 & 149 & 149 & 149 & Positive\\\\\n",
       "\t chr10\\_100562106\\_+/m54329U\\_210813\\_020940/158336586/ccs & 1 & 250 &  6 & 13 & 7 & 14 & 14 & 8 & 0.350 & ⋯ & 0 & 0 & 0 & 0 & 0 & 1 & 150 & 150 & 150 & Positive\\\\\n",
       "\t chr10\\_100562106\\_+/m54329U\\_210813\\_020940/61210744/ccs  & 1 & 252 & 11 & 13 & 7 & 14 & 14 & 8 & 0.350 & ⋯ & 0 & 0 & 0 & 0 & 0 & 1 & 151 & 151 & 151 & Positive\\\\\n",
       "\t chr10\\_100562106\\_+/m54329U\\_210813\\_020940/99090964/ccs  & 1 & 174 &  2 & 10 & 4 & 14 & 14 & 8 & 0.350 & ⋯ & 0 & 0 & 0 & 0 & 0 & 3 & 152 & 152 & 152 & Positive\\\\\n",
       "\t chr10\\_100562106\\_+/m54329U\\_210814\\_130637/108199982/ccs & 1 & 280 & 11 & 12 & 5 & 14 & 14 & 8 & 0.350 & ⋯ & 0 & 0 & 0 & 0 & 0 & 2 & 153 & 153 & 153 & Positive\\\\\n",
       "\t chr10\\_100562106\\_+/m54329U\\_210814\\_130637/173803698/ccs & 1 & 368 &  7 & 13 & 7 & 14 & 14 & 8 & 0.350 & ⋯ & 0 & 0 & 0 & 0 & 0 & 1 & 154 & 154 & 154 & Positive\\\\\n",
       "\t chr10\\_100562106\\_+/m54329U\\_210814\\_130637/43976936/ccs  & 1 & 233 & 10 & 13 & 8 & 14 & 14 & 8 & 0.350 & ⋯ & 0 & 0 & 0 & 0 & 0 & 0 & 155 & 155 & 155 & Positive\\\\\n",
       "\t chr10\\_100562106\\_+/m54329U\\_210814\\_130637/99157000/ccs  & 1 & 253 & 10 & 12 & 8 & 14 & 14 & 8 & 0.350 & ⋯ & 0 & 0 & 0 & 0 & 0 & 0 & 156 & 156 & 156 & Positive\\\\\n",
       "\t chr10\\_100562106\\_+/m64076\\_210328\\_012155/117638684/ccs  & 1 & 230 &  7 & 10 & 4 & 14 & 13 & 8 & 0.350 & ⋯ & 0 & 0 & 0 & 0 & 0 & 2 & 157 & 157 & 157 & Positive\\\\\n",
       "\t chr10\\_100562106\\_+/m64076\\_210328\\_012155/12585119/ccs   & 1 & 274 &  6 &  7 & 2 & 16 & 13 & 8 & 0.400 & ⋯ & 0 & 0 & 0 & 0 & 0 & 6 & 158 & 158 & 158 & Positive\\\\\n",
       "\t chr10\\_100562106\\_+/m64076\\_210328\\_012155/153946925/ccs  & 1 & 222 & 11 & 13 & 8 & 14 & 14 & 8 & 0.350 & ⋯ & 0 & 0 & 0 & 0 & 0 & 0 & 159 & 159 & 159 & Positive\\\\\n",
       "\t chr10\\_100562106\\_+/m64076\\_210328\\_012155/171508839/ccs  & 1 & 265 &  9 & 11 & 2 & 14 & 14 & 8 & 0.350 & ⋯ & 0 & 0 & 0 & 0 & 0 & 6 & 160 & 160 & 160 & Positive\\\\\n",
       "\t chr10\\_100562106\\_+/m64076\\_210328\\_012155/172229986/ccs  & 1 &  85 &  3 &  5 & 5 & 14 & 13 & 8 & 0.350 & ⋯ & 0 & 0 & 0 & 0 & 0 & 2 & 161 & 161 & 161 & Positive\\\\\n",
       "\t chr10\\_100562106\\_+/m64076\\_210328\\_012155/31523969/ccs   & 1 & 258 & 10 &  9 & 4 & 14 & 14 & 8 & 0.350 & ⋯ & 0 & 0 & 0 & 0 & 0 & 3 & 162 & 162 & 162 & Positive\\\\\n",
       "\t chr10\\_100562106\\_+/m64076\\_210328\\_012155/39519188/ccs   & 1 & 148 &  4 & 12 & 8 & 15 & 14 & 8 & 0.375 & ⋯ & 0 & 0 & 0 & 0 & 0 & 0 & 163 & 163 & 163 & Positive\\\\\n",
       "\t chr10\\_100562106\\_+/m64076\\_221119\\_202646/167184118/ccs  & 1 & 228 &  8 &  5 & 7 & 14 & 14 & 8 & 0.350 & ⋯ & 0 & 0 & 0 & 0 & 0 & 1 & 164 & 164 & 164 & Positive\\\\\n",
       "\\end{tabular}\n"
      ],
      "text/markdown": [
       "\n",
       "A data.table: 163 × 169\n",
       "\n",
       "| SpecID &lt;chr&gt; | Label &lt;int&gt; | msp_size &lt;dbl&gt; | left_m6a_count &lt;dbl&gt; | right_m6a_count &lt;dbl&gt; | motif_m6a_count &lt;dbl&gt; | left_AT_count &lt;dbl&gt; | right_AT_count &lt;dbl&gt; | motif_AT_count &lt;dbl&gt; | left_AT_prop &lt;dbl&gt; | ⋯ ⋯ | rle_31 &lt;dbl&gt; | rle_32 &lt;dbl&gt; | rle_33 &lt;dbl&gt; | rle_34 &lt;dbl&gt; | rle_35 &lt;dbl&gt; | rle_max &lt;dbl&gt; | Peptide &lt;int&gt; | Proteins &lt;int&gt; | scannr &lt;int&gt; | data_set &lt;fct&gt; |\n",
       "|---|---|---|---|---|---|---|---|---|---|---|---|---|---|---|---|---|---|---|---|---|\n",
       "| chr10_100338605_+/m54329U_210323_190418/169477611/ccs | 1 | 181 | 10 | 12 |  2 | 18 | 18 | 13 | 0.450 | ⋯ | 0 | 0 | 0 | 0 | 0 | 11 |  2 |  2 |  2 | Positive |\n",
       "| chr10_100338605_+/m54329U_210323_190418/173999297/ccs | 1 | 134 |  9 | 11 |  8 | 18 | 18 | 13 | 0.450 | ⋯ | 0 | 0 | 0 | 0 | 0 |  3 |  3 |  3 |  3 | Positive |\n",
       "| chr10_100338605_+/m54329U_210323_190418/180160021/ccs | 1 | 194 | 12 | 12 |  1 | 18 | 18 | 13 | 0.450 | ⋯ | 0 | 0 | 0 | 0 | 0 | 11 |  4 |  4 |  4 | Positive |\n",
       "| chr10_100338605_+/m54329U_210323_190418/27396441/ccs  | 1 | 181 | 14 | 14 |  3 | 17 | 18 | 13 | 0.425 | ⋯ | 0 | 0 | 0 | 0 | 0 |  9 |  5 |  5 |  5 | Positive |\n",
       "| chr10_100338605_+/m54329U_210323_190418/43450578/ccs  | 1 | 189 | 16 | 15 |  4 | 18 | 18 | 13 | 0.450 | ⋯ | 0 | 0 | 0 | 0 | 0 |  9 |  6 |  6 |  6 | Positive |\n",
       "| chr10_100338605_+/m54329U_210323_190418/46336112/ccs  | 1 | 165 | 10 |  8 |  2 | 18 | 18 | 13 | 0.450 | ⋯ | 0 | 0 | 0 | 0 | 0 | 10 |  7 |  7 |  7 | Positive |\n",
       "| chr10_100338605_+/m54329U_210326_192251/138151896/ccs | 1 | 142 | 16 |  6 | 12 | 18 | 18 | 13 | 0.450 | ⋯ | 0 | 0 | 0 | 0 | 0 |  1 |  8 |  8 |  8 | Positive |\n",
       "| chr10_100338605_+/m54329U_210326_192251/40044403/ccs  | 1 | 155 | 13 | 14 |  1 | 18 | 18 | 13 | 0.450 | ⋯ | 0 | 0 | 0 | 0 | 0 | 11 |  9 |  9 |  9 | Positive |\n",
       "| chr10_100338605_+/m54329U_210326_192251/89197269/ccs  | 1 | 161 |  9 | 13 |  4 | 18 | 18 | 13 | 0.450 | ⋯ | 0 | 0 | 0 | 0 | 0 |  9 | 10 | 10 | 10 | Positive |\n",
       "| chr10_100338605_+/m54329U_210810_004956/103089040/ccs | 1 | 136 | 11 |  9 |  2 | 18 | 18 | 13 | 0.450 | ⋯ | 0 | 0 | 0 | 0 | 0 | 10 | 11 | 11 | 11 | Positive |\n",
       "| chr10_100338605_+/m54329U_210810_004956/112068242/ccs | 1 | 212 |  7 | 11 |  1 | 18 | 18 | 13 | 0.450 | ⋯ | 0 | 0 | 0 | 0 | 0 | 12 | 12 | 12 | 12 | Positive |\n",
       "| chr10_100338605_+/m54329U_210810_004956/128060175/ccs | 1 | 168 | 13 |  5 |  1 | 18 | 18 | 13 | 0.450 | ⋯ | 0 | 0 | 0 | 0 | 0 | 11 | 13 | 13 | 13 | Positive |\n",
       "| chr10_100338605_+/m54329U_210810_004956/140773200/ccs | 1 | 182 | 12 | 11 |  5 | 18 | 18 | 13 | 0.450 | ⋯ | 0 | 0 | 0 | 0 | 0 |  5 | 14 | 14 | 14 | Positive |\n",
       "| chr10_100338605_+/m54329U_210810_004956/146277690/ccs | 1 | 138 |  8 |  7 |  2 | 18 | 18 | 13 | 0.450 | ⋯ | 0 | 0 | 0 | 0 | 0 | 11 | 15 | 15 | 15 | Positive |\n",
       "| chr10_100338605_+/m54329U_210810_004956/160696692/ccs | 1 | 168 |  9 | 12 |  2 | 18 | 18 | 13 | 0.450 | ⋯ | 0 | 0 | 0 | 0 | 0 |  9 | 16 | 16 | 16 | Positive |\n",
       "| chr10_100338605_+/m54329U_210810_004956/174850781/ccs | 1 | 173 | 13 |  7 |  1 | 18 | 18 | 13 | 0.450 | ⋯ | 0 | 0 | 0 | 0 | 0 | 11 | 17 | 17 | 17 | Positive |\n",
       "| chr10_100338605_+/m54329U_210810_004956/17631670/ccs  | 1 | 173 | 10 |  7 |  2 | 18 | 18 | 13 | 0.450 | ⋯ | 0 | 0 | 0 | 0 | 0 | 11 | 18 | 18 | 18 | Positive |\n",
       "| chr10_100338605_+/m54329U_210810_004956/57412047/ccs  | 1 | 143 | 10 | 10 |  7 | 18 | 18 | 13 | 0.450 | ⋯ | 0 | 0 | 0 | 0 | 0 |  3 | 19 | 19 | 19 | Positive |\n",
       "| chr10_100338605_+/m54329U_210810_004956/79561703/ccs  | 1 | 197 | 10 | 12 |  3 | 17 | 18 | 13 | 0.425 | ⋯ | 0 | 0 | 0 | 0 | 0 |  9 | 20 | 20 | 20 | Positive |\n",
       "| chr10_100338605_+/m54329U_210813_020940/10355546/ccs  | 1 | 181 |  7 |  9 |  2 | 19 | 18 | 13 | 0.475 | ⋯ | 0 | 0 | 0 | 0 | 0 | 11 | 21 | 21 | 21 | Positive |\n",
       "| chr10_100338605_+/m54329U_210813_020940/125305434/ccs | 1 | 181 | 11 |  9 |  6 | 18 | 18 | 13 | 0.450 | ⋯ | 0 | 0 | 0 | 0 | 0 |  4 | 22 | 22 | 22 | Positive |\n",
       "| chr10_100338605_+/m54329U_210813_020940/144245172/ccs | 1 | 161 | 12 |  7 |  1 | 18 | 18 | 13 | 0.450 | ⋯ | 0 | 0 | 0 | 0 | 0 | 11 | 23 | 23 | 23 | Positive |\n",
       "| chr10_100338605_+/m54329U_210814_130637/76155092/ccs  | 1 | 241 |  5 | 11 |  2 | 18 | 18 | 13 | 0.450 | ⋯ | 0 | 0 | 0 | 0 | 0 | 11 | 24 | 24 | 24 | Positive |\n",
       "| chr10_100338605_+/m54329U_210814_130637/80609715/ccs  | 1 | 157 |  7 | 12 |  9 | 18 | 18 | 13 | 0.450 | ⋯ | 0 | 0 | 0 | 0 | 0 |  3 | 25 | 25 | 25 | Positive |\n",
       "| chr10_100338605_+/m54329U_210814_130637/93325305/ccs  | 1 | 211 |  8 |  9 |  2 | 17 | 18 | 13 | 0.425 | ⋯ | 0 | 0 | 0 | 0 | 0 | 10 | 26 | 26 | 26 | Positive |\n",
       "| chr10_100338605_+/m64076_210328_012155/117442900/ccs  | 1 | 223 | 15 | 14 |  4 | 18 | 18 | 13 | 0.450 | ⋯ | 0 | 0 | 0 | 0 | 0 |  9 | 27 | 27 | 27 | Positive |\n",
       "| chr10_100338605_+/m64076_210328_012155/120652278/ccs  | 1 | 258 | 16 | 14 | 11 | 18 | 18 | 13 | 0.450 | ⋯ | 0 | 0 | 0 | 0 | 0 |  2 | 28 | 28 | 28 | Positive |\n",
       "| chr10_100338605_+/m64076_210328_012155/131072634/ccs  | 1 | 223 |  9 |  6 |  1 | 17 | 19 | 12 | 0.425 | ⋯ | 0 | 0 | 0 | 0 | 0 | 10 | 29 | 29 | 29 | Positive |\n",
       "| chr10_100338605_+/m64076_210328_012155/134545829/ccs  | 1 | 109 | 13 |  7 |  9 | 18 | 18 | 13 | 0.450 | ⋯ | 0 | 0 | 0 | 0 | 0 |  2 | 30 | 30 | 30 | Positive |\n",
       "| chr10_100338605_+/m64076_210328_012155/142805261/ccs  | 1 | 151 | 14 | 10 |  3 | 18 | 19 | 12 | 0.450 | ⋯ | 0 | 0 | 0 | 0 | 0 |  8 | 31 | 31 | 31 | Positive |\n",
       "| ⋮ | ⋮ | ⋮ | ⋮ | ⋮ | ⋮ | ⋮ | ⋮ | ⋮ | ⋮ | ⋱ | ⋮ | ⋮ | ⋮ | ⋮ | ⋮ | ⋮ | ⋮ | ⋮ | ⋮ | ⋮ |\n",
       "| chr10_100562106_+/m54329U_210323_190418/46140095/ccs  | 1 | 480 |  8 | 11 | 7 | 14 | 14 | 8 | 0.350 | ⋯ | 0 | 0 | 0 | 0 | 0 | 1 | 135 | 135 | 135 | Positive |\n",
       "| chr10_100562106_+/m54329U_210323_190418/46858676/ccs  | 1 | 222 |  8 |  6 | 0 | 14 | 13 | 8 | 0.350 | ⋯ | 0 | 0 | 0 | 0 | 0 | 8 | 136 | 136 | 136 | Positive |\n",
       "| chr10_100562106_+/m54329U_210323_190418/65733275/ccs  | 1 | 212 |  8 | 10 | 7 | 14 | 14 | 8 | 0.350 | ⋯ | 0 | 0 | 0 | 0 | 0 | 1 | 137 | 137 | 137 | Positive |\n",
       "| chr10_100562106_+/m54329U_210323_190418/67701064/ccs  | 1 | 247 | 11 | 13 | 6 | 14 | 14 | 8 | 0.350 | ⋯ | 0 | 0 | 0 | 0 | 0 | 1 | 138 | 138 | 138 | Positive |\n",
       "| chr10_100562106_+/m54329U_210323_190418/78448561/ccs  | 1 | 123 |  9 |  7 | 8 | 14 | 14 | 8 | 0.350 | ⋯ | 0 | 0 | 0 | 0 | 0 | 0 | 139 | 139 | 139 | Positive |\n",
       "| chr10_100562106_+/m54329U_210323_190418/93260177/ccs  | 1 | 243 |  9 | 11 | 1 | 14 | 14 | 8 | 0.350 | ⋯ | 0 | 0 | 0 | 0 | 0 | 7 | 140 | 140 | 140 | Positive |\n",
       "| chr10_100562106_+/m54329U_210323_190418/96338134/ccs  | 1 | 281 |  8 |  9 | 3 | 14 | 13 | 9 | 0.350 | ⋯ | 0 | 0 | 0 | 0 | 0 | 6 | 141 | 141 | 141 | Positive |\n",
       "| chr10_100562106_+/m54329U_210326_192251/107284076/ccs | 1 | 249 | 10 | 13 | 6 | 14 | 14 | 8 | 0.350 | ⋯ | 0 | 0 | 0 | 0 | 0 | 1 | 142 | 142 | 142 | Positive |\n",
       "| chr10_100562106_+/m54329U_210326_192251/176620217/ccs | 1 | 254 |  7 | 12 | 7 | 14 | 13 | 8 | 0.350 | ⋯ | 0 | 0 | 0 | 0 | 0 | 1 | 143 | 143 | 143 | Positive |\n",
       "| chr10_100562106_+/m54329U_210810_004956/114164490/ccs | 1 | 252 | 10 |  7 | 7 | 14 | 14 | 8 | 0.350 | ⋯ | 0 | 0 | 0 | 0 | 0 | 1 | 144 | 144 | 144 | Positive |\n",
       "| chr10_100562106_+/m54329U_210810_004956/127404265/ccs | 1 | 586 |  6 | 10 | 5 | 14 | 14 | 8 | 0.350 | ⋯ | 0 | 0 | 0 | 0 | 0 | 2 | 145 | 145 | 145 | Positive |\n",
       "| chr10_100562106_+/m54329U_210810_004956/150276070/ccs | 1 | 252 | 10 |  9 | 1 | 14 | 14 | 8 | 0.350 | ⋯ | 0 | 0 | 0 | 0 | 0 | 6 | 146 | 146 | 146 | Positive |\n",
       "| chr10_100562106_+/m54329U_210810_004956/30345313/ccs  | 1 | 263 |  9 |  8 | 2 | 14 | 14 | 8 | 0.350 | ⋯ | 0 | 0 | 0 | 0 | 0 | 6 | 147 | 147 | 147 | Positive |\n",
       "| chr10_100562106_+/m54329U_210810_004956/39716318/ccs  | 1 | 242 |  9 | 13 | 7 | 14 | 14 | 8 | 0.350 | ⋯ | 0 | 0 | 0 | 0 | 0 | 1 | 148 | 148 | 148 | Positive |\n",
       "| chr10_100562106_+/m54329U_210813_020940/121766906/ccs | 1 | 280 | 11 | 10 | 7 | 14 | 14 | 8 | 0.350 | ⋯ | 0 | 0 | 0 | 0 | 0 | 1 | 149 | 149 | 149 | Positive |\n",
       "| chr10_100562106_+/m54329U_210813_020940/158336586/ccs | 1 | 250 |  6 | 13 | 7 | 14 | 14 | 8 | 0.350 | ⋯ | 0 | 0 | 0 | 0 | 0 | 1 | 150 | 150 | 150 | Positive |\n",
       "| chr10_100562106_+/m54329U_210813_020940/61210744/ccs  | 1 | 252 | 11 | 13 | 7 | 14 | 14 | 8 | 0.350 | ⋯ | 0 | 0 | 0 | 0 | 0 | 1 | 151 | 151 | 151 | Positive |\n",
       "| chr10_100562106_+/m54329U_210813_020940/99090964/ccs  | 1 | 174 |  2 | 10 | 4 | 14 | 14 | 8 | 0.350 | ⋯ | 0 | 0 | 0 | 0 | 0 | 3 | 152 | 152 | 152 | Positive |\n",
       "| chr10_100562106_+/m54329U_210814_130637/108199982/ccs | 1 | 280 | 11 | 12 | 5 | 14 | 14 | 8 | 0.350 | ⋯ | 0 | 0 | 0 | 0 | 0 | 2 | 153 | 153 | 153 | Positive |\n",
       "| chr10_100562106_+/m54329U_210814_130637/173803698/ccs | 1 | 368 |  7 | 13 | 7 | 14 | 14 | 8 | 0.350 | ⋯ | 0 | 0 | 0 | 0 | 0 | 1 | 154 | 154 | 154 | Positive |\n",
       "| chr10_100562106_+/m54329U_210814_130637/43976936/ccs  | 1 | 233 | 10 | 13 | 8 | 14 | 14 | 8 | 0.350 | ⋯ | 0 | 0 | 0 | 0 | 0 | 0 | 155 | 155 | 155 | Positive |\n",
       "| chr10_100562106_+/m54329U_210814_130637/99157000/ccs  | 1 | 253 | 10 | 12 | 8 | 14 | 14 | 8 | 0.350 | ⋯ | 0 | 0 | 0 | 0 | 0 | 0 | 156 | 156 | 156 | Positive |\n",
       "| chr10_100562106_+/m64076_210328_012155/117638684/ccs  | 1 | 230 |  7 | 10 | 4 | 14 | 13 | 8 | 0.350 | ⋯ | 0 | 0 | 0 | 0 | 0 | 2 | 157 | 157 | 157 | Positive |\n",
       "| chr10_100562106_+/m64076_210328_012155/12585119/ccs   | 1 | 274 |  6 |  7 | 2 | 16 | 13 | 8 | 0.400 | ⋯ | 0 | 0 | 0 | 0 | 0 | 6 | 158 | 158 | 158 | Positive |\n",
       "| chr10_100562106_+/m64076_210328_012155/153946925/ccs  | 1 | 222 | 11 | 13 | 8 | 14 | 14 | 8 | 0.350 | ⋯ | 0 | 0 | 0 | 0 | 0 | 0 | 159 | 159 | 159 | Positive |\n",
       "| chr10_100562106_+/m64076_210328_012155/171508839/ccs  | 1 | 265 |  9 | 11 | 2 | 14 | 14 | 8 | 0.350 | ⋯ | 0 | 0 | 0 | 0 | 0 | 6 | 160 | 160 | 160 | Positive |\n",
       "| chr10_100562106_+/m64076_210328_012155/172229986/ccs  | 1 |  85 |  3 |  5 | 5 | 14 | 13 | 8 | 0.350 | ⋯ | 0 | 0 | 0 | 0 | 0 | 2 | 161 | 161 | 161 | Positive |\n",
       "| chr10_100562106_+/m64076_210328_012155/31523969/ccs   | 1 | 258 | 10 |  9 | 4 | 14 | 14 | 8 | 0.350 | ⋯ | 0 | 0 | 0 | 0 | 0 | 3 | 162 | 162 | 162 | Positive |\n",
       "| chr10_100562106_+/m64076_210328_012155/39519188/ccs   | 1 | 148 |  4 | 12 | 8 | 15 | 14 | 8 | 0.375 | ⋯ | 0 | 0 | 0 | 0 | 0 | 0 | 163 | 163 | 163 | Positive |\n",
       "| chr10_100562106_+/m64076_221119_202646/167184118/ccs  | 1 | 228 |  8 |  5 | 7 | 14 | 14 | 8 | 0.350 | ⋯ | 0 | 0 | 0 | 0 | 0 | 1 | 164 | 164 | 164 | Positive |\n",
       "\n"
      ],
      "text/plain": [
       "    SpecID                                                Label msp_size\n",
       "1   chr10_100338605_+/m54329U_210323_190418/169477611/ccs 1     181     \n",
       "2   chr10_100338605_+/m54329U_210323_190418/173999297/ccs 1     134     \n",
       "3   chr10_100338605_+/m54329U_210323_190418/180160021/ccs 1     194     \n",
       "4   chr10_100338605_+/m54329U_210323_190418/27396441/ccs  1     181     \n",
       "5   chr10_100338605_+/m54329U_210323_190418/43450578/ccs  1     189     \n",
       "6   chr10_100338605_+/m54329U_210323_190418/46336112/ccs  1     165     \n",
       "7   chr10_100338605_+/m54329U_210326_192251/138151896/ccs 1     142     \n",
       "8   chr10_100338605_+/m54329U_210326_192251/40044403/ccs  1     155     \n",
       "9   chr10_100338605_+/m54329U_210326_192251/89197269/ccs  1     161     \n",
       "10  chr10_100338605_+/m54329U_210810_004956/103089040/ccs 1     136     \n",
       "11  chr10_100338605_+/m54329U_210810_004956/112068242/ccs 1     212     \n",
       "12  chr10_100338605_+/m54329U_210810_004956/128060175/ccs 1     168     \n",
       "13  chr10_100338605_+/m54329U_210810_004956/140773200/ccs 1     182     \n",
       "14  chr10_100338605_+/m54329U_210810_004956/146277690/ccs 1     138     \n",
       "15  chr10_100338605_+/m54329U_210810_004956/160696692/ccs 1     168     \n",
       "16  chr10_100338605_+/m54329U_210810_004956/174850781/ccs 1     173     \n",
       "17  chr10_100338605_+/m54329U_210810_004956/17631670/ccs  1     173     \n",
       "18  chr10_100338605_+/m54329U_210810_004956/57412047/ccs  1     143     \n",
       "19  chr10_100338605_+/m54329U_210810_004956/79561703/ccs  1     197     \n",
       "20  chr10_100338605_+/m54329U_210813_020940/10355546/ccs  1     181     \n",
       "21  chr10_100338605_+/m54329U_210813_020940/125305434/ccs 1     181     \n",
       "22  chr10_100338605_+/m54329U_210813_020940/144245172/ccs 1     161     \n",
       "23  chr10_100338605_+/m54329U_210814_130637/76155092/ccs  1     241     \n",
       "24  chr10_100338605_+/m54329U_210814_130637/80609715/ccs  1     157     \n",
       "25  chr10_100338605_+/m54329U_210814_130637/93325305/ccs  1     211     \n",
       "26  chr10_100338605_+/m64076_210328_012155/117442900/ccs  1     223     \n",
       "27  chr10_100338605_+/m64076_210328_012155/120652278/ccs  1     258     \n",
       "28  chr10_100338605_+/m64076_210328_012155/131072634/ccs  1     223     \n",
       "29  chr10_100338605_+/m64076_210328_012155/134545829/ccs  1     109     \n",
       "30  chr10_100338605_+/m64076_210328_012155/142805261/ccs  1     151     \n",
       "⋮   ⋮                                                     ⋮     ⋮       \n",
       "134 chr10_100562106_+/m54329U_210323_190418/46140095/ccs  1     480     \n",
       "135 chr10_100562106_+/m54329U_210323_190418/46858676/ccs  1     222     \n",
       "136 chr10_100562106_+/m54329U_210323_190418/65733275/ccs  1     212     \n",
       "137 chr10_100562106_+/m54329U_210323_190418/67701064/ccs  1     247     \n",
       "138 chr10_100562106_+/m54329U_210323_190418/78448561/ccs  1     123     \n",
       "139 chr10_100562106_+/m54329U_210323_190418/93260177/ccs  1     243     \n",
       "140 chr10_100562106_+/m54329U_210323_190418/96338134/ccs  1     281     \n",
       "141 chr10_100562106_+/m54329U_210326_192251/107284076/ccs 1     249     \n",
       "142 chr10_100562106_+/m54329U_210326_192251/176620217/ccs 1     254     \n",
       "143 chr10_100562106_+/m54329U_210810_004956/114164490/ccs 1     252     \n",
       "144 chr10_100562106_+/m54329U_210810_004956/127404265/ccs 1     586     \n",
       "145 chr10_100562106_+/m54329U_210810_004956/150276070/ccs 1     252     \n",
       "146 chr10_100562106_+/m54329U_210810_004956/30345313/ccs  1     263     \n",
       "147 chr10_100562106_+/m54329U_210810_004956/39716318/ccs  1     242     \n",
       "148 chr10_100562106_+/m54329U_210813_020940/121766906/ccs 1     280     \n",
       "149 chr10_100562106_+/m54329U_210813_020940/158336586/ccs 1     250     \n",
       "150 chr10_100562106_+/m54329U_210813_020940/61210744/ccs  1     252     \n",
       "151 chr10_100562106_+/m54329U_210813_020940/99090964/ccs  1     174     \n",
       "152 chr10_100562106_+/m54329U_210814_130637/108199982/ccs 1     280     \n",
       "153 chr10_100562106_+/m54329U_210814_130637/173803698/ccs 1     368     \n",
       "154 chr10_100562106_+/m54329U_210814_130637/43976936/ccs  1     233     \n",
       "155 chr10_100562106_+/m54329U_210814_130637/99157000/ccs  1     253     \n",
       "156 chr10_100562106_+/m64076_210328_012155/117638684/ccs  1     230     \n",
       "157 chr10_100562106_+/m64076_210328_012155/12585119/ccs   1     274     \n",
       "158 chr10_100562106_+/m64076_210328_012155/153946925/ccs  1     222     \n",
       "159 chr10_100562106_+/m64076_210328_012155/171508839/ccs  1     265     \n",
       "160 chr10_100562106_+/m64076_210328_012155/172229986/ccs  1      85     \n",
       "161 chr10_100562106_+/m64076_210328_012155/31523969/ccs   1     258     \n",
       "162 chr10_100562106_+/m64076_210328_012155/39519188/ccs   1     148     \n",
       "163 chr10_100562106_+/m64076_221119_202646/167184118/ccs  1     228     \n",
       "    left_m6a_count right_m6a_count motif_m6a_count left_AT_count right_AT_count\n",
       "1   10             12               2              18            18            \n",
       "2    9             11               8              18            18            \n",
       "3   12             12               1              18            18            \n",
       "4   14             14               3              17            18            \n",
       "5   16             15               4              18            18            \n",
       "6   10              8               2              18            18            \n",
       "7   16              6              12              18            18            \n",
       "8   13             14               1              18            18            \n",
       "9    9             13               4              18            18            \n",
       "10  11              9               2              18            18            \n",
       "11   7             11               1              18            18            \n",
       "12  13              5               1              18            18            \n",
       "13  12             11               5              18            18            \n",
       "14   8              7               2              18            18            \n",
       "15   9             12               2              18            18            \n",
       "16  13              7               1              18            18            \n",
       "17  10              7               2              18            18            \n",
       "18  10             10               7              18            18            \n",
       "19  10             12               3              17            18            \n",
       "20   7              9               2              19            18            \n",
       "21  11              9               6              18            18            \n",
       "22  12              7               1              18            18            \n",
       "23   5             11               2              18            18            \n",
       "24   7             12               9              18            18            \n",
       "25   8              9               2              17            18            \n",
       "26  15             14               4              18            18            \n",
       "27  16             14              11              18            18            \n",
       "28   9              6               1              17            19            \n",
       "29  13              7               9              18            18            \n",
       "30  14             10               3              18            19            \n",
       "⋮   ⋮              ⋮               ⋮               ⋮             ⋮             \n",
       "134  8             11              7               14            14            \n",
       "135  8              6              0               14            13            \n",
       "136  8             10              7               14            14            \n",
       "137 11             13              6               14            14            \n",
       "138  9              7              8               14            14            \n",
       "139  9             11              1               14            14            \n",
       "140  8              9              3               14            13            \n",
       "141 10             13              6               14            14            \n",
       "142  7             12              7               14            13            \n",
       "143 10              7              7               14            14            \n",
       "144  6             10              5               14            14            \n",
       "145 10              9              1               14            14            \n",
       "146  9              8              2               14            14            \n",
       "147  9             13              7               14            14            \n",
       "148 11             10              7               14            14            \n",
       "149  6             13              7               14            14            \n",
       "150 11             13              7               14            14            \n",
       "151  2             10              4               14            14            \n",
       "152 11             12              5               14            14            \n",
       "153  7             13              7               14            14            \n",
       "154 10             13              8               14            14            \n",
       "155 10             12              8               14            14            \n",
       "156  7             10              4               14            13            \n",
       "157  6              7              2               16            13            \n",
       "158 11             13              8               14            14            \n",
       "159  9             11              2               14            14            \n",
       "160  3              5              5               14            13            \n",
       "161 10              9              4               14            14            \n",
       "162  4             12              8               15            14            \n",
       "163  8              5              7               14            14            \n",
       "    motif_AT_count left_AT_prop ⋯ rle_31 rle_32 rle_33 rle_34 rle_35 rle_max\n",
       "1   13             0.450        ⋯ 0      0      0      0      0      11     \n",
       "2   13             0.450        ⋯ 0      0      0      0      0       3     \n",
       "3   13             0.450        ⋯ 0      0      0      0      0      11     \n",
       "4   13             0.425        ⋯ 0      0      0      0      0       9     \n",
       "5   13             0.450        ⋯ 0      0      0      0      0       9     \n",
       "6   13             0.450        ⋯ 0      0      0      0      0      10     \n",
       "7   13             0.450        ⋯ 0      0      0      0      0       1     \n",
       "8   13             0.450        ⋯ 0      0      0      0      0      11     \n",
       "9   13             0.450        ⋯ 0      0      0      0      0       9     \n",
       "10  13             0.450        ⋯ 0      0      0      0      0      10     \n",
       "11  13             0.450        ⋯ 0      0      0      0      0      12     \n",
       "12  13             0.450        ⋯ 0      0      0      0      0      11     \n",
       "13  13             0.450        ⋯ 0      0      0      0      0       5     \n",
       "14  13             0.450        ⋯ 0      0      0      0      0      11     \n",
       "15  13             0.450        ⋯ 0      0      0      0      0       9     \n",
       "16  13             0.450        ⋯ 0      0      0      0      0      11     \n",
       "17  13             0.450        ⋯ 0      0      0      0      0      11     \n",
       "18  13             0.450        ⋯ 0      0      0      0      0       3     \n",
       "19  13             0.425        ⋯ 0      0      0      0      0       9     \n",
       "20  13             0.475        ⋯ 0      0      0      0      0      11     \n",
       "21  13             0.450        ⋯ 0      0      0      0      0       4     \n",
       "22  13             0.450        ⋯ 0      0      0      0      0      11     \n",
       "23  13             0.450        ⋯ 0      0      0      0      0      11     \n",
       "24  13             0.450        ⋯ 0      0      0      0      0       3     \n",
       "25  13             0.425        ⋯ 0      0      0      0      0      10     \n",
       "26  13             0.450        ⋯ 0      0      0      0      0       9     \n",
       "27  13             0.450        ⋯ 0      0      0      0      0       2     \n",
       "28  12             0.425        ⋯ 0      0      0      0      0      10     \n",
       "29  13             0.450        ⋯ 0      0      0      0      0       2     \n",
       "30  12             0.450        ⋯ 0      0      0      0      0       8     \n",
       "⋮   ⋮              ⋮            ⋱ ⋮      ⋮      ⋮      ⋮      ⋮      ⋮      \n",
       "134 8              0.350        ⋯ 0      0      0      0      0      1      \n",
       "135 8              0.350        ⋯ 0      0      0      0      0      8      \n",
       "136 8              0.350        ⋯ 0      0      0      0      0      1      \n",
       "137 8              0.350        ⋯ 0      0      0      0      0      1      \n",
       "138 8              0.350        ⋯ 0      0      0      0      0      0      \n",
       "139 8              0.350        ⋯ 0      0      0      0      0      7      \n",
       "140 9              0.350        ⋯ 0      0      0      0      0      6      \n",
       "141 8              0.350        ⋯ 0      0      0      0      0      1      \n",
       "142 8              0.350        ⋯ 0      0      0      0      0      1      \n",
       "143 8              0.350        ⋯ 0      0      0      0      0      1      \n",
       "144 8              0.350        ⋯ 0      0      0      0      0      2      \n",
       "145 8              0.350        ⋯ 0      0      0      0      0      6      \n",
       "146 8              0.350        ⋯ 0      0      0      0      0      6      \n",
       "147 8              0.350        ⋯ 0      0      0      0      0      1      \n",
       "148 8              0.350        ⋯ 0      0      0      0      0      1      \n",
       "149 8              0.350        ⋯ 0      0      0      0      0      1      \n",
       "150 8              0.350        ⋯ 0      0      0      0      0      1      \n",
       "151 8              0.350        ⋯ 0      0      0      0      0      3      \n",
       "152 8              0.350        ⋯ 0      0      0      0      0      2      \n",
       "153 8              0.350        ⋯ 0      0      0      0      0      1      \n",
       "154 8              0.350        ⋯ 0      0      0      0      0      0      \n",
       "155 8              0.350        ⋯ 0      0      0      0      0      0      \n",
       "156 8              0.350        ⋯ 0      0      0      0      0      2      \n",
       "157 8              0.400        ⋯ 0      0      0      0      0      6      \n",
       "158 8              0.350        ⋯ 0      0      0      0      0      0      \n",
       "159 8              0.350        ⋯ 0      0      0      0      0      6      \n",
       "160 8              0.350        ⋯ 0      0      0      0      0      2      \n",
       "161 8              0.350        ⋯ 0      0      0      0      0      3      \n",
       "162 8              0.375        ⋯ 0      0      0      0      0      0      \n",
       "163 8              0.350        ⋯ 0      0      0      0      0      1      \n",
       "    Peptide Proteins scannr data_set\n",
       "1    2       2        2     Positive\n",
       "2    3       3        3     Positive\n",
       "3    4       4        4     Positive\n",
       "4    5       5        5     Positive\n",
       "5    6       6        6     Positive\n",
       "6    7       7        7     Positive\n",
       "7    8       8        8     Positive\n",
       "8    9       9        9     Positive\n",
       "9   10      10       10     Positive\n",
       "10  11      11       11     Positive\n",
       "11  12      12       12     Positive\n",
       "12  13      13       13     Positive\n",
       "13  14      14       14     Positive\n",
       "14  15      15       15     Positive\n",
       "15  16      16       16     Positive\n",
       "16  17      17       17     Positive\n",
       "17  18      18       18     Positive\n",
       "18  19      19       19     Positive\n",
       "19  20      20       20     Positive\n",
       "20  21      21       21     Positive\n",
       "21  22      22       22     Positive\n",
       "22  23      23       23     Positive\n",
       "23  24      24       24     Positive\n",
       "24  25      25       25     Positive\n",
       "25  26      26       26     Positive\n",
       "26  27      27       27     Positive\n",
       "27  28      28       28     Positive\n",
       "28  29      29       29     Positive\n",
       "29  30      30       30     Positive\n",
       "30  31      31       31     Positive\n",
       "⋮   ⋮       ⋮        ⋮      ⋮       \n",
       "134 135     135      135    Positive\n",
       "135 136     136      136    Positive\n",
       "136 137     137      137    Positive\n",
       "137 138     138      138    Positive\n",
       "138 139     139      139    Positive\n",
       "139 140     140      140    Positive\n",
       "140 141     141      141    Positive\n",
       "141 142     142      142    Positive\n",
       "142 143     143      143    Positive\n",
       "143 144     144      144    Positive\n",
       "144 145     145      145    Positive\n",
       "145 146     146      146    Positive\n",
       "146 147     147      147    Positive\n",
       "147 148     148      148    Positive\n",
       "148 149     149      149    Positive\n",
       "149 150     150      150    Positive\n",
       "150 151     151      151    Positive\n",
       "151 152     152      152    Positive\n",
       "152 153     153      153    Positive\n",
       "153 154     154      154    Positive\n",
       "154 155     155      155    Positive\n",
       "155 156     156      156    Positive\n",
       "156 157     157      157    Positive\n",
       "157 158     158      158    Positive\n",
       "158 159     159      159    Positive\n",
       "159 160     160      160    Positive\n",
       "160 161     161      161    Positive\n",
       "161 162     162      162    Positive\n",
       "162 163     163      163    Positive\n",
       "163 164     164      164    Positive"
      ]
     },
     "metadata": {},
     "output_type": "display_data"
    }
   ],
   "source": [
    "d[match(features, names(d))]"
   ]
  },
  {
   "cell_type": "code",
   "execution_count": 294,
   "id": "91592db0",
   "metadata": {},
   "outputs": [
    {
     "data": {
      "text/plain": [
       "   Min. 1st Qu.  Median    Mean 3rd Qu.    Max. \n",
       "  0.000   2.000   3.000   5.269   8.000  27.000 "
      ]
     },
     "metadata": {},
     "output_type": "display_data"
    }
   ],
   "source": [
    "summary(d$rle_max)"
   ]
  },
  {
   "cell_type": "code",
   "execution_count": 319,
   "id": "fe30ef4e",
   "metadata": {},
   "outputs": [],
   "source": [
    "#names(d_feat)[str_detect(colnames(d_feat), \"prop\")]\n",
    "d_prop <- d_feat %>% select(all_of(names(d_feat)[str_detect(colnames(d_feat), \"prop\")]))"
   ]
  },
  {
   "cell_type": "code",
   "execution_count": 322,
   "id": "1ca36933",
   "metadata": {
    "collapsed": true
   },
   "outputs": [
    {
     "data": {
      "text/html": [
       "<style>\n",
       ".dl-inline {width: auto; margin:0; padding: 0}\n",
       ".dl-inline>dt, .dl-inline>dd {float: none; width: auto; display: inline-block}\n",
       ".dl-inline>dt::after {content: \":\\0020\"; padding-right: .5ex}\n",
       ".dl-inline>dt:not(:first-of-type) {padding-left: .5ex}\n",
       "</style><dl class=dl-inline><dt>left_AT_prop</dt><dd>1</dd><dt>right_AT_prop</dt><dd>0.975</dd><dt>motif_AT_prop</dt><dd>0.7714286</dd><dt>left_m6a_prop</dt><dd>4.3636365</dd><dt>right_m6a_prop</dt><dd>7.076923</dd><dt>motif_m6a_prop</dt><dd>7.5</dd><dt>total_m6a_prop</dt><dd>3.2903225</dd><dt>AAA_m6a_prop</dt><dd>1</dd><dt>AAC_m6a_prop</dt><dd>1</dd><dt>AAG_m6a_prop</dt><dd>1.25</dd><dt>AAT_m6a_prop</dt><dd>1</dd><dt>ACA_m6a_prop</dt><dd>1.5</dd><dt>ACC_m6a_prop</dt><dd>1</dd><dt>ACG_m6a_prop</dt><dd>1</dd><dt>ACT_m6a_prop</dt><dd>1</dd><dt>AGA_m6a_prop</dt><dd>1.5</dd><dt>AGC_m6a_prop</dt><dd>2</dd><dt>AGG_m6a_prop</dt><dd>2</dd><dt>AGT_m6a_prop</dt><dd>1.5</dd><dt>ATA_m6a_prop</dt><dd>1</dd><dt>ATC_m6a_prop</dt><dd>1</dd><dt>ATG_m6a_prop</dt><dd>1</dd><dt>ATT_m6a_prop</dt><dd>1</dd><dt>CAA_m6a_prop</dt><dd>1</dd><dt>CAC_m6a_prop</dt><dd>2</dd><dt>CAG_m6a_prop</dt><dd>3</dd><dt>CAT_m6a_prop</dt><dd>1</dd><dt>CCA_m6a_prop</dt><dd>2</dd><dt>CCT_m6a_prop</dt><dd>2</dd><dt>CGA_m6a_prop</dt><dd>2</dd><dt>CGT_m6a_prop</dt><dd>2</dd><dt>CTA_m6a_prop</dt><dd>1</dd><dt>CTC_m6a_prop</dt><dd>3</dd><dt>CTG_m6a_prop</dt><dd>2</dd><dt>CTT_m6a_prop</dt><dd>1.5</dd><dt>GAA_m6a_prop</dt><dd>1.5</dd><dt>GAC_m6a_prop</dt><dd>3</dd><dt>GAG_m6a_prop</dt><dd>2</dd><dt>GAT_m6a_prop</dt><dd>1</dd><dt>GCA_m6a_prop</dt><dd>2</dd><dt>GCT_m6a_prop</dt><dd>3</dd><dt>GGA_m6a_prop</dt><dd>2</dd><dt>GGT_m6a_prop</dt><dd>2</dd><dt>GTA_m6a_prop</dt><dd>1.5</dd><dt>GTC_m6a_prop</dt><dd>2</dd><dt>GTG_m6a_prop</dt><dd>2</dd><dt>GTT_m6a_prop</dt><dd>1</dd><dt>TAA_m6a_prop</dt><dd>1</dd><dt>TAC_m6a_prop</dt><dd>1</dd><dt>TAG_m6a_prop</dt><dd>1.5</dd><dt>TAT_m6a_prop</dt><dd>1</dd><dt>TCA_m6a_prop</dt><dd>1</dd><dt>TCC_m6a_prop</dt><dd>2</dd><dt>TCG_m6a_prop</dt><dd>2</dd><dt>TCT_m6a_prop</dt><dd>1.5</dd><dt>TGA_m6a_prop</dt><dd>1.5</dd><dt>TGC_m6a_prop</dt><dd>3</dd><dt>TGG_m6a_prop</dt><dd>2</dd><dt>TGT_m6a_prop</dt><dd>1.5</dd><dt>TTA_m6a_prop</dt><dd>1</dd><dt>TTC_m6a_prop</dt><dd>1.5</dd><dt>TTG_m6a_prop</dt><dd>1.25</dd><dt>TTT_m6a_prop</dt><dd>1</dd></dl>\n"
      ],
      "text/latex": [
       "\\begin{description*}\n",
       "\\item[left\\textbackslash{}\\_AT\\textbackslash{}\\_prop] 1\n",
       "\\item[right\\textbackslash{}\\_AT\\textbackslash{}\\_prop] 0.975\n",
       "\\item[motif\\textbackslash{}\\_AT\\textbackslash{}\\_prop] 0.7714286\n",
       "\\item[left\\textbackslash{}\\_m6a\\textbackslash{}\\_prop] 4.3636365\n",
       "\\item[right\\textbackslash{}\\_m6a\\textbackslash{}\\_prop] 7.076923\n",
       "\\item[motif\\textbackslash{}\\_m6a\\textbackslash{}\\_prop] 7.5\n",
       "\\item[total\\textbackslash{}\\_m6a\\textbackslash{}\\_prop] 3.2903225\n",
       "\\item[AAA\\textbackslash{}\\_m6a\\textbackslash{}\\_prop] 1\n",
       "\\item[AAC\\textbackslash{}\\_m6a\\textbackslash{}\\_prop] 1\n",
       "\\item[AAG\\textbackslash{}\\_m6a\\textbackslash{}\\_prop] 1.25\n",
       "\\item[AAT\\textbackslash{}\\_m6a\\textbackslash{}\\_prop] 1\n",
       "\\item[ACA\\textbackslash{}\\_m6a\\textbackslash{}\\_prop] 1.5\n",
       "\\item[ACC\\textbackslash{}\\_m6a\\textbackslash{}\\_prop] 1\n",
       "\\item[ACG\\textbackslash{}\\_m6a\\textbackslash{}\\_prop] 1\n",
       "\\item[ACT\\textbackslash{}\\_m6a\\textbackslash{}\\_prop] 1\n",
       "\\item[AGA\\textbackslash{}\\_m6a\\textbackslash{}\\_prop] 1.5\n",
       "\\item[AGC\\textbackslash{}\\_m6a\\textbackslash{}\\_prop] 2\n",
       "\\item[AGG\\textbackslash{}\\_m6a\\textbackslash{}\\_prop] 2\n",
       "\\item[AGT\\textbackslash{}\\_m6a\\textbackslash{}\\_prop] 1.5\n",
       "\\item[ATA\\textbackslash{}\\_m6a\\textbackslash{}\\_prop] 1\n",
       "\\item[ATC\\textbackslash{}\\_m6a\\textbackslash{}\\_prop] 1\n",
       "\\item[ATG\\textbackslash{}\\_m6a\\textbackslash{}\\_prop] 1\n",
       "\\item[ATT\\textbackslash{}\\_m6a\\textbackslash{}\\_prop] 1\n",
       "\\item[CAA\\textbackslash{}\\_m6a\\textbackslash{}\\_prop] 1\n",
       "\\item[CAC\\textbackslash{}\\_m6a\\textbackslash{}\\_prop] 2\n",
       "\\item[CAG\\textbackslash{}\\_m6a\\textbackslash{}\\_prop] 3\n",
       "\\item[CAT\\textbackslash{}\\_m6a\\textbackslash{}\\_prop] 1\n",
       "\\item[CCA\\textbackslash{}\\_m6a\\textbackslash{}\\_prop] 2\n",
       "\\item[CCT\\textbackslash{}\\_m6a\\textbackslash{}\\_prop] 2\n",
       "\\item[CGA\\textbackslash{}\\_m6a\\textbackslash{}\\_prop] 2\n",
       "\\item[CGT\\textbackslash{}\\_m6a\\textbackslash{}\\_prop] 2\n",
       "\\item[CTA\\textbackslash{}\\_m6a\\textbackslash{}\\_prop] 1\n",
       "\\item[CTC\\textbackslash{}\\_m6a\\textbackslash{}\\_prop] 3\n",
       "\\item[CTG\\textbackslash{}\\_m6a\\textbackslash{}\\_prop] 2\n",
       "\\item[CTT\\textbackslash{}\\_m6a\\textbackslash{}\\_prop] 1.5\n",
       "\\item[GAA\\textbackslash{}\\_m6a\\textbackslash{}\\_prop] 1.5\n",
       "\\item[GAC\\textbackslash{}\\_m6a\\textbackslash{}\\_prop] 3\n",
       "\\item[GAG\\textbackslash{}\\_m6a\\textbackslash{}\\_prop] 2\n",
       "\\item[GAT\\textbackslash{}\\_m6a\\textbackslash{}\\_prop] 1\n",
       "\\item[GCA\\textbackslash{}\\_m6a\\textbackslash{}\\_prop] 2\n",
       "\\item[GCT\\textbackslash{}\\_m6a\\textbackslash{}\\_prop] 3\n",
       "\\item[GGA\\textbackslash{}\\_m6a\\textbackslash{}\\_prop] 2\n",
       "\\item[GGT\\textbackslash{}\\_m6a\\textbackslash{}\\_prop] 2\n",
       "\\item[GTA\\textbackslash{}\\_m6a\\textbackslash{}\\_prop] 1.5\n",
       "\\item[GTC\\textbackslash{}\\_m6a\\textbackslash{}\\_prop] 2\n",
       "\\item[GTG\\textbackslash{}\\_m6a\\textbackslash{}\\_prop] 2\n",
       "\\item[GTT\\textbackslash{}\\_m6a\\textbackslash{}\\_prop] 1\n",
       "\\item[TAA\\textbackslash{}\\_m6a\\textbackslash{}\\_prop] 1\n",
       "\\item[TAC\\textbackslash{}\\_m6a\\textbackslash{}\\_prop] 1\n",
       "\\item[TAG\\textbackslash{}\\_m6a\\textbackslash{}\\_prop] 1.5\n",
       "\\item[TAT\\textbackslash{}\\_m6a\\textbackslash{}\\_prop] 1\n",
       "\\item[TCA\\textbackslash{}\\_m6a\\textbackslash{}\\_prop] 1\n",
       "\\item[TCC\\textbackslash{}\\_m6a\\textbackslash{}\\_prop] 2\n",
       "\\item[TCG\\textbackslash{}\\_m6a\\textbackslash{}\\_prop] 2\n",
       "\\item[TCT\\textbackslash{}\\_m6a\\textbackslash{}\\_prop] 1.5\n",
       "\\item[TGA\\textbackslash{}\\_m6a\\textbackslash{}\\_prop] 1.5\n",
       "\\item[TGC\\textbackslash{}\\_m6a\\textbackslash{}\\_prop] 3\n",
       "\\item[TGG\\textbackslash{}\\_m6a\\textbackslash{}\\_prop] 2\n",
       "\\item[TGT\\textbackslash{}\\_m6a\\textbackslash{}\\_prop] 1.5\n",
       "\\item[TTA\\textbackslash{}\\_m6a\\textbackslash{}\\_prop] 1\n",
       "\\item[TTC\\textbackslash{}\\_m6a\\textbackslash{}\\_prop] 1.5\n",
       "\\item[TTG\\textbackslash{}\\_m6a\\textbackslash{}\\_prop] 1.25\n",
       "\\item[TTT\\textbackslash{}\\_m6a\\textbackslash{}\\_prop] 1\n",
       "\\end{description*}\n"
      ],
      "text/markdown": [
       "left_AT_prop\n",
       ":   1right_AT_prop\n",
       ":   0.975motif_AT_prop\n",
       ":   0.7714286left_m6a_prop\n",
       ":   4.3636365right_m6a_prop\n",
       ":   7.076923motif_m6a_prop\n",
       ":   7.5total_m6a_prop\n",
       ":   3.2903225AAA_m6a_prop\n",
       ":   1AAC_m6a_prop\n",
       ":   1AAG_m6a_prop\n",
       ":   1.25AAT_m6a_prop\n",
       ":   1ACA_m6a_prop\n",
       ":   1.5ACC_m6a_prop\n",
       ":   1ACG_m6a_prop\n",
       ":   1ACT_m6a_prop\n",
       ":   1AGA_m6a_prop\n",
       ":   1.5AGC_m6a_prop\n",
       ":   2AGG_m6a_prop\n",
       ":   2AGT_m6a_prop\n",
       ":   1.5ATA_m6a_prop\n",
       ":   1ATC_m6a_prop\n",
       ":   1ATG_m6a_prop\n",
       ":   1ATT_m6a_prop\n",
       ":   1CAA_m6a_prop\n",
       ":   1CAC_m6a_prop\n",
       ":   2CAG_m6a_prop\n",
       ":   3CAT_m6a_prop\n",
       ":   1CCA_m6a_prop\n",
       ":   2CCT_m6a_prop\n",
       ":   2CGA_m6a_prop\n",
       ":   2CGT_m6a_prop\n",
       ":   2CTA_m6a_prop\n",
       ":   1CTC_m6a_prop\n",
       ":   3CTG_m6a_prop\n",
       ":   2CTT_m6a_prop\n",
       ":   1.5GAA_m6a_prop\n",
       ":   1.5GAC_m6a_prop\n",
       ":   3GAG_m6a_prop\n",
       ":   2GAT_m6a_prop\n",
       ":   1GCA_m6a_prop\n",
       ":   2GCT_m6a_prop\n",
       ":   3GGA_m6a_prop\n",
       ":   2GGT_m6a_prop\n",
       ":   2GTA_m6a_prop\n",
       ":   1.5GTC_m6a_prop\n",
       ":   2GTG_m6a_prop\n",
       ":   2GTT_m6a_prop\n",
       ":   1TAA_m6a_prop\n",
       ":   1TAC_m6a_prop\n",
       ":   1TAG_m6a_prop\n",
       ":   1.5TAT_m6a_prop\n",
       ":   1TCA_m6a_prop\n",
       ":   1TCC_m6a_prop\n",
       ":   2TCG_m6a_prop\n",
       ":   2TCT_m6a_prop\n",
       ":   1.5TGA_m6a_prop\n",
       ":   1.5TGC_m6a_prop\n",
       ":   3TGG_m6a_prop\n",
       ":   2TGT_m6a_prop\n",
       ":   1.5TTA_m6a_prop\n",
       ":   1TTC_m6a_prop\n",
       ":   1.5TTG_m6a_prop\n",
       ":   1.25TTT_m6a_prop\n",
       ":   1\n",
       "\n"
      ],
      "text/plain": [
       "  left_AT_prop  right_AT_prop  motif_AT_prop  left_m6a_prop right_m6a_prop \n",
       "     1.0000000      0.9750000      0.7714286      4.3636365      7.0769230 \n",
       "motif_m6a_prop total_m6a_prop   AAA_m6a_prop   AAC_m6a_prop   AAG_m6a_prop \n",
       "     7.5000000      3.2903225      1.0000000      1.0000000      1.2500000 \n",
       "  AAT_m6a_prop   ACA_m6a_prop   ACC_m6a_prop   ACG_m6a_prop   ACT_m6a_prop \n",
       "     1.0000000      1.5000000      1.0000000      1.0000000      1.0000000 \n",
       "  AGA_m6a_prop   AGC_m6a_prop   AGG_m6a_prop   AGT_m6a_prop   ATA_m6a_prop \n",
       "     1.5000000      2.0000000      2.0000000      1.5000000      1.0000000 \n",
       "  ATC_m6a_prop   ATG_m6a_prop   ATT_m6a_prop   CAA_m6a_prop   CAC_m6a_prop \n",
       "     1.0000000      1.0000000      1.0000000      1.0000000      2.0000000 \n",
       "  CAG_m6a_prop   CAT_m6a_prop   CCA_m6a_prop   CCT_m6a_prop   CGA_m6a_prop \n",
       "     3.0000000      1.0000000      2.0000000      2.0000000      2.0000000 \n",
       "  CGT_m6a_prop   CTA_m6a_prop   CTC_m6a_prop   CTG_m6a_prop   CTT_m6a_prop \n",
       "     2.0000000      1.0000000      3.0000000      2.0000000      1.5000000 \n",
       "  GAA_m6a_prop   GAC_m6a_prop   GAG_m6a_prop   GAT_m6a_prop   GCA_m6a_prop \n",
       "     1.5000000      3.0000000      2.0000000      1.0000000      2.0000000 \n",
       "  GCT_m6a_prop   GGA_m6a_prop   GGT_m6a_prop   GTA_m6a_prop   GTC_m6a_prop \n",
       "     3.0000000      2.0000000      2.0000000      1.5000000      2.0000000 \n",
       "  GTG_m6a_prop   GTT_m6a_prop   TAA_m6a_prop   TAC_m6a_prop   TAG_m6a_prop \n",
       "     2.0000000      1.0000000      1.0000000      1.0000000      1.5000000 \n",
       "  TAT_m6a_prop   TCA_m6a_prop   TCC_m6a_prop   TCG_m6a_prop   TCT_m6a_prop \n",
       "     1.0000000      1.0000000      2.0000000      2.0000000      1.5000000 \n",
       "  TGA_m6a_prop   TGC_m6a_prop   TGG_m6a_prop   TGT_m6a_prop   TTA_m6a_prop \n",
       "     1.5000000      3.0000000      2.0000000      1.5000000      1.0000000 \n",
       "  TTC_m6a_prop   TTG_m6a_prop   TTT_m6a_prop \n",
       "     1.5000000      1.2500000      1.0000000 "
      ]
     },
     "metadata": {},
     "output_type": "display_data"
    }
   ],
   "source": [
    "apply(d_prop, 2, max)"
   ]
  },
  {
   "cell_type": "code",
   "execution_count": 332,
   "id": "7e6b3ba8",
   "metadata": {},
   "outputs": [],
   "source": [
    "prop_stats = apply(d_prop, 2, my.summary)"
   ]
  },
  {
   "cell_type": "code",
   "execution_count": 334,
   "id": "3e52c7ab",
   "metadata": {},
   "outputs": [
    {
     "data": {
      "text/html": [
       "<table class=\"dataframe\">\n",
       "<caption>A matrix: 6 × 63 of type dbl</caption>\n",
       "<thead>\n",
       "\t<tr><th></th><th scope=col>left_AT_prop</th><th scope=col>right_AT_prop</th><th scope=col>motif_AT_prop</th><th scope=col>left_m6a_prop</th><th scope=col>right_m6a_prop</th><th scope=col>motif_m6a_prop</th><th scope=col>total_m6a_prop</th><th scope=col>AAA_m6a_prop</th><th scope=col>AAC_m6a_prop</th><th scope=col>AAG_m6a_prop</th><th scope=col>⋯</th><th scope=col>TCG_m6a_prop</th><th scope=col>TCT_m6a_prop</th><th scope=col>TGA_m6a_prop</th><th scope=col>TGC_m6a_prop</th><th scope=col>TGG_m6a_prop</th><th scope=col>TGT_m6a_prop</th><th scope=col>TTA_m6a_prop</th><th scope=col>TTC_m6a_prop</th><th scope=col>TTG_m6a_prop</th><th scope=col>TTT_m6a_prop</th></tr>\n",
       "</thead>\n",
       "<tbody>\n",
       "\t<tr><th scope=row>mean</th><td>4.822443e-01</td><td>4.731432e-01</td><td>4.187210e-01</td><td>4.162143e-01</td><td>4.349353e-01</td><td>5.245812e-01</td><td>2.473986e-01</td><td>4.992775e-02</td><td>9.643857e-02</td><td>1.673769e-01</td><td>⋯</td><td>1.189497e-01</td><td>2.123978e-01</td><td>1.834631e-01</td><td>2.839975e-01</td><td>3.789975e-01</td><td>2.136350e-01</td><td>3.643566e-02</td><td>1.316367e-01</td><td>1.251784e-01</td><td>5.387833e-02</td></tr>\n",
       "\t<tr><th scope=row>sd</th><td>1.297932e-01</td><td>1.273801e-01</td><td>1.015786e-01</td><td>2.875141e-01</td><td>2.865155e-01</td><td>3.003268e-01</td><td>1.122667e-01</td><td>1.792439e-01</td><td>2.529224e-01</td><td>3.308730e-01</td><td>⋯</td><td>3.208027e-01</td><td>3.805753e-01</td><td>3.370466e-01</td><td>4.352609e-01</td><td>4.652946e-01</td><td>3.766526e-01</td><td>1.424309e-01</td><td>3.027115e-01</td><td>2.800040e-01</td><td>1.849037e-01</td></tr>\n",
       "\t<tr><th scope=row>median</th><td>4.750000e-01</td><td>4.750000e-01</td><td>4.285714e-01</td><td>4.000000e-01</td><td>4.117647e-01</td><td>5.555556e-01</td><td>2.352941e-01</td><td>0.000000e+00</td><td>0.000000e+00</td><td>0.000000e+00</td><td>⋯</td><td>0.000000e+00</td><td>0.000000e+00</td><td>0.000000e+00</td><td>0.000000e+00</td><td>0.000000e+00</td><td>0.000000e+00</td><td>0.000000e+00</td><td>0.000000e+00</td><td>0.000000e+00</td><td>0.000000e+00</td></tr>\n",
       "\t<tr><th scope=row>min</th><td>2.500000e-02</td><td>0.000000e+00</td><td>0.000000e+00</td><td>0.000000e+00</td><td>0.000000e+00</td><td>0.000000e+00</td><td>1.408451e-02</td><td>0.000000e+00</td><td>0.000000e+00</td><td>0.000000e+00</td><td>⋯</td><td>0.000000e+00</td><td>0.000000e+00</td><td>0.000000e+00</td><td>0.000000e+00</td><td>0.000000e+00</td><td>0.000000e+00</td><td>0.000000e+00</td><td>0.000000e+00</td><td>0.000000e+00</td><td>0.000000e+00</td></tr>\n",
       "\t<tr><th scope=row>max</th><td>1.000000e+00</td><td>9.750000e-01</td><td>7.714286e-01</td><td>4.363637e+00</td><td>7.076923e+00</td><td>7.500000e+00</td><td>3.290322e+00</td><td>1.000000e+00</td><td>1.000000e+00</td><td>1.250000e+00</td><td>⋯</td><td>2.000000e+00</td><td>1.500000e+00</td><td>1.500000e+00</td><td>3.000000e+00</td><td>2.000000e+00</td><td>1.500000e+00</td><td>1.000000e+00</td><td>1.500000e+00</td><td>1.250000e+00</td><td>1.000000e+00</td></tr>\n",
       "\t<tr><th scope=row>n</th><td>5.698910e+05</td><td>5.698910e+05</td><td>5.698910e+05</td><td>5.698910e+05</td><td>5.698910e+05</td><td>5.698910e+05</td><td>5.698910e+05</td><td>5.698910e+05</td><td>5.698910e+05</td><td>5.698910e+05</td><td>⋯</td><td>5.698910e+05</td><td>5.698910e+05</td><td>5.698910e+05</td><td>5.698910e+05</td><td>5.698910e+05</td><td>5.698910e+05</td><td>5.698910e+05</td><td>5.698910e+05</td><td>5.698910e+05</td><td>5.698910e+05</td></tr>\n",
       "</tbody>\n",
       "</table>\n"
      ],
      "text/latex": [
       "A matrix: 6 × 63 of type dbl\n",
       "\\begin{tabular}{r|lllllllllllllllllllll}\n",
       "  & left\\_AT\\_prop & right\\_AT\\_prop & motif\\_AT\\_prop & left\\_m6a\\_prop & right\\_m6a\\_prop & motif\\_m6a\\_prop & total\\_m6a\\_prop & AAA\\_m6a\\_prop & AAC\\_m6a\\_prop & AAG\\_m6a\\_prop & ⋯ & TCG\\_m6a\\_prop & TCT\\_m6a\\_prop & TGA\\_m6a\\_prop & TGC\\_m6a\\_prop & TGG\\_m6a\\_prop & TGT\\_m6a\\_prop & TTA\\_m6a\\_prop & TTC\\_m6a\\_prop & TTG\\_m6a\\_prop & TTT\\_m6a\\_prop\\\\\n",
       "\\hline\n",
       "\tmean & 4.822443e-01 & 4.731432e-01 & 4.187210e-01 & 4.162143e-01 & 4.349353e-01 & 5.245812e-01 & 2.473986e-01 & 4.992775e-02 & 9.643857e-02 & 1.673769e-01 & ⋯ & 1.189497e-01 & 2.123978e-01 & 1.834631e-01 & 2.839975e-01 & 3.789975e-01 & 2.136350e-01 & 3.643566e-02 & 1.316367e-01 & 1.251784e-01 & 5.387833e-02\\\\\n",
       "\tsd & 1.297932e-01 & 1.273801e-01 & 1.015786e-01 & 2.875141e-01 & 2.865155e-01 & 3.003268e-01 & 1.122667e-01 & 1.792439e-01 & 2.529224e-01 & 3.308730e-01 & ⋯ & 3.208027e-01 & 3.805753e-01 & 3.370466e-01 & 4.352609e-01 & 4.652946e-01 & 3.766526e-01 & 1.424309e-01 & 3.027115e-01 & 2.800040e-01 & 1.849037e-01\\\\\n",
       "\tmedian & 4.750000e-01 & 4.750000e-01 & 4.285714e-01 & 4.000000e-01 & 4.117647e-01 & 5.555556e-01 & 2.352941e-01 & 0.000000e+00 & 0.000000e+00 & 0.000000e+00 & ⋯ & 0.000000e+00 & 0.000000e+00 & 0.000000e+00 & 0.000000e+00 & 0.000000e+00 & 0.000000e+00 & 0.000000e+00 & 0.000000e+00 & 0.000000e+00 & 0.000000e+00\\\\\n",
       "\tmin & 2.500000e-02 & 0.000000e+00 & 0.000000e+00 & 0.000000e+00 & 0.000000e+00 & 0.000000e+00 & 1.408451e-02 & 0.000000e+00 & 0.000000e+00 & 0.000000e+00 & ⋯ & 0.000000e+00 & 0.000000e+00 & 0.000000e+00 & 0.000000e+00 & 0.000000e+00 & 0.000000e+00 & 0.000000e+00 & 0.000000e+00 & 0.000000e+00 & 0.000000e+00\\\\\n",
       "\tmax & 1.000000e+00 & 9.750000e-01 & 7.714286e-01 & 4.363637e+00 & 7.076923e+00 & 7.500000e+00 & 3.290322e+00 & 1.000000e+00 & 1.000000e+00 & 1.250000e+00 & ⋯ & 2.000000e+00 & 1.500000e+00 & 1.500000e+00 & 3.000000e+00 & 2.000000e+00 & 1.500000e+00 & 1.000000e+00 & 1.500000e+00 & 1.250000e+00 & 1.000000e+00\\\\\n",
       "\tn & 5.698910e+05 & 5.698910e+05 & 5.698910e+05 & 5.698910e+05 & 5.698910e+05 & 5.698910e+05 & 5.698910e+05 & 5.698910e+05 & 5.698910e+05 & 5.698910e+05 & ⋯ & 5.698910e+05 & 5.698910e+05 & 5.698910e+05 & 5.698910e+05 & 5.698910e+05 & 5.698910e+05 & 5.698910e+05 & 5.698910e+05 & 5.698910e+05 & 5.698910e+05\\\\\n",
       "\\end{tabular}\n"
      ],
      "text/markdown": [
       "\n",
       "A matrix: 6 × 63 of type dbl\n",
       "\n",
       "| <!--/--> | left_AT_prop | right_AT_prop | motif_AT_prop | left_m6a_prop | right_m6a_prop | motif_m6a_prop | total_m6a_prop | AAA_m6a_prop | AAC_m6a_prop | AAG_m6a_prop | ⋯ | TCG_m6a_prop | TCT_m6a_prop | TGA_m6a_prop | TGC_m6a_prop | TGG_m6a_prop | TGT_m6a_prop | TTA_m6a_prop | TTC_m6a_prop | TTG_m6a_prop | TTT_m6a_prop |\n",
       "|---|---|---|---|---|---|---|---|---|---|---|---|---|---|---|---|---|---|---|---|---|---|\n",
       "| mean | 4.822443e-01 | 4.731432e-01 | 4.187210e-01 | 4.162143e-01 | 4.349353e-01 | 5.245812e-01 | 2.473986e-01 | 4.992775e-02 | 9.643857e-02 | 1.673769e-01 | ⋯ | 1.189497e-01 | 2.123978e-01 | 1.834631e-01 | 2.839975e-01 | 3.789975e-01 | 2.136350e-01 | 3.643566e-02 | 1.316367e-01 | 1.251784e-01 | 5.387833e-02 |\n",
       "| sd | 1.297932e-01 | 1.273801e-01 | 1.015786e-01 | 2.875141e-01 | 2.865155e-01 | 3.003268e-01 | 1.122667e-01 | 1.792439e-01 | 2.529224e-01 | 3.308730e-01 | ⋯ | 3.208027e-01 | 3.805753e-01 | 3.370466e-01 | 4.352609e-01 | 4.652946e-01 | 3.766526e-01 | 1.424309e-01 | 3.027115e-01 | 2.800040e-01 | 1.849037e-01 |\n",
       "| median | 4.750000e-01 | 4.750000e-01 | 4.285714e-01 | 4.000000e-01 | 4.117647e-01 | 5.555556e-01 | 2.352941e-01 | 0.000000e+00 | 0.000000e+00 | 0.000000e+00 | ⋯ | 0.000000e+00 | 0.000000e+00 | 0.000000e+00 | 0.000000e+00 | 0.000000e+00 | 0.000000e+00 | 0.000000e+00 | 0.000000e+00 | 0.000000e+00 | 0.000000e+00 |\n",
       "| min | 2.500000e-02 | 0.000000e+00 | 0.000000e+00 | 0.000000e+00 | 0.000000e+00 | 0.000000e+00 | 1.408451e-02 | 0.000000e+00 | 0.000000e+00 | 0.000000e+00 | ⋯ | 0.000000e+00 | 0.000000e+00 | 0.000000e+00 | 0.000000e+00 | 0.000000e+00 | 0.000000e+00 | 0.000000e+00 | 0.000000e+00 | 0.000000e+00 | 0.000000e+00 |\n",
       "| max | 1.000000e+00 | 9.750000e-01 | 7.714286e-01 | 4.363637e+00 | 7.076923e+00 | 7.500000e+00 | 3.290322e+00 | 1.000000e+00 | 1.000000e+00 | 1.250000e+00 | ⋯ | 2.000000e+00 | 1.500000e+00 | 1.500000e+00 | 3.000000e+00 | 2.000000e+00 | 1.500000e+00 | 1.000000e+00 | 1.500000e+00 | 1.250000e+00 | 1.000000e+00 |\n",
       "| n | 5.698910e+05 | 5.698910e+05 | 5.698910e+05 | 5.698910e+05 | 5.698910e+05 | 5.698910e+05 | 5.698910e+05 | 5.698910e+05 | 5.698910e+05 | 5.698910e+05 | ⋯ | 5.698910e+05 | 5.698910e+05 | 5.698910e+05 | 5.698910e+05 | 5.698910e+05 | 5.698910e+05 | 5.698910e+05 | 5.698910e+05 | 5.698910e+05 | 5.698910e+05 |\n",
       "\n"
      ],
      "text/plain": [
       "       left_AT_prop right_AT_prop motif_AT_prop left_m6a_prop right_m6a_prop\n",
       "mean   4.822443e-01 4.731432e-01  4.187210e-01  4.162143e-01  4.349353e-01  \n",
       "sd     1.297932e-01 1.273801e-01  1.015786e-01  2.875141e-01  2.865155e-01  \n",
       "median 4.750000e-01 4.750000e-01  4.285714e-01  4.000000e-01  4.117647e-01  \n",
       "min    2.500000e-02 0.000000e+00  0.000000e+00  0.000000e+00  0.000000e+00  \n",
       "max    1.000000e+00 9.750000e-01  7.714286e-01  4.363637e+00  7.076923e+00  \n",
       "n      5.698910e+05 5.698910e+05  5.698910e+05  5.698910e+05  5.698910e+05  \n",
       "       motif_m6a_prop total_m6a_prop AAA_m6a_prop AAC_m6a_prop AAG_m6a_prop ⋯\n",
       "mean   5.245812e-01   2.473986e-01   4.992775e-02 9.643857e-02 1.673769e-01 ⋯\n",
       "sd     3.003268e-01   1.122667e-01   1.792439e-01 2.529224e-01 3.308730e-01 ⋯\n",
       "median 5.555556e-01   2.352941e-01   0.000000e+00 0.000000e+00 0.000000e+00 ⋯\n",
       "min    0.000000e+00   1.408451e-02   0.000000e+00 0.000000e+00 0.000000e+00 ⋯\n",
       "max    7.500000e+00   3.290322e+00   1.000000e+00 1.000000e+00 1.250000e+00 ⋯\n",
       "n      5.698910e+05   5.698910e+05   5.698910e+05 5.698910e+05 5.698910e+05 ⋯\n",
       "       TCG_m6a_prop TCT_m6a_prop TGA_m6a_prop TGC_m6a_prop TGG_m6a_prop\n",
       "mean   1.189497e-01 2.123978e-01 1.834631e-01 2.839975e-01 3.789975e-01\n",
       "sd     3.208027e-01 3.805753e-01 3.370466e-01 4.352609e-01 4.652946e-01\n",
       "median 0.000000e+00 0.000000e+00 0.000000e+00 0.000000e+00 0.000000e+00\n",
       "min    0.000000e+00 0.000000e+00 0.000000e+00 0.000000e+00 0.000000e+00\n",
       "max    2.000000e+00 1.500000e+00 1.500000e+00 3.000000e+00 2.000000e+00\n",
       "n      5.698910e+05 5.698910e+05 5.698910e+05 5.698910e+05 5.698910e+05\n",
       "       TGT_m6a_prop TTA_m6a_prop TTC_m6a_prop TTG_m6a_prop TTT_m6a_prop\n",
       "mean   2.136350e-01 3.643566e-02 1.316367e-01 1.251784e-01 5.387833e-02\n",
       "sd     3.766526e-01 1.424309e-01 3.027115e-01 2.800040e-01 1.849037e-01\n",
       "median 0.000000e+00 0.000000e+00 0.000000e+00 0.000000e+00 0.000000e+00\n",
       "min    0.000000e+00 0.000000e+00 0.000000e+00 0.000000e+00 0.000000e+00\n",
       "max    1.500000e+00 1.000000e+00 1.500000e+00 1.250000e+00 1.000000e+00\n",
       "n      5.698910e+05 5.698910e+05 5.698910e+05 5.698910e+05 5.698910e+05"
      ]
     },
     "metadata": {},
     "output_type": "display_data"
    }
   ],
   "source": [
    "prop_stats"
   ]
  },
  {
   "cell_type": "code",
   "execution_count": 337,
   "id": "f30b5125",
   "metadata": {},
   "outputs": [],
   "source": [
    "# turn off scientific\n",
    "options(scipen=999)"
   ]
  },
  {
   "cell_type": "code",
   "execution_count": 342,
   "id": "fd0c08ed",
   "metadata": {},
   "outputs": [
    {
     "data": {
      "text/html": [
       "<style>\n",
       ".list-inline {list-style: none; margin:0; padding: 0}\n",
       ".list-inline>li {display: inline-block}\n",
       ".list-inline>li:not(:last-child)::after {content: \"\\00b7\"; padding: 0 .5ex}\n",
       "</style>\n",
       "<ol class=list-inline><li>'left_m6a_prop'</li><li>'right_m6a_prop'</li><li>'motif_m6a_prop'</li><li>'total_m6a_prop'</li><li>'AAG_m6a_prop'</li><li>'ACA_m6a_prop'</li><li>'AGA_m6a_prop'</li><li>'AGC_m6a_prop'</li><li>'AGG_m6a_prop'</li><li>'AGT_m6a_prop'</li><li>'CAC_m6a_prop'</li><li>'CAG_m6a_prop'</li><li>'CCA_m6a_prop'</li><li>'CCT_m6a_prop'</li><li>'CGA_m6a_prop'</li><li>'CGT_m6a_prop'</li><li>'CTC_m6a_prop'</li><li>'CTG_m6a_prop'</li><li>'CTT_m6a_prop'</li><li>'GAA_m6a_prop'</li><li>'GAC_m6a_prop'</li><li>'GAG_m6a_prop'</li><li>'GCA_m6a_prop'</li><li>'GCT_m6a_prop'</li><li>'GGA_m6a_prop'</li><li>'GGT_m6a_prop'</li><li>'GTA_m6a_prop'</li><li>'GTC_m6a_prop'</li><li>'GTG_m6a_prop'</li><li>'TAG_m6a_prop'</li><li>'TCC_m6a_prop'</li><li>'TCG_m6a_prop'</li><li>'TCT_m6a_prop'</li><li>'TGA_m6a_prop'</li><li>'TGC_m6a_prop'</li><li>'TGG_m6a_prop'</li><li>'TGT_m6a_prop'</li><li>'TTC_m6a_prop'</li><li>'TTG_m6a_prop'</li></ol>\n"
      ],
      "text/latex": [
       "\\begin{enumerate*}\n",
       "\\item 'left\\_m6a\\_prop'\n",
       "\\item 'right\\_m6a\\_prop'\n",
       "\\item 'motif\\_m6a\\_prop'\n",
       "\\item 'total\\_m6a\\_prop'\n",
       "\\item 'AAG\\_m6a\\_prop'\n",
       "\\item 'ACA\\_m6a\\_prop'\n",
       "\\item 'AGA\\_m6a\\_prop'\n",
       "\\item 'AGC\\_m6a\\_prop'\n",
       "\\item 'AGG\\_m6a\\_prop'\n",
       "\\item 'AGT\\_m6a\\_prop'\n",
       "\\item 'CAC\\_m6a\\_prop'\n",
       "\\item 'CAG\\_m6a\\_prop'\n",
       "\\item 'CCA\\_m6a\\_prop'\n",
       "\\item 'CCT\\_m6a\\_prop'\n",
       "\\item 'CGA\\_m6a\\_prop'\n",
       "\\item 'CGT\\_m6a\\_prop'\n",
       "\\item 'CTC\\_m6a\\_prop'\n",
       "\\item 'CTG\\_m6a\\_prop'\n",
       "\\item 'CTT\\_m6a\\_prop'\n",
       "\\item 'GAA\\_m6a\\_prop'\n",
       "\\item 'GAC\\_m6a\\_prop'\n",
       "\\item 'GAG\\_m6a\\_prop'\n",
       "\\item 'GCA\\_m6a\\_prop'\n",
       "\\item 'GCT\\_m6a\\_prop'\n",
       "\\item 'GGA\\_m6a\\_prop'\n",
       "\\item 'GGT\\_m6a\\_prop'\n",
       "\\item 'GTA\\_m6a\\_prop'\n",
       "\\item 'GTC\\_m6a\\_prop'\n",
       "\\item 'GTG\\_m6a\\_prop'\n",
       "\\item 'TAG\\_m6a\\_prop'\n",
       "\\item 'TCC\\_m6a\\_prop'\n",
       "\\item 'TCG\\_m6a\\_prop'\n",
       "\\item 'TCT\\_m6a\\_prop'\n",
       "\\item 'TGA\\_m6a\\_prop'\n",
       "\\item 'TGC\\_m6a\\_prop'\n",
       "\\item 'TGG\\_m6a\\_prop'\n",
       "\\item 'TGT\\_m6a\\_prop'\n",
       "\\item 'TTC\\_m6a\\_prop'\n",
       "\\item 'TTG\\_m6a\\_prop'\n",
       "\\end{enumerate*}\n"
      ],
      "text/markdown": [
       "1. 'left_m6a_prop'\n",
       "2. 'right_m6a_prop'\n",
       "3. 'motif_m6a_prop'\n",
       "4. 'total_m6a_prop'\n",
       "5. 'AAG_m6a_prop'\n",
       "6. 'ACA_m6a_prop'\n",
       "7. 'AGA_m6a_prop'\n",
       "8. 'AGC_m6a_prop'\n",
       "9. 'AGG_m6a_prop'\n",
       "10. 'AGT_m6a_prop'\n",
       "11. 'CAC_m6a_prop'\n",
       "12. 'CAG_m6a_prop'\n",
       "13. 'CCA_m6a_prop'\n",
       "14. 'CCT_m6a_prop'\n",
       "15. 'CGA_m6a_prop'\n",
       "16. 'CGT_m6a_prop'\n",
       "17. 'CTC_m6a_prop'\n",
       "18. 'CTG_m6a_prop'\n",
       "19. 'CTT_m6a_prop'\n",
       "20. 'GAA_m6a_prop'\n",
       "21. 'GAC_m6a_prop'\n",
       "22. 'GAG_m6a_prop'\n",
       "23. 'GCA_m6a_prop'\n",
       "24. 'GCT_m6a_prop'\n",
       "25. 'GGA_m6a_prop'\n",
       "26. 'GGT_m6a_prop'\n",
       "27. 'GTA_m6a_prop'\n",
       "28. 'GTC_m6a_prop'\n",
       "29. 'GTG_m6a_prop'\n",
       "30. 'TAG_m6a_prop'\n",
       "31. 'TCC_m6a_prop'\n",
       "32. 'TCG_m6a_prop'\n",
       "33. 'TCT_m6a_prop'\n",
       "34. 'TGA_m6a_prop'\n",
       "35. 'TGC_m6a_prop'\n",
       "36. 'TGG_m6a_prop'\n",
       "37. 'TGT_m6a_prop'\n",
       "38. 'TTC_m6a_prop'\n",
       "39. 'TTG_m6a_prop'\n",
       "\n",
       "\n"
      ],
      "text/plain": [
       " [1] \"left_m6a_prop\"  \"right_m6a_prop\" \"motif_m6a_prop\" \"total_m6a_prop\"\n",
       " [5] \"AAG_m6a_prop\"   \"ACA_m6a_prop\"   \"AGA_m6a_prop\"   \"AGC_m6a_prop\"  \n",
       " [9] \"AGG_m6a_prop\"   \"AGT_m6a_prop\"   \"CAC_m6a_prop\"   \"CAG_m6a_prop\"  \n",
       "[13] \"CCA_m6a_prop\"   \"CCT_m6a_prop\"   \"CGA_m6a_prop\"   \"CGT_m6a_prop\"  \n",
       "[17] \"CTC_m6a_prop\"   \"CTG_m6a_prop\"   \"CTT_m6a_prop\"   \"GAA_m6a_prop\"  \n",
       "[21] \"GAC_m6a_prop\"   \"GAG_m6a_prop\"   \"GCA_m6a_prop\"   \"GCT_m6a_prop\"  \n",
       "[25] \"GGA_m6a_prop\"   \"GGT_m6a_prop\"   \"GTA_m6a_prop\"   \"GTC_m6a_prop\"  \n",
       "[29] \"GTG_m6a_prop\"   \"TAG_m6a_prop\"   \"TCC_m6a_prop\"   \"TCG_m6a_prop\"  \n",
       "[33] \"TCT_m6a_prop\"   \"TGA_m6a_prop\"   \"TGC_m6a_prop\"   \"TGG_m6a_prop\"  \n",
       "[37] \"TGT_m6a_prop\"   \"TTC_m6a_prop\"   \"TTG_m6a_prop\"  "
      ]
     },
     "metadata": {},
     "output_type": "display_data"
    },
    {
     "data": {
      "text/html": [
       "<table class=\"dataframe\">\n",
       "<caption>A matrix: 6 × 39 of type dbl</caption>\n",
       "<thead>\n",
       "\t<tr><th></th><th scope=col>left_m6a_prop</th><th scope=col>right_m6a_prop</th><th scope=col>motif_m6a_prop</th><th scope=col>total_m6a_prop</th><th scope=col>AAG_m6a_prop</th><th scope=col>ACA_m6a_prop</th><th scope=col>AGA_m6a_prop</th><th scope=col>AGC_m6a_prop</th><th scope=col>AGG_m6a_prop</th><th scope=col>AGT_m6a_prop</th><th scope=col>⋯</th><th scope=col>TAG_m6a_prop</th><th scope=col>TCC_m6a_prop</th><th scope=col>TCG_m6a_prop</th><th scope=col>TCT_m6a_prop</th><th scope=col>TGA_m6a_prop</th><th scope=col>TGC_m6a_prop</th><th scope=col>TGG_m6a_prop</th><th scope=col>TGT_m6a_prop</th><th scope=col>TTC_m6a_prop</th><th scope=col>TTG_m6a_prop</th></tr>\n",
       "</thead>\n",
       "<tbody>\n",
       "\t<tr><th scope=row>mean</th><td>     0.4162143</td><td>     0.4349353</td><td>     0.5245812</td><td>     0.24739858</td><td>     0.1673769</td><td>     0.1907030</td><td>     0.2746523</td><td>     0.3043979</td><td>     0.3954806</td><td>     0.2146591</td><td>⋯</td><td>     0.1133848</td><td>     0.2727470</td><td>     0.1189497</td><td>     0.2123978</td><td>     0.1834631</td><td>     0.2839975</td><td>     0.3789975</td><td>     0.2136350</td><td>     0.1316367</td><td>     0.1251784</td></tr>\n",
       "\t<tr><th scope=row>sd</th><td>     0.2875141</td><td>     0.2865155</td><td>     0.3003268</td><td>     0.11226667</td><td>     0.3308730</td><td>     0.3633201</td><td>     0.4115444</td><td>     0.4474848</td><td>     0.4615245</td><td>     0.3614180</td><td>⋯</td><td>     0.2785363</td><td>     0.4346843</td><td>     0.3208027</td><td>     0.3805753</td><td>     0.3370466</td><td>     0.4352609</td><td>     0.4652946</td><td>     0.3766526</td><td>     0.3027115</td><td>     0.2800040</td></tr>\n",
       "\t<tr><th scope=row>median</th><td>     0.4000000</td><td>     0.4117647</td><td>     0.5555556</td><td>     0.23529412</td><td>     0.0000000</td><td>     0.0000000</td><td>     0.0000000</td><td>     0.0000000</td><td>     0.0000000</td><td>     0.0000000</td><td>⋯</td><td>     0.0000000</td><td>     0.0000000</td><td>     0.0000000</td><td>     0.0000000</td><td>     0.0000000</td><td>     0.0000000</td><td>     0.0000000</td><td>     0.0000000</td><td>     0.0000000</td><td>     0.0000000</td></tr>\n",
       "\t<tr><th scope=row>min</th><td>     0.0000000</td><td>     0.0000000</td><td>     0.0000000</td><td>     0.01408451</td><td>     0.0000000</td><td>     0.0000000</td><td>     0.0000000</td><td>     0.0000000</td><td>     0.0000000</td><td>     0.0000000</td><td>⋯</td><td>     0.0000000</td><td>     0.0000000</td><td>     0.0000000</td><td>     0.0000000</td><td>     0.0000000</td><td>     0.0000000</td><td>     0.0000000</td><td>     0.0000000</td><td>     0.0000000</td><td>     0.0000000</td></tr>\n",
       "\t<tr><th scope=row>max</th><td>     4.3636365</td><td>     7.0769230</td><td>     7.5000000</td><td>     3.29032250</td><td>     1.2500000</td><td>     1.5000000</td><td>     1.5000000</td><td>     2.0000000</td><td>     2.0000000</td><td>     1.5000000</td><td>⋯</td><td>     1.5000000</td><td>     2.0000000</td><td>     2.0000000</td><td>     1.5000000</td><td>     1.5000000</td><td>     3.0000000</td><td>     2.0000000</td><td>     1.5000000</td><td>     1.5000000</td><td>     1.2500000</td></tr>\n",
       "\t<tr><th scope=row>n</th><td>569891.0000000</td><td>569891.0000000</td><td>569891.0000000</td><td>569891.00000000</td><td>569891.0000000</td><td>569891.0000000</td><td>569891.0000000</td><td>569891.0000000</td><td>569891.0000000</td><td>569891.0000000</td><td>⋯</td><td>569891.0000000</td><td>569891.0000000</td><td>569891.0000000</td><td>569891.0000000</td><td>569891.0000000</td><td>569891.0000000</td><td>569891.0000000</td><td>569891.0000000</td><td>569891.0000000</td><td>569891.0000000</td></tr>\n",
       "</tbody>\n",
       "</table>\n"
      ],
      "text/latex": [
       "A matrix: 6 × 39 of type dbl\n",
       "\\begin{tabular}{r|lllllllllllllllllllll}\n",
       "  & left\\_m6a\\_prop & right\\_m6a\\_prop & motif\\_m6a\\_prop & total\\_m6a\\_prop & AAG\\_m6a\\_prop & ACA\\_m6a\\_prop & AGA\\_m6a\\_prop & AGC\\_m6a\\_prop & AGG\\_m6a\\_prop & AGT\\_m6a\\_prop & ⋯ & TAG\\_m6a\\_prop & TCC\\_m6a\\_prop & TCG\\_m6a\\_prop & TCT\\_m6a\\_prop & TGA\\_m6a\\_prop & TGC\\_m6a\\_prop & TGG\\_m6a\\_prop & TGT\\_m6a\\_prop & TTC\\_m6a\\_prop & TTG\\_m6a\\_prop\\\\\n",
       "\\hline\n",
       "\tmean &      0.4162143 &      0.4349353 &      0.5245812 &      0.24739858 &      0.1673769 &      0.1907030 &      0.2746523 &      0.3043979 &      0.3954806 &      0.2146591 & ⋯ &      0.1133848 &      0.2727470 &      0.1189497 &      0.2123978 &      0.1834631 &      0.2839975 &      0.3789975 &      0.2136350 &      0.1316367 &      0.1251784\\\\\n",
       "\tsd &      0.2875141 &      0.2865155 &      0.3003268 &      0.11226667 &      0.3308730 &      0.3633201 &      0.4115444 &      0.4474848 &      0.4615245 &      0.3614180 & ⋯ &      0.2785363 &      0.4346843 &      0.3208027 &      0.3805753 &      0.3370466 &      0.4352609 &      0.4652946 &      0.3766526 &      0.3027115 &      0.2800040\\\\\n",
       "\tmedian &      0.4000000 &      0.4117647 &      0.5555556 &      0.23529412 &      0.0000000 &      0.0000000 &      0.0000000 &      0.0000000 &      0.0000000 &      0.0000000 & ⋯ &      0.0000000 &      0.0000000 &      0.0000000 &      0.0000000 &      0.0000000 &      0.0000000 &      0.0000000 &      0.0000000 &      0.0000000 &      0.0000000\\\\\n",
       "\tmin &      0.0000000 &      0.0000000 &      0.0000000 &      0.01408451 &      0.0000000 &      0.0000000 &      0.0000000 &      0.0000000 &      0.0000000 &      0.0000000 & ⋯ &      0.0000000 &      0.0000000 &      0.0000000 &      0.0000000 &      0.0000000 &      0.0000000 &      0.0000000 &      0.0000000 &      0.0000000 &      0.0000000\\\\\n",
       "\tmax &      4.3636365 &      7.0769230 &      7.5000000 &      3.29032250 &      1.2500000 &      1.5000000 &      1.5000000 &      2.0000000 &      2.0000000 &      1.5000000 & ⋯ &      1.5000000 &      2.0000000 &      2.0000000 &      1.5000000 &      1.5000000 &      3.0000000 &      2.0000000 &      1.5000000 &      1.5000000 &      1.2500000\\\\\n",
       "\tn & 569891.0000000 & 569891.0000000 & 569891.0000000 & 569891.00000000 & 569891.0000000 & 569891.0000000 & 569891.0000000 & 569891.0000000 & 569891.0000000 & 569891.0000000 & ⋯ & 569891.0000000 & 569891.0000000 & 569891.0000000 & 569891.0000000 & 569891.0000000 & 569891.0000000 & 569891.0000000 & 569891.0000000 & 569891.0000000 & 569891.0000000\\\\\n",
       "\\end{tabular}\n"
      ],
      "text/markdown": [
       "\n",
       "A matrix: 6 × 39 of type dbl\n",
       "\n",
       "| <!--/--> | left_m6a_prop | right_m6a_prop | motif_m6a_prop | total_m6a_prop | AAG_m6a_prop | ACA_m6a_prop | AGA_m6a_prop | AGC_m6a_prop | AGG_m6a_prop | AGT_m6a_prop | ⋯ | TAG_m6a_prop | TCC_m6a_prop | TCG_m6a_prop | TCT_m6a_prop | TGA_m6a_prop | TGC_m6a_prop | TGG_m6a_prop | TGT_m6a_prop | TTC_m6a_prop | TTG_m6a_prop |\n",
       "|---|---|---|---|---|---|---|---|---|---|---|---|---|---|---|---|---|---|---|---|---|---|\n",
       "| mean |      0.4162143 |      0.4349353 |      0.5245812 |      0.24739858 |      0.1673769 |      0.1907030 |      0.2746523 |      0.3043979 |      0.3954806 |      0.2146591 | ⋯ |      0.1133848 |      0.2727470 |      0.1189497 |      0.2123978 |      0.1834631 |      0.2839975 |      0.3789975 |      0.2136350 |      0.1316367 |      0.1251784 |\n",
       "| sd |      0.2875141 |      0.2865155 |      0.3003268 |      0.11226667 |      0.3308730 |      0.3633201 |      0.4115444 |      0.4474848 |      0.4615245 |      0.3614180 | ⋯ |      0.2785363 |      0.4346843 |      0.3208027 |      0.3805753 |      0.3370466 |      0.4352609 |      0.4652946 |      0.3766526 |      0.3027115 |      0.2800040 |\n",
       "| median |      0.4000000 |      0.4117647 |      0.5555556 |      0.23529412 |      0.0000000 |      0.0000000 |      0.0000000 |      0.0000000 |      0.0000000 |      0.0000000 | ⋯ |      0.0000000 |      0.0000000 |      0.0000000 |      0.0000000 |      0.0000000 |      0.0000000 |      0.0000000 |      0.0000000 |      0.0000000 |      0.0000000 |\n",
       "| min |      0.0000000 |      0.0000000 |      0.0000000 |      0.01408451 |      0.0000000 |      0.0000000 |      0.0000000 |      0.0000000 |      0.0000000 |      0.0000000 | ⋯ |      0.0000000 |      0.0000000 |      0.0000000 |      0.0000000 |      0.0000000 |      0.0000000 |      0.0000000 |      0.0000000 |      0.0000000 |      0.0000000 |\n",
       "| max |      4.3636365 |      7.0769230 |      7.5000000 |      3.29032250 |      1.2500000 |      1.5000000 |      1.5000000 |      2.0000000 |      2.0000000 |      1.5000000 | ⋯ |      1.5000000 |      2.0000000 |      2.0000000 |      1.5000000 |      1.5000000 |      3.0000000 |      2.0000000 |      1.5000000 |      1.5000000 |      1.2500000 |\n",
       "| n | 569891.0000000 | 569891.0000000 | 569891.0000000 | 569891.00000000 | 569891.0000000 | 569891.0000000 | 569891.0000000 | 569891.0000000 | 569891.0000000 | 569891.0000000 | ⋯ | 569891.0000000 | 569891.0000000 | 569891.0000000 | 569891.0000000 | 569891.0000000 | 569891.0000000 | 569891.0000000 | 569891.0000000 | 569891.0000000 | 569891.0000000 |\n",
       "\n"
      ],
      "text/plain": [
       "       left_m6a_prop  right_m6a_prop motif_m6a_prop total_m6a_prop \n",
       "mean        0.4162143      0.4349353      0.5245812      0.24739858\n",
       "sd          0.2875141      0.2865155      0.3003268      0.11226667\n",
       "median      0.4000000      0.4117647      0.5555556      0.23529412\n",
       "min         0.0000000      0.0000000      0.0000000      0.01408451\n",
       "max         4.3636365      7.0769230      7.5000000      3.29032250\n",
       "n      569891.0000000 569891.0000000 569891.0000000 569891.00000000\n",
       "       AAG_m6a_prop   ACA_m6a_prop   AGA_m6a_prop   AGC_m6a_prop  \n",
       "mean        0.1673769      0.1907030      0.2746523      0.3043979\n",
       "sd          0.3308730      0.3633201      0.4115444      0.4474848\n",
       "median      0.0000000      0.0000000      0.0000000      0.0000000\n",
       "min         0.0000000      0.0000000      0.0000000      0.0000000\n",
       "max         1.2500000      1.5000000      1.5000000      2.0000000\n",
       "n      569891.0000000 569891.0000000 569891.0000000 569891.0000000\n",
       "       AGG_m6a_prop   AGT_m6a_prop   ⋯ TAG_m6a_prop   TCC_m6a_prop  \n",
       "mean        0.3954806      0.2146591 ⋯      0.1133848      0.2727470\n",
       "sd          0.4615245      0.3614180 ⋯      0.2785363      0.4346843\n",
       "median      0.0000000      0.0000000 ⋯      0.0000000      0.0000000\n",
       "min         0.0000000      0.0000000 ⋯      0.0000000      0.0000000\n",
       "max         2.0000000      1.5000000 ⋯      1.5000000      2.0000000\n",
       "n      569891.0000000 569891.0000000 ⋯ 569891.0000000 569891.0000000\n",
       "       TCG_m6a_prop   TCT_m6a_prop   TGA_m6a_prop   TGC_m6a_prop  \n",
       "mean        0.1189497      0.2123978      0.1834631      0.2839975\n",
       "sd          0.3208027      0.3805753      0.3370466      0.4352609\n",
       "median      0.0000000      0.0000000      0.0000000      0.0000000\n",
       "min         0.0000000      0.0000000      0.0000000      0.0000000\n",
       "max         2.0000000      1.5000000      1.5000000      3.0000000\n",
       "n      569891.0000000 569891.0000000 569891.0000000 569891.0000000\n",
       "       TGG_m6a_prop   TGT_m6a_prop   TTC_m6a_prop   TTG_m6a_prop  \n",
       "mean        0.3789975      0.2136350      0.1316367      0.1251784\n",
       "sd          0.4652946      0.3766526      0.3027115      0.2800040\n",
       "median      0.0000000      0.0000000      0.0000000      0.0000000\n",
       "min         0.0000000      0.0000000      0.0000000      0.0000000\n",
       "max         2.0000000      1.5000000      1.5000000      1.2500000\n",
       "n      569891.0000000 569891.0000000 569891.0000000 569891.0000000"
      ]
     },
     "metadata": {},
     "output_type": "display_data"
    }
   ],
   "source": [
    "bad_prop <- prop_stats[, prop_stats[\"max\", ] > 1]\n",
    "colnames(bad_prop)\n",
    "bad_prop"
   ]
  },
  {
   "cell_type": "code",
   "execution_count": 348,
   "id": "81885c4b",
   "metadata": {},
   "outputs": [
    {
     "data": {
      "text/html": [
       "63"
      ],
      "text/latex": [
       "63"
      ],
      "text/markdown": [
       "63"
      ],
      "text/plain": [
       "[1] 63"
      ]
     },
     "metadata": {},
     "output_type": "display_data"
    }
   ],
   "source": [
    "sum(str_detect(colnames(d_feat), \"prop\"))"
   ]
  },
  {
   "cell_type": "code",
   "execution_count": 349,
   "id": "73a2e725",
   "metadata": {},
   "outputs": [
    {
     "data": {
      "text/html": [
       "'Total prop cols: 63'"
      ],
      "text/latex": [
       "'Total prop cols: 63'"
      ],
      "text/markdown": [
       "'Total prop cols: 63'"
      ],
      "text/plain": [
       "[1] \"Total prop cols: 63\""
      ]
     },
     "metadata": {},
     "output_type": "display_data"
    },
    {
     "data": {
      "text/html": [
       "'Messed up cols: 39'"
      ],
      "text/latex": [
       "'Messed up cols: 39'"
      ],
      "text/markdown": [
       "'Messed up cols: 39'"
      ],
      "text/plain": [
       "[1] \"Messed up cols: 39\""
      ]
     },
     "metadata": {},
     "output_type": "display_data"
    },
    {
     "name": "stdout",
     "output_type": "stream",
     "text": [
      " [1] \"left_m6a_prop\"  \"right_m6a_prop\" \"motif_m6a_prop\" \"total_m6a_prop\"\n",
      " [5] \"AAG_m6a_prop\"   \"ACA_m6a_prop\"   \"AGA_m6a_prop\"   \"AGC_m6a_prop\"  \n",
      " [9] \"AGG_m6a_prop\"   \"AGT_m6a_prop\"   \"CAC_m6a_prop\"   \"CAG_m6a_prop\"  \n",
      "[13] \"CCA_m6a_prop\"   \"CCT_m6a_prop\"   \"CGA_m6a_prop\"   \"CGT_m6a_prop\"  \n",
      "[17] \"CTC_m6a_prop\"   \"CTG_m6a_prop\"   \"CTT_m6a_prop\"   \"GAA_m6a_prop\"  \n",
      "[21] \"GAC_m6a_prop\"   \"GAG_m6a_prop\"   \"GCA_m6a_prop\"   \"GCT_m6a_prop\"  \n",
      "[25] \"GGA_m6a_prop\"   \"GGT_m6a_prop\"   \"GTA_m6a_prop\"   \"GTC_m6a_prop\"  \n",
      "[29] \"GTG_m6a_prop\"   \"TAG_m6a_prop\"   \"TCC_m6a_prop\"   \"TCG_m6a_prop\"  \n",
      "[33] \"TCT_m6a_prop\"   \"TGA_m6a_prop\"   \"TGC_m6a_prop\"   \"TGG_m6a_prop\"  \n",
      "[37] \"TGT_m6a_prop\"   \"TTC_m6a_prop\"   \"TTG_m6a_prop\"  \n"
     ]
    }
   ],
   "source": [
    "sprintf(\"Total prop cols: %s\", sum(str_detect(colnames(d_feat), \"prop\")))\n",
    "sprintf(\"Messed up cols: %s\", length(colnames(bad_prop)))\n",
    "print(colnames(bad_prop))"
   ]
  },
  {
   "cell_type": "code",
   "execution_count": 351,
   "id": "e6aef9ae",
   "metadata": {},
   "outputs": [
    {
     "data": {
      "text/html": [
       "38.0952380952381"
      ],
      "text/latex": [
       "38.0952380952381"
      ],
      "text/markdown": [
       "38.0952380952381"
      ],
      "text/plain": [
       "[1] 38.09524"
      ]
     },
     "metadata": {},
     "output_type": "display_data"
    }
   ],
   "source": [
    "24/63*100"
   ]
  },
  {
   "cell_type": "code",
   "execution_count": 297,
   "id": "e87877b6",
   "metadata": {
    "collapsed": true
   },
   "outputs": [
    {
     "name": "stderr",
     "output_type": "stream",
     "text": [
      "Warning message in mean.default(x, ...):\n",
      "“argument is not numeric or logical: returning NA”\n",
      "Warning message in var(if (is.vector(x) || is.factor(x)) x else as.double(x), na.rm = na.rm):\n",
      "“NAs introduced by coercion”\n",
      "Warning message in mean.default(x, ...):\n",
      "“argument is not numeric or logical: returning NA”\n",
      "Warning message in mean.default(x, ...):\n",
      "“argument is not numeric or logical: returning NA”\n",
      "Warning message in mean.default(x, ...):\n",
      "“argument is not numeric or logical: returning NA”\n",
      "Warning message in mean.default(x, ...):\n",
      "“argument is not numeric or logical: returning NA”\n",
      "Warning message in mean.default(x, ...):\n",
      "“argument is not numeric or logical: returning NA”\n",
      "Warning message in mean.default(x, ...):\n",
      "“argument is not numeric or logical: returning NA”\n",
      "Warning message in mean.default(x, ...):\n",
      "“argument is not numeric or logical: returning NA”\n",
      "Warning message in mean.default(x, ...):\n",
      "“argument is not numeric or logical: returning NA”\n",
      "Warning message in mean.default(x, ...):\n",
      "“argument is not numeric or logical: returning NA”\n",
      "Warning message in mean.default(x, ...):\n",
      "“argument is not numeric or logical: returning NA”\n",
      "Warning message in mean.default(x, ...):\n",
      "“argument is not numeric or logical: returning NA”\n",
      "Warning message in mean.default(x, ...):\n",
      "“argument is not numeric or logical: returning NA”\n",
      "Warning message in mean.default(x, ...):\n",
      "“argument is not numeric or logical: returning NA”\n",
      "Warning message in mean.default(x, ...):\n",
      "“argument is not numeric or logical: returning NA”\n",
      "Warning message in mean.default(x, ...):\n",
      "“argument is not numeric or logical: returning NA”\n",
      "Warning message in mean.default(x, ...):\n",
      "“argument is not numeric or logical: returning NA”\n",
      "Warning message in mean.default(x, ...):\n",
      "“argument is not numeric or logical: returning NA”\n",
      "Warning message in mean.default(x, ...):\n",
      "“argument is not numeric or logical: returning NA”\n",
      "Warning message in mean.default(x, ...):\n",
      "“argument is not numeric or logical: returning NA”\n",
      "Warning message in mean.default(x, ...):\n",
      "“argument is not numeric or logical: returning NA”\n",
      "Warning message in mean.default(x, ...):\n",
      "“argument is not numeric or logical: returning NA”\n",
      "Warning message in mean.default(x, ...):\n",
      "“argument is not numeric or logical: returning NA”\n",
      "Warning message in mean.default(x, ...):\n",
      "“argument is not numeric or logical: returning NA”\n",
      "Warning message in mean.default(x, ...):\n",
      "“argument is not numeric or logical: returning NA”\n",
      "Warning message in mean.default(x, ...):\n",
      "“argument is not numeric or logical: returning NA”\n",
      "Warning message in mean.default(x, ...):\n",
      "“argument is not numeric or logical: returning NA”\n",
      "Warning message in mean.default(x, ...):\n",
      "“argument is not numeric or logical: returning NA”\n",
      "Warning message in mean.default(x, ...):\n",
      "“argument is not numeric or logical: returning NA”\n",
      "Warning message in mean.default(x, ...):\n",
      "“argument is not numeric or logical: returning NA”\n",
      "Warning message in mean.default(x, ...):\n",
      "“argument is not numeric or logical: returning NA”\n",
      "Warning message in mean.default(x, ...):\n",
      "“argument is not numeric or logical: returning NA”\n",
      "Warning message in mean.default(x, ...):\n",
      "“argument is not numeric or logical: returning NA”\n",
      "Warning message in mean.default(x, ...):\n",
      "“argument is not numeric or logical: returning NA”\n",
      "Warning message in mean.default(x, ...):\n",
      "“argument is not numeric or logical: returning NA”\n",
      "Warning message in mean.default(x, ...):\n",
      "“argument is not numeric or logical: returning NA”\n",
      "Warning message in mean.default(x, ...):\n",
      "“argument is not numeric or logical: returning NA”\n",
      "Warning message in mean.default(x, ...):\n",
      "“argument is not numeric or logical: returning NA”\n",
      "Warning message in mean.default(x, ...):\n",
      "“argument is not numeric or logical: returning NA”\n",
      "Warning message in mean.default(x, ...):\n",
      "“argument is not numeric or logical: returning NA”\n",
      "Warning message in mean.default(x, ...):\n",
      "“argument is not numeric or logical: returning NA”\n",
      "Warning message in mean.default(x, ...):\n",
      "“argument is not numeric or logical: returning NA”\n",
      "Warning message in mean.default(x, ...):\n",
      "“argument is not numeric or logical: returning NA”\n",
      "Warning message in mean.default(x, ...):\n",
      "“argument is not numeric or logical: returning NA”\n",
      "Warning message in mean.default(x, ...):\n",
      "“argument is not numeric or logical: returning NA”\n",
      "Warning message in mean.default(x, ...):\n",
      "“argument is not numeric or logical: returning NA”\n",
      "Warning message in mean.default(x, ...):\n",
      "“argument is not numeric or logical: returning NA”\n",
      "Warning message in mean.default(x, ...):\n",
      "“argument is not numeric or logical: returning NA”\n",
      "Warning message in mean.default(x, ...):\n",
      "“argument is not numeric or logical: returning NA”\n",
      "Warning message in mean.default(x, ...):\n",
      "“argument is not numeric or logical: returning NA”\n",
      "Warning message in mean.default(x, ...):\n",
      "“argument is not numeric or logical: returning NA”\n",
      "Warning message in mean.default(x, ...):\n",
      "“argument is not numeric or logical: returning NA”\n",
      "Warning message in mean.default(x, ...):\n",
      "“argument is not numeric or logical: returning NA”\n",
      "Warning message in mean.default(x, ...):\n",
      "“argument is not numeric or logical: returning NA”\n",
      "Warning message in mean.default(x, ...):\n",
      "“argument is not numeric or logical: returning NA”\n",
      "Warning message in mean.default(x, ...):\n",
      "“argument is not numeric or logical: returning NA”\n",
      "Warning message in mean.default(x, ...):\n",
      "“argument is not numeric or logical: returning NA”\n",
      "Warning message in mean.default(x, ...):\n",
      "“argument is not numeric or logical: returning NA”\n",
      "Warning message in mean.default(x, ...):\n",
      "“argument is not numeric or logical: returning NA”\n",
      "Warning message in mean.default(x, ...):\n",
      "“argument is not numeric or logical: returning NA”\n",
      "Warning message in mean.default(x, ...):\n",
      "“argument is not numeric or logical: returning NA”\n",
      "Warning message in mean.default(x, ...):\n",
      "“argument is not numeric or logical: returning NA”\n",
      "Warning message in mean.default(x, ...):\n",
      "“argument is not numeric or logical: returning NA”\n",
      "Warning message in mean.default(x, ...):\n",
      "“argument is not numeric or logical: returning NA”\n",
      "Warning message in mean.default(x, ...):\n",
      "“argument is not numeric or logical: returning NA”\n",
      "Warning message in mean.default(x, ...):\n",
      "“argument is not numeric or logical: returning NA”\n",
      "Warning message in mean.default(x, ...):\n",
      "“argument is not numeric or logical: returning NA”\n",
      "Warning message in mean.default(x, ...):\n",
      "“argument is not numeric or logical: returning NA”\n",
      "Warning message in mean.default(x, ...):\n",
      "“argument is not numeric or logical: returning NA”\n",
      "Warning message in mean.default(x, ...):\n",
      "“argument is not numeric or logical: returning NA”\n",
      "Warning message in mean.default(x, ...):\n",
      "“argument is not numeric or logical: returning NA”\n",
      "Warning message in mean.default(x, ...):\n",
      "“argument is not numeric or logical: returning NA”\n",
      "Warning message in mean.default(x, ...):\n",
      "“argument is not numeric or logical: returning NA”\n",
      "Warning message in mean.default(x, ...):\n",
      "“argument is not numeric or logical: returning NA”\n",
      "Warning message in mean.default(x, ...):\n",
      "“argument is not numeric or logical: returning NA”\n",
      "Warning message in mean.default(x, ...):\n",
      "“argument is not numeric or logical: returning NA”\n",
      "Warning message in mean.default(x, ...):\n",
      "“argument is not numeric or logical: returning NA”\n",
      "Warning message in mean.default(x, ...):\n",
      "“argument is not numeric or logical: returning NA”\n",
      "Warning message in mean.default(x, ...):\n",
      "“argument is not numeric or logical: returning NA”\n",
      "Warning message in mean.default(x, ...):\n",
      "“argument is not numeric or logical: returning NA”\n",
      "Warning message in mean.default(x, ...):\n",
      "“argument is not numeric or logical: returning NA”\n",
      "Warning message in mean.default(x, ...):\n",
      "“argument is not numeric or logical: returning NA”\n",
      "Warning message in mean.default(x, ...):\n",
      "“argument is not numeric or logical: returning NA”\n",
      "Warning message in mean.default(x, ...):\n",
      "“argument is not numeric or logical: returning NA”\n",
      "Warning message in mean.default(x, ...):\n",
      "“argument is not numeric or logical: returning NA”\n",
      "Warning message in mean.default(x, ...):\n",
      "“argument is not numeric or logical: returning NA”\n",
      "Warning message in mean.default(x, ...):\n",
      "“argument is not numeric or logical: returning NA”\n",
      "Warning message in mean.default(x, ...):\n",
      "“argument is not numeric or logical: returning NA”\n"
     ]
    },
    {
     "name": "stderr",
     "output_type": "stream",
     "text": [
      "Warning message in mean.default(x, ...):\n",
      "“argument is not numeric or logical: returning NA”\n",
      "Warning message in mean.default(x, ...):\n",
      "“argument is not numeric or logical: returning NA”\n",
      "Warning message in mean.default(x, ...):\n",
      "“argument is not numeric or logical: returning NA”\n",
      "Warning message in mean.default(x, ...):\n",
      "“argument is not numeric or logical: returning NA”\n",
      "Warning message in mean.default(x, ...):\n",
      "“argument is not numeric or logical: returning NA”\n",
      "Warning message in mean.default(x, ...):\n",
      "“argument is not numeric or logical: returning NA”\n",
      "Warning message in mean.default(x, ...):\n",
      "“argument is not numeric or logical: returning NA”\n",
      "Warning message in mean.default(x, ...):\n",
      "“argument is not numeric or logical: returning NA”\n",
      "Warning message in mean.default(x, ...):\n",
      "“argument is not numeric or logical: returning NA”\n",
      "Warning message in mean.default(x, ...):\n",
      "“argument is not numeric or logical: returning NA”\n",
      "Warning message in mean.default(x, ...):\n",
      "“argument is not numeric or logical: returning NA”\n",
      "Warning message in mean.default(x, ...):\n",
      "“argument is not numeric or logical: returning NA”\n",
      "Warning message in mean.default(x, ...):\n",
      "“argument is not numeric or logical: returning NA”\n",
      "Warning message in mean.default(x, ...):\n",
      "“argument is not numeric or logical: returning NA”\n",
      "Warning message in mean.default(x, ...):\n",
      "“argument is not numeric or logical: returning NA”\n",
      "Warning message in mean.default(x, ...):\n",
      "“argument is not numeric or logical: returning NA”\n",
      "Warning message in mean.default(x, ...):\n",
      "“argument is not numeric or logical: returning NA”\n",
      "Warning message in mean.default(x, ...):\n",
      "“argument is not numeric or logical: returning NA”\n",
      "Warning message in mean.default(x, ...):\n",
      "“argument is not numeric or logical: returning NA”\n",
      "Warning message in mean.default(x, ...):\n",
      "“argument is not numeric or logical: returning NA”\n",
      "Warning message in mean.default(x, ...):\n",
      "“argument is not numeric or logical: returning NA”\n",
      "Warning message in mean.default(x, ...):\n",
      "“argument is not numeric or logical: returning NA”\n",
      "Warning message in mean.default(x, ...):\n",
      "“argument is not numeric or logical: returning NA”\n",
      "Warning message in mean.default(x, ...):\n",
      "“argument is not numeric or logical: returning NA”\n",
      "Warning message in mean.default(x, ...):\n",
      "“argument is not numeric or logical: returning NA”\n",
      "Warning message in mean.default(x, ...):\n",
      "“argument is not numeric or logical: returning NA”\n",
      "Warning message in mean.default(x, ...):\n",
      "“argument is not numeric or logical: returning NA”\n",
      "Warning message in mean.default(x, ...):\n",
      "“argument is not numeric or logical: returning NA”\n",
      "Warning message in mean.default(x, ...):\n",
      "“argument is not numeric or logical: returning NA”\n",
      "Warning message in mean.default(x, ...):\n",
      "“argument is not numeric or logical: returning NA”\n",
      "Warning message in mean.default(x, ...):\n",
      "“argument is not numeric or logical: returning NA”\n",
      "Warning message in mean.default(x, ...):\n",
      "“argument is not numeric or logical: returning NA”\n",
      "Warning message in mean.default(x, ...):\n",
      "“argument is not numeric or logical: returning NA”\n",
      "Warning message in mean.default(x, ...):\n",
      "“argument is not numeric or logical: returning NA”\n",
      "Warning message in mean.default(x, ...):\n",
      "“argument is not numeric or logical: returning NA”\n",
      "Warning message in mean.default(x, ...):\n",
      "“argument is not numeric or logical: returning NA”\n",
      "Warning message in mean.default(x, ...):\n",
      "“argument is not numeric or logical: returning NA”\n",
      "Warning message in mean.default(x, ...):\n",
      "“argument is not numeric or logical: returning NA”\n",
      "Warning message in mean.default(x, ...):\n",
      "“argument is not numeric or logical: returning NA”\n",
      "Warning message in mean.default(x, ...):\n",
      "“argument is not numeric or logical: returning NA”\n",
      "Warning message in mean.default(x, ...):\n",
      "“argument is not numeric or logical: returning NA”\n",
      "Warning message in mean.default(x, ...):\n",
      "“argument is not numeric or logical: returning NA”\n",
      "Warning message in mean.default(x, ...):\n",
      "“argument is not numeric or logical: returning NA”\n",
      "Warning message in mean.default(x, ...):\n",
      "“argument is not numeric or logical: returning NA”\n",
      "Warning message in mean.default(x, ...):\n",
      "“argument is not numeric or logical: returning NA”\n",
      "Warning message in mean.default(x, ...):\n",
      "“argument is not numeric or logical: returning NA”\n",
      "Warning message in mean.default(x, ...):\n",
      "“argument is not numeric or logical: returning NA”\n",
      "Warning message in mean.default(x, ...):\n",
      "“argument is not numeric or logical: returning NA”\n",
      "Warning message in mean.default(x, ...):\n",
      "“argument is not numeric or logical: returning NA”\n",
      "Warning message in mean.default(x, ...):\n",
      "“argument is not numeric or logical: returning NA”\n",
      "Warning message in mean.default(x, ...):\n",
      "“argument is not numeric or logical: returning NA”\n",
      "Warning message in mean.default(x, ...):\n",
      "“argument is not numeric or logical: returning NA”\n",
      "Warning message in mean.default(x, ...):\n",
      "“argument is not numeric or logical: returning NA”\n",
      "Warning message in mean.default(x, ...):\n",
      "“argument is not numeric or logical: returning NA”\n",
      "Warning message in mean.default(x, ...):\n",
      "“argument is not numeric or logical: returning NA”\n",
      "Warning message in mean.default(x, ...):\n",
      "“argument is not numeric or logical: returning NA”\n",
      "Warning message in mean.default(x, ...):\n",
      "“argument is not numeric or logical: returning NA”\n",
      "Warning message in mean.default(x, ...):\n",
      "“argument is not numeric or logical: returning NA”\n",
      "Warning message in mean.default(x, ...):\n",
      "“argument is not numeric or logical: returning NA”\n",
      "Warning message in mean.default(x, ...):\n",
      "“argument is not numeric or logical: returning NA”\n",
      "Warning message in mean.default(x, ...):\n",
      "“argument is not numeric or logical: returning NA”\n",
      "Warning message in mean.default(x, ...):\n",
      "“argument is not numeric or logical: returning NA”\n",
      "Warning message in mean.default(x, ...):\n",
      "“argument is not numeric or logical: returning NA”\n",
      "Warning message in mean.default(x, ...):\n",
      "“argument is not numeric or logical: returning NA”\n",
      "Warning message in mean.default(x, ...):\n",
      "“argument is not numeric or logical: returning NA”\n",
      "Warning message in mean.default(x, ...):\n",
      "“argument is not numeric or logical: returning NA”\n",
      "Warning message in mean.default(x, ...):\n",
      "“argument is not numeric or logical: returning NA”\n",
      "Warning message in mean.default(x, ...):\n",
      "“argument is not numeric or logical: returning NA”\n",
      "Warning message in mean.default(x, ...):\n",
      "“argument is not numeric or logical: returning NA”\n",
      "Warning message in mean.default(x, ...):\n",
      "“argument is not numeric or logical: returning NA”\n",
      "Warning message in mean.default(x, ...):\n",
      "“argument is not numeric or logical: returning NA”\n",
      "Warning message in mean.default(x, ...):\n",
      "“argument is not numeric or logical: returning NA”\n",
      "Warning message in mean.default(x, ...):\n",
      "“argument is not numeric or logical: returning NA”\n",
      "Warning message in mean.default(x, ...):\n",
      "“argument is not numeric or logical: returning NA”\n",
      "Warning message in mean.default(x, ...):\n",
      "“argument is not numeric or logical: returning NA”\n",
      "Warning message in mean.default(x, ...):\n",
      "“argument is not numeric or logical: returning NA”\n",
      "Warning message in mean.default(x, ...):\n",
      "“argument is not numeric or logical: returning NA”\n",
      "Warning message in mean.default(x, ...):\n",
      "“argument is not numeric or logical: returning NA”\n",
      "Warning message in mean.default(x, ...):\n",
      "“argument is not numeric or logical: returning NA”\n",
      "Warning message in mean.default(x, ...):\n",
      "“argument is not numeric or logical: returning NA”\n",
      "Warning message in mean.default(x, ...):\n",
      "“argument is not numeric or logical: returning NA”\n",
      "Warning message in var(if (is.vector(x) || is.factor(x)) x else as.double(x), na.rm = na.rm):\n",
      "“NAs introduced by coercion”\n"
     ]
    },
    {
     "data": {
      "text/html": [
       "<table class=\"dataframe\">\n",
       "<caption>A matrix: 6 × 169 of type chr</caption>\n",
       "<thead>\n",
       "\t<tr><th></th><th scope=col>SpecID</th><th scope=col>Label</th><th scope=col>msp_size</th><th scope=col>left_m6a_count</th><th scope=col>right_m6a_count</th><th scope=col>motif_m6a_count</th><th scope=col>left_AT_count</th><th scope=col>right_AT_count</th><th scope=col>motif_AT_count</th><th scope=col>left_AT_prop</th><th scope=col>⋯</th><th scope=col>rle_31</th><th scope=col>rle_32</th><th scope=col>rle_33</th><th scope=col>rle_34</th><th scope=col>rle_35</th><th scope=col>rle_max</th><th scope=col>Peptide</th><th scope=col>Proteins</th><th scope=col>scannr</th><th scope=col>data_set</th></tr>\n",
       "</thead>\n",
       "<tbody>\n",
       "\t<tr><th scope=row>mean</th><td>NA                                                   </td><td>NA </td><td>NA              </td><td>NA              </td><td>NA             </td><td>NA              </td><td>NA              </td><td>NA              </td><td>NA              </td><td>NA                </td><td>⋯</td><td>NA </td><td>NA </td><td>NA </td><td>NA </td><td>NA </td><td>NA              </td><td>NA              </td><td>NA              </td><td>NA              </td><td>NA      </td></tr>\n",
       "\t<tr><th scope=row>sd</th><td>NA                                                   </td><td>0  </td><td>80.9766756232999</td><td>3.74701779978167</td><td>3.1738727370797</td><td>4.43037992762618</td><td>1.79632030661142</td><td>3.19520677901691</td><td>3.38390405225321</td><td>0.0449080076652856</td><td>⋯</td><td>0  </td><td>0  </td><td>0  </td><td>0  </td><td>0  </td><td>5.54000550416148</td><td>47.1981638060917</td><td>47.1981638060917</td><td>47.1981638060917</td><td>NA      </td></tr>\n",
       "\t<tr><th scope=row>median</th><td>chr10_100433947_-/m64076_221119_202646/27918391/ccs  </td><td>1  </td><td>252             </td><td>12              </td><td> 9             </td><td> 3              </td><td>18              </td><td>18              </td><td>16              </td><td>0.450             </td><td>⋯</td><td>0  </td><td>0  </td><td>0  </td><td>0  </td><td>0  </td><td> 9              </td><td> 83             </td><td> 83             </td><td> 83             </td><td>Positive</td></tr>\n",
       "\t<tr><th scope=row>min</th><td>chr10_100338605_+/m54329U_210323_190418/169477611/ccs</td><td>1  </td><td> 85             </td><td> 2              </td><td> 1             </td><td> 0              </td><td>14              </td><td>13              </td><td> 8              </td><td>0.350             </td><td>⋯</td><td>0  </td><td>0  </td><td>0  </td><td>0  </td><td>0  </td><td> 0              </td><td>  2             </td><td>  2             </td><td>  2             </td><td>Positive</td></tr>\n",
       "\t<tr><th scope=row>max</th><td>chr10_100562106_+/m64076_221119_202646/167184118/ccs </td><td>1  </td><td>586             </td><td>18              </td><td>15             </td><td>16              </td><td>20              </td><td>23              </td><td>18              </td><td>0.500             </td><td>⋯</td><td>0  </td><td>0  </td><td>0  </td><td>0  </td><td>0  </td><td>17              </td><td>164             </td><td>164             </td><td>164             </td><td>Positive</td></tr>\n",
       "\t<tr><th scope=row>n</th><td>163                                                  </td><td>163</td><td>163             </td><td>163             </td><td>163            </td><td>163             </td><td>163             </td><td>163             </td><td>163             </td><td>163               </td><td>⋯</td><td>163</td><td>163</td><td>163</td><td>163</td><td>163</td><td>163             </td><td>163             </td><td>163             </td><td>163             </td><td>163     </td></tr>\n",
       "</tbody>\n",
       "</table>\n"
      ],
      "text/latex": [
       "A matrix: 6 × 169 of type chr\n",
       "\\begin{tabular}{r|lllllllllllllllllllll}\n",
       "  & SpecID & Label & msp\\_size & left\\_m6a\\_count & right\\_m6a\\_count & motif\\_m6a\\_count & left\\_AT\\_count & right\\_AT\\_count & motif\\_AT\\_count & left\\_AT\\_prop & ⋯ & rle\\_31 & rle\\_32 & rle\\_33 & rle\\_34 & rle\\_35 & rle\\_max & Peptide & Proteins & scannr & data\\_set\\\\\n",
       "\\hline\n",
       "\tmean & NA                                                    & NA  & NA               & NA               & NA              & NA               & NA               & NA               & NA               & NA                 & ⋯ & NA  & NA  & NA  & NA  & NA  & NA               & NA               & NA               & NA               & NA      \\\\\n",
       "\tsd & NA                                                    & 0   & 80.9766756232999 & 3.74701779978167 & 3.1738727370797 & 4.43037992762618 & 1.79632030661142 & 3.19520677901691 & 3.38390405225321 & 0.0449080076652856 & ⋯ & 0   & 0   & 0   & 0   & 0   & 5.54000550416148 & 47.1981638060917 & 47.1981638060917 & 47.1981638060917 & NA      \\\\\n",
       "\tmedian & chr10\\_100433947\\_-/m64076\\_221119\\_202646/27918391/ccs   & 1   & 252              & 12               &  9              &  3               & 18               & 18               & 16               & 0.450              & ⋯ & 0   & 0   & 0   & 0   & 0   &  9               &  83              &  83              &  83              & Positive\\\\\n",
       "\tmin & chr10\\_100338605\\_+/m54329U\\_210323\\_190418/169477611/ccs & 1   &  85              &  2               &  1              &  0               & 14               & 13               &  8               & 0.350              & ⋯ & 0   & 0   & 0   & 0   & 0   &  0               &   2              &   2              &   2              & Positive\\\\\n",
       "\tmax & chr10\\_100562106\\_+/m64076\\_221119\\_202646/167184118/ccs  & 1   & 586              & 18               & 15              & 16               & 20               & 23               & 18               & 0.500              & ⋯ & 0   & 0   & 0   & 0   & 0   & 17               & 164              & 164              & 164              & Positive\\\\\n",
       "\tn & 163                                                   & 163 & 163              & 163              & 163             & 163              & 163              & 163              & 163              & 163                & ⋯ & 163 & 163 & 163 & 163 & 163 & 163              & 163              & 163              & 163              & 163     \\\\\n",
       "\\end{tabular}\n"
      ],
      "text/markdown": [
       "\n",
       "A matrix: 6 × 169 of type chr\n",
       "\n",
       "| <!--/--> | SpecID | Label | msp_size | left_m6a_count | right_m6a_count | motif_m6a_count | left_AT_count | right_AT_count | motif_AT_count | left_AT_prop | ⋯ | rle_31 | rle_32 | rle_33 | rle_34 | rle_35 | rle_max | Peptide | Proteins | scannr | data_set |\n",
       "|---|---|---|---|---|---|---|---|---|---|---|---|---|---|---|---|---|---|---|---|---|---|\n",
       "| mean | NA                                                    | NA  | NA               | NA               | NA              | NA               | NA               | NA               | NA               | NA                 | ⋯ | NA  | NA  | NA  | NA  | NA  | NA               | NA               | NA               | NA               | NA       |\n",
       "| sd | NA                                                    | 0   | 80.9766756232999 | 3.74701779978167 | 3.1738727370797 | 4.43037992762618 | 1.79632030661142 | 3.19520677901691 | 3.38390405225321 | 0.0449080076652856 | ⋯ | 0   | 0   | 0   | 0   | 0   | 5.54000550416148 | 47.1981638060917 | 47.1981638060917 | 47.1981638060917 | NA       |\n",
       "| median | chr10_100433947_-/m64076_221119_202646/27918391/ccs   | 1   | 252              | 12               |  9              |  3               | 18               | 18               | 16               | 0.450              | ⋯ | 0   | 0   | 0   | 0   | 0   |  9               |  83              |  83              |  83              | Positive |\n",
       "| min | chr10_100338605_+/m54329U_210323_190418/169477611/ccs | 1   |  85              |  2               |  1              |  0               | 14               | 13               |  8               | 0.350              | ⋯ | 0   | 0   | 0   | 0   | 0   |  0               |   2              |   2              |   2              | Positive |\n",
       "| max | chr10_100562106_+/m64076_221119_202646/167184118/ccs  | 1   | 586              | 18               | 15              | 16               | 20               | 23               | 18               | 0.500              | ⋯ | 0   | 0   | 0   | 0   | 0   | 17               | 164              | 164              | 164              | Positive |\n",
       "| n | 163                                                   | 163 | 163              | 163              | 163             | 163              | 163              | 163              | 163              | 163                | ⋯ | 163 | 163 | 163 | 163 | 163 | 163              | 163              | 163              | 163              | 163      |\n",
       "\n"
      ],
      "text/plain": [
       "       SpecID                                                Label\n",
       "mean   NA                                                    NA   \n",
       "sd     NA                                                    0    \n",
       "median chr10_100433947_-/m64076_221119_202646/27918391/ccs   1    \n",
       "min    chr10_100338605_+/m54329U_210323_190418/169477611/ccs 1    \n",
       "max    chr10_100562106_+/m64076_221119_202646/167184118/ccs  1    \n",
       "n      163                                                   163  \n",
       "       msp_size         left_m6a_count   right_m6a_count motif_m6a_count \n",
       "mean   NA               NA               NA              NA              \n",
       "sd     80.9766756232999 3.74701779978167 3.1738727370797 4.43037992762618\n",
       "median 252              12                9               3              \n",
       "min     85               2                1               0              \n",
       "max    586              18               15              16              \n",
       "n      163              163              163             163             \n",
       "       left_AT_count    right_AT_count   motif_AT_count   left_AT_prop       ⋯\n",
       "mean   NA               NA               NA               NA                 ⋯\n",
       "sd     1.79632030661142 3.19520677901691 3.38390405225321 0.0449080076652856 ⋯\n",
       "median 18               18               16               0.450              ⋯\n",
       "min    14               13                8               0.350              ⋯\n",
       "max    20               23               18               0.500              ⋯\n",
       "n      163              163              163              163                ⋯\n",
       "       rle_31 rle_32 rle_33 rle_34 rle_35 rle_max          Peptide         \n",
       "mean   NA     NA     NA     NA     NA     NA               NA              \n",
       "sd     0      0      0      0      0      5.54000550416148 47.1981638060917\n",
       "median 0      0      0      0      0       9                83             \n",
       "min    0      0      0      0      0       0                 2             \n",
       "max    0      0      0      0      0      17               164             \n",
       "n      163    163    163    163    163    163              163             \n",
       "       Proteins         scannr           data_set\n",
       "mean   NA               NA               NA      \n",
       "sd     47.1981638060917 47.1981638060917 NA      \n",
       "median  83               83              Positive\n",
       "min      2                2              Positive\n",
       "max    164              164              Positive\n",
       "n      163              163              163     "
      ]
     },
     "metadata": {},
     "output_type": "display_data"
    }
   ],
   "source": [
    "my.summary <- function(x,...){\n",
    "  c(mean=mean(x, ...),\n",
    "    sd=sd(x, ...),\n",
    "    median=median(x, ...),\n",
    "    min=min(x, ...),\n",
    "    max=max(x,...), \n",
    "    n=length(x))\n",
    "}\n",
    "\n",
    "# all these calls should give you the same results.\n",
    "apply(d[match(features, names(d))], 2, my.summary)\n",
    "#sapply(df, my.summary)\n",
    "#do.call(cbind,lapply(df, my.summary))"
   ]
  },
  {
   "cell_type": "markdown",
   "id": "f651645f",
   "metadata": {},
   "source": [
    "## feature hists"
   ]
  }
 ],
 "metadata": {
  "kernelspec": {
   "display_name": "R [conda env:r_env]",
   "language": "R",
   "name": "conda-env-r_env-r"
  },
  "language_info": {
   "codemirror_mode": "r",
   "file_extension": ".r",
   "mimetype": "text/x-r-source",
   "name": "R",
   "pygments_lexer": "r",
   "version": "4.2.2"
  },
  "toc": {
   "base_numbering": 1,
   "nav_menu": {},
   "number_sections": false,
   "sideBar": true,
   "skip_h1_title": true,
   "title_cell": "Table of Contents",
   "title_sidebar": "Contents",
   "toc_cell": false,
   "toc_position": {
    "height": "calc(100% - 180px)",
    "left": "10px",
    "top": "150px",
    "width": "171px"
   },
   "toc_section_display": true,
   "toc_window_display": true
  }
 },
 "nbformat": 4,
 "nbformat_minor": 5
}
