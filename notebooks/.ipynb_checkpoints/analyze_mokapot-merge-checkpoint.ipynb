{
 "cells": [
  {
   "cell_type": "markdown",
   "id": "1ec9fb0c",
   "metadata": {},
   "source": [
    "# Running mokapot (merge res_feat w/ fiberseq data)"
   ]
  },
  {
   "cell_type": "code",
   "execution_count": 1,
   "id": "c4bd8705",
   "metadata": {},
   "outputs": [],
   "source": [
    "import os\n",
    "import pandas as pd\n",
    "import numpy as np"
   ]
  },
  {
   "cell_type": "code",
   "execution_count": 2,
   "id": "9d396b55",
   "metadata": {},
   "outputs": [],
   "source": [
    "import mokapot\n",
    "from xgboost import XGBClassifier\n",
    "from sklearn.model_selection import GridSearchCV\n",
    "import matplotlib.pyplot as plt"
   ]
  },
  {
   "cell_type": "code",
   "execution_count": 4,
   "id": "84df9222",
   "metadata": {},
   "outputs": [],
   "source": [
    "import logging\n",
    "\n",
    "# Change to True enable messages and nicely format them:\n",
    "log = False\n",
    "if log:\n",
    "    logging.basicConfig(\n",
    "        level=logging.INFO,\n",
    "        format=\"%(levelname)s: %(message)s\",\n",
    "    )"
   ]
  },
  {
   "cell_type": "code",
   "execution_count": 88,
   "id": "15f22675",
   "metadata": {},
   "outputs": [],
   "source": [
    "# set folders\n",
    "project_dir = \"/mmfs1/gscratch/stergachislab/mwperez/ctcf-footprinting\"\n",
    "data_dir = \"{}/feature_data\".format(project_dir)\n",
    "fiber_dir = \"{}/candidate_footprints\".format(project_dir)\n",
    "moka_dir = \"{}/mokapot_res\".format(project_dir)"
   ]
  },
  {
   "cell_type": "markdown",
   "id": "6db5fbff",
   "metadata": {},
   "source": [
    "__initial CTCF mokapot run__\n",
    "* positive set\n",
    "    * features: CTCF_m6a_fiberseq_L_100bp_positive_features-motif_query.txt (rows: 238,348)\n",
    "    * fiberseq: CTCF_m6a_fiberseq_L_100bp_positive.txt (rows: 12,739,713)\n",
    "* small (1%) negative set\n",
    "    * features: CTCF_m6a_fiberseq_L_100bp_small_negative_features-motif_query.txt (rows: 65,944)\n",
    "    * fiberseq: CTCF_m6a_fiberseq_L_100bp_small_negative.txt (rows: 7,878,027)"
   ]
  },
  {
   "cell_type": "markdown",
   "id": "9f8aa18c",
   "metadata": {},
   "source": [
    "read in mokapot results with q-values"
   ]
  },
  {
   "cell_type": "code",
   "execution_count": 6,
   "id": "2313e3af",
   "metadata": {},
   "outputs": [
    {
     "name": "stdout",
     "output_type": "stream",
     "text": [
      "Mokapot res - rows: 304,371 | cols: 131\n"
     ]
    }
   ],
   "source": [
    "# mokapot results w/ features\n",
    "dataset = \"CTCF_L\"\n",
    "mokapot_file = \"{}/{}.mokapot.features.txt\".format(moka_dir, dataset)\n",
    "assert os.path.exists(mokapot_file), f\"ERROR: file not found: {mokapot_file}\"\n",
    "\n",
    "# read res\n",
    "res = pd.read_csv(mokapot_file, sep=\"\\t\")\n",
    "print(\"Mokapot res - rows: {:,} | cols: {:,}\".format(res.shape[0], res.shape[1]))"
   ]
  },
  {
   "cell_type": "markdown",
   "id": "2d61a172",
   "metadata": {},
   "source": [
    "### format fiberseq data (positive)"
   ]
  },
  {
   "cell_type": "markdown",
   "id": "1c249762",
   "metadata": {},
   "source": [
    "read in CTCF fiberseq reads (positive)"
   ]
  },
  {
   "cell_type": "code",
   "execution_count": 10,
   "id": "09e1df73",
   "metadata": {},
   "outputs": [
    {
     "name": "stdout",
     "output_type": "stream",
     "text": [
      "Pos features - rows: 12,739,712 | cols: 13\n"
     ]
    }
   ],
   "source": [
    "# positive fiberseq reads\n",
    "pos_file = \"{}/CTCF_m6a_fiberseq_L_100bp_positive.txt\".format(fiber_dir)\n",
    "assert os.path.exists(pos_file), f\"ERROR: file not found: {pos_file}\"\n",
    "\n",
    "# read feature file\n",
    "df_pos = pd.read_csv(pos_file, sep=\"\\t\")\n",
    "print(\"Pos features - rows: {:,} | cols: {:,}\".format(df_pos.shape[0], df_pos.shape[1]))"
   ]
  },
  {
   "cell_type": "code",
   "execution_count": 13,
   "id": "8b2a0e90",
   "metadata": {},
   "outputs": [
    {
     "name": "stdout",
     "output_type": "stream",
     "text": [
      "rows: 11,860,730 | cols: 13\n",
      "rows: 11,860,730 | cols: 15\n"
     ]
    }
   ],
   "source": [
    "# filter for only m6a & msp rows\n",
    "df_pos = df_pos[df_pos[\"centered_position_type\"].isin([\"m6a\", \"msp\"])]\n",
    "print(\"rows: {:,} | cols: {:,}\".format(df_pos.shape[0], df_pos.shape[1]))\n",
    "\n",
    "# make column of motif_name & motif_query names\n",
    "df_pos.insert(loc=0, column=\"motif_name\", value=\n",
    "              df_pos[\"chrom\"]+\"_\"+df_pos[\"centering_position\"].astype(str)+\"_\"+df_pos[\"strand\"].astype(str))\n",
    "df_pos.insert(loc=0, column=\"motif_query\", value=\n",
    "              df_pos[\"motif_name\"].astype(str)+\"/\"+df_pos[\"query_name\"].astype(str))\n",
    "\n",
    "print(\"rows: {:,} | cols: {:,}\".format(df_pos.shape[0], df_pos.shape[1]))"
   ]
  },
  {
   "cell_type": "code",
   "execution_count": 15,
   "id": "690e5bbe",
   "metadata": {},
   "outputs": [
    {
     "name": "stdout",
     "output_type": "stream",
     "text": [
      "Columns: 15\n",
      "Total rows: 11,860,730\n",
      "Total unique motifs: 6,504\n",
      "Total unique query_names/strands: 328,835\n",
      "MSP's: 396,372\n",
      "m6a's: 11,464,358\n"
     ]
    }
   ],
   "source": [
    "print(\"Columns: {:,}\".format(df_pos.shape[1]))\n",
    "print(\"Total rows: \" + \"{:,}\".format(df_pos.shape[0]))\n",
    "print(\"Total unique motifs: {:,}\".format(df_pos.motif_name.nunique()))\n",
    "print(\"Total unique query_names: \" + \"{:,}\".format(df_pos.query_name.nunique()))\n",
    "\n",
    "print(\"MSP's: \" + \"{:,}\".format(df_pos[df_pos[\"centered_position_type\"] == \"msp\"].shape[0]))\n",
    "print(\"m6a's: \" + \"{:,}\".format(df_pos[df_pos[\"centered_position_type\"] == \"m6a\"].shape[0]))"
   ]
  },
  {
   "cell_type": "code",
   "execution_count": 18,
   "id": "bdf5faf5",
   "metadata": {},
   "outputs": [
    {
     "name": "stdout",
     "output_type": "stream",
     "text": [
      "rows: 11,860,730 | cols: 15\n",
      "unique motif/query groups: 360,604\n"
     ]
    }
   ],
   "source": [
    "print(\"rows: {:,} | cols: {:,}\".format(df_pos.shape[0], df_pos.shape[1]))\n",
    "print(\"unique motif/query groups: {:,}\".format(df_pos[\"motif_query\"].nunique()))"
   ]
  },
  {
   "cell_type": "code",
   "execution_count": 22,
   "id": "61e8b3d7",
   "metadata": {},
   "outputs": [],
   "source": [
    "def clean_sequences(df):\n",
    "    '''Remove rows with N characters.'''\n",
    "    print(\"Removing \"+ \"{:,} rows.\".format(df[\"subset_sequence\"].str.contains(\"N\").sum()))\n",
    "    return df[~df[\"subset_sequence\"].str.contains(\"N\")]"
   ]
  },
  {
   "cell_type": "code",
   "execution_count": 23,
   "id": "aab3dabf",
   "metadata": {},
   "outputs": [
    {
     "name": "stdout",
     "output_type": "stream",
     "text": [
      "Removing 114,621 rows.\n"
     ]
    }
   ],
   "source": [
    "# remove rows with Ns in sequence\n",
    "df_pos = clean_sequences(df_pos)"
   ]
  },
  {
   "cell_type": "code",
   "execution_count": 24,
   "id": "b75ac369",
   "metadata": {},
   "outputs": [],
   "source": [
    "def filt_msps(df, motif_len=35):\n",
    "    '''Filters for motif/query instances with a motif within \n",
    "    a MSP and adds MSP length to each motif/query group.'''\n",
    "    \n",
    "    # position of MSPs containing a motif\n",
    "    msp_mask = (df[\"centered_position_type\"] == \"msp\") & (df[\"centered_start\"] <= 0) & (df[\"centered_end\"] >= motif_len)\n",
    "    print(\"MSP's with a motif: \" + \"{:,}\".format(msp_mask.sum()))\n",
    "    msp_groups = [(row[\"motif_name\"], row[\"query_name\"]) for idx, row in df[msp_mask].iterrows()]\n",
    "    \n",
    "    # filter for rows with motifs within an MSP (gets both MSP's & m6a's)\n",
    "    df = df[df[[\"motif_name\", \"query_name\"]].apply(tuple, 1).isin(msp_groups)]\n",
    "    print(\"Total observations from motifs within an MSP: \" + \"{:,}\".format(df.shape[0]))\n",
    "    \n",
    "    # add MSP size corresponding to each group\n",
    "    # df with msp sizes\n",
    "    df_msp = df.loc[msp_mask, [\"motif_name\", \"query_name\", \"centered_end\", \"centered_start\"]]\n",
    "    df_msp[\"msp_size\"] = df_msp[\"centered_end\"] - df_msp[\"centered_start\"]\n",
    "\n",
    "    # match msp back to it's motif & fiber\n",
    "    df = df.merge(df_msp[[\"motif_name\", \"query_name\", \"msp_size\"]], on=[\"motif_name\", \"query_name\"])\n",
    "    print(\"Merged df shape w/ msp_size: \" + \"{:,}\".format(df.shape[0]))\n",
    "    return df"
   ]
  },
  {
   "cell_type": "code",
   "execution_count": 25,
   "id": "6624607d",
   "metadata": {},
   "outputs": [
    {
     "name": "stdout",
     "output_type": "stream",
     "text": [
      "MSP's with a motif: 238,348\n",
      "Total observations from motifs within an MSP: 9,735,406\n",
      "Merged df shape w/ msp_size: 9,735,406\n",
      "Total m6a observations: 9,495,739\n"
     ]
    }
   ],
   "source": [
    "# filter for regions with a motif within an MSP & add MSP size col\n",
    "df_pos = filt_msps(df_pos)\n",
    "# remove MSP rows\n",
    "df_pos = df_pos[df_pos[\"centered_position_type\"] == \"m6a\"]\n",
    "print(\"Total m6a observations: \" + \"{:,}\".format(df_pos.shape[0]))"
   ]
  },
  {
   "cell_type": "code",
   "execution_count": 26,
   "id": "3e1a4f66",
   "metadata": {},
   "outputs": [
    {
     "name": "stdout",
     "output_type": "stream",
     "text": [
      "Unique motif-sequence groups: 238,348\n"
     ]
    }
   ],
   "source": [
    "# group by motif & query name\n",
    "grouping_cols = [\"motif_name\", \"query_name\"]\n",
    "df_grouped = df_pos.groupby(grouping_cols)\n",
    "\n",
    "# get group names (keys)\n",
    "group_names = list(df_grouped.groups.keys())\n",
    "print(\"Unique motif-sequence groups: \" + \"{:,}\".format(len(group_names)))"
   ]
  },
  {
   "cell_type": "code",
   "execution_count": null,
   "id": "1f69048a",
   "metadata": {},
   "outputs": [],
   "source": []
  },
  {
   "cell_type": "markdown",
   "id": "9294cd51",
   "metadata": {},
   "source": [
    "### format fiberseq data (negative)"
   ]
  },
  {
   "cell_type": "code",
   "execution_count": 64,
   "id": "725fbc37",
   "metadata": {},
   "outputs": [
    {
     "name": "stdout",
     "output_type": "stream",
     "text": [
      "Neg features - rows: 7,878,026 | cols: 13\n"
     ]
    }
   ],
   "source": [
    "# negative fiberseq reads\n",
    "neg_file = \"{}/CTCF_m6a_fiberseq_L_100bp_small_negative.txt\".format(fiber_dir)\n",
    "assert os.path.exists(neg_file), f\"ERROR: file not found: {neg_file}\"\n",
    "\n",
    "# read feature file\n",
    "df_neg = pd.read_csv(neg_file, sep=\"\\t\")\n",
    "print(\"Neg features - rows: {:,} | cols: {:,}\".format(df_neg.shape[0], df_neg.shape[1]))"
   ]
  },
  {
   "cell_type": "code",
   "execution_count": 66,
   "id": "55de8d56",
   "metadata": {},
   "outputs": [
    {
     "name": "stdout",
     "output_type": "stream",
     "text": [
      "rows: 9,495,739 | cols: 16\n",
      "rows: 6,405,114 | cols: 15\n"
     ]
    }
   ],
   "source": [
    "# filter for only m6a & msp rows\n",
    "df_neg = df_neg[df_neg[\"centered_position_type\"].isin([\"m6a\", \"msp\"])]\n",
    "print(\"rows: {:,} | cols: {:,}\".format(df_pos.shape[0], df_pos.shape[1]))\n",
    "\n",
    "# make column of motif_name & motif_query names\n",
    "df_neg.insert(loc=0, column=\"motif_name\", value=\n",
    "              df_neg[\"chrom\"]+\"_\"+df_neg[\"centering_position\"].astype(str)+\"_\"+df_neg[\"strand\"].astype(str))\n",
    "df_neg.insert(loc=0, column=\"motif_query\", value=\n",
    "              df_neg[\"motif_name\"].astype(str)+\"/\"+df_neg[\"query_name\"].astype(str))\n",
    "\n",
    "print(\"rows: {:,} | cols: {:,}\".format(df_neg.shape[0], df_neg.shape[1]))"
   ]
  },
  {
   "cell_type": "code",
   "execution_count": 68,
   "id": "024d824a",
   "metadata": {},
   "outputs": [
    {
     "name": "stdout",
     "output_type": "stream",
     "text": [
      "Columns: 15\n",
      "Total rows: 6,405,114\n",
      "Total unique motifs: 317,997\n",
      "Total unique query_names: 86,064\n",
      "unique motif/query groups: 422,061\n",
      "MSP's: 543,117\n",
      "m6a's: 5,861,997\n"
     ]
    }
   ],
   "source": [
    "print(\"Columns: {:,}\".format(df_neg.shape[1]))\n",
    "print(\"Total rows: \" + \"{:,}\".format(df_neg.shape[0]))\n",
    "print(\"Total unique motifs: {:,}\".format(df_neg.motif_name.nunique()))\n",
    "print(\"Total unique query_names: \" + \"{:,}\".format(df_neg.query_name.nunique()))\n",
    "print(\"unique motif/query groups: {:,}\".format(df_neg[\"motif_query\"].nunique()))\n",
    "\n",
    "print(\"MSP's: \" + \"{:,}\".format(df_neg[df_neg[\"centered_position_type\"] == \"msp\"].shape[0]))\n",
    "print(\"m6a's: \" + \"{:,}\".format(df_neg[df_neg[\"centered_position_type\"] == \"m6a\"].shape[0]))"
   ]
  },
  {
   "cell_type": "code",
   "execution_count": 70,
   "id": "10749cb9",
   "metadata": {},
   "outputs": [
    {
     "name": "stdout",
     "output_type": "stream",
     "text": [
      "Removing 43,252 rows.\n"
     ]
    }
   ],
   "source": [
    "# remove rows with Ns in sequence\n",
    "df_neg = clean_sequences(df_neg)"
   ]
  },
  {
   "cell_type": "code",
   "execution_count": 71,
   "id": "6bb401a3",
   "metadata": {},
   "outputs": [
    {
     "name": "stdout",
     "output_type": "stream",
     "text": [
      "MSP's with a motif: 65,952\n",
      "Total observations from motifs within an MSP: 1,663,294\n",
      "Merged df shape w/ msp_size: 1,663,752\n",
      "Total m6a observations: 1,595,563\n"
     ]
    }
   ],
   "source": [
    "# filter for regions with a motif within an MSP & add MSP size col\n",
    "df_neg = filt_msps(df_neg)\n",
    "\n",
    "# remove MSP rows\n",
    "df_neg = df_neg[df_neg[\"centered_position_type\"] == \"m6a\"]\n",
    "print(\"Total m6a observations: \" + \"{:,}\".format(df_neg.shape[0]))"
   ]
  },
  {
   "cell_type": "code",
   "execution_count": 72,
   "id": "9bdde496",
   "metadata": {},
   "outputs": [
    {
     "name": "stdout",
     "output_type": "stream",
     "text": [
      "Unique motif-sequence groups: 65,943\n"
     ]
    }
   ],
   "source": [
    "# group by motif & query name\n",
    "grouping_cols = [\"motif_name\", \"query_name\"]\n",
    "df_grouped = df_neg.groupby(grouping_cols)\n",
    "\n",
    "# get group names (keys)\n",
    "group_names = list(df_grouped.groups.keys())\n",
    "print(\"Unique motif-sequence groups: \" + \"{:,}\".format(len(group_names)))"
   ]
  },
  {
   "cell_type": "code",
   "execution_count": null,
   "id": "4ae30e51",
   "metadata": {},
   "outputs": [],
   "source": []
  },
  {
   "cell_type": "markdown",
   "id": "18064690",
   "metadata": {},
   "source": [
    "### merge formated fiberseq data with mokapot q-value"
   ]
  },
  {
   "cell_type": "markdown",
   "id": "a30e6d38",
   "metadata": {},
   "source": [
    "<font color=\"red\">__Why are there more rows after merging? Where did they come from?__</font>"
   ]
  },
  {
   "cell_type": "code",
   "execution_count": 34,
   "id": "c2c5e8a9",
   "metadata": {},
   "outputs": [],
   "source": [
    "# fix motif_query name\n",
    "res[\"motif_query\"] = res[\"motif_name\"]+\"/\"+res[\"query_name\"]"
   ]
  },
  {
   "cell_type": "code",
   "execution_count": 73,
   "id": "42e27215",
   "metadata": {},
   "outputs": [
    {
     "name": "stdout",
     "output_type": "stream",
     "text": [
      "res rows: 304,371 | cols: 131\n",
      "pos rows: 9,495,739 | cols: 16\n",
      "neg rows: 1,595,563 | cols: 16\n"
     ]
    }
   ],
   "source": [
    "print(\"res rows: {:,} | cols: {:,}\".format(res.shape[0], res.shape[1]))\n",
    "print(\"pos rows: {:,} | cols: {:,}\".format(df_pos.shape[0], df_pos.shape[1]))\n",
    "print(\"neg rows: {:,} | cols: {:,}\".format(df_neg.shape[0], df_neg.shape[1]))"
   ]
  },
  {
   "cell_type": "code",
   "execution_count": 79,
   "id": "af3ad412",
   "metadata": {
    "collapsed": true
   },
   "outputs": [
    {
     "data": {
      "text/html": [
       "<div>\n",
       "<style scoped>\n",
       "    .dataframe tbody tr th:only-of-type {\n",
       "        vertical-align: middle;\n",
       "    }\n",
       "\n",
       "    .dataframe tbody tr th {\n",
       "        vertical-align: top;\n",
       "    }\n",
       "\n",
       "    .dataframe thead th {\n",
       "        text-align: right;\n",
       "    }\n",
       "</style>\n",
       "<table border=\"1\" class=\"dataframe\">\n",
       "  <thead>\n",
       "    <tr style=\"text-align: right;\">\n",
       "      <th></th>\n",
       "      <th>motif_query</th>\n",
       "      <th>motif_name</th>\n",
       "      <th>query_name</th>\n",
       "      <th>msp_size</th>\n",
       "      <th>left_m6a_count</th>\n",
       "      <th>right_m6a_count</th>\n",
       "      <th>motif_m6a_count</th>\n",
       "      <th>left_AT_count</th>\n",
       "      <th>right_AT_count</th>\n",
       "      <th>motif_AT_count</th>\n",
       "      <th>...</th>\n",
       "      <th>TTA_count</th>\n",
       "      <th>TTA_m6a_prop</th>\n",
       "      <th>TTC_count</th>\n",
       "      <th>TTC_m6a_prop</th>\n",
       "      <th>TTG_count</th>\n",
       "      <th>TTG_m6a_prop</th>\n",
       "      <th>TTT_count</th>\n",
       "      <th>TTT_m6a_prop</th>\n",
       "      <th>Label</th>\n",
       "      <th>mokapot q-value</th>\n",
       "    </tr>\n",
       "  </thead>\n",
       "  <tbody>\n",
       "    <tr>\n",
       "      <th>304370</th>\n",
       "      <td>chrY_56848671_+/m54329U_210810_004956/39979417...</td>\n",
       "      <td>chrY_56848671_+</td>\n",
       "      <td>m54329U_210810_004956/39979417/ccs</td>\n",
       "      <td>59.0</td>\n",
       "      <td>1.0</td>\n",
       "      <td>3.0</td>\n",
       "      <td>3.0</td>\n",
       "      <td>19.0</td>\n",
       "      <td>21.0</td>\n",
       "      <td>17.0</td>\n",
       "      <td>...</td>\n",
       "      <td>0.0</td>\n",
       "      <td>0.0</td>\n",
       "      <td>1.0</td>\n",
       "      <td>0.0</td>\n",
       "      <td>2.0</td>\n",
       "      <td>0.0</td>\n",
       "      <td>1.0</td>\n",
       "      <td>0.333333</td>\n",
       "      <td>-1</td>\n",
       "      <td>1.0</td>\n",
       "    </tr>\n",
       "  </tbody>\n",
       "</table>\n",
       "<p>1 rows × 131 columns</p>\n",
       "</div>"
      ],
      "text/plain": [
       "                                              motif_query       motif_name  \\\n",
       "304370  chrY_56848671_+/m54329U_210810_004956/39979417...  chrY_56848671_+   \n",
       "\n",
       "                                query_name  msp_size  left_m6a_count  \\\n",
       "304370  m54329U_210810_004956/39979417/ccs      59.0             1.0   \n",
       "\n",
       "        right_m6a_count  motif_m6a_count  left_AT_count  right_AT_count  \\\n",
       "304370              3.0              3.0           19.0            21.0   \n",
       "\n",
       "        motif_AT_count  ...  TTA_count  TTA_m6a_prop  TTC_count  TTC_m6a_prop  \\\n",
       "304370            17.0  ...        0.0           0.0        1.0           0.0   \n",
       "\n",
       "        TTG_count  TTG_m6a_prop  TTT_count  TTT_m6a_prop  Label  \\\n",
       "304370        2.0           0.0        1.0      0.333333     -1   \n",
       "\n",
       "        mokapot q-value  \n",
       "304370              1.0  \n",
       "\n",
       "[1 rows x 131 columns]"
      ]
     },
     "execution_count": 79,
     "metadata": {},
     "output_type": "execute_result"
    }
   ],
   "source": [
    "res.tail(1)"
   ]
  },
  {
   "cell_type": "code",
   "execution_count": 77,
   "id": "0aadb6f2",
   "metadata": {
    "collapsed": true
   },
   "outputs": [
    {
     "data": {
      "text/html": [
       "<div>\n",
       "<style scoped>\n",
       "    .dataframe tbody tr th:only-of-type {\n",
       "        vertical-align: middle;\n",
       "    }\n",
       "\n",
       "    .dataframe tbody tr th {\n",
       "        vertical-align: top;\n",
       "    }\n",
       "\n",
       "    .dataframe thead th {\n",
       "        text-align: right;\n",
       "    }\n",
       "</style>\n",
       "<table border=\"1\" class=\"dataframe\">\n",
       "  <thead>\n",
       "    <tr style=\"text-align: right;\">\n",
       "      <th></th>\n",
       "      <th>motif_query</th>\n",
       "      <th>motif_name</th>\n",
       "      <th>chrom</th>\n",
       "      <th>centering_position</th>\n",
       "      <th>strand</th>\n",
       "      <th>subset_sequence</th>\n",
       "      <th>reference_start</th>\n",
       "      <th>reference_end</th>\n",
       "      <th>query_name</th>\n",
       "      <th>centered_query_start</th>\n",
       "      <th>centered_query_end</th>\n",
       "      <th>query_length</th>\n",
       "      <th>centered_position_type</th>\n",
       "      <th>centered_start</th>\n",
       "      <th>centered_end</th>\n",
       "      <th>msp_size</th>\n",
       "    </tr>\n",
       "  </thead>\n",
       "  <tbody>\n",
       "    <tr>\n",
       "      <th>0</th>\n",
       "      <td>chr1_1033080_+/m54329U_210813_020940/24183559/ccs</td>\n",
       "      <td>chr1_1033080_+</td>\n",
       "      <td>chr1</td>\n",
       "      <td>1033080</td>\n",
       "      <td>+</td>\n",
       "      <td>GACCTACGGGGGCGGGTGTGGGGACGCCGGACTACGCGTCAGGAGT...</td>\n",
       "      <td>1008277</td>\n",
       "      <td>1033947</td>\n",
       "      <td>m54329U_210813_020940/24183559/ccs</td>\n",
       "      <td>-24816</td>\n",
       "      <td>861</td>\n",
       "      <td>25677</td>\n",
       "      <td>m6a</td>\n",
       "      <td>-77</td>\n",
       "      <td>-76</td>\n",
       "      <td>225</td>\n",
       "    </tr>\n",
       "  </tbody>\n",
       "</table>\n",
       "</div>"
      ],
      "text/plain": [
       "                                         motif_query      motif_name chrom  \\\n",
       "0  chr1_1033080_+/m54329U_210813_020940/24183559/ccs  chr1_1033080_+  chr1   \n",
       "\n",
       "   centering_position strand  \\\n",
       "0             1033080      +   \n",
       "\n",
       "                                     subset_sequence  reference_start  \\\n",
       "0  GACCTACGGGGGCGGGTGTGGGGACGCCGGACTACGCGTCAGGAGT...          1008277   \n",
       "\n",
       "   reference_end                          query_name  centered_query_start  \\\n",
       "0        1033947  m54329U_210813_020940/24183559/ccs                -24816   \n",
       "\n",
       "   centered_query_end  query_length centered_position_type  centered_start  \\\n",
       "0                 861         25677                    m6a             -77   \n",
       "\n",
       "   centered_end  msp_size  \n",
       "0           -76       225  "
      ]
     },
     "execution_count": 77,
     "metadata": {},
     "output_type": "execute_result"
    }
   ],
   "source": [
    "df_pos.head(1)"
   ]
  },
  {
   "cell_type": "code",
   "execution_count": 78,
   "id": "47465c09",
   "metadata": {},
   "outputs": [
    {
     "data": {
      "text/html": [
       "<div>\n",
       "<style scoped>\n",
       "    .dataframe tbody tr th:only-of-type {\n",
       "        vertical-align: middle;\n",
       "    }\n",
       "\n",
       "    .dataframe tbody tr th {\n",
       "        vertical-align: top;\n",
       "    }\n",
       "\n",
       "    .dataframe thead th {\n",
       "        text-align: right;\n",
       "    }\n",
       "</style>\n",
       "<table border=\"1\" class=\"dataframe\">\n",
       "  <thead>\n",
       "    <tr style=\"text-align: right;\">\n",
       "      <th></th>\n",
       "      <th>motif_query</th>\n",
       "      <th>motif_name</th>\n",
       "      <th>chrom</th>\n",
       "      <th>centering_position</th>\n",
       "      <th>strand</th>\n",
       "      <th>subset_sequence</th>\n",
       "      <th>reference_start</th>\n",
       "      <th>reference_end</th>\n",
       "      <th>query_name</th>\n",
       "      <th>centered_query_start</th>\n",
       "      <th>centered_query_end</th>\n",
       "      <th>query_length</th>\n",
       "      <th>centered_position_type</th>\n",
       "      <th>centered_start</th>\n",
       "      <th>centered_end</th>\n",
       "      <th>msp_size</th>\n",
       "    </tr>\n",
       "  </thead>\n",
       "  <tbody>\n",
       "    <tr>\n",
       "      <th>0</th>\n",
       "      <td>chr1_11256_-/m54329U_210810_004956/34799917/ccs</td>\n",
       "      <td>chr1_11256_-</td>\n",
       "      <td>chr1</td>\n",
       "      <td>11256</td>\n",
       "      <td>-</td>\n",
       "      <td>TGCCAGCAGGCGGCGTGCCACCACTATACAGTAAGCAAGAGGGCCC...</td>\n",
       "      <td>10000</td>\n",
       "      <td>26121</td>\n",
       "      <td>m54329U_210810_004956/34799917/ccs</td>\n",
       "      <td>-6067</td>\n",
       "      <td>14864</td>\n",
       "      <td>20931</td>\n",
       "      <td>m6a</td>\n",
       "      <td>-81</td>\n",
       "      <td>-80</td>\n",
       "      <td>317</td>\n",
       "    </tr>\n",
       "  </tbody>\n",
       "</table>\n",
       "</div>"
      ],
      "text/plain": [
       "                                       motif_query    motif_name chrom  \\\n",
       "0  chr1_11256_-/m54329U_210810_004956/34799917/ccs  chr1_11256_-  chr1   \n",
       "\n",
       "   centering_position strand  \\\n",
       "0               11256      -   \n",
       "\n",
       "                                     subset_sequence  reference_start  \\\n",
       "0  TGCCAGCAGGCGGCGTGCCACCACTATACAGTAAGCAAGAGGGCCC...            10000   \n",
       "\n",
       "   reference_end                          query_name  centered_query_start  \\\n",
       "0          26121  m54329U_210810_004956/34799917/ccs                 -6067   \n",
       "\n",
       "   centered_query_end  query_length centered_position_type  centered_start  \\\n",
       "0               14864         20931                    m6a             -81   \n",
       "\n",
       "   centered_end  msp_size  \n",
       "0           -80       317  "
      ]
     },
     "execution_count": 78,
     "metadata": {},
     "output_type": "execute_result"
    }
   ],
   "source": [
    "df_neg.head(1)"
   ]
  },
  {
   "cell_type": "code",
   "execution_count": 86,
   "id": "513e1385",
   "metadata": {},
   "outputs": [
    {
     "name": "stdout",
     "output_type": "stream",
     "text": [
      "res rows: 304,371 | cols: 131\n",
      "pos rows: 9,495,739 | cols: 16\n",
      "neg rows: 1,595,563 | cols: 16\n"
     ]
    }
   ],
   "source": [
    "print(\"res rows: {:,} | cols: {:,}\".format(res.shape[0], res.shape[1]))\n",
    "print(\"pos rows: {:,} | cols: {:,}\".format(df_pos.shape[0], df_pos.shape[1]))\n",
    "print(\"neg rows: {:,} | cols: {:,}\".format(df_neg.shape[0], df_neg.shape[1]))"
   ]
  },
  {
   "cell_type": "code",
   "execution_count": 41,
   "id": "7db55dc3",
   "metadata": {},
   "outputs": [
    {
     "name": "stdout",
     "output_type": "stream",
     "text": [
      "rows: 9,498,533 | cols: 18\n"
     ]
    }
   ],
   "source": [
    "# add mokapot q-value to POS table\n",
    "d = pd.merge(df_pos, res[[\"motif_query\", \"Label\", \"mokapot q-value\"]], on=\"motif_query\", how=\"inner\")\n",
    "print(\"rows: {:,} | cols: {:,}\".format(d.shape[0], d.shape[1]))"
   ]
  },
  {
   "cell_type": "code",
   "execution_count": 63,
   "id": "2c1bf75e",
   "metadata": {},
   "outputs": [
    {
     "name": "stdout",
     "output_type": "stream",
     "text": [
      "Saving to: CTCF_L.mokapot.m6a_fiberseq-positive.txt\n"
     ]
    }
   ],
   "source": [
    "# save merged POS table\n",
    "output_file = mokapot_file.replace(\"features.txt\", \"m6a_fiberseq-positive.txt\")\n",
    "d.to_csv(output_file, sep=\"\\t\", header=True, index=False)\n",
    "print(\"Saving to: {}\".format(os.path.basename(output_file)))"
   ]
  },
  {
   "cell_type": "code",
   "execution_count": 85,
   "id": "5178c420",
   "metadata": {},
   "outputs": [
    {
     "name": "stdout",
     "output_type": "stream",
     "text": [
      "rows: 1,595,563 | cols: 18\n"
     ]
    }
   ],
   "source": [
    "# add mokapot q-value to NEG table\n",
    "d_n = pd.merge(df_neg, res[[\"motif_query\", \"Label\", \"mokapot q-value\"]], on=\"motif_query\", how=\"inner\")\n",
    "print(\"rows: {:,} | cols: {:,}\".format(d_n.shape[0], d_n.shape[1]))"
   ]
  },
  {
   "cell_type": "code",
   "execution_count": 87,
   "id": "3e8e04b6",
   "metadata": {},
   "outputs": [
    {
     "name": "stdout",
     "output_type": "stream",
     "text": [
      "Saving to: CTCF_L.mokapot.m6a_fiberseq-negative.txt\n"
     ]
    }
   ],
   "source": [
    "# save merged NEG table\n",
    "output_file = mokapot_file.replace(\"features.txt\", \"m6a_fiberseq-negative.txt\")\n",
    "d_n.to_csv(output_file, sep=\"\\t\", header=True, index=False)\n",
    "print(\"Saving to: {}\".format(os.path.basename(output_file)))"
   ]
  },
  {
   "cell_type": "markdown",
   "id": "3564c2b0",
   "metadata": {},
   "source": [
    "__merge POS & NEG data__"
   ]
  },
  {
   "cell_type": "code",
   "execution_count": 94,
   "id": "390a9080",
   "metadata": {},
   "outputs": [
    {
     "name": "stdout",
     "output_type": "stream",
     "text": [
      "pos rows: 9,498,533 | cols: 18\n",
      "neg rows: 1,595,563 | cols: 18\n"
     ]
    }
   ],
   "source": [
    "print(\"pos rows: {:,} | cols: {:,}\".format(d.shape[0], d.shape[1]))\n",
    "print(\"neg rows: {:,} | cols: {:,}\".format(d_n.shape[0], d_n.shape[1]))"
   ]
  },
  {
   "cell_type": "code",
   "execution_count": 100,
   "id": "fd957a23",
   "metadata": {},
   "outputs": [
    {
     "name": "stdout",
     "output_type": "stream",
     "text": [
      "rows: 11,094,096 | cols: 18\n"
     ]
    }
   ],
   "source": [
    "# merge negative features with positive features (append rows)\n",
    "d_merged = pd.concat([d, d_n])\n",
    "print(\"rows: {:,} | cols: {:,}\".format(d_merged.shape[0], d_merged.shape[1]))"
   ]
  },
  {
   "cell_type": "code",
   "execution_count": 102,
   "id": "4df4a4d5",
   "metadata": {},
   "outputs": [
    {
     "name": "stdout",
     "output_type": "stream",
     "text": [
      "Saving to: CTCF_L.mokapot.m6a_fiberseq.txt\n"
     ]
    }
   ],
   "source": [
    "# save merged table\n",
    "output_file = mokapot_file.replace(\"features.txt\", \"m6a_fiberseq.txt\")\n",
    "d_merged.to_csv(output_file, sep=\"\\t\", header=True, index=False)\n",
    "print(\"Saving to: {}\".format(os.path.basename(output_file)))"
   ]
  },
  {
   "cell_type": "code",
   "execution_count": null,
   "id": "0995d3c5",
   "metadata": {},
   "outputs": [],
   "source": []
  },
  {
   "cell_type": "code",
   "execution_count": null,
   "id": "b33094ca",
   "metadata": {},
   "outputs": [],
   "source": []
  },
  {
   "cell_type": "code",
   "execution_count": 34,
   "id": "06b0f94f",
   "metadata": {},
   "outputs": [
    {
     "name": "stdout",
     "output_type": "stream",
     "text": [
      "Pos features - rows: 238,348 | cols: 129\n"
     ]
    }
   ],
   "source": [
    "df_pos.insert(loc=0, column=\"motif_query\", value=(df_pos[\"motif_name\"] + df_pos[\"query_name\"]))\n",
    "print(\"Pos features - rows: {:,} | cols: {:,}\".format(df_pos.shape[0], df_pos.shape[1]))"
   ]
  },
  {
   "cell_type": "code",
   "execution_count": 14,
   "id": "c36bdac2",
   "metadata": {},
   "outputs": [
    {
     "name": "stdout",
     "output_type": "stream",
     "text": [
      "Neg features - rows: 65,943 | cols: 129\n"
     ]
    }
   ],
   "source": [
    "# feature file\n",
    "neg_file = \"{}/CTCF_m6a_fiberseq_L_100bp_small_negative_features-motif_query.txt\".format(data_dir)\n",
    "assert os.path.exists(neg_file), f\"ERROR: file not found: {neg_file}\"\n",
    "\n",
    "# read feature file\n",
    "df_neg = pd.read_csv(neg_file, sep=\"\\t\")\n",
    "print(\"Neg features - rows: {:,} | cols: {:,}\".format(df_neg.shape[0], df_neg.shape[1]))"
   ]
  },
  {
   "cell_type": "code",
   "execution_count": 23,
   "id": "4ed47b16",
   "metadata": {},
   "outputs": [
    {
     "name": "stdout",
     "output_type": "stream",
     "text": [
      "Total feature rows: 304,291\n"
     ]
    }
   ],
   "source": [
    "print(\"Total feature rows: {:,}\".format(df_pos.shape[0]+df_neg.shape[0]))"
   ]
  },
  {
   "cell_type": "code",
   "execution_count": 24,
   "id": "9f3f268b",
   "metadata": {},
   "outputs": [
    {
     "name": "stdout",
     "output_type": "stream",
     "text": [
      "Pin features - rows: 304,291 | cols: 131\n"
     ]
    }
   ],
   "source": [
    "# input pin file\n",
    "pin_file = \"{}/CTCF_m6a_fiberseq_L_100bp_features.pin\".format(data_dir)\n",
    "assert os.path.exists(pin_file), f\"ERROR: file not found: {pin_file}\"\n",
    "\n",
    "# read pin\n",
    "pin = pd.read_csv(pin_file, sep=\"\\t\")\n",
    "print(\"Pin features - rows: {:,} | cols: {:,}\".format(pin.shape[0], pin.shape[1]))"
   ]
  },
  {
   "cell_type": "code",
   "execution_count": null,
   "id": "e6303ed2",
   "metadata": {},
   "outputs": [],
   "source": []
  },
  {
   "cell_type": "code",
   "execution_count": null,
   "id": "6886ef7e",
   "metadata": {},
   "outputs": [],
   "source": []
  },
  {
   "cell_type": "code",
   "execution_count": null,
   "id": "2061e3a2",
   "metadata": {},
   "outputs": [],
   "source": []
  },
  {
   "cell_type": "code",
   "execution_count": null,
   "id": "8f9d482c",
   "metadata": {},
   "outputs": [],
   "source": []
  },
  {
   "cell_type": "code",
   "execution_count": null,
   "id": "0e0fdd27",
   "metadata": {},
   "outputs": [],
   "source": []
  },
  {
   "cell_type": "code",
   "execution_count": null,
   "id": "f41b4c94",
   "metadata": {},
   "outputs": [],
   "source": []
  },
  {
   "cell_type": "markdown",
   "id": "dc2a70e6",
   "metadata": {},
   "source": [
    "### match mokapot res to features"
   ]
  },
  {
   "cell_type": "code",
   "execution_count": 43,
   "id": "e9109bd9",
   "metadata": {
    "collapsed": true
   },
   "outputs": [
    {
     "data": {
      "text/html": [
       "<div>\n",
       "<style scoped>\n",
       "    .dataframe tbody tr th:only-of-type {\n",
       "        vertical-align: middle;\n",
       "    }\n",
       "\n",
       "    .dataframe tbody tr th {\n",
       "        vertical-align: top;\n",
       "    }\n",
       "\n",
       "    .dataframe thead th {\n",
       "        text-align: right;\n",
       "    }\n",
       "</style>\n",
       "<table border=\"1\" class=\"dataframe\">\n",
       "  <thead>\n",
       "    <tr style=\"text-align: right;\">\n",
       "      <th></th>\n",
       "      <th>SpecID</th>\n",
       "      <th>Label</th>\n",
       "      <th>Peptide</th>\n",
       "      <th>scannr</th>\n",
       "      <th>mokapot score</th>\n",
       "      <th>mokapot q-value</th>\n",
       "      <th>mokapot PEP</th>\n",
       "      <th>Proteins</th>\n",
       "    </tr>\n",
       "  </thead>\n",
       "  <tbody>\n",
       "    <tr>\n",
       "      <th>0</th>\n",
       "      <td>0</td>\n",
       "      <td>True</td>\n",
       "      <td>0</td>\n",
       "      <td>0</td>\n",
       "      <td>0.972169</td>\n",
       "      <td>0.001651</td>\n",
       "      <td>0.004676</td>\n",
       "      <td>0</td>\n",
       "    </tr>\n",
       "    <tr>\n",
       "      <th>1</th>\n",
       "      <td>1</td>\n",
       "      <td>True</td>\n",
       "      <td>1</td>\n",
       "      <td>1</td>\n",
       "      <td>0.985478</td>\n",
       "      <td>0.000817</td>\n",
       "      <td>0.002941</td>\n",
       "      <td>1</td>\n",
       "    </tr>\n",
       "    <tr>\n",
       "      <th>2</th>\n",
       "      <td>2</td>\n",
       "      <td>True</td>\n",
       "      <td>2</td>\n",
       "      <td>2</td>\n",
       "      <td>0.975089</td>\n",
       "      <td>0.001452</td>\n",
       "      <td>0.004233</td>\n",
       "      <td>2</td>\n",
       "    </tr>\n",
       "    <tr>\n",
       "      <th>3</th>\n",
       "      <td>3</td>\n",
       "      <td>True</td>\n",
       "      <td>3</td>\n",
       "      <td>3</td>\n",
       "      <td>0.754930</td>\n",
       "      <td>0.010283</td>\n",
       "      <td>0.126648</td>\n",
       "      <td>3</td>\n",
       "    </tr>\n",
       "    <tr>\n",
       "      <th>4</th>\n",
       "      <td>4</td>\n",
       "      <td>True</td>\n",
       "      <td>4</td>\n",
       "      <td>4</td>\n",
       "      <td>0.987861</td>\n",
       "      <td>0.000692</td>\n",
       "      <td>0.002701</td>\n",
       "      <td>4</td>\n",
       "    </tr>\n",
       "  </tbody>\n",
       "</table>\n",
       "</div>"
      ],
      "text/plain": [
       "   SpecID  Label  Peptide  scannr  mokapot score  mokapot q-value  \\\n",
       "0       0   True        0       0       0.972169         0.001651   \n",
       "1       1   True        1       1       0.985478         0.000817   \n",
       "2       2   True        2       2       0.975089         0.001452   \n",
       "3       3   True        3       3       0.754930         0.010283   \n",
       "4       4   True        4       4       0.987861         0.000692   \n",
       "\n",
       "   mokapot PEP  Proteins  \n",
       "0     0.004676         0  \n",
       "1     0.002941         1  \n",
       "2     0.004233         2  \n",
       "3     0.126648         3  \n",
       "4     0.002701         4  "
      ]
     },
     "execution_count": 43,
     "metadata": {},
     "output_type": "execute_result"
    }
   ],
   "source": [
    "res = res.sort_values(by=[\"SpecID\"], ascending=True, ignore_index=True)\n",
    "res.head()"
   ]
  },
  {
   "cell_type": "code",
   "execution_count": 50,
   "id": "ce248b0f",
   "metadata": {},
   "outputs": [
    {
     "data": {
      "text/plain": [
       "238348"
      ]
     },
     "execution_count": 50,
     "metadata": {},
     "output_type": "execute_result"
    }
   ],
   "source": [
    "df_pos.shape[0]"
   ]
  },
  {
   "cell_type": "code",
   "execution_count": 53,
   "id": "1544d330",
   "metadata": {},
   "outputs": [
    {
     "name": "stdout",
     "output_type": "stream",
     "text": [
      "rows: 238,428 | cols: 134\n"
     ]
    }
   ],
   "source": [
    "pin_pos = pd.merge(df_pos, pin.iloc[:df_pos.shape[0]], on=df_pos.columns.tolist()[3:], how=\"inner\")\n",
    "print(\"rows: {:,} | cols: {:,}\".format(pin_pos.shape[0], pin_pos.shape[1]))"
   ]
  },
  {
   "cell_type": "code",
   "execution_count": 57,
   "id": "5d516b93",
   "metadata": {},
   "outputs": [
    {
     "name": "stdout",
     "output_type": "stream",
     "text": [
      "rows: 238,428 | cols: 131\n"
     ]
    }
   ],
   "source": [
    "# remove unnecessary columns\n",
    "to_remove = [\"Peptide\", \"Proteins\", \"scannr\"]\n",
    "pin_pos = pin_pos.drop(to_remove, axis=1)\n",
    "print(\"rows: {:,} | cols: {:,}\".format(pin_pos.shape[0], pin_pos.shape[1]))"
   ]
  },
  {
   "cell_type": "code",
   "execution_count": 59,
   "id": "871b314a",
   "metadata": {
    "collapsed": true
   },
   "outputs": [
    {
     "data": {
      "text/html": [
       "<div>\n",
       "<style scoped>\n",
       "    .dataframe tbody tr th:only-of-type {\n",
       "        vertical-align: middle;\n",
       "    }\n",
       "\n",
       "    .dataframe tbody tr th {\n",
       "        vertical-align: top;\n",
       "    }\n",
       "\n",
       "    .dataframe thead th {\n",
       "        text-align: right;\n",
       "    }\n",
       "</style>\n",
       "<table border=\"1\" class=\"dataframe\">\n",
       "  <thead>\n",
       "    <tr style=\"text-align: right;\">\n",
       "      <th></th>\n",
       "      <th>SpecID</th>\n",
       "      <th>Label</th>\n",
       "      <th>Peptide</th>\n",
       "      <th>scannr</th>\n",
       "      <th>mokapot score</th>\n",
       "      <th>mokapot q-value</th>\n",
       "      <th>mokapot PEP</th>\n",
       "      <th>Proteins</th>\n",
       "    </tr>\n",
       "  </thead>\n",
       "  <tbody>\n",
       "    <tr>\n",
       "      <th>0</th>\n",
       "      <td>0</td>\n",
       "      <td>1</td>\n",
       "      <td>0</td>\n",
       "      <td>0</td>\n",
       "      <td>0.972169</td>\n",
       "      <td>0.001651</td>\n",
       "      <td>0.004676</td>\n",
       "      <td>0</td>\n",
       "    </tr>\n",
       "    <tr>\n",
       "      <th>1</th>\n",
       "      <td>1</td>\n",
       "      <td>1</td>\n",
       "      <td>1</td>\n",
       "      <td>1</td>\n",
       "      <td>0.985478</td>\n",
       "      <td>0.000817</td>\n",
       "      <td>0.002941</td>\n",
       "      <td>1</td>\n",
       "    </tr>\n",
       "    <tr>\n",
       "      <th>2</th>\n",
       "      <td>2</td>\n",
       "      <td>1</td>\n",
       "      <td>2</td>\n",
       "      <td>2</td>\n",
       "      <td>0.975089</td>\n",
       "      <td>0.001452</td>\n",
       "      <td>0.004233</td>\n",
       "      <td>2</td>\n",
       "    </tr>\n",
       "    <tr>\n",
       "      <th>3</th>\n",
       "      <td>3</td>\n",
       "      <td>1</td>\n",
       "      <td>3</td>\n",
       "      <td>3</td>\n",
       "      <td>0.754930</td>\n",
       "      <td>0.010283</td>\n",
       "      <td>0.126648</td>\n",
       "      <td>3</td>\n",
       "    </tr>\n",
       "    <tr>\n",
       "      <th>4</th>\n",
       "      <td>4</td>\n",
       "      <td>1</td>\n",
       "      <td>4</td>\n",
       "      <td>4</td>\n",
       "      <td>0.987861</td>\n",
       "      <td>0.000692</td>\n",
       "      <td>0.002701</td>\n",
       "      <td>4</td>\n",
       "    </tr>\n",
       "  </tbody>\n",
       "</table>\n",
       "</div>"
      ],
      "text/plain": [
       "   SpecID  Label  Peptide  scannr  mokapot score  mokapot q-value  \\\n",
       "0       0      1        0       0       0.972169         0.001651   \n",
       "1       1      1        1       1       0.985478         0.000817   \n",
       "2       2      1        2       2       0.975089         0.001452   \n",
       "3       3      1        3       3       0.754930         0.010283   \n",
       "4       4      1        4       4       0.987861         0.000692   \n",
       "\n",
       "   mokapot PEP  Proteins  \n",
       "0     0.004676         0  \n",
       "1     0.002941         1  \n",
       "2     0.004233         2  \n",
       "3     0.126648         3  \n",
       "4     0.002701         4  "
      ]
     },
     "execution_count": 59,
     "metadata": {},
     "output_type": "execute_result"
    }
   ],
   "source": [
    "# change Label to bool\n",
    "res.Label = res.Label.replace({True: 1, False: 0})\n",
    "res.head()"
   ]
  },
  {
   "cell_type": "code",
   "execution_count": 65,
   "id": "c6c6a0e9",
   "metadata": {},
   "outputs": [
    {
     "name": "stdout",
     "output_type": "stream",
     "text": [
      "rows: 238,428 | cols: 131\n"
     ]
    }
   ],
   "source": [
    "# merge \"mokapot q-value\" with pin_pos\n",
    "res_feat = pd.merge(pin_pos, res[[\"SpecID\", \"Label\", \"mokapot q-value\"]], on=[\"SpecID\", \"Label\"], how=\"inner\")\n",
    "print(\"rows: {:,} | cols: {:,}\".format(pin_pos.shape[0], pin_pos.shape[1]))"
   ]
  },
  {
   "cell_type": "code",
   "execution_count": 77,
   "id": "86f00f41",
   "metadata": {},
   "outputs": [
    {
     "name": "stdout",
     "output_type": "stream",
     "text": [
      "rows: 238,428 | cols: 131\n"
     ]
    }
   ],
   "source": [
    "# remove unnecessary columns\n",
    "to_remove = [\"SpecID\"]\n",
    "res_feat = res_feat.drop(to_remove, axis=1)\n",
    "print(\"rows: {:,} | cols: {:,}\".format(res_feat.shape[0], res_feat.shape[1]))"
   ]
  },
  {
   "cell_type": "code",
   "execution_count": 72,
   "id": "8a352211",
   "metadata": {},
   "outputs": [],
   "source": [
    "# add Label column = -1 & mokapot q-value = 0\n",
    "df_neg[\"Label\"] = -1\n",
    "# add mokapot q-value's = 1\n",
    "df_neg[\"mokapot q-value\"] = 1"
   ]
  },
  {
   "cell_type": "code",
   "execution_count": 83,
   "id": "bf522185",
   "metadata": {},
   "outputs": [
    {
     "name": "stdout",
     "output_type": "stream",
     "text": [
      "rows: 304,371 | cols: 131\n"
     ]
    }
   ],
   "source": [
    "# merge negative features with positive features\n",
    "res_feat = pd.concat([res_feat, df_neg])\n",
    "print(\"rows: {:,} | cols: {:,}\".format(res_feat.shape[0], res_feat.shape[1]))"
   ]
  },
  {
   "cell_type": "code",
   "execution_count": 89,
   "id": "328673fa",
   "metadata": {},
   "outputs": [
    {
     "name": "stdout",
     "output_type": "stream",
     "text": [
      "CTCF_L.mokapot.psms.txt\n",
      "Saving to: CTCF_L.mokapot.features.txt\n"
     ]
    }
   ],
   "source": [
    "# save output\n",
    "print(os.path.basename(mokapot_file))\n",
    "output_file = mokapot_file.replace(\"psms.txt\", \"features.txt\")\n",
    "res_feat.to_csv(output_file, sep=\"\\t\", header=True, index=False)\n",
    "print(\"Saving to: {}\".format(os.path.basename(output_file)))"
   ]
  },
  {
   "cell_type": "code",
   "execution_count": null,
   "id": "f38176db",
   "metadata": {},
   "outputs": [],
   "source": []
  },
  {
   "cell_type": "markdown",
   "id": "f9d3e7c1",
   "metadata": {
    "heading_collapsed": true
   },
   "source": [
    "### make & save mokapot plot"
   ]
  },
  {
   "cell_type": "code",
   "execution_count": 92,
   "id": "9d4b2a7a",
   "metadata": {
    "hidden": true
   },
   "outputs": [
    {
     "name": "stdout",
     "output_type": "stream",
     "text": [
      "Making accessibility model.\n",
      "dataset size: 304,291\n",
      "Train - rows: 304,291 | columns: 131\n"
     ]
    }
   ],
   "source": [
    "print(\"Making accessibility model.\")\n",
    "print(\"dataset size: {:,}\".format(pin.shape[0]))\n",
    "\n",
    "train = pin\n",
    "# PSM (peptide-spectrum matches, proteomics thing)\n",
    "train_psms = mokapot.read_pin(train)\n",
    "print(\"Train - rows: {:,} | columns: {:,}\".format(train.shape[0], train.shape[1]))\n",
    "# weighing for imbalanced data\n",
    "scale_pos_weight = sum(train.Label == -1) / sum(train.Label == 1)\n",
    "\n",
    "# hyper paramaters for XGBoost\n",
    "grid = {\n",
    "    # decision trees in model\n",
    "    \"n_estimators\": [25, 50, 100],\n",
    "    \"scale_pos_weight\": [scale_pos_weight],\n",
    "    # depth of tree\n",
    "    \"max_depth\": [3, 6, 9],\n",
    "    # rows a terminal leaf need to touch to be kept\n",
    "    \"min_child_weight\": [3, 6, 9],\n",
    "    # learning rate\n",
    "    \"gamma\": [0.1, 1, 10],\n",
    "}\n",
    "\n",
    "# set up model (ensemble classifier)\n",
    "xgb_mod = GridSearchCV(\n",
    "    XGBClassifier(eval_metric = \"auc\"),\n",
    "    param_grid = grid,\n",
    "    cv = 3,\n",
    "    # receiver operator curve\n",
    "    scoring = \"roc_auc\",\n",
    "    verbose = 2,\n",
    ")"
   ]
  },
  {
   "cell_type": "code",
   "execution_count": null,
   "id": "9e49fe04",
   "metadata": {
    "hidden": true
   },
   "outputs": [
    {
     "name": "stdout",
     "output_type": "stream",
     "text": [
      "Running mokapot.\n"
     ]
    },
    {
     "name": "stderr",
     "output_type": "stream",
     "text": [
      "WARNING:mokapot.model:The provided subset value (2000000) is larger than the number of psms in the training split (202861), so it will be ignored.\n"
     ]
    },
    {
     "name": "stdout",
     "output_type": "stream",
     "text": [
      "Fitting 3 folds for each of 81 candidates, totalling 243 fits\n"
     ]
    }
   ],
   "source": [
    "print(\"Running mokapot.\")\n",
    "train_fdr = 0.10\n",
    "test_fdr = 0.05\n",
    "subset_max_train = 2_000_000\n",
    "\n",
    "# machine learning model to re-score PSMs\n",
    "mod = mokapot.Model(xgb_mod, train_fdr=train_fdr, subset_max_train=subset_max_train)\n",
    "# run mokapot\n",
    "moka_conf, models = mokapot.brew(psms=train_psms, model=mod, test_fdr=test_fdr)"
   ]
  },
  {
   "cell_type": "code",
   "execution_count": null,
   "id": "84f50e99",
   "metadata": {
    "hidden": true
   },
   "outputs": [],
   "source": []
  },
  {
   "cell_type": "code",
   "execution_count": null,
   "id": "0cf3194f",
   "metadata": {
    "hidden": true
   },
   "outputs": [],
   "source": [
    "# run mokapot\n",
    "moka_conf, models = "
   ]
  },
  {
   "cell_type": "code",
   "execution_count": null,
   "id": "7e2c8785",
   "metadata": {
    "hidden": true
   },
   "outputs": [],
   "source": []
  },
  {
   "cell_type": "code",
   "execution_count": null,
   "id": "f0c2ec53",
   "metadata": {
    "hidden": true
   },
   "outputs": [],
   "source": []
  },
  {
   "cell_type": "code",
   "execution_count": null,
   "id": "f9ce5173",
   "metadata": {
    "hidden": true
   },
   "outputs": [],
   "source": []
  },
  {
   "cell_type": "markdown",
   "id": "f4459fde",
   "metadata": {},
   "source": [
    "### match mokapot res to fiberseq data (from ft-center)"
   ]
  },
  {
   "cell_type": "code",
   "execution_count": null,
   "id": "1868c0d3",
   "metadata": {},
   "outputs": [],
   "source": [
    "psms = "
   ]
  },
  {
   "cell_type": "code",
   "execution_count": null,
   "id": "f1900b9f",
   "metadata": {},
   "outputs": [],
   "source": []
  },
  {
   "cell_type": "code",
   "execution_count": null,
   "id": "50d1afe3",
   "metadata": {},
   "outputs": [],
   "source": []
  },
  {
   "cell_type": "code",
   "execution_count": null,
   "id": "6fd8cfe6",
   "metadata": {},
   "outputs": [],
   "source": []
  }
 ],
 "metadata": {
  "kernelspec": {
   "display_name": "Python [conda env:fiberseq-smk] *",
   "language": "python",
   "name": "conda-env-fiberseq-smk-py"
  },
  "language_info": {
   "codemirror_mode": {
    "name": "ipython",
    "version": 3
   },
   "file_extension": ".py",
   "mimetype": "text/x-python",
   "name": "python",
   "nbconvert_exporter": "python",
   "pygments_lexer": "ipython3",
   "version": "3.9.15"
  },
  "toc": {
   "base_numbering": 1,
   "nav_menu": {},
   "number_sections": false,
   "sideBar": false,
   "skip_h1_title": true,
   "title_cell": "Table of Contents",
   "title_sidebar": "Contents",
   "toc_cell": false,
   "toc_position": {},
   "toc_section_display": true,
   "toc_window_display": false
  }
 },
 "nbformat": 4,
 "nbformat_minor": 5
}
