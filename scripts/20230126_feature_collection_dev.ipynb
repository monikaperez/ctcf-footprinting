{
 "cells": [
  {
   "cell_type": "markdown",
   "metadata": {},
   "source": [
    "# CTCF feature extraction"
   ]
  },
  {
   "cell_type": "markdown",
   "metadata": {},
   "source": [
    "requirements\n",
    "* try: 40 bp window on left, 40-80 bp window on after motif on right (don't need to go 100s bp out)\n",
    "* within an MSP [centered_start <= 0, centered_end >= 35]\n",
    "* remove observations with N flanking or in the motif\n",
    "* no FDR filtering "
   ]
  },
  {
   "cell_type": "markdown",
   "metadata": {},
   "source": [
    "potential features\n",
    "* [x] read length [query_length]\n",
    "* [x] 3-mer k-mer count within canonical motif (exclude k-mers without AT) [24 possible 3-mers]\n",
    "* [x] m6a proportion/total possible m6a instances per k-mer\n",
    "* [x] m6a count for: (motif, 40 bp flank left, 40 bp flank right)\n",
    "* [x] AT count for: (motif, flank left, flank right)\n",
    "* [x] proportion of methylated ATs per element (motif, flank left, flank right) (0-1)\n",
    "* [x] proportion of bases that are AT per element (0-1)\n",
    "* [x] total methylation across the read (% of ATs that were methylated across read) [use subseq_sequence for now]\n",
    "* [x] MSP size\n",
    "* [ ] do run length encoding of motif in AT space"
   ]
  },
  {
   "cell_type": "markdown",
   "metadata": {
    "heading_collapsed": true
   },
   "source": [
    "#### table interpretation"
   ]
  },
  {
   "cell_type": "markdown",
   "metadata": {
    "hidden": true
   },
   "source": [
    "in matrix:\n",
    "* each row reflects 1 prediction we want\n",
    "* i.e. every row will be all the info we want for a group_by done on motif_name (chrom, centering_position, strand) & query_name\n",
    "* per query_name, per motif_name: predict if a query_name at a site (motif) is bound by a CTCF"
   ]
  },
  {
   "cell_type": "markdown",
   "metadata": {
    "hidden": true
   },
   "source": [
    "| col num | col | meaning |\n",
    "| :---: | :-- | :-- |\n",
    "| 0 | chrom | chromosome |\n",
    "| 1 | centering_position | motif start when aligned to reference |\n",
    "| 2 | strand | strand |\n",
    "| 3 | subset_sequence | sequence flanking motif start x bps on each side |\n",
    "| 4 | reference_start | starting position of HiFi read when aligned to reference |\n",
    "| 5 | reference_end | ending position of HiFi read |\n",
    "| 6 | query_name | fiber (or sequencing read) name |\n",
    "| 7 | centered_query_start | HiFi read start relative to motif start |\n",
    "| 8 | centered_query_end | HiFi read end relative to motif start |\n",
    "| 9 | query_length | HiFi read length (~20,000 bps) |\n",
    "| 10 | centered_position_type | event type |\n",
    "| 11 | centered_start | distance of event start to centering position |\n",
    "| 12 | centered_end | distance of event end to centering position |"
   ]
  },
  {
   "cell_type": "markdown",
   "metadata": {
    "hidden": true
   },
   "source": [
    "data interpratation\n",
    "* unique motifs: same chrom, centering_position, strand\n",
    "* fiber (sequencing read): all elements with the same query_name\n",
    "* to get m6a events over a single fiber on a single motif: group by the first 3 columns and the query_name\n",
    "* same chrom, centering_position, strand, & query_name: should have the same subset_sequence\n",
    "* subset_sequence is not the same for the same motif. m6a mods & sequence come from the sequencing read named in query_name & genetic_variation is expected"
   ]
  },
  {
   "cell_type": "markdown",
   "metadata": {},
   "source": [
    "#### output table"
   ]
  },
  {
   "cell_type": "markdown",
   "metadata": {},
   "source": [
    "* rows: each prediction group (motif-query_name)\n",
    "* columns: features\n",
    "* 2 k-mer cols: a. count of k-mer within the motif of the row, b. m6a count within k-mer"
   ]
  },
  {
   "cell_type": "markdown",
   "metadata": {},
   "source": [
    "| group (chrom, centering_position, strand, query_name) | features | m6a count left |\n",
    "| :---: | :-- | :-- |\n",
    "| prediction group | ... | ... |"
   ]
  },
  {
   "cell_type": "code",
   "execution_count": 1,
   "metadata": {},
   "outputs": [],
   "source": [
    "import os\n",
    "import pandas as pd\n",
    "import numpy as np"
   ]
  },
  {
   "cell_type": "code",
   "execution_count": 2,
   "metadata": {},
   "outputs": [],
   "source": [
    "from collections import defaultdict\n",
    "from collections import Counter\n",
    "import itertools"
   ]
  },
  {
   "cell_type": "code",
   "execution_count": 3,
   "metadata": {},
   "outputs": [],
   "source": [
    "import functools\n",
    "import itertools\n",
    "from collections import defaultdict\n",
    "from collections import Counter"
   ]
  },
  {
   "cell_type": "markdown",
   "metadata": {},
   "source": [
    "### workflow\n",
    "1. read in data\n",
    "2. filter for only m6a and msp rows\n",
    "3. make rows canonical\n",
    "4. add motif names\n",
    "5. filter for MSPs with a motif (centered_start < 0, centered_end > 35)\n",
    "6. remove MSPs without a motif\n",
    "7. add msp length\n",
    "8. filter for m6as flanking 40bp (centered_start >= -40, centered_end < 75)\n",
    "9. group rows by first 6 columns (chrom, centering_position, strand, reference_start, reference_end, query_name)"
   ]
  },
  {
   "cell_type": "code",
   "execution_count": 4,
   "metadata": {},
   "outputs": [
    {
     "name": "stdout",
     "output_type": "stream",
     "text": [
      "Summed motifs: 43,760,950\n",
      "First merged: 30,490,055\n",
      "merged v2: 43,760,948\n"
     ]
    }
   ],
   "source": [
    "# M, L, XL\n",
    "print(\"Summed motifs: {:,}\".format(20053779 + 12739713 + 10967458))\n",
    "print(\"First merged: {:,}\".format(30490055))\n",
    "print(\"merged v2: {:,}\".format(43760948))"
   ]
  },
  {
   "cell_type": "code",
   "execution_count": 21,
   "metadata": {},
   "outputs": [],
   "source": [
    "# set folders\n",
    "project_dir = \"/mmfs1/gscratch/stergachislab/mwperez/ctcf-footprinting\"\n",
    "data_dir = \"{}/candidate_footprints\".format(project_dir)\n",
    "output_dir = \"{}/feature_data\".format(project_dir)"
   ]
  },
  {
   "cell_type": "code",
   "execution_count": 6,
   "metadata": {},
   "outputs": [],
   "source": [
    "def clean_sequences(df):\n",
    "    '''Remove rows with N characters.'''\n",
    "    print(\"Removing \"+ \"{:,} rows.\".format(df[\"subset_sequence\"].str.contains(\"N\").sum()))\n",
    "    return df[~df[\"subset_sequence\"].str.contains(\"N\")]"
   ]
  },
  {
   "cell_type": "markdown",
   "metadata": {},
   "source": [
    "##### positive data (merged)"
   ]
  },
  {
   "cell_type": "code",
   "execution_count": 53,
   "metadata": {},
   "outputs": [],
   "source": [
    "# CTCF merged\n",
    "motif_type = \"merged\"\n",
    "data_file = \"{}/CTCF_m6a_fiberseq_100bp.txt\".format(data_dir)"
   ]
  },
  {
   "cell_type": "code",
   "execution_count": 54,
   "metadata": {},
   "outputs": [
    {
     "name": "stdout",
     "output_type": "stream",
     "text": [
      "30,490,054\n",
      "28,275,440\n",
      "CPU times: user 48.4 s, sys: 6.67 s, total: 55 s\n",
      "Wall time: 55.2 s\n"
     ]
    }
   ],
   "source": [
    "%%time\n",
    "# read in data\n",
    "n_rows = None\n",
    "df = pd.read_csv(data_file, sep=\"\\t\", nrows=n_rows)\n",
    "print(f\"{df.shape[0]:,d}\")\n",
    "\n",
    "# filter for only m6a & msp rows\n",
    "df = df[df[\"centered_position_type\"].isin([\"m6a\", \"msp\"])]\n",
    "print(f\"{df.shape[0]:,d}\")"
   ]
  },
  {
   "cell_type": "code",
   "execution_count": 55,
   "metadata": {},
   "outputs": [],
   "source": [
    "# add col to df of unique motifs names\n",
    "df.insert(loc=0, column=\"motif_name\", \n",
    "          value=df[\"chrom\"]+\"_\"+df[\"centering_position\"].astype(str)+\"_\"+df[\"strand\"].astype(str))"
   ]
  },
  {
   "cell_type": "code",
   "execution_count": 56,
   "metadata": {},
   "outputs": [
    {
     "name": "stdout",
     "output_type": "stream",
     "text": [
      "Columns: 14\n",
      "Total rows: 28,275,440\n",
      "Total unique motifs: 15762\n",
      "Total unique query_names/strands: 623,486\n",
      "MSP's: 952,272\n",
      "m6a's: 27,323,168\n"
     ]
    }
   ],
   "source": [
    "print(\"Columns: {}\".format(df.shape[1]))\n",
    "print(\"Total rows: \" + \"{:,}\".format(df.shape[0]))\n",
    "print(\"Total unique motifs: {:,}\".format(df.motif_name.nunique()))\n",
    "print(\"Total unique query_names/strands: \" + \"{:,}\".format(df.query_name.nunique()))\n",
    "\n",
    "print(\"MSP's: \" + \"{:,}\".format(df[df[\"centered_position_type\"] == \"msp\"].shape[0]))\n",
    "print(\"m6a's: \" + \"{:,}\".format(df[df[\"centered_position_type\"] == \"m6a\"].shape[0]))"
   ]
  },
  {
   "cell_type": "code",
   "execution_count": 57,
   "metadata": {},
   "outputs": [
    {
     "name": "stdout",
     "output_type": "stream",
     "text": [
      "Removing 271,779 rows.\n",
      "28,003,661\n"
     ]
    }
   ],
   "source": [
    "# remove rows with Ns in sequence\n",
    "df = clean_sequences(df)\n",
    "print(f\"{df.shape[0]:,d}\")"
   ]
  },
  {
   "cell_type": "code",
   "execution_count": null,
   "metadata": {},
   "outputs": [],
   "source": []
  },
  {
   "cell_type": "markdown",
   "metadata": {},
   "source": [
    "##### positive data (L)"
   ]
  },
  {
   "cell_type": "code",
   "execution_count": 3,
   "metadata": {},
   "outputs": [],
   "source": [
    "# CTCF L (best footprint according to Andrew)\n",
    "motif_type = \"L\"\n",
    "data_file = \"{}/CTCF_m6a_fiberseq_{}_100bp.txt\".format(data_dir, motif_type)"
   ]
  },
  {
   "cell_type": "code",
   "execution_count": 6,
   "metadata": {},
   "outputs": [
    {
     "name": "stdout",
     "output_type": "stream",
     "text": [
      "12,739,712\n",
      "11,860,730\n",
      "CPU times: user 19.7 s, sys: 2.61 s, total: 22.4 s\n",
      "Wall time: 22.4 s\n"
     ]
    }
   ],
   "source": [
    "%%time\n",
    "# read in data\n",
    "n_rows = None\n",
    "df = pd.read_csv(data_file, sep=\"\\t\", nrows=n_rows)\n",
    "print(f\"{df.shape[0]:,d}\")\n",
    "\n",
    "# filter for only m6a & msp rows\n",
    "df = df[df[\"centered_position_type\"].isin([\"m6a\", \"msp\"])]\n",
    "print(f\"{df.shape[0]:,d}\")"
   ]
  },
  {
   "cell_type": "code",
   "execution_count": 8,
   "metadata": {},
   "outputs": [
    {
     "name": "stdout",
     "output_type": "stream",
     "text": [
      "Columns: 14\n",
      "Total rows: 11,860,730\n",
      "Total unique motifs: 6504\n",
      "Total unique query_names/strands: 328,835\n",
      "MSP's: 396,372\n",
      "m6a's: 11,464,358\n"
     ]
    }
   ],
   "source": [
    "print(\"Columns: {}\".format(df.shape[1]))\n",
    "print(\"Total rows: \" + \"{:,}\".format(df.shape[0]))\n",
    "print(\"Total unique motifs: {}\".format(df.motif_name.nunique()))\n",
    "print(\"Total unique query_names/strands: \" + \"{:,}\".format(df.query_name.nunique()))\n",
    "\n",
    "print(\"MSP's: \" + \"{:,}\".format(df[df[\"centered_position_type\"] == \"msp\"].shape[0]))\n",
    "print(\"m6a's: \" + \"{:,}\".format(df[df[\"centered_position_type\"] == \"m6a\"].shape[0]))"
   ]
  },
  {
   "cell_type": "markdown",
   "metadata": {
    "heading_collapsed": true
   },
   "source": [
    "##### negative data (merged)"
   ]
  },
  {
   "cell_type": "code",
   "execution_count": 69,
   "metadata": {
    "hidden": true
   },
   "outputs": [],
   "source": [
    "# negative CTCF merged\n",
    "motif_type = \"merged\"\n",
    "data_file = \"{}/CTCF_negative_m6a_fiberseq_{}_100bp_small.txt\".format(data_dir, motif_type)"
   ]
  },
  {
   "cell_type": "code",
   "execution_count": 70,
   "metadata": {
    "hidden": true
   },
   "outputs": [
    {
     "name": "stdout",
     "output_type": "stream",
     "text": [
      "25,975,749\n",
      "20,776,305\n",
      "CPU times: user 40.7 s, sys: 5.02 s, total: 45.7 s\n",
      "Wall time: 45.9 s\n"
     ]
    }
   ],
   "source": [
    "%%time\n",
    "# read in data\n",
    "n_rows = None\n",
    "df = pd.read_csv(data_file, sep=\"\\t\", nrows=n_rows)\n",
    "print(f\"{df.shape[0]:,d}\")\n",
    "\n",
    "# filter for only m6a & msp rows\n",
    "df = df[df[\"centered_position_type\"].isin([\"m6a\", \"msp\"])]\n",
    "print(f\"{df.shape[0]:,d}\")"
   ]
  },
  {
   "cell_type": "code",
   "execution_count": 71,
   "metadata": {
    "hidden": true
   },
   "outputs": [],
   "source": [
    "# add col to df of unique motifs names\n",
    "df.insert(loc=0, column=\"motif_name\", \n",
    "          value=df[\"chrom\"]+\"_\"+df[\"centering_position\"].astype(str)+\"_\"+df[\"strand\"].astype(str))"
   ]
  },
  {
   "cell_type": "code",
   "execution_count": 72,
   "metadata": {
    "hidden": true
   },
   "outputs": [
    {
     "name": "stdout",
     "output_type": "stream",
     "text": [
      "Columns: 14\n",
      "Total rows: 20,776,305\n",
      "Total unique motifs: 1,027,696\n",
      "Total unique query_names/strands: 93,458\n",
      "MSP's: 1,762,860\n",
      "m6a's: 19,013,445\n"
     ]
    }
   ],
   "source": [
    "print(\"Columns: {}\".format(df.shape[1]))\n",
    "print(\"Total rows: \" + \"{:,}\".format(df.shape[0]))\n",
    "print(\"Total unique motifs: {:,}\".format(df.motif_name.nunique()))\n",
    "print(\"Total unique query_names/strands: \" + \"{:,}\".format(df.query_name.nunique()))\n",
    "\n",
    "print(\"MSP's: \" + \"{:,}\".format(df[df[\"centered_position_type\"] == \"msp\"].shape[0]))\n",
    "print(\"m6a's: \" + \"{:,}\".format(df[df[\"centered_position_type\"] == \"m6a\"].shape[0]))"
   ]
  },
  {
   "cell_type": "code",
   "execution_count": 73,
   "metadata": {
    "hidden": true
   },
   "outputs": [
    {
     "name": "stdout",
     "output_type": "stream",
     "text": [
      "Removing 138,550 rows.\n",
      "20,637,755\n"
     ]
    }
   ],
   "source": [
    "# remove rows with Ns in sequence\n",
    "df = clean_sequences(df)\n",
    "print(f\"{df.shape[0]:,d}\")"
   ]
  },
  {
   "cell_type": "code",
   "execution_count": null,
   "metadata": {
    "hidden": true
   },
   "outputs": [],
   "source": []
  },
  {
   "cell_type": "markdown",
   "metadata": {
    "heading_collapsed": true
   },
   "source": [
    "##### negative data (L)"
   ]
  },
  {
   "cell_type": "code",
   "execution_count": 8,
   "metadata": {
    "hidden": true
   },
   "outputs": [],
   "source": [
    "# negative CTCF L\n",
    "motif_type = \"L\"\n",
    "data_file = \"{}/CTCF_negative_m6a_fiberseq_{}_100bp_small.txt\".format(data_dir, motif_type)"
   ]
  },
  {
   "cell_type": "code",
   "execution_count": 36,
   "metadata": {
    "hidden": true
   },
   "outputs": [
    {
     "name": "stdout",
     "output_type": "stream",
     "text": [
      "7,878,026\n",
      "6,405,114\n",
      "CPU times: user 12.6 s, sys: 1.78 s, total: 14.3 s\n",
      "Wall time: 14.4 s\n"
     ]
    }
   ],
   "source": [
    "%%time\n",
    "# read in data\n",
    "n_rows = None\n",
    "df = pd.read_csv(data_file, sep=\"\\t\", nrows=n_rows)\n",
    "print(\"ft center data - rows: {:,}, columns: {:,}\".format(df.shape[0], df.shape[1]))\n",
    "\n",
    "# filter for only m6a & msp rows\n",
    "df = df[df[\"centered_position_type\"].isin([\"m6a\", \"msp\"])]\n",
    "print(f\"{df.shape[0]:,d}\")"
   ]
  },
  {
   "cell_type": "code",
   "execution_count": 37,
   "metadata": {
    "hidden": true
   },
   "outputs": [],
   "source": [
    "# save original table\n",
    "df_og = df.copy(deep=True)"
   ]
  },
  {
   "cell_type": "code",
   "execution_count": 65,
   "metadata": {
    "hidden": true
   },
   "outputs": [],
   "source": [
    "df = df_og.copy(deep=True)"
   ]
  },
  {
   "cell_type": "code",
   "execution_count": 66,
   "metadata": {
    "hidden": true
   },
   "outputs": [
    {
     "data": {
      "text/html": [
       "<div>\n",
       "<style scoped>\n",
       "    .dataframe tbody tr th:only-of-type {\n",
       "        vertical-align: middle;\n",
       "    }\n",
       "\n",
       "    .dataframe tbody tr th {\n",
       "        vertical-align: top;\n",
       "    }\n",
       "\n",
       "    .dataframe thead th {\n",
       "        text-align: right;\n",
       "    }\n",
       "</style>\n",
       "<table border=\"1\" class=\"dataframe\">\n",
       "  <thead>\n",
       "    <tr style=\"text-align: right;\">\n",
       "      <th></th>\n",
       "      <th>chrom</th>\n",
       "      <th>centering_position</th>\n",
       "      <th>strand</th>\n",
       "      <th>subset_sequence</th>\n",
       "      <th>reference_start</th>\n",
       "      <th>reference_end</th>\n",
       "      <th>query_name</th>\n",
       "      <th>centered_query_start</th>\n",
       "      <th>centered_query_end</th>\n",
       "      <th>query_length</th>\n",
       "      <th>centered_position_type</th>\n",
       "      <th>centered_start</th>\n",
       "      <th>centered_end</th>\n",
       "    </tr>\n",
       "  </thead>\n",
       "  <tbody>\n",
       "    <tr>\n",
       "      <th>0</th>\n",
       "      <td>chr1</td>\n",
       "      <td>11256</td>\n",
       "      <td>-</td>\n",
       "      <td>TGCCAGCAGGCGGCGTGCCACCACTATACAGTAAGCAAGAGGGCCC...</td>\n",
       "      <td>10000</td>\n",
       "      <td>26121</td>\n",
       "      <td>m54329U_210810_004956/34799917/ccs</td>\n",
       "      <td>-6067</td>\n",
       "      <td>14864</td>\n",
       "      <td>20931</td>\n",
       "      <td>m6a</td>\n",
       "      <td>-81</td>\n",
       "      <td>-80</td>\n",
       "    </tr>\n",
       "  </tbody>\n",
       "</table>\n",
       "</div>"
      ],
      "text/plain": [
       "  chrom  centering_position strand  \\\n",
       "0  chr1               11256      -   \n",
       "\n",
       "                                     subset_sequence  reference_start  \\\n",
       "0  TGCCAGCAGGCGGCGTGCCACCACTATACAGTAAGCAAGAGGGCCC...            10000   \n",
       "\n",
       "   reference_end                          query_name  centered_query_start  \\\n",
       "0          26121  m54329U_210810_004956/34799917/ccs                 -6067   \n",
       "\n",
       "   centered_query_end  query_length centered_position_type  centered_start  \\\n",
       "0               14864         20931                    m6a             -81   \n",
       "\n",
       "   centered_end  \n",
       "0           -80  "
      ]
     },
     "execution_count": 66,
     "metadata": {},
     "output_type": "execute_result"
    }
   ],
   "source": [
    "df.head(1)"
   ]
  },
  {
   "cell_type": "code",
   "execution_count": 94,
   "metadata": {
    "hidden": true
   },
   "outputs": [],
   "source": [
    "def make_IDs(df, col_name):\n",
    "    '''Makes a column of columns joined by a string.'''\n",
    "    if col_name == \"motif_name\":\n",
    "        # add column to df of unique motif names\n",
    "        df.insert(loc=0, column=col_name, value=df[\"chrom\"]+\"_\"+df[\"centering_position\"].astype(str)+\"_\"+df[\"strand\"].astype(str))\n",
    "    else:\n",
    "        # add column of combined motif/query names\n",
    "        df.insert(loc=0, column=col_name, value=df[\"motif_name\"]+\"/\"+df[\"query_name\"])\n"
   ]
  },
  {
   "cell_type": "code",
   "execution_count": 68,
   "metadata": {
    "hidden": true
   },
   "outputs": [
    {
     "name": "stdout",
     "output_type": "stream",
     "text": [
      "CPU times: user 2.61 s, sys: 794 ms, total: 3.41 s\n",
      "Wall time: 3.38 s\n"
     ]
    }
   ],
   "source": [
    "%%time\n",
    "make_IDs(df, \"motif_name\")"
   ]
  },
  {
   "cell_type": "code",
   "execution_count": 69,
   "metadata": {
    "collapsed": true,
    "hidden": true
   },
   "outputs": [
    {
     "data": {
      "text/html": [
       "<div>\n",
       "<style scoped>\n",
       "    .dataframe tbody tr th:only-of-type {\n",
       "        vertical-align: middle;\n",
       "    }\n",
       "\n",
       "    .dataframe tbody tr th {\n",
       "        vertical-align: top;\n",
       "    }\n",
       "\n",
       "    .dataframe thead th {\n",
       "        text-align: right;\n",
       "    }\n",
       "</style>\n",
       "<table border=\"1\" class=\"dataframe\">\n",
       "  <thead>\n",
       "    <tr style=\"text-align: right;\">\n",
       "      <th></th>\n",
       "      <th>motif_name</th>\n",
       "      <th>chrom</th>\n",
       "      <th>centering_position</th>\n",
       "      <th>strand</th>\n",
       "      <th>subset_sequence</th>\n",
       "      <th>reference_start</th>\n",
       "      <th>reference_end</th>\n",
       "      <th>query_name</th>\n",
       "      <th>centered_query_start</th>\n",
       "      <th>centered_query_end</th>\n",
       "      <th>query_length</th>\n",
       "      <th>centered_position_type</th>\n",
       "      <th>centered_start</th>\n",
       "      <th>centered_end</th>\n",
       "    </tr>\n",
       "  </thead>\n",
       "  <tbody>\n",
       "    <tr>\n",
       "      <th>0</th>\n",
       "      <td>chr1_11256_-</td>\n",
       "      <td>chr1</td>\n",
       "      <td>11256</td>\n",
       "      <td>-</td>\n",
       "      <td>TGCCAGCAGGCGGCGTGCCACCACTATACAGTAAGCAAGAGGGCCC...</td>\n",
       "      <td>10000</td>\n",
       "      <td>26121</td>\n",
       "      <td>m54329U_210810_004956/34799917/ccs</td>\n",
       "      <td>-6067</td>\n",
       "      <td>14864</td>\n",
       "      <td>20931</td>\n",
       "      <td>m6a</td>\n",
       "      <td>-81</td>\n",
       "      <td>-80</td>\n",
       "    </tr>\n",
       "    <tr>\n",
       "      <th>1</th>\n",
       "      <td>chr1_11256_-</td>\n",
       "      <td>chr1</td>\n",
       "      <td>11256</td>\n",
       "      <td>-</td>\n",
       "      <td>TGCCAGCAGGCGGCGTGCCACCACTATACAGTAAGCAAGAGGGCCC...</td>\n",
       "      <td>10000</td>\n",
       "      <td>26121</td>\n",
       "      <td>m54329U_210810_004956/34799917/ccs</td>\n",
       "      <td>-6067</td>\n",
       "      <td>14864</td>\n",
       "      <td>20931</td>\n",
       "      <td>m6a</td>\n",
       "      <td>-78</td>\n",
       "      <td>-77</td>\n",
       "    </tr>\n",
       "    <tr>\n",
       "      <th>2</th>\n",
       "      <td>chr1_11256_-</td>\n",
       "      <td>chr1</td>\n",
       "      <td>11256</td>\n",
       "      <td>-</td>\n",
       "      <td>TGCCAGCAGGCGGCGTGCCACCACTATACAGTAAGCAAGAGGGCCC...</td>\n",
       "      <td>10000</td>\n",
       "      <td>26121</td>\n",
       "      <td>m54329U_210810_004956/34799917/ccs</td>\n",
       "      <td>-6067</td>\n",
       "      <td>14864</td>\n",
       "      <td>20931</td>\n",
       "      <td>m6a</td>\n",
       "      <td>-75</td>\n",
       "      <td>-74</td>\n",
       "    </tr>\n",
       "    <tr>\n",
       "      <th>3</th>\n",
       "      <td>chr1_11256_-</td>\n",
       "      <td>chr1</td>\n",
       "      <td>11256</td>\n",
       "      <td>-</td>\n",
       "      <td>TGCCAGCAGGCGGCGTGCCACCACTATACAGTAAGCAAGAGGGCCC...</td>\n",
       "      <td>10000</td>\n",
       "      <td>26121</td>\n",
       "      <td>m54329U_210810_004956/34799917/ccs</td>\n",
       "      <td>-6067</td>\n",
       "      <td>14864</td>\n",
       "      <td>20931</td>\n",
       "      <td>m6a</td>\n",
       "      <td>-74</td>\n",
       "      <td>-73</td>\n",
       "    </tr>\n",
       "    <tr>\n",
       "      <th>4</th>\n",
       "      <td>chr1_11256_-</td>\n",
       "      <td>chr1</td>\n",
       "      <td>11256</td>\n",
       "      <td>-</td>\n",
       "      <td>TGCCAGCAGGCGGCGTGCCACCACTATACAGTAAGCAAGAGGGCCC...</td>\n",
       "      <td>10000</td>\n",
       "      <td>26121</td>\n",
       "      <td>m54329U_210810_004956/34799917/ccs</td>\n",
       "      <td>-6067</td>\n",
       "      <td>14864</td>\n",
       "      <td>20931</td>\n",
       "      <td>m6a</td>\n",
       "      <td>-73</td>\n",
       "      <td>-72</td>\n",
       "    </tr>\n",
       "  </tbody>\n",
       "</table>\n",
       "</div>"
      ],
      "text/plain": [
       "     motif_name chrom  centering_position strand  \\\n",
       "0  chr1_11256_-  chr1               11256      -   \n",
       "1  chr1_11256_-  chr1               11256      -   \n",
       "2  chr1_11256_-  chr1               11256      -   \n",
       "3  chr1_11256_-  chr1               11256      -   \n",
       "4  chr1_11256_-  chr1               11256      -   \n",
       "\n",
       "                                     subset_sequence  reference_start  \\\n",
       "0  TGCCAGCAGGCGGCGTGCCACCACTATACAGTAAGCAAGAGGGCCC...            10000   \n",
       "1  TGCCAGCAGGCGGCGTGCCACCACTATACAGTAAGCAAGAGGGCCC...            10000   \n",
       "2  TGCCAGCAGGCGGCGTGCCACCACTATACAGTAAGCAAGAGGGCCC...            10000   \n",
       "3  TGCCAGCAGGCGGCGTGCCACCACTATACAGTAAGCAAGAGGGCCC...            10000   \n",
       "4  TGCCAGCAGGCGGCGTGCCACCACTATACAGTAAGCAAGAGGGCCC...            10000   \n",
       "\n",
       "   reference_end                          query_name  centered_query_start  \\\n",
       "0          26121  m54329U_210810_004956/34799917/ccs                 -6067   \n",
       "1          26121  m54329U_210810_004956/34799917/ccs                 -6067   \n",
       "2          26121  m54329U_210810_004956/34799917/ccs                 -6067   \n",
       "3          26121  m54329U_210810_004956/34799917/ccs                 -6067   \n",
       "4          26121  m54329U_210810_004956/34799917/ccs                 -6067   \n",
       "\n",
       "   centered_query_end  query_length centered_position_type  centered_start  \\\n",
       "0               14864         20931                    m6a             -81   \n",
       "1               14864         20931                    m6a             -78   \n",
       "2               14864         20931                    m6a             -75   \n",
       "3               14864         20931                    m6a             -74   \n",
       "4               14864         20931                    m6a             -73   \n",
       "\n",
       "   centered_end  \n",
       "0           -80  \n",
       "1           -77  \n",
       "2           -74  \n",
       "3           -73  \n",
       "4           -72  "
      ]
     },
     "execution_count": 69,
     "metadata": {},
     "output_type": "execute_result"
    }
   ],
   "source": [
    "df.head()"
   ]
  },
  {
   "cell_type": "markdown",
   "metadata": {
    "hidden": true
   },
   "source": [
    "negative dataset vs positive dataset\n",
    "* a lot more unique motifs than the positive dataset (317,997 vs 6,504)\n",
    "* but less unique query_names/strands (86,064 vs 328,835)"
   ]
  },
  {
   "cell_type": "code",
   "execution_count": 72,
   "metadata": {
    "hidden": true
   },
   "outputs": [],
   "source": [
    "def print_df_info(df):\n",
    "    '''Print df content and shape info.'''\n",
    "    print(\"Columns: {:,}\".format(df.shape[1]))\n",
    "    print(\"Total rows: \" + \"{:,}\".format(df.shape[0]))\n",
    "    print(\"Total unique motifs: {:,}\".format(df.motif_name.nunique()))\n",
    "    print(\"Total unique query_names: \" + \"{:,}\".format(df.query_name.nunique()))\n",
    "\n",
    "    print(\"MSP's: \" + \"{:,}\".format(df[df[\"centered_position_type\"] == \"msp\"].shape[0]))\n",
    "    print(\"m6a's: \" + \"{:,}\".format(df[df[\"centered_position_type\"] == \"m6a\"].shape[0]))"
   ]
  },
  {
   "cell_type": "code",
   "execution_count": 74,
   "metadata": {
    "hidden": true
   },
   "outputs": [
    {
     "name": "stdout",
     "output_type": "stream",
     "text": [
      "Columns: 14\n",
      "Total rows: 6,405,114\n",
      "Total unique motifs: 317,997\n",
      "Total unique query_names: 86,064\n",
      "MSP's: 543,117\n",
      "m6a's: 5,861,997\n",
      "CPU times: user 1.82 s, sys: 148 ms, total: 1.97 s\n",
      "Wall time: 1.97 s\n"
     ]
    }
   ],
   "source": [
    "%%time\n",
    "print_df_info(df)"
   ]
  },
  {
   "cell_type": "code",
   "execution_count": 76,
   "metadata": {
    "hidden": true
   },
   "outputs": [
    {
     "name": "stdout",
     "output_type": "stream",
     "text": [
      "Removing 43,252 rows.\n",
      "6,361,862\n"
     ]
    }
   ],
   "source": [
    "# remove rows with Ns in sequence\n",
    "df = clean_sequences(df)\n",
    "print(\"Cleaned rows: {:,}\".format(df.shape[0]))"
   ]
  },
  {
   "cell_type": "markdown",
   "metadata": {
    "heading_collapsed": true
   },
   "source": [
    "### convert rows to canonical strand (ignore for now)"
   ]
  },
  {
   "cell_type": "markdown",
   "metadata": {
    "hidden": true
   },
   "source": [
    "how does it affect the rest of the info? (subset sequence, centered_start, centered_end)"
   ]
  },
  {
   "cell_type": "code",
   "execution_count": null,
   "metadata": {
    "hidden": true
   },
   "outputs": [],
   "source": [
    "print(f\"{df.shape[0]:,d}\")"
   ]
  },
  {
   "cell_type": "code",
   "execution_count": null,
   "metadata": {
    "hidden": true
   },
   "outputs": [],
   "source": [
    "df.head(1)"
   ]
  },
  {
   "cell_type": "code",
   "execution_count": null,
   "metadata": {
    "hidden": true
   },
   "outputs": [],
   "source": [
    "def clean_sequences(df):\n",
    "    '''Remove rows with N characters.'''\n",
    "    print(\"Removing {} rows.\".format(df[\"subset_sequence\"].str.contains(\"N\").sum()))\n",
    "    return df[~df[\"subset_sequence\"].str.contains(\"N\")]"
   ]
  },
  {
   "cell_type": "code",
   "execution_count": null,
   "metadata": {
    "hidden": true
   },
   "outputs": [],
   "source": [
    "def rev_comp(seq):\n",
    "    ''' Return the reverse complement of the input DNA sequence. '''\n",
    "    rc_dict = {\n",
    "        \"A\": \"T\",\n",
    "        \"C\": \"G\",\n",
    "        \"G\": \"C\",\n",
    "        \"T\": \"A\"\n",
    "    }\n",
    "    rc_seq = \"\".join(rc_dict[base] for base in seq[::-1])\n",
    "    return rc_seq\n",
    "\n",
    "def row_to_canonical(row):\n",
    "    ''' Convert to canonical strand. '''\n",
    "    if row[\"strand\"] == \"+\":\n",
    "        row = row\n",
    "    else:\n",
    "        # if strand is \"-\"\n",
    "        row[\"strand\"] = \"+\"\n",
    "        row[\"subset_sequence\"] = rev_comp(row[\"subset_sequence\"])\n",
    "    return row"
   ]
  },
  {
   "cell_type": "code",
   "execution_count": null,
   "metadata": {
    "hidden": true
   },
   "outputs": [],
   "source": [
    "# remove rows with Ns in sequence\n",
    "df = clean_sequences(df)"
   ]
  },
  {
   "cell_type": "code",
   "execution_count": null,
   "metadata": {
    "hidden": true
   },
   "outputs": [],
   "source": [
    "print(f\"{df.shape[0]:,d}\")"
   ]
  },
  {
   "cell_type": "code",
   "execution_count": null,
   "metadata": {
    "hidden": true
   },
   "outputs": [],
   "source": [
    "%%time\n",
    "# get canonical cleaned df\n",
    "print(\"Converting to canonical strand.\")\n",
    "df = df.apply(row_to_canonical, axis=1)\n",
    "print(f\"{df.shape[0]:,d}\")"
   ]
  },
  {
   "cell_type": "markdown",
   "metadata": {},
   "source": [
    "### filter for regions within an msp & add msp size"
   ]
  },
  {
   "cell_type": "markdown",
   "metadata": {},
   "source": [
    "might not be interested in msp's < 85 bp in length"
   ]
  },
  {
   "cell_type": "markdown",
   "metadata": {
    "heading_collapsed": true
   },
   "source": [
    "#### issue with removing MSPs that do not contain a motif but are in a motif-query group that does"
   ]
  },
  {
   "cell_type": "markdown",
   "metadata": {
    "hidden": true
   },
   "source": [
    "<font color=\"red\">__Cannot filter out 9 msp regions!!! No idea why!__</font>\n",
    "<br> indices: [16630, 20018, 48592, 52137, 69538, 75758, 93225, 93459, 95475]"
   ]
  },
  {
   "cell_type": "markdown",
   "metadata": {
    "hidden": true
   },
   "source": [
    "| index | motif_name | query_name | centered_start | centered_end |\n",
    "| --: | --: | --- | --- | --- |\n",
    "| 16630 | chr1_3453274_+ | m64076_221119_202646/138085724/ccs | -188 | -99 |\n",
    "| 20018 | chr1_3673515_- | m54329U_210323_190418/25755973/ccs | -91 | -80 |\n",
    "| 48592 | chr1_9067419_+ | m64076_221119_202646/138085724/ccs | -212 | -74 |\n",
    "| 52137 | chr1_9267338_- | m54329U_210814_130637/170459707/ccs | -94 | -92 |\n",
    "| 69538 | chr1_11650573_+ | m54329U_210323_190418/61605281/ccs | -197 | -85 |\n",
    "| 75758 | chr1_11907872_- | m64076_210328_012155/88474236/ccs | -100 | -99 |\n",
    "| 93225 | chr1_14850809_- | m54329U_210326_192251/66061064/ccs | -174 | -92 |\n",
    "| 93459 | chr1_14850809_- | m64076_221119_202646/111477920/ccs | -205 | -89 |\n",
    "| 95475 | chr1_15100575_- | m54329U_210323_190418/46138317/ccs | -231 | -90 |"
   ]
  },
  {
   "cell_type": "code",
   "execution_count": 138,
   "metadata": {
    "collapsed": true,
    "hidden": true
   },
   "outputs": [
    {
     "data": {
      "text/html": [
       "<div>\n",
       "<style scoped>\n",
       "    .dataframe tbody tr th:only-of-type {\n",
       "        vertical-align: middle;\n",
       "    }\n",
       "\n",
       "    .dataframe tbody tr th {\n",
       "        vertical-align: top;\n",
       "    }\n",
       "\n",
       "    .dataframe thead th {\n",
       "        text-align: right;\n",
       "    }\n",
       "</style>\n",
       "<table border=\"1\" class=\"dataframe\">\n",
       "  <thead>\n",
       "    <tr style=\"text-align: right;\">\n",
       "      <th></th>\n",
       "      <th>motif_name</th>\n",
       "      <th>query_name</th>\n",
       "      <th>centered_start</th>\n",
       "      <th>centered_end</th>\n",
       "    </tr>\n",
       "  </thead>\n",
       "  <tbody>\n",
       "    <tr>\n",
       "      <th>16630</th>\n",
       "      <td>chr1_3453274_+</td>\n",
       "      <td>m64076_221119_202646/138085724/ccs</td>\n",
       "      <td>-188</td>\n",
       "      <td>-99</td>\n",
       "    </tr>\n",
       "    <tr>\n",
       "      <th>20018</th>\n",
       "      <td>chr1_3673515_-</td>\n",
       "      <td>m54329U_210323_190418/25755973/ccs</td>\n",
       "      <td>-91</td>\n",
       "      <td>-80</td>\n",
       "    </tr>\n",
       "    <tr>\n",
       "      <th>48592</th>\n",
       "      <td>chr1_9067419_+</td>\n",
       "      <td>m54329U_210813_020940/46333996/ccs</td>\n",
       "      <td>-212</td>\n",
       "      <td>-74</td>\n",
       "    </tr>\n",
       "    <tr>\n",
       "      <th>52137</th>\n",
       "      <td>chr1_9267338_-</td>\n",
       "      <td>m54329U_210814_130637/170459707/ccs</td>\n",
       "      <td>-94</td>\n",
       "      <td>-92</td>\n",
       "    </tr>\n",
       "    <tr>\n",
       "      <th>69538</th>\n",
       "      <td>chr1_11650573_+</td>\n",
       "      <td>m54329U_210323_190418/61605281/ccs</td>\n",
       "      <td>-197</td>\n",
       "      <td>-85</td>\n",
       "    </tr>\n",
       "    <tr>\n",
       "      <th>75758</th>\n",
       "      <td>chr1_11907872_-</td>\n",
       "      <td>m64076_210328_012155/88474236/ccs</td>\n",
       "      <td>-100</td>\n",
       "      <td>-99</td>\n",
       "    </tr>\n",
       "    <tr>\n",
       "      <th>93225</th>\n",
       "      <td>chr1_14850809_-</td>\n",
       "      <td>m54329U_210326_192251/66061064/ccs</td>\n",
       "      <td>-174</td>\n",
       "      <td>-92</td>\n",
       "    </tr>\n",
       "    <tr>\n",
       "      <th>93459</th>\n",
       "      <td>chr1_14850809_-</td>\n",
       "      <td>m64076_221119_202646/111477920/ccs</td>\n",
       "      <td>-205</td>\n",
       "      <td>-89</td>\n",
       "    </tr>\n",
       "    <tr>\n",
       "      <th>95475</th>\n",
       "      <td>chr1_15100575_-</td>\n",
       "      <td>m54329U_210323_190418/46138317/ccs</td>\n",
       "      <td>-231</td>\n",
       "      <td>-90</td>\n",
       "    </tr>\n",
       "  </tbody>\n",
       "</table>\n",
       "</div>"
      ],
      "text/plain": [
       "            motif_name                           query_name  centered_start  \\\n",
       "16630   chr1_3453274_+   m64076_221119_202646/138085724/ccs            -188   \n",
       "20018   chr1_3673515_-   m54329U_210323_190418/25755973/ccs             -91   \n",
       "48592   chr1_9067419_+   m54329U_210813_020940/46333996/ccs            -212   \n",
       "52137   chr1_9267338_-  m54329U_210814_130637/170459707/ccs             -94   \n",
       "69538  chr1_11650573_+   m54329U_210323_190418/61605281/ccs            -197   \n",
       "75758  chr1_11907872_-    m64076_210328_012155/88474236/ccs            -100   \n",
       "93225  chr1_14850809_-   m54329U_210326_192251/66061064/ccs            -174   \n",
       "93459  chr1_14850809_-   m64076_221119_202646/111477920/ccs            -205   \n",
       "95475  chr1_15100575_-   m54329U_210323_190418/46138317/ccs            -231   \n",
       "\n",
       "       centered_end  \n",
       "16630           -99  \n",
       "20018           -80  \n",
       "48592           -74  \n",
       "52137           -92  \n",
       "69538           -85  \n",
       "75758           -99  \n",
       "93225           -92  \n",
       "93459           -89  \n",
       "95475           -90  "
      ]
     },
     "execution_count": 138,
     "metadata": {},
     "output_type": "execute_result"
    }
   ],
   "source": [
    "df.loc[np.setdiff1d(df.index.tolist(), idx_keep).tolist()][[\"motif_name\", \"query_name\", \"centered_start\", \"centered_end\"]]"
   ]
  },
  {
   "cell_type": "markdown",
   "metadata": {
    "hidden": true
   },
   "source": [
    "Fibers (query_name) have different sequences at different motifs"
   ]
  },
  {
   "cell_type": "code",
   "execution_count": 10,
   "metadata": {
    "hidden": true
   },
   "outputs": [
    {
     "name": "stdout",
     "output_type": "stream",
     "text": [
      "90,732\n"
     ]
    }
   ],
   "source": [
    "print(f\"{df.shape[0]:,d}\")"
   ]
  },
  {
   "cell_type": "code",
   "execution_count": 68,
   "metadata": {
    "hidden": true
   },
   "outputs": [
    {
     "name": "stdout",
     "output_type": "stream",
     "text": [
      "MSP's: 3,302\n"
     ]
    }
   ],
   "source": [
    "# MSP rows\n",
    "df_msp = df[(df[\"centered_position_type\"] == \"msp\")]\n",
    "print(\"MSP's: \" + \"{:,}\".format(df_msp.shape[0]))"
   ]
  },
  {
   "cell_type": "code",
   "execution_count": 71,
   "metadata": {
    "hidden": true
   },
   "outputs": [
    {
     "name": "stdout",
     "output_type": "stream",
     "text": [
      "MSP's with a motif: 1,986\n",
      "Total observations from motifs within an msp: 73,671\n"
     ]
    }
   ],
   "source": [
    "# mask for motifs within an msp\n",
    "motif_len = 35\n",
    "msp_mask = (df[\"centered_position_type\"] == \"msp\") & (df[\"centered_start\"] <= 0) & (df[\"centered_end\"] >= motif_len)\n",
    "print(\"MSP's with a motif: \" + \"{:,}\".format(msp_mask.sum()))\n",
    "msp_groups = [(row[\"motif_name\"], row[\"query_name\"]) for idx, row in df[msp_mask].iterrows()]\n",
    "\n",
    "# filter for rows with motifs within an MSP (gets both msp's & m6a's)\n",
    "df = df[df[[\"motif_name\", \"query_name\"]].apply(tuple, 1).isin(msp_groups)]\n",
    "print(\"Total observations from motifs within an msp: \" + \"{:,}\".format(df.shape[0]))"
   ]
  },
  {
   "cell_type": "code",
   "execution_count": 74,
   "metadata": {
    "hidden": true
   },
   "outputs": [
    {
     "data": {
      "text/plain": [
       "1986"
      ]
     },
     "execution_count": 74,
     "metadata": {},
     "output_type": "execute_result"
    }
   ],
   "source": [
    "sum((df[\"centered_position_type\"] == \"msp\") & (df[\"centered_start\"] <= 0) & (df[\"centered_end\"] >= motif_len))"
   ]
  },
  {
   "cell_type": "code",
   "execution_count": null,
   "metadata": {
    "hidden": true
   },
   "outputs": [],
   "source": [
    "# remove MSP's not containing a motif\n",
    "print(\"Removing MSP's not containing a motif: \" + \"{:,}\".format(\n",
    "    (~np.logical_or(msp_mask, (df[\"centered_position_type\"] == \"m6a\"))).sum()))\n",
    "#df = df[np.logical_or(msp_mask, (df[\"centered_position_type\"] == \"m6a\"))]"
   ]
  },
  {
   "cell_type": "code",
   "execution_count": 82,
   "metadata": {
    "hidden": true
   },
   "outputs": [
    {
     "data": {
      "text/plain": [
       "1986"
      ]
     },
     "execution_count": 82,
     "metadata": {},
     "output_type": "execute_result"
    }
   ],
   "source": [
    "sum(msp_mask)"
   ]
  },
  {
   "cell_type": "code",
   "execution_count": 87,
   "metadata": {
    "hidden": true
   },
   "outputs": [
    {
     "data": {
      "text/plain": [
       "71676"
      ]
     },
     "execution_count": 87,
     "metadata": {},
     "output_type": "execute_result"
    }
   ],
   "source": [
    "len(df[df[\"centered_position_type\"] == \"m6a\"].index.tolist())"
   ]
  },
  {
   "cell_type": "code",
   "execution_count": 88,
   "metadata": {
    "hidden": true
   },
   "outputs": [
    {
     "data": {
      "text/plain": [
       "73671"
      ]
     },
     "execution_count": 88,
     "metadata": {},
     "output_type": "execute_result"
    }
   ],
   "source": [
    "df.shape[0]"
   ]
  },
  {
   "cell_type": "code",
   "execution_count": 84,
   "metadata": {
    "collapsed": true,
    "hidden": true
   },
   "outputs": [
    {
     "name": "stderr",
     "output_type": "stream",
     "text": [
      "/tmp/ipykernel_77479/2968305451.py:1: UserWarning: Boolean Series key will be reindexed to match DataFrame index.\n",
      "  df[msp_mask].index.tolist()\n"
     ]
    },
    {
     "data": {
      "text/plain": [
       "[33,\n",
       " 55,\n",
       " 152,\n",
       " 188,\n",
       " 217,\n",
       " 248,\n",
       " 262,\n",
       " 305,\n",
       " 349,\n",
       " 410,\n",
       " 453,\n",
       " 504,\n",
       " 547,\n",
       " 594,\n",
       " 630,\n",
       " 664,\n",
       " 707,\n",
       " 734,\n",
       " 776,\n",
       " 797,\n",
       " 825,\n",
       " 857,\n",
       " 894,\n",
       " 975,\n",
       " 999,\n",
       " 1042,\n",
       " 1098,\n",
       " 1128,\n",
       " 1160,\n",
       " 1202,\n",
       " 1225,\n",
       " 1337,\n",
       " 1396,\n",
       " 1437,\n",
       " 1526,\n",
       " 1589,\n",
       " 1624,\n",
       " 1731,\n",
       " 1771,\n",
       " 1794,\n",
       " 1867,\n",
       " 1917,\n",
       " 1961,\n",
       " 2009,\n",
       " 2064,\n",
       " 2213,\n",
       " 2294,\n",
       " 2392,\n",
       " 2440,\n",
       " 2491,\n",
       " 2555,\n",
       " 2590,\n",
       " 2647,\n",
       " 2715,\n",
       " 2751,\n",
       " 2782,\n",
       " 2824,\n",
       " 2913,\n",
       " 2952,\n",
       " 2998,\n",
       " 3039,\n",
       " 3084,\n",
       " 3136,\n",
       " 3180,\n",
       " 3233,\n",
       " 3279,\n",
       " 3313,\n",
       " 3361,\n",
       " 3396,\n",
       " 3424,\n",
       " 3466,\n",
       " 3546,\n",
       " 3600,\n",
       " 3696,\n",
       " 3734,\n",
       " 3745,\n",
       " 3798,\n",
       " 3853,\n",
       " 3927,\n",
       " 3969,\n",
       " 4048,\n",
       " 4089,\n",
       " 4116,\n",
       " 4158,\n",
       " 4206,\n",
       " 4248,\n",
       " 4291,\n",
       " 4344,\n",
       " 4361,\n",
       " 4387,\n",
       " 4430,\n",
       " 4457,\n",
       " 4499,\n",
       " 4547,\n",
       " 4602,\n",
       " 4672,\n",
       " 4701,\n",
       " 4781,\n",
       " 4842,\n",
       " 4880,\n",
       " 4926,\n",
       " 4969,\n",
       " 5019,\n",
       " 5076,\n",
       " 5109,\n",
       " 5168,\n",
       " 5278,\n",
       " 5380,\n",
       " 5448,\n",
       " 5485,\n",
       " 5519,\n",
       " 5599,\n",
       " 5637,\n",
       " 5690,\n",
       " 5728,\n",
       " 5786,\n",
       " 5838,\n",
       " 5932,\n",
       " 5961,\n",
       " 6029,\n",
       " 6067,\n",
       " 6128,\n",
       " 6175,\n",
       " 6223,\n",
       " 6271,\n",
       " 6313,\n",
       " 6396,\n",
       " 6505,\n",
       " 6553,\n",
       " 6609,\n",
       " 6667,\n",
       " 6707,\n",
       " 6760,\n",
       " 6803,\n",
       " 6828,\n",
       " 6888,\n",
       " 6929,\n",
       " 6978,\n",
       " 7047,\n",
       " 7135,\n",
       " 7224,\n",
       " 7295,\n",
       " 7350,\n",
       " 7418,\n",
       " 7453,\n",
       " 7501,\n",
       " 7565,\n",
       " 7595,\n",
       " 7653,\n",
       " 7683,\n",
       " 7731,\n",
       " 7754,\n",
       " 7779,\n",
       " 7811,\n",
       " 7851,\n",
       " 7878,\n",
       " 7934,\n",
       " 8014,\n",
       " 8053,\n",
       " 8113,\n",
       " 8154,\n",
       " 8187,\n",
       " 8215,\n",
       " 8250,\n",
       " 8279,\n",
       " 8310,\n",
       " 8341,\n",
       " 8371,\n",
       " 8400,\n",
       " 8436,\n",
       " 8457,\n",
       " 8519,\n",
       " 8542,\n",
       " 8569,\n",
       " 8628,\n",
       " 8658,\n",
       " 8693,\n",
       " 8733,\n",
       " 8774,\n",
       " 8802,\n",
       " 8832,\n",
       " 8865,\n",
       " 8888,\n",
       " 8924,\n",
       " 8962,\n",
       " 8996,\n",
       " 9029,\n",
       " 9060,\n",
       " 9095,\n",
       " 9154,\n",
       " 9210,\n",
       " 9283,\n",
       " 9351,\n",
       " 9374,\n",
       " 9409,\n",
       " 9462,\n",
       " 9523,\n",
       " 9606,\n",
       " 9647,\n",
       " 9712,\n",
       " 9755,\n",
       " 9891,\n",
       " 9944,\n",
       " 10020,\n",
       " 10048,\n",
       " 10109,\n",
       " 10154,\n",
       " 10210,\n",
       " 10275,\n",
       " 10334,\n",
       " 10382,\n",
       " 10430,\n",
       " 10447,\n",
       " 10511,\n",
       " 10537,\n",
       " 10561,\n",
       " 10584,\n",
       " 10600,\n",
       " 10625,\n",
       " 10646,\n",
       " 10671,\n",
       " 10711,\n",
       " 10749,\n",
       " 10786,\n",
       " 10829,\n",
       " 10894,\n",
       " 10926,\n",
       " 10950,\n",
       " 10970,\n",
       " 10997,\n",
       " 11026,\n",
       " 11080,\n",
       " 11117,\n",
       " 11148,\n",
       " 11175,\n",
       " 11197,\n",
       " 11225,\n",
       " 11252,\n",
       " 11270,\n",
       " 11298,\n",
       " 11326,\n",
       " 11346,\n",
       " 11376,\n",
       " 11402,\n",
       " 11423,\n",
       " 11471,\n",
       " 11489,\n",
       " 11502,\n",
       " 11546,\n",
       " 11568,\n",
       " 11629,\n",
       " 11681,\n",
       " 11716,\n",
       " 11761,\n",
       " 11810,\n",
       " 11847,\n",
       " 11885,\n",
       " 11931,\n",
       " 11956,\n",
       " 12051,\n",
       " 12070,\n",
       " 12109,\n",
       " 12162,\n",
       " 12195,\n",
       " 12277,\n",
       " 12305,\n",
       " 12330,\n",
       " 12359,\n",
       " 12388,\n",
       " 12419,\n",
       " 12490,\n",
       " 12559,\n",
       " 12680,\n",
       " 12756,\n",
       " 12826,\n",
       " 12958,\n",
       " 12986,\n",
       " 13183,\n",
       " 13243,\n",
       " 13264,\n",
       " 13336,\n",
       " 13375,\n",
       " 13534,\n",
       " 13592,\n",
       " 13642,\n",
       " 13829,\n",
       " 13841,\n",
       " 13925,\n",
       " 13994,\n",
       " 14030,\n",
       " 14128,\n",
       " 14201,\n",
       " 14282,\n",
       " 14355,\n",
       " 14397,\n",
       " 14464,\n",
       " 14603,\n",
       " 14826,\n",
       " 14909,\n",
       " 15019,\n",
       " 15062,\n",
       " 15114,\n",
       " 15145,\n",
       " 15186,\n",
       " 15230,\n",
       " 15248,\n",
       " 15297,\n",
       " 15330,\n",
       " 15396,\n",
       " 15436,\n",
       " 15470,\n",
       " 15494,\n",
       " 15515,\n",
       " 15538,\n",
       " 15569,\n",
       " 15591,\n",
       " 15627,\n",
       " 15665,\n",
       " 15690,\n",
       " 15732,\n",
       " 15785,\n",
       " 15820,\n",
       " 15856,\n",
       " 15916,\n",
       " 15985,\n",
       " 16015,\n",
       " 16072,\n",
       " 16144,\n",
       " 16186,\n",
       " 16223,\n",
       " 16237,\n",
       " 16270,\n",
       " 16337,\n",
       " 16366,\n",
       " 16438,\n",
       " 16461,\n",
       " 16500,\n",
       " 16535,\n",
       " 16554,\n",
       " 16602,\n",
       " 16631,\n",
       " 16758,\n",
       " 16780,\n",
       " 16799,\n",
       " 16812,\n",
       " 16838,\n",
       " 16916,\n",
       " 16932,\n",
       " 16962,\n",
       " 16984,\n",
       " 17036,\n",
       " 17088,\n",
       " 17127,\n",
       " 17172,\n",
       " 17210,\n",
       " 17237,\n",
       " 17259,\n",
       " 17297,\n",
       " 17328,\n",
       " 17358,\n",
       " 17397,\n",
       " 17423,\n",
       " 17440,\n",
       " 17476,\n",
       " 17501,\n",
       " 17530,\n",
       " 17545,\n",
       " 17591,\n",
       " 17614,\n",
       " 17637,\n",
       " 17667,\n",
       " 17733,\n",
       " 17762,\n",
       " 17798,\n",
       " 17859,\n",
       " 17928,\n",
       " 17986,\n",
       " 18091,\n",
       " 18127,\n",
       " 18191,\n",
       " 18240,\n",
       " 18300,\n",
       " 18346,\n",
       " 18380,\n",
       " 18456,\n",
       " 18495,\n",
       " 18565,\n",
       " 18606,\n",
       " 18651,\n",
       " 18665,\n",
       " 18694,\n",
       " 18728,\n",
       " 18799,\n",
       " 18825,\n",
       " 18865,\n",
       " 18896,\n",
       " 18942,\n",
       " 18983,\n",
       " 19034,\n",
       " 19089,\n",
       " 19129,\n",
       " 19146,\n",
       " 19224,\n",
       " 19273,\n",
       " 19345,\n",
       " 19398,\n",
       " 19414,\n",
       " 19451,\n",
       " 19618,\n",
       " 19656,\n",
       " 19697,\n",
       " 19842,\n",
       " 19905,\n",
       " 19958,\n",
       " 20019,\n",
       " 20064,\n",
       " 20141,\n",
       " 20176,\n",
       " 20222,\n",
       " 20298,\n",
       " 20355,\n",
       " 20397,\n",
       " 20466,\n",
       " 20523,\n",
       " 20577,\n",
       " 20647,\n",
       " 20702,\n",
       " 20798,\n",
       " 20827,\n",
       " 20868,\n",
       " 20917,\n",
       " 20927,\n",
       " 20988,\n",
       " 21035,\n",
       " 21110,\n",
       " 21255,\n",
       " 21391,\n",
       " 21430,\n",
       " 21476,\n",
       " 21704,\n",
       " 21814,\n",
       " 21935,\n",
       " 21968,\n",
       " 22209,\n",
       " 22400,\n",
       " 22450,\n",
       " 22464,\n",
       " 22508,\n",
       " 22565,\n",
       " 22626,\n",
       " 22648,\n",
       " 22705,\n",
       " 22760,\n",
       " 22855,\n",
       " 22915,\n",
       " 23017,\n",
       " 23108,\n",
       " 23145,\n",
       " 23186,\n",
       " 23271,\n",
       " 23331,\n",
       " 23373,\n",
       " 23402,\n",
       " 23457,\n",
       " 23501,\n",
       " 23592,\n",
       " 23629,\n",
       " 23680,\n",
       " 23769,\n",
       " 23810,\n",
       " 23860,\n",
       " 23888,\n",
       " 23934,\n",
       " 23999,\n",
       " 24047,\n",
       " 24095,\n",
       " 24124,\n",
       " 24156,\n",
       " 24217,\n",
       " 24247,\n",
       " 24347,\n",
       " 24412,\n",
       " 24508,\n",
       " 24571,\n",
       " 24635,\n",
       " 24671,\n",
       " 24688,\n",
       " 24768,\n",
       " 24819,\n",
       " 24853,\n",
       " 24930,\n",
       " 24951,\n",
       " 25095,\n",
       " 25111,\n",
       " 25148,\n",
       " 25181,\n",
       " 25326,\n",
       " 25379,\n",
       " 25426,\n",
       " 25466,\n",
       " 25495,\n",
       " 25578,\n",
       " 25731,\n",
       " 25757,\n",
       " 25802,\n",
       " 25864,\n",
       " 25931,\n",
       " 25947,\n",
       " 26042,\n",
       " 26095,\n",
       " 26117,\n",
       " 26203,\n",
       " 26241,\n",
       " 26280,\n",
       " 26333,\n",
       " 26399,\n",
       " 26450,\n",
       " 26497,\n",
       " 26533,\n",
       " 26582,\n",
       " 26610,\n",
       " 26673,\n",
       " 26716,\n",
       " 26801,\n",
       " 26885,\n",
       " 26935,\n",
       " 26991,\n",
       " 27034,\n",
       " 27120,\n",
       " 27151,\n",
       " 27192,\n",
       " 27260,\n",
       " 27293,\n",
       " 27321,\n",
       " 27370,\n",
       " 27391,\n",
       " 27453,\n",
       " 27512,\n",
       " 27639,\n",
       " 27682,\n",
       " 27713,\n",
       " 27754,\n",
       " 27788,\n",
       " 27830,\n",
       " 27868,\n",
       " 27905,\n",
       " 27951,\n",
       " 27998,\n",
       " 28036,\n",
       " 28068,\n",
       " 28097,\n",
       " 28142,\n",
       " 28160,\n",
       " 28188,\n",
       " 28234,\n",
       " 28292,\n",
       " 28355,\n",
       " 28408,\n",
       " 28437,\n",
       " 28472,\n",
       " 28516,\n",
       " 28546,\n",
       " 28570,\n",
       " 28610,\n",
       " 28654,\n",
       " 28694,\n",
       " 28725,\n",
       " 28758,\n",
       " 28776,\n",
       " 28821,\n",
       " 28868,\n",
       " 28883,\n",
       " 28922,\n",
       " 28968,\n",
       " 29003,\n",
       " 29047,\n",
       " 29084,\n",
       " 29161,\n",
       " 29196,\n",
       " 29237,\n",
       " 29271,\n",
       " 29316,\n",
       " 29359,\n",
       " 29398,\n",
       " 29436,\n",
       " 29462,\n",
       " 29497,\n",
       " 29525,\n",
       " 29551,\n",
       " 29661,\n",
       " 29700,\n",
       " 29718,\n",
       " 29860,\n",
       " 29882,\n",
       " 29915,\n",
       " 29975,\n",
       " 30125,\n",
       " 30172,\n",
       " 30247,\n",
       " 30357,\n",
       " 30400,\n",
       " 30529,\n",
       " 30610,\n",
       " 30624,\n",
       " 30656,\n",
       " 30723,\n",
       " 30792,\n",
       " 30840,\n",
       " 30974,\n",
       " 31018,\n",
       " 31125,\n",
       " 31203,\n",
       " 31363,\n",
       " 31407,\n",
       " 31476,\n",
       " 31539,\n",
       " 31578,\n",
       " 31650,\n",
       " 31714,\n",
       " 31829,\n",
       " 31873,\n",
       " 31969,\n",
       " 32015,\n",
       " 32083,\n",
       " 32130,\n",
       " 32169,\n",
       " 32205,\n",
       " 32251,\n",
       " 32299,\n",
       " 32344,\n",
       " 32438,\n",
       " 32493,\n",
       " 32536,\n",
       " 32587,\n",
       " 32616,\n",
       " 32650,\n",
       " 32701,\n",
       " 32738,\n",
       " 32802,\n",
       " 32859,\n",
       " 32906,\n",
       " 32953,\n",
       " 32990,\n",
       " 33037,\n",
       " 33090,\n",
       " 33124,\n",
       " 33175,\n",
       " 33218,\n",
       " 33264,\n",
       " 33304,\n",
       " 33354,\n",
       " 33382,\n",
       " 33418,\n",
       " 33468,\n",
       " 33508,\n",
       " 33551,\n",
       " 33592,\n",
       " 33644,\n",
       " 33660,\n",
       " 33705,\n",
       " 33746,\n",
       " 33784,\n",
       " 33834,\n",
       " 33868,\n",
       " 33912,\n",
       " 33966,\n",
       " 33999,\n",
       " 34049,\n",
       " 34086,\n",
       " 34129,\n",
       " 34173,\n",
       " 34264,\n",
       " 34299,\n",
       " 34336,\n",
       " 34391,\n",
       " 34442,\n",
       " 34484,\n",
       " 34514,\n",
       " 34542,\n",
       " 34598,\n",
       " 34639,\n",
       " 34716,\n",
       " 34768,\n",
       " 34809,\n",
       " 34854,\n",
       " 34892,\n",
       " 34914,\n",
       " 34955,\n",
       " 34987,\n",
       " 35054,\n",
       " 35102,\n",
       " 35139,\n",
       " 35178,\n",
       " 35216,\n",
       " 35267,\n",
       " 35308,\n",
       " 35342,\n",
       " 35394,\n",
       " 35442,\n",
       " 35476,\n",
       " 35504,\n",
       " 35549,\n",
       " 35575,\n",
       " 35615,\n",
       " 35655,\n",
       " 35699,\n",
       " 35728,\n",
       " 35749,\n",
       " 35790,\n",
       " 35837,\n",
       " 35850,\n",
       " 35881,\n",
       " 35914,\n",
       " 35936,\n",
       " 35993,\n",
       " 36022,\n",
       " 36063,\n",
       " 36115,\n",
       " 36137,\n",
       " 36177,\n",
       " 36210,\n",
       " 36247,\n",
       " 36279,\n",
       " 36382,\n",
       " 36430,\n",
       " 36471,\n",
       " 36502,\n",
       " 36541,\n",
       " 36601,\n",
       " 36633,\n",
       " 36674,\n",
       " 36713,\n",
       " 36762,\n",
       " 36799,\n",
       " 36820,\n",
       " 36844,\n",
       " 36869,\n",
       " 36908,\n",
       " 36930,\n",
       " 36968,\n",
       " 36998,\n",
       " 37027,\n",
       " 37089,\n",
       " 37144,\n",
       " 37170,\n",
       " 37189,\n",
       " 37225,\n",
       " 37313,\n",
       " 37346,\n",
       " 37397,\n",
       " 37420,\n",
       " 37479,\n",
       " 37496,\n",
       " 37530,\n",
       " 37576,\n",
       " 37688,\n",
       " 37714,\n",
       " 37748,\n",
       " 37766,\n",
       " 37823,\n",
       " 37889,\n",
       " 37948,\n",
       " 38023,\n",
       " 38078,\n",
       " 38100,\n",
       " 38147,\n",
       " 38171,\n",
       " 38202,\n",
       " 38219,\n",
       " 38261,\n",
       " 38291,\n",
       " 38359,\n",
       " 38389,\n",
       " 38446,\n",
       " 38515,\n",
       " 38559,\n",
       " 38626,\n",
       " 38676,\n",
       " 38733,\n",
       " 38772,\n",
       " 38813,\n",
       " 38834,\n",
       " 38932,\n",
       " 38967,\n",
       " 39015,\n",
       " 39079,\n",
       " 39119,\n",
       " 39200,\n",
       " 39290,\n",
       " 39331,\n",
       " 39374,\n",
       " 39428,\n",
       " 39495,\n",
       " 39530,\n",
       " 39590,\n",
       " 39620,\n",
       " 39654,\n",
       " 39684,\n",
       " 39716,\n",
       " 39747,\n",
       " 39788,\n",
       " 39828,\n",
       " 39868,\n",
       " 39899,\n",
       " 39949,\n",
       " 39992,\n",
       " 40066,\n",
       " 40117,\n",
       " 40163,\n",
       " 40272,\n",
       " 40322,\n",
       " 40383,\n",
       " 40426,\n",
       " 40461,\n",
       " 40522,\n",
       " 40563,\n",
       " 40619,\n",
       " 40643,\n",
       " 40690,\n",
       " 40737,\n",
       " 40774,\n",
       " 40828,\n",
       " 40850,\n",
       " 40885,\n",
       " 40931,\n",
       " 40980,\n",
       " 41030,\n",
       " 41092,\n",
       " 41126,\n",
       " 41171,\n",
       " 41212,\n",
       " 41281,\n",
       " 41318,\n",
       " 41358,\n",
       " 41395,\n",
       " 41433,\n",
       " 41474,\n",
       " 41515,\n",
       " 41563,\n",
       " 41612,\n",
       " 41650,\n",
       " 41675,\n",
       " 41707,\n",
       " 41759,\n",
       " 41798,\n",
       " 41846,\n",
       " 41905,\n",
       " 41955,\n",
       " 41989,\n",
       " 42038,\n",
       " 42086,\n",
       " 42136,\n",
       " 42175,\n",
       " 42204,\n",
       " 42256,\n",
       " 42297,\n",
       " 42334,\n",
       " 42393,\n",
       " 42446,\n",
       " 42485,\n",
       " 42555,\n",
       " 42586,\n",
       " 42655,\n",
       " 42792,\n",
       " 42854,\n",
       " 42904,\n",
       " 42964,\n",
       " 43023,\n",
       " 43077,\n",
       " 43108,\n",
       " 43134,\n",
       " 43221,\n",
       " 43269,\n",
       " 43341,\n",
       " 43405,\n",
       " 43452,\n",
       " 43516,\n",
       " 43574,\n",
       " 43638,\n",
       " 43708,\n",
       " 43765,\n",
       " 43803,\n",
       " 43843,\n",
       " 43906,\n",
       " 43985,\n",
       " 44040,\n",
       " 44084,\n",
       " 44124,\n",
       " 44176,\n",
       " 44237,\n",
       " 44281,\n",
       " 44346,\n",
       " 44381,\n",
       " 44434,\n",
       " 44505,\n",
       " 44551,\n",
       " 44606,\n",
       " 44657,\n",
       " 44721,\n",
       " 44796,\n",
       " 44860,\n",
       " 44919,\n",
       " 44980,\n",
       " 45042,\n",
       " 45069,\n",
       " 45116,\n",
       " 45256,\n",
       " 45297,\n",
       " 45341,\n",
       " 45382,\n",
       " 45455,\n",
       " 45518,\n",
       " 45570,\n",
       " 45615,\n",
       " 45676,\n",
       " 45717,\n",
       " 45761,\n",
       " 45809,\n",
       " 45853,\n",
       " 45887,\n",
       " 45946,\n",
       " 45999,\n",
       " 46060,\n",
       " 46101,\n",
       " 46165,\n",
       " 46215,\n",
       " 46263,\n",
       " 46294,\n",
       " 46323,\n",
       " 46355,\n",
       " 46405,\n",
       " 46431,\n",
       " 46476,\n",
       " 46527,\n",
       " 46554,\n",
       " 46609,\n",
       " 46688,\n",
       " 46757,\n",
       " 46824,\n",
       " 46857,\n",
       " 46893,\n",
       " 46938,\n",
       " 46976,\n",
       " 47015,\n",
       " 47072,\n",
       " 47123,\n",
       " 47157,\n",
       " 47219,\n",
       " 47267,\n",
       " 47310,\n",
       " 47358,\n",
       " 47395,\n",
       " 47464,\n",
       " 47501,\n",
       " 47536,\n",
       " 47598,\n",
       " 47771,\n",
       " 47836,\n",
       " 47897,\n",
       " 48079,\n",
       " 48369,\n",
       " 48443,\n",
       " 48486,\n",
       " 48593,\n",
       " 48677,\n",
       " 48733,\n",
       " 48845,\n",
       " 48867,\n",
       " 48907,\n",
       " 48930,\n",
       " 48967,\n",
       " 48989,\n",
       " 49041,\n",
       " 49064,\n",
       " 49087,\n",
       " 49112,\n",
       " 49164,\n",
       " 49218,\n",
       " 49258,\n",
       " 49273,\n",
       " 49314,\n",
       " 49346,\n",
       " 49373,\n",
       " 49408,\n",
       " 49442,\n",
       " 49521,\n",
       " 49551,\n",
       " 49593,\n",
       " 49638,\n",
       " 49681,\n",
       " 49726,\n",
       " 49765,\n",
       " 49810,\n",
       " 49839,\n",
       " 49867,\n",
       " 49904,\n",
       " 49937,\n",
       " 49981,\n",
       " 50067,\n",
       " 50109,\n",
       " ...]"
      ]
     },
     "execution_count": 84,
     "metadata": {},
     "output_type": "execute_result"
    }
   ],
   "source": [
    "df[msp_mask].index.tolist()"
   ]
  },
  {
   "cell_type": "code",
   "execution_count": 96,
   "metadata": {
    "hidden": true
   },
   "outputs": [
    {
     "data": {
      "text/plain": [
       "[99987, 99988, 99989, 99990, 99991]"
      ]
     },
     "execution_count": 96,
     "metadata": {},
     "output_type": "execute_result"
    }
   ],
   "source": [
    "df[df[\"centered_position_type\"] == \"m6a\"].index.tolist()[-5:]"
   ]
  },
  {
   "cell_type": "code",
   "execution_count": 111,
   "metadata": {
    "hidden": true
   },
   "outputs": [
    {
     "name": "stdout",
     "output_type": "stream",
     "text": [
      "(73671, 14)\n",
      "73671\n",
      "1986\n"
     ]
    }
   ],
   "source": [
    "print(df.shape)\n",
    "msp_mask = (df[\"centered_position_type\"] == \"msp\") & (df[\"centered_start\"] <= 0) & (df[\"centered_end\"] >= motif_len)\n",
    "print(len(msp_mask))\n",
    "print(sum(msp_mask))"
   ]
  },
  {
   "cell_type": "code",
   "execution_count": 116,
   "metadata": {
    "hidden": true
   },
   "outputs": [
    {
     "name": "stdout",
     "output_type": "stream",
     "text": [
      "73662\n"
     ]
    }
   ],
   "source": [
    "idx_keep = list(df[df[\"centered_position_type\"] == \"m6a\"].index) + list(df[msp_mask].index)\n",
    "print(len(idx_keep))"
   ]
  },
  {
   "cell_type": "code",
   "execution_count": 127,
   "metadata": {
    "hidden": true
   },
   "outputs": [
    {
     "data": {
      "text/plain": [
       "[16630, 20018, 48592, 52137, 69538, 75758, 93225, 93459, 95475]"
      ]
     },
     "execution_count": 127,
     "metadata": {},
     "output_type": "execute_result"
    }
   ],
   "source": [
    "np.setdiff1d(df.index.tolist(), idx_keep).tolist()"
   ]
  },
  {
   "cell_type": "code",
   "execution_count": 135,
   "metadata": {
    "collapsed": true,
    "hidden": true
   },
   "outputs": [
    {
     "data": {
      "text/html": [
       "<div>\n",
       "<style scoped>\n",
       "    .dataframe tbody tr th:only-of-type {\n",
       "        vertical-align: middle;\n",
       "    }\n",
       "\n",
       "    .dataframe tbody tr th {\n",
       "        vertical-align: top;\n",
       "    }\n",
       "\n",
       "    .dataframe thead th {\n",
       "        text-align: right;\n",
       "    }\n",
       "</style>\n",
       "<table border=\"1\" class=\"dataframe\">\n",
       "  <thead>\n",
       "    <tr style=\"text-align: right;\">\n",
       "      <th></th>\n",
       "      <th>centered_end</th>\n",
       "    </tr>\n",
       "  </thead>\n",
       "  <tbody>\n",
       "    <tr>\n",
       "      <th>16630</th>\n",
       "      <td>False</td>\n",
       "    </tr>\n",
       "    <tr>\n",
       "      <th>20018</th>\n",
       "      <td>False</td>\n",
       "    </tr>\n",
       "    <tr>\n",
       "      <th>48592</th>\n",
       "      <td>False</td>\n",
       "    </tr>\n",
       "    <tr>\n",
       "      <th>52137</th>\n",
       "      <td>False</td>\n",
       "    </tr>\n",
       "    <tr>\n",
       "      <th>69538</th>\n",
       "      <td>False</td>\n",
       "    </tr>\n",
       "    <tr>\n",
       "      <th>75758</th>\n",
       "      <td>False</td>\n",
       "    </tr>\n",
       "    <tr>\n",
       "      <th>93225</th>\n",
       "      <td>False</td>\n",
       "    </tr>\n",
       "    <tr>\n",
       "      <th>93459</th>\n",
       "      <td>False</td>\n",
       "    </tr>\n",
       "    <tr>\n",
       "      <th>95475</th>\n",
       "      <td>False</td>\n",
       "    </tr>\n",
       "  </tbody>\n",
       "</table>\n",
       "</div>"
      ],
      "text/plain": [
       "       centered_end\n",
       "16630         False\n",
       "20018         False\n",
       "48592         False\n",
       "52137         False\n",
       "69538         False\n",
       "75758         False\n",
       "93225         False\n",
       "93459         False\n",
       "95475         False"
      ]
     },
     "execution_count": 135,
     "metadata": {},
     "output_type": "execute_result"
    }
   ],
   "source": [
    "df.loc[np.setdiff1d(df.index.tolist(), idx_keep).tolist()][[\"centered_end\"]] >= 35"
   ]
  },
  {
   "cell_type": "code",
   "execution_count": 121,
   "metadata": {
    "collapsed": true,
    "hidden": true
   },
   "outputs": [
    {
     "ename": "TypeError",
     "evalue": "bad operand type for unary ~: 'list'",
     "output_type": "error",
     "traceback": [
      "\u001b[0;31m---------------------------------------------------------------------------\u001b[0m",
      "\u001b[0;31mTypeError\u001b[0m                                 Traceback (most recent call last)",
      "Cell \u001b[0;32mIn[121], line 1\u001b[0m\n\u001b[0;32m----> 1\u001b[0m df\u001b[38;5;241m.\u001b[39mloc[\u001b[38;5;241;43m~\u001b[39;49m\u001b[43midx_keep\u001b[49m]\n",
      "\u001b[0;31mTypeError\u001b[0m: bad operand type for unary ~: 'list'"
     ]
    }
   ],
   "source": [
    "df.loc[idx_keep]"
   ]
  },
  {
   "cell_type": "code",
   "execution_count": 97,
   "metadata": {
    "collapsed": true,
    "hidden": true
   },
   "outputs": [
    {
     "ename": "IndexError",
     "evalue": "positional indexers are out-of-bounds",
     "output_type": "error",
     "traceback": [
      "\u001b[0;31m---------------------------------------------------------------------------\u001b[0m",
      "\u001b[0;31mIndexError\u001b[0m                                Traceback (most recent call last)",
      "File \u001b[0;32m/mmfs1/gscratch/stergachislab/mwperez/miniconda3/envs/fiberseq-smk/lib/python3.9/site-packages/pandas/core/indexing.py:1587\u001b[0m, in \u001b[0;36m_iLocIndexer._get_list_axis\u001b[0;34m(self, key, axis)\u001b[0m\n\u001b[1;32m   1586\u001b[0m \u001b[38;5;28;01mtry\u001b[39;00m:\n\u001b[0;32m-> 1587\u001b[0m     \u001b[38;5;28;01mreturn\u001b[39;00m \u001b[38;5;28;43mself\u001b[39;49m\u001b[38;5;241;43m.\u001b[39;49m\u001b[43mobj\u001b[49m\u001b[38;5;241;43m.\u001b[39;49m\u001b[43m_take_with_is_copy\u001b[49m\u001b[43m(\u001b[49m\u001b[43mkey\u001b[49m\u001b[43m,\u001b[49m\u001b[43m \u001b[49m\u001b[43maxis\u001b[49m\u001b[38;5;241;43m=\u001b[39;49m\u001b[43maxis\u001b[49m\u001b[43m)\u001b[49m\n\u001b[1;32m   1588\u001b[0m \u001b[38;5;28;01mexcept\u001b[39;00m \u001b[38;5;167;01mIndexError\u001b[39;00m \u001b[38;5;28;01mas\u001b[39;00m err:\n\u001b[1;32m   1589\u001b[0m     \u001b[38;5;66;03m# re-raise with different error message\u001b[39;00m\n",
      "File \u001b[0;32m/mmfs1/gscratch/stergachislab/mwperez/miniconda3/envs/fiberseq-smk/lib/python3.9/site-packages/pandas/core/generic.py:3902\u001b[0m, in \u001b[0;36mNDFrame._take_with_is_copy\u001b[0;34m(self, indices, axis)\u001b[0m\n\u001b[1;32m   3895\u001b[0m \u001b[38;5;250m\u001b[39m\u001b[38;5;124;03m\"\"\"\u001b[39;00m\n\u001b[1;32m   3896\u001b[0m \u001b[38;5;124;03mInternal version of the `take` method that sets the `_is_copy`\u001b[39;00m\n\u001b[1;32m   3897\u001b[0m \u001b[38;5;124;03mattribute to keep track of the parent dataframe (using in indexing\u001b[39;00m\n\u001b[0;32m   (...)\u001b[0m\n\u001b[1;32m   3900\u001b[0m \u001b[38;5;124;03mSee the docstring of `take` for full explanation of the parameters.\u001b[39;00m\n\u001b[1;32m   3901\u001b[0m \u001b[38;5;124;03m\"\"\"\u001b[39;00m\n\u001b[0;32m-> 3902\u001b[0m result \u001b[38;5;241m=\u001b[39m \u001b[38;5;28;43mself\u001b[39;49m\u001b[38;5;241;43m.\u001b[39;49m\u001b[43m_take\u001b[49m\u001b[43m(\u001b[49m\u001b[43mindices\u001b[49m\u001b[38;5;241;43m=\u001b[39;49m\u001b[43mindices\u001b[49m\u001b[43m,\u001b[49m\u001b[43m \u001b[49m\u001b[43maxis\u001b[49m\u001b[38;5;241;43m=\u001b[39;49m\u001b[43maxis\u001b[49m\u001b[43m)\u001b[49m\n\u001b[1;32m   3903\u001b[0m \u001b[38;5;66;03m# Maybe set copy if we didn't actually change the index.\u001b[39;00m\n",
      "File \u001b[0;32m/mmfs1/gscratch/stergachislab/mwperez/miniconda3/envs/fiberseq-smk/lib/python3.9/site-packages/pandas/core/generic.py:3886\u001b[0m, in \u001b[0;36mNDFrame._take\u001b[0;34m(self, indices, axis, convert_indices)\u001b[0m\n\u001b[1;32m   3884\u001b[0m \u001b[38;5;28mself\u001b[39m\u001b[38;5;241m.\u001b[39m_consolidate_inplace()\n\u001b[0;32m-> 3886\u001b[0m new_data \u001b[38;5;241m=\u001b[39m \u001b[38;5;28;43mself\u001b[39;49m\u001b[38;5;241;43m.\u001b[39;49m\u001b[43m_mgr\u001b[49m\u001b[38;5;241;43m.\u001b[39;49m\u001b[43mtake\u001b[49m\u001b[43m(\u001b[49m\n\u001b[1;32m   3887\u001b[0m \u001b[43m    \u001b[49m\u001b[43mindices\u001b[49m\u001b[43m,\u001b[49m\n\u001b[1;32m   3888\u001b[0m \u001b[43m    \u001b[49m\u001b[43maxis\u001b[49m\u001b[38;5;241;43m=\u001b[39;49m\u001b[38;5;28;43mself\u001b[39;49m\u001b[38;5;241;43m.\u001b[39;49m\u001b[43m_get_block_manager_axis\u001b[49m\u001b[43m(\u001b[49m\u001b[43maxis\u001b[49m\u001b[43m)\u001b[49m\u001b[43m,\u001b[49m\n\u001b[1;32m   3889\u001b[0m \u001b[43m    \u001b[49m\u001b[43mverify\u001b[49m\u001b[38;5;241;43m=\u001b[39;49m\u001b[38;5;28;43;01mTrue\u001b[39;49;00m\u001b[43m,\u001b[49m\n\u001b[1;32m   3890\u001b[0m \u001b[43m    \u001b[49m\u001b[43mconvert_indices\u001b[49m\u001b[38;5;241;43m=\u001b[39;49m\u001b[43mconvert_indices\u001b[49m\u001b[43m,\u001b[49m\n\u001b[1;32m   3891\u001b[0m \u001b[43m\u001b[49m\u001b[43m)\u001b[49m\n\u001b[1;32m   3892\u001b[0m \u001b[38;5;28;01mreturn\u001b[39;00m \u001b[38;5;28mself\u001b[39m\u001b[38;5;241m.\u001b[39m_constructor(new_data)\u001b[38;5;241m.\u001b[39m__finalize__(\u001b[38;5;28mself\u001b[39m, method\u001b[38;5;241m=\u001b[39m\u001b[38;5;124m\"\u001b[39m\u001b[38;5;124mtake\u001b[39m\u001b[38;5;124m\"\u001b[39m)\n",
      "File \u001b[0;32m/mmfs1/gscratch/stergachislab/mwperez/miniconda3/envs/fiberseq-smk/lib/python3.9/site-packages/pandas/core/internals/managers.py:977\u001b[0m, in \u001b[0;36mBaseBlockManager.take\u001b[0;34m(self, indexer, axis, verify, convert_indices)\u001b[0m\n\u001b[1;32m    976\u001b[0m \u001b[38;5;28;01mif\u001b[39;00m convert_indices:\n\u001b[0;32m--> 977\u001b[0m     indexer \u001b[38;5;241m=\u001b[39m \u001b[43mmaybe_convert_indices\u001b[49m\u001b[43m(\u001b[49m\u001b[43mindexer\u001b[49m\u001b[43m,\u001b[49m\u001b[43m \u001b[49m\u001b[43mn\u001b[49m\u001b[43m,\u001b[49m\u001b[43m \u001b[49m\u001b[43mverify\u001b[49m\u001b[38;5;241;43m=\u001b[39;49m\u001b[43mverify\u001b[49m\u001b[43m)\u001b[49m\n\u001b[1;32m    979\u001b[0m new_labels \u001b[38;5;241m=\u001b[39m \u001b[38;5;28mself\u001b[39m\u001b[38;5;241m.\u001b[39maxes[axis]\u001b[38;5;241m.\u001b[39mtake(indexer)\n",
      "File \u001b[0;32m/mmfs1/gscratch/stergachislab/mwperez/miniconda3/envs/fiberseq-smk/lib/python3.9/site-packages/pandas/core/indexers/utils.py:286\u001b[0m, in \u001b[0;36mmaybe_convert_indices\u001b[0;34m(indices, n, verify)\u001b[0m\n\u001b[1;32m    285\u001b[0m     \u001b[38;5;28;01mif\u001b[39;00m mask\u001b[38;5;241m.\u001b[39many():\n\u001b[0;32m--> 286\u001b[0m         \u001b[38;5;28;01mraise\u001b[39;00m \u001b[38;5;167;01mIndexError\u001b[39;00m(\u001b[38;5;124m\"\u001b[39m\u001b[38;5;124mindices are out-of-bounds\u001b[39m\u001b[38;5;124m\"\u001b[39m)\n\u001b[1;32m    287\u001b[0m \u001b[38;5;28;01mreturn\u001b[39;00m indices\n",
      "\u001b[0;31mIndexError\u001b[0m: indices are out-of-bounds",
      "\nThe above exception was the direct cause of the following exception:\n",
      "\u001b[0;31mIndexError\u001b[0m                                Traceback (most recent call last)",
      "Cell \u001b[0;32mIn[97], line 1\u001b[0m\n\u001b[0;32m----> 1\u001b[0m \u001b[43mdf\u001b[49m\u001b[38;5;241;43m.\u001b[39;49m\u001b[43miloc\u001b[49m\u001b[43m[\u001b[49m\u001b[43midx_keep\u001b[49m\u001b[43m]\u001b[49m\n",
      "File \u001b[0;32m/mmfs1/gscratch/stergachislab/mwperez/miniconda3/envs/fiberseq-smk/lib/python3.9/site-packages/pandas/core/indexing.py:1073\u001b[0m, in \u001b[0;36m_LocationIndexer.__getitem__\u001b[0;34m(self, key)\u001b[0m\n\u001b[1;32m   1070\u001b[0m axis \u001b[38;5;241m=\u001b[39m \u001b[38;5;28mself\u001b[39m\u001b[38;5;241m.\u001b[39maxis \u001b[38;5;129;01mor\u001b[39;00m \u001b[38;5;241m0\u001b[39m\n\u001b[1;32m   1072\u001b[0m maybe_callable \u001b[38;5;241m=\u001b[39m com\u001b[38;5;241m.\u001b[39mapply_if_callable(key, \u001b[38;5;28mself\u001b[39m\u001b[38;5;241m.\u001b[39mobj)\n\u001b[0;32m-> 1073\u001b[0m \u001b[38;5;28;01mreturn\u001b[39;00m \u001b[38;5;28;43mself\u001b[39;49m\u001b[38;5;241;43m.\u001b[39;49m\u001b[43m_getitem_axis\u001b[49m\u001b[43m(\u001b[49m\u001b[43mmaybe_callable\u001b[49m\u001b[43m,\u001b[49m\u001b[43m \u001b[49m\u001b[43maxis\u001b[49m\u001b[38;5;241;43m=\u001b[39;49m\u001b[43maxis\u001b[49m\u001b[43m)\u001b[49m\n",
      "File \u001b[0;32m/mmfs1/gscratch/stergachislab/mwperez/miniconda3/envs/fiberseq-smk/lib/python3.9/site-packages/pandas/core/indexing.py:1616\u001b[0m, in \u001b[0;36m_iLocIndexer._getitem_axis\u001b[0;34m(self, key, axis)\u001b[0m\n\u001b[1;32m   1614\u001b[0m \u001b[38;5;66;03m# a list of integers\u001b[39;00m\n\u001b[1;32m   1615\u001b[0m \u001b[38;5;28;01melif\u001b[39;00m is_list_like_indexer(key):\n\u001b[0;32m-> 1616\u001b[0m     \u001b[38;5;28;01mreturn\u001b[39;00m \u001b[38;5;28;43mself\u001b[39;49m\u001b[38;5;241;43m.\u001b[39;49m\u001b[43m_get_list_axis\u001b[49m\u001b[43m(\u001b[49m\u001b[43mkey\u001b[49m\u001b[43m,\u001b[49m\u001b[43m \u001b[49m\u001b[43maxis\u001b[49m\u001b[38;5;241;43m=\u001b[39;49m\u001b[43maxis\u001b[49m\u001b[43m)\u001b[49m\n\u001b[1;32m   1618\u001b[0m \u001b[38;5;66;03m# a single integer\u001b[39;00m\n\u001b[1;32m   1619\u001b[0m \u001b[38;5;28;01melse\u001b[39;00m:\n\u001b[1;32m   1620\u001b[0m     key \u001b[38;5;241m=\u001b[39m item_from_zerodim(key)\n",
      "File \u001b[0;32m/mmfs1/gscratch/stergachislab/mwperez/miniconda3/envs/fiberseq-smk/lib/python3.9/site-packages/pandas/core/indexing.py:1590\u001b[0m, in \u001b[0;36m_iLocIndexer._get_list_axis\u001b[0;34m(self, key, axis)\u001b[0m\n\u001b[1;32m   1587\u001b[0m     \u001b[38;5;28;01mreturn\u001b[39;00m \u001b[38;5;28mself\u001b[39m\u001b[38;5;241m.\u001b[39mobj\u001b[38;5;241m.\u001b[39m_take_with_is_copy(key, axis\u001b[38;5;241m=\u001b[39maxis)\n\u001b[1;32m   1588\u001b[0m \u001b[38;5;28;01mexcept\u001b[39;00m \u001b[38;5;167;01mIndexError\u001b[39;00m \u001b[38;5;28;01mas\u001b[39;00m err:\n\u001b[1;32m   1589\u001b[0m     \u001b[38;5;66;03m# re-raise with different error message\u001b[39;00m\n\u001b[0;32m-> 1590\u001b[0m     \u001b[38;5;28;01mraise\u001b[39;00m \u001b[38;5;167;01mIndexError\u001b[39;00m(\u001b[38;5;124m\"\u001b[39m\u001b[38;5;124mpositional indexers are out-of-bounds\u001b[39m\u001b[38;5;124m\"\u001b[39m) \u001b[38;5;28;01mfrom\u001b[39;00m \u001b[38;5;21;01merr\u001b[39;00m\n",
      "\u001b[0;31mIndexError\u001b[0m: positional indexers are out-of-bounds"
     ]
    }
   ],
   "source": [
    "df.iloc[idx_keep]"
   ]
  },
  {
   "cell_type": "code",
   "execution_count": 76,
   "metadata": {
    "collapsed": true,
    "hidden": true
   },
   "outputs": [
    {
     "data": {
      "text/html": [
       "<div>\n",
       "<style scoped>\n",
       "    .dataframe tbody tr th:only-of-type {\n",
       "        vertical-align: middle;\n",
       "    }\n",
       "\n",
       "    .dataframe tbody tr th {\n",
       "        vertical-align: top;\n",
       "    }\n",
       "\n",
       "    .dataframe thead th {\n",
       "        text-align: right;\n",
       "    }\n",
       "</style>\n",
       "<table border=\"1\" class=\"dataframe\">\n",
       "  <thead>\n",
       "    <tr style=\"text-align: right;\">\n",
       "      <th></th>\n",
       "      <th>motif_name</th>\n",
       "      <th>chrom</th>\n",
       "      <th>centering_position</th>\n",
       "      <th>strand</th>\n",
       "      <th>subset_sequence</th>\n",
       "      <th>reference_start</th>\n",
       "      <th>reference_end</th>\n",
       "      <th>query_name</th>\n",
       "      <th>centered_query_start</th>\n",
       "      <th>centered_query_end</th>\n",
       "      <th>query_length</th>\n",
       "      <th>centered_position_type</th>\n",
       "      <th>centered_start</th>\n",
       "      <th>centered_end</th>\n",
       "    </tr>\n",
       "  </thead>\n",
       "  <tbody>\n",
       "    <tr>\n",
       "      <th>16630</th>\n",
       "      <td>chr1_3453274_+</td>\n",
       "      <td>chr1</td>\n",
       "      <td>3453274</td>\n",
       "      <td>+</td>\n",
       "      <td>TGTCCCCTCACTGGGCCTCAGTGACCCCACCGCACCTCAGTCCCCT...</td>\n",
       "      <td>3452462</td>\n",
       "      <td>3474434</td>\n",
       "      <td>m64076_221119_202646/138085724/ccs</td>\n",
       "      <td>-812</td>\n",
       "      <td>21148</td>\n",
       "      <td>21960</td>\n",
       "      <td>msp</td>\n",
       "      <td>-188</td>\n",
       "      <td>-99</td>\n",
       "    </tr>\n",
       "    <tr>\n",
       "      <th>20018</th>\n",
       "      <td>chr1_3673515_-</td>\n",
       "      <td>chr1</td>\n",
       "      <td>3673515</td>\n",
       "      <td>-</td>\n",
       "      <td>ACGGGTGCGTCGGGTGGAGACGGCGCGAGATCGACACACTGGAGTC...</td>\n",
       "      <td>3659531</td>\n",
       "      <td>3677673</td>\n",
       "      <td>m54329U_210323_190418/25755973/ccs</td>\n",
       "      <td>-14001</td>\n",
       "      <td>4160</td>\n",
       "      <td>18161</td>\n",
       "      <td>msp</td>\n",
       "      <td>-91</td>\n",
       "      <td>-80</td>\n",
       "    </tr>\n",
       "    <tr>\n",
       "      <th>48592</th>\n",
       "      <td>chr1_9067419_+</td>\n",
       "      <td>chr1</td>\n",
       "      <td>9067419</td>\n",
       "      <td>+</td>\n",
       "      <td>AGAGGAGGCTTCCTTCCCTGGAGGGCTGAGGCAGCAGGCAGCTGGG...</td>\n",
       "      <td>9063997</td>\n",
       "      <td>9088265</td>\n",
       "      <td>m54329U_210813_020940/46333996/ccs</td>\n",
       "      <td>-3418</td>\n",
       "      <td>20865</td>\n",
       "      <td>24283</td>\n",
       "      <td>msp</td>\n",
       "      <td>-212</td>\n",
       "      <td>-74</td>\n",
       "    </tr>\n",
       "    <tr>\n",
       "      <th>52137</th>\n",
       "      <td>chr1_9267338_-</td>\n",
       "      <td>chr1</td>\n",
       "      <td>9267338</td>\n",
       "      <td>-</td>\n",
       "      <td>CACAACGTTGACCTCTCCTCAGCCAAGGACTTCTTGTCTACCCTCT...</td>\n",
       "      <td>9254219</td>\n",
       "      <td>9276385</td>\n",
       "      <td>m54329U_210814_130637/170459707/ccs</td>\n",
       "      <td>-13099</td>\n",
       "      <td>9070</td>\n",
       "      <td>22169</td>\n",
       "      <td>msp</td>\n",
       "      <td>-94</td>\n",
       "      <td>-92</td>\n",
       "    </tr>\n",
       "    <tr>\n",
       "      <th>69538</th>\n",
       "      <td>chr1_11650573_+</td>\n",
       "      <td>chr1</td>\n",
       "      <td>11650573</td>\n",
       "      <td>+</td>\n",
       "      <td>CACGGGTTACGCAGAAGGTTGCGGCGCCGCTTGCTCAGGAAGTAGA...</td>\n",
       "      <td>11649474</td>\n",
       "      <td>11659539</td>\n",
       "      <td>m54329U_210323_190418/61605281/ccs</td>\n",
       "      <td>-1100</td>\n",
       "      <td>8984</td>\n",
       "      <td>10084</td>\n",
       "      <td>msp</td>\n",
       "      <td>-197</td>\n",
       "      <td>-85</td>\n",
       "    </tr>\n",
       "    <tr>\n",
       "      <th>75758</th>\n",
       "      <td>chr1_11907872_-</td>\n",
       "      <td>chr1</td>\n",
       "      <td>11907872</td>\n",
       "      <td>-</td>\n",
       "      <td>TGCTTGTAATAAATCACGCGTTACGTAACACCCATACGTTTATTTC...</td>\n",
       "      <td>11896836</td>\n",
       "      <td>11908609</td>\n",
       "      <td>m64076_210328_012155/88474236/ccs</td>\n",
       "      <td>-11053</td>\n",
       "      <td>738</td>\n",
       "      <td>11791</td>\n",
       "      <td>msp</td>\n",
       "      <td>-100</td>\n",
       "      <td>-99</td>\n",
       "    </tr>\n",
       "    <tr>\n",
       "      <th>93225</th>\n",
       "      <td>chr1_14850809_-</td>\n",
       "      <td>chr1</td>\n",
       "      <td>14850809</td>\n",
       "      <td>-</td>\n",
       "      <td>AAGGAAGACTCTCGACCCGATCCTTTGGTTATATTTTGAAGGTCTC...</td>\n",
       "      <td>14838159</td>\n",
       "      <td>14855962</td>\n",
       "      <td>m54329U_210326_192251/66061064/ccs</td>\n",
       "      <td>-12691</td>\n",
       "      <td>5173</td>\n",
       "      <td>17864</td>\n",
       "      <td>msp</td>\n",
       "      <td>-174</td>\n",
       "      <td>-92</td>\n",
       "    </tr>\n",
       "    <tr>\n",
       "      <th>93459</th>\n",
       "      <td>chr1_14850809_-</td>\n",
       "      <td>chr1</td>\n",
       "      <td>14850809</td>\n",
       "      <td>-</td>\n",
       "      <td>CAAAGGAAGACTCTCGACCCGATCCTTTGGTTATATTTTGAAGGTC...</td>\n",
       "      <td>14843213</td>\n",
       "      <td>14866523</td>\n",
       "      <td>m64076_221119_202646/111477920/ccs</td>\n",
       "      <td>-7674</td>\n",
       "      <td>15854</td>\n",
       "      <td>23528</td>\n",
       "      <td>msp</td>\n",
       "      <td>-205</td>\n",
       "      <td>-89</td>\n",
       "    </tr>\n",
       "    <tr>\n",
       "      <th>95475</th>\n",
       "      <td>chr1_15100575_-</td>\n",
       "      <td>chr1</td>\n",
       "      <td>15100575</td>\n",
       "      <td>-</td>\n",
       "      <td>CTAAAGGAACACGGGGTGTATCTTTACTGGGGACATGGTGCATATG...</td>\n",
       "      <td>15092884</td>\n",
       "      <td>15100964</td>\n",
       "      <td>m54329U_210323_190418/46138317/ccs</td>\n",
       "      <td>-7717</td>\n",
       "      <td>390</td>\n",
       "      <td>8107</td>\n",
       "      <td>msp</td>\n",
       "      <td>-231</td>\n",
       "      <td>-90</td>\n",
       "    </tr>\n",
       "  </tbody>\n",
       "</table>\n",
       "</div>"
      ],
      "text/plain": [
       "            motif_name chrom  centering_position strand  \\\n",
       "16630   chr1_3453274_+  chr1             3453274      +   \n",
       "20018   chr1_3673515_-  chr1             3673515      -   \n",
       "48592   chr1_9067419_+  chr1             9067419      +   \n",
       "52137   chr1_9267338_-  chr1             9267338      -   \n",
       "69538  chr1_11650573_+  chr1            11650573      +   \n",
       "75758  chr1_11907872_-  chr1            11907872      -   \n",
       "93225  chr1_14850809_-  chr1            14850809      -   \n",
       "93459  chr1_14850809_-  chr1            14850809      -   \n",
       "95475  chr1_15100575_-  chr1            15100575      -   \n",
       "\n",
       "                                         subset_sequence  reference_start  \\\n",
       "16630  TGTCCCCTCACTGGGCCTCAGTGACCCCACCGCACCTCAGTCCCCT...          3452462   \n",
       "20018  ACGGGTGCGTCGGGTGGAGACGGCGCGAGATCGACACACTGGAGTC...          3659531   \n",
       "48592  AGAGGAGGCTTCCTTCCCTGGAGGGCTGAGGCAGCAGGCAGCTGGG...          9063997   \n",
       "52137  CACAACGTTGACCTCTCCTCAGCCAAGGACTTCTTGTCTACCCTCT...          9254219   \n",
       "69538  CACGGGTTACGCAGAAGGTTGCGGCGCCGCTTGCTCAGGAAGTAGA...         11649474   \n",
       "75758  TGCTTGTAATAAATCACGCGTTACGTAACACCCATACGTTTATTTC...         11896836   \n",
       "93225  AAGGAAGACTCTCGACCCGATCCTTTGGTTATATTTTGAAGGTCTC...         14838159   \n",
       "93459  CAAAGGAAGACTCTCGACCCGATCCTTTGGTTATATTTTGAAGGTC...         14843213   \n",
       "95475  CTAAAGGAACACGGGGTGTATCTTTACTGGGGACATGGTGCATATG...         15092884   \n",
       "\n",
       "       reference_end                           query_name  \\\n",
       "16630        3474434   m64076_221119_202646/138085724/ccs   \n",
       "20018        3677673   m54329U_210323_190418/25755973/ccs   \n",
       "48592        9088265   m54329U_210813_020940/46333996/ccs   \n",
       "52137        9276385  m54329U_210814_130637/170459707/ccs   \n",
       "69538       11659539   m54329U_210323_190418/61605281/ccs   \n",
       "75758       11908609    m64076_210328_012155/88474236/ccs   \n",
       "93225       14855962   m54329U_210326_192251/66061064/ccs   \n",
       "93459       14866523   m64076_221119_202646/111477920/ccs   \n",
       "95475       15100964   m54329U_210323_190418/46138317/ccs   \n",
       "\n",
       "       centered_query_start  centered_query_end  query_length  \\\n",
       "16630                  -812               21148         21960   \n",
       "20018                -14001                4160         18161   \n",
       "48592                 -3418               20865         24283   \n",
       "52137                -13099                9070         22169   \n",
       "69538                 -1100                8984         10084   \n",
       "75758                -11053                 738         11791   \n",
       "93225                -12691                5173         17864   \n",
       "93459                 -7674               15854         23528   \n",
       "95475                 -7717                 390          8107   \n",
       "\n",
       "      centered_position_type  centered_start  centered_end  \n",
       "16630                    msp            -188           -99  \n",
       "20018                    msp             -91           -80  \n",
       "48592                    msp            -212           -74  \n",
       "52137                    msp             -94           -92  \n",
       "69538                    msp            -197           -85  \n",
       "75758                    msp            -100           -99  \n",
       "93225                    msp            -174           -92  \n",
       "93459                    msp            -205           -89  \n",
       "95475                    msp            -231           -90  "
      ]
     },
     "execution_count": 76,
     "metadata": {},
     "output_type": "execute_result"
    }
   ],
   "source": [
    "df[(df[\"centered_position_type\"] == \"msp\") & (df[\"centered_end\"] < 35)]"
   ]
  },
  {
   "cell_type": "code",
   "execution_count": 79,
   "metadata": {
    "collapsed": true,
    "hidden": true
   },
   "outputs": [
    {
     "data": {
      "text/html": [
       "<div>\n",
       "<style scoped>\n",
       "    .dataframe tbody tr th:only-of-type {\n",
       "        vertical-align: middle;\n",
       "    }\n",
       "\n",
       "    .dataframe tbody tr th {\n",
       "        vertical-align: top;\n",
       "    }\n",
       "\n",
       "    .dataframe thead th {\n",
       "        text-align: right;\n",
       "    }\n",
       "</style>\n",
       "<table border=\"1\" class=\"dataframe\">\n",
       "  <thead>\n",
       "    <tr style=\"text-align: right;\">\n",
       "      <th></th>\n",
       "      <th>motif_name</th>\n",
       "      <th>chrom</th>\n",
       "      <th>centering_position</th>\n",
       "      <th>strand</th>\n",
       "      <th>subset_sequence</th>\n",
       "      <th>reference_start</th>\n",
       "      <th>reference_end</th>\n",
       "      <th>query_name</th>\n",
       "      <th>centered_query_start</th>\n",
       "      <th>centered_query_end</th>\n",
       "      <th>query_length</th>\n",
       "      <th>centered_position_type</th>\n",
       "      <th>centered_start</th>\n",
       "      <th>centered_end</th>\n",
       "    </tr>\n",
       "  </thead>\n",
       "  <tbody>\n",
       "    <tr>\n",
       "      <th>33</th>\n",
       "      <td>chr1_1033080_+</td>\n",
       "      <td>chr1</td>\n",
       "      <td>1033080</td>\n",
       "      <td>+</td>\n",
       "      <td>GACCTACGGGGGCGGGTGTGGGGACGCCGGACTACGCGTCAGGAGT...</td>\n",
       "      <td>1008277</td>\n",
       "      <td>1033947</td>\n",
       "      <td>m54329U_210813_020940/24183559/ccs</td>\n",
       "      <td>-24816</td>\n",
       "      <td>861</td>\n",
       "      <td>25677</td>\n",
       "      <td>msp</td>\n",
       "      <td>-78</td>\n",
       "      <td>147</td>\n",
       "    </tr>\n",
       "    <tr>\n",
       "      <th>55</th>\n",
       "      <td>chr1_1033080_+</td>\n",
       "      <td>chr1</td>\n",
       "      <td>1033080</td>\n",
       "      <td>+</td>\n",
       "      <td>GACCTACGGGGGCGGGTGTGGGGACGCCGGACTACGCGTCAGGAGT...</td>\n",
       "      <td>1010739</td>\n",
       "      <td>1033452</td>\n",
       "      <td>m54329U_210813_020940/173737659/ccs</td>\n",
       "      <td>-22317</td>\n",
       "      <td>372</td>\n",
       "      <td>22689</td>\n",
       "      <td>msp</td>\n",
       "      <td>-42</td>\n",
       "      <td>58</td>\n",
       "    </tr>\n",
       "    <tr>\n",
       "      <th>152</th>\n",
       "      <td>chr1_1033080_+</td>\n",
       "      <td>chr1</td>\n",
       "      <td>1033080</td>\n",
       "      <td>+</td>\n",
       "      <td>CCTACGGGGGCGGGTGTGGGGACGCCGGAACTTACGCGTCAGGAGT...</td>\n",
       "      <td>1016995</td>\n",
       "      <td>1038612</td>\n",
       "      <td>m54329U_210323_190418/65799401/ccs</td>\n",
       "      <td>-18781</td>\n",
       "      <td>5567</td>\n",
       "      <td>24348</td>\n",
       "      <td>msp</td>\n",
       "      <td>-80</td>\n",
       "      <td>303</td>\n",
       "    </tr>\n",
       "    <tr>\n",
       "      <th>188</th>\n",
       "      <td>chr1_1033080_+</td>\n",
       "      <td>chr1</td>\n",
       "      <td>1033080</td>\n",
       "      <td>+</td>\n",
       "      <td>GACCTACGGGGGCGGGTGTGGGGACGCCGGACTACGCGTCAGGAGT...</td>\n",
       "      <td>1017128</td>\n",
       "      <td>1037380</td>\n",
       "      <td>m54329U_210814_130637/153158045/ccs</td>\n",
       "      <td>-15970</td>\n",
       "      <td>4300</td>\n",
       "      <td>20270</td>\n",
       "      <td>msp</td>\n",
       "      <td>-227</td>\n",
       "      <td>219</td>\n",
       "    </tr>\n",
       "    <tr>\n",
       "      <th>217</th>\n",
       "      <td>chr1_1033080_+</td>\n",
       "      <td>chr1</td>\n",
       "      <td>1033080</td>\n",
       "      <td>+</td>\n",
       "      <td>GACCTACGGGGGCGGGTGTGGGGACGCCGGACCTACGCGTCAGAGT...</td>\n",
       "      <td>1017682</td>\n",
       "      <td>1033494</td>\n",
       "      <td>m54329U_210323_190418/28969124/ccs</td>\n",
       "      <td>-15438</td>\n",
       "      <td>416</td>\n",
       "      <td>15854</td>\n",
       "      <td>msp</td>\n",
       "      <td>-71</td>\n",
       "      <td>220</td>\n",
       "    </tr>\n",
       "    <tr>\n",
       "      <th>...</th>\n",
       "      <td>...</td>\n",
       "      <td>...</td>\n",
       "      <td>...</td>\n",
       "      <td>...</td>\n",
       "      <td>...</td>\n",
       "      <td>...</td>\n",
       "      <td>...</td>\n",
       "      <td>...</td>\n",
       "      <td>...</td>\n",
       "      <td>...</td>\n",
       "      <td>...</td>\n",
       "      <td>...</td>\n",
       "      <td>...</td>\n",
       "      <td>...</td>\n",
       "    </tr>\n",
       "    <tr>\n",
       "      <th>99788</th>\n",
       "      <td>chr1_15792178_+</td>\n",
       "      <td>chr1</td>\n",
       "      <td>15792178</td>\n",
       "      <td>+</td>\n",
       "      <td>AGGGGGACGGTCCCTGCCTAGGGTCCCCTGCGCAGCCTGGGAAGGC...</td>\n",
       "      <td>15777436</td>\n",
       "      <td>15796646</td>\n",
       "      <td>m54329U_210814_130637/115999192/ccs</td>\n",
       "      <td>-14771</td>\n",
       "      <td>4457</td>\n",
       "      <td>19228</td>\n",
       "      <td>msp</td>\n",
       "      <td>-67</td>\n",
       "      <td>99</td>\n",
       "    </tr>\n",
       "    <tr>\n",
       "      <th>99843</th>\n",
       "      <td>chr1_15792178_+</td>\n",
       "      <td>chr1</td>\n",
       "      <td>15792178</td>\n",
       "      <td>+</td>\n",
       "      <td>AGGGGGACGGTCCCTGCCTAGGGTCCCCTGCGCAGCCTGGGAAGGC...</td>\n",
       "      <td>15777763</td>\n",
       "      <td>15794222</td>\n",
       "      <td>m54329U_210323_190418/179176258/ccs</td>\n",
       "      <td>-14469</td>\n",
       "      <td>2035</td>\n",
       "      <td>16504</td>\n",
       "      <td>msp</td>\n",
       "      <td>-81</td>\n",
       "      <td>126</td>\n",
       "    </tr>\n",
       "    <tr>\n",
       "      <th>99896</th>\n",
       "      <td>chr1_15792178_+</td>\n",
       "      <td>chr1</td>\n",
       "      <td>15792178</td>\n",
       "      <td>+</td>\n",
       "      <td>AGGGGGACGGTCCCTGCCTAGGGTCCCCTGCGCAGCCTGGGAAGGC...</td>\n",
       "      <td>15778376</td>\n",
       "      <td>15806996</td>\n",
       "      <td>m64076_221119_202646/81527990/ccs</td>\n",
       "      <td>-13841</td>\n",
       "      <td>14819</td>\n",
       "      <td>28660</td>\n",
       "      <td>msp</td>\n",
       "      <td>-81</td>\n",
       "      <td>104</td>\n",
       "    </tr>\n",
       "    <tr>\n",
       "      <th>99943</th>\n",
       "      <td>chr1_15792178_+</td>\n",
       "      <td>chr1</td>\n",
       "      <td>15792178</td>\n",
       "      <td>+</td>\n",
       "      <td>AGGGGGACGGTCCCTGCCTAGGGTCCCCTGCGCAGCCTGGGAAGGC...</td>\n",
       "      <td>15779324</td>\n",
       "      <td>15792995</td>\n",
       "      <td>m54329U_210326_192251/126943836/ccs</td>\n",
       "      <td>-12896</td>\n",
       "      <td>806</td>\n",
       "      <td>13702</td>\n",
       "      <td>msp</td>\n",
       "      <td>-54</td>\n",
       "      <td>99</td>\n",
       "    </tr>\n",
       "    <tr>\n",
       "      <th>99994</th>\n",
       "      <td>chr1_15792178_+</td>\n",
       "      <td>chr1</td>\n",
       "      <td>15792178</td>\n",
       "      <td>+</td>\n",
       "      <td>AGGGGGACGGTCCCTGCCTAGGGTCCCCTGCGCAGCCTGGGAAGGC...</td>\n",
       "      <td>15779440</td>\n",
       "      <td>15803534</td>\n",
       "      <td>m54329U_210810_004956/114689642/ccs</td>\n",
       "      <td>-12754</td>\n",
       "      <td>11343</td>\n",
       "      <td>24097</td>\n",
       "      <td>msp</td>\n",
       "      <td>-72</td>\n",
       "      <td>98</td>\n",
       "    </tr>\n",
       "  </tbody>\n",
       "</table>\n",
       "<p>1995 rows × 14 columns</p>\n",
       "</div>"
      ],
      "text/plain": [
       "            motif_name chrom  centering_position strand  \\\n",
       "33      chr1_1033080_+  chr1             1033080      +   \n",
       "55      chr1_1033080_+  chr1             1033080      +   \n",
       "152     chr1_1033080_+  chr1             1033080      +   \n",
       "188     chr1_1033080_+  chr1             1033080      +   \n",
       "217     chr1_1033080_+  chr1             1033080      +   \n",
       "...                ...   ...                 ...    ...   \n",
       "99788  chr1_15792178_+  chr1            15792178      +   \n",
       "99843  chr1_15792178_+  chr1            15792178      +   \n",
       "99896  chr1_15792178_+  chr1            15792178      +   \n",
       "99943  chr1_15792178_+  chr1            15792178      +   \n",
       "99994  chr1_15792178_+  chr1            15792178      +   \n",
       "\n",
       "                                         subset_sequence  reference_start  \\\n",
       "33     GACCTACGGGGGCGGGTGTGGGGACGCCGGACTACGCGTCAGGAGT...          1008277   \n",
       "55     GACCTACGGGGGCGGGTGTGGGGACGCCGGACTACGCGTCAGGAGT...          1010739   \n",
       "152    CCTACGGGGGCGGGTGTGGGGACGCCGGAACTTACGCGTCAGGAGT...          1016995   \n",
       "188    GACCTACGGGGGCGGGTGTGGGGACGCCGGACTACGCGTCAGGAGT...          1017128   \n",
       "217    GACCTACGGGGGCGGGTGTGGGGACGCCGGACCTACGCGTCAGAGT...          1017682   \n",
       "...                                                  ...              ...   \n",
       "99788  AGGGGGACGGTCCCTGCCTAGGGTCCCCTGCGCAGCCTGGGAAGGC...         15777436   \n",
       "99843  AGGGGGACGGTCCCTGCCTAGGGTCCCCTGCGCAGCCTGGGAAGGC...         15777763   \n",
       "99896  AGGGGGACGGTCCCTGCCTAGGGTCCCCTGCGCAGCCTGGGAAGGC...         15778376   \n",
       "99943  AGGGGGACGGTCCCTGCCTAGGGTCCCCTGCGCAGCCTGGGAAGGC...         15779324   \n",
       "99994  AGGGGGACGGTCCCTGCCTAGGGTCCCCTGCGCAGCCTGGGAAGGC...         15779440   \n",
       "\n",
       "       reference_end                           query_name  \\\n",
       "33           1033947   m54329U_210813_020940/24183559/ccs   \n",
       "55           1033452  m54329U_210813_020940/173737659/ccs   \n",
       "152          1038612   m54329U_210323_190418/65799401/ccs   \n",
       "188          1037380  m54329U_210814_130637/153158045/ccs   \n",
       "217          1033494   m54329U_210323_190418/28969124/ccs   \n",
       "...              ...                                  ...   \n",
       "99788       15796646  m54329U_210814_130637/115999192/ccs   \n",
       "99843       15794222  m54329U_210323_190418/179176258/ccs   \n",
       "99896       15806996    m64076_221119_202646/81527990/ccs   \n",
       "99943       15792995  m54329U_210326_192251/126943836/ccs   \n",
       "99994       15803534  m54329U_210810_004956/114689642/ccs   \n",
       "\n",
       "       centered_query_start  centered_query_end  query_length  \\\n",
       "33                   -24816                 861         25677   \n",
       "55                   -22317                 372         22689   \n",
       "152                  -18781                5567         24348   \n",
       "188                  -15970                4300         20270   \n",
       "217                  -15438                 416         15854   \n",
       "...                     ...                 ...           ...   \n",
       "99788                -14771                4457         19228   \n",
       "99843                -14469                2035         16504   \n",
       "99896                -13841               14819         28660   \n",
       "99943                -12896                 806         13702   \n",
       "99994                -12754               11343         24097   \n",
       "\n",
       "      centered_position_type  centered_start  centered_end  \n",
       "33                       msp             -78           147  \n",
       "55                       msp             -42            58  \n",
       "152                      msp             -80           303  \n",
       "188                      msp            -227           219  \n",
       "217                      msp             -71           220  \n",
       "...                      ...             ...           ...  \n",
       "99788                    msp             -67            99  \n",
       "99843                    msp             -81           126  \n",
       "99896                    msp             -81           104  \n",
       "99943                    msp             -54            99  \n",
       "99994                    msp             -72            98  \n",
       "\n",
       "[1995 rows x 14 columns]"
      ]
     },
     "execution_count": 79,
     "metadata": {},
     "output_type": "execute_result"
    }
   ],
   "source": [
    "df[df[\"centered_position_type\"] == \"msp\"]"
   ]
  },
  {
   "cell_type": "code",
   "execution_count": 77,
   "metadata": {
    "collapsed": true,
    "hidden": true
   },
   "outputs": [
    {
     "data": {
      "text/html": [
       "<div>\n",
       "<style scoped>\n",
       "    .dataframe tbody tr th:only-of-type {\n",
       "        vertical-align: middle;\n",
       "    }\n",
       "\n",
       "    .dataframe tbody tr th {\n",
       "        vertical-align: top;\n",
       "    }\n",
       "\n",
       "    .dataframe thead th {\n",
       "        text-align: right;\n",
       "    }\n",
       "</style>\n",
       "<table border=\"1\" class=\"dataframe\">\n",
       "  <thead>\n",
       "    <tr style=\"text-align: right;\">\n",
       "      <th></th>\n",
       "      <th>motif_name</th>\n",
       "      <th>chrom</th>\n",
       "      <th>centering_position</th>\n",
       "      <th>strand</th>\n",
       "      <th>subset_sequence</th>\n",
       "      <th>reference_start</th>\n",
       "      <th>reference_end</th>\n",
       "      <th>query_name</th>\n",
       "      <th>centered_query_start</th>\n",
       "      <th>centered_query_end</th>\n",
       "      <th>query_length</th>\n",
       "      <th>centered_position_type</th>\n",
       "      <th>centered_start</th>\n",
       "      <th>centered_end</th>\n",
       "    </tr>\n",
       "  </thead>\n",
       "  <tbody>\n",
       "    <tr>\n",
       "      <th>33</th>\n",
       "      <td>chr1_1033080_+</td>\n",
       "      <td>chr1</td>\n",
       "      <td>1033080</td>\n",
       "      <td>+</td>\n",
       "      <td>GACCTACGGGGGCGGGTGTGGGGACGCCGGACTACGCGTCAGGAGT...</td>\n",
       "      <td>1008277</td>\n",
       "      <td>1033947</td>\n",
       "      <td>m54329U_210813_020940/24183559/ccs</td>\n",
       "      <td>-24816</td>\n",
       "      <td>861</td>\n",
       "      <td>25677</td>\n",
       "      <td>msp</td>\n",
       "      <td>-78</td>\n",
       "      <td>147</td>\n",
       "    </tr>\n",
       "    <tr>\n",
       "      <th>55</th>\n",
       "      <td>chr1_1033080_+</td>\n",
       "      <td>chr1</td>\n",
       "      <td>1033080</td>\n",
       "      <td>+</td>\n",
       "      <td>GACCTACGGGGGCGGGTGTGGGGACGCCGGACTACGCGTCAGGAGT...</td>\n",
       "      <td>1010739</td>\n",
       "      <td>1033452</td>\n",
       "      <td>m54329U_210813_020940/173737659/ccs</td>\n",
       "      <td>-22317</td>\n",
       "      <td>372</td>\n",
       "      <td>22689</td>\n",
       "      <td>msp</td>\n",
       "      <td>-42</td>\n",
       "      <td>58</td>\n",
       "    </tr>\n",
       "    <tr>\n",
       "      <th>152</th>\n",
       "      <td>chr1_1033080_+</td>\n",
       "      <td>chr1</td>\n",
       "      <td>1033080</td>\n",
       "      <td>+</td>\n",
       "      <td>CCTACGGGGGCGGGTGTGGGGACGCCGGAACTTACGCGTCAGGAGT...</td>\n",
       "      <td>1016995</td>\n",
       "      <td>1038612</td>\n",
       "      <td>m54329U_210323_190418/65799401/ccs</td>\n",
       "      <td>-18781</td>\n",
       "      <td>5567</td>\n",
       "      <td>24348</td>\n",
       "      <td>msp</td>\n",
       "      <td>-80</td>\n",
       "      <td>303</td>\n",
       "    </tr>\n",
       "    <tr>\n",
       "      <th>188</th>\n",
       "      <td>chr1_1033080_+</td>\n",
       "      <td>chr1</td>\n",
       "      <td>1033080</td>\n",
       "      <td>+</td>\n",
       "      <td>GACCTACGGGGGCGGGTGTGGGGACGCCGGACTACGCGTCAGGAGT...</td>\n",
       "      <td>1017128</td>\n",
       "      <td>1037380</td>\n",
       "      <td>m54329U_210814_130637/153158045/ccs</td>\n",
       "      <td>-15970</td>\n",
       "      <td>4300</td>\n",
       "      <td>20270</td>\n",
       "      <td>msp</td>\n",
       "      <td>-227</td>\n",
       "      <td>219</td>\n",
       "    </tr>\n",
       "    <tr>\n",
       "      <th>217</th>\n",
       "      <td>chr1_1033080_+</td>\n",
       "      <td>chr1</td>\n",
       "      <td>1033080</td>\n",
       "      <td>+</td>\n",
       "      <td>GACCTACGGGGGCGGGTGTGGGGACGCCGGACCTACGCGTCAGAGT...</td>\n",
       "      <td>1017682</td>\n",
       "      <td>1033494</td>\n",
       "      <td>m54329U_210323_190418/28969124/ccs</td>\n",
       "      <td>-15438</td>\n",
       "      <td>416</td>\n",
       "      <td>15854</td>\n",
       "      <td>msp</td>\n",
       "      <td>-71</td>\n",
       "      <td>220</td>\n",
       "    </tr>\n",
       "    <tr>\n",
       "      <th>...</th>\n",
       "      <td>...</td>\n",
       "      <td>...</td>\n",
       "      <td>...</td>\n",
       "      <td>...</td>\n",
       "      <td>...</td>\n",
       "      <td>...</td>\n",
       "      <td>...</td>\n",
       "      <td>...</td>\n",
       "      <td>...</td>\n",
       "      <td>...</td>\n",
       "      <td>...</td>\n",
       "      <td>...</td>\n",
       "      <td>...</td>\n",
       "      <td>...</td>\n",
       "    </tr>\n",
       "    <tr>\n",
       "      <th>99788</th>\n",
       "      <td>chr1_15792178_+</td>\n",
       "      <td>chr1</td>\n",
       "      <td>15792178</td>\n",
       "      <td>+</td>\n",
       "      <td>AGGGGGACGGTCCCTGCCTAGGGTCCCCTGCGCAGCCTGGGAAGGC...</td>\n",
       "      <td>15777436</td>\n",
       "      <td>15796646</td>\n",
       "      <td>m54329U_210814_130637/115999192/ccs</td>\n",
       "      <td>-14771</td>\n",
       "      <td>4457</td>\n",
       "      <td>19228</td>\n",
       "      <td>msp</td>\n",
       "      <td>-67</td>\n",
       "      <td>99</td>\n",
       "    </tr>\n",
       "    <tr>\n",
       "      <th>99843</th>\n",
       "      <td>chr1_15792178_+</td>\n",
       "      <td>chr1</td>\n",
       "      <td>15792178</td>\n",
       "      <td>+</td>\n",
       "      <td>AGGGGGACGGTCCCTGCCTAGGGTCCCCTGCGCAGCCTGGGAAGGC...</td>\n",
       "      <td>15777763</td>\n",
       "      <td>15794222</td>\n",
       "      <td>m54329U_210323_190418/179176258/ccs</td>\n",
       "      <td>-14469</td>\n",
       "      <td>2035</td>\n",
       "      <td>16504</td>\n",
       "      <td>msp</td>\n",
       "      <td>-81</td>\n",
       "      <td>126</td>\n",
       "    </tr>\n",
       "    <tr>\n",
       "      <th>99896</th>\n",
       "      <td>chr1_15792178_+</td>\n",
       "      <td>chr1</td>\n",
       "      <td>15792178</td>\n",
       "      <td>+</td>\n",
       "      <td>AGGGGGACGGTCCCTGCCTAGGGTCCCCTGCGCAGCCTGGGAAGGC...</td>\n",
       "      <td>15778376</td>\n",
       "      <td>15806996</td>\n",
       "      <td>m64076_221119_202646/81527990/ccs</td>\n",
       "      <td>-13841</td>\n",
       "      <td>14819</td>\n",
       "      <td>28660</td>\n",
       "      <td>msp</td>\n",
       "      <td>-81</td>\n",
       "      <td>104</td>\n",
       "    </tr>\n",
       "    <tr>\n",
       "      <th>99943</th>\n",
       "      <td>chr1_15792178_+</td>\n",
       "      <td>chr1</td>\n",
       "      <td>15792178</td>\n",
       "      <td>+</td>\n",
       "      <td>AGGGGGACGGTCCCTGCCTAGGGTCCCCTGCGCAGCCTGGGAAGGC...</td>\n",
       "      <td>15779324</td>\n",
       "      <td>15792995</td>\n",
       "      <td>m54329U_210326_192251/126943836/ccs</td>\n",
       "      <td>-12896</td>\n",
       "      <td>806</td>\n",
       "      <td>13702</td>\n",
       "      <td>msp</td>\n",
       "      <td>-54</td>\n",
       "      <td>99</td>\n",
       "    </tr>\n",
       "    <tr>\n",
       "      <th>99994</th>\n",
       "      <td>chr1_15792178_+</td>\n",
       "      <td>chr1</td>\n",
       "      <td>15792178</td>\n",
       "      <td>+</td>\n",
       "      <td>AGGGGGACGGTCCCTGCCTAGGGTCCCCTGCGCAGCCTGGGAAGGC...</td>\n",
       "      <td>15779440</td>\n",
       "      <td>15803534</td>\n",
       "      <td>m54329U_210810_004956/114689642/ccs</td>\n",
       "      <td>-12754</td>\n",
       "      <td>11343</td>\n",
       "      <td>24097</td>\n",
       "      <td>msp</td>\n",
       "      <td>-72</td>\n",
       "      <td>98</td>\n",
       "    </tr>\n",
       "  </tbody>\n",
       "</table>\n",
       "<p>1986 rows × 14 columns</p>\n",
       "</div>"
      ],
      "text/plain": [
       "            motif_name chrom  centering_position strand  \\\n",
       "33      chr1_1033080_+  chr1             1033080      +   \n",
       "55      chr1_1033080_+  chr1             1033080      +   \n",
       "152     chr1_1033080_+  chr1             1033080      +   \n",
       "188     chr1_1033080_+  chr1             1033080      +   \n",
       "217     chr1_1033080_+  chr1             1033080      +   \n",
       "...                ...   ...                 ...    ...   \n",
       "99788  chr1_15792178_+  chr1            15792178      +   \n",
       "99843  chr1_15792178_+  chr1            15792178      +   \n",
       "99896  chr1_15792178_+  chr1            15792178      +   \n",
       "99943  chr1_15792178_+  chr1            15792178      +   \n",
       "99994  chr1_15792178_+  chr1            15792178      +   \n",
       "\n",
       "                                         subset_sequence  reference_start  \\\n",
       "33     GACCTACGGGGGCGGGTGTGGGGACGCCGGACTACGCGTCAGGAGT...          1008277   \n",
       "55     GACCTACGGGGGCGGGTGTGGGGACGCCGGACTACGCGTCAGGAGT...          1010739   \n",
       "152    CCTACGGGGGCGGGTGTGGGGACGCCGGAACTTACGCGTCAGGAGT...          1016995   \n",
       "188    GACCTACGGGGGCGGGTGTGGGGACGCCGGACTACGCGTCAGGAGT...          1017128   \n",
       "217    GACCTACGGGGGCGGGTGTGGGGACGCCGGACCTACGCGTCAGAGT...          1017682   \n",
       "...                                                  ...              ...   \n",
       "99788  AGGGGGACGGTCCCTGCCTAGGGTCCCCTGCGCAGCCTGGGAAGGC...         15777436   \n",
       "99843  AGGGGGACGGTCCCTGCCTAGGGTCCCCTGCGCAGCCTGGGAAGGC...         15777763   \n",
       "99896  AGGGGGACGGTCCCTGCCTAGGGTCCCCTGCGCAGCCTGGGAAGGC...         15778376   \n",
       "99943  AGGGGGACGGTCCCTGCCTAGGGTCCCCTGCGCAGCCTGGGAAGGC...         15779324   \n",
       "99994  AGGGGGACGGTCCCTGCCTAGGGTCCCCTGCGCAGCCTGGGAAGGC...         15779440   \n",
       "\n",
       "       reference_end                           query_name  \\\n",
       "33           1033947   m54329U_210813_020940/24183559/ccs   \n",
       "55           1033452  m54329U_210813_020940/173737659/ccs   \n",
       "152          1038612   m54329U_210323_190418/65799401/ccs   \n",
       "188          1037380  m54329U_210814_130637/153158045/ccs   \n",
       "217          1033494   m54329U_210323_190418/28969124/ccs   \n",
       "...              ...                                  ...   \n",
       "99788       15796646  m54329U_210814_130637/115999192/ccs   \n",
       "99843       15794222  m54329U_210323_190418/179176258/ccs   \n",
       "99896       15806996    m64076_221119_202646/81527990/ccs   \n",
       "99943       15792995  m54329U_210326_192251/126943836/ccs   \n",
       "99994       15803534  m54329U_210810_004956/114689642/ccs   \n",
       "\n",
       "       centered_query_start  centered_query_end  query_length  \\\n",
       "33                   -24816                 861         25677   \n",
       "55                   -22317                 372         22689   \n",
       "152                  -18781                5567         24348   \n",
       "188                  -15970                4300         20270   \n",
       "217                  -15438                 416         15854   \n",
       "...                     ...                 ...           ...   \n",
       "99788                -14771                4457         19228   \n",
       "99843                -14469                2035         16504   \n",
       "99896                -13841               14819         28660   \n",
       "99943                -12896                 806         13702   \n",
       "99994                -12754               11343         24097   \n",
       "\n",
       "      centered_position_type  centered_start  centered_end  \n",
       "33                       msp             -78           147  \n",
       "55                       msp             -42            58  \n",
       "152                      msp             -80           303  \n",
       "188                      msp            -227           219  \n",
       "217                      msp             -71           220  \n",
       "...                      ...             ...           ...  \n",
       "99788                    msp             -67            99  \n",
       "99843                    msp             -81           126  \n",
       "99896                    msp             -81           104  \n",
       "99943                    msp             -54            99  \n",
       "99994                    msp             -72            98  \n",
       "\n",
       "[1986 rows x 14 columns]"
      ]
     },
     "execution_count": 77,
     "metadata": {},
     "output_type": "execute_result"
    }
   ],
   "source": [
    "df[(df[\"centered_position_type\"] == \"msp\") & (df[\"centered_end\"] >= 35)]"
   ]
  },
  {
   "cell_type": "code",
   "execution_count": 75,
   "metadata": {
    "collapsed": true,
    "hidden": true
   },
   "outputs": [
    {
     "data": {
      "text/html": [
       "<div>\n",
       "<style scoped>\n",
       "    .dataframe tbody tr th:only-of-type {\n",
       "        vertical-align: middle;\n",
       "    }\n",
       "\n",
       "    .dataframe tbody tr th {\n",
       "        vertical-align: top;\n",
       "    }\n",
       "\n",
       "    .dataframe thead th {\n",
       "        text-align: right;\n",
       "    }\n",
       "</style>\n",
       "<table border=\"1\" class=\"dataframe\">\n",
       "  <thead>\n",
       "    <tr style=\"text-align: right;\">\n",
       "      <th></th>\n",
       "      <th>motif_name</th>\n",
       "      <th>chrom</th>\n",
       "      <th>centering_position</th>\n",
       "      <th>strand</th>\n",
       "      <th>subset_sequence</th>\n",
       "      <th>reference_start</th>\n",
       "      <th>reference_end</th>\n",
       "      <th>query_name</th>\n",
       "      <th>centered_query_start</th>\n",
       "      <th>centered_query_end</th>\n",
       "      <th>query_length</th>\n",
       "      <th>centered_position_type</th>\n",
       "      <th>centered_start</th>\n",
       "      <th>centered_end</th>\n",
       "    </tr>\n",
       "  </thead>\n",
       "  <tbody>\n",
       "    <tr>\n",
       "      <th>33</th>\n",
       "      <td>chr1_1033080_+</td>\n",
       "      <td>chr1</td>\n",
       "      <td>1033080</td>\n",
       "      <td>+</td>\n",
       "      <td>GACCTACGGGGGCGGGTGTGGGGACGCCGGACTACGCGTCAGGAGT...</td>\n",
       "      <td>1008277</td>\n",
       "      <td>1033947</td>\n",
       "      <td>m54329U_210813_020940/24183559/ccs</td>\n",
       "      <td>-24816</td>\n",
       "      <td>861</td>\n",
       "      <td>25677</td>\n",
       "      <td>msp</td>\n",
       "      <td>-78</td>\n",
       "      <td>147</td>\n",
       "    </tr>\n",
       "    <tr>\n",
       "      <th>55</th>\n",
       "      <td>chr1_1033080_+</td>\n",
       "      <td>chr1</td>\n",
       "      <td>1033080</td>\n",
       "      <td>+</td>\n",
       "      <td>GACCTACGGGGGCGGGTGTGGGGACGCCGGACTACGCGTCAGGAGT...</td>\n",
       "      <td>1010739</td>\n",
       "      <td>1033452</td>\n",
       "      <td>m54329U_210813_020940/173737659/ccs</td>\n",
       "      <td>-22317</td>\n",
       "      <td>372</td>\n",
       "      <td>22689</td>\n",
       "      <td>msp</td>\n",
       "      <td>-42</td>\n",
       "      <td>58</td>\n",
       "    </tr>\n",
       "    <tr>\n",
       "      <th>152</th>\n",
       "      <td>chr1_1033080_+</td>\n",
       "      <td>chr1</td>\n",
       "      <td>1033080</td>\n",
       "      <td>+</td>\n",
       "      <td>CCTACGGGGGCGGGTGTGGGGACGCCGGAACTTACGCGTCAGGAGT...</td>\n",
       "      <td>1016995</td>\n",
       "      <td>1038612</td>\n",
       "      <td>m54329U_210323_190418/65799401/ccs</td>\n",
       "      <td>-18781</td>\n",
       "      <td>5567</td>\n",
       "      <td>24348</td>\n",
       "      <td>msp</td>\n",
       "      <td>-80</td>\n",
       "      <td>303</td>\n",
       "    </tr>\n",
       "    <tr>\n",
       "      <th>188</th>\n",
       "      <td>chr1_1033080_+</td>\n",
       "      <td>chr1</td>\n",
       "      <td>1033080</td>\n",
       "      <td>+</td>\n",
       "      <td>GACCTACGGGGGCGGGTGTGGGGACGCCGGACTACGCGTCAGGAGT...</td>\n",
       "      <td>1017128</td>\n",
       "      <td>1037380</td>\n",
       "      <td>m54329U_210814_130637/153158045/ccs</td>\n",
       "      <td>-15970</td>\n",
       "      <td>4300</td>\n",
       "      <td>20270</td>\n",
       "      <td>msp</td>\n",
       "      <td>-227</td>\n",
       "      <td>219</td>\n",
       "    </tr>\n",
       "    <tr>\n",
       "      <th>217</th>\n",
       "      <td>chr1_1033080_+</td>\n",
       "      <td>chr1</td>\n",
       "      <td>1033080</td>\n",
       "      <td>+</td>\n",
       "      <td>GACCTACGGGGGCGGGTGTGGGGACGCCGGACCTACGCGTCAGAGT...</td>\n",
       "      <td>1017682</td>\n",
       "      <td>1033494</td>\n",
       "      <td>m54329U_210323_190418/28969124/ccs</td>\n",
       "      <td>-15438</td>\n",
       "      <td>416</td>\n",
       "      <td>15854</td>\n",
       "      <td>msp</td>\n",
       "      <td>-71</td>\n",
       "      <td>220</td>\n",
       "    </tr>\n",
       "    <tr>\n",
       "      <th>...</th>\n",
       "      <td>...</td>\n",
       "      <td>...</td>\n",
       "      <td>...</td>\n",
       "      <td>...</td>\n",
       "      <td>...</td>\n",
       "      <td>...</td>\n",
       "      <td>...</td>\n",
       "      <td>...</td>\n",
       "      <td>...</td>\n",
       "      <td>...</td>\n",
       "      <td>...</td>\n",
       "      <td>...</td>\n",
       "      <td>...</td>\n",
       "      <td>...</td>\n",
       "    </tr>\n",
       "    <tr>\n",
       "      <th>99788</th>\n",
       "      <td>chr1_15792178_+</td>\n",
       "      <td>chr1</td>\n",
       "      <td>15792178</td>\n",
       "      <td>+</td>\n",
       "      <td>AGGGGGACGGTCCCTGCCTAGGGTCCCCTGCGCAGCCTGGGAAGGC...</td>\n",
       "      <td>15777436</td>\n",
       "      <td>15796646</td>\n",
       "      <td>m54329U_210814_130637/115999192/ccs</td>\n",
       "      <td>-14771</td>\n",
       "      <td>4457</td>\n",
       "      <td>19228</td>\n",
       "      <td>msp</td>\n",
       "      <td>-67</td>\n",
       "      <td>99</td>\n",
       "    </tr>\n",
       "    <tr>\n",
       "      <th>99843</th>\n",
       "      <td>chr1_15792178_+</td>\n",
       "      <td>chr1</td>\n",
       "      <td>15792178</td>\n",
       "      <td>+</td>\n",
       "      <td>AGGGGGACGGTCCCTGCCTAGGGTCCCCTGCGCAGCCTGGGAAGGC...</td>\n",
       "      <td>15777763</td>\n",
       "      <td>15794222</td>\n",
       "      <td>m54329U_210323_190418/179176258/ccs</td>\n",
       "      <td>-14469</td>\n",
       "      <td>2035</td>\n",
       "      <td>16504</td>\n",
       "      <td>msp</td>\n",
       "      <td>-81</td>\n",
       "      <td>126</td>\n",
       "    </tr>\n",
       "    <tr>\n",
       "      <th>99896</th>\n",
       "      <td>chr1_15792178_+</td>\n",
       "      <td>chr1</td>\n",
       "      <td>15792178</td>\n",
       "      <td>+</td>\n",
       "      <td>AGGGGGACGGTCCCTGCCTAGGGTCCCCTGCGCAGCCTGGGAAGGC...</td>\n",
       "      <td>15778376</td>\n",
       "      <td>15806996</td>\n",
       "      <td>m64076_221119_202646/81527990/ccs</td>\n",
       "      <td>-13841</td>\n",
       "      <td>14819</td>\n",
       "      <td>28660</td>\n",
       "      <td>msp</td>\n",
       "      <td>-81</td>\n",
       "      <td>104</td>\n",
       "    </tr>\n",
       "    <tr>\n",
       "      <th>99943</th>\n",
       "      <td>chr1_15792178_+</td>\n",
       "      <td>chr1</td>\n",
       "      <td>15792178</td>\n",
       "      <td>+</td>\n",
       "      <td>AGGGGGACGGTCCCTGCCTAGGGTCCCCTGCGCAGCCTGGGAAGGC...</td>\n",
       "      <td>15779324</td>\n",
       "      <td>15792995</td>\n",
       "      <td>m54329U_210326_192251/126943836/ccs</td>\n",
       "      <td>-12896</td>\n",
       "      <td>806</td>\n",
       "      <td>13702</td>\n",
       "      <td>msp</td>\n",
       "      <td>-54</td>\n",
       "      <td>99</td>\n",
       "    </tr>\n",
       "    <tr>\n",
       "      <th>99994</th>\n",
       "      <td>chr1_15792178_+</td>\n",
       "      <td>chr1</td>\n",
       "      <td>15792178</td>\n",
       "      <td>+</td>\n",
       "      <td>AGGGGGACGGTCCCTGCCTAGGGTCCCCTGCGCAGCCTGGGAAGGC...</td>\n",
       "      <td>15779440</td>\n",
       "      <td>15803534</td>\n",
       "      <td>m54329U_210810_004956/114689642/ccs</td>\n",
       "      <td>-12754</td>\n",
       "      <td>11343</td>\n",
       "      <td>24097</td>\n",
       "      <td>msp</td>\n",
       "      <td>-72</td>\n",
       "      <td>98</td>\n",
       "    </tr>\n",
       "  </tbody>\n",
       "</table>\n",
       "<p>1986 rows × 14 columns</p>\n",
       "</div>"
      ],
      "text/plain": [
       "            motif_name chrom  centering_position strand  \\\n",
       "33      chr1_1033080_+  chr1             1033080      +   \n",
       "55      chr1_1033080_+  chr1             1033080      +   \n",
       "152     chr1_1033080_+  chr1             1033080      +   \n",
       "188     chr1_1033080_+  chr1             1033080      +   \n",
       "217     chr1_1033080_+  chr1             1033080      +   \n",
       "...                ...   ...                 ...    ...   \n",
       "99788  chr1_15792178_+  chr1            15792178      +   \n",
       "99843  chr1_15792178_+  chr1            15792178      +   \n",
       "99896  chr1_15792178_+  chr1            15792178      +   \n",
       "99943  chr1_15792178_+  chr1            15792178      +   \n",
       "99994  chr1_15792178_+  chr1            15792178      +   \n",
       "\n",
       "                                         subset_sequence  reference_start  \\\n",
       "33     GACCTACGGGGGCGGGTGTGGGGACGCCGGACTACGCGTCAGGAGT...          1008277   \n",
       "55     GACCTACGGGGGCGGGTGTGGGGACGCCGGACTACGCGTCAGGAGT...          1010739   \n",
       "152    CCTACGGGGGCGGGTGTGGGGACGCCGGAACTTACGCGTCAGGAGT...          1016995   \n",
       "188    GACCTACGGGGGCGGGTGTGGGGACGCCGGACTACGCGTCAGGAGT...          1017128   \n",
       "217    GACCTACGGGGGCGGGTGTGGGGACGCCGGACCTACGCGTCAGAGT...          1017682   \n",
       "...                                                  ...              ...   \n",
       "99788  AGGGGGACGGTCCCTGCCTAGGGTCCCCTGCGCAGCCTGGGAAGGC...         15777436   \n",
       "99843  AGGGGGACGGTCCCTGCCTAGGGTCCCCTGCGCAGCCTGGGAAGGC...         15777763   \n",
       "99896  AGGGGGACGGTCCCTGCCTAGGGTCCCCTGCGCAGCCTGGGAAGGC...         15778376   \n",
       "99943  AGGGGGACGGTCCCTGCCTAGGGTCCCCTGCGCAGCCTGGGAAGGC...         15779324   \n",
       "99994  AGGGGGACGGTCCCTGCCTAGGGTCCCCTGCGCAGCCTGGGAAGGC...         15779440   \n",
       "\n",
       "       reference_end                           query_name  \\\n",
       "33           1033947   m54329U_210813_020940/24183559/ccs   \n",
       "55           1033452  m54329U_210813_020940/173737659/ccs   \n",
       "152          1038612   m54329U_210323_190418/65799401/ccs   \n",
       "188          1037380  m54329U_210814_130637/153158045/ccs   \n",
       "217          1033494   m54329U_210323_190418/28969124/ccs   \n",
       "...              ...                                  ...   \n",
       "99788       15796646  m54329U_210814_130637/115999192/ccs   \n",
       "99843       15794222  m54329U_210323_190418/179176258/ccs   \n",
       "99896       15806996    m64076_221119_202646/81527990/ccs   \n",
       "99943       15792995  m54329U_210326_192251/126943836/ccs   \n",
       "99994       15803534  m54329U_210810_004956/114689642/ccs   \n",
       "\n",
       "       centered_query_start  centered_query_end  query_length  \\\n",
       "33                   -24816                 861         25677   \n",
       "55                   -22317                 372         22689   \n",
       "152                  -18781                5567         24348   \n",
       "188                  -15970                4300         20270   \n",
       "217                  -15438                 416         15854   \n",
       "...                     ...                 ...           ...   \n",
       "99788                -14771                4457         19228   \n",
       "99843                -14469                2035         16504   \n",
       "99896                -13841               14819         28660   \n",
       "99943                -12896                 806         13702   \n",
       "99994                -12754               11343         24097   \n",
       "\n",
       "      centered_position_type  centered_start  centered_end  \n",
       "33                       msp             -78           147  \n",
       "55                       msp             -42            58  \n",
       "152                      msp             -80           303  \n",
       "188                      msp            -227           219  \n",
       "217                      msp             -71           220  \n",
       "...                      ...             ...           ...  \n",
       "99788                    msp             -67            99  \n",
       "99843                    msp             -81           126  \n",
       "99896                    msp             -81           104  \n",
       "99943                    msp             -54            99  \n",
       "99994                    msp             -72            98  \n",
       "\n",
       "[1986 rows x 14 columns]"
      ]
     },
     "execution_count": 75,
     "metadata": {},
     "output_type": "execute_result"
    }
   ],
   "source": [
    "df[(df[\"centered_position_type\"] == \"msp\") & (df[\"centered_start\"] <= 0) & (df[\"centered_end\"] >= motif_len)]"
   ]
  },
  {
   "cell_type": "code",
   "execution_count": 72,
   "metadata": {
    "hidden": true
   },
   "outputs": [
    {
     "data": {
      "text/html": [
       "<div>\n",
       "<style scoped>\n",
       "    .dataframe tbody tr th:only-of-type {\n",
       "        vertical-align: middle;\n",
       "    }\n",
       "\n",
       "    .dataframe tbody tr th {\n",
       "        vertical-align: top;\n",
       "    }\n",
       "\n",
       "    .dataframe thead th {\n",
       "        text-align: right;\n",
       "    }\n",
       "</style>\n",
       "<table border=\"1\" class=\"dataframe\">\n",
       "  <thead>\n",
       "    <tr style=\"text-align: right;\">\n",
       "      <th></th>\n",
       "      <th>centered_start</th>\n",
       "      <th>centered_end</th>\n",
       "    </tr>\n",
       "  </thead>\n",
       "  <tbody>\n",
       "    <tr>\n",
       "      <th>count</th>\n",
       "      <td>1995.000000</td>\n",
       "      <td>1995.000000</td>\n",
       "    </tr>\n",
       "    <tr>\n",
       "      <th>mean</th>\n",
       "      <td>-81.447619</td>\n",
       "      <td>124.157393</td>\n",
       "    </tr>\n",
       "    <tr>\n",
       "      <th>std</th>\n",
       "      <td>68.692121</td>\n",
       "      <td>69.302748</td>\n",
       "    </tr>\n",
       "    <tr>\n",
       "      <th>min</th>\n",
       "      <td>-1329.000000</td>\n",
       "      <td>-99.000000</td>\n",
       "    </tr>\n",
       "    <tr>\n",
       "      <th>25%</th>\n",
       "      <td>-94.000000</td>\n",
       "      <td>89.000000</td>\n",
       "    </tr>\n",
       "    <tr>\n",
       "      <th>50%</th>\n",
       "      <td>-66.000000</td>\n",
       "      <td>115.000000</td>\n",
       "    </tr>\n",
       "    <tr>\n",
       "      <th>75%</th>\n",
       "      <td>-45.000000</td>\n",
       "      <td>147.000000</td>\n",
       "    </tr>\n",
       "    <tr>\n",
       "      <th>max</th>\n",
       "      <td>0.000000</td>\n",
       "      <td>1556.000000</td>\n",
       "    </tr>\n",
       "  </tbody>\n",
       "</table>\n",
       "</div>"
      ],
      "text/plain": [
       "       centered_start  centered_end\n",
       "count     1995.000000   1995.000000\n",
       "mean       -81.447619    124.157393\n",
       "std         68.692121     69.302748\n",
       "min      -1329.000000    -99.000000\n",
       "25%        -94.000000     89.000000\n",
       "50%        -66.000000    115.000000\n",
       "75%        -45.000000    147.000000\n",
       "max          0.000000   1556.000000"
      ]
     },
     "execution_count": 72,
     "metadata": {},
     "output_type": "execute_result"
    }
   ],
   "source": [
    "df[df[\"centered_position_type\"] == \"msp\"][[\"centered_start\", \"centered_end\"]].describe()"
   ]
  },
  {
   "cell_type": "code",
   "execution_count": 111,
   "metadata": {
    "hidden": true
   },
   "outputs": [
    {
     "data": {
      "text/plain": [
       "73671"
      ]
     },
     "execution_count": 111,
     "metadata": {},
     "output_type": "execute_result"
    }
   ],
   "source": [
    "sum(df[[\"motif_name\", \"query_name\"]].apply(tuple, 1).isin(msp_groups))"
   ]
  },
  {
   "cell_type": "code",
   "execution_count": 109,
   "metadata": {
    "hidden": true
   },
   "outputs": [
    {
     "data": {
      "text/plain": [
       "73662"
      ]
     },
     "execution_count": 109,
     "metadata": {},
     "output_type": "execute_result"
    }
   ],
   "source": [
    "# df[(df[\"centered_position_type\"] == \"msp\") & (df[\"centered_end\"] < 35)].shape[0]\n",
    "73671 - 9"
   ]
  },
  {
   "cell_type": "code",
   "execution_count": 89,
   "metadata": {
    "hidden": true
   },
   "outputs": [
    {
     "name": "stdout",
     "output_type": "stream",
     "text": [
      "MSP's with a motif: 1,986\n",
      "Removing MSP's without a motif: 1,316\n"
     ]
    }
   ],
   "source": [
    "# mask of MSP's containing a motif\n",
    "motif_len = 35\n",
    "msp_mask = (df[\"centered_position_type\"] == \"msp\") & (df[\"centered_start\"] <= 0) & (df[\"centered_end\"] >= motif_len)\n",
    "print(\"MSP's with a motif: \" + \"{:,}\".format(msp_mask.sum()))\n",
    "msp_groups = [(row[\"motif_name\"], row[\"query_name\"]) for idx, row in df[msp_mask].iterrows()]\n",
    "\n",
    "# remove MSP's without a motif\n",
    "print(\"Removing MSP's without a motif: \" + \"{:,}\".format(\n",
    "    (~np.logical_or(msp_mask, (df[\"centered_position_type\"] == \"m6a\"))).sum()))\n",
    "#df = df[np.logical_or(msp_mask, (df[\"centered_position_type\"] == \"m6a\"))]"
   ]
  },
  {
   "cell_type": "code",
   "execution_count": 123,
   "metadata": {
    "hidden": true
   },
   "outputs": [
    {
     "data": {
      "text/plain": [
       "1986"
      ]
     },
     "execution_count": 123,
     "metadata": {},
     "output_type": "execute_result"
    }
   ],
   "source": [
    "len(msp_groups)"
   ]
  },
  {
   "cell_type": "code",
   "execution_count": 90,
   "metadata": {
    "collapsed": true,
    "hidden": true
   },
   "outputs": [
    {
     "data": {
      "text/plain": [
       "[('chr1_1033080_+', 'm54329U_210813_020940/24183559/ccs'),\n",
       " ('chr1_1033080_+', 'm54329U_210813_020940/173737659/ccs'),\n",
       " ('chr1_1033080_+', 'm54329U_210323_190418/65799401/ccs'),\n",
       " ('chr1_1033080_+', 'm54329U_210814_130637/153158045/ccs'),\n",
       " ('chr1_1033080_+', 'm54329U_210323_190418/28969124/ccs'),\n",
       " ('chr1_1033080_+', 'm54329U_210323_190418/92997266/ccs'),\n",
       " ('chr1_1033080_+', 'm54329U_210810_004956/66257203/ccs'),\n",
       " ('chr1_1033080_+', 'm54329U_210813_020940/5964715/ccs'),\n",
       " ('chr1_1033080_+', 'm64076_210328_012155/41027901/ccs'),\n",
       " ('chr1_1033080_+', 'm64076_210328_012155/58132989/ccs'),\n",
       " ('chr1_1033080_+', 'm54329U_210813_020940/85131496/ccs'),\n",
       " ('chr1_1033080_+', 'm64076_210328_012155/84345303/ccs'),\n",
       " ('chr1_1033080_+', 'm54329U_210323_190418/144837022/ccs'),\n",
       " ('chr1_1033080_+', 'm54329U_210810_004956/37945806/ccs'),\n",
       " ('chr1_1033080_+', 'm64076_210328_012155/39781822/ccs'),\n",
       " ('chr1_1033080_+', 'm54329U_210810_004956/137822662/ccs'),\n",
       " ('chr1_1033080_+', 'm54329U_210326_192251/158794909/ccs'),\n",
       " ('chr1_1033080_+', 'm54329U_210323_190418/73794045/ccs'),\n",
       " ('chr1_1033080_+', 'm54329U_210323_190418/77923770/ccs'),\n",
       " ('chr1_1033080_+', 'm64076_210328_012155/152175706/ccs'),\n",
       " ('chr1_1033080_+', 'm54329U_210814_130637/48432263/ccs'),\n",
       " ('chr1_1033080_+', 'm54329U_210810_004956/143655246/ccs'),\n",
       " ('chr1_1033080_+', 'm64076_210328_012155/82314840/ccs'),\n",
       " ('chr1_1033080_+', 'm64076_221119_202646/129501648/ccs'),\n",
       " ('chr1_1033080_+', 'm64076_221119_202646/150537468/ccs'),\n",
       " ('chr1_1033080_+', 'm54329U_210326_192251/102958369/ccs'),\n",
       " ('chr1_1033080_+', 'm54329U_210810_004956/112394749/ccs'),\n",
       " ('chr1_1033080_+', 'm54329U_210813_020940/168561113/ccs'),\n",
       " ('chr1_1033080_+', 'm54329U_210323_190418/61606199/ccs'),\n",
       " ('chr1_1033080_+', 'm54329U_210326_192251/67568797/ccs'),\n",
       " ('chr1_1033080_+', 'm54329U_210813_020940/40960859/ccs'),\n",
       " ('chr1_1040825_-', 'm54329U_210813_020940/5964715/ccs'),\n",
       " ('chr1_1040825_-', 'm54329U_210813_020940/85131496/ccs'),\n",
       " ('chr1_1040825_-', 'm54329U_210810_004956/37945806/ccs'),\n",
       " ('chr1_1040825_-', 'm64076_210328_012155/82314840/ccs'),\n",
       " ('chr1_1040825_-', 'm64076_221119_202646/129501648/ccs'),\n",
       " ('chr1_1040825_-', 'm54329U_210814_130637/46269982/ccs'),\n",
       " ('chr1_1040825_-', 'm54329U_210813_020940/40960859/ccs'),\n",
       " ('chr1_1040825_-', 'm54329U_210326_192251/110496021/ccs'),\n",
       " ('chr1_1040825_-', 'm54329U_210326_192251/32572288/ccs'),\n",
       " ('chr1_1040825_-', 'm54329U_210326_192251/40042740/ccs'),\n",
       " ('chr1_1040825_-', 'm54329U_210323_190418/151521219/ccs'),\n",
       " ('chr1_1040825_-', 'm54329U_210326_192251/142475607/ccs'),\n",
       " ('chr1_1040825_-', 'm64076_221119_202646/15467149/ccs'),\n",
       " ('chr1_1040825_-', 'm54329U_210323_190418/53936967/ccs'),\n",
       " ('chr1_1372257_-', 'm54329U_210814_130637/138808073/ccs'),\n",
       " ('chr1_1372257_-', 'm64076_210328_012155/133302189/ccs'),\n",
       " ('chr1_1372257_-', 'm54329U_210810_004956/164432365/ccs'),\n",
       " ('chr1_1372257_-', 'm54329U_210323_190418/72548991/ccs'),\n",
       " ('chr1_1372257_-', 'm54329U_210813_020940/164956603/ccs'),\n",
       " ('chr1_1372257_-', 'm54329U_210326_192251/152830214/ccs'),\n",
       " ('chr1_1372257_-', 'm54329U_210813_020940/173278338/ccs'),\n",
       " ('chr1_1372257_-', 'm54329U_210326_192251/164561438/ccs'),\n",
       " ('chr1_1372257_-', 'm54329U_210326_192251/147981373/ccs'),\n",
       " ('chr1_1372257_-', 'm54329U_210326_192251/116197759/ccs'),\n",
       " ('chr1_1372257_-', 'm54329U_210813_020940/145491440/ccs'),\n",
       " ('chr1_1372257_-', 'm54329U_210323_190418/26083897/ccs'),\n",
       " ('chr1_1372257_-', 'm54329U_210323_190418/135203676/ccs'),\n",
       " ('chr1_1372257_-', 'm54329U_210323_190418/40501896/ccs'),\n",
       " ('chr1_1372257_-', 'm64076_221119_202646/156828715/ccs'),\n",
       " ('chr1_1372257_-', 'm54329U_210813_020940/34932922/ccs'),\n",
       " ('chr1_1372257_-', 'm64076_210328_012155/93521468/ccs'),\n",
       " ('chr1_1372257_-', 'm64076_221119_202646/141232774/ccs'),\n",
       " ('chr1_1372257_-', 'm64076_210328_012155/49808023/ccs'),\n",
       " ('chr1_1372257_-', 'm54329U_210326_192251/30476994/ccs'),\n",
       " ('chr1_1372257_-', 'm64076_210328_012155/110035934/ccs'),\n",
       " ('chr1_1372257_-', 'm54329U_210814_130637/82051802/ccs'),\n",
       " ('chr1_1372257_-', 'm54329U_210323_190418/119605138/ccs'),\n",
       " ('chr1_1372257_-', 'm64076_210328_012155/17172078/ccs'),\n",
       " ('chr1_1372257_-', 'm64076_210328_012155/25429935/ccs'),\n",
       " ('chr1_1372257_-', 'm54329U_210813_020940/5898302/ccs'),\n",
       " ('chr1_1372257_-', 'm54329U_210810_004956/42337795/ccs'),\n",
       " ('chr1_1372257_-', 'm54329U_210326_192251/108987240/ccs'),\n",
       " ('chr1_1679104_-', 'm54329U_210814_130637/99942488/ccs'),\n",
       " ('chr1_1679104_-', 'm64076_221119_202646/126157176/ccs'),\n",
       " ('chr1_1679104_-', 'm54329U_210813_020940/39584380/ccs'),\n",
       " ('chr1_1679104_-', 'm54329U_210810_004956/96994655/ccs'),\n",
       " ('chr1_1679104_-', 'm54329U_210813_020940/92537545/ccs'),\n",
       " ('chr1_1679104_-', 'm54329U_210810_004956/124716777/ccs'),\n",
       " ('chr1_1679104_-', 'm64076_221119_202646/98961089/ccs'),\n",
       " ('chr1_1679104_-', 'm54329U_210326_192251/30606486/ccs'),\n",
       " ('chr1_1679104_-', 'm54329U_210810_004956/48103815/ccs'),\n",
       " ('chr1_1679104_-', 'm54329U_210814_130637/96274995/ccs'),\n",
       " ('chr1_1679104_-', 'm54329U_210810_004956/63701791/ccs'),\n",
       " ('chr1_1679104_-', 'm64076_210328_012155/33752086/ccs'),\n",
       " ('chr1_1679104_-', 'm54329U_210813_020940/153487511/ccs'),\n",
       " ('chr1_1679104_-', 'm54329U_210323_190418/57084181/ccs'),\n",
       " ('chr1_1679104_-', 'm54329U_210813_020940/89065942/ccs'),\n",
       " ('chr1_1679104_-', 'm54329U_210810_004956/29296534/ccs'),\n",
       " ('chr1_1679104_-', 'm54329U_210326_192251/139725140/ccs'),\n",
       " ('chr1_1679104_-', 'm54329U_210813_020940/92341972/ccs'),\n",
       " ('chr1_1679104_-', 'm54329U_210814_130637/79300483/ccs'),\n",
       " ('chr1_1679104_-', 'm54329U_210326_192251/98044427/ccs'),\n",
       " ('chr1_1679104_-', 'm54329U_210810_004956/121571206/ccs'),\n",
       " ('chr1_1679104_-', 'm64076_210328_012155/144115088/ccs'),\n",
       " ('chr1_1679104_-', 'm64076_210328_012155/148636422/ccs'),\n",
       " ('chr1_1679104_-', 'm54329U_210813_020940/169150266/ccs'),\n",
       " ('chr1_1679104_-', 'm54329U_210813_020940/138019677/ccs'),\n",
       " ('chr1_1679104_-', 'm54329U_210326_192251/129108586/ccs'),\n",
       " ('chr1_1679104_-', 'm54329U_210813_020940/173016649/ccs'),\n",
       " ('chr1_1679104_-', 'm54329U_210814_130637/19726939/ccs'),\n",
       " ('chr1_1679104_-', 'm64076_221119_202646/58132002/ccs'),\n",
       " ('chr1_1679104_-', 'm64076_210328_012155/64619385/ccs'),\n",
       " ('chr1_1679104_-', 'm54329U_210810_004956/1771272/ccs'),\n",
       " ('chr1_1679104_-', 'm54329U_210326_192251/18154023/ccs'),\n",
       " ('chr1_1679104_-', 'm64076_210328_012155/97061085/ccs'),\n",
       " ('chr1_1679104_-', 'm64076_210328_012155/110035178/ccs'),\n",
       " ('chr1_1679104_-', 'm54329U_210323_190418/49022889/ccs'),\n",
       " ('chr1_1679104_-', 'm54329U_210323_190418/168362488/ccs'),\n",
       " ('chr1_1679104_-', 'm54329U_210814_130637/124390020/ccs'),\n",
       " ('chr1_1679104_-', 'm54329U_210326_192251/162203815/ccs'),\n",
       " ('chr1_1906439_-', 'm64076_221119_202646/87950199/ccs'),\n",
       " ('chr1_1906439_-', 'm54329U_210814_130637/45089880/ccs'),\n",
       " ('chr1_1906439_-', 'm54329U_210814_130637/83951821/ccs'),\n",
       " ('chr1_1906439_-', 'm54329U_210814_130637/48956442/ccs'),\n",
       " ('chr1_1906439_-', 'm54329U_210326_192251/46008696/ccs'),\n",
       " ('chr1_1906439_-', 'm54329U_210814_130637/161745067/ccs'),\n",
       " ('chr1_1906439_-', 'm64076_221119_202646/138349144/ccs'),\n",
       " ('chr1_1906439_-', 'm54329U_210814_130637/36964476/ccs'),\n",
       " ('chr1_1906439_-', 'm54329U_210323_190418/69535067/ccs'),\n",
       " ('chr1_1906439_-', 'm54329U_210813_020940/148769482/ccs'),\n",
       " ('chr1_1906439_-', 'm54329U_210810_004956/68619082/ccs'),\n",
       " ('chr1_1906439_-', 'm64076_210328_012155/17368286/ccs'),\n",
       " ('chr1_1906439_-', 'm64076_221119_202646/20318946/ccs'),\n",
       " ('chr1_1906439_-', 'm54329U_210813_020940/126091526/ccs'),\n",
       " ('chr1_1906439_-', 'm54329U_210326_192251/114165567/ccs'),\n",
       " ('chr1_1906439_-', 'm64076_221119_202646/120785049/ccs'),\n",
       " ('chr1_1906439_-', 'm54329U_210323_190418/45746136/ccs'),\n",
       " ('chr1_1906439_-', 'm54329U_210323_190418/12911939/ccs'),\n",
       " ('chr1_1906439_-', 'm54329U_210323_190418/21561444/ccs'),\n",
       " ('chr1_1906439_-', 'm64076_210328_012155/88279401/ccs'),\n",
       " ('chr1_1906439_-', 'm54329U_210813_020940/79365741/ccs'),\n",
       " ('chr1_1906439_-', 'm54329U_210326_192251/77924474/ccs'),\n",
       " ('chr1_1906439_-', 'm54329U_210323_190418/174981136/ccs'),\n",
       " ('chr1_1906439_-', 'm54329U_210323_190418/151784208/ccs'),\n",
       " ('chr1_1906439_-', 'm64076_210328_012155/44237299/ccs'),\n",
       " ('chr1_1906439_-', 'm64076_210328_012155/119080666/ccs'),\n",
       " ('chr1_1906439_-', 'm64076_210328_012155/110496574/ccs'),\n",
       " ('chr1_1906439_-', 'm64076_210328_012155/16255433/ccs'),\n",
       " ('chr1_1906439_-', 'm64076_221119_202646/144900767/ccs'),\n",
       " ('chr1_1906439_-', 'm54329U_210326_192251/2164009/ccs'),\n",
       " ('chr1_1906439_-', 'm54329U_210813_020940/20906932/ccs'),\n",
       " ('chr1_1906439_-', 'm64076_210328_012155/657767/ccs'),\n",
       " ('chr1_1906439_-', 'm54329U_210323_190418/62587006/ccs'),\n",
       " ('chr1_1906439_-', 'm64076_221119_202646/113771206/ccs'),\n",
       " ('chr1_1906439_-', 'm54329U_210813_020940/154143372/ccs'),\n",
       " ('chr1_1906439_-', 'm54329U_210810_004956/114819921/ccs'),\n",
       " ('chr1_1906439_-', 'm54329U_210813_020940/74318025/ccs'),\n",
       " ('chr1_1906439_-', 'm54329U_210323_190418/32440975/ccs'),\n",
       " ('chr1_1906439_-', 'm54329U_210323_190418/150208659/ccs'),\n",
       " ('chr1_1906439_-', 'm54329U_210326_192251/168165456/ccs'),\n",
       " ('chr1_1909162_-', 'm64076_210328_012155/154142052/ccs'),\n",
       " ('chr1_1909162_-', 'm64076_221119_202646/87950199/ccs'),\n",
       " ('chr1_1909162_-', 'm54329U_210814_130637/83951821/ccs'),\n",
       " ('chr1_1909162_-', 'm54329U_210814_130637/161745067/ccs'),\n",
       " ('chr1_1909162_-', 'm64076_221119_202646/138349144/ccs'),\n",
       " ('chr1_1909162_-', 'm54329U_210813_020940/148769482/ccs'),\n",
       " ('chr1_1909162_-', 'm64076_210328_012155/17368286/ccs'),\n",
       " ('chr1_1909162_-', 'm54329U_210813_020940/137759123/ccs'),\n",
       " ('chr1_1909162_-', 'm54329U_210813_020940/126091526/ccs'),\n",
       " ('chr1_1909162_-', 'm54329U_210326_192251/114165567/ccs'),\n",
       " ('chr1_1909162_-', 'm54329U_210814_130637/33948616/ccs'),\n",
       " ('chr1_1909162_-', 'm64076_221119_202646/120785049/ccs'),\n",
       " ('chr1_1909162_-', 'm54329U_210323_190418/45746136/ccs'),\n",
       " ('chr1_1909162_-', 'm54329U_210323_190418/12911939/ccs'),\n",
       " ('chr1_1909162_-', 'm54329U_210813_020940/79365741/ccs'),\n",
       " ('chr1_1909162_-', 'm54329U_210326_192251/77924474/ccs'),\n",
       " ('chr1_1909162_-', 'm54329U_210323_190418/174981136/ccs'),\n",
       " ('chr1_1909162_-', 'm64076_210328_012155/44237299/ccs'),\n",
       " ('chr1_1909162_-', 'm64076_210328_012155/119080666/ccs'),\n",
       " ('chr1_1909162_-', 'm64076_210328_012155/110496574/ccs'),\n",
       " ('chr1_1909162_-', 'm54329U_210814_130637/13174262/ccs'),\n",
       " ('chr1_1909162_-', 'm64076_221119_202646/144900767/ccs'),\n",
       " ('chr1_1909162_-', 'm54329U_210326_192251/34802236/ccs'),\n",
       " ('chr1_1909162_-', 'm54329U_210326_192251/83755924/ccs'),\n",
       " ('chr1_1909162_-', 'm54329U_210813_020940/20906932/ccs'),\n",
       " ('chr1_1909162_-', 'm64076_210328_012155/657767/ccs'),\n",
       " ('chr1_1909162_-', 'm54329U_210323_190418/62587006/ccs'),\n",
       " ('chr1_1909162_-', 'm64076_221119_202646/113771206/ccs'),\n",
       " ('chr1_1909162_-', 'm54329U_210813_020940/154143372/ccs'),\n",
       " ('chr1_1909162_-', 'm54329U_210810_004956/114819921/ccs'),\n",
       " ('chr1_1909162_-', 'm54329U_210813_020940/74318025/ccs'),\n",
       " ('chr1_1909162_-', 'm54329U_210323_190418/32440975/ccs'),\n",
       " ('chr1_1909162_-', 'm54329U_210323_190418/150208659/ccs'),\n",
       " ('chr1_1909162_-', 'm54329U_210326_192251/168165456/ccs'),\n",
       " ('chr1_1909162_-', 'm54329U_210323_190418/94503052/ccs'),\n",
       " ('chr1_1909162_-', 'm54329U_210323_190418/156371470/ccs'),\n",
       " ('chr1_1909162_-', 'm54329U_210326_192251/172294210/ccs'),\n",
       " ('chr1_1909162_-', 'm64076_210328_012155/88016848/ccs'),\n",
       " ('chr1_1960188_+', 'm54329U_210813_020940/95685127/ccs'),\n",
       " ('chr1_1960188_+', 'm54329U_210810_004956/142804964/ccs'),\n",
       " ('chr1_1960188_+', 'm54329U_210810_004956/8062521/ccs'),\n",
       " ('chr1_1960188_+', 'm64076_210328_012155/171510150/ccs'),\n",
       " ('chr1_1960188_+', 'm54329U_210323_190418/177864971/ccs'),\n",
       " ('chr1_1960188_+', 'm54329U_210323_190418/7734371/ccs'),\n",
       " ('chr1_1960188_+', 'm64076_210328_012155/48957689/ccs'),\n",
       " ('chr1_1960188_+', 'm54329U_210814_130637/51642799/ccs'),\n",
       " ('chr1_1960188_+', 'm54329U_210810_004956/70779457/ccs'),\n",
       " ('chr1_1960188_+', 'm64076_210328_012155/180553087/ccs'),\n",
       " ('chr1_1960188_+', 'm54329U_210326_192251/132974286/ccs'),\n",
       " ('chr1_1960188_+', 'm54329U_210323_190418/135398963/ccs'),\n",
       " ('chr1_1960188_+', 'm54329U_210323_190418/80283220/ccs'),\n",
       " ('chr1_1960188_+', 'm54329U_210323_190418/5441834/ccs'),\n",
       " ('chr1_1960188_+', 'm54329U_210813_020940/71238969/ccs'),\n",
       " ('chr1_1960188_+', 'm54329U_210813_020940/61540859/ccs'),\n",
       " ('chr1_1960188_+', 'm54329U_210326_192251/88408140/ccs'),\n",
       " ('chr1_1960188_+', 'm54329U_210323_190418/52562541/ccs'),\n",
       " ('chr1_1960188_+', 'm64076_210328_012155/148177025/ccs'),\n",
       " ('chr1_2045026_-', 'm64076_210328_012155/35588887/ccs'),\n",
       " ('chr1_2045026_-', 'm64076_221119_202646/64424270/ccs'),\n",
       " ('chr1_2045026_-', 'm64076_221119_202646/165938275/ccs'),\n",
       " ('chr1_2045026_-', 'm64076_210328_012155/29556797/ccs'),\n",
       " ('chr1_2045026_-', 'm54329U_210813_020940/161286521/ccs'),\n",
       " ('chr1_2045026_-', 'm54329U_210813_020940/22349724/ccs'),\n",
       " ('chr1_2045026_-', 'm64076_210328_012155/20121505/ccs'),\n",
       " ('chr1_2045026_-', 'm54329U_210813_020940/98042855/ccs'),\n",
       " ('chr1_2045026_-', 'm54329U_210814_130637/38929008/ccs'),\n",
       " ('chr1_2045026_-', 'm54329U_210814_130637/55380162/ccs'),\n",
       " ('chr1_2045026_-', 'm54329U_210323_190418/108266849/ccs'),\n",
       " ('chr1_2045026_-', 'm54329U_210814_130637/16319307/ccs'),\n",
       " ('chr1_2045026_-', 'm64076_210328_012155/6883644/ccs'),\n",
       " ('chr1_2045026_-', 'm54329U_210323_190418/66781778/ccs'),\n",
       " ('chr1_2045026_-', 'm54329U_210323_190418/128778611/ccs'),\n",
       " ('chr1_2045026_-', 'm54329U_210323_190418/59442705/ccs'),\n",
       " ('chr1_2045026_-', 'm54329U_210323_190418/125567493/ccs'),\n",
       " ('chr1_2045026_-', 'm64076_210328_012155/37161029/ccs'),\n",
       " ('chr1_2045026_-', 'm54329U_210810_004956/143067124/ccs'),\n",
       " ('chr1_2045026_-', 'm54329U_210326_192251/156238869/ccs'),\n",
       " ('chr1_2045026_-', 'm54329U_210323_190418/165873211/ccs'),\n",
       " ('chr1_2045026_-', 'm64076_210328_012155/39324190/ccs'),\n",
       " ('chr1_2045026_-', 'm64076_221119_202646/15598993/ccs'),\n",
       " ('chr1_2045026_-', 'm54329U_210810_004956/37489111/ccs'),\n",
       " ('chr1_2045026_-', 'm64076_221119_202646/132560/ccs'),\n",
       " ('chr1_2045026_-', 'm64076_210328_012155/60623121/ccs'),\n",
       " ('chr1_2045026_-', 'm64076_210328_012155/111019502/ccs'),\n",
       " ('chr1_2045026_-', 'm54329U_210323_190418/123471449/ccs'),\n",
       " ('chr1_2045026_-', 'm54329U_210814_130637/53086889/ccs'),\n",
       " ('chr1_2045026_-', 'm54329U_210323_190418/113771244/ccs'),\n",
       " ('chr1_2045026_-', 'm64076_210328_012155/119931509/ccs'),\n",
       " ('chr1_2045026_-', 'm54329U_210810_004956/60162910/ccs'),\n",
       " ('chr1_2045026_-', 'm54329U_210323_190418/173211853/ccs'),\n",
       " ('chr1_2045026_-', 'm54329U_210814_130637/13960665/ccs'),\n",
       " ('chr1_2045026_-', 'm54329U_210323_190418/35521991/ccs'),\n",
       " ('chr1_2045026_-', 'm54329U_210813_020940/175311256/ccs'),\n",
       " ('chr1_2045026_-', 'm54329U_210323_190418/8980598/ccs'),\n",
       " ('chr1_2045026_-', 'm64076_221119_202646/82707174/ccs'),\n",
       " ('chr1_2045026_-', 'm54329U_210813_020940/124585438/ccs'),\n",
       " ('chr1_2195332_+', 'm64076_221119_202646/117572776/ccs'),\n",
       " ('chr1_2195332_+', 'm54329U_210813_020940/122946465/ccs'),\n",
       " ('chr1_2195332_+', 'm54329U_210813_020940/81527042/ccs'),\n",
       " ('chr1_2195332_+', 'm64076_221119_202646/82444339/ccs'),\n",
       " ('chr1_2195332_+', 'm64076_221119_202646/107413621/ccs'),\n",
       " ('chr1_2195332_+', 'm54329U_210813_020940/141099362/ccs'),\n",
       " ('chr1_2195332_+', 'm54329U_210323_190418/41487078/ccs'),\n",
       " ('chr1_2195332_+', 'm54329U_210326_192251/117114756/ccs'),\n",
       " ('chr1_2195332_+', 'm54329U_210326_192251/140314785/ccs'),\n",
       " ('chr1_2195332_+', 'm54329U_210814_130637/110690702/ccs'),\n",
       " ('chr1_2195332_+', 'm54329U_210326_192251/177211803/ccs'),\n",
       " ('chr1_2195332_+', 'm54329U_210326_192251/129108261/ccs'),\n",
       " ('chr1_2195332_+', 'm54329U_210323_190418/121636891/ccs'),\n",
       " ('chr1_2195332_+', 'm54329U_210814_130637/35259177/ccs'),\n",
       " ('chr1_2195332_+', 'm54329U_210323_190418/126222594/ccs'),\n",
       " ('chr1_2195332_+', 'm64076_210328_012155/142804691/ccs'),\n",
       " ('chr1_2195332_+', 'm54329U_210323_190418/99221732/ccs'),\n",
       " ('chr1_2195332_+', 'm54329U_210326_192251/15337040/ccs'),\n",
       " ('chr1_2195332_+', 'm54329U_210323_190418/33030578/ccs'),\n",
       " ('chr1_2195332_+', 'm54329U_210323_190418/78644076/ccs'),\n",
       " ('chr1_2195332_+', 'm54329U_210813_020940/16122268/ccs'),\n",
       " ('chr1_2195332_+', 'm54329U_210326_192251/36767073/ccs'),\n",
       " ('chr1_2195332_+', 'm54329U_210810_004956/179830990/ccs'),\n",
       " ('chr1_2195332_+', 'm54329U_210326_192251/170918812/ccs'),\n",
       " ('chr1_2415961_+', 'm54329U_210326_192251/38471948/ccs'),\n",
       " ('chr1_2415961_+', 'm54329U_210813_020940/71043791/ccs'),\n",
       " ('chr1_2415961_+', 'm54329U_210814_130637/118096574/ccs'),\n",
       " ('chr1_2415961_+', 'm54329U_210326_192251/57542031/ccs'),\n",
       " ('chr1_2415961_+', 'm54329U_210326_192251/22348032/ccs'),\n",
       " ('chr1_2415961_+', 'm64076_221119_202646/171247853/ccs'),\n",
       " ('chr1_2415961_+', 'm54329U_210326_192251/44108436/ccs'),\n",
       " ('chr1_2415961_+', 'm54329U_210326_192251/133106353/ccs'),\n",
       " ('chr1_2415961_+', 'm64076_221119_202646/144113931/ccs'),\n",
       " ('chr1_2415961_+', 'm54329U_210326_192251/117965548/ccs'),\n",
       " ('chr1_2415961_+', 'm64076_210328_012155/51120261/ccs'),\n",
       " ('chr1_2415961_+', 'm54329U_210323_190418/169477181/ccs'),\n",
       " ('chr1_2415961_+', 'm64076_221119_202646/79954810/ccs'),\n",
       " ('chr1_2415961_+', 'm54329U_210326_192251/122161158/ccs'),\n",
       " ('chr1_2415961_+', 'm64076_210328_012155/173540930/ccs'),\n",
       " ('chr1_2415961_+', 'm54329U_210326_192251/166724761/ccs'),\n",
       " ('chr1_3320158_-', 'm54329U_210814_130637/12388368/ccs'),\n",
       " ('chr1_3320158_-', 'm54329U_210813_020940/166463299/ccs'),\n",
       " ('chr1_3320158_-', 'm64076_221119_202646/56624518/ccs'),\n",
       " ('chr1_3320158_-', 'm54329U_210326_192251/167576138/ccs'),\n",
       " ('chr1_3320158_-', 'm54329U_210813_020940/126945791/ccs'),\n",
       " ('chr1_3320158_-', 'm54329U_210323_190418/6161866/ccs'),\n",
       " ('chr1_3320158_-', 'm54329U_210326_192251/54397413/ccs'),\n",
       " ('chr1_3320158_-', 'm54329U_210323_190418/88017370/ccs'),\n",
       " ('chr1_3320158_-', 'm54329U_210814_130637/29100449/ccs'),\n",
       " ('chr1_3320158_-', 'm64076_221119_202646/46074296/ccs'),\n",
       " ('chr1_3320158_-', 'm54329U_210813_020940/77267615/ccs'),\n",
       " ('chr1_3320158_-', 'm54329U_210326_192251/6751322/ccs'),\n",
       " ('chr1_3320158_-', 'm54329U_210813_020940/12322592/ccs'),\n",
       " ('chr1_3320158_-', 'm54329U_210323_190418/157027134/ccs'),\n",
       " ('chr1_3320158_-', 'm54329U_210814_130637/29951367/ccs'),\n",
       " ('chr1_3453274_+', 'm54329U_210810_004956/119538478/ccs'),\n",
       " ('chr1_3453274_+', 'm64076_221119_202646/99748485/ccs'),\n",
       " ('chr1_3453274_+', 'm64076_210328_012155/44958726/ccs'),\n",
       " ('chr1_3453274_+', 'm64076_210328_012155/79366120/ccs'),\n",
       " ('chr1_3453274_+', 'm64076_221119_202646/12387059/ccs'),\n",
       " ('chr1_3453274_+', 'm54329U_210814_130637/155912901/ccs'),\n",
       " ('chr1_3453274_+', 'm54329U_210813_020940/93849317/ccs'),\n",
       " ('chr1_3453274_+', 'm54329U_210813_020940/124781484/ccs'),\n",
       " ('chr1_3453274_+', 'm54329U_210814_130637/119211794/ccs'),\n",
       " ('chr1_3453274_+', 'm54329U_210326_192251/37816852/ccs'),\n",
       " ('chr1_3453274_+', 'm54329U_210813_020940/21430822/ccs'),\n",
       " ('chr1_3453274_+', 'm64076_210328_012155/92538870/ccs'),\n",
       " ('chr1_3453274_+', 'm54329U_210813_020940/98697295/ccs'),\n",
       " ('chr1_3453274_+', 'm64076_210328_012155/58786711/ccs'),\n",
       " ('chr1_3453274_+', 'm54329U_210813_020940/133957621/ccs'),\n",
       " ('chr1_3453274_+', 'm64076_210328_012155/91947913/ccs'),\n",
       " ('chr1_3453274_+', 'm54329U_210810_004956/179307657/ccs'),\n",
       " ('chr1_3453274_+', 'm64076_210328_012155/157158080/ccs'),\n",
       " ('chr1_3453274_+', 'm54329U_210814_130637/129369008/ccs'),\n",
       " ('chr1_3453274_+', 'm54329U_210810_004956/46071936/ccs'),\n",
       " ('chr1_3453274_+', 'm54329U_210810_004956/22349230/ccs'),\n",
       " ('chr1_3453274_+', 'm54329U_210323_190418/17500281/ccs'),\n",
       " ('chr1_3453274_+', 'm54329U_210326_192251/28901671/ccs'),\n",
       " ('chr1_3453274_+', 'm64076_210328_012155/169936527/ccs'),\n",
       " ('chr1_3453274_+', 'm54329U_210326_192251/172885124/ccs'),\n",
       " ('chr1_3453274_+', 'm54329U_210326_192251/118163174/ccs'),\n",
       " ('chr1_3453274_+', 'm54329U_210323_190418/117049612/ccs'),\n",
       " ('chr1_3453274_+', 'm64076_210328_012155/174066179/ccs'),\n",
       " ('chr1_3453274_+', 'm54329U_210326_192251/20054138/ccs'),\n",
       " ('chr1_3453274_+', 'm54329U_210323_190418/79168998/ccs'),\n",
       " ('chr1_3453274_+', 'm54329U_210813_020940/111609406/ccs'),\n",
       " ('chr1_3453274_+', 'm54329U_210323_190418/29493625/ccs'),\n",
       " ('chr1_3453274_+', 'm54329U_210326_192251/140379894/ccs'),\n",
       " ('chr1_3453274_+', 'm54329U_210814_130637/151061630/ccs'),\n",
       " ('chr1_3453274_+', 'm54329U_210326_192251/68749011/ccs'),\n",
       " ('chr1_3453274_+', 'm54329U_210323_190418/140445646/ccs'),\n",
       " ('chr1_3453274_+', 'm54329U_210323_190418/176161741/ccs'),\n",
       " ('chr1_3453274_+', 'm64076_210328_012155/26871510/ccs'),\n",
       " ('chr1_3453274_+', 'm64076_221119_202646/138085724/ccs'),\n",
       " ('chr1_3491372_+', 'm54329U_210813_020940/106890954/ccs'),\n",
       " ('chr1_3491372_+', 'm54329U_210810_004956/32114401/ccs'),\n",
       " ('chr1_3491372_+', 'm64076_221119_202646/165414632/ccs'),\n",
       " ('chr1_3491372_+', 'm64076_221119_202646/155126510/ccs'),\n",
       " ('chr1_3491372_+', 'm54329U_210814_130637/56951619/ccs'),\n",
       " ('chr1_3491372_+', 'm64076_210328_012155/155583517/ccs'),\n",
       " ('chr1_3491372_+', 'm54329U_210810_004956/70650678/ccs'),\n",
       " ('chr1_3491372_+', 'm54329U_210323_190418/104401024/ccs'),\n",
       " ('chr1_3491372_+', 'm54329U_210323_190418/67372050/ccs'),\n",
       " ('chr1_3491372_+', 'm54329U_210814_130637/97583305/ccs'),\n",
       " ('chr1_3491372_+', 'm64076_221119_202646/163053760/ccs'),\n",
       " ('chr1_3491372_+', 'm54329U_210326_192251/67438753/ccs'),\n",
       " ('chr1_3491372_+', 'm54329U_210323_190418/46139196/ccs'),\n",
       " ('chr1_3491372_+', 'm54329U_210326_192251/178783000/ccs'),\n",
       " ('chr1_3491372_+', 'm54329U_210323_190418/28312690/ccs'),\n",
       " ('chr1_3491372_+', 'm64076_221119_202646/103876016/ccs'),\n",
       " ('chr1_3491372_+', 'm54329U_210323_190418/174195743/ccs'),\n",
       " ('chr1_3491372_+', 'm54329U_210326_192251/129433687/ccs'),\n",
       " ('chr1_3491372_+', 'm54329U_210810_004956/109445634/ccs'),\n",
       " ('chr1_3491372_+', 'm54329U_210326_192251/128715144/ccs'),\n",
       " ('chr1_3491372_+', 'm54329U_210323_190418/80087664/ccs'),\n",
       " ('chr1_3491372_+', 'm54329U_210326_192251/139855766/ccs'),\n",
       " ('chr1_3491372_+', 'm54329U_210323_190418/171376831/ccs'),\n",
       " ('chr1_3491372_+', 'm54329U_210326_192251/160694807/ccs'),\n",
       " ('chr1_3491372_+', 'm54329U_210814_130637/90243435/ccs'),\n",
       " ('chr1_3491372_+', 'm54329U_210323_190418/99223598/ccs'),\n",
       " ('chr1_3491372_+', 'm54329U_210810_004956/124584725/ccs'),\n",
       " ('chr1_3491372_+', 'm54329U_210323_190418/5375720/ccs'),\n",
       " ('chr1_3491372_+', 'm54329U_210323_190418/104464904/ccs'),\n",
       " ('chr1_3491372_+', 'm54329U_210814_130637/91360049/ccs'),\n",
       " ('chr1_3619216_-', 'm54329U_210810_004956/161416655/ccs'),\n",
       " ('chr1_3619216_-', 'm54329U_210813_020940/96275013/ccs'),\n",
       " ('chr1_3619216_-', 'm64076_210328_012155/57410955/ccs'),\n",
       " ('chr1_3619216_-', 'm64076_210328_012155/153290495/ccs'),\n",
       " ('chr1_3619216_-', 'm54329U_210814_130637/22217219/ccs'),\n",
       " ('chr1_3619216_-', 'm54329U_210326_192251/65798718/ccs'),\n",
       " ('chr1_3619216_-', 'm64076_210328_012155/39782550/ccs'),\n",
       " ('chr1_3619216_-', 'm54329U_210813_020940/156303937/ccs'),\n",
       " ('chr1_3619216_-', 'm54329U_210326_192251/97454279/ccs'),\n",
       " ('chr1_3619216_-', 'm54329U_210813_020940/157418352/ccs'),\n",
       " ('chr1_3619216_-', 'm54329U_210813_020940/151978841/ccs'),\n",
       " ('chr1_3619216_-', 'm54329U_210323_190418/166332522/ccs'),\n",
       " ('chr1_3619216_-', 'm54329U_210813_020940/16713657/ccs'),\n",
       " ('chr1_3619216_-', 'm54329U_210326_192251/39455275/ccs'),\n",
       " ('chr1_3619216_-', 'm64076_210328_012155/120455251/ccs'),\n",
       " ('chr1_3619216_-', 'm54329U_210326_192251/143918746/ccs'),\n",
       " ('chr1_3619216_-', 'm64076_210328_012155/8653256/ccs'),\n",
       " ('chr1_3619216_-', 'm54329U_210326_192251/117638890/ccs'),\n",
       " ('chr1_3619216_-', 'm64076_221119_202646/102564418/ccs'),\n",
       " ('chr1_3619216_-', 'm64076_221119_202646/94503644/ccs'),\n",
       " ('chr1_3619216_-', 'm54329U_210813_020940/77728131/ccs'),\n",
       " ('chr1_3619216_-', 'm54329U_210323_190418/137561457/ccs'),\n",
       " ('chr1_3619216_-', 'm64076_221119_202646/157878694/ccs'),\n",
       " ('chr1_3619216_-', 'm64076_210328_012155/159648489/ccs'),\n",
       " ('chr1_3619216_-', 'm54329U_210326_192251/165742531/ccs'),\n",
       " ('chr1_3619216_-', 'm64076_221119_202646/45024936/ccs'),\n",
       " ('chr1_3619216_-', 'm64076_210328_012155/9176737/ccs'),\n",
       " ('chr1_3619216_-', 'm54329U_210326_192251/3475641/ccs'),\n",
       " ('chr1_3619216_-', 'm64076_221119_202646/111151962/ccs'),\n",
       " ('chr1_3619216_-', 'm54329U_210813_020940/57672205/ccs'),\n",
       " ('chr1_3619216_-', 'm54329U_210326_192251/89721009/ccs'),\n",
       " ('chr1_3619216_-', 'm54329U_210326_192251/145360359/ccs'),\n",
       " ('chr1_3619216_-', 'm54329U_210326_192251/143590818/ccs'),\n",
       " ('chr1_3619216_-', 'm64076_210328_012155/159450355/ccs'),\n",
       " ('chr1_3619216_-', 'm54329U_210814_130637/51579219/ccs'),\n",
       " ('chr1_3619216_-', 'm54329U_210810_004956/142412602/ccs'),\n",
       " ('chr1_3619216_-', 'm54329U_210323_190418/165873815/ccs'),\n",
       " ('chr1_3673515_-', 'm64076_221119_202646/85002620/ccs'),\n",
       " ('chr1_3673515_-', 'm54329U_210814_130637/147849774/ccs'),\n",
       " ('chr1_3673515_-', 'm54329U_210326_192251/180028872/ccs'),\n",
       " ('chr1_3673515_-', 'm54329U_210810_004956/63637476/ccs'),\n",
       " ('chr1_3673515_-', 'm54329U_210326_192251/1772342/ccs'),\n",
       " ('chr1_3673515_-', 'm64076_221119_202646/68094671/ccs'),\n",
       " ('chr1_3673515_-', 'm54329U_210323_190418/25755973/ccs'),\n",
       " ('chr1_3673515_-', 'm54329U_210323_190418/149881916/ccs'),\n",
       " ('chr1_3673515_-', 'm54329U_210323_190418/37552572/ccs'),\n",
       " ('chr1_3673515_-', 'm54329U_210813_020940/14811752/ccs'),\n",
       " ('chr1_3673515_-', 'm54329U_210326_192251/65684/ccs'),\n",
       " ('chr1_3673515_-', 'm54329U_210323_190418/99093338/ccs'),\n",
       " ('chr1_3673515_-', 'm54329U_210813_020940/153946361/ccs'),\n",
       " ('chr1_3673515_-', 'm54329U_210814_130637/168101232/ccs'),\n",
       " ('chr1_3673515_-', 'm64076_221119_202646/120784688/ccs'),\n",
       " ('chr1_3673515_-', 'm54329U_210814_130637/77662372/ccs'),\n",
       " ('chr1_3673515_-', 'm54329U_210814_130637/34670493/ccs'),\n",
       " ('chr1_3673515_-', 'm64076_210328_012155/79103864/ccs'),\n",
       " ('chr1_3673515_-', 'm54329U_210813_020940/27265079/ccs'),\n",
       " ('chr1_3673515_-', 'm54329U_210814_130637/49743155/ccs'),\n",
       " ('chr1_3673515_-', 'm54329U_210814_130637/25298158/ccs'),\n",
       " ('chr1_3673515_-', 'm54329U_210813_020940/161286070/ccs'),\n",
       " ('chr1_3673515_-', 'm54329U_210326_192251/74451052/ccs'),\n",
       " ('chr1_3673515_-', 'm64076_210328_012155/86574721/ccs'),\n",
       " ('chr1_3673515_-', 'm54329U_210326_192251/112263750/ccs'),\n",
       " ('chr1_3673515_-', 'm54329U_210813_020940/85330230/ccs'),\n",
       " ('chr1_3673515_-', 'm64076_210328_012155/107741845/ccs'),\n",
       " ('chr1_3899779_-', 'm64076_210328_012155/9700660/ccs'),\n",
       " ('chr1_3899779_-', 'm54329U_210813_020940/75892975/ccs'),\n",
       " ('chr1_3899779_-', 'm64076_221119_202646/40895868/ccs'),\n",
       " ('chr1_3899779_-', 'm64076_210328_012155/61604216/ccs'),\n",
       " ('chr1_3899779_-', 'm64076_210328_012155/169608787/ccs'),\n",
       " ('chr1_3899779_-', 'm54329U_210810_004956/135660433/ccs'),\n",
       " ('chr1_3899779_-', 'm64076_210328_012155/49547121/ccs'),\n",
       " ('chr1_3899779_-', 'm54329U_210326_192251/122225819/ccs'),\n",
       " ('chr1_3899779_-', 'm54329U_210814_130637/34211282/ccs'),\n",
       " ('chr1_4585419_-', 'm54329U_210813_020940/75170017/ccs'),\n",
       " ('chr1_4585419_-', 'm54329U_210814_130637/2426420/ccs'),\n",
       " ('chr1_4585419_-', 'm64076_221119_202646/33816817/ccs'),\n",
       " ('chr1_4585419_-', 'm64076_210328_012155/151519350/ccs'),\n",
       " ('chr1_4585419_-', 'm64076_221119_202646/22088199/ccs'),\n",
       " ('chr1_4585419_-', 'm54329U_210326_192251/73532440/ccs'),\n",
       " ('chr1_4585419_-', 'm54329U_210814_130637/65536960/ccs'),\n",
       " ('chr1_4585419_-', 'm64076_221119_202646/166659899/ccs'),\n",
       " ('chr1_4585419_-', 'm54329U_210810_004956/166005358/ccs'),\n",
       " ('chr1_4585419_-', 'm54329U_210813_020940/4261090/ccs'),\n",
       " ('chr1_4585419_-', 'm54329U_210814_130637/12256706/ccs'),\n",
       " ('chr1_4585419_-', 'm64076_210328_012155/145295624/ccs'),\n",
       " ('chr1_4585419_-', 'm54329U_210323_190418/155192140/ccs'),\n",
       " ('chr1_4585419_-', 'm54329U_210326_192251/166527421/ccs'),\n",
       " ('chr1_4585419_-', 'm54329U_210810_004956/17695085/ccs'),\n",
       " ('chr1_4585419_-', 'm54329U_210323_190418/119671606/ccs'),\n",
       " ('chr1_4585419_-', 'm54329U_210323_190418/76088509/ccs'),\n",
       " ('chr1_4585419_-', 'm54329U_210323_190418/29361336/ccs'),\n",
       " ('chr1_4585419_-', 'm54329U_210323_190418/11667273/ccs'),\n",
       " ('chr1_4585419_-', 'm54329U_210814_130637/67830614/ccs'),\n",
       " ('chr1_4585419_-', 'm64076_210328_012155/56363276/ccs'),\n",
       " ('chr1_4585419_-', 'm54329U_210814_130637/174720867/ccs'),\n",
       " ('chr1_4585419_-', 'm54329U_210813_020940/87493012/ccs'),\n",
       " ('chr1_4585419_-', 'm54329U_210323_190418/67568361/ccs'),\n",
       " ('chr1_4585419_-', 'm54329U_210810_004956/74514621/ccs'),\n",
       " ('chr1_4585419_-', 'm64076_210328_012155/29952433/ccs'),\n",
       " ('chr1_4585419_-', 'm54329U_210814_130637/28903838/ccs'),\n",
       " ('chr1_4585419_-', 'm64076_210328_012155/92079725/ccs'),\n",
       " ('chr1_4585419_-', 'm54329U_210810_004956/4982620/ccs'),\n",
       " ('chr1_4585419_-', 'm64076_210328_012155/98828845/ccs'),\n",
       " ('chr1_4585419_-', 'm54329U_210810_004956/77269223/ccs'),\n",
       " ('chr1_4585419_-', 'm54329U_210326_192251/26476719/ccs'),\n",
       " ('chr1_4585419_-', 'm54329U_210323_190418/91422796/ccs'),\n",
       " ('chr1_4796853_-', 'm64076_221119_202646/112462587/ccs'),\n",
       " ('chr1_4796853_-', 'm54329U_210810_004956/6163239/ccs'),\n",
       " ('chr1_4796853_-', 'm64076_210328_012155/91685043/ccs'),\n",
       " ('chr1_4796853_-', 'm64076_210328_012155/84084565/ccs'),\n",
       " ('chr1_4796853_-', 'm54329U_210810_004956/52954453/ccs'),\n",
       " ('chr1_4796853_-', 'm64076_210328_012155/157681200/ccs'),\n",
       " ('chr1_4796853_-', 'm54329U_210323_190418/84085121/ccs'),\n",
       " ('chr1_4796853_-', 'm54329U_210810_004956/393500/ccs'),\n",
       " ('chr1_4796853_-', 'm54329U_210814_130637/82707120/ccs'),\n",
       " ('chr1_4796853_-', 'm54329U_210326_192251/49284083/ccs'),\n",
       " ('chr1_4796853_-', 'm54329U_210813_020940/30540131/ccs'),\n",
       " ('chr1_4796853_-', 'm54329U_210810_004956/53805157/ccs'),\n",
       " ('chr1_4796853_-', 'm54329U_210323_190418/2259/ccs'),\n",
       " ('chr1_4796853_-', 'm54329U_210323_190418/78579486/ccs'),\n",
       " ('chr1_4796853_-', 'm54329U_210814_130637/133368516/ccs'),\n",
       " ('chr1_4796853_-', 'm54329U_210323_190418/134743338/ccs'),\n",
       " ('chr1_4796853_-', 'm64076_210328_012155/42271314/ccs'),\n",
       " ('chr1_4796853_-', 'm54329U_210810_004956/115344866/ccs'),\n",
       " ('chr1_4796853_-', 'm64076_221119_202646/67962366/ccs'),\n",
       " ('chr1_4796853_-', 'm64076_221119_202646/105711142/ccs'),\n",
       " ('chr1_4796853_-', 'm54329U_210810_004956/141885527/ccs'),\n",
       " ('chr1_4796853_-', 'm64076_221119_202646/80675219/ccs'),\n",
       " ('chr1_4796853_-', 'm54329U_210813_020940/68289120/ccs'),\n",
       " ('chr1_4796853_-', 'm54329U_210810_004956/122095693/ccs'),\n",
       " ('chr1_4796853_-', 'm54329U_210323_190418/54002431/ccs'),\n",
       " ('chr1_4826291_-', 'm54329U_210813_020940/90243502/ccs'),\n",
       " ('chr1_4826291_-', 'm64076_221119_202646/155190301/ccs'),\n",
       " ('chr1_4826291_-', 'm54329U_210814_130637/172492753/ccs'),\n",
       " ('chr1_4826291_-', 'm54329U_210326_192251/55446071/ccs'),\n",
       " ('chr1_4826291_-', 'm64076_210328_012155/60883745/ccs'),\n",
       " ('chr1_4826291_-', 'm54329U_210814_130637/118687615/ccs'),\n",
       " ('chr1_4826291_-', 'm54329U_210813_020940/91425463/ccs'),\n",
       " ('chr1_4826291_-', 'm54329U_210810_004956/146148140/ccs'),\n",
       " ('chr1_4826291_-', 'm54329U_210326_192251/150211206/ccs'),\n",
       " ('chr1_4826291_-', 'm64076_210328_012155/146016805/ccs'),\n",
       " ('chr1_4826291_-', 'm64076_221119_202646/66979420/ccs'),\n",
       " ('chr1_4826291_-', 'm54329U_210810_004956/118360304/ccs'),\n",
       " ('chr1_4826291_-', 'm64076_210328_012155/177013428/ccs'),\n",
       " ('chr1_4826291_-', 'm64076_210328_012155/106957441/ccs'),\n",
       " ('chr1_4826291_-', 'm54329U_210323_190418/146146550/ccs'),\n",
       " ('chr1_4826291_-', 'm54329U_210326_192251/141101122/ccs'),\n",
       " ('chr1_4826291_-', 'm54329U_210814_130637/151061984/ccs'),\n",
       " ('chr1_4826291_-', 'm54329U_210323_190418/95685434/ccs'),\n",
       " ('chr1_4826291_-', 'm64076_221119_202646/130942718/ccs'),\n",
       " ('chr1_4826291_-', 'm64076_210328_012155/79169060/ccs'),\n",
       " ('chr1_4826291_-', 'm64076_210328_012155/47384218/ccs'),\n",
       " ('chr1_4826291_-', 'm64076_210328_012155/43319504/ccs'),\n",
       " ('chr1_4826291_-', 'm54329U_210813_020940/79102151/ccs'),\n",
       " ('chr1_4826291_-', 'm54329U_210326_192251/76416409/ccs'),\n",
       " ('chr1_4826291_-', 'm54329U_210813_020940/158992726/ccs'),\n",
       " ('chr1_4826291_-', 'm64076_221119_202646/20250995/ccs'),\n",
       " ('chr1_4826291_-', 'm64076_221119_202646/152437425/ccs'),\n",
       " ('chr1_4826291_-', 'm54329U_210810_004956/77006464/ccs'),\n",
       " ('chr1_4826291_-', 'm64076_210328_012155/174064805/ccs'),\n",
       " ('chr1_4826291_-', 'm54329U_210326_192251/88080553/ccs'),\n",
       " ('chr1_4826291_-', 'm64076_210328_012155/136382122/ccs'),\n",
       " ('chr1_4826291_-', 'm64076_210328_012155/98961011/ccs'),\n",
       " ('chr1_4826291_-', 'm64076_210328_012155/133169695/ccs'),\n",
       " ('chr1_4826291_-', 'm54329U_210810_004956/33818522/ccs'),\n",
       " ('chr1_4826291_-', 'm54329U_210323_190418/171377368/ccs'),\n",
       " ('chr1_4826291_-', 'm64076_221119_202646/67372858/ccs'),\n",
       " ('chr1_5514714_+', 'm54329U_210814_130637/96077113/ccs'),\n",
       " ('chr1_5514714_+', 'm54329U_210814_130637/88867206/ccs'),\n",
       " ('chr1_5514714_+', 'm54329U_210814_130637/18088289/ccs'),\n",
       " ('chr1_5514714_+', 'm54329U_210323_190418/102828865/ccs'),\n",
       " ('chr1_5514714_+', 'm54329U_210323_190418/60884017/ccs'),\n",
       " ('chr1_5514714_+', 'm54329U_210814_130637/59572439/ccs'),\n",
       " ('chr1_5514714_+', 'm64076_221119_202646/30475178/ccs'),\n",
       " ('chr1_5514714_+', 'm54329U_210326_192251/49678431/ccs'),\n",
       " ('chr1_5514714_+', 'm54329U_210810_004956/99486268/ccs'),\n",
       " ('chr1_5514714_+', 'm64076_210328_012155/55708306/ccs'),\n",
       " ('chr1_5514714_+', 'm54329U_210326_192251/68683271/ccs'),\n",
       " ('chr1_5514714_+', 'm54329U_210810_004956/85657264/ccs'),\n",
       " ('chr1_5514714_+', 'm54329U_210814_130637/95683807/ccs'),\n",
       " ('chr1_5514714_+', 'm54329U_210326_192251/118228573/ccs'),\n",
       " ('chr1_5514714_+', 'm54329U_210810_004956/142935270/ccs'),\n",
       " ('chr1_5514714_+', 'm54329U_210814_130637/116588554/ccs'),\n",
       " ('chr1_5514714_+', 'm54329U_210326_192251/35587973/ccs'),\n",
       " ('chr1_5514714_+', 'm64076_210328_012155/29098355/ccs'),\n",
       " ('chr1_5514714_+', 'm54329U_210326_192251/106629903/ccs'),\n",
       " ('chr1_5514714_+', 'm64076_210328_012155/158729743/ccs'),\n",
       " ('chr1_5514714_+', 'm54329U_210326_192251/98765384/ccs'),\n",
       " ('chr1_5514714_+', 'm54329U_210323_190418/153094813/ccs'),\n",
       " ('chr1_5514714_+', 'm64076_210328_012155/12059993/ccs'),\n",
       " ('chr1_5514714_+', 'm54329U_210326_192251/170199325/ccs'),\n",
       " ('chr1_5514714_+', 'm54329U_210814_130637/151192075/ccs'),\n",
       " ('chr1_5514714_+', 'm54329U_210326_192251/3409800/ccs'),\n",
       " ('chr1_5514714_+', 'm54329U_210814_130637/103874956/ccs'),\n",
       " ('chr1_5514714_+', 'm54329U_210326_192251/12976717/ccs'),\n",
       " ('chr1_5514714_+', 'm54329U_210326_192251/145754731/ccs'),\n",
       " ('chr1_5514714_+', 'm64076_221119_202646/16254424/ccs'),\n",
       " ('chr1_5514714_+', 'm54329U_210323_190418/144508501/ccs'),\n",
       " ('chr1_5514714_+', 'm64076_210328_012155/44303607/ccs'),\n",
       " ('chr1_5514714_+', 'm64076_210328_012155/60885222/ccs'),\n",
       " ('chr1_5514714_+', 'm64076_221119_202646/52299613/ccs'),\n",
       " ('chr1_5514714_+', 'm54329U_210813_020940/53742098/ccs'),\n",
       " ('chr1_5514714_+', 'm54329U_210814_130637/9306662/ccs'),\n",
       " ('chr1_5514714_+', 'm54329U_210323_190418/39324407/ccs'),\n",
       " ('chr1_5514714_+', 'm54329U_210814_130637/51250154/ccs'),\n",
       " ('chr1_5514714_+', 'm54329U_210326_192251/176686134/ccs'),\n",
       " ('chr1_5514714_+', 'm64076_221119_202646/136446025/ccs'),\n",
       " ('chr1_5514714_+', 'm54329U_210810_004956/83952830/ccs'),\n",
       " ('chr1_5514714_+', 'm64076_210328_012155/7145780/ccs'),\n",
       " ('chr1_5514714_+', 'm64076_221119_202646/64815758/ccs'),\n",
       " ('chr1_5514714_+', 'm54329U_210326_192251/58917600/ccs'),\n",
       " ('chr1_5514714_+', 'm54329U_210810_004956/176031472/ccs'),\n",
       " ('chr1_5514714_+', 'm64076_210328_012155/3540995/ccs'),\n",
       " ('chr1_5514714_+', 'm54329U_210326_192251/51578310/ccs'),\n",
       " ('chr1_5514714_+', 'm64076_210328_012155/54789468/ccs'),\n",
       " ('chr1_5514714_+', 'm64076_221119_202646/73204942/ccs'),\n",
       " ('chr1_5514714_+', 'm64076_210328_012155/3344375/ccs'),\n",
       " ('chr1_6414609_-', 'm54329U_210810_004956/95357345/ccs'),\n",
       " ('chr1_6414609_-', 'm64076_221119_202646/146540987/ccs'),\n",
       " ('chr1_6414609_-', 'm54329U_210810_004956/24969228/ccs'),\n",
       " ('chr1_6414609_-', 'm54329U_210814_130637/2820732/ccs'),\n",
       " ('chr1_6414609_-', 'm64076_221119_202646/76219043/ccs'),\n",
       " ('chr1_6414609_-', 'm54329U_210810_004956/119278202/ccs'),\n",
       " ('chr1_6414609_-', 'm54329U_210810_004956/54526273/ccs'),\n",
       " ('chr1_6414609_-', 'm64076_221119_202646/2820185/ccs'),\n",
       " ('chr1_6414609_-', 'm54329U_210810_004956/133629298/ccs'),\n",
       " ('chr1_6414609_-', 'm54329U_210813_020940/40372602/ccs'),\n",
       " ('chr1_6414609_-', 'm64076_210328_012155/38863972/ccs'),\n",
       " ('chr1_6414609_-', 'm54329U_210814_130637/167578121/ccs'),\n",
       " ('chr1_6414609_-', 'm54329U_210323_190418/31000075/ccs'),\n",
       " ('chr1_6414609_-', 'm54329U_210323_190418/173607338/ccs'),\n",
       " ('chr1_6414609_-', 'm54329U_210323_190418/166266696/ccs'),\n",
       " ('chr1_6414609_-', 'm54329U_210813_020940/23658830/ccs'),\n",
       " ('chr1_6414609_-', 'm54329U_210810_004956/148638263/ccs'),\n",
       " ('chr1_6414609_-', 'm54329U_210813_020940/159057966/ccs'),\n",
       " ('chr1_6414609_-', 'm54329U_210326_192251/77596849/ccs'),\n",
       " ('chr1_6414609_-', 'm64076_210328_012155/169018707/ccs'),\n",
       " ('chr1_6414609_-', 'm54329U_210810_004956/97126424/ccs'),\n",
       " ('chr1_6414609_-', 'm54329U_210813_020940/157354844/ccs'),\n",
       " ('chr1_6414609_-', 'm54329U_210326_192251/58329377/ccs'),\n",
       " ('chr1_6414609_-', 'm54329U_210326_192251/11405141/ccs'),\n",
       " ('chr1_6414609_-', 'm64076_210328_012155/172558858/ccs'),\n",
       " ('chr1_6414609_-', 'm64076_210328_012155/67700618/ccs'),\n",
       " ('chr1_6414609_-', 'm54329U_210814_130637/90243898/ccs'),\n",
       " ('chr1_6414609_-', 'm64076_210328_012155/14615481/ccs'),\n",
       " ('chr1_6414609_-', 'm64076_221119_202646/82577001/ccs'),\n",
       " ('chr1_6414609_-', 'm54329U_210323_190418/19792716/ccs'),\n",
       " ('chr1_6414609_-', 'm54329U_210323_190418/175899842/ccs'),\n",
       " ('chr1_6414609_-', 'm54329U_210323_190418/105384799/ccs'),\n",
       " ('chr1_6414609_-', 'm64076_210328_012155/114361284/ccs'),\n",
       " ('chr1_6554559_+', 'm54329U_210814_130637/28968443/ccs'),\n",
       " ('chr1_6554559_+', 'm54329U_210813_020940/39453556/ccs'),\n",
       " ('chr1_6554559_+', 'm64076_221119_202646/99746295/ccs'),\n",
       " ('chr1_6554559_+', 'm54329U_210813_020940/50989053/ccs'),\n",
       " ('chr1_6554559_+', 'm54329U_210810_004956/129761720/ccs'),\n",
       " ('chr1_6554559_+', 'm64076_210328_012155/125766468/ccs'),\n",
       " ('chr1_6554559_+', 'm64076_210328_012155/11142802/ccs'),\n",
       " ('chr1_6554559_+', 'm54329U_210813_020940/1050407/ccs'),\n",
       " ('chr1_6554559_+', 'm54329U_210813_020940/164628446/ccs'),\n",
       " ('chr1_6554559_+', 'm64076_221119_202646/2229029/ccs'),\n",
       " ('chr1_6554559_+', 'm54329U_210810_004956/93260515/ccs'),\n",
       " ('chr1_6554559_+', 'm54329U_210813_020940/126223120/ccs'),\n",
       " ('chr1_6554559_+', 'm64076_210328_012155/167970720/ccs'),\n",
       " ('chr1_6554559_+', 'm54329U_210323_190418/107611634/ccs'),\n",
       " ('chr1_6554559_+', 'm64076_221119_202646/12912389/ccs'),\n",
       " ('chr1_6554559_+', 'm54329U_210810_004956/113901663/ccs'),\n",
       " ('chr1_6554559_+', 'm54329U_210814_130637/60031270/ccs'),\n",
       " ('chr1_6554559_+', 'm54329U_210326_192251/68223665/ccs'),\n",
       " ('chr1_6554559_+', 'm54329U_210326_192251/7538676/ccs'),\n",
       " ('chr1_6554559_+', 'm64076_210328_012155/31197923/ccs'),\n",
       " ('chr1_6554559_+', 'm54329U_210323_190418/175376889/ccs'),\n",
       " ('chr1_6554559_+', 'm54329U_210814_130637/143854083/ccs'),\n",
       " ('chr1_6554559_+', 'm54329U_210323_190418/69994857/ccs'),\n",
       " ('chr1_6554559_+', 'm54329U_210813_020940/57213264/ccs'),\n",
       " ('chr1_6554559_+', 'm54329U_210323_190418/94504131/ccs'),\n",
       " ('chr1_6554559_+', 'm54329U_210326_192251/142542809/ccs'),\n",
       " ('chr1_6554559_+', 'm64076_210328_012155/34407683/ccs'),\n",
       " ('chr1_6554559_+', 'm54329U_210323_190418/115082197/ccs'),\n",
       " ('chr1_6554559_+', 'm54329U_210326_192251/3474394/ccs'),\n",
       " ('chr1_6554559_+', 'm64076_221119_202646/27590756/ccs'),\n",
       " ('chr1_6554559_+', 'm54329U_210323_190418/170591877/ccs'),\n",
       " ('chr1_6554559_+', 'm54329U_210326_192251/59573240/ccs'),\n",
       " ('chr1_6554559_+', 'm54329U_210813_020940/57543401/ccs'),\n",
       " ('chr1_6554559_+', 'm54329U_210326_192251/156698209/ccs'),\n",
       " ('chr1_6554559_+', 'm64076_221119_202646/31459302/ccs'),\n",
       " ('chr1_6554559_+', 'm54329U_210326_192251/130614418/ccs'),\n",
       " ('chr1_6554559_+', 'm64076_221119_202646/85590501/ccs'),\n",
       " ('chr1_6554559_+', 'm54329U_210814_130637/130746968/ccs'),\n",
       " ('chr1_6554559_+', 'm54329U_210814_130637/158336489/ccs'),\n",
       " ('chr1_6554559_+', 'm64076_210328_012155/67371889/ccs'),\n",
       " ('chr1_6554559_+', 'm64076_221119_202646/116853124/ccs'),\n",
       " ('chr1_6554559_+', 'm64076_210328_012155/97583246/ccs'),\n",
       " ('chr1_6554559_+', 'm54329U_210814_130637/86115390/ccs'),\n",
       " ('chr1_6554559_+', 'm54329U_210810_004956/129041540/ccs'),\n",
       " ('chr1_6554559_+', 'm54329U_210326_192251/180421192/ccs'),\n",
       " ('chr1_6554559_+', 'm54329U_210323_190418/146082505/ccs'),\n",
       " ('chr1_6554559_+', 'm64076_221119_202646/80610591/ccs'),\n",
       " ('chr1_6554559_+', 'm64076_210328_012155/17500704/ccs'),\n",
       " ('chr1_6554559_+', 'm54329U_210813_020940/99616806/ccs'),\n",
       " ('chr1_6554559_+', 'm64076_210328_012155/107544861/ccs'),\n",
       " ('chr1_6554634_-', 'm54329U_210813_020940/145361374/ccs'),\n",
       " ('chr1_6554634_-', 'm54329U_210814_130637/28968443/ccs'),\n",
       " ('chr1_6554634_-', 'm54329U_210813_020940/39453556/ccs'),\n",
       " ('chr1_6554634_-', 'm64076_221119_202646/99746295/ccs'),\n",
       " ('chr1_6554634_-', 'm54329U_210813_020940/50989053/ccs'),\n",
       " ('chr1_6554634_-', 'm54329U_210810_004956/129761720/ccs'),\n",
       " ('chr1_6554634_-', 'm64076_210328_012155/125766468/ccs'),\n",
       " ('chr1_6554634_-', 'm64076_210328_012155/11142802/ccs'),\n",
       " ('chr1_6554634_-', 'm54329U_210813_020940/1050407/ccs'),\n",
       " ('chr1_6554634_-', 'm54329U_210813_020940/164628446/ccs'),\n",
       " ('chr1_6554634_-', 'm64076_221119_202646/2229029/ccs'),\n",
       " ('chr1_6554634_-', 'm54329U_210810_004956/93260515/ccs'),\n",
       " ('chr1_6554634_-', 'm54329U_210813_020940/126223120/ccs'),\n",
       " ('chr1_6554634_-', 'm64076_210328_012155/167970720/ccs'),\n",
       " ('chr1_6554634_-', 'm54329U_210323_190418/107611634/ccs'),\n",
       " ('chr1_6554634_-', 'm64076_221119_202646/12912389/ccs'),\n",
       " ('chr1_6554634_-', 'm54329U_210810_004956/113901663/ccs'),\n",
       " ('chr1_6554634_-', 'm54329U_210814_130637/60031270/ccs'),\n",
       " ('chr1_6554634_-', 'm54329U_210326_192251/68223665/ccs'),\n",
       " ('chr1_6554634_-', 'm54329U_210326_192251/7538676/ccs'),\n",
       " ('chr1_6554634_-', 'm64076_210328_012155/31197923/ccs'),\n",
       " ('chr1_6554634_-', 'm54329U_210323_190418/175376889/ccs'),\n",
       " ('chr1_6554634_-', 'm54329U_210814_130637/143854083/ccs'),\n",
       " ('chr1_6554634_-', 'm54329U_210323_190418/69994857/ccs'),\n",
       " ('chr1_6554634_-', 'm54329U_210813_020940/57213264/ccs'),\n",
       " ('chr1_6554634_-', 'm54329U_210323_190418/94504131/ccs'),\n",
       " ('chr1_6554634_-', 'm54329U_210326_192251/142542809/ccs'),\n",
       " ('chr1_6554634_-', 'm64076_210328_012155/34407683/ccs'),\n",
       " ('chr1_6554634_-', 'm54329U_210323_190418/115082197/ccs'),\n",
       " ('chr1_6554634_-', 'm54329U_210326_192251/3474394/ccs'),\n",
       " ('chr1_6554634_-', 'm64076_221119_202646/27590756/ccs'),\n",
       " ('chr1_6554634_-', 'm54329U_210323_190418/170591877/ccs'),\n",
       " ('chr1_6554634_-', 'm54329U_210326_192251/59573240/ccs'),\n",
       " ('chr1_6554634_-', 'm54329U_210813_020940/57543401/ccs'),\n",
       " ('chr1_6554634_-', 'm54329U_210326_192251/156698209/ccs'),\n",
       " ('chr1_6554634_-', 'm54329U_210813_020940/171901775/ccs'),\n",
       " ('chr1_6554634_-', 'm64076_221119_202646/31459302/ccs'),\n",
       " ('chr1_6554634_-', 'm54329U_210326_192251/130614418/ccs'),\n",
       " ('chr1_6554634_-', 'm64076_221119_202646/85590501/ccs'),\n",
       " ('chr1_6554634_-', 'm54329U_210814_130637/130746968/ccs'),\n",
       " ('chr1_6554634_-', 'm54329U_210814_130637/158336489/ccs'),\n",
       " ('chr1_6554634_-', 'm64076_210328_012155/67371889/ccs'),\n",
       " ('chr1_6554634_-', 'm64076_221119_202646/116853124/ccs'),\n",
       " ('chr1_6554634_-', 'm64076_210328_012155/97583246/ccs'),\n",
       " ('chr1_6554634_-', 'm54329U_210814_130637/86115390/ccs'),\n",
       " ('chr1_6554634_-', 'm54329U_210810_004956/129041540/ccs'),\n",
       " ('chr1_6554634_-', 'm54329U_210326_192251/180421192/ccs'),\n",
       " ('chr1_6554634_-', 'm54329U_210323_190418/146082505/ccs'),\n",
       " ('chr1_6554634_-', 'm64076_221119_202646/80610591/ccs'),\n",
       " ('chr1_6554634_-', 'm64076_210328_012155/17500704/ccs'),\n",
       " ('chr1_6554634_-', 'm54329U_210813_020940/99616806/ccs'),\n",
       " ('chr1_6554634_-', 'm64076_210328_012155/107544861/ccs'),\n",
       " ('chr1_6727691_-', 'm54329U_210323_190418/79038783/ccs'),\n",
       " ('chr1_6727691_-', 'm64076_221119_202646/22546708/ccs'),\n",
       " ('chr1_6727691_-', 'm64076_221119_202646/63045862/ccs'),\n",
       " ('chr1_6727691_-', 'm54329U_210813_020940/63767853/ccs'),\n",
       " ('chr1_6727691_-', 'm54329U_210323_190418/96928462/ccs'),\n",
       " ('chr1_6727691_-', 'm64076_221119_202646/125634784/ccs'),\n",
       " ('chr1_6727691_-', 'm64076_221119_202646/14877987/ccs'),\n",
       " ('chr1_6727691_-', 'm54329U_210810_004956/129959224/ccs'),\n",
       " ('chr1_6727691_-', 'm54329U_210813_020940/37552245/ccs'),\n",
       " ('chr1_6727691_-', 'm64076_221119_202646/107151994/ccs'),\n",
       " ('chr1_6727691_-', 'm54329U_210813_020940/178127414/ccs'),\n",
       " ('chr1_6727691_-', 'm54329U_210323_190418/24971571/ccs'),\n",
       " ('chr1_6727691_-', 'm64076_221119_202646/115149241/ccs'),\n",
       " ('chr1_6727691_-', 'm64076_210328_012155/94963395/ccs'),\n",
       " ('chr1_6727691_-', 'm54329U_210326_192251/17761741/ccs'),\n",
       " ('chr1_6727691_-', 'm54329U_210810_004956/85788112/ccs'),\n",
       " ('chr1_6727691_-', 'm54329U_210814_130637/2687826/ccs'),\n",
       " ('chr1_6727691_-', 'm64076_210328_012155/56429028/ccs'),\n",
       " ('chr1_6727691_-', 'm54329U_210326_192251/146540719/ccs'),\n",
       " ('chr1_6727691_-', 'm64076_210328_012155/133171986/ccs'),\n",
       " ('chr1_6727691_-', 'm54329U_210814_130637/163906053/ccs'),\n",
       " ('chr1_6727691_-', 'm54329U_210323_190418/15009670/ccs'),\n",
       " ('chr1_6727691_-', 'm64076_210328_012155/116588791/ccs'),\n",
       " ('chr1_6727691_-', 'm64076_221119_202646/54526356/ccs'),\n",
       " ('chr1_6727691_-', 'm54329U_210326_192251/146080778/ccs'),\n",
       " ('chr1_6727691_-', 'm54329U_210813_020940/140970576/ccs'),\n",
       " ('chr1_6727691_-', 'm64076_210328_012155/166199607/ccs'),\n",
       " ('chr1_6727691_-', 'm54329U_210814_130637/57215345/ccs'),\n",
       " ('chr1_6727691_-', 'm64076_221119_202646/47056003/ccs'),\n",
       " ('chr1_6727691_-', 'm64076_210328_012155/94897681/ccs'),\n",
       " ('chr1_6727691_-', 'm64076_210328_012155/146409120/ccs'),\n",
       " ('chr1_6727691_-', 'm64076_210328_012155/155582971/ccs'),\n",
       " ('chr1_6727691_-', 'm64076_210328_012155/115081569/ccs'),\n",
       " ('chr1_6727691_-', 'm54329U_210323_190418/44828025/ccs'),\n",
       " ('chr1_6727691_-', 'm54329U_210814_130637/94176441/ccs'),\n",
       " ('chr1_6727691_-', 'm54329U_210810_004956/70714708/ccs'),\n",
       " ('chr1_6727691_-', 'm54329U_210323_190418/69928268/ccs'),\n",
       " ('chr1_6727691_-', 'm54329U_210323_190418/108397539/ccs'),\n",
       " ('chr1_6727691_-', 'm64076_210328_012155/165741513/ccs'),\n",
       " ('chr1_7218450_-', 'm64076_221119_202646/116460339/ccs'),\n",
       " ('chr1_7218450_-', 'm54329U_210326_192251/62850274/ccs'),\n",
       " ('chr1_7218450_-', 'm54329U_210813_020940/96274723/ccs'),\n",
       " ('chr1_7218450_-', 'm54329U_210810_004956/56886888/ccs'),\n",
       " ('chr1_7218450_-', 'm54329U_210813_020940/102302342/ccs'),\n",
       " ('chr1_7218450_-', 'm64076_221119_202646/45484041/ccs'),\n",
       " ('chr1_7218450_-', 'm54329U_210813_020940/142607956/ccs'),\n",
       " ('chr1_7218450_-', 'm54329U_210814_130637/88607197/ccs'),\n",
       " ('chr1_7218450_-', 'm64076_210328_012155/67439357/ccs'),\n",
       " ('chr1_7218450_-', 'm54329U_210326_192251/110101497/ccs'),\n",
       " ('chr1_7218450_-', 'm64076_221119_202646/97061445/ccs'),\n",
       " ('chr1_7218450_-', 'm54329U_210323_190418/150079542/ccs'),\n",
       " ('chr1_7218450_-', 'm64076_210328_012155/7473076/ccs'),\n",
       " ('chr1_7218450_-', 'm54329U_210326_192251/99025276/ccs'),\n",
       " ('chr1_7218450_-', 'm64076_210328_012155/126420365/ccs'),\n",
       " ('chr1_7218450_-', 'm54329U_210326_192251/89328124/ccs'),\n",
       " ('chr1_7218450_-', 'm64076_210328_012155/147786067/ccs'),\n",
       " ('chr1_7218450_-', 'm64076_210328_012155/170919393/ccs'),\n",
       " ('chr1_7218450_-', 'm64076_210328_012155/99682787/ccs'),\n",
       " ('chr1_7218450_-', 'm54329U_210323_190418/36440313/ccs'),\n",
       " ('chr1_7667657_-', 'm64076_221119_202646/28444724/ccs'),\n",
       " ('chr1_7667657_-', 'm54329U_210813_020940/157615439/ccs'),\n",
       " ('chr1_7667657_-', 'm54329U_210323_190418/170592575/ccs'),\n",
       " ('chr1_7667657_-', 'm64076_221119_202646/156240594/ccs'),\n",
       " ('chr1_7667657_-', 'm54329U_210814_130637/161614125/ccs'),\n",
       " ('chr1_7667657_-', 'm54329U_210323_190418/100335786/ccs'),\n",
       " ('chr1_7667657_-', 'm54329U_210323_190418/72025468/ccs'),\n",
       " ('chr1_7667657_-', 'm54329U_210326_192251/169347508/ccs'),\n",
       " ('chr1_7667657_-', 'm54329U_210326_192251/46466331/ccs'),\n",
       " ('chr1_7667657_-', 'm54329U_210323_190418/110692623/ccs'),\n",
       " ('chr1_7667657_-', 'm54329U_210326_192251/36374263/ccs'),\n",
       " ('chr1_7667657_-', 'm64076_221119_202646/114362823/ccs'),\n",
       " ('chr1_7667657_-', 'm54329U_210326_192251/139001963/ccs'),\n",
       " ('chr1_7667657_-', 'm54329U_210326_192251/109183200/ccs'),\n",
       " ('chr1_7667657_-', 'm54329U_210323_190418/67698971/ccs'),\n",
       " ('chr1_7667657_-', 'm54329U_210813_020940/147457256/ccs'),\n",
       " ('chr1_7667657_-', 'm64076_221119_202646/92013042/ccs'),\n",
       " ('chr1_7667657_-', 'm64076_210328_012155/82905418/ccs'),\n",
       " ('chr1_7667657_-', 'm54329U_210810_004956/146736442/ccs'),\n",
       " ('chr1_7667657_-', 'm54329U_210814_130637/64817080/ccs'),\n",
       " ('chr1_7667657_-', 'm54329U_210326_192251/142082447/ccs'),\n",
       " ('chr1_7667657_-', 'm64076_221119_202646/111937363/ccs'),\n",
       " ('chr1_7667657_-', 'm54329U_210810_004956/74713216/ccs'),\n",
       " ('chr1_7667657_-', 'm54329U_210323_190418/126355558/ccs'),\n",
       " ('chr1_7667657_-', 'm64076_210328_012155/87624141/ccs'),\n",
       " ('chr1_7667657_-', 'm54329U_210814_130637/9176369/ccs'),\n",
       " ('chr1_7667657_-', 'm54329U_210323_190418/79954492/ccs'),\n",
       " ('chr1_7667657_-', 'm54329U_210323_190418/83297145/ccs'),\n",
       " ('chr1_7667657_-', 'm54329U_210323_190418/93915725/ccs'),\n",
       " ('chr1_7667657_-', 'm54329U_210813_020940/39651021/ccs'),\n",
       " ('chr1_7667657_-', 'm54329U_210323_190418/77859308/ccs'),\n",
       " ('chr1_7667657_-', 'm54329U_210326_192251/113378780/ccs'),\n",
       " ('chr1_7667689_+', 'm64076_221119_202646/28444724/ccs'),\n",
       " ('chr1_7667689_+', 'm54329U_210813_020940/157615439/ccs'),\n",
       " ('chr1_7667689_+', 'm54329U_210323_190418/170592575/ccs'),\n",
       " ('chr1_7667689_+', 'm54329U_210813_020940/5571820/ccs'),\n",
       " ('chr1_7667689_+', 'm64076_221119_202646/156240594/ccs'),\n",
       " ('chr1_7667689_+', 'm54329U_210814_130637/161614125/ccs'),\n",
       " ('chr1_7667689_+', 'm54329U_210810_004956/82249634/ccs'),\n",
       " ('chr1_7667689_+', 'm54329U_210323_190418/100335786/ccs'),\n",
       " ('chr1_7667689_+', 'm54329U_210323_190418/148308242/ccs'),\n",
       " ('chr1_7667689_+', 'm64076_221119_202646/6424289/ccs'),\n",
       " ('chr1_7667689_+', 'm54329U_210323_190418/72025468/ccs'),\n",
       " ('chr1_7667689_+', 'm54329U_210326_192251/169347508/ccs'),\n",
       " ('chr1_7667689_+', 'm54329U_210326_192251/46466331/ccs'),\n",
       " ('chr1_7667689_+', 'm54329U_210323_190418/110692623/ccs'),\n",
       " ('chr1_7667689_+', 'm54329U_210810_004956/14354453/ccs'),\n",
       " ('chr1_7667689_+', 'm54329U_210326_192251/36374263/ccs'),\n",
       " ('chr1_7667689_+', 'm64076_221119_202646/114362823/ccs'),\n",
       " ('chr1_7667689_+', 'm54329U_210326_192251/139001963/ccs'),\n",
       " ('chr1_7667689_+', 'm54329U_210326_192251/109183200/ccs'),\n",
       " ('chr1_7667689_+', 'm54329U_210323_190418/67698971/ccs'),\n",
       " ('chr1_7667689_+', 'm54329U_210813_020940/147457256/ccs'),\n",
       " ('chr1_7667689_+', 'm64076_221119_202646/92013042/ccs'),\n",
       " ('chr1_7667689_+', 'm64076_210328_012155/82905418/ccs'),\n",
       " ('chr1_7667689_+', 'm54329U_210810_004956/146736442/ccs'),\n",
       " ('chr1_7667689_+', 'm54329U_210814_130637/64817080/ccs'),\n",
       " ('chr1_7667689_+', 'm54329U_210326_192251/142082447/ccs'),\n",
       " ('chr1_7667689_+', 'm64076_221119_202646/111937363/ccs'),\n",
       " ('chr1_7667689_+', 'm54329U_210813_020940/91948475/ccs'),\n",
       " ('chr1_7667689_+', 'm54329U_210810_004956/74713216/ccs'),\n",
       " ('chr1_7667689_+', 'm54329U_210323_190418/126355558/ccs'),\n",
       " ('chr1_7667689_+', 'm54329U_210326_192251/180290178/ccs'),\n",
       " ('chr1_7667689_+', 'm64076_210328_012155/87624141/ccs'),\n",
       " ('chr1_7667689_+', 'm54329U_210814_130637/9176369/ccs'),\n",
       " ('chr1_7667689_+', 'm54329U_210323_190418/79954492/ccs'),\n",
       " ('chr1_7667689_+', 'm54329U_210814_130637/126550547/ccs'),\n",
       " ('chr1_7667689_+', 'm64076_210328_012155/125240279/ccs'),\n",
       " ('chr1_7667689_+', 'm54329U_210323_190418/83297145/ccs'),\n",
       " ('chr1_7667689_+', 'm54329U_210323_190418/93915725/ccs'),\n",
       " ('chr1_7667689_+', 'm54329U_210326_192251/162071149/ccs'),\n",
       " ('chr1_7667689_+', 'm54329U_210813_020940/39651021/ccs'),\n",
       " ('chr1_7667689_+', 'm54329U_210323_190418/77859308/ccs'),\n",
       " ('chr1_7667689_+', 'm54329U_210326_192251/113378780/ccs'),\n",
       " ('chr1_7667689_+', 'm54329U_210323_190418/85723671/ccs'),\n",
       " ('chr1_7982458_+', 'm54329U_210813_020940/17367885/ccs'),\n",
       " ('chr1_7982458_+', 'm54329U_210814_130637/64948061/ccs'),\n",
       " ('chr1_7982458_+', 'm54329U_210814_130637/64095498/ccs'),\n",
       " ('chr1_7982458_+', 'm54329U_210326_192251/122948244/ccs'),\n",
       " ('chr1_7982458_+', 'm54329U_210814_130637/179701548/ccs'),\n",
       " ('chr1_7982458_+', 'm54329U_210323_190418/78185215/ccs'),\n",
       " ('chr1_7982458_+', 'm54329U_210326_192251/65865188/ccs'),\n",
       " ('chr1_7982458_+', 'm54329U_210323_190418/100599340/ccs'),\n",
       " ('chr1_7982458_+', 'm54329U_210813_020940/32441251/ccs'),\n",
       " ('chr1_7982458_+', 'm64076_221119_202646/156764537/ccs'),\n",
       " ('chr1_7982458_+', 'm54329U_210810_004956/98304602/ccs'),\n",
       " ('chr1_7982458_+', 'm54329U_210813_020940/125567567/ccs'),\n",
       " ('chr1_7982458_+', 'm54329U_210814_130637/115016515/ccs'),\n",
       " ('chr1_7982458_+', 'm54329U_210326_192251/26019310/ccs'),\n",
       " ('chr1_7982458_+', 'm54329U_210810_004956/29033966/ccs'),\n",
       " ('chr1_7982458_+', 'm54329U_210814_130637/112001323/ccs'),\n",
       " ('chr1_7982458_+', 'm64076_210328_012155/9307364/ccs'),\n",
       " ('chr1_7982458_+', 'm64076_210328_012155/80284263/ccs'),\n",
       " ('chr1_7982458_+', 'm64076_221119_202646/6948436/ccs'),\n",
       " ('chr1_7982458_+', 'm54329U_210326_192251/165937298/ccs'),\n",
       " ('chr1_7982458_+', 'm54329U_210814_130637/40829704/ccs'),\n",
       " ('chr1_7982458_+', 'm54329U_210814_130637/37620526/ccs'),\n",
       " ('chr1_7982458_+', 'm64076_221119_202646/90245493/ccs'),\n",
       " ('chr1_7982458_+', 'm54329U_210323_190418/40371988/ccs'),\n",
       " ('chr1_7982458_+', 'm54329U_210810_004956/169215933/ccs'),\n",
       " ('chr1_7982458_+', 'm64076_210328_012155/117639345/ccs'),\n",
       " ('chr1_7982458_+', 'm54329U_210323_190418/111609974/ccs'),\n",
       " ('chr1_7982458_+', 'm54329U_210326_192251/88476126/ccs'),\n",
       " ('chr1_7982458_+', 'm54329U_210813_020940/59705479/ccs'),\n",
       " ('chr1_7982458_+', 'm54329U_210810_004956/27593309/ccs'),\n",
       " ('chr1_7982458_+', 'm54329U_210813_020940/145491917/ccs'),\n",
       " ('chr1_7982458_+', 'm54329U_210326_192251/15467410/ccs'),\n",
       " ('chr1_7982458_+', 'm64076_210328_012155/31066264/ccs'),\n",
       " ('chr1_7982458_+', 'm54329U_210323_190418/61669554/ccs'),\n",
       " ('chr1_7982458_+', 'm64076_221119_202646/79233499/ccs'),\n",
       " ('chr1_7982458_+', 'm54329U_210323_190418/10486192/ccs'),\n",
       " ('chr1_7982458_+', 'm54329U_210814_130637/98436730/ccs'),\n",
       " ('chr1_7982458_+', 'm64076_210328_012155/151586788/ccs'),\n",
       " ('chr1_7982458_+', 'm64076_210328_012155/140575139/ccs'),\n",
       " ('chr1_7982458_+', 'm64076_210328_012155/58001125/ccs'),\n",
       " ('chr1_7982458_+', 'm64076_210328_012155/87820885/ccs'),\n",
       " ('chr1_7982458_+', 'm64076_210328_012155/121111185/ccs'),\n",
       " ('chr1_7982458_+', 'm54329U_210326_192251/149749778/ccs'),\n",
       " ('chr1_7982458_+', 'm64076_210328_012155/23725395/ccs'),\n",
       " ('chr1_7982458_+', 'm54329U_210814_130637/17959771/ccs'),\n",
       " ('chr1_7982458_+', 'm64076_210328_012155/160828182/ccs'),\n",
       " ('chr1_7982458_+', 'm54329U_210323_190418/53086953/ccs'),\n",
       " ('chr1_7982458_+', 'm64076_210328_012155/93062615/ccs'),\n",
       " ('chr1_7982458_+', 'm54329U_210813_020940/174458784/ccs'),\n",
       " ('chr1_9005320_-', 'm54329U_210810_004956/37028645/ccs'),\n",
       " ('chr1_9005320_-', 'm54329U_210326_192251/132251766/ccs'),\n",
       " ('chr1_9005320_-', 'm64076_221119_202646/76089215/ccs'),\n",
       " ('chr1_9005320_-', 'm54329U_210814_130637/113902213/ccs'),\n",
       " ('chr1_9005320_-', 'm54329U_210810_004956/136971449/ccs'),\n",
       " ('chr1_9005320_-', 'm64076_221119_202646/145557025/ccs'),\n",
       " ('chr1_9005320_-', 'm54329U_210814_130637/104334224/ccs'),\n",
       " ('chr1_9005320_-', 'm54329U_210326_192251/75432189/ccs'),\n",
       " ('chr1_9005320_-', 'm54329U_210814_130637/150405391/ccs'),\n",
       " ('chr1_9005320_-', 'm64076_221119_202646/41813175/ccs'),\n",
       " ('chr1_9005320_-', 'm54329U_210813_020940/163645124/ccs'),\n",
       " ('chr1_9005320_-', 'm54329U_210810_004956/6226994/ccs'),\n",
       " ('chr1_9005320_-', 'm64076_221119_202646/11469218/ccs'),\n",
       " ('chr1_9005320_-', 'm54329U_210323_190418/74779271/ccs'),\n",
       " ('chr1_9005320_-', 'm54329U_210810_004956/3081243/ccs'),\n",
       " ('chr1_9005320_-', 'm54329U_210323_190418/94570856/ccs'),\n",
       " ('chr1_9005320_-', 'm54329U_210323_190418/75956260/ccs'),\n",
       " ('chr1_9005320_-', 'm54329U_210813_020940/130156221/ccs'),\n",
       " ('chr1_9005320_-', 'm64076_210328_012155/164758073/ccs'),\n",
       " ('chr1_9005320_-', 'm54329U_210326_192251/180487005/ccs'),\n",
       " ('chr1_9005320_-', 'm64076_210328_012155/166528361/ccs'),\n",
       " ('chr1_9005320_-', 'm54329U_210326_192251/125830259/ccs'),\n",
       " ('chr1_9005320_-', 'm54329U_210813_020940/172952125/ccs'),\n",
       " ('chr1_9005320_-', 'm54329U_210813_020940/16189136/ccs'),\n",
       " ('chr1_9005320_-', 'm64076_210328_012155/20646233/ccs'),\n",
       " ('chr1_9005320_-', 'm64076_210328_012155/36244187/ccs'),\n",
       " ('chr1_9005320_-', 'm54329U_210813_020940/17172907/ccs'),\n",
       " ('chr1_9005320_-', 'm64076_221119_202646/76023821/ccs'),\n",
       " ('chr1_9005320_-', 'm54329U_210323_190418/78120555/ccs'),\n",
       " ('chr1_9005320_-', 'm54329U_210323_190418/67963203/ccs'),\n",
       " ('chr1_9005320_-', 'm54329U_210323_190418/132188284/ccs'),\n",
       " ('chr1_9005320_-', 'm54329U_210323_190418/151390377/ccs'),\n",
       " ('chr1_9005320_-', 'm54329U_210814_130637/7734365/ccs'),\n",
       " ('chr1_9005320_-', 'm54329U_210810_004956/155321720/ccs'),\n",
       " ('chr1_9005320_-', 'm54329U_210810_004956/140117003/ccs'),\n",
       " ('chr1_9005320_-', 'm54329U_210326_192251/45154487/ccs'),\n",
       " ('chr1_9005320_-', 'm54329U_210814_130637/60361093/ccs'),\n",
       " ('chr1_9005320_-', 'm54329U_210323_190418/161875402/ccs'),\n",
       " ('chr1_9005320_-', 'm64076_210328_012155/71371508/ccs'),\n",
       " ('chr1_9005320_-', 'm54329U_210323_190418/137036928/ccs'),\n",
       " ('chr1_9005320_-', 'm54329U_210810_004956/165479237/ccs'),\n",
       " ('chr1_9005320_-', 'm64076_210328_012155/54593796/ccs'),\n",
       " ('chr1_9005320_-', 'm54329U_210323_190418/107153808/ccs'),\n",
       " ('chr1_9005320_-', 'm54329U_210814_130637/138806302/ccs'),\n",
       " ('chr1_9005320_-', 'm54329U_210323_190418/145884233/ccs'),\n",
       " ('chr1_9005320_-', 'm64076_210328_012155/117048686/ccs'),\n",
       " ('chr1_9005320_-', 'm54329U_210814_130637/92602800/ccs'),\n",
       " ('chr1_9005320_-', 'm64076_221119_202646/160301549/ccs'),\n",
       " ('chr1_9005320_-', 'm54329U_210814_130637/146146647/ccs'),\n",
       " ('chr1_9005320_-', 'm64076_210328_012155/129501873/ccs'),\n",
       " ('chr1_9067419_+', 'm54329U_210813_020940/27920422/ccs'),\n",
       " ('chr1_9067419_+', 'm64076_210328_012155/4065465/ccs'),\n",
       " ('chr1_9067419_+', 'm54329U_210326_192251/6818611/ccs'),\n",
       " ('chr1_9067419_+', 'm54329U_210810_004956/111411328/ccs'),\n",
       " ('chr1_9067419_+', 'm54329U_210323_190418/68419804/ccs'),\n",
       " ('chr1_9067419_+', 'm54329U_210326_192251/105712138/ccs'),\n",
       " ('chr1_9067419_+', 'm54329U_210323_190418/112722566/ccs'),\n",
       " ('chr1_9067419_+', 'm54329U_210813_020940/46333996/ccs'),\n",
       " ('chr1_9067419_+', 'm54329U_210323_190418/100009770/ccs'),\n",
       " ('chr1_9067419_+', 'm54329U_210326_192251/157156024/ccs'),\n",
       " ('chr1_9067419_+', 'm64076_210328_012155/123798567/ccs'),\n",
       " ('chr1_9196654_-', 'm54329U_210810_004956/43188549/ccs'),\n",
       " ('chr1_9196654_-', 'm64076_221119_202646/99418892/ccs'),\n",
       " ('chr1_9196654_-', 'm54329U_210326_192251/81594694/ccs'),\n",
       " ('chr1_9196654_-', 'm54329U_210814_130637/149489087/ccs'),\n",
       " ('chr1_9196654_-', 'm64076_221119_202646/42271405/ccs'),\n",
       " ('chr1_9196654_-', 'm54329U_210813_020940/150274446/ccs'),\n",
       " ('chr1_9196654_-', 'm54329U_210813_020940/177145642/ccs'),\n",
       " ('chr1_9196654_-', 'm54329U_210810_004956/58458349/ccs'),\n",
       " ('chr1_9196654_-', 'm64076_210328_012155/82313390/ccs'),\n",
       " ('chr1_9196654_-', 'm54329U_210813_020940/65931397/ccs'),\n",
       " ('chr1_9196654_-', 'm64076_221119_202646/23332486/ccs'),\n",
       " ('chr1_9196654_-', 'm64076_221119_202646/38471460/ccs'),\n",
       " ('chr1_9196654_-', 'm54329U_210813_020940/50528414/ccs'),\n",
       " ('chr1_9196654_-', 'm64076_210328_012155/135005816/ccs'),\n",
       " ('chr1_9196654_-', 'm64076_210328_012155/110952550/ccs'),\n",
       " ('chr1_9196654_-', 'm54329U_210323_190418/31983830/ccs'),\n",
       " ('chr1_9196654_-', 'm54329U_210326_192251/113443180/ccs'),\n",
       " ('chr1_9196654_-', 'm54329U_210326_192251/19333376/ccs'),\n",
       " ('chr1_9196654_-', 'm64076_210328_012155/71893051/ccs'),\n",
       " ('chr1_9196654_-', 'm64076_210328_012155/180290803/ccs'),\n",
       " ('chr1_9196654_-', 'm64076_210328_012155/30345902/ccs'),\n",
       " ('chr1_9196654_-', 'm64076_210328_012155/63702480/ccs'),\n",
       " ('chr1_9196654_-', 'm64076_210328_012155/68815115/ccs'),\n",
       " ('chr1_9196654_-', 'm64076_221119_202646/144639036/ccs'),\n",
       " ('chr1_9196654_-', 'm64076_210328_012155/118292928/ccs'),\n",
       " ('chr1_9196654_-', 'm64076_210328_012155/141362137/ccs'),\n",
       " ('chr1_9196654_-', 'm54329U_210814_130637/114164093/ccs'),\n",
       " ('chr1_9196654_-', 'm54329U_210814_130637/39389894/ccs'),\n",
       " ('chr1_9196654_-', 'm54329U_210323_190418/98501661/ccs'),\n",
       " ('chr1_9196654_-', 'm54329U_210323_190418/113247078/ccs'),\n",
       " ('chr1_9196654_-', 'm54329U_210323_190418/170133125/ccs'),\n",
       " ('chr1_9196654_-', 'm64076_210328_012155/176949347/ccs'),\n",
       " ('chr1_9196654_-', 'm54329U_210323_190418/101058802/ccs'),\n",
       " ...]"
      ]
     },
     "execution_count": 90,
     "metadata": {},
     "output_type": "execute_result"
    }
   ],
   "source": [
    "[(row[\"motif_name\"], row[\"query_name\"]) for idx, row in df[msp_mask].iterrows()]"
   ]
  },
  {
   "cell_type": "code",
   "execution_count": 125,
   "metadata": {
    "hidden": true
   },
   "outputs": [
    {
     "data": {
      "text/plain": [
       "(73671, 14)"
      ]
     },
     "execution_count": 125,
     "metadata": {},
     "output_type": "execute_result"
    }
   ],
   "source": [
    "df[df[[\"motif_name\", \"query_name\"]].apply(tuple, 1).isin(msp_groups)].shape"
   ]
  },
  {
   "cell_type": "code",
   "execution_count": 127,
   "metadata": {
    "collapsed": true,
    "hidden": true
   },
   "outputs": [
    {
     "ename": "AttributeError",
     "evalue": "'DataFrame' object has no attribute 'msp'",
     "output_type": "error",
     "traceback": [
      "\u001b[0;31m---------------------------------------------------------------------------\u001b[0m",
      "\u001b[0;31mAttributeError\u001b[0m                            Traceback (most recent call last)",
      "Cell \u001b[0;32mIn[127], line 1\u001b[0m\n\u001b[0;32m----> 1\u001b[0m \u001b[43mdf\u001b[49m\u001b[38;5;241;43m.\u001b[39;49m\u001b[43mmerge\u001b[49m\u001b[43m(\u001b[49m\u001b[43mpd\u001b[49m\u001b[38;5;241;43m.\u001b[39;49m\u001b[43mDataFrame\u001b[49m\u001b[43m(\u001b[49m\u001b[43mmsp_groups\u001b[49m\u001b[43m,\u001b[49m\u001b[43m \u001b[49m\u001b[43mcolumns\u001b[49m\u001b[38;5;241;43m=\u001b[39;49m\u001b[43m[\u001b[49m\u001b[38;5;124;43m\"\u001b[39;49m\u001b[38;5;124;43mmotif_name\u001b[39;49m\u001b[38;5;124;43m\"\u001b[39;49m\u001b[43m,\u001b[49m\u001b[43m \u001b[49m\u001b[38;5;124;43m\"\u001b[39;49m\u001b[38;5;124;43mquery_name\u001b[39;49m\u001b[38;5;124;43m\"\u001b[39;49m\u001b[43m]\u001b[49m\u001b[43m)\u001b[49m\u001b[43m)\u001b[49m\u001b[38;5;241;43m.\u001b[39;49m\u001b[43mmsp\u001b[49m\n",
      "File \u001b[0;32m/mmfs1/gscratch/stergachislab/mwperez/miniconda3/envs/fiberseq-smk/lib/python3.9/site-packages/pandas/core/generic.py:5902\u001b[0m, in \u001b[0;36mNDFrame.__getattr__\u001b[0;34m(self, name)\u001b[0m\n\u001b[1;32m   5895\u001b[0m \u001b[38;5;28;01mif\u001b[39;00m (\n\u001b[1;32m   5896\u001b[0m     name \u001b[38;5;129;01mnot\u001b[39;00m \u001b[38;5;129;01min\u001b[39;00m \u001b[38;5;28mself\u001b[39m\u001b[38;5;241m.\u001b[39m_internal_names_set\n\u001b[1;32m   5897\u001b[0m     \u001b[38;5;129;01mand\u001b[39;00m name \u001b[38;5;129;01mnot\u001b[39;00m \u001b[38;5;129;01min\u001b[39;00m \u001b[38;5;28mself\u001b[39m\u001b[38;5;241m.\u001b[39m_metadata\n\u001b[1;32m   5898\u001b[0m     \u001b[38;5;129;01mand\u001b[39;00m name \u001b[38;5;129;01mnot\u001b[39;00m \u001b[38;5;129;01min\u001b[39;00m \u001b[38;5;28mself\u001b[39m\u001b[38;5;241m.\u001b[39m_accessors\n\u001b[1;32m   5899\u001b[0m     \u001b[38;5;129;01mand\u001b[39;00m \u001b[38;5;28mself\u001b[39m\u001b[38;5;241m.\u001b[39m_info_axis\u001b[38;5;241m.\u001b[39m_can_hold_identifiers_and_holds_name(name)\n\u001b[1;32m   5900\u001b[0m ):\n\u001b[1;32m   5901\u001b[0m     \u001b[38;5;28;01mreturn\u001b[39;00m \u001b[38;5;28mself\u001b[39m[name]\n\u001b[0;32m-> 5902\u001b[0m \u001b[38;5;28;01mreturn\u001b[39;00m \u001b[38;5;28;43mobject\u001b[39;49m\u001b[38;5;241;43m.\u001b[39;49m\u001b[38;5;21;43m__getattribute__\u001b[39;49m\u001b[43m(\u001b[49m\u001b[38;5;28;43mself\u001b[39;49m\u001b[43m,\u001b[49m\u001b[43m \u001b[49m\u001b[43mname\u001b[49m\u001b[43m)\u001b[49m\n",
      "\u001b[0;31mAttributeError\u001b[0m: 'DataFrame' object has no attribute 'msp'"
     ]
    }
   ],
   "source": [
    "df.merge(pd.DataFrame(msp_groups, columns=[\"motif_name\", \"query_name\"]))"
   ]
  },
  {
   "cell_type": "code",
   "execution_count": null,
   "metadata": {
    "hidden": true
   },
   "outputs": [],
   "source": []
  },
  {
   "cell_type": "code",
   "execution_count": 74,
   "metadata": {
    "hidden": true
   },
   "outputs": [
    {
     "name": "stdout",
     "output_type": "stream",
     "text": [
      "MSP's with a motif: 1,986\n",
      "Removing MSP's without a motif: 1,316\n",
      "Total observations from motifs within an MSP: 73,662\n"
     ]
    }
   ],
   "source": [
    "# mask of MSP's containing a motif\n",
    "motif_len = 35\n",
    "msp_mask = (df[\"centered_position_type\"] == \"msp\") & (df[\"centered_start\"] <= 0) & (df[\"centered_end\"] >= motif_len)\n",
    "print(\"MSP's with a motif: \" + \"{:,}\".format(msp_mask.sum()))\n",
    "msp_groups = [(row[\"motif_name\"], row[\"query_name\"]) for idx, row in df[msp_mask].iterrows()]\n",
    "\n",
    "# remove MSP's without a motif\n",
    "print(\"Removing MSP's without a motif: \" + \"{:,}\".format(\n",
    "    (~np.logical_or(msp_mask, (df[\"centered_position_type\"] == \"m6a\"))).sum()))\n",
    "df = df[np.logical_or(msp_mask, (df[\"centered_position_type\"] == \"m6a\"))]\n",
    "\n",
    "# filter for rows with motifs within an MSP (gets both MSP's & m6a's)\n",
    "df = df[df[[\"motif_name\", \"query_name\"]].apply(tuple, 1).isin(msp_groups)]\n",
    "print(\"Total observations from motifs within an MSP: \" + \"{:,}\".format(df.shape[0]))"
   ]
  },
  {
   "cell_type": "code",
   "execution_count": null,
   "metadata": {
    "hidden": true
   },
   "outputs": [],
   "source": [
    "# filter for rows with motifs within an MSP (gets both MSP's & m6a's)\n",
    "df = df[df[[\"motif_name\", \"query_name\"]].apply(tuple, 1).isin(msp_groups)]\n",
    "print(\"Total observations from motifs within an MSP: \" + \"{:,}\".format(df.shape[0]))"
   ]
  },
  {
   "cell_type": "code",
   "execution_count": 51,
   "metadata": {
    "hidden": true
   },
   "outputs": [
    {
     "data": {
      "text/plain": [
       "89416"
      ]
     },
     "execution_count": 51,
     "metadata": {},
     "output_type": "execute_result"
    }
   ],
   "source": [
    "msp_mask.sum() + (df[\"centered_position_type\"] == \"m6a\").sum()"
   ]
  },
  {
   "cell_type": "code",
   "execution_count": 44,
   "metadata": {
    "collapsed": true,
    "hidden": true
   },
   "outputs": [
    {
     "data": {
      "text/html": [
       "<div>\n",
       "<style scoped>\n",
       "    .dataframe tbody tr th:only-of-type {\n",
       "        vertical-align: middle;\n",
       "    }\n",
       "\n",
       "    .dataframe tbody tr th {\n",
       "        vertical-align: top;\n",
       "    }\n",
       "\n",
       "    .dataframe thead th {\n",
       "        text-align: right;\n",
       "    }\n",
       "</style>\n",
       "<table border=\"1\" class=\"dataframe\">\n",
       "  <thead>\n",
       "    <tr style=\"text-align: right;\">\n",
       "      <th></th>\n",
       "      <th>motif_name</th>\n",
       "      <th>chrom</th>\n",
       "      <th>centering_position</th>\n",
       "      <th>strand</th>\n",
       "      <th>subset_sequence</th>\n",
       "      <th>reference_start</th>\n",
       "      <th>reference_end</th>\n",
       "      <th>query_name</th>\n",
       "      <th>centered_query_start</th>\n",
       "      <th>centered_query_end</th>\n",
       "      <th>query_length</th>\n",
       "      <th>centered_position_type</th>\n",
       "      <th>centered_start</th>\n",
       "      <th>centered_end</th>\n",
       "    </tr>\n",
       "  </thead>\n",
       "  <tbody>\n",
       "    <tr>\n",
       "      <th>16603</th>\n",
       "      <td>chr1_3453274_+</td>\n",
       "      <td>chr1</td>\n",
       "      <td>3453274</td>\n",
       "      <td>+</td>\n",
       "      <td>TGTCCCCTCACTGGGCCTCAGTGACCCCACCGCACCTCAGTCCCCT...</td>\n",
       "      <td>3452462</td>\n",
       "      <td>3474434</td>\n",
       "      <td>m64076_221119_202646/138085724/ccs</td>\n",
       "      <td>-812</td>\n",
       "      <td>21148</td>\n",
       "      <td>21960</td>\n",
       "      <td>m6a</td>\n",
       "      <td>-100</td>\n",
       "      <td>-99</td>\n",
       "    </tr>\n",
       "    <tr>\n",
       "      <th>16604</th>\n",
       "      <td>chr1_3453274_+</td>\n",
       "      <td>chr1</td>\n",
       "      <td>3453274</td>\n",
       "      <td>+</td>\n",
       "      <td>TGTCCCCTCACTGGGCCTCAGTGACCCCACCGCACCTCAGTCCCCT...</td>\n",
       "      <td>3452462</td>\n",
       "      <td>3474434</td>\n",
       "      <td>m64076_221119_202646/138085724/ccs</td>\n",
       "      <td>-812</td>\n",
       "      <td>21148</td>\n",
       "      <td>21960</td>\n",
       "      <td>m6a</td>\n",
       "      <td>-5</td>\n",
       "      <td>-4</td>\n",
       "    </tr>\n",
       "    <tr>\n",
       "      <th>16605</th>\n",
       "      <td>chr1_3453274_+</td>\n",
       "      <td>chr1</td>\n",
       "      <td>3453274</td>\n",
       "      <td>+</td>\n",
       "      <td>TGTCCCCTCACTGGGCCTCAGTGACCCCACCGCACCTCAGTCCCCT...</td>\n",
       "      <td>3452462</td>\n",
       "      <td>3474434</td>\n",
       "      <td>m64076_221119_202646/138085724/ccs</td>\n",
       "      <td>-812</td>\n",
       "      <td>21148</td>\n",
       "      <td>21960</td>\n",
       "      <td>m6a</td>\n",
       "      <td>-2</td>\n",
       "      <td>-1</td>\n",
       "    </tr>\n",
       "    <tr>\n",
       "      <th>16606</th>\n",
       "      <td>chr1_3453274_+</td>\n",
       "      <td>chr1</td>\n",
       "      <td>3453274</td>\n",
       "      <td>+</td>\n",
       "      <td>TGTCCCCTCACTGGGCCTCAGTGACCCCACCGCACCTCAGTCCCCT...</td>\n",
       "      <td>3452462</td>\n",
       "      <td>3474434</td>\n",
       "      <td>m64076_221119_202646/138085724/ccs</td>\n",
       "      <td>-812</td>\n",
       "      <td>21148</td>\n",
       "      <td>21960</td>\n",
       "      <td>m6a</td>\n",
       "      <td>5</td>\n",
       "      <td>6</td>\n",
       "    </tr>\n",
       "    <tr>\n",
       "      <th>16607</th>\n",
       "      <td>chr1_3453274_+</td>\n",
       "      <td>chr1</td>\n",
       "      <td>3453274</td>\n",
       "      <td>+</td>\n",
       "      <td>TGTCCCCTCACTGGGCCTCAGTGACCCCACCGCACCTCAGTCCCCT...</td>\n",
       "      <td>3452462</td>\n",
       "      <td>3474434</td>\n",
       "      <td>m64076_221119_202646/138085724/ccs</td>\n",
       "      <td>-812</td>\n",
       "      <td>21148</td>\n",
       "      <td>21960</td>\n",
       "      <td>m6a</td>\n",
       "      <td>8</td>\n",
       "      <td>9</td>\n",
       "    </tr>\n",
       "    <tr>\n",
       "      <th>16608</th>\n",
       "      <td>chr1_3453274_+</td>\n",
       "      <td>chr1</td>\n",
       "      <td>3453274</td>\n",
       "      <td>+</td>\n",
       "      <td>TGTCCCCTCACTGGGCCTCAGTGACCCCACCGCACCTCAGTCCCCT...</td>\n",
       "      <td>3452462</td>\n",
       "      <td>3474434</td>\n",
       "      <td>m64076_221119_202646/138085724/ccs</td>\n",
       "      <td>-812</td>\n",
       "      <td>21148</td>\n",
       "      <td>21960</td>\n",
       "      <td>m6a</td>\n",
       "      <td>12</td>\n",
       "      <td>13</td>\n",
       "    </tr>\n",
       "    <tr>\n",
       "      <th>16609</th>\n",
       "      <td>chr1_3453274_+</td>\n",
       "      <td>chr1</td>\n",
       "      <td>3453274</td>\n",
       "      <td>+</td>\n",
       "      <td>TGTCCCCTCACTGGGCCTCAGTGACCCCACCGCACCTCAGTCCCCT...</td>\n",
       "      <td>3452462</td>\n",
       "      <td>3474434</td>\n",
       "      <td>m64076_221119_202646/138085724/ccs</td>\n",
       "      <td>-812</td>\n",
       "      <td>21148</td>\n",
       "      <td>21960</td>\n",
       "      <td>m6a</td>\n",
       "      <td>13</td>\n",
       "      <td>14</td>\n",
       "    </tr>\n",
       "    <tr>\n",
       "      <th>16610</th>\n",
       "      <td>chr1_3453274_+</td>\n",
       "      <td>chr1</td>\n",
       "      <td>3453274</td>\n",
       "      <td>+</td>\n",
       "      <td>TGTCCCCTCACTGGGCCTCAGTGACCCCACCGCACCTCAGTCCCCT...</td>\n",
       "      <td>3452462</td>\n",
       "      <td>3474434</td>\n",
       "      <td>m64076_221119_202646/138085724/ccs</td>\n",
       "      <td>-812</td>\n",
       "      <td>21148</td>\n",
       "      <td>21960</td>\n",
       "      <td>m6a</td>\n",
       "      <td>15</td>\n",
       "      <td>16</td>\n",
       "    </tr>\n",
       "    <tr>\n",
       "      <th>16611</th>\n",
       "      <td>chr1_3453274_+</td>\n",
       "      <td>chr1</td>\n",
       "      <td>3453274</td>\n",
       "      <td>+</td>\n",
       "      <td>TGTCCCCTCACTGGGCCTCAGTGACCCCACCGCACCTCAGTCCCCT...</td>\n",
       "      <td>3452462</td>\n",
       "      <td>3474434</td>\n",
       "      <td>m64076_221119_202646/138085724/ccs</td>\n",
       "      <td>-812</td>\n",
       "      <td>21148</td>\n",
       "      <td>21960</td>\n",
       "      <td>m6a</td>\n",
       "      <td>16</td>\n",
       "      <td>17</td>\n",
       "    </tr>\n",
       "    <tr>\n",
       "      <th>16612</th>\n",
       "      <td>chr1_3453274_+</td>\n",
       "      <td>chr1</td>\n",
       "      <td>3453274</td>\n",
       "      <td>+</td>\n",
       "      <td>TGTCCCCTCACTGGGCCTCAGTGACCCCACCGCACCTCAGTCCCCT...</td>\n",
       "      <td>3452462</td>\n",
       "      <td>3474434</td>\n",
       "      <td>m64076_221119_202646/138085724/ccs</td>\n",
       "      <td>-812</td>\n",
       "      <td>21148</td>\n",
       "      <td>21960</td>\n",
       "      <td>m6a</td>\n",
       "      <td>19</td>\n",
       "      <td>20</td>\n",
       "    </tr>\n",
       "    <tr>\n",
       "      <th>16613</th>\n",
       "      <td>chr1_3453274_+</td>\n",
       "      <td>chr1</td>\n",
       "      <td>3453274</td>\n",
       "      <td>+</td>\n",
       "      <td>TGTCCCCTCACTGGGCCTCAGTGACCCCACCGCACCTCAGTCCCCT...</td>\n",
       "      <td>3452462</td>\n",
       "      <td>3474434</td>\n",
       "      <td>m64076_221119_202646/138085724/ccs</td>\n",
       "      <td>-812</td>\n",
       "      <td>21148</td>\n",
       "      <td>21960</td>\n",
       "      <td>m6a</td>\n",
       "      <td>21</td>\n",
       "      <td>22</td>\n",
       "    </tr>\n",
       "    <tr>\n",
       "      <th>16614</th>\n",
       "      <td>chr1_3453274_+</td>\n",
       "      <td>chr1</td>\n",
       "      <td>3453274</td>\n",
       "      <td>+</td>\n",
       "      <td>TGTCCCCTCACTGGGCCTCAGTGACCCCACCGCACCTCAGTCCCCT...</td>\n",
       "      <td>3452462</td>\n",
       "      <td>3474434</td>\n",
       "      <td>m64076_221119_202646/138085724/ccs</td>\n",
       "      <td>-812</td>\n",
       "      <td>21148</td>\n",
       "      <td>21960</td>\n",
       "      <td>m6a</td>\n",
       "      <td>23</td>\n",
       "      <td>24</td>\n",
       "    </tr>\n",
       "    <tr>\n",
       "      <th>16615</th>\n",
       "      <td>chr1_3453274_+</td>\n",
       "      <td>chr1</td>\n",
       "      <td>3453274</td>\n",
       "      <td>+</td>\n",
       "      <td>TGTCCCCTCACTGGGCCTCAGTGACCCCACCGCACCTCAGTCCCCT...</td>\n",
       "      <td>3452462</td>\n",
       "      <td>3474434</td>\n",
       "      <td>m64076_221119_202646/138085724/ccs</td>\n",
       "      <td>-812</td>\n",
       "      <td>21148</td>\n",
       "      <td>21960</td>\n",
       "      <td>m6a</td>\n",
       "      <td>26</td>\n",
       "      <td>27</td>\n",
       "    </tr>\n",
       "    <tr>\n",
       "      <th>16616</th>\n",
       "      <td>chr1_3453274_+</td>\n",
       "      <td>chr1</td>\n",
       "      <td>3453274</td>\n",
       "      <td>+</td>\n",
       "      <td>TGTCCCCTCACTGGGCCTCAGTGACCCCACCGCACCTCAGTCCCCT...</td>\n",
       "      <td>3452462</td>\n",
       "      <td>3474434</td>\n",
       "      <td>m64076_221119_202646/138085724/ccs</td>\n",
       "      <td>-812</td>\n",
       "      <td>21148</td>\n",
       "      <td>21960</td>\n",
       "      <td>m6a</td>\n",
       "      <td>31</td>\n",
       "      <td>32</td>\n",
       "    </tr>\n",
       "    <tr>\n",
       "      <th>16617</th>\n",
       "      <td>chr1_3453274_+</td>\n",
       "      <td>chr1</td>\n",
       "      <td>3453274</td>\n",
       "      <td>+</td>\n",
       "      <td>TGTCCCCTCACTGGGCCTCAGTGACCCCACCGCACCTCAGTCCCCT...</td>\n",
       "      <td>3452462</td>\n",
       "      <td>3474434</td>\n",
       "      <td>m64076_221119_202646/138085724/ccs</td>\n",
       "      <td>-812</td>\n",
       "      <td>21148</td>\n",
       "      <td>21960</td>\n",
       "      <td>m6a</td>\n",
       "      <td>34</td>\n",
       "      <td>35</td>\n",
       "    </tr>\n",
       "    <tr>\n",
       "      <th>16618</th>\n",
       "      <td>chr1_3453274_+</td>\n",
       "      <td>chr1</td>\n",
       "      <td>3453274</td>\n",
       "      <td>+</td>\n",
       "      <td>TGTCCCCTCACTGGGCCTCAGTGACCCCACCGCACCTCAGTCCCCT...</td>\n",
       "      <td>3452462</td>\n",
       "      <td>3474434</td>\n",
       "      <td>m64076_221119_202646/138085724/ccs</td>\n",
       "      <td>-812</td>\n",
       "      <td>21148</td>\n",
       "      <td>21960</td>\n",
       "      <td>m6a</td>\n",
       "      <td>38</td>\n",
       "      <td>39</td>\n",
       "    </tr>\n",
       "    <tr>\n",
       "      <th>16619</th>\n",
       "      <td>chr1_3453274_+</td>\n",
       "      <td>chr1</td>\n",
       "      <td>3453274</td>\n",
       "      <td>+</td>\n",
       "      <td>TGTCCCCTCACTGGGCCTCAGTGACCCCACCGCACCTCAGTCCCCT...</td>\n",
       "      <td>3452462</td>\n",
       "      <td>3474434</td>\n",
       "      <td>m64076_221119_202646/138085724/ccs</td>\n",
       "      <td>-812</td>\n",
       "      <td>21148</td>\n",
       "      <td>21960</td>\n",
       "      <td>m6a</td>\n",
       "      <td>45</td>\n",
       "      <td>46</td>\n",
       "    </tr>\n",
       "    <tr>\n",
       "      <th>16620</th>\n",
       "      <td>chr1_3453274_+</td>\n",
       "      <td>chr1</td>\n",
       "      <td>3453274</td>\n",
       "      <td>+</td>\n",
       "      <td>TGTCCCCTCACTGGGCCTCAGTGACCCCACCGCACCTCAGTCCCCT...</td>\n",
       "      <td>3452462</td>\n",
       "      <td>3474434</td>\n",
       "      <td>m64076_221119_202646/138085724/ccs</td>\n",
       "      <td>-812</td>\n",
       "      <td>21148</td>\n",
       "      <td>21960</td>\n",
       "      <td>m6a</td>\n",
       "      <td>47</td>\n",
       "      <td>48</td>\n",
       "    </tr>\n",
       "    <tr>\n",
       "      <th>16621</th>\n",
       "      <td>chr1_3453274_+</td>\n",
       "      <td>chr1</td>\n",
       "      <td>3453274</td>\n",
       "      <td>+</td>\n",
       "      <td>TGTCCCCTCACTGGGCCTCAGTGACCCCACCGCACCTCAGTCCCCT...</td>\n",
       "      <td>3452462</td>\n",
       "      <td>3474434</td>\n",
       "      <td>m64076_221119_202646/138085724/ccs</td>\n",
       "      <td>-812</td>\n",
       "      <td>21148</td>\n",
       "      <td>21960</td>\n",
       "      <td>m6a</td>\n",
       "      <td>52</td>\n",
       "      <td>53</td>\n",
       "    </tr>\n",
       "    <tr>\n",
       "      <th>16622</th>\n",
       "      <td>chr1_3453274_+</td>\n",
       "      <td>chr1</td>\n",
       "      <td>3453274</td>\n",
       "      <td>+</td>\n",
       "      <td>TGTCCCCTCACTGGGCCTCAGTGACCCCACCGCACCTCAGTCCCCT...</td>\n",
       "      <td>3452462</td>\n",
       "      <td>3474434</td>\n",
       "      <td>m64076_221119_202646/138085724/ccs</td>\n",
       "      <td>-812</td>\n",
       "      <td>21148</td>\n",
       "      <td>21960</td>\n",
       "      <td>m6a</td>\n",
       "      <td>57</td>\n",
       "      <td>58</td>\n",
       "    </tr>\n",
       "    <tr>\n",
       "      <th>16623</th>\n",
       "      <td>chr1_3453274_+</td>\n",
       "      <td>chr1</td>\n",
       "      <td>3453274</td>\n",
       "      <td>+</td>\n",
       "      <td>TGTCCCCTCACTGGGCCTCAGTGACCCCACCGCACCTCAGTCCCCT...</td>\n",
       "      <td>3452462</td>\n",
       "      <td>3474434</td>\n",
       "      <td>m64076_221119_202646/138085724/ccs</td>\n",
       "      <td>-812</td>\n",
       "      <td>21148</td>\n",
       "      <td>21960</td>\n",
       "      <td>m6a</td>\n",
       "      <td>61</td>\n",
       "      <td>62</td>\n",
       "    </tr>\n",
       "    <tr>\n",
       "      <th>16624</th>\n",
       "      <td>chr1_3453274_+</td>\n",
       "      <td>chr1</td>\n",
       "      <td>3453274</td>\n",
       "      <td>+</td>\n",
       "      <td>TGTCCCCTCACTGGGCCTCAGTGACCCCACCGCACCTCAGTCCCCT...</td>\n",
       "      <td>3452462</td>\n",
       "      <td>3474434</td>\n",
       "      <td>m64076_221119_202646/138085724/ccs</td>\n",
       "      <td>-812</td>\n",
       "      <td>21148</td>\n",
       "      <td>21960</td>\n",
       "      <td>m6a</td>\n",
       "      <td>65</td>\n",
       "      <td>66</td>\n",
       "    </tr>\n",
       "    <tr>\n",
       "      <th>16625</th>\n",
       "      <td>chr1_3453274_+</td>\n",
       "      <td>chr1</td>\n",
       "      <td>3453274</td>\n",
       "      <td>+</td>\n",
       "      <td>TGTCCCCTCACTGGGCCTCAGTGACCCCACCGCACCTCAGTCCCCT...</td>\n",
       "      <td>3452462</td>\n",
       "      <td>3474434</td>\n",
       "      <td>m64076_221119_202646/138085724/ccs</td>\n",
       "      <td>-812</td>\n",
       "      <td>21148</td>\n",
       "      <td>21960</td>\n",
       "      <td>m6a</td>\n",
       "      <td>67</td>\n",
       "      <td>68</td>\n",
       "    </tr>\n",
       "    <tr>\n",
       "      <th>16626</th>\n",
       "      <td>chr1_3453274_+</td>\n",
       "      <td>chr1</td>\n",
       "      <td>3453274</td>\n",
       "      <td>+</td>\n",
       "      <td>TGTCCCCTCACTGGGCCTCAGTGACCCCACCGCACCTCAGTCCCCT...</td>\n",
       "      <td>3452462</td>\n",
       "      <td>3474434</td>\n",
       "      <td>m64076_221119_202646/138085724/ccs</td>\n",
       "      <td>-812</td>\n",
       "      <td>21148</td>\n",
       "      <td>21960</td>\n",
       "      <td>m6a</td>\n",
       "      <td>74</td>\n",
       "      <td>75</td>\n",
       "    </tr>\n",
       "    <tr>\n",
       "      <th>16627</th>\n",
       "      <td>chr1_3453274_+</td>\n",
       "      <td>chr1</td>\n",
       "      <td>3453274</td>\n",
       "      <td>+</td>\n",
       "      <td>TGTCCCCTCACTGGGCCTCAGTGACCCCACCGCACCTCAGTCCCCT...</td>\n",
       "      <td>3452462</td>\n",
       "      <td>3474434</td>\n",
       "      <td>m64076_221119_202646/138085724/ccs</td>\n",
       "      <td>-812</td>\n",
       "      <td>21148</td>\n",
       "      <td>21960</td>\n",
       "      <td>m6a</td>\n",
       "      <td>88</td>\n",
       "      <td>89</td>\n",
       "    </tr>\n",
       "    <tr>\n",
       "      <th>16628</th>\n",
       "      <td>chr1_3453274_+</td>\n",
       "      <td>chr1</td>\n",
       "      <td>3453274</td>\n",
       "      <td>+</td>\n",
       "      <td>TGTCCCCTCACTGGGCCTCAGTGACCCCACCGCACCTCAGTCCCCT...</td>\n",
       "      <td>3452462</td>\n",
       "      <td>3474434</td>\n",
       "      <td>m64076_221119_202646/138085724/ccs</td>\n",
       "      <td>-812</td>\n",
       "      <td>21148</td>\n",
       "      <td>21960</td>\n",
       "      <td>m6a</td>\n",
       "      <td>94</td>\n",
       "      <td>95</td>\n",
       "    </tr>\n",
       "    <tr>\n",
       "      <th>16630</th>\n",
       "      <td>chr1_3453274_+</td>\n",
       "      <td>chr1</td>\n",
       "      <td>3453274</td>\n",
       "      <td>+</td>\n",
       "      <td>TGTCCCCTCACTGGGCCTCAGTGACCCCACCGCACCTCAGTCCCCT...</td>\n",
       "      <td>3452462</td>\n",
       "      <td>3474434</td>\n",
       "      <td>m64076_221119_202646/138085724/ccs</td>\n",
       "      <td>-812</td>\n",
       "      <td>21148</td>\n",
       "      <td>21960</td>\n",
       "      <td>msp</td>\n",
       "      <td>-188</td>\n",
       "      <td>-99</td>\n",
       "    </tr>\n",
       "    <tr>\n",
       "      <th>16631</th>\n",
       "      <td>chr1_3453274_+</td>\n",
       "      <td>chr1</td>\n",
       "      <td>3453274</td>\n",
       "      <td>+</td>\n",
       "      <td>TGTCCCCTCACTGGGCCTCAGTGACCCCACCGCACCTCAGTCCCCT...</td>\n",
       "      <td>3452462</td>\n",
       "      <td>3474434</td>\n",
       "      <td>m64076_221119_202646/138085724/ccs</td>\n",
       "      <td>-812</td>\n",
       "      <td>21148</td>\n",
       "      <td>21960</td>\n",
       "      <td>msp</td>\n",
       "      <td>-5</td>\n",
       "      <td>452</td>\n",
       "    </tr>\n",
       "  </tbody>\n",
       "</table>\n",
       "</div>"
      ],
      "text/plain": [
       "           motif_name chrom  centering_position strand  \\\n",
       "16603  chr1_3453274_+  chr1             3453274      +   \n",
       "16604  chr1_3453274_+  chr1             3453274      +   \n",
       "16605  chr1_3453274_+  chr1             3453274      +   \n",
       "16606  chr1_3453274_+  chr1             3453274      +   \n",
       "16607  chr1_3453274_+  chr1             3453274      +   \n",
       "16608  chr1_3453274_+  chr1             3453274      +   \n",
       "16609  chr1_3453274_+  chr1             3453274      +   \n",
       "16610  chr1_3453274_+  chr1             3453274      +   \n",
       "16611  chr1_3453274_+  chr1             3453274      +   \n",
       "16612  chr1_3453274_+  chr1             3453274      +   \n",
       "16613  chr1_3453274_+  chr1             3453274      +   \n",
       "16614  chr1_3453274_+  chr1             3453274      +   \n",
       "16615  chr1_3453274_+  chr1             3453274      +   \n",
       "16616  chr1_3453274_+  chr1             3453274      +   \n",
       "16617  chr1_3453274_+  chr1             3453274      +   \n",
       "16618  chr1_3453274_+  chr1             3453274      +   \n",
       "16619  chr1_3453274_+  chr1             3453274      +   \n",
       "16620  chr1_3453274_+  chr1             3453274      +   \n",
       "16621  chr1_3453274_+  chr1             3453274      +   \n",
       "16622  chr1_3453274_+  chr1             3453274      +   \n",
       "16623  chr1_3453274_+  chr1             3453274      +   \n",
       "16624  chr1_3453274_+  chr1             3453274      +   \n",
       "16625  chr1_3453274_+  chr1             3453274      +   \n",
       "16626  chr1_3453274_+  chr1             3453274      +   \n",
       "16627  chr1_3453274_+  chr1             3453274      +   \n",
       "16628  chr1_3453274_+  chr1             3453274      +   \n",
       "16630  chr1_3453274_+  chr1             3453274      +   \n",
       "16631  chr1_3453274_+  chr1             3453274      +   \n",
       "\n",
       "                                         subset_sequence  reference_start  \\\n",
       "16603  TGTCCCCTCACTGGGCCTCAGTGACCCCACCGCACCTCAGTCCCCT...          3452462   \n",
       "16604  TGTCCCCTCACTGGGCCTCAGTGACCCCACCGCACCTCAGTCCCCT...          3452462   \n",
       "16605  TGTCCCCTCACTGGGCCTCAGTGACCCCACCGCACCTCAGTCCCCT...          3452462   \n",
       "16606  TGTCCCCTCACTGGGCCTCAGTGACCCCACCGCACCTCAGTCCCCT...          3452462   \n",
       "16607  TGTCCCCTCACTGGGCCTCAGTGACCCCACCGCACCTCAGTCCCCT...          3452462   \n",
       "16608  TGTCCCCTCACTGGGCCTCAGTGACCCCACCGCACCTCAGTCCCCT...          3452462   \n",
       "16609  TGTCCCCTCACTGGGCCTCAGTGACCCCACCGCACCTCAGTCCCCT...          3452462   \n",
       "16610  TGTCCCCTCACTGGGCCTCAGTGACCCCACCGCACCTCAGTCCCCT...          3452462   \n",
       "16611  TGTCCCCTCACTGGGCCTCAGTGACCCCACCGCACCTCAGTCCCCT...          3452462   \n",
       "16612  TGTCCCCTCACTGGGCCTCAGTGACCCCACCGCACCTCAGTCCCCT...          3452462   \n",
       "16613  TGTCCCCTCACTGGGCCTCAGTGACCCCACCGCACCTCAGTCCCCT...          3452462   \n",
       "16614  TGTCCCCTCACTGGGCCTCAGTGACCCCACCGCACCTCAGTCCCCT...          3452462   \n",
       "16615  TGTCCCCTCACTGGGCCTCAGTGACCCCACCGCACCTCAGTCCCCT...          3452462   \n",
       "16616  TGTCCCCTCACTGGGCCTCAGTGACCCCACCGCACCTCAGTCCCCT...          3452462   \n",
       "16617  TGTCCCCTCACTGGGCCTCAGTGACCCCACCGCACCTCAGTCCCCT...          3452462   \n",
       "16618  TGTCCCCTCACTGGGCCTCAGTGACCCCACCGCACCTCAGTCCCCT...          3452462   \n",
       "16619  TGTCCCCTCACTGGGCCTCAGTGACCCCACCGCACCTCAGTCCCCT...          3452462   \n",
       "16620  TGTCCCCTCACTGGGCCTCAGTGACCCCACCGCACCTCAGTCCCCT...          3452462   \n",
       "16621  TGTCCCCTCACTGGGCCTCAGTGACCCCACCGCACCTCAGTCCCCT...          3452462   \n",
       "16622  TGTCCCCTCACTGGGCCTCAGTGACCCCACCGCACCTCAGTCCCCT...          3452462   \n",
       "16623  TGTCCCCTCACTGGGCCTCAGTGACCCCACCGCACCTCAGTCCCCT...          3452462   \n",
       "16624  TGTCCCCTCACTGGGCCTCAGTGACCCCACCGCACCTCAGTCCCCT...          3452462   \n",
       "16625  TGTCCCCTCACTGGGCCTCAGTGACCCCACCGCACCTCAGTCCCCT...          3452462   \n",
       "16626  TGTCCCCTCACTGGGCCTCAGTGACCCCACCGCACCTCAGTCCCCT...          3452462   \n",
       "16627  TGTCCCCTCACTGGGCCTCAGTGACCCCACCGCACCTCAGTCCCCT...          3452462   \n",
       "16628  TGTCCCCTCACTGGGCCTCAGTGACCCCACCGCACCTCAGTCCCCT...          3452462   \n",
       "16630  TGTCCCCTCACTGGGCCTCAGTGACCCCACCGCACCTCAGTCCCCT...          3452462   \n",
       "16631  TGTCCCCTCACTGGGCCTCAGTGACCCCACCGCACCTCAGTCCCCT...          3452462   \n",
       "\n",
       "       reference_end                          query_name  \\\n",
       "16603        3474434  m64076_221119_202646/138085724/ccs   \n",
       "16604        3474434  m64076_221119_202646/138085724/ccs   \n",
       "16605        3474434  m64076_221119_202646/138085724/ccs   \n",
       "16606        3474434  m64076_221119_202646/138085724/ccs   \n",
       "16607        3474434  m64076_221119_202646/138085724/ccs   \n",
       "16608        3474434  m64076_221119_202646/138085724/ccs   \n",
       "16609        3474434  m64076_221119_202646/138085724/ccs   \n",
       "16610        3474434  m64076_221119_202646/138085724/ccs   \n",
       "16611        3474434  m64076_221119_202646/138085724/ccs   \n",
       "16612        3474434  m64076_221119_202646/138085724/ccs   \n",
       "16613        3474434  m64076_221119_202646/138085724/ccs   \n",
       "16614        3474434  m64076_221119_202646/138085724/ccs   \n",
       "16615        3474434  m64076_221119_202646/138085724/ccs   \n",
       "16616        3474434  m64076_221119_202646/138085724/ccs   \n",
       "16617        3474434  m64076_221119_202646/138085724/ccs   \n",
       "16618        3474434  m64076_221119_202646/138085724/ccs   \n",
       "16619        3474434  m64076_221119_202646/138085724/ccs   \n",
       "16620        3474434  m64076_221119_202646/138085724/ccs   \n",
       "16621        3474434  m64076_221119_202646/138085724/ccs   \n",
       "16622        3474434  m64076_221119_202646/138085724/ccs   \n",
       "16623        3474434  m64076_221119_202646/138085724/ccs   \n",
       "16624        3474434  m64076_221119_202646/138085724/ccs   \n",
       "16625        3474434  m64076_221119_202646/138085724/ccs   \n",
       "16626        3474434  m64076_221119_202646/138085724/ccs   \n",
       "16627        3474434  m64076_221119_202646/138085724/ccs   \n",
       "16628        3474434  m64076_221119_202646/138085724/ccs   \n",
       "16630        3474434  m64076_221119_202646/138085724/ccs   \n",
       "16631        3474434  m64076_221119_202646/138085724/ccs   \n",
       "\n",
       "       centered_query_start  centered_query_end  query_length  \\\n",
       "16603                  -812               21148         21960   \n",
       "16604                  -812               21148         21960   \n",
       "16605                  -812               21148         21960   \n",
       "16606                  -812               21148         21960   \n",
       "16607                  -812               21148         21960   \n",
       "16608                  -812               21148         21960   \n",
       "16609                  -812               21148         21960   \n",
       "16610                  -812               21148         21960   \n",
       "16611                  -812               21148         21960   \n",
       "16612                  -812               21148         21960   \n",
       "16613                  -812               21148         21960   \n",
       "16614                  -812               21148         21960   \n",
       "16615                  -812               21148         21960   \n",
       "16616                  -812               21148         21960   \n",
       "16617                  -812               21148         21960   \n",
       "16618                  -812               21148         21960   \n",
       "16619                  -812               21148         21960   \n",
       "16620                  -812               21148         21960   \n",
       "16621                  -812               21148         21960   \n",
       "16622                  -812               21148         21960   \n",
       "16623                  -812               21148         21960   \n",
       "16624                  -812               21148         21960   \n",
       "16625                  -812               21148         21960   \n",
       "16626                  -812               21148         21960   \n",
       "16627                  -812               21148         21960   \n",
       "16628                  -812               21148         21960   \n",
       "16630                  -812               21148         21960   \n",
       "16631                  -812               21148         21960   \n",
       "\n",
       "      centered_position_type  centered_start  centered_end  \n",
       "16603                    m6a            -100           -99  \n",
       "16604                    m6a              -5            -4  \n",
       "16605                    m6a              -2            -1  \n",
       "16606                    m6a               5             6  \n",
       "16607                    m6a               8             9  \n",
       "16608                    m6a              12            13  \n",
       "16609                    m6a              13            14  \n",
       "16610                    m6a              15            16  \n",
       "16611                    m6a              16            17  \n",
       "16612                    m6a              19            20  \n",
       "16613                    m6a              21            22  \n",
       "16614                    m6a              23            24  \n",
       "16615                    m6a              26            27  \n",
       "16616                    m6a              31            32  \n",
       "16617                    m6a              34            35  \n",
       "16618                    m6a              38            39  \n",
       "16619                    m6a              45            46  \n",
       "16620                    m6a              47            48  \n",
       "16621                    m6a              52            53  \n",
       "16622                    m6a              57            58  \n",
       "16623                    m6a              61            62  \n",
       "16624                    m6a              65            66  \n",
       "16625                    m6a              67            68  \n",
       "16626                    m6a              74            75  \n",
       "16627                    m6a              88            89  \n",
       "16628                    m6a              94            95  \n",
       "16630                    msp            -188           -99  \n",
       "16631                    msp              -5           452  "
      ]
     },
     "execution_count": 44,
     "metadata": {},
     "output_type": "execute_result"
    }
   ],
   "source": [
    "df[(df[\"query_name\"] == \"m64076_221119_202646/138085724/ccs\")]"
   ]
  },
  {
   "cell_type": "markdown",
   "metadata": {},
   "source": [
    "#### mask MSP's (current code)"
   ]
  },
  {
   "cell_type": "markdown",
   "metadata": {
    "heading_collapsed": true
   },
   "source": [
    "##### positive data (merged)"
   ]
  },
  {
   "cell_type": "code",
   "execution_count": 58,
   "metadata": {
    "hidden": true
   },
   "outputs": [
    {
     "name": "stdout",
     "output_type": "stream",
     "text": [
      "MSP's with a motif: 568,184\n",
      "Total observations from motifs within an MSP: 23,097,432\n"
     ]
    }
   ],
   "source": [
    "# mask of MSP's containing a motif\n",
    "motif_len = 35\n",
    "msp_mask = (df[\"centered_position_type\"] == \"msp\") & (df[\"centered_start\"] <= 0) & (df[\"centered_end\"] >= motif_len)\n",
    "print(\"MSP's with a motif: \" + \"{:,}\".format(msp_mask.sum()))\n",
    "msp_groups = [(row[\"motif_name\"], row[\"query_name\"]) for idx, row in df[msp_mask].iterrows()]\n",
    "\n",
    "# filter for rows with motifs within an MSP (gets both MSP's & m6a's)\n",
    "df = df[df[[\"motif_name\", \"query_name\"]].apply(tuple, 1).isin(msp_groups)]\n",
    "print(\"Total observations from motifs within an MSP: \" + \"{:,}\".format(df.shape[0]))"
   ]
  },
  {
   "cell_type": "code",
   "execution_count": 59,
   "metadata": {
    "hidden": true
   },
   "outputs": [
    {
     "name": "stdout",
     "output_type": "stream",
     "text": [
      "Merged df shape w/ msp_size: 23,097,577\n"
     ]
    }
   ],
   "source": [
    "# df with msp sizes\n",
    "df_msp = df.loc[msp_mask, [\"motif_name\", \"query_name\", \"centered_end\", \"centered_start\"]]\n",
    "df_msp[\"msp_size\"] = df_msp[\"centered_end\"] - df_msp[\"centered_start\"]\n",
    "\n",
    "# add msp size corresponding to each region\n",
    "# match msp back to it's motif & fiber\n",
    "df = df.merge(df_msp[[\"motif_name\", \"query_name\", \"msp_size\"]], on=[\"motif_name\", \"query_name\"])\n",
    "print(\"Merged df shape w/ msp_size: \" + \"{:,}\".format(df.shape[0]))"
   ]
  },
  {
   "cell_type": "code",
   "execution_count": 60,
   "metadata": {
    "hidden": true
   },
   "outputs": [
    {
     "name": "stdout",
     "output_type": "stream",
     "text": [
      "Total m6a observations: 22,525,795\n",
      "Total m6a's within motif & 40 bp flank: 15,132,411\n"
     ]
    }
   ],
   "source": [
    "# remove msp rows (already have msp size)\n",
    "df = df[df[\"centered_position_type\"] == \"m6a\"]\n",
    "print(\"Total m6a observations: \" + \"{:,}\".format(df.shape[0]))\n",
    "\n",
    "# filter for m6a's within 40 bp range\n",
    "m6a_range_mask = (df[\"centered_start\"] >= -40) & (df[\"centered_end\"] <= 75)\n",
    "print(\"Total m6a's within motif & 40 bp flank: \" + \"{:,}\".format(m6a_range_mask.sum()))\n",
    "# apply mask\n",
    "df = df[m6a_range_mask]"
   ]
  },
  {
   "cell_type": "code",
   "execution_count": 61,
   "metadata": {
    "hidden": true
   },
   "outputs": [
    {
     "name": "stdout",
     "output_type": "stream",
     "text": [
      "Unique motif-sequence groups: 568,182\n"
     ]
    }
   ],
   "source": [
    "# group by motif & query name\n",
    "grouping_cols = [\"motif_name\", \"query_name\"]\n",
    "df_grouped = df.groupby(grouping_cols)\n",
    "\n",
    "# get group names (keys)\n",
    "group_names = list(df_grouped.groups.keys())\n",
    "print(\"Unique motif-sequence groups: \" + \"{:,}\".format(len(group_names)))"
   ]
  },
  {
   "cell_type": "code",
   "execution_count": null,
   "metadata": {
    "hidden": true
   },
   "outputs": [],
   "source": []
  },
  {
   "cell_type": "markdown",
   "metadata": {
    "heading_collapsed": true
   },
   "source": [
    "##### positive data (L)"
   ]
  },
  {
   "cell_type": "code",
   "execution_count": 13,
   "metadata": {
    "hidden": true
   },
   "outputs": [
    {
     "name": "stdout",
     "output_type": "stream",
     "text": [
      "MSP's with a motif: 238,348\n",
      "Total observations from motifs within an MSP: 9,735,406\n"
     ]
    }
   ],
   "source": [
    "# mask of MSP's containing a motif\n",
    "motif_len = 35\n",
    "msp_mask = (df[\"centered_position_type\"] == \"msp\") & (df[\"centered_start\"] <= 0) & (df[\"centered_end\"] >= motif_len)\n",
    "print(\"MSP's with a motif: \" + \"{:,}\".format(msp_mask.sum()))\n",
    "msp_groups = [(row[\"motif_name\"], row[\"query_name\"]) for idx, row in df[msp_mask].iterrows()]\n",
    "\n",
    "# filter for rows with motifs within an MSP (gets both MSP's & m6a's)\n",
    "df = df[df[[\"motif_name\", \"query_name\"]].apply(tuple, 1).isin(msp_groups)]\n",
    "print(\"Total observations from motifs within an MSP: \" + \"{:,}\".format(df.shape[0]))"
   ]
  },
  {
   "cell_type": "code",
   "execution_count": 15,
   "metadata": {
    "hidden": true
   },
   "outputs": [
    {
     "name": "stdout",
     "output_type": "stream",
     "text": [
      "Merged df shape w/ msp_size: 9,735,406\n"
     ]
    }
   ],
   "source": [
    "# df with msp sizes\n",
    "df_msp = df.loc[msp_mask, [\"motif_name\", \"query_name\", \"centered_end\", \"centered_start\"]]\n",
    "df_msp[\"msp_size\"] = df_msp[\"centered_end\"] - df_msp[\"centered_start\"]\n",
    "\n",
    "# add msp size corresponding to each region\n",
    "# match msp back to it's motif & fiber\n",
    "df = df.merge(df_msp[[\"motif_name\", \"query_name\", \"msp_size\"]], on=[\"motif_name\", \"query_name\"])\n",
    "print(\"Merged df shape w/ msp_size: \" + \"{:,}\".format(df.shape[0]))"
   ]
  },
  {
   "cell_type": "code",
   "execution_count": 16,
   "metadata": {
    "hidden": true
   },
   "outputs": [
    {
     "name": "stdout",
     "output_type": "stream",
     "text": [
      "Total m6a observations: 9,495,739\n",
      "Total m6a's within motif & 40 bp flank: 6,388,435\n"
     ]
    }
   ],
   "source": [
    "# remove msp rows (already have msp size)\n",
    "df = df[df[\"centered_position_type\"] == \"m6a\"]\n",
    "print(\"Total m6a observations: \" + \"{:,}\".format(df.shape[0]))\n",
    "\n",
    "# filter for m6a's within 40 bp range\n",
    "m6a_range_mask = (df[\"centered_start\"] >= -40) & (df[\"centered_end\"] <= 75)\n",
    "print(\"Total m6a's within motif & 40 bp flank: \" + \"{:,}\".format(m6a_range_mask.sum()))\n",
    "# apply mask\n",
    "df = df[m6a_range_mask]"
   ]
  },
  {
   "cell_type": "code",
   "execution_count": 19,
   "metadata": {
    "hidden": true
   },
   "outputs": [
    {
     "name": "stdout",
     "output_type": "stream",
     "text": [
      "Unique motif-sequence groups: 238,348\n"
     ]
    }
   ],
   "source": [
    "# group by motif & query name\n",
    "grouping_cols = [\"motif_name\", \"query_name\"]\n",
    "df_grouped = df.groupby(grouping_cols)\n",
    "\n",
    "# get group names (keys)\n",
    "group_names = list(df_grouped.groups.keys())\n",
    "print(\"Unique motif-sequence groups: \" + \"{:,}\".format(len(group_names)))"
   ]
  },
  {
   "cell_type": "markdown",
   "metadata": {
    "heading_collapsed": true
   },
   "source": [
    "##### negative data (merged)"
   ]
  },
  {
   "cell_type": "code",
   "execution_count": 74,
   "metadata": {
    "hidden": true
   },
   "outputs": [
    {
     "name": "stdout",
     "output_type": "stream",
     "text": [
      "MSP's with a motif: 217,575\n",
      "Total observations from motifs within an MSP: 5,480,274\n"
     ]
    }
   ],
   "source": [
    "# mask of MSP's containing a motif\n",
    "motif_len = 35\n",
    "msp_mask = (df[\"centered_position_type\"] == \"msp\") & (df[\"centered_start\"] <= 0) & (df[\"centered_end\"] >= motif_len)\n",
    "print(\"MSP's with a motif: \" + \"{:,}\".format(msp_mask.sum()))\n",
    "msp_groups = [(row[\"motif_name\"], row[\"query_name\"]) for idx, row in df[msp_mask].iterrows()]\n",
    "\n",
    "# filter for rows with motifs within an MSP (gets both MSP's & m6a's)\n",
    "df = df[df[[\"motif_name\", \"query_name\"]].apply(tuple, 1).isin(msp_groups)]\n",
    "print(\"Total observations from motifs within an MSP: \" + \"{:,}\".format(df.shape[0]))"
   ]
  },
  {
   "cell_type": "code",
   "execution_count": 75,
   "metadata": {
    "hidden": true
   },
   "outputs": [
    {
     "name": "stdout",
     "output_type": "stream",
     "text": [
      "Merged df shape w/ msp_size: 5,481,244\n"
     ]
    }
   ],
   "source": [
    "# df with msp sizes\n",
    "df_msp = df.loc[msp_mask, [\"motif_name\", \"query_name\", \"centered_end\", \"centered_start\"]]\n",
    "df_msp[\"msp_size\"] = df_msp[\"centered_end\"] - df_msp[\"centered_start\"]\n",
    "\n",
    "# add msp size corresponding to each region\n",
    "# match msp back to it's motif & fiber\n",
    "df = df.merge(df_msp[[\"motif_name\", \"query_name\", \"msp_size\"]], on=[\"motif_name\", \"query_name\"])\n",
    "print(\"Merged df shape w/ msp_size: \" + \"{:,}\".format(df.shape[0]))"
   ]
  },
  {
   "cell_type": "code",
   "execution_count": 76,
   "metadata": {
    "hidden": true
   },
   "outputs": [
    {
     "name": "stdout",
     "output_type": "stream",
     "text": [
      "Total m6a observations: 5,256,334\n",
      "Total m6a's within motif & 40 bp flank: 4,323,830\n"
     ]
    }
   ],
   "source": [
    "# remove msp rows (already have msp size)\n",
    "df = df[df[\"centered_position_type\"] == \"m6a\"]\n",
    "print(\"Total m6a observations: \" + \"{:,}\".format(df.shape[0]))\n",
    "\n",
    "# filter for m6a's within 40 bp range\n",
    "m6a_range_mask = (df[\"centered_start\"] >= -40) & (df[\"centered_end\"] <= 75)\n",
    "print(\"Total m6a's within motif & 40 bp flank: \" + \"{:,}\".format(m6a_range_mask.sum()))\n",
    "# apply mask\n",
    "df = df[m6a_range_mask]"
   ]
  },
  {
   "cell_type": "code",
   "execution_count": 77,
   "metadata": {
    "hidden": true
   },
   "outputs": [
    {
     "name": "stdout",
     "output_type": "stream",
     "text": [
      "Unique motif-sequence groups: 217,557\n"
     ]
    }
   ],
   "source": [
    "# group by motif & query name\n",
    "grouping_cols = [\"motif_name\", \"query_name\"]\n",
    "df_grouped = df.groupby(grouping_cols)\n",
    "\n",
    "# get group names (keys)\n",
    "group_names = list(df_grouped.groups.keys())\n",
    "print(\"Unique motif-sequence groups: \" + \"{:,}\".format(len(group_names)))"
   ]
  },
  {
   "cell_type": "code",
   "execution_count": null,
   "metadata": {
    "hidden": true
   },
   "outputs": [],
   "source": []
  },
  {
   "cell_type": "markdown",
   "metadata": {
    "heading_collapsed": true
   },
   "source": [
    "##### negative data (L)"
   ]
  },
  {
   "cell_type": "code",
   "execution_count": 78,
   "metadata": {
    "hidden": true
   },
   "outputs": [],
   "source": [
    "def filt_msps(df, motif_len=35):\n",
    "    '''Filters for motif/query instances with a motif within \n",
    "    a MSP and adds MSP length to each motif/query group.'''\n",
    "    \n",
    "    # position of MSPs containing a motif\n",
    "    msp_mask = (df[\"centered_position_type\"] == \"msp\") & (df[\"centered_start\"] <= 0) & (df[\"centered_end\"] >= motif_len)\n",
    "    print(\"MSP's with a motif: \" + \"{:,}\".format(msp_mask.sum()))\n",
    "    msp_groups = [(row[\"motif_name\"], row[\"query_name\"]) for idx, row in df[msp_mask].iterrows()]\n",
    "    \n",
    "    # filter for rows with motifs within an MSP (gets both MSP's & m6a's)\n",
    "    df = df[df[[\"motif_name\", \"query_name\"]].apply(tuple, 1).isin(msp_groups)]\n",
    "    print(\"Total observations from motifs within an MSP: \" + \"{:,}\".format(df.shape[0]))\n",
    "    \n",
    "    # add MSP size corresponding to each group\n",
    "    # df with msp sizes\n",
    "    df_msp = df.loc[msp_mask, [\"motif_name\", \"query_name\", \"centered_end\", \"centered_start\"]]\n",
    "    df_msp[\"msp_size\"] = df_msp[\"centered_end\"] - df_msp[\"centered_start\"]\n",
    "\n",
    "    # match msp back to it's motif & fiber\n",
    "    df = df.merge(df_msp[[\"motif_name\", \"query_name\", \"msp_size\"]], on=[\"motif_name\", \"query_name\"])\n",
    "    print(\"Merged df shape w/ msp_size: \" + \"{:,}\".format(df.shape[0]))\n",
    "    return df"
   ]
  },
  {
   "cell_type": "code",
   "execution_count": 79,
   "metadata": {
    "hidden": true
   },
   "outputs": [
    {
     "name": "stdout",
     "output_type": "stream",
     "text": [
      "MSP's with a motif: 65,952\n",
      "Total observations from motifs within an MSP: 1,663,294\n",
      "Merged df shape w/ msp_size: 1,663,752\n"
     ]
    }
   ],
   "source": [
    "# filter motif/query groups for those with an MSP containing a motif & add MSP size.\n",
    "df = filt_msps(df)"
   ]
  },
  {
   "cell_type": "code",
   "execution_count": 80,
   "metadata": {
    "hidden": true
   },
   "outputs": [
    {
     "name": "stdout",
     "output_type": "stream",
     "text": [
      "Total m6a observations: 1,595,563\n",
      "Total m6a's within 40 bp flank of motif: 1,325,857\n"
     ]
    }
   ],
   "source": [
    "# remove MSP rows (already have msp size)\n",
    "df = df[df[\"centered_position_type\"] == \"m6a\"]\n",
    "print(\"Total m6a observations: \" + \"{:,}\".format(df.shape[0]))\n",
    "\n",
    "# filter for m6a's within 40 bp range\n",
    "m6a_range_mask = (df[\"centered_start\"] >= -40) & (df[\"centered_end\"] <= 75)\n",
    "print(\"Total m6a's within 40 bp flank of motif: \" + \"{:,}\".format(m6a_range_mask.sum()))\n",
    "# apply mask\n",
    "df = df[m6a_range_mask]"
   ]
  },
  {
   "cell_type": "code",
   "execution_count": 81,
   "metadata": {
    "hidden": true,
    "scrolled": true
   },
   "outputs": [
    {
     "name": "stdout",
     "output_type": "stream",
     "text": [
      "Unique motif-sequence groups: 65,943\n"
     ]
    }
   ],
   "source": [
    "# group by motif & query name\n",
    "grouping_cols = [\"motif_name\", \"query_name\"]\n",
    "df_grouped = df.groupby(grouping_cols)\n",
    "\n",
    "# get group names (keys)\n",
    "group_names = list(df_grouped.groups.keys())\n",
    "print(\"Unique motif-sequence groups: \" + \"{:,}\".format(len(group_names)))"
   ]
  },
  {
   "cell_type": "markdown",
   "metadata": {},
   "source": [
    "### extract features by motif-query group"
   ]
  },
  {
   "cell_type": "markdown",
   "metadata": {},
   "source": [
    "potential features\n",
    "* [x] read length [query_length]\n",
    "* [x] 3-mer k-mer count within canonical motif (exclude k-mers without AT)\n",
    "* [x] m6a count within each k-mer (m6a/total ATs)\n",
    "* [x] m6a count for: (motif, 40 bp flank left, 40 bp flank right)\n",
    "* [x] AT count for: (motif, flank left, flank right)\n",
    "* [x] proportion of bases that are AT per element (0-1)\n",
    "* [x] proportion of methylated ATs per element (motif, flank left, flank right) (0-1)\n",
    "> $$ m6a\\ prop = m6a\\ count / AT\\ count $$\n",
    "> &uarr; proportion of ATs methylated (m6a count/AT count) or proportion of methylated ATs over the region (m6a count/region length)?\n",
    "* [x] total methylation across the read (% of ATs that were methylated across read)\n",
    "* [x] MSP size\n",
    "* [ ] do a run length encoding of motif in AT space"
   ]
  },
  {
   "cell_type": "code",
   "execution_count": 87,
   "metadata": {},
   "outputs": [],
   "source": [
    "def get_motif_seq(subset_sequence):\n",
    "    '''Get motif sequence from subset_sequence.'''\n",
    "    center_idx = 100\n",
    "    motif_len = 35\n",
    "    motif_seq = subset_sequence[center_idx:(center_idx+motif_len)]\n",
    "    return motif_seq"
   ]
  },
  {
   "cell_type": "code",
   "execution_count": 83,
   "metadata": {},
   "outputs": [],
   "source": [
    "def get_kmers(seq, k):\n",
    "    '''Decompose the input sequence (str) into k-mers (str).'''\n",
    "    num_kmers = len(seq) - k + 1\n",
    "    seqs = [seq[i:i+k] for i in range(num_kmers)]\n",
    "    return seqs"
   ]
  },
  {
   "cell_type": "code",
   "execution_count": 84,
   "metadata": {},
   "outputs": [],
   "source": [
    "def agg_features(x, feature_cols):\n",
    "    '''Collects features. Returns a df with feature info per unique group.'''\n",
    "    feature_cols = [\"msp_size\",\n",
    "                    \"left_m6a_count\", \"right_m6a_count\", \"motif_m6a_count\", # m6a count\n",
    "                    \"left_AT_count\", \"right_AT_count\", \"motif_AT_count\", # AT count\n",
    "                    \"left_AT_prop\", \"right_AT_prop\", \"motif_AT_prop\", # proportion of bases that are AT\n",
    "                    \"left_m6a_prop\", \"right_m6a_prop\", \"motif_m6a_prop\", # proportion of ATs that are methylated\n",
    "                    \"total_m6a_prop\", # proportion of ATs that are methylated in subseq_sequence\n",
    "                   ] + feature_cols\n",
    "    \n",
    "    # dict to hold info\n",
    "    d = dict((col, 0) for col in feature_cols)\n",
    "    \n",
    "    # msp size\n",
    "    d[feature_cols[0]] = x[\"msp_size\"].unique()[0]\n",
    "    \n",
    "    # m6a count flanking left, right, motif\n",
    "    d[feature_cols[1]] = (x[\"centered_end\"] < 0).sum()\n",
    "    d[feature_cols[2]] = (x[\"centered_start\"] >= 35).sum()\n",
    "    d[feature_cols[3]] = ((x[\"centered_start\"] >= 0) & (x[\"centered_end\"] <= 35)).sum()\n",
    "    \n",
    "    # sequences\n",
    "    center = 100\n",
    "    motif_len = 35\n",
    "    subseq = x[\"subset_sequence\"].unique()[0]\n",
    "    subseq_motif = subseq[center:(center+motif_len)]\n",
    "    # length of flank in bp\n",
    "    flank_len = 40\n",
    "    # flank left & flank_right\n",
    "    subseq_l = subseq[center-flank_len:center]\n",
    "    subseq_r = subseq[center+motif_len:center+motif_len+flank_len]\n",
    "    \n",
    "    # AT count\n",
    "    d[feature_cols[4]] = (subseq_l.count(\"A\") + subseq_l.count(\"T\"))\n",
    "    d[feature_cols[5]] = (subseq_r.count(\"A\") + subseq_r.count(\"T\"))\n",
    "    d[feature_cols[6]] = (subseq_motif.count(\"A\") + subseq_motif.count(\"T\"))\n",
    "    \n",
    "    # proportion of bases that are AT\n",
    "    d[feature_cols[7]] = (subseq_l.count(\"A\") + subseq_l.count(\"T\"))/flank_len\n",
    "    d[feature_cols[8]] = (subseq_r.count(\"A\") + subseq_r.count(\"T\"))/flank_len\n",
    "    d[feature_cols[9]] = (subseq_motif.count(\"A\") + subseq_motif.count(\"T\"))/motif_len\n",
    "    \n",
    "    # proportion of methylated ATs (m6a_count/AT_count)\n",
    "    d[feature_cols[10]] = d[feature_cols[1]]/d[feature_cols[4]]\n",
    "    d[feature_cols[11]] = d[feature_cols[2]]/d[feature_cols[5]]\n",
    "    d[feature_cols[12]] = d[feature_cols[3]]/d[feature_cols[6]]\n",
    "    d[feature_cols[13]] = (x[\"centered_position_type\"] == \"m6a\").sum()/(subseq.count(\"A\") + subseq.count(\"T\"))\n",
    "    \n",
    "    \n",
    "    #----- k-mer info -----#\n",
    "    \n",
    "    # m6a bool\n",
    "    m6a_bool = x[(x[\"centered_start\"] >= 0) & (x[\"centered_end\"] <= 35)][\"centered_start\"].values\n",
    "    m6a_bool = [1 if (i in m6a_bool) else 0 for i in range(0, 35)]\n",
    "    \n",
    "    # decompose motif seq into k-mers\n",
    "    motif_kmers = get_kmers(subseq_motif, 3)\n",
    "    m6a_kmers = get_kmers(m6a_bool, 3)\n",
    "    \n",
    "    # make bool of ATs in motif seq\n",
    "    motifis_AT = [(\"A\" in kmer or \"T\" in kmer) for kmer in motif_kmers]\n",
    "    \n",
    "    # drop motif instances without an AT\n",
    "    motif_kmers = list(np.array(motif_kmers)[motifis_AT])\n",
    "    m6a_kmers = list(np.array(m6a_kmers)[motifis_AT])\n",
    "    \n",
    "    # make kmer_dict\n",
    "    kmer_info = defaultdict(lambda: defaultdict(int))\n",
    "    # collect count & m6a count per k-mer\n",
    "    for kmer, m6as in zip(motif_kmers, m6a_kmers):\n",
    "        kmer_info[kmer][\"count\"] += 1\n",
    "        kmer_info[kmer][\"m6a\"] += sum(m6as)\n",
    "    \n",
    "    # get kmer_m6a proportion\n",
    "    for kmer, v in kmer_info.items():\n",
    "        d[kmer+\"_count\"] = v[\"count\"]\n",
    "        d[kmer+\"_m6a_prop\"] = v[\"m6a\"]/((Counter(kmer)[\"T\"] + Counter(kmer)[\"A\"]) * v[\"count\"])\n",
    "    \n",
    "    return pd.Series(d, index=list(d.keys()))"
   ]
  },
  {
   "cell_type": "markdown",
   "metadata": {
    "heading_collapsed": true
   },
   "source": [
    "##### positive data (merged)"
   ]
  },
  {
   "cell_type": "code",
   "execution_count": 62,
   "metadata": {
    "hidden": true
   },
   "outputs": [
    {
     "name": "stdout",
     "output_type": "stream",
     "text": [
      "Total rows: 15,132,411\n",
      "Unique motif-sequence groups: 568,182\n",
      "Unique motifs: 15,761\n",
      "Unique query_names: 446,256\n"
     ]
    }
   ],
   "source": [
    "print(\"Total rows: \" + \"{:,}\".format(df.shape[0]))\n",
    "print(\"Unique motif-sequence groups: \" + \"{:,}\".format(len(group_names)))\n",
    "print(\"Unique motifs: \" + \"{:,}\".format(df[\"motif_name\"].nunique()))\n",
    "print(\"Unique query_names: \" + \"{:,}\".format(df[\"query_name\"].nunique()))"
   ]
  },
  {
   "cell_type": "code",
   "execution_count": 63,
   "metadata": {
    "hidden": true
   },
   "outputs": [
    {
     "name": "stdout",
     "output_type": "stream",
     "text": [
      "CPU times: user 1min 9s, sys: 14.2 s, total: 1min 23s\n",
      "Wall time: 1min 23s\n"
     ]
    }
   ],
   "source": [
    "%%time\n",
    "\n",
    "# get all possible k-mers\n",
    "all_kmers = []\n",
    "for seq in df[\"subset_sequence\"]:\n",
    "    all_kmers.extend(get_kmers(get_motif_seq(seq), 3))\n",
    "\n",
    "# sorted unique k-mers containing AT\n",
    "all_kmers = [*set(all_kmers)]\n",
    "all_kmers = sorted([kmer for kmer in all_kmers if (\"T\" in kmer) or (\"A\" in kmer)])\n",
    "\n",
    "# make k-mer columns\n",
    "kmer_cols = list(itertools.chain(*[[kmer+\"_count\", kmer+\"_m6a_prop\"] for kmer in all_kmers]))"
   ]
  },
  {
   "cell_type": "code",
   "execution_count": 64,
   "metadata": {
    "hidden": true
   },
   "outputs": [
    {
     "name": "stderr",
     "output_type": "stream",
     "text": [
      "/tmp/ipykernel_60500/2521446196.py:45: RuntimeWarning: invalid value encountered in long_scalars\n",
      "  d[feature_cols[11]] = d[feature_cols[2]]/d[feature_cols[5]]\n"
     ]
    },
    {
     "name": "stdout",
     "output_type": "stream",
     "text": [
      "Total rows: 568,182\n",
      "Total columns: 128\n",
      "CPU times: user 16min 2s, sys: 9.84 s, total: 16min 12s\n",
      "Wall time: 16min 17s\n"
     ]
    }
   ],
   "source": [
    "%%time\n",
    "# aggregate features\n",
    "res = df.groupby(grouping_cols).apply(lambda x: agg_features(x, kmer_cols)).reset_index()\n",
    "# change col dtypes for memory\n",
    "res[res.columns.tolist()[2:]] = res[res.columns.tolist()[2:]].apply(pd.to_numeric, downcast=\"float\")\n",
    "print(\"Total rows: \" + \"{:,}\".format(res.shape[0]))\n",
    "print(\"Total columns: \" + \"{:,}\".format(res.shape[1]))"
   ]
  },
  {
   "cell_type": "code",
   "execution_count": 66,
   "metadata": {
    "hidden": true
   },
   "outputs": [
    {
     "data": {
      "text/html": [
       "<div>\n",
       "<style scoped>\n",
       "    .dataframe tbody tr th:only-of-type {\n",
       "        vertical-align: middle;\n",
       "    }\n",
       "\n",
       "    .dataframe tbody tr th {\n",
       "        vertical-align: top;\n",
       "    }\n",
       "\n",
       "    .dataframe thead th {\n",
       "        text-align: right;\n",
       "    }\n",
       "</style>\n",
       "<table border=\"1\" class=\"dataframe\">\n",
       "  <thead>\n",
       "    <tr style=\"text-align: right;\">\n",
       "      <th></th>\n",
       "      <th>motif_name</th>\n",
       "      <th>query_name</th>\n",
       "      <th>msp_size</th>\n",
       "      <th>left_m6a_count</th>\n",
       "      <th>right_m6a_count</th>\n",
       "      <th>motif_m6a_count</th>\n",
       "      <th>left_AT_count</th>\n",
       "      <th>right_AT_count</th>\n",
       "      <th>motif_AT_count</th>\n",
       "      <th>left_AT_prop</th>\n",
       "      <th>...</th>\n",
       "      <th>TGT_count</th>\n",
       "      <th>TGT_m6a_prop</th>\n",
       "      <th>TTA_count</th>\n",
       "      <th>TTA_m6a_prop</th>\n",
       "      <th>TTC_count</th>\n",
       "      <th>TTC_m6a_prop</th>\n",
       "      <th>TTG_count</th>\n",
       "      <th>TTG_m6a_prop</th>\n",
       "      <th>TTT_count</th>\n",
       "      <th>TTT_m6a_prop</th>\n",
       "    </tr>\n",
       "  </thead>\n",
       "  <tbody>\n",
       "    <tr>\n",
       "      <th>0</th>\n",
       "      <td>chr10_100046241_-</td>\n",
       "      <td>m54329U_210323_190418/105513905/ccs</td>\n",
       "      <td>174.0</td>\n",
       "      <td>13.0</td>\n",
       "      <td>10.0</td>\n",
       "      <td>0.0</td>\n",
       "      <td>21.0</td>\n",
       "      <td>16.0</td>\n",
       "      <td>11.0</td>\n",
       "      <td>0.525</td>\n",
       "      <td>...</td>\n",
       "      <td>0.0</td>\n",
       "      <td>0.0</td>\n",
       "      <td>0.0</td>\n",
       "      <td>0.0</td>\n",
       "      <td>0.0</td>\n",
       "      <td>0.0</td>\n",
       "      <td>0.0</td>\n",
       "      <td>0.0</td>\n",
       "      <td>0.0</td>\n",
       "      <td>0.0</td>\n",
       "    </tr>\n",
       "    <tr>\n",
       "      <th>1</th>\n",
       "      <td>chr10_100046241_-</td>\n",
       "      <td>m54329U_210323_190418/107414595/ccs</td>\n",
       "      <td>196.0</td>\n",
       "      <td>14.0</td>\n",
       "      <td>14.0</td>\n",
       "      <td>2.0</td>\n",
       "      <td>21.0</td>\n",
       "      <td>16.0</td>\n",
       "      <td>11.0</td>\n",
       "      <td>0.525</td>\n",
       "      <td>...</td>\n",
       "      <td>0.0</td>\n",
       "      <td>0.0</td>\n",
       "      <td>0.0</td>\n",
       "      <td>0.0</td>\n",
       "      <td>0.0</td>\n",
       "      <td>0.0</td>\n",
       "      <td>0.0</td>\n",
       "      <td>0.0</td>\n",
       "      <td>0.0</td>\n",
       "      <td>0.0</td>\n",
       "    </tr>\n",
       "    <tr>\n",
       "      <th>2</th>\n",
       "      <td>chr10_100046241_-</td>\n",
       "      <td>m54329U_210323_190418/117571949/ccs</td>\n",
       "      <td>155.0</td>\n",
       "      <td>15.0</td>\n",
       "      <td>9.0</td>\n",
       "      <td>2.0</td>\n",
       "      <td>21.0</td>\n",
       "      <td>17.0</td>\n",
       "      <td>11.0</td>\n",
       "      <td>0.525</td>\n",
       "      <td>...</td>\n",
       "      <td>0.0</td>\n",
       "      <td>0.0</td>\n",
       "      <td>0.0</td>\n",
       "      <td>0.0</td>\n",
       "      <td>0.0</td>\n",
       "      <td>0.0</td>\n",
       "      <td>0.0</td>\n",
       "      <td>0.0</td>\n",
       "      <td>0.0</td>\n",
       "      <td>0.0</td>\n",
       "    </tr>\n",
       "    <tr>\n",
       "      <th>3</th>\n",
       "      <td>chr10_100046241_-</td>\n",
       "      <td>m54329U_210323_190418/135595143/ccs</td>\n",
       "      <td>161.0</td>\n",
       "      <td>15.0</td>\n",
       "      <td>13.0</td>\n",
       "      <td>3.0</td>\n",
       "      <td>21.0</td>\n",
       "      <td>17.0</td>\n",
       "      <td>11.0</td>\n",
       "      <td>0.525</td>\n",
       "      <td>...</td>\n",
       "      <td>0.0</td>\n",
       "      <td>0.0</td>\n",
       "      <td>0.0</td>\n",
       "      <td>0.0</td>\n",
       "      <td>0.0</td>\n",
       "      <td>0.0</td>\n",
       "      <td>0.0</td>\n",
       "      <td>0.0</td>\n",
       "      <td>0.0</td>\n",
       "      <td>0.0</td>\n",
       "    </tr>\n",
       "    <tr>\n",
       "      <th>4</th>\n",
       "      <td>chr10_100046241_-</td>\n",
       "      <td>m54329U_210323_190418/152242932/ccs</td>\n",
       "      <td>98.0</td>\n",
       "      <td>11.0</td>\n",
       "      <td>14.0</td>\n",
       "      <td>10.0</td>\n",
       "      <td>21.0</td>\n",
       "      <td>17.0</td>\n",
       "      <td>11.0</td>\n",
       "      <td>0.525</td>\n",
       "      <td>...</td>\n",
       "      <td>0.0</td>\n",
       "      <td>0.0</td>\n",
       "      <td>0.0</td>\n",
       "      <td>0.0</td>\n",
       "      <td>0.0</td>\n",
       "      <td>0.0</td>\n",
       "      <td>0.0</td>\n",
       "      <td>0.0</td>\n",
       "      <td>0.0</td>\n",
       "      <td>0.0</td>\n",
       "    </tr>\n",
       "  </tbody>\n",
       "</table>\n",
       "<p>5 rows × 128 columns</p>\n",
       "</div>"
      ],
      "text/plain": [
       "          motif_name                           query_name  msp_size  \\\n",
       "0  chr10_100046241_-  m54329U_210323_190418/105513905/ccs     174.0   \n",
       "1  chr10_100046241_-  m54329U_210323_190418/107414595/ccs     196.0   \n",
       "2  chr10_100046241_-  m54329U_210323_190418/117571949/ccs     155.0   \n",
       "3  chr10_100046241_-  m54329U_210323_190418/135595143/ccs     161.0   \n",
       "4  chr10_100046241_-  m54329U_210323_190418/152242932/ccs      98.0   \n",
       "\n",
       "   left_m6a_count  right_m6a_count  motif_m6a_count  left_AT_count  \\\n",
       "0            13.0             10.0              0.0           21.0   \n",
       "1            14.0             14.0              2.0           21.0   \n",
       "2            15.0              9.0              2.0           21.0   \n",
       "3            15.0             13.0              3.0           21.0   \n",
       "4            11.0             14.0             10.0           21.0   \n",
       "\n",
       "   right_AT_count  motif_AT_count  left_AT_prop  ...  TGT_count  TGT_m6a_prop  \\\n",
       "0            16.0            11.0         0.525  ...        0.0           0.0   \n",
       "1            16.0            11.0         0.525  ...        0.0           0.0   \n",
       "2            17.0            11.0         0.525  ...        0.0           0.0   \n",
       "3            17.0            11.0         0.525  ...        0.0           0.0   \n",
       "4            17.0            11.0         0.525  ...        0.0           0.0   \n",
       "\n",
       "   TTA_count  TTA_m6a_prop  TTC_count  TTC_m6a_prop  TTG_count  TTG_m6a_prop  \\\n",
       "0        0.0           0.0        0.0           0.0        0.0           0.0   \n",
       "1        0.0           0.0        0.0           0.0        0.0           0.0   \n",
       "2        0.0           0.0        0.0           0.0        0.0           0.0   \n",
       "3        0.0           0.0        0.0           0.0        0.0           0.0   \n",
       "4        0.0           0.0        0.0           0.0        0.0           0.0   \n",
       "\n",
       "   TTT_count  TTT_m6a_prop  \n",
       "0        0.0           0.0  \n",
       "1        0.0           0.0  \n",
       "2        0.0           0.0  \n",
       "3        0.0           0.0  \n",
       "4        0.0           0.0  \n",
       "\n",
       "[5 rows x 128 columns]"
      ]
     },
     "execution_count": 66,
     "metadata": {},
     "output_type": "execute_result"
    }
   ],
   "source": [
    "res.head()"
   ]
  },
  {
   "cell_type": "code",
   "execution_count": null,
   "metadata": {
    "hidden": true
   },
   "outputs": [],
   "source": []
  },
  {
   "cell_type": "markdown",
   "metadata": {
    "heading_collapsed": true
   },
   "source": [
    "##### positive data (L)"
   ]
  },
  {
   "cell_type": "code",
   "execution_count": 21,
   "metadata": {
    "hidden": true
   },
   "outputs": [
    {
     "name": "stdout",
     "output_type": "stream",
     "text": [
      "Total rows: 6,388,435\n",
      "Unique motif-sequence groups: 238,348\n",
      "Unique motifs: 6,504\n",
      "Unique query_names: 223,211\n"
     ]
    }
   ],
   "source": [
    "print(\"Total rows: \" + \"{:,}\".format(df.shape[0]))\n",
    "print(\"Unique motif-sequence groups: \" + \"{:,}\".format(len(group_names)))\n",
    "print(\"Unique motifs: \" + \"{:,}\".format(df[\"motif_name\"].nunique()))\n",
    "print(\"Unique query_names: \" + \"{:,}\".format(df[\"query_name\"].nunique()))"
   ]
  },
  {
   "cell_type": "code",
   "execution_count": 22,
   "metadata": {
    "collapsed": true,
    "hidden": true
   },
   "outputs": [
    {
     "name": "stdout",
     "output_type": "stream",
     "text": [
      "0.7487905879922079\n"
     ]
    }
   ],
   "source": [
    "print(\"{:,}\".format(47836/6388435*100))"
   ]
  },
  {
   "cell_type": "code",
   "execution_count": 28,
   "metadata": {
    "hidden": true
   },
   "outputs": [
    {
     "name": "stdout",
     "output_type": "stream",
     "text": [
      "CPU times: user 28.9 s, sys: 5.43 s, total: 34.3 s\n",
      "Wall time: 34.4 s\n"
     ]
    }
   ],
   "source": [
    "%%time\n",
    "\n",
    "# get all possible k-mers\n",
    "all_kmers = []\n",
    "for seq in df[\"subset_sequence\"]:\n",
    "    all_kmers.extend(get_kmers(get_motif_seq(seq), 3))\n",
    "\n",
    "# sorted unique k-mers containing AT\n",
    "all_kmers = [*set(all_kmers)]\n",
    "all_kmers = sorted([kmer for kmer in all_kmers if (\"T\" in kmer) or (\"A\" in kmer)])\n",
    "\n",
    "# make k-mer columns\n",
    "kmer_cols = list(itertools.chain(*[[kmer+\"_count\", kmer+\"_m6a_prop\"] for kmer in all_kmers]))"
   ]
  },
  {
   "cell_type": "code",
   "execution_count": 29,
   "metadata": {
    "hidden": true
   },
   "outputs": [
    {
     "name": "stdout",
     "output_type": "stream",
     "text": [
      "Total rows: 238,348\n",
      "Total columns: 128\n",
      "CPU times: user 6min 47s, sys: 3.7 s, total: 6min 51s\n",
      "Wall time: 6min 53s\n"
     ]
    }
   ],
   "source": [
    "%%time\n",
    "# aggregate features\n",
    "res = df.groupby(grouping_cols).apply(lambda x: agg_features(x, kmer_cols)).reset_index()\n",
    "# change col dtypes for memory\n",
    "res[res.columns.tolist()[2:]] = res[res.columns.tolist()[2:]].apply(pd.to_numeric, downcast=\"float\")\n",
    "print(\"Total rows: \" + \"{:,}\".format(res.shape[0]))\n",
    "print(\"Total columns: \" + \"{:,}\".format(res.shape[1]))"
   ]
  },
  {
   "cell_type": "code",
   "execution_count": 31,
   "metadata": {
    "collapsed": true,
    "hidden": true
   },
   "outputs": [
    {
     "data": {
      "text/html": [
       "<div>\n",
       "<style scoped>\n",
       "    .dataframe tbody tr th:only-of-type {\n",
       "        vertical-align: middle;\n",
       "    }\n",
       "\n",
       "    .dataframe tbody tr th {\n",
       "        vertical-align: top;\n",
       "    }\n",
       "\n",
       "    .dataframe thead th {\n",
       "        text-align: right;\n",
       "    }\n",
       "</style>\n",
       "<table border=\"1\" class=\"dataframe\">\n",
       "  <thead>\n",
       "    <tr style=\"text-align: right;\">\n",
       "      <th></th>\n",
       "      <th>motif_name</th>\n",
       "      <th>query_name</th>\n",
       "      <th>msp_size</th>\n",
       "      <th>left_m6a_count</th>\n",
       "      <th>right_m6a_count</th>\n",
       "      <th>motif_m6a_count</th>\n",
       "      <th>left_AT_count</th>\n",
       "      <th>right_AT_count</th>\n",
       "      <th>motif_AT_count</th>\n",
       "      <th>left_AT_prop</th>\n",
       "      <th>...</th>\n",
       "      <th>TGT_count</th>\n",
       "      <th>TGT_m6a_prop</th>\n",
       "      <th>TTA_count</th>\n",
       "      <th>TTA_m6a_prop</th>\n",
       "      <th>TTC_count</th>\n",
       "      <th>TTC_m6a_prop</th>\n",
       "      <th>TTG_count</th>\n",
       "      <th>TTG_m6a_prop</th>\n",
       "      <th>TTT_count</th>\n",
       "      <th>TTT_m6a_prop</th>\n",
       "    </tr>\n",
       "  </thead>\n",
       "  <tbody>\n",
       "    <tr>\n",
       "      <th>0</th>\n",
       "      <td>chr10_100338605_+</td>\n",
       "      <td>m54329U_210323_190418/12585455/ccs</td>\n",
       "      <td>200.0</td>\n",
       "      <td>13.0</td>\n",
       "      <td>13.0</td>\n",
       "      <td>3.0</td>\n",
       "      <td>18.0</td>\n",
       "      <td>18.0</td>\n",
       "      <td>13.0</td>\n",
       "      <td>0.45</td>\n",
       "      <td>...</td>\n",
       "      <td>0.0</td>\n",
       "      <td>0.0</td>\n",
       "      <td>1.0</td>\n",
       "      <td>0.000000</td>\n",
       "      <td>0.0</td>\n",
       "      <td>0.0</td>\n",
       "      <td>0.0</td>\n",
       "      <td>0.0</td>\n",
       "      <td>1.0</td>\n",
       "      <td>0.333333</td>\n",
       "    </tr>\n",
       "    <tr>\n",
       "      <th>1</th>\n",
       "      <td>chr10_100338605_+</td>\n",
       "      <td>m54329U_210323_190418/16515087/ccs</td>\n",
       "      <td>212.0</td>\n",
       "      <td>12.0</td>\n",
       "      <td>12.0</td>\n",
       "      <td>4.0</td>\n",
       "      <td>18.0</td>\n",
       "      <td>18.0</td>\n",
       "      <td>13.0</td>\n",
       "      <td>0.45</td>\n",
       "      <td>...</td>\n",
       "      <td>0.0</td>\n",
       "      <td>0.0</td>\n",
       "      <td>1.0</td>\n",
       "      <td>0.333333</td>\n",
       "      <td>0.0</td>\n",
       "      <td>0.0</td>\n",
       "      <td>0.0</td>\n",
       "      <td>0.0</td>\n",
       "      <td>1.0</td>\n",
       "      <td>0.666667</td>\n",
       "    </tr>\n",
       "    <tr>\n",
       "      <th>2</th>\n",
       "      <td>chr10_100338605_+</td>\n",
       "      <td>m54329U_210323_190418/169477611/ccs</td>\n",
       "      <td>181.0</td>\n",
       "      <td>10.0</td>\n",
       "      <td>12.0</td>\n",
       "      <td>2.0</td>\n",
       "      <td>18.0</td>\n",
       "      <td>18.0</td>\n",
       "      <td>13.0</td>\n",
       "      <td>0.45</td>\n",
       "      <td>...</td>\n",
       "      <td>0.0</td>\n",
       "      <td>0.0</td>\n",
       "      <td>1.0</td>\n",
       "      <td>0.000000</td>\n",
       "      <td>0.0</td>\n",
       "      <td>0.0</td>\n",
       "      <td>0.0</td>\n",
       "      <td>0.0</td>\n",
       "      <td>1.0</td>\n",
       "      <td>0.000000</td>\n",
       "    </tr>\n",
       "    <tr>\n",
       "      <th>3</th>\n",
       "      <td>chr10_100338605_+</td>\n",
       "      <td>m54329U_210323_190418/173999297/ccs</td>\n",
       "      <td>134.0</td>\n",
       "      <td>9.0</td>\n",
       "      <td>11.0</td>\n",
       "      <td>8.0</td>\n",
       "      <td>18.0</td>\n",
       "      <td>18.0</td>\n",
       "      <td>13.0</td>\n",
       "      <td>0.45</td>\n",
       "      <td>...</td>\n",
       "      <td>0.0</td>\n",
       "      <td>0.0</td>\n",
       "      <td>1.0</td>\n",
       "      <td>0.333333</td>\n",
       "      <td>0.0</td>\n",
       "      <td>0.0</td>\n",
       "      <td>0.0</td>\n",
       "      <td>0.0</td>\n",
       "      <td>1.0</td>\n",
       "      <td>0.666667</td>\n",
       "    </tr>\n",
       "    <tr>\n",
       "      <th>4</th>\n",
       "      <td>chr10_100338605_+</td>\n",
       "      <td>m54329U_210323_190418/180160021/ccs</td>\n",
       "      <td>194.0</td>\n",
       "      <td>12.0</td>\n",
       "      <td>12.0</td>\n",
       "      <td>1.0</td>\n",
       "      <td>18.0</td>\n",
       "      <td>18.0</td>\n",
       "      <td>13.0</td>\n",
       "      <td>0.45</td>\n",
       "      <td>...</td>\n",
       "      <td>0.0</td>\n",
       "      <td>0.0</td>\n",
       "      <td>1.0</td>\n",
       "      <td>0.000000</td>\n",
       "      <td>0.0</td>\n",
       "      <td>0.0</td>\n",
       "      <td>0.0</td>\n",
       "      <td>0.0</td>\n",
       "      <td>1.0</td>\n",
       "      <td>0.333333</td>\n",
       "    </tr>\n",
       "  </tbody>\n",
       "</table>\n",
       "<p>5 rows × 128 columns</p>\n",
       "</div>"
      ],
      "text/plain": [
       "          motif_name                           query_name  msp_size  \\\n",
       "0  chr10_100338605_+   m54329U_210323_190418/12585455/ccs     200.0   \n",
       "1  chr10_100338605_+   m54329U_210323_190418/16515087/ccs     212.0   \n",
       "2  chr10_100338605_+  m54329U_210323_190418/169477611/ccs     181.0   \n",
       "3  chr10_100338605_+  m54329U_210323_190418/173999297/ccs     134.0   \n",
       "4  chr10_100338605_+  m54329U_210323_190418/180160021/ccs     194.0   \n",
       "\n",
       "   left_m6a_count  right_m6a_count  motif_m6a_count  left_AT_count  \\\n",
       "0            13.0             13.0              3.0           18.0   \n",
       "1            12.0             12.0              4.0           18.0   \n",
       "2            10.0             12.0              2.0           18.0   \n",
       "3             9.0             11.0              8.0           18.0   \n",
       "4            12.0             12.0              1.0           18.0   \n",
       "\n",
       "   right_AT_count  motif_AT_count  left_AT_prop  ...  TGT_count  TGT_m6a_prop  \\\n",
       "0            18.0            13.0          0.45  ...        0.0           0.0   \n",
       "1            18.0            13.0          0.45  ...        0.0           0.0   \n",
       "2            18.0            13.0          0.45  ...        0.0           0.0   \n",
       "3            18.0            13.0          0.45  ...        0.0           0.0   \n",
       "4            18.0            13.0          0.45  ...        0.0           0.0   \n",
       "\n",
       "   TTA_count  TTA_m6a_prop  TTC_count  TTC_m6a_prop  TTG_count  TTG_m6a_prop  \\\n",
       "0        1.0      0.000000        0.0           0.0        0.0           0.0   \n",
       "1        1.0      0.333333        0.0           0.0        0.0           0.0   \n",
       "2        1.0      0.000000        0.0           0.0        0.0           0.0   \n",
       "3        1.0      0.333333        0.0           0.0        0.0           0.0   \n",
       "4        1.0      0.000000        0.0           0.0        0.0           0.0   \n",
       "\n",
       "   TTT_count  TTT_m6a_prop  \n",
       "0        1.0      0.333333  \n",
       "1        1.0      0.666667  \n",
       "2        1.0      0.000000  \n",
       "3        1.0      0.666667  \n",
       "4        1.0      0.333333  \n",
       "\n",
       "[5 rows x 128 columns]"
      ]
     },
     "execution_count": 31,
     "metadata": {},
     "output_type": "execute_result"
    }
   ],
   "source": [
    "res.head()"
   ]
  },
  {
   "cell_type": "code",
   "execution_count": null,
   "metadata": {
    "hidden": true
   },
   "outputs": [],
   "source": []
  },
  {
   "cell_type": "markdown",
   "metadata": {
    "heading_collapsed": true
   },
   "source": [
    "##### negative data (merged)"
   ]
  },
  {
   "cell_type": "code",
   "execution_count": 78,
   "metadata": {
    "hidden": true
   },
   "outputs": [
    {
     "name": "stdout",
     "output_type": "stream",
     "text": [
      "Total rows: 4,323,830\n",
      "Unique motif-sequence groups: 217,557\n",
      "Unique motifs: 203,570\n",
      "Unique query_names: 65,867\n"
     ]
    }
   ],
   "source": [
    "print(\"Total rows: \" + \"{:,}\".format(df.shape[0]))\n",
    "print(\"Unique motif-sequence groups: \" + \"{:,}\".format(len(group_names)))\n",
    "print(\"Unique motifs: \" + \"{:,}\".format(df[\"motif_name\"].nunique()))\n",
    "print(\"Unique query_names: \" + \"{:,}\".format(df[\"query_name\"].nunique()))"
   ]
  },
  {
   "cell_type": "code",
   "execution_count": 79,
   "metadata": {
    "hidden": true
   },
   "outputs": [
    {
     "name": "stdout",
     "output_type": "stream",
     "text": [
      "CPU times: user 20.1 s, sys: 2.57 s, total: 22.6 s\n",
      "Wall time: 22.7 s\n"
     ]
    }
   ],
   "source": [
    "%%time\n",
    "\n",
    "# get all possible k-mers\n",
    "all_kmers = []\n",
    "for seq in df[\"subset_sequence\"]:\n",
    "    all_kmers.extend(get_kmers(get_motif_seq(seq), 3))\n",
    "\n",
    "# sorted unique k-mers containing AT\n",
    "all_kmers = [*set(all_kmers)]\n",
    "all_kmers = sorted([kmer for kmer in all_kmers if (\"T\" in kmer) or (\"A\" in kmer)])\n",
    "\n",
    "# make k-mer columns\n",
    "kmer_cols = list(itertools.chain(*[[kmer+\"_count\", kmer+\"_m6a_prop\"] for kmer in all_kmers]))"
   ]
  },
  {
   "cell_type": "code",
   "execution_count": 80,
   "metadata": {
    "collapsed": true,
    "hidden": true
   },
   "outputs": [
    {
     "name": "stderr",
     "output_type": "stream",
     "text": [
      "/tmp/ipykernel_60500/2521446196.py:46: RuntimeWarning: invalid value encountered in long_scalars\n",
      "  d[feature_cols[12]] = d[feature_cols[3]]/d[feature_cols[6]]\n",
      "/tmp/ipykernel_60500/2521446196.py:46: RuntimeWarning: invalid value encountered in long_scalars\n",
      "  d[feature_cols[12]] = d[feature_cols[3]]/d[feature_cols[6]]\n",
      "/tmp/ipykernel_60500/2521446196.py:46: RuntimeWarning: invalid value encountered in long_scalars\n",
      "  d[feature_cols[12]] = d[feature_cols[3]]/d[feature_cols[6]]\n",
      "/tmp/ipykernel_60500/2521446196.py:46: RuntimeWarning: invalid value encountered in long_scalars\n",
      "  d[feature_cols[12]] = d[feature_cols[3]]/d[feature_cols[6]]\n",
      "/tmp/ipykernel_60500/2521446196.py:46: RuntimeWarning: invalid value encountered in long_scalars\n",
      "  d[feature_cols[12]] = d[feature_cols[3]]/d[feature_cols[6]]\n",
      "/tmp/ipykernel_60500/2521446196.py:46: RuntimeWarning: invalid value encountered in long_scalars\n",
      "  d[feature_cols[12]] = d[feature_cols[3]]/d[feature_cols[6]]\n",
      "/tmp/ipykernel_60500/2521446196.py:46: RuntimeWarning: invalid value encountered in long_scalars\n",
      "  d[feature_cols[12]] = d[feature_cols[3]]/d[feature_cols[6]]\n",
      "/tmp/ipykernel_60500/2521446196.py:46: RuntimeWarning: invalid value encountered in long_scalars\n",
      "  d[feature_cols[12]] = d[feature_cols[3]]/d[feature_cols[6]]\n",
      "/tmp/ipykernel_60500/2521446196.py:44: RuntimeWarning: invalid value encountered in long_scalars\n",
      "  d[feature_cols[10]] = d[feature_cols[1]]/d[feature_cols[4]]\n",
      "/tmp/ipykernel_60500/2521446196.py:46: RuntimeWarning: invalid value encountered in long_scalars\n",
      "  d[feature_cols[12]] = d[feature_cols[3]]/d[feature_cols[6]]\n",
      "/tmp/ipykernel_60500/2521446196.py:46: RuntimeWarning: invalid value encountered in long_scalars\n",
      "  d[feature_cols[12]] = d[feature_cols[3]]/d[feature_cols[6]]\n",
      "/tmp/ipykernel_60500/2521446196.py:46: RuntimeWarning: invalid value encountered in long_scalars\n",
      "  d[feature_cols[12]] = d[feature_cols[3]]/d[feature_cols[6]]\n",
      "/tmp/ipykernel_60500/2521446196.py:46: RuntimeWarning: invalid value encountered in long_scalars\n",
      "  d[feature_cols[12]] = d[feature_cols[3]]/d[feature_cols[6]]\n",
      "/tmp/ipykernel_60500/2521446196.py:46: RuntimeWarning: invalid value encountered in long_scalars\n",
      "  d[feature_cols[12]] = d[feature_cols[3]]/d[feature_cols[6]]\n",
      "/tmp/ipykernel_60500/2521446196.py:46: RuntimeWarning: invalid value encountered in long_scalars\n",
      "  d[feature_cols[12]] = d[feature_cols[3]]/d[feature_cols[6]]\n",
      "/tmp/ipykernel_60500/2521446196.py:46: RuntimeWarning: invalid value encountered in long_scalars\n",
      "  d[feature_cols[12]] = d[feature_cols[3]]/d[feature_cols[6]]\n",
      "/tmp/ipykernel_60500/2521446196.py:46: RuntimeWarning: invalid value encountered in long_scalars\n",
      "  d[feature_cols[12]] = d[feature_cols[3]]/d[feature_cols[6]]\n",
      "/tmp/ipykernel_60500/2521446196.py:46: RuntimeWarning: invalid value encountered in long_scalars\n",
      "  d[feature_cols[12]] = d[feature_cols[3]]/d[feature_cols[6]]\n",
      "/tmp/ipykernel_60500/2521446196.py:44: RuntimeWarning: invalid value encountered in long_scalars\n",
      "  d[feature_cols[10]] = d[feature_cols[1]]/d[feature_cols[4]]\n",
      "/tmp/ipykernel_60500/2521446196.py:45: RuntimeWarning: invalid value encountered in long_scalars\n",
      "  d[feature_cols[11]] = d[feature_cols[2]]/d[feature_cols[5]]\n",
      "/tmp/ipykernel_60500/2521446196.py:46: RuntimeWarning: invalid value encountered in long_scalars\n",
      "  d[feature_cols[12]] = d[feature_cols[3]]/d[feature_cols[6]]\n"
     ]
    },
    {
     "name": "stdout",
     "output_type": "stream",
     "text": [
      "Total rows: 217,557\n",
      "Total columns: 128\n",
      "CPU times: user 6min 8s, sys: 951 ms, total: 6min 9s\n",
      "Wall time: 6min 11s\n"
     ]
    }
   ],
   "source": [
    "%%time\n",
    "# aggregate features\n",
    "res = df.groupby(grouping_cols).apply(lambda x: agg_features(x, kmer_cols)).reset_index()\n",
    "# change col dtypes for memory\n",
    "res[res.columns.tolist()[2:]] = res[res.columns.tolist()[2:]].apply(pd.to_numeric, downcast=\"float\")\n",
    "print(\"Total rows: \" + \"{:,}\".format(res.shape[0]))\n",
    "print(\"Total columns: \" + \"{:,}\".format(res.shape[1]))"
   ]
  },
  {
   "cell_type": "code",
   "execution_count": 81,
   "metadata": {
    "hidden": true
   },
   "outputs": [
    {
     "data": {
      "text/html": [
       "<div>\n",
       "<style scoped>\n",
       "    .dataframe tbody tr th:only-of-type {\n",
       "        vertical-align: middle;\n",
       "    }\n",
       "\n",
       "    .dataframe tbody tr th {\n",
       "        vertical-align: top;\n",
       "    }\n",
       "\n",
       "    .dataframe thead th {\n",
       "        text-align: right;\n",
       "    }\n",
       "</style>\n",
       "<table border=\"1\" class=\"dataframe\">\n",
       "  <thead>\n",
       "    <tr style=\"text-align: right;\">\n",
       "      <th></th>\n",
       "      <th>motif_name</th>\n",
       "      <th>query_name</th>\n",
       "      <th>msp_size</th>\n",
       "      <th>left_m6a_count</th>\n",
       "      <th>right_m6a_count</th>\n",
       "      <th>motif_m6a_count</th>\n",
       "      <th>left_AT_count</th>\n",
       "      <th>right_AT_count</th>\n",
       "      <th>motif_AT_count</th>\n",
       "      <th>left_AT_prop</th>\n",
       "      <th>...</th>\n",
       "      <th>TGT_count</th>\n",
       "      <th>TGT_m6a_prop</th>\n",
       "      <th>TTA_count</th>\n",
       "      <th>TTA_m6a_prop</th>\n",
       "      <th>TTC_count</th>\n",
       "      <th>TTC_m6a_prop</th>\n",
       "      <th>TTG_count</th>\n",
       "      <th>TTG_m6a_prop</th>\n",
       "      <th>TTT_count</th>\n",
       "      <th>TTT_m6a_prop</th>\n",
       "    </tr>\n",
       "  </thead>\n",
       "  <tbody>\n",
       "    <tr>\n",
       "      <th>0</th>\n",
       "      <td>chr10_100001134_+</td>\n",
       "      <td>m54329U_210326_192251/136053044/ccs</td>\n",
       "      <td>154.0</td>\n",
       "      <td>6.0</td>\n",
       "      <td>0.0</td>\n",
       "      <td>1.0</td>\n",
       "      <td>16.0</td>\n",
       "      <td>14.0</td>\n",
       "      <td>16.0</td>\n",
       "      <td>0.400</td>\n",
       "      <td>...</td>\n",
       "      <td>0.0</td>\n",
       "      <td>0.0</td>\n",
       "      <td>0.0</td>\n",
       "      <td>0.0</td>\n",
       "      <td>0.0</td>\n",
       "      <td>0.0</td>\n",
       "      <td>2.0</td>\n",
       "      <td>0.0</td>\n",
       "      <td>0.0</td>\n",
       "      <td>0.0</td>\n",
       "    </tr>\n",
       "    <tr>\n",
       "      <th>1</th>\n",
       "      <td>chr10_100007458_-</td>\n",
       "      <td>m54329U_210813_020940/108857329/ccs</td>\n",
       "      <td>97.0</td>\n",
       "      <td>1.0</td>\n",
       "      <td>3.0</td>\n",
       "      <td>8.0</td>\n",
       "      <td>20.0</td>\n",
       "      <td>14.0</td>\n",
       "      <td>11.0</td>\n",
       "      <td>0.500</td>\n",
       "      <td>...</td>\n",
       "      <td>3.0</td>\n",
       "      <td>1.0</td>\n",
       "      <td>0.0</td>\n",
       "      <td>0.0</td>\n",
       "      <td>0.0</td>\n",
       "      <td>0.0</td>\n",
       "      <td>0.0</td>\n",
       "      <td>0.0</td>\n",
       "      <td>0.0</td>\n",
       "      <td>0.0</td>\n",
       "    </tr>\n",
       "    <tr>\n",
       "      <th>2</th>\n",
       "      <td>chr10_100009645_+</td>\n",
       "      <td>m54329U_210813_020940/108857329/ccs</td>\n",
       "      <td>89.0</td>\n",
       "      <td>3.0</td>\n",
       "      <td>4.0</td>\n",
       "      <td>7.0</td>\n",
       "      <td>9.0</td>\n",
       "      <td>11.0</td>\n",
       "      <td>9.0</td>\n",
       "      <td>0.225</td>\n",
       "      <td>...</td>\n",
       "      <td>0.0</td>\n",
       "      <td>0.0</td>\n",
       "      <td>0.0</td>\n",
       "      <td>0.0</td>\n",
       "      <td>0.0</td>\n",
       "      <td>0.0</td>\n",
       "      <td>0.0</td>\n",
       "      <td>0.0</td>\n",
       "      <td>0.0</td>\n",
       "      <td>0.0</td>\n",
       "    </tr>\n",
       "    <tr>\n",
       "      <th>3</th>\n",
       "      <td>chr10_100009901_+</td>\n",
       "      <td>m54329U_210813_020940/108857329/ccs</td>\n",
       "      <td>268.0</td>\n",
       "      <td>6.0</td>\n",
       "      <td>6.0</td>\n",
       "      <td>4.0</td>\n",
       "      <td>9.0</td>\n",
       "      <td>10.0</td>\n",
       "      <td>7.0</td>\n",
       "      <td>0.225</td>\n",
       "      <td>...</td>\n",
       "      <td>1.0</td>\n",
       "      <td>0.0</td>\n",
       "      <td>0.0</td>\n",
       "      <td>0.0</td>\n",
       "      <td>0.0</td>\n",
       "      <td>0.0</td>\n",
       "      <td>0.0</td>\n",
       "      <td>0.0</td>\n",
       "      <td>0.0</td>\n",
       "      <td>0.0</td>\n",
       "    </tr>\n",
       "    <tr>\n",
       "      <th>4</th>\n",
       "      <td>chr10_100012002_-</td>\n",
       "      <td>m54329U_210813_020940/108857329/ccs</td>\n",
       "      <td>69.0</td>\n",
       "      <td>3.0</td>\n",
       "      <td>3.0</td>\n",
       "      <td>9.0</td>\n",
       "      <td>18.0</td>\n",
       "      <td>22.0</td>\n",
       "      <td>12.0</td>\n",
       "      <td>0.450</td>\n",
       "      <td>...</td>\n",
       "      <td>0.0</td>\n",
       "      <td>0.0</td>\n",
       "      <td>0.0</td>\n",
       "      <td>0.0</td>\n",
       "      <td>0.0</td>\n",
       "      <td>0.0</td>\n",
       "      <td>0.0</td>\n",
       "      <td>0.0</td>\n",
       "      <td>0.0</td>\n",
       "      <td>0.0</td>\n",
       "    </tr>\n",
       "  </tbody>\n",
       "</table>\n",
       "<p>5 rows × 128 columns</p>\n",
       "</div>"
      ],
      "text/plain": [
       "          motif_name                           query_name  msp_size  \\\n",
       "0  chr10_100001134_+  m54329U_210326_192251/136053044/ccs     154.0   \n",
       "1  chr10_100007458_-  m54329U_210813_020940/108857329/ccs      97.0   \n",
       "2  chr10_100009645_+  m54329U_210813_020940/108857329/ccs      89.0   \n",
       "3  chr10_100009901_+  m54329U_210813_020940/108857329/ccs     268.0   \n",
       "4  chr10_100012002_-  m54329U_210813_020940/108857329/ccs      69.0   \n",
       "\n",
       "   left_m6a_count  right_m6a_count  motif_m6a_count  left_AT_count  \\\n",
       "0             6.0              0.0              1.0           16.0   \n",
       "1             1.0              3.0              8.0           20.0   \n",
       "2             3.0              4.0              7.0            9.0   \n",
       "3             6.0              6.0              4.0            9.0   \n",
       "4             3.0              3.0              9.0           18.0   \n",
       "\n",
       "   right_AT_count  motif_AT_count  left_AT_prop  ...  TGT_count  TGT_m6a_prop  \\\n",
       "0            14.0            16.0         0.400  ...        0.0           0.0   \n",
       "1            14.0            11.0         0.500  ...        3.0           1.0   \n",
       "2            11.0             9.0         0.225  ...        0.0           0.0   \n",
       "3            10.0             7.0         0.225  ...        1.0           0.0   \n",
       "4            22.0            12.0         0.450  ...        0.0           0.0   \n",
       "\n",
       "   TTA_count  TTA_m6a_prop  TTC_count  TTC_m6a_prop  TTG_count  TTG_m6a_prop  \\\n",
       "0        0.0           0.0        0.0           0.0        2.0           0.0   \n",
       "1        0.0           0.0        0.0           0.0        0.0           0.0   \n",
       "2        0.0           0.0        0.0           0.0        0.0           0.0   \n",
       "3        0.0           0.0        0.0           0.0        0.0           0.0   \n",
       "4        0.0           0.0        0.0           0.0        0.0           0.0   \n",
       "\n",
       "   TTT_count  TTT_m6a_prop  \n",
       "0        0.0           0.0  \n",
       "1        0.0           0.0  \n",
       "2        0.0           0.0  \n",
       "3        0.0           0.0  \n",
       "4        0.0           0.0  \n",
       "\n",
       "[5 rows x 128 columns]"
      ]
     },
     "execution_count": 81,
     "metadata": {},
     "output_type": "execute_result"
    }
   ],
   "source": [
    "res.head()"
   ]
  },
  {
   "cell_type": "code",
   "execution_count": null,
   "metadata": {
    "hidden": true
   },
   "outputs": [],
   "source": []
  },
  {
   "cell_type": "markdown",
   "metadata": {
    "heading_collapsed": true
   },
   "source": [
    "##### negative data (L)"
   ]
  },
  {
   "cell_type": "code",
   "execution_count": 85,
   "metadata": {
    "hidden": true
   },
   "outputs": [
    {
     "name": "stdout",
     "output_type": "stream",
     "text": [
      "Total rows: 1,325,857\n",
      "Unique motif-sequence groups: 65,943\n",
      "Unique motifs: 61,923\n",
      "Unique query_names: 38,675\n"
     ]
    }
   ],
   "source": [
    "print(\"Total rows: \" + \"{:,}\".format(df.shape[0]))\n",
    "print(\"Unique motif-sequence groups: \" + \"{:,}\".format(len(group_names)))\n",
    "print(\"Unique motifs: \" + \"{:,}\".format(df[\"motif_name\"].nunique()))\n",
    "print(\"Unique query_names: \" + \"{:,}\".format(df[\"query_name\"].nunique()))"
   ]
  },
  {
   "cell_type": "code",
   "execution_count": 90,
   "metadata": {
    "hidden": true
   },
   "outputs": [
    {
     "name": "stdout",
     "output_type": "stream",
     "text": [
      "CPU times: user 6.1 s, sys: 1.07 s, total: 7.17 s\n",
      "Wall time: 7.19 s\n"
     ]
    }
   ],
   "source": [
    "%%time\n",
    "\n",
    "# get all possible k-mers\n",
    "all_kmers = []\n",
    "for seq in df[\"subset_sequence\"]:\n",
    "    all_kmers.extend(get_kmers(get_motif_seq(seq), 3))\n",
    "\n",
    "# sorted unique k-mers containing AT\n",
    "all_kmers = [*set(all_kmers)]\n",
    "all_kmers = sorted([kmer for kmer in all_kmers if (\"T\" in kmer) or (\"A\" in kmer)])\n",
    "\n",
    "# make k-mer columns\n",
    "kmer_cols = list(itertools.chain(*[[kmer+\"_count\", kmer+\"_m6a_prop\"] for kmer in all_kmers]))"
   ]
  },
  {
   "cell_type": "code",
   "execution_count": 104,
   "metadata": {
    "hidden": true
   },
   "outputs": [
    {
     "name": "stdout",
     "output_type": "stream",
     "text": [
      "CPU times: user 1min 57s, sys: 553 ms, total: 1min 58s\n",
      "Wall time: 1min 58s\n"
     ]
    }
   ],
   "source": [
    "%%time\n",
    "# aggregate features\n",
    "res = df.groupby(grouping_cols).apply(lambda x: agg_features(x, kmer_cols)).reset_index()"
   ]
  },
  {
   "cell_type": "code",
   "execution_count": 116,
   "metadata": {
    "hidden": true
   },
   "outputs": [
    {
     "name": "stdout",
     "output_type": "stream",
     "text": [
      "77,271,979\n",
      "67,525,760\n",
      "<class 'pandas.core.frame.DataFrame'>\n",
      "RangeIndex: 65943 entries, 0 to 65942\n",
      "Columns: 128 entries, motif_name to TTT_m6a_prop\n",
      "dtypes: float64(126), object(2)\n",
      "memory usage: 64.4+ MB\n"
     ]
    }
   ],
   "source": [
    "print(\"{:,}\".format(sys.getsizeof(res)))\n",
    "print(\"{:,}\".format(res.memory_usage().sum()))\n",
    "res.info()"
   ]
  },
  {
   "cell_type": "code",
   "execution_count": 117,
   "metadata": {
    "hidden": true
   },
   "outputs": [
    {
     "name": "stdout",
     "output_type": "stream",
     "text": [
      "44,036,707\n",
      "34,290,488\n",
      "<class 'pandas.core.frame.DataFrame'>\n",
      "RangeIndex: 65943 entries, 0 to 65942\n",
      "Columns: 128 entries, motif_name to TTT_m6a_prop\n",
      "dtypes: float32(126), object(2)\n",
      "memory usage: 32.7+ MB\n"
     ]
    }
   ],
   "source": [
    "# change col dtypes for memory\n",
    "res[res.columns.tolist()[2:]] = res[res.columns.tolist()[2:]].apply(\n",
    "    pd.to_numeric, downcast=\"float\")\n",
    "\n",
    "print(\"{:,}\".format(sys.getsizeof(res)))\n",
    "print(\"{:,}\".format(res.memory_usage().sum()))\n",
    "res.info()"
   ]
  },
  {
   "cell_type": "code",
   "execution_count": null,
   "metadata": {
    "hidden": true
   },
   "outputs": [],
   "source": []
  },
  {
   "cell_type": "code",
   "execution_count": null,
   "metadata": {
    "hidden": true
   },
   "outputs": [],
   "source": []
  },
  {
   "cell_type": "code",
   "execution_count": 91,
   "metadata": {
    "hidden": true
   },
   "outputs": [
    {
     "name": "stdout",
     "output_type": "stream",
     "text": [
      "Total rows: 65,943\n",
      "Total columns: 128\n",
      "CPU times: user 1min 53s, sys: 1.12 s, total: 1min 54s\n",
      "Wall time: 1min 55s\n"
     ]
    }
   ],
   "source": [
    "%%time\n",
    "# aggregate features\n",
    "res = df.groupby(grouping_cols).apply(lambda x: agg_features(x, kmer_cols)).reset_index()\n",
    "# change col dtypes for memory\n",
    "res[res.columns.tolist()[2:]] = res[res.columns.tolist()[2:]].apply(pd.to_numeric, downcast=\"float\")\n",
    "print(\"Total rows: \" + \"{:,}\".format(res.shape[0]))\n",
    "print(\"Total columns: \" + \"{:,}\".format(res.shape[1]))"
   ]
  },
  {
   "cell_type": "code",
   "execution_count": 93,
   "metadata": {
    "hidden": true
   },
   "outputs": [
    {
     "data": {
      "text/html": [
       "<div>\n",
       "<style scoped>\n",
       "    .dataframe tbody tr th:only-of-type {\n",
       "        vertical-align: middle;\n",
       "    }\n",
       "\n",
       "    .dataframe tbody tr th {\n",
       "        vertical-align: top;\n",
       "    }\n",
       "\n",
       "    .dataframe thead th {\n",
       "        text-align: right;\n",
       "    }\n",
       "</style>\n",
       "<table border=\"1\" class=\"dataframe\">\n",
       "  <thead>\n",
       "    <tr style=\"text-align: right;\">\n",
       "      <th></th>\n",
       "      <th>motif_name</th>\n",
       "      <th>query_name</th>\n",
       "      <th>msp_size</th>\n",
       "      <th>left_m6a_count</th>\n",
       "      <th>right_m6a_count</th>\n",
       "      <th>motif_m6a_count</th>\n",
       "      <th>left_AT_count</th>\n",
       "      <th>right_AT_count</th>\n",
       "      <th>motif_AT_count</th>\n",
       "      <th>left_AT_prop</th>\n",
       "      <th>...</th>\n",
       "      <th>TGT_count</th>\n",
       "      <th>TGT_m6a_prop</th>\n",
       "      <th>TTA_count</th>\n",
       "      <th>TTA_m6a_prop</th>\n",
       "      <th>TTC_count</th>\n",
       "      <th>TTC_m6a_prop</th>\n",
       "      <th>TTG_count</th>\n",
       "      <th>TTG_m6a_prop</th>\n",
       "      <th>TTT_count</th>\n",
       "      <th>TTT_m6a_prop</th>\n",
       "    </tr>\n",
       "  </thead>\n",
       "  <tbody>\n",
       "    <tr>\n",
       "      <th>0</th>\n",
       "      <td>chr10_100001134_+</td>\n",
       "      <td>m54329U_210326_192251/136053044/ccs</td>\n",
       "      <td>154.0</td>\n",
       "      <td>6.0</td>\n",
       "      <td>0.0</td>\n",
       "      <td>1.0</td>\n",
       "      <td>16.0</td>\n",
       "      <td>14.0</td>\n",
       "      <td>16.0</td>\n",
       "      <td>0.400</td>\n",
       "      <td>...</td>\n",
       "      <td>0.0</td>\n",
       "      <td>0.0</td>\n",
       "      <td>0.0</td>\n",
       "      <td>0.0</td>\n",
       "      <td>0.0</td>\n",
       "      <td>0.0</td>\n",
       "      <td>2.0</td>\n",
       "      <td>0.0</td>\n",
       "      <td>0.0</td>\n",
       "      <td>0.000000</td>\n",
       "    </tr>\n",
       "    <tr>\n",
       "      <th>1</th>\n",
       "      <td>chr10_100009901_+</td>\n",
       "      <td>m54329U_210813_020940/108857329/ccs</td>\n",
       "      <td>268.0</td>\n",
       "      <td>6.0</td>\n",
       "      <td>6.0</td>\n",
       "      <td>4.0</td>\n",
       "      <td>9.0</td>\n",
       "      <td>10.0</td>\n",
       "      <td>7.0</td>\n",
       "      <td>0.225</td>\n",
       "      <td>...</td>\n",
       "      <td>1.0</td>\n",
       "      <td>0.0</td>\n",
       "      <td>0.0</td>\n",
       "      <td>0.0</td>\n",
       "      <td>0.0</td>\n",
       "      <td>0.0</td>\n",
       "      <td>0.0</td>\n",
       "      <td>0.0</td>\n",
       "      <td>0.0</td>\n",
       "      <td>0.000000</td>\n",
       "    </tr>\n",
       "    <tr>\n",
       "      <th>2</th>\n",
       "      <td>chr10_100076460_+</td>\n",
       "      <td>m64076_210328_012155/112330052/ccs</td>\n",
       "      <td>69.0</td>\n",
       "      <td>1.0</td>\n",
       "      <td>10.0</td>\n",
       "      <td>8.0</td>\n",
       "      <td>22.0</td>\n",
       "      <td>22.0</td>\n",
       "      <td>15.0</td>\n",
       "      <td>0.550</td>\n",
       "      <td>...</td>\n",
       "      <td>0.0</td>\n",
       "      <td>0.0</td>\n",
       "      <td>0.0</td>\n",
       "      <td>0.0</td>\n",
       "      <td>0.0</td>\n",
       "      <td>0.0</td>\n",
       "      <td>0.0</td>\n",
       "      <td>0.0</td>\n",
       "      <td>0.0</td>\n",
       "      <td>0.000000</td>\n",
       "    </tr>\n",
       "    <tr>\n",
       "      <th>3</th>\n",
       "      <td>chr10_100085646_-</td>\n",
       "      <td>m54329U_210810_004956/12124794/ccs</td>\n",
       "      <td>55.0</td>\n",
       "      <td>2.0</td>\n",
       "      <td>3.0</td>\n",
       "      <td>5.0</td>\n",
       "      <td>22.0</td>\n",
       "      <td>23.0</td>\n",
       "      <td>15.0</td>\n",
       "      <td>0.550</td>\n",
       "      <td>...</td>\n",
       "      <td>0.0</td>\n",
       "      <td>0.0</td>\n",
       "      <td>1.0</td>\n",
       "      <td>0.0</td>\n",
       "      <td>1.0</td>\n",
       "      <td>0.5</td>\n",
       "      <td>1.0</td>\n",
       "      <td>0.5</td>\n",
       "      <td>1.0</td>\n",
       "      <td>0.333333</td>\n",
       "    </tr>\n",
       "    <tr>\n",
       "      <th>4</th>\n",
       "      <td>chr10_100118172_-</td>\n",
       "      <td>m64076_221119_202646/24772945/ccs</td>\n",
       "      <td>71.0</td>\n",
       "      <td>2.0</td>\n",
       "      <td>6.0</td>\n",
       "      <td>3.0</td>\n",
       "      <td>30.0</td>\n",
       "      <td>25.0</td>\n",
       "      <td>16.0</td>\n",
       "      <td>0.750</td>\n",
       "      <td>...</td>\n",
       "      <td>1.0</td>\n",
       "      <td>0.5</td>\n",
       "      <td>0.0</td>\n",
       "      <td>0.0</td>\n",
       "      <td>1.0</td>\n",
       "      <td>0.0</td>\n",
       "      <td>0.0</td>\n",
       "      <td>0.0</td>\n",
       "      <td>0.0</td>\n",
       "      <td>0.000000</td>\n",
       "    </tr>\n",
       "  </tbody>\n",
       "</table>\n",
       "<p>5 rows × 128 columns</p>\n",
       "</div>"
      ],
      "text/plain": [
       "          motif_name                           query_name  msp_size  \\\n",
       "0  chr10_100001134_+  m54329U_210326_192251/136053044/ccs     154.0   \n",
       "1  chr10_100009901_+  m54329U_210813_020940/108857329/ccs     268.0   \n",
       "2  chr10_100076460_+   m64076_210328_012155/112330052/ccs      69.0   \n",
       "3  chr10_100085646_-   m54329U_210810_004956/12124794/ccs      55.0   \n",
       "4  chr10_100118172_-    m64076_221119_202646/24772945/ccs      71.0   \n",
       "\n",
       "   left_m6a_count  right_m6a_count  motif_m6a_count  left_AT_count  \\\n",
       "0             6.0              0.0              1.0           16.0   \n",
       "1             6.0              6.0              4.0            9.0   \n",
       "2             1.0             10.0              8.0           22.0   \n",
       "3             2.0              3.0              5.0           22.0   \n",
       "4             2.0              6.0              3.0           30.0   \n",
       "\n",
       "   right_AT_count  motif_AT_count  left_AT_prop  ...  TGT_count  TGT_m6a_prop  \\\n",
       "0            14.0            16.0         0.400  ...        0.0           0.0   \n",
       "1            10.0             7.0         0.225  ...        1.0           0.0   \n",
       "2            22.0            15.0         0.550  ...        0.0           0.0   \n",
       "3            23.0            15.0         0.550  ...        0.0           0.0   \n",
       "4            25.0            16.0         0.750  ...        1.0           0.5   \n",
       "\n",
       "   TTA_count  TTA_m6a_prop  TTC_count  TTC_m6a_prop  TTG_count  TTG_m6a_prop  \\\n",
       "0        0.0           0.0        0.0           0.0        2.0           0.0   \n",
       "1        0.0           0.0        0.0           0.0        0.0           0.0   \n",
       "2        0.0           0.0        0.0           0.0        0.0           0.0   \n",
       "3        1.0           0.0        1.0           0.5        1.0           0.5   \n",
       "4        0.0           0.0        1.0           0.0        0.0           0.0   \n",
       "\n",
       "   TTT_count  TTT_m6a_prop  \n",
       "0        0.0      0.000000  \n",
       "1        0.0      0.000000  \n",
       "2        0.0      0.000000  \n",
       "3        1.0      0.333333  \n",
       "4        0.0      0.000000  \n",
       "\n",
       "[5 rows x 128 columns]"
      ]
     },
     "execution_count": 93,
     "metadata": {},
     "output_type": "execute_result"
    }
   ],
   "source": [
    "res.head()"
   ]
  },
  {
   "cell_type": "code",
   "execution_count": 95,
   "metadata": {
    "collapsed": true,
    "hidden": true
   },
   "outputs": [
    {
     "name": "stderr",
     "output_type": "stream",
     "text": [
      "/tmp/ipykernel_88631/1120863114.py:8: PerformanceWarning: DataFrame is highly fragmented.  This is usually the result of calling `frame.insert` many times, which has poor performance.  Consider joining all columns at once using pd.concat(axis=1) instead. To get a de-fragmented frame, use `newframe = frame.copy()`\n",
      "  df.insert(loc=0, column=col_name, value=df[\"motif_name\"]+\"/\"+df[\"query_name\"])\n"
     ]
    }
   ],
   "source": [
    "make_IDs(res, col_name=\"motif_query\")"
   ]
  },
  {
   "cell_type": "code",
   "execution_count": 96,
   "metadata": {
    "hidden": true
   },
   "outputs": [
    {
     "data": {
      "text/html": [
       "<div>\n",
       "<style scoped>\n",
       "    .dataframe tbody tr th:only-of-type {\n",
       "        vertical-align: middle;\n",
       "    }\n",
       "\n",
       "    .dataframe tbody tr th {\n",
       "        vertical-align: top;\n",
       "    }\n",
       "\n",
       "    .dataframe thead th {\n",
       "        text-align: right;\n",
       "    }\n",
       "</style>\n",
       "<table border=\"1\" class=\"dataframe\">\n",
       "  <thead>\n",
       "    <tr style=\"text-align: right;\">\n",
       "      <th></th>\n",
       "      <th>motif_query</th>\n",
       "      <th>motif_name</th>\n",
       "      <th>query_name</th>\n",
       "      <th>msp_size</th>\n",
       "      <th>left_m6a_count</th>\n",
       "      <th>right_m6a_count</th>\n",
       "      <th>motif_m6a_count</th>\n",
       "      <th>left_AT_count</th>\n",
       "      <th>right_AT_count</th>\n",
       "      <th>motif_AT_count</th>\n",
       "      <th>...</th>\n",
       "      <th>TGT_count</th>\n",
       "      <th>TGT_m6a_prop</th>\n",
       "      <th>TTA_count</th>\n",
       "      <th>TTA_m6a_prop</th>\n",
       "      <th>TTC_count</th>\n",
       "      <th>TTC_m6a_prop</th>\n",
       "      <th>TTG_count</th>\n",
       "      <th>TTG_m6a_prop</th>\n",
       "      <th>TTT_count</th>\n",
       "      <th>TTT_m6a_prop</th>\n",
       "    </tr>\n",
       "  </thead>\n",
       "  <tbody>\n",
       "    <tr>\n",
       "      <th>0</th>\n",
       "      <td>chr10_100001134_+/m54329U_210326_192251/136053...</td>\n",
       "      <td>chr10_100001134_+</td>\n",
       "      <td>m54329U_210326_192251/136053044/ccs</td>\n",
       "      <td>154.0</td>\n",
       "      <td>6.0</td>\n",
       "      <td>0.0</td>\n",
       "      <td>1.0</td>\n",
       "      <td>16.0</td>\n",
       "      <td>14.0</td>\n",
       "      <td>16.0</td>\n",
       "      <td>...</td>\n",
       "      <td>0.0</td>\n",
       "      <td>0.0</td>\n",
       "      <td>0.0</td>\n",
       "      <td>0.0</td>\n",
       "      <td>0.0</td>\n",
       "      <td>0.0</td>\n",
       "      <td>2.0</td>\n",
       "      <td>0.0</td>\n",
       "      <td>0.0</td>\n",
       "      <td>0.000000</td>\n",
       "    </tr>\n",
       "    <tr>\n",
       "      <th>1</th>\n",
       "      <td>chr10_100009901_+/m54329U_210813_020940/108857...</td>\n",
       "      <td>chr10_100009901_+</td>\n",
       "      <td>m54329U_210813_020940/108857329/ccs</td>\n",
       "      <td>268.0</td>\n",
       "      <td>6.0</td>\n",
       "      <td>6.0</td>\n",
       "      <td>4.0</td>\n",
       "      <td>9.0</td>\n",
       "      <td>10.0</td>\n",
       "      <td>7.0</td>\n",
       "      <td>...</td>\n",
       "      <td>1.0</td>\n",
       "      <td>0.0</td>\n",
       "      <td>0.0</td>\n",
       "      <td>0.0</td>\n",
       "      <td>0.0</td>\n",
       "      <td>0.0</td>\n",
       "      <td>0.0</td>\n",
       "      <td>0.0</td>\n",
       "      <td>0.0</td>\n",
       "      <td>0.000000</td>\n",
       "    </tr>\n",
       "    <tr>\n",
       "      <th>2</th>\n",
       "      <td>chr10_100076460_+/m64076_210328_012155/1123300...</td>\n",
       "      <td>chr10_100076460_+</td>\n",
       "      <td>m64076_210328_012155/112330052/ccs</td>\n",
       "      <td>69.0</td>\n",
       "      <td>1.0</td>\n",
       "      <td>10.0</td>\n",
       "      <td>8.0</td>\n",
       "      <td>22.0</td>\n",
       "      <td>22.0</td>\n",
       "      <td>15.0</td>\n",
       "      <td>...</td>\n",
       "      <td>0.0</td>\n",
       "      <td>0.0</td>\n",
       "      <td>0.0</td>\n",
       "      <td>0.0</td>\n",
       "      <td>0.0</td>\n",
       "      <td>0.0</td>\n",
       "      <td>0.0</td>\n",
       "      <td>0.0</td>\n",
       "      <td>0.0</td>\n",
       "      <td>0.000000</td>\n",
       "    </tr>\n",
       "    <tr>\n",
       "      <th>3</th>\n",
       "      <td>chr10_100085646_-/m54329U_210810_004956/121247...</td>\n",
       "      <td>chr10_100085646_-</td>\n",
       "      <td>m54329U_210810_004956/12124794/ccs</td>\n",
       "      <td>55.0</td>\n",
       "      <td>2.0</td>\n",
       "      <td>3.0</td>\n",
       "      <td>5.0</td>\n",
       "      <td>22.0</td>\n",
       "      <td>23.0</td>\n",
       "      <td>15.0</td>\n",
       "      <td>...</td>\n",
       "      <td>0.0</td>\n",
       "      <td>0.0</td>\n",
       "      <td>1.0</td>\n",
       "      <td>0.0</td>\n",
       "      <td>1.0</td>\n",
       "      <td>0.5</td>\n",
       "      <td>1.0</td>\n",
       "      <td>0.5</td>\n",
       "      <td>1.0</td>\n",
       "      <td>0.333333</td>\n",
       "    </tr>\n",
       "    <tr>\n",
       "      <th>4</th>\n",
       "      <td>chr10_100118172_-/m64076_221119_202646/2477294...</td>\n",
       "      <td>chr10_100118172_-</td>\n",
       "      <td>m64076_221119_202646/24772945/ccs</td>\n",
       "      <td>71.0</td>\n",
       "      <td>2.0</td>\n",
       "      <td>6.0</td>\n",
       "      <td>3.0</td>\n",
       "      <td>30.0</td>\n",
       "      <td>25.0</td>\n",
       "      <td>16.0</td>\n",
       "      <td>...</td>\n",
       "      <td>1.0</td>\n",
       "      <td>0.5</td>\n",
       "      <td>0.0</td>\n",
       "      <td>0.0</td>\n",
       "      <td>1.0</td>\n",
       "      <td>0.0</td>\n",
       "      <td>0.0</td>\n",
       "      <td>0.0</td>\n",
       "      <td>0.0</td>\n",
       "      <td>0.000000</td>\n",
       "    </tr>\n",
       "  </tbody>\n",
       "</table>\n",
       "<p>5 rows × 129 columns</p>\n",
       "</div>"
      ],
      "text/plain": [
       "                                         motif_query         motif_name  \\\n",
       "0  chr10_100001134_+/m54329U_210326_192251/136053...  chr10_100001134_+   \n",
       "1  chr10_100009901_+/m54329U_210813_020940/108857...  chr10_100009901_+   \n",
       "2  chr10_100076460_+/m64076_210328_012155/1123300...  chr10_100076460_+   \n",
       "3  chr10_100085646_-/m54329U_210810_004956/121247...  chr10_100085646_-   \n",
       "4  chr10_100118172_-/m64076_221119_202646/2477294...  chr10_100118172_-   \n",
       "\n",
       "                            query_name  msp_size  left_m6a_count  \\\n",
       "0  m54329U_210326_192251/136053044/ccs     154.0             6.0   \n",
       "1  m54329U_210813_020940/108857329/ccs     268.0             6.0   \n",
       "2   m64076_210328_012155/112330052/ccs      69.0             1.0   \n",
       "3   m54329U_210810_004956/12124794/ccs      55.0             2.0   \n",
       "4    m64076_221119_202646/24772945/ccs      71.0             2.0   \n",
       "\n",
       "   right_m6a_count  motif_m6a_count  left_AT_count  right_AT_count  \\\n",
       "0              0.0              1.0           16.0            14.0   \n",
       "1              6.0              4.0            9.0            10.0   \n",
       "2             10.0              8.0           22.0            22.0   \n",
       "3              3.0              5.0           22.0            23.0   \n",
       "4              6.0              3.0           30.0            25.0   \n",
       "\n",
       "   motif_AT_count  ...  TGT_count  TGT_m6a_prop  TTA_count  TTA_m6a_prop  \\\n",
       "0            16.0  ...        0.0           0.0        0.0           0.0   \n",
       "1             7.0  ...        1.0           0.0        0.0           0.0   \n",
       "2            15.0  ...        0.0           0.0        0.0           0.0   \n",
       "3            15.0  ...        0.0           0.0        1.0           0.0   \n",
       "4            16.0  ...        1.0           0.5        0.0           0.0   \n",
       "\n",
       "   TTC_count  TTC_m6a_prop  TTG_count  TTG_m6a_prop  TTT_count  TTT_m6a_prop  \n",
       "0        0.0           0.0        2.0           0.0        0.0      0.000000  \n",
       "1        0.0           0.0        0.0           0.0        0.0      0.000000  \n",
       "2        0.0           0.0        0.0           0.0        0.0      0.000000  \n",
       "3        1.0           0.5        1.0           0.5        1.0      0.333333  \n",
       "4        1.0           0.0        0.0           0.0        0.0      0.000000  \n",
       "\n",
       "[5 rows x 129 columns]"
      ]
     },
     "execution_count": 96,
     "metadata": {},
     "output_type": "execute_result"
    }
   ],
   "source": [
    "res.head()"
   ]
  },
  {
   "cell_type": "code",
   "execution_count": null,
   "metadata": {
    "hidden": true
   },
   "outputs": [],
   "source": []
  },
  {
   "cell_type": "code",
   "execution_count": null,
   "metadata": {
    "hidden": true
   },
   "outputs": [],
   "source": []
  },
  {
   "cell_type": "code",
   "execution_count": 47,
   "metadata": {
    "collapsed": true,
    "hidden": true
   },
   "outputs": [
    {
     "name": "stdout",
     "output_type": "stream",
     "text": [
      "Total rows: 65,943\n",
      "Total columns: 128\n",
      "CPU times: user 1min 53s, sys: 1.29 s, total: 1min 54s\n",
      "Wall time: 1min 55s\n"
     ]
    }
   ],
   "source": [
    "%%time\n",
    "# aggregate features\n",
    "res = df.groupby(grouping_cols).apply(lambda x: agg_features(x, kmer_cols)).reset_index()\n",
    "# change col dtypes for memory\n",
    "res[res.columns.tolist()[2:]] = res[res.columns.tolist()[2:]].apply(pd.to_numeric, downcast=\"float\")\n",
    "print(\"Total rows: \" + \"{:,}\".format(res.shape[0]))\n",
    "print(\"Total columns: \" + \"{:,}\".format(res.shape[1]))"
   ]
  },
  {
   "cell_type": "code",
   "execution_count": 49,
   "metadata": {
    "collapsed": true,
    "hidden": true
   },
   "outputs": [
    {
     "data": {
      "text/html": [
       "<div>\n",
       "<style scoped>\n",
       "    .dataframe tbody tr th:only-of-type {\n",
       "        vertical-align: middle;\n",
       "    }\n",
       "\n",
       "    .dataframe tbody tr th {\n",
       "        vertical-align: top;\n",
       "    }\n",
       "\n",
       "    .dataframe thead th {\n",
       "        text-align: right;\n",
       "    }\n",
       "</style>\n",
       "<table border=\"1\" class=\"dataframe\">\n",
       "  <thead>\n",
       "    <tr style=\"text-align: right;\">\n",
       "      <th></th>\n",
       "      <th>motif_name</th>\n",
       "      <th>query_name</th>\n",
       "      <th>msp_size</th>\n",
       "      <th>left_m6a_count</th>\n",
       "      <th>right_m6a_count</th>\n",
       "      <th>motif_m6a_count</th>\n",
       "      <th>left_AT_count</th>\n",
       "      <th>right_AT_count</th>\n",
       "      <th>motif_AT_count</th>\n",
       "      <th>left_AT_prop</th>\n",
       "      <th>...</th>\n",
       "      <th>TGT_count</th>\n",
       "      <th>TGT_m6a_prop</th>\n",
       "      <th>TTA_count</th>\n",
       "      <th>TTA_m6a_prop</th>\n",
       "      <th>TTC_count</th>\n",
       "      <th>TTC_m6a_prop</th>\n",
       "      <th>TTG_count</th>\n",
       "      <th>TTG_m6a_prop</th>\n",
       "      <th>TTT_count</th>\n",
       "      <th>TTT_m6a_prop</th>\n",
       "    </tr>\n",
       "  </thead>\n",
       "  <tbody>\n",
       "    <tr>\n",
       "      <th>0</th>\n",
       "      <td>chr10_100001134_+</td>\n",
       "      <td>m54329U_210326_192251/136053044/ccs</td>\n",
       "      <td>154.0</td>\n",
       "      <td>6.0</td>\n",
       "      <td>0.0</td>\n",
       "      <td>1.0</td>\n",
       "      <td>16.0</td>\n",
       "      <td>14.0</td>\n",
       "      <td>16.0</td>\n",
       "      <td>0.400</td>\n",
       "      <td>...</td>\n",
       "      <td>0.0</td>\n",
       "      <td>0.0</td>\n",
       "      <td>0.0</td>\n",
       "      <td>0.0</td>\n",
       "      <td>0.0</td>\n",
       "      <td>0.0</td>\n",
       "      <td>2.0</td>\n",
       "      <td>0.0</td>\n",
       "      <td>0.0</td>\n",
       "      <td>0.000000</td>\n",
       "    </tr>\n",
       "    <tr>\n",
       "      <th>1</th>\n",
       "      <td>chr10_100009901_+</td>\n",
       "      <td>m54329U_210813_020940/108857329/ccs</td>\n",
       "      <td>268.0</td>\n",
       "      <td>6.0</td>\n",
       "      <td>6.0</td>\n",
       "      <td>4.0</td>\n",
       "      <td>9.0</td>\n",
       "      <td>10.0</td>\n",
       "      <td>7.0</td>\n",
       "      <td>0.225</td>\n",
       "      <td>...</td>\n",
       "      <td>1.0</td>\n",
       "      <td>0.0</td>\n",
       "      <td>0.0</td>\n",
       "      <td>0.0</td>\n",
       "      <td>0.0</td>\n",
       "      <td>0.0</td>\n",
       "      <td>0.0</td>\n",
       "      <td>0.0</td>\n",
       "      <td>0.0</td>\n",
       "      <td>0.000000</td>\n",
       "    </tr>\n",
       "    <tr>\n",
       "      <th>2</th>\n",
       "      <td>chr10_100076460_+</td>\n",
       "      <td>m64076_210328_012155/112330052/ccs</td>\n",
       "      <td>69.0</td>\n",
       "      <td>1.0</td>\n",
       "      <td>10.0</td>\n",
       "      <td>8.0</td>\n",
       "      <td>22.0</td>\n",
       "      <td>22.0</td>\n",
       "      <td>15.0</td>\n",
       "      <td>0.550</td>\n",
       "      <td>...</td>\n",
       "      <td>0.0</td>\n",
       "      <td>0.0</td>\n",
       "      <td>0.0</td>\n",
       "      <td>0.0</td>\n",
       "      <td>0.0</td>\n",
       "      <td>0.0</td>\n",
       "      <td>0.0</td>\n",
       "      <td>0.0</td>\n",
       "      <td>0.0</td>\n",
       "      <td>0.000000</td>\n",
       "    </tr>\n",
       "    <tr>\n",
       "      <th>3</th>\n",
       "      <td>chr10_100085646_-</td>\n",
       "      <td>m54329U_210810_004956/12124794/ccs</td>\n",
       "      <td>55.0</td>\n",
       "      <td>2.0</td>\n",
       "      <td>3.0</td>\n",
       "      <td>5.0</td>\n",
       "      <td>22.0</td>\n",
       "      <td>23.0</td>\n",
       "      <td>15.0</td>\n",
       "      <td>0.550</td>\n",
       "      <td>...</td>\n",
       "      <td>0.0</td>\n",
       "      <td>0.0</td>\n",
       "      <td>1.0</td>\n",
       "      <td>0.0</td>\n",
       "      <td>1.0</td>\n",
       "      <td>0.5</td>\n",
       "      <td>1.0</td>\n",
       "      <td>0.5</td>\n",
       "      <td>1.0</td>\n",
       "      <td>0.333333</td>\n",
       "    </tr>\n",
       "    <tr>\n",
       "      <th>4</th>\n",
       "      <td>chr10_100118172_-</td>\n",
       "      <td>m64076_221119_202646/24772945/ccs</td>\n",
       "      <td>71.0</td>\n",
       "      <td>2.0</td>\n",
       "      <td>6.0</td>\n",
       "      <td>3.0</td>\n",
       "      <td>30.0</td>\n",
       "      <td>25.0</td>\n",
       "      <td>16.0</td>\n",
       "      <td>0.750</td>\n",
       "      <td>...</td>\n",
       "      <td>1.0</td>\n",
       "      <td>0.5</td>\n",
       "      <td>0.0</td>\n",
       "      <td>0.0</td>\n",
       "      <td>1.0</td>\n",
       "      <td>0.0</td>\n",
       "      <td>0.0</td>\n",
       "      <td>0.0</td>\n",
       "      <td>0.0</td>\n",
       "      <td>0.000000</td>\n",
       "    </tr>\n",
       "  </tbody>\n",
       "</table>\n",
       "<p>5 rows × 128 columns</p>\n",
       "</div>"
      ],
      "text/plain": [
       "          motif_name                           query_name  msp_size  \\\n",
       "0  chr10_100001134_+  m54329U_210326_192251/136053044/ccs     154.0   \n",
       "1  chr10_100009901_+  m54329U_210813_020940/108857329/ccs     268.0   \n",
       "2  chr10_100076460_+   m64076_210328_012155/112330052/ccs      69.0   \n",
       "3  chr10_100085646_-   m54329U_210810_004956/12124794/ccs      55.0   \n",
       "4  chr10_100118172_-    m64076_221119_202646/24772945/ccs      71.0   \n",
       "\n",
       "   left_m6a_count  right_m6a_count  motif_m6a_count  left_AT_count  \\\n",
       "0             6.0              0.0              1.0           16.0   \n",
       "1             6.0              6.0              4.0            9.0   \n",
       "2             1.0             10.0              8.0           22.0   \n",
       "3             2.0              3.0              5.0           22.0   \n",
       "4             2.0              6.0              3.0           30.0   \n",
       "\n",
       "   right_AT_count  motif_AT_count  left_AT_prop  ...  TGT_count  TGT_m6a_prop  \\\n",
       "0            14.0            16.0         0.400  ...        0.0           0.0   \n",
       "1            10.0             7.0         0.225  ...        1.0           0.0   \n",
       "2            22.0            15.0         0.550  ...        0.0           0.0   \n",
       "3            23.0            15.0         0.550  ...        0.0           0.0   \n",
       "4            25.0            16.0         0.750  ...        1.0           0.5   \n",
       "\n",
       "   TTA_count  TTA_m6a_prop  TTC_count  TTC_m6a_prop  TTG_count  TTG_m6a_prop  \\\n",
       "0        0.0           0.0        0.0           0.0        2.0           0.0   \n",
       "1        0.0           0.0        0.0           0.0        0.0           0.0   \n",
       "2        0.0           0.0        0.0           0.0        0.0           0.0   \n",
       "3        1.0           0.0        1.0           0.5        1.0           0.5   \n",
       "4        0.0           0.0        1.0           0.0        0.0           0.0   \n",
       "\n",
       "   TTT_count  TTT_m6a_prop  \n",
       "0        0.0      0.000000  \n",
       "1        0.0      0.000000  \n",
       "2        0.0      0.000000  \n",
       "3        1.0      0.333333  \n",
       "4        0.0      0.000000  \n",
       "\n",
       "[5 rows x 128 columns]"
      ]
     },
     "execution_count": 49,
     "metadata": {},
     "output_type": "execute_result"
    }
   ],
   "source": [
    "res.head()"
   ]
  },
  {
   "cell_type": "code",
   "execution_count": null,
   "metadata": {
    "hidden": true
   },
   "outputs": [],
   "source": []
  },
  {
   "cell_type": "markdown",
   "metadata": {
    "heading_collapsed": true
   },
   "source": [
    "#### run length encoding Mitchell example"
   ]
  },
  {
   "cell_type": "code",
   "execution_count": 148,
   "metadata": {
    "collapsed": true,
    "hidden": true
   },
   "outputs": [
    {
     "ename": "IndexError",
     "evalue": "boolean index did not match indexed array along dimension 0; dimension is 0 but corresponding boolean dimension is 35",
     "output_type": "error",
     "traceback": [
      "\u001b[0;31m---------------------------------------------------------------------------\u001b[0m",
      "\u001b[0;31mIndexError\u001b[0m                                Traceback (most recent call last)",
      "Cell \u001b[0;32mIn[148], line 9\u001b[0m\n\u001b[1;32m      6\u001b[0m motifis_AT \u001b[38;5;241m=\u001b[39m [(base \u001b[38;5;241m==\u001b[39m \u001b[38;5;124m\"\u001b[39m\u001b[38;5;124mA\u001b[39m\u001b[38;5;124m\"\u001b[39m \u001b[38;5;129;01mor\u001b[39;00m base \u001b[38;5;241m==\u001b[39m \u001b[38;5;124m\"\u001b[39m\u001b[38;5;124mT\u001b[39m\u001b[38;5;124m\"\u001b[39m) \u001b[38;5;28;01mfor\u001b[39;00m base \u001b[38;5;129;01min\u001b[39;00m motif_seq]\n\u001b[1;32m      8\u001b[0m \u001b[38;5;66;03m# take motif m6a & subset by positions that are actually AT\u001b[39;00m\n\u001b[0;32m----> 9\u001b[0m \u001b[43mnp\u001b[49m\u001b[38;5;241;43m.\u001b[39;49m\u001b[43marray\u001b[49m\u001b[43m(\u001b[49m\u001b[43mmotif_m6a\u001b[49m\u001b[43m)\u001b[49m\u001b[43m[\u001b[49m\u001b[43mnp\u001b[49m\u001b[38;5;241;43m.\u001b[39;49m\u001b[43marray\u001b[49m\u001b[43m(\u001b[49m\u001b[43mmotifis_AT\u001b[49m\u001b[43m)\u001b[49m\u001b[43m]\u001b[49m\n",
      "\u001b[0;31mIndexError\u001b[0m: boolean index did not match indexed array along dimension 0; dimension is 0 but corresponding boolean dimension is 35"
     ]
    }
   ],
   "source": [
    "m6a = [0,0,0,1,1,1,0,0,0,0,0,0,1]\n",
    "motif_m6a = m6a[100:135]\n",
    "seq = \"AAGGCCTTAAGGGAAAA\"*20\n",
    "motif_seq = seq[100:135]\n",
    "# AT mask\n",
    "motifis_AT = [(base == \"A\" or base == \"T\") for base in motif_seq]\n",
    "\n",
    "# take motif m6a & subset by positions that are actually AT\n",
    "np.array(motif_m6a)[np.array(motifis_AT)]"
   ]
  },
  {
   "cell_type": "code",
   "execution_count": 149,
   "metadata": {
    "hidden": true
   },
   "outputs": [],
   "source": [
    "m6a = [0,0,0,1,1,1,0,0,0,0,0,0,1]\n",
    "test_rle = np.array(m6a)"
   ]
  },
  {
   "cell_type": "code",
   "execution_count": null,
   "metadata": {
    "hidden": true
   },
   "outputs": [],
   "source": [
    "# numpy run length encoding Python (could do in a for loop but there's probably a 1 liner)\n",
    "# see stack overflow link Mitchell sent\n",
    "the function in the first response looks like a reasonable way to code it up to him"
   ]
  },
  {
   "cell_type": "markdown",
   "metadata": {},
   "source": [
    "### Save feature info"
   ]
  },
  {
   "cell_type": "code",
   "execution_count": 84,
   "metadata": {},
   "outputs": [],
   "source": [
    "# set folders\n",
    "project_dir = \"/mmfs1/gscratch/stergachislab/mwperez/ctcf-footprinting\"\n",
    "output_dir = \"{}/feature_data\".format(project_dir)"
   ]
  },
  {
   "cell_type": "markdown",
   "metadata": {
    "heading_collapsed": true
   },
   "source": [
    "##### positive data (merged)"
   ]
  },
  {
   "cell_type": "code",
   "execution_count": 68,
   "metadata": {
    "hidden": true
   },
   "outputs": [
    {
     "name": "stdout",
     "output_type": "stream",
     "text": [
      "Saving to output file: /mmfs1/gscratch/stergachislab/mwperez/ctcf-footprinting/candidate_footprints/CTCF_m6a_fiberseq_merged_100bp_features.txt\n"
     ]
    }
   ],
   "source": [
    "# save POSITIVE merged feature info to txt\n",
    "motif_type = \"merged\"\n",
    "output_file = \"{}/CTCF_m6a_fiberseq_{}_100bp_features.txt\".format(output_dir, motif_type)\n",
    "print(\"Saving to output file: {}\".format(output_file))\n",
    "res.to_csv(output_file, header=True, index=None, sep=\"\\t\",)"
   ]
  },
  {
   "cell_type": "markdown",
   "metadata": {
    "heading_collapsed": true
   },
   "source": [
    "##### positive data (L)"
   ]
  },
  {
   "cell_type": "code",
   "execution_count": 34,
   "metadata": {
    "hidden": true
   },
   "outputs": [
    {
     "name": "stdout",
     "output_type": "stream",
     "text": [
      "Saving to output file: /mmfs1/gscratch/stergachislab/mwperez/ctcf-footprinting/candidate_footprints/CTCF_m6a_fiberseq_L_100bp_features.txt\n"
     ]
    }
   ],
   "source": [
    "# save POSITIVE L feature info to txt\n",
    "motif_type = \"L\"\n",
    "output_file = \"{}/CTCF_m6a_fiberseq_{}_100bp_features.txt\".format(output_dir, motif_type)\n",
    "print(\"Saving to output file: {}\".format(output_file))\n",
    "res.to_csv(output_file, header=True, index=None, sep=\"\\t\",)"
   ]
  },
  {
   "cell_type": "markdown",
   "metadata": {
    "heading_collapsed": true
   },
   "source": [
    "##### negative data (merged)"
   ]
  },
  {
   "cell_type": "code",
   "execution_count": 85,
   "metadata": {
    "hidden": true
   },
   "outputs": [
    {
     "name": "stdout",
     "output_type": "stream",
     "text": [
      "Saving to output file: /mmfs1/gscratch/stergachislab/mwperez/ctcf-footprinting/feature_data/CTCF_negative_m6a_fiberseq_merged_100bp_small_features.txt\n"
     ]
    }
   ],
   "source": [
    "# save POSITIVE merged feature info to txt\n",
    "motif_type = \"merged\"\n",
    "output_file = \"{}/CTCF_negative_m6a_fiberseq_{}_100bp_small_features.txt\".format(output_dir, motif_type)\n",
    "print(\"Saving to output file: {}\".format(output_file))\n",
    "res.to_csv(output_file, header=True, index=None, sep=\"\\t\",)"
   ]
  },
  {
   "cell_type": "markdown",
   "metadata": {
    "heading_collapsed": true
   },
   "source": [
    "##### negative data (L)"
   ]
  },
  {
   "cell_type": "code",
   "execution_count": null,
   "metadata": {
    "hidden": true
   },
   "outputs": [],
   "source": []
  },
  {
   "cell_type": "code",
   "execution_count": 51,
   "metadata": {
    "hidden": true
   },
   "outputs": [
    {
     "name": "stdout",
     "output_type": "stream",
     "text": [
      "Saving to output file: /mmfs1/gscratch/stergachislab/mwperez/ctcf-footprinting/candidate_footprints/CTCF_negative_m6a_fiberseq_L_100bp_small_features.txt\n"
     ]
    }
   ],
   "source": [
    "# save NEGATIVE L feature info to txt\n",
    "motif_type = \"L\"\n",
    "output_file = \"{}/CTCF_negative_m6a_fiberseq_{}_100bp_small_features.txt\".format(output_dir, motif_type)\n",
    "print(\"Saving to output file: {}\".format(output_file))\n",
    "res.to_csv(output_file, header=True, index=None, sep=\"\\t\",)"
   ]
  },
  {
   "cell_type": "code",
   "execution_count": 97,
   "metadata": {
    "hidden": true
   },
   "outputs": [
    {
     "data": {
      "text/plain": [
       "'/mmfs1/gscratch/stergachislab/mwperez/ctcf-footprinting/candidate_footprints/CTCF_negative_m6a_fiberseq_L_100bp_small.txt'"
      ]
     },
     "execution_count": 97,
     "metadata": {},
     "output_type": "execute_result"
    }
   ],
   "source": [
    "data_file"
   ]
  },
  {
   "cell_type": "code",
   "execution_count": 102,
   "metadata": {
    "hidden": true
   },
   "outputs": [
    {
     "data": {
      "text/plain": [
       "'/mmfs1/gscratch/stergachislab/mwperez/ctcf-footprinting/feature_data'"
      ]
     },
     "execution_count": 102,
     "metadata": {},
     "output_type": "execute_result"
    }
   ],
   "source": [
    "output_dir"
   ]
  },
  {
   "cell_type": "code",
   "execution_count": 103,
   "metadata": {
    "hidden": true
   },
   "outputs": [
    {
     "data": {
      "text/plain": [
       "'/mmfs1/gscratch/stergachislab/mwperez/ctcf-footprinting/feature_data/CTCF_negative_m6a_fiberseq_L_100bp_small_features.txt'"
      ]
     },
     "execution_count": 103,
     "metadata": {},
     "output_type": "execute_result"
    }
   ],
   "source": [
    "\"{}/{}\".format(output_dir, os.path.basename(data_file).replace(\".txt\", \"_features.txt\"))"
   ]
  },
  {
   "cell_type": "markdown",
   "metadata": {},
   "source": [
    "## Format output to pin"
   ]
  },
  {
   "cell_type": "markdown",
   "metadata": {},
   "source": [
    "### balancing positive & negative data"
   ]
  },
  {
   "cell_type": "code",
   "execution_count": 4,
   "metadata": {},
   "outputs": [],
   "source": [
    "# set folders\n",
    "project_dir = \"/mmfs1/gscratch/stergachislab/mwperez/ctcf-footprinting\"\n",
    "data_dir = \"{}/candidate_footprints\".format(project_dir)\n",
    "output_dir = \"{}/feature_data\".format(project_dir)"
   ]
  },
  {
   "cell_type": "code",
   "execution_count": 7,
   "metadata": {},
   "outputs": [],
   "source": [
    "# CTCF merged 5% negative\n",
    "data_file = \"{}/CTCF_m6a_fiberseq_merged_100bp_features-small_5_noNaN.pin\".format(output_dir)"
   ]
  },
  {
   "cell_type": "code",
   "execution_count": 8,
   "metadata": {},
   "outputs": [
    {
     "name": "stdout",
     "output_type": "stream",
     "text": [
      "1,902,730\n",
      "CPU times: user 12.2 s, sys: 1.96 s, total: 14.2 s\n",
      "Wall time: 14.3 s\n"
     ]
    }
   ],
   "source": [
    "%%time\n",
    "# read in data\n",
    "df = pd.read_csv(data_file, sep=\"\\t\")\n",
    "print(f\"{df.shape[0]:,d}\")"
   ]
  },
  {
   "cell_type": "code",
   "execution_count": 15,
   "metadata": {},
   "outputs": [
    {
     "data": {
      "text/plain": [
       "814274"
      ]
     },
     "execution_count": 15,
     "metadata": {},
     "output_type": "execute_result"
    }
   ],
   "source": [
    "df.Label.value_counts()[1]"
   ]
  },
  {
   "cell_type": "code",
   "execution_count": 13,
   "metadata": {
    "collapsed": true
   },
   "outputs": [
    {
     "data": {
      "text/html": [
       "<div>\n",
       "<style scoped>\n",
       "    .dataframe tbody tr th:only-of-type {\n",
       "        vertical-align: middle;\n",
       "    }\n",
       "\n",
       "    .dataframe tbody tr th {\n",
       "        vertical-align: top;\n",
       "    }\n",
       "\n",
       "    .dataframe thead th {\n",
       "        text-align: right;\n",
       "    }\n",
       "</style>\n",
       "<table border=\"1\" class=\"dataframe\">\n",
       "  <thead>\n",
       "    <tr style=\"text-align: right;\">\n",
       "      <th></th>\n",
       "      <th>SpecID</th>\n",
       "      <th>Label</th>\n",
       "      <th>msp_size</th>\n",
       "      <th>left_m6a_count</th>\n",
       "      <th>right_m6a_count</th>\n",
       "      <th>motif_m6a_count</th>\n",
       "      <th>left_AT_count</th>\n",
       "      <th>right_AT_count</th>\n",
       "      <th>motif_AT_count</th>\n",
       "      <th>left_AT_prop</th>\n",
       "      <th>...</th>\n",
       "      <th>TTA_m6a_prop</th>\n",
       "      <th>TTC_count</th>\n",
       "      <th>TTC_m6a_prop</th>\n",
       "      <th>TTG_count</th>\n",
       "      <th>TTG_m6a_prop</th>\n",
       "      <th>TTT_count</th>\n",
       "      <th>TTT_m6a_prop</th>\n",
       "      <th>Peptide</th>\n",
       "      <th>Proteins</th>\n",
       "      <th>scannr</th>\n",
       "    </tr>\n",
       "  </thead>\n",
       "  <tbody>\n",
       "    <tr>\n",
       "      <th>0</th>\n",
       "      <td>chr10_100046241_-/m54329U_210323_190418/105513...</td>\n",
       "      <td>1</td>\n",
       "      <td>174.0</td>\n",
       "      <td>13.0</td>\n",
       "      <td>10.0</td>\n",
       "      <td>0.0</td>\n",
       "      <td>21.0</td>\n",
       "      <td>16.0</td>\n",
       "      <td>11.0</td>\n",
       "      <td>0.525</td>\n",
       "      <td>...</td>\n",
       "      <td>0.0</td>\n",
       "      <td>0.0</td>\n",
       "      <td>0.0</td>\n",
       "      <td>0.0</td>\n",
       "      <td>0.0</td>\n",
       "      <td>0.0</td>\n",
       "      <td>0.0</td>\n",
       "      <td>0</td>\n",
       "      <td>0</td>\n",
       "      <td>0</td>\n",
       "    </tr>\n",
       "    <tr>\n",
       "      <th>1</th>\n",
       "      <td>chr10_100046241_-/m54329U_210323_190418/107414...</td>\n",
       "      <td>1</td>\n",
       "      <td>196.0</td>\n",
       "      <td>14.0</td>\n",
       "      <td>14.0</td>\n",
       "      <td>2.0</td>\n",
       "      <td>21.0</td>\n",
       "      <td>16.0</td>\n",
       "      <td>11.0</td>\n",
       "      <td>0.525</td>\n",
       "      <td>...</td>\n",
       "      <td>0.0</td>\n",
       "      <td>0.0</td>\n",
       "      <td>0.0</td>\n",
       "      <td>0.0</td>\n",
       "      <td>0.0</td>\n",
       "      <td>0.0</td>\n",
       "      <td>0.0</td>\n",
       "      <td>1</td>\n",
       "      <td>1</td>\n",
       "      <td>1</td>\n",
       "    </tr>\n",
       "    <tr>\n",
       "      <th>2</th>\n",
       "      <td>chr10_100046241_-/m54329U_210323_190418/117571...</td>\n",
       "      <td>1</td>\n",
       "      <td>155.0</td>\n",
       "      <td>15.0</td>\n",
       "      <td>9.0</td>\n",
       "      <td>2.0</td>\n",
       "      <td>21.0</td>\n",
       "      <td>17.0</td>\n",
       "      <td>11.0</td>\n",
       "      <td>0.525</td>\n",
       "      <td>...</td>\n",
       "      <td>0.0</td>\n",
       "      <td>0.0</td>\n",
       "      <td>0.0</td>\n",
       "      <td>0.0</td>\n",
       "      <td>0.0</td>\n",
       "      <td>0.0</td>\n",
       "      <td>0.0</td>\n",
       "      <td>2</td>\n",
       "      <td>2</td>\n",
       "      <td>2</td>\n",
       "    </tr>\n",
       "    <tr>\n",
       "      <th>3</th>\n",
       "      <td>chr10_100046241_-/m54329U_210323_190418/135595...</td>\n",
       "      <td>1</td>\n",
       "      <td>161.0</td>\n",
       "      <td>15.0</td>\n",
       "      <td>13.0</td>\n",
       "      <td>3.0</td>\n",
       "      <td>21.0</td>\n",
       "      <td>17.0</td>\n",
       "      <td>11.0</td>\n",
       "      <td>0.525</td>\n",
       "      <td>...</td>\n",
       "      <td>0.0</td>\n",
       "      <td>0.0</td>\n",
       "      <td>0.0</td>\n",
       "      <td>0.0</td>\n",
       "      <td>0.0</td>\n",
       "      <td>0.0</td>\n",
       "      <td>0.0</td>\n",
       "      <td>3</td>\n",
       "      <td>3</td>\n",
       "      <td>3</td>\n",
       "    </tr>\n",
       "    <tr>\n",
       "      <th>4</th>\n",
       "      <td>chr10_100046241_-/m54329U_210323_190418/152242...</td>\n",
       "      <td>1</td>\n",
       "      <td>98.0</td>\n",
       "      <td>11.0</td>\n",
       "      <td>14.0</td>\n",
       "      <td>10.0</td>\n",
       "      <td>21.0</td>\n",
       "      <td>17.0</td>\n",
       "      <td>11.0</td>\n",
       "      <td>0.525</td>\n",
       "      <td>...</td>\n",
       "      <td>0.0</td>\n",
       "      <td>0.0</td>\n",
       "      <td>0.0</td>\n",
       "      <td>0.0</td>\n",
       "      <td>0.0</td>\n",
       "      <td>0.0</td>\n",
       "      <td>0.0</td>\n",
       "      <td>4</td>\n",
       "      <td>4</td>\n",
       "      <td>4</td>\n",
       "    </tr>\n",
       "  </tbody>\n",
       "</table>\n",
       "<p>5 rows × 131 columns</p>\n",
       "</div>"
      ],
      "text/plain": [
       "                                              SpecID  Label  msp_size  \\\n",
       "0  chr10_100046241_-/m54329U_210323_190418/105513...      1     174.0   \n",
       "1  chr10_100046241_-/m54329U_210323_190418/107414...      1     196.0   \n",
       "2  chr10_100046241_-/m54329U_210323_190418/117571...      1     155.0   \n",
       "3  chr10_100046241_-/m54329U_210323_190418/135595...      1     161.0   \n",
       "4  chr10_100046241_-/m54329U_210323_190418/152242...      1      98.0   \n",
       "\n",
       "   left_m6a_count  right_m6a_count  motif_m6a_count  left_AT_count  \\\n",
       "0            13.0             10.0              0.0           21.0   \n",
       "1            14.0             14.0              2.0           21.0   \n",
       "2            15.0              9.0              2.0           21.0   \n",
       "3            15.0             13.0              3.0           21.0   \n",
       "4            11.0             14.0             10.0           21.0   \n",
       "\n",
       "   right_AT_count  motif_AT_count  left_AT_prop  ...  TTA_m6a_prop  TTC_count  \\\n",
       "0            16.0            11.0         0.525  ...           0.0        0.0   \n",
       "1            16.0            11.0         0.525  ...           0.0        0.0   \n",
       "2            17.0            11.0         0.525  ...           0.0        0.0   \n",
       "3            17.0            11.0         0.525  ...           0.0        0.0   \n",
       "4            17.0            11.0         0.525  ...           0.0        0.0   \n",
       "\n",
       "   TTC_m6a_prop  TTG_count  TTG_m6a_prop  TTT_count  TTT_m6a_prop  Peptide  \\\n",
       "0           0.0        0.0           0.0        0.0           0.0        0   \n",
       "1           0.0        0.0           0.0        0.0           0.0        1   \n",
       "2           0.0        0.0           0.0        0.0           0.0        2   \n",
       "3           0.0        0.0           0.0        0.0           0.0        3   \n",
       "4           0.0        0.0           0.0        0.0           0.0        4   \n",
       "\n",
       "   Proteins  scannr  \n",
       "0         0       0  \n",
       "1         1       1  \n",
       "2         2       2  \n",
       "3         3       3  \n",
       "4         4       4  \n",
       "\n",
       "[5 rows x 131 columns]"
      ]
     },
     "execution_count": 13,
     "metadata": {},
     "output_type": "execute_result"
    }
   ],
   "source": [
    "df.head()"
   ]
  },
  {
   "cell_type": "code",
   "execution_count": 14,
   "metadata": {},
   "outputs": [
    {
     "data": {
      "text/plain": [
       "(1088456, 131)"
      ]
     },
     "execution_count": 14,
     "metadata": {},
     "output_type": "execute_result"
    }
   ],
   "source": [
    "# balance data\n",
    "df_neg = df[df[\"Label\"] == -1]\n",
    "df_neg.shape"
   ]
  },
  {
   "cell_type": "code",
   "execution_count": 16,
   "metadata": {},
   "outputs": [],
   "source": [
    "# get the same number of rows as positive data\n",
    "neg_sample = df_neg.sample(n=df.Label.value_counts()[1])"
   ]
  },
  {
   "cell_type": "code",
   "execution_count": 18,
   "metadata": {},
   "outputs": [],
   "source": [
    "neg_sample = neg_sample.reset_index(drop=True)"
   ]
  },
  {
   "cell_type": "code",
   "execution_count": 20,
   "metadata": {},
   "outputs": [
    {
     "data": {
      "text/plain": [
       "(1628548, 131)"
      ]
     },
     "execution_count": 20,
     "metadata": {},
     "output_type": "execute_result"
    }
   ],
   "source": [
    "# merge positive & subsampled negative data\n",
    "d = pd.concat([df[df[\"Label\"] == 1], neg_sample], axis=0)\n",
    "d.shape"
   ]
  },
  {
   "cell_type": "code",
   "execution_count": 22,
   "metadata": {},
   "outputs": [
    {
     "name": "stdout",
     "output_type": "stream",
     "text": [
      "Saved pin file to: /mmfs1/gscratch/stergachislab/mwperez/ctcf-footprinting/feature_data/CTCF_m6a_fiberseq_merged_100bp_features-small_5_noNaN_balanced.pin\n"
     ]
    }
   ],
   "source": [
    "# Percolator tab-delimited format\n",
    "pin_file = \"{}/CTCF_m6a_fiberseq_merged_100bp_features-small_5_noNaN_balanced.pin\".format(output_dir)\n",
    "d.to_csv(pin_file, sep=\"\\t\", header=True, index=False)\n",
    "print(\"Saved pin file to: {}\".format(pin_file))"
   ]
  },
  {
   "cell_type": "code",
   "execution_count": 23,
   "metadata": {},
   "outputs": [
    {
     "data": {
      "text/html": [
       "<div>\n",
       "<style scoped>\n",
       "    .dataframe tbody tr th:only-of-type {\n",
       "        vertical-align: middle;\n",
       "    }\n",
       "\n",
       "    .dataframe tbody tr th {\n",
       "        vertical-align: top;\n",
       "    }\n",
       "\n",
       "    .dataframe thead th {\n",
       "        text-align: right;\n",
       "    }\n",
       "</style>\n",
       "<table border=\"1\" class=\"dataframe\">\n",
       "  <thead>\n",
       "    <tr style=\"text-align: right;\">\n",
       "      <th></th>\n",
       "      <th>SpecID</th>\n",
       "      <th>Label</th>\n",
       "      <th>msp_size</th>\n",
       "      <th>left_m6a_count</th>\n",
       "      <th>right_m6a_count</th>\n",
       "      <th>motif_m6a_count</th>\n",
       "      <th>left_AT_count</th>\n",
       "      <th>right_AT_count</th>\n",
       "      <th>motif_AT_count</th>\n",
       "      <th>left_AT_prop</th>\n",
       "      <th>...</th>\n",
       "      <th>TTA_m6a_prop</th>\n",
       "      <th>TTC_count</th>\n",
       "      <th>TTC_m6a_prop</th>\n",
       "      <th>TTG_count</th>\n",
       "      <th>TTG_m6a_prop</th>\n",
       "      <th>TTT_count</th>\n",
       "      <th>TTT_m6a_prop</th>\n",
       "      <th>Peptide</th>\n",
       "      <th>Proteins</th>\n",
       "      <th>scannr</th>\n",
       "    </tr>\n",
       "  </thead>\n",
       "  <tbody>\n",
       "    <tr>\n",
       "      <th>0</th>\n",
       "      <td>chr10_100046241_-/m54329U_210323_190418/105513...</td>\n",
       "      <td>1</td>\n",
       "      <td>174.0</td>\n",
       "      <td>13.0</td>\n",
       "      <td>10.0</td>\n",
       "      <td>0.0</td>\n",
       "      <td>21.0</td>\n",
       "      <td>16.0</td>\n",
       "      <td>11.0</td>\n",
       "      <td>0.525</td>\n",
       "      <td>...</td>\n",
       "      <td>0.0</td>\n",
       "      <td>0.0</td>\n",
       "      <td>0.0</td>\n",
       "      <td>0.0</td>\n",
       "      <td>0.0</td>\n",
       "      <td>0.0</td>\n",
       "      <td>0.0</td>\n",
       "      <td>0</td>\n",
       "      <td>0</td>\n",
       "      <td>0</td>\n",
       "    </tr>\n",
       "    <tr>\n",
       "      <th>1</th>\n",
       "      <td>chr10_100046241_-/m54329U_210323_190418/107414...</td>\n",
       "      <td>1</td>\n",
       "      <td>196.0</td>\n",
       "      <td>14.0</td>\n",
       "      <td>14.0</td>\n",
       "      <td>2.0</td>\n",
       "      <td>21.0</td>\n",
       "      <td>16.0</td>\n",
       "      <td>11.0</td>\n",
       "      <td>0.525</td>\n",
       "      <td>...</td>\n",
       "      <td>0.0</td>\n",
       "      <td>0.0</td>\n",
       "      <td>0.0</td>\n",
       "      <td>0.0</td>\n",
       "      <td>0.0</td>\n",
       "      <td>0.0</td>\n",
       "      <td>0.0</td>\n",
       "      <td>1</td>\n",
       "      <td>1</td>\n",
       "      <td>1</td>\n",
       "    </tr>\n",
       "    <tr>\n",
       "      <th>2</th>\n",
       "      <td>chr10_100046241_-/m54329U_210323_190418/117571...</td>\n",
       "      <td>1</td>\n",
       "      <td>155.0</td>\n",
       "      <td>15.0</td>\n",
       "      <td>9.0</td>\n",
       "      <td>2.0</td>\n",
       "      <td>21.0</td>\n",
       "      <td>17.0</td>\n",
       "      <td>11.0</td>\n",
       "      <td>0.525</td>\n",
       "      <td>...</td>\n",
       "      <td>0.0</td>\n",
       "      <td>0.0</td>\n",
       "      <td>0.0</td>\n",
       "      <td>0.0</td>\n",
       "      <td>0.0</td>\n",
       "      <td>0.0</td>\n",
       "      <td>0.0</td>\n",
       "      <td>2</td>\n",
       "      <td>2</td>\n",
       "      <td>2</td>\n",
       "    </tr>\n",
       "    <tr>\n",
       "      <th>3</th>\n",
       "      <td>chr10_100046241_-/m54329U_210323_190418/135595...</td>\n",
       "      <td>1</td>\n",
       "      <td>161.0</td>\n",
       "      <td>15.0</td>\n",
       "      <td>13.0</td>\n",
       "      <td>3.0</td>\n",
       "      <td>21.0</td>\n",
       "      <td>17.0</td>\n",
       "      <td>11.0</td>\n",
       "      <td>0.525</td>\n",
       "      <td>...</td>\n",
       "      <td>0.0</td>\n",
       "      <td>0.0</td>\n",
       "      <td>0.0</td>\n",
       "      <td>0.0</td>\n",
       "      <td>0.0</td>\n",
       "      <td>0.0</td>\n",
       "      <td>0.0</td>\n",
       "      <td>3</td>\n",
       "      <td>3</td>\n",
       "      <td>3</td>\n",
       "    </tr>\n",
       "    <tr>\n",
       "      <th>4</th>\n",
       "      <td>chr10_100046241_-/m54329U_210323_190418/152242...</td>\n",
       "      <td>1</td>\n",
       "      <td>98.0</td>\n",
       "      <td>11.0</td>\n",
       "      <td>14.0</td>\n",
       "      <td>10.0</td>\n",
       "      <td>21.0</td>\n",
       "      <td>17.0</td>\n",
       "      <td>11.0</td>\n",
       "      <td>0.525</td>\n",
       "      <td>...</td>\n",
       "      <td>0.0</td>\n",
       "      <td>0.0</td>\n",
       "      <td>0.0</td>\n",
       "      <td>0.0</td>\n",
       "      <td>0.0</td>\n",
       "      <td>0.0</td>\n",
       "      <td>0.0</td>\n",
       "      <td>4</td>\n",
       "      <td>4</td>\n",
       "      <td>4</td>\n",
       "    </tr>\n",
       "    <tr>\n",
       "      <th>...</th>\n",
       "      <td>...</td>\n",
       "      <td>...</td>\n",
       "      <td>...</td>\n",
       "      <td>...</td>\n",
       "      <td>...</td>\n",
       "      <td>...</td>\n",
       "      <td>...</td>\n",
       "      <td>...</td>\n",
       "      <td>...</td>\n",
       "      <td>...</td>\n",
       "      <td>...</td>\n",
       "      <td>...</td>\n",
       "      <td>...</td>\n",
       "      <td>...</td>\n",
       "      <td>...</td>\n",
       "      <td>...</td>\n",
       "      <td>...</td>\n",
       "      <td>...</td>\n",
       "      <td>...</td>\n",
       "      <td>...</td>\n",
       "      <td>...</td>\n",
       "    </tr>\n",
       "    <tr>\n",
       "      <th>814269</th>\n",
       "      <td>chr2_178113076_+/m54329U_210814_130637/3873255...</td>\n",
       "      <td>-1</td>\n",
       "      <td>117.0</td>\n",
       "      <td>2.0</td>\n",
       "      <td>11.0</td>\n",
       "      <td>7.0</td>\n",
       "      <td>14.0</td>\n",
       "      <td>14.0</td>\n",
       "      <td>8.0</td>\n",
       "      <td>0.350</td>\n",
       "      <td>...</td>\n",
       "      <td>0.0</td>\n",
       "      <td>0.0</td>\n",
       "      <td>0.0</td>\n",
       "      <td>0.0</td>\n",
       "      <td>0.0</td>\n",
       "      <td>0.0</td>\n",
       "      <td>0.0</td>\n",
       "      <td>1429714</td>\n",
       "      <td>1429714</td>\n",
       "      <td>1429714</td>\n",
       "    </tr>\n",
       "    <tr>\n",
       "      <th>814270</th>\n",
       "      <td>chr14_76717786_-/m64076_221119_202646/11809704...</td>\n",
       "      <td>-1</td>\n",
       "      <td>96.0</td>\n",
       "      <td>9.0</td>\n",
       "      <td>7.0</td>\n",
       "      <td>14.0</td>\n",
       "      <td>19.0</td>\n",
       "      <td>19.0</td>\n",
       "      <td>16.0</td>\n",
       "      <td>0.475</td>\n",
       "      <td>...</td>\n",
       "      <td>0.0</td>\n",
       "      <td>0.0</td>\n",
       "      <td>0.0</td>\n",
       "      <td>0.0</td>\n",
       "      <td>0.0</td>\n",
       "      <td>0.0</td>\n",
       "      <td>0.0</td>\n",
       "      <td>1017681</td>\n",
       "      <td>1017681</td>\n",
       "      <td>1017681</td>\n",
       "    </tr>\n",
       "    <tr>\n",
       "      <th>814271</th>\n",
       "      <td>chr16_85169019_+/m54329U_210813_020940/7805359...</td>\n",
       "      <td>-1</td>\n",
       "      <td>81.0</td>\n",
       "      <td>6.0</td>\n",
       "      <td>5.0</td>\n",
       "      <td>2.0</td>\n",
       "      <td>20.0</td>\n",
       "      <td>8.0</td>\n",
       "      <td>4.0</td>\n",
       "      <td>0.500</td>\n",
       "      <td>...</td>\n",
       "      <td>0.0</td>\n",
       "      <td>0.0</td>\n",
       "      <td>0.0</td>\n",
       "      <td>0.0</td>\n",
       "      <td>0.0</td>\n",
       "      <td>0.0</td>\n",
       "      <td>0.0</td>\n",
       "      <td>1102325</td>\n",
       "      <td>1102325</td>\n",
       "      <td>1102325</td>\n",
       "    </tr>\n",
       "    <tr>\n",
       "      <th>814272</th>\n",
       "      <td>chr12_121994066_-/m64076_210328_012155/6429360...</td>\n",
       "      <td>-1</td>\n",
       "      <td>67.0</td>\n",
       "      <td>3.0</td>\n",
       "      <td>2.0</td>\n",
       "      <td>4.0</td>\n",
       "      <td>10.0</td>\n",
       "      <td>7.0</td>\n",
       "      <td>5.0</td>\n",
       "      <td>0.250</td>\n",
       "      <td>...</td>\n",
       "      <td>0.0</td>\n",
       "      <td>0.0</td>\n",
       "      <td>0.0</td>\n",
       "      <td>0.0</td>\n",
       "      <td>0.0</td>\n",
       "      <td>0.0</td>\n",
       "      <td>0.0</td>\n",
       "      <td>934069</td>\n",
       "      <td>934069</td>\n",
       "      <td>934069</td>\n",
       "    </tr>\n",
       "    <tr>\n",
       "      <th>814273</th>\n",
       "      <td>chr10_102901306_-/m54329U_210326_192251/177669...</td>\n",
       "      <td>-1</td>\n",
       "      <td>84.0</td>\n",
       "      <td>8.0</td>\n",
       "      <td>8.0</td>\n",
       "      <td>10.0</td>\n",
       "      <td>17.0</td>\n",
       "      <td>15.0</td>\n",
       "      <td>14.0</td>\n",
       "      <td>0.425</td>\n",
       "      <td>...</td>\n",
       "      <td>0.0</td>\n",
       "      <td>0.0</td>\n",
       "      <td>0.0</td>\n",
       "      <td>0.0</td>\n",
       "      <td>0.0</td>\n",
       "      <td>0.0</td>\n",
       "      <td>0.0</td>\n",
       "      <td>816229</td>\n",
       "      <td>816229</td>\n",
       "      <td>816229</td>\n",
       "    </tr>\n",
       "  </tbody>\n",
       "</table>\n",
       "<p>1628548 rows × 131 columns</p>\n",
       "</div>"
      ],
      "text/plain": [
       "                                                   SpecID  Label  msp_size  \\\n",
       "0       chr10_100046241_-/m54329U_210323_190418/105513...      1     174.0   \n",
       "1       chr10_100046241_-/m54329U_210323_190418/107414...      1     196.0   \n",
       "2       chr10_100046241_-/m54329U_210323_190418/117571...      1     155.0   \n",
       "3       chr10_100046241_-/m54329U_210323_190418/135595...      1     161.0   \n",
       "4       chr10_100046241_-/m54329U_210323_190418/152242...      1      98.0   \n",
       "...                                                   ...    ...       ...   \n",
       "814269  chr2_178113076_+/m54329U_210814_130637/3873255...     -1     117.0   \n",
       "814270  chr14_76717786_-/m64076_221119_202646/11809704...     -1      96.0   \n",
       "814271  chr16_85169019_+/m54329U_210813_020940/7805359...     -1      81.0   \n",
       "814272  chr12_121994066_-/m64076_210328_012155/6429360...     -1      67.0   \n",
       "814273  chr10_102901306_-/m54329U_210326_192251/177669...     -1      84.0   \n",
       "\n",
       "        left_m6a_count  right_m6a_count  motif_m6a_count  left_AT_count  \\\n",
       "0                 13.0             10.0              0.0           21.0   \n",
       "1                 14.0             14.0              2.0           21.0   \n",
       "2                 15.0              9.0              2.0           21.0   \n",
       "3                 15.0             13.0              3.0           21.0   \n",
       "4                 11.0             14.0             10.0           21.0   \n",
       "...                ...              ...              ...            ...   \n",
       "814269             2.0             11.0              7.0           14.0   \n",
       "814270             9.0              7.0             14.0           19.0   \n",
       "814271             6.0              5.0              2.0           20.0   \n",
       "814272             3.0              2.0              4.0           10.0   \n",
       "814273             8.0              8.0             10.0           17.0   \n",
       "\n",
       "        right_AT_count  motif_AT_count  left_AT_prop  ...  TTA_m6a_prop  \\\n",
       "0                 16.0            11.0         0.525  ...           0.0   \n",
       "1                 16.0            11.0         0.525  ...           0.0   \n",
       "2                 17.0            11.0         0.525  ...           0.0   \n",
       "3                 17.0            11.0         0.525  ...           0.0   \n",
       "4                 17.0            11.0         0.525  ...           0.0   \n",
       "...                ...             ...           ...  ...           ...   \n",
       "814269            14.0             8.0         0.350  ...           0.0   \n",
       "814270            19.0            16.0         0.475  ...           0.0   \n",
       "814271             8.0             4.0         0.500  ...           0.0   \n",
       "814272             7.0             5.0         0.250  ...           0.0   \n",
       "814273            15.0            14.0         0.425  ...           0.0   \n",
       "\n",
       "        TTC_count  TTC_m6a_prop  TTG_count  TTG_m6a_prop  TTT_count  \\\n",
       "0             0.0           0.0        0.0           0.0        0.0   \n",
       "1             0.0           0.0        0.0           0.0        0.0   \n",
       "2             0.0           0.0        0.0           0.0        0.0   \n",
       "3             0.0           0.0        0.0           0.0        0.0   \n",
       "4             0.0           0.0        0.0           0.0        0.0   \n",
       "...           ...           ...        ...           ...        ...   \n",
       "814269        0.0           0.0        0.0           0.0        0.0   \n",
       "814270        0.0           0.0        0.0           0.0        0.0   \n",
       "814271        0.0           0.0        0.0           0.0        0.0   \n",
       "814272        0.0           0.0        0.0           0.0        0.0   \n",
       "814273        0.0           0.0        0.0           0.0        0.0   \n",
       "\n",
       "        TTT_m6a_prop  Peptide  Proteins   scannr  \n",
       "0                0.0        0         0        0  \n",
       "1                0.0        1         1        1  \n",
       "2                0.0        2         2        2  \n",
       "3                0.0        3         3        3  \n",
       "4                0.0        4         4        4  \n",
       "...              ...      ...       ...      ...  \n",
       "814269           0.0  1429714   1429714  1429714  \n",
       "814270           0.0  1017681   1017681  1017681  \n",
       "814271           0.0  1102325   1102325  1102325  \n",
       "814272           0.0   934069    934069   934069  \n",
       "814273           0.0   816229    816229   816229  \n",
       "\n",
       "[1628548 rows x 131 columns]"
      ]
     },
     "execution_count": 23,
     "metadata": {},
     "output_type": "execute_result"
    }
   ],
   "source": [
    "d"
   ]
  },
  {
   "cell_type": "code",
   "execution_count": null,
   "metadata": {},
   "outputs": [],
   "source": []
  },
  {
   "cell_type": "markdown",
   "metadata": {
    "heading_collapsed": true
   },
   "source": [
    "## archive"
   ]
  },
  {
   "cell_type": "markdown",
   "metadata": {
    "heading_collapsed": true,
    "hidden": true
   },
   "source": [
    "### feature info collection"
   ]
  },
  {
   "cell_type": "code",
   "execution_count": null,
   "metadata": {
    "hidden": true
   },
   "outputs": [],
   "source": [
    "# working\n",
    "def agg_features(x, feature_cols):\n",
    "    '''Collects features. Returns a df with feature info per unique group.'''\n",
    "    feature_cols = [\"msp_size\",\n",
    "                    \"left_m6a_count\", \"right_m6a_count\", \"motif_m6a_count\", # m6a count\n",
    "                    \"left_AT_count\", \"right_AT_count\", \"motif_AT_count\", # AT count\n",
    "                    \"left_AT_prop\", \"right_AT_prop\", \"motif_AT_prop\", # proportion of bases that are AT\n",
    "                    \"left_m6a_prop\", \"right_m6a_prop\", \"motif_m6a_prop\", # proportion of ATs that are methylated\n",
    "                    \"total_m6a_prop\", # proportion of ATs that are methylated in subseq_sequence\n",
    "                   ] + feature_cols\n",
    "    \n",
    "    # dict to hold info\n",
    "    d = dict((col, 0) for col in feature_cols)\n",
    "    \n",
    "    # msp size\n",
    "    d[feature_cols[0]] = x[\"msp_size\"].unique()[0]\n",
    "    \n",
    "    # m6a count flanking left, right, motif\n",
    "    d[feature_cols[1]] = (x[\"centered_end\"] < 0).sum()\n",
    "    d[feature_cols[2]] = (x[\"centered_start\"] >= 35).sum()\n",
    "    d[feature_cols[3]] = ((x[\"centered_start\"] >= 0) & (x[\"centered_end\"] <= 35)).sum()\n",
    "    \n",
    "    # sequences\n",
    "    center = 100\n",
    "    motif_len = 35\n",
    "    subseq = x[\"subset_sequence\"].unique()[0]\n",
    "    subseq_motif = subseq[center:(center+motif_len)]\n",
    "    # length of flank in bp\n",
    "    flank_len = 40\n",
    "    # flank left & flank_right\n",
    "    subseq_l = subseq[center-flank_len:center]\n",
    "    subseq_r = subseq[center+motif_len:center+motif_len+flank_len]\n",
    "    \n",
    "    # AT count\n",
    "    d[feature_cols[4]] = (subseq_l.count(\"A\") + subseq_l.count(\"T\"))\n",
    "    d[feature_cols[5]] = (subseq_r.count(\"A\") + subseq_r.count(\"T\"))\n",
    "    d[feature_cols[6]] = (subseq_motif.count(\"A\") + subseq_motif.count(\"T\"))\n",
    "    \n",
    "    # proportion of bases that are AT\n",
    "    d[feature_cols[7]] = (subseq_l.count(\"A\") + subseq_l.count(\"T\"))/flank_len\n",
    "    d[feature_cols[8]] = (subseq_r.count(\"A\") + subseq_r.count(\"T\"))/flank_len\n",
    "    d[feature_cols[9]] = (subseq_motif.count(\"A\") + subseq_motif.count(\"T\"))/motif_len\n",
    "    \n",
    "    # proportion of methylated ATs (m6a_count/AT_count)\n",
    "    d[feature_cols[10]] = d[feature_cols[1]]/d[feature_cols[4]]\n",
    "    d[feature_cols[11]] = d[feature_cols[2]]/d[feature_cols[5]]\n",
    "    d[feature_cols[12]] = d[feature_cols[3]]/d[feature_cols[6]]\n",
    "    d[feature_cols[13]] = (x[\"centered_position_type\"] == \"m6a\").sum()/(subseq.count(\"A\") + subseq.count(\"T\"))\n",
    "    \n",
    "    \n",
    "    #----- k-mer info -----#\n",
    "    \n",
    "    # m6a bool\n",
    "    m6a_bool = x[(x[\"centered_start\"] >= 0) & (x[\"centered_end\"] <= 35)][\"centered_start\"].values\n",
    "    m6a_bool = [1 if (i in m6a_bool) else 0 for i in range(0, 35)]\n",
    "    \n",
    "    # decompose motif seq into k-mers\n",
    "    motif_kmers = get_kmers(subseq_motif, 3)\n",
    "    m6a_kmers = get_kmers(m6a_bool, 3)\n",
    "    # make bool of ATs in motif seq\n",
    "    motifis_AT = [(\"A\" in kmer or \"T\" in kmer) for kmer in motif_kmers]\n",
    "    \n",
    "    # drop motif instances without an AT\n",
    "    motif_kmers = list(np.array(motif_kmers)[motifis_AT])\n",
    "    m6a_kmers = list(np.array(m6a_kmers)[motifis_AT])\n",
    "    \n",
    "    # make kmer_dict\n",
    "    kmer_info = defaultdict(lambda: defaultdict(int))\n",
    "\n",
    "    for kmer, m6as in zip(motif_kmers, m6a_kmers):\n",
    "        #d[kmer][\"count\"] += 1\n",
    "        #d[kmer][\"m6a\"] += sum(m6as)\n",
    "        \n",
    "        kmer_keys = [kmer+\"_count\", kmer+\"_m6a\"]\n",
    "        d[kmer_keys[0]] += 1\n",
    "        d[kmer_keys[1]] += sum(m6as)\n",
    "    \n",
    "    return pd.Series(d, index=list(d.keys()))"
   ]
  },
  {
   "cell_type": "code",
   "execution_count": null,
   "metadata": {
    "hidden": true
   },
   "outputs": [],
   "source": [
    "##### FUNCTIONING #####\n",
    "def agg_features(x):\n",
    "    '''Collects features. Returns a df with feature info per unique group.'''\n",
    "    feature_cols = [\"msp_size\",\n",
    "                    \"left_m6a_count\", \"right_m6a_count\", \"motif_m6a_count\", # m6a count\n",
    "                    \"left_AT_count\", \"right_AT_count\", \"motif_AT_count\", # AT count\n",
    "                    \"left_AT_prop\", \"right_AT_prop\", \"motif_AT_prop\", # proportion of bases that are AT\n",
    "                    \"left_m6a_prop\", \"right_m6a_prop\", \"motif_m6a_prop\", # proportion of ATs that are methylated\n",
    "                    \"total_m6a_prop\", # proportion of ATs that are methylated in subseq_sequence\n",
    "                   ] \n",
    "    d = {}\n",
    "    # msp size\n",
    "    d[feature_cols[0]] = x[\"msp_size\"].unique()[0]\n",
    "    \n",
    "    # m6a count flanking left, right, motif\n",
    "    d[feature_cols[1]] = (x[\"centered_end\"] < 0).sum()\n",
    "    d[feature_cols[2]] = (x[\"centered_start\"] >= 35).sum()\n",
    "    d[feature_cols[3]] = ((x[\"centered_start\"] >= 0) & (x[\"centered_end\"] <= 35)).sum()\n",
    "    \n",
    "    # sequences\n",
    "    center = 100\n",
    "    motif_len = 35\n",
    "    subseq = x[\"subset_sequence\"].unique()[0]\n",
    "    subseq_motif = subseq[center:(center+motif_len)]\n",
    "    # length of flank in bp\n",
    "    flank_len = 40\n",
    "    # flank left & flank_right\n",
    "    subseq_l = subseq[center-flank_len:center]\n",
    "    subseq_r = subseq[center+motif_len:center+motif_len+flank_len]\n",
    "    \n",
    "    # AT count\n",
    "    d[feature_cols[4]] = (subseq_l.count(\"A\") + subseq_l.count(\"T\"))\n",
    "    d[feature_cols[5]] = (subseq_r.count(\"A\") + subseq_r.count(\"T\"))\n",
    "    d[feature_cols[6]] = (subseq_motif.count(\"A\") + subseq_motif.count(\"T\"))\n",
    "    \n",
    "    # proportion of bases that are AT\n",
    "    d[feature_cols[7]] = (subseq_l.count(\"A\") + subseq_l.count(\"T\"))/flank_len\n",
    "    d[feature_cols[8]] = (subseq_r.count(\"A\") + subseq_r.count(\"T\"))/flank_len\n",
    "    d[feature_cols[9]] = (subseq_motif.count(\"A\") + subseq_motif.count(\"T\"))/motif_len\n",
    "    \n",
    "    # proportion of methylated ATs (m6a_count/AT_count)\n",
    "    d[feature_cols[10]] = d[feature_cols[1]]/d[feature_cols[4]]\n",
    "    d[feature_cols[11]] = d[feature_cols[2]]/d[feature_cols[5]]\n",
    "    d[feature_cols[12]] = d[feature_cols[3]]/d[feature_cols[6]]\n",
    "    d[feature_cols[13]] = (x[\"centered_position_type\"] == \"m6a\").sum()/(subseq.count(\"A\") + subseq.count(\"T\"))\n",
    "    \n",
    "    return pd.Series(d, index=feature_cols)"
   ]
  },
  {
   "cell_type": "code",
   "execution_count": 16,
   "metadata": {
    "hidden": true
   },
   "outputs": [
    {
     "name": "stdout",
     "output_type": "stream",
     "text": [
      "Total rows: 1,986\n",
      "Total columns: 16\n",
      "CPU times: user 2.11 s, sys: 2.5 ms, total: 2.11 s\n",
      "Wall time: 2.12 s\n"
     ]
    }
   ],
   "source": [
    "#----- SAVING OLD VERSION -----#\n",
    "\n",
    "%%time\n",
    "# aggregate features\n",
    "res = df.groupby(grouping_cols).apply(agg_features).reset_index()\n",
    "# change col dtypes for memory\n",
    "res[res.columns.tolist()[2:]] = res[res.columns.tolist()[2:]].apply(pd.to_numeric, downcast=\"float\")\n",
    "print(\"Total rows: \" + \"{:,}\".format(res.shape[0]))\n",
    "print(\"Total columns: \" + \"{:,}\".format(res.shape[1]))"
   ]
  },
  {
   "cell_type": "code",
   "execution_count": null,
   "metadata": {
    "hidden": true
   },
   "outputs": [],
   "source": []
  },
  {
   "cell_type": "markdown",
   "metadata": {
    "hidden": true
   },
   "source": [
    "### make k-mer algo"
   ]
  },
  {
   "cell_type": "markdown",
   "metadata": {
    "hidden": true
   },
   "source": [
    "k-mer features (1 column each)\n",
    "* [ ] 3-mer k-mer count within canonical motif (n/a: exclude k-mers without AT)\n",
    "* [ ] m6a count within each k-mer\n",
    "> $$ m6a\\ kmer\\ prop = m6a\\ count / (AT\\ count * kmer counts)$$"
   ]
  },
  {
   "cell_type": "markdown",
   "metadata": {
    "hidden": true
   },
   "source": [
    "also need to get the m6a instances and map them to the motif sequence\n",
    "<br>map sequence positions to m6a coords & count while iterating through sequence\n",
    "<br>create second matching bool array of m6a at each site"
   ]
  },
  {
   "cell_type": "code",
   "execution_count": 18,
   "metadata": {
    "hidden": true
   },
   "outputs": [],
   "source": [
    "# n k-mers\n",
    "k = 3"
   ]
  },
  {
   "cell_type": "markdown",
   "metadata": {
    "hidden": true
   },
   "source": [
    "base_map = {\"A\": 0, \"C\": 1, \"G\": 2, \"T\": 3}"
   ]
  },
  {
   "cell_type": "code",
   "execution_count": 19,
   "metadata": {
    "hidden": true
   },
   "outputs": [],
   "source": [
    "def get_motif_seq(subset_sequence):\n",
    "    '''Get motif sequence from subset_sequence.'''\n",
    "    center_idx = 100\n",
    "    motif_len = 35\n",
    "    motif_seq = subset_sequence[center:(center+motif_len)]\n",
    "    return motif_seq"
   ]
  },
  {
   "cell_type": "code",
   "execution_count": 20,
   "metadata": {
    "hidden": true
   },
   "outputs": [],
   "source": [
    "def get_kmers(seq, k):\n",
    "    '''Decompose the input sequence (str) into k-mers (str).'''\n",
    "    num_kmers = len(seq) - k + 1\n",
    "    seqs = [seq[i:i+k] for i in range(num_kmers)]\n",
    "    return seqs"
   ]
  },
  {
   "cell_type": "code",
   "execution_count": 21,
   "metadata": {
    "hidden": true
   },
   "outputs": [],
   "source": [
    "def seq_to_int_tuple(seq):\n",
    "    '''Convert the input DNA sequence (str) to a int-encoded tuple.'''\n",
    "    base_map = {\"A\": 0, \"C\": 1, \"G\": 2, \"T\": 3}\n",
    "    int_tuple = tuple(base_map[base] for base in seq)\n",
    "    return int_tuple"
   ]
  },
  {
   "cell_type": "code",
   "execution_count": 28,
   "metadata": {
    "collapsed": true,
    "hidden": true
   },
   "outputs": [
    {
     "name": "stdout",
     "output_type": "stream",
     "text": [
      "24\n",
      "48\n"
     ]
    }
   ],
   "source": [
    "# make alphabetical list of all possible k-mers (kmer_count, kmer_m6a_prop)\n",
    "kmer_cols = sorted([\"\".join(p) for p in itertools.permutations(\"ACGT\", k)])\n",
    "print(len(kmer_cols))\n",
    "kmer_cols = list(itertools.chain(*[[kmer+\"_count\", kmer+\"_m6a\"] for kmer in kmer_cols]))\n",
    "print(len(kmer_cols))"
   ]
  },
  {
   "cell_type": "code",
   "execution_count": 315,
   "metadata": {
    "hidden": true
   },
   "outputs": [],
   "source": [
    "from collections import OrderedDict"
   ]
  },
  {
   "cell_type": "code",
   "execution_count": 316,
   "metadata": {
    "hidden": true
   },
   "outputs": [],
   "source": [
    "def make_kmer_info(m6a_pos, subset_sequence, k=3):\n",
    "    # make bool of m6a in motif_seq\n",
    "    #m6a_bool = d[(d[\"centered_start\"] >= 0) & (d[\"centered_end\"] <= 35)][\"centered_start\"].values\n",
    "    m6a_bool = [1 if (i in m6a_pos) else 0 for i in range(0, 35)]\n",
    "\n",
    "    # get motif sequence\n",
    "    motif_seq = get_motif_seq(subset_sequence)\n",
    "    # make bool of ATs in motif seq\n",
    "    motifis_AT = np.array([(base == \"A\" or base == \"T\") for base in motif_seq], dtype=int)\n",
    "    \n",
    "    # decompose motif seq into k-mers\n",
    "    motif_kmers = get_kmers(motif_seq, 3)\n",
    "    m6a_kmers = get_kmers(m6a_bool, 3)\n",
    "    # make bool of ATs in motif seq\n",
    "    motifis_AT = [(\"A\" in kmer or \"T\" in kmer) for kmer in motif_kmers]\n",
    "    \n",
    "    # drop motif instances without an AT\n",
    "    motif_kmers = list(np.array(motif_kmers)[motifis_AT])\n",
    "    m6a_kmers = list(np.array(m6a_kmers)[motifis_AT])\n",
    "        \n",
    "    # make k-mer dict (new)\n",
    "    kmer_info = defaultdict(int)\n",
    "\n",
    "    for kmer, m6as in zip(motif_kmers, m6a_kmers):\n",
    "        kmer_keys = [kmer+\"_count\", kmer+\"_m6a\"]\n",
    "        kmer_info[kmer_keys[0]] += 1\n",
    "        kmer_info[kmer_keys[1]] += sum(m6as)\n",
    "    \n",
    "    kmer_info = OrderedDict(sorted(kmer_info.items()))\n",
    "    \n",
    "    return kmer_info"
   ]
  },
  {
   "cell_type": "code",
   "execution_count": 40,
   "metadata": {
    "hidden": true
   },
   "outputs": [
    {
     "name": "stdout",
     "output_type": "stream",
     "text": [
      "(8, 15)\n"
     ]
    }
   ],
   "source": [
    "# get sample rows\n",
    "row_idx = 2\n",
    "d = df[(df[\"motif_name\"] == \"chr1_10173651_+\") & (df[\"query_name\"] == \"m54329U_210323_190418/50594832/ccs\")]\n",
    "print(d.shape)\n",
    "\n",
    "# get only m6a's within motif\n",
    "#d_m6a = d[(d[\"centered_start\"] >= 0) & (d[\"centered_end\"] <= 35)]\n",
    "#d_m6a[[\"centered_start\", \"centered_end\"]]"
   ]
  },
  {
   "cell_type": "code",
   "execution_count": 41,
   "metadata": {
    "hidden": true
   },
   "outputs": [
    {
     "name": "stdout",
     "output_type": "stream",
     "text": [
      "motif seq: 35\n"
     ]
    }
   ],
   "source": [
    "# test sequence\n",
    "subset_sequence = d[\"subset_sequence\"].unique()[0]\n",
    "\n",
    "# get motif seq\n",
    "center = 100\n",
    "motif_len = 35\n",
    "motif_seq = subset_sequence[center:(center+motif_len)]\n",
    "# make bool of ATs in motif seq\n",
    "motifis_AT = [(base == \"A\" or base == \"T\") for base in motif_seq]\n",
    "print(\"motif seq: {}\".format(len(motif_seq)))"
   ]
  },
  {
   "cell_type": "code",
   "execution_count": 42,
   "metadata": {
    "hidden": true
   },
   "outputs": [],
   "source": [
    "# make bool of m6a in motif_seq\n",
    "m6a_bool = d[(d[\"centered_start\"] >= 0) & (d[\"centered_end\"] <= 35)][\"centered_start\"].values\n",
    "m6a_bool = [1 if (i in m6a_bool) else 0 for i in range(0, 35)]\n",
    "\n",
    "# get motif sequence\n",
    "motif_seq = get_motif_seq(subset_sequence)\n",
    "# make bool of ATs in motif seq\n",
    "motifis_AT = np.array([(base == \"A\" or base == \"T\") for base in motif_seq], dtype=int)"
   ]
  },
  {
   "cell_type": "code",
   "execution_count": 234,
   "metadata": {
    "hidden": true
   },
   "outputs": [],
   "source": [
    "# decompose motif seq into k-mers\n",
    "motif_kmers = get_kmers(motif_seq, 3)\n",
    "m6a_kmers = get_kmers(m6a_bool, 3)\n",
    "# make bool of ATs in motif seq\n",
    "motifis_AT = [(\"A\" in kmer or \"T\" in kmer) for kmer in motif_kmers]"
   ]
  },
  {
   "cell_type": "code",
   "execution_count": 211,
   "metadata": {
    "collapsed": true,
    "hidden": true
   },
   "outputs": [
    {
     "name": "stdout",
     "output_type": "stream",
     "text": [
      "GTA | True\n",
      "TAG | True\n",
      "AGC | True\n",
      "GCT | True\n",
      "CTG | True\n",
      "TGG | True\n",
      "GGC | False\n",
      "GCG | False\n",
      "CGT | True\n",
      "GTC | True\n",
      "TCT | True\n",
      "CTC | True\n",
      "TCC | True\n",
      "CCA | True\n",
      "CAG | True\n",
      "AGC | True\n",
      "GCC | False\n",
      "CCC | False\n",
      "CCA | True\n",
      "CAG | True\n",
      "AGC | True\n",
      "GCC | False\n",
      "CCA | True\n",
      "CAG | True\n",
      "AGA | True\n",
      "GAG | True\n",
      "AGG | True\n",
      "GGT | True\n",
      "GTC | True\n",
      "TCG | True\n",
      "CGG | False\n",
      "GGT | True\n",
      "GTG | True\n"
     ]
    }
   ],
   "source": [
    "for x, y in zip(motif_kmers, motifis_AT):\n",
    "    print(\"{} | {}\".format(x, y))"
   ]
  },
  {
   "cell_type": "code",
   "execution_count": 235,
   "metadata": {
    "hidden": true
   },
   "outputs": [],
   "source": [
    "motif_kmers = list(np.array(motif_kmers)[motifis_AT])\n",
    "m6a_kmers = list(np.array(m6a_kmers)[motifis_AT])"
   ]
  },
  {
   "cell_type": "code",
   "execution_count": 241,
   "metadata": {
    "hidden": true
   },
   "outputs": [],
   "source": [
    "# make kmer_dict\n",
    "kmer_info = defaultdict(lambda: defaultdict(int))\n",
    "\n",
    "for kmer, m6as in zip(motif_kmers, m6a_kmers):\n",
    "    kmer_info[kmer][\"count\"] += 1\n",
    "    kmer_info[kmer][\"m6a\"] += sum(m6as)"
   ]
  },
  {
   "cell_type": "code",
   "execution_count": 242,
   "metadata": {
    "collapsed": true,
    "hidden": true
   },
   "outputs": [
    {
     "data": {
      "text/plain": [
       "defaultdict(<function __main__.<lambda>()>,\n",
       "            {'GTA': defaultdict(int, {'count': 1, 'm6a': 0}),\n",
       "             'TAG': defaultdict(int, {'count': 1, 'm6a': 0}),\n",
       "             'AGC': defaultdict(int, {'count': 3, 'm6a': 2}),\n",
       "             'GCT': defaultdict(int, {'count': 1, 'm6a': 0}),\n",
       "             'CTG': defaultdict(int, {'count': 1, 'm6a': 0}),\n",
       "             'TGG': defaultdict(int, {'count': 1, 'm6a': 0}),\n",
       "             'CGT': defaultdict(int, {'count': 1, 'm6a': 0}),\n",
       "             'GTC': defaultdict(int, {'count': 2, 'm6a': 0}),\n",
       "             'TCT': defaultdict(int, {'count': 1, 'm6a': 0}),\n",
       "             'CTC': defaultdict(int, {'count': 1, 'm6a': 0}),\n",
       "             'TCC': defaultdict(int, {'count': 1, 'm6a': 0}),\n",
       "             'CCA': defaultdict(int, {'count': 3, 'm6a': 3}),\n",
       "             'CAG': defaultdict(int, {'count': 3, 'm6a': 3}),\n",
       "             'AGA': defaultdict(int, {'count': 1, 'm6a': 2}),\n",
       "             'GAG': defaultdict(int, {'count': 1, 'm6a': 1}),\n",
       "             'AGG': defaultdict(int, {'count': 1, 'm6a': 1}),\n",
       "             'GGT': defaultdict(int, {'count': 2, 'm6a': 0}),\n",
       "             'TCG': defaultdict(int, {'count': 1, 'm6a': 0}),\n",
       "             'GTG': defaultdict(int, {'count': 1, 'm6a': 0})})"
      ]
     },
     "execution_count": 242,
     "metadata": {},
     "output_type": "execute_result"
    }
   ],
   "source": [
    "for k, v in kmer_info:"
   ]
  },
  {
   "cell_type": "code",
   "execution_count": 212,
   "metadata": {
    "collapsed": true,
    "hidden": true
   },
   "outputs": [
    {
     "name": "stdout",
     "output_type": "stream",
     "text": [
      "33\n",
      "33\n",
      "33\n"
     ]
    },
    {
     "ename": "TypeError",
     "evalue": "list indices must be integers or slices, not list",
     "output_type": "error",
     "traceback": [
      "\u001b[0;31m---------------------------------------------------------------------------\u001b[0m",
      "\u001b[0;31mTypeError\u001b[0m                                 Traceback (most recent call last)",
      "Cell \u001b[0;32mIn[212], line 4\u001b[0m\n\u001b[1;32m      2\u001b[0m \u001b[38;5;28mprint\u001b[39m(\u001b[38;5;28mlen\u001b[39m(m6a_kmers))\n\u001b[1;32m      3\u001b[0m \u001b[38;5;28mprint\u001b[39m(\u001b[38;5;28mlen\u001b[39m(motifis_AT))\n\u001b[0;32m----> 4\u001b[0m \u001b[38;5;28mprint\u001b[39m(\u001b[38;5;28mlen\u001b[39m(\u001b[43mmotif_kmers\u001b[49m\u001b[43m[\u001b[49m\u001b[43mmotifis_AT\u001b[49m\u001b[43m]\u001b[49m))\n\u001b[1;32m      5\u001b[0m \u001b[38;5;28mprint\u001b[39m(\u001b[38;5;28mlen\u001b[39m(m6a_kmers[motifis_AT]))\n",
      "\u001b[0;31mTypeError\u001b[0m: list indices must be integers or slices, not list"
     ]
    }
   ],
   "source": [
    "print(len(motif_kmers))\n",
    "print(len(m6a_kmers))\n",
    "print(len(motifis_AT))\n",
    "print(len(motif_kmers[motifis_AT]))\n",
    "print(len(m6a_kmers[motifis_AT]))"
   ]
  },
  {
   "cell_type": "code",
   "execution_count": 44,
   "metadata": {
    "hidden": true
   },
   "outputs": [],
   "source": [
    "# remove k-mers (& info) without AT's\n",
    "for i in sorted(np.where(np.array(kmer_ATs) == 0)[0], reverse=True):\n",
    "    del motif_kmers[i]\n",
    "    del m6a_kmers[i]\n",
    "    del kmer_ATs[i]"
   ]
  },
  {
   "cell_type": "code",
   "execution_count": 248,
   "metadata": {
    "collapsed": true,
    "hidden": true
   },
   "outputs": [
    {
     "data": {
      "text/plain": [
       "defaultdict(<function __main__.<lambda>()>,\n",
       "            {'GTA': defaultdict(int, {'count': 1, 'm6a': 0}),\n",
       "             'TAG': defaultdict(int, {'count': 1, 'm6a': 0}),\n",
       "             'AGC': defaultdict(int, {'count': 3, 'm6a': 2}),\n",
       "             'GCT': defaultdict(int, {'count': 1, 'm6a': 0}),\n",
       "             'CTG': defaultdict(int, {'count': 1, 'm6a': 0}),\n",
       "             'TGG': defaultdict(int, {'count': 1, 'm6a': 0}),\n",
       "             'CGT': defaultdict(int, {'count': 1, 'm6a': 0}),\n",
       "             'GTC': defaultdict(int, {'count': 2, 'm6a': 0}),\n",
       "             'TCT': defaultdict(int, {'count': 1, 'm6a': 0}),\n",
       "             'CTC': defaultdict(int, {'count': 1, 'm6a': 0}),\n",
       "             'TCC': defaultdict(int, {'count': 1, 'm6a': 0}),\n",
       "             'CCA': defaultdict(int, {'count': 3, 'm6a': 3}),\n",
       "             'CAG': defaultdict(int, {'count': 3, 'm6a': 3}),\n",
       "             'AGA': defaultdict(int, {'count': 1, 'm6a': 2}),\n",
       "             'GAG': defaultdict(int, {'count': 1, 'm6a': 1}),\n",
       "             'AGG': defaultdict(int, {'count': 1, 'm6a': 1}),\n",
       "             'GGT': defaultdict(int, {'count': 2, 'm6a': 0}),\n",
       "             'TCG': defaultdict(int, {'count': 1, 'm6a': 0}),\n",
       "             'GTG': defaultdict(int, {'count': 1, 'm6a': 0})})"
      ]
     },
     "execution_count": 248,
     "metadata": {},
     "output_type": "execute_result"
    }
   ],
   "source": [
    "kmer_info = defaultdict(lambda: defaultdict(int))\n",
    "\n",
    "for kmer, m6as in zip(motif_kmers, m6a_kmers):\n",
    "    kmer_info[kmer][\"count\"] += 1\n",
    "    kmer_info[kmer][\"m6a\"] += sum(m6as)\n",
    "\n",
    "kmer_info"
   ]
  },
  {
   "cell_type": "code",
   "execution_count": 249,
   "metadata": {
    "hidden": true
   },
   "outputs": [
    {
     "data": {
      "text/plain": [
       "defaultdict(<function __main__.<lambda>()>,\n",
       "            {'GTA': defaultdict(int, {'count': 1, 'm6a': 0, 'm6a_prop': 0.0}),\n",
       "             'TAG': defaultdict(int, {'count': 1, 'm6a': 0, 'm6a_prop': 0.0}),\n",
       "             'AGC': defaultdict(int,\n",
       "                         {'count': 3,\n",
       "                          'm6a': 2,\n",
       "                          'm6a_prop': 0.6666666666666666}),\n",
       "             'GCT': defaultdict(int, {'count': 1, 'm6a': 0, 'm6a_prop': 0.0}),\n",
       "             'CTG': defaultdict(int, {'count': 1, 'm6a': 0, 'm6a_prop': 0.0}),\n",
       "             'TGG': defaultdict(int, {'count': 1, 'm6a': 0, 'm6a_prop': 0.0}),\n",
       "             'CGT': defaultdict(int, {'count': 1, 'm6a': 0, 'm6a_prop': 0.0}),\n",
       "             'GTC': defaultdict(int, {'count': 2, 'm6a': 0, 'm6a_prop': 0.0}),\n",
       "             'TCT': defaultdict(int, {'count': 1, 'm6a': 0, 'm6a_prop': 0.0}),\n",
       "             'CTC': defaultdict(int, {'count': 1, 'm6a': 0, 'm6a_prop': 0.0}),\n",
       "             'TCC': defaultdict(int, {'count': 1, 'm6a': 0, 'm6a_prop': 0.0}),\n",
       "             'CCA': defaultdict(int, {'count': 3, 'm6a': 3, 'm6a_prop': 1.0}),\n",
       "             'CAG': defaultdict(int, {'count': 3, 'm6a': 3, 'm6a_prop': 1.0}),\n",
       "             'AGA': defaultdict(int, {'count': 1, 'm6a': 2, 'm6a_prop': 1.0}),\n",
       "             'GAG': defaultdict(int, {'count': 1, 'm6a': 1, 'm6a_prop': 1.0}),\n",
       "             'AGG': defaultdict(int, {'count': 1, 'm6a': 1, 'm6a_prop': 1.0}),\n",
       "             'GGT': defaultdict(int, {'count': 2, 'm6a': 0, 'm6a_prop': 0.0}),\n",
       "             'TCG': defaultdict(int, {'count': 1, 'm6a': 0, 'm6a_prop': 0.0}),\n",
       "             'GTG': defaultdict(int, {'count': 1, 'm6a': 0, 'm6a_prop': 0.0})})"
      ]
     },
     "execution_count": 249,
     "metadata": {},
     "output_type": "execute_result"
    }
   ],
   "source": [
    "for k, v in kmer_info.items():\n",
    "    # total m6a insteances / (all potential m6a's)\n",
    "    kmer_info[k][\"m6a_prop\"] = v[\"m6a\"]/((Counter(k)[\"T\"] + Counter(k)[\"A\"]) * v[\"count\"])\n",
    "    #print(k+str(list(v.keys())))\n",
    "\n",
    "kmer_info"
   ]
  },
  {
   "cell_type": "code",
   "execution_count": null,
   "metadata": {
    "hidden": true
   },
   "outputs": [],
   "source": []
  },
  {
   "cell_type": "code",
   "execution_count": 51,
   "metadata": {
    "collapsed": true,
    "hidden": true
   },
   "outputs": [
    {
     "name": "stdout",
     "output_type": "stream",
     "text": [
      "GTA | [0, 0, 0]\n",
      "TAG | [0, 0, 0]\n",
      "AGC | [0, 0, 0]\n",
      "GCT | [0, 0, 0]\n",
      "CTG | [0, 0, 0]\n",
      "TGG | [0, 0, 0]\n",
      "CGT | [0, 0, 0]\n",
      "GTC | [0, 0, 0]\n",
      "TCT | [0, 0, 0]\n",
      "CTC | [0, 0, 0]\n",
      "TCC | [0, 0, 0]\n",
      "CCA | [0, 0, 1]\n",
      "CAG | [0, 1, 0]\n",
      "AGC | [1, 0, 0]\n",
      "CCA | [0, 0, 1]\n",
      "CAG | [0, 1, 0]\n",
      "AGC | [1, 0, 0]\n",
      "CCA | [0, 0, 1]\n",
      "CAG | [0, 1, 0]\n",
      "AGA | [1, 0, 1]\n",
      "GAG | [0, 1, 0]\n",
      "AGG | [1, 0, 0]\n",
      "GGT | [0, 0, 0]\n",
      "GTC | [0, 0, 0]\n",
      "TCG | [0, 0, 0]\n",
      "GGT | [0, 0, 0]\n",
      "GTG | [0, 0, 0]\n"
     ]
    }
   ],
   "source": [
    "for x, y in zip(motif_kmers, m6a_kmers):\n",
    "    print(\"{} | {}\".format(x, y))"
   ]
  },
  {
   "cell_type": "code",
   "execution_count": 49,
   "metadata": {
    "collapsed": true,
    "hidden": true
   },
   "outputs": [
    {
     "data": {
      "text/plain": [
       "[('AGA', [1, 0, 1]),\n",
       " ('AGC', [0, 0, 0]),\n",
       " ('AGC', [1, 0, 0]),\n",
       " ('AGC', [1, 0, 0]),\n",
       " ('AGG', [1, 0, 0]),\n",
       " ('CAG', [0, 1, 0]),\n",
       " ('CAG', [0, 1, 0]),\n",
       " ('CAG', [0, 1, 0]),\n",
       " ('CCA', [0, 0, 1]),\n",
       " ('CCA', [0, 0, 1]),\n",
       " ('CCA', [0, 0, 1]),\n",
       " ('CGT', [0, 0, 0]),\n",
       " ('CTC', [0, 0, 0]),\n",
       " ('CTG', [0, 0, 0]),\n",
       " ('GAG', [0, 1, 0]),\n",
       " ('GCT', [0, 0, 0]),\n",
       " ('GGT', [0, 0, 0]),\n",
       " ('GGT', [0, 0, 0]),\n",
       " ('GTA', [0, 0, 0]),\n",
       " ('GTC', [0, 0, 0]),\n",
       " ('GTC', [0, 0, 0]),\n",
       " ('GTG', [0, 0, 0]),\n",
       " ('TAG', [0, 0, 0]),\n",
       " ('TCC', [0, 0, 0]),\n",
       " ('TCG', [0, 0, 0]),\n",
       " ('TCT', [0, 0, 0]),\n",
       " ('TGG', [0, 0, 0])]"
      ]
     },
     "execution_count": 49,
     "metadata": {},
     "output_type": "execute_result"
    }
   ],
   "source": [
    "sorted(zip(motif_kmers, m6a_kmers))"
   ]
  },
  {
   "cell_type": "code",
   "execution_count": 52,
   "metadata": {
    "collapsed": true,
    "hidden": true
   },
   "outputs": [
    {
     "data": {
      "text/plain": [
       "defaultdict(int,\n",
       "            {'AGA_count': 1,\n",
       "             'AGA_m6a': 2,\n",
       "             'AGC_count': 3,\n",
       "             'AGC_m6a': 2,\n",
       "             'AGG_count': 1,\n",
       "             'AGG_m6a': 1,\n",
       "             'CAG_count': 3,\n",
       "             'CAG_m6a': 3,\n",
       "             'CCA_count': 3,\n",
       "             'CCA_m6a': 3,\n",
       "             'CGT_count': 1,\n",
       "             'CGT_m6a': 0,\n",
       "             'CTC_count': 1,\n",
       "             'CTC_m6a': 0,\n",
       "             'CTG_count': 1,\n",
       "             'CTG_m6a': 0,\n",
       "             'GAG_count': 1,\n",
       "             'GAG_m6a': 1,\n",
       "             'GCT_count': 1,\n",
       "             'GCT_m6a': 0,\n",
       "             'GGT_count': 2,\n",
       "             'GGT_m6a': 0,\n",
       "             'GTA_count': 1,\n",
       "             'GTA_m6a': 0,\n",
       "             'GTC_count': 2,\n",
       "             'GTC_m6a': 0,\n",
       "             'GTG_count': 1,\n",
       "             'GTG_m6a': 0,\n",
       "             'TAG_count': 1,\n",
       "             'TAG_m6a': 0,\n",
       "             'TCC_count': 1,\n",
       "             'TCC_m6a': 0,\n",
       "             'TCG_count': 1,\n",
       "             'TCG_m6a': 0,\n",
       "             'TCT_count': 1,\n",
       "             'TCT_m6a': 0,\n",
       "             'TGG_count': 1,\n",
       "             'TGG_m6a': 0})"
      ]
     },
     "execution_count": 52,
     "metadata": {},
     "output_type": "execute_result"
    }
   ],
   "source": [
    "kmer_info = defaultdict(int)\n",
    "\n",
    "for kmer, m6as in sorted(zip(motif_kmers, m6a_kmers)):\n",
    "    kmer_keys = [kmer+\"_count\", kmer+\"_m6a\"]\n",
    "    kmer_info[kmer_keys[0]] += 1\n",
    "    kmer_info[kmer_keys[1]] += sum(m6as)\n",
    "\n",
    "kmer_info"
   ]
  },
  {
   "cell_type": "code",
   "execution_count": 245,
   "metadata": {
    "collapsed": true,
    "hidden": true
   },
   "outputs": [
    {
     "data": {
      "text/plain": [
       "defaultdict(<function __main__.<lambda>()>,\n",
       "            {'GTA': defaultdict(int, {'count': 1, 'm6a': 0}),\n",
       "             'TAG': defaultdict(int, {'count': 1, 'm6a': 0}),\n",
       "             'AGC': defaultdict(int, {'count': 3, 'm6a': 2}),\n",
       "             'GCT': defaultdict(int, {'count': 1, 'm6a': 0}),\n",
       "             'CTG': defaultdict(int, {'count': 1, 'm6a': 0}),\n",
       "             'TGG': defaultdict(int, {'count': 1, 'm6a': 0}),\n",
       "             'CGT': defaultdict(int, {'count': 1, 'm6a': 0}),\n",
       "             'GTC': defaultdict(int, {'count': 2, 'm6a': 0}),\n",
       "             'TCT': defaultdict(int, {'count': 1, 'm6a': 0}),\n",
       "             'CTC': defaultdict(int, {'count': 1, 'm6a': 0}),\n",
       "             'TCC': defaultdict(int, {'count': 1, 'm6a': 0}),\n",
       "             'CCA': defaultdict(int, {'count': 3, 'm6a': 3}),\n",
       "             'CAG': defaultdict(int, {'count': 3, 'm6a': 3}),\n",
       "             'AGA': defaultdict(int, {'count': 1, 'm6a': 2}),\n",
       "             'GAG': defaultdict(int, {'count': 1, 'm6a': 1}),\n",
       "             'AGG': defaultdict(int, {'count': 1, 'm6a': 1}),\n",
       "             'GGT': defaultdict(int, {'count': 2, 'm6a': 0}),\n",
       "             'TCG': defaultdict(int, {'count': 1, 'm6a': 0}),\n",
       "             'GTG': defaultdict(int, {'count': 1, 'm6a': 0})})"
      ]
     },
     "execution_count": 245,
     "metadata": {},
     "output_type": "execute_result"
    }
   ],
   "source": [
    "kmer_info"
   ]
  },
  {
   "cell_type": "code",
   "execution_count": 401,
   "metadata": {
    "collapsed": true,
    "hidden": true
   },
   "outputs": [
    {
     "data": {
      "text/plain": [
       "['GTA_count',\n",
       " 'GTA_m6a',\n",
       " 'TAG_count',\n",
       " 'TAG_m6a',\n",
       " 'AGC_count',\n",
       " 'AGC_m6a',\n",
       " 'GCT_count',\n",
       " 'GCT_m6a',\n",
       " 'CTG_count',\n",
       " 'CTG_m6a',\n",
       " 'TGG_count',\n",
       " 'TGG_m6a',\n",
       " 'CGT_count',\n",
       " 'CGT_m6a',\n",
       " 'GTC_count',\n",
       " 'GTC_m6a',\n",
       " 'TCT_count',\n",
       " 'TCT_m6a',\n",
       " 'CTC_count',\n",
       " 'CTC_m6a',\n",
       " 'TCC_count',\n",
       " 'TCC_m6a',\n",
       " 'CCA_count',\n",
       " 'CCA_m6a',\n",
       " 'CAG_count',\n",
       " 'CAG_m6a',\n",
       " 'AGA_count',\n",
       " 'AGA_m6a',\n",
       " 'GAG_count',\n",
       " 'GAG_m6a',\n",
       " 'AGG_count',\n",
       " 'AGG_m6a',\n",
       " 'GGT_count',\n",
       " 'GGT_m6a',\n",
       " 'TCG_count',\n",
       " 'TCG_m6a',\n",
       " 'GTG_count',\n",
       " 'GTG_m6a']"
      ]
     },
     "execution_count": 401,
     "metadata": {},
     "output_type": "execute_result"
    }
   ],
   "source": [
    "list(kmer_info.keys())"
   ]
  },
  {
   "cell_type": "code",
   "execution_count": 295,
   "metadata": {
    "collapsed": true,
    "hidden": true
   },
   "outputs": [
    {
     "data": {
      "text/plain": [
       "GTA_count    1\n",
       "GTA_m6a      0\n",
       "TAG_count    1\n",
       "TAG_m6a      0\n",
       "AGC_count    3\n",
       "AGC_m6a      2\n",
       "GCT_count    1\n",
       "GCT_m6a      0\n",
       "CTG_count    1\n",
       "CTG_m6a      0\n",
       "TGG_count    1\n",
       "TGG_m6a      0\n",
       "CGT_count    1\n",
       "CGT_m6a      0\n",
       "GTC_count    2\n",
       "GTC_m6a      0\n",
       "TCT_count    1\n",
       "TCT_m6a      0\n",
       "CTC_count    1\n",
       "CTC_m6a      0\n",
       "TCC_count    1\n",
       "TCC_m6a      0\n",
       "CCA_count    3\n",
       "CCA_m6a      3\n",
       "CAG_count    3\n",
       "CAG_m6a      3\n",
       "AGA_count    1\n",
       "AGA_m6a      2\n",
       "GAG_count    1\n",
       "GAG_m6a      1\n",
       "AGG_count    1\n",
       "AGG_m6a      1\n",
       "GGT_count    2\n",
       "GGT_m6a      0\n",
       "TCG_count    1\n",
       "TCG_m6a      0\n",
       "GTG_count    1\n",
       "GTG_m6a      0\n",
       "dtype: int64"
      ]
     },
     "execution_count": 295,
     "metadata": {},
     "output_type": "execute_result"
    }
   ],
   "source": [
    "pd.Series(kmer_info, index=kmer_info.keys())"
   ]
  },
  {
   "cell_type": "code",
   "execution_count": 148,
   "metadata": {
    "hidden": true
   },
   "outputs": [
    {
     "name": "stdout",
     "output_type": "stream",
     "text": [
      "56\n",
      "112\n"
     ]
    },
    {
     "data": {
      "text/plain": [
       "1"
      ]
     },
     "execution_count": 148,
     "metadata": {},
     "output_type": "execute_result"
    }
   ],
   "source": [
    "# get all possible k-mers\n",
    "all_kmers = []\n",
    "for seq in df[\"subset_sequence\"]:\n",
    "    kmers = get_kmers(get_motif_seq(seq), 3)\n",
    "    all_kmers.extend(kmers)\n",
    "# only unique k-mers\n",
    "all_kmers = [*set(all_kmers)]\n",
    "# remove k-mers without AT and sort\n",
    "all_kmers = sorted([kmer for kmer in all_kmers if (\"T\" in kmer) or (\"A\" in kmer)])\n",
    "print(len(all_kmers))\n",
    "\n",
    "# make k-mer columns\n",
    "kmer_cols = list(itertools.chain(*[[kmer+\"_count\", kmer+\"_m6a\"] for kmer in all_kmers]))\n",
    "print(len(kmer_cols))\n",
    "kmer_cols.count(\"ATC_count\")"
   ]
  },
  {
   "cell_type": "code",
   "execution_count": 267,
   "metadata": {
    "hidden": true,
    "scrolled": true
   },
   "outputs": [],
   "source": [
    "def agg_kmers(x, feature_cols):\n",
    "    '''Collects features. Returns a df with feature info per unique group.'''\n",
    "    \n",
    "    # dict to hold info\n",
    "    d = dict((col, 0) for col in feature_cols)\n",
    "    \n",
    "    # m6a bool\n",
    "    m6a_bool = x[(x[\"centered_start\"] >= 0) & (x[\"centered_end\"] <= 35)][\"centered_start\"].values\n",
    "    m6a_bool = [1 if (i in m6a_bool) else 0 for i in range(0, 35)]\n",
    "\n",
    "    # sequences\n",
    "    center = 100\n",
    "    motif_len = 35\n",
    "    subseq_motif = x[\"subset_sequence\"].unique()[0][center:(center+motif_len)]\n",
    "    \n",
    "    # m6a bool\n",
    "    m6a_bool = x[(x[\"centered_start\"] >= 0) & (x[\"centered_end\"] <= 35)][\"centered_start\"].values\n",
    "    m6a_bool = [1 if (i in m6a_bool) else 0 for i in range(0, 35)]\n",
    "    \n",
    "    # decompose motif seq into k-mers\n",
    "    motif_kmers = get_kmers(subseq_motif, 3)\n",
    "    m6a_kmers = get_kmers(m6a_bool, 3)\n",
    "    \n",
    "    # make bool of ATs in motif seq\n",
    "    motifis_AT = [(\"A\" in kmer or \"T\" in kmer) for kmer in motif_kmers]\n",
    "    \n",
    "    # drop motif instances without an AT\n",
    "    motif_kmers = list(np.array(motif_kmers)[motifis_AT])\n",
    "    m6a_kmers = list(np.array(m6a_kmers)[motifis_AT])\n",
    "    \n",
    "    # make kmer_dict\n",
    "    kmer_info = defaultdict(lambda: defaultdict(int))\n",
    "\n",
    "    for kmer, m6as in zip(motif_kmers, m6a_kmers):\n",
    "        kmer_info[kmer][\"count\"] += 1\n",
    "        kmer_info[kmer][\"m6a\"] += sum(m6as)    \n",
    "    \n",
    "    # get kmer_m6a proportion\n",
    "    for kmer, v in kmer_info.items():\n",
    "        d[kmer+\"_count\"] = v[\"count\"]\n",
    "        d[kmer+\"_m6a_prop\"] = v[\"m6a\"]/((Counter(kmer)[\"T\"] + Counter(kmer)[\"A\"]) * v[\"count\"])\n",
    "    \n",
    "    return pd.Series(d, index=list(d.keys()))\n",
    "\n",
    "    \n",
    "    # dict to hold kmer_info (new)\n",
    "    #kmer_info = defaultdict(int)\n",
    "\n",
    "    #for kmer, m6as in sorted(zip(motif_kmers, m6a_kmers)):\n",
    "    #    kmer_keys = [kmer+\"_count\", kmer+\"_m6a\"]\n",
    "    #    d[kmer_keys[0]] += 1\n",
    "    #    d[kmer_keys[1]] += sum(m6as)\n",
    "\n",
    "    # put k-mer info inter output dict\n",
    "    #for k in kmer_info.keys():\n",
    "    #    d[k] = kmer_info[k]\n",
    "\n",
    "    return pd.Series(d, index=list(d.keys()))"
   ]
  },
  {
   "cell_type": "code",
   "execution_count": 268,
   "metadata": {
    "hidden": true
   },
   "outputs": [
    {
     "name": "stdout",
     "output_type": "stream",
     "text": [
      "56\n",
      "112\n"
     ]
    }
   ],
   "source": [
    "# get all possible k-mers\n",
    "all_kmers = []\n",
    "for seq in df[\"subset_sequence\"]:\n",
    "    kmers = get_kmers(get_motif_seq(seq), 3)\n",
    "    all_kmers.extend(kmers)\n",
    "# only unique k-mers\n",
    "all_kmers = [*set(all_kmers)]\n",
    "# remove k-mers without AT and sort\n",
    "all_kmers = sorted([kmer for kmer in all_kmers if (\"T\" in kmer) or (\"A\" in kmer)])\n",
    "print(len(all_kmers))\n",
    "\n",
    "# make k-mer columns\n",
    "kmer_cols = list(itertools.chain(*[[kmer+\"_count\", kmer+\"_m6a_prop\"] for kmer in all_kmers]))\n",
    "print(len(kmer_cols))"
   ]
  },
  {
   "cell_type": "code",
   "execution_count": 269,
   "metadata": {
    "hidden": true
   },
   "outputs": [
    {
     "name": "stdout",
     "output_type": "stream",
     "text": [
      "455\n",
      "Total rows: 455\n",
      "Total columns: 114\n",
      "CPU times: user 682 ms, sys: 0 ns, total: 682 ms\n",
      "Wall time: 682 ms\n"
     ]
    },
    {
     "data": {
      "text/html": [
       "<div>\n",
       "<style scoped>\n",
       "    .dataframe tbody tr th:only-of-type {\n",
       "        vertical-align: middle;\n",
       "    }\n",
       "\n",
       "    .dataframe tbody tr th {\n",
       "        vertical-align: top;\n",
       "    }\n",
       "\n",
       "    .dataframe thead th {\n",
       "        text-align: right;\n",
       "    }\n",
       "</style>\n",
       "<table border=\"1\" class=\"dataframe\">\n",
       "  <thead>\n",
       "    <tr style=\"text-align: right;\">\n",
       "      <th></th>\n",
       "      <th>motif_name</th>\n",
       "      <th>query_name</th>\n",
       "      <th>AAA_count</th>\n",
       "      <th>AAA_m6a_prop</th>\n",
       "      <th>AAC_count</th>\n",
       "      <th>AAC_m6a_prop</th>\n",
       "      <th>AAG_count</th>\n",
       "      <th>AAG_m6a_prop</th>\n",
       "      <th>AAT_count</th>\n",
       "      <th>AAT_m6a_prop</th>\n",
       "      <th>...</th>\n",
       "      <th>TGT_count</th>\n",
       "      <th>TGT_m6a_prop</th>\n",
       "      <th>TTA_count</th>\n",
       "      <th>TTA_m6a_prop</th>\n",
       "      <th>TTC_count</th>\n",
       "      <th>TTC_m6a_prop</th>\n",
       "      <th>TTG_count</th>\n",
       "      <th>TTG_m6a_prop</th>\n",
       "      <th>TTT_count</th>\n",
       "      <th>TTT_m6a_prop</th>\n",
       "    </tr>\n",
       "  </thead>\n",
       "  <tbody>\n",
       "    <tr>\n",
       "      <th>0</th>\n",
       "      <td>chr1_1033080_+</td>\n",
       "      <td>m54329U_210323_190418/144837022/ccs</td>\n",
       "      <td>0.0</td>\n",
       "      <td>0.0</td>\n",
       "      <td>1.0</td>\n",
       "      <td>1.0</td>\n",
       "      <td>0.0</td>\n",
       "      <td>0.0</td>\n",
       "      <td>0.0</td>\n",
       "      <td>0.0</td>\n",
       "      <td>...</td>\n",
       "      <td>0.0</td>\n",
       "      <td>0.0</td>\n",
       "      <td>0.0</td>\n",
       "      <td>0.0</td>\n",
       "      <td>2.0</td>\n",
       "      <td>1.00</td>\n",
       "      <td>1.0</td>\n",
       "      <td>1.0</td>\n",
       "      <td>0.0</td>\n",
       "      <td>0.0</td>\n",
       "    </tr>\n",
       "    <tr>\n",
       "      <th>1</th>\n",
       "      <td>chr1_1033080_+</td>\n",
       "      <td>m54329U_210323_190418/28969124/ccs</td>\n",
       "      <td>0.0</td>\n",
       "      <td>0.0</td>\n",
       "      <td>1.0</td>\n",
       "      <td>0.0</td>\n",
       "      <td>0.0</td>\n",
       "      <td>0.0</td>\n",
       "      <td>0.0</td>\n",
       "      <td>0.0</td>\n",
       "      <td>...</td>\n",
       "      <td>0.0</td>\n",
       "      <td>0.0</td>\n",
       "      <td>0.0</td>\n",
       "      <td>0.0</td>\n",
       "      <td>2.0</td>\n",
       "      <td>0.00</td>\n",
       "      <td>1.0</td>\n",
       "      <td>0.0</td>\n",
       "      <td>0.0</td>\n",
       "      <td>0.0</td>\n",
       "    </tr>\n",
       "    <tr>\n",
       "      <th>2</th>\n",
       "      <td>chr1_1033080_+</td>\n",
       "      <td>m54329U_210323_190418/61606199/ccs</td>\n",
       "      <td>0.0</td>\n",
       "      <td>0.0</td>\n",
       "      <td>1.0</td>\n",
       "      <td>0.0</td>\n",
       "      <td>0.0</td>\n",
       "      <td>0.0</td>\n",
       "      <td>0.0</td>\n",
       "      <td>0.0</td>\n",
       "      <td>...</td>\n",
       "      <td>0.0</td>\n",
       "      <td>0.0</td>\n",
       "      <td>0.0</td>\n",
       "      <td>0.0</td>\n",
       "      <td>2.0</td>\n",
       "      <td>0.25</td>\n",
       "      <td>1.0</td>\n",
       "      <td>0.0</td>\n",
       "      <td>0.0</td>\n",
       "      <td>0.0</td>\n",
       "    </tr>\n",
       "    <tr>\n",
       "      <th>3</th>\n",
       "      <td>chr1_1033080_+</td>\n",
       "      <td>m54329U_210323_190418/65799401/ccs</td>\n",
       "      <td>0.0</td>\n",
       "      <td>0.0</td>\n",
       "      <td>1.0</td>\n",
       "      <td>0.0</td>\n",
       "      <td>0.0</td>\n",
       "      <td>0.0</td>\n",
       "      <td>0.0</td>\n",
       "      <td>0.0</td>\n",
       "      <td>...</td>\n",
       "      <td>0.0</td>\n",
       "      <td>0.0</td>\n",
       "      <td>0.0</td>\n",
       "      <td>0.0</td>\n",
       "      <td>2.0</td>\n",
       "      <td>0.25</td>\n",
       "      <td>1.0</td>\n",
       "      <td>0.0</td>\n",
       "      <td>0.0</td>\n",
       "      <td>0.0</td>\n",
       "    </tr>\n",
       "    <tr>\n",
       "      <th>4</th>\n",
       "      <td>chr1_1033080_+</td>\n",
       "      <td>m54329U_210323_190418/73794045/ccs</td>\n",
       "      <td>0.0</td>\n",
       "      <td>0.0</td>\n",
       "      <td>1.0</td>\n",
       "      <td>0.0</td>\n",
       "      <td>0.0</td>\n",
       "      <td>0.0</td>\n",
       "      <td>0.0</td>\n",
       "      <td>0.0</td>\n",
       "      <td>...</td>\n",
       "      <td>0.0</td>\n",
       "      <td>0.0</td>\n",
       "      <td>0.0</td>\n",
       "      <td>0.0</td>\n",
       "      <td>2.0</td>\n",
       "      <td>0.00</td>\n",
       "      <td>1.0</td>\n",
       "      <td>0.0</td>\n",
       "      <td>0.0</td>\n",
       "      <td>0.0</td>\n",
       "    </tr>\n",
       "    <tr>\n",
       "      <th>...</th>\n",
       "      <td>...</td>\n",
       "      <td>...</td>\n",
       "      <td>...</td>\n",
       "      <td>...</td>\n",
       "      <td>...</td>\n",
       "      <td>...</td>\n",
       "      <td>...</td>\n",
       "      <td>...</td>\n",
       "      <td>...</td>\n",
       "      <td>...</td>\n",
       "      <td>...</td>\n",
       "      <td>...</td>\n",
       "      <td>...</td>\n",
       "      <td>...</td>\n",
       "      <td>...</td>\n",
       "      <td>...</td>\n",
       "      <td>...</td>\n",
       "      <td>...</td>\n",
       "      <td>...</td>\n",
       "      <td>...</td>\n",
       "      <td>...</td>\n",
       "    </tr>\n",
       "    <tr>\n",
       "      <th>450</th>\n",
       "      <td>chr1_4585419_-</td>\n",
       "      <td>m54329U_210814_130637/65536960/ccs</td>\n",
       "      <td>0.0</td>\n",
       "      <td>0.0</td>\n",
       "      <td>0.0</td>\n",
       "      <td>0.0</td>\n",
       "      <td>0.0</td>\n",
       "      <td>0.0</td>\n",
       "      <td>0.0</td>\n",
       "      <td>0.0</td>\n",
       "      <td>...</td>\n",
       "      <td>0.0</td>\n",
       "      <td>0.0</td>\n",
       "      <td>0.0</td>\n",
       "      <td>0.0</td>\n",
       "      <td>0.0</td>\n",
       "      <td>0.00</td>\n",
       "      <td>0.0</td>\n",
       "      <td>0.0</td>\n",
       "      <td>0.0</td>\n",
       "      <td>0.0</td>\n",
       "    </tr>\n",
       "    <tr>\n",
       "      <th>451</th>\n",
       "      <td>chr1_4585419_-</td>\n",
       "      <td>m64076_210328_012155/151519350/ccs</td>\n",
       "      <td>0.0</td>\n",
       "      <td>0.0</td>\n",
       "      <td>0.0</td>\n",
       "      <td>0.0</td>\n",
       "      <td>0.0</td>\n",
       "      <td>0.0</td>\n",
       "      <td>0.0</td>\n",
       "      <td>0.0</td>\n",
       "      <td>...</td>\n",
       "      <td>0.0</td>\n",
       "      <td>0.0</td>\n",
       "      <td>0.0</td>\n",
       "      <td>0.0</td>\n",
       "      <td>0.0</td>\n",
       "      <td>0.00</td>\n",
       "      <td>1.0</td>\n",
       "      <td>1.0</td>\n",
       "      <td>0.0</td>\n",
       "      <td>0.0</td>\n",
       "    </tr>\n",
       "    <tr>\n",
       "      <th>452</th>\n",
       "      <td>chr1_4585419_-</td>\n",
       "      <td>m64076_221119_202646/166659899/ccs</td>\n",
       "      <td>0.0</td>\n",
       "      <td>0.0</td>\n",
       "      <td>0.0</td>\n",
       "      <td>0.0</td>\n",
       "      <td>0.0</td>\n",
       "      <td>0.0</td>\n",
       "      <td>0.0</td>\n",
       "      <td>0.0</td>\n",
       "      <td>...</td>\n",
       "      <td>0.0</td>\n",
       "      <td>0.0</td>\n",
       "      <td>0.0</td>\n",
       "      <td>0.0</td>\n",
       "      <td>0.0</td>\n",
       "      <td>0.00</td>\n",
       "      <td>0.0</td>\n",
       "      <td>0.0</td>\n",
       "      <td>0.0</td>\n",
       "      <td>0.0</td>\n",
       "    </tr>\n",
       "    <tr>\n",
       "      <th>453</th>\n",
       "      <td>chr1_4585419_-</td>\n",
       "      <td>m64076_221119_202646/22088199/ccs</td>\n",
       "      <td>0.0</td>\n",
       "      <td>0.0</td>\n",
       "      <td>0.0</td>\n",
       "      <td>0.0</td>\n",
       "      <td>0.0</td>\n",
       "      <td>0.0</td>\n",
       "      <td>0.0</td>\n",
       "      <td>0.0</td>\n",
       "      <td>...</td>\n",
       "      <td>0.0</td>\n",
       "      <td>0.0</td>\n",
       "      <td>0.0</td>\n",
       "      <td>0.0</td>\n",
       "      <td>0.0</td>\n",
       "      <td>0.00</td>\n",
       "      <td>0.0</td>\n",
       "      <td>0.0</td>\n",
       "      <td>0.0</td>\n",
       "      <td>0.0</td>\n",
       "    </tr>\n",
       "    <tr>\n",
       "      <th>454</th>\n",
       "      <td>chr1_4585419_-</td>\n",
       "      <td>m64076_221119_202646/33816817/ccs</td>\n",
       "      <td>0.0</td>\n",
       "      <td>0.0</td>\n",
       "      <td>0.0</td>\n",
       "      <td>0.0</td>\n",
       "      <td>0.0</td>\n",
       "      <td>0.0</td>\n",
       "      <td>0.0</td>\n",
       "      <td>0.0</td>\n",
       "      <td>...</td>\n",
       "      <td>0.0</td>\n",
       "      <td>0.0</td>\n",
       "      <td>0.0</td>\n",
       "      <td>0.0</td>\n",
       "      <td>0.0</td>\n",
       "      <td>0.00</td>\n",
       "      <td>0.0</td>\n",
       "      <td>0.0</td>\n",
       "      <td>0.0</td>\n",
       "      <td>0.0</td>\n",
       "    </tr>\n",
       "  </tbody>\n",
       "</table>\n",
       "<p>455 rows × 114 columns</p>\n",
       "</div>"
      ],
      "text/plain": [
       "         motif_name                           query_name  AAA_count  \\\n",
       "0    chr1_1033080_+  m54329U_210323_190418/144837022/ccs        0.0   \n",
       "1    chr1_1033080_+   m54329U_210323_190418/28969124/ccs        0.0   \n",
       "2    chr1_1033080_+   m54329U_210323_190418/61606199/ccs        0.0   \n",
       "3    chr1_1033080_+   m54329U_210323_190418/65799401/ccs        0.0   \n",
       "4    chr1_1033080_+   m54329U_210323_190418/73794045/ccs        0.0   \n",
       "..              ...                                  ...        ...   \n",
       "450  chr1_4585419_-   m54329U_210814_130637/65536960/ccs        0.0   \n",
       "451  chr1_4585419_-   m64076_210328_012155/151519350/ccs        0.0   \n",
       "452  chr1_4585419_-   m64076_221119_202646/166659899/ccs        0.0   \n",
       "453  chr1_4585419_-    m64076_221119_202646/22088199/ccs        0.0   \n",
       "454  chr1_4585419_-    m64076_221119_202646/33816817/ccs        0.0   \n",
       "\n",
       "     AAA_m6a_prop  AAC_count  AAC_m6a_prop  AAG_count  AAG_m6a_prop  \\\n",
       "0             0.0        1.0           1.0        0.0           0.0   \n",
       "1             0.0        1.0           0.0        0.0           0.0   \n",
       "2             0.0        1.0           0.0        0.0           0.0   \n",
       "3             0.0        1.0           0.0        0.0           0.0   \n",
       "4             0.0        1.0           0.0        0.0           0.0   \n",
       "..            ...        ...           ...        ...           ...   \n",
       "450           0.0        0.0           0.0        0.0           0.0   \n",
       "451           0.0        0.0           0.0        0.0           0.0   \n",
       "452           0.0        0.0           0.0        0.0           0.0   \n",
       "453           0.0        0.0           0.0        0.0           0.0   \n",
       "454           0.0        0.0           0.0        0.0           0.0   \n",
       "\n",
       "     AAT_count  AAT_m6a_prop  ...  TGT_count  TGT_m6a_prop  TTA_count  \\\n",
       "0          0.0           0.0  ...        0.0           0.0        0.0   \n",
       "1          0.0           0.0  ...        0.0           0.0        0.0   \n",
       "2          0.0           0.0  ...        0.0           0.0        0.0   \n",
       "3          0.0           0.0  ...        0.0           0.0        0.0   \n",
       "4          0.0           0.0  ...        0.0           0.0        0.0   \n",
       "..         ...           ...  ...        ...           ...        ...   \n",
       "450        0.0           0.0  ...        0.0           0.0        0.0   \n",
       "451        0.0           0.0  ...        0.0           0.0        0.0   \n",
       "452        0.0           0.0  ...        0.0           0.0        0.0   \n",
       "453        0.0           0.0  ...        0.0           0.0        0.0   \n",
       "454        0.0           0.0  ...        0.0           0.0        0.0   \n",
       "\n",
       "     TTA_m6a_prop  TTC_count  TTC_m6a_prop  TTG_count  TTG_m6a_prop  \\\n",
       "0             0.0        2.0          1.00        1.0           1.0   \n",
       "1             0.0        2.0          0.00        1.0           0.0   \n",
       "2             0.0        2.0          0.25        1.0           0.0   \n",
       "3             0.0        2.0          0.25        1.0           0.0   \n",
       "4             0.0        2.0          0.00        1.0           0.0   \n",
       "..            ...        ...           ...        ...           ...   \n",
       "450           0.0        0.0          0.00        0.0           0.0   \n",
       "451           0.0        0.0          0.00        1.0           1.0   \n",
       "452           0.0        0.0          0.00        0.0           0.0   \n",
       "453           0.0        0.0          0.00        0.0           0.0   \n",
       "454           0.0        0.0          0.00        0.0           0.0   \n",
       "\n",
       "     TTT_count  TTT_m6a_prop  \n",
       "0          0.0           0.0  \n",
       "1          0.0           0.0  \n",
       "2          0.0           0.0  \n",
       "3          0.0           0.0  \n",
       "4          0.0           0.0  \n",
       "..         ...           ...  \n",
       "450        0.0           0.0  \n",
       "451        0.0           0.0  \n",
       "452        0.0           0.0  \n",
       "453        0.0           0.0  \n",
       "454        0.0           0.0  \n",
       "\n",
       "[455 rows x 114 columns]"
      ]
     },
     "execution_count": 269,
     "metadata": {},
     "output_type": "execute_result"
    }
   ],
   "source": [
    "%%time\n",
    "# aggregate features\n",
    "print(len(list(df.iloc[:10000].groupby(grouping_cols).groups.keys())))\n",
    "kmer_res = df.iloc[:10000].groupby(grouping_cols).apply(lambda x: agg_kmers(x, kmer_cols)).reset_index()\n",
    "# change col dtypes for memory\n",
    "#kmer_res[kmer_res.columns.tolist()[2:]] = kmer_res[kmer_res.columns.tolist()[2:]].apply(pd.to_numeric, downcast=\"float\")\n",
    "print(\"Total rows: \" + \"{:,}\".format(kmer_res.shape[0]))\n",
    "#\n",
    "print(\"Total columns: \" + \"{:,}\".format(kmer_res.shape[1]))\n",
    "kmer_res"
   ]
  },
  {
   "cell_type": "code",
   "execution_count": 96,
   "metadata": {
    "hidden": true
   },
   "outputs": [
    {
     "data": {
      "text/plain": [
       "48"
      ]
     },
     "execution_count": 96,
     "metadata": {},
     "output_type": "execute_result"
    }
   ],
   "source": [
    "4*12"
   ]
  },
  {
   "cell_type": "code",
   "execution_count": 65,
   "metadata": {
    "collapsed": true,
    "hidden": true
   },
   "outputs": [
    {
     "data": {
      "text/plain": [
       "['AAC',\n",
       " 'ACG',\n",
       " 'ACG',\n",
       " 'CCC',\n",
       " 'CCG',\n",
       " 'CCG',\n",
       " 'CCT',\n",
       " 'CGG',\n",
       " 'CGG',\n",
       " 'CGG',\n",
       " 'CGT',\n",
       " 'CGT',\n",
       " 'CTC',\n",
       " 'CTT',\n",
       " 'GAA',\n",
       " 'GAC',\n",
       " 'GCC',\n",
       " 'GCG',\n",
       " 'GGA',\n",
       " 'GGA',\n",
       " 'GGC',\n",
       " 'GGC',\n",
       " 'GGG',\n",
       " 'GGG',\n",
       " 'GGG',\n",
       " 'GTT',\n",
       " 'GTT',\n",
       " 'TCC',\n",
       " 'TCT',\n",
       " 'TGG',\n",
       " 'TTC',\n",
       " 'TTC',\n",
       " 'TTG']"
      ]
     },
     "execution_count": 65,
     "metadata": {},
     "output_type": "execute_result"
    }
   ],
   "source": [
    "sorted(get_kmers(get_motif_seq(df[(df[\"motif_name\"] == \"chr1_1033080_+\") & (df[\"query_name\"] == \"m54329U_210323_190418/28969124/ccs\")]\\\n",
    "[\"subset_sequence\"].unique()[0]), 3))"
   ]
  },
  {
   "cell_type": "code",
   "execution_count": null,
   "metadata": {
    "hidden": true
   },
   "outputs": [],
   "source": []
  },
  {
   "cell_type": "code",
   "execution_count": null,
   "metadata": {
    "hidden": true
   },
   "outputs": [],
   "source": [
    "def agg_kmers(x):\n",
    "    '''Collects features. Returns a df with feature info per unique group.'''\n",
    "    \n",
    "    m6a_bool = x[(x[\"centered_start\"] >= 0) & (x[\"centered_end\"] <= 35)][\"centered_start\"].values\n",
    "    m6a_bool = [1 if (i in m6a_bool) else 0 for i in range(0, 35)]\n",
    "\n",
    "    # get motif sequence\n",
    "    center = 100\n",
    "    motif_len = 35\n",
    "    motif_seq = x[\"subset_sequence\"].unique()[0][center:(center+motif_len)]\n",
    "    # make bool of ATs in motif seq\n",
    "    motifis_AT = np.array([(base == \"A\" or base == \"T\") for base in motif_seq], dtype=int)\n",
    "    \n",
    "    # decompose motif seq into k-mers\n",
    "    motif_kmers = get_kmers(motif_seq, 3)\n",
    "    m6a_kmers = get_kmers(m6a_bool, 3)\n",
    "    kmer_ATs = [kmer.count(\"A\")+kmer.count(\"T\") for kmer in motif_kmers]\n",
    "    \n",
    "    # remove k-mers (& info) without AT's\n",
    "    for i in sorted(np.where(np.array(kmer_ATs) == 0)[0], reverse=True):\n",
    "        del motif_kmers[i]\n",
    "        del m6a_kmers[i]\n",
    "        del kmer_ATs[i]\n",
    "    \n",
    "    # dict to hold kmer_info (new)\n",
    "    kmer_info = defaultdict(int)\n",
    "    \n",
    "    for kmer, m6as in zip(motif_kmers, m6a_kmers):\n",
    "        kmer_keys = [kmer+\"_count\", kmer+\"_m6a\"]\n",
    "        kmer_info[kmer_keys[0]] += 1\n",
    "        kmer_info[kmer_keys[1]] += sum(m6as)\n",
    "        \n",
    "    # get kmer info (old)\n",
    "    #kmer_info = defaultdict(lambda: defaultdict(int))\n",
    "    #for kmer, m6as in zip(motif_kmers, m6a_kmers):\n",
    "    #    kmer_info[kmer][\"count\"] += 1\n",
    "    #    kmer_info[kmer][\"m6a\"] += sum(m6as)\n",
    "    #print(kmer_info)\n",
    "    #return kmer_info\n",
    "    return pd.Series(kmer_info, index=list(kmer_info.keys()))"
   ]
  },
  {
   "cell_type": "code",
   "execution_count": 30,
   "metadata": {
    "hidden": true
   },
   "outputs": [
    {
     "data": {
      "text/plain": [
       "{'a': 1, 'b': 2, 'c': 3}"
      ]
     },
     "execution_count": 30,
     "metadata": {},
     "output_type": "execute_result"
    }
   ],
   "source": [
    "d_a = {\"a\": 1, \"b\": 2, \"c\": 3}\n",
    "d_b = {\"a\": 0, \"b\": 0, \"c\": 0}\n",
    "for k in d_a.keys():\n",
    "    d_b[k] = d_a[k]\n",
    "d_b"
   ]
  },
  {
   "cell_type": "code",
   "execution_count": 422,
   "metadata": {
    "collapsed": true,
    "hidden": true
   },
   "outputs": [
    {
     "data": {
      "text/plain": [
       "msp_size           354.000000\n",
       "left_m6a_count       1.000000\n",
       "right_m6a_count      0.000000\n",
       "motif_m6a_count      0.000000\n",
       "left_AT_count        9.000000\n",
       "right_AT_count      12.000000\n",
       "motif_AT_count      10.000000\n",
       "left_AT_prop         0.225000\n",
       "right_AT_prop        0.300000\n",
       "motif_AT_prop        0.285714\n",
       "left_m6a_prop        0.111111\n",
       "right_m6a_prop       0.000000\n",
       "motif_m6a_prop       0.000000\n",
       "total_m6a_prop       0.017241\n",
       "dtype: float64"
      ]
     },
     "execution_count": 422,
     "metadata": {},
     "output_type": "execute_result"
    }
   ],
   "source": [
    "print(len(list(df.iloc[:20].groupby(grouping_cols).groups.keys())))"
   ]
  },
  {
   "cell_type": "code",
   "execution_count": 446,
   "metadata": {
    "collapsed": true,
    "hidden": true
   },
   "outputs": [
    {
     "data": {
      "text/html": [
       "<div>\n",
       "<style scoped>\n",
       "    .dataframe tbody tr th:only-of-type {\n",
       "        vertical-align: middle;\n",
       "    }\n",
       "\n",
       "    .dataframe tbody tr th {\n",
       "        vertical-align: top;\n",
       "    }\n",
       "\n",
       "    .dataframe thead th {\n",
       "        text-align: right;\n",
       "    }\n",
       "</style>\n",
       "<table border=\"1\" class=\"dataframe\">\n",
       "  <thead>\n",
       "    <tr style=\"text-align: right;\">\n",
       "      <th></th>\n",
       "      <th>motif_name</th>\n",
       "      <th>chrom</th>\n",
       "      <th>centering_position</th>\n",
       "      <th>strand</th>\n",
       "      <th>subset_sequence</th>\n",
       "      <th>reference_start</th>\n",
       "      <th>reference_end</th>\n",
       "      <th>query_name</th>\n",
       "      <th>centered_query_start</th>\n",
       "      <th>centered_query_end</th>\n",
       "      <th>query_length</th>\n",
       "      <th>centered_position_type</th>\n",
       "      <th>centered_start</th>\n",
       "      <th>centered_end</th>\n",
       "      <th>msp_size</th>\n",
       "    </tr>\n",
       "  </thead>\n",
       "  <tbody>\n",
       "    <tr>\n",
       "      <th>274</th>\n",
       "      <td>chr1_1033080_+</td>\n",
       "      <td>chr1</td>\n",
       "      <td>1033080</td>\n",
       "      <td>+</td>\n",
       "      <td>GACCTACGGGGGCGGGTGTGGGGACGCCGGACTACGCGTCAGGAGT...</td>\n",
       "      <td>1023630</td>\n",
       "      <td>1052449</td>\n",
       "      <td>m54329U_210813_020940/85131496/ccs</td>\n",
       "      <td>-9445</td>\n",
       "      <td>19365</td>\n",
       "      <td>28810</td>\n",
       "      <td>m6a</td>\n",
       "      <td>-12</td>\n",
       "      <td>-11</td>\n",
       "      <td>354</td>\n",
       "    </tr>\n",
       "    <tr>\n",
       "      <th>275</th>\n",
       "      <td>chr1_1033080_+</td>\n",
       "      <td>chr1</td>\n",
       "      <td>1033080</td>\n",
       "      <td>+</td>\n",
       "      <td>GACCTACGGGGGCGGGTGTGGGGACGCCGGACTACGCGTCAGGAGT...</td>\n",
       "      <td>1023630</td>\n",
       "      <td>1052449</td>\n",
       "      <td>m54329U_210813_020940/85131496/ccs</td>\n",
       "      <td>-9445</td>\n",
       "      <td>19365</td>\n",
       "      <td>28810</td>\n",
       "      <td>m6a</td>\n",
       "      <td>-10</td>\n",
       "      <td>-9</td>\n",
       "      <td>354</td>\n",
       "    </tr>\n",
       "    <tr>\n",
       "      <th>276</th>\n",
       "      <td>chr1_1033080_+</td>\n",
       "      <td>chr1</td>\n",
       "      <td>1033080</td>\n",
       "      <td>+</td>\n",
       "      <td>GACCTACGGGGGCGGGTGTGGGGACGCCGGACTACGCGTCAGGAGT...</td>\n",
       "      <td>1023630</td>\n",
       "      <td>1052449</td>\n",
       "      <td>m54329U_210813_020940/85131496/ccs</td>\n",
       "      <td>-9445</td>\n",
       "      <td>19365</td>\n",
       "      <td>28810</td>\n",
       "      <td>m6a</td>\n",
       "      <td>-7</td>\n",
       "      <td>-6</td>\n",
       "      <td>354</td>\n",
       "    </tr>\n",
       "    <tr>\n",
       "      <th>277</th>\n",
       "      <td>chr1_1033080_+</td>\n",
       "      <td>chr1</td>\n",
       "      <td>1033080</td>\n",
       "      <td>+</td>\n",
       "      <td>GACCTACGGGGGCGGGTGTGGGGACGCCGGACTACGCGTCAGGAGT...</td>\n",
       "      <td>1023630</td>\n",
       "      <td>1052449</td>\n",
       "      <td>m54329U_210813_020940/85131496/ccs</td>\n",
       "      <td>-9445</td>\n",
       "      <td>19365</td>\n",
       "      <td>28810</td>\n",
       "      <td>m6a</td>\n",
       "      <td>-5</td>\n",
       "      <td>-4</td>\n",
       "      <td>354</td>\n",
       "    </tr>\n",
       "    <tr>\n",
       "      <th>278</th>\n",
       "      <td>chr1_1033080_+</td>\n",
       "      <td>chr1</td>\n",
       "      <td>1033080</td>\n",
       "      <td>+</td>\n",
       "      <td>GACCTACGGGGGCGGGTGTGGGGACGCCGGACTACGCGTCAGGAGT...</td>\n",
       "      <td>1023630</td>\n",
       "      <td>1052449</td>\n",
       "      <td>m54329U_210813_020940/85131496/ccs</td>\n",
       "      <td>-9445</td>\n",
       "      <td>19365</td>\n",
       "      <td>28810</td>\n",
       "      <td>m6a</td>\n",
       "      <td>4</td>\n",
       "      <td>5</td>\n",
       "      <td>354</td>\n",
       "    </tr>\n",
       "    <tr>\n",
       "      <th>279</th>\n",
       "      <td>chr1_1033080_+</td>\n",
       "      <td>chr1</td>\n",
       "      <td>1033080</td>\n",
       "      <td>+</td>\n",
       "      <td>GACCTACGGGGGCGGGTGTGGGGACGCCGGACTACGCGTCAGGAGT...</td>\n",
       "      <td>1023630</td>\n",
       "      <td>1052449</td>\n",
       "      <td>m54329U_210813_020940/85131496/ccs</td>\n",
       "      <td>-9445</td>\n",
       "      <td>19365</td>\n",
       "      <td>28810</td>\n",
       "      <td>m6a</td>\n",
       "      <td>7</td>\n",
       "      <td>8</td>\n",
       "      <td>354</td>\n",
       "    </tr>\n",
       "    <tr>\n",
       "      <th>280</th>\n",
       "      <td>chr1_1033080_+</td>\n",
       "      <td>chr1</td>\n",
       "      <td>1033080</td>\n",
       "      <td>+</td>\n",
       "      <td>GACCTACGGGGGCGGGTGTGGGGACGCCGGACTACGCGTCAGGAGT...</td>\n",
       "      <td>1023630</td>\n",
       "      <td>1052449</td>\n",
       "      <td>m54329U_210813_020940/85131496/ccs</td>\n",
       "      <td>-9445</td>\n",
       "      <td>19365</td>\n",
       "      <td>28810</td>\n",
       "      <td>m6a</td>\n",
       "      <td>8</td>\n",
       "      <td>9</td>\n",
       "      <td>354</td>\n",
       "    </tr>\n",
       "    <tr>\n",
       "      <th>281</th>\n",
       "      <td>chr1_1033080_+</td>\n",
       "      <td>chr1</td>\n",
       "      <td>1033080</td>\n",
       "      <td>+</td>\n",
       "      <td>GACCTACGGGGGCGGGTGTGGGGACGCCGGACTACGCGTCAGGAGT...</td>\n",
       "      <td>1023630</td>\n",
       "      <td>1052449</td>\n",
       "      <td>m54329U_210813_020940/85131496/ccs</td>\n",
       "      <td>-9445</td>\n",
       "      <td>19365</td>\n",
       "      <td>28810</td>\n",
       "      <td>m6a</td>\n",
       "      <td>20</td>\n",
       "      <td>21</td>\n",
       "      <td>354</td>\n",
       "    </tr>\n",
       "    <tr>\n",
       "      <th>282</th>\n",
       "      <td>chr1_1033080_+</td>\n",
       "      <td>chr1</td>\n",
       "      <td>1033080</td>\n",
       "      <td>+</td>\n",
       "      <td>GACCTACGGGGGCGGGTGTGGGGACGCCGGACTACGCGTCAGGAGT...</td>\n",
       "      <td>1023630</td>\n",
       "      <td>1052449</td>\n",
       "      <td>m54329U_210813_020940/85131496/ccs</td>\n",
       "      <td>-9445</td>\n",
       "      <td>19365</td>\n",
       "      <td>28810</td>\n",
       "      <td>m6a</td>\n",
       "      <td>22</td>\n",
       "      <td>23</td>\n",
       "      <td>354</td>\n",
       "    </tr>\n",
       "    <tr>\n",
       "      <th>283</th>\n",
       "      <td>chr1_1033080_+</td>\n",
       "      <td>chr1</td>\n",
       "      <td>1033080</td>\n",
       "      <td>+</td>\n",
       "      <td>GACCTACGGGGGCGGGTGTGGGGACGCCGGACTACGCGTCAGGAGT...</td>\n",
       "      <td>1023630</td>\n",
       "      <td>1052449</td>\n",
       "      <td>m54329U_210813_020940/85131496/ccs</td>\n",
       "      <td>-9445</td>\n",
       "      <td>19365</td>\n",
       "      <td>28810</td>\n",
       "      <td>m6a</td>\n",
       "      <td>23</td>\n",
       "      <td>24</td>\n",
       "      <td>354</td>\n",
       "    </tr>\n",
       "    <tr>\n",
       "      <th>284</th>\n",
       "      <td>chr1_1033080_+</td>\n",
       "      <td>chr1</td>\n",
       "      <td>1033080</td>\n",
       "      <td>+</td>\n",
       "      <td>GACCTACGGGGGCGGGTGTGGGGACGCCGGACTACGCGTCAGGAGT...</td>\n",
       "      <td>1023630</td>\n",
       "      <td>1052449</td>\n",
       "      <td>m54329U_210813_020940/85131496/ccs</td>\n",
       "      <td>-9445</td>\n",
       "      <td>19365</td>\n",
       "      <td>28810</td>\n",
       "      <td>m6a</td>\n",
       "      <td>31</td>\n",
       "      <td>32</td>\n",
       "      <td>354</td>\n",
       "    </tr>\n",
       "    <tr>\n",
       "      <th>285</th>\n",
       "      <td>chr1_1033080_+</td>\n",
       "      <td>chr1</td>\n",
       "      <td>1033080</td>\n",
       "      <td>+</td>\n",
       "      <td>GACCTACGGGGGCGGGTGTGGGGACGCCGGACTACGCGTCAGGAGT...</td>\n",
       "      <td>1023630</td>\n",
       "      <td>1052449</td>\n",
       "      <td>m54329U_210813_020940/85131496/ccs</td>\n",
       "      <td>-9445</td>\n",
       "      <td>19365</td>\n",
       "      <td>28810</td>\n",
       "      <td>m6a</td>\n",
       "      <td>32</td>\n",
       "      <td>33</td>\n",
       "      <td>354</td>\n",
       "    </tr>\n",
       "    <tr>\n",
       "      <th>286</th>\n",
       "      <td>chr1_1033080_+</td>\n",
       "      <td>chr1</td>\n",
       "      <td>1033080</td>\n",
       "      <td>+</td>\n",
       "      <td>GACCTACGGGGGCGGGTGTGGGGACGCCGGACTACGCGTCAGGAGT...</td>\n",
       "      <td>1023630</td>\n",
       "      <td>1052449</td>\n",
       "      <td>m54329U_210813_020940/85131496/ccs</td>\n",
       "      <td>-9445</td>\n",
       "      <td>19365</td>\n",
       "      <td>28810</td>\n",
       "      <td>m6a</td>\n",
       "      <td>35</td>\n",
       "      <td>36</td>\n",
       "      <td>354</td>\n",
       "    </tr>\n",
       "    <tr>\n",
       "      <th>287</th>\n",
       "      <td>chr1_1033080_+</td>\n",
       "      <td>chr1</td>\n",
       "      <td>1033080</td>\n",
       "      <td>+</td>\n",
       "      <td>GACCTACGGGGGCGGGTGTGGGGACGCCGGACTACGCGTCAGGAGT...</td>\n",
       "      <td>1023630</td>\n",
       "      <td>1052449</td>\n",
       "      <td>m54329U_210813_020940/85131496/ccs</td>\n",
       "      <td>-9445</td>\n",
       "      <td>19365</td>\n",
       "      <td>28810</td>\n",
       "      <td>m6a</td>\n",
       "      <td>41</td>\n",
       "      <td>42</td>\n",
       "      <td>354</td>\n",
       "    </tr>\n",
       "    <tr>\n",
       "      <th>288</th>\n",
       "      <td>chr1_1033080_+</td>\n",
       "      <td>chr1</td>\n",
       "      <td>1033080</td>\n",
       "      <td>+</td>\n",
       "      <td>GACCTACGGGGGCGGGTGTGGGGACGCCGGACTACGCGTCAGGAGT...</td>\n",
       "      <td>1023630</td>\n",
       "      <td>1052449</td>\n",
       "      <td>m54329U_210813_020940/85131496/ccs</td>\n",
       "      <td>-9445</td>\n",
       "      <td>19365</td>\n",
       "      <td>28810</td>\n",
       "      <td>m6a</td>\n",
       "      <td>45</td>\n",
       "      <td>46</td>\n",
       "      <td>354</td>\n",
       "    </tr>\n",
       "    <tr>\n",
       "      <th>289</th>\n",
       "      <td>chr1_1033080_+</td>\n",
       "      <td>chr1</td>\n",
       "      <td>1033080</td>\n",
       "      <td>+</td>\n",
       "      <td>GACCTACGGGGGCGGGTGTGGGGACGCCGGACTACGCGTCAGGAGT...</td>\n",
       "      <td>1023630</td>\n",
       "      <td>1052449</td>\n",
       "      <td>m54329U_210813_020940/85131496/ccs</td>\n",
       "      <td>-9445</td>\n",
       "      <td>19365</td>\n",
       "      <td>28810</td>\n",
       "      <td>m6a</td>\n",
       "      <td>51</td>\n",
       "      <td>52</td>\n",
       "      <td>354</td>\n",
       "    </tr>\n",
       "    <tr>\n",
       "      <th>290</th>\n",
       "      <td>chr1_1033080_+</td>\n",
       "      <td>chr1</td>\n",
       "      <td>1033080</td>\n",
       "      <td>+</td>\n",
       "      <td>GACCTACGGGGGCGGGTGTGGGGACGCCGGACTACGCGTCAGGAGT...</td>\n",
       "      <td>1023630</td>\n",
       "      <td>1052449</td>\n",
       "      <td>m54329U_210813_020940/85131496/ccs</td>\n",
       "      <td>-9445</td>\n",
       "      <td>19365</td>\n",
       "      <td>28810</td>\n",
       "      <td>m6a</td>\n",
       "      <td>55</td>\n",
       "      <td>56</td>\n",
       "      <td>354</td>\n",
       "    </tr>\n",
       "    <tr>\n",
       "      <th>291</th>\n",
       "      <td>chr1_1033080_+</td>\n",
       "      <td>chr1</td>\n",
       "      <td>1033080</td>\n",
       "      <td>+</td>\n",
       "      <td>GACCTACGGGGGCGGGTGTGGGGACGCCGGACTACGCGTCAGGAGT...</td>\n",
       "      <td>1023630</td>\n",
       "      <td>1052449</td>\n",
       "      <td>m54329U_210813_020940/85131496/ccs</td>\n",
       "      <td>-9445</td>\n",
       "      <td>19365</td>\n",
       "      <td>28810</td>\n",
       "      <td>m6a</td>\n",
       "      <td>57</td>\n",
       "      <td>58</td>\n",
       "      <td>354</td>\n",
       "    </tr>\n",
       "    <tr>\n",
       "      <th>292</th>\n",
       "      <td>chr1_1033080_+</td>\n",
       "      <td>chr1</td>\n",
       "      <td>1033080</td>\n",
       "      <td>+</td>\n",
       "      <td>GACCTACGGGGGCGGGTGTGGGGACGCCGGACTACGCGTCAGGAGT...</td>\n",
       "      <td>1023630</td>\n",
       "      <td>1052449</td>\n",
       "      <td>m54329U_210813_020940/85131496/ccs</td>\n",
       "      <td>-9445</td>\n",
       "      <td>19365</td>\n",
       "      <td>28810</td>\n",
       "      <td>m6a</td>\n",
       "      <td>67</td>\n",
       "      <td>68</td>\n",
       "      <td>354</td>\n",
       "    </tr>\n",
       "    <tr>\n",
       "      <th>293</th>\n",
       "      <td>chr1_1033080_+</td>\n",
       "      <td>chr1</td>\n",
       "      <td>1033080</td>\n",
       "      <td>+</td>\n",
       "      <td>GACCTACGGGGGCGGGTGTGGGGACGCCGGACTACGCGTCAGGAGT...</td>\n",
       "      <td>1023630</td>\n",
       "      <td>1052449</td>\n",
       "      <td>m54329U_210813_020940/85131496/ccs</td>\n",
       "      <td>-9445</td>\n",
       "      <td>19365</td>\n",
       "      <td>28810</td>\n",
       "      <td>m6a</td>\n",
       "      <td>68</td>\n",
       "      <td>69</td>\n",
       "      <td>354</td>\n",
       "    </tr>\n",
       "    <tr>\n",
       "      <th>294</th>\n",
       "      <td>chr1_1033080_+</td>\n",
       "      <td>chr1</td>\n",
       "      <td>1033080</td>\n",
       "      <td>+</td>\n",
       "      <td>GACCTACGGGGGCGGGTGTGGGGACGCCGGACTACGCGTCAGGAGT...</td>\n",
       "      <td>1023630</td>\n",
       "      <td>1052449</td>\n",
       "      <td>m54329U_210813_020940/85131496/ccs</td>\n",
       "      <td>-9445</td>\n",
       "      <td>19365</td>\n",
       "      <td>28810</td>\n",
       "      <td>m6a</td>\n",
       "      <td>69</td>\n",
       "      <td>70</td>\n",
       "      <td>354</td>\n",
       "    </tr>\n",
       "    <tr>\n",
       "      <th>295</th>\n",
       "      <td>chr1_1033080_+</td>\n",
       "      <td>chr1</td>\n",
       "      <td>1033080</td>\n",
       "      <td>+</td>\n",
       "      <td>GACCTACGGGGGCGGGTGTGGGGACGCCGGACTACGCGTCAGGAGT...</td>\n",
       "      <td>1023630</td>\n",
       "      <td>1052449</td>\n",
       "      <td>m54329U_210813_020940/85131496/ccs</td>\n",
       "      <td>-9445</td>\n",
       "      <td>19365</td>\n",
       "      <td>28810</td>\n",
       "      <td>m6a</td>\n",
       "      <td>74</td>\n",
       "      <td>75</td>\n",
       "      <td>354</td>\n",
       "    </tr>\n",
       "    <tr>\n",
       "      <th>303</th>\n",
       "      <td>chr1_1033080_+</td>\n",
       "      <td>chr1</td>\n",
       "      <td>1033080</td>\n",
       "      <td>+</td>\n",
       "      <td>ACCTACGGGGGGCGGGTGTGGGGACGCCGGACTACGCGTCAGGAGT...</td>\n",
       "      <td>1024144</td>\n",
       "      <td>1040342</td>\n",
       "      <td>m64076_210328_012155/84345303/ccs</td>\n",
       "      <td>-8975</td>\n",
       "      <td>7279</td>\n",
       "      <td>16254</td>\n",
       "      <td>m6a</td>\n",
       "      <td>-39</td>\n",
       "      <td>-38</td>\n",
       "      <td>237</td>\n",
       "    </tr>\n",
       "    <tr>\n",
       "      <th>304</th>\n",
       "      <td>chr1_1033080_+</td>\n",
       "      <td>chr1</td>\n",
       "      <td>1033080</td>\n",
       "      <td>+</td>\n",
       "      <td>ACCTACGGGGGGCGGGTGTGGGGACGCCGGACTACGCGTCAGGAGT...</td>\n",
       "      <td>1024144</td>\n",
       "      <td>1040342</td>\n",
       "      <td>m64076_210328_012155/84345303/ccs</td>\n",
       "      <td>-8975</td>\n",
       "      <td>7279</td>\n",
       "      <td>16254</td>\n",
       "      <td>m6a</td>\n",
       "      <td>-33</td>\n",
       "      <td>-32</td>\n",
       "      <td>237</td>\n",
       "    </tr>\n",
       "    <tr>\n",
       "      <th>305</th>\n",
       "      <td>chr1_1033080_+</td>\n",
       "      <td>chr1</td>\n",
       "      <td>1033080</td>\n",
       "      <td>+</td>\n",
       "      <td>ACCTACGGGGGGCGGGTGTGGGGACGCCGGACTACGCGTCAGGAGT...</td>\n",
       "      <td>1024144</td>\n",
       "      <td>1040342</td>\n",
       "      <td>m64076_210328_012155/84345303/ccs</td>\n",
       "      <td>-8975</td>\n",
       "      <td>7279</td>\n",
       "      <td>16254</td>\n",
       "      <td>m6a</td>\n",
       "      <td>-32</td>\n",
       "      <td>-31</td>\n",
       "      <td>237</td>\n",
       "    </tr>\n",
       "  </tbody>\n",
       "</table>\n",
       "</div>"
      ],
      "text/plain": [
       "         motif_name chrom  centering_position strand  \\\n",
       "274  chr1_1033080_+  chr1             1033080      +   \n",
       "275  chr1_1033080_+  chr1             1033080      +   \n",
       "276  chr1_1033080_+  chr1             1033080      +   \n",
       "277  chr1_1033080_+  chr1             1033080      +   \n",
       "278  chr1_1033080_+  chr1             1033080      +   \n",
       "279  chr1_1033080_+  chr1             1033080      +   \n",
       "280  chr1_1033080_+  chr1             1033080      +   \n",
       "281  chr1_1033080_+  chr1             1033080      +   \n",
       "282  chr1_1033080_+  chr1             1033080      +   \n",
       "283  chr1_1033080_+  chr1             1033080      +   \n",
       "284  chr1_1033080_+  chr1             1033080      +   \n",
       "285  chr1_1033080_+  chr1             1033080      +   \n",
       "286  chr1_1033080_+  chr1             1033080      +   \n",
       "287  chr1_1033080_+  chr1             1033080      +   \n",
       "288  chr1_1033080_+  chr1             1033080      +   \n",
       "289  chr1_1033080_+  chr1             1033080      +   \n",
       "290  chr1_1033080_+  chr1             1033080      +   \n",
       "291  chr1_1033080_+  chr1             1033080      +   \n",
       "292  chr1_1033080_+  chr1             1033080      +   \n",
       "293  chr1_1033080_+  chr1             1033080      +   \n",
       "294  chr1_1033080_+  chr1             1033080      +   \n",
       "295  chr1_1033080_+  chr1             1033080      +   \n",
       "303  chr1_1033080_+  chr1             1033080      +   \n",
       "304  chr1_1033080_+  chr1             1033080      +   \n",
       "305  chr1_1033080_+  chr1             1033080      +   \n",
       "\n",
       "                                       subset_sequence  reference_start  \\\n",
       "274  GACCTACGGGGGCGGGTGTGGGGACGCCGGACTACGCGTCAGGAGT...          1023630   \n",
       "275  GACCTACGGGGGCGGGTGTGGGGACGCCGGACTACGCGTCAGGAGT...          1023630   \n",
       "276  GACCTACGGGGGCGGGTGTGGGGACGCCGGACTACGCGTCAGGAGT...          1023630   \n",
       "277  GACCTACGGGGGCGGGTGTGGGGACGCCGGACTACGCGTCAGGAGT...          1023630   \n",
       "278  GACCTACGGGGGCGGGTGTGGGGACGCCGGACTACGCGTCAGGAGT...          1023630   \n",
       "279  GACCTACGGGGGCGGGTGTGGGGACGCCGGACTACGCGTCAGGAGT...          1023630   \n",
       "280  GACCTACGGGGGCGGGTGTGGGGACGCCGGACTACGCGTCAGGAGT...          1023630   \n",
       "281  GACCTACGGGGGCGGGTGTGGGGACGCCGGACTACGCGTCAGGAGT...          1023630   \n",
       "282  GACCTACGGGGGCGGGTGTGGGGACGCCGGACTACGCGTCAGGAGT...          1023630   \n",
       "283  GACCTACGGGGGCGGGTGTGGGGACGCCGGACTACGCGTCAGGAGT...          1023630   \n",
       "284  GACCTACGGGGGCGGGTGTGGGGACGCCGGACTACGCGTCAGGAGT...          1023630   \n",
       "285  GACCTACGGGGGCGGGTGTGGGGACGCCGGACTACGCGTCAGGAGT...          1023630   \n",
       "286  GACCTACGGGGGCGGGTGTGGGGACGCCGGACTACGCGTCAGGAGT...          1023630   \n",
       "287  GACCTACGGGGGCGGGTGTGGGGACGCCGGACTACGCGTCAGGAGT...          1023630   \n",
       "288  GACCTACGGGGGCGGGTGTGGGGACGCCGGACTACGCGTCAGGAGT...          1023630   \n",
       "289  GACCTACGGGGGCGGGTGTGGGGACGCCGGACTACGCGTCAGGAGT...          1023630   \n",
       "290  GACCTACGGGGGCGGGTGTGGGGACGCCGGACTACGCGTCAGGAGT...          1023630   \n",
       "291  GACCTACGGGGGCGGGTGTGGGGACGCCGGACTACGCGTCAGGAGT...          1023630   \n",
       "292  GACCTACGGGGGCGGGTGTGGGGACGCCGGACTACGCGTCAGGAGT...          1023630   \n",
       "293  GACCTACGGGGGCGGGTGTGGGGACGCCGGACTACGCGTCAGGAGT...          1023630   \n",
       "294  GACCTACGGGGGCGGGTGTGGGGACGCCGGACTACGCGTCAGGAGT...          1023630   \n",
       "295  GACCTACGGGGGCGGGTGTGGGGACGCCGGACTACGCGTCAGGAGT...          1023630   \n",
       "303  ACCTACGGGGGGCGGGTGTGGGGACGCCGGACTACGCGTCAGGAGT...          1024144   \n",
       "304  ACCTACGGGGGGCGGGTGTGGGGACGCCGGACTACGCGTCAGGAGT...          1024144   \n",
       "305  ACCTACGGGGGGCGGGTGTGGGGACGCCGGACTACGCGTCAGGAGT...          1024144   \n",
       "\n",
       "     reference_end                          query_name  centered_query_start  \\\n",
       "274        1052449  m54329U_210813_020940/85131496/ccs                 -9445   \n",
       "275        1052449  m54329U_210813_020940/85131496/ccs                 -9445   \n",
       "276        1052449  m54329U_210813_020940/85131496/ccs                 -9445   \n",
       "277        1052449  m54329U_210813_020940/85131496/ccs                 -9445   \n",
       "278        1052449  m54329U_210813_020940/85131496/ccs                 -9445   \n",
       "279        1052449  m54329U_210813_020940/85131496/ccs                 -9445   \n",
       "280        1052449  m54329U_210813_020940/85131496/ccs                 -9445   \n",
       "281        1052449  m54329U_210813_020940/85131496/ccs                 -9445   \n",
       "282        1052449  m54329U_210813_020940/85131496/ccs                 -9445   \n",
       "283        1052449  m54329U_210813_020940/85131496/ccs                 -9445   \n",
       "284        1052449  m54329U_210813_020940/85131496/ccs                 -9445   \n",
       "285        1052449  m54329U_210813_020940/85131496/ccs                 -9445   \n",
       "286        1052449  m54329U_210813_020940/85131496/ccs                 -9445   \n",
       "287        1052449  m54329U_210813_020940/85131496/ccs                 -9445   \n",
       "288        1052449  m54329U_210813_020940/85131496/ccs                 -9445   \n",
       "289        1052449  m54329U_210813_020940/85131496/ccs                 -9445   \n",
       "290        1052449  m54329U_210813_020940/85131496/ccs                 -9445   \n",
       "291        1052449  m54329U_210813_020940/85131496/ccs                 -9445   \n",
       "292        1052449  m54329U_210813_020940/85131496/ccs                 -9445   \n",
       "293        1052449  m54329U_210813_020940/85131496/ccs                 -9445   \n",
       "294        1052449  m54329U_210813_020940/85131496/ccs                 -9445   \n",
       "295        1052449  m54329U_210813_020940/85131496/ccs                 -9445   \n",
       "303        1040342   m64076_210328_012155/84345303/ccs                 -8975   \n",
       "304        1040342   m64076_210328_012155/84345303/ccs                 -8975   \n",
       "305        1040342   m64076_210328_012155/84345303/ccs                 -8975   \n",
       "\n",
       "     centered_query_end  query_length centered_position_type  centered_start  \\\n",
       "274               19365         28810                    m6a             -12   \n",
       "275               19365         28810                    m6a             -10   \n",
       "276               19365         28810                    m6a              -7   \n",
       "277               19365         28810                    m6a              -5   \n",
       "278               19365         28810                    m6a               4   \n",
       "279               19365         28810                    m6a               7   \n",
       "280               19365         28810                    m6a               8   \n",
       "281               19365         28810                    m6a              20   \n",
       "282               19365         28810                    m6a              22   \n",
       "283               19365         28810                    m6a              23   \n",
       "284               19365         28810                    m6a              31   \n",
       "285               19365         28810                    m6a              32   \n",
       "286               19365         28810                    m6a              35   \n",
       "287               19365         28810                    m6a              41   \n",
       "288               19365         28810                    m6a              45   \n",
       "289               19365         28810                    m6a              51   \n",
       "290               19365         28810                    m6a              55   \n",
       "291               19365         28810                    m6a              57   \n",
       "292               19365         28810                    m6a              67   \n",
       "293               19365         28810                    m6a              68   \n",
       "294               19365         28810                    m6a              69   \n",
       "295               19365         28810                    m6a              74   \n",
       "303                7279         16254                    m6a             -39   \n",
       "304                7279         16254                    m6a             -33   \n",
       "305                7279         16254                    m6a             -32   \n",
       "\n",
       "     centered_end  msp_size  \n",
       "274           -11       354  \n",
       "275            -9       354  \n",
       "276            -6       354  \n",
       "277            -4       354  \n",
       "278             5       354  \n",
       "279             8       354  \n",
       "280             9       354  \n",
       "281            21       354  \n",
       "282            23       354  \n",
       "283            24       354  \n",
       "284            32       354  \n",
       "285            33       354  \n",
       "286            36       354  \n",
       "287            42       354  \n",
       "288            46       354  \n",
       "289            52       354  \n",
       "290            56       354  \n",
       "291            58       354  \n",
       "292            68       354  \n",
       "293            69       354  \n",
       "294            70       354  \n",
       "295            75       354  \n",
       "303           -38       237  \n",
       "304           -32       237  \n",
       "305           -31       237  "
      ]
     },
     "execution_count": 446,
     "metadata": {},
     "output_type": "execute_result"
    }
   ],
   "source": [
    "df.iloc[135:160]"
   ]
  },
  {
   "cell_type": "code",
   "execution_count": 470,
   "metadata": {
    "hidden": true
   },
   "outputs": [
    {
     "name": "stdout",
     "output_type": "stream",
     "text": [
      "3\n",
      "CPU times: user 16.4 ms, sys: 5.31 ms, total: 21.7 ms\n",
      "Wall time: 18.1 ms\n"
     ]
    },
    {
     "data": {
      "text/html": [
       "<div>\n",
       "<style scoped>\n",
       "    .dataframe tbody tr th:only-of-type {\n",
       "        vertical-align: middle;\n",
       "    }\n",
       "\n",
       "    .dataframe tbody tr th {\n",
       "        vertical-align: top;\n",
       "    }\n",
       "\n",
       "    .dataframe thead th {\n",
       "        text-align: right;\n",
       "    }\n",
       "</style>\n",
       "<table border=\"1\" class=\"dataframe\">\n",
       "  <thead>\n",
       "    <tr style=\"text-align: right;\">\n",
       "      <th></th>\n",
       "      <th>motif_name</th>\n",
       "      <th>query_name</th>\n",
       "      <th>level_2</th>\n",
       "      <th>0</th>\n",
       "    </tr>\n",
       "  </thead>\n",
       "  <tbody>\n",
       "    <tr>\n",
       "      <th>0</th>\n",
       "      <td>chr1_1033080_+</td>\n",
       "      <td>m54329U_210813_020940/85131496/ccs</td>\n",
       "      <td>GGA_count</td>\n",
       "      <td>2</td>\n",
       "    </tr>\n",
       "    <tr>\n",
       "      <th>1</th>\n",
       "      <td>chr1_1033080_+</td>\n",
       "      <td>m54329U_210813_020940/85131496/ccs</td>\n",
       "      <td>GGA_m6a</td>\n",
       "      <td>1</td>\n",
       "    </tr>\n",
       "    <tr>\n",
       "      <th>2</th>\n",
       "      <td>chr1_1033080_+</td>\n",
       "      <td>m54329U_210813_020940/85131496/ccs</td>\n",
       "      <td>GAC_count</td>\n",
       "      <td>1</td>\n",
       "    </tr>\n",
       "    <tr>\n",
       "      <th>3</th>\n",
       "      <td>chr1_1033080_+</td>\n",
       "      <td>m54329U_210813_020940/85131496/ccs</td>\n",
       "      <td>GAC_m6a</td>\n",
       "      <td>1</td>\n",
       "    </tr>\n",
       "    <tr>\n",
       "      <th>4</th>\n",
       "      <td>chr1_1033080_+</td>\n",
       "      <td>m54329U_210813_020940/85131496/ccs</td>\n",
       "      <td>ACG_count</td>\n",
       "      <td>2</td>\n",
       "    </tr>\n",
       "    <tr>\n",
       "      <th>...</th>\n",
       "      <td>...</td>\n",
       "      <td>...</td>\n",
       "      <td>...</td>\n",
       "      <td>...</td>\n",
       "    </tr>\n",
       "    <tr>\n",
       "      <th>85</th>\n",
       "      <td>chr1_1033080_+</td>\n",
       "      <td>m64076_210328_012155/84345303/ccs</td>\n",
       "      <td>CTT_m6a</td>\n",
       "      <td>0</td>\n",
       "    </tr>\n",
       "    <tr>\n",
       "      <th>86</th>\n",
       "      <td>chr1_1033080_+</td>\n",
       "      <td>m64076_210328_012155/84345303/ccs</td>\n",
       "      <td>TTG_count</td>\n",
       "      <td>1</td>\n",
       "    </tr>\n",
       "    <tr>\n",
       "      <th>87</th>\n",
       "      <td>chr1_1033080_+</td>\n",
       "      <td>m64076_210328_012155/84345303/ccs</td>\n",
       "      <td>TTG_m6a</td>\n",
       "      <td>0</td>\n",
       "    </tr>\n",
       "    <tr>\n",
       "      <th>88</th>\n",
       "      <td>chr1_1033080_+</td>\n",
       "      <td>m64076_210328_012155/84345303/ccs</td>\n",
       "      <td>TGG_count</td>\n",
       "      <td>1</td>\n",
       "    </tr>\n",
       "    <tr>\n",
       "      <th>89</th>\n",
       "      <td>chr1_1033080_+</td>\n",
       "      <td>m64076_210328_012155/84345303/ccs</td>\n",
       "      <td>TGG_m6a</td>\n",
       "      <td>0</td>\n",
       "    </tr>\n",
       "  </tbody>\n",
       "</table>\n",
       "<p>90 rows × 4 columns</p>\n",
       "</div>"
      ],
      "text/plain": [
       "        motif_name                          query_name    level_2  0\n",
       "0   chr1_1033080_+  m54329U_210813_020940/85131496/ccs  GGA_count  2\n",
       "1   chr1_1033080_+  m54329U_210813_020940/85131496/ccs    GGA_m6a  1\n",
       "2   chr1_1033080_+  m54329U_210813_020940/85131496/ccs  GAC_count  1\n",
       "3   chr1_1033080_+  m54329U_210813_020940/85131496/ccs    GAC_m6a  1\n",
       "4   chr1_1033080_+  m54329U_210813_020940/85131496/ccs  ACG_count  2\n",
       "..             ...                                 ...        ... ..\n",
       "85  chr1_1033080_+   m64076_210328_012155/84345303/ccs    CTT_m6a  0\n",
       "86  chr1_1033080_+   m64076_210328_012155/84345303/ccs  TTG_count  1\n",
       "87  chr1_1033080_+   m64076_210328_012155/84345303/ccs    TTG_m6a  0\n",
       "88  chr1_1033080_+   m64076_210328_012155/84345303/ccs  TGG_count  1\n",
       "89  chr1_1033080_+   m64076_210328_012155/84345303/ccs    TGG_m6a  0\n",
       "\n",
       "[90 rows x 4 columns]"
      ]
     },
     "execution_count": 470,
     "metadata": {},
     "output_type": "execute_result"
    }
   ],
   "source": [
    "%%time\n",
    "# aggregate features\n",
    "print(len(list(df.iloc[130:160].groupby(grouping_cols).groups.keys())))\n",
    "kmer_res = df.iloc[130:160].groupby(grouping_cols).apply(agg_kmers).reset_index()\n",
    "# change col dtypes for memory\n",
    "#kmer_res[kmer_res.columns.tolist()[2:]] = kmer_res[kmer_res.columns.tolist()[2:]].apply(pd.to_numeric, downcast=\"float\")\n",
    "#print(\"Total rows: \" + \"{:,}\".format(kmer_res.shape[0]))\n",
    "#print(\"Total columns: \" + \"{:,}\".format(kmer_res.shape[1]))\n",
    "kmer_res"
   ]
  },
  {
   "cell_type": "code",
   "execution_count": 333,
   "metadata": {
    "collapsed": true,
    "hidden": true
   },
   "outputs": [
    {
     "name": "stdout",
     "output_type": "stream",
     "text": [
      "Total rows: 9\n",
      "Total columns: 32\n",
      "CPU times: user 21.5 ms, sys: 5.54 ms, total: 27 ms\n",
      "Wall time: 23.3 ms\n"
     ]
    },
    {
     "data": {
      "text/html": [
       "<div>\n",
       "<style scoped>\n",
       "    .dataframe tbody tr th:only-of-type {\n",
       "        vertical-align: middle;\n",
       "    }\n",
       "\n",
       "    .dataframe tbody tr th {\n",
       "        vertical-align: top;\n",
       "    }\n",
       "\n",
       "    .dataframe thead th {\n",
       "        text-align: right;\n",
       "    }\n",
       "</style>\n",
       "<table border=\"1\" class=\"dataframe\">\n",
       "  <thead>\n",
       "    <tr style=\"text-align: right;\">\n",
       "      <th></th>\n",
       "      <th>motif_name</th>\n",
       "      <th>query_name</th>\n",
       "      <th>GGA_count</th>\n",
       "      <th>GGA_m6a</th>\n",
       "      <th>GAC_count</th>\n",
       "      <th>GAC_m6a</th>\n",
       "      <th>ACG_count</th>\n",
       "      <th>ACG_m6a</th>\n",
       "      <th>CGT_count</th>\n",
       "      <th>CGT_m6a</th>\n",
       "      <th>...</th>\n",
       "      <th>CTC_count</th>\n",
       "      <th>CTC_m6a</th>\n",
       "      <th>TCT_count</th>\n",
       "      <th>TCT_m6a</th>\n",
       "      <th>CTT_count</th>\n",
       "      <th>CTT_m6a</th>\n",
       "      <th>TTG_count</th>\n",
       "      <th>TTG_m6a</th>\n",
       "      <th>TGG_count</th>\n",
       "      <th>TGG_m6a</th>\n",
       "    </tr>\n",
       "  </thead>\n",
       "  <tbody>\n",
       "    <tr>\n",
       "      <th>0</th>\n",
       "      <td>chr1_1033080_+</td>\n",
       "      <td>m54329U_210323_190418/28969124/ccs</td>\n",
       "      <td>2</td>\n",
       "      <td>0</td>\n",
       "      <td>1</td>\n",
       "      <td>0</td>\n",
       "      <td>2</td>\n",
       "      <td>0</td>\n",
       "      <td>2</td>\n",
       "      <td>0</td>\n",
       "      <td>...</td>\n",
       "      <td>1</td>\n",
       "      <td>0</td>\n",
       "      <td>1</td>\n",
       "      <td>0</td>\n",
       "      <td>1</td>\n",
       "      <td>0</td>\n",
       "      <td>1</td>\n",
       "      <td>0</td>\n",
       "      <td>1</td>\n",
       "      <td>0</td>\n",
       "    </tr>\n",
       "    <tr>\n",
       "      <th>1</th>\n",
       "      <td>chr1_1033080_+</td>\n",
       "      <td>m54329U_210323_190418/65799401/ccs</td>\n",
       "      <td>2</td>\n",
       "      <td>0</td>\n",
       "      <td>1</td>\n",
       "      <td>0</td>\n",
       "      <td>2</td>\n",
       "      <td>0</td>\n",
       "      <td>2</td>\n",
       "      <td>1</td>\n",
       "      <td>...</td>\n",
       "      <td>1</td>\n",
       "      <td>0</td>\n",
       "      <td>1</td>\n",
       "      <td>0</td>\n",
       "      <td>1</td>\n",
       "      <td>0</td>\n",
       "      <td>1</td>\n",
       "      <td>0</td>\n",
       "      <td>1</td>\n",
       "      <td>0</td>\n",
       "    </tr>\n",
       "    <tr>\n",
       "      <th>2</th>\n",
       "      <td>chr1_1033080_+</td>\n",
       "      <td>m54329U_210323_190418/92997266/ccs</td>\n",
       "      <td>2</td>\n",
       "      <td>0</td>\n",
       "      <td>1</td>\n",
       "      <td>0</td>\n",
       "      <td>2</td>\n",
       "      <td>0</td>\n",
       "      <td>2</td>\n",
       "      <td>0</td>\n",
       "      <td>...</td>\n",
       "      <td>1</td>\n",
       "      <td>0</td>\n",
       "      <td>1</td>\n",
       "      <td>0</td>\n",
       "      <td>1</td>\n",
       "      <td>0</td>\n",
       "      <td>1</td>\n",
       "      <td>0</td>\n",
       "      <td>1</td>\n",
       "      <td>0</td>\n",
       "    </tr>\n",
       "    <tr>\n",
       "      <th>3</th>\n",
       "      <td>chr1_1033080_+</td>\n",
       "      <td>m54329U_210810_004956/66257203/ccs</td>\n",
       "      <td>2</td>\n",
       "      <td>0</td>\n",
       "      <td>1</td>\n",
       "      <td>0</td>\n",
       "      <td>2</td>\n",
       "      <td>0</td>\n",
       "      <td>2</td>\n",
       "      <td>0</td>\n",
       "      <td>...</td>\n",
       "      <td>1</td>\n",
       "      <td>0</td>\n",
       "      <td>1</td>\n",
       "      <td>0</td>\n",
       "      <td>1</td>\n",
       "      <td>0</td>\n",
       "      <td>1</td>\n",
       "      <td>0</td>\n",
       "      <td>1</td>\n",
       "      <td>0</td>\n",
       "    </tr>\n",
       "    <tr>\n",
       "      <th>4</th>\n",
       "      <td>chr1_1033080_+</td>\n",
       "      <td>m54329U_210813_020940/173737659/ccs</td>\n",
       "      <td>2</td>\n",
       "      <td>0</td>\n",
       "      <td>1</td>\n",
       "      <td>0</td>\n",
       "      <td>2</td>\n",
       "      <td>0</td>\n",
       "      <td>2</td>\n",
       "      <td>1</td>\n",
       "      <td>...</td>\n",
       "      <td>1</td>\n",
       "      <td>0</td>\n",
       "      <td>1</td>\n",
       "      <td>0</td>\n",
       "      <td>1</td>\n",
       "      <td>0</td>\n",
       "      <td>1</td>\n",
       "      <td>0</td>\n",
       "      <td>1</td>\n",
       "      <td>0</td>\n",
       "    </tr>\n",
       "  </tbody>\n",
       "</table>\n",
       "<p>5 rows × 32 columns</p>\n",
       "</div>"
      ],
      "text/plain": [
       "       motif_name                           query_name  GGA_count  GGA_m6a  \\\n",
       "0  chr1_1033080_+   m54329U_210323_190418/28969124/ccs          2        0   \n",
       "1  chr1_1033080_+   m54329U_210323_190418/65799401/ccs          2        0   \n",
       "2  chr1_1033080_+   m54329U_210323_190418/92997266/ccs          2        0   \n",
       "3  chr1_1033080_+   m54329U_210810_004956/66257203/ccs          2        0   \n",
       "4  chr1_1033080_+  m54329U_210813_020940/173737659/ccs          2        0   \n",
       "\n",
       "   GAC_count  GAC_m6a  ACG_count  ACG_m6a  CGT_count  CGT_m6a  ...  CTC_count  \\\n",
       "0          1        0          2        0          2        0  ...          1   \n",
       "1          1        0          2        0          2        1  ...          1   \n",
       "2          1        0          2        0          2        0  ...          1   \n",
       "3          1        0          2        0          2        0  ...          1   \n",
       "4          1        0          2        0          2        1  ...          1   \n",
       "\n",
       "   CTC_m6a  TCT_count  TCT_m6a  CTT_count  CTT_m6a  TTG_count  TTG_m6a  \\\n",
       "0        0          1        0          1        0          1        0   \n",
       "1        0          1        0          1        0          1        0   \n",
       "2        0          1        0          1        0          1        0   \n",
       "3        0          1        0          1        0          1        0   \n",
       "4        0          1        0          1        0          1        0   \n",
       "\n",
       "   TGG_count  TGG_m6a  \n",
       "0          1        0  \n",
       "1          1        0  \n",
       "2          1        0  \n",
       "3          1        0  \n",
       "4          1        0  \n",
       "\n",
       "[5 rows x 32 columns]"
      ]
     },
     "execution_count": 333,
     "metadata": {},
     "output_type": "execute_result"
    }
   ],
   "source": [
    "# aggregate features\n",
    "kmer_res = df.iloc[:100].groupby(grouping_cols).apply(agg_features).reset_index()\n",
    "\n",
    "# change col dtypes for memory\n",
    "#res_small[res_small.columns.tolist()[2:]] = res_small[res_small.columns.tolist()[2:]].apply(pd.to_numeric, downcast=\"float\")\n",
    "print(\"Total rows: \" + \"{:,}\".format(kmer_res.shape[0]))\n",
    "print(\"Total columns: \" + \"{:,}\".format(kmer_res.shape[1]))\n",
    "\n",
    "kmer_res.head()"
   ]
  },
  {
   "cell_type": "code",
   "execution_count": 318,
   "metadata": {
    "collapsed": true,
    "hidden": true
   },
   "outputs": [
    {
     "name": "stdout",
     "output_type": "stream",
     "text": [
      "Total rows: 3\n",
      "Total columns: 32\n",
      "CPU times: user 12.8 ms, sys: 2.16 ms, total: 14.9 ms\n",
      "Wall time: 12.6 ms\n"
     ]
    },
    {
     "data": {
      "text/html": [
       "<div>\n",
       "<style scoped>\n",
       "    .dataframe tbody tr th:only-of-type {\n",
       "        vertical-align: middle;\n",
       "    }\n",
       "\n",
       "    .dataframe tbody tr th {\n",
       "        vertical-align: top;\n",
       "    }\n",
       "\n",
       "    .dataframe thead th {\n",
       "        text-align: right;\n",
       "    }\n",
       "</style>\n",
       "<table border=\"1\" class=\"dataframe\">\n",
       "  <thead>\n",
       "    <tr style=\"text-align: right;\">\n",
       "      <th></th>\n",
       "      <th>motif_name</th>\n",
       "      <th>query_name</th>\n",
       "      <th>GGA_count</th>\n",
       "      <th>GGA_m6a</th>\n",
       "      <th>GAC_count</th>\n",
       "      <th>GAC_m6a</th>\n",
       "      <th>ACG_count</th>\n",
       "      <th>ACG_m6a</th>\n",
       "      <th>CGT_count</th>\n",
       "      <th>CGT_m6a</th>\n",
       "      <th>...</th>\n",
       "      <th>CTC_count</th>\n",
       "      <th>CTC_m6a</th>\n",
       "      <th>TCT_count</th>\n",
       "      <th>TCT_m6a</th>\n",
       "      <th>CTT_count</th>\n",
       "      <th>CTT_m6a</th>\n",
       "      <th>TTG_count</th>\n",
       "      <th>TTG_m6a</th>\n",
       "      <th>TGG_count</th>\n",
       "      <th>TGG_m6a</th>\n",
       "    </tr>\n",
       "  </thead>\n",
       "  <tbody>\n",
       "    <tr>\n",
       "      <th>0</th>\n",
       "      <td>chr1_1033080_+</td>\n",
       "      <td>m54329U_210323_190418/65799401/ccs</td>\n",
       "      <td>2</td>\n",
       "      <td>0</td>\n",
       "      <td>1</td>\n",
       "      <td>0</td>\n",
       "      <td>2</td>\n",
       "      <td>0</td>\n",
       "      <td>2</td>\n",
       "      <td>1</td>\n",
       "      <td>...</td>\n",
       "      <td>1</td>\n",
       "      <td>0</td>\n",
       "      <td>1</td>\n",
       "      <td>0</td>\n",
       "      <td>1</td>\n",
       "      <td>0</td>\n",
       "      <td>1</td>\n",
       "      <td>0</td>\n",
       "      <td>1</td>\n",
       "      <td>0</td>\n",
       "    </tr>\n",
       "    <tr>\n",
       "      <th>1</th>\n",
       "      <td>chr1_1033080_+</td>\n",
       "      <td>m54329U_210813_020940/173737659/ccs</td>\n",
       "      <td>2</td>\n",
       "      <td>0</td>\n",
       "      <td>1</td>\n",
       "      <td>0</td>\n",
       "      <td>2</td>\n",
       "      <td>0</td>\n",
       "      <td>2</td>\n",
       "      <td>1</td>\n",
       "      <td>...</td>\n",
       "      <td>1</td>\n",
       "      <td>0</td>\n",
       "      <td>1</td>\n",
       "      <td>0</td>\n",
       "      <td>1</td>\n",
       "      <td>0</td>\n",
       "      <td>1</td>\n",
       "      <td>0</td>\n",
       "      <td>1</td>\n",
       "      <td>0</td>\n",
       "    </tr>\n",
       "    <tr>\n",
       "      <th>2</th>\n",
       "      <td>chr1_1033080_+</td>\n",
       "      <td>m54329U_210813_020940/24183559/ccs</td>\n",
       "      <td>2</td>\n",
       "      <td>0</td>\n",
       "      <td>1</td>\n",
       "      <td>0</td>\n",
       "      <td>2</td>\n",
       "      <td>0</td>\n",
       "      <td>2</td>\n",
       "      <td>0</td>\n",
       "      <td>...</td>\n",
       "      <td>1</td>\n",
       "      <td>0</td>\n",
       "      <td>1</td>\n",
       "      <td>0</td>\n",
       "      <td>1</td>\n",
       "      <td>0</td>\n",
       "      <td>1</td>\n",
       "      <td>0</td>\n",
       "      <td>1</td>\n",
       "      <td>0</td>\n",
       "    </tr>\n",
       "  </tbody>\n",
       "</table>\n",
       "<p>3 rows × 32 columns</p>\n",
       "</div>"
      ],
      "text/plain": [
       "       motif_name                           query_name  GGA_count  GGA_m6a  \\\n",
       "0  chr1_1033080_+   m54329U_210323_190418/65799401/ccs          2        0   \n",
       "1  chr1_1033080_+  m54329U_210813_020940/173737659/ccs          2        0   \n",
       "2  chr1_1033080_+   m54329U_210813_020940/24183559/ccs          2        0   \n",
       "\n",
       "   GAC_count  GAC_m6a  ACG_count  ACG_m6a  CGT_count  CGT_m6a  ...  CTC_count  \\\n",
       "0          1        0          2        0          2        1  ...          1   \n",
       "1          1        0          2        0          2        1  ...          1   \n",
       "2          1        0          2        0          2        0  ...          1   \n",
       "\n",
       "   CTC_m6a  TCT_count  TCT_m6a  CTT_count  CTT_m6a  TTG_count  TTG_m6a  \\\n",
       "0        0          1        0          1        0          1        0   \n",
       "1        0          1        0          1        0          1        0   \n",
       "2        0          1        0          1        0          1        0   \n",
       "\n",
       "   TGG_count  TGG_m6a  \n",
       "0          1        0  \n",
       "1          1        0  \n",
       "2          1        0  \n",
       "\n",
       "[3 rows x 32 columns]"
      ]
     },
     "execution_count": 318,
     "metadata": {},
     "output_type": "execute_result"
    }
   ],
   "source": [
    "%%time\n",
    "# aggregate features\n",
    "res_small = df.iloc[:30].groupby(grouping_cols).apply(agg_features).reset_index()\n",
    "# change col dtypes for memory\n",
    "#res_small[res_small.columns.tolist()[2:]] = res_small[res_small.columns.tolist()[2:]].apply(pd.to_numeric, downcast=\"float\")\n",
    "print(\"Total rows: \" + \"{:,}\".format(res_small.shape[0]))\n",
    "print(\"Total columns: \" + \"{:,}\".format(res_small.shape[1]))\n",
    "\n",
    "res_small.head()"
   ]
  },
  {
   "cell_type": "code",
   "execution_count": 156,
   "metadata": {
    "hidden": true
   },
   "outputs": [
    {
     "name": "stdout",
     "output_type": "stream",
     "text": [
      "motif kmers: 33\n",
      "m6a kmers: 33\n",
      "kmer_ATs: 33\n"
     ]
    }
   ],
   "source": [
    "print(\"motif kmers: {}\\nm6a kmers: {}\\nkmer_ATs: {}\".format(len(motif_kmers), len(m6a_kmers), len(kmer_ATs)))"
   ]
  },
  {
   "cell_type": "code",
   "execution_count": 158,
   "metadata": {
    "hidden": true
   },
   "outputs": [
    {
     "name": "stdout",
     "output_type": "stream",
     "text": [
      "motif kmers: 27\n",
      "m6a kmers: 27\n",
      "kmer_ATs: 27\n"
     ]
    }
   ],
   "source": [
    "print(\"motif kmers: {}\\nm6a kmers: {}\\nkmer_ATs: {}\".format(len(motif_kmers), len(m6a_kmers), len(kmer_ATs)))"
   ]
  },
  {
   "cell_type": "code",
   "execution_count": 167,
   "metadata": {
    "collapsed": true,
    "hidden": true
   },
   "outputs": [
    {
     "data": {
      "text/plain": [
       "Counter({'GTA': 1,\n",
       "         'TAG': 1,\n",
       "         'AGC': 3,\n",
       "         'GCT': 1,\n",
       "         'CTG': 1,\n",
       "         'TGG': 1,\n",
       "         'CGT': 1,\n",
       "         'GTC': 2,\n",
       "         'TCT': 1,\n",
       "         'CTC': 1,\n",
       "         'TCC': 1,\n",
       "         'CCA': 3,\n",
       "         'CAG': 3,\n",
       "         'AGA': 1,\n",
       "         'GAG': 1,\n",
       "         'AGG': 1,\n",
       "         'GGT': 2,\n",
       "         'TCG': 1,\n",
       "         'GTG': 1})"
      ]
     },
     "execution_count": 167,
     "metadata": {},
     "output_type": "execute_result"
    }
   ],
   "source": [
    "collections.Counter(motif_kmers)"
   ]
  },
  {
   "cell_type": "code",
   "execution_count": 358,
   "metadata": {
    "collapsed": true,
    "hidden": true
   },
   "outputs": [
    {
     "data": {
      "text/plain": [
       "defaultdict(<function __main__.make_kmer_info.<locals>.<lambda>()>,\n",
       "            {'GGA': defaultdict(int, {'count': 2, 'm6a': 0}),\n",
       "             'GAC': defaultdict(int, {'count': 1, 'm6a': 0}),\n",
       "             'ACG': defaultdict(int, {'count': 2, 'm6a': 0}),\n",
       "             'CGT': defaultdict(int, {'count': 2, 'm6a': 1}),\n",
       "             'GTT': defaultdict(int, {'count': 2, 'm6a': 1}),\n",
       "             'TTC': defaultdict(int, {'count': 2, 'm6a': 1}),\n",
       "             'TCC': defaultdict(int, {'count': 1, 'm6a': 0}),\n",
       "             'GAA': defaultdict(int, {'count': 1, 'm6a': 0}),\n",
       "             'AAC': defaultdict(int, {'count': 1, 'm6a': 0}),\n",
       "             'CCT': defaultdict(int, {'count': 1, 'm6a': 0}),\n",
       "             'CTC': defaultdict(int, {'count': 1, 'm6a': 0}),\n",
       "             'TCT': defaultdict(int, {'count': 1, 'm6a': 0}),\n",
       "             'CTT': defaultdict(int, {'count': 1, 'm6a': 0}),\n",
       "             'TTG': defaultdict(int, {'count': 1, 'm6a': 0}),\n",
       "             'TGG': defaultdict(int, {'count': 1, 'm6a': 0})})"
      ]
     },
     "execution_count": 358,
     "metadata": {},
     "output_type": "execute_result"
    }
   ],
   "source": [
    "test_keys = list(df.iloc[:10].groupby(grouping_cols).groups.keys())\n",
    "\n",
    "test_idx = 0\n",
    "d_test = df[(df[\"motif_name\"] == test_keys[test_idx][0]) & (df[\"query_name\"] == test_keys[test_idx][1])]\n",
    "\n",
    "# using only m6a's within motif\n",
    "kmer_info_test = make_kmer_info(\n",
    "    d_test[(d_test[\"centered_start\"] >= 0) & (d_test[\"centered_end\"] <= 35)][\"centered_start\"].values, \n",
    "    d_test[\"subset_sequence\"].unique()[0])\n",
    "\n",
    "kmer_info_test"
   ]
  },
  {
   "cell_type": "code",
   "execution_count": 489,
   "metadata": {
    "hidden": true
   },
   "outputs": [],
   "source": [
    "kmer_info = dict.fromkeys(kmer_cols, 0)\n",
    "\n",
    "for kmer, m6as in zip(motif_kmers, m6a_kmers):\n",
    "    kmer_info[kmer+\"_count\"] = kmer_info.get(kmer+\"_count\", 1) + 1\n",
    "    kmer_info[kmer+\"_m6a\"] = kmer_info.get(kmer+\"_m6a\", 1) + 1"
   ]
  },
  {
   "cell_type": "code",
   "execution_count": 491,
   "metadata": {
    "collapsed": true,
    "hidden": true
   },
   "outputs": [
    {
     "data": {
      "text/plain": [
       "{'ACG_count': 0,\n",
       " 'ACG_m6a': 0,\n",
       " 'ACT_count': 0,\n",
       " 'ACT_m6a': 0,\n",
       " 'AGC_count': 3,\n",
       " 'AGC_m6a': 3,\n",
       " 'AGT_count': 0,\n",
       " 'AGT_m6a': 0,\n",
       " 'ATC_count': 0,\n",
       " 'ATC_m6a': 0,\n",
       " 'ATG_count': 0,\n",
       " 'ATG_m6a': 0,\n",
       " 'CAG_count': 3,\n",
       " 'CAG_m6a': 3,\n",
       " 'CAT_count': 0,\n",
       " 'CAT_m6a': 0,\n",
       " 'CGA_count': 0,\n",
       " 'CGA_m6a': 0,\n",
       " 'CGT_count': 1,\n",
       " 'CGT_m6a': 1,\n",
       " 'CTA_count': 0,\n",
       " 'CTA_m6a': 0,\n",
       " 'CTG_count': 1,\n",
       " 'CTG_m6a': 1,\n",
       " 'GAC_count': 0,\n",
       " 'GAC_m6a': 0,\n",
       " 'GAT_count': 0,\n",
       " 'GAT_m6a': 0,\n",
       " 'GCA_count': 0,\n",
       " 'GCA_m6a': 0,\n",
       " 'GCT_count': 1,\n",
       " 'GCT_m6a': 1,\n",
       " 'GTA_count': 1,\n",
       " 'GTA_m6a': 1,\n",
       " 'GTC_count': 2,\n",
       " 'GTC_m6a': 2,\n",
       " 'TAC_count': 0,\n",
       " 'TAC_m6a': 0,\n",
       " 'TAG_count': 1,\n",
       " 'TAG_m6a': 1,\n",
       " 'TCA_count': 0,\n",
       " 'TCA_m6a': 0,\n",
       " 'TCG_count': 1,\n",
       " 'TCG_m6a': 1,\n",
       " 'TGA_count': 0,\n",
       " 'TGA_m6a': 0,\n",
       " 'TGC_count': 0,\n",
       " 'TGC_m6a': 0,\n",
       " 'TGG_count': 2,\n",
       " 'TGG_m6a': 2,\n",
       " 'TCT_count': 2,\n",
       " 'TCT_m6a': 2,\n",
       " 'CTC_count': 2,\n",
       " 'CTC_m6a': 2,\n",
       " 'TCC_count': 2,\n",
       " 'TCC_m6a': 2,\n",
       " 'CCA_count': 4,\n",
       " 'CCA_m6a': 4,\n",
       " 'AGA_count': 2,\n",
       " 'AGA_m6a': 2,\n",
       " 'GAG_count': 2,\n",
       " 'GAG_m6a': 2,\n",
       " 'AGG_count': 2,\n",
       " 'AGG_m6a': 2,\n",
       " 'GGT_count': 3,\n",
       " 'GGT_m6a': 3,\n",
       " 'GTG_count': 2,\n",
       " 'GTG_m6a': 2}"
      ]
     },
     "execution_count": 491,
     "metadata": {},
     "output_type": "execute_result"
    }
   ],
   "source": [
    "kmer_info"
   ]
  },
  {
   "cell_type": "code",
   "execution_count": null,
   "metadata": {
    "hidden": true
   },
   "outputs": [],
   "source": []
  },
  {
   "cell_type": "code",
   "execution_count": 490,
   "metadata": {
    "hidden": true
   },
   "outputs": [
    {
     "data": {
      "text/plain": [
       "68"
      ]
     },
     "execution_count": 490,
     "metadata": {},
     "output_type": "execute_result"
    }
   ],
   "source": [
    "len(kmer_info)"
   ]
  },
  {
   "cell_type": "code",
   "execution_count": 212,
   "metadata": {
    "collapsed": true,
    "hidden": true
   },
   "outputs": [
    {
     "ename": "TypeError",
     "evalue": "unsupported operand type(s) for +=: 'collections.defaultdict' and 'list'",
     "output_type": "error",
     "traceback": [
      "\u001b[0;31m---------------------------------------------------------------------------\u001b[0m",
      "\u001b[0;31mTypeError\u001b[0m                                 Traceback (most recent call last)",
      "Cell \u001b[0;32mIn[212], line 4\u001b[0m\n\u001b[1;32m      1\u001b[0m kmer_info \u001b[38;5;241m=\u001b[39m collections\u001b[38;5;241m.\u001b[39mdefaultdict(\u001b[38;5;28;01mlambda\u001b[39;00m: collections\u001b[38;5;241m.\u001b[39mdefaultdict(\u001b[38;5;28mint\u001b[39m))\n\u001b[1;32m      3\u001b[0m \u001b[38;5;28;01mfor\u001b[39;00m kmer, m6as \u001b[38;5;129;01min\u001b[39;00m \u001b[38;5;28mzip\u001b[39m(motif_kmers, m6a_kmers):\n\u001b[0;32m----> 4\u001b[0m     kmer_info[kmer] \u001b[38;5;241m+\u001b[39m\u001b[38;5;241m=\u001b[39m [\u001b[38;5;241m1\u001b[39m, \u001b[38;5;28msum\u001b[39m(m6as)]\n\u001b[1;32m      5\u001b[0m     kmer_info[kmer] \u001b[38;5;241m+\u001b[39m\u001b[38;5;241m=\u001b[39m \u001b[38;5;28msum\u001b[39m(m6as)\n\u001b[1;32m      7\u001b[0m kmer_info\n",
      "\u001b[0;31mTypeError\u001b[0m: unsupported operand type(s) for +=: 'collections.defaultdict' and 'list'"
     ]
    }
   ],
   "source": [
    "kmer_info = collections.defaultdict(lambda: collections.defaultdict(int))\n",
    "\n",
    "for kmer, m6as in zip(motif_kmers, m6a_kmers):\n",
    "    kmer_info[kmer] += [1, sum(m6as)]\n",
    "    kmer_info[kmer] += sum(m6as)\n",
    "    \n",
    "kmer_info"
   ]
  },
  {
   "cell_type": "code",
   "execution_count": 209,
   "metadata": {
    "collapsed": true,
    "hidden": true
   },
   "outputs": [
    {
     "data": {
      "text/plain": [
       "defaultdict(<function __main__.<lambda>()>,\n",
       "            {'GTA': defaultdict(int, {'kmer_count': 1, 'm6a_count': 0}),\n",
       "             'TAG': defaultdict(int, {'kmer_count': 1, 'm6a_count': 0}),\n",
       "             'AGC': defaultdict(int, {'kmer_count': 3, 'm6a_count': 2}),\n",
       "             'GCT': defaultdict(int, {'kmer_count': 1, 'm6a_count': 0}),\n",
       "             'CTG': defaultdict(int, {'kmer_count': 1, 'm6a_count': 0}),\n",
       "             'TGG': defaultdict(int, {'kmer_count': 1, 'm6a_count': 0}),\n",
       "             'CGT': defaultdict(int, {'kmer_count': 1, 'm6a_count': 0}),\n",
       "             'GTC': defaultdict(int, {'kmer_count': 2, 'm6a_count': 0}),\n",
       "             'TCT': defaultdict(int, {'kmer_count': 1, 'm6a_count': 0}),\n",
       "             'CTC': defaultdict(int, {'kmer_count': 1, 'm6a_count': 0}),\n",
       "             'TCC': defaultdict(int, {'kmer_count': 1, 'm6a_count': 0}),\n",
       "             'CCA': defaultdict(int, {'kmer_count': 3, 'm6a_count': 3}),\n",
       "             'CAG': defaultdict(int, {'kmer_count': 3, 'm6a_count': 3}),\n",
       "             'AGA': defaultdict(int, {'kmer_count': 1, 'm6a_count': 2}),\n",
       "             'GAG': defaultdict(int, {'kmer_count': 1, 'm6a_count': 1}),\n",
       "             'AGG': defaultdict(int, {'kmer_count': 1, 'm6a_count': 1}),\n",
       "             'GGT': defaultdict(int, {'kmer_count': 2, 'm6a_count': 0}),\n",
       "             'TCG': defaultdict(int, {'kmer_count': 1, 'm6a_count': 0}),\n",
       "             'GTG': defaultdict(int, {'kmer_count': 1, 'm6a_count': 0}),\n",
       "             'ACG': defaultdict(int, {}),\n",
       "             'AC': defaultdict(int, {}),\n",
       "             0: defaultdict(int, {}),\n",
       "             1: defaultdict(int, {})})"
      ]
     },
     "execution_count": 209,
     "metadata": {},
     "output_type": "execute_result"
    }
   ],
   "source": [
    "kmer_info"
   ]
  },
  {
   "cell_type": "code",
   "execution_count": 196,
   "metadata": {
    "hidden": true
   },
   "outputs": [
    {
     "data": {
      "text/plain": [
       "defaultdict(<function __main__.<lambda>()>, {})"
      ]
     },
     "execution_count": 196,
     "metadata": {},
     "output_type": "execute_result"
    }
   ],
   "source": [
    "collections.defaultdict(lambda: collections.defaultdict(int))"
   ]
  },
  {
   "cell_type": "code",
   "execution_count": 182,
   "metadata": {
    "collapsed": true,
    "hidden": true
   },
   "outputs": [
    {
     "data": {
      "text/plain": [
       "defaultdict(list,\n",
       "            {'GTA': [1, 0],\n",
       "             'TAG': [1, 0],\n",
       "             'AGC': [1, 0, 1, 1, 1, 1],\n",
       "             'GCT': [1, 0],\n",
       "             'CTG': [1, 0],\n",
       "             'TGG': [1, 0],\n",
       "             'CGT': [1, 0],\n",
       "             'GTC': [1, 0, 1, 0],\n",
       "             'TCT': [1, 0],\n",
       "             'CTC': [1, 0],\n",
       "             'TCC': [1, 0],\n",
       "             'CCA': [1, 1, 1, 1, 1, 1],\n",
       "             'CAG': [1, 1, 1, 1, 1, 1],\n",
       "             'AGA': [1, 2],\n",
       "             'GAG': [1, 1],\n",
       "             'AGG': [1, 1],\n",
       "             'GGT': [1, 0, 1, 0],\n",
       "             'TCG': [1, 0],\n",
       "             'GTG': [1, 0]})"
      ]
     },
     "execution_count": 182,
     "metadata": {},
     "output_type": "execute_result"
    }
   ],
   "source": [
    "kmer_info"
   ]
  },
  {
   "cell_type": "code",
   "execution_count": 138,
   "metadata": {
    "collapsed": true,
    "hidden": true
   },
   "outputs": [
    {
     "name": "stdout",
     "output_type": "stream",
     "text": [
      "GTA 2\n",
      "TAG 2\n",
      "AGC 1\n",
      "GCT 1\n",
      "CTG 1\n",
      "TGG 1\n",
      "GGC 0\n",
      "GCG 0\n",
      "CGT 1\n",
      "GTC 1\n",
      "TCT 2\n",
      "CTC 1\n",
      "TCC 1\n",
      "CCA 1\n",
      "CAG 1\n",
      "AGC 1\n",
      "GCC 0\n",
      "CCC 0\n",
      "CCA 1\n",
      "CAG 1\n",
      "AGC 1\n",
      "GCC 0\n",
      "CCA 1\n",
      "CAG 1\n",
      "AGA 2\n",
      "GAG 1\n",
      "AGG 1\n",
      "GGT 1\n",
      "GTC 1\n",
      "TCG 1\n",
      "CGG 0\n",
      "GGT 1\n",
      "GTG 1\n"
     ]
    }
   ],
   "source": [
    "for x, y in zip(motif_kmers, kmer_ATs):\n",
    "    print(x, y)"
   ]
  },
  {
   "cell_type": "code",
   "execution_count": null,
   "metadata": {
    "hidden": true
   },
   "outputs": [],
   "source": []
  },
  {
   "cell_type": "code",
   "execution_count": null,
   "metadata": {
    "hidden": true
   },
   "outputs": [],
   "source": []
  },
  {
   "cell_type": "code",
   "execution_count": 106,
   "metadata": {
    "hidden": true
   },
   "outputs": [],
   "source": [
    "# decompose motif seq into k-mers\n",
    "motif_kmers = get_kmers(motif_seq, 3)"
   ]
  },
  {
   "cell_type": "code",
   "execution_count": 107,
   "metadata": {
    "collapsed": true,
    "hidden": true
   },
   "outputs": [
    {
     "data": {
      "text/plain": [
       "['GTA',\n",
       " 'TAG',\n",
       " 'AGC',\n",
       " 'GCT',\n",
       " 'CTG',\n",
       " 'TGG',\n",
       " 'GGC',\n",
       " 'GCG',\n",
       " 'CGT',\n",
       " 'GTC',\n",
       " 'TCT',\n",
       " 'CTC',\n",
       " 'TCC',\n",
       " 'CCA',\n",
       " 'CAG',\n",
       " 'AGC',\n",
       " 'GCC',\n",
       " 'CCC',\n",
       " 'CCA',\n",
       " 'CAG',\n",
       " 'AGC',\n",
       " 'GCC',\n",
       " 'CCA',\n",
       " 'CAG',\n",
       " 'AGA',\n",
       " 'GAG',\n",
       " 'AGG',\n",
       " 'GGT',\n",
       " 'GTC',\n",
       " 'TCG',\n",
       " 'CGG',\n",
       " 'GGT',\n",
       " 'GTG']"
      ]
     },
     "execution_count": 107,
     "metadata": {},
     "output_type": "execute_result"
    }
   ],
   "source": [
    "motif_kmers"
   ]
  },
  {
   "cell_type": "code",
   "execution_count": 105,
   "metadata": {
    "collapsed": true,
    "hidden": true
   },
   "outputs": [
    {
     "data": {
      "text/plain": [
       "CCA    3\n",
       "AGC    3\n",
       "CAG    3\n",
       "GGT    2\n",
       "GTC    2\n",
       "GCC    2\n",
       "GTA    1\n",
       "CGG    1\n",
       "TCG    1\n",
       "AGG    1\n",
       "GAG    1\n",
       "AGA    1\n",
       "CCC    1\n",
       "TCC    1\n",
       "TAG    1\n",
       "CTC    1\n",
       "TCT    1\n",
       "CGT    1\n",
       "GCG    1\n",
       "GGC    1\n",
       "TGG    1\n",
       "CTG    1\n",
       "GCT    1\n",
       "GTG    1\n",
       "dtype: int64"
      ]
     },
     "execution_count": 105,
     "metadata": {},
     "output_type": "execute_result"
    }
   ],
   "source": [
    "# get k-mer counts\n",
    "pd.Series(motif_kmers).value_counts()"
   ]
  },
  {
   "cell_type": "code",
   "execution_count": 25,
   "metadata": {
    "hidden": true
   },
   "outputs": [
    {
     "data": {
      "text/plain": [
       "['GTA', 'TAG', 'AGC']"
      ]
     },
     "execution_count": 25,
     "metadata": {},
     "output_type": "execute_result"
    }
   ],
   "source": [
    "# decompose motif seq into k-mers\n",
    "kmer_tuples = get_kmers(motif, 3)\n",
    "kmer_tuples[:3]"
   ]
  },
  {
   "cell_type": "code",
   "execution_count": 26,
   "metadata": {
    "hidden": true
   },
   "outputs": [
    {
     "data": {
      "text/plain": [
       "[(2, 3, 0), (3, 0, 2), (0, 2, 1)]"
      ]
     },
     "execution_count": 26,
     "metadata": {},
     "output_type": "execute_result"
    }
   ],
   "source": [
    "# convert DNA seq's into an int-encoded tuple\n",
    "kmer_tuples = [seq_to_int_tuple(kmer) for kmer in kmer_tuples]\n",
    "kmer_tuples[:3]"
   ]
  },
  {
   "cell_type": "code",
   "execution_count": 38,
   "metadata": {
    "hidden": true,
    "scrolled": true
   },
   "outputs": [
    {
     "name": "stdout",
     "output_type": "stream",
     "text": [
      "[15 20 24 26]\n",
      "[0, 0, 0, 0, 0, 0, 0, 0, 0, 0, 0, 0, 0, 0, 0, 1, 0, 0, 0, 0, 1, 0, 0, 0, 1, 0, 1, 0, 0, 0, 0, 0, 0, 0, 0]\n",
      "4\n"
     ]
    }
   ],
   "source": [
    "# make m6a instance array\n",
    "m6a_pos = d_m6a[\"centered_start\"].values\n",
    "print(m6a_pos)\n",
    "\n",
    "# make bool of m6a's in motif seq\n",
    "m6a_pos = [1 if (i in m6a_pos) else 0 for i in range(0, 35)]\n",
    "print(m6a_pos)\n",
    "print(sum(m6a_pos))"
   ]
  },
  {
   "cell_type": "code",
   "execution_count": 86,
   "metadata": {
    "collapsed": true,
    "hidden": true
   },
   "outputs": [
    {
     "data": {
      "text/html": [
       "<div>\n",
       "<style scoped>\n",
       "    .dataframe tbody tr th:only-of-type {\n",
       "        vertical-align: middle;\n",
       "    }\n",
       "\n",
       "    .dataframe tbody tr th {\n",
       "        vertical-align: top;\n",
       "    }\n",
       "\n",
       "    .dataframe thead th {\n",
       "        text-align: right;\n",
       "    }\n",
       "</style>\n",
       "<table border=\"1\" class=\"dataframe\">\n",
       "  <thead>\n",
       "    <tr style=\"text-align: right;\">\n",
       "      <th></th>\n",
       "      <th>motif_name</th>\n",
       "      <th>chrom</th>\n",
       "      <th>centering_position</th>\n",
       "      <th>strand</th>\n",
       "      <th>subset_sequence</th>\n",
       "      <th>reference_start</th>\n",
       "      <th>reference_end</th>\n",
       "      <th>query_name</th>\n",
       "      <th>centered_query_start</th>\n",
       "      <th>centered_query_end</th>\n",
       "      <th>query_length</th>\n",
       "      <th>centered_position_type</th>\n",
       "      <th>centered_start</th>\n",
       "      <th>centered_end</th>\n",
       "      <th>msp_size</th>\n",
       "    </tr>\n",
       "  </thead>\n",
       "  <tbody>\n",
       "    <tr>\n",
       "      <th>0</th>\n",
       "      <td>chr1_10173651_+</td>\n",
       "      <td>chr1</td>\n",
       "      <td>10173651</td>\n",
       "      <td>+</td>\n",
       "      <td>TAATACTGCACTGATTTAGAAACAGAAAGCAAGTCATAGCCTGCAG...</td>\n",
       "      <td>10172558</td>\n",
       "      <td>10185969</td>\n",
       "      <td>m54329U_210323_190418/50594832/ccs</td>\n",
       "      <td>-1093</td>\n",
       "      <td>12330</td>\n",
       "      <td>13423</td>\n",
       "      <td>m6a</td>\n",
       "      <td>-10</td>\n",
       "      <td>-9</td>\n",
       "      <td>51</td>\n",
       "    </tr>\n",
       "    <tr>\n",
       "      <th>1</th>\n",
       "      <td>chr1_10173651_+</td>\n",
       "      <td>chr1</td>\n",
       "      <td>10173651</td>\n",
       "      <td>+</td>\n",
       "      <td>TAATACTGCACTGATTTAGAAACAGAAAGCAAGTCATAGCCTGCAG...</td>\n",
       "      <td>10172558</td>\n",
       "      <td>10185969</td>\n",
       "      <td>m54329U_210323_190418/50594832/ccs</td>\n",
       "      <td>-1093</td>\n",
       "      <td>12330</td>\n",
       "      <td>13423</td>\n",
       "      <td>m6a</td>\n",
       "      <td>-8</td>\n",
       "      <td>-7</td>\n",
       "      <td>51</td>\n",
       "    </tr>\n",
       "    <tr>\n",
       "      <th>2</th>\n",
       "      <td>chr1_10173651_+</td>\n",
       "      <td>chr1</td>\n",
       "      <td>10173651</td>\n",
       "      <td>+</td>\n",
       "      <td>TAATACTGCACTGATTTAGAAACAGAAAGCAAGTCATAGCCTGCAG...</td>\n",
       "      <td>10172558</td>\n",
       "      <td>10185969</td>\n",
       "      <td>m54329U_210323_190418/50594832/ccs</td>\n",
       "      <td>-1093</td>\n",
       "      <td>12330</td>\n",
       "      <td>13423</td>\n",
       "      <td>m6a</td>\n",
       "      <td>-3</td>\n",
       "      <td>-2</td>\n",
       "      <td>51</td>\n",
       "    </tr>\n",
       "    <tr>\n",
       "      <th>3</th>\n",
       "      <td>chr1_10173651_+</td>\n",
       "      <td>chr1</td>\n",
       "      <td>10173651</td>\n",
       "      <td>+</td>\n",
       "      <td>TAATACTGCACTGATTTAGAAACAGAAAGCAAGTCATAGCCTGCAG...</td>\n",
       "      <td>10172558</td>\n",
       "      <td>10185969</td>\n",
       "      <td>m54329U_210323_190418/50594832/ccs</td>\n",
       "      <td>-1093</td>\n",
       "      <td>12330</td>\n",
       "      <td>13423</td>\n",
       "      <td>m6a</td>\n",
       "      <td>15</td>\n",
       "      <td>16</td>\n",
       "      <td>51</td>\n",
       "    </tr>\n",
       "    <tr>\n",
       "      <th>4</th>\n",
       "      <td>chr1_10173651_+</td>\n",
       "      <td>chr1</td>\n",
       "      <td>10173651</td>\n",
       "      <td>+</td>\n",
       "      <td>TAATACTGCACTGATTTAGAAACAGAAAGCAAGTCATAGCCTGCAG...</td>\n",
       "      <td>10172558</td>\n",
       "      <td>10185969</td>\n",
       "      <td>m54329U_210323_190418/50594832/ccs</td>\n",
       "      <td>-1093</td>\n",
       "      <td>12330</td>\n",
       "      <td>13423</td>\n",
       "      <td>m6a</td>\n",
       "      <td>20</td>\n",
       "      <td>21</td>\n",
       "      <td>51</td>\n",
       "    </tr>\n",
       "    <tr>\n",
       "      <th>5</th>\n",
       "      <td>chr1_10173651_+</td>\n",
       "      <td>chr1</td>\n",
       "      <td>10173651</td>\n",
       "      <td>+</td>\n",
       "      <td>TAATACTGCACTGATTTAGAAACAGAAAGCAAGTCATAGCCTGCAG...</td>\n",
       "      <td>10172558</td>\n",
       "      <td>10185969</td>\n",
       "      <td>m54329U_210323_190418/50594832/ccs</td>\n",
       "      <td>-1093</td>\n",
       "      <td>12330</td>\n",
       "      <td>13423</td>\n",
       "      <td>m6a</td>\n",
       "      <td>24</td>\n",
       "      <td>25</td>\n",
       "      <td>51</td>\n",
       "    </tr>\n",
       "    <tr>\n",
       "      <th>6</th>\n",
       "      <td>chr1_10173651_+</td>\n",
       "      <td>chr1</td>\n",
       "      <td>10173651</td>\n",
       "      <td>+</td>\n",
       "      <td>TAATACTGCACTGATTTAGAAACAGAAAGCAAGTCATAGCCTGCAG...</td>\n",
       "      <td>10172558</td>\n",
       "      <td>10185969</td>\n",
       "      <td>m54329U_210323_190418/50594832/ccs</td>\n",
       "      <td>-1093</td>\n",
       "      <td>12330</td>\n",
       "      <td>13423</td>\n",
       "      <td>m6a</td>\n",
       "      <td>26</td>\n",
       "      <td>27</td>\n",
       "      <td>51</td>\n",
       "    </tr>\n",
       "    <tr>\n",
       "      <th>7</th>\n",
       "      <td>chr1_10173651_+</td>\n",
       "      <td>chr1</td>\n",
       "      <td>10173651</td>\n",
       "      <td>+</td>\n",
       "      <td>TAATACTGCACTGATTTAGAAACAGAAAGCAAGTCATAGCCTGCAG...</td>\n",
       "      <td>10172558</td>\n",
       "      <td>10185969</td>\n",
       "      <td>m54329U_210323_190418/50594832/ccs</td>\n",
       "      <td>-1093</td>\n",
       "      <td>12330</td>\n",
       "      <td>13423</td>\n",
       "      <td>m6a</td>\n",
       "      <td>40</td>\n",
       "      <td>41</td>\n",
       "      <td>51</td>\n",
       "    </tr>\n",
       "  </tbody>\n",
       "</table>\n",
       "</div>"
      ],
      "text/plain": [
       "        motif_name chrom  centering_position strand  \\\n",
       "0  chr1_10173651_+  chr1            10173651      +   \n",
       "1  chr1_10173651_+  chr1            10173651      +   \n",
       "2  chr1_10173651_+  chr1            10173651      +   \n",
       "3  chr1_10173651_+  chr1            10173651      +   \n",
       "4  chr1_10173651_+  chr1            10173651      +   \n",
       "5  chr1_10173651_+  chr1            10173651      +   \n",
       "6  chr1_10173651_+  chr1            10173651      +   \n",
       "7  chr1_10173651_+  chr1            10173651      +   \n",
       "\n",
       "                                     subset_sequence  reference_start  \\\n",
       "0  TAATACTGCACTGATTTAGAAACAGAAAGCAAGTCATAGCCTGCAG...         10172558   \n",
       "1  TAATACTGCACTGATTTAGAAACAGAAAGCAAGTCATAGCCTGCAG...         10172558   \n",
       "2  TAATACTGCACTGATTTAGAAACAGAAAGCAAGTCATAGCCTGCAG...         10172558   \n",
       "3  TAATACTGCACTGATTTAGAAACAGAAAGCAAGTCATAGCCTGCAG...         10172558   \n",
       "4  TAATACTGCACTGATTTAGAAACAGAAAGCAAGTCATAGCCTGCAG...         10172558   \n",
       "5  TAATACTGCACTGATTTAGAAACAGAAAGCAAGTCATAGCCTGCAG...         10172558   \n",
       "6  TAATACTGCACTGATTTAGAAACAGAAAGCAAGTCATAGCCTGCAG...         10172558   \n",
       "7  TAATACTGCACTGATTTAGAAACAGAAAGCAAGTCATAGCCTGCAG...         10172558   \n",
       "\n",
       "   reference_end                          query_name  centered_query_start  \\\n",
       "0       10185969  m54329U_210323_190418/50594832/ccs                 -1093   \n",
       "1       10185969  m54329U_210323_190418/50594832/ccs                 -1093   \n",
       "2       10185969  m54329U_210323_190418/50594832/ccs                 -1093   \n",
       "3       10185969  m54329U_210323_190418/50594832/ccs                 -1093   \n",
       "4       10185969  m54329U_210323_190418/50594832/ccs                 -1093   \n",
       "5       10185969  m54329U_210323_190418/50594832/ccs                 -1093   \n",
       "6       10185969  m54329U_210323_190418/50594832/ccs                 -1093   \n",
       "7       10185969  m54329U_210323_190418/50594832/ccs                 -1093   \n",
       "\n",
       "   centered_query_end  query_length centered_position_type  centered_start  \\\n",
       "0               12330         13423                    m6a             -10   \n",
       "1               12330         13423                    m6a              -8   \n",
       "2               12330         13423                    m6a              -3   \n",
       "3               12330         13423                    m6a              15   \n",
       "4               12330         13423                    m6a              20   \n",
       "5               12330         13423                    m6a              24   \n",
       "6               12330         13423                    m6a              26   \n",
       "7               12330         13423                    m6a              40   \n",
       "\n",
       "   centered_end  msp_size  \n",
       "0            -9        51  \n",
       "1            -7        51  \n",
       "2            -2        51  \n",
       "3            16        51  \n",
       "4            21        51  \n",
       "5            25        51  \n",
       "6            27        51  \n",
       "7            41        51  "
      ]
     },
     "execution_count": 86,
     "metadata": {},
     "output_type": "execute_result"
    }
   ],
   "source": [
    "# reindex\n",
    "d = d.reset_index(drop=True)\n",
    "d"
   ]
  },
  {
   "cell_type": "code",
   "execution_count": 87,
   "metadata": {
    "collapsed": true,
    "hidden": true
   },
   "outputs": [
    {
     "data": {
      "text/plain": [
       "0    [GTA, TAG, AGC, GCT, CTG, TGG, GGC, GCG, CGT, ...\n",
       "1    [GTA, TAG, AGC, GCT, CTG, TGG, GGC, GCG, CGT, ...\n",
       "2    [GTA, TAG, AGC, GCT, CTG, TGG, GGC, GCG, CGT, ...\n",
       "3    [GTA, TAG, AGC, GCT, CTG, TGG, GGC, GCG, CGT, ...\n",
       "4    [GTA, TAG, AGC, GCT, CTG, TGG, GGC, GCG, CGT, ...\n",
       "5    [GTA, TAG, AGC, GCT, CTG, TGG, GGC, GCG, CGT, ...\n",
       "6    [GTA, TAG, AGC, GCT, CTG, TGG, GGC, GCG, CGT, ...\n",
       "7    [GTA, TAG, AGC, GCT, CTG, TGG, GGC, GCG, CGT, ...\n",
       "Name: subset_sequence, dtype: object"
      ]
     },
     "execution_count": 87,
     "metadata": {},
     "output_type": "execute_result"
    }
   ],
   "source": [
    "# de-compose motif_seq's into their k-mers\n",
    "kmer_col = d[\"subset_sequence\"].apply(lambda x: get_motif_seq(x))\n",
    "kmer_col = kmer_col.apply(lambda x: get_kmers(x, 3))\n",
    "kmer_col"
   ]
  },
  {
   "cell_type": "code",
   "execution_count": 88,
   "metadata": {
    "hidden": true
   },
   "outputs": [],
   "source": [
    "# encode k-mer seqs as int tuples\n",
    "kmer_tuples = kmer_col.apply(lambda kmers: [seq_to_int_tuple(kmer) for kmer in kmers])"
   ]
  },
  {
   "cell_type": "code",
   "execution_count": 89,
   "metadata": {
    "hidden": true
   },
   "outputs": [],
   "source": [
    "# create a k-dimensional matrix to store kmer counts\n",
    "kmer_counts = np.zeros(tuple(4 for i in range(3)), dtype=int)"
   ]
  },
  {
   "cell_type": "code",
   "execution_count": 90,
   "metadata": {
    "collapsed": true,
    "hidden": true
   },
   "outputs": [
    {
     "data": {
      "text/plain": [
       "array([[[0, 0, 0, 0],\n",
       "        [0, 0, 0, 0],\n",
       "        [0, 0, 0, 0],\n",
       "        [0, 0, 0, 0]],\n",
       "\n",
       "       [[0, 0, 0, 0],\n",
       "        [0, 0, 0, 0],\n",
       "        [0, 0, 0, 0],\n",
       "        [0, 0, 0, 0]],\n",
       "\n",
       "       [[0, 0, 0, 0],\n",
       "        [0, 0, 0, 0],\n",
       "        [0, 0, 0, 0],\n",
       "        [0, 0, 0, 0]],\n",
       "\n",
       "       [[0, 0, 0, 0],\n",
       "        [0, 0, 0, 0],\n",
       "        [0, 0, 0, 0],\n",
       "        [0, 0, 0, 0]]])"
      ]
     },
     "execution_count": 90,
     "metadata": {},
     "output_type": "execute_result"
    }
   ],
   "source": [
    "kmer_counts"
   ]
  },
  {
   "cell_type": "code",
   "execution_count": 97,
   "metadata": {
    "hidden": true
   },
   "outputs": [],
   "source": [
    "kmer_counts[(2, 3, 0)] += 1"
   ]
  },
  {
   "cell_type": "code",
   "execution_count": 98,
   "metadata": {
    "collapsed": true,
    "hidden": true
   },
   "outputs": [
    {
     "data": {
      "text/plain": [
       "array([[[0, 0, 0, 0],\n",
       "        [0, 0, 0, 0],\n",
       "        [0, 0, 0, 0],\n",
       "        [0, 0, 0, 0]],\n",
       "\n",
       "       [[0, 0, 0, 0],\n",
       "        [0, 0, 0, 0],\n",
       "        [0, 0, 0, 0],\n",
       "        [0, 0, 0, 0]],\n",
       "\n",
       "       [[0, 0, 0, 0],\n",
       "        [0, 0, 0, 0],\n",
       "        [0, 0, 0, 0],\n",
       "        [1, 0, 0, 0]],\n",
       "\n",
       "       [[0, 0, 0, 0],\n",
       "        [0, 0, 0, 0],\n",
       "        [0, 0, 0, 0],\n",
       "        [0, 0, 0, 0]]])"
      ]
     },
     "execution_count": 98,
     "metadata": {},
     "output_type": "execute_result"
    }
   ],
   "source": [
    "kmer_counts"
   ]
  },
  {
   "cell_type": "code",
   "execution_count": 94,
   "metadata": {
    "collapsed": true,
    "hidden": true
   },
   "outputs": [
    {
     "name": "stdout",
     "output_type": "stream",
     "text": [
      "(2, 3, 0)\n",
      "(3, 0, 2)\n",
      "(0, 2, 1)\n",
      "(2, 1, 3)\n",
      "(1, 3, 2)\n",
      "(3, 2, 2)\n",
      "(2, 2, 1)\n",
      "(2, 1, 2)\n",
      "(1, 2, 3)\n",
      "(2, 3, 1)\n",
      "(3, 1, 3)\n",
      "(1, 3, 1)\n",
      "(3, 1, 1)\n",
      "(1, 1, 0)\n",
      "(1, 0, 2)\n",
      "(0, 2, 1)\n",
      "(2, 1, 1)\n",
      "(1, 1, 1)\n",
      "(1, 1, 0)\n",
      "(1, 0, 2)\n",
      "(0, 2, 1)\n",
      "(2, 1, 1)\n",
      "(1, 1, 0)\n",
      "(1, 0, 2)\n",
      "(0, 2, 0)\n",
      "(2, 0, 2)\n",
      "(0, 2, 2)\n",
      "(2, 2, 3)\n",
      "(2, 3, 1)\n",
      "(3, 1, 2)\n",
      "(1, 2, 2)\n",
      "(2, 2, 3)\n",
      "(2, 3, 2)\n",
      "(2, 3, 0)\n",
      "(3, 0, 2)\n",
      "(0, 2, 1)\n",
      "(2, 1, 3)\n",
      "(1, 3, 2)\n",
      "(3, 2, 2)\n",
      "(2, 2, 1)\n",
      "(2, 1, 2)\n",
      "(1, 2, 3)\n",
      "(2, 3, 1)\n",
      "(3, 1, 3)\n",
      "(1, 3, 1)\n",
      "(3, 1, 1)\n",
      "(1, 1, 0)\n",
      "(1, 0, 2)\n",
      "(0, 2, 1)\n",
      "(2, 1, 1)\n",
      "(1, 1, 1)\n",
      "(1, 1, 0)\n",
      "(1, 0, 2)\n",
      "(0, 2, 1)\n",
      "(2, 1, 1)\n",
      "(1, 1, 0)\n",
      "(1, 0, 2)\n",
      "(0, 2, 0)\n",
      "(2, 0, 2)\n",
      "(0, 2, 2)\n",
      "(2, 2, 3)\n",
      "(2, 3, 1)\n",
      "(3, 1, 2)\n",
      "(1, 2, 2)\n",
      "(2, 2, 3)\n",
      "(2, 3, 2)\n",
      "(2, 3, 0)\n",
      "(3, 0, 2)\n",
      "(0, 2, 1)\n",
      "(2, 1, 3)\n",
      "(1, 3, 2)\n",
      "(3, 2, 2)\n",
      "(2, 2, 1)\n",
      "(2, 1, 2)\n",
      "(1, 2, 3)\n",
      "(2, 3, 1)\n",
      "(3, 1, 3)\n",
      "(1, 3, 1)\n",
      "(3, 1, 1)\n",
      "(1, 1, 0)\n",
      "(1, 0, 2)\n",
      "(0, 2, 1)\n",
      "(2, 1, 1)\n",
      "(1, 1, 1)\n",
      "(1, 1, 0)\n",
      "(1, 0, 2)\n",
      "(0, 2, 1)\n",
      "(2, 1, 1)\n",
      "(1, 1, 0)\n",
      "(1, 0, 2)\n",
      "(0, 2, 0)\n",
      "(2, 0, 2)\n",
      "(0, 2, 2)\n",
      "(2, 2, 3)\n",
      "(2, 3, 1)\n",
      "(3, 1, 2)\n",
      "(1, 2, 2)\n",
      "(2, 2, 3)\n",
      "(2, 3, 2)\n",
      "(2, 3, 0)\n",
      "(3, 0, 2)\n",
      "(0, 2, 1)\n",
      "(2, 1, 3)\n",
      "(1, 3, 2)\n",
      "(3, 2, 2)\n",
      "(2, 2, 1)\n",
      "(2, 1, 2)\n",
      "(1, 2, 3)\n",
      "(2, 3, 1)\n",
      "(3, 1, 3)\n",
      "(1, 3, 1)\n",
      "(3, 1, 1)\n",
      "(1, 1, 0)\n",
      "(1, 0, 2)\n",
      "(0, 2, 1)\n",
      "(2, 1, 1)\n",
      "(1, 1, 1)\n",
      "(1, 1, 0)\n",
      "(1, 0, 2)\n",
      "(0, 2, 1)\n",
      "(2, 1, 1)\n",
      "(1, 1, 0)\n",
      "(1, 0, 2)\n",
      "(0, 2, 0)\n",
      "(2, 0, 2)\n",
      "(0, 2, 2)\n",
      "(2, 2, 3)\n",
      "(2, 3, 1)\n",
      "(3, 1, 2)\n",
      "(1, 2, 2)\n",
      "(2, 2, 3)\n",
      "(2, 3, 2)\n",
      "(2, 3, 0)\n",
      "(3, 0, 2)\n",
      "(0, 2, 1)\n",
      "(2, 1, 3)\n",
      "(1, 3, 2)\n",
      "(3, 2, 2)\n",
      "(2, 2, 1)\n",
      "(2, 1, 2)\n",
      "(1, 2, 3)\n",
      "(2, 3, 1)\n",
      "(3, 1, 3)\n",
      "(1, 3, 1)\n",
      "(3, 1, 1)\n",
      "(1, 1, 0)\n",
      "(1, 0, 2)\n",
      "(0, 2, 1)\n",
      "(2, 1, 1)\n",
      "(1, 1, 1)\n",
      "(1, 1, 0)\n",
      "(1, 0, 2)\n",
      "(0, 2, 1)\n",
      "(2, 1, 1)\n",
      "(1, 1, 0)\n",
      "(1, 0, 2)\n",
      "(0, 2, 0)\n",
      "(2, 0, 2)\n",
      "(0, 2, 2)\n",
      "(2, 2, 3)\n",
      "(2, 3, 1)\n",
      "(3, 1, 2)\n",
      "(1, 2, 2)\n",
      "(2, 2, 3)\n",
      "(2, 3, 2)\n",
      "(2, 3, 0)\n",
      "(3, 0, 2)\n",
      "(0, 2, 1)\n",
      "(2, 1, 3)\n",
      "(1, 3, 2)\n",
      "(3, 2, 2)\n",
      "(2, 2, 1)\n",
      "(2, 1, 2)\n",
      "(1, 2, 3)\n",
      "(2, 3, 1)\n",
      "(3, 1, 3)\n",
      "(1, 3, 1)\n",
      "(3, 1, 1)\n",
      "(1, 1, 0)\n",
      "(1, 0, 2)\n",
      "(0, 2, 1)\n",
      "(2, 1, 1)\n",
      "(1, 1, 1)\n",
      "(1, 1, 0)\n",
      "(1, 0, 2)\n",
      "(0, 2, 1)\n",
      "(2, 1, 1)\n",
      "(1, 1, 0)\n",
      "(1, 0, 2)\n",
      "(0, 2, 0)\n",
      "(2, 0, 2)\n",
      "(0, 2, 2)\n",
      "(2, 2, 3)\n",
      "(2, 3, 1)\n",
      "(3, 1, 2)\n",
      "(1, 2, 2)\n",
      "(2, 2, 3)\n",
      "(2, 3, 2)\n",
      "(2, 3, 0)\n",
      "(3, 0, 2)\n",
      "(0, 2, 1)\n",
      "(2, 1, 3)\n",
      "(1, 3, 2)\n",
      "(3, 2, 2)\n",
      "(2, 2, 1)\n",
      "(2, 1, 2)\n",
      "(1, 2, 3)\n",
      "(2, 3, 1)\n",
      "(3, 1, 3)\n",
      "(1, 3, 1)\n",
      "(3, 1, 1)\n",
      "(1, 1, 0)\n",
      "(1, 0, 2)\n",
      "(0, 2, 1)\n",
      "(2, 1, 1)\n",
      "(1, 1, 1)\n",
      "(1, 1, 0)\n",
      "(1, 0, 2)\n",
      "(0, 2, 1)\n",
      "(2, 1, 1)\n",
      "(1, 1, 0)\n",
      "(1, 0, 2)\n",
      "(0, 2, 0)\n",
      "(2, 0, 2)\n",
      "(0, 2, 2)\n",
      "(2, 2, 3)\n",
      "(2, 3, 1)\n",
      "(3, 1, 2)\n",
      "(1, 2, 2)\n",
      "(2, 2, 3)\n",
      "(2, 3, 2)\n",
      "(2, 3, 0)\n",
      "(3, 0, 2)\n",
      "(0, 2, 1)\n",
      "(2, 1, 3)\n",
      "(1, 3, 2)\n",
      "(3, 2, 2)\n",
      "(2, 2, 1)\n",
      "(2, 1, 2)\n",
      "(1, 2, 3)\n",
      "(2, 3, 1)\n",
      "(3, 1, 3)\n",
      "(1, 3, 1)\n",
      "(3, 1, 1)\n",
      "(1, 1, 0)\n",
      "(1, 0, 2)\n",
      "(0, 2, 1)\n",
      "(2, 1, 1)\n",
      "(1, 1, 1)\n",
      "(1, 1, 0)\n",
      "(1, 0, 2)\n",
      "(0, 2, 1)\n",
      "(2, 1, 1)\n",
      "(1, 1, 0)\n",
      "(1, 0, 2)\n",
      "(0, 2, 0)\n",
      "(2, 0, 2)\n",
      "(0, 2, 2)\n",
      "(2, 2, 3)\n",
      "(2, 3, 1)\n",
      "(3, 1, 2)\n",
      "(1, 2, 2)\n",
      "(2, 2, 3)\n",
      "(2, 3, 2)\n"
     ]
    }
   ],
   "source": [
    "# flattens cols to list of tuples\n",
    "for kmer_tuple in kmer_tuples.explode():\n",
    "    print(kmer_tuple)"
   ]
  },
  {
   "cell_type": "code",
   "execution_count": 66,
   "metadata": {
    "hidden": true
   },
   "outputs": [],
   "source": [
    "# flattens cols to list of tuples\n",
    "for kmer_tuple in kmer_tuples.explode():\n",
    "    kmer_counts[kmer_tuple] += 1"
   ]
  },
  {
   "cell_type": "code",
   "execution_count": 73,
   "metadata": {
    "hidden": true
   },
   "outputs": [],
   "source": [
    "# lookup k-mer counts for each sequence\n",
    "count_vectors = kmer_tuples.apply(lambda kmers: [kmer_counts[kmer] for kmer in kmers])"
   ]
  },
  {
   "cell_type": "code",
   "execution_count": 77,
   "metadata": {
    "hidden": true
   },
   "outputs": [],
   "source": [
    "# sum the vector of counts for each sequence\n",
    "count_sums = count_vectors.apply(np.sum)"
   ]
  },
  {
   "cell_type": "code",
   "execution_count": null,
   "metadata": {
    "hidden": true
   },
   "outputs": [],
   "source": []
  },
  {
   "cell_type": "code",
   "execution_count": null,
   "metadata": {
    "hidden": true
   },
   "outputs": [],
   "source": []
  },
  {
   "cell_type": "code",
   "execution_count": null,
   "metadata": {
    "hidden": true
   },
   "outputs": [],
   "source": [
    "# make k-dimensional matrix to store k-mer counts\n",
    "kmer_counts = np.zeros(tuple(4 for i in range(3)), dtype=int)\n",
    "\n",
    "# record each k-mer in the count matrix"
   ]
  },
  {
   "cell_type": "code",
   "execution_count": 39,
   "metadata": {
    "collapsed": true,
    "hidden": true
   },
   "outputs": [
    {
     "name": "stdout",
     "output_type": "stream",
     "text": [
      "[[0, 0, 0], [0, 0, 0], [0, 0, 0], [0, 0, 0], [0, 0, 0], [0, 0, 0], [0, 0, 0], [0, 0, 0], [0, 0, 0], [0, 0, 0], [0, 0, 0], [0, 0, 0], [0, 0, 0], [0, 0, 1], [0, 1, 0], [1, 0, 0], [0, 0, 0], [0, 0, 0], [0, 0, 1], [0, 1, 0], [1, 0, 0], [0, 0, 0], [0, 0, 1], [0, 1, 0], [1, 0, 1], [0, 1, 0], [1, 0, 0], [0, 0, 0], [0, 0, 0], [0, 0, 0], [0, 0, 0], [0, 0, 0], [0, 0, 0], [0, 0], [0]]\n"
     ]
    }
   ],
   "source": [
    "m6a_tuples = [m6a_pos[i:i+3] for i in range(0, 35)]\n",
    "print(m6a_tuples)"
   ]
  },
  {
   "cell_type": "code",
   "execution_count": null,
   "metadata": {
    "hidden": true
   },
   "outputs": [],
   "source": []
  },
  {
   "cell_type": "code",
   "execution_count": 89,
   "metadata": {
    "hidden": true
   },
   "outputs": [],
   "source": [
    "def get_kmer_sums(df, k, seq_col=\"subseq_motif\", probe_tuples=[]):\n",
    "    '''Get k-mer counts within a motif-fiber instance.'''\n",
    "    # de-compose sequences into their k-mers\n",
    "    kmer_col = df[seq_col].apply(lambda x: get_kmers(x, k))\n",
    "    \n",
    "    # encode k-mer seqs as int tuples (eg. CGG to (1, 2, 2))\n",
    "    kmer_tuples = kmer_col.apply(lambda kmers: [seq_to_int_tuple(kmer) for kmer in kmers])\n",
    "    \n",
    "    # create a k-dimentional matrix to store k-mer counts\n",
    "    kmer_counts = np.zeros(tuple(4 for i in range(k)), dtype=int)\n",
    "    \n",
    "    # record each k-mer in the count matrix\n",
    "    for kmer_tuple in kmer_tuples.explode():\n",
    "        if kmer_tuple in probe_tuples:\n",
    "            kmer_counts[kmer_tuple] += 1\n",
    "    \n",
    "    # loop k-mer counts for each sequence\n",
    "    count_vectors = kmer_tuples.apply(lambda kmers: [kmer_counts[kmer] for kmer in kmers])\n",
    "    \n",
    "    # sum the vector of counts for each sequence\n",
    "    count_sums = count_vectors.apply(np.sum)\n",
    "    \n",
    "    # success\n",
    "    return count_sums"
   ]
  },
  {
   "cell_type": "code",
   "execution_count": 146,
   "metadata": {
    "hidden": true,
    "scrolled": true
   },
   "outputs": [
    {
     "name": "stdout",
     "output_type": "stream",
     "text": [
      "[[0, 0, 0], [0, 0, 0], [0, 0, 0], [0, 0, 0], [0, 0, 0]]\n"
     ]
    }
   ],
   "source": [
    "# decompose the input array into k-mers\n",
    "m6a_kmers = [m6a_bool[i:i+3] for i in range(33)]\n",
    "print(m6a_kmers[:5])"
   ]
  },
  {
   "cell_type": "code",
   "execution_count": 102,
   "metadata": {
    "hidden": true
   },
   "outputs": [],
   "source": [
    "# decompose the motif sequence into k-mers\n",
    "kmer_tuples = get_kmers(motif, 3)\n",
    "# convert the motif sequence into \n",
    "kmer_tuples = [seq_to_int_tuple(kmer) for kmer in kmer_tuples]"
   ]
  },
  {
   "cell_type": "code",
   "execution_count": 94,
   "metadata": {
    "hidden": true
   },
   "outputs": [
    {
     "name": "stdout",
     "output_type": "stream",
     "text": [
      "[15 20 24 26]\n"
     ]
    }
   ],
   "source": [
    "# get list of m6a instance positions\n",
    "m6a_positions = d_m6a[\"centered_start\"].values\n",
    "print(m6a_positions)"
   ]
  },
  {
   "cell_type": "code",
   "execution_count": 96,
   "metadata": {
    "hidden": true
   },
   "outputs": [
    {
     "name": "stdout",
     "output_type": "stream",
     "text": [
      "35\n",
      "[0, 0, 0, 0, 0, 0, 0, 0, 0, 0, 0, 0, 0, 0, 0, 1, 0, 0, 0, 0, 1, 0, 0, 0, 1, 0, 1, 0, 0, 0, 0, 0, 0, 0, 0]\n"
     ]
    }
   ],
   "source": [
    "m6a_bool = [0 if i not in m6a_positions else 1 for i in range(0, 35)]\n",
    "print(len(m6a_bool))\n",
    "print(m6a_bool)"
   ]
  },
  {
   "cell_type": "code",
   "execution_count": 98,
   "metadata": {
    "collapsed": true,
    "hidden": true
   },
   "outputs": [
    {
     "name": "stdout",
     "output_type": "stream",
     "text": [
      "0 GTA\n",
      "0 TAG\n",
      "0 AGC\n",
      "0 GCT\n",
      "0 CTG\n",
      "0 TGG\n",
      "0 GGC\n",
      "0 GCG\n",
      "0 CGT\n",
      "0 GTC\n",
      "0 TCT\n",
      "0 CTC\n",
      "0 TCC\n",
      "1 CCA\n",
      "1 CAG\n",
      "1 AGC\n",
      "0 GCC\n",
      "0 CCC\n",
      "1 CCA\n",
      "1 CAG\n",
      "1 AGC\n",
      "0 GCC\n",
      "1 CCA\n",
      "1 CAG\n",
      "2 AGA\n",
      "1 GAG\n",
      "1 AGG\n",
      "0 GGT\n",
      "0 GTC\n",
      "0 TCG\n",
      "0 CGG\n",
      "0 GGT\n",
      "0 GTG\n"
     ]
    }
   ],
   "source": [
    "for x, y in zip(m6a_kmers, get_kmers(motif, 3)):\n",
    "    print(x, y)"
   ]
  },
  {
   "cell_type": "code",
   "execution_count": 99,
   "metadata": {
    "collapsed": true,
    "hidden": true
   },
   "outputs": [
    {
     "name": "stdout",
     "output_type": "stream",
     "text": [
      "0 | GTA | (2, 3, 0)\n",
      "0 | TAG | (3, 0, 2)\n",
      "0 | AGC | (0, 2, 1)\n",
      "0 | GCT | (2, 1, 3)\n",
      "0 | CTG | (1, 3, 2)\n",
      "0 | TGG | (3, 2, 2)\n",
      "0 | GGC | (2, 2, 1)\n",
      "0 | GCG | (2, 1, 2)\n",
      "0 | CGT | (1, 2, 3)\n",
      "0 | GTC | (2, 3, 1)\n",
      "0 | TCT | (3, 1, 3)\n",
      "0 | CTC | (1, 3, 1)\n",
      "0 | TCC | (3, 1, 1)\n",
      "1 | CCA | (1, 1, 0)\n",
      "1 | CAG | (1, 0, 2)\n",
      "1 | AGC | (0, 2, 1)\n",
      "0 | GCC | (2, 1, 1)\n",
      "0 | CCC | (1, 1, 1)\n",
      "1 | CCA | (1, 1, 0)\n",
      "1 | CAG | (1, 0, 2)\n",
      "1 | AGC | (0, 2, 1)\n",
      "0 | GCC | (2, 1, 1)\n",
      "1 | CCA | (1, 1, 0)\n",
      "1 | CAG | (1, 0, 2)\n",
      "2 | AGA | (0, 2, 0)\n",
      "1 | GAG | (2, 0, 2)\n",
      "1 | AGG | (0, 2, 2)\n",
      "0 | GGT | (2, 2, 3)\n",
      "0 | GTC | (2, 3, 1)\n",
      "0 | TCG | (3, 1, 2)\n",
      "0 | CGG | (1, 2, 2)\n",
      "0 | GGT | (2, 2, 3)\n",
      "0 | GTG | (2, 3, 2)\n"
     ]
    }
   ],
   "source": [
    "for x, y, z in zip(m6a_kmers, get_kmers(motif, 3), kmer_tuples):\n",
    "    print(\"{} | {} | {}\".format(x, y, z))"
   ]
  },
  {
   "cell_type": "code",
   "execution_count": 117,
   "metadata": {
    "collapsed": true,
    "hidden": true
   },
   "outputs": [
    {
     "name": "stdout",
     "output_type": "stream",
     "text": [
      "4\n"
     ]
    }
   ],
   "source": [
    "# create a k-dimensional matrix to store k-mer counts\n",
    "kmer_counts = np.zeros(tuple(4 for i in range(3)), dtype=int)\n",
    "\n",
    "# record each k-mer in the count matrix\n",
    "for kmer_tuple in kmer_tuples:\n",
    "    kmer_counts[kmer_tuple] += 1"
   ]
  },
  {
   "cell_type": "code",
   "execution_count": 125,
   "metadata": {
    "collapsed": true,
    "hidden": true
   },
   "outputs": [
    {
     "data": {
      "text/plain": [
       "CCA    3\n",
       "AGC    3\n",
       "CAG    3\n",
       "GGT    2\n",
       "GTC    2\n",
       "GCC    2\n",
       "GTA    1\n",
       "CGG    1\n",
       "TCG    1\n",
       "AGG    1\n",
       "GAG    1\n",
       "AGA    1\n",
       "CCC    1\n",
       "TCC    1\n",
       "TAG    1\n",
       "CTC    1\n",
       "TCT    1\n",
       "CGT    1\n",
       "GCG    1\n",
       "GGC    1\n",
       "TGG    1\n",
       "CTG    1\n",
       "GCT    1\n",
       "GTG    1\n",
       "dtype: int64"
      ]
     },
     "execution_count": 125,
     "metadata": {},
     "output_type": "execute_result"
    }
   ],
   "source": [
    "pd.Series(get_kmers(motif, 3)).value_counts()"
   ]
  },
  {
   "cell_type": "code",
   "execution_count": 137,
   "metadata": {
    "collapsed": true,
    "hidden": true
   },
   "outputs": [
    {
     "data": {
      "text/plain": [
       "['ACG_n',\n",
       " 'ACT_n',\n",
       " 'AGC_n',\n",
       " 'AGT_n',\n",
       " 'ATC_n',\n",
       " 'ATG_n',\n",
       " 'CAG_n',\n",
       " 'CAT_n',\n",
       " 'CGA_n',\n",
       " 'CGT_n',\n",
       " 'CTA_n',\n",
       " 'CTG_n',\n",
       " 'GAC_n',\n",
       " 'GAT_n',\n",
       " 'GCA_n',\n",
       " 'GCT_n',\n",
       " 'GTA_n',\n",
       " 'GTC_n',\n",
       " 'TAC_n',\n",
       " 'TAG_n',\n",
       " 'TCA_n',\n",
       " 'TCG_n',\n",
       " 'TGA_n',\n",
       " 'TGC_n']"
      ]
     },
     "execution_count": 137,
     "metadata": {},
     "output_type": "execute_result"
    }
   ],
   "source": [
    "[kmer + \"_n\" for kmer in kmer_cols]"
   ]
  },
  {
   "cell_type": "code",
   "execution_count": null,
   "metadata": {
    "hidden": true
   },
   "outputs": [],
   "source": []
  },
  {
   "cell_type": "code",
   "execution_count": 126,
   "metadata": {
    "collapsed": true,
    "hidden": true
   },
   "outputs": [
    {
     "name": "stdout",
     "output_type": "stream",
     "text": [
      "GTA | 1\n",
      "TAG | 1\n",
      "AGC | 3\n",
      "GCT | 1\n",
      "CTG | 1\n",
      "TGG | 1\n",
      "GGC | 1\n",
      "GCG | 1\n",
      "CGT | 1\n",
      "GTC | 2\n",
      "TCT | 1\n",
      "CTC | 1\n",
      "TCC | 1\n",
      "CCA | 3\n",
      "CAG | 3\n",
      "AGC | 3\n",
      "GCC | 2\n",
      "CCC | 1\n",
      "CCA | 3\n",
      "CAG | 3\n",
      "AGC | 3\n",
      "GCC | 2\n",
      "CCA | 3\n",
      "CAG | 3\n",
      "AGA | 1\n",
      "GAG | 1\n",
      "AGG | 1\n",
      "GGT | 2\n",
      "GTC | 2\n",
      "TCG | 1\n",
      "CGG | 1\n",
      "GGT | 2\n",
      "GTG | 1\n"
     ]
    }
   ],
   "source": [
    "for x, y in zip(get_kmers(motif, 3), [kmer_counts[kmer] for kmer in kmer_tuples]):\n",
    "    print(\"{} | {}\".format(x, y))"
   ]
  },
  {
   "cell_type": "code",
   "execution_count": 122,
   "metadata": {
    "collapsed": true,
    "hidden": true
   },
   "outputs": [
    {
     "data": {
      "text/plain": [
       "[1,\n",
       " 1,\n",
       " 3,\n",
       " 1,\n",
       " 1,\n",
       " 1,\n",
       " 1,\n",
       " 1,\n",
       " 1,\n",
       " 2,\n",
       " 1,\n",
       " 1,\n",
       " 1,\n",
       " 3,\n",
       " 3,\n",
       " 3,\n",
       " 2,\n",
       " 1,\n",
       " 3,\n",
       " 3,\n",
       " 3,\n",
       " 2,\n",
       " 3,\n",
       " 3,\n",
       " 1,\n",
       " 1,\n",
       " 1,\n",
       " 2,\n",
       " 2,\n",
       " 1,\n",
       " 1,\n",
       " 2,\n",
       " 1]"
      ]
     },
     "execution_count": 122,
     "metadata": {},
     "output_type": "execute_result"
    }
   ],
   "source": [
    "[kmer_counts[kmer] for kmer in kmer_tuples]"
   ]
  },
  {
   "cell_type": "code",
   "execution_count": 113,
   "metadata": {
    "collapsed": true,
    "hidden": true
   },
   "outputs": [
    {
     "data": {
      "text/plain": [
       "array([[[0, 0, 0, 0],\n",
       "        [0, 0, 0, 0],\n",
       "        [1, 3, 1, 0],\n",
       "        [0, 0, 0, 0]],\n",
       "\n",
       "       [[0, 0, 3, 0],\n",
       "        [3, 1, 0, 0],\n",
       "        [0, 0, 1, 1],\n",
       "        [0, 1, 1, 0]],\n",
       "\n",
       "       [[0, 0, 1, 0],\n",
       "        [0, 2, 1, 1],\n",
       "        [0, 1, 0, 2],\n",
       "        [1, 2, 1, 0]],\n",
       "\n",
       "       [[0, 0, 1, 0],\n",
       "        [0, 1, 1, 1],\n",
       "        [0, 0, 1, 0],\n",
       "        [0, 0, 0, 0]]])"
      ]
     },
     "execution_count": 113,
     "metadata": {},
     "output_type": "execute_result"
    }
   ],
   "source": [
    "kmer_counts"
   ]
  },
  {
   "cell_type": "code",
   "execution_count": 110,
   "metadata": {
    "collapsed": true,
    "hidden": true
   },
   "outputs": [
    {
     "name": "stdout",
     "output_type": "stream",
     "text": [
      "Getting k-mer sums.\n"
     ]
    },
    {
     "ename": "NameError",
     "evalue": "name 'probe_tuples' is not defined",
     "output_type": "error",
     "traceback": [
      "\u001b[0;31m---------------------------------------------------------------------------\u001b[0m",
      "\u001b[0;31mNameError\u001b[0m                                 Traceback (most recent call last)",
      "Cell \u001b[0;32mIn[110], line 3\u001b[0m\n\u001b[1;32m      1\u001b[0m \u001b[38;5;66;03m# get kmer_sums\u001b[39;00m\n\u001b[1;32m      2\u001b[0m \u001b[38;5;28mprint\u001b[39m(\u001b[38;5;124m\"\u001b[39m\u001b[38;5;124mGetting k-mer sums.\u001b[39m\u001b[38;5;124m\"\u001b[39m)\n\u001b[0;32m----> 3\u001b[0m \u001b[43mget_kmer_sums\u001b[49m\u001b[43m(\u001b[49m\u001b[43md_m6a\u001b[49m\u001b[43m,\u001b[49m\u001b[43m \u001b[49m\u001b[38;5;241;43m3\u001b[39;49m\u001b[43m,\u001b[49m\u001b[43m \u001b[49m\u001b[43mseq_col\u001b[49m\u001b[38;5;241;43m=\u001b[39;49m\u001b[38;5;124;43m\"\u001b[39;49m\u001b[38;5;124;43msubset_sequence\u001b[39;49m\u001b[38;5;124;43m\"\u001b[39;49m\u001b[43m)\u001b[49m\n",
      "Cell \u001b[0;32mIn[109], line 14\u001b[0m, in \u001b[0;36mget_kmer_sums\u001b[0;34m(df, k, seq_col)\u001b[0m\n\u001b[1;32m     12\u001b[0m \u001b[38;5;66;03m# record each k-mer in the count matrix\u001b[39;00m\n\u001b[1;32m     13\u001b[0m \u001b[38;5;28;01mfor\u001b[39;00m kmer_tuple \u001b[38;5;129;01min\u001b[39;00m kmer_tuples\u001b[38;5;241m.\u001b[39mexplode():\n\u001b[0;32m---> 14\u001b[0m     \u001b[38;5;28;01mif\u001b[39;00m kmer_tuple \u001b[38;5;129;01min\u001b[39;00m \u001b[43mprobe_tuples\u001b[49m:\n\u001b[1;32m     15\u001b[0m         kmer_counts[kmer_tuple] \u001b[38;5;241m+\u001b[39m\u001b[38;5;241m=\u001b[39m \u001b[38;5;241m1\u001b[39m\n\u001b[1;32m     17\u001b[0m \u001b[38;5;66;03m# loop k-mer counts for each sequence\u001b[39;00m\n",
      "\u001b[0;31mNameError\u001b[0m: name 'probe_tuples' is not defined"
     ]
    }
   ],
   "source": [
    "# get kmer_sums\n",
    "print(\"Getting k-mer sums.\")\n",
    "get_kmer_sums(d_m6a, 3, seq_col=\"subset_sequence\")"
   ]
  },
  {
   "cell_type": "code",
   "execution_count": null,
   "metadata": {
    "hidden": true
   },
   "outputs": [],
   "source": []
  },
  {
   "cell_type": "markdown",
   "metadata": {
    "hidden": true
   },
   "source": [
    "### other code"
   ]
  },
  {
   "cell_type": "code",
   "execution_count": null,
   "metadata": {
    "hidden": true
   },
   "outputs": [],
   "source": [
    "# sample\n",
    "negative_queries = ['m54329U_210323_190418/58001273/ccs', 'm54329U_210323_190418/107545216/ccs', \n",
    "                    'm54329U_210323_190418/148702267/ccs', 'm54329U_210326_192251/12978426/ccs', \n",
    "                    'm54329U_210326_192251/171182291/ccs', 'm54329U_210810_004956/65863987/ccs', \n",
    "                    'm54329U_210810_004956/68815147/ccs', 'm54329U_210810_004956/78316132/ccs', \n",
    "                    'm54329U_210810_004956/85591510/ccs', 'm54329U_210810_004956/91423766/ccs']"
   ]
  },
  {
   "cell_type": "code",
   "execution_count": null,
   "metadata": {
    "hidden": true
   },
   "outputs": [],
   "source": [
    "# combine masks (all msp's containing a motif & m6a's within flanking range)\n",
    "df_mask = np.logical_or(msp_conds, m6a_range_conds)\n",
    "print(\"observations meeting conditions: {}\".format(df_mask.sum()))"
   ]
  },
  {
   "cell_type": "code",
   "execution_count": null,
   "metadata": {
    "hidden": true,
    "scrolled": false
   },
   "outputs": [],
   "source": [
    "# check if motif_name & query_name in msp_groups\n",
    "df[df[[\"motif_name\", \"query_name\"]].apply(tuple, 1).isin(msp_groups)]"
   ]
  },
  {
   "cell_type": "code",
   "execution_count": null,
   "metadata": {
    "hidden": true
   },
   "outputs": [],
   "source": [
    "# apply mask to df\n",
    "df = df[df_mask]"
   ]
  },
  {
   "cell_type": "code",
   "execution_count": null,
   "metadata": {
    "hidden": true
   },
   "outputs": [],
   "source": [
    "# group by motif & query name\n",
    "grouping_cols = [\"motif_name\", \"query_name\"]\n",
    "df_grouped = df.groupby(grouping_cols)\n",
    "\n",
    "# get group names (keys)\n",
    "group_names = list(df_grouped.groups.keys())\n",
    "print(\"different motif-sequence groups: {}\".format(len(group_names)))"
   ]
  },
  {
   "cell_type": "code",
   "execution_count": null,
   "metadata": {
    "hidden": true
   },
   "outputs": [],
   "source": [
    "df_filt = df[df_mask].groupby(grouping_cols).filter(lambda x: any(x[\"centered_position_type\"] == \"msp\"))\n",
    "print(df_filt.shape)"
   ]
  },
  {
   "cell_type": "code",
   "execution_count": null,
   "metadata": {
    "hidden": true
   },
   "outputs": [],
   "source": [
    "group_names_1 = group_names\n",
    "print(len(group_names_1))"
   ]
  },
  {
   "cell_type": "code",
   "execution_count": null,
   "metadata": {
    "hidden": true,
    "scrolled": true
   },
   "outputs": [],
   "source": [
    "# group by motif & query name\n",
    "grouping_cols = [\"motif_name\", \"query_name\"]\n",
    "df_grouped = df.groupby(grouping_cols)\n",
    "\n",
    "# get rows where motif within an msp\n",
    "msp_conds = (df[\"centered_position_type\"] == \"msp\") & (df[\"centered_start\"] <= 0) & (df[\"centered_end\"] >= 35)\n",
    "print(\"msps with a motif: {}\".format(msp_conds.sum()))\n",
    "\n",
    "# get group names (keys)\n",
    "group_names = list(df_grouped.groups.keys())\n",
    "print(\"different motif-sequence groups: {}\".format(len(group_names)))"
   ]
  },
  {
   "cell_type": "code",
   "execution_count": null,
   "metadata": {
    "hidden": true
   },
   "outputs": [],
   "source": [
    "len(df[msp_conds].groupby(grouping_cols).groups.keys())"
   ]
  },
  {
   "cell_type": "markdown",
   "metadata": {
    "hidden": true
   },
   "source": [
    "__have to do regions within an MSP AND unique query name__ cannot just do by motifs to account for multiple strands"
   ]
  },
  {
   "cell_type": "code",
   "execution_count": null,
   "metadata": {
    "hidden": true
   },
   "outputs": [],
   "source": [
    "print(\"msp's: {}\".format(df[df[\"centered_position_type\"] == \"msp\"].shape[0]))\n",
    "print(\"m6a's: {}\".format(df[df[\"centered_position_type\"] == \"m6a\"].shape[0]))"
   ]
  },
  {
   "cell_type": "code",
   "execution_count": null,
   "metadata": {
    "hidden": true
   },
   "outputs": [],
   "source": [
    "msp_conds = (df[\"centered_position_type\"] == \"msp\") & (df[\"centered_start\"] <= 0) & (df[\"centered_end\"] >= 35)\n",
    "print(\"msps with a motif: {}\".format(msp_conds.sum()))\n",
    "\n",
    "df[msp_conds].groupby(grouping_cols)"
   ]
  },
  {
   "cell_type": "markdown",
   "metadata": {
    "hidden": true
   },
   "source": [
    "logic\n",
    "* Motif first &rarr; for each motif, if a fiber does not have an MSP, remove that motif-fiber instance\n",
    "* Fiber first &rarr;  for each query name, if a MSP does not contain a motif, remove the entire fiber"
   ]
  },
  {
   "cell_type": "code",
   "execution_count": null,
   "metadata": {
    "hidden": true
   },
   "outputs": [],
   "source": [
    "# preserve original df\n",
    "#df_v0 = df"
   ]
  },
  {
   "cell_type": "code",
   "execution_count": null,
   "metadata": {
    "hidden": true
   },
   "outputs": [],
   "source": [
    "# test grouped df\n",
    "df_t = df[(df[\"motif_name\"] == \"chr1_1779210_+\") & (df[\"query_name\"] == \"m54329U_210323_190418/114558801/ccs\")]\n",
    "print(\"Total rows: {}\".format(df_t.shape[0]))"
   ]
  },
  {
   "cell_type": "code",
   "execution_count": null,
   "metadata": {
    "hidden": true
   },
   "outputs": [],
   "source": []
  },
  {
   "cell_type": "code",
   "execution_count": null,
   "metadata": {
    "hidden": true
   },
   "outputs": [],
   "source": [
    "df_t[df_t[\"centered_position_type\"] == \"msp\"]"
   ]
  },
  {
   "cell_type": "code",
   "execution_count": null,
   "metadata": {
    "hidden": true
   },
   "outputs": [],
   "source": [
    "df_t.query(\"centered_position_type == 'msp'\")[\"centered_start\"] <= 0"
   ]
  },
  {
   "cell_type": "code",
   "execution_count": null,
   "metadata": {
    "hidden": true
   },
   "outputs": [],
   "source": [
    "df_t.query(\"centered_position_type == 'msp'\")[\"centered_end\"] >= 35"
   ]
  },
  {
   "cell_type": "code",
   "execution_count": null,
   "metadata": {
    "hidden": true
   },
   "outputs": [],
   "source": [
    "df_grouped.get_group(group_names[1])"
   ]
  },
  {
   "cell_type": "code",
   "execution_count": null,
   "metadata": {
    "hidden": true
   },
   "outputs": [],
   "source": [
    "i = 0\n",
    "for g_idx, group in df_grouped:\n",
    "    print(g_idx)\n",
    "    print(group.shape)\n",
    "    if (group.query(\"centered_position_type == 'msp'\")[\"centered_start\"] <= 0 and \n",
    "        group.query(\"centered_position_type == 'msp'\")[\"centered_end\"] >= 35):\n",
    "        print(group.query(\"centered_position_type == 'msp'\"))\n",
    "        for r_idx, row in group.iterrows():\n",
    "            print(row)\n",
    "    i += 1\n",
    "    if i >= 2:\n",
    "        break"
   ]
  },
  {
   "cell_type": "code",
   "execution_count": null,
   "metadata": {
    "hidden": true
   },
   "outputs": [],
   "source": [
    "np.where()"
   ]
  },
  {
   "cell_type": "code",
   "execution_count": null,
   "metadata": {
    "hidden": true
   },
   "outputs": [],
   "source": []
  },
  {
   "cell_type": "code",
   "execution_count": null,
   "metadata": {
    "hidden": true
   },
   "outputs": [],
   "source": [
    "df.head(1)"
   ]
  },
  {
   "cell_type": "code",
   "execution_count": null,
   "metadata": {
    "hidden": true
   },
   "outputs": [],
   "source": [
    "msp_conds = (df[\"centered_position_type\"] == \"msp\") & (df[\"centered_start\"] <= 0) & (df[\"centered_end\"] >= 35)\n",
    "print(\"msps with a motif: {}\".format(msp_conds.sum()))\n",
    "\n",
    "df[msp_conds].groupby()"
   ]
  },
  {
   "cell_type": "code",
   "execution_count": null,
   "metadata": {
    "hidden": true
   },
   "outputs": [],
   "source": [
    "# for each group, add msp size\n"
   ]
  },
  {
   "cell_type": "code",
   "execution_count": null,
   "metadata": {
    "hidden": true
   },
   "outputs": [],
   "source": [
    "len(list(df[msp_conds].groupby(grouping_cols).groups.keys()))"
   ]
  },
  {
   "cell_type": "code",
   "execution_count": null,
   "metadata": {
    "hidden": true
   },
   "outputs": [],
   "source": [
    "msp_conds[0].sum()"
   ]
  },
  {
   "cell_type": "code",
   "execution_count": null,
   "metadata": {
    "hidden": true
   },
   "outputs": [],
   "source": [
    "within_msp = []\n",
    "\n",
    "msp_conds = [(df[\"centered_position_type\"] == \"msp\")]\n",
    "\n",
    "for group in group_names:\n",
    "    d = df_grouped.get_group(group)\n",
    "    d_msp = d[d[\"centered_position_type\"] == \"msp\"]\n",
    "    "
   ]
  },
  {
   "cell_type": "code",
   "execution_count": null,
   "metadata": {
    "hidden": true
   },
   "outputs": [],
   "source": [
    "df_grouped.get_group(group_names[0]).tail()"
   ]
  },
  {
   "cell_type": "code",
   "execution_count": null,
   "metadata": {
    "hidden": true
   },
   "outputs": [],
   "source": []
  },
  {
   "cell_type": "code",
   "execution_count": null,
   "metadata": {
    "hidden": true
   },
   "outputs": [],
   "source": []
  },
  {
   "cell_type": "code",
   "execution_count": null,
   "metadata": {
    "hidden": true
   },
   "outputs": [],
   "source": []
  },
  {
   "cell_type": "code",
   "execution_count": null,
   "metadata": {
    "hidden": true,
    "scrolled": true
   },
   "outputs": [],
   "source": [
    "# create mask of MSPs containing a motif\n",
    "msp_mask = df[df[\"centered_position_type\"] == \"msp\"].apply(lambda row: (row[\"centered_start\"] <= 0) & (row[\"centered_end\"] >= 35), axis=1)"
   ]
  },
  {
   "cell_type": "code",
   "execution_count": null,
   "metadata": {
    "hidden": true,
    "scrolled": true
   },
   "outputs": [],
   "source": [
    "msp_mask.value_counts()"
   ]
  },
  {
   "cell_type": "code",
   "execution_count": null,
   "metadata": {
    "hidden": true
   },
   "outputs": [],
   "source": [
    "# indicies of msp's without a motif\n",
    "msp_drop = df[df[\"centered_position_type\"] == \"msp\"].index[~msp_mask]"
   ]
  },
  {
   "cell_type": "code",
   "execution_count": null,
   "metadata": {
    "hidden": true
   },
   "outputs": [],
   "source": [
    "df.loc[msp_drop].motif_name.unique()"
   ]
  },
  {
   "cell_type": "code",
   "execution_count": null,
   "metadata": {
    "hidden": true
   },
   "outputs": [],
   "source": [
    "df[df[\"motif_name\"].isin(msp_motifs)]"
   ]
  },
  {
   "cell_type": "code",
   "execution_count": null,
   "metadata": {
    "hidden": true
   },
   "outputs": [],
   "source": [
    "# remove msp's without a motif\n",
    "df = df.drop(msp_drop)"
   ]
  },
  {
   "cell_type": "code",
   "execution_count": null,
   "metadata": {
    "hidden": true,
    "scrolled": false
   },
   "outputs": [],
   "source": [
    "print(df.shape[0])"
   ]
  },
  {
   "cell_type": "code",
   "execution_count": null,
   "metadata": {
    "hidden": true
   },
   "outputs": [],
   "source": [
    "# motif name can have multiple msps (1 msp per strand)\n",
    "# query can have multiple msp's (different motifs)\n",
    "\n",
    "# names of motifs within an msp\n",
    "msp_motifs = df[df[\"centered_position_type\"] == \"msp\"].motif_name.unique()\n",
    "print(\"Unique motifs: {}\".format(len(msp_motifs)))"
   ]
  },
  {
   "cell_type": "code",
   "execution_count": null,
   "metadata": {
    "hidden": true
   },
   "outputs": [],
   "source": [
    "# indicies of msp's with a motif\n",
    "df.loc[df[df[\"centered_position_type\"] == \"msp\"]].motif_name.unique()"
   ]
  },
  {
   "cell_type": "code",
   "execution_count": null,
   "metadata": {
    "hidden": true
   },
   "outputs": [],
   "source": [
    "# get motif_name's of motifs within an msp\n",
    "print(\"Unique motifs with an msp: {}\".format(df[df[\"centered_position_type\"] == \"msp\"].motif_name[msp_mask].nunique()))"
   ]
  },
  {
   "cell_type": "code",
   "execution_count": null,
   "metadata": {
    "hidden": true
   },
   "outputs": [],
   "source": [
    "# get motif_name's of motifs within an msp\n",
    "df[df[\"centered_position_type\"] == \"msp\"].motif_name[msp_mask].unique()"
   ]
  },
  {
   "cell_type": "code",
   "execution_count": null,
   "metadata": {
    "hidden": true
   },
   "outputs": [],
   "source": []
  },
  {
   "cell_type": "code",
   "execution_count": null,
   "metadata": {
    "hidden": true
   },
   "outputs": [],
   "source": []
  },
  {
   "cell_type": "code",
   "execution_count": null,
   "metadata": {
    "hidden": true
   },
   "outputs": [],
   "source": []
  },
  {
   "cell_type": "code",
   "execution_count": null,
   "metadata": {
    "hidden": true
   },
   "outputs": [],
   "source": []
  },
  {
   "cell_type": "code",
   "execution_count": null,
   "metadata": {
    "hidden": true
   },
   "outputs": [],
   "source": [
    "# remove non-MSP groups\n",
    "group_names = list(itertools.compress(group_names, msp_mask)"
   ]
  },
  {
   "cell_type": "code",
   "execution_count": null,
   "metadata": {
    "hidden": true
   },
   "outputs": [],
   "source": []
  },
  {
   "cell_type": "code",
   "execution_count": null,
   "metadata": {
    "hidden": true
   },
   "outputs": [],
   "source": []
  },
  {
   "cell_type": "code",
   "execution_count": null,
   "metadata": {
    "hidden": true
   },
   "outputs": [],
   "source": [
    "# get msps that contain a motif\n",
    "df_msp[df[df[\"centered_position_type\"] == \"msp\"].apply(lambda row: (row[\"centered_start\"] <= 0) & (row[\"centered_end\"] >= 35), axis=1)]"
   ]
  },
  {
   "cell_type": "code",
   "execution_count": null,
   "metadata": {
    "hidden": true
   },
   "outputs": [],
   "source": [
    "df[df[\"centered_position_type\"] == \"msp\"].apply(lambda row: row[\"centered_end\"] - row[\"centered_start\"], axis=1))"
   ]
  },
  {
   "cell_type": "code",
   "execution_count": null,
   "metadata": {
    "hidden": true,
    "scrolled": true
   },
   "outputs": [],
   "source": [
    "%%time\n",
    "msp_len = np.array(df[df[\"centered_position_type\"] == \"msp\"].apply(lambda row: row[\"centered_end\"] - row[\"centered_start\"], axis=1))"
   ]
  },
  {
   "cell_type": "code",
   "execution_count": null,
   "metadata": {
    "hidden": true
   },
   "outputs": [],
   "source": [
    "df[np.array(df.apply(lambda row: (row.centered_position_type == \"m6a\") & \n",
    "                    (row.centered_start >= -40) & (row.centered_end <= 75), axis=1), dtype=bool)]"
   ]
  },
  {
   "cell_type": "code",
   "execution_count": null,
   "metadata": {
    "hidden": true
   },
   "outputs": [],
   "source": []
  },
  {
   "cell_type": "code",
   "execution_count": null,
   "metadata": {
    "hidden": true
   },
   "outputs": [],
   "source": []
  },
  {
   "cell_type": "code",
   "execution_count": null,
   "metadata": {
    "hidden": true
   },
   "outputs": [],
   "source": []
  },
  {
   "cell_type": "code",
   "execution_count": null,
   "metadata": {
    "hidden": true
   },
   "outputs": [],
   "source": []
  },
  {
   "cell_type": "code",
   "execution_count": null,
   "metadata": {
    "hidden": true
   },
   "outputs": [],
   "source": [
    "# only msps\n",
    "df_msp = df[df[\"centered_position_type\"] == \"msp\"]\n",
    "df_msp.shape"
   ]
  },
  {
   "cell_type": "code",
   "execution_count": null,
   "metadata": {
    "hidden": true
   },
   "outputs": [],
   "source": [
    "len(list(df_msp[(df_msp[\"centered_start\"] <= 0) & (df_msp[\"centered_end\"] >= 35)].groupby(grouping_cols).groups.keys()))"
   ]
  },
  {
   "cell_type": "code",
   "execution_count": null,
   "metadata": {
    "hidden": true
   },
   "outputs": [],
   "source": [
    "print(\"mean msp size:\", np.mean(msp_len))\n",
    "print(\"median msp size\", np.median(msp_len))\n",
    "print(\"min msp size:\", np.min(msp_len))\n",
    "print(\"max msp size:\", np.max(msp_len))"
   ]
  },
  {
   "cell_type": "code",
   "execution_count": null,
   "metadata": {
    "hidden": true
   },
   "outputs": [],
   "source": [
    "df.iloc[:0]"
   ]
  },
  {
   "cell_type": "markdown",
   "metadata": {
    "hidden": true
   },
   "source": [
    "__filter m6as for 40 bp regions flanking motif__"
   ]
  },
  {
   "cell_type": "code",
   "execution_count": null,
   "metadata": {
    "hidden": true,
    "scrolled": true
   },
   "outputs": [],
   "source": [
    "%%time\n",
    "df = df[(df[\"centered_start\"] >= -40) & (df[\"centered_end\"] <= 75)]\n",
    "print(\"rows within bounds: {}\".format(df.shape[0]))"
   ]
  },
  {
   "cell_type": "code",
   "execution_count": null,
   "metadata": {
    "hidden": true
   },
   "outputs": [],
   "source": [
    "def within_range(df, position_type=[\"msp\", \"m6a\"], lower_bound=-40, upper_bound=75):\n",
    "    ''' Check if row coord are within a range. '''\n",
    "    msp_mask = (df.centered_position_type.isin(position_type)) & (df.centered_start >= lower_bound) & (df.centered_end <= upper_bound)\n",
    "    return np.array(msp_mask, dtype=bool)"
   ]
  },
  {
   "cell_type": "code",
   "execution_count": null,
   "metadata": {
    "hidden": true
   },
   "outputs": [],
   "source": [
    "grouping_cols = df.columns.tolist()[:6]\n",
    "\n",
    "# group by first 6 columns\n",
    "df_grouped = df.groupby(grouping_cols)\n",
    "\n",
    "# get group names (keys)\n",
    "group_names = list(df_grouped.groups.keys())\n",
    "print(\"different motif-sequence groups: {}\".format(len(group_names)))"
   ]
  },
  {
   "cell_type": "markdown",
   "metadata": {
    "hidden": true
   },
   "source": [
    "__filtering regions for MSPs__"
   ]
  },
  {
   "cell_type": "code",
   "execution_count": null,
   "metadata": {
    "hidden": true
   },
   "outputs": [],
   "source": [
    "# check if rows of a certain type are outside a range\n",
    "def outside_range(df, position_type=[\"msp\"], lower_bound=0, upper_bound=35):\n",
    "    ''' Check if row coord are beyond a range. '''\n",
    "    msp_mask = (df.centered_position_type.isin(position_type)) & (df.centered_start <= lower_bound) & (df.centered_end >= upper_bound)\n",
    "    return np.array(msp_mask, dtype=bool)"
   ]
  },
  {
   "cell_type": "markdown",
   "metadata": {
    "hidden": true
   },
   "source": [
    "* if there is no MSP from 0-35, drop that motif & strand group\n",
    "* if there IS an MSP (only 1 per motif)\n",
    " - drop m6a's not within MSP bounds\n",
    " - only get m6a sites within the MSP"
   ]
  },
  {
   "cell_type": "code",
   "execution_count": null,
   "metadata": {
    "hidden": true
   },
   "outputs": [],
   "source": [
    "%%time\n",
    "group_names = list(df_grouped.groups.keys())\n",
    "print(\"Total groups: {}\".format(len(group_names)))\n",
    "\n",
    "# mask to remove non-MSP groups\n",
    "msp_mask = []\n",
    "\n",
    "for group in group_names:\n",
    "    d = df_grouped.get_group(group)\n",
    "    msp_mask.append(outside_range(d).any())\n",
    "\n",
    "print(\"Groups within an MSP: {}\".format(sum(msp_mask)))\n",
    "print(\"Groups outside an MSP: {}\".format(len(group_names) - sum(msp_mask)))\n",
    "# remove non-MSP groups\n",
    "group_names = list(itertools.compress(group_names, msp_mask))"
   ]
  },
  {
   "cell_type": "code",
   "execution_count": null,
   "metadata": {
    "hidden": true
   },
   "outputs": [],
   "source": [
    "len(group_names)"
   ]
  },
  {
   "cell_type": "code",
   "execution_count": null,
   "metadata": {
    "hidden": true
   },
   "outputs": [],
   "source": [
    "df_grouped.get_group(group_names[10])"
   ]
  },
  {
   "cell_type": "code",
   "execution_count": null,
   "metadata": {
    "hidden": true
   },
   "outputs": [],
   "source": []
  },
  {
   "cell_type": "code",
   "execution_count": null,
   "metadata": {
    "hidden": true
   },
   "outputs": [],
   "source": [
    "%%timeit\n",
    "\n",
    "group_names = list(df_grouped.groups.keys())\n",
    "#print(\"Total groups: {}\".format(len(group_names)))\n",
    "\n",
    "# mask to remove non-MSP groups\n",
    "msp_mask = []\n",
    "\n",
    "for group in group_names:\n",
    "    d = df_grouped.get_group(group)\n",
    "    msp_mask.append(outside_range(d).any())\n",
    "\n",
    "#print(\"Groups within an MSP: {}\".format(sum(msp_mask)))\n",
    "#print(\"Groups outside an MSP: {}\".format(len(group_names) - sum(msp_mask)))\n",
    "# remove non-MSP groups\n",
    "group_names = list(itertools.compress(group_names, msp_mask))"
   ]
  },
  {
   "cell_type": "code",
   "execution_count": null,
   "metadata": {
    "hidden": true
   },
   "outputs": [],
   "source": [
    "158/5400 * 20053779 * 0.001"
   ]
  },
  {
   "cell_type": "code",
   "execution_count": null,
   "metadata": {
    "hidden": true
   },
   "outputs": [],
   "source": [
    "586.7587188888889 / 60"
   ]
  },
  {
   "cell_type": "code",
   "execution_count": null,
   "metadata": {
    "hidden": true
   },
   "outputs": [],
   "source": []
  },
  {
   "cell_type": "code",
   "execution_count": null,
   "metadata": {
    "hidden": true
   },
   "outputs": [],
   "source": [
    "d = dfs_within_msp[7]\n",
    "print(d.shape)\n",
    "d.loc[d[\"centered_position_type\"] == \"msp\", [\"centered_position_type\", \"centered_start\", \"centered_end\"]].shape[0]"
   ]
  },
  {
   "cell_type": "code",
   "execution_count": null,
   "metadata": {
    "hidden": true
   },
   "outputs": [],
   "source": [
    "for ix, g in enumerate(groups_within_msp):\n",
    "    d = get_grouped_df(df_grouped, g)\n",
    "    if d.loc[d[\"centered_position_type\"] == \"msp\", [\"centered_start\", \"centered_end\"]].shape[0] > 1:\n",
    "        print(ix)"
   ]
  },
  {
   "cell_type": "code",
   "execution_count": null,
   "metadata": {
    "hidden": true
   },
   "outputs": [],
   "source": [
    "get_grouped_df(df_grouped, groups_within_msp[100])[[\"centered_position_type\", \"centered_start\", \"centered_end\"]]"
   ]
  },
  {
   "cell_type": "code",
   "execution_count": null,
   "metadata": {
    "hidden": true
   },
   "outputs": [],
   "source": []
  },
  {
   "cell_type": "code",
   "execution_count": null,
   "metadata": {
    "hidden": true
   },
   "outputs": [],
   "source": [
    "d.loc[get_in_range(d), [\"centered_start\", \"centered_end\"]].to_numpy()"
   ]
  },
  {
   "cell_type": "code",
   "execution_count": null,
   "metadata": {
    "hidden": true
   },
   "outputs": [],
   "source": [
    "np.array(d.apply(lambda row: (row.centered_position_type == \"msp\") & \n",
    "                    (row.centered_start <= 0) & (row.centered_end >= 45), axis=1), dtype=bool).any()"
   ]
  },
  {
   "cell_type": "code",
   "execution_count": null,
   "metadata": {
    "hidden": true
   },
   "outputs": [],
   "source": [
    "d[np.array(d.apply(lambda row: (row.centered_position_type == \"msp\") & \n",
    "                    (row.centered_start <= 0) & (row.centered_end >= 35), axis=1), dtype=bool)]"
   ]
  },
  {
   "cell_type": "code",
   "execution_count": null,
   "metadata": {
    "hidden": true
   },
   "outputs": [],
   "source": []
  },
  {
   "cell_type": "code",
   "execution_count": null,
   "metadata": {
    "hidden": true
   },
   "outputs": [],
   "source": [
    "# get df of specific group\n",
    "def get_grouped_df(grouped_df, group_name):\n",
    "    ''' Get df group from grouped df. '''\n",
    "    return df_grouped.get_group(group_name)"
   ]
  },
  {
   "cell_type": "code",
   "execution_count": null,
   "metadata": {
    "hidden": true
   },
   "outputs": [],
   "source": [
    "%%time\n",
    "print(len(groups_outside_msp))\n",
    "dfs_outside_msp= [get_grouped_df(grouped_df=df_grouped, group_name=name) for name in groups_outside_msp]\n",
    "print(len(dfs_outside_msp))"
   ]
  },
  {
   "cell_type": "code",
   "execution_count": null,
   "metadata": {
    "hidden": true
   },
   "outputs": [],
   "source": [
    "dfs_outside_msp = [df[df[\"centered_position_type\"] == \"msp\"] for df in dfs_outside_msp]"
   ]
  },
  {
   "cell_type": "code",
   "execution_count": null,
   "metadata": {
    "hidden": true
   },
   "outputs": [],
   "source": [
    "dfs_outside_msp[0]"
   ]
  },
  {
   "cell_type": "markdown",
   "metadata": {
    "hidden": true
   },
   "source": [
    "__filter for 40 bps flanking left & right of motif__"
   ]
  },
  {
   "cell_type": "code",
   "execution_count": null,
   "metadata": {
    "hidden": true
   },
   "outputs": [],
   "source": [
    "sys.getsizeof(df_grouped)"
   ]
  },
  {
   "cell_type": "code",
   "execution_count": null,
   "metadata": {
    "hidden": true
   },
   "outputs": [],
   "source": [
    "%%time\n",
    "dfs_within_msp = [get_grouped_df(grouped_df=df_grouped, group_name=name) for name in groups_within_msp]"
   ]
  },
  {
   "cell_type": "code",
   "execution_count": null,
   "metadata": {
    "hidden": true
   },
   "outputs": [],
   "source": [
    "d = dfs_within_msp[0]\n",
    "print(d.shape)\n",
    "d.loc[d[\"centered_position_type\"] == \"msp\", [\"centered_position_type\", \"centered_start\", \"centered_end\"]]"
   ]
  },
  {
   "cell_type": "code",
   "execution_count": null,
   "metadata": {
    "hidden": true
   },
   "outputs": [],
   "source": [
    "d"
   ]
  },
  {
   "cell_type": "code",
   "execution_count": null,
   "metadata": {
    "hidden": true
   },
   "outputs": [],
   "source": [
    "d[d[\"centered_position_type\"] == \"msp\"][d[d[\"centered_position_type\"] == \"msp\"].apply(lambda row: (row.centered_position_type == \"msp\") & \n",
    "                    (row.centered_start <= 0) & (row.centered_end >= 35), axis=1)]"
   ]
  },
  {
   "cell_type": "code",
   "execution_count": null,
   "metadata": {
    "hidden": true
   },
   "outputs": [],
   "source": []
  },
  {
   "cell_type": "code",
   "execution_count": null,
   "metadata": {
    "hidden": true
   },
   "outputs": [],
   "source": []
  },
  {
   "cell_type": "code",
   "execution_count": null,
   "metadata": {
    "hidden": true
   },
   "outputs": [],
   "source": []
  },
  {
   "cell_type": "code",
   "execution_count": null,
   "metadata": {
    "hidden": true
   },
   "outputs": [],
   "source": []
  },
  {
   "cell_type": "code",
   "execution_count": null,
   "metadata": {
    "hidden": true
   },
   "outputs": [],
   "source": [
    "row_0 = df[df.columns[:6]].iloc[0]"
   ]
  },
  {
   "cell_type": "code",
   "execution_count": null,
   "metadata": {
    "hidden": true
   },
   "outputs": [],
   "source": [
    "# group by first 6 columns (first 3 cols: for each motif, last 3 cols: for each fiber)\n",
    "df_grouped = df.groupby(df.columns.tolist()[:6], sort=False)"
   ]
  },
  {
   "cell_type": "code",
   "execution_count": null,
   "metadata": {
    "hidden": true
   },
   "outputs": [],
   "source": [
    "df_grouped.head(5)"
   ]
  },
  {
   "cell_type": "code",
   "execution_count": null,
   "metadata": {
    "hidden": true
   },
   "outputs": [],
   "source": [
    "group_keys = df_grouped.groups.keys()"
   ]
  },
  {
   "cell_type": "code",
   "execution_count": null,
   "metadata": {
    "hidden": true
   },
   "outputs": [],
   "source": []
  },
  {
   "cell_type": "code",
   "execution_count": null,
   "metadata": {
    "hidden": true
   },
   "outputs": [],
   "source": []
  },
  {
   "cell_type": "code",
   "execution_count": null,
   "metadata": {
    "hidden": true
   },
   "outputs": [],
   "source": [
    "for name, group in df_grouped:\n",
    "    print(name)\n",
    "    print(group)"
   ]
  },
  {
   "cell_type": "code",
   "execution_count": null,
   "metadata": {
    "hidden": true
   },
   "outputs": [],
   "source": []
  },
  {
   "cell_type": "code",
   "execution_count": null,
   "metadata": {
    "hidden": true
   },
   "outputs": [],
   "source": [
    "df.groupby(df.columns.tolist()[:6], sort=False).apply(lambda row: row[(row[\"centered_start\"] <= 0) & (row[\"centered_end\"] >= 35)].sum())"
   ]
  },
  {
   "cell_type": "code",
   "execution_count": null,
   "metadata": {
    "hidden": true
   },
   "outputs": [],
   "source": []
  },
  {
   "cell_type": "code",
   "execution_count": null,
   "metadata": {
    "hidden": true
   },
   "outputs": [],
   "source": []
  },
  {
   "cell_type": "code",
   "execution_count": null,
   "metadata": {
    "hidden": true
   },
   "outputs": [],
   "source": []
  },
  {
   "cell_type": "code",
   "execution_count": null,
   "metadata": {
    "hidden": true
   },
   "outputs": [],
   "source": []
  },
  {
   "cell_type": "code",
   "execution_count": null,
   "metadata": {
    "hidden": true
   },
   "outputs": [],
   "source": [
    "# filter motifs for those inside MSPs"
   ]
  },
  {
   "cell_type": "code",
   "execution_count": null,
   "metadata": {
    "hidden": true
   },
   "outputs": [],
   "source": [
    "df.groupby(df.columns.tolist()[:6], sort=False, group_keys=True).first()"
   ]
  },
  {
   "cell_type": "code",
   "execution_count": null,
   "metadata": {
    "hidden": true
   },
   "outputs": [],
   "source": [
    "df[\"query_name\"][7000]"
   ]
  },
  {
   "cell_type": "code",
   "execution_count": null,
   "metadata": {
    "hidden": true
   },
   "outputs": [],
   "source": [
    "df.nunique()"
   ]
  },
  {
   "cell_type": "code",
   "execution_count": null,
   "metadata": {
    "hidden": true
   },
   "outputs": [],
   "source": [
    "# per motif per fiber/read\n",
    "idx_t = 7000\n",
    "df_0 = df[(df[\"chrom\"] == df[\"chrom\"][idx_t]) &  \n",
    "(df[\"centering_position\"] == df[\"centering_position\"][idx_t]) & \n",
    "(df[\"strand\"] == df[\"strand\"][idx_t]) & \n",
    "    #(df[\"subset_sequence\"] == df[\"subset_sequence\"][idx_t]) &\n",
    "    # #(df[\"reference_start\"] == df[\"reference_start\"][idx_t]) & \n",
    "    # #(df[\"reference_end\"] == df[\"reference_end\"][idx_t]) & \n",
    "(df[\"query_name\"] == df[\"query_name\"][idx_t])]\n",
    "df_0.shape"
   ]
  },
  {
   "cell_type": "code",
   "execution_count": null,
   "metadata": {
    "hidden": true
   },
   "outputs": [],
   "source": [
    "df_0"
   ]
  },
  {
   "cell_type": "code",
   "execution_count": null,
   "metadata": {
    "hidden": true
   },
   "outputs": [],
   "source": [
    "# create feature table\n",
    "cols = [\"chrom\", \"centering_position\", \"strand\", \"query_name\", \"subset_sequence\", \"left_m6a_count\", \"right_m6a_count\"]"
   ]
  },
  {
   "cell_type": "code",
   "execution_count": null,
   "metadata": {
    "hidden": true
   },
   "outputs": [],
   "source": [
    "# step 1. filter for motif within MSP\n",
    "df_0[df_0[\"centered_position_type\"] == \"msp\"]"
   ]
  },
  {
   "cell_type": "code",
   "execution_count": null,
   "metadata": {
    "hidden": true
   },
   "outputs": [],
   "source": [
    "# step 1. filter for motif within MSP\n",
    "df_0[(df_0[\"centered_position_type\"] == \"msp\") & (df_0[\"centered_start\"] <= 0) & (df_0[\"centered_end\"] >= 35)]"
   ]
  },
  {
   "cell_type": "code",
   "execution_count": null,
   "metadata": {
    "hidden": true
   },
   "outputs": [],
   "source": [
    "df_0[df_0[\"centered_position_type\"] == \"msp\"][[\"centered_start\", \"centered_end\"]]"
   ]
  },
  {
   "cell_type": "code",
   "execution_count": null,
   "metadata": {
    "hidden": true
   },
   "outputs": [],
   "source": [
    "df_0"
   ]
  },
  {
   "cell_type": "code",
   "execution_count": null,
   "metadata": {
    "hidden": true
   },
   "outputs": [],
   "source": []
  },
  {
   "cell_type": "code",
   "execution_count": null,
   "metadata": {
    "hidden": true
   },
   "outputs": [],
   "source": [
    "# filter for msps\n",
    "df_0[[\"centered_start\", \"centered_end\"]].apply(lambda row: (row.centered_start <= 0) & (row.centered_end >= 35), axis=1).any()"
   ]
  },
  {
   "cell_type": "code",
   "execution_count": null,
   "metadata": {
    "hidden": true
   },
   "outputs": [],
   "source": [
    "def filt_for_msps(row):\n",
    "    return lambda row: (row.centered_start <= 0) & (row.centered_end >= 35)"
   ]
  },
  {
   "cell_type": "code",
   "execution_count": null,
   "metadata": {
    "hidden": true
   },
   "outputs": [],
   "source": [
    "df_0.apply(filt_for_msps, axis=1)"
   ]
  },
  {
   "cell_type": "code",
   "execution_count": null,
   "metadata": {
    "hidden": true
   },
   "outputs": [],
   "source": [
    "def filt_for_msps(row):\n",
    "    '''Filter for regions within MSPs.'''\n",
    "    print(row)\n",
    "    print(row.centered_start[0])\n",
    "    if ((row.centered_start <= 0) & (row.centered_end >= 35)).any():\n",
    "        True\n",
    "    else:\n",
    "        False"
   ]
  },
  {
   "cell_type": "code",
   "execution_count": null,
   "metadata": {
    "hidden": true
   },
   "outputs": [],
   "source": [
    "df_0[df_0[\"centered_position_type\"] == \"msp\"]"
   ]
  },
  {
   "cell_type": "code",
   "execution_count": null,
   "metadata": {
    "hidden": true
   },
   "outputs": [],
   "source": [
    "np.where((df_0[df_0[\"centered_position_type\"] == \"msp\"][\"centered_start\"] <= 0) & (df_0[df_0[\"centered_position_type\"] == \"msp\"][\"centered_end\"] >= 100), True, False)"
   ]
  },
  {
   "cell_type": "code",
   "execution_count": null,
   "metadata": {
    "hidden": true
   },
   "outputs": [],
   "source": [
    "(df_0[df_0[\"centered_position_type\"] == \"msp\"][\"centered_start\"] <= 0) & (df_0[df_0[\"centered_position_type\"] == \"msp\"][\"centered_end\"] >= 100)"
   ]
  },
  {
   "cell_type": "code",
   "execution_count": null,
   "metadata": {
    "hidden": true
   },
   "outputs": [],
   "source": [
    "df_t = df_0[df_0[\"centered_position_type\"] == \"m6a\"]"
   ]
  },
  {
   "cell_type": "code",
   "execution_count": null,
   "metadata": {
    "hidden": true
   },
   "outputs": [],
   "source": [
    "df_grouped = df.groupby(df.columns.tolist()[:3])"
   ]
  },
  {
   "cell_type": "code",
   "execution_count": null,
   "metadata": {
    "hidden": true
   },
   "outputs": [],
   "source": [
    "df_grouped.head()"
   ]
  },
  {
   "cell_type": "code",
   "execution_count": null,
   "metadata": {
    "hidden": true
   },
   "outputs": [],
   "source": []
  },
  {
   "cell_type": "code",
   "execution_count": null,
   "metadata": {
    "hidden": true
   },
   "outputs": [],
   "source": []
  },
  {
   "cell_type": "code",
   "execution_count": null,
   "metadata": {
    "hidden": true
   },
   "outputs": [],
   "source": [
    "df_grouped[[\"centered_position_type\", \"centered_start\",\"centered_end\"]].apply(lambda row: row.centered_position_type == \"msp\")"
   ]
  },
  {
   "cell_type": "code",
   "execution_count": null,
   "metadata": {
    "hidden": true
   },
   "outputs": [],
   "source": []
  },
  {
   "cell_type": "code",
   "execution_count": null,
   "metadata": {
    "hidden": true
   },
   "outputs": [],
   "source": []
  },
  {
   "cell_type": "code",
   "execution_count": null,
   "metadata": {
    "hidden": true
   },
   "outputs": [],
   "source": []
  },
  {
   "cell_type": "code",
   "execution_count": null,
   "metadata": {
    "hidden": true,
    "scrolled": true
   },
   "outputs": [],
   "source": [
    "df_0.apply(filt_for_msps(df_0[df_0[\"centered_position_type\"] == \"msp\"]), axis=1)"
   ]
  },
  {
   "cell_type": "code",
   "execution_count": null,
   "metadata": {
    "hidden": true
   },
   "outputs": [],
   "source": []
  },
  {
   "cell_type": "code",
   "execution_count": null,
   "metadata": {
    "hidden": true
   },
   "outputs": [],
   "source": []
  },
  {
   "cell_type": "code",
   "execution_count": null,
   "metadata": {
    "hidden": true
   },
   "outputs": [],
   "source": []
  },
  {
   "cell_type": "code",
   "execution_count": null,
   "metadata": {
    "hidden": true
   },
   "outputs": [],
   "source": []
  },
  {
   "cell_type": "code",
   "execution_count": null,
   "metadata": {
    "hidden": true
   },
   "outputs": [],
   "source": []
  },
  {
   "cell_type": "code",
   "execution_count": null,
   "metadata": {
    "hidden": true
   },
   "outputs": [],
   "source": []
  }
 ],
 "metadata": {
  "kernelspec": {
   "display_name": "Python 3 (ipykernel)",
   "language": "python",
   "name": "python3"
  },
  "language_info": {
   "codemirror_mode": {
    "name": "ipython",
    "version": 3
   },
   "file_extension": ".py",
   "mimetype": "text/x-python",
   "name": "python",
   "nbconvert_exporter": "python",
   "pygments_lexer": "ipython3",
   "version": "3.9.15"
  },
  "toc": {
   "base_numbering": 1,
   "nav_menu": {},
   "number_sections": false,
   "sideBar": true,
   "skip_h1_title": false,
   "title_cell": "Table of Contents",
   "title_sidebar": "Contents",
   "toc_cell": false,
   "toc_position": {
    "height": "calc(100% - 180px)",
    "left": "10px",
    "top": "150px",
    "width": "271px"
   },
   "toc_section_display": true,
   "toc_window_display": true
  },
  "vscode": {
   "interpreter": {
    "hash": "c8fdb06c3f6f731a72fe2dc9898ac02cdd8ea86f49d390ad26e8aca6865ce8c1"
   }
  }
 },
 "nbformat": 4,
 "nbformat_minor": 2
}
