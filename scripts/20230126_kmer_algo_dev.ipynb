{
 "cells": [
  {
   "cell_type": "markdown",
   "metadata": {},
   "source": [
    "# CTCF feature extraction"
   ]
  },
  {
   "attachments": {},
   "cell_type": "markdown",
   "metadata": {},
   "source": [
    "requirements\n",
    "* try: 40 bp window on left, 40-80 bp window on right (don't need to go 100s bp out)\n",
    "* within an MSP\n",
    "* "
   ]
  },
  {
   "attachments": {},
   "cell_type": "markdown",
   "metadata": {},
   "source": [
    "features\n",
    "* motif: 3 window kmers\n",
    "* m6a flank left & right\n",
    "* A count flank left & right\n",
    "* total methylation across the read (% of ATs methylated across the read)"
   ]
  },
  {
   "cell_type": "markdown",
   "metadata": {},
   "source": []
  },
  {
   "cell_type": "markdown",
   "metadata": {},
   "source": []
  }
 ],
 "metadata": {
  "kernelspec": {
   "display_name": "fiberseq-smk",
   "language": "python",
   "name": "python3"
  },
  "language_info": {
   "name": "python",
   "version": "3.9.15 | packaged by conda-forge | (main, Nov 22 2022, 08:45:29) \n[GCC 10.4.0]"
  },
  "orig_nbformat": 4,
  "vscode": {
   "interpreter": {
    "hash": "c8fdb06c3f6f731a72fe2dc9898ac02cdd8ea86f49d390ad26e8aca6865ce8c1"
   }
  }
 },
 "nbformat": 4,
 "nbformat_minor": 2
}
