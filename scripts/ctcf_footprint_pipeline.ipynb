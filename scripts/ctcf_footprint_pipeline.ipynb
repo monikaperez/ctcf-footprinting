{
 "cells": [
  {
   "cell_type": "markdown",
   "metadata": {},
   "source": [
    "# __ctcf-footprint workflow__"
   ]
  },
  {
   "cell_type": "markdown",
   "metadata": {},
   "source": [
    "### positive data"
   ]
  },
  {
   "cell_type": "markdown",
   "metadata": {},
   "source": [
    "1. find CTCF motifs with fimo\n",
    "<br>```run-find-motifs-with-fimo.sh```\n",
    "2. intersect Merged_CTCF_motifs.bed with CTCF-ChIP-peaks-and-DNase-hotspot.bed\n",
    "<br>```bedtools intersect -u -f 1 -a fimo/Merged_CTCF_motifs.bed -b data/CTCF-ChIP-peaks-and-DNase-hotspot.bed > candidate_footprints/CTCF_candidate_footprints.bed```\n",
    "3. separate by motif type\n",
    "<br>```grep CTCF_(M,L,XL) CTCF_candidate_footprints.bed > CTCF_candidate_footprints_(M,L,XL).bed```\n",
    "4. get fiber-seq reads 100bp around CTCF motifs\n",
    "<br>```ft center -d 100 ../data/GM12878.aligned.bam <(cut -f 1,2,3,6 CTCF_candidate_footprints_(M,L,XL).bed) > CTCF_m6a_fiberseq_(M,L,XL).txt```"
   ]
  },
  {
   "cell_type": "markdown",
   "metadata": {},
   "source": [
    "### negative data"
   ]
  },
  {
   "cell_type": "markdown",
   "metadata": {},
   "source": [
    "1. find CTCF motifs with fimo\n",
    "<br>```run-find-motifs-with-fimo.sh```\n",
    "2. INVERSE intersect Merged_CTCF_motifs.bed with CTCF-ChIP-peaks-and-DNase-hotspot.bed\n",
    "<br>```bedtools intersect -v -a fimo/Merged_CTCF_motifs.bed -b data/CTCF-ChIP-peaks-and-DNase-hotspot.bed > candidate_footprints/CTCF_negative_candidate_footprints.bed```\n",
    "3. separate by motif type (optional)\n",
    "<br>```grep CTCF_(M,L,XL) CTCF_negative_candidate_footprints.bed > CTCF_negative_candidate_footprints_(M,L,XL).bed```\n",
    "4. get fiber-seq reads 100bp around CTCF motifs\n",
    "<br>```ft center -d 100 ../data/GM12878.aligned.bam <(cut -f 1,2,3,6 CTCF_negative_candidate_footprints_(M,L,XL).bed) > CTCF_negative_m6a_fiberseq_(M,L,XL).txt```"
   ]
  },
  {
   "cell_type": "markdown",
   "metadata": {},
   "source": [
    "future work\n",
    "* filter by p-value\n",
    "* get negative control (use same data but inverse)\n",
    "* --> m6a methylation NOT within ChIP or DNase I peaks"
   ]
  },
  {
   "cell_type": "markdown",
   "metadata": {},
   "source": [
    "### feature collection"
   ]
  },
  {
   "cell_type": "markdown",
   "metadata": {},
   "source": [
    "potential features\n",
    "* [x] read length [query_length]\n",
    "* [ ] 3-mer k-mer count within canonical motif (exclude k-mers without AT)\n",
    "* [ ] m6a count within each k-mer\n",
    "* [x] m6a count for: (motif, 40 bp flank left, 40 bp flank right)\n",
    "* [x] AT count for: (motif, flank left, flank right)\n",
    "* [x] proportion of bases that are AT per element (0-1)\n",
    "* [ ] proportion of methylated ATs per element (motif, flank left, flank right) (0-1)\n",
    "> $$ m6a\\ prop = m6a\\ count / AT\\ count $$\n",
    "> &uarr; proportion of ATs methylated (m6a count/AT count) or proportion of methylated ATs over the region (m6a count/region length)?\n",
    "* [ ] total methylation across the read (% of ATs that were methylated across read)\n",
    "* [x] MSP size\n",
    "* [ ] maybe do a run length encoding?"
   ]
  },
  {
   "cell_type": "code",
   "execution_count": null,
   "metadata": {},
   "outputs": [],
   "source": []
  }
 ],
 "metadata": {
  "kernelspec": {
   "display_name": "R",
   "language": "R",
   "name": "ir"
  },
  "language_info": {
   "codemirror_mode": "r",
   "file_extension": ".r",
   "mimetype": "text/x-r-source",
   "name": "R",
   "pygments_lexer": "r",
   "version": "4.2.2"
  },
  "toc": {
   "base_numbering": 1,
   "nav_menu": {},
   "number_sections": false,
   "sideBar": false,
   "skip_h1_title": true,
   "title_cell": "Table of Contents",
   "title_sidebar": "Contents",
   "toc_cell": false,
   "toc_position": {},
   "toc_section_display": true,
   "toc_window_display": false
  },
  "vscode": {
   "interpreter": {
    "hash": "864b707a5e04d1ae02f215689594879b2e994f59486754c497c1f056c571d247"
   }
  }
 },
 "nbformat": 4,
 "nbformat_minor": 2
}
