{
 "cells": [
  {
   "cell_type": "markdown",
   "metadata": {},
   "source": [
    "# __ctcf-footprint workflow__"
   ]
  },
  {
   "cell_type": "markdown",
   "metadata": {},
   "source": [
    "### positive data"
   ]
  },
  {
   "cell_type": "markdown",
   "metadata": {},
   "source": [
    "1. find CTCF motifs with fimo\n",
    "<br>```run-find-motifs-with-fimo.sh```\n",
    "2. intersect Merged_CTCF_motifs.bed with CTCF-ChIP-peaks-and-DNase-hotspot.bed\n",
    "<br>```bedtools intersect -u -f 1 -a fimo/Merged_CTCF_motifs.bed -b data/CTCF-ChIP-peaks-and-DNase-hotspot.bed > candidate_footprints/CTCF_candidate_footprints_positive.bed```\n",
    "3. separate by motif type\n",
    "<br>```grep CTCF_(M,L,XL) CTCF_candidate_footprints_positive.bed > CTCF_candidate_footprints_(M,L,XL)_positive.bed```\n",
    "4. get fiber-seq reads 100bp around CTCF motifs\n",
    "<br>```ft center -d 100 ../data/GM12878.aligned.bam <(cut -f 1,2,3,6 CTCF_candidate_footprints_(M,L,XL)_positive.bed) > CTCF_m6a_fiberseq_(M,L,XL)_positive.txt```"
   ]
  },
  {
   "cell_type": "markdown",
   "metadata": {},
   "source": [
    "### negative data"
   ]
  },
  {
   "cell_type": "markdown",
   "metadata": {},
   "source": [
    "1. find CTCF motifs with fimo\n",
    "<br>```run-find-motifs-with-fimo.sh```\n",
    "2. INVERSE intersect Merged_CTCF_motifs.bed with CTCF-ChIP-peaks-and-DNase-hotspot.bed\n",
    "<br>```bedtools intersect -v -a fimo/Merged_CTCF_motifs.bed -b data/CTCF-ChIP-peaks-and-DNase-hotspot.bed > candidate_footprints/CTCF_candidate_footprints_negative.bed```\n",
    "3. separate by motif type (optional)\n",
    "<br>```grep CTCF_(M,L,XL) CTCF_candidate_footprints_negative.bed > CTCF_candidate_footprints_(M,L,XL)_negative.bed```\n",
    "4. get fiber-seq reads 100bp around CTCF motifs\n",
    "<br>```ft center -d 100 ../data/GM12878.aligned.bam <(cut -f 1,2,3,6 CTCF_candidate_footprints_(M,L,XL)_negative.bed) > CTCF_m6a_fiberseq_(M,L,XL)_negative.txt```"
   ]
  },
  {
   "cell_type": "markdown",
   "metadata": {},
   "source": [
    "making test data set\n",
    "1. get subsample of genome (5%)\n",
    "<br>```samtools view -s 0.05 -b GM12878.aligned.bam > GM12878_small_5.aligned.bam```\n",
    "2. make index\n",
    "<br>```samtools index GM12878_small_5.aligned.bam```"
   ]
  },
  {
   "cell_type": "markdown",
   "metadata": {},
   "source": [
    "## data files"
   ]
  },
  {
   "cell_type": "markdown",
   "metadata": {},
   "source": [
    "### candidate_footprints"
   ]
  },
  {
   "cell_type": "markdown",
   "metadata": {},
   "source": [
    "__CTCF_candidate_footprints__ (independent of bam size)\n",
    "* CTCF_candidate_footprints_(positive).bed: CTCF motifs within CTCF-ChIP and DNAse-1 peaks\n",
    "* CTCF_candidate_footprints_(M,L,XL).bed: &uarr; separated by motif type"
   ]
  },
  {
   "cell_type": "markdown",
   "metadata": {},
   "source": [
    "__CTCF_m6a_fiberseq__ (dependent on bam size)\n",
    "* CTCF_m6a_fiberseq_(M,L,XL)_(positive).txt - full genome output of fiberseq reads separated by motif size\n",
    "* CTCF_m6a_fiberseq_(M,L,XL)\\_100bp_(positive).txt - within 100bp flank of motif sites separated by size\n",
    "* CTCF_m6a_fiberseq_merged_100bp_positive.txt - within 100bp flank of ALL positive motif sites\n",
    "* CTCF_m6a_fiberseq_merged_100bp_small_negative.txt - NEGATIVE [1% of the genome]\n",
    "* CTCF_m6a_fiberseq_merged_100bp_small_5_negative.txt - NEGATIVE [5% of the genome]\n",
    "\n",
    "<br>test files (changed to subset)\n",
    "* (old) CTCF_m6a_fiberseq_(M,L,XL)_100bp_test_negative.txt - 10M line subsamples to __test__ with\n",
    "    * renamed to: CTCF_m6a_fiberseq_(M,L,XL)_100bp_subset_negative.txt\n",
    "* (old) CTCF_m6a_fiberseq_XL_100bp_test_positive.txt - 10k line subsample to __test__ with\n",
    "    * renamed to: CTCF_m6a_fiberseq_XL_100bp_subset_positive.txt"
   ]
  },
  {
   "cell_type": "markdown",
   "metadata": {},
   "source": [
    "### feature_data"
   ]
  },
  {
   "cell_type": "markdown",
   "metadata": {},
   "source": [
    "__most updated__\n",
    "* positive: CTCF_m6a_fiberseq_merged_100bp_positive_features.{txt,pin}\n",
    "* negative: CTCF_m6a_fiberseq_merged_100bp_small_5_negative_features.{txt,pin}"
   ]
  },
  {
   "cell_type": "markdown",
   "metadata": {},
   "source": [
    "* CTCF_m6a_fiberseq_L_100bp_positive_features.txt - positive features of L motifs\n",
    "* CTCF_m6a_fiberseq_merged_100bp_positive_features.txt - positive features of __all__ motifs\n",
    "* CTCF_m6a_fiberseq_L_100bp_small_negative_features.txt - negative features of L motifs [1% genome]\n",
    "    * 25,975,750 rows (small)\n",
    "    * 129,968,381 rows (small 5)\n",
    "* (__negative__) CTCF_negative_m6a_fiberseq_100bp_small_5_features-test.txt"
   ]
  },
  {
   "cell_type": "markdown",
   "metadata": {},
   "source": [
    "__pin formatted features__\n",
    "* CTCF_m6a_fiberseq_merged_100bp_features.pin - combined pos & neg pin file (fed to mokapot)\n",
    "    * CTCF_m6a_fiberseq_merged_100bp_features-{file_root}.pin / file_root: optional string to append"
   ]
  },
  {
   "cell_type": "markdown",
   "metadata": {},
   "source": [
    "future work\n",
    "* filter by p-value\n",
    "* get negative control (use same data but inverse)\n",
    "* --> m6a methylation NOT within ChIP or DNase I peaks"
   ]
  },
  {
   "cell_type": "markdown",
   "metadata": {},
   "source": [
    "### feature collection"
   ]
  },
  {
   "cell_type": "markdown",
   "metadata": {},
   "source": [
    "potential features\n",
    "* [x] read length [query_length]\n",
    "* [ ] 3-mer k-mer count within canonical motif (exclude k-mers without AT)\n",
    "* [ ] m6a count within each k-mer\n",
    "* [x] m6a count for: (motif, 40 bp flank left, 40 bp flank right)\n",
    "* [x] AT count for: (motif, flank left, flank right)\n",
    "* [x] proportion of bases that are AT per element (0-1)\n",
    "* [ ] proportion of methylated ATs per element (motif, flank left, flank right) (0-1)\n",
    "> $$ m6a\\ prop = m6a\\ count / AT\\ count $$\n",
    "> &uarr; proportion of ATs methylated (m6a count/AT count) or proportion of methylated ATs over the region (m6a count/region length)?\n",
    "* [ ] total methylation across the read (% of ATs that were methylated across read)\n",
    "* [x] MSP size\n",
    "* [ ] maybe do a run length encoding?"
   ]
  },
  {
   "cell_type": "code",
   "execution_count": null,
   "metadata": {},
   "outputs": [],
   "source": []
  },
  {
   "cell_type": "markdown",
   "metadata": {},
   "source": [
    "## Feb. 23, 2023 (working list)"
   ]
  },
  {
   "cell_type": "markdown",
   "metadata": {},
   "source": [
    "* [ ] merge mokapot output and ft-center output\n",
    "    * [x] add unique ID to both (combined motif_name/query_name)\n",
    "* [ ] re-collect features for merged positive dataset\n",
    "    * [ ] re-format to pin\n",
    "* [ ] make density plot of m6a's identified as positive & negative in mokapot\n",
    "    * filter mokapot q-value < 0.05\n",
    "    * set q-value of negatives (False labels) to 1\n",
    "* [ ] find most informing feature in tide_conf\n",
    "* [ ] downsample so both sets have ~65k observations\n",
    "    * rerun mokapot (recalc scale_pos_weight)\n",
    "* [x] make script(s) to collect features\n",
    "* [x] collect features for 5% negative data set\n",
    "* [ ] make dummy presentation for 1-on-1 meeting\n",
    "* [ ] add run length encoding (bottom priority)"
   ]
  },
  {
   "cell_type": "code",
   "execution_count": null,
   "metadata": {},
   "outputs": [],
   "source": []
  }
 ],
 "metadata": {
  "kernelspec": {
   "display_name": "R",
   "language": "R",
   "name": "ir"
  },
  "language_info": {
   "codemirror_mode": "r",
   "file_extension": ".r",
   "mimetype": "text/x-r-source",
   "name": "R",
   "pygments_lexer": "r",
   "version": "4.2.2"
  },
  "toc": {
   "base_numbering": 1,
   "nav_menu": {},
   "number_sections": false,
   "sideBar": true,
   "skip_h1_title": true,
   "title_cell": "Table of Contents",
   "title_sidebar": "Contents",
   "toc_cell": false,
   "toc_position": {
    "height": "847.778px",
    "left": "32px",
    "top": "142px",
    "width": "286.667px"
   },
   "toc_section_display": false,
   "toc_window_display": false
  },
  "vscode": {
   "interpreter": {
    "hash": "864b707a5e04d1ae02f215689594879b2e994f59486754c497c1f056c571d247"
   }
  }
 },
 "nbformat": 4,
 "nbformat_minor": 2
}
