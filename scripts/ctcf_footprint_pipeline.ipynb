{
 "cells": [
  {
   "cell_type": "markdown",
   "metadata": {},
   "source": [
    "# __ctcf-footprint workflow__"
   ]
  },
  {
   "cell_type": "markdown",
   "metadata": {},
   "source": [
    "### positive data"
   ]
  },
  {
   "cell_type": "markdown",
   "metadata": {},
   "source": [
    "1. find CTCF motifs with fimo\n",
    "<br>```run-find-motifs-with-fimo.sh```\n",
    "2. intersect Merged_CTCF_motifs.bed with CTCF-ChIP-peaks-and-DNase-hotspot.bed\n",
    "<br>```bedtools intersect -u -f 1 -a fimo/Merged_CTCF_motifs.bed -b data/CTCF-ChIP-peaks-and-DNase-hotspot.bed > candidate_footprints/CTCF_candidate_footprints.bed```\n",
    "3. separate by motif type\n",
    "<br>```grep CTCF_(M,L,XL) CTCF_candidate_footprints.bed > CTCF_candidate_footprints_(M,L,XL).bed```\n",
    "4. get fiber-seq reads 100bp around CTCF motifs\n",
    "<br>```ft center -d 100 ../data/GM12878.aligned.bam <(cut -f 1,2,3,6 CTCF_candidate_footprints_(M,L,XL).bed) > CTCF_m6a_fiberseq_(M,L,XL).txt```"
   ]
  },
  {
   "cell_type": "markdown",
   "metadata": {},
   "source": [
    "### negative data"
   ]
  },
  {
   "cell_type": "markdown",
   "metadata": {},
   "source": [
    "1. find CTCF motifs with fimo\n",
    "<br>```run-find-motifs-with-fimo.sh```\n",
    "2. intersect Merged_CTCF_motifs.bed with CTCF-ChIP-peaks-and-DNase-hotspot.bed\n",
    "<br>```bedtools intersect -v -a fimo/Merged_CTCF_motifs.bed -b data/CTCF-ChIP-peaks-and-DNase-hotspot.bed > candidate_footprints/CTCF_negative_candidate_footprints.bed```\n",
    "3. separate by motif type (optional)\n",
    "<br>```grep CTCF_(M,L,XL) CTCF_negative_candidate_footprints.bed > CTCF_negative_candidate_footprints_(M,L,XL).bed```\n",
    "4. get fiber-seq reads 100bp around CTCF motifs\n",
    "<br>```ft center -d 100 ../data/GM12878.aligned.bam <(cut -f 1,2,3,6 CTCF_negative_candidate_footprints_(M,L,XL).bed) > CTCF_negative_m6a_fiberseq_(M,L,XL).txt```"
   ]
  },
  {
   "cell_type": "markdown",
   "metadata": {},
   "source": [
    "future work\n",
    "* filter by p-value\n",
    "* get negative control (use same data but inverse)\n",
    "* --> m6a methylation NOT within ChIP or DNase I peaks"
   ]
  }
 ],
 "metadata": {
  "kernelspec": {
   "display_name": "Python 3 (ipykernel)",
   "language": "python",
   "name": "python3"
  },
  "language_info": {
   "codemirror_mode": {
    "name": "ipython",
    "version": 3
   },
   "file_extension": ".py",
   "mimetype": "text/x-python",
   "name": "python",
   "nbconvert_exporter": "python",
   "pygments_lexer": "ipython3",
   "version": "3.9.15"
  },
  "vscode": {
   "interpreter": {
    "hash": "864b707a5e04d1ae02f215689594879b2e994f59486754c497c1f056c571d247"
   }
  }
 },
 "nbformat": 4,
 "nbformat_minor": 2
}
